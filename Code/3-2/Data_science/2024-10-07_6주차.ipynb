{
 "cells": [
  {
   "cell_type": "code",
   "execution_count": 9,
   "metadata": {
    "vscode": {
     "languageId": "r"
    }
   },
   "outputs": [
    {
     "name": "stdout",
     "output_type": "stream",
     "text": [
      "[1] 4.5\n"
     ]
    }
   ],
   "source": [
    "a <- 1\n",
    "b <- 3.5\n",
    "c <- a+b\n",
    "print(c)"
   ]
  },
  {
   "cell_type": "code",
   "execution_count": 10,
   "metadata": {
    "vscode": {
     "languageId": "r"
    }
   },
   "outputs": [
    {
     "data": {
      "text/html": [
       "4.5"
      ],
      "text/latex": [
       "4.5"
      ],
      "text/markdown": [
       "4.5"
      ],
      "text/plain": [
       "[1] 4.5"
      ]
     },
     "metadata": {},
     "output_type": "display_data"
    }
   ],
   "source": [
    "c"
   ]
  },
  {
   "cell_type": "code",
   "execution_count": 11,
   "metadata": {
    "vscode": {
     "languageId": "r"
    }
   },
   "outputs": [
    {
     "data": {
      "text/html": [
       "500"
      ],
      "text/latex": [
       "500"
      ],
      "text/markdown": [
       "500"
      ],
      "text/plain": [
       "[1] 500"
      ]
     },
     "metadata": {},
     "output_type": "display_data"
    }
   ],
   "source": [
    "d <- 500\n",
    "d"
   ]
  },
  {
   "cell_type": "code",
   "execution_count": 12,
   "metadata": {
    "vscode": {
     "languageId": "r"
    }
   },
   "outputs": [
    {
     "data": {
      "text/html": [
       "<style>\n",
       ".list-inline {list-style: none; margin:0; padding: 0}\n",
       ".list-inline>li {display: inline-block}\n",
       ".list-inline>li:not(:last-child)::after {content: \"\\00b7\"; padding: 0 .5ex}\n",
       "</style>\n",
       "<ol class=list-inline><li>1</li><li>2</li><li>3</li><li>4</li><li>5</li><li>6</li><li>7</li><li>8</li><li>9</li><li>10</li></ol>\n"
      ],
      "text/latex": [
       "\\begin{enumerate*}\n",
       "\\item 1\n",
       "\\item 2\n",
       "\\item 3\n",
       "\\item 4\n",
       "\\item 5\n",
       "\\item 6\n",
       "\\item 7\n",
       "\\item 8\n",
       "\\item 9\n",
       "\\item 10\n",
       "\\end{enumerate*}\n"
      ],
      "text/markdown": [
       "1. 1\n",
       "2. 2\n",
       "3. 3\n",
       "4. 4\n",
       "5. 5\n",
       "6. 6\n",
       "7. 7\n",
       "8. 8\n",
       "9. 9\n",
       "10. 10\n",
       "\n",
       "\n"
      ],
      "text/plain": [
       " [1]  1  2  3  4  5  6  7  8  9 10"
      ]
     },
     "metadata": {},
     "output_type": "display_data"
    }
   ],
   "source": [
    "a <- 1:10\n",
    "a"
   ]
  },
  {
   "cell_type": "code",
   "execution_count": 13,
   "metadata": {
    "vscode": {
     "languageId": "r"
    }
   },
   "outputs": [
    {
     "data": {
      "text/html": [
       "TRUE"
      ],
      "text/latex": [
       "TRUE"
      ],
      "text/markdown": [
       "TRUE"
      ],
      "text/plain": [
       "[1] TRUE"
      ]
     },
     "metadata": {},
     "output_type": "display_data"
    }
   ],
   "source": [
    ".ans <- TRUE; .ans"
   ]
  },
  {
   "cell_type": "code",
   "execution_count": 14,
   "metadata": {
    "vscode": {
     "languageId": "r"
    }
   },
   "outputs": [
    {
     "data": {
      "text/html": [
       "<style>\n",
       ".list-inline {list-style: none; margin:0; padding: 0}\n",
       ".list-inline>li {display: inline-block}\n",
       ".list-inline>li:not(:last-child)::after {content: \"\\00b7\"; padding: 0 .5ex}\n",
       "</style>\n",
       "<ol class=list-inline><li>10</li><li>9</li><li>8</li><li>7</li><li>6</li><li>5</li><li>4</li><li>3</li><li>2</li><li>1</li></ol>\n"
      ],
      "text/latex": [
       "\\begin{enumerate*}\n",
       "\\item 10\n",
       "\\item 9\n",
       "\\item 8\n",
       "\\item 7\n",
       "\\item 6\n",
       "\\item 5\n",
       "\\item 4\n",
       "\\item 3\n",
       "\\item 2\n",
       "\\item 1\n",
       "\\end{enumerate*}\n"
      ],
      "text/markdown": [
       "1. 10\n",
       "2. 9\n",
       "3. 8\n",
       "4. 7\n",
       "5. 6\n",
       "6. 5\n",
       "7. 4\n",
       "8. 3\n",
       "9. 2\n",
       "10. 1\n",
       "\n",
       "\n"
      ],
      "text/plain": [
       " [1] 10  9  8  7  6  5  4  3  2  1"
      ]
     },
     "metadata": {},
     "output_type": "display_data"
    }
   ],
   "source": [
    "v <- c(10:1); v"
   ]
  },
  {
   "cell_type": "code",
   "execution_count": 15,
   "metadata": {
    "vscode": {
     "languageId": "r"
    }
   },
   "outputs": [
    {
     "name": "stdout",
     "output_type": "stream",
     "text": [
      "[1] 1\n",
      "[1] 2\n",
      "[1] 3\n",
      "[1] 4\n",
      "[1] 5\n",
      "[1] 6\n",
      "[1] 7\n",
      "[1] 8\n",
      "[1] 9\n",
      "[1] 10\n"
     ]
    }
   ],
   "source": [
    "for (x in 1:10) {\n",
    "  print(x)\n",
    "}"
   ]
  },
  {
   "cell_type": "code",
   "execution_count": 16,
   "metadata": {
    "vscode": {
     "languageId": "r"
    }
   },
   "outputs": [
    {
     "data": {
      "text/html": [
       "<style>\n",
       ".list-inline {list-style: none; margin:0; padding: 0}\n",
       ".list-inline>li {display: inline-block}\n",
       ".list-inline>li:not(:last-child)::after {content: \"\\00b7\"; padding: 0 .5ex}\n",
       "</style>\n",
       "<ol class=list-inline><li>1</li><li>2</li><li>3</li><li>4</li><li>5</li></ol>\n"
      ],
      "text/latex": [
       "\\begin{enumerate*}\n",
       "\\item 1\n",
       "\\item 2\n",
       "\\item 3\n",
       "\\item 4\n",
       "\\item 5\n",
       "\\end{enumerate*}\n"
      ],
      "text/markdown": [
       "1. 1\n",
       "2. 2\n",
       "3. 3\n",
       "4. 4\n",
       "5. 5\n",
       "\n",
       "\n"
      ],
      "text/plain": [
       "[1] 1 2 3 4 5"
      ]
     },
     "metadata": {},
     "output_type": "display_data"
    }
   ],
   "source": [
    "a[1:5]"
   ]
  },
  {
   "cell_type": "code",
   "execution_count": 17,
   "metadata": {
    "vscode": {
     "languageId": "r"
    }
   },
   "outputs": [
    {
     "data": {
      "text/html": [
       "<style>\n",
       ".list-inline {list-style: none; margin:0; padding: 0}\n",
       ".list-inline>li {display: inline-block}\n",
       ".list-inline>li:not(:last-child)::after {content: \"\\00b7\"; padding: 0 .5ex}\n",
       "</style>\n",
       "<ol class=list-inline><li>1</li><li>3</li><li>5</li></ol>\n"
      ],
      "text/latex": [
       "\\begin{enumerate*}\n",
       "\\item 1\n",
       "\\item 3\n",
       "\\item 5\n",
       "\\end{enumerate*}\n"
      ],
      "text/markdown": [
       "1. 1\n",
       "2. 3\n",
       "3. 5\n",
       "\n",
       "\n"
      ],
      "text/plain": [
       "[1] 1 3 5"
      ]
     },
     "metadata": {},
     "output_type": "display_data"
    }
   ],
   "source": [
    "a[c(1,3,5)]"
   ]
  },
  {
   "cell_type": "code",
   "execution_count": 18,
   "metadata": {
    "vscode": {
     "languageId": "r"
    }
   },
   "outputs": [
    {
     "name": "stdout",
     "output_type": "stream",
     "text": [
      " [1]  1  2  3  4  5  6  7  8  9 10\n"
     ]
    }
   ],
   "source": [
    "print(a)"
   ]
  },
  {
   "cell_type": "code",
   "execution_count": 19,
   "metadata": {
    "vscode": {
     "languageId": "r"
    }
   },
   "outputs": [
    {
     "data": {
      "text/html": [
       "10"
      ],
      "text/latex": [
       "10"
      ],
      "text/markdown": [
       "10"
      ],
      "text/plain": [
       "[1] 10"
      ]
     },
     "metadata": {},
     "output_type": "display_data"
    }
   ],
   "source": [
    "length(a)"
   ]
  },
  {
   "cell_type": "code",
   "execution_count": 20,
   "metadata": {
    "vscode": {
     "languageId": "r"
    }
   },
   "outputs": [
    {
     "data": {
      "text/html": [
       "<style>\n",
       ".list-inline {list-style: none; margin:0; padding: 0}\n",
       ".list-inline>li {display: inline-block}\n",
       ".list-inline>li:not(:last-child)::after {content: \"\\00b7\"; padding: 0 .5ex}\n",
       "</style>\n",
       "<ol class=list-inline><li>1</li><li>2</li><li>3</li><li>4</li><li>5</li><li>6</li><li>7</li><li>8</li><li>9</li><li>10</li><li>&lt;NA&gt;</li><li>&lt;NA&gt;</li><li>&lt;NA&gt;</li><li>&lt;NA&gt;</li><li>20</li></ol>\n"
      ],
      "text/latex": [
       "\\begin{enumerate*}\n",
       "\\item 1\n",
       "\\item 2\n",
       "\\item 3\n",
       "\\item 4\n",
       "\\item 5\n",
       "\\item 6\n",
       "\\item 7\n",
       "\\item 8\n",
       "\\item 9\n",
       "\\item 10\n",
       "\\item <NA>\n",
       "\\item <NA>\n",
       "\\item <NA>\n",
       "\\item <NA>\n",
       "\\item 20\n",
       "\\end{enumerate*}\n"
      ],
      "text/markdown": [
       "1. 1\n",
       "2. 2\n",
       "3. 3\n",
       "4. 4\n",
       "5. 5\n",
       "6. 6\n",
       "7. 7\n",
       "8. 8\n",
       "9. 9\n",
       "10. 10\n",
       "11. &lt;NA&gt;\n",
       "12. &lt;NA&gt;\n",
       "13. &lt;NA&gt;\n",
       "14. &lt;NA&gt;\n",
       "15. 20\n",
       "\n",
       "\n"
      ],
      "text/plain": [
       " [1]  1  2  3  4  5  6  7  8  9 10 NA NA NA NA 20"
      ]
     },
     "metadata": {},
     "output_type": "display_data"
    }
   ],
   "source": [
    "a[15] <- 20\n",
    "a"
   ]
  },
  {
   "cell_type": "code",
   "execution_count": 21,
   "metadata": {
    "vscode": {
     "languageId": "r"
    }
   },
   "outputs": [
    {
     "data": {
      "text/html": [
       "<table class=\"dataframe\">\n",
       "<caption>A matrix: 3 × 4 of type int</caption>\n",
       "<tbody>\n",
       "\t<tr><td>1</td><td>4</td><td>7</td><td>10</td></tr>\n",
       "\t<tr><td>2</td><td>5</td><td>8</td><td>11</td></tr>\n",
       "\t<tr><td>3</td><td>6</td><td>9</td><td>12</td></tr>\n",
       "</tbody>\n",
       "</table>\n"
      ],
      "text/latex": [
       "A matrix: 3 × 4 of type int\n",
       "\\begin{tabular}{llll}\n",
       "\t 1 & 4 & 7 & 10\\\\\n",
       "\t 2 & 5 & 8 & 11\\\\\n",
       "\t 3 & 6 & 9 & 12\\\\\n",
       "\\end{tabular}\n"
      ],
      "text/markdown": [
       "\n",
       "A matrix: 3 × 4 of type int\n",
       "\n",
       "| 1 | 4 | 7 | 10 |\n",
       "| 2 | 5 | 8 | 11 |\n",
       "| 3 | 6 | 9 | 12 |\n",
       "\n"
      ],
      "text/plain": [
       "     [,1] [,2] [,3] [,4]\n",
       "[1,] 1    4    7    10  \n",
       "[2,] 2    5    8    11  \n",
       "[3,] 3    6    9    12  "
      ]
     },
     "metadata": {},
     "output_type": "display_data"
    }
   ],
   "source": [
    "a <- matrix(1:12, nrow = 3, ncol = 4)\n",
    "a"
   ]
  },
  {
   "cell_type": "code",
   "execution_count": 22,
   "metadata": {
    "vscode": {
     "languageId": "r"
    }
   },
   "outputs": [
    {
     "data": {
      "text/html": [
       "<table class=\"dataframe\">\n",
       "<caption>A matrix: 3 × 4 of type dbl</caption>\n",
       "<tbody>\n",
       "\t<tr><td>10</td><td>40</td><td>70</td><td>100</td></tr>\n",
       "\t<tr><td>20</td><td>50</td><td>80</td><td>110</td></tr>\n",
       "\t<tr><td>30</td><td>60</td><td>90</td><td>120</td></tr>\n",
       "</tbody>\n",
       "</table>\n"
      ],
      "text/latex": [
       "A matrix: 3 × 4 of type dbl\n",
       "\\begin{tabular}{llll}\n",
       "\t 10 & 40 & 70 & 100\\\\\n",
       "\t 20 & 50 & 80 & 110\\\\\n",
       "\t 30 & 60 & 90 & 120\\\\\n",
       "\\end{tabular}\n"
      ],
      "text/markdown": [
       "\n",
       "A matrix: 3 × 4 of type dbl\n",
       "\n",
       "| 10 | 40 | 70 | 100 |\n",
       "| 20 | 50 | 80 | 110 |\n",
       "| 30 | 60 | 90 | 120 |\n",
       "\n"
      ],
      "text/plain": [
       "     [,1] [,2] [,3] [,4]\n",
       "[1,] 10   40   70   100 \n",
       "[2,] 20   50   80   110 \n",
       "[3,] 30   60   90   120 "
      ]
     },
     "metadata": {},
     "output_type": "display_data"
    }
   ],
   "source": [
    "a <- a*10\n",
    "a"
   ]
  },
  {
   "cell_type": "code",
   "execution_count": 23,
   "metadata": {
    "vscode": {
     "languageId": "r"
    }
   },
   "outputs": [
    {
     "data": {
      "text/html": [
       "<dl>\n",
       "\t<dt>$name</dt>\n",
       "\t\t<dd>'mini'</dd>\n",
       "\t<dt>$ages</dt>\n",
       "\t\t<dd>'24'</dd>\n",
       "</dl>\n"
      ],
      "text/latex": [
       "\\begin{description}\n",
       "\\item[\\$name] 'mini'\n",
       "\\item[\\$ages] '24'\n",
       "\\end{description}\n"
      ],
      "text/markdown": [
       "$name\n",
       ":   'mini'\n",
       "$ages\n",
       ":   '24'\n",
       "\n",
       "\n"
      ],
      "text/plain": [
       "$name\n",
       "[1] \"mini\"\n",
       "\n",
       "$ages\n",
       "[1] \"24\"\n"
      ]
     },
     "metadata": {},
     "output_type": "display_data"
    }
   ],
   "source": [
    "data <- list(name='mini', ages='24')\n",
    "data"
   ]
  },
  {
   "cell_type": "code",
   "execution_count": 24,
   "metadata": {
    "vscode": {
     "languageId": "r"
    }
   },
   "outputs": [
    {
     "data": {
      "text/html": [
       "<style>\n",
       ".list-inline {list-style: none; margin:0; padding: 0}\n",
       ".list-inline>li {display: inline-block}\n",
       ".list-inline>li:not(:last-child)::after {content: \"\\00b7\"; padding: 0 .5ex}\n",
       "</style>\n",
       "<ol class=list-inline><li>'kim'</li><li>'lee'</li><li>'jang'</li><li>'um'</li></ol>\n"
      ],
      "text/latex": [
       "\\begin{enumerate*}\n",
       "\\item 'kim'\n",
       "\\item 'lee'\n",
       "\\item 'jang'\n",
       "\\item 'um'\n",
       "\\end{enumerate*}\n"
      ],
      "text/markdown": [
       "1. 'kim'\n",
       "2. 'lee'\n",
       "3. 'jang'\n",
       "4. 'um'\n",
       "\n",
       "\n"
      ],
      "text/plain": [
       "[1] \"kim\"  \"lee\"  \"jang\" \"um\"  "
      ]
     },
     "metadata": {},
     "output_type": "display_data"
    },
    {
     "data": {
      "text/html": [
       "<style>\n",
       ".list-inline {list-style: none; margin:0; padding: 0}\n",
       ".list-inline>li {display: inline-block}\n",
       ".list-inline>li:not(:last-child)::after {content: \"\\00b7\"; padding: 0 .5ex}\n",
       "</style>\n",
       "<ol class=list-inline><li>10</li><li>21</li><li>31</li><li>41</li></ol>\n"
      ],
      "text/latex": [
       "\\begin{enumerate*}\n",
       "\\item 10\n",
       "\\item 21\n",
       "\\item 31\n",
       "\\item 41\n",
       "\\end{enumerate*}\n"
      ],
      "text/markdown": [
       "1. 10\n",
       "2. 21\n",
       "3. 31\n",
       "4. 41\n",
       "\n",
       "\n"
      ],
      "text/plain": [
       "[1] 10 21 31 41"
      ]
     },
     "metadata": {},
     "output_type": "display_data"
    },
    {
     "data": {
      "text/html": [
       "<style>\n",
       ".list-inline {list-style: none; margin:0; padding: 0}\n",
       ".list-inline>li {display: inline-block}\n",
       ".list-inline>li:not(:last-child)::after {content: \"\\00b7\"; padding: 0 .5ex}\n",
       "</style>\n",
       "<ol class=list-inline><li>90</li><li>95</li><li>85</li><li>99</li></ol>\n"
      ],
      "text/latex": [
       "\\begin{enumerate*}\n",
       "\\item 90\n",
       "\\item 95\n",
       "\\item 85\n",
       "\\item 99\n",
       "\\end{enumerate*}\n"
      ],
      "text/markdown": [
       "1. 90\n",
       "2. 95\n",
       "3. 85\n",
       "4. 99\n",
       "\n",
       "\n"
      ],
      "text/plain": [
       "[1] 90 95 85 99"
      ]
     },
     "metadata": {},
     "output_type": "display_data"
    }
   ],
   "source": [
    "name <- c('kim', 'lee', 'jang', 'um')\n",
    "a <- c(10, 21, 31, 41)\n",
    "s <- c(90, 95, 85, 99)\n",
    "name\n",
    "a\n",
    "s"
   ]
  },
  {
   "cell_type": "code",
   "execution_count": 25,
   "metadata": {
    "vscode": {
     "languageId": "r"
    }
   },
   "outputs": [
    {
     "data": {
      "text/html": [
       "<table class=\"dataframe\">\n",
       "<caption>A data.frame: 4 × 3</caption>\n",
       "<thead>\n",
       "\t<tr><th scope=col>name</th><th scope=col>age</th><th scope=col>score</th></tr>\n",
       "\t<tr><th scope=col>&lt;chr&gt;</th><th scope=col>&lt;dbl&gt;</th><th scope=col>&lt;dbl&gt;</th></tr>\n",
       "</thead>\n",
       "<tbody>\n",
       "\t<tr><td>kim </td><td>10</td><td>90</td></tr>\n",
       "\t<tr><td>lee </td><td>21</td><td>95</td></tr>\n",
       "\t<tr><td>jang</td><td>31</td><td>85</td></tr>\n",
       "\t<tr><td>um  </td><td>41</td><td>99</td></tr>\n",
       "</tbody>\n",
       "</table>\n"
      ],
      "text/latex": [
       "A data.frame: 4 × 3\n",
       "\\begin{tabular}{lll}\n",
       " name & age & score\\\\\n",
       " <chr> & <dbl> & <dbl>\\\\\n",
       "\\hline\n",
       "\t kim  & 10 & 90\\\\\n",
       "\t lee  & 21 & 95\\\\\n",
       "\t jang & 31 & 85\\\\\n",
       "\t um   & 41 & 99\\\\\n",
       "\\end{tabular}\n"
      ],
      "text/markdown": [
       "\n",
       "A data.frame: 4 × 3\n",
       "\n",
       "| name &lt;chr&gt; | age &lt;dbl&gt; | score &lt;dbl&gt; |\n",
       "|---|---|---|\n",
       "| kim  | 10 | 90 |\n",
       "| lee  | 21 | 95 |\n",
       "| jang | 31 | 85 |\n",
       "| um   | 41 | 99 |\n",
       "\n"
      ],
      "text/plain": [
       "  name age score\n",
       "1 kim  10  90   \n",
       "2 lee  21  95   \n",
       "3 jang 31  85   \n",
       "4 um   41  99   "
      ]
     },
     "metadata": {},
     "output_type": "display_data"
    }
   ],
   "source": [
    "df <- data.frame(name = name, age = a, score = s)\n",
    "df"
   ]
  },
  {
   "cell_type": "code",
   "execution_count": 1,
   "metadata": {
    "vscode": {
     "languageId": "r"
    }
   },
   "outputs": [
    {
     "data": {
      "text/html": [
       "<style>\n",
       ".list-inline {list-style: none; margin:0; padding: 0}\n",
       ".list-inline>li {display: inline-block}\n",
       ".list-inline>li:not(:last-child)::after {content: \"\\00b7\"; padding: 0 .5ex}\n",
       "</style>\n",
       "<ol class=list-inline><li>'건국대학교'</li><li>'글러컬켐퍼스'</li></ol>\n"
      ],
      "text/latex": [
       "\\begin{enumerate*}\n",
       "\\item '건국대학교'\n",
       "\\item '글러컬켐퍼스'\n",
       "\\end{enumerate*}\n"
      ],
      "text/markdown": [
       "1. '건국대학교'\n",
       "2. '글러컬켐퍼스'\n",
       "\n",
       "\n"
      ],
      "text/plain": [
       "[1] \"건국대학교\"   \"글러컬켐퍼스\""
      ]
     },
     "metadata": {},
     "output_type": "display_data"
    }
   ],
   "source": [
    "kku <- c(\"건국대학교\", \"글러컬켐퍼스\")\n",
    "kku"
   ]
  },
  {
   "cell_type": "code",
   "execution_count": 4,
   "metadata": {
    "vscode": {
     "languageId": "r"
    }
   },
   "outputs": [
    {
     "data": {
      "text/html": [
       "<style>\n",
       ".list-inline {list-style: none; margin:0; padding: 0}\n",
       ".list-inline>li {display: inline-block}\n",
       ".list-inline>li:not(:last-child)::after {content: \"\\00b7\"; padding: 0 .5ex}\n",
       "</style>\n",
       "<ol class=list-inline><li>40</li><li>63</li><li>65</li><li>86</li><li>25</li><li>27</li><li>27</li><li>34</li><li>0</li><li>51</li><li>34</li><li>38</li><li>74</li><li>89</li><li>2</li><li>51</li><li>56</li><li>5</li><li>59</li><li>79</li><li>14</li><li>11</li><li>52</li><li>70</li><li>79</li><li>61</li><li>88</li><li>40</li><li>34</li><li>31</li><li>79</li><li>31</li><li>92</li><li>86</li><li>56</li><li>1</li><li>60</li><li>55</li><li>53</li><li>79</li><li>64</li><li>53</li><li>67</li><li>92</li><li>14</li><li>97</li><li>44</li><li>61</li><li>2</li><li>25</li><li>45</li><li>16</li><li>39</li><li>72</li><li>23</li><li>46</li><li>28</li><li>3</li><li>82</li><li>68</li><li>39</li><li>27</li><li>5</li><li>93</li><li>0</li><li>86</li><li>83</li><li>12</li><li>71</li><li>56</li><li>28</li><li>24</li><li>97</li><li>77</li><li>72</li><li>54</li><li>28</li><li>7</li><li>75</li><li>16</li><li>84</li><li>59</li><li>81</li><li>91</li><li>61</li><li>93</li><li>35</li><li>56</li><li>41</li><li>64</li><li>69</li><li>42</li><li>43</li><li>35</li><li>64</li><li>84</li><li>2</li><li>98</li><li>53</li><li>23</li><li>1</li><li>77</li><li>26</li><li>0</li><li>37</li><li>82</li><li>26</li><li>89</li><li>20</li><li>59</li><li>96</li><li>1</li><li>83</li><li>28</li><li>25</li><li>77</li><li>77</li><li>49</li><li>45</li><li>36</li><li>14</li><li>39</li><li>48</li><li>51</li><li>99</li><li>66</li><li>67</li><li>91</li><li>46</li><li>3</li><li>74</li><li>97</li><li>93</li><li>54</li><li>98</li><li>41</li><li>12</li><li>61</li><li>15</li><li>26</li><li>59</li><li>89</li><li>70</li><li>67</li><li>33</li><li>78</li><li>81</li><li>42</li><li>2</li><li>92</li><li>17</li><li>4</li><li>44</li><li>87</li><li>61</li><li>4</li><li>36</li><li>81</li><li>9</li><li>27</li><li>67</li><li>54</li><li>26</li><li>24</li><li>91</li><li>74</li><li>19</li><li>79</li><li>22</li><li>18</li><li>1</li><li>65</li><li>0</li><li>15</li><li>92</li><li>44</li><li>86</li><li>33</li><li>77</li><li>52</li><li>69</li><li>51</li><li>55</li><li>70</li><li>79</li><li>82</li><li>9</li><li>24</li><li>32</li><li>30</li><li>72</li><li>6</li><li>80</li><li>62</li><li>88</li><li>23</li><li>37</li><li>87</li><li>33</li><li>96</li></ol>\n"
      ],
      "text/latex": [
       "\\begin{enumerate*}\n",
       "\\item 40\n",
       "\\item 63\n",
       "\\item 65\n",
       "\\item 86\n",
       "\\item 25\n",
       "\\item 27\n",
       "\\item 27\n",
       "\\item 34\n",
       "\\item 0\n",
       "\\item 51\n",
       "\\item 34\n",
       "\\item 38\n",
       "\\item 74\n",
       "\\item 89\n",
       "\\item 2\n",
       "\\item 51\n",
       "\\item 56\n",
       "\\item 5\n",
       "\\item 59\n",
       "\\item 79\n",
       "\\item 14\n",
       "\\item 11\n",
       "\\item 52\n",
       "\\item 70\n",
       "\\item 79\n",
       "\\item 61\n",
       "\\item 88\n",
       "\\item 40\n",
       "\\item 34\n",
       "\\item 31\n",
       "\\item 79\n",
       "\\item 31\n",
       "\\item 92\n",
       "\\item 86\n",
       "\\item 56\n",
       "\\item 1\n",
       "\\item 60\n",
       "\\item 55\n",
       "\\item 53\n",
       "\\item 79\n",
       "\\item 64\n",
       "\\item 53\n",
       "\\item 67\n",
       "\\item 92\n",
       "\\item 14\n",
       "\\item 97\n",
       "\\item 44\n",
       "\\item 61\n",
       "\\item 2\n",
       "\\item 25\n",
       "\\item 45\n",
       "\\item 16\n",
       "\\item 39\n",
       "\\item 72\n",
       "\\item 23\n",
       "\\item 46\n",
       "\\item 28\n",
       "\\item 3\n",
       "\\item 82\n",
       "\\item 68\n",
       "\\item 39\n",
       "\\item 27\n",
       "\\item 5\n",
       "\\item 93\n",
       "\\item 0\n",
       "\\item 86\n",
       "\\item 83\n",
       "\\item 12\n",
       "\\item 71\n",
       "\\item 56\n",
       "\\item 28\n",
       "\\item 24\n",
       "\\item 97\n",
       "\\item 77\n",
       "\\item 72\n",
       "\\item 54\n",
       "\\item 28\n",
       "\\item 7\n",
       "\\item 75\n",
       "\\item 16\n",
       "\\item 84\n",
       "\\item 59\n",
       "\\item 81\n",
       "\\item 91\n",
       "\\item 61\n",
       "\\item 93\n",
       "\\item 35\n",
       "\\item 56\n",
       "\\item 41\n",
       "\\item 64\n",
       "\\item 69\n",
       "\\item 42\n",
       "\\item 43\n",
       "\\item 35\n",
       "\\item 64\n",
       "\\item 84\n",
       "\\item 2\n",
       "\\item 98\n",
       "\\item 53\n",
       "\\item 23\n",
       "\\item 1\n",
       "\\item 77\n",
       "\\item 26\n",
       "\\item 0\n",
       "\\item 37\n",
       "\\item 82\n",
       "\\item 26\n",
       "\\item 89\n",
       "\\item 20\n",
       "\\item 59\n",
       "\\item 96\n",
       "\\item 1\n",
       "\\item 83\n",
       "\\item 28\n",
       "\\item 25\n",
       "\\item 77\n",
       "\\item 77\n",
       "\\item 49\n",
       "\\item 45\n",
       "\\item 36\n",
       "\\item 14\n",
       "\\item 39\n",
       "\\item 48\n",
       "\\item 51\n",
       "\\item 99\n",
       "\\item 66\n",
       "\\item 67\n",
       "\\item 91\n",
       "\\item 46\n",
       "\\item 3\n",
       "\\item 74\n",
       "\\item 97\n",
       "\\item 93\n",
       "\\item 54\n",
       "\\item 98\n",
       "\\item 41\n",
       "\\item 12\n",
       "\\item 61\n",
       "\\item 15\n",
       "\\item 26\n",
       "\\item 59\n",
       "\\item 89\n",
       "\\item 70\n",
       "\\item 67\n",
       "\\item 33\n",
       "\\item 78\n",
       "\\item 81\n",
       "\\item 42\n",
       "\\item 2\n",
       "\\item 92\n",
       "\\item 17\n",
       "\\item 4\n",
       "\\item 44\n",
       "\\item 87\n",
       "\\item 61\n",
       "\\item 4\n",
       "\\item 36\n",
       "\\item 81\n",
       "\\item 9\n",
       "\\item 27\n",
       "\\item 67\n",
       "\\item 54\n",
       "\\item 26\n",
       "\\item 24\n",
       "\\item 91\n",
       "\\item 74\n",
       "\\item 19\n",
       "\\item 79\n",
       "\\item 22\n",
       "\\item 18\n",
       "\\item 1\n",
       "\\item 65\n",
       "\\item 0\n",
       "\\item 15\n",
       "\\item 92\n",
       "\\item 44\n",
       "\\item 86\n",
       "\\item 33\n",
       "\\item 77\n",
       "\\item 52\n",
       "\\item 69\n",
       "\\item 51\n",
       "\\item 55\n",
       "\\item 70\n",
       "\\item 79\n",
       "\\item 82\n",
       "\\item 9\n",
       "\\item 24\n",
       "\\item 32\n",
       "\\item 30\n",
       "\\item 72\n",
       "\\item 6\n",
       "\\item 80\n",
       "\\item 62\n",
       "\\item 88\n",
       "\\item 23\n",
       "\\item 37\n",
       "\\item 87\n",
       "\\item 33\n",
       "\\item 96\n",
       "\\end{enumerate*}\n"
      ],
      "text/markdown": [
       "1. 40\n",
       "2. 63\n",
       "3. 65\n",
       "4. 86\n",
       "5. 25\n",
       "6. 27\n",
       "7. 27\n",
       "8. 34\n",
       "9. 0\n",
       "10. 51\n",
       "11. 34\n",
       "12. 38\n",
       "13. 74\n",
       "14. 89\n",
       "15. 2\n",
       "16. 51\n",
       "17. 56\n",
       "18. 5\n",
       "19. 59\n",
       "20. 79\n",
       "21. 14\n",
       "22. 11\n",
       "23. 52\n",
       "24. 70\n",
       "25. 79\n",
       "26. 61\n",
       "27. 88\n",
       "28. 40\n",
       "29. 34\n",
       "30. 31\n",
       "31. 79\n",
       "32. 31\n",
       "33. 92\n",
       "34. 86\n",
       "35. 56\n",
       "36. 1\n",
       "37. 60\n",
       "38. 55\n",
       "39. 53\n",
       "40. 79\n",
       "41. 64\n",
       "42. 53\n",
       "43. 67\n",
       "44. 92\n",
       "45. 14\n",
       "46. 97\n",
       "47. 44\n",
       "48. 61\n",
       "49. 2\n",
       "50. 25\n",
       "51. 45\n",
       "52. 16\n",
       "53. 39\n",
       "54. 72\n",
       "55. 23\n",
       "56. 46\n",
       "57. 28\n",
       "58. 3\n",
       "59. 82\n",
       "60. 68\n",
       "61. 39\n",
       "62. 27\n",
       "63. 5\n",
       "64. 93\n",
       "65. 0\n",
       "66. 86\n",
       "67. 83\n",
       "68. 12\n",
       "69. 71\n",
       "70. 56\n",
       "71. 28\n",
       "72. 24\n",
       "73. 97\n",
       "74. 77\n",
       "75. 72\n",
       "76. 54\n",
       "77. 28\n",
       "78. 7\n",
       "79. 75\n",
       "80. 16\n",
       "81. 84\n",
       "82. 59\n",
       "83. 81\n",
       "84. 91\n",
       "85. 61\n",
       "86. 93\n",
       "87. 35\n",
       "88. 56\n",
       "89. 41\n",
       "90. 64\n",
       "91. 69\n",
       "92. 42\n",
       "93. 43\n",
       "94. 35\n",
       "95. 64\n",
       "96. 84\n",
       "97. 2\n",
       "98. 98\n",
       "99. 53\n",
       "100. 23\n",
       "101. 1\n",
       "102. 77\n",
       "103. 26\n",
       "104. 0\n",
       "105. 37\n",
       "106. 82\n",
       "107. 26\n",
       "108. 89\n",
       "109. 20\n",
       "110. 59\n",
       "111. 96\n",
       "112. 1\n",
       "113. 83\n",
       "114. 28\n",
       "115. 25\n",
       "116. 77\n",
       "117. 77\n",
       "118. 49\n",
       "119. 45\n",
       "120. 36\n",
       "121. 14\n",
       "122. 39\n",
       "123. 48\n",
       "124. 51\n",
       "125. 99\n",
       "126. 66\n",
       "127. 67\n",
       "128. 91\n",
       "129. 46\n",
       "130. 3\n",
       "131. 74\n",
       "132. 97\n",
       "133. 93\n",
       "134. 54\n",
       "135. 98\n",
       "136. 41\n",
       "137. 12\n",
       "138. 61\n",
       "139. 15\n",
       "140. 26\n",
       "141. 59\n",
       "142. 89\n",
       "143. 70\n",
       "144. 67\n",
       "145. 33\n",
       "146. 78\n",
       "147. 81\n",
       "148. 42\n",
       "149. 2\n",
       "150. 92\n",
       "151. 17\n",
       "152. 4\n",
       "153. 44\n",
       "154. 87\n",
       "155. 61\n",
       "156. 4\n",
       "157. 36\n",
       "158. 81\n",
       "159. 9\n",
       "160. 27\n",
       "161. 67\n",
       "162. 54\n",
       "163. 26\n",
       "164. 24\n",
       "165. 91\n",
       "166. 74\n",
       "167. 19\n",
       "168. 79\n",
       "169. 22\n",
       "170. 18\n",
       "171. 1\n",
       "172. 65\n",
       "173. 0\n",
       "174. 15\n",
       "175. 92\n",
       "176. 44\n",
       "177. 86\n",
       "178. 33\n",
       "179. 77\n",
       "180. 52\n",
       "181. 69\n",
       "182. 51\n",
       "183. 55\n",
       "184. 70\n",
       "185. 79\n",
       "186. 82\n",
       "187. 9\n",
       "188. 24\n",
       "189. 32\n",
       "190. 30\n",
       "191. 72\n",
       "192. 6\n",
       "193. 80\n",
       "194. 62\n",
       "195. 88\n",
       "196. 23\n",
       "197. 37\n",
       "198. 87\n",
       "199. 33\n",
       "200. 96\n",
       "\n",
       "\n"
      ],
      "text/plain": [
       "  [1] 40 63 65 86 25 27 27 34  0 51 34 38 74 89  2 51 56  5 59 79 14 11 52 70 79\n",
       " [26] 61 88 40 34 31 79 31 92 86 56  1 60 55 53 79 64 53 67 92 14 97 44 61  2 25\n",
       " [51] 45 16 39 72 23 46 28  3 82 68 39 27  5 93  0 86 83 12 71 56 28 24 97 77 72\n",
       " [76] 54 28  7 75 16 84 59 81 91 61 93 35 56 41 64 69 42 43 35 64 84  2 98 53 23\n",
       "[101]  1 77 26  0 37 82 26 89 20 59 96  1 83 28 25 77 77 49 45 36 14 39 48 51 99\n",
       "[126] 66 67 91 46  3 74 97 93 54 98 41 12 61 15 26 59 89 70 67 33 78 81 42  2 92\n",
       "[151] 17  4 44 87 61  4 36 81  9 27 67 54 26 24 91 74 19 79 22 18  1 65  0 15 92\n",
       "[176] 44 86 33 77 52 69 51 55 70 79 82  9 24 32 30 72  6 80 62 88 23 37 87 33 96"
      ]
     },
     "metadata": {},
     "output_type": "display_data"
    }
   ],
   "source": [
    "a <- floor(runif(200, 0, 100))\n",
    "a"
   ]
  },
  {
   "cell_type": "code",
   "execution_count": 5,
   "metadata": {
    "vscode": {
     "languageId": "r"
    }
   },
   "outputs": [
    {
     "name": "stdout",
     "output_type": "stream",
     "text": [
      "  [1] 40 63 65 86 25 27 27 34  0 51 34 38 74 89  2 51 56  5 59 79 14 11 52 70 79\n",
      " [26] 61 88 40 34 31 79 31 92 86 56  1 60 55 53 79 64 53 67 92 14 97 44 61  2 25\n",
      " [51] 45 16 39 72 23 46 28  3 82 68 39 27  5 93  0 86 83 12 71 56 28 24 97 77 72\n",
      " [76] 54 28  7 75 16 84 59 81 91 61 93 35 56 41 64 69 42 43 35 64 84  2 98 53 23\n",
      "[101]  1 77 26  0 37 82 26 89 20 59 96  1 83 28 25 77 77 49 45 36 14 39 48 51 99\n",
      "[126] 66 67 91 46  3 74 97 93 54 98 41 12 61 15 26 59 89 70 67 33 78 81 42  2 92\n",
      "[151] 17  4 44 87 61  4 36 81  9 27 67 54 26 24 91 74 19 79 22 18  1 65  0 15 92\n",
      "[176] 44 86 33 77 52 69 51 55 70 79 82  9 24 32 30 72  6 80 62 88 23 37 87 33 96\n"
     ]
    }
   ],
   "source": [
    "print(a)"
   ]
  },
  {
   "cell_type": "code",
   "execution_count": 8,
   "metadata": {
    "vscode": {
     "languageId": "r"
    }
   },
   "outputs": [
    {
     "data": {
      "text/html": [
       "'data.frame'"
      ],
      "text/latex": [
       "'data.frame'"
      ],
      "text/markdown": [
       "'data.frame'"
      ],
      "text/plain": [
       "[1] \"data.frame\""
      ]
     },
     "metadata": {},
     "output_type": "display_data"
    }
   ],
   "source": [
    "class(df)"
   ]
  },
  {
   "cell_type": "code",
   "execution_count": 28,
   "metadata": {
    "vscode": {
     "languageId": "r"
    }
   },
   "outputs": [
    {
     "name": "stdout",
     "output_type": "stream",
     "text": [
      "'data.frame':\t4 obs. of  3 variables:\n",
      " $ name : chr  \"kim\" \"lee\" \"jang\" \"um\"\n",
      " $ age  : num  10 21 31 41\n",
      " $ score: num  90 95 85 99\n"
     ]
    }
   ],
   "source": [
    "str(df)"
   ]
  },
  {
   "cell_type": "code",
   "execution_count": 26,
   "metadata": {
    "vscode": {
     "languageId": "r"
    }
   },
   "outputs": [
    {
     "data": {
      "text/html": [
       "<style>\n",
       ".list-inline {list-style: none; margin:0; padding: 0}\n",
       ".list-inline>li {display: inline-block}\n",
       ".list-inline>li:not(:last-child)::after {content: \"\\00b7\"; padding: 0 .5ex}\n",
       "</style>\n",
       "<ol class=list-inline><li>'a'</li><li>'b'</li><li>'c'</li><li>'d'</li><li>'data'</li><li>'df'</li><li>'kku'</li><li>'name'</li><li>'s'</li><li>'v'</li><li>'x'</li></ol>\n"
      ],
      "text/latex": [
       "\\begin{enumerate*}\n",
       "\\item 'a'\n",
       "\\item 'b'\n",
       "\\item 'c'\n",
       "\\item 'd'\n",
       "\\item 'data'\n",
       "\\item 'df'\n",
       "\\item 'kku'\n",
       "\\item 'name'\n",
       "\\item 's'\n",
       "\\item 'v'\n",
       "\\item 'x'\n",
       "\\end{enumerate*}\n"
      ],
      "text/markdown": [
       "1. 'a'\n",
       "2. 'b'\n",
       "3. 'c'\n",
       "4. 'd'\n",
       "5. 'data'\n",
       "6. 'df'\n",
       "7. 'kku'\n",
       "8. 'name'\n",
       "9. 's'\n",
       "10. 'v'\n",
       "11. 'x'\n",
       "\n",
       "\n"
      ],
      "text/plain": [
       " [1] \"a\"    \"b\"    \"c\"    \"d\"    \"data\" \"df\"   \"kku\"  \"name\" \"s\"    \"v\"   \n",
       "[11] \"x\"   "
      ]
     },
     "metadata": {},
     "output_type": "display_data"
    }
   ],
   "source": [
    "ls()"
   ]
  },
  {
   "cell_type": "code",
   "execution_count": 30,
   "metadata": {
    "vscode": {
     "languageId": "r"
    }
   },
   "outputs": [
    {
     "data": {
      "text/html": [
       "<style>\n",
       ".list-inline {list-style: none; margin:0; padding: 0}\n",
       ".list-inline>li {display: inline-block}\n",
       ".list-inline>li:not(:last-child)::after {content: \"\\00b7\"; padding: 0 .5ex}\n",
       "</style>\n",
       "<ol class=list-inline><li>10</li><li>21</li><li>31</li><li>41</li></ol>\n"
      ],
      "text/latex": [
       "\\begin{enumerate*}\n",
       "\\item 10\n",
       "\\item 21\n",
       "\\item 31\n",
       "\\item 41\n",
       "\\end{enumerate*}\n"
      ],
      "text/markdown": [
       "1. 10\n",
       "2. 21\n",
       "3. 31\n",
       "4. 41\n",
       "\n",
       "\n"
      ],
      "text/plain": [
       "[1] 10 21 31 41"
      ]
     },
     "metadata": {},
     "output_type": "display_data"
    }
   ],
   "source": [
    "#df$name\n",
    "df$age"
   ]
  },
  {
   "cell_type": "code",
   "execution_count": 36,
   "metadata": {
    "vscode": {
     "languageId": "r"
    }
   },
   "outputs": [
    {
     "data": {
      "text/html": [
       "<style>\n",
       ".list-inline {list-style: none; margin:0; padding: 0}\n",
       ".list-inline>li {display: inline-block}\n",
       ".list-inline>li:not(:last-child)::after {content: \"\\00b7\"; padding: 0 .5ex}\n",
       "</style>\n",
       "<ol class=list-inline><li>'n'</li><li>'a'</li><li>'s'</li></ol>\n"
      ],
      "text/latex": [
       "\\begin{enumerate*}\n",
       "\\item 'n'\n",
       "\\item 'a'\n",
       "\\item 's'\n",
       "\\end{enumerate*}\n"
      ],
      "text/markdown": [
       "1. 'n'\n",
       "2. 'a'\n",
       "3. 's'\n",
       "\n",
       "\n"
      ],
      "text/plain": [
       "[1] \"n\" \"a\" \"s\""
      ]
     },
     "metadata": {},
     "output_type": "display_data"
    }
   ],
   "source": [
    "names(df) <- c(\"n\", \"a\", \"s\")\n",
    "names(df)"
   ]
  },
  {
   "cell_type": "code",
   "execution_count": 37,
   "metadata": {
    "vscode": {
     "languageId": "r"
    }
   },
   "outputs": [
    {
     "data": {
      "text/html": [
       "<table class=\"dataframe\">\n",
       "<caption>A data.frame: 4 × 3</caption>\n",
       "<thead>\n",
       "\t<tr><th scope=col>n</th><th scope=col>a</th><th scope=col>s</th></tr>\n",
       "\t<tr><th scope=col>&lt;chr&gt;</th><th scope=col>&lt;dbl&gt;</th><th scope=col>&lt;dbl&gt;</th></tr>\n",
       "</thead>\n",
       "<tbody>\n",
       "\t<tr><td>kim </td><td>10</td><td>90</td></tr>\n",
       "\t<tr><td>lee </td><td>21</td><td>95</td></tr>\n",
       "\t<tr><td>jang</td><td>31</td><td>85</td></tr>\n",
       "\t<tr><td>um  </td><td>41</td><td>99</td></tr>\n",
       "</tbody>\n",
       "</table>\n"
      ],
      "text/latex": [
       "A data.frame: 4 × 3\n",
       "\\begin{tabular}{lll}\n",
       " n & a & s\\\\\n",
       " <chr> & <dbl> & <dbl>\\\\\n",
       "\\hline\n",
       "\t kim  & 10 & 90\\\\\n",
       "\t lee  & 21 & 95\\\\\n",
       "\t jang & 31 & 85\\\\\n",
       "\t um   & 41 & 99\\\\\n",
       "\\end{tabular}\n"
      ],
      "text/markdown": [
       "\n",
       "A data.frame: 4 × 3\n",
       "\n",
       "| n &lt;chr&gt; | a &lt;dbl&gt; | s &lt;dbl&gt; |\n",
       "|---|---|---|\n",
       "| kim  | 10 | 90 |\n",
       "| lee  | 21 | 95 |\n",
       "| jang | 31 | 85 |\n",
       "| um   | 41 | 99 |\n",
       "\n"
      ],
      "text/plain": [
       "  n    a  s \n",
       "1 kim  10 90\n",
       "2 lee  21 95\n",
       "3 jang 31 85\n",
       "4 um   41 99"
      ]
     },
     "metadata": {},
     "output_type": "display_data"
    }
   ],
   "source": [
    "df"
   ]
  },
  {
   "cell_type": "code",
   "execution_count": 39,
   "metadata": {
    "vscode": {
     "languageId": "r"
    }
   },
   "outputs": [
    {
     "data": {
      "text/html": [
       "<table class=\"dataframe\">\n",
       "<caption>A data.frame: 4 × 3</caption>\n",
       "<thead>\n",
       "\t<tr><th scope=col>n</th><th scope=col>a</th><th scope=col>s</th></tr>\n",
       "\t<tr><th scope=col>&lt;chr&gt;</th><th scope=col>&lt;dbl&gt;</th><th scope=col>&lt;dbl&gt;</th></tr>\n",
       "</thead>\n",
       "<tbody>\n",
       "\t<tr><td>mini</td><td>10</td><td>90</td></tr>\n",
       "\t<tr><td>lee </td><td>21</td><td>95</td></tr>\n",
       "\t<tr><td>jang</td><td>31</td><td>85</td></tr>\n",
       "\t<tr><td>um  </td><td>41</td><td>99</td></tr>\n",
       "</tbody>\n",
       "</table>\n"
      ],
      "text/latex": [
       "A data.frame: 4 × 3\n",
       "\\begin{tabular}{lll}\n",
       " n & a & s\\\\\n",
       " <chr> & <dbl> & <dbl>\\\\\n",
       "\\hline\n",
       "\t mini & 10 & 90\\\\\n",
       "\t lee  & 21 & 95\\\\\n",
       "\t jang & 31 & 85\\\\\n",
       "\t um   & 41 & 99\\\\\n",
       "\\end{tabular}\n"
      ],
      "text/markdown": [
       "\n",
       "A data.frame: 4 × 3\n",
       "\n",
       "| n &lt;chr&gt; | a &lt;dbl&gt; | s &lt;dbl&gt; |\n",
       "|---|---|---|\n",
       "| mini | 10 | 90 |\n",
       "| lee  | 21 | 95 |\n",
       "| jang | 31 | 85 |\n",
       "| um   | 41 | 99 |\n",
       "\n"
      ],
      "text/plain": [
       "  n    a  s \n",
       "1 mini 10 90\n",
       "2 lee  21 95\n",
       "3 jang 31 85\n",
       "4 um   41 99"
      ]
     },
     "metadata": {},
     "output_type": "display_data"
    }
   ],
   "source": [
    "df[1, 1] <- \"mini\"\n",
    "df"
   ]
  },
  {
   "cell_type": "code",
   "execution_count": 40,
   "metadata": {
    "vscode": {
     "languageId": "r"
    }
   },
   "outputs": [
    {
     "data": {
      "text/html": [
       "<table class=\"dataframe\">\n",
       "<caption>A data.frame: 1 × 3</caption>\n",
       "<thead>\n",
       "\t<tr><th></th><th scope=col>n</th><th scope=col>a</th><th scope=col>s</th></tr>\n",
       "\t<tr><th></th><th scope=col>&lt;chr&gt;</th><th scope=col>&lt;dbl&gt;</th><th scope=col>&lt;dbl&gt;</th></tr>\n",
       "</thead>\n",
       "<tbody>\n",
       "\t<tr><th scope=row>1</th><td>mini</td><td>10</td><td>90</td></tr>\n",
       "</tbody>\n",
       "</table>\n"
      ],
      "text/latex": [
       "A data.frame: 1 × 3\n",
       "\\begin{tabular}{r|lll}\n",
       "  & n & a & s\\\\\n",
       "  & <chr> & <dbl> & <dbl>\\\\\n",
       "\\hline\n",
       "\t1 & mini & 10 & 90\\\\\n",
       "\\end{tabular}\n"
      ],
      "text/markdown": [
       "\n",
       "A data.frame: 1 × 3\n",
       "\n",
       "| <!--/--> | n &lt;chr&gt; | a &lt;dbl&gt; | s &lt;dbl&gt; |\n",
       "|---|---|---|---|\n",
       "| 1 | mini | 10 | 90 |\n",
       "\n"
      ],
      "text/plain": [
       "  n    a  s \n",
       "1 mini 10 90"
      ]
     },
     "metadata": {},
     "output_type": "display_data"
    }
   ],
   "source": [
    "df[1,]"
   ]
  },
  {
   "cell_type": "code",
   "execution_count": 41,
   "metadata": {
    "vscode": {
     "languageId": "r"
    }
   },
   "outputs": [
    {
     "data": {
      "text/html": [
       "<style>\n",
       ".list-inline {list-style: none; margin:0; padding: 0}\n",
       ".list-inline>li {display: inline-block}\n",
       ".list-inline>li:not(:last-child)::after {content: \"\\00b7\"; padding: 0 .5ex}\n",
       "</style>\n",
       "<ol class=list-inline><li>'mini'</li><li>'lee'</li><li>'jang'</li><li>'um'</li></ol>\n"
      ],
      "text/latex": [
       "\\begin{enumerate*}\n",
       "\\item 'mini'\n",
       "\\item 'lee'\n",
       "\\item 'jang'\n",
       "\\item 'um'\n",
       "\\end{enumerate*}\n"
      ],
      "text/markdown": [
       "1. 'mini'\n",
       "2. 'lee'\n",
       "3. 'jang'\n",
       "4. 'um'\n",
       "\n",
       "\n"
      ],
      "text/plain": [
       "[1] \"mini\" \"lee\"  \"jang\" \"um\"  "
      ]
     },
     "metadata": {},
     "output_type": "display_data"
    }
   ],
   "source": [
    "df[,1]"
   ]
  },
  {
   "cell_type": "code",
   "execution_count": 42,
   "metadata": {
    "vscode": {
     "languageId": "r"
    }
   },
   "outputs": [
    {
     "data": {
      "text/html": [
       "<table class=\"dataframe\">\n",
       "<caption>A matrix: 4 × 3 of type chr</caption>\n",
       "<thead>\n",
       "\t<tr><th scope=col>n</th><th scope=col>a</th><th scope=col>s</th></tr>\n",
       "</thead>\n",
       "<tbody>\n",
       "\t<tr><td>mini</td><td>10</td><td>90</td></tr>\n",
       "\t<tr><td>lee </td><td>21</td><td>95</td></tr>\n",
       "\t<tr><td>jang</td><td>31</td><td>85</td></tr>\n",
       "\t<tr><td>um  </td><td>41</td><td>99</td></tr>\n",
       "</tbody>\n",
       "</table>\n"
      ],
      "text/latex": [
       "A matrix: 4 × 3 of type chr\n",
       "\\begin{tabular}{lll}\n",
       " n & a & s\\\\\n",
       "\\hline\n",
       "\t mini & 10 & 90\\\\\n",
       "\t lee  & 21 & 95\\\\\n",
       "\t jang & 31 & 85\\\\\n",
       "\t um   & 41 & 99\\\\\n",
       "\\end{tabular}\n"
      ],
      "text/markdown": [
       "\n",
       "A matrix: 4 × 3 of type chr\n",
       "\n",
       "| n | a | s |\n",
       "|---|---|---|\n",
       "| mini | 10 | 90 |\n",
       "| lee  | 21 | 95 |\n",
       "| jang | 31 | 85 |\n",
       "| um   | 41 | 99 |\n",
       "\n"
      ],
      "text/plain": [
       "     n    a  s \n",
       "[1,] mini 10 90\n",
       "[2,] lee  21 95\n",
       "[3,] jang 31 85\n",
       "[4,] um   41 99"
      ]
     },
     "metadata": {},
     "output_type": "display_data"
    }
   ],
   "source": [
    "m <- as.matrix(df)\n",
    "m"
   ]
  },
  {
   "cell_type": "code",
   "execution_count": 43,
   "metadata": {
    "vscode": {
     "languageId": "r"
    }
   },
   "outputs": [
    {
     "data": {
      "text/html": [
       "<style>\n",
       ".list-inline {list-style: none; margin:0; padding: 0}\n",
       ".list-inline>li {display: inline-block}\n",
       ".list-inline>li:not(:last-child)::after {content: \"\\00b7\"; padding: 0 .5ex}\n",
       "</style>\n",
       "<ol class=list-inline><li>'matrix'</li><li>'array'</li></ol>\n"
      ],
      "text/latex": [
       "\\begin{enumerate*}\n",
       "\\item 'matrix'\n",
       "\\item 'array'\n",
       "\\end{enumerate*}\n"
      ],
      "text/markdown": [
       "1. 'matrix'\n",
       "2. 'array'\n",
       "\n",
       "\n"
      ],
      "text/plain": [
       "[1] \"matrix\" \"array\" "
      ]
     },
     "metadata": {},
     "output_type": "display_data"
    }
   ],
   "source": [
    "class(m)"
   ]
  },
  {
   "cell_type": "code",
   "execution_count": 54,
   "metadata": {
    "vscode": {
     "languageId": "r"
    }
   },
   "outputs": [
    {
     "data": {
      "text/html": [
       "<style>\n",
       ".list-inline {list-style: none; margin:0; padding: 0}\n",
       ".list-inline>li {display: inline-block}\n",
       ".list-inline>li:not(:last-child)::after {content: \"\\00b7\"; padding: 0 .5ex}\n",
       "</style>\n",
       "<ol class=list-inline><li>33.3282846491784</li><li>90.5425914796069</li><li>79.9718004185706</li><li>77.899082726799</li><li>25.4657770274207</li></ol>\n"
      ],
      "text/latex": [
       "\\begin{enumerate*}\n",
       "\\item 33.3282846491784\n",
       "\\item 90.5425914796069\n",
       "\\item 79.9718004185706\n",
       "\\item 77.899082726799\n",
       "\\item 25.4657770274207\n",
       "\\end{enumerate*}\n"
      ],
      "text/markdown": [
       "1. 33.3282846491784\n",
       "2. 90.5425914796069\n",
       "3. 79.9718004185706\n",
       "4. 77.899082726799\n",
       "5. 25.4657770274207\n",
       "\n",
       "\n"
      ],
      "text/plain": [
       "[1] 33.32828 90.54259 79.97180 77.89908 25.46578"
      ]
     },
     "metadata": {},
     "output_type": "display_data"
    }
   ],
   "source": [
    "#rank(a)\n",
    "data <- runif(1000, 0, 100)\n",
    "data[1:5]"
   ]
  },
  {
   "cell_type": "code",
   "execution_count": 55,
   "metadata": {
    "vscode": {
     "languageId": "r"
    }
   },
   "outputs": [
    {
     "data": {
      "image/png": "[encoded data removed]",
      "text/plain": [
       "Plot with title “Histogram of data”"
      ]
     },
     "metadata": {
      "image/png": {
       "height": 420,
       "width": 420
      }
     },
     "output_type": "display_data"
    }
   ],
   "source": [
    "hist(data)"
   ]
  },
  {
   "cell_type": "code",
   "execution_count": 57,
   "metadata": {
    "vscode": {
     "languageId": "r"
    }
   },
   "outputs": [
    {
     "data": {
      "image/png": "[encoded data removed]",
      "text/plain": [
       "Plot with title “Histogram of data”"
      ]
     },
     "metadata": {
      "image/png": {
       "height": 420,
       "width": 420
      }
     },
     "output_type": "display_data"
    }
   ],
   "source": [
    "data <- rnorm(1000, 50, 10)\n",
    "hist(data)"
   ]
  }
 ],
 "metadata": {
  "kernelspec": {
   "display_name": "R",
   "language": "R",
   "name": "ir"
  },
  "language_info": {
   "codemirror_mode": "r",
   "file_extension": ".r",
   "mimetype": "text/x-r-source",
   "name": "R",
   "pygments_lexer": "r",
   "version": "4.3.1"
  }
 },
 "nbformat": 4,
 "nbformat_minor": 2
}
