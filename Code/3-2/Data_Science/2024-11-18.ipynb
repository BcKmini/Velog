{
 "cells": [
  {
   "cell_type": "code",
   "execution_count": 58,
   "metadata": {
    "vscode": {
     "languageId": "r"
    }
   },
   "outputs": [
    {
     "data": {
      "text/html": [
       "'/home/students/cs/202020827/public_html/Code'"
      ],
      "text/latex": [
       "'/home/students/cs/202020827/public\\_html/Code'"
      ],
      "text/markdown": [
       "'/home/students/cs/202020827/public_html/Code'"
      ],
      "text/plain": [
       "[1] \"/home/students/cs/202020827/public_html/Code\""
      ]
     },
     "metadata": {},
     "output_type": "display_data"
    }
   ],
   "source": [
    "getwd()"
   ]
  },
  {
   "cell_type": "code",
   "execution_count": 59,
   "metadata": {
    "vscode": {
     "languageId": "r"
    }
   },
   "outputs": [
    {
     "data": {
      "text/html": [
       "<table class=\"dataframe\">\n",
       "<caption>A data.frame: 32 × 11</caption>\n",
       "<thead>\n",
       "\t<tr><th></th><th scope=col>mpg</th><th scope=col>cyl</th><th scope=col>disp</th><th scope=col>hp</th><th scope=col>drat</th><th scope=col>wt</th><th scope=col>qsec</th><th scope=col>vs</th><th scope=col>am</th><th scope=col>gear</th><th scope=col>carb</th></tr>\n",
       "\t<tr><th></th><th scope=col>&lt;dbl&gt;</th><th scope=col>&lt;dbl&gt;</th><th scope=col>&lt;dbl&gt;</th><th scope=col>&lt;dbl&gt;</th><th scope=col>&lt;dbl&gt;</th><th scope=col>&lt;dbl&gt;</th><th scope=col>&lt;dbl&gt;</th><th scope=col>&lt;dbl&gt;</th><th scope=col>&lt;dbl&gt;</th><th scope=col>&lt;dbl&gt;</th><th scope=col>&lt;dbl&gt;</th></tr>\n",
       "</thead>\n",
       "<tbody>\n",
       "\t<tr><th scope=row>Mazda RX4</th><td>21.0</td><td>6</td><td>160.0</td><td>110</td><td>3.90</td><td>2.620</td><td>16.46</td><td>0</td><td>1</td><td>4</td><td>4</td></tr>\n",
       "\t<tr><th scope=row>Mazda RX4 Wag</th><td>21.0</td><td>6</td><td>160.0</td><td>110</td><td>3.90</td><td>2.875</td><td>17.02</td><td>0</td><td>1</td><td>4</td><td>4</td></tr>\n",
       "\t<tr><th scope=row>Datsun 710</th><td>22.8</td><td>4</td><td>108.0</td><td> 93</td><td>3.85</td><td>2.320</td><td>18.61</td><td>1</td><td>1</td><td>4</td><td>1</td></tr>\n",
       "\t<tr><th scope=row>Hornet 4 Drive</th><td>21.4</td><td>6</td><td>258.0</td><td>110</td><td>3.08</td><td>3.215</td><td>19.44</td><td>1</td><td>0</td><td>3</td><td>1</td></tr>\n",
       "\t<tr><th scope=row>Hornet Sportabout</th><td>18.7</td><td>8</td><td>360.0</td><td>175</td><td>3.15</td><td>3.440</td><td>17.02</td><td>0</td><td>0</td><td>3</td><td>2</td></tr>\n",
       "\t<tr><th scope=row>Valiant</th><td>18.1</td><td>6</td><td>225.0</td><td>105</td><td>2.76</td><td>3.460</td><td>20.22</td><td>1</td><td>0</td><td>3</td><td>1</td></tr>\n",
       "\t<tr><th scope=row>Duster 360</th><td>14.3</td><td>8</td><td>360.0</td><td>245</td><td>3.21</td><td>3.570</td><td>15.84</td><td>0</td><td>0</td><td>3</td><td>4</td></tr>\n",
       "\t<tr><th scope=row>Merc 240D</th><td>24.4</td><td>4</td><td>146.7</td><td> 62</td><td>3.69</td><td>3.190</td><td>20.00</td><td>1</td><td>0</td><td>4</td><td>2</td></tr>\n",
       "\t<tr><th scope=row>Merc 230</th><td>22.8</td><td>4</td><td>140.8</td><td> 95</td><td>3.92</td><td>3.150</td><td>22.90</td><td>1</td><td>0</td><td>4</td><td>2</td></tr>\n",
       "\t<tr><th scope=row>Merc 280</th><td>19.2</td><td>6</td><td>167.6</td><td>123</td><td>3.92</td><td>3.440</td><td>18.30</td><td>1</td><td>0</td><td>4</td><td>4</td></tr>\n",
       "\t<tr><th scope=row>Merc 280C</th><td>17.8</td><td>6</td><td>167.6</td><td>123</td><td>3.92</td><td>3.440</td><td>18.90</td><td>1</td><td>0</td><td>4</td><td>4</td></tr>\n",
       "\t<tr><th scope=row>Merc 450SE</th><td>16.4</td><td>8</td><td>275.8</td><td>180</td><td>3.07</td><td>4.070</td><td>17.40</td><td>0</td><td>0</td><td>3</td><td>3</td></tr>\n",
       "\t<tr><th scope=row>Merc 450SL</th><td>17.3</td><td>8</td><td>275.8</td><td>180</td><td>3.07</td><td>3.730</td><td>17.60</td><td>0</td><td>0</td><td>3</td><td>3</td></tr>\n",
       "\t<tr><th scope=row>Merc 450SLC</th><td>15.2</td><td>8</td><td>275.8</td><td>180</td><td>3.07</td><td>3.780</td><td>18.00</td><td>0</td><td>0</td><td>3</td><td>3</td></tr>\n",
       "\t<tr><th scope=row>Cadillac Fleetwood</th><td>10.4</td><td>8</td><td>472.0</td><td>205</td><td>2.93</td><td>5.250</td><td>17.98</td><td>0</td><td>0</td><td>3</td><td>4</td></tr>\n",
       "\t<tr><th scope=row>Lincoln Continental</th><td>10.4</td><td>8</td><td>460.0</td><td>215</td><td>3.00</td><td>5.424</td><td>17.82</td><td>0</td><td>0</td><td>3</td><td>4</td></tr>\n",
       "\t<tr><th scope=row>Chrysler Imperial</th><td>14.7</td><td>8</td><td>440.0</td><td>230</td><td>3.23</td><td>5.345</td><td>17.42</td><td>0</td><td>0</td><td>3</td><td>4</td></tr>\n",
       "\t<tr><th scope=row>Fiat 128</th><td>32.4</td><td>4</td><td> 78.7</td><td> 66</td><td>4.08</td><td>2.200</td><td>19.47</td><td>1</td><td>1</td><td>4</td><td>1</td></tr>\n",
       "\t<tr><th scope=row>Honda Civic</th><td>30.4</td><td>4</td><td> 75.7</td><td> 52</td><td>4.93</td><td>1.615</td><td>18.52</td><td>1</td><td>1</td><td>4</td><td>2</td></tr>\n",
       "\t<tr><th scope=row>Toyota Corolla</th><td>33.9</td><td>4</td><td> 71.1</td><td> 65</td><td>4.22</td><td>1.835</td><td>19.90</td><td>1</td><td>1</td><td>4</td><td>1</td></tr>\n",
       "\t<tr><th scope=row>Toyota Corona</th><td>21.5</td><td>4</td><td>120.1</td><td> 97</td><td>3.70</td><td>2.465</td><td>20.01</td><td>1</td><td>0</td><td>3</td><td>1</td></tr>\n",
       "\t<tr><th scope=row>Dodge Challenger</th><td>15.5</td><td>8</td><td>318.0</td><td>150</td><td>2.76</td><td>3.520</td><td>16.87</td><td>0</td><td>0</td><td>3</td><td>2</td></tr>\n",
       "\t<tr><th scope=row>AMC Javelin</th><td>15.2</td><td>8</td><td>304.0</td><td>150</td><td>3.15</td><td>3.435</td><td>17.30</td><td>0</td><td>0</td><td>3</td><td>2</td></tr>\n",
       "\t<tr><th scope=row>Camaro Z28</th><td>13.3</td><td>8</td><td>350.0</td><td>245</td><td>3.73</td><td>3.840</td><td>15.41</td><td>0</td><td>0</td><td>3</td><td>4</td></tr>\n",
       "\t<tr><th scope=row>Pontiac Firebird</th><td>19.2</td><td>8</td><td>400.0</td><td>175</td><td>3.08</td><td>3.845</td><td>17.05</td><td>0</td><td>0</td><td>3</td><td>2</td></tr>\n",
       "\t<tr><th scope=row>Fiat X1-9</th><td>27.3</td><td>4</td><td> 79.0</td><td> 66</td><td>4.08</td><td>1.935</td><td>18.90</td><td>1</td><td>1</td><td>4</td><td>1</td></tr>\n",
       "\t<tr><th scope=row>Porsche 914-2</th><td>26.0</td><td>4</td><td>120.3</td><td> 91</td><td>4.43</td><td>2.140</td><td>16.70</td><td>0</td><td>1</td><td>5</td><td>2</td></tr>\n",
       "\t<tr><th scope=row>Lotus Europa</th><td>30.4</td><td>4</td><td> 95.1</td><td>113</td><td>3.77</td><td>1.513</td><td>16.90</td><td>1</td><td>1</td><td>5</td><td>2</td></tr>\n",
       "\t<tr><th scope=row>Ford Pantera L</th><td>15.8</td><td>8</td><td>351.0</td><td>264</td><td>4.22</td><td>3.170</td><td>14.50</td><td>0</td><td>1</td><td>5</td><td>4</td></tr>\n",
       "\t<tr><th scope=row>Ferrari Dino</th><td>19.7</td><td>6</td><td>145.0</td><td>175</td><td>3.62</td><td>2.770</td><td>15.50</td><td>0</td><td>1</td><td>5</td><td>6</td></tr>\n",
       "\t<tr><th scope=row>Maserati Bora</th><td>15.0</td><td>8</td><td>301.0</td><td>335</td><td>3.54</td><td>3.570</td><td>14.60</td><td>0</td><td>1</td><td>5</td><td>8</td></tr>\n",
       "\t<tr><th scope=row>Volvo 142E</th><td>21.4</td><td>4</td><td>121.0</td><td>109</td><td>4.11</td><td>2.780</td><td>18.60</td><td>1</td><td>1</td><td>4</td><td>2</td></tr>\n",
       "</tbody>\n",
       "</table>\n"
      ],
      "text/latex": [
       "A data.frame: 32 × 11\n",
       "\\begin{tabular}{r|lllllllllll}\n",
       "  & mpg & cyl & disp & hp & drat & wt & qsec & vs & am & gear & carb\\\\\n",
       "  & <dbl> & <dbl> & <dbl> & <dbl> & <dbl> & <dbl> & <dbl> & <dbl> & <dbl> & <dbl> & <dbl>\\\\\n",
       "\\hline\n",
       "\tMazda RX4 & 21.0 & 6 & 160.0 & 110 & 3.90 & 2.620 & 16.46 & 0 & 1 & 4 & 4\\\\\n",
       "\tMazda RX4 Wag & 21.0 & 6 & 160.0 & 110 & 3.90 & 2.875 & 17.02 & 0 & 1 & 4 & 4\\\\\n",
       "\tDatsun 710 & 22.8 & 4 & 108.0 &  93 & 3.85 & 2.320 & 18.61 & 1 & 1 & 4 & 1\\\\\n",
       "\tHornet 4 Drive & 21.4 & 6 & 258.0 & 110 & 3.08 & 3.215 & 19.44 & 1 & 0 & 3 & 1\\\\\n",
       "\tHornet Sportabout & 18.7 & 8 & 360.0 & 175 & 3.15 & 3.440 & 17.02 & 0 & 0 & 3 & 2\\\\\n",
       "\tValiant & 18.1 & 6 & 225.0 & 105 & 2.76 & 3.460 & 20.22 & 1 & 0 & 3 & 1\\\\\n",
       "\tDuster 360 & 14.3 & 8 & 360.0 & 245 & 3.21 & 3.570 & 15.84 & 0 & 0 & 3 & 4\\\\\n",
       "\tMerc 240D & 24.4 & 4 & 146.7 &  62 & 3.69 & 3.190 & 20.00 & 1 & 0 & 4 & 2\\\\\n",
       "\tMerc 230 & 22.8 & 4 & 140.8 &  95 & 3.92 & 3.150 & 22.90 & 1 & 0 & 4 & 2\\\\\n",
       "\tMerc 280 & 19.2 & 6 & 167.6 & 123 & 3.92 & 3.440 & 18.30 & 1 & 0 & 4 & 4\\\\\n",
       "\tMerc 280C & 17.8 & 6 & 167.6 & 123 & 3.92 & 3.440 & 18.90 & 1 & 0 & 4 & 4\\\\\n",
       "\tMerc 450SE & 16.4 & 8 & 275.8 & 180 & 3.07 & 4.070 & 17.40 & 0 & 0 & 3 & 3\\\\\n",
       "\tMerc 450SL & 17.3 & 8 & 275.8 & 180 & 3.07 & 3.730 & 17.60 & 0 & 0 & 3 & 3\\\\\n",
       "\tMerc 450SLC & 15.2 & 8 & 275.8 & 180 & 3.07 & 3.780 & 18.00 & 0 & 0 & 3 & 3\\\\\n",
       "\tCadillac Fleetwood & 10.4 & 8 & 472.0 & 205 & 2.93 & 5.250 & 17.98 & 0 & 0 & 3 & 4\\\\\n",
       "\tLincoln Continental & 10.4 & 8 & 460.0 & 215 & 3.00 & 5.424 & 17.82 & 0 & 0 & 3 & 4\\\\\n",
       "\tChrysler Imperial & 14.7 & 8 & 440.0 & 230 & 3.23 & 5.345 & 17.42 & 0 & 0 & 3 & 4\\\\\n",
       "\tFiat 128 & 32.4 & 4 &  78.7 &  66 & 4.08 & 2.200 & 19.47 & 1 & 1 & 4 & 1\\\\\n",
       "\tHonda Civic & 30.4 & 4 &  75.7 &  52 & 4.93 & 1.615 & 18.52 & 1 & 1 & 4 & 2\\\\\n",
       "\tToyota Corolla & 33.9 & 4 &  71.1 &  65 & 4.22 & 1.835 & 19.90 & 1 & 1 & 4 & 1\\\\\n",
       "\tToyota Corona & 21.5 & 4 & 120.1 &  97 & 3.70 & 2.465 & 20.01 & 1 & 0 & 3 & 1\\\\\n",
       "\tDodge Challenger & 15.5 & 8 & 318.0 & 150 & 2.76 & 3.520 & 16.87 & 0 & 0 & 3 & 2\\\\\n",
       "\tAMC Javelin & 15.2 & 8 & 304.0 & 150 & 3.15 & 3.435 & 17.30 & 0 & 0 & 3 & 2\\\\\n",
       "\tCamaro Z28 & 13.3 & 8 & 350.0 & 245 & 3.73 & 3.840 & 15.41 & 0 & 0 & 3 & 4\\\\\n",
       "\tPontiac Firebird & 19.2 & 8 & 400.0 & 175 & 3.08 & 3.845 & 17.05 & 0 & 0 & 3 & 2\\\\\n",
       "\tFiat X1-9 & 27.3 & 4 &  79.0 &  66 & 4.08 & 1.935 & 18.90 & 1 & 1 & 4 & 1\\\\\n",
       "\tPorsche 914-2 & 26.0 & 4 & 120.3 &  91 & 4.43 & 2.140 & 16.70 & 0 & 1 & 5 & 2\\\\\n",
       "\tLotus Europa & 30.4 & 4 &  95.1 & 113 & 3.77 & 1.513 & 16.90 & 1 & 1 & 5 & 2\\\\\n",
       "\tFord Pantera L & 15.8 & 8 & 351.0 & 264 & 4.22 & 3.170 & 14.50 & 0 & 1 & 5 & 4\\\\\n",
       "\tFerrari Dino & 19.7 & 6 & 145.0 & 175 & 3.62 & 2.770 & 15.50 & 0 & 1 & 5 & 6\\\\\n",
       "\tMaserati Bora & 15.0 & 8 & 301.0 & 335 & 3.54 & 3.570 & 14.60 & 0 & 1 & 5 & 8\\\\\n",
       "\tVolvo 142E & 21.4 & 4 & 121.0 & 109 & 4.11 & 2.780 & 18.60 & 1 & 1 & 4 & 2\\\\\n",
       "\\end{tabular}\n"
      ],
      "text/markdown": [
       "\n",
       "A data.frame: 32 × 11\n",
       "\n",
       "| <!--/--> | mpg &lt;dbl&gt; | cyl &lt;dbl&gt; | disp &lt;dbl&gt; | hp &lt;dbl&gt; | drat &lt;dbl&gt; | wt &lt;dbl&gt; | qsec &lt;dbl&gt; | vs &lt;dbl&gt; | am &lt;dbl&gt; | gear &lt;dbl&gt; | carb &lt;dbl&gt; |\n",
       "|---|---|---|---|---|---|---|---|---|---|---|---|\n",
       "| Mazda RX4 | 21.0 | 6 | 160.0 | 110 | 3.90 | 2.620 | 16.46 | 0 | 1 | 4 | 4 |\n",
       "| Mazda RX4 Wag | 21.0 | 6 | 160.0 | 110 | 3.90 | 2.875 | 17.02 | 0 | 1 | 4 | 4 |\n",
       "| Datsun 710 | 22.8 | 4 | 108.0 |  93 | 3.85 | 2.320 | 18.61 | 1 | 1 | 4 | 1 |\n",
       "| Hornet 4 Drive | 21.4 | 6 | 258.0 | 110 | 3.08 | 3.215 | 19.44 | 1 | 0 | 3 | 1 |\n",
       "| Hornet Sportabout | 18.7 | 8 | 360.0 | 175 | 3.15 | 3.440 | 17.02 | 0 | 0 | 3 | 2 |\n",
       "| Valiant | 18.1 | 6 | 225.0 | 105 | 2.76 | 3.460 | 20.22 | 1 | 0 | 3 | 1 |\n",
       "| Duster 360 | 14.3 | 8 | 360.0 | 245 | 3.21 | 3.570 | 15.84 | 0 | 0 | 3 | 4 |\n",
       "| Merc 240D | 24.4 | 4 | 146.7 |  62 | 3.69 | 3.190 | 20.00 | 1 | 0 | 4 | 2 |\n",
       "| Merc 230 | 22.8 | 4 | 140.8 |  95 | 3.92 | 3.150 | 22.90 | 1 | 0 | 4 | 2 |\n",
       "| Merc 280 | 19.2 | 6 | 167.6 | 123 | 3.92 | 3.440 | 18.30 | 1 | 0 | 4 | 4 |\n",
       "| Merc 280C | 17.8 | 6 | 167.6 | 123 | 3.92 | 3.440 | 18.90 | 1 | 0 | 4 | 4 |\n",
       "| Merc 450SE | 16.4 | 8 | 275.8 | 180 | 3.07 | 4.070 | 17.40 | 0 | 0 | 3 | 3 |\n",
       "| Merc 450SL | 17.3 | 8 | 275.8 | 180 | 3.07 | 3.730 | 17.60 | 0 | 0 | 3 | 3 |\n",
       "| Merc 450SLC | 15.2 | 8 | 275.8 | 180 | 3.07 | 3.780 | 18.00 | 0 | 0 | 3 | 3 |\n",
       "| Cadillac Fleetwood | 10.4 | 8 | 472.0 | 205 | 2.93 | 5.250 | 17.98 | 0 | 0 | 3 | 4 |\n",
       "| Lincoln Continental | 10.4 | 8 | 460.0 | 215 | 3.00 | 5.424 | 17.82 | 0 | 0 | 3 | 4 |\n",
       "| Chrysler Imperial | 14.7 | 8 | 440.0 | 230 | 3.23 | 5.345 | 17.42 | 0 | 0 | 3 | 4 |\n",
       "| Fiat 128 | 32.4 | 4 |  78.7 |  66 | 4.08 | 2.200 | 19.47 | 1 | 1 | 4 | 1 |\n",
       "| Honda Civic | 30.4 | 4 |  75.7 |  52 | 4.93 | 1.615 | 18.52 | 1 | 1 | 4 | 2 |\n",
       "| Toyota Corolla | 33.9 | 4 |  71.1 |  65 | 4.22 | 1.835 | 19.90 | 1 | 1 | 4 | 1 |\n",
       "| Toyota Corona | 21.5 | 4 | 120.1 |  97 | 3.70 | 2.465 | 20.01 | 1 | 0 | 3 | 1 |\n",
       "| Dodge Challenger | 15.5 | 8 | 318.0 | 150 | 2.76 | 3.520 | 16.87 | 0 | 0 | 3 | 2 |\n",
       "| AMC Javelin | 15.2 | 8 | 304.0 | 150 | 3.15 | 3.435 | 17.30 | 0 | 0 | 3 | 2 |\n",
       "| Camaro Z28 | 13.3 | 8 | 350.0 | 245 | 3.73 | 3.840 | 15.41 | 0 | 0 | 3 | 4 |\n",
       "| Pontiac Firebird | 19.2 | 8 | 400.0 | 175 | 3.08 | 3.845 | 17.05 | 0 | 0 | 3 | 2 |\n",
       "| Fiat X1-9 | 27.3 | 4 |  79.0 |  66 | 4.08 | 1.935 | 18.90 | 1 | 1 | 4 | 1 |\n",
       "| Porsche 914-2 | 26.0 | 4 | 120.3 |  91 | 4.43 | 2.140 | 16.70 | 0 | 1 | 5 | 2 |\n",
       "| Lotus Europa | 30.4 | 4 |  95.1 | 113 | 3.77 | 1.513 | 16.90 | 1 | 1 | 5 | 2 |\n",
       "| Ford Pantera L | 15.8 | 8 | 351.0 | 264 | 4.22 | 3.170 | 14.50 | 0 | 1 | 5 | 4 |\n",
       "| Ferrari Dino | 19.7 | 6 | 145.0 | 175 | 3.62 | 2.770 | 15.50 | 0 | 1 | 5 | 6 |\n",
       "| Maserati Bora | 15.0 | 8 | 301.0 | 335 | 3.54 | 3.570 | 14.60 | 0 | 1 | 5 | 8 |\n",
       "| Volvo 142E | 21.4 | 4 | 121.0 | 109 | 4.11 | 2.780 | 18.60 | 1 | 1 | 4 | 2 |\n",
       "\n"
      ],
      "text/plain": [
       "                    mpg  cyl disp  hp  drat wt    qsec  vs am gear carb\n",
       "Mazda RX4           21.0 6   160.0 110 3.90 2.620 16.46 0  1  4    4   \n",
       "Mazda RX4 Wag       21.0 6   160.0 110 3.90 2.875 17.02 0  1  4    4   \n",
       "Datsun 710          22.8 4   108.0  93 3.85 2.320 18.61 1  1  4    1   \n",
       "Hornet 4 Drive      21.4 6   258.0 110 3.08 3.215 19.44 1  0  3    1   \n",
       "Hornet Sportabout   18.7 8   360.0 175 3.15 3.440 17.02 0  0  3    2   \n",
       "Valiant             18.1 6   225.0 105 2.76 3.460 20.22 1  0  3    1   \n",
       "Duster 360          14.3 8   360.0 245 3.21 3.570 15.84 0  0  3    4   \n",
       "Merc 240D           24.4 4   146.7  62 3.69 3.190 20.00 1  0  4    2   \n",
       "Merc 230            22.8 4   140.8  95 3.92 3.150 22.90 1  0  4    2   \n",
       "Merc 280            19.2 6   167.6 123 3.92 3.440 18.30 1  0  4    4   \n",
       "Merc 280C           17.8 6   167.6 123 3.92 3.440 18.90 1  0  4    4   \n",
       "Merc 450SE          16.4 8   275.8 180 3.07 4.070 17.40 0  0  3    3   \n",
       "Merc 450SL          17.3 8   275.8 180 3.07 3.730 17.60 0  0  3    3   \n",
       "Merc 450SLC         15.2 8   275.8 180 3.07 3.780 18.00 0  0  3    3   \n",
       "Cadillac Fleetwood  10.4 8   472.0 205 2.93 5.250 17.98 0  0  3    4   \n",
       "Lincoln Continental 10.4 8   460.0 215 3.00 5.424 17.82 0  0  3    4   \n",
       "Chrysler Imperial   14.7 8   440.0 230 3.23 5.345 17.42 0  0  3    4   \n",
       "Fiat 128            32.4 4    78.7  66 4.08 2.200 19.47 1  1  4    1   \n",
       "Honda Civic         30.4 4    75.7  52 4.93 1.615 18.52 1  1  4    2   \n",
       "Toyota Corolla      33.9 4    71.1  65 4.22 1.835 19.90 1  1  4    1   \n",
       "Toyota Corona       21.5 4   120.1  97 3.70 2.465 20.01 1  0  3    1   \n",
       "Dodge Challenger    15.5 8   318.0 150 2.76 3.520 16.87 0  0  3    2   \n",
       "AMC Javelin         15.2 8   304.0 150 3.15 3.435 17.30 0  0  3    2   \n",
       "Camaro Z28          13.3 8   350.0 245 3.73 3.840 15.41 0  0  3    4   \n",
       "Pontiac Firebird    19.2 8   400.0 175 3.08 3.845 17.05 0  0  3    2   \n",
       "Fiat X1-9           27.3 4    79.0  66 4.08 1.935 18.90 1  1  4    1   \n",
       "Porsche 914-2       26.0 4   120.3  91 4.43 2.140 16.70 0  1  5    2   \n",
       "Lotus Europa        30.4 4    95.1 113 3.77 1.513 16.90 1  1  5    2   \n",
       "Ford Pantera L      15.8 8   351.0 264 4.22 3.170 14.50 0  1  5    4   \n",
       "Ferrari Dino        19.7 6   145.0 175 3.62 2.770 15.50 0  1  5    6   \n",
       "Maserati Bora       15.0 8   301.0 335 3.54 3.570 14.60 0  1  5    8   \n",
       "Volvo 142E          21.4 4   121.0 109 4.11 2.780 18.60 1  1  4    2   "
      ]
     },
     "metadata": {},
     "output_type": "display_data"
    }
   ],
   "source": [
    "mtcars"
   ]
  },
  {
   "cell_type": "code",
   "execution_count": 60,
   "metadata": {
    "vscode": {
     "languageId": "r"
    }
   },
   "outputs": [
    {
     "data": {
      "text/html": [
       "<table class=\"dataframe\">\n",
       "<caption>A data.frame: 6 × 8</caption>\n",
       "<thead>\n",
       "\t<tr><th></th><th scope=col>시도</th><th scope=col>시군구</th><th scope=col>발생월</th><th scope=col>사고건수</th><th scope=col>사망자수</th><th scope=col>중상자수</th><th scope=col>경상자수</th><th scope=col>부상신고자수</th></tr>\n",
       "\t<tr><th></th><th scope=col>&lt;chr&gt;</th><th scope=col>&lt;chr&gt;</th><th scope=col>&lt;int&gt;</th><th scope=col>&lt;int&gt;</th><th scope=col>&lt;int&gt;</th><th scope=col>&lt;int&gt;</th><th scope=col>&lt;int&gt;</th><th scope=col>&lt;int&gt;</th></tr>\n",
       "</thead>\n",
       "<tbody>\n",
       "\t<tr><th scope=row>1</th><td>서울</td><td>종로구</td><td>1</td><td>77</td><td>2</td><td>15</td><td> 79</td><td>14</td></tr>\n",
       "\t<tr><th scope=row>2</th><td>서울</td><td>종로구</td><td>2</td><td>66</td><td>0</td><td>17</td><td> 59</td><td> 8</td></tr>\n",
       "\t<tr><th scope=row>3</th><td>서울</td><td>종로구</td><td>3</td><td>67</td><td>0</td><td>15</td><td> 80</td><td> 2</td></tr>\n",
       "\t<tr><th scope=row>4</th><td>서울</td><td>종로구</td><td>4</td><td>73</td><td>1</td><td>17</td><td> 67</td><td> 6</td></tr>\n",
       "\t<tr><th scope=row>5</th><td>서울</td><td>종로구</td><td>5</td><td>88</td><td>0</td><td>21</td><td>103</td><td>12</td></tr>\n",
       "\t<tr><th scope=row>6</th><td>서울</td><td>종로구</td><td>6</td><td>82</td><td>0</td><td>17</td><td> 78</td><td> 6</td></tr>\n",
       "</tbody>\n",
       "</table>\n"
      ],
      "text/latex": [
       "A data.frame: 6 × 8\n",
       "\\begin{tabular}{r|llllllll}\n",
       "  & 시도 & 시군구 & 발생월 & 사고건수 & 사망자수 & 중상자수 & 경상자수 & 부상신고자수\\\\\n",
       "  & <chr> & <chr> & <int> & <int> & <int> & <int> & <int> & <int>\\\\\n",
       "\\hline\n",
       "\t1 & 서울 & 종로구 & 1 & 77 & 2 & 15 &  79 & 14\\\\\n",
       "\t2 & 서울 & 종로구 & 2 & 66 & 0 & 17 &  59 &  8\\\\\n",
       "\t3 & 서울 & 종로구 & 3 & 67 & 0 & 15 &  80 &  2\\\\\n",
       "\t4 & 서울 & 종로구 & 4 & 73 & 1 & 17 &  67 &  6\\\\\n",
       "\t5 & 서울 & 종로구 & 5 & 88 & 0 & 21 & 103 & 12\\\\\n",
       "\t6 & 서울 & 종로구 & 6 & 82 & 0 & 17 &  78 &  6\\\\\n",
       "\\end{tabular}\n"
      ],
      "text/markdown": [
       "\n",
       "A data.frame: 6 × 8\n",
       "\n",
       "| <!--/--> | 시도 &lt;chr&gt; | 시군구 &lt;chr&gt; | 발생월 &lt;int&gt; | 사고건수 &lt;int&gt; | 사망자수 &lt;int&gt; | 중상자수 &lt;int&gt; | 경상자수 &lt;int&gt; | 부상신고자수 &lt;int&gt; |\n",
       "|---|---|---|---|---|---|---|---|---|\n",
       "| 1 | 서울 | 종로구 | 1 | 77 | 2 | 15 |  79 | 14 |\n",
       "| 2 | 서울 | 종로구 | 2 | 66 | 0 | 17 |  59 |  8 |\n",
       "| 3 | 서울 | 종로구 | 3 | 67 | 0 | 15 |  80 |  2 |\n",
       "| 4 | 서울 | 종로구 | 4 | 73 | 1 | 17 |  67 |  6 |\n",
       "| 5 | 서울 | 종로구 | 5 | 88 | 0 | 21 | 103 | 12 |\n",
       "| 6 | 서울 | 종로구 | 6 | 82 | 0 | 17 |  78 |  6 |\n",
       "\n"
      ],
      "text/plain": [
       "  시도 시군구 발생월 사고건수 사망자수 중상자수 경상자수 부상신고자수\n",
       "1 서울 종로구 1      77       2        15        79      14          \n",
       "2 서울 종로구 2      66       0        17        59       8          \n",
       "3 서울 종로구 3      67       0        15        80       2          \n",
       "4 서울 종로구 4      73       1        17        67       6          \n",
       "5 서울 종로구 5      88       0        21       103      12          \n",
       "6 서울 종로구 6      82       0        17        78       6          "
      ]
     },
     "metadata": {},
     "output_type": "display_data"
    }
   ],
   "source": [
    "data <- read.csv(\"../mydata/도로교통공단_시군구별 월별 교통사고 통계_20231231.csv\"\n",
    "                    , fileEncoding = \"cp949\")\n",
    "\n",
    "head(data)"
   ]
  },
  {
   "cell_type": "code",
   "execution_count": 61,
   "metadata": {
    "vscode": {
     "languageId": "r"
    }
   },
   "outputs": [
    {
     "data": {
      "text/plain": [
       "     시도              시군구              발생월          사고건수     \n",
       " Length:2744        Length:2744        Min.   : 1.000   Min.   :  1.00  \n",
       " Class :character   Class :character   1st Qu.: 4.000   1st Qu.: 17.00  \n",
       " Mode  :character   Mode  :character   Median : 6.500   Median : 47.50  \n",
       "                                       Mean   : 6.502   Mean   : 72.27  \n",
       "                                       3rd Qu.: 9.250   3rd Qu.:100.00  \n",
       "                                       Max.   :12.000   Max.   :423.00  \n",
       "    사망자수         중상자수         경상자수      부상신고자수   \n",
       " Min.   :0.0000   Min.   :  0.00   Min.   :  0.0   Min.   : 0.000  \n",
       " 1st Qu.:0.0000   1st Qu.:  7.00   1st Qu.: 17.0   1st Qu.: 1.000  \n",
       " Median :1.0000   Median : 14.00   Median : 50.0   Median : 3.000  \n",
       " Mean   :0.9297   Mean   : 19.31   Mean   : 77.1   Mean   : 7.012  \n",
       " 3rd Qu.:1.0000   3rd Qu.: 26.00   3rd Qu.:104.0   3rd Qu.: 9.000  \n",
       " Max.   :8.0000   Max.   :135.00   Max.   :515.0   Max.   :70.000  "
      ]
     },
     "metadata": {},
     "output_type": "display_data"
    }
   ],
   "source": [
    "summary(data)"
   ]
  },
  {
   "cell_type": "code",
   "execution_count": 62,
   "metadata": {
    "vscode": {
     "languageId": "r"
    }
   },
   "outputs": [
    {
     "data": {
      "image/png": "[encoded data removed]",
      "text/plain": [
       "Plot with title “Histogram of data$사고건수”"
      ]
     },
     "metadata": {
      "image/png": {
       "height": 420,
       "width": 600
      }
     },
     "output_type": "display_data"
    }
   ],
   "source": [
    "options(repr.plot.width=10)\n",
    "par(mfrow = c(1,2))\n",
    "\n",
    "hist(data$`사고건수`, breaks = c(0:5)*100)\n",
    "hist(data$`사고건수`, breaks = c(0:5)*100, right=F)"
   ]
  },
  {
   "cell_type": "code",
   "execution_count": 63,
   "metadata": {
    "vscode": {
     "languageId": "r"
    }
   },
   "outputs": [
    {
     "name": "stdout",
     "output_type": "stream",
     "text": [
      "[1] (0,10]  (0,10]  (0,10]  (10,20] (20,30] (20,30]\n",
      "Levels: (0,10] (10,20] (20,30]\n"
     ]
    }
   ],
   "source": [
    "x <- c(3,5,10,15,21,25)\n",
    "bins <- c(0,10 ,20 , 30)\n",
    "result <- cut(x, breaks= bins)\n",
    "print(result)"
   ]
  },
  {
   "cell_type": "code",
   "execution_count": 64,
   "metadata": {
    "vscode": {
     "languageId": "r"
    }
   },
   "outputs": [
    {
     "data": {
      "text/plain": [
       "result\n",
       " (0,10] (10,20] (20,30] \n",
       "      3       1       2 "
      ]
     },
     "metadata": {},
     "output_type": "display_data"
    }
   ],
   "source": [
    "table(result)"
   ]
  },
  {
   "cell_type": "code",
   "execution_count": 65,
   "metadata": {
    "vscode": {
     "languageId": "r"
    }
   },
   "outputs": [
    {
     "data": {
      "text/html": [
       "<style>\n",
       ".list-inline {list-style: none; margin:0; padding: 0}\n",
       ".list-inline>li {display: inline-block}\n",
       ".list-inline>li:not(:last-child)::after {content: \"\\00b7\"; padding: 0 .5ex}\n",
       "</style>\n",
       "<ol class=list-inline><li>0</li><li>100</li><li>200</li><li>300</li><li>400</li><li>500</li></ol>\n"
      ],
      "text/latex": [
       "\\begin{enumerate*}\n",
       "\\item 0\n",
       "\\item 100\n",
       "\\item 200\n",
       "\\item 300\n",
       "\\item 400\n",
       "\\item 500\n",
       "\\end{enumerate*}\n"
      ],
      "text/markdown": [
       "1. 0\n",
       "2. 100\n",
       "3. 200\n",
       "4. 300\n",
       "5. 400\n",
       "6. 500\n",
       "\n",
       "\n"
      ],
      "text/plain": [
       "[1]   0 100 200 300 400 500"
      ]
     },
     "metadata": {},
     "output_type": "display_data"
    }
   ],
   "source": [
    "bins <- c(0:5)* 100\n",
    "bins"
   ]
  },
  {
   "cell_type": "code",
   "execution_count": 66,
   "metadata": {
    "vscode": {
     "languageId": "r"
    }
   },
   "outputs": [
    {
     "data": {
      "text/plain": [
       "result\n",
       "  (0,100] (100,200] (200,300] (300,400] (400,500]       Sum \n",
       "     2071       484       108        74         7      2744 "
      ]
     },
     "metadata": {},
     "output_type": "display_data"
    }
   ],
   "source": [
    "result <- cut(data$`사고건수`, breaks=bins)\n",
    "addmargins(table(result))"
   ]
  },
  {
   "cell_type": "code",
   "execution_count": 67,
   "metadata": {
    "vscode": {
     "languageId": "r"
    }
   },
   "outputs": [
    {
     "data": {
      "text/plain": [
       "result\n",
       "  [0,100) [100,200) [200,300) [300,400) [400,500)       Sum \n",
       "     2057       498       105        75         9      2744 "
      ]
     },
     "metadata": {},
     "output_type": "display_data"
    }
   ],
   "source": [
    "result <- cut(data$`사고건수`, breaks = bins, right= F)\n",
    "addmargins(table(result))"
   ]
  },
  {
   "cell_type": "code",
   "execution_count": 68,
   "metadata": {
    "vscode": {
     "languageId": "r"
    }
   },
   "outputs": [
    {
     "data": {
      "text/html": [
       "14"
      ],
      "text/latex": [
       "14"
      ],
      "text/markdown": [
       "14"
      ],
      "text/plain": [
       "[1] 14"
      ]
     },
     "metadata": {},
     "output_type": "display_data"
    }
   ],
   "source": [
    "length(which(data$`사고건수` == 100))"
   ]
  },
  {
   "cell_type": "code",
   "execution_count": 69,
   "metadata": {
    "vscode": {
     "languageId": "r"
    }
   },
   "outputs": [
    {
     "data": {
      "text/plain": [
       "\n",
       "괴산군 단양군 보은군 영동군 옥천군 음성군 제천시 증평군 진천군 청주시 충주시 \n",
       "    12     12     12     12     12     12     12     12     12     12     12 "
      ]
     },
     "metadata": {},
     "output_type": "display_data"
    }
   ],
   "source": [
    "cb <- subset(data, data$`시도` == \"충북\")\n",
    "table(cb$시군구)"
   ]
  },
  {
   "cell_type": "code",
   "execution_count": 70,
   "metadata": {
    "vscode": {
     "languageId": "r"
    }
   },
   "outputs": [
    {
     "data": {
      "text/plain": [
       "\n",
       "제천시 청주시 충주시 \n",
       "    12     12     12 "
      ]
     },
     "metadata": {},
     "output_type": "display_data"
    }
   ],
   "source": [
    "idx <- grep(\"시\", cb$`시군구`)\n",
    "city <- cb[idx, ]\n",
    "table(city$시군구)"
   ]
  },
  {
   "cell_type": "code",
   "execution_count": 71,
   "metadata": {
    "vscode": {
     "languageId": "r"
    }
   },
   "outputs": [
    {
     "data": {
      "image/png": "[encoded data removed]",
      "text/plain": [
       "plot without title"
      ]
     },
     "metadata": {
      "image/png": {
       "height": 420,
       "width": 600
      }
     },
     "output_type": "display_data"
    }
   ],
   "source": [
    "boxplot(city$`사고건수`, col='gold')"
   ]
  },
  {
   "cell_type": "code",
   "execution_count": 72,
   "metadata": {
    "vscode": {
     "languageId": "r"
    }
   },
   "outputs": [
    {
     "data": {
      "image/png": "[encoded data removed]",
      "text/plain": [
       "plot without title"
      ]
     },
     "metadata": {
      "image/png": {
       "height": 420,
       "width": 600
      }
     },
     "output_type": "display_data"
    }
   ],
   "source": [
    "boxplot(city$`사고건수`, data = city, col=c('gold','green','pink'))"
   ]
  },
  {
   "cell_type": "code",
   "execution_count": 73,
   "metadata": {
    "vscode": {
     "languageId": "r"
    }
   },
   "outputs": [
    {
     "name": "stdout",
     "output_type": "stream",
     "text": [
      "     [,1] [,2] [,3] [,4] [,5]\n",
      "[1,]    1    5    9   13   17\n",
      "[2,]    2    6   10   14   18\n",
      "[3,]    3    7   11   15   19\n",
      "[4,]    4    8   12   16   20\n"
     ]
    }
   ],
   "source": [
    "# applt()함수\n",
    "A <- matrix(1:20, 4, 5)\n",
    "print(A)"
   ]
  },
  {
   "cell_type": "code",
   "execution_count": 74,
   "metadata": {
    "vscode": {
     "languageId": "r"
    }
   },
   "outputs": [
    {
     "data": {
      "text/html": [
       "<table class=\"dataframe\">\n",
       "<caption>A data.frame: 6 × 11</caption>\n",
       "<thead>\n",
       "\t<tr><th></th><th scope=col>mpg</th><th scope=col>cyl</th><th scope=col>disp</th><th scope=col>hp</th><th scope=col>drat</th><th scope=col>wt</th><th scope=col>qsec</th><th scope=col>vs</th><th scope=col>am</th><th scope=col>gear</th><th scope=col>carb</th></tr>\n",
       "\t<tr><th></th><th scope=col>&lt;dbl&gt;</th><th scope=col>&lt;dbl&gt;</th><th scope=col>&lt;dbl&gt;</th><th scope=col>&lt;dbl&gt;</th><th scope=col>&lt;dbl&gt;</th><th scope=col>&lt;dbl&gt;</th><th scope=col>&lt;dbl&gt;</th><th scope=col>&lt;dbl&gt;</th><th scope=col>&lt;dbl&gt;</th><th scope=col>&lt;dbl&gt;</th><th scope=col>&lt;dbl&gt;</th></tr>\n",
       "</thead>\n",
       "<tbody>\n",
       "\t<tr><th scope=row>Mazda RX4</th><td>21.0</td><td>6</td><td>160</td><td>110</td><td>3.90</td><td>2.620</td><td>16.46</td><td>0</td><td>1</td><td>4</td><td>4</td></tr>\n",
       "\t<tr><th scope=row>Mazda RX4 Wag</th><td>21.0</td><td>6</td><td>160</td><td>110</td><td>3.90</td><td>2.875</td><td>17.02</td><td>0</td><td>1</td><td>4</td><td>4</td></tr>\n",
       "\t<tr><th scope=row>Datsun 710</th><td>22.8</td><td>4</td><td>108</td><td> 93</td><td>3.85</td><td>2.320</td><td>18.61</td><td>1</td><td>1</td><td>4</td><td>1</td></tr>\n",
       "\t<tr><th scope=row>Hornet 4 Drive</th><td>21.4</td><td>6</td><td>258</td><td>110</td><td>3.08</td><td>3.215</td><td>19.44</td><td>1</td><td>0</td><td>3</td><td>1</td></tr>\n",
       "\t<tr><th scope=row>Hornet Sportabout</th><td>18.7</td><td>8</td><td>360</td><td>175</td><td>3.15</td><td>3.440</td><td>17.02</td><td>0</td><td>0</td><td>3</td><td>2</td></tr>\n",
       "\t<tr><th scope=row>Valiant</th><td>18.1</td><td>6</td><td>225</td><td>105</td><td>2.76</td><td>3.460</td><td>20.22</td><td>1</td><td>0</td><td>3</td><td>1</td></tr>\n",
       "</tbody>\n",
       "</table>\n"
      ],
      "text/latex": [
       "A data.frame: 6 × 11\n",
       "\\begin{tabular}{r|lllllllllll}\n",
       "  & mpg & cyl & disp & hp & drat & wt & qsec & vs & am & gear & carb\\\\\n",
       "  & <dbl> & <dbl> & <dbl> & <dbl> & <dbl> & <dbl> & <dbl> & <dbl> & <dbl> & <dbl> & <dbl>\\\\\n",
       "\\hline\n",
       "\tMazda RX4 & 21.0 & 6 & 160 & 110 & 3.90 & 2.620 & 16.46 & 0 & 1 & 4 & 4\\\\\n",
       "\tMazda RX4 Wag & 21.0 & 6 & 160 & 110 & 3.90 & 2.875 & 17.02 & 0 & 1 & 4 & 4\\\\\n",
       "\tDatsun 710 & 22.8 & 4 & 108 &  93 & 3.85 & 2.320 & 18.61 & 1 & 1 & 4 & 1\\\\\n",
       "\tHornet 4 Drive & 21.4 & 6 & 258 & 110 & 3.08 & 3.215 & 19.44 & 1 & 0 & 3 & 1\\\\\n",
       "\tHornet Sportabout & 18.7 & 8 & 360 & 175 & 3.15 & 3.440 & 17.02 & 0 & 0 & 3 & 2\\\\\n",
       "\tValiant & 18.1 & 6 & 225 & 105 & 2.76 & 3.460 & 20.22 & 1 & 0 & 3 & 1\\\\\n",
       "\\end{tabular}\n"
      ],
      "text/markdown": [
       "\n",
       "A data.frame: 6 × 11\n",
       "\n",
       "| <!--/--> | mpg &lt;dbl&gt; | cyl &lt;dbl&gt; | disp &lt;dbl&gt; | hp &lt;dbl&gt; | drat &lt;dbl&gt; | wt &lt;dbl&gt; | qsec &lt;dbl&gt; | vs &lt;dbl&gt; | am &lt;dbl&gt; | gear &lt;dbl&gt; | carb &lt;dbl&gt; |\n",
       "|---|---|---|---|---|---|---|---|---|---|---|---|\n",
       "| Mazda RX4 | 21.0 | 6 | 160 | 110 | 3.90 | 2.620 | 16.46 | 0 | 1 | 4 | 4 |\n",
       "| Mazda RX4 Wag | 21.0 | 6 | 160 | 110 | 3.90 | 2.875 | 17.02 | 0 | 1 | 4 | 4 |\n",
       "| Datsun 710 | 22.8 | 4 | 108 |  93 | 3.85 | 2.320 | 18.61 | 1 | 1 | 4 | 1 |\n",
       "| Hornet 4 Drive | 21.4 | 6 | 258 | 110 | 3.08 | 3.215 | 19.44 | 1 | 0 | 3 | 1 |\n",
       "| Hornet Sportabout | 18.7 | 8 | 360 | 175 | 3.15 | 3.440 | 17.02 | 0 | 0 | 3 | 2 |\n",
       "| Valiant | 18.1 | 6 | 225 | 105 | 2.76 | 3.460 | 20.22 | 1 | 0 | 3 | 1 |\n",
       "\n"
      ],
      "text/plain": [
       "                  mpg  cyl disp hp  drat wt    qsec  vs am gear carb\n",
       "Mazda RX4         21.0 6   160  110 3.90 2.620 16.46 0  1  4    4   \n",
       "Mazda RX4 Wag     21.0 6   160  110 3.90 2.875 17.02 0  1  4    4   \n",
       "Datsun 710        22.8 4   108   93 3.85 2.320 18.61 1  1  4    1   \n",
       "Hornet 4 Drive    21.4 6   258  110 3.08 3.215 19.44 1  0  3    1   \n",
       "Hornet Sportabout 18.7 8   360  175 3.15 3.440 17.02 0  0  3    2   \n",
       "Valiant           18.1 6   225  105 2.76 3.460 20.22 1  0  3    1   "
      ]
     },
     "metadata": {},
     "output_type": "display_data"
    }
   ],
   "source": [
    "head(mtcars)"
   ]
  },
  {
   "cell_type": "code",
   "execution_count": 75,
   "metadata": {
    "vscode": {
     "languageId": "r"
    }
   },
   "outputs": [
    {
     "data": {
      "text/html": [
       "<style>\n",
       ".dl-inline {width: auto; margin:0; padding: 0}\n",
       ".dl-inline>dt, .dl-inline>dd {float: none; width: auto; display: inline-block}\n",
       ".dl-inline>dt::after {content: \":\\0020\"; padding-right: .5ex}\n",
       ".dl-inline>dt:not(:first-of-type) {padding-left: .5ex}\n",
       "</style><dl class=dl-inline><dt>mpg</dt><dd>20.090625</dd><dt>wt</dt><dd>3.21725</dd><dt>qsec</dt><dd>17.84875</dd></dl>\n"
      ],
      "text/latex": [
       "\\begin{description*}\n",
       "\\item[mpg] 20.090625\n",
       "\\item[wt] 3.21725\n",
       "\\item[qsec] 17.84875\n",
       "\\end{description*}\n"
      ],
      "text/markdown": [
       "mpg\n",
       ":   20.090625wt\n",
       ":   3.21725qsec\n",
       ":   17.84875\n",
       "\n"
      ],
      "text/plain": [
       "     mpg       wt     qsec \n",
       "20.09062  3.21725 17.84875 "
      ]
     },
     "metadata": {},
     "output_type": "display_data"
    }
   ],
   "source": [
    "apply(mtcars[c('mpg', 'wt', 'qsec')], 2, mean)"
   ]
  },
  {
   "cell_type": "code",
   "execution_count": 76,
   "metadata": {
    "vscode": {
     "languageId": "r"
    }
   },
   "outputs": [
    {
     "data": {
      "text/html": [
       "<dl>\n",
       "\t<dt>$mpg</dt>\n",
       "\t\t<dd>20.090625</dd>\n",
       "\t<dt>$cyl</dt>\n",
       "\t\t<dd>6.1875</dd>\n",
       "\t<dt>$disp</dt>\n",
       "\t\t<dd>230.721875</dd>\n",
       "\t<dt>$hp</dt>\n",
       "\t\t<dd>146.6875</dd>\n",
       "\t<dt>$drat</dt>\n",
       "\t\t<dd>3.5965625</dd>\n",
       "\t<dt>$wt</dt>\n",
       "\t\t<dd>3.21725</dd>\n",
       "\t<dt>$qsec</dt>\n",
       "\t\t<dd>17.84875</dd>\n",
       "\t<dt>$vs</dt>\n",
       "\t\t<dd>0.4375</dd>\n",
       "\t<dt>$am</dt>\n",
       "\t\t<dd>0.40625</dd>\n",
       "\t<dt>$gear</dt>\n",
       "\t\t<dd>3.6875</dd>\n",
       "\t<dt>$carb</dt>\n",
       "\t\t<dd>2.8125</dd>\n",
       "</dl>\n"
      ],
      "text/latex": [
       "\\begin{description}\n",
       "\\item[\\$mpg] 20.090625\n",
       "\\item[\\$cyl] 6.1875\n",
       "\\item[\\$disp] 230.721875\n",
       "\\item[\\$hp] 146.6875\n",
       "\\item[\\$drat] 3.5965625\n",
       "\\item[\\$wt] 3.21725\n",
       "\\item[\\$qsec] 17.84875\n",
       "\\item[\\$vs] 0.4375\n",
       "\\item[\\$am] 0.40625\n",
       "\\item[\\$gear] 3.6875\n",
       "\\item[\\$carb] 2.8125\n",
       "\\end{description}\n"
      ],
      "text/markdown": [
       "$mpg\n",
       ":   20.090625\n",
       "$cyl\n",
       ":   6.1875\n",
       "$disp\n",
       ":   230.721875\n",
       "$hp\n",
       ":   146.6875\n",
       "$drat\n",
       ":   3.5965625\n",
       "$wt\n",
       ":   3.21725\n",
       "$qsec\n",
       ":   17.84875\n",
       "$vs\n",
       ":   0.4375\n",
       "$am\n",
       ":   0.40625\n",
       "$gear\n",
       ":   3.6875\n",
       "$carb\n",
       ":   2.8125\n",
       "\n",
       "\n"
      ],
      "text/plain": [
       "$mpg\n",
       "[1] 20.09062\n",
       "\n",
       "$cyl\n",
       "[1] 6.1875\n",
       "\n",
       "$disp\n",
       "[1] 230.7219\n",
       "\n",
       "$hp\n",
       "[1] 146.6875\n",
       "\n",
       "$drat\n",
       "[1] 3.596563\n",
       "\n",
       "$wt\n",
       "[1] 3.21725\n",
       "\n",
       "$qsec\n",
       "[1] 17.84875\n",
       "\n",
       "$vs\n",
       "[1] 0.4375\n",
       "\n",
       "$am\n",
       "[1] 0.40625\n",
       "\n",
       "$gear\n",
       "[1] 3.6875\n",
       "\n",
       "$carb\n",
       "[1] 2.8125\n"
      ]
     },
     "metadata": {},
     "output_type": "display_data"
    }
   ],
   "source": [
    "lapply(mtcars, mean)"
   ]
  },
  {
   "cell_type": "code",
   "execution_count": 77,
   "metadata": {
    "vscode": {
     "languageId": "r"
    }
   },
   "outputs": [
    {
     "data": {
      "text/html": [
       "<dl>\n",
       "\t<dt>$mpg</dt>\n",
       "\t\t<dd>20.090625</dd>\n",
       "\t<dt>$wt</dt>\n",
       "\t\t<dd>3.21725</dd>\n",
       "\t<dt>$qsec</dt>\n",
       "\t\t<dd>17.84875</dd>\n",
       "</dl>\n"
      ],
      "text/latex": [
       "\\begin{description}\n",
       "\\item[\\$mpg] 20.090625\n",
       "\\item[\\$wt] 3.21725\n",
       "\\item[\\$qsec] 17.84875\n",
       "\\end{description}\n"
      ],
      "text/markdown": [
       "$mpg\n",
       ":   20.090625\n",
       "$wt\n",
       ":   3.21725\n",
       "$qsec\n",
       ":   17.84875\n",
       "\n",
       "\n"
      ],
      "text/plain": [
       "$mpg\n",
       "[1] 20.09062\n",
       "\n",
       "$wt\n",
       "[1] 3.21725\n",
       "\n",
       "$qsec\n",
       "[1] 17.84875\n"
      ]
     },
     "metadata": {},
     "output_type": "display_data"
    }
   ],
   "source": [
    "lapply(mtcars[c('mpg', 'wt', 'qsec')], mean)"
   ]
  },
  {
   "cell_type": "markdown",
   "metadata": {},
   "source": [
    "## 시험 -> 중앙값에 평균을 구해라\n",
    "그룹변수 1개  \n",
    "tapply(연송형 변수, 그룹변수, 함수)  \n",
    "그룹변수 2개  \n",
    "tapply(연속형변수, list(그룹변수1, 그룹변수2), 함수)  "
   ]
  },
  {
   "cell_type": "code",
   "execution_count": 78,
   "metadata": {
    "vscode": {
     "languageId": "r"
    }
   },
   "outputs": [
    {
     "data": {
      "text/html": [
       "<table class=\"dataframe\">\n",
       "<caption>A data.frame: 6 × 3</caption>\n",
       "<thead>\n",
       "\t<tr><th></th><th scope=col>len</th><th scope=col>supp</th><th scope=col>dose</th></tr>\n",
       "\t<tr><th></th><th scope=col>&lt;dbl&gt;</th><th scope=col>&lt;fct&gt;</th><th scope=col>&lt;dbl&gt;</th></tr>\n",
       "</thead>\n",
       "<tbody>\n",
       "\t<tr><th scope=row>1</th><td> 4.2</td><td>VC</td><td>0.5</td></tr>\n",
       "\t<tr><th scope=row>2</th><td>11.5</td><td>VC</td><td>0.5</td></tr>\n",
       "\t<tr><th scope=row>3</th><td> 7.3</td><td>VC</td><td>0.5</td></tr>\n",
       "\t<tr><th scope=row>4</th><td> 5.8</td><td>VC</td><td>0.5</td></tr>\n",
       "\t<tr><th scope=row>5</th><td> 6.4</td><td>VC</td><td>0.5</td></tr>\n",
       "\t<tr><th scope=row>6</th><td>10.0</td><td>VC</td><td>0.5</td></tr>\n",
       "</tbody>\n",
       "</table>\n"
      ],
      "text/latex": [
       "A data.frame: 6 × 3\n",
       "\\begin{tabular}{r|lll}\n",
       "  & len & supp & dose\\\\\n",
       "  & <dbl> & <fct> & <dbl>\\\\\n",
       "\\hline\n",
       "\t1 &  4.2 & VC & 0.5\\\\\n",
       "\t2 & 11.5 & VC & 0.5\\\\\n",
       "\t3 &  7.3 & VC & 0.5\\\\\n",
       "\t4 &  5.8 & VC & 0.5\\\\\n",
       "\t5 &  6.4 & VC & 0.5\\\\\n",
       "\t6 & 10.0 & VC & 0.5\\\\\n",
       "\\end{tabular}\n"
      ],
      "text/markdown": [
       "\n",
       "A data.frame: 6 × 3\n",
       "\n",
       "| <!--/--> | len &lt;dbl&gt; | supp &lt;fct&gt; | dose &lt;dbl&gt; |\n",
       "|---|---|---|---|\n",
       "| 1 |  4.2 | VC | 0.5 |\n",
       "| 2 | 11.5 | VC | 0.5 |\n",
       "| 3 |  7.3 | VC | 0.5 |\n",
       "| 4 |  5.8 | VC | 0.5 |\n",
       "| 5 |  6.4 | VC | 0.5 |\n",
       "| 6 | 10.0 | VC | 0.5 |\n",
       "\n"
      ],
      "text/plain": [
       "  len  supp dose\n",
       "1  4.2 VC   0.5 \n",
       "2 11.5 VC   0.5 \n",
       "3  7.3 VC   0.5 \n",
       "4  5.8 VC   0.5 \n",
       "5  6.4 VC   0.5 \n",
       "6 10.0 VC   0.5 "
      ]
     },
     "metadata": {},
     "output_type": "display_data"
    }
   ],
   "source": [
    "head(ToothGrowth)"
   ]
  },
  {
   "cell_type": "code",
   "execution_count": 79,
   "metadata": {
    "vscode": {
     "languageId": "r"
    }
   },
   "outputs": [
    {
     "name": "stdout",
     "output_type": "stream",
     "text": [
      "      OJ       VC \n",
      "20.66333 16.96333 \n"
     ]
    }
   ],
   "source": [
    "result <- tapply(ToothGrowth$len, ToothGrowth$supp, mean)\n",
    "print(result)"
   ]
  },
  {
   "cell_type": "code",
   "execution_count": 80,
   "metadata": {
    "vscode": {
     "languageId": "r"
    }
   },
   "outputs": [
    {
     "name": "stdout",
     "output_type": "stream",
     "text": [
      "     0.5     1     2\n",
      "OJ 13.23 22.70 26.06\n",
      "VC  7.98 16.77 26.14\n"
     ]
    }
   ],
   "source": [
    "result <- tapply(ToothGrowth$len, list(ToothGrowth$supp, ToothGrowth$dose), mean)\n",
    "print(result)"
   ]
  },
  {
   "cell_type": "code",
   "execution_count": 81,
   "metadata": {
    "vscode": {
     "languageId": "r"
    }
   },
   "outputs": [
    {
     "data": {
      "text/html": [
       "<table class=\"dataframe\">\n",
       "<caption>A data.frame: 6 × 8</caption>\n",
       "<thead>\n",
       "\t<tr><th></th><th scope=col>시도</th><th scope=col>시군구</th><th scope=col>발생월</th><th scope=col>사고건수</th><th scope=col>사망자수</th><th scope=col>중상자수</th><th scope=col>경상자수</th><th scope=col>부상신고자수</th></tr>\n",
       "\t<tr><th></th><th scope=col>&lt;chr&gt;</th><th scope=col>&lt;chr&gt;</th><th scope=col>&lt;int&gt;</th><th scope=col>&lt;int&gt;</th><th scope=col>&lt;int&gt;</th><th scope=col>&lt;int&gt;</th><th scope=col>&lt;int&gt;</th><th scope=col>&lt;int&gt;</th></tr>\n",
       "</thead>\n",
       "<tbody>\n",
       "\t<tr><th scope=row>1</th><td>서울</td><td>종로구</td><td>1</td><td>77</td><td>2</td><td>15</td><td> 79</td><td>14</td></tr>\n",
       "\t<tr><th scope=row>2</th><td>서울</td><td>종로구</td><td>2</td><td>66</td><td>0</td><td>17</td><td> 59</td><td> 8</td></tr>\n",
       "\t<tr><th scope=row>3</th><td>서울</td><td>종로구</td><td>3</td><td>67</td><td>0</td><td>15</td><td> 80</td><td> 2</td></tr>\n",
       "\t<tr><th scope=row>4</th><td>서울</td><td>종로구</td><td>4</td><td>73</td><td>1</td><td>17</td><td> 67</td><td> 6</td></tr>\n",
       "\t<tr><th scope=row>5</th><td>서울</td><td>종로구</td><td>5</td><td>88</td><td>0</td><td>21</td><td>103</td><td>12</td></tr>\n",
       "\t<tr><th scope=row>6</th><td>서울</td><td>종로구</td><td>6</td><td>82</td><td>0</td><td>17</td><td> 78</td><td> 6</td></tr>\n",
       "</tbody>\n",
       "</table>\n"
      ],
      "text/latex": [
       "A data.frame: 6 × 8\n",
       "\\begin{tabular}{r|llllllll}\n",
       "  & 시도 & 시군구 & 발생월 & 사고건수 & 사망자수 & 중상자수 & 경상자수 & 부상신고자수\\\\\n",
       "  & <chr> & <chr> & <int> & <int> & <int> & <int> & <int> & <int>\\\\\n",
       "\\hline\n",
       "\t1 & 서울 & 종로구 & 1 & 77 & 2 & 15 &  79 & 14\\\\\n",
       "\t2 & 서울 & 종로구 & 2 & 66 & 0 & 17 &  59 &  8\\\\\n",
       "\t3 & 서울 & 종로구 & 3 & 67 & 0 & 15 &  80 &  2\\\\\n",
       "\t4 & 서울 & 종로구 & 4 & 73 & 1 & 17 &  67 &  6\\\\\n",
       "\t5 & 서울 & 종로구 & 5 & 88 & 0 & 21 & 103 & 12\\\\\n",
       "\t6 & 서울 & 종로구 & 6 & 82 & 0 & 17 &  78 &  6\\\\\n",
       "\\end{tabular}\n"
      ],
      "text/markdown": [
       "\n",
       "A data.frame: 6 × 8\n",
       "\n",
       "| <!--/--> | 시도 &lt;chr&gt; | 시군구 &lt;chr&gt; | 발생월 &lt;int&gt; | 사고건수 &lt;int&gt; | 사망자수 &lt;int&gt; | 중상자수 &lt;int&gt; | 경상자수 &lt;int&gt; | 부상신고자수 &lt;int&gt; |\n",
       "|---|---|---|---|---|---|---|---|---|\n",
       "| 1 | 서울 | 종로구 | 1 | 77 | 2 | 15 |  79 | 14 |\n",
       "| 2 | 서울 | 종로구 | 2 | 66 | 0 | 17 |  59 |  8 |\n",
       "| 3 | 서울 | 종로구 | 3 | 67 | 0 | 15 |  80 |  2 |\n",
       "| 4 | 서울 | 종로구 | 4 | 73 | 1 | 17 |  67 |  6 |\n",
       "| 5 | 서울 | 종로구 | 5 | 88 | 0 | 21 | 103 | 12 |\n",
       "| 6 | 서울 | 종로구 | 6 | 82 | 0 | 17 |  78 |  6 |\n",
       "\n"
      ],
      "text/plain": [
       "  시도 시군구 발생월 사고건수 사망자수 중상자수 경상자수 부상신고자수\n",
       "1 서울 종로구 1      77       2        15        79      14          \n",
       "2 서울 종로구 2      66       0        17        59       8          \n",
       "3 서울 종로구 3      67       0        15        80       2          \n",
       "4 서울 종로구 4      73       1        17        67       6          \n",
       "5 서울 종로구 5      88       0        21       103      12          \n",
       "6 서울 종로구 6      82       0        17        78       6          "
      ]
     },
     "metadata": {},
     "output_type": "display_data"
    }
   ],
   "source": [
    "head(data)"
   ]
  },
  {
   "cell_type": "code",
   "execution_count": 82,
   "metadata": {
    "vscode": {
     "languageId": "r"
    }
   },
   "outputs": [
    {
     "data": {
      "text/html": [
       "<table class=\"dataframe\">\n",
       "<caption>A data.frame: 6 × 8</caption>\n",
       "<thead>\n",
       "\t<tr><th></th><th scope=col>시도</th><th scope=col>시군구</th><th scope=col>발생월</th><th scope=col>사고건수</th><th scope=col>사망자수</th><th scope=col>중상자수</th><th scope=col>경상자수</th><th scope=col>부상신고자수</th></tr>\n",
       "\t<tr><th></th><th scope=col>&lt;chr&gt;</th><th scope=col>&lt;chr&gt;</th><th scope=col>&lt;int&gt;</th><th scope=col>&lt;int&gt;</th><th scope=col>&lt;int&gt;</th><th scope=col>&lt;int&gt;</th><th scope=col>&lt;int&gt;</th><th scope=col>&lt;int&gt;</th></tr>\n",
       "</thead>\n",
       "<tbody>\n",
       "\t<tr><th scope=row>1</th><td>서울</td><td>종로구</td><td>1</td><td>77</td><td>2</td><td>15</td><td> 79</td><td>14</td></tr>\n",
       "\t<tr><th scope=row>2</th><td>서울</td><td>종로구</td><td>2</td><td>66</td><td>0</td><td>17</td><td> 59</td><td> 8</td></tr>\n",
       "\t<tr><th scope=row>3</th><td>서울</td><td>종로구</td><td>3</td><td>67</td><td>0</td><td>15</td><td> 80</td><td> 2</td></tr>\n",
       "\t<tr><th scope=row>4</th><td>서울</td><td>종로구</td><td>4</td><td>73</td><td>1</td><td>17</td><td> 67</td><td> 6</td></tr>\n",
       "\t<tr><th scope=row>5</th><td>서울</td><td>종로구</td><td>5</td><td>88</td><td>0</td><td>21</td><td>103</td><td>12</td></tr>\n",
       "\t<tr><th scope=row>6</th><td>서울</td><td>종로구</td><td>6</td><td>82</td><td>0</td><td>17</td><td> 78</td><td> 6</td></tr>\n",
       "</tbody>\n",
       "</table>\n"
      ],
      "text/latex": [
       "A data.frame: 6 × 8\n",
       "\\begin{tabular}{r|llllllll}\n",
       "  & 시도 & 시군구 & 발생월 & 사고건수 & 사망자수 & 중상자수 & 경상자수 & 부상신고자수\\\\\n",
       "  & <chr> & <chr> & <int> & <int> & <int> & <int> & <int> & <int>\\\\\n",
       "\\hline\n",
       "\t1 & 서울 & 종로구 & 1 & 77 & 2 & 15 &  79 & 14\\\\\n",
       "\t2 & 서울 & 종로구 & 2 & 66 & 0 & 17 &  59 &  8\\\\\n",
       "\t3 & 서울 & 종로구 & 3 & 67 & 0 & 15 &  80 &  2\\\\\n",
       "\t4 & 서울 & 종로구 & 4 & 73 & 1 & 17 &  67 &  6\\\\\n",
       "\t5 & 서울 & 종로구 & 5 & 88 & 0 & 21 & 103 & 12\\\\\n",
       "\t6 & 서울 & 종로구 & 6 & 82 & 0 & 17 &  78 &  6\\\\\n",
       "\\end{tabular}\n"
      ],
      "text/markdown": [
       "\n",
       "A data.frame: 6 × 8\n",
       "\n",
       "| <!--/--> | 시도 &lt;chr&gt; | 시군구 &lt;chr&gt; | 발생월 &lt;int&gt; | 사고건수 &lt;int&gt; | 사망자수 &lt;int&gt; | 중상자수 &lt;int&gt; | 경상자수 &lt;int&gt; | 부상신고자수 &lt;int&gt; |\n",
       "|---|---|---|---|---|---|---|---|---|\n",
       "| 1 | 서울 | 종로구 | 1 | 77 | 2 | 15 |  79 | 14 |\n",
       "| 2 | 서울 | 종로구 | 2 | 66 | 0 | 17 |  59 |  8 |\n",
       "| 3 | 서울 | 종로구 | 3 | 67 | 0 | 15 |  80 |  2 |\n",
       "| 4 | 서울 | 종로구 | 4 | 73 | 1 | 17 |  67 |  6 |\n",
       "| 5 | 서울 | 종로구 | 5 | 88 | 0 | 21 | 103 | 12 |\n",
       "| 6 | 서울 | 종로구 | 6 | 82 | 0 | 17 |  78 |  6 |\n",
       "\n"
      ],
      "text/plain": [
       "  시도 시군구 발생월 사고건수 사망자수 중상자수 경상자수 부상신고자수\n",
       "1 서울 종로구 1      77       2        15        79      14          \n",
       "2 서울 종로구 2      66       0        17        59       8          \n",
       "3 서울 종로구 3      67       0        15        80       2          \n",
       "4 서울 종로구 4      73       1        17        67       6          \n",
       "5 서울 종로구 5      88       0        21       103      12          \n",
       "6 서울 종로구 6      82       0        17        78       6          "
      ]
     },
     "metadata": {},
     "output_type": "display_data"
    }
   ],
   "source": [
    "seoul <- subset(data, data$`시도` == \"서울\")\n",
    "head(seoul)"
   ]
  },
  {
   "cell_type": "code",
   "execution_count": 83,
   "metadata": {
    "vscode": {
     "languageId": "r"
    }
   },
   "outputs": [
    {
     "data": {
      "text/plain": [
       "\n",
       "강남구 강동구 강북구 강서구 \n",
       "    12     12     12     12 "
      ]
     },
     "metadata": {},
     "output_type": "display_data"
    }
   ],
   "source": [
    "idx <- grep(\"^강\", seoul$`시군구`)\n",
    "river <- seoul[idx, ]\n",
    "table(river$시군구)"
   ]
  },
  {
   "cell_type": "code",
   "execution_count": 84,
   "metadata": {
    "vscode": {
     "languageId": "r"
    }
   },
   "outputs": [
    {
     "name": "stdout",
     "output_type": "stream",
     "text": [
      "강남구 강동구 강북구 강서구    sum \n",
      "  3926   1185    972   1518   7601 \n"
     ]
    }
   ],
   "source": [
    "# 1년 합계\n",
    "\n",
    "result <- tapply(river$`사고건수`, river$`시군구`, sum)\n",
    "print(addmargins(result, FUN = sum))"
   ]
  },
  {
   "cell_type": "code",
   "execution_count": 85,
   "metadata": {
    "vscode": {
     "languageId": "r"
    }
   },
   "outputs": [
    {
     "name": "stdout",
     "output_type": "stream",
     "text": [
      "  강남구   강동구   강북구   강서구     mean \n",
      "327.1667  98.7500  81.0000 126.5000 158.3542 \n"
     ]
    }
   ],
   "source": [
    "\n",
    "result1 <- tapply(river$`사고건수`, river$`시군구`, mean)\n",
    "print(addmargins(result1, FUN = mean))"
   ]
  },
  {
   "cell_type": "code",
   "execution_count": 86,
   "metadata": {
    "vscode": {
     "languageId": "r"
    }
   },
   "outputs": [
    {
     "data": {
      "text/plain": [
       "    사망자수     \n",
       " Min.   :0.0000  \n",
       " 1st Qu.:0.0000  \n",
       " Median :0.0000  \n",
       " Mean   :0.5208  \n",
       " 3rd Qu.:1.0000  \n",
       " Max.   :4.0000  "
      ]
     },
     "metadata": {},
     "output_type": "display_data"
    }
   ],
   "source": [
    "summary(river[5])"
   ]
  },
  {
   "cell_type": "code",
   "execution_count": 87,
   "metadata": {
    "vscode": {
     "languageId": "r"
    }
   },
   "outputs": [
    {
     "data": {
      "text/html": [
       "<table class=\"dataframe\">\n",
       "<caption>A matrix: 2 × 3 of type dbl</caption>\n",
       "<thead>\n",
       "\t<tr><th></th><th scope=col>0.5</th><th scope=col>1</th><th scope=col>2</th></tr>\n",
       "</thead>\n",
       "<tbody>\n",
       "\t<tr><th scope=row>OJ</th><td>13.23</td><td>22.70</td><td>26.06</td></tr>\n",
       "\t<tr><th scope=row>VC</th><td> 7.98</td><td>16.77</td><td>26.14</td></tr>\n",
       "</tbody>\n",
       "</table>\n"
      ],
      "text/latex": [
       "A matrix: 2 × 3 of type dbl\n",
       "\\begin{tabular}{r|lll}\n",
       "  & 0.5 & 1 & 2\\\\\n",
       "\\hline\n",
       "\tOJ & 13.23 & 22.70 & 26.06\\\\\n",
       "\tVC &  7.98 & 16.77 & 26.14\\\\\n",
       "\\end{tabular}\n"
      ],
      "text/markdown": [
       "\n",
       "A matrix: 2 × 3 of type dbl\n",
       "\n",
       "| <!--/--> | 0.5 | 1 | 2 |\n",
       "|---|---|---|---|\n",
       "| OJ | 13.23 | 22.70 | 26.06 |\n",
       "| VC |  7.98 | 16.77 | 26.14 |\n",
       "\n"
      ],
      "text/plain": [
       "   0.5   1     2    \n",
       "OJ 13.23 22.70 26.06\n",
       "VC  7.98 16.77 26.14"
      ]
     },
     "metadata": {},
     "output_type": "display_data"
    }
   ],
   "source": [
    "# with()\n",
    "tapply(ToothGrowth$len, list(ToothGrowth$supp, ToothGrowth$dose), mean)\n"
   ]
  },
  {
   "cell_type": "code",
   "execution_count": 88,
   "metadata": {
    "vscode": {
     "languageId": "r"
    }
   },
   "outputs": [
    {
     "data": {
      "text/html": [
       "<table class=\"dataframe\">\n",
       "<caption>A matrix: 2 × 3 of type dbl</caption>\n",
       "<thead>\n",
       "\t<tr><th></th><th scope=col>0.5</th><th scope=col>1</th><th scope=col>2</th></tr>\n",
       "</thead>\n",
       "<tbody>\n",
       "\t<tr><th scope=row>OJ</th><td>13.23</td><td>22.70</td><td>26.06</td></tr>\n",
       "\t<tr><th scope=row>VC</th><td> 7.98</td><td>16.77</td><td>26.14</td></tr>\n",
       "</tbody>\n",
       "</table>\n"
      ],
      "text/latex": [
       "A matrix: 2 × 3 of type dbl\n",
       "\\begin{tabular}{r|lll}\n",
       "  & 0.5 & 1 & 2\\\\\n",
       "\\hline\n",
       "\tOJ & 13.23 & 22.70 & 26.06\\\\\n",
       "\tVC &  7.98 & 16.77 & 26.14\\\\\n",
       "\\end{tabular}\n"
      ],
      "text/markdown": [
       "\n",
       "A matrix: 2 × 3 of type dbl\n",
       "\n",
       "| <!--/--> | 0.5 | 1 | 2 |\n",
       "|---|---|---|---|\n",
       "| OJ | 13.23 | 22.70 | 26.06 |\n",
       "| VC |  7.98 | 16.77 | 26.14 |\n",
       "\n"
      ],
      "text/plain": [
       "   0.5   1     2    \n",
       "OJ 13.23 22.70 26.06\n",
       "VC  7.98 16.77 26.14"
      ]
     },
     "metadata": {},
     "output_type": "display_data"
    }
   ],
   "source": [
    "with(ToothGrowth, tapply(len, list(supp, dose),  mean))"
   ]
  },
  {
   "cell_type": "code",
   "execution_count": 89,
   "metadata": {
    "vscode": {
     "languageId": "r"
    }
   },
   "outputs": [
    {
     "data": {
      "text/html": [
       "<style>\n",
       ".dl-inline {width: auto; margin:0; padding: 0}\n",
       ".dl-inline>dt, .dl-inline>dd {float: none; width: auto; display: inline-block}\n",
       ".dl-inline>dt::after {content: \":\\0020\"; padding-right: .5ex}\n",
       ".dl-inline>dt:not(:first-of-type) {padding-left: .5ex}\n",
       "</style><dl class=dl-inline><dt>4</dt><dd>26.6636363636364</dd><dt>6</dt><dd>19.7428571428571</dd><dt>8</dt><dd>15.1</dd></dl>\n"
      ],
      "text/latex": [
       "\\begin{description*}\n",
       "\\item[4] 26.6636363636364\n",
       "\\item[6] 19.7428571428571\n",
       "\\item[8] 15.1\n",
       "\\end{description*}\n"
      ],
      "text/markdown": [
       "4\n",
       ":   26.66363636363646\n",
       ":   19.74285714285718\n",
       ":   15.1\n",
       "\n"
      ],
      "text/plain": [
       "       4        6        8 \n",
       "26.66364 19.74286 15.10000 "
      ]
     },
     "metadata": {},
     "output_type": "display_data"
    }
   ],
   "source": [
    "tapply(mtcars$mpg, mtcars$cyl, mean)"
   ]
  },
  {
   "cell_type": "code",
   "execution_count": 90,
   "metadata": {
    "vscode": {
     "languageId": "r"
    }
   },
   "outputs": [
    {
     "data": {
      "text/html": [
       "<style>\n",
       ".dl-inline {width: auto; margin:0; padding: 0}\n",
       ".dl-inline>dt, .dl-inline>dd {float: none; width: auto; display: inline-block}\n",
       ".dl-inline>dt::after {content: \":\\0020\"; padding-right: .5ex}\n",
       ".dl-inline>dt:not(:first-of-type) {padding-left: .5ex}\n",
       "</style><dl class=dl-inline><dt>4</dt><dd>26.6636363636364</dd><dt>6</dt><dd>19.7428571428571</dd><dt>8</dt><dd>15.1</dd></dl>\n"
      ],
      "text/latex": [
       "\\begin{description*}\n",
       "\\item[4] 26.6636363636364\n",
       "\\item[6] 19.7428571428571\n",
       "\\item[8] 15.1\n",
       "\\end{description*}\n"
      ],
      "text/markdown": [
       "4\n",
       ":   26.66363636363646\n",
       ":   19.74285714285718\n",
       ":   15.1\n",
       "\n"
      ],
      "text/plain": [
       "       4        6        8 \n",
       "26.66364 19.74286 15.10000 "
      ]
     },
     "metadata": {},
     "output_type": "display_data"
    }
   ],
   "source": [
    "with(mtcars, tapply(mpg, cyl, mean))"
   ]
  },
  {
   "cell_type": "code",
   "execution_count": 91,
   "metadata": {
    "vscode": {
     "languageId": "r"
    }
   },
   "outputs": [
    {
     "data": {
      "text/html": [
       "<table class=\"dataframe\">\n",
       "<caption>A matrix: 3 × 22 of type dbl</caption>\n",
       "<thead>\n",
       "\t<tr><th></th><th scope=col>52</th><th scope=col>62</th><th scope=col>65</th><th scope=col>66</th><th scope=col>91</th><th scope=col>93</th><th scope=col>95</th><th scope=col>97</th><th scope=col>105</th><th scope=col>109</th><th scope=col>⋯</th><th scope=col>123</th><th scope=col>150</th><th scope=col>175</th><th scope=col>180</th><th scope=col>205</th><th scope=col>215</th><th scope=col>230</th><th scope=col>245</th><th scope=col>264</th><th scope=col>335</th></tr>\n",
       "</thead>\n",
       "<tbody>\n",
       "\t<tr><th scope=row>4</th><td>30.4</td><td>24.4</td><td>33.9</td><td>29.85</td><td>26</td><td>22.8</td><td>22.8</td><td>21.5</td><td>  NA</td><td>21.4</td><td>⋯</td><td>  NA</td><td>   NA</td><td>   NA</td><td>  NA</td><td>  NA</td><td>  NA</td><td>  NA</td><td>  NA</td><td>  NA</td><td>NA</td></tr>\n",
       "\t<tr><th scope=row>6</th><td>  NA</td><td>  NA</td><td>  NA</td><td>   NA</td><td>NA</td><td>  NA</td><td>  NA</td><td>  NA</td><td>18.1</td><td>  NA</td><td>⋯</td><td>18.5</td><td>   NA</td><td>19.70</td><td>  NA</td><td>  NA</td><td>  NA</td><td>  NA</td><td>  NA</td><td>  NA</td><td>NA</td></tr>\n",
       "\t<tr><th scope=row>8</th><td>  NA</td><td>  NA</td><td>  NA</td><td>   NA</td><td>NA</td><td>  NA</td><td>  NA</td><td>  NA</td><td>  NA</td><td>  NA</td><td>⋯</td><td>  NA</td><td>15.35</td><td>18.95</td><td>16.3</td><td>10.4</td><td>10.4</td><td>14.7</td><td>13.8</td><td>15.8</td><td>15</td></tr>\n",
       "</tbody>\n",
       "</table>\n"
      ],
      "text/latex": [
       "A matrix: 3 × 22 of type dbl\n",
       "\\begin{tabular}{r|lllllllllllllllllllll}\n",
       "  & 52 & 62 & 65 & 66 & 91 & 93 & 95 & 97 & 105 & 109 & ⋯ & 123 & 150 & 175 & 180 & 205 & 215 & 230 & 245 & 264 & 335\\\\\n",
       "\\hline\n",
       "\t4 & 30.4 & 24.4 & 33.9 & 29.85 & 26 & 22.8 & 22.8 & 21.5 &   NA & 21.4 & ⋯ &   NA &    NA &    NA &   NA &   NA &   NA &   NA &   NA &   NA & NA\\\\\n",
       "\t6 &   NA &   NA &   NA &    NA & NA &   NA &   NA &   NA & 18.1 &   NA & ⋯ & 18.5 &    NA & 19.70 &   NA &   NA &   NA &   NA &   NA &   NA & NA\\\\\n",
       "\t8 &   NA &   NA &   NA &    NA & NA &   NA &   NA &   NA &   NA &   NA & ⋯ &   NA & 15.35 & 18.95 & 16.3 & 10.4 & 10.4 & 14.7 & 13.8 & 15.8 & 15\\\\\n",
       "\\end{tabular}\n"
      ],
      "text/markdown": [
       "\n",
       "A matrix: 3 × 22 of type dbl\n",
       "\n",
       "| <!--/--> | 52 | 62 | 65 | 66 | 91 | 93 | 95 | 97 | 105 | 109 | ⋯ | 123 | 150 | 175 | 180 | 205 | 215 | 230 | 245 | 264 | 335 |\n",
       "|---|---|---|---|---|---|---|---|---|---|---|---|---|---|---|---|---|---|---|---|---|---|\n",
       "| 4 | 30.4 | 24.4 | 33.9 | 29.85 | 26 | 22.8 | 22.8 | 21.5 |   NA | 21.4 | ⋯ |   NA |    NA |    NA |   NA |   NA |   NA |   NA |   NA |   NA | NA |\n",
       "| 6 |   NA |   NA |   NA |    NA | NA |   NA |   NA |   NA | 18.1 |   NA | ⋯ | 18.5 |    NA | 19.70 |   NA |   NA |   NA |   NA |   NA |   NA | NA |\n",
       "| 8 |   NA |   NA |   NA |    NA | NA |   NA |   NA |   NA |   NA |   NA | ⋯ |   NA | 15.35 | 18.95 | 16.3 | 10.4 | 10.4 | 14.7 | 13.8 | 15.8 | 15 |\n",
       "\n"
      ],
      "text/plain": [
       "  52   62   65   66    91 93   95   97   105  109  ⋯ 123  150   175   180  205 \n",
       "4 30.4 24.4 33.9 29.85 26 22.8 22.8 21.5   NA 21.4 ⋯   NA    NA    NA   NA   NA\n",
       "6   NA   NA   NA    NA NA   NA   NA   NA 18.1   NA ⋯ 18.5    NA 19.70   NA   NA\n",
       "8   NA   NA   NA    NA NA   NA   NA   NA   NA   NA ⋯   NA 15.35 18.95 16.3 10.4\n",
       "  215  230  245  264  335\n",
       "4   NA   NA   NA   NA NA \n",
       "6   NA   NA   NA   NA NA \n",
       "8 10.4 14.7 13.8 15.8 15 "
      ]
     },
     "metadata": {},
     "output_type": "display_data"
    }
   ],
   "source": [
    "tapply(mtcars$mpg, list(mtcars$cyl, mtcars$hp), mean)"
   ]
  },
  {
   "cell_type": "markdown",
   "metadata": {},
   "source": [
    "## doBy 라이브러리"
   ]
  },
  {
   "cell_type": "code",
   "execution_count": 97,
   "metadata": {
    "vscode": {
     "languageId": "r"
    }
   },
   "outputs": [],
   "source": [
    "library(doBy)"
   ]
  },
  {
   "cell_type": "code",
   "execution_count": 101,
   "metadata": {
    "vscode": {
     "languageId": "r"
    }
   },
   "outputs": [
    {
     "data": {
      "text/html": [
       "<table class=\"dataframe\">\n",
       "<caption>A data.frame: 2 × 2</caption>\n",
       "<thead>\n",
       "\t<tr><th></th><th scope=col>supp</th><th scope=col>len.mean</th></tr>\n",
       "\t<tr><th></th><th scope=col>&lt;fct&gt;</th><th scope=col>&lt;dbl&gt;</th></tr>\n",
       "</thead>\n",
       "<tbody>\n",
       "\t<tr><th scope=row>1</th><td>OJ</td><td>20.66333</td></tr>\n",
       "\t<tr><th scope=row>2</th><td>VC</td><td>16.96333</td></tr>\n",
       "</tbody>\n",
       "</table>\n"
      ],
      "text/latex": [
       "A data.frame: 2 × 2\n",
       "\\begin{tabular}{r|ll}\n",
       "  & supp & len.mean\\\\\n",
       "  & <fct> & <dbl>\\\\\n",
       "\\hline\n",
       "\t1 & OJ & 20.66333\\\\\n",
       "\t2 & VC & 16.96333\\\\\n",
       "\\end{tabular}\n"
      ],
      "text/markdown": [
       "\n",
       "A data.frame: 2 × 2\n",
       "\n",
       "| <!--/--> | supp &lt;fct&gt; | len.mean &lt;dbl&gt; |\n",
       "|---|---|---|\n",
       "| 1 | OJ | 20.66333 |\n",
       "| 2 | VC | 16.96333 |\n",
       "\n"
      ],
      "text/plain": [
       "  supp len.mean\n",
       "1 OJ   20.66333\n",
       "2 VC   16.96333"
      ]
     },
     "metadata": {},
     "output_type": "display_data"
    }
   ],
   "source": [
    "result <- summaryBy(len ~ supp, data=ToothGrowth, FUN=mean)\n",
    "\n",
    "result"
   ]
  },
  {
   "cell_type": "code",
   "execution_count": 102,
   "metadata": {
    "vscode": {
     "languageId": "r"
    }
   },
   "outputs": [
    {
     "data": {
      "text/html": [
       "<table class=\"dataframe\">\n",
       "<caption>A data.frame: 6 × 3</caption>\n",
       "<thead>\n",
       "\t<tr><th></th><th scope=col>am</th><th scope=col>cyl</th><th scope=col>mpg.mean</th></tr>\n",
       "\t<tr><th></th><th scope=col>&lt;dbl&gt;</th><th scope=col>&lt;dbl&gt;</th><th scope=col>&lt;dbl&gt;</th></tr>\n",
       "</thead>\n",
       "<tbody>\n",
       "\t<tr><th scope=row>1</th><td>0</td><td>4</td><td>22.90000</td></tr>\n",
       "\t<tr><th scope=row>2</th><td>0</td><td>6</td><td>19.12500</td></tr>\n",
       "\t<tr><th scope=row>3</th><td>0</td><td>8</td><td>15.05000</td></tr>\n",
       "\t<tr><th scope=row>4</th><td>1</td><td>4</td><td>28.07500</td></tr>\n",
       "\t<tr><th scope=row>5</th><td>1</td><td>6</td><td>20.56667</td></tr>\n",
       "\t<tr><th scope=row>6</th><td>1</td><td>8</td><td>15.40000</td></tr>\n",
       "</tbody>\n",
       "</table>\n"
      ],
      "text/latex": [
       "A data.frame: 6 × 3\n",
       "\\begin{tabular}{r|lll}\n",
       "  & am & cyl & mpg.mean\\\\\n",
       "  & <dbl> & <dbl> & <dbl>\\\\\n",
       "\\hline\n",
       "\t1 & 0 & 4 & 22.90000\\\\\n",
       "\t2 & 0 & 6 & 19.12500\\\\\n",
       "\t3 & 0 & 8 & 15.05000\\\\\n",
       "\t4 & 1 & 4 & 28.07500\\\\\n",
       "\t5 & 1 & 6 & 20.56667\\\\\n",
       "\t6 & 1 & 8 & 15.40000\\\\\n",
       "\\end{tabular}\n"
      ],
      "text/markdown": [
       "\n",
       "A data.frame: 6 × 3\n",
       "\n",
       "| <!--/--> | am &lt;dbl&gt; | cyl &lt;dbl&gt; | mpg.mean &lt;dbl&gt; |\n",
       "|---|---|---|---|\n",
       "| 1 | 0 | 4 | 22.90000 |\n",
       "| 2 | 0 | 6 | 19.12500 |\n",
       "| 3 | 0 | 8 | 15.05000 |\n",
       "| 4 | 1 | 4 | 28.07500 |\n",
       "| 5 | 1 | 6 | 20.56667 |\n",
       "| 6 | 1 | 8 | 15.40000 |\n",
       "\n"
      ],
      "text/plain": [
       "  am cyl mpg.mean\n",
       "1 0  4   22.90000\n",
       "2 0  6   19.12500\n",
       "3 0  8   15.05000\n",
       "4 1  4   28.07500\n",
       "5 1  6   20.56667\n",
       "6 1  8   15.40000"
      ]
     },
     "metadata": {},
     "output_type": "display_data"
    }
   ],
   "source": [
    "summaryBy(mpg ~ am+cyl, data=mtcars, FUN=mean)"
   ]
  },
  {
   "cell_type": "code",
   "execution_count": 104,
   "metadata": {
    "vscode": {
     "languageId": "r"
    }
   },
   "outputs": [
    {
     "data": {
      "text/html": [
       "<table class=\"dataframe\">\n",
       "<caption>A data.frame: 2 × 4</caption>\n",
       "<thead>\n",
       "\t<tr><th></th><th scope=col>supp</th><th scope=col>len.min</th><th scope=col>len.mean</th><th scope=col>len.max</th></tr>\n",
       "\t<tr><th></th><th scope=col>&lt;fct&gt;</th><th scope=col>&lt;dbl&gt;</th><th scope=col>&lt;dbl&gt;</th><th scope=col>&lt;dbl&gt;</th></tr>\n",
       "</thead>\n",
       "<tbody>\n",
       "\t<tr><th scope=row>1</th><td>OJ</td><td>8.2</td><td>20.66333</td><td>30.9</td></tr>\n",
       "\t<tr><th scope=row>2</th><td>VC</td><td>4.2</td><td>16.96333</td><td>33.9</td></tr>\n",
       "</tbody>\n",
       "</table>\n"
      ],
      "text/latex": [
       "A data.frame: 2 × 4\n",
       "\\begin{tabular}{r|llll}\n",
       "  & supp & len.min & len.mean & len.max\\\\\n",
       "  & <fct> & <dbl> & <dbl> & <dbl>\\\\\n",
       "\\hline\n",
       "\t1 & OJ & 8.2 & 20.66333 & 30.9\\\\\n",
       "\t2 & VC & 4.2 & 16.96333 & 33.9\\\\\n",
       "\\end{tabular}\n"
      ],
      "text/markdown": [
       "\n",
       "A data.frame: 2 × 4\n",
       "\n",
       "| <!--/--> | supp &lt;fct&gt; | len.min &lt;dbl&gt; | len.mean &lt;dbl&gt; | len.max &lt;dbl&gt; |\n",
       "|---|---|---|---|---|\n",
       "| 1 | OJ | 8.2 | 20.66333 | 30.9 |\n",
       "| 2 | VC | 4.2 | 16.96333 | 33.9 |\n",
       "\n"
      ],
      "text/plain": [
       "  supp len.min len.mean len.max\n",
       "1 OJ   8.2     20.66333 30.9   \n",
       "2 VC   4.2     16.96333 33.9   "
      ]
     },
     "metadata": {},
     "output_type": "display_data"
    }
   ],
   "source": [
    "result <- summaryBy(len ~ supp, data=ToothGrowth, FUN=c(min,mean,max))\n",
    "result"
   ]
  },
  {
   "cell_type": "code",
   "execution_count": 105,
   "metadata": {
    "vscode": {
     "languageId": "r"
    }
   },
   "outputs": [
    {
     "data": {
      "text/html": [
       "<table class=\"dataframe\">\n",
       "<caption>A data.frame: 6 × 5</caption>\n",
       "<thead>\n",
       "\t<tr><th></th><th scope=col>dose</th><th scope=col>supp</th><th scope=col>len.min</th><th scope=col>len.mean</th><th scope=col>len.max</th></tr>\n",
       "\t<tr><th></th><th scope=col>&lt;dbl&gt;</th><th scope=col>&lt;fct&gt;</th><th scope=col>&lt;dbl&gt;</th><th scope=col>&lt;dbl&gt;</th><th scope=col>&lt;dbl&gt;</th></tr>\n",
       "</thead>\n",
       "<tbody>\n",
       "\t<tr><th scope=row>1</th><td>0.5</td><td>OJ</td><td> 8.2</td><td>13.23</td><td>21.5</td></tr>\n",
       "\t<tr><th scope=row>2</th><td>0.5</td><td>VC</td><td> 4.2</td><td> 7.98</td><td>11.5</td></tr>\n",
       "\t<tr><th scope=row>3</th><td>1.0</td><td>OJ</td><td>14.5</td><td>22.70</td><td>27.3</td></tr>\n",
       "\t<tr><th scope=row>4</th><td>1.0</td><td>VC</td><td>13.6</td><td>16.77</td><td>22.5</td></tr>\n",
       "\t<tr><th scope=row>5</th><td>2.0</td><td>OJ</td><td>22.4</td><td>26.06</td><td>30.9</td></tr>\n",
       "\t<tr><th scope=row>6</th><td>2.0</td><td>VC</td><td>18.5</td><td>26.14</td><td>33.9</td></tr>\n",
       "</tbody>\n",
       "</table>\n"
      ],
      "text/latex": [
       "A data.frame: 6 × 5\n",
       "\\begin{tabular}{r|lllll}\n",
       "  & dose & supp & len.min & len.mean & len.max\\\\\n",
       "  & <dbl> & <fct> & <dbl> & <dbl> & <dbl>\\\\\n",
       "\\hline\n",
       "\t1 & 0.5 & OJ &  8.2 & 13.23 & 21.5\\\\\n",
       "\t2 & 0.5 & VC &  4.2 &  7.98 & 11.5\\\\\n",
       "\t3 & 1.0 & OJ & 14.5 & 22.70 & 27.3\\\\\n",
       "\t4 & 1.0 & VC & 13.6 & 16.77 & 22.5\\\\\n",
       "\t5 & 2.0 & OJ & 22.4 & 26.06 & 30.9\\\\\n",
       "\t6 & 2.0 & VC & 18.5 & 26.14 & 33.9\\\\\n",
       "\\end{tabular}\n"
      ],
      "text/markdown": [
       "\n",
       "A data.frame: 6 × 5\n",
       "\n",
       "| <!--/--> | dose &lt;dbl&gt; | supp &lt;fct&gt; | len.min &lt;dbl&gt; | len.mean &lt;dbl&gt; | len.max &lt;dbl&gt; |\n",
       "|---|---|---|---|---|---|\n",
       "| 1 | 0.5 | OJ |  8.2 | 13.23 | 21.5 |\n",
       "| 2 | 0.5 | VC |  4.2 |  7.98 | 11.5 |\n",
       "| 3 | 1.0 | OJ | 14.5 | 22.70 | 27.3 |\n",
       "| 4 | 1.0 | VC | 13.6 | 16.77 | 22.5 |\n",
       "| 5 | 2.0 | OJ | 22.4 | 26.06 | 30.9 |\n",
       "| 6 | 2.0 | VC | 18.5 | 26.14 | 33.9 |\n",
       "\n"
      ],
      "text/plain": [
       "  dose supp len.min len.mean len.max\n",
       "1 0.5  OJ    8.2    13.23    21.5   \n",
       "2 0.5  VC    4.2     7.98    11.5   \n",
       "3 1.0  OJ   14.5    22.70    27.3   \n",
       "4 1.0  VC   13.6    16.77    22.5   \n",
       "5 2.0  OJ   22.4    26.06    30.9   \n",
       "6 2.0  VC   18.5    26.14    33.9   "
      ]
     },
     "metadata": {},
     "output_type": "display_data"
    }
   ],
   "source": [
    "result <- summaryBy(len ~ dose+supp, data=ToothGrowth, FUN=c(min,mean,max))\n",
    "result"
   ]
  },
  {
   "cell_type": "code",
   "execution_count": 107,
   "metadata": {
    "vscode": {
     "languageId": "r"
    }
   },
   "outputs": [
    {
     "data": {
      "text/html": [
       "<table class=\"dataframe\">\n",
       "<caption>A data.frame: 6 × 5</caption>\n",
       "<thead>\n",
       "\t<tr><th></th><th scope=col>am</th><th scope=col>cyl</th><th scope=col>mpg.min</th><th scope=col>mpg.mean</th><th scope=col>mpg.max</th></tr>\n",
       "\t<tr><th></th><th scope=col>&lt;dbl&gt;</th><th scope=col>&lt;dbl&gt;</th><th scope=col>&lt;dbl&gt;</th><th scope=col>&lt;dbl&gt;</th><th scope=col>&lt;dbl&gt;</th></tr>\n",
       "</thead>\n",
       "<tbody>\n",
       "\t<tr><th scope=row>1</th><td>0</td><td>4</td><td>21.5</td><td>22.90000</td><td>24.4</td></tr>\n",
       "\t<tr><th scope=row>2</th><td>0</td><td>6</td><td>17.8</td><td>19.12500</td><td>21.4</td></tr>\n",
       "\t<tr><th scope=row>3</th><td>0</td><td>8</td><td>10.4</td><td>15.05000</td><td>19.2</td></tr>\n",
       "\t<tr><th scope=row>4</th><td>1</td><td>4</td><td>21.4</td><td>28.07500</td><td>33.9</td></tr>\n",
       "\t<tr><th scope=row>5</th><td>1</td><td>6</td><td>19.7</td><td>20.56667</td><td>21.0</td></tr>\n",
       "\t<tr><th scope=row>6</th><td>1</td><td>8</td><td>15.0</td><td>15.40000</td><td>15.8</td></tr>\n",
       "</tbody>\n",
       "</table>\n"
      ],
      "text/latex": [
       "A data.frame: 6 × 5\n",
       "\\begin{tabular}{r|lllll}\n",
       "  & am & cyl & mpg.min & mpg.mean & mpg.max\\\\\n",
       "  & <dbl> & <dbl> & <dbl> & <dbl> & <dbl>\\\\\n",
       "\\hline\n",
       "\t1 & 0 & 4 & 21.5 & 22.90000 & 24.4\\\\\n",
       "\t2 & 0 & 6 & 17.8 & 19.12500 & 21.4\\\\\n",
       "\t3 & 0 & 8 & 10.4 & 15.05000 & 19.2\\\\\n",
       "\t4 & 1 & 4 & 21.4 & 28.07500 & 33.9\\\\\n",
       "\t5 & 1 & 6 & 19.7 & 20.56667 & 21.0\\\\\n",
       "\t6 & 1 & 8 & 15.0 & 15.40000 & 15.8\\\\\n",
       "\\end{tabular}\n"
      ],
      "text/markdown": [
       "\n",
       "A data.frame: 6 × 5\n",
       "\n",
       "| <!--/--> | am &lt;dbl&gt; | cyl &lt;dbl&gt; | mpg.min &lt;dbl&gt; | mpg.mean &lt;dbl&gt; | mpg.max &lt;dbl&gt; |\n",
       "|---|---|---|---|---|---|\n",
       "| 1 | 0 | 4 | 21.5 | 22.90000 | 24.4 |\n",
       "| 2 | 0 | 6 | 17.8 | 19.12500 | 21.4 |\n",
       "| 3 | 0 | 8 | 10.4 | 15.05000 | 19.2 |\n",
       "| 4 | 1 | 4 | 21.4 | 28.07500 | 33.9 |\n",
       "| 5 | 1 | 6 | 19.7 | 20.56667 | 21.0 |\n",
       "| 6 | 1 | 8 | 15.0 | 15.40000 | 15.8 |\n",
       "\n"
      ],
      "text/plain": [
       "  am cyl mpg.min mpg.mean mpg.max\n",
       "1 0  4   21.5    22.90000 24.4   \n",
       "2 0  6   17.8    19.12500 21.4   \n",
       "3 0  8   10.4    15.05000 19.2   \n",
       "4 1  4   21.4    28.07500 33.9   \n",
       "5 1  6   19.7    20.56667 21.0   \n",
       "6 1  8   15.0    15.40000 15.8   "
      ]
     },
     "metadata": {},
     "output_type": "display_data"
    }
   ],
   "source": [
    "summaryBy(mpg ~ am+cyl, data=mtcars, FUN=c(min,mean,max))"
   ]
  },
  {
   "cell_type": "code",
   "execution_count": 109,
   "metadata": {
    "vscode": {
     "languageId": "r"
    }
   },
   "outputs": [
    {
     "data": {
      "text/html": [
       "<table class=\"dataframe\">\n",
       "<caption>A data.frame: 6 × 6</caption>\n",
       "<thead>\n",
       "\t<tr><th></th><th scope=col>am</th><th scope=col>cyl</th><th scope=col>mpg.length</th><th scope=col>mpg.min</th><th scope=col>mpg.mean</th><th scope=col>mpg.max</th></tr>\n",
       "\t<tr><th></th><th scope=col>&lt;dbl&gt;</th><th scope=col>&lt;dbl&gt;</th><th scope=col>&lt;dbl&gt;</th><th scope=col>&lt;dbl&gt;</th><th scope=col>&lt;dbl&gt;</th><th scope=col>&lt;dbl&gt;</th></tr>\n",
       "</thead>\n",
       "<tbody>\n",
       "\t<tr><th scope=row>1</th><td>0</td><td>4</td><td> 3</td><td>21.5</td><td>22.90000</td><td>24.4</td></tr>\n",
       "\t<tr><th scope=row>2</th><td>0</td><td>6</td><td> 4</td><td>17.8</td><td>19.12500</td><td>21.4</td></tr>\n",
       "\t<tr><th scope=row>3</th><td>0</td><td>8</td><td>12</td><td>10.4</td><td>15.05000</td><td>19.2</td></tr>\n",
       "\t<tr><th scope=row>4</th><td>1</td><td>4</td><td> 8</td><td>21.4</td><td>28.07500</td><td>33.9</td></tr>\n",
       "\t<tr><th scope=row>5</th><td>1</td><td>6</td><td> 3</td><td>19.7</td><td>20.56667</td><td>21.0</td></tr>\n",
       "\t<tr><th scope=row>6</th><td>1</td><td>8</td><td> 2</td><td>15.0</td><td>15.40000</td><td>15.8</td></tr>\n",
       "</tbody>\n",
       "</table>\n"
      ],
      "text/latex": [
       "A data.frame: 6 × 6\n",
       "\\begin{tabular}{r|llllll}\n",
       "  & am & cyl & mpg.length & mpg.min & mpg.mean & mpg.max\\\\\n",
       "  & <dbl> & <dbl> & <dbl> & <dbl> & <dbl> & <dbl>\\\\\n",
       "\\hline\n",
       "\t1 & 0 & 4 &  3 & 21.5 & 22.90000 & 24.4\\\\\n",
       "\t2 & 0 & 6 &  4 & 17.8 & 19.12500 & 21.4\\\\\n",
       "\t3 & 0 & 8 & 12 & 10.4 & 15.05000 & 19.2\\\\\n",
       "\t4 & 1 & 4 &  8 & 21.4 & 28.07500 & 33.9\\\\\n",
       "\t5 & 1 & 6 &  3 & 19.7 & 20.56667 & 21.0\\\\\n",
       "\t6 & 1 & 8 &  2 & 15.0 & 15.40000 & 15.8\\\\\n",
       "\\end{tabular}\n"
      ],
      "text/markdown": [
       "\n",
       "A data.frame: 6 × 6\n",
       "\n",
       "| <!--/--> | am &lt;dbl&gt; | cyl &lt;dbl&gt; | mpg.length &lt;dbl&gt; | mpg.min &lt;dbl&gt; | mpg.mean &lt;dbl&gt; | mpg.max &lt;dbl&gt; |\n",
       "|---|---|---|---|---|---|---|\n",
       "| 1 | 0 | 4 |  3 | 21.5 | 22.90000 | 24.4 |\n",
       "| 2 | 0 | 6 |  4 | 17.8 | 19.12500 | 21.4 |\n",
       "| 3 | 0 | 8 | 12 | 10.4 | 15.05000 | 19.2 |\n",
       "| 4 | 1 | 4 |  8 | 21.4 | 28.07500 | 33.9 |\n",
       "| 5 | 1 | 6 |  3 | 19.7 | 20.56667 | 21.0 |\n",
       "| 6 | 1 | 8 |  2 | 15.0 | 15.40000 | 15.8 |\n",
       "\n"
      ],
      "text/plain": [
       "  am cyl mpg.length mpg.min mpg.mean mpg.max\n",
       "1 0  4    3         21.5    22.90000 24.4   \n",
       "2 0  6    4         17.8    19.12500 21.4   \n",
       "3 0  8   12         10.4    15.05000 19.2   \n",
       "4 1  4    8         21.4    28.07500 33.9   \n",
       "5 1  6    3         19.7    20.56667 21.0   \n",
       "6 1  8    2         15.0    15.40000 15.8   "
      ]
     },
     "metadata": {},
     "output_type": "display_data"
    }
   ],
   "source": [
    "summaryBy(mpg ~ am+cyl, data=mtcars, FUN=c(length,min,mean,max))"
   ]
  },
  {
   "cell_type": "code",
   "execution_count": 115,
   "metadata": {
    "vscode": {
     "languageId": "r"
    }
   },
   "outputs": [
    {
     "data": {
      "text/html": [
       "<table class=\"dataframe\">\n",
       "<caption>A tibble: 6 × 10</caption>\n",
       "<thead>\n",
       "\t<tr><th scope=col>측정일시</th><th scope=col>측정소명</th><th scope=col>이산화질소농도</th><th scope=col>오존농도</th><th scope=col>일산화탄소농도</th><th scope=col>아황산가스농도</th><th scope=col>미세먼지농도</th><th scope=col>초미세먼지농도</th><th scope=col>월</th><th scope=col>일</th></tr>\n",
       "\t<tr><th scope=col>&lt;dbl&gt;</th><th scope=col>&lt;chr&gt;</th><th scope=col>&lt;dbl&gt;</th><th scope=col>&lt;dbl&gt;</th><th scope=col>&lt;dbl&gt;</th><th scope=col>&lt;dbl&gt;</th><th scope=col>&lt;dbl&gt;</th><th scope=col>&lt;dbl&gt;</th><th scope=col>&lt;chr&gt;</th><th scope=col>&lt;chr&gt;</th></tr>\n",
       "</thead>\n",
       "<tbody>\n",
       "\t<tr><td>20231231</td><td>항동        </td><td>0.0251</td><td>0.0169</td><td>0.77</td><td>0.0028</td><td>21</td><td>17</td><td>12</td><td>31</td></tr>\n",
       "\t<tr><td>20231231</td><td>행주        </td><td>0.0167</td><td>0.0257</td><td>0.68</td><td>0.0026</td><td>25</td><td>16</td><td>12</td><td>31</td></tr>\n",
       "\t<tr><td>20231231</td><td>마포아트센터</td><td>0.0266</td><td>0.0187</td><td>0.68</td><td>0.0029</td><td>26</td><td>20</td><td>12</td><td>31</td></tr>\n",
       "\t<tr><td>20231231</td><td>서울숲      </td><td>0.0207</td><td>0.0159</td><td>0.91</td><td>0.0024</td><td>23</td><td>16</td><td>12</td><td>31</td></tr>\n",
       "\t<tr><td>20231231</td><td>올림픽공원  </td><td>0.0245</td><td>0.0121</td><td>0.93</td><td>0.0024</td><td>19</td><td>18</td><td>12</td><td>31</td></tr>\n",
       "\t<tr><td>20231231</td><td>자연사박물관</td><td>0.0251</td><td>0.0199</td><td>0.89</td><td>0.0026</td><td>19</td><td>15</td><td>12</td><td>31</td></tr>\n",
       "</tbody>\n",
       "</table>\n"
      ],
      "text/latex": [
       "A tibble: 6 × 10\n",
       "\\begin{tabular}{llllllllll}\n",
       " 측정일시 & 측정소명 & 이산화질소농도 & 오존농도 & 일산화탄소농도 & 아황산가스농도 & 미세먼지농도 & 초미세먼지농도 & 월 & 일\\\\\n",
       " <dbl> & <chr> & <dbl> & <dbl> & <dbl> & <dbl> & <dbl> & <dbl> & <chr> & <chr>\\\\\n",
       "\\hline\n",
       "\t 20231231 & 항동         & 0.0251 & 0.0169 & 0.77 & 0.0028 & 21 & 17 & 12 & 31\\\\\n",
       "\t 20231231 & 행주         & 0.0167 & 0.0257 & 0.68 & 0.0026 & 25 & 16 & 12 & 31\\\\\n",
       "\t 20231231 & 마포아트센터 & 0.0266 & 0.0187 & 0.68 & 0.0029 & 26 & 20 & 12 & 31\\\\\n",
       "\t 20231231 & 서울숲       & 0.0207 & 0.0159 & 0.91 & 0.0024 & 23 & 16 & 12 & 31\\\\\n",
       "\t 20231231 & 올림픽공원   & 0.0245 & 0.0121 & 0.93 & 0.0024 & 19 & 18 & 12 & 31\\\\\n",
       "\t 20231231 & 자연사박물관 & 0.0251 & 0.0199 & 0.89 & 0.0026 & 19 & 15 & 12 & 31\\\\\n",
       "\\end{tabular}\n"
      ],
      "text/markdown": [
       "\n",
       "A tibble: 6 × 10\n",
       "\n",
       "| 측정일시 &lt;dbl&gt; | 측정소명 &lt;chr&gt; | 이산화질소농도 &lt;dbl&gt; | 오존농도 &lt;dbl&gt; | 일산화탄소농도 &lt;dbl&gt; | 아황산가스농도 &lt;dbl&gt; | 미세먼지농도 &lt;dbl&gt; | 초미세먼지농도 &lt;dbl&gt; | 월 &lt;chr&gt; | 일 &lt;chr&gt; |\n",
       "|---|---|---|---|---|---|---|---|---|---|\n",
       "| 20231231 | 항동         | 0.0251 | 0.0169 | 0.77 | 0.0028 | 21 | 17 | 12 | 31 |\n",
       "| 20231231 | 행주         | 0.0167 | 0.0257 | 0.68 | 0.0026 | 25 | 16 | 12 | 31 |\n",
       "| 20231231 | 마포아트센터 | 0.0266 | 0.0187 | 0.68 | 0.0029 | 26 | 20 | 12 | 31 |\n",
       "| 20231231 | 서울숲       | 0.0207 | 0.0159 | 0.91 | 0.0024 | 23 | 16 | 12 | 31 |\n",
       "| 20231231 | 올림픽공원   | 0.0245 | 0.0121 | 0.93 | 0.0024 | 19 | 18 | 12 | 31 |\n",
       "| 20231231 | 자연사박물관 | 0.0251 | 0.0199 | 0.89 | 0.0026 | 19 | 15 | 12 | 31 |\n",
       "\n"
      ],
      "text/plain": [
       "  측정일시 측정소명     이산화질소농도 오존농도 일산화탄소농도 아황산가스농도\n",
       "1 20231231 항동         0.0251         0.0169   0.77           0.0028        \n",
       "2 20231231 행주         0.0167         0.0257   0.68           0.0026        \n",
       "3 20231231 마포아트센터 0.0266         0.0187   0.68           0.0029        \n",
       "4 20231231 서울숲       0.0207         0.0159   0.91           0.0024        \n",
       "5 20231231 올림픽공원   0.0245         0.0121   0.93           0.0024        \n",
       "6 20231231 자연사박물관 0.0251         0.0199   0.89           0.0026        \n",
       "  미세먼지농도 초미세먼지농도 월 일\n",
       "1 21           17             12 31\n",
       "2 25           16             12 31\n",
       "3 26           20             12 31\n",
       "4 23           16             12 31\n",
       "5 19           18             12 31\n",
       "6 19           15             12 31"
      ]
     },
     "metadata": {},
     "output_type": "display_data"
    }
   ],
   "source": [
    "library(readxl)\n",
    "\n",
    "data <- read_xlsx(\"../mydata/일별평균대기오염도_2023.xlsx\")\n",
    "tail(data)"
   ]
  },
  {
   "cell_type": "markdown",
   "metadata": {},
   "source": [
    "## -> 다음시간에는 dplyr부터 "
   ]
  }
 ],
 "metadata": {
  "kernelspec": {
   "display_name": "R",
   "language": "R",
   "name": "ir"
  },
  "language_info": {
   "codemirror_mode": "r",
   "file_extension": ".r",
   "mimetype": "text/x-r-source",
   "name": "R",
   "pygments_lexer": "r",
   "version": "4.3.1"
  }
 },
 "nbformat": 4,
 "nbformat_minor": 2
}
