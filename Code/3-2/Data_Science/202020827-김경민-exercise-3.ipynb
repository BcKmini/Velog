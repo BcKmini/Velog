{
 "cells": [
  {
   "cell_type": "code",
   "execution_count": 1,
   "metadata": {
    "vscode": {
     "languageId": "r"
    }
   },
   "outputs": [],
   "source": [
    "# 1번\n",
    "myO <- Orange"
   ]
  },
  {
   "cell_type": "code",
   "execution_count": 2,
   "metadata": {
    "vscode": {
     "languageId": "r"
    }
   },
   "outputs": [
    {
     "name": "stdout",
     "output_type": "stream",
     "text": [
      "Classes ‘nfnGroupedData’, ‘nfGroupedData’, ‘groupedData’ and 'data.frame':\t35 obs. of  3 variables:\n",
      " $ Tree         : Ord.factor w/ 5 levels \"3\"<\"1\"<\"5\"<\"2\"<..: 2 2 2 2 2 2 2 4 4 4 ...\n",
      " $ age          : num  118 484 664 1004 1231 ...\n",
      " $ circumference: num  30 58 87 115 120 142 145 33 69 111 ...\n",
      " - attr(*, \"formula\")=Class 'formula'  language circumference ~ age | Tree\n",
      "  .. ..- attr(*, \".Environment\")=<environment: R_EmptyEnv> \n",
      " - attr(*, \"labels\")=List of 2\n",
      "  ..$ x: chr \"Time since December 31, 1968\"\n",
      "  ..$ y: chr \"Trunk circumference\"\n",
      " - attr(*, \"units\")=List of 2\n",
      "  ..$ x: chr \"(days)\"\n",
      "  ..$ y: chr \"(mm)\"\n"
     ]
    }
   ],
   "source": [
    "# 2번\n",
    "str(myO)"
   ]
  },
  {
   "cell_type": "code",
   "execution_count": 3,
   "metadata": {
    "vscode": {
     "languageId": "r"
    }
   },
   "outputs": [
    {
     "name": "stdout",
     "output_type": "stream",
     "text": [
      "   Tree  age circumference\n",
      "1     1  118            30\n",
      "8     2  118            33\n",
      "15    3  118            30\n",
      "22    4  118            32\n",
      "29    5  118            30\n",
      "2     1  484            58\n",
      "9     2  484            69\n",
      "16    3  484            51\n",
      "23    4  484            62\n",
      "30    5  484            49\n",
      "3     1  664            87\n",
      "10    2  664           111\n",
      "17    3  664            75\n",
      "24    4  664           112\n",
      "31    5  664            81\n",
      "4     1 1004           115\n",
      "11    2 1004           156\n",
      "18    3 1004           108\n",
      "25    4 1004           167\n",
      "32    5 1004           125\n",
      "5     1 1231           120\n",
      "12    2 1231           172\n",
      "19    3 1231           115\n",
      "26    4 1231           179\n",
      "33    5 1231           142\n",
      "6     1 1372           142\n",
      "13    2 1372           203\n",
      "20    3 1372           139\n",
      "27    4 1372           209\n",
      "34    5 1372           174\n",
      "7     1 1582           145\n",
      "14    2 1582           203\n",
      "21    3 1582           140\n",
      "28    4 1582           214\n",
      "35    5 1582           177\n"
     ]
    }
   ],
   "source": [
    "# 3번\n",
    "# 변수 age의 오름차순으로 정렬\n",
    "print(myO[order(myO$age), ])"
   ]
  },
  {
   "cell_type": "code",
   "execution_count": 4,
   "metadata": {
    "vscode": {
     "languageId": "r"
    }
   },
   "outputs": [
    {
     "name": "stdout",
     "output_type": "stream",
     "text": [
      "  Tree  age  O1\n",
      "1    1  118  30\n",
      "2    1  484  58\n",
      "3    1  664  87\n",
      "4    1 1004 115\n",
      "5    1 1231 120\n",
      "6    1 1372 142\n",
      "7    1 1582 145\n"
     ]
    }
   ],
   "source": [
    "# 4번\n",
    "\n",
    "# Tree 값이 1인 데이터만 추출하여 O1에 저장\n",
    "O1 <- myO[myO$Tree == 1, ]\n",
    "\n",
    "# 변수 이름 변경\n",
    "names(O1) <- c(\"Tree\", \"age\", \"O1\")\n",
    "\n",
    "print(O1)"
   ]
  },
  {
   "cell_type": "code",
   "execution_count": 5,
   "metadata": {
    "vscode": {
     "languageId": "r"
    }
   },
   "outputs": [],
   "source": [
    "# 5번\n",
    "\n",
    "# 각각 Tree값에 따라 추출\n",
    "\n",
    "O2 <- myO[myO$Tree == 2, ]\n",
    "O3 <- myO[myO$Tree == 3, ]\n",
    "O4 <- myO[myO$Tree == 4, ]\n",
    "O5 <- myO[myO$Tree == 5, ]\n",
    "\n",
    "# 변수 이름 변경\n",
    "names(O2) <- c(\"Tree\", \"age\", \"O2\")\n",
    "names(O3) <- c(\"Tree\", \"age\", \"O3\")\n",
    "names(O4) <- c(\"Tree\", \"age\", \"O4\")\n",
    "names(O5) <- c(\"Tree\", \"age\", \"O5\")"
   ]
  },
  {
   "cell_type": "code",
   "execution_count": 6,
   "metadata": {
    "vscode": {
     "languageId": "r"
    }
   },
   "outputs": [],
   "source": [
    "# 6번\n",
    "# Tree 변수를 제외하고 각 데이터프레임 병합하기\n",
    "O1_noTree <- O1[, -which(names(O1) == \"Tree\")]\n",
    "O2_noTree <- O2[, -which(names(O2) == \"Tree\")]\n",
    "O3_noTree <- O3[, -which(names(O3) == \"Tree\")]\n",
    "O4_noTree <- O4[, -which(names(O4) == \"Tree\")]\n",
    "O5_noTree <- O5[, -which(names(O5) == \"Tree\")]\n",
    "\n",
    "# 데이터프레임 병합\n",
    "merged_df <- Reduce(function(x, y) merge(x, y, all = TRUE), list(O1_noTree, O2_noTree, O3_noTree, O4_noTree, O5_noTree))"
   ]
  },
  {
   "cell_type": "code",
   "execution_count": 7,
   "metadata": {
    "vscode": {
     "languageId": "r"
    }
   },
   "outputs": [
    {
     "data": {
      "text/html": [
       "<table class=\"dataframe\">\n",
       "<caption>A data.frame: 7 × 6</caption>\n",
       "<thead>\n",
       "\t<tr><th scope=col>age</th><th scope=col>O1</th><th scope=col>O2</th><th scope=col>O3</th><th scope=col>O4</th><th scope=col>O5</th></tr>\n",
       "\t<tr><th scope=col>&lt;dbl&gt;</th><th scope=col>&lt;dbl&gt;</th><th scope=col>&lt;dbl&gt;</th><th scope=col>&lt;dbl&gt;</th><th scope=col>&lt;dbl&gt;</th><th scope=col>&lt;dbl&gt;</th></tr>\n",
       "</thead>\n",
       "<tbody>\n",
       "\t<tr><td> 118</td><td> 30</td><td> 33</td><td> 30</td><td> 32</td><td> 30</td></tr>\n",
       "\t<tr><td> 484</td><td> 58</td><td> 69</td><td> 51</td><td> 62</td><td> 49</td></tr>\n",
       "\t<tr><td> 664</td><td> 87</td><td>111</td><td> 75</td><td>112</td><td> 81</td></tr>\n",
       "\t<tr><td>1004</td><td>115</td><td>156</td><td>108</td><td>167</td><td>125</td></tr>\n",
       "\t<tr><td>1231</td><td>120</td><td>172</td><td>115</td><td>179</td><td>142</td></tr>\n",
       "\t<tr><td>1372</td><td>142</td><td>203</td><td>139</td><td>209</td><td>174</td></tr>\n",
       "\t<tr><td>1582</td><td>145</td><td>203</td><td>140</td><td>214</td><td>177</td></tr>\n",
       "</tbody>\n",
       "</table>\n"
      ],
      "text/latex": [
       "A data.frame: 7 × 6\n",
       "\\begin{tabular}{llllll}\n",
       " age & O1 & O2 & O3 & O4 & O5\\\\\n",
       " <dbl> & <dbl> & <dbl> & <dbl> & <dbl> & <dbl>\\\\\n",
       "\\hline\n",
       "\t  118 &  30 &  33 &  30 &  32 &  30\\\\\n",
       "\t  484 &  58 &  69 &  51 &  62 &  49\\\\\n",
       "\t  664 &  87 & 111 &  75 & 112 &  81\\\\\n",
       "\t 1004 & 115 & 156 & 108 & 167 & 125\\\\\n",
       "\t 1231 & 120 & 172 & 115 & 179 & 142\\\\\n",
       "\t 1372 & 142 & 203 & 139 & 209 & 174\\\\\n",
       "\t 1582 & 145 & 203 & 140 & 214 & 177\\\\\n",
       "\\end{tabular}\n"
      ],
      "text/markdown": [
       "\n",
       "A data.frame: 7 × 6\n",
       "\n",
       "| age &lt;dbl&gt; | O1 &lt;dbl&gt; | O2 &lt;dbl&gt; | O3 &lt;dbl&gt; | O4 &lt;dbl&gt; | O5 &lt;dbl&gt; |\n",
       "|---|---|---|---|---|---|\n",
       "|  118 |  30 |  33 |  30 |  32 |  30 |\n",
       "|  484 |  58 |  69 |  51 |  62 |  49 |\n",
       "|  664 |  87 | 111 |  75 | 112 |  81 |\n",
       "| 1004 | 115 | 156 | 108 | 167 | 125 |\n",
       "| 1231 | 120 | 172 | 115 | 179 | 142 |\n",
       "| 1372 | 142 | 203 | 139 | 209 | 174 |\n",
       "| 1582 | 145 | 203 | 140 | 214 | 177 |\n",
       "\n"
      ],
      "text/plain": [
       "  age  O1  O2  O3  O4  O5 \n",
       "1  118  30  33  30  32  30\n",
       "2  484  58  69  51  62  49\n",
       "3  664  87 111  75 112  81\n",
       "4 1004 115 156 108 167 125\n",
       "5 1231 120 172 115 179 142\n",
       "6 1372 142 203 139 209 174\n",
       "7 1582 145 203 140 214 177"
      ]
     },
     "metadata": {},
     "output_type": "display_data"
    }
   ],
   "source": [
    "merged_df"
   ]
  },
  {
   "cell_type": "code",
   "execution_count": 8,
   "metadata": {
    "vscode": {
     "languageId": "r"
    }
   },
   "outputs": [
    {
     "data": {
      "text/plain": [
       "       O1               O2              O3            O4              O5       \n",
       " Min.   : 30.00   Min.   : 33.0   Min.   : 30   Min.   : 32.0   Min.   : 30.0  \n",
       " 1st Qu.: 72.50   1st Qu.: 90.0   1st Qu.: 63   1st Qu.: 87.0   1st Qu.: 65.0  \n",
       " Median :115.00   Median :156.0   Median :108   Median :167.0   Median :125.0  \n",
       " Mean   : 99.57   Mean   :135.3   Mean   : 94   Mean   :139.3   Mean   :111.1  \n",
       " 3rd Qu.:131.00   3rd Qu.:187.5   3rd Qu.:127   3rd Qu.:194.0   3rd Qu.:158.0  \n",
       " Max.   :145.00   Max.   :203.0   Max.   :140   Max.   :214.0   Max.   :177.0  "
      ]
     },
     "metadata": {},
     "output_type": "display_data"
    }
   ],
   "source": [
    "# 7번\n",
    "# age 변수를 제외하고 5개의 변수(O1, O2...) 요약 정보 출력\n",
    "summary(merged_df[, !names(merged_df) %in% \"age\"])\n"
   ]
  },
  {
   "cell_type": "code",
   "execution_count": 9,
   "metadata": {
    "vscode": {
     "languageId": "r"
    }
   },
   "outputs": [
    {
     "name": "stdout",
     "output_type": "stream",
     "text": [
      "    O1     O2     O3     O4     O5 \n",
      " 99.57 135.29  94.00 139.29 111.14 \n"
     ]
    }
   ],
   "source": [
    "# 8번\n",
    "col_means <- round(apply(merged_df[, !names(merged_df) %in% \"age\"], 2, mean), 2)\n",
    "print(col_means)\n",
    "\n"
   ]
  },
  {
   "cell_type": "code",
   "execution_count": 10,
   "metadata": {
    "vscode": {
     "languageId": "r"
    }
   },
   "outputs": [
    {
     "data": {
      "text/html": [
       "<table class=\"dataframe\">\n",
       "<caption>A tibble: 6 × 10</caption>\n",
       "<thead>\n",
       "\t<tr><th scope=col>측정일시</th><th scope=col>측정소명</th><th scope=col>이산화질소농도</th><th scope=col>오존농도</th><th scope=col>일산화탄소농도</th><th scope=col>아황산가스농도</th><th scope=col>미세먼지농도</th><th scope=col>초미세먼지농도</th><th scope=col>월</th><th scope=col>일</th></tr>\n",
       "\t<tr><th scope=col>&lt;dbl&gt;</th><th scope=col>&lt;chr&gt;</th><th scope=col>&lt;dbl&gt;</th><th scope=col>&lt;dbl&gt;</th><th scope=col>&lt;dbl&gt;</th><th scope=col>&lt;dbl&gt;</th><th scope=col>&lt;dbl&gt;</th><th scope=col>&lt;dbl&gt;</th><th scope=col>&lt;chr&gt;</th><th scope=col>&lt;chr&gt;</th></tr>\n",
       "</thead>\n",
       "<tbody>\n",
       "\t<tr><td>20230101</td><td>강남구</td><td>0.0240</td><td>0.0240</td><td>0.60</td><td>0.0040</td><td>52</td><td>36</td><td>01</td><td>01</td></tr>\n",
       "\t<tr><td>20230101</td><td>강동구</td><td>0.0270</td><td>0.0170</td><td>0.70</td><td>0.0030</td><td>56</td><td>43</td><td>01</td><td>01</td></tr>\n",
       "\t<tr><td>20230101</td><td>강북구</td><td>    NA</td><td>0.0260</td><td>0.70</td><td>0.0040</td><td>51</td><td>34</td><td>01</td><td>01</td></tr>\n",
       "\t<tr><td>20230101</td><td>강서구</td><td>0.0210</td><td>0.0250</td><td>0.60</td><td>0.0040</td><td>62</td><td>38</td><td>01</td><td>01</td></tr>\n",
       "\t<tr><td>20230101</td><td>관악구</td><td>0.0250</td><td>0.0200</td><td>0.60</td><td>0.0030</td><td>54</td><td>35</td><td>01</td><td>01</td></tr>\n",
       "\t<tr><td>20230101</td><td>광진구</td><td>0.0175</td><td>0.0176</td><td>0.79</td><td>0.0026</td><td>48</td><td>36</td><td>01</td><td>01</td></tr>\n",
       "</tbody>\n",
       "</table>\n"
      ],
      "text/latex": [
       "A tibble: 6 × 10\n",
       "\\begin{tabular}{llllllllll}\n",
       " 측정일시 & 측정소명 & 이산화질소농도 & 오존농도 & 일산화탄소농도 & 아황산가스농도 & 미세먼지농도 & 초미세먼지농도 & 월 & 일\\\\\n",
       " <dbl> & <chr> & <dbl> & <dbl> & <dbl> & <dbl> & <dbl> & <dbl> & <chr> & <chr>\\\\\n",
       "\\hline\n",
       "\t 20230101 & 강남구 & 0.0240 & 0.0240 & 0.60 & 0.0040 & 52 & 36 & 01 & 01\\\\\n",
       "\t 20230101 & 강동구 & 0.0270 & 0.0170 & 0.70 & 0.0030 & 56 & 43 & 01 & 01\\\\\n",
       "\t 20230101 & 강북구 &     NA & 0.0260 & 0.70 & 0.0040 & 51 & 34 & 01 & 01\\\\\n",
       "\t 20230101 & 강서구 & 0.0210 & 0.0250 & 0.60 & 0.0040 & 62 & 38 & 01 & 01\\\\\n",
       "\t 20230101 & 관악구 & 0.0250 & 0.0200 & 0.60 & 0.0030 & 54 & 35 & 01 & 01\\\\\n",
       "\t 20230101 & 광진구 & 0.0175 & 0.0176 & 0.79 & 0.0026 & 48 & 36 & 01 & 01\\\\\n",
       "\\end{tabular}\n"
      ],
      "text/markdown": [
       "\n",
       "A tibble: 6 × 10\n",
       "\n",
       "| 측정일시 &lt;dbl&gt; | 측정소명 &lt;chr&gt; | 이산화질소농도 &lt;dbl&gt; | 오존농도 &lt;dbl&gt; | 일산화탄소농도 &lt;dbl&gt; | 아황산가스농도 &lt;dbl&gt; | 미세먼지농도 &lt;dbl&gt; | 초미세먼지농도 &lt;dbl&gt; | 월 &lt;chr&gt; | 일 &lt;chr&gt; |\n",
       "|---|---|---|---|---|---|---|---|---|---|\n",
       "| 20230101 | 강남구 | 0.0240 | 0.0240 | 0.60 | 0.0040 | 52 | 36 | 01 | 01 |\n",
       "| 20230101 | 강동구 | 0.0270 | 0.0170 | 0.70 | 0.0030 | 56 | 43 | 01 | 01 |\n",
       "| 20230101 | 강북구 |     NA | 0.0260 | 0.70 | 0.0040 | 51 | 34 | 01 | 01 |\n",
       "| 20230101 | 강서구 | 0.0210 | 0.0250 | 0.60 | 0.0040 | 62 | 38 | 01 | 01 |\n",
       "| 20230101 | 관악구 | 0.0250 | 0.0200 | 0.60 | 0.0030 | 54 | 35 | 01 | 01 |\n",
       "| 20230101 | 광진구 | 0.0175 | 0.0176 | 0.79 | 0.0026 | 48 | 36 | 01 | 01 |\n",
       "\n"
      ],
      "text/plain": [
       "  측정일시 측정소명 이산화질소농도 오존농도 일산화탄소농도 아황산가스농도\n",
       "1 20230101 강남구   0.0240         0.0240   0.60           0.0040        \n",
       "2 20230101 강동구   0.0270         0.0170   0.70           0.0030        \n",
       "3 20230101 강북구       NA         0.0260   0.70           0.0040        \n",
       "4 20230101 강서구   0.0210         0.0250   0.60           0.0040        \n",
       "5 20230101 관악구   0.0250         0.0200   0.60           0.0030        \n",
       "6 20230101 광진구   0.0175         0.0176   0.79           0.0026        \n",
       "  미세먼지농도 초미세먼지농도 월 일\n",
       "1 52           36             01 01\n",
       "2 56           43             01 01\n",
       "3 51           34             01 01\n",
       "4 62           38             01 01\n",
       "5 54           35             01 01\n",
       "6 48           36             01 01"
      ]
     },
     "metadata": {},
     "output_type": "display_data"
    }
   ],
   "source": [
    "# 9번 \n",
    "library(readxl)\n",
    "data <- read_xlsx(\"../mydata/일별평균대기오염도_2023.xlsx\")\n",
    "head(data)"
   ]
  },
  {
   "cell_type": "code",
   "execution_count": 11,
   "metadata": {
    "vscode": {
     "languageId": "r"
    }
   },
   "outputs": [
    {
     "data": {
      "text/html": [
       "<table class=\"dataframe\">\n",
       "<caption>A tibble: 6 × 6</caption>\n",
       "<thead>\n",
       "\t<tr><th scope=col>측정일시</th><th scope=col>측정소명</th><th scope=col>미세먼지농도</th><th scope=col>초미세먼지농도</th><th scope=col>월</th><th scope=col>일</th></tr>\n",
       "\t<tr><th scope=col>&lt;dbl&gt;</th><th scope=col>&lt;chr&gt;</th><th scope=col>&lt;dbl&gt;</th><th scope=col>&lt;dbl&gt;</th><th scope=col>&lt;chr&gt;</th><th scope=col>&lt;chr&gt;</th></tr>\n",
       "</thead>\n",
       "<tbody>\n",
       "\t<tr><td>20231231</td><td>항동        </td><td>21</td><td>17</td><td>12</td><td>31</td></tr>\n",
       "\t<tr><td>20231231</td><td>행주        </td><td>25</td><td>16</td><td>12</td><td>31</td></tr>\n",
       "\t<tr><td>20231231</td><td>마포아트센터</td><td>26</td><td>20</td><td>12</td><td>31</td></tr>\n",
       "\t<tr><td>20231231</td><td>서울숲      </td><td>23</td><td>16</td><td>12</td><td>31</td></tr>\n",
       "\t<tr><td>20231231</td><td>올림픽공원  </td><td>19</td><td>18</td><td>12</td><td>31</td></tr>\n",
       "\t<tr><td>20231231</td><td>자연사박물관</td><td>19</td><td>15</td><td>12</td><td>31</td></tr>\n",
       "</tbody>\n",
       "</table>\n"
      ],
      "text/latex": [
       "A tibble: 6 × 6\n",
       "\\begin{tabular}{llllll}\n",
       " 측정일시 & 측정소명 & 미세먼지농도 & 초미세먼지농도 & 월 & 일\\\\\n",
       " <dbl> & <chr> & <dbl> & <dbl> & <chr> & <chr>\\\\\n",
       "\\hline\n",
       "\t 20231231 & 항동         & 21 & 17 & 12 & 31\\\\\n",
       "\t 20231231 & 행주         & 25 & 16 & 12 & 31\\\\\n",
       "\t 20231231 & 마포아트센터 & 26 & 20 & 12 & 31\\\\\n",
       "\t 20231231 & 서울숲       & 23 & 16 & 12 & 31\\\\\n",
       "\t 20231231 & 올림픽공원   & 19 & 18 & 12 & 31\\\\\n",
       "\t 20231231 & 자연사박물관 & 19 & 15 & 12 & 31\\\\\n",
       "\\end{tabular}\n"
      ],
      "text/markdown": [
       "\n",
       "A tibble: 6 × 6\n",
       "\n",
       "| 측정일시 &lt;dbl&gt; | 측정소명 &lt;chr&gt; | 미세먼지농도 &lt;dbl&gt; | 초미세먼지농도 &lt;dbl&gt; | 월 &lt;chr&gt; | 일 &lt;chr&gt; |\n",
       "|---|---|---|---|---|---|\n",
       "| 20231231 | 항동         | 21 | 17 | 12 | 31 |\n",
       "| 20231231 | 행주         | 25 | 16 | 12 | 31 |\n",
       "| 20231231 | 마포아트센터 | 26 | 20 | 12 | 31 |\n",
       "| 20231231 | 서울숲       | 23 | 16 | 12 | 31 |\n",
       "| 20231231 | 올림픽공원   | 19 | 18 | 12 | 31 |\n",
       "| 20231231 | 자연사박물관 | 19 | 15 | 12 | 31 |\n",
       "\n"
      ],
      "text/plain": [
       "  측정일시 측정소명     미세먼지농도 초미세먼지농도 월 일\n",
       "1 20231231 항동         21           17             12 31\n",
       "2 20231231 행주         25           16             12 31\n",
       "3 20231231 마포아트센터 26           20             12 31\n",
       "4 20231231 서울숲       23           16             12 31\n",
       "5 20231231 올림픽공원   19           18             12 31\n",
       "6 20231231 자연사박물관 19           15             12 31"
      ]
     },
     "metadata": {},
     "output_type": "display_data"
    }
   ],
   "source": [
    "# 10번\n",
    "PM <- subset(data, select = c(1, 2, 7, 8, 9, 10))\n",
    "tail(PM)"
   ]
  },
  {
   "cell_type": "code",
   "execution_count": 12,
   "metadata": {
    "vscode": {
     "languageId": "r"
    }
   },
   "outputs": [
    {
     "name": "stdout",
     "output_type": "stream",
     "text": [
      "  미세먼지농도    초미세먼지농도  \n",
      " Min.   :  3.00   Min.   :  1.00  \n",
      " 1st Qu.: 22.00   1st Qu.: 11.00  \n",
      " Median : 32.00   Median : 17.00  \n",
      " Mean   : 38.44   Mean   : 19.56  \n",
      " 3rd Qu.: 47.00   3rd Qu.: 25.00  \n",
      " Max.   :351.00   Max.   :116.00  \n",
      " NA's   :113      NA's   :118     \n"
     ]
    }
   ],
   "source": [
    "# 11번\n",
    "\n",
    "summary_stats <- summary(data[, c(\"미세먼지농도\", \"초미세먼지농도\")])\n",
    "# 요약 통계량 출력\n",
    "print(summary_stats)\n"
   ]
  },
  {
   "cell_type": "code",
   "execution_count": 13,
   "metadata": {
    "vscode": {
     "languageId": "r"
    }
   },
   "outputs": [
    {
     "data": {
      "text/html": [
       "<table class=\"dataframe\">\n",
       "<caption>A tibble: 30 × 6</caption>\n",
       "<thead>\n",
       "\t<tr><th scope=col>측정일시</th><th scope=col>측정소명</th><th scope=col>미세먼지농도</th><th scope=col>초미세먼지농도</th><th scope=col>월</th><th scope=col>일</th></tr>\n",
       "\t<tr><th scope=col>&lt;dbl&gt;</th><th scope=col>&lt;chr&gt;</th><th scope=col>&lt;dbl&gt;</th><th scope=col>&lt;dbl&gt;</th><th scope=col>&lt;chr&gt;</th><th scope=col>&lt;chr&gt;</th></tr>\n",
       "</thead>\n",
       "<tbody>\n",
       "\t<tr><td>20230401</td><td>서울숲</td><td>115</td><td>54</td><td>04</td><td>01</td></tr>\n",
       "\t<tr><td>20230402</td><td>서울숲</td><td> 58</td><td>31</td><td>04</td><td>02</td></tr>\n",
       "\t<tr><td>20230403</td><td>서울숲</td><td> 56</td><td>29</td><td>04</td><td>03</td></tr>\n",
       "\t<tr><td>20230404</td><td>서울숲</td><td> 38</td><td>19</td><td>04</td><td>04</td></tr>\n",
       "\t<tr><td>20230405</td><td>서울숲</td><td> 17</td><td>12</td><td>04</td><td>05</td></tr>\n",
       "\t<tr><td>20230406</td><td>서울숲</td><td> 65</td><td>55</td><td>04</td><td>06</td></tr>\n",
       "\t<tr><td>20230407</td><td>서울숲</td><td> 73</td><td>43</td><td>04</td><td>07</td></tr>\n",
       "\t<tr><td>20230408</td><td>서울숲</td><td> 46</td><td> 8</td><td>04</td><td>08</td></tr>\n",
       "\t<tr><td>20230409</td><td>서울숲</td><td> 68</td><td>19</td><td>04</td><td>09</td></tr>\n",
       "\t<tr><td>20230410</td><td>서울숲</td><td> 54</td><td>22</td><td>04</td><td>10</td></tr>\n",
       "\t<tr><td>20230411</td><td>서울숲</td><td>131</td><td>35</td><td>04</td><td>11</td></tr>\n",
       "\t<tr><td>20230412</td><td>서울숲</td><td>263</td><td>37</td><td>04</td><td>12</td></tr>\n",
       "\t<tr><td>20230413</td><td>서울숲</td><td>191</td><td>32</td><td>04</td><td>13</td></tr>\n",
       "\t<tr><td>20230414</td><td>서울숲</td><td> 97</td><td>23</td><td>04</td><td>14</td></tr>\n",
       "\t<tr><td>20230415</td><td>서울숲</td><td> 59</td><td>25</td><td>04</td><td>15</td></tr>\n",
       "\t<tr><td>20230416</td><td>서울숲</td><td>114</td><td>38</td><td>04</td><td>16</td></tr>\n",
       "\t<tr><td>20230417</td><td>서울숲</td><td>102</td><td>35</td><td>04</td><td>17</td></tr>\n",
       "\t<tr><td>20230418</td><td>서울숲</td><td> 41</td><td>19</td><td>04</td><td>18</td></tr>\n",
       "\t<tr><td>20230419</td><td>서울숲</td><td> 40</td><td>22</td><td>04</td><td>19</td></tr>\n",
       "\t<tr><td>20230420</td><td>서울숲</td><td> 26</td><td>17</td><td>04</td><td>20</td></tr>\n",
       "\t<tr><td>20230421</td><td>서울숲</td><td> 64</td><td>19</td><td>04</td><td>21</td></tr>\n",
       "\t<tr><td>20230422</td><td>서울숲</td><td> 60</td><td>15</td><td>04</td><td>22</td></tr>\n",
       "\t<tr><td>20230423</td><td>서울숲</td><td> 58</td><td>16</td><td>04</td><td>23</td></tr>\n",
       "\t<tr><td>20230424</td><td>서울숲</td><td> 52</td><td>16</td><td>04</td><td>24</td></tr>\n",
       "\t<tr><td>20230425</td><td>서울숲</td><td> 31</td><td>15</td><td>04</td><td>25</td></tr>\n",
       "\t<tr><td>20230426</td><td>서울숲</td><td> 31</td><td>14</td><td>04</td><td>26</td></tr>\n",
       "\t<tr><td>20230427</td><td>서울숲</td><td> 47</td><td>26</td><td>04</td><td>27</td></tr>\n",
       "\t<tr><td>20230428</td><td>서울숲</td><td> 45</td><td>19</td><td>04</td><td>28</td></tr>\n",
       "\t<tr><td>20230429</td><td>서울숲</td><td> 28</td><td>13</td><td>04</td><td>29</td></tr>\n",
       "\t<tr><td>20230430</td><td>서울숲</td><td> 42</td><td>15</td><td>04</td><td>30</td></tr>\n",
       "</tbody>\n",
       "</table>\n"
      ],
      "text/latex": [
       "A tibble: 30 × 6\n",
       "\\begin{tabular}{llllll}\n",
       " 측정일시 & 측정소명 & 미세먼지농도 & 초미세먼지농도 & 월 & 일\\\\\n",
       " <dbl> & <chr> & <dbl> & <dbl> & <chr> & <chr>\\\\\n",
       "\\hline\n",
       "\t 20230401 & 서울숲 & 115 & 54 & 04 & 01\\\\\n",
       "\t 20230402 & 서울숲 &  58 & 31 & 04 & 02\\\\\n",
       "\t 20230403 & 서울숲 &  56 & 29 & 04 & 03\\\\\n",
       "\t 20230404 & 서울숲 &  38 & 19 & 04 & 04\\\\\n",
       "\t 20230405 & 서울숲 &  17 & 12 & 04 & 05\\\\\n",
       "\t 20230406 & 서울숲 &  65 & 55 & 04 & 06\\\\\n",
       "\t 20230407 & 서울숲 &  73 & 43 & 04 & 07\\\\\n",
       "\t 20230408 & 서울숲 &  46 &  8 & 04 & 08\\\\\n",
       "\t 20230409 & 서울숲 &  68 & 19 & 04 & 09\\\\\n",
       "\t 20230410 & 서울숲 &  54 & 22 & 04 & 10\\\\\n",
       "\t 20230411 & 서울숲 & 131 & 35 & 04 & 11\\\\\n",
       "\t 20230412 & 서울숲 & 263 & 37 & 04 & 12\\\\\n",
       "\t 20230413 & 서울숲 & 191 & 32 & 04 & 13\\\\\n",
       "\t 20230414 & 서울숲 &  97 & 23 & 04 & 14\\\\\n",
       "\t 20230415 & 서울숲 &  59 & 25 & 04 & 15\\\\\n",
       "\t 20230416 & 서울숲 & 114 & 38 & 04 & 16\\\\\n",
       "\t 20230417 & 서울숲 & 102 & 35 & 04 & 17\\\\\n",
       "\t 20230418 & 서울숲 &  41 & 19 & 04 & 18\\\\\n",
       "\t 20230419 & 서울숲 &  40 & 22 & 04 & 19\\\\\n",
       "\t 20230420 & 서울숲 &  26 & 17 & 04 & 20\\\\\n",
       "\t 20230421 & 서울숲 &  64 & 19 & 04 & 21\\\\\n",
       "\t 20230422 & 서울숲 &  60 & 15 & 04 & 22\\\\\n",
       "\t 20230423 & 서울숲 &  58 & 16 & 04 & 23\\\\\n",
       "\t 20230424 & 서울숲 &  52 & 16 & 04 & 24\\\\\n",
       "\t 20230425 & 서울숲 &  31 & 15 & 04 & 25\\\\\n",
       "\t 20230426 & 서울숲 &  31 & 14 & 04 & 26\\\\\n",
       "\t 20230427 & 서울숲 &  47 & 26 & 04 & 27\\\\\n",
       "\t 20230428 & 서울숲 &  45 & 19 & 04 & 28\\\\\n",
       "\t 20230429 & 서울숲 &  28 & 13 & 04 & 29\\\\\n",
       "\t 20230430 & 서울숲 &  42 & 15 & 04 & 30\\\\\n",
       "\\end{tabular}\n"
      ],
      "text/markdown": [
       "\n",
       "A tibble: 30 × 6\n",
       "\n",
       "| 측정일시 &lt;dbl&gt; | 측정소명 &lt;chr&gt; | 미세먼지농도 &lt;dbl&gt; | 초미세먼지농도 &lt;dbl&gt; | 월 &lt;chr&gt; | 일 &lt;chr&gt; |\n",
       "|---|---|---|---|---|---|\n",
       "| 20230401 | 서울숲 | 115 | 54 | 04 | 01 |\n",
       "| 20230402 | 서울숲 |  58 | 31 | 04 | 02 |\n",
       "| 20230403 | 서울숲 |  56 | 29 | 04 | 03 |\n",
       "| 20230404 | 서울숲 |  38 | 19 | 04 | 04 |\n",
       "| 20230405 | 서울숲 |  17 | 12 | 04 | 05 |\n",
       "| 20230406 | 서울숲 |  65 | 55 | 04 | 06 |\n",
       "| 20230407 | 서울숲 |  73 | 43 | 04 | 07 |\n",
       "| 20230408 | 서울숲 |  46 |  8 | 04 | 08 |\n",
       "| 20230409 | 서울숲 |  68 | 19 | 04 | 09 |\n",
       "| 20230410 | 서울숲 |  54 | 22 | 04 | 10 |\n",
       "| 20230411 | 서울숲 | 131 | 35 | 04 | 11 |\n",
       "| 20230412 | 서울숲 | 263 | 37 | 04 | 12 |\n",
       "| 20230413 | 서울숲 | 191 | 32 | 04 | 13 |\n",
       "| 20230414 | 서울숲 |  97 | 23 | 04 | 14 |\n",
       "| 20230415 | 서울숲 |  59 | 25 | 04 | 15 |\n",
       "| 20230416 | 서울숲 | 114 | 38 | 04 | 16 |\n",
       "| 20230417 | 서울숲 | 102 | 35 | 04 | 17 |\n",
       "| 20230418 | 서울숲 |  41 | 19 | 04 | 18 |\n",
       "| 20230419 | 서울숲 |  40 | 22 | 04 | 19 |\n",
       "| 20230420 | 서울숲 |  26 | 17 | 04 | 20 |\n",
       "| 20230421 | 서울숲 |  64 | 19 | 04 | 21 |\n",
       "| 20230422 | 서울숲 |  60 | 15 | 04 | 22 |\n",
       "| 20230423 | 서울숲 |  58 | 16 | 04 | 23 |\n",
       "| 20230424 | 서울숲 |  52 | 16 | 04 | 24 |\n",
       "| 20230425 | 서울숲 |  31 | 15 | 04 | 25 |\n",
       "| 20230426 | 서울숲 |  31 | 14 | 04 | 26 |\n",
       "| 20230427 | 서울숲 |  47 | 26 | 04 | 27 |\n",
       "| 20230428 | 서울숲 |  45 | 19 | 04 | 28 |\n",
       "| 20230429 | 서울숲 |  28 | 13 | 04 | 29 |\n",
       "| 20230430 | 서울숲 |  42 | 15 | 04 | 30 |\n",
       "\n"
      ],
      "text/plain": [
       "   측정일시 측정소명 미세먼지농도 초미세먼지농도 월 일\n",
       "1  20230401 서울숲   115          54             04 01\n",
       "2  20230402 서울숲    58          31             04 02\n",
       "3  20230403 서울숲    56          29             04 03\n",
       "4  20230404 서울숲    38          19             04 04\n",
       "5  20230405 서울숲    17          12             04 05\n",
       "6  20230406 서울숲    65          55             04 06\n",
       "7  20230407 서울숲    73          43             04 07\n",
       "8  20230408 서울숲    46           8             04 08\n",
       "9  20230409 서울숲    68          19             04 09\n",
       "10 20230410 서울숲    54          22             04 10\n",
       "11 20230411 서울숲   131          35             04 11\n",
       "12 20230412 서울숲   263          37             04 12\n",
       "13 20230413 서울숲   191          32             04 13\n",
       "14 20230414 서울숲    97          23             04 14\n",
       "15 20230415 서울숲    59          25             04 15\n",
       "16 20230416 서울숲   114          38             04 16\n",
       "17 20230417 서울숲   102          35             04 17\n",
       "18 20230418 서울숲    41          19             04 18\n",
       "19 20230419 서울숲    40          22             04 19\n",
       "20 20230420 서울숲    26          17             04 20\n",
       "21 20230421 서울숲    64          19             04 21\n",
       "22 20230422 서울숲    60          15             04 22\n",
       "23 20230423 서울숲    58          16             04 23\n",
       "24 20230424 서울숲    52          16             04 24\n",
       "25 20230425 서울숲    31          15             04 25\n",
       "26 20230426 서울숲    31          14             04 26\n",
       "27 20230427 서울숲    47          26             04 27\n",
       "28 20230428 서울숲    45          19             04 28\n",
       "29 20230429 서울숲    28          13             04 29\n",
       "30 20230430 서울숲    42          15             04 30"
      ]
     },
     "metadata": {},
     "output_type": "display_data"
    }
   ],
   "source": [
    "# 12번 \n",
    "seoul <- subset(PM, 측정소명 == \"서울숲\" & as.numeric(월) == 4 & as.numeric(일) %in% 1:31)\n",
    "seoul"
   ]
  },
  {
   "cell_type": "code",
   "execution_count": 14,
   "metadata": {
    "vscode": {
     "languageId": "r"
    }
   },
   "outputs": [
    {
     "data": {
      "text/html": [
       "<table class=\"dataframe\">\n",
       "<caption>A tibble: 2 × 6</caption>\n",
       "<thead>\n",
       "\t<tr><th scope=col>측정일시</th><th scope=col>측정소명</th><th scope=col>미세먼지농도</th><th scope=col>초미세먼지농도</th><th scope=col>월</th><th scope=col>일</th></tr>\n",
       "\t<tr><th scope=col>&lt;dbl&gt;</th><th scope=col>&lt;chr&gt;</th><th scope=col>&lt;dbl&gt;</th><th scope=col>&lt;dbl&gt;</th><th scope=col>&lt;chr&gt;</th><th scope=col>&lt;chr&gt;</th></tr>\n",
       "</thead>\n",
       "<tbody>\n",
       "\t<tr><td>20230412</td><td>서울숲</td><td>263</td><td>37</td><td>04</td><td>12</td></tr>\n",
       "\t<tr><td>20230413</td><td>서울숲</td><td>191</td><td>32</td><td>04</td><td>13</td></tr>\n",
       "</tbody>\n",
       "</table>\n"
      ],
      "text/latex": [
       "A tibble: 2 × 6\n",
       "\\begin{tabular}{llllll}\n",
       " 측정일시 & 측정소명 & 미세먼지농도 & 초미세먼지농도 & 월 & 일\\\\\n",
       " <dbl> & <chr> & <dbl> & <dbl> & <chr> & <chr>\\\\\n",
       "\\hline\n",
       "\t 20230412 & 서울숲 & 263 & 37 & 04 & 12\\\\\n",
       "\t 20230413 & 서울숲 & 191 & 32 & 04 & 13\\\\\n",
       "\\end{tabular}\n"
      ],
      "text/markdown": [
       "\n",
       "A tibble: 2 × 6\n",
       "\n",
       "| 측정일시 &lt;dbl&gt; | 측정소명 &lt;chr&gt; | 미세먼지농도 &lt;dbl&gt; | 초미세먼지농도 &lt;dbl&gt; | 월 &lt;chr&gt; | 일 &lt;chr&gt; |\n",
       "|---|---|---|---|---|---|\n",
       "| 20230412 | 서울숲 | 263 | 37 | 04 | 12 |\n",
       "| 20230413 | 서울숲 | 191 | 32 | 04 | 13 |\n",
       "\n"
      ],
      "text/plain": [
       "  측정일시 측정소명 미세먼지농도 초미세먼지농도 월 일\n",
       "1 20230412 서울숲   263          37             04 12\n",
       "2 20230413 서울숲   191          32             04 13"
      ]
     },
     "metadata": {},
     "output_type": "display_data"
    }
   ],
   "source": [
    "# 13번\n",
    "level1 <- subset(seoul, 미세먼지농도 < 30)\n",
    "level2 <- subset(seoul, 미세먼지농도 >= 30 & 미세먼지농도 < 80 )\n",
    "level3 <- subset(seoul, 미세먼지농도 >= 80 & 미세먼지농도 < 150 )\n",
    "level4 <- subset(seoul, 미세먼지농도 >= 150)\n",
    "level4"
   ]
  },
  {
   "cell_type": "code",
   "execution_count": 15,
   "metadata": {
    "vscode": {
     "languageId": "r"
    }
   },
   "outputs": [
    {
     "data": {
      "text/html": [
       "<table class=\"dataframe\">\n",
       "<caption>A data.frame: 4 × 2</caption>\n",
       "<thead>\n",
       "\t<tr><th scope=col>Level</th><th scope=col>Count</th></tr>\n",
       "\t<tr><th scope=col>&lt;chr&gt;</th><th scope=col>&lt;int&gt;</th></tr>\n",
       "</thead>\n",
       "<tbody>\n",
       "\t<tr><td>level1</td><td> 3</td></tr>\n",
       "\t<tr><td>level2</td><td>20</td></tr>\n",
       "\t<tr><td>level3</td><td> 5</td></tr>\n",
       "\t<tr><td>level4</td><td> 2</td></tr>\n",
       "</tbody>\n",
       "</table>\n"
      ],
      "text/latex": [
       "A data.frame: 4 × 2\n",
       "\\begin{tabular}{ll}\n",
       " Level & Count\\\\\n",
       " <chr> & <int>\\\\\n",
       "\\hline\n",
       "\t level1 &  3\\\\\n",
       "\t level2 & 20\\\\\n",
       "\t level3 &  5\\\\\n",
       "\t level4 &  2\\\\\n",
       "\\end{tabular}\n"
      ],
      "text/markdown": [
       "\n",
       "A data.frame: 4 × 2\n",
       "\n",
       "| Level &lt;chr&gt; | Count &lt;int&gt; |\n",
       "|---|---|\n",
       "| level1 |  3 |\n",
       "| level2 | 20 |\n",
       "| level3 |  5 |\n",
       "| level4 |  2 |\n",
       "\n"
      ],
      "text/plain": [
       "  Level  Count\n",
       "1 level1  3   \n",
       "2 level2 20   \n",
       "3 level3  5   \n",
       "4 level4  2   "
      ]
     },
     "metadata": {},
     "output_type": "display_data"
    }
   ],
   "source": [
    "# 14번\n",
    "\n",
    "freq <- data.frame(\n",
    "  Level = c(\"level1\", \"level2\", \"level3\", \"level4\"),\n",
    "  Count = c(nrow(level1), nrow(level2), nrow(level3), nrow(level4))\n",
    ")\n",
    "freq"
   ]
  },
  {
   "cell_type": "code",
   "execution_count": 16,
   "metadata": {
    "vscode": {
     "languageId": "r"
    }
   },
   "outputs": [
    {
     "data": {
      "text/html": [
       "<table class=\"dataframe\">\n",
       "<caption>A tibble: 2 × 2</caption>\n",
       "<thead>\n",
       "\t<tr><th scope=col>기업명</th><th scope=col>빈도_2021</th></tr>\n",
       "\t<tr><th scope=col>&lt;chr&gt;</th><th scope=col>&lt;dbl&gt;</th></tr>\n",
       "</thead>\n",
       "<tbody>\n",
       "\t<tr><td>삼성SDS  </td><td>28</td></tr>\n",
       "\t<tr><td>SK 텔레콤</td><td>25</td></tr>\n",
       "</tbody>\n",
       "</table>\n"
      ],
      "text/latex": [
       "A tibble: 2 × 2\n",
       "\\begin{tabular}{ll}\n",
       " 기업명 & 빈도\\_2021\\\\\n",
       " <chr> & <dbl>\\\\\n",
       "\\hline\n",
       "\t 삼성SDS   & 28\\\\\n",
       "\t SK 텔레콤 & 25\\\\\n",
       "\\end{tabular}\n"
      ],
      "text/markdown": [
       "\n",
       "A tibble: 2 × 2\n",
       "\n",
       "| 기업명 &lt;chr&gt; | 빈도_2021 &lt;dbl&gt; |\n",
       "|---|---|\n",
       "| 삼성SDS   | 28 |\n",
       "| SK 텔레콤 | 25 |\n",
       "\n"
      ],
      "text/plain": [
       "  기업명    빈도_2021\n",
       "1 삼성SDS   28       \n",
       "2 SK 텔레콤 25       "
      ]
     },
     "metadata": {},
     "output_type": "display_data"
    },
    {
     "data": {
      "text/html": [
       "<table class=\"dataframe\">\n",
       "<caption>A tibble: 2 × 2</caption>\n",
       "<thead>\n",
       "\t<tr><th scope=col>기업명</th><th scope=col>빈도_2023</th></tr>\n",
       "\t<tr><th scope=col>&lt;chr&gt;</th><th scope=col>&lt;dbl&gt;</th></tr>\n",
       "</thead>\n",
       "<tbody>\n",
       "\t<tr><td>삼성SDS</td><td>30</td></tr>\n",
       "\t<tr><td>LG CNS </td><td>31</td></tr>\n",
       "</tbody>\n",
       "</table>\n"
      ],
      "text/latex": [
       "A tibble: 2 × 2\n",
       "\\begin{tabular}{ll}\n",
       " 기업명 & 빈도\\_2023\\\\\n",
       " <chr> & <dbl>\\\\\n",
       "\\hline\n",
       "\t 삼성SDS & 30\\\\\n",
       "\t LG CNS  & 31\\\\\n",
       "\\end{tabular}\n"
      ],
      "text/markdown": [
       "\n",
       "A tibble: 2 × 2\n",
       "\n",
       "| 기업명 &lt;chr&gt; | 빈도_2023 &lt;dbl&gt; |\n",
       "|---|---|\n",
       "| 삼성SDS | 30 |\n",
       "| LG CNS  | 31 |\n",
       "\n"
      ],
      "text/plain": [
       "  기업명  빈도_2023\n",
       "1 삼성SDS 30       \n",
       "2 LG CNS  31       "
      ]
     },
     "metadata": {},
     "output_type": "display_data"
    },
    {
     "data": {
      "text/html": [
       "<table class=\"dataframe\">\n",
       "<caption>A tibble: 2 × 2</caption>\n",
       "<thead>\n",
       "\t<tr><th scope=col>기업명</th><th scope=col>빈도_2024</th></tr>\n",
       "\t<tr><th scope=col>&lt;chr&gt;</th><th scope=col>&lt;dbl&gt;</th></tr>\n",
       "</thead>\n",
       "<tbody>\n",
       "\t<tr><td>삼성SDS  </td><td>19</td></tr>\n",
       "\t<tr><td>SK 텔레콤</td><td>17</td></tr>\n",
       "</tbody>\n",
       "</table>\n"
      ],
      "text/latex": [
       "A tibble: 2 × 2\n",
       "\\begin{tabular}{ll}\n",
       " 기업명 & 빈도\\_2024\\\\\n",
       " <chr> & <dbl>\\\\\n",
       "\\hline\n",
       "\t 삼성SDS   & 19\\\\\n",
       "\t SK 텔레콤 & 17\\\\\n",
       "\\end{tabular}\n"
      ],
      "text/markdown": [
       "\n",
       "A tibble: 2 × 2\n",
       "\n",
       "| 기업명 &lt;chr&gt; | 빈도_2024 &lt;dbl&gt; |\n",
       "|---|---|\n",
       "| 삼성SDS   | 19 |\n",
       "| SK 텔레콤 | 17 |\n",
       "\n"
      ],
      "text/plain": [
       "  기업명    빈도_2024\n",
       "1 삼성SDS   19       \n",
       "2 SK 텔레콤 17       "
      ]
     },
     "metadata": {},
     "output_type": "display_data"
    }
   ],
   "source": [
    "# 15번\n",
    "\n",
    "com1 <- read_xlsx(\"../mydata/기업데이터-merge.xlsx\", sheet = 1)\n",
    "com2 <- read_xlsx(\"../mydata/기업데이터-merge.xlsx\", sheet = 2)\n",
    "com3 <- read_xlsx(\"../mydata/기업데이터-merge.xlsx\", sheet = 3)\n",
    "\n",
    "head(com1, 2)\n",
    "head(com2, 2)\n",
    "head(com3, 2)"
   ]
  },
  {
   "cell_type": "code",
   "execution_count": 17,
   "metadata": {
    "vscode": {
     "languageId": "r"
    }
   },
   "outputs": [
    {
     "data": {
      "text/html": [
       "<table class=\"dataframe\">\n",
       "<caption>A data.frame: 4 × 4</caption>\n",
       "<thead>\n",
       "\t<tr><th></th><th scope=col>기업명</th><th scope=col>빈도_2021</th><th scope=col>빈도_2023</th><th scope=col>빈도_2024</th></tr>\n",
       "\t<tr><th></th><th scope=col>&lt;chr&gt;</th><th scope=col>&lt;dbl&gt;</th><th scope=col>&lt;dbl&gt;</th><th scope=col>&lt;dbl&gt;</th></tr>\n",
       "</thead>\n",
       "<tbody>\n",
       "\t<tr><th scope=row>1</th><td>㈜시큐레이어</td><td>NA</td><td>NA</td><td> 1</td></tr>\n",
       "\t<tr><th scope=row>4</th><td>KT넥스알    </td><td> 9</td><td>11</td><td>11</td></tr>\n",
       "\t<tr><th scope=row>27</th><td>삼성SDS     </td><td>28</td><td>30</td><td>19</td></tr>\n",
       "\t<tr><th scope=row>50</th><td>위엠비      </td><td> 1</td><td>NA</td><td>NA</td></tr>\n",
       "</tbody>\n",
       "</table>\n"
      ],
      "text/latex": [
       "A data.frame: 4 × 4\n",
       "\\begin{tabular}{r|llll}\n",
       "  & 기업명 & 빈도\\_2021 & 빈도\\_2023 & 빈도\\_2024\\\\\n",
       "  & <chr> & <dbl> & <dbl> & <dbl>\\\\\n",
       "\\hline\n",
       "\t1 & ㈜시큐레이어 & NA & NA &  1\\\\\n",
       "\t4 & KT넥스알     &  9 & 11 & 11\\\\\n",
       "\t27 & 삼성SDS      & 28 & 30 & 19\\\\\n",
       "\t50 & 위엠비       &  1 & NA & NA\\\\\n",
       "\\end{tabular}\n"
      ],
      "text/markdown": [
       "\n",
       "A data.frame: 4 × 4\n",
       "\n",
       "| <!--/--> | 기업명 &lt;chr&gt; | 빈도_2021 &lt;dbl&gt; | 빈도_2023 &lt;dbl&gt; | 빈도_2024 &lt;dbl&gt; |\n",
       "|---|---|---|---|---|\n",
       "| 1 | ㈜시큐레이어 | NA | NA |  1 |\n",
       "| 4 | KT넥스알     |  9 | 11 | 11 |\n",
       "| 27 | 삼성SDS      | 28 | 30 | 19 |\n",
       "| 50 | 위엠비       |  1 | NA | NA |\n",
       "\n"
      ],
      "text/plain": [
       "   기업명       빈도_2021 빈도_2023 빈도_2024\n",
       "1  ㈜시큐레이어 NA        NA         1       \n",
       "4  KT넥스알      9        11        11       \n",
       "27 삼성SDS      28        30        19       \n",
       "50 위엠비        1        NA        NA       "
      ]
     },
     "metadata": {},
     "output_type": "display_data"
    }
   ],
   "source": [
    "# 16번 \n",
    "data <- merge(com1, com2, all = TRUE)\n",
    "data <- merge(data, com3, all = TRUE)\n",
    "\n",
    "data[c(1, 4, 27, 50), ]"
   ]
  },
  {
   "cell_type": "code",
   "execution_count": 18,
   "metadata": {
    "vscode": {
     "languageId": "r"
    }
   },
   "outputs": [
    {
     "data": {
      "text/html": [
       "<table class=\"dataframe\">\n",
       "<caption>A data.frame: 4 × 4</caption>\n",
       "<thead>\n",
       "\t<tr><th></th><th scope=col>기업명</th><th scope=col>빈도_2021</th><th scope=col>빈도_2023</th><th scope=col>빈도_2024</th></tr>\n",
       "\t<tr><th></th><th scope=col>&lt;chr&gt;</th><th scope=col>&lt;dbl&gt;</th><th scope=col>&lt;dbl&gt;</th><th scope=col>&lt;dbl&gt;</th></tr>\n",
       "</thead>\n",
       "<tbody>\n",
       "\t<tr><th scope=row>1</th><td>㈜시큐레이어</td><td> 0</td><td> 0</td><td> 1</td></tr>\n",
       "\t<tr><th scope=row>4</th><td>KT넥스알    </td><td> 9</td><td>11</td><td>11</td></tr>\n",
       "\t<tr><th scope=row>27</th><td>삼성SDS     </td><td>28</td><td>30</td><td>19</td></tr>\n",
       "\t<tr><th scope=row>50</th><td>위엠비      </td><td> 1</td><td> 0</td><td> 0</td></tr>\n",
       "</tbody>\n",
       "</table>\n"
      ],
      "text/latex": [
       "A data.frame: 4 × 4\n",
       "\\begin{tabular}{r|llll}\n",
       "  & 기업명 & 빈도\\_2021 & 빈도\\_2023 & 빈도\\_2024\\\\\n",
       "  & <chr> & <dbl> & <dbl> & <dbl>\\\\\n",
       "\\hline\n",
       "\t1 & ㈜시큐레이어 &  0 &  0 &  1\\\\\n",
       "\t4 & KT넥스알     &  9 & 11 & 11\\\\\n",
       "\t27 & 삼성SDS      & 28 & 30 & 19\\\\\n",
       "\t50 & 위엠비       &  1 &  0 &  0\\\\\n",
       "\\end{tabular}\n"
      ],
      "text/markdown": [
       "\n",
       "A data.frame: 4 × 4\n",
       "\n",
       "| <!--/--> | 기업명 &lt;chr&gt; | 빈도_2021 &lt;dbl&gt; | 빈도_2023 &lt;dbl&gt; | 빈도_2024 &lt;dbl&gt; |\n",
       "|---|---|---|---|---|\n",
       "| 1 | ㈜시큐레이어 |  0 |  0 |  1 |\n",
       "| 4 | KT넥스알     |  9 | 11 | 11 |\n",
       "| 27 | 삼성SDS      | 28 | 30 | 19 |\n",
       "| 50 | 위엠비       |  1 |  0 |  0 |\n",
       "\n"
      ],
      "text/plain": [
       "   기업명       빈도_2021 빈도_2023 빈도_2024\n",
       "1  ㈜시큐레이어  0         0         1       \n",
       "4  KT넥스알      9        11        11       \n",
       "27 삼성SDS      28        30        19       \n",
       "50 위엠비        1         0         0       "
      ]
     },
     "metadata": {},
     "output_type": "display_data"
    }
   ],
   "source": [
    "# 17번\n",
    "data[is.na(data) ] <- 0\n",
    "data[c(1, 4, 27, 50), ]"
   ]
  },
  {
   "cell_type": "code",
   "execution_count": 19,
   "metadata": {
    "vscode": {
     "languageId": "r"
    }
   },
   "outputs": [
    {
     "data": {
      "text/html": [
       "<table class=\"dataframe\">\n",
       "<caption>A data.frame: 6 × 5</caption>\n",
       "<thead>\n",
       "\t<tr><th></th><th scope=col>기업명</th><th scope=col>빈도_2021</th><th scope=col>빈도_2023</th><th scope=col>빈도_2024</th><th scope=col>합계</th></tr>\n",
       "\t<tr><th></th><th scope=col>&lt;chr&gt;</th><th scope=col>&lt;dbl&gt;</th><th scope=col>&lt;dbl&gt;</th><th scope=col>&lt;dbl&gt;</th><th scope=col>&lt;dbl&gt;</th></tr>\n",
       "</thead>\n",
       "<tbody>\n",
       "\t<tr><th scope=row>27</th><td>삼성SDS              </td><td>28</td><td>30</td><td>19</td><td>77</td></tr>\n",
       "\t<tr><th scope=row>5</th><td>LG CNS               </td><td>20</td><td>31</td><td>18</td><td>69</td></tr>\n",
       "\t<tr><th scope=row>9</th><td>SK 텔레콤            </td><td>25</td><td>22</td><td>17</td><td>64</td></tr>\n",
       "\t<tr><th scope=row>64</th><td>투이컨설팅           </td><td> 0</td><td> 1</td><td> 0</td><td> 1</td></tr>\n",
       "\t<tr><th scope=row>66</th><td>펜타시스템 테크놀러지</td><td> 1</td><td> 0</td><td> 0</td><td> 1</td></tr>\n",
       "\t<tr><th scope=row>67</th><td>포엠스               </td><td> 0</td><td> 0</td><td> 1</td><td> 1</td></tr>\n",
       "</tbody>\n",
       "</table>\n"
      ],
      "text/latex": [
       "A data.frame: 6 × 5\n",
       "\\begin{tabular}{r|lllll}\n",
       "  & 기업명 & 빈도\\_2021 & 빈도\\_2023 & 빈도\\_2024 & 합계\\\\\n",
       "  & <chr> & <dbl> & <dbl> & <dbl> & <dbl>\\\\\n",
       "\\hline\n",
       "\t27 & 삼성SDS               & 28 & 30 & 19 & 77\\\\\n",
       "\t5 & LG CNS                & 20 & 31 & 18 & 69\\\\\n",
       "\t9 & SK 텔레콤             & 25 & 22 & 17 & 64\\\\\n",
       "\t64 & 투이컨설팅            &  0 &  1 &  0 &  1\\\\\n",
       "\t66 & 펜타시스템 테크놀러지 &  1 &  0 &  0 &  1\\\\\n",
       "\t67 & 포엠스                &  0 &  0 &  1 &  1\\\\\n",
       "\\end{tabular}\n"
      ],
      "text/markdown": [
       "\n",
       "A data.frame: 6 × 5\n",
       "\n",
       "| <!--/--> | 기업명 &lt;chr&gt; | 빈도_2021 &lt;dbl&gt; | 빈도_2023 &lt;dbl&gt; | 빈도_2024 &lt;dbl&gt; | 합계 &lt;dbl&gt; |\n",
       "|---|---|---|---|---|---|\n",
       "| 27 | 삼성SDS               | 28 | 30 | 19 | 77 |\n",
       "| 5 | LG CNS                | 20 | 31 | 18 | 69 |\n",
       "| 9 | SK 텔레콤             | 25 | 22 | 17 | 64 |\n",
       "| 64 | 투이컨설팅            |  0 |  1 |  0 |  1 |\n",
       "| 66 | 펜타시스템 테크놀러지 |  1 |  0 |  0 |  1 |\n",
       "| 67 | 포엠스                |  0 |  0 |  1 |  1 |\n",
       "\n"
      ],
      "text/plain": [
       "   기업명                빈도_2021 빈도_2023 빈도_2024 합계\n",
       "27 삼성SDS               28        30        19        77  \n",
       "5  LG CNS                20        31        18        69  \n",
       "9  SK 텔레콤             25        22        17        64  \n",
       "64 투이컨설팅             0         1         0         1  \n",
       "66 펜타시스템 테크놀러지  1         0         0         1  \n",
       "67 포엠스                 0         0         1         1  "
      ]
     },
     "metadata": {},
     "output_type": "display_data"
    }
   ],
   "source": [
    "# 18번\n",
    "data$합계 <- rowSums(data[, sapply(data, is.numeric)])\n",
    "\n",
    "data_sort <- data[order(-data$합계), ]\n",
    "result <- rbind(head(data_sort, 3), tail(data_sort, 3))\n",
    "result\n"
   ]
  },
  {
   "cell_type": "code",
   "execution_count": 20,
   "metadata": {
    "vscode": {
     "languageId": "r"
    }
   },
   "outputs": [
    {
     "data": {
      "text/html": [
       "<style>\n",
       ".list-inline {list-style: none; margin:0; padding: 0}\n",
       ".list-inline>li {display: inline-block}\n",
       ".list-inline>li:not(:last-child)::after {content: \"\\00b7\"; padding: 0 .5ex}\n",
       "</style>\n",
       "<ol class=list-inline><li>'../Exercise-3/df.xlsx'</li><li>'../Exercise-3/S01.xlsx'</li><li>'../Exercise-3/S02.xlsx'</li><li>'../Exercise-3/S03.xlsx'</li><li>'../Exercise-3/S04.xlsx'</li><li>'../Exercise-3/S05.xlsx'</li><li>'../Exercise-3/S06.xlsx'</li><li>'../Exercise-3/S07.xlsx'</li><li>'../Exercise-3/S08.xlsx'</li><li>'../Exercise-3/S09.xlsx'</li><li>'../Exercise-3/S10.xlsx'</li><li>'../Exercise-3/S11.xlsx'</li><li>'../Exercise-3/S12.xlsx'</li><li>'../Exercise-3/S13.xlsx'</li><li>'../Exercise-3/S14.xlsx'</li><li>'../Exercise-3/S15.xlsx'</li><li>'../Exercise-3/S16.xlsx'</li><li>'../Exercise-3/S17.xlsx'</li><li>'../Exercise-3/S18.xlsx'</li><li>'../Exercise-3/S19.xlsx'</li><li>'../Exercise-3/S20.xlsx'</li><li>'../Exercise-3/S21.xlsx'</li><li>'../Exercise-3/S22.xlsx'</li><li>'../Exercise-3/S23.xlsx'</li><li>'../Exercise-3/S24.xlsx'</li><li>'../Exercise-3/S25.xlsx'</li><li>'../Exercise-3/S26.xlsx'</li><li>'../Exercise-3/S27.xlsx'</li><li>'../Exercise-3/S28.xlsx'</li><li>'../Exercise-3/S29.xlsx'</li><li>'../Exercise-3/S30.xlsx'</li><li>'../Exercise-3/S31.xlsx'</li><li>'../Exercise-3/S32.xlsx'</li></ol>\n"
      ],
      "text/latex": [
       "\\begin{enumerate*}\n",
       "\\item '../Exercise-3/df.xlsx'\n",
       "\\item '../Exercise-3/S01.xlsx'\n",
       "\\item '../Exercise-3/S02.xlsx'\n",
       "\\item '../Exercise-3/S03.xlsx'\n",
       "\\item '../Exercise-3/S04.xlsx'\n",
       "\\item '../Exercise-3/S05.xlsx'\n",
       "\\item '../Exercise-3/S06.xlsx'\n",
       "\\item '../Exercise-3/S07.xlsx'\n",
       "\\item '../Exercise-3/S08.xlsx'\n",
       "\\item '../Exercise-3/S09.xlsx'\n",
       "\\item '../Exercise-3/S10.xlsx'\n",
       "\\item '../Exercise-3/S11.xlsx'\n",
       "\\item '../Exercise-3/S12.xlsx'\n",
       "\\item '../Exercise-3/S13.xlsx'\n",
       "\\item '../Exercise-3/S14.xlsx'\n",
       "\\item '../Exercise-3/S15.xlsx'\n",
       "\\item '../Exercise-3/S16.xlsx'\n",
       "\\item '../Exercise-3/S17.xlsx'\n",
       "\\item '../Exercise-3/S18.xlsx'\n",
       "\\item '../Exercise-3/S19.xlsx'\n",
       "\\item '../Exercise-3/S20.xlsx'\n",
       "\\item '../Exercise-3/S21.xlsx'\n",
       "\\item '../Exercise-3/S22.xlsx'\n",
       "\\item '../Exercise-3/S23.xlsx'\n",
       "\\item '../Exercise-3/S24.xlsx'\n",
       "\\item '../Exercise-3/S25.xlsx'\n",
       "\\item '../Exercise-3/S26.xlsx'\n",
       "\\item '../Exercise-3/S27.xlsx'\n",
       "\\item '../Exercise-3/S28.xlsx'\n",
       "\\item '../Exercise-3/S29.xlsx'\n",
       "\\item '../Exercise-3/S30.xlsx'\n",
       "\\item '../Exercise-3/S31.xlsx'\n",
       "\\item '../Exercise-3/S32.xlsx'\n",
       "\\end{enumerate*}\n"
      ],
      "text/markdown": [
       "1. '../Exercise-3/df.xlsx'\n",
       "2. '../Exercise-3/S01.xlsx'\n",
       "3. '../Exercise-3/S02.xlsx'\n",
       "4. '../Exercise-3/S03.xlsx'\n",
       "5. '../Exercise-3/S04.xlsx'\n",
       "6. '../Exercise-3/S05.xlsx'\n",
       "7. '../Exercise-3/S06.xlsx'\n",
       "8. '../Exercise-3/S07.xlsx'\n",
       "9. '../Exercise-3/S08.xlsx'\n",
       "10. '../Exercise-3/S09.xlsx'\n",
       "11. '../Exercise-3/S10.xlsx'\n",
       "12. '../Exercise-3/S11.xlsx'\n",
       "13. '../Exercise-3/S12.xlsx'\n",
       "14. '../Exercise-3/S13.xlsx'\n",
       "15. '../Exercise-3/S14.xlsx'\n",
       "16. '../Exercise-3/S15.xlsx'\n",
       "17. '../Exercise-3/S16.xlsx'\n",
       "18. '../Exercise-3/S17.xlsx'\n",
       "19. '../Exercise-3/S18.xlsx'\n",
       "20. '../Exercise-3/S19.xlsx'\n",
       "21. '../Exercise-3/S20.xlsx'\n",
       "22. '../Exercise-3/S21.xlsx'\n",
       "23. '../Exercise-3/S22.xlsx'\n",
       "24. '../Exercise-3/S23.xlsx'\n",
       "25. '../Exercise-3/S24.xlsx'\n",
       "26. '../Exercise-3/S25.xlsx'\n",
       "27. '../Exercise-3/S26.xlsx'\n",
       "28. '../Exercise-3/S27.xlsx'\n",
       "29. '../Exercise-3/S28.xlsx'\n",
       "30. '../Exercise-3/S29.xlsx'\n",
       "31. '../Exercise-3/S30.xlsx'\n",
       "32. '../Exercise-3/S31.xlsx'\n",
       "33. '../Exercise-3/S32.xlsx'\n",
       "\n",
       "\n"
      ],
      "text/plain": [
       " [1] \"../Exercise-3/df.xlsx\"  \"../Exercise-3/S01.xlsx\" \"../Exercise-3/S02.xlsx\"\n",
       " [4] \"../Exercise-3/S03.xlsx\" \"../Exercise-3/S04.xlsx\" \"../Exercise-3/S05.xlsx\"\n",
       " [7] \"../Exercise-3/S06.xlsx\" \"../Exercise-3/S07.xlsx\" \"../Exercise-3/S08.xlsx\"\n",
       "[10] \"../Exercise-3/S09.xlsx\" \"../Exercise-3/S10.xlsx\" \"../Exercise-3/S11.xlsx\"\n",
       "[13] \"../Exercise-3/S12.xlsx\" \"../Exercise-3/S13.xlsx\" \"../Exercise-3/S14.xlsx\"\n",
       "[16] \"../Exercise-3/S15.xlsx\" \"../Exercise-3/S16.xlsx\" \"../Exercise-3/S17.xlsx\"\n",
       "[19] \"../Exercise-3/S18.xlsx\" \"../Exercise-3/S19.xlsx\" \"../Exercise-3/S20.xlsx\"\n",
       "[22] \"../Exercise-3/S21.xlsx\" \"../Exercise-3/S22.xlsx\" \"../Exercise-3/S23.xlsx\"\n",
       "[25] \"../Exercise-3/S24.xlsx\" \"../Exercise-3/S25.xlsx\" \"../Exercise-3/S26.xlsx\"\n",
       "[28] \"../Exercise-3/S27.xlsx\" \"../Exercise-3/S28.xlsx\" \"../Exercise-3/S29.xlsx\"\n",
       "[31] \"../Exercise-3/S30.xlsx\" \"../Exercise-3/S31.xlsx\" \"../Exercise-3/S32.xlsx\""
      ]
     },
     "metadata": {},
     "output_type": "display_data"
    },
    {
     "data": {
      "text/html": [
       "<table class=\"dataframe\">\n",
       "<caption>A tibble: 160 × 8</caption>\n",
       "<thead>\n",
       "\t<tr><th scope=col>ID</th><th scope=col>번호</th><th scope=col>기업명</th><th scope=col>주 솔루션</th><th scope=col>소재지</th><th scope=col>설립년도</th><th scope=col>직원수</th><th scope=col>취업 희망 순위</th></tr>\n",
       "\t<tr><th scope=col>&lt;chr&gt;</th><th scope=col>&lt;dbl&gt;</th><th scope=col>&lt;chr&gt;</th><th scope=col>&lt;chr&gt;</th><th scope=col>&lt;chr&gt;</th><th scope=col>&lt;chr&gt;</th><th scope=col>&lt;chr&gt;</th><th scope=col>&lt;dbl&gt;</th></tr>\n",
       "</thead>\n",
       "<tbody>\n",
       "\t<tr><td>S1</td><td>1</td><td>SK 텔레콤                    </td><td>이동전화,무선호출서비스,부가통신                                       </td><td>대한민국 서울특별시 중구 을지로 65 (을지로2가)                </td><td>1984년 3월 29일</td><td>5,741명                </td><td>2</td></tr>\n",
       "\t<tr><td>S1</td><td>2</td><td>삼성SDS                      </td><td>Brightics IoT                                                          </td><td>서울 송파구 올림픽로35길 125                                  </td><td>1985년 5월 1일 </td><td>11,404명               </td><td>1</td></tr>\n",
       "\t<tr><td>S1</td><td>3</td><td>오라클                       </td><td>수집/정리                                                              </td><td>텍사스주 오스틴                                               </td><td>1977년 6월 16일</td><td>164,000명              </td><td>5</td></tr>\n",
       "\t<tr><td>S1</td><td>4</td><td>현대HDS                      </td><td>스토리지 구축 컨설팅, 구성 및 구축 서비스, 유지보수 서비스             </td><td>서울특별시 송파구 송파대로 570                                </td><td>1994년 7월 21일</td><td>361명                  </td><td>3</td></tr>\n",
       "\t<tr><td>S1</td><td>5</td><td>LG CNS                       </td><td>IT인프라, 빅데이터                                                     </td><td>서울특별시 강서구 마곡중앙8로 71, E13                         </td><td>1987년 1월 14일</td><td>6,743명                </td><td>4</td></tr>\n",
       "\t<tr><td>S2</td><td>1</td><td>LG CNS                       </td><td>인공지능                                                               </td><td>서울특별시 강서구 마곡중앙8로 71, E13 (마곡동, LG사이언스파크)</td><td>31791          </td><td>6,743명 (2023)         </td><td>2</td></tr>\n",
       "\t<tr><td>S2</td><td>2</td><td>데이타솔루션                 </td><td>빅데이터                                                               </td><td> 서울시 강남구 언주로 620 현대인텔렉스 10층(5층, 11층)        </td><td>2011년         </td><td>234명 (2024년 1월 기준)</td><td>4</td></tr>\n",
       "\t<tr><td>S2</td><td>3</td><td>롯데정보통신 (롯데이노베이트)</td><td>빅데이터                                                               </td><td>서울특별시 금천구 가산디지털2로 179 (가산동)                  </td><td>43040          </td><td>2,950명                </td><td>3</td></tr>\n",
       "\t<tr><td>S2</td><td>4</td><td>삼성SDS                      </td><td>인공지능                                                               </td><td>서울시 송파구 올림픽로 35길 125 삼성SDS                       </td><td>31168          </td><td>25,485명               </td><td>1</td></tr>\n",
       "\t<tr><td>S2</td><td>5</td><td>오라클                       </td><td>클라우드 서비스                                                        </td><td>미국 국기 미국 텍사스주 오스틴                                </td><td>28292          </td><td>164,000명(2022년)      </td><td>5</td></tr>\n",
       "\t<tr><td>S3</td><td>1</td><td>KT넥스알                     </td><td>빅데이터, 클라우드                                                     </td><td>서울                                                          </td><td>2016년         </td><td>약 100명               </td><td>5</td></tr>\n",
       "\t<tr><td>S3</td><td>2</td><td>LG CNS                       </td><td>IT 서비스, 스마트팩토리                                                </td><td>서울                                                          </td><td>1987년         </td><td>약 15,000명            </td><td>4</td></tr>\n",
       "\t<tr><td>S3</td><td>3</td><td>SK 텔레콤                    </td><td>통신, 인공지능(AI)                                                     </td><td>서울                                                          </td><td>1984년         </td><td>약 6,000명             </td><td>3</td></tr>\n",
       "\t<tr><td>S3</td><td>4</td><td>롯데정보통신                 </td><td>IT 서비스, 스마트시티                                                  </td><td>서울                                                          </td><td>1996년         </td><td>약 4,000명             </td><td>2</td></tr>\n",
       "\t<tr><td>S3</td><td>5</td><td>삼성SDS                      </td><td>IT 서비스, 클라우드, AI                                                </td><td>서울                                                          </td><td>1985년         </td><td>약 12,000명            </td><td>1</td></tr>\n",
       "\t<tr><td>S4</td><td>1</td><td>삼성SDS                      </td><td>분석(Brightics AI)                                                     </td><td>서울시 송파구 올림픽로 35길 125 (신천동)                      </td><td>31168          </td><td>11,404명               </td><td>1</td></tr>\n",
       "\t<tr><td>S4</td><td>2</td><td>SK 텔레콤                    </td><td>플랫폼(지오비전)                                                       </td><td>서울시 중구 을지로 65 SK T타워                                </td><td>1984년/04/20   </td><td>5741명                 </td><td>2</td></tr>\n",
       "\t<tr><td>S4</td><td>3</td><td>LG CNS                       </td><td>분석(SENA-FDS)                                                         </td><td>서울특별시 강서구 마곡중앙8로 71 (마곡동)                     </td><td>1987년         </td><td>6,930명                </td><td>3</td></tr>\n",
       "\t<tr><td>S4</td><td>4</td><td>한국오라클                   </td><td>수집/정리(Oracle IoT Cloud Service                                     </td><td>서울특별시 강남구 삼성1동 영동대로 517                        </td><td>1989년         </td><td>715명                  </td><td>4</td></tr>\n",
       "\t<tr><td>S4</td><td>5</td><td>KT넥스알                     </td><td>분석(Lean Stream)                                                      </td><td>서울특별시 송파구 올림픽로 295                                </td><td>2007년 1월     </td><td>114명                  </td><td>5</td></tr>\n",
       "\t<tr><td>S5</td><td>1</td><td>티맥스소프트                 </td><td>클라우드·SaaS(서비스형 소프트웨어)·AI(인공지능)                        </td><td>경기도 성남시 분당구 황새울로258번길 29                       </td><td>1997년 06월    </td><td>540명                  </td><td>3</td></tr>\n",
       "\t<tr><td>S5</td><td>2</td><td>다이퀘스트                   </td><td>지능형 검색, 빅데이터 분석, 인공지능형 챗봇 등 인공지능 및 자연어처리  </td><td>서울특별시 구로구 디지털로30길 31                             </td><td>36588          </td><td>220명                  </td><td>5</td></tr>\n",
       "\t<tr><td>S5</td><td>3</td><td>삼성SDS                      </td><td>인공지능, 애널리틱스, Brightics AI, 사물인터넷, Brightics LOT, 블록체인</td><td>서울특별시 송파구 올림픽로35길 125                            </td><td>31168          </td><td>11,332명               </td><td>1</td></tr>\n",
       "\t<tr><td>S5</td><td>4</td><td>데이타솔루션                 </td><td>Cloud, IT Modernization, Analytics Service                             </td><td>서울특별시 강남구 언주로 620                                  </td><td>40546          </td><td>253명                  </td><td>4</td></tr>\n",
       "\t<tr><td>S5</td><td>5</td><td>롯데정보통신                 </td><td>AI, Bigdata, IoT, Cloud                                                </td><td>서울특별시 금천구 가산디지털2로 179                           </td><td>43041          </td><td>2,885명                </td><td>2</td></tr>\n",
       "\t<tr><td>S6</td><td>1</td><td><span style=white-space:pre-wrap>sk 텔레콤                    </span></td><td><span style=white-space:pre-wrap>통신서비스, AI&amp;디지털서비스                                            </span></td><td><span style=white-space:pre-wrap>서울시 중구 을지로 65 SK T타워                                </span></td><td><span style=white-space:pre-wrap>1984.3.2.      </span></td><td><span style=white-space:pre-wrap>5741명                 </span></td><td>1</td></tr>\n",
       "\t<tr><td>S6</td><td>2</td><td>삼성SDS                      </td><td>Brightics IoT,Brightics AI                                             </td><td>서울특별시 송파구 올림픽로35길 125                            </td><td>1985. 5. 1.    </td><td>11332명                </td><td>2</td></tr>\n",
       "\t<tr><td>S6</td><td>3</td><td>LG CNS                       </td><td>SBP Appliance,Smart SMA                                                </td><td>서울특별시 강서구 마곡중앙8로 71                              </td><td>1987. 1. 14.   </td><td>6930명                 </td><td>3</td></tr>\n",
       "\t<tr><td>S6</td><td>4</td><td>한컴MDS                      </td><td>Splunk,Dataiku                                                         </td><td>경기도 성남시 분당구 대왕판교로644번길 49                     </td><td>1998. 12. 29.  </td><td>133명                  </td><td>4</td></tr>\n",
       "\t<tr><td>S6</td><td>5</td><td>KT넥스알                     </td><td>Technical Consulting,IoT(Velocity) ,NDAP                               </td><td>서울특별시 송파구 올림픽로 295                                </td><td>2007. 1. 31.   </td><td>100명~200명 미만       </td><td>5</td></tr>\n",
       "\t<tr><td>⋮</td><td>⋮</td><td>⋮</td><td>⋮</td><td>⋮</td><td>⋮</td><td>⋮</td><td>⋮</td></tr>\n",
       "\t<tr><td>S27</td><td>1</td><td>오라클                                  </td><td>클라우드 인프라(OCI), 자율 데이터베이스, SaaS(Software as a Service)                                       </td><td>서울 강남구 영동대로 517(15, 16, 36층)                   </td><td>1989.11.01</td><td>850                </td><td>1</td></tr>\n",
       "\t<tr><td>S27</td><td>2</td><td>SK 텔레콤                               </td><td>5G 통신 솔루션, AI 플랫폼 (Aibril)                                                                         </td><td>대한민국 서울특별시 중구 을지로 65 (을지로2가)           </td><td>1984.03.29</td><td>5741               </td><td>2</td></tr>\n",
       "\t<tr><td>S27</td><td>3</td><td>LG CNS                                  </td><td>J-Jobs, DAP(AI빅데이터 플랫폼), 스마트팩토리 솔루션                                                        </td><td>서울 강서구 마곡중앙8로 71 (마곡동, LG사이언스파크) E13동</td><td>1987.01.14</td><td>6930               </td><td>3</td></tr>\n",
       "\t<tr><td>S27</td><td>4</td><td>삼성SDS                                 </td><td>패브릭스 (Fabrics), SRM SaaS 솔루션, 클라우드 서비스                                                       </td><td>서울 송파구 올림픽로35길 125 (신천동, 삼성SDS)           </td><td>1985.05.01</td><td>12501              </td><td>4</td></tr>\n",
       "\t<tr><td>S27</td><td>5</td><td>데이타솔루션                            </td><td>SI서비스, 빅데이터 솔루션, 스토리지 솔루션                                                                 </td><td>서울 강남구 언주로 620 (논현동, 현대인텔렉스) 11층       </td><td>NA        </td><td>234                </td><td>5</td></tr>\n",
       "\t<tr><td>S28</td><td>1</td><td>LG CNS                                  </td><td>클라우드/빅데이터                                                                                          </td><td>서울특별시 강서구 마곡 중앙8로 71                        </td><td>31791     </td><td>6743명             </td><td>1</td></tr>\n",
       "\t<tr><td>S28</td><td>2</td><td>sk텔레콤                                </td><td>무선데이터,정보통신                                                                                        </td><td>서울특별시 중구 을지로 65                                </td><td>30770     </td><td>5339명             </td><td>2</td></tr>\n",
       "\t<tr><td>S28</td><td>3</td><td>데이타솔루션                            </td><td>빅데이터/클라우드                                                                                          </td><td>서울시 강남구 언주로 620                                 </td><td>2010년    </td><td>252명              </td><td>4</td></tr>\n",
       "\t<tr><td>S28</td><td>4</td><td>와이즈넛                                </td><td>인공지능                                                                                                   </td><td>경기도 성남시 분당구                                     </td><td>36662     </td><td>331명              </td><td>3</td></tr>\n",
       "\t<tr><td>S28</td><td>5</td><td>코난테크놀로지                          </td><td>인공지능 소프트웨어                                                                                        </td><td>서울특별시 서초구 강남대로327                            </td><td>1999년    </td><td>242명              </td><td>5</td></tr>\n",
       "\t<tr><td>S29</td><td>1</td><td>삼성SDS                                 </td><td>Brightics IoT                                                                                              </td><td>서울 송파구 올림픽로35길 125                             </td><td>483753600 </td><td>11404명            </td><td>2</td></tr>\n",
       "\t<tr><td>S29</td><td>2</td><td>롯데정보통신(롯데이노베이트로 사명 변경)</td><td>Digital Transformation - Bigdata                                                                           </td><td>서울 금천구 가산동 롯데정보통신                          </td><td>1509580800</td><td>2885명 (2024.06)   </td><td>1</td></tr>\n",
       "\t<tr><td>S29</td><td>3</td><td>솔트룩스                                </td><td>빅오(BigO)                                                                                                 </td><td>서울 강남구 언주로 538                                   </td><td>366854400 </td><td>175명 (2024.06)    </td><td>4</td></tr>\n",
       "\t<tr><td>S29</td><td>4</td><td>SK 텔레콤                               </td><td>유무선 통신 사업과 미디어, 보안, 커머스, lo, 모빌리티 등의 New Biz 사업                                    </td><td>서울 특별시 중구 을지로 65 SK T-타워 (우)04539           </td><td>449366400 </td><td>5741명 (2024.06)   </td><td>3</td></tr>\n",
       "\t<tr><td>S29</td><td>5</td><td>넷크루즈                                </td><td>관리/분석                                                                                                  </td><td>서울 구로구 디지털로33길                                 </td><td>996883200 </td><td>47명 (2024.02)     </td><td>5</td></tr>\n",
       "\t<tr><td>S30</td><td>1</td><td>LG CNS                                  </td><td>인공지능                                                                                                   </td><td>서울특별시 강서구 마곡중앙8로 71 LG사이언스파크 E13      </td><td>537580800 </td><td>6930명             </td><td>1</td></tr>\n",
       "\t<tr><td>S30</td><td>2</td><td>SK 텔레콤                               </td><td>네트워크 통신                                                                                              </td><td>서울특별시 중구 을지로 65 \r\n",
       "SK T-타워 (우)04539        </td><td>451267200 </td><td>5699명             </td><td>5</td></tr>\n",
       "\t<tr><td>S30</td><td>3</td><td>삼성SDS                                 </td><td>소프트웨어                                                                                                 </td><td>서울 송파구 올림픽로35길 125                             </td><td>483753600 </td><td>11,488 명          </td><td>2</td></tr>\n",
       "\t<tr><td>S30</td><td>4</td><td>현대HDS                                 </td><td>스토리지                                                                                                   </td><td>서울특별시 송파구 송파대로 570 Tower730 (우)05510        </td><td>775699200 </td><td>361명              </td><td>4</td></tr>\n",
       "\t<tr><td>S30</td><td>5</td><td>오라클                                  </td><td>서버 및 스토리지                                                                                           </td><td>서울 강남구 삼성동 159-1 무역센터아셈타워12층,16층,36층  </td><td>625708800 </td><td>741명              </td><td>3</td></tr>\n",
       "\t<tr><td>S31</td><td>1</td><td>포엠스                                  </td><td>컴퓨터 프로그래밍 서비스업                                                                                 </td><td>서울 영등포구 문래동3가 55-20 에이스하이테크 2동 509호   </td><td>1473292800</td><td>25명(22-05-09)     </td><td>4</td></tr>\n",
       "\t<tr><td>S31</td><td>2</td><td>파수그룹 | ㈜스페로유                   </td><td>응용 소프트웨어 개발 및 공급업                                                                             </td><td>서울 마포구 월드컵북로 396(상암동, 누리꿈스퀘어) 파수닷컴</td><td>962323200 </td><td>269명(24-06-30)    </td><td>1</td></tr>\n",
       "\t<tr><td>S31</td><td>3</td><td>KT                                      </td><td>무선 및 위성통신업                                                                                         </td><td>경기 성남시 분당구 정자동 206                            </td><td>376790400 </td><td>19,284명 (24-06-30)</td><td>3</td></tr>\n",
       "\t<tr><td>S31</td><td>4</td><td>가비아                                  </td><td>네트워크·통신서비스                                                                                        </td><td>경기 성남시 분당구 삼평동 670번지 유스페이스1 B동 4층    </td><td>937872000 </td><td>379명              </td><td>2</td></tr>\n",
       "\t<tr><td>S31</td><td>5</td><td>쓰리웨이                                </td><td>컴퓨터 프로그래밍 서비스업                                                                                 </td><td>서울 금천구 벚꽃로 298 (가산동, 대륭포스트타워6차) 701호 </td><td>1263168000</td><td>22명               </td><td>5</td></tr>\n",
       "\t<tr><td>S32</td><td>1</td><td>LG CNS                                  </td><td>컴퓨터시스템 통합자문 및 구축                                                                              </td><td>서울 금천구 가산동                                       </td><td>1987.1.14 </td><td>6930명             </td><td>1</td></tr>\n",
       "\t<tr><td>S32</td><td>2</td><td>SK텔레콤                                </td><td>무선 및 위성 통신업                                                                                        </td><td>서울특별시 중구 을지로 65                                </td><td>1984.3.29 </td><td>5741명             </td><td>2</td></tr>\n",
       "\t<tr><td>S32</td><td>3</td><td>넷크루즈                                </td><td>응용소프트웨어 개발 및 공급업                                                                              </td><td>서울 구로구 구로동                                       </td><td>2001.08.04</td><td>40~70명            </td><td>3</td></tr>\n",
       "\t<tr><td>S32</td><td>4</td><td>바이브컴퍼니                            </td><td>소프트웨어개발/공급/임대                                                                                   </td><td>서울특별시 용산구 독서당로 97                            </td><td>2000.07.08</td><td>193명              </td><td>4</td></tr>\n",
       "\t<tr><td>S32</td><td>5</td><td>데이터솔루션                            </td><td>기계장비,물품 도매/EMC스토리지,SPSS,SI,시스템 통합 자문,구축,시스템소프트웨어,통신장비 개발,공급,검색솔루션</td><td>서울특별시 강남구 언주로 620                             </td><td>2011.01.03</td><td>253명              </td><td>5</td></tr>\n",
       "</tbody>\n",
       "</table>\n"
      ],
      "text/latex": [
       "A tibble: 160 × 8\n",
       "\\begin{tabular}{llllllll}\n",
       " ID & 번호 & 기업명 & 주 솔루션 & 소재지 & 설립년도 & 직원수 & 취업 희망 순위\\\\\n",
       " <chr> & <dbl> & <chr> & <chr> & <chr> & <chr> & <chr> & <dbl>\\\\\n",
       "\\hline\n",
       "\t S1 & 1 & SK 텔레콤                     & 이동전화,무선호출서비스,부가통신                                        & 대한민국 서울특별시 중구 을지로 65 (을지로2가)                 & 1984년 3월 29일 & 5,741명                 & 2\\\\\n",
       "\t S1 & 2 & 삼성SDS                       & Brightics IoT                                                           & 서울 송파구 올림픽로35길 125                                   & 1985년 5월 1일  & 11,404명                & 1\\\\\n",
       "\t S1 & 3 & 오라클                        & 수집/정리                                                               & 텍사스주 오스틴                                                & 1977년 6월 16일 & 164,000명               & 5\\\\\n",
       "\t S1 & 4 & 현대HDS                       & 스토리지 구축 컨설팅, 구성 및 구축 서비스, 유지보수 서비스              & 서울특별시 송파구 송파대로 570                                 & 1994년 7월 21일 & 361명                   & 3\\\\\n",
       "\t S1 & 5 & LG CNS                        & IT인프라, 빅데이터                                                      & 서울특별시 강서구 마곡중앙8로 71, E13                          & 1987년 1월 14일 & 6,743명                 & 4\\\\\n",
       "\t S2 & 1 & LG CNS                        & 인공지능                                                                & 서울특별시 강서구 마곡중앙8로 71, E13 (마곡동, LG사이언스파크) & 31791           & 6,743명 (2023)          & 2\\\\\n",
       "\t S2 & 2 & 데이타솔루션                  & 빅데이터                                                                &  서울시 강남구 언주로 620 현대인텔렉스 10층(5층, 11층)         & 2011년          & 234명 (2024년 1월 기준) & 4\\\\\n",
       "\t S2 & 3 & 롯데정보통신 (롯데이노베이트) & 빅데이터                                                                & 서울특별시 금천구 가산디지털2로 179 (가산동)                   & 43040           & 2,950명                 & 3\\\\\n",
       "\t S2 & 4 & 삼성SDS                       & 인공지능                                                                & 서울시 송파구 올림픽로 35길 125 삼성SDS                        & 31168           & 25,485명                & 1\\\\\n",
       "\t S2 & 5 & 오라클                        & 클라우드 서비스                                                         & 미국 국기 미국 텍사스주 오스틴                                 & 28292           & 164,000명(2022년)       & 5\\\\\n",
       "\t S3 & 1 & KT넥스알                      & 빅데이터, 클라우드                                                      & 서울                                                           & 2016년          & 약 100명                & 5\\\\\n",
       "\t S3 & 2 & LG CNS                        & IT 서비스, 스마트팩토리                                                 & 서울                                                           & 1987년          & 약 15,000명             & 4\\\\\n",
       "\t S3 & 3 & SK 텔레콤                     & 통신, 인공지능(AI)                                                      & 서울                                                           & 1984년          & 약 6,000명              & 3\\\\\n",
       "\t S3 & 4 & 롯데정보통신                  & IT 서비스, 스마트시티                                                   & 서울                                                           & 1996년          & 약 4,000명              & 2\\\\\n",
       "\t S3 & 5 & 삼성SDS                       & IT 서비스, 클라우드, AI                                                 & 서울                                                           & 1985년          & 약 12,000명             & 1\\\\\n",
       "\t S4 & 1 & 삼성SDS                       & 분석(Brightics AI)                                                      & 서울시 송파구 올림픽로 35길 125 (신천동)                       & 31168           & 11,404명                & 1\\\\\n",
       "\t S4 & 2 & SK 텔레콤                     & 플랫폼(지오비전)                                                        & 서울시 중구 을지로 65 SK T타워                                 & 1984년/04/20    & 5741명                  & 2\\\\\n",
       "\t S4 & 3 & LG CNS                        & 분석(SENA-FDS)                                                          & 서울특별시 강서구 마곡중앙8로 71 (마곡동)                      & 1987년          & 6,930명                 & 3\\\\\n",
       "\t S4 & 4 & 한국오라클                    & 수집/정리(Oracle IoT Cloud Service                                      & 서울특별시 강남구 삼성1동 영동대로 517                         & 1989년          & 715명                   & 4\\\\\n",
       "\t S4 & 5 & KT넥스알                      & 분석(Lean Stream)                                                       & 서울특별시 송파구 올림픽로 295                                 & 2007년 1월      & 114명                   & 5\\\\\n",
       "\t S5 & 1 & 티맥스소프트                  & 클라우드·SaaS(서비스형 소프트웨어)·AI(인공지능)                         & 경기도 성남시 분당구 황새울로258번길 29                        & 1997년 06월     & 540명                   & 3\\\\\n",
       "\t S5 & 2 & 다이퀘스트                    & 지능형 검색, 빅데이터 분석, 인공지능형 챗봇 등 인공지능 및 자연어처리   & 서울특별시 구로구 디지털로30길 31                              & 36588           & 220명                   & 5\\\\\n",
       "\t S5 & 3 & 삼성SDS                       & 인공지능, 애널리틱스, Brightics AI, 사물인터넷, Brightics LOT, 블록체인 & 서울특별시 송파구 올림픽로35길 125                             & 31168           & 11,332명                & 1\\\\\n",
       "\t S5 & 4 & 데이타솔루션                  & Cloud, IT Modernization, Analytics Service                              & 서울특별시 강남구 언주로 620                                   & 40546           & 253명                   & 4\\\\\n",
       "\t S5 & 5 & 롯데정보통신                  & AI, Bigdata, IoT, Cloud                                                 & 서울특별시 금천구 가산디지털2로 179                            & 43041           & 2,885명                 & 2\\\\\n",
       "\t S6 & 1 & sk 텔레콤                     & 통신서비스, AI\\&디지털서비스                                             & 서울시 중구 을지로 65 SK T타워                                 & 1984.3.2.       & 5741명                  & 1\\\\\n",
       "\t S6 & 2 & 삼성SDS                       & Brightics IoT,Brightics AI                                              & 서울특별시 송파구 올림픽로35길 125                             & 1985. 5. 1.     & 11332명                 & 2\\\\\n",
       "\t S6 & 3 & LG CNS                        & SBP Appliance,Smart SMA                                                 & 서울특별시 강서구 마곡중앙8로 71                               & 1987. 1. 14.    & 6930명                  & 3\\\\\n",
       "\t S6 & 4 & 한컴MDS                       & Splunk,Dataiku                                                          & 경기도 성남시 분당구 대왕판교로644번길 49                      & 1998. 12. 29.   & 133명                   & 4\\\\\n",
       "\t S6 & 5 & KT넥스알                      & Technical Consulting,IoT(Velocity) ,NDAP                                & 서울특별시 송파구 올림픽로 295                                 & 2007. 1. 31.    & 100명\\textasciitilde{}200명 미만        & 5\\\\\n",
       "\t ⋮ & ⋮ & ⋮ & ⋮ & ⋮ & ⋮ & ⋮ & ⋮\\\\\n",
       "\t S27 & 1 & 오라클                                   & 클라우드 인프라(OCI), 자율 데이터베이스, SaaS(Software as a Service)                                        & 서울 강남구 영동대로 517(15, 16, 36층)                    & 1989.11.01 & 850                 & 1\\\\\n",
       "\t S27 & 2 & SK 텔레콤                                & 5G 통신 솔루션, AI 플랫폼 (Aibril)                                                                          & 대한민국 서울특별시 중구 을지로 65 (을지로2가)            & 1984.03.29 & 5741                & 2\\\\\n",
       "\t S27 & 3 & LG CNS                                   & J-Jobs, DAP(AI빅데이터 플랫폼), 스마트팩토리 솔루션                                                         & 서울 강서구 마곡중앙8로 71 (마곡동, LG사이언스파크) E13동 & 1987.01.14 & 6930                & 3\\\\\n",
       "\t S27 & 4 & 삼성SDS                                  & 패브릭스 (Fabrics), SRM SaaS 솔루션, 클라우드 서비스                                                        & 서울 송파구 올림픽로35길 125 (신천동, 삼성SDS)            & 1985.05.01 & 12501               & 4\\\\\n",
       "\t S27 & 5 & 데이타솔루션                             & SI서비스, 빅데이터 솔루션, 스토리지 솔루션                                                                  & 서울 강남구 언주로 620 (논현동, 현대인텔렉스) 11층        & NA         & 234                 & 5\\\\\n",
       "\t S28 & 1 & LG CNS                                   & 클라우드/빅데이터                                                                                           & 서울특별시 강서구 마곡 중앙8로 71                         & 31791      & 6743명              & 1\\\\\n",
       "\t S28 & 2 & sk텔레콤                                 & 무선데이터,정보통신                                                                                         & 서울특별시 중구 을지로 65                                 & 30770      & 5339명              & 2\\\\\n",
       "\t S28 & 3 & 데이타솔루션                             & 빅데이터/클라우드                                                                                           & 서울시 강남구 언주로 620                                  & 2010년     & 252명               & 4\\\\\n",
       "\t S28 & 4 & 와이즈넛                                 & 인공지능                                                                                                    & 경기도 성남시 분당구                                      & 36662      & 331명               & 3\\\\\n",
       "\t S28 & 5 & 코난테크놀로지                           & 인공지능 소프트웨어                                                                                         & 서울특별시 서초구 강남대로327                             & 1999년     & 242명               & 5\\\\\n",
       "\t S29 & 1 & 삼성SDS                                  & Brightics IoT                                                                                               & 서울 송파구 올림픽로35길 125                              & 483753600  & 11404명             & 2\\\\\n",
       "\t S29 & 2 & 롯데정보통신(롯데이노베이트로 사명 변경) & Digital Transformation - Bigdata                                                                            & 서울 금천구 가산동 롯데정보통신                           & 1509580800 & 2885명 (2024.06)    & 1\\\\\n",
       "\t S29 & 3 & 솔트룩스                                 & 빅오(BigO)                                                                                                  & 서울 강남구 언주로 538                                    & 366854400  & 175명 (2024.06)     & 4\\\\\n",
       "\t S29 & 4 & SK 텔레콤                                & 유무선 통신 사업과 미디어, 보안, 커머스, lo, 모빌리티 등의 New Biz 사업                                     & 서울 특별시 중구 을지로 65 SK T-타워 (우)04539            & 449366400  & 5741명 (2024.06)    & 3\\\\\n",
       "\t S29 & 5 & 넷크루즈                                 & 관리/분석                                                                                                   & 서울 구로구 디지털로33길                                  & 996883200  & 47명 (2024.02)      & 5\\\\\n",
       "\t S30 & 1 & LG CNS                                   & 인공지능                                                                                                    & 서울특별시 강서구 마곡중앙8로 71 LG사이언스파크 E13       & 537580800  & 6930명              & 1\\\\\n",
       "\t S30 & 2 & SK 텔레콤                                & 네트워크 통신                                                                                               & 서울특별시 중구 을지로 65 \r\n",
       "SK T-타워 (우)04539         & 451267200  & 5699명              & 5\\\\\n",
       "\t S30 & 3 & 삼성SDS                                  & 소프트웨어                                                                                                  & 서울 송파구 올림픽로35길 125                              & 483753600  & 11,488 명           & 2\\\\\n",
       "\t S30 & 4 & 현대HDS                                  & 스토리지                                                                                                    & 서울특별시 송파구 송파대로 570 Tower730 (우)05510         & 775699200  & 361명               & 4\\\\\n",
       "\t S30 & 5 & 오라클                                   & 서버 및 스토리지                                                                                            & 서울 강남구 삼성동 159-1 무역센터아셈타워12층,16층,36층   & 625708800  & 741명               & 3\\\\\n",
       "\t S31 & 1 & 포엠스                                   & 컴퓨터 프로그래밍 서비스업                                                                                  & 서울 영등포구 문래동3가 55-20 에이스하이테크 2동 509호    & 1473292800 & 25명(22-05-09)      & 4\\\\\n",
       "\t S31 & 2 & 파수그룹 \\textbar{} ㈜스페로유                    & 응용 소프트웨어 개발 및 공급업                                                                              & 서울 마포구 월드컵북로 396(상암동, 누리꿈스퀘어) 파수닷컴 & 962323200  & 269명(24-06-30)     & 1\\\\\n",
       "\t S31 & 3 & KT                                       & 무선 및 위성통신업                                                                                          & 경기 성남시 분당구 정자동 206                             & 376790400  & 19,284명 (24-06-30) & 3\\\\\n",
       "\t S31 & 4 & 가비아                                   & 네트워크·통신서비스                                                                                         & 경기 성남시 분당구 삼평동 670번지 유스페이스1 B동 4층     & 937872000  & 379명               & 2\\\\\n",
       "\t S31 & 5 & 쓰리웨이                                 & 컴퓨터 프로그래밍 서비스업                                                                                  & 서울 금천구 벚꽃로 298 (가산동, 대륭포스트타워6차) 701호  & 1263168000 & 22명                & 5\\\\\n",
       "\t S32 & 1 & LG CNS                                   & 컴퓨터시스템 통합자문 및 구축                                                                               & 서울 금천구 가산동                                        & 1987.1.14  & 6930명              & 1\\\\\n",
       "\t S32 & 2 & SK텔레콤                                 & 무선 및 위성 통신업                                                                                         & 서울특별시 중구 을지로 65                                 & 1984.3.29  & 5741명              & 2\\\\\n",
       "\t S32 & 3 & 넷크루즈                                 & 응용소프트웨어 개발 및 공급업                                                                               & 서울 구로구 구로동                                        & 2001.08.04 & 40\\textasciitilde{}70명             & 3\\\\\n",
       "\t S32 & 4 & 바이브컴퍼니                             & 소프트웨어개발/공급/임대                                                                                    & 서울특별시 용산구 독서당로 97                             & 2000.07.08 & 193명               & 4\\\\\n",
       "\t S32 & 5 & 데이터솔루션                             & 기계장비,물품 도매/EMC스토리지,SPSS,SI,시스템 통합 자문,구축,시스템소프트웨어,통신장비 개발,공급,검색솔루션 & 서울특별시 강남구 언주로 620                              & 2011.01.03 & 253명               & 5\\\\\n",
       "\\end{tabular}\n"
      ],
      "text/markdown": [
       "\n",
       "A tibble: 160 × 8\n",
       "\n",
       "| ID &lt;chr&gt; | 번호 &lt;dbl&gt; | 기업명 &lt;chr&gt; | 주 솔루션 &lt;chr&gt; | 소재지 &lt;chr&gt; | 설립년도 &lt;chr&gt; | 직원수 &lt;chr&gt; | 취업 희망 순위 &lt;dbl&gt; |\n",
       "|---|---|---|---|---|---|---|---|\n",
       "| S1 | 1 | SK 텔레콤                     | 이동전화,무선호출서비스,부가통신                                        | 대한민국 서울특별시 중구 을지로 65 (을지로2가)                 | 1984년 3월 29일 | 5,741명                 | 2 |\n",
       "| S1 | 2 | 삼성SDS                       | Brightics IoT                                                           | 서울 송파구 올림픽로35길 125                                   | 1985년 5월 1일  | 11,404명                | 1 |\n",
       "| S1 | 3 | 오라클                        | 수집/정리                                                               | 텍사스주 오스틴                                                | 1977년 6월 16일 | 164,000명               | 5 |\n",
       "| S1 | 4 | 현대HDS                       | 스토리지 구축 컨설팅, 구성 및 구축 서비스, 유지보수 서비스              | 서울특별시 송파구 송파대로 570                                 | 1994년 7월 21일 | 361명                   | 3 |\n",
       "| S1 | 5 | LG CNS                        | IT인프라, 빅데이터                                                      | 서울특별시 강서구 마곡중앙8로 71, E13                          | 1987년 1월 14일 | 6,743명                 | 4 |\n",
       "| S2 | 1 | LG CNS                        | 인공지능                                                                | 서울특별시 강서구 마곡중앙8로 71, E13 (마곡동, LG사이언스파크) | 31791           | 6,743명 (2023)          | 2 |\n",
       "| S2 | 2 | 데이타솔루션                  | 빅데이터                                                                |  서울시 강남구 언주로 620 현대인텔렉스 10층(5층, 11층)         | 2011년          | 234명 (2024년 1월 기준) | 4 |\n",
       "| S2 | 3 | 롯데정보통신 (롯데이노베이트) | 빅데이터                                                                | 서울특별시 금천구 가산디지털2로 179 (가산동)                   | 43040           | 2,950명                 | 3 |\n",
       "| S2 | 4 | 삼성SDS                       | 인공지능                                                                | 서울시 송파구 올림픽로 35길 125 삼성SDS                        | 31168           | 25,485명                | 1 |\n",
       "| S2 | 5 | 오라클                        | 클라우드 서비스                                                         | 미국 국기 미국 텍사스주 오스틴                                 | 28292           | 164,000명(2022년)       | 5 |\n",
       "| S3 | 1 | KT넥스알                      | 빅데이터, 클라우드                                                      | 서울                                                           | 2016년          | 약 100명                | 5 |\n",
       "| S3 | 2 | LG CNS                        | IT 서비스, 스마트팩토리                                                 | 서울                                                           | 1987년          | 약 15,000명             | 4 |\n",
       "| S3 | 3 | SK 텔레콤                     | 통신, 인공지능(AI)                                                      | 서울                                                           | 1984년          | 약 6,000명              | 3 |\n",
       "| S3 | 4 | 롯데정보통신                  | IT 서비스, 스마트시티                                                   | 서울                                                           | 1996년          | 약 4,000명              | 2 |\n",
       "| S3 | 5 | 삼성SDS                       | IT 서비스, 클라우드, AI                                                 | 서울                                                           | 1985년          | 약 12,000명             | 1 |\n",
       "| S4 | 1 | 삼성SDS                       | 분석(Brightics AI)                                                      | 서울시 송파구 올림픽로 35길 125 (신천동)                       | 31168           | 11,404명                | 1 |\n",
       "| S4 | 2 | SK 텔레콤                     | 플랫폼(지오비전)                                                        | 서울시 중구 을지로 65 SK T타워                                 | 1984년/04/20    | 5741명                  | 2 |\n",
       "| S4 | 3 | LG CNS                        | 분석(SENA-FDS)                                                          | 서울특별시 강서구 마곡중앙8로 71 (마곡동)                      | 1987년          | 6,930명                 | 3 |\n",
       "| S4 | 4 | 한국오라클                    | 수집/정리(Oracle IoT Cloud Service                                      | 서울특별시 강남구 삼성1동 영동대로 517                         | 1989년          | 715명                   | 4 |\n",
       "| S4 | 5 | KT넥스알                      | 분석(Lean Stream)                                                       | 서울특별시 송파구 올림픽로 295                                 | 2007년 1월      | 114명                   | 5 |\n",
       "| S5 | 1 | 티맥스소프트                  | 클라우드·SaaS(서비스형 소프트웨어)·AI(인공지능)                         | 경기도 성남시 분당구 황새울로258번길 29                        | 1997년 06월     | 540명                   | 3 |\n",
       "| S5 | 2 | 다이퀘스트                    | 지능형 검색, 빅데이터 분석, 인공지능형 챗봇 등 인공지능 및 자연어처리   | 서울특별시 구로구 디지털로30길 31                              | 36588           | 220명                   | 5 |\n",
       "| S5 | 3 | 삼성SDS                       | 인공지능, 애널리틱스, Brightics AI, 사물인터넷, Brightics LOT, 블록체인 | 서울특별시 송파구 올림픽로35길 125                             | 31168           | 11,332명                | 1 |\n",
       "| S5 | 4 | 데이타솔루션                  | Cloud, IT Modernization, Analytics Service                              | 서울특별시 강남구 언주로 620                                   | 40546           | 253명                   | 4 |\n",
       "| S5 | 5 | 롯데정보통신                  | AI, Bigdata, IoT, Cloud                                                 | 서울특별시 금천구 가산디지털2로 179                            | 43041           | 2,885명                 | 2 |\n",
       "| S6 | 1 | sk 텔레콤                     | 통신서비스, AI&amp;디지털서비스                                             | 서울시 중구 을지로 65 SK T타워                                 | 1984.3.2.       | 5741명                  | 1 |\n",
       "| S6 | 2 | 삼성SDS                       | Brightics IoT,Brightics AI                                              | 서울특별시 송파구 올림픽로35길 125                             | 1985. 5. 1.     | 11332명                 | 2 |\n",
       "| S6 | 3 | LG CNS                        | SBP Appliance,Smart SMA                                                 | 서울특별시 강서구 마곡중앙8로 71                               | 1987. 1. 14.    | 6930명                  | 3 |\n",
       "| S6 | 4 | 한컴MDS                       | Splunk,Dataiku                                                          | 경기도 성남시 분당구 대왕판교로644번길 49                      | 1998. 12. 29.   | 133명                   | 4 |\n",
       "| S6 | 5 | KT넥스알                      | Technical Consulting,IoT(Velocity) ,NDAP                                | 서울특별시 송파구 올림픽로 295                                 | 2007. 1. 31.    | 100명~200명 미만        | 5 |\n",
       "| ⋮ | ⋮ | ⋮ | ⋮ | ⋮ | ⋮ | ⋮ | ⋮ |\n",
       "| S27 | 1 | 오라클                                   | 클라우드 인프라(OCI), 자율 데이터베이스, SaaS(Software as a Service)                                        | 서울 강남구 영동대로 517(15, 16, 36층)                    | 1989.11.01 | 850                 | 1 |\n",
       "| S27 | 2 | SK 텔레콤                                | 5G 통신 솔루션, AI 플랫폼 (Aibril)                                                                          | 대한민국 서울특별시 중구 을지로 65 (을지로2가)            | 1984.03.29 | 5741                | 2 |\n",
       "| S27 | 3 | LG CNS                                   | J-Jobs, DAP(AI빅데이터 플랫폼), 스마트팩토리 솔루션                                                         | 서울 강서구 마곡중앙8로 71 (마곡동, LG사이언스파크) E13동 | 1987.01.14 | 6930                | 3 |\n",
       "| S27 | 4 | 삼성SDS                                  | 패브릭스 (Fabrics), SRM SaaS 솔루션, 클라우드 서비스                                                        | 서울 송파구 올림픽로35길 125 (신천동, 삼성SDS)            | 1985.05.01 | 12501               | 4 |\n",
       "| S27 | 5 | 데이타솔루션                             | SI서비스, 빅데이터 솔루션, 스토리지 솔루션                                                                  | 서울 강남구 언주로 620 (논현동, 현대인텔렉스) 11층        | NA         | 234                 | 5 |\n",
       "| S28 | 1 | LG CNS                                   | 클라우드/빅데이터                                                                                           | 서울특별시 강서구 마곡 중앙8로 71                         | 31791      | 6743명              | 1 |\n",
       "| S28 | 2 | sk텔레콤                                 | 무선데이터,정보통신                                                                                         | 서울특별시 중구 을지로 65                                 | 30770      | 5339명              | 2 |\n",
       "| S28 | 3 | 데이타솔루션                             | 빅데이터/클라우드                                                                                           | 서울시 강남구 언주로 620                                  | 2010년     | 252명               | 4 |\n",
       "| S28 | 4 | 와이즈넛                                 | 인공지능                                                                                                    | 경기도 성남시 분당구                                      | 36662      | 331명               | 3 |\n",
       "| S28 | 5 | 코난테크놀로지                           | 인공지능 소프트웨어                                                                                         | 서울특별시 서초구 강남대로327                             | 1999년     | 242명               | 5 |\n",
       "| S29 | 1 | 삼성SDS                                  | Brightics IoT                                                                                               | 서울 송파구 올림픽로35길 125                              | 483753600  | 11404명             | 2 |\n",
       "| S29 | 2 | 롯데정보통신(롯데이노베이트로 사명 변경) | Digital Transformation - Bigdata                                                                            | 서울 금천구 가산동 롯데정보통신                           | 1509580800 | 2885명 (2024.06)    | 1 |\n",
       "| S29 | 3 | 솔트룩스                                 | 빅오(BigO)                                                                                                  | 서울 강남구 언주로 538                                    | 366854400  | 175명 (2024.06)     | 4 |\n",
       "| S29 | 4 | SK 텔레콤                                | 유무선 통신 사업과 미디어, 보안, 커머스, lo, 모빌리티 등의 New Biz 사업                                     | 서울 특별시 중구 을지로 65 SK T-타워 (우)04539            | 449366400  | 5741명 (2024.06)    | 3 |\n",
       "| S29 | 5 | 넷크루즈                                 | 관리/분석                                                                                                   | 서울 구로구 디지털로33길                                  | 996883200  | 47명 (2024.02)      | 5 |\n",
       "| S30 | 1 | LG CNS                                   | 인공지능                                                                                                    | 서울특별시 강서구 마곡중앙8로 71 LG사이언스파크 E13       | 537580800  | 6930명              | 1 |\n",
       "| S30 | 2 | SK 텔레콤                                | 네트워크 통신                                                                                               | 서울특별시 중구 을지로 65 \r\n",
       "SK T-타워 (우)04539         | 451267200  | 5699명              | 5 |\n",
       "| S30 | 3 | 삼성SDS                                  | 소프트웨어                                                                                                  | 서울 송파구 올림픽로35길 125                              | 483753600  | 11,488 명           | 2 |\n",
       "| S30 | 4 | 현대HDS                                  | 스토리지                                                                                                    | 서울특별시 송파구 송파대로 570 Tower730 (우)05510         | 775699200  | 361명               | 4 |\n",
       "| S30 | 5 | 오라클                                   | 서버 및 스토리지                                                                                            | 서울 강남구 삼성동 159-1 무역센터아셈타워12층,16층,36층   | 625708800  | 741명               | 3 |\n",
       "| S31 | 1 | 포엠스                                   | 컴퓨터 프로그래밍 서비스업                                                                                  | 서울 영등포구 문래동3가 55-20 에이스하이테크 2동 509호    | 1473292800 | 25명(22-05-09)      | 4 |\n",
       "| S31 | 2 | 파수그룹 | ㈜스페로유                    | 응용 소프트웨어 개발 및 공급업                                                                              | 서울 마포구 월드컵북로 396(상암동, 누리꿈스퀘어) 파수닷컴 | 962323200  | 269명(24-06-30)     | 1 |\n",
       "| S31 | 3 | KT                                       | 무선 및 위성통신업                                                                                          | 경기 성남시 분당구 정자동 206                             | 376790400  | 19,284명 (24-06-30) | 3 |\n",
       "| S31 | 4 | 가비아                                   | 네트워크·통신서비스                                                                                         | 경기 성남시 분당구 삼평동 670번지 유스페이스1 B동 4층     | 937872000  | 379명               | 2 |\n",
       "| S31 | 5 | 쓰리웨이                                 | 컴퓨터 프로그래밍 서비스업                                                                                  | 서울 금천구 벚꽃로 298 (가산동, 대륭포스트타워6차) 701호  | 1263168000 | 22명                | 5 |\n",
       "| S32 | 1 | LG CNS                                   | 컴퓨터시스템 통합자문 및 구축                                                                               | 서울 금천구 가산동                                        | 1987.1.14  | 6930명              | 1 |\n",
       "| S32 | 2 | SK텔레콤                                 | 무선 및 위성 통신업                                                                                         | 서울특별시 중구 을지로 65                                 | 1984.3.29  | 5741명              | 2 |\n",
       "| S32 | 3 | 넷크루즈                                 | 응용소프트웨어 개발 및 공급업                                                                               | 서울 구로구 구로동                                        | 2001.08.04 | 40~70명             | 3 |\n",
       "| S32 | 4 | 바이브컴퍼니                             | 소프트웨어개발/공급/임대                                                                                    | 서울특별시 용산구 독서당로 97                             | 2000.07.08 | 193명               | 4 |\n",
       "| S32 | 5 | 데이터솔루션                             | 기계장비,물품 도매/EMC스토리지,SPSS,SI,시스템 통합 자문,구축,시스템소프트웨어,통신장비 개발,공급,검색솔루션 | 서울특별시 강남구 언주로 620                              | 2011.01.03 | 253명               | 5 |\n",
       "\n"
      ],
      "text/plain": [
       "    ID  번호 기업명                                  \n",
       "1   S1  1    SK 텔레콤                               \n",
       "2   S1  2    삼성SDS                                 \n",
       "3   S1  3    오라클                                  \n",
       "4   S1  4    현대HDS                                 \n",
       "5   S1  5    LG CNS                                  \n",
       "6   S2  1    LG CNS                                  \n",
       "7   S2  2    데이타솔루션                            \n",
       "8   S2  3    롯데정보통신 (롯데이노베이트)           \n",
       "9   S2  4    삼성SDS                                 \n",
       "10  S2  5    오라클                                  \n",
       "11  S3  1    KT넥스알                                \n",
       "12  S3  2    LG CNS                                  \n",
       "13  S3  3    SK 텔레콤                               \n",
       "14  S3  4    롯데정보통신                            \n",
       "15  S3  5    삼성SDS                                 \n",
       "16  S4  1    삼성SDS                                 \n",
       "17  S4  2    SK 텔레콤                               \n",
       "18  S4  3    LG CNS                                  \n",
       "19  S4  4    한국오라클                              \n",
       "20  S4  5    KT넥스알                                \n",
       "21  S5  1    티맥스소프트                            \n",
       "22  S5  2    다이퀘스트                              \n",
       "23  S5  3    삼성SDS                                 \n",
       "24  S5  4    데이타솔루션                            \n",
       "25  S5  5    롯데정보통신                            \n",
       "26  S6  1    sk 텔레콤                               \n",
       "27  S6  2    삼성SDS                                 \n",
       "28  S6  3    LG CNS                                  \n",
       "29  S6  4    한컴MDS                                 \n",
       "30  S6  5    KT넥스알                                \n",
       "⋮   ⋮   ⋮    ⋮                                       \n",
       "131 S27 1    오라클                                  \n",
       "132 S27 2    SK 텔레콤                               \n",
       "133 S27 3    LG CNS                                  \n",
       "134 S27 4    삼성SDS                                 \n",
       "135 S27 5    데이타솔루션                            \n",
       "136 S28 1    LG CNS                                  \n",
       "137 S28 2    sk텔레콤                                \n",
       "138 S28 3    데이타솔루션                            \n",
       "139 S28 4    와이즈넛                                \n",
       "140 S28 5    코난테크놀로지                          \n",
       "141 S29 1    삼성SDS                                 \n",
       "142 S29 2    롯데정보통신(롯데이노베이트로 사명 변경)\n",
       "143 S29 3    솔트룩스                                \n",
       "144 S29 4    SK 텔레콤                               \n",
       "145 S29 5    넷크루즈                                \n",
       "146 S30 1    LG CNS                                  \n",
       "147 S30 2    SK 텔레콤                               \n",
       "148 S30 3    삼성SDS                                 \n",
       "149 S30 4    현대HDS                                 \n",
       "150 S30 5    오라클                                  \n",
       "151 S31 1    포엠스                                  \n",
       "152 S31 2    파수그룹 | ㈜스페로유                   \n",
       "153 S31 3    KT                                      \n",
       "154 S31 4    가비아                                  \n",
       "155 S31 5    쓰리웨이                                \n",
       "156 S32 1    LG CNS                                  \n",
       "157 S32 2    SK텔레콤                                \n",
       "158 S32 3    넷크루즈                                \n",
       "159 S32 4    바이브컴퍼니                            \n",
       "160 S32 5    데이터솔루션                            \n",
       "    주 솔루션                                                                                                  \n",
       "1   이동전화,무선호출서비스,부가통신                                                                           \n",
       "2   Brightics IoT                                                                                              \n",
       "3   수집/정리                                                                                                  \n",
       "4   스토리지 구축 컨설팅, 구성 및 구축 서비스, 유지보수 서비스                                                 \n",
       "5   IT인프라, 빅데이터                                                                                         \n",
       "6   인공지능                                                                                                   \n",
       "7   빅데이터                                                                                                   \n",
       "8   빅데이터                                                                                                   \n",
       "9   인공지능                                                                                                   \n",
       "10  클라우드 서비스                                                                                            \n",
       "11  빅데이터, 클라우드                                                                                         \n",
       "12  IT 서비스, 스마트팩토리                                                                                    \n",
       "13  통신, 인공지능(AI)                                                                                         \n",
       "14  IT 서비스, 스마트시티                                                                                      \n",
       "15  IT 서비스, 클라우드, AI                                                                                    \n",
       "16  분석(Brightics AI)                                                                                         \n",
       "17  플랫폼(지오비전)                                                                                           \n",
       "18  분석(SENA-FDS)                                                                                             \n",
       "19  수집/정리(Oracle IoT Cloud Service                                                                         \n",
       "20  분석(Lean Stream)                                                                                          \n",
       "21  클라우드·SaaS(서비스형 소프트웨어)·AI(인공지능)                                                            \n",
       "22  지능형 검색, 빅데이터 분석, 인공지능형 챗봇 등 인공지능 및 자연어처리                                      \n",
       "23  인공지능, 애널리틱스, Brightics AI, 사물인터넷, Brightics LOT, 블록체인                                    \n",
       "24  Cloud, IT Modernization, Analytics Service                                                                 \n",
       "25  AI, Bigdata, IoT, Cloud                                                                                    \n",
       "26  통신서비스, AI&디지털서비스                                                                                \n",
       "27  Brightics IoT,Brightics AI                                                                                 \n",
       "28  SBP Appliance,Smart SMA                                                                                    \n",
       "29  Splunk,Dataiku                                                                                             \n",
       "30  Technical Consulting,IoT(Velocity) ,NDAP                                                                   \n",
       "⋮   ⋮                                                                                                          \n",
       "131 클라우드 인프라(OCI), 자율 데이터베이스, SaaS(Software as a Service)                                       \n",
       "132 5G 통신 솔루션, AI 플랫폼 (Aibril)                                                                         \n",
       "133 J-Jobs, DAP(AI빅데이터 플랫폼), 스마트팩토리 솔루션                                                        \n",
       "134 패브릭스 (Fabrics), SRM SaaS 솔루션, 클라우드 서비스                                                       \n",
       "135 SI서비스, 빅데이터 솔루션, 스토리지 솔루션                                                                 \n",
       "136 클라우드/빅데이터                                                                                          \n",
       "137 무선데이터,정보통신                                                                                        \n",
       "138 빅데이터/클라우드                                                                                          \n",
       "139 인공지능                                                                                                   \n",
       "140 인공지능 소프트웨어                                                                                        \n",
       "141 Brightics IoT                                                                                              \n",
       "142 Digital Transformation - Bigdata                                                                           \n",
       "143 빅오(BigO)                                                                                                 \n",
       "144 유무선 통신 사업과 미디어, 보안, 커머스, lo, 모빌리티 등의 New Biz 사업                                    \n",
       "145 관리/분석                                                                                                  \n",
       "146 인공지능                                                                                                   \n",
       "147 네트워크 통신                                                                                              \n",
       "148 소프트웨어                                                                                                 \n",
       "149 스토리지                                                                                                   \n",
       "150 서버 및 스토리지                                                                                           \n",
       "151 컴퓨터 프로그래밍 서비스업                                                                                 \n",
       "152 응용 소프트웨어 개발 및 공급업                                                                             \n",
       "153 무선 및 위성통신업                                                                                         \n",
       "154 네트워크·통신서비스                                                                                        \n",
       "155 컴퓨터 프로그래밍 서비스업                                                                                 \n",
       "156 컴퓨터시스템 통합자문 및 구축                                                                              \n",
       "157 무선 및 위성 통신업                                                                                        \n",
       "158 응용소프트웨어 개발 및 공급업                                                                              \n",
       "159 소프트웨어개발/공급/임대                                                                                   \n",
       "160 기계장비,물품 도매/EMC스토리지,SPSS,SI,시스템 통합 자문,구축,시스템소프트웨어,통신장비 개발,공급,검색솔루션\n",
       "    소재지                                                        \n",
       "1   대한민국 서울특별시 중구 을지로 65 (을지로2가)                \n",
       "2   서울 송파구 올림픽로35길 125                                  \n",
       "3   텍사스주 오스틴                                               \n",
       "4   서울특별시 송파구 송파대로 570                                \n",
       "5   서울특별시 강서구 마곡중앙8로 71, E13                         \n",
       "6   서울특별시 강서구 마곡중앙8로 71, E13 (마곡동, LG사이언스파크)\n",
       "7    서울시 강남구 언주로 620 현대인텔렉스 10층(5층, 11층)        \n",
       "8   서울특별시 금천구 가산디지털2로 179 (가산동)                  \n",
       "9   서울시 송파구 올림픽로 35길 125 삼성SDS                       \n",
       "10  미국 국기 미국 텍사스주 오스틴                                \n",
       "11  서울                                                          \n",
       "12  서울                                                          \n",
       "13  서울                                                          \n",
       "14  서울                                                          \n",
       "15  서울                                                          \n",
       "16  서울시 송파구 올림픽로 35길 125 (신천동)                      \n",
       "17  서울시 중구 을지로 65 SK T타워                                \n",
       "18  서울특별시 강서구 마곡중앙8로 71 (마곡동)                     \n",
       "19  서울특별시 강남구 삼성1동 영동대로 517                        \n",
       "20  서울특별시 송파구 올림픽로 295                                \n",
       "21  경기도 성남시 분당구 황새울로258번길 29                       \n",
       "22  서울특별시 구로구 디지털로30길 31                             \n",
       "23  서울특별시 송파구 올림픽로35길 125                            \n",
       "24  서울특별시 강남구 언주로 620                                  \n",
       "25  서울특별시 금천구 가산디지털2로 179                           \n",
       "26  서울시 중구 을지로 65 SK T타워                                \n",
       "27  서울특별시 송파구 올림픽로35길 125                            \n",
       "28  서울특별시 강서구 마곡중앙8로 71                              \n",
       "29  경기도 성남시 분당구 대왕판교로644번길 49                     \n",
       "30  서울특별시 송파구 올림픽로 295                                \n",
       "⋮   ⋮                                                             \n",
       "131 서울 강남구 영동대로 517(15, 16, 36층)                        \n",
       "132 대한민국 서울특별시 중구 을지로 65 (을지로2가)                \n",
       "133 서울 강서구 마곡중앙8로 71 (마곡동, LG사이언스파크) E13동     \n",
       "134 서울 송파구 올림픽로35길 125 (신천동, 삼성SDS)                \n",
       "135 서울 강남구 언주로 620 (논현동, 현대인텔렉스) 11층            \n",
       "136 서울특별시 강서구 마곡 중앙8로 71                             \n",
       "137 서울특별시 중구 을지로 65                                     \n",
       "138 서울시 강남구 언주로 620                                      \n",
       "139 경기도 성남시 분당구                                          \n",
       "140 서울특별시 서초구 강남대로327                                 \n",
       "141 서울 송파구 올림픽로35길 125                                  \n",
       "142 서울 금천구 가산동 롯데정보통신                               \n",
       "143 서울 강남구 언주로 538                                        \n",
       "144 서울 특별시 중구 을지로 65 SK T-타워 (우)04539                \n",
       "145 서울 구로구 디지털로33길                                      \n",
       "146 서울특별시 강서구 마곡중앙8로 71 LG사이언스파크 E13           \n",
       "147 서울특별시 중구 을지로 65 \\r\\nSK T-타워 (우)04539             \n",
       "148 서울 송파구 올림픽로35길 125                                  \n",
       "149 서울특별시 송파구 송파대로 570 Tower730 (우)05510             \n",
       "150 서울 강남구 삼성동 159-1 무역센터아셈타워12층,16층,36층       \n",
       "151 서울 영등포구 문래동3가 55-20 에이스하이테크 2동 509호        \n",
       "152 서울 마포구 월드컵북로 396(상암동, 누리꿈스퀘어) 파수닷컴     \n",
       "153 경기 성남시 분당구 정자동 206                                 \n",
       "154 경기 성남시 분당구 삼평동 670번지 유스페이스1 B동 4층         \n",
       "155 서울 금천구 벚꽃로 298 (가산동, 대륭포스트타워6차) 701호      \n",
       "156 서울 금천구 가산동                                            \n",
       "157 서울특별시 중구 을지로 65                                     \n",
       "158 서울 구로구 구로동                                            \n",
       "159 서울특별시 용산구 독서당로 97                                 \n",
       "160 서울특별시 강남구 언주로 620                                  \n",
       "    설립년도        직원수                  취업 희망 순위\n",
       "1   1984년 3월 29일 5,741명                 2             \n",
       "2   1985년 5월 1일  11,404명                1             \n",
       "3   1977년 6월 16일 164,000명               5             \n",
       "4   1994년 7월 21일 361명                   3             \n",
       "5   1987년 1월 14일 6,743명                 4             \n",
       "6   31791           6,743명 (2023)          2             \n",
       "7   2011년          234명 (2024년 1월 기준) 4             \n",
       "8   43040           2,950명                 3             \n",
       "9   31168           25,485명                1             \n",
       "10  28292           164,000명(2022년)       5             \n",
       "11  2016년          약 100명                5             \n",
       "12  1987년          약 15,000명             4             \n",
       "13  1984년          약 6,000명              3             \n",
       "14  1996년          약 4,000명              2             \n",
       "15  1985년          약 12,000명             1             \n",
       "16  31168           11,404명                1             \n",
       "17  1984년/04/20    5741명                  2             \n",
       "18  1987년          6,930명                 3             \n",
       "19  1989년          715명                   4             \n",
       "20  2007년 1월      114명                   5             \n",
       "21  1997년 06월     540명                   3             \n",
       "22  36588           220명                   5             \n",
       "23  31168           11,332명                1             \n",
       "24  40546           253명                   4             \n",
       "25  43041           2,885명                 2             \n",
       "26  1984.3.2.       5741명                  1             \n",
       "27  1985. 5. 1.     11332명                 2             \n",
       "28  1987. 1. 14.    6930명                  3             \n",
       "29  1998. 12. 29.   133명                   4             \n",
       "30  2007. 1. 31.    100명~200명 미만        5             \n",
       "⋮   ⋮               ⋮                       ⋮             \n",
       "131 1989.11.01      850                     1             \n",
       "132 1984.03.29      5741                    2             \n",
       "133 1987.01.14      6930                    3             \n",
       "134 1985.05.01      12501                   4             \n",
       "135 NA              234                     5             \n",
       "136 31791           6743명                  1             \n",
       "137 30770           5339명                  2             \n",
       "138 2010년          252명                   4             \n",
       "139 36662           331명                   3             \n",
       "140 1999년          242명                   5             \n",
       "141 483753600       11404명                 2             \n",
       "142 1509580800      2885명 (2024.06)        1             \n",
       "143 366854400       175명 (2024.06)         4             \n",
       "144 449366400       5741명 (2024.06)        3             \n",
       "145 996883200       47명 (2024.02)          5             \n",
       "146 537580800       6930명                  1             \n",
       "147 451267200       5699명                  5             \n",
       "148 483753600       11,488 명               2             \n",
       "149 775699200       361명                   4             \n",
       "150 625708800       741명                   3             \n",
       "151 1473292800      25명(22-05-09)          4             \n",
       "152 962323200       269명(24-06-30)         1             \n",
       "153 376790400       19,284명 (24-06-30)     3             \n",
       "154 937872000       379명                   2             \n",
       "155 1263168000      22명                    5             \n",
       "156 1987.1.14       6930명                  1             \n",
       "157 1984.3.29       5741명                  2             \n",
       "158 2001.08.04      40~70명                 3             \n",
       "159 2000.07.08      193명                   4             \n",
       "160 2011.01.03      253명                   5             "
      ]
     },
     "metadata": {},
     "output_type": "display_data"
    }
   ],
   "source": [
    "# 19번 - A\n",
    "files <- list.files(path = \"../Exercise-3\", pattern = \"*.xlsx\", full.names = TRUE)\n",
    "files\n",
    "df <- read_xlsx(files[1])\n",
    "df"
   ]
  },
  {
   "cell_type": "code",
   "execution_count": 21,
   "metadata": {
    "vscode": {
     "languageId": "r"
    }
   },
   "outputs": [],
   "source": [
    "for (f in files[2:length(files)]) {\n",
    "    tmp <- read_xlsx(f)\n",
    "    # 공통 열만 선택\n",
    "    common_columns <- intersect(names(df), names(tmp))\n",
    "    df <- rbind(df[, common_columns, drop = FALSE], tmp[, common_columns, drop = FALSE])\n",
    "}"
   ]
  },
  {
   "cell_type": "code",
   "execution_count": 22,
   "metadata": {
    "vscode": {
     "languageId": "r"
    }
   },
   "outputs": [],
   "source": [
    "# B. 문자열 S1부터 S32까지 각각 5번씩 반복하여 ID 생성\n",
    "ID <- rep(paste0(\"S\", 1:32), each = 5)"
   ]
  },
  {
   "cell_type": "code",
   "execution_count": 23,
   "metadata": {
    "vscode": {
     "languageId": "r"
    }
   },
   "outputs": [],
   "source": [
    "# C\n",
    "# 데이터프레임에 ID 열 추가\n",
    "df$ID <- ID[1:nrow(df)]  # df의 행 수에 맞추어 ID 할당\n",
    "\n",
    "df <- df[, c(\"ID\", setdiff(names(df), \"ID\"))]"
   ]
  },
  {
   "cell_type": "code",
   "execution_count": 24,
   "metadata": {
    "vscode": {
     "languageId": "r"
    }
   },
   "outputs": [],
   "source": [
    "# writexl 패키지 ->  R 데이터 프레임을 Excel 파일(.xlsx)로 저장하는 데 사용\n",
    "library(writexl)"
   ]
  },
  {
   "cell_type": "code",
   "execution_count": 26,
   "metadata": {
    "vscode": {
     "languageId": "r"
    }
   },
   "outputs": [],
   "source": [
    "# D. 엑셀 파일로 저장\n",
    "write_xlsx(df, \"../Exercise-3/df.xlsx\")"
   ]
  }
 ],
 "metadata": {
  "kernelspec": {
   "display_name": "R",
   "language": "R",
   "name": "ir"
  },
  "language_info": {
   "codemirror_mode": "r",
   "file_extension": ".r",
   "mimetype": "text/x-r-source",
   "name": "R",
   "pygments_lexer": "r",
   "version": "4.3.1"
  }
 },
 "nbformat": 4,
 "nbformat_minor": 2
}
