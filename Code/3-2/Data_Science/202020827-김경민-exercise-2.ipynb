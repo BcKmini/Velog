{
 "cells": [
  {
   "cell_type": "code",
   "execution_count": 81,
   "metadata": {
    "vscode": {
     "languageId": "r"
    }
   },
   "outputs": [
    {
     "data": {
      "text/html": [
       "<style>\n",
       ".list-inline {list-style: none; margin:0; padding: 0}\n",
       ".list-inline>li {display: inline-block}\n",
       ".list-inline>li:not(:last-child)::after {content: \"\\00b7\"; padding: 0 .5ex}\n",
       "</style>\n",
       "<ol class=list-inline><li>410</li><li>413</li><li>204</li><li>105</li><li>401</li><li>502</li><li>516</li><li>409</li></ol>\n"
      ],
      "text/latex": [
       "\\begin{enumerate*}\n",
       "\\item 410\n",
       "\\item 413\n",
       "\\item 204\n",
       "\\item 105\n",
       "\\item 401\n",
       "\\item 502\n",
       "\\item 516\n",
       "\\item 409\n",
       "\\end{enumerate*}\n"
      ],
      "text/markdown": [
       "1. 410\n",
       "2. 413\n",
       "3. 204\n",
       "4. 105\n",
       "5. 401\n",
       "6. 502\n",
       "7. 516\n",
       "8. 409\n",
       "\n",
       "\n"
      ],
      "text/plain": [
       "[1] 410 413 204 105 401 502 516 409"
      ]
     },
     "metadata": {},
     "output_type": "display_data"
    }
   ],
   "source": [
    "# 1번\n",
    "a <- c(410, 413, 204, 105, 401, 502, 516, 409)\n",
    "a"
   ]
  },
  {
   "cell_type": "code",
   "execution_count": 82,
   "metadata": {
    "vscode": {
     "languageId": "r"
    }
   },
   "outputs": [
    {
     "data": {
      "text/html": [
       "<style>\n",
       ".list-inline {list-style: none; margin:0; padding: 0}\n",
       ".list-inline>li {display: inline-block}\n",
       ".list-inline>li:not(:last-child)::after {content: \"\\00b7\"; padding: 0 .5ex}\n",
       "</style>\n",
       "<ol class=list-inline><li>10</li><li>15</li><li>20</li><li>25</li><li>30</li><li>35</li><li>40</li><li>45</li><li>50</li></ol>\n"
      ],
      "text/latex": [
       "\\begin{enumerate*}\n",
       "\\item 10\n",
       "\\item 15\n",
       "\\item 20\n",
       "\\item 25\n",
       "\\item 30\n",
       "\\item 35\n",
       "\\item 40\n",
       "\\item 45\n",
       "\\item 50\n",
       "\\end{enumerate*}\n"
      ],
      "text/markdown": [
       "1. 10\n",
       "2. 15\n",
       "3. 20\n",
       "4. 25\n",
       "5. 30\n",
       "6. 35\n",
       "7. 40\n",
       "8. 45\n",
       "9. 50\n",
       "\n",
       "\n"
      ],
      "text/plain": [
       "[1] 10 15 20 25 30 35 40 45 50"
      ]
     },
     "metadata": {},
     "output_type": "display_data"
    }
   ],
   "source": [
    "# 2번\n",
    "b <- seq(10, 50, by=5)\n",
    "b"
   ]
  },
  {
   "cell_type": "code",
   "execution_count": 83,
   "metadata": {
    "vscode": {
     "languageId": "r"
    }
   },
   "outputs": [
    {
     "name": "stdout",
     "output_type": "stream",
     "text": [
      " [1] 410 413 204 105 401 502 516 409  10  15  20  25  30  35  40  45  50\n"
     ]
    }
   ],
   "source": [
    "# 3번\n",
    "c <- c(a, b)\n",
    "print(c)"
   ]
  },
  {
   "cell_type": "code",
   "execution_count": 84,
   "metadata": {
    "vscode": {
     "languageId": "r"
    }
   },
   "outputs": [
    {
     "data": {
      "text/html": [
       "<style>\n",
       ".list-inline {list-style: none; margin:0; padding: 0}\n",
       ".list-inline>li {display: inline-block}\n",
       ".list-inline>li:not(:last-child)::after {content: \"\\00b7\"; padding: 0 .5ex}\n",
       "</style>\n",
       "<ol class=list-inline><li>410</li><li>413</li><li>204</li><li>105</li><li>502</li><li>516</li><li>409</li><li>10</li><li>15</li><li>20</li><li>25</li><li>30</li><li>35</li><li>40</li><li>45</li><li>50</li></ol>\n"
      ],
      "text/latex": [
       "\\begin{enumerate*}\n",
       "\\item 410\n",
       "\\item 413\n",
       "\\item 204\n",
       "\\item 105\n",
       "\\item 502\n",
       "\\item 516\n",
       "\\item 409\n",
       "\\item 10\n",
       "\\item 15\n",
       "\\item 20\n",
       "\\item 25\n",
       "\\item 30\n",
       "\\item 35\n",
       "\\item 40\n",
       "\\item 45\n",
       "\\item 50\n",
       "\\end{enumerate*}\n"
      ],
      "text/markdown": [
       "1. 410\n",
       "2. 413\n",
       "3. 204\n",
       "4. 105\n",
       "5. 502\n",
       "6. 516\n",
       "7. 409\n",
       "8. 10\n",
       "9. 15\n",
       "10. 20\n",
       "11. 25\n",
       "12. 30\n",
       "13. 35\n",
       "14. 40\n",
       "15. 45\n",
       "16. 50\n",
       "\n",
       "\n"
      ],
      "text/plain": [
       " [1] 410 413 204 105 502 516 409  10  15  20  25  30  35  40  45  50"
      ]
     },
     "metadata": {},
     "output_type": "display_data"
    }
   ],
   "source": [
    "# 4번\n",
    "d <- c[-5]\n",
    "d"
   ]
  },
  {
   "cell_type": "code",
   "execution_count": 85,
   "metadata": {
    "vscode": {
     "languageId": "r"
    }
   },
   "outputs": [
    {
     "name": "stdout",
     "output_type": "stream",
     "text": [
      "[1] 16\n"
     ]
    }
   ],
   "source": [
    "# 5번\n",
    "print(length(d))"
   ]
  },
  {
   "cell_type": "code",
   "execution_count": 86,
   "metadata": {
    "vscode": {
     "languageId": "r"
    }
   },
   "outputs": [
    {
     "data": {
      "text/html": [
       "<style>\n",
       ".list-inline {list-style: none; margin:0; padding: 0}\n",
       ".list-inline>li {display: inline-block}\n",
       ".list-inline>li:not(:last-child)::after {content: \"\\00b7\"; padding: 0 .5ex}\n",
       "</style>\n",
       "<ol class=list-inline><li>502</li><li>516</li><li>409</li><li>10</li><li>15</li><li>20</li><li>25</li><li>30</li><li>35</li><li>40</li><li>45</li></ol>\n"
      ],
      "text/latex": [
       "\\begin{enumerate*}\n",
       "\\item 502\n",
       "\\item 516\n",
       "\\item 409\n",
       "\\item 10\n",
       "\\item 15\n",
       "\\item 20\n",
       "\\item 25\n",
       "\\item 30\n",
       "\\item 35\n",
       "\\item 40\n",
       "\\item 45\n",
       "\\end{enumerate*}\n"
      ],
      "text/markdown": [
       "1. 502\n",
       "2. 516\n",
       "3. 409\n",
       "4. 10\n",
       "5. 15\n",
       "6. 20\n",
       "7. 25\n",
       "8. 30\n",
       "9. 35\n",
       "10. 40\n",
       "11. 45\n",
       "\n",
       "\n"
      ],
      "text/plain": [
       " [1] 502 516 409  10  15  20  25  30  35  40  45"
      ]
     },
     "metadata": {},
     "output_type": "display_data"
    }
   ],
   "source": [
    "# 6번\n",
    "e <- d[5:15]\n",
    "e"
   ]
  },
  {
   "cell_type": "code",
   "execution_count": 87,
   "metadata": {
    "vscode": {
     "languageId": "r"
    }
   },
   "outputs": [
    {
     "name": "stdout",
     "output_type": "stream",
     "text": [
      "[1] 149.7273\n"
     ]
    }
   ],
   "source": [
    "# 7번\n",
    "print(mean(e))"
   ]
  },
  {
   "cell_type": "code",
   "execution_count": 88,
   "metadata": {
    "vscode": {
     "languageId": "r"
    }
   },
   "outputs": [
    {
     "name": "stdout",
     "output_type": "stream",
     "text": [
      " [1] \"a\" \"b\" \"c\" \"d\" \"a\" \"b\" \"c\" \"d\" \"a\" \"b\" \"c\" \"d\" \"a\" \"b\" \"c\" \"d\"\n"
     ]
    }
   ],
   "source": [
    "# 8번\n",
    "z <- rep(c(\"a\", \"b\", \"c\", \"d\"), times = 4)\n",
    "print(z)\n"
   ]
  },
  {
   "cell_type": "code",
   "execution_count": 89,
   "metadata": {
    "vscode": {
     "languageId": "r"
    }
   },
   "outputs": [
    {
     "name": "stdout",
     "output_type": "stream",
     "text": [
      "[1] \"a\" \"a\" \"b\" \"b\" \"c\" \"c\" \"d\" \"d\"\n"
     ]
    }
   ],
   "source": [
    "# 9번\n",
    "y <- rep(c(\"a\", \"b\", \"c\", \"d\"), each = 2)\n",
    "print(y)"
   ]
  },
  {
   "cell_type": "code",
   "execution_count": 90,
   "metadata": {
    "vscode": {
     "languageId": "r"
    }
   },
   "outputs": [
    {
     "data": {
      "text/html": [
       "<style>\n",
       ".list-inline {list-style: none; margin:0; padding: 0}\n",
       ".list-inline>li {display: inline-block}\n",
       ".list-inline>li:not(:last-child)::after {content: \"\\00b7\"; padding: 0 .5ex}\n",
       "</style>\n",
       "<ol class=list-inline><li>14</li><li>41</li><li>49</li><li>18</li><li>3</li><li>11</li></ol>\n"
      ],
      "text/latex": [
       "\\begin{enumerate*}\n",
       "\\item 14\n",
       "\\item 41\n",
       "\\item 49\n",
       "\\item 18\n",
       "\\item 3\n",
       "\\item 11\n",
       "\\end{enumerate*}\n"
      ],
      "text/markdown": [
       "1. 14\n",
       "2. 41\n",
       "3. 49\n",
       "4. 18\n",
       "5. 3\n",
       "6. 11\n",
       "\n",
       "\n"
      ],
      "text/plain": [
       "[1] 14 41 49 18  3 11"
      ]
     },
     "metadata": {},
     "output_type": "display_data"
    }
   ],
   "source": [
    "# 10번\n",
    "mydata <- floor(runif(1000, 0, 50))\n",
    "head(mydata)"
   ]
  },
  {
   "cell_type": "code",
   "execution_count": 91,
   "metadata": {
    "vscode": {
     "languageId": "r"
    }
   },
   "outputs": [
    {
     "data": {
      "text/html": [
       "<style>\n",
       ".list-inline {list-style: none; margin:0; padding: 0}\n",
       ".list-inline>li {display: inline-block}\n",
       ".list-inline>li:not(:last-child)::after {content: \"\\00b7\"; padding: 0 .5ex}\n",
       "</style>\n",
       "<ol class=list-inline><li>16</li><li>27</li><li>22</li><li>20</li><li>33</li><li>46</li></ol>\n"
      ],
      "text/latex": [
       "\\begin{enumerate*}\n",
       "\\item 16\n",
       "\\item 27\n",
       "\\item 22\n",
       "\\item 20\n",
       "\\item 33\n",
       "\\item 46\n",
       "\\end{enumerate*}\n"
      ],
      "text/markdown": [
       "1. 16\n",
       "2. 27\n",
       "3. 22\n",
       "4. 20\n",
       "5. 33\n",
       "6. 46\n",
       "\n",
       "\n"
      ],
      "text/plain": [
       "[1] 16 27 22 20 33 46"
      ]
     },
     "metadata": {},
     "output_type": "display_data"
    },
    {
     "data": {
      "text/html": [
       "<style>\n",
       ".list-inline {list-style: none; margin:0; padding: 0}\n",
       ".list-inline>li {display: inline-block}\n",
       ".list-inline>li:not(:last-child)::after {content: \"\\00b7\"; padding: 0 .5ex}\n",
       "</style>\n",
       "<ol class=list-inline><li>205</li><li>204</li><li>185</li><li>184</li><li>222</li></ol>\n"
      ],
      "text/latex": [
       "\\begin{enumerate*}\n",
       "\\item 205\n",
       "\\item 204\n",
       "\\item 185\n",
       "\\item 184\n",
       "\\item 222\n",
       "\\end{enumerate*}\n"
      ],
      "text/markdown": [
       "1. 205\n",
       "2. 204\n",
       "3. 185\n",
       "4. 184\n",
       "5. 222\n",
       "\n",
       "\n"
      ],
      "text/plain": [
       "[1] 205 204 185 184 222"
      ]
     },
     "metadata": {},
     "output_type": "display_data"
    }
   ],
   "source": [
    "# 11번\n",
    "tail(mydata)\n",
    "\n",
    "# 11번\n",
    "count <- c(0,0,0,0,0)\n",
    "\n",
    "count[1] <- length(mydata[mydata <= 10])\n",
    "count[2] <- length(mydata[mydata > 10 & mydata <= 20])\n",
    "count[3] <- length(mydata[mydata > 20 & mydata <= 30])\n",
    "count[4] <- length(mydata[mydata > 30 & mydata <= 40])\n",
    "count[5] <- length(mydata[mydata > 40] )\n",
    "count"
   ]
  },
  {
   "cell_type": "code",
   "execution_count": 92,
   "metadata": {
    "vscode": {
     "languageId": "r"
    }
   },
   "outputs": [
    {
     "data": {
      "text/html": [
       "1000"
      ],
      "text/latex": [
       "1000"
      ],
      "text/markdown": [
       "1000"
      ],
      "text/plain": [
       "[1] 1000"
      ]
     },
     "metadata": {},
     "output_type": "display_data"
    }
   ],
   "source": [
    "# 12번\n",
    "sum(count)"
   ]
  },
  {
   "cell_type": "code",
   "execution_count": 93,
   "metadata": {
    "vscode": {
     "languageId": "r"
    }
   },
   "outputs": [
    {
     "data": {
      "image/png": "[encoded data removed]",
      "text/plain": [
       "Plot with title “Histogram of mydata”"
      ]
     },
     "metadata": {
      "image/png": {
       "height": 420,
       "width": 420
      }
     },
     "output_type": "display_data"
    }
   ],
   "source": [
    "# 13번\n",
    "hist(mydata, breaks = 5)"
   ]
  },
  {
   "cell_type": "code",
   "execution_count": 94,
   "metadata": {
    "vscode": {
     "languageId": "r"
    }
   },
   "outputs": [
    {
     "data": {
      "text/html": [
       "<style>\n",
       ".list-inline {list-style: none; margin:0; padding: 0}\n",
       ".list-inline>li {display: inline-block}\n",
       ".list-inline>li:not(:last-child)::after {content: \"\\00b7\"; padding: 0 .5ex}\n",
       "</style>\n",
       "<ol class=list-inline><li>'kim'</li><li>'park'</li><li>'lee'</li></ol>\n"
      ],
      "text/latex": [
       "\\begin{enumerate*}\n",
       "\\item 'kim'\n",
       "\\item 'park'\n",
       "\\item 'lee'\n",
       "\\end{enumerate*}\n"
      ],
      "text/markdown": [
       "1. 'kim'\n",
       "2. 'park'\n",
       "3. 'lee'\n",
       "\n",
       "\n"
      ],
      "text/plain": [
       "[1] \"kim\"  \"park\" \"lee\" "
      ]
     },
     "metadata": {},
     "output_type": "display_data"
    }
   ],
   "source": [
    "# 14번\n",
    "n <- c(\"kim\", \"park\", \"lee\")\n",
    "n"
   ]
  },
  {
   "cell_type": "code",
   "execution_count": 95,
   "metadata": {
    "vscode": {
     "languageId": "r"
    }
   },
   "outputs": [
    {
     "data": {
      "text/html": [
       "<style>\n",
       ".list-inline {list-style: none; margin:0; padding: 0}\n",
       ".list-inline>li {display: inline-block}\n",
       ".list-inline>li:not(:last-child)::after {content: \"\\00b7\"; padding: 0 .5ex}\n",
       "</style>\n",
       "<ol class=list-inline><li>71</li><li>89</li><li>95</li></ol>\n"
      ],
      "text/latex": [
       "\\begin{enumerate*}\n",
       "\\item 71\n",
       "\\item 89\n",
       "\\item 95\n",
       "\\end{enumerate*}\n"
      ],
      "text/markdown": [
       "1. 71\n",
       "2. 89\n",
       "3. 95\n",
       "\n",
       "\n"
      ],
      "text/plain": [
       "[1] 71 89 95"
      ]
     },
     "metadata": {},
     "output_type": "display_data"
    },
    {
     "data": {
      "text/html": [
       "<style>\n",
       ".list-inline {list-style: none; margin:0; padding: 0}\n",
       ".list-inline>li {display: inline-block}\n",
       ".list-inline>li:not(:last-child)::after {content: \"\\00b7\"; padding: 0 .5ex}\n",
       "</style>\n",
       "<ol class=list-inline><li>83</li><li>74</li><li>91</li></ol>\n"
      ],
      "text/latex": [
       "\\begin{enumerate*}\n",
       "\\item 83\n",
       "\\item 74\n",
       "\\item 91\n",
       "\\end{enumerate*}\n"
      ],
      "text/markdown": [
       "1. 83\n",
       "2. 74\n",
       "3. 91\n",
       "\n",
       "\n"
      ],
      "text/plain": [
       "[1] 83 74 91"
      ]
     },
     "metadata": {},
     "output_type": "display_data"
    }
   ],
   "source": [
    "# 15, 16번\n",
    "m <- c(71, 89, 95)\n",
    "f <- c(83, 74, 91)\n",
    "m\n",
    "f"
   ]
  },
  {
   "cell_type": "code",
   "execution_count": 96,
   "metadata": {
    "vscode": {
     "languageId": "r"
    }
   },
   "outputs": [
    {
     "data": {
      "text/html": [
       "<table class=\"dataframe\">\n",
       "<caption>A data.frame: 3 × 3</caption>\n",
       "<thead>\n",
       "\t<tr><th scope=col>name</th><th scope=col>mid</th><th scope=col>final</th></tr>\n",
       "\t<tr><th scope=col>&lt;chr&gt;</th><th scope=col>&lt;dbl&gt;</th><th scope=col>&lt;dbl&gt;</th></tr>\n",
       "</thead>\n",
       "<tbody>\n",
       "\t<tr><td>kim </td><td>71</td><td>83</td></tr>\n",
       "\t<tr><td>park</td><td>89</td><td>74</td></tr>\n",
       "\t<tr><td>lee </td><td>95</td><td>91</td></tr>\n",
       "</tbody>\n",
       "</table>\n"
      ],
      "text/latex": [
       "A data.frame: 3 × 3\n",
       "\\begin{tabular}{lll}\n",
       " name & mid & final\\\\\n",
       " <chr> & <dbl> & <dbl>\\\\\n",
       "\\hline\n",
       "\t kim  & 71 & 83\\\\\n",
       "\t park & 89 & 74\\\\\n",
       "\t lee  & 95 & 91\\\\\n",
       "\\end{tabular}\n"
      ],
      "text/markdown": [
       "\n",
       "A data.frame: 3 × 3\n",
       "\n",
       "| name &lt;chr&gt; | mid &lt;dbl&gt; | final &lt;dbl&gt; |\n",
       "|---|---|---|\n",
       "| kim  | 71 | 83 |\n",
       "| park | 89 | 74 |\n",
       "| lee  | 95 | 91 |\n",
       "\n"
      ],
      "text/plain": [
       "  name mid final\n",
       "1 kim  71  83   \n",
       "2 park 89  74   \n",
       "3 lee  95  91   "
      ]
     },
     "metadata": {},
     "output_type": "display_data"
    }
   ],
   "source": [
    "# 17번\n",
    "score <- data.frame(name=n, mid=m, final=f)\n",
    "score"
   ]
  },
  {
   "cell_type": "code",
   "execution_count": 97,
   "metadata": {
    "vscode": {
     "languageId": "r"
    }
   },
   "outputs": [
    {
     "name": "stdout",
     "output_type": "stream",
     "text": [
      "'data.frame':\t3 obs. of  3 variables:\n",
      " $ name : chr  \"kim\" \"park\" \"lee\"\n",
      " $ mid  : num  71 89 95\n",
      " $ final: num  83 74 91\n"
     ]
    }
   ],
   "source": [
    "# 18번\n",
    "str(score)"
   ]
  },
  {
   "cell_type": "code",
   "execution_count": 98,
   "metadata": {
    "vscode": {
     "languageId": "r"
    }
   },
   "outputs": [
    {
     "data": {
      "text/html": [
       "<table class=\"dataframe\">\n",
       "<caption>A data.frame: 3 × 4</caption>\n",
       "<thead>\n",
       "\t<tr><th scope=col>name</th><th scope=col>mid</th><th scope=col>final</th><th scope=col>mean</th></tr>\n",
       "\t<tr><th scope=col>&lt;chr&gt;</th><th scope=col>&lt;dbl&gt;</th><th scope=col>&lt;dbl&gt;</th><th scope=col>&lt;dbl&gt;</th></tr>\n",
       "</thead>\n",
       "<tbody>\n",
       "\t<tr><td>kim </td><td>71</td><td>83</td><td>77.0</td></tr>\n",
       "\t<tr><td>park</td><td>89</td><td>74</td><td>81.5</td></tr>\n",
       "\t<tr><td>lee </td><td>95</td><td>91</td><td>93.0</td></tr>\n",
       "</tbody>\n",
       "</table>\n"
      ],
      "text/latex": [
       "A data.frame: 3 × 4\n",
       "\\begin{tabular}{llll}\n",
       " name & mid & final & mean\\\\\n",
       " <chr> & <dbl> & <dbl> & <dbl>\\\\\n",
       "\\hline\n",
       "\t kim  & 71 & 83 & 77.0\\\\\n",
       "\t park & 89 & 74 & 81.5\\\\\n",
       "\t lee  & 95 & 91 & 93.0\\\\\n",
       "\\end{tabular}\n"
      ],
      "text/markdown": [
       "\n",
       "A data.frame: 3 × 4\n",
       "\n",
       "| name &lt;chr&gt; | mid &lt;dbl&gt; | final &lt;dbl&gt; | mean &lt;dbl&gt; |\n",
       "|---|---|---|---|\n",
       "| kim  | 71 | 83 | 77.0 |\n",
       "| park | 89 | 74 | 81.5 |\n",
       "| lee  | 95 | 91 | 93.0 |\n",
       "\n"
      ],
      "text/plain": [
       "  name mid final mean\n",
       "1 kim  71  83    77.0\n",
       "2 park 89  74    81.5\n",
       "3 lee  95  91    93.0"
      ]
     },
     "metadata": {},
     "output_type": "display_data"
    }
   ],
   "source": [
    "# 19번\n",
    "score$mean <- (score$mid + score$final)/2\n",
    "score"
   ]
  },
  {
   "cell_type": "code",
   "execution_count": 99,
   "metadata": {
    "vscode": {
     "languageId": "r"
    }
   },
   "outputs": [
    {
     "data": {
      "text/html": [
       "<style>\n",
       ".list-inline {list-style: none; margin:0; padding: 0}\n",
       ".list-inline>li {display: inline-block}\n",
       ".list-inline>li:not(:last-child)::after {content: \"\\00b7\"; padding: 0 .5ex}\n",
       "</style>\n",
       "<ol class=list-inline><li>100</li><li>90</li><li>100</li></ol>\n"
      ],
      "text/latex": [
       "\\begin{enumerate*}\n",
       "\\item 100\n",
       "\\item 90\n",
       "\\item 100\n",
       "\\end{enumerate*}\n"
      ],
      "text/markdown": [
       "1. 100\n",
       "2. 90\n",
       "3. 100\n",
       "\n",
       "\n"
      ],
      "text/plain": [
       "[1] 100  90 100"
      ]
     },
     "metadata": {},
     "output_type": "display_data"
    },
    {
     "data": {
      "text/html": [
       "<style>\n",
       ".list-inline {list-style: none; margin:0; padding: 0}\n",
       ".list-inline>li {display: inline-block}\n",
       ".list-inline>li:not(:last-child)::after {content: \"\\00b7\"; padding: 0 .5ex}\n",
       "</style>\n",
       "<ol class=list-inline><li>100</li><li>90</li><li>80</li></ol>\n"
      ],
      "text/latex": [
       "\\begin{enumerate*}\n",
       "\\item 100\n",
       "\\item 90\n",
       "\\item 80\n",
       "\\end{enumerate*}\n"
      ],
      "text/markdown": [
       "1. 100\n",
       "2. 90\n",
       "3. 80\n",
       "\n",
       "\n"
      ],
      "text/plain": [
       "[1] 100  90  80"
      ]
     },
     "metadata": {},
     "output_type": "display_data"
    }
   ],
   "source": [
    "# 20, 21번\n",
    "attend <- c(100, 90, 100)\n",
    "hw <- c(100, 90, 80)\n",
    "attend\n",
    "hw"
   ]
  },
  {
   "cell_type": "code",
   "execution_count": 100,
   "metadata": {
    "vscode": {
     "languageId": "r"
    }
   },
   "outputs": [
    {
     "data": {
      "text/html": [
       "<table class=\"dataframe\">\n",
       "<caption>A data.frame: 3 × 6</caption>\n",
       "<thead>\n",
       "\t<tr><th scope=col>name</th><th scope=col>mid</th><th scope=col>final</th><th scope=col>mean</th><th scope=col>attend</th><th scope=col>hw</th></tr>\n",
       "\t<tr><th scope=col>&lt;chr&gt;</th><th scope=col>&lt;dbl&gt;</th><th scope=col>&lt;dbl&gt;</th><th scope=col>&lt;dbl&gt;</th><th scope=col>&lt;dbl&gt;</th><th scope=col>&lt;dbl&gt;</th></tr>\n",
       "</thead>\n",
       "<tbody>\n",
       "\t<tr><td>kim </td><td>71</td><td>83</td><td>77.0</td><td>100</td><td>100</td></tr>\n",
       "\t<tr><td>park</td><td>89</td><td>74</td><td>81.5</td><td> 90</td><td> 90</td></tr>\n",
       "\t<tr><td>lee </td><td>95</td><td>91</td><td>93.0</td><td>100</td><td> 80</td></tr>\n",
       "</tbody>\n",
       "</table>\n"
      ],
      "text/latex": [
       "A data.frame: 3 × 6\n",
       "\\begin{tabular}{llllll}\n",
       " name & mid & final & mean & attend & hw\\\\\n",
       " <chr> & <dbl> & <dbl> & <dbl> & <dbl> & <dbl>\\\\\n",
       "\\hline\n",
       "\t kim  & 71 & 83 & 77.0 & 100 & 100\\\\\n",
       "\t park & 89 & 74 & 81.5 &  90 &  90\\\\\n",
       "\t lee  & 95 & 91 & 93.0 & 100 &  80\\\\\n",
       "\\end{tabular}\n"
      ],
      "text/markdown": [
       "\n",
       "A data.frame: 3 × 6\n",
       "\n",
       "| name &lt;chr&gt; | mid &lt;dbl&gt; | final &lt;dbl&gt; | mean &lt;dbl&gt; | attend &lt;dbl&gt; | hw &lt;dbl&gt; |\n",
       "|---|---|---|---|---|---|\n",
       "| kim  | 71 | 83 | 77.0 | 100 | 100 |\n",
       "| park | 89 | 74 | 81.5 |  90 |  90 |\n",
       "| lee  | 95 | 91 | 93.0 | 100 |  80 |\n",
       "\n"
      ],
      "text/plain": [
       "  name mid final mean attend hw \n",
       "1 kim  71  83    77.0 100    100\n",
       "2 park 89  74    81.5  90     90\n",
       "3 lee  95  91    93.0 100     80"
      ]
     },
     "metadata": {},
     "output_type": "display_data"
    }
   ],
   "source": [
    "# 22번\n",
    "score$attend <- attend\n",
    "score$hw <- hw\n",
    "score"
   ]
  },
  {
   "cell_type": "code",
   "execution_count": 101,
   "metadata": {
    "vscode": {
     "languageId": "r"
    }
   },
   "outputs": [
    {
     "data": {
      "text/html": [
       "<table class=\"dataframe\">\n",
       "<caption>A data.frame: 3 × 7</caption>\n",
       "<thead>\n",
       "\t<tr><th scope=col>name</th><th scope=col>mid</th><th scope=col>final</th><th scope=col>mean</th><th scope=col>attend</th><th scope=col>hw</th><th scope=col>wmean</th></tr>\n",
       "\t<tr><th scope=col>&lt;chr&gt;</th><th scope=col>&lt;dbl&gt;</th><th scope=col>&lt;dbl&gt;</th><th scope=col>&lt;dbl&gt;</th><th scope=col>&lt;dbl&gt;</th><th scope=col>&lt;dbl&gt;</th><th scope=col>&lt;dbl&gt;</th></tr>\n",
       "</thead>\n",
       "<tbody>\n",
       "\t<tr><td>kim </td><td>71</td><td>83</td><td>77.0</td><td>100</td><td>100</td><td>81.6</td></tr>\n",
       "\t<tr><td>park</td><td>89</td><td>74</td><td>81.5</td><td> 90</td><td> 90</td><td>83.2</td></tr>\n",
       "\t<tr><td>lee </td><td>95</td><td>91</td><td>93.0</td><td>100</td><td> 80</td><td>92.4</td></tr>\n",
       "</tbody>\n",
       "</table>\n"
      ],
      "text/latex": [
       "A data.frame: 3 × 7\n",
       "\\begin{tabular}{lllllll}\n",
       " name & mid & final & mean & attend & hw & wmean\\\\\n",
       " <chr> & <dbl> & <dbl> & <dbl> & <dbl> & <dbl> & <dbl>\\\\\n",
       "\\hline\n",
       "\t kim  & 71 & 83 & 77.0 & 100 & 100 & 81.6\\\\\n",
       "\t park & 89 & 74 & 81.5 &  90 &  90 & 83.2\\\\\n",
       "\t lee  & 95 & 91 & 93.0 & 100 &  80 & 92.4\\\\\n",
       "\\end{tabular}\n"
      ],
      "text/markdown": [
       "\n",
       "A data.frame: 3 × 7\n",
       "\n",
       "| name &lt;chr&gt; | mid &lt;dbl&gt; | final &lt;dbl&gt; | mean &lt;dbl&gt; | attend &lt;dbl&gt; | hw &lt;dbl&gt; | wmean &lt;dbl&gt; |\n",
       "|---|---|---|---|---|---|---|\n",
       "| kim  | 71 | 83 | 77.0 | 100 | 100 | 81.6 |\n",
       "| park | 89 | 74 | 81.5 |  90 |  90 | 83.2 |\n",
       "| lee  | 95 | 91 | 93.0 | 100 |  80 | 92.4 |\n",
       "\n"
      ],
      "text/plain": [
       "  name mid final mean attend hw  wmean\n",
       "1 kim  71  83    77.0 100    100 81.6 \n",
       "2 park 89  74    81.5  90     90 83.2 \n",
       "3 lee  95  91    93.0 100     80 92.4 "
      ]
     },
     "metadata": {},
     "output_type": "display_data"
    }
   ],
   "source": [
    "# 23번\n",
    "score$wmean <- score$mid*0.4 + score$final*0.4 + score$attend*0.1 + score$hw*0.1\n",
    "score"
   ]
  },
  {
   "cell_type": "code",
   "execution_count": 102,
   "metadata": {
    "vscode": {
     "languageId": "r"
    }
   },
   "outputs": [
    {
     "name": "stdout",
     "output_type": "stream",
     "text": [
      "'data.frame':\t3 obs. of  7 variables:\n",
      " $ name  : chr  \"kim\" \"park\" \"lee\"\n",
      " $ mid   : num  71 89 95\n",
      " $ final : num  83 74 91\n",
      " $ mean  : num  77 81.5 93\n",
      " $ attend: num  100 90 100\n",
      " $ hw    : num  100 90 80\n",
      " $ wmean : num  81.6 83.2 92.4\n"
     ]
    }
   ],
   "source": [
    "# 24번\n",
    "str(score)"
   ]
  },
  {
   "cell_type": "code",
   "execution_count": 103,
   "metadata": {
    "vscode": {
     "languageId": "r"
    }
   },
   "outputs": [
    {
     "name": "stdout",
     "output_type": "stream",
     "text": [
      "  name mid final mean attend  hw wmean\n",
      "1  kim  71    83 77.0    100 100  81.6\n",
      "2 park  89    74 81.5     90  90  83.2\n",
      "3  lee  95    91 93.0    100  80  92.4\n"
     ]
    }
   ],
   "source": [
    "# 25번\n",
    "print(score)"
   ]
  },
  {
   "cell_type": "code",
   "execution_count": 110,
   "metadata": {
    "vscode": {
     "languageId": "r"
    }
   },
   "outputs": [
    {
     "name": "stdout",
     "output_type": "stream",
     "text": [
      "   Tree  age circumference\n",
      "1     1  118            30\n",
      "2     1  484            58\n",
      "3     1  664            87\n",
      "4     1 1004           115\n",
      "5     1 1231           120\n",
      "6     1 1372           142\n",
      "7     1 1582           145\n",
      "8     2  118            33\n",
      "9     2  484            69\n",
      "10    2  664           111\n",
      "11    2 1004           156\n",
      "12    2 1231           172\n",
      "13    2 1372           203\n",
      "14    2 1582           203\n",
      "15    3  118            30\n",
      "16    3  484            51\n",
      "17    3  664            75\n",
      "18    3 1004           108\n",
      "19    3 1231           115\n",
      "20    3 1372           139\n",
      "21    3 1582           140\n",
      "22    4  118            32\n",
      "23    4  484            62\n",
      "24    4  664           112\n",
      "25    4 1004           167\n",
      "26    4 1231           179\n",
      "27    4 1372           209\n",
      "28    4 1582           214\n",
      "29    5  118            30\n",
      "30    5  484            49\n",
      "31    5  664            81\n",
      "32    5 1004           125\n",
      "33    5 1231           142\n",
      "34    5 1372           174\n",
      "35    5 1582           177\n"
     ]
    }
   ],
   "source": [
    "# 26번\n",
    "data(Orange)\n",
    "print(Orange)"
   ]
  },
  {
   "cell_type": "code",
   "execution_count": 111,
   "metadata": {
    "vscode": {
     "languageId": "r"
    }
   },
   "outputs": [
    {
     "name": "stdout",
     "output_type": "stream",
     "text": [
      "Classes ‘nfnGroupedData’, ‘nfGroupedData’, ‘groupedData’ and 'data.frame':\t35 obs. of  3 variables:\n",
      " $ Tree         : Ord.factor w/ 5 levels \"3\"<\"1\"<\"5\"<\"2\"<..: 2 2 2 2 2 2 2 4 4 4 ...\n",
      " $ age          : num  118 484 664 1004 1231 ...\n",
      " $ circumference: num  30 58 87 115 120 142 145 33 69 111 ...\n",
      " - attr(*, \"formula\")=Class 'formula'  language circumference ~ age | Tree\n",
      "  .. ..- attr(*, \".Environment\")=<environment: R_EmptyEnv> \n",
      " - attr(*, \"labels\")=List of 2\n",
      "  ..$ x: chr \"Time since December 31, 1968\"\n",
      "  ..$ y: chr \"Trunk circumference\"\n",
      " - attr(*, \"units\")=List of 2\n",
      "  ..$ x: chr \"(days)\"\n",
      "  ..$ y: chr \"(mm)\"\n"
     ]
    }
   ],
   "source": [
    "# 27번\n",
    "str(Orange)"
   ]
  },
  {
   "cell_type": "code",
   "execution_count": 112,
   "metadata": {
    "vscode": {
     "languageId": "r"
    }
   },
   "outputs": [
    {
     "data": {
      "text/html": [
       "<table class=\"dataframe\">\n",
       "<caption>A nfnGroupedData: 7 × 3</caption>\n",
       "<thead>\n",
       "\t<tr><th></th><th scope=col>Tree</th><th scope=col>age</th><th scope=col>circumference</th></tr>\n",
       "\t<tr><th></th><th scope=col>&lt;ord&gt;</th><th scope=col>&lt;dbl&gt;</th><th scope=col>&lt;dbl&gt;</th></tr>\n",
       "</thead>\n",
       "<tbody>\n",
       "\t<tr><th scope=row>1</th><td>1</td><td> 118</td><td> 30</td></tr>\n",
       "\t<tr><th scope=row>2</th><td>1</td><td> 484</td><td> 58</td></tr>\n",
       "\t<tr><th scope=row>3</th><td>1</td><td> 664</td><td> 87</td></tr>\n",
       "\t<tr><th scope=row>4</th><td>1</td><td>1004</td><td>115</td></tr>\n",
       "\t<tr><th scope=row>5</th><td>1</td><td>1231</td><td>120</td></tr>\n",
       "\t<tr><th scope=row>6</th><td>1</td><td>1372</td><td>142</td></tr>\n",
       "\t<tr><th scope=row>7</th><td>1</td><td>1582</td><td>145</td></tr>\n",
       "</tbody>\n",
       "</table>\n"
      ],
      "text/latex": [
       "A nfnGroupedData: 7 × 3\n",
       "\\begin{tabular}{r|lll}\n",
       "  & Tree & age & circumference\\\\\n",
       "  & <ord> & <dbl> & <dbl>\\\\\n",
       "\\hline\n",
       "\t1 & 1 &  118 &  30\\\\\n",
       "\t2 & 1 &  484 &  58\\\\\n",
       "\t3 & 1 &  664 &  87\\\\\n",
       "\t4 & 1 & 1004 & 115\\\\\n",
       "\t5 & 1 & 1231 & 120\\\\\n",
       "\t6 & 1 & 1372 & 142\\\\\n",
       "\t7 & 1 & 1582 & 145\\\\\n",
       "\\end{tabular}\n"
      ],
      "text/markdown": [
       "\n",
       "A nfnGroupedData: 7 × 3\n",
       "\n",
       "| <!--/--> | Tree &lt;ord&gt; | age &lt;dbl&gt; | circumference &lt;dbl&gt; |\n",
       "|---|---|---|---|\n",
       "| 1 | 1 |  118 |  30 |\n",
       "| 2 | 1 |  484 |  58 |\n",
       "| 3 | 1 |  664 |  87 |\n",
       "| 4 | 1 | 1004 | 115 |\n",
       "| 5 | 1 | 1231 | 120 |\n",
       "| 6 | 1 | 1372 | 142 |\n",
       "| 7 | 1 | 1582 | 145 |\n",
       "\n"
      ],
      "text/plain": [
       "  Tree age  circumference\n",
       "1 1     118  30          \n",
       "2 1     484  58          \n",
       "3 1     664  87          \n",
       "4 1    1004 115          \n",
       "5 1    1231 120          \n",
       "6 1    1372 142          \n",
       "7 1    1582 145          "
      ]
     },
     "metadata": {},
     "output_type": "display_data"
    }
   ],
   "source": [
    "# 28번\n",
    "O1 <- Orange[Orange$Tree==1, ]\n",
    "O1"
   ]
  },
  {
   "cell_type": "code",
   "execution_count": 115,
   "metadata": {
    "vscode": {
     "languageId": "r"
    }
   },
   "outputs": [
    {
     "data": {
      "text/html": [
       "<table class=\"dataframe\">\n",
       "<caption>A nfnGroupedData: 6 × 3</caption>\n",
       "<thead>\n",
       "\t<tr><th></th><th scope=col>Tree</th><th scope=col>age</th><th scope=col>circumference</th></tr>\n",
       "\t<tr><th></th><th scope=col>&lt;ord&gt;</th><th scope=col>&lt;dbl&gt;</th><th scope=col>&lt;dbl&gt;</th></tr>\n",
       "</thead>\n",
       "<tbody>\n",
       "\t<tr><th scope=row>2</th><td>1</td><td>484</td><td>58</td></tr>\n",
       "\t<tr><th scope=row>2.1</th><td>1</td><td>484</td><td>58</td></tr>\n",
       "\t<tr><th scope=row>2.2</th><td>1</td><td>484</td><td>58</td></tr>\n",
       "\t<tr><th scope=row>2.3</th><td>1</td><td>484</td><td>58</td></tr>\n",
       "\t<tr><th scope=row>2.4</th><td>1</td><td>484</td><td>58</td></tr>\n",
       "\t<tr><th scope=row>2.5</th><td>1</td><td>484</td><td>58</td></tr>\n",
       "</tbody>\n",
       "</table>\n"
      ],
      "text/latex": [
       "A nfnGroupedData: 6 × 3\n",
       "\\begin{tabular}{r|lll}\n",
       "  & Tree & age & circumference\\\\\n",
       "  & <ord> & <dbl> & <dbl>\\\\\n",
       "\\hline\n",
       "\t2 & 1 & 484 & 58\\\\\n",
       "\t2.1 & 1 & 484 & 58\\\\\n",
       "\t2.2 & 1 & 484 & 58\\\\\n",
       "\t2.3 & 1 & 484 & 58\\\\\n",
       "\t2.4 & 1 & 484 & 58\\\\\n",
       "\t2.5 & 1 & 484 & 58\\\\\n",
       "\\end{tabular}\n"
      ],
      "text/markdown": [
       "\n",
       "A nfnGroupedData: 6 × 3\n",
       "\n",
       "| <!--/--> | Tree &lt;ord&gt; | age &lt;dbl&gt; | circumference &lt;dbl&gt; |\n",
       "|---|---|---|---|\n",
       "| 2 | 1 | 484 | 58 |\n",
       "| 2.1 | 1 | 484 | 58 |\n",
       "| 2.2 | 1 | 484 | 58 |\n",
       "| 2.3 | 1 | 484 | 58 |\n",
       "| 2.4 | 1 | 484 | 58 |\n",
       "| 2.5 | 1 | 484 | 58 |\n",
       "\n"
      ],
      "text/plain": [
       "    Tree age circumference\n",
       "2   1    484 58           \n",
       "2.1 1    484 58           \n",
       "2.2 1    484 58           \n",
       "2.3 1    484 58           \n",
       "2.4 1    484 58           \n",
       "2.5 1    484 58           "
      ]
     },
     "metadata": {},
     "output_type": "display_data"
    }
   ],
   "source": [
    "# 29번\n",
    "O2 <- Orange[Orange$Tree, -Orange$age, ]\n",
    "# 상위 10개\n",
    "head(O2)"
   ]
  }
 ],
 "metadata": {
  "kernelspec": {
   "display_name": "R",
   "language": "R",
   "name": "ir"
  },
  "language_info": {
   "codemirror_mode": "r",
   "file_extension": ".r",
   "mimetype": "text/x-r-source",
   "name": "R",
   "pygments_lexer": "r",
   "version": "4.3.1"
  }
 },
 "nbformat": 4,
 "nbformat_minor": 2
}
