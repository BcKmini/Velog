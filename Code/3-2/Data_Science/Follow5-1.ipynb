{
 "cells": [
  {
   "cell_type": "code",
   "execution_count": 68,
   "metadata": {
    "vscode": {
     "languageId": "r"
    }
   },
   "outputs": [
    {
     "data": {
      "text/html": [
       "<style>\n",
       ".list-inline {list-style: none; margin:0; padding: 0}\n",
       ".list-inline>li {display: inline-block}\n",
       ".list-inline>li:not(:last-child)::after {content: \"\\00b7\"; padding: 0 .5ex}\n",
       "</style>\n",
       "<ol class=list-inline><li>1</li><li>2</li><li>3</li><li>4</li><li>&lt;NA&gt;</li><li>5</li><li>6</li></ol>\n"
      ],
      "text/latex": [
       "\\begin{enumerate*}\n",
       "\\item 1\n",
       "\\item 2\n",
       "\\item 3\n",
       "\\item 4\n",
       "\\item <NA>\n",
       "\\item 5\n",
       "\\item 6\n",
       "\\end{enumerate*}\n"
      ],
      "text/markdown": [
       "1. 1\n",
       "2. 2\n",
       "3. 3\n",
       "4. 4\n",
       "5. &lt;NA&gt;\n",
       "6. 5\n",
       "7. 6\n",
       "\n",
       "\n"
      ],
      "text/plain": [
       "[1]  1  2  3  4 NA  5  6"
      ]
     },
     "metadata": {},
     "output_type": "display_data"
    }
   ],
   "source": [
    "x <- c(1,2,3,4,NA,5,6)\n",
    "x"
   ]
  },
  {
   "cell_type": "code",
   "execution_count": 69,
   "metadata": {
    "vscode": {
     "languageId": "r"
    }
   },
   "outputs": [
    {
     "data": {
      "text/html": [
       "&lt;NA&gt;"
      ],
      "text/latex": [
       "<NA>"
      ],
      "text/markdown": [
       "&lt;NA&gt;"
      ],
      "text/plain": [
       "[1] NA"
      ]
     },
     "metadata": {},
     "output_type": "display_data"
    }
   ],
   "source": [
    "mean(x)"
   ]
  },
  {
   "cell_type": "code",
   "execution_count": 70,
   "metadata": {
    "vscode": {
     "languageId": "r"
    }
   },
   "outputs": [
    {
     "data": {
      "text/html": [
       "7"
      ],
      "text/latex": [
       "7"
      ],
      "text/markdown": [
       "7"
      ],
      "text/plain": [
       "[1] 7"
      ]
     },
     "metadata": {},
     "output_type": "display_data"
    }
   ],
   "source": [
    "length(x)"
   ]
  },
  {
   "cell_type": "code",
   "execution_count": 71,
   "metadata": {
    "vscode": {
     "languageId": "r"
    }
   },
   "outputs": [
    {
     "data": {
      "text/html": [
       "<style>\n",
       ".list-inline {list-style: none; margin:0; padding: 0}\n",
       ".list-inline>li {display: inline-block}\n",
       ".list-inline>li:not(:last-child)::after {content: \"\\00b7\"; padding: 0 .5ex}\n",
       "</style>\n",
       "<ol class=list-inline><li>FALSE</li><li>FALSE</li><li>FALSE</li><li>FALSE</li><li>FALSE</li><li>FALSE</li></ol>\n"
      ],
      "text/latex": [
       "\\begin{enumerate*}\n",
       "\\item FALSE\n",
       "\\item FALSE\n",
       "\\item FALSE\n",
       "\\item FALSE\n",
       "\\item FALSE\n",
       "\\item FALSE\n",
       "\\end{enumerate*}\n"
      ],
      "text/markdown": [
       "1. FALSE\n",
       "2. FALSE\n",
       "3. FALSE\n",
       "4. FALSE\n",
       "5. FALSE\n",
       "6. FALSE\n",
       "\n",
       "\n"
      ],
      "text/plain": [
       "[1] FALSE FALSE FALSE FALSE FALSE FALSE"
      ]
     },
     "metadata": {},
     "output_type": "display_data"
    }
   ],
   "source": [
    "x <- c(1,2,3,4,NULL,5,6)\n",
    "is.na(x)"
   ]
  },
  {
   "cell_type": "code",
   "execution_count": 72,
   "metadata": {
    "vscode": {
     "languageId": "r"
    }
   },
   "outputs": [
    {
     "data": {
      "text/html": [
       "FALSE"
      ],
      "text/latex": [
       "FALSE"
      ],
      "text/markdown": [
       "FALSE"
      ],
      "text/plain": [
       "[1] FALSE"
      ]
     },
     "metadata": {},
     "output_type": "display_data"
    }
   ],
   "source": [
    "any(is.na(x))"
   ]
  },
  {
   "cell_type": "code",
   "execution_count": 73,
   "metadata": {
    "vscode": {
     "languageId": "r"
    }
   },
   "outputs": [
    {
     "data": {
      "text/html": [
       "FALSE"
      ],
      "text/latex": [
       "FALSE"
      ],
      "text/markdown": [
       "FALSE"
      ],
      "text/plain": [
       "[1] FALSE"
      ]
     },
     "metadata": {},
     "output_type": "display_data"
    }
   ],
   "source": [
    "all(is.na(x))"
   ]
  },
  {
   "cell_type": "code",
   "execution_count": 74,
   "metadata": {
    "vscode": {
     "languageId": "r"
    }
   },
   "outputs": [
    {
     "data": {
      "text/html": [
       "3.5"
      ],
      "text/latex": [
       "3.5"
      ],
      "text/markdown": [
       "3.5"
      ],
      "text/plain": [
       "[1] 3.5"
      ]
     },
     "metadata": {},
     "output_type": "display_data"
    }
   ],
   "source": [
    "mean(x)"
   ]
  },
  {
   "cell_type": "code",
   "execution_count": 75,
   "metadata": {
    "vscode": {
     "languageId": "r"
    }
   },
   "outputs": [
    {
     "data": {
      "text/html": [
       "3.5"
      ],
      "text/latex": [
       "3.5"
      ],
      "text/markdown": [
       "3.5"
      ],
      "text/plain": [
       "[1] 3.5"
      ]
     },
     "metadata": {},
     "output_type": "display_data"
    }
   ],
   "source": [
    "mean(x, na.rm=T)"
   ]
  },
  {
   "cell_type": "code",
   "execution_count": 76,
   "metadata": {
    "vscode": {
     "languageId": "r"
    }
   },
   "outputs": [
    {
     "data": {
      "text/html": [
       "<style>\n",
       ".list-inline {list-style: none; margin:0; padding: 0}\n",
       ".list-inline>li {display: inline-block}\n",
       ".list-inline>li:not(:last-child)::after {content: \"\\00b7\"; padding: 0 .5ex}\n",
       "</style>\n",
       "<ol class=list-inline><li>1</li><li>2</li><li>3</li><li>4</li><li>5</li><li>6</li></ol>\n"
      ],
      "text/latex": [
       "\\begin{enumerate*}\n",
       "\\item 1\n",
       "\\item 2\n",
       "\\item 3\n",
       "\\item 4\n",
       "\\item 5\n",
       "\\item 6\n",
       "\\end{enumerate*}\n"
      ],
      "text/markdown": [
       "1. 1\n",
       "2. 2\n",
       "3. 3\n",
       "4. 4\n",
       "5. 5\n",
       "6. 6\n",
       "\n",
       "\n"
      ],
      "text/plain": [
       "[1] 1 2 3 4 5 6"
      ]
     },
     "metadata": {},
     "output_type": "display_data"
    }
   ],
   "source": [
    "# 모든 na를 제외하는 옵션임 \n",
    "x <- na.omit(x)\n",
    "x"
   ]
  },
  {
   "cell_type": "code",
   "execution_count": 77,
   "metadata": {
    "vscode": {
     "languageId": "r"
    }
   },
   "outputs": [
    {
     "name": "stdout",
     "output_type": "stream",
     "text": [
      "[1] 1 2 3 4 5 6\n"
     ]
    }
   ],
   "source": [
    "print(x)"
   ]
  },
  {
   "cell_type": "code",
   "execution_count": 78,
   "metadata": {
    "vscode": {
     "languageId": "r"
    }
   },
   "outputs": [
    {
     "data": {
      "text/html": [
       "<table class=\"dataframe\">\n",
       "<caption>A data.frame: 4 × 2</caption>\n",
       "<thead>\n",
       "\t<tr><th scope=col>x</th><th scope=col>y</th></tr>\n",
       "\t<tr><th scope=col>&lt;dbl&gt;</th><th scope=col>&lt;dbl&gt;</th></tr>\n",
       "</thead>\n",
       "<tbody>\n",
       "\t<tr><td> 1</td><td>10</td></tr>\n",
       "\t<tr><td>NA</td><td>20</td></tr>\n",
       "\t<tr><td> 3</td><td>NA</td></tr>\n",
       "\t<tr><td> 4</td><td>40</td></tr>\n",
       "</tbody>\n",
       "</table>\n"
      ],
      "text/latex": [
       "A data.frame: 4 × 2\n",
       "\\begin{tabular}{ll}\n",
       " x & y\\\\\n",
       " <dbl> & <dbl>\\\\\n",
       "\\hline\n",
       "\t  1 & 10\\\\\n",
       "\t NA & 20\\\\\n",
       "\t  3 & NA\\\\\n",
       "\t  4 & 40\\\\\n",
       "\\end{tabular}\n"
      ],
      "text/markdown": [
       "\n",
       "A data.frame: 4 × 2\n",
       "\n",
       "| x &lt;dbl&gt; | y &lt;dbl&gt; |\n",
       "|---|---|\n",
       "|  1 | 10 |\n",
       "| NA | 20 |\n",
       "|  3 | NA |\n",
       "|  4 | 40 |\n",
       "\n"
      ],
      "text/plain": [
       "  x  y \n",
       "1  1 10\n",
       "2 NA 20\n",
       "3  3 NA\n",
       "4  4 40"
      ]
     },
     "metadata": {},
     "output_type": "display_data"
    }
   ],
   "source": [
    "df <- data.frame(x=c(1,NA,3,4), y=c(10,20,NA,40))\n",
    "df"
   ]
  },
  {
   "cell_type": "code",
   "execution_count": 79,
   "metadata": {
    "vscode": {
     "languageId": "r"
    }
   },
   "outputs": [
    {
     "data": {
      "text/html": [
       "TRUE"
      ],
      "text/latex": [
       "TRUE"
      ],
      "text/markdown": [
       "TRUE"
      ],
      "text/plain": [
       "[1] TRUE"
      ]
     },
     "metadata": {},
     "output_type": "display_data"
    }
   ],
   "source": [
    "any(is.na(df))"
   ]
  },
  {
   "cell_type": "code",
   "execution_count": 80,
   "metadata": {
    "vscode": {
     "languageId": "r"
    }
   },
   "outputs": [
    {
     "name": "stdout",
     "output_type": "stream",
     "text": [
      "  x  y\n",
      "1 1 10\n",
      "4 4 40\n"
     ]
    }
   ],
   "source": [
    "df <- na.omit(df)\n",
    "print(df)"
   ]
  },
  {
   "cell_type": "code",
   "execution_count": 81,
   "metadata": {
    "vscode": {
     "languageId": "r"
    }
   },
   "outputs": [
    {
     "data": {
      "text/html": [
       "<table class=\"dataframe\">\n",
       "<caption>A data.frame: 2 × 2</caption>\n",
       "<thead>\n",
       "\t<tr><th></th><th scope=col>x</th><th scope=col>y</th></tr>\n",
       "\t<tr><th></th><th scope=col>&lt;dbl&gt;</th><th scope=col>&lt;dbl&gt;</th></tr>\n",
       "</thead>\n",
       "<tbody>\n",
       "\t<tr><th scope=row>1</th><td>1</td><td>10</td></tr>\n",
       "\t<tr><th scope=row>4</th><td>4</td><td>40</td></tr>\n",
       "</tbody>\n",
       "</table>\n"
      ],
      "text/latex": [
       "A data.frame: 2 × 2\n",
       "\\begin{tabular}{r|ll}\n",
       "  & x & y\\\\\n",
       "  & <dbl> & <dbl>\\\\\n",
       "\\hline\n",
       "\t1 & 1 & 10\\\\\n",
       "\t4 & 4 & 40\\\\\n",
       "\\end{tabular}\n"
      ],
      "text/markdown": [
       "\n",
       "A data.frame: 2 × 2\n",
       "\n",
       "| <!--/--> | x &lt;dbl&gt; | y &lt;dbl&gt; |\n",
       "|---|---|---|\n",
       "| 1 | 1 | 10 |\n",
       "| 4 | 4 | 40 |\n",
       "\n"
      ],
      "text/plain": [
       "  x y \n",
       "1 1 10\n",
       "4 4 40"
      ]
     },
     "metadata": {},
     "output_type": "display_data"
    }
   ],
   "source": [
    "df"
   ]
  },
  {
   "cell_type": "code",
   "execution_count": 82,
   "metadata": {
    "vscode": {
     "languageId": "r"
    }
   },
   "outputs": [
    {
     "data": {
      "text/plain": [
       "       x              y       \n",
       " Min.   :1.00   Min.   :10.0  \n",
       " 1st Qu.:1.75   1st Qu.:17.5  \n",
       " Median :2.50   Median :25.0  \n",
       " Mean   :2.50   Mean   :25.0  \n",
       " 3rd Qu.:3.25   3rd Qu.:32.5  \n",
       " Max.   :4.00   Max.   :40.0  "
      ]
     },
     "metadata": {},
     "output_type": "display_data"
    }
   ],
   "source": [
    "summary(df)"
   ]
  },
  {
   "cell_type": "code",
   "execution_count": 83,
   "metadata": {
    "vscode": {
     "languageId": "r"
    }
   },
   "outputs": [],
   "source": [
    "data(ToothGrowth)"
   ]
  },
  {
   "cell_type": "code",
   "execution_count": 84,
   "metadata": {
    "vscode": {
     "languageId": "r"
    }
   },
   "outputs": [
    {
     "name": "stdout",
     "output_type": "stream",
     "text": [
      "'data.frame':\t60 obs. of  3 variables:\n",
      " $ len : num  4.2 11.5 7.3 5.8 6.4 10 11.2 11.2 5.2 7 ...\n",
      " $ supp: Factor w/ 2 levels \"OJ\",\"VC\": 2 2 2 2 2 2 2 2 2 2 ...\n",
      " $ dose: num  0.5 0.5 0.5 0.5 0.5 0.5 0.5 0.5 0.5 0.5 ...\n"
     ]
    },
    {
     "data": {
      "text/plain": [
       "      len        supp         dose      \n",
       " Min.   : 4.20   OJ:30   Min.   :0.500  \n",
       " 1st Qu.:13.07   VC:30   1st Qu.:0.500  \n",
       " Median :19.25           Median :1.000  \n",
       " Mean   :18.81           Mean   :1.167  \n",
       " 3rd Qu.:25.27           3rd Qu.:2.000  \n",
       " Max.   :33.90           Max.   :2.000  "
      ]
     },
     "metadata": {},
     "output_type": "display_data"
    }
   ],
   "source": [
    "str(ToothGrowth)\n",
    "summary(ToothGrowth)"
   ]
  },
  {
   "cell_type": "code",
   "execution_count": 85,
   "metadata": {
    "vscode": {
     "languageId": "r"
    }
   },
   "outputs": [
    {
     "data": {
      "text/plain": [
       "\n",
       "OJ VC \n",
       "30 30 "
      ]
     },
     "metadata": {},
     "output_type": "display_data"
    }
   ],
   "source": [
    "table(ToothGrowth$supp)"
   ]
  },
  {
   "cell_type": "code",
   "execution_count": 86,
   "metadata": {
    "vscode": {
     "languageId": "r"
    }
   },
   "outputs": [
    {
     "data": {
      "text/html": [
       "<table class=\"dataframe\">\n",
       "<caption>A table: 3 × 4 of type dbl</caption>\n",
       "<thead>\n",
       "\t<tr><th></th><th scope=col>0.5</th><th scope=col>1</th><th scope=col>2</th><th scope=col>Sum</th></tr>\n",
       "</thead>\n",
       "<tbody>\n",
       "\t<tr><th scope=row>OJ</th><td>10</td><td>10</td><td>10</td><td>30</td></tr>\n",
       "\t<tr><th scope=row>VC</th><td>10</td><td>10</td><td>10</td><td>30</td></tr>\n",
       "\t<tr><th scope=row>Sum</th><td>20</td><td>20</td><td>20</td><td>60</td></tr>\n",
       "</tbody>\n",
       "</table>\n"
      ],
      "text/latex": [
       "A table: 3 × 4 of type dbl\n",
       "\\begin{tabular}{r|llll}\n",
       "  & 0.5 & 1 & 2 & Sum\\\\\n",
       "\\hline\n",
       "\tOJ & 10 & 10 & 10 & 30\\\\\n",
       "\tVC & 10 & 10 & 10 & 30\\\\\n",
       "\tSum & 20 & 20 & 20 & 60\\\\\n",
       "\\end{tabular}\n"
      ],
      "text/markdown": [
       "\n",
       "A table: 3 × 4 of type dbl\n",
       "\n",
       "| <!--/--> | 0.5 | 1 | 2 | Sum |\n",
       "|---|---|---|---|---|\n",
       "| OJ | 10 | 10 | 10 | 30 |\n",
       "| VC | 10 | 10 | 10 | 30 |\n",
       "| Sum | 20 | 20 | 20 | 60 |\n",
       "\n"
      ],
      "text/plain": [
       "     \n",
       "      0.5 1  2  Sum\n",
       "  OJ  10  10 10 30 \n",
       "  VC  10  10 10 30 \n",
       "  Sum 20  20 20 60 "
      ]
     },
     "metadata": {},
     "output_type": "display_data"
    }
   ],
   "source": [
    "tbl <- table(ToothGrowth$supp, ToothGrowth$dose)\n",
    "addmargins(tbl)"
   ]
  },
  {
   "cell_type": "code",
   "execution_count": 87,
   "metadata": {
    "vscode": {
     "languageId": "r"
    }
   },
   "outputs": [
    {
     "data": {
      "text/plain": [
       "\n",
       " OJ  VC \n",
       "0.5 0.5 "
      ]
     },
     "metadata": {},
     "output_type": "display_data"
    }
   ],
   "source": [
    "# 상대도수\n",
    "Supp <- table(ToothGrowth$supp)\n",
    "prop.table(Supp)"
   ]
  },
  {
   "cell_type": "code",
   "execution_count": 88,
   "metadata": {
    "vscode": {
     "languageId": "r"
    }
   },
   "outputs": [
    {
     "data": {
      "text/plain": [
       "\n",
       "      0.5         1         2 \n",
       "0.3333333 0.3333333 0.3333333 "
      ]
     },
     "metadata": {},
     "output_type": "display_data"
    }
   ],
   "source": [
    "Dose <- table(ToothGrowth$dose)\n",
    "prop.table(Dose)"
   ]
  },
  {
   "cell_type": "code",
   "execution_count": 89,
   "metadata": {
    "vscode": {
     "languageId": "r"
    }
   },
   "outputs": [
    {
     "data": {
      "text/plain": [
       "\n",
       " 0.5    1    2 \n",
       "0.33 0.33 0.33 "
      ]
     },
     "metadata": {},
     "output_type": "display_data"
    }
   ],
   "source": [
    "round(prop.table(Dose), 2)"
   ]
  },
  {
   "cell_type": "code",
   "execution_count": 90,
   "metadata": {
    "vscode": {
     "languageId": "r"
    }
   },
   "outputs": [
    {
     "data": {
      "text/plain": [
       "    \n",
       "      0.5    1    2\n",
       "  OJ 0.17 0.17 0.17\n",
       "  VC 0.17 0.17 0.17"
      ]
     },
     "metadata": {},
     "output_type": "display_data"
    }
   ],
   "source": [
    "# 상대도수 교표표\n",
    "cross <- table(ToothGrowth$supp, ToothGrowth$dose)\n",
    "round(prop.table(cross), 2)"
   ]
  },
  {
   "cell_type": "code",
   "execution_count": 91,
   "metadata": {
    "vscode": {
     "languageId": "r"
    }
   },
   "outputs": [],
   "source": [
    "data(mtcars)"
   ]
  },
  {
   "cell_type": "code",
   "execution_count": 92,
   "metadata": {
    "vscode": {
     "languageId": "r"
    }
   },
   "outputs": [
    {
     "data": {
      "text/plain": [
       "\n",
       " 4  6  8 \n",
       "11  7 14 "
      ]
     },
     "metadata": {},
     "output_type": "display_data"
    }
   ],
   "source": [
    "tbl <- table(mtcars$cyl)\n",
    "tbl"
   ]
  },
  {
   "cell_type": "code",
   "execution_count": 93,
   "metadata": {
    "vscode": {
     "languageId": "r"
    }
   },
   "outputs": [
    {
     "data": {
      "image/png": "[encoded data removed]",
      "text/plain": [
       "plot without title"
      ]
     },
     "metadata": {
      "image/png": {
       "height": 420,
       "width": 600
      }
     },
     "output_type": "display_data"
    }
   ],
   "source": [
    "barplot(tbl)"
   ]
  },
  {
   "cell_type": "code",
   "execution_count": 94,
   "metadata": {
    "vscode": {
     "languageId": "r"
    }
   },
   "outputs": [
    {
     "data": {
      "text/plain": [
       "\n",
       " 4  6  8 \n",
       "11  7 14 "
      ]
     },
     "metadata": {},
     "output_type": "display_data"
    }
   ],
   "source": [
    "tbl <- table(mtcars$cyl)\n",
    "tbl"
   ]
  },
  {
   "cell_type": "code",
   "execution_count": 95,
   "metadata": {
    "vscode": {
     "languageId": "r"
    }
   },
   "outputs": [
    {
     "data": {
      "text/html": [
       "'table'"
      ],
      "text/latex": [
       "'table'"
      ],
      "text/markdown": [
       "'table'"
      ],
      "text/plain": [
       "[1] \"table\""
      ]
     },
     "metadata": {},
     "output_type": "display_data"
    }
   ],
   "source": [
    "tbl <- table(mtcars$cyl)\n",
    "class(tbl)"
   ]
  },
  {
   "cell_type": "code",
   "execution_count": 96,
   "metadata": {
    "vscode": {
     "languageId": "r"
    }
   },
   "outputs": [
    {
     "data": {
      "image/png": "[encoded data removed]",
      "text/plain": [
       "plot without title"
      ]
     },
     "metadata": {
      "image/png": {
       "height": 420,
       "width": 600
      }
     },
     "output_type": "display_data"
    }
   ],
   "source": [
    "barplot(tbl, col='gold', border='red')"
   ]
  },
  {
   "cell_type": "code",
   "execution_count": 97,
   "metadata": {
    "vscode": {
     "languageId": "r"
    }
   },
   "outputs": [],
   "source": [
    "library(readxl)"
   ]
  },
  {
   "cell_type": "code",
   "execution_count": 98,
   "metadata": {
    "vscode": {
     "languageId": "r"
    }
   },
   "outputs": [
    {
     "data": {
      "text/html": [
       "<table class=\"dataframe\">\n",
       "<caption>A tibble: 6 × 8</caption>\n",
       "<thead>\n",
       "\t<tr><th scope=col>번호</th><th scope=col>학년</th><th scope=col>통신사</th><th scope=col>제조회사</th><th scope=col>계기</th><th scope=col>만족도</th><th scope=col>구매이유</th><th scope=col>사용앱</th></tr>\n",
       "\t<tr><th scope=col>&lt;dbl&gt;</th><th scope=col>&lt;chr&gt;</th><th scope=col>&lt;chr&gt;</th><th scope=col>&lt;chr&gt;</th><th scope=col>&lt;chr&gt;</th><th scope=col>&lt;dbl&gt;</th><th scope=col>&lt;chr&gt;</th><th scope=col>&lt;chr&gt;</th></tr>\n",
       "</thead>\n",
       "<tbody>\n",
       "\t<tr><td>1</td><td>2학년</td><td>KT  </td><td>애플</td><td>아는 사람 소개        </td><td>3</td><td>디자인이 마음에 들어서              </td><td>카카오톡, 유투브, 영화보기(Netplix 등)</td></tr>\n",
       "\t<tr><td>2</td><td>3학년</td><td>LGU+</td><td>애플</td><td>인터넷을 통해서       </td><td>5</td><td>성능이 좋아서                       </td><td>카카오톡, 유투브, 카메라              </td></tr>\n",
       "\t<tr><td>3</td><td>4학년</td><td>SKT </td><td>삼성</td><td>인터넷을 통해서       </td><td>4</td><td>가격이 착해서, 성능이 좋아서        </td><td>카카오톡, 유투브, 인터넷              </td></tr>\n",
       "\t<tr><td>4</td><td>3학년</td><td>SKT </td><td>애플</td><td>어릴적이라 기억이 안남</td><td>5</td><td>디자인이 마음에 들어서              </td><td>카카오톡, 유투브, 인스타그램          </td></tr>\n",
       "\t<tr><td>5</td><td>2학년</td><td>SKT </td><td>삼성</td><td>인터넷을 통해서       </td><td>3</td><td>가격이 착해서, 이전 폰에 싫증이 나서</td><td>유투브, 게임, TV 다시보기             </td></tr>\n",
       "\t<tr><td>6</td><td>3학년</td><td>KT  </td><td>삼성</td><td>인터넷을 통해서       </td><td>3</td><td>성능이 좋아서                       </td><td>카카오톡, 유투브, 인터넷              </td></tr>\n",
       "</tbody>\n",
       "</table>\n"
      ],
      "text/latex": [
       "A tibble: 6 × 8\n",
       "\\begin{tabular}{llllllll}\n",
       " 번호 & 학년 & 통신사 & 제조회사 & 계기 & 만족도 & 구매이유 & 사용앱\\\\\n",
       " <dbl> & <chr> & <chr> & <chr> & <chr> & <dbl> & <chr> & <chr>\\\\\n",
       "\\hline\n",
       "\t 1 & 2학년 & KT   & 애플 & 아는 사람 소개         & 3 & 디자인이 마음에 들어서               & 카카오톡, 유투브, 영화보기(Netplix 등)\\\\\n",
       "\t 2 & 3학년 & LGU+ & 애플 & 인터넷을 통해서        & 5 & 성능이 좋아서                        & 카카오톡, 유투브, 카메라              \\\\\n",
       "\t 3 & 4학년 & SKT  & 삼성 & 인터넷을 통해서        & 4 & 가격이 착해서, 성능이 좋아서         & 카카오톡, 유투브, 인터넷              \\\\\n",
       "\t 4 & 3학년 & SKT  & 애플 & 어릴적이라 기억이 안남 & 5 & 디자인이 마음에 들어서               & 카카오톡, 유투브, 인스타그램          \\\\\n",
       "\t 5 & 2학년 & SKT  & 삼성 & 인터넷을 통해서        & 3 & 가격이 착해서, 이전 폰에 싫증이 나서 & 유투브, 게임, TV 다시보기             \\\\\n",
       "\t 6 & 3학년 & KT   & 삼성 & 인터넷을 통해서        & 3 & 성능이 좋아서                        & 카카오톡, 유투브, 인터넷              \\\\\n",
       "\\end{tabular}\n"
      ],
      "text/markdown": [
       "\n",
       "A tibble: 6 × 8\n",
       "\n",
       "| 번호 &lt;dbl&gt; | 학년 &lt;chr&gt; | 통신사 &lt;chr&gt; | 제조회사 &lt;chr&gt; | 계기 &lt;chr&gt; | 만족도 &lt;dbl&gt; | 구매이유 &lt;chr&gt; | 사용앱 &lt;chr&gt; |\n",
       "|---|---|---|---|---|---|---|---|\n",
       "| 1 | 2학년 | KT   | 애플 | 아는 사람 소개         | 3 | 디자인이 마음에 들어서               | 카카오톡, 유투브, 영화보기(Netplix 등) |\n",
       "| 2 | 3학년 | LGU+ | 애플 | 인터넷을 통해서        | 5 | 성능이 좋아서                        | 카카오톡, 유투브, 카메라               |\n",
       "| 3 | 4학년 | SKT  | 삼성 | 인터넷을 통해서        | 4 | 가격이 착해서, 성능이 좋아서         | 카카오톡, 유투브, 인터넷               |\n",
       "| 4 | 3학년 | SKT  | 애플 | 어릴적이라 기억이 안남 | 5 | 디자인이 마음에 들어서               | 카카오톡, 유투브, 인스타그램           |\n",
       "| 5 | 2학년 | SKT  | 삼성 | 인터넷을 통해서        | 3 | 가격이 착해서, 이전 폰에 싫증이 나서 | 유투브, 게임, TV 다시보기              |\n",
       "| 6 | 3학년 | KT   | 삼성 | 인터넷을 통해서        | 3 | 성능이 좋아서                        | 카카오톡, 유투브, 인터넷               |\n",
       "\n"
      ],
      "text/plain": [
       "  번호 학년  통신사 제조회사 계기                   만족도\n",
       "1 1    2학년 KT     애플     아는 사람 소개         3     \n",
       "2 2    3학년 LGU+   애플     인터넷을 통해서        5     \n",
       "3 3    4학년 SKT    삼성     인터넷을 통해서        4     \n",
       "4 4    3학년 SKT    애플     어릴적이라 기억이 안남 5     \n",
       "5 5    2학년 SKT    삼성     인터넷을 통해서        3     \n",
       "6 6    3학년 KT     삼성     인터넷을 통해서        3     \n",
       "  구매이유                             사용앱                                \n",
       "1 디자인이 마음에 들어서               카카오톡, 유투브, 영화보기(Netplix 등)\n",
       "2 성능이 좋아서                        카카오톡, 유투브, 카메라              \n",
       "3 가격이 착해서, 성능이 좋아서         카카오톡, 유투브, 인터넷              \n",
       "4 디자인이 마음에 들어서               카카오톡, 유투브, 인스타그램          \n",
       "5 가격이 착해서, 이전 폰에 싫증이 나서 유투브, 게임, TV 다시보기             \n",
       "6 성능이 좋아서                        카카오톡, 유투브, 인터넷              "
      ]
     },
     "metadata": {},
     "output_type": "display_data"
    }
   ],
   "source": [
    "data <- read_xlsx(\"../mydata/실습 설문지.xlsx\")\n",
    "head(data)"
   ]
  },
  {
   "cell_type": "code",
   "execution_count": 99,
   "metadata": {
    "vscode": {
     "languageId": "r"
    }
   },
   "outputs": [
    {
     "data": {
      "text/plain": [
       "\n",
       "2학년 3학년 4학년 \n",
       "   19    33     6 "
      ]
     },
     "metadata": {},
     "output_type": "display_data"
    }
   ],
   "source": [
    "table(data$`학년`)"
   ]
  },
  {
   "cell_type": "code",
   "execution_count": 100,
   "metadata": {
    "vscode": {
     "languageId": "r"
    }
   },
   "outputs": [
    {
     "data": {
      "text/plain": [
       "\n",
       "    KT   LGU+    SKT 알뜰폰    Sum \n",
       "    14     16     24      4     58 "
      ]
     },
     "metadata": {},
     "output_type": "display_data"
    }
   ],
   "source": [
    "# addmargin으로 가로합 구하기\n",
    "addmargins(table(data$`통신사`))"
   ]
  },
  {
   "cell_type": "code",
   "execution_count": 101,
   "metadata": {
    "vscode": {
     "languageId": "r"
    }
   },
   "outputs": [
    {
     "data": {
      "text/html": [
       "<table class=\"dataframe\">\n",
       "<caption>A table: 4 × 5 of type dbl</caption>\n",
       "<thead>\n",
       "\t<tr><th></th><th scope=col>KT</th><th scope=col>LGU+</th><th scope=col>SKT</th><th scope=col>알뜰폰</th><th scope=col>Sum</th></tr>\n",
       "</thead>\n",
       "<tbody>\n",
       "\t<tr><th scope=row>2학년</th><td> 4</td><td> 5</td><td> 8</td><td>2</td><td>19</td></tr>\n",
       "\t<tr><th scope=row>3학년</th><td> 9</td><td>10</td><td>13</td><td>1</td><td>33</td></tr>\n",
       "\t<tr><th scope=row>4학년</th><td> 1</td><td> 1</td><td> 3</td><td>1</td><td> 6</td></tr>\n",
       "\t<tr><th scope=row>Sum</th><td>14</td><td>16</td><td>24</td><td>4</td><td>58</td></tr>\n",
       "</tbody>\n",
       "</table>\n"
      ],
      "text/latex": [
       "A table: 4 × 5 of type dbl\n",
       "\\begin{tabular}{r|lllll}\n",
       "  & KT & LGU+ & SKT & 알뜰폰 & Sum\\\\\n",
       "\\hline\n",
       "\t2학년 &  4 &  5 &  8 & 2 & 19\\\\\n",
       "\t3학년 &  9 & 10 & 13 & 1 & 33\\\\\n",
       "\t4학년 &  1 &  1 &  3 & 1 &  6\\\\\n",
       "\tSum & 14 & 16 & 24 & 4 & 58\\\\\n",
       "\\end{tabular}\n"
      ],
      "text/markdown": [
       "\n",
       "A table: 4 × 5 of type dbl\n",
       "\n",
       "| <!--/--> | KT | LGU+ | SKT | 알뜰폰 | Sum |\n",
       "|---|---|---|---|---|---|\n",
       "| 2학년 |  4 |  5 |  8 | 2 | 19 |\n",
       "| 3학년 |  9 | 10 | 13 | 1 | 33 |\n",
       "| 4학년 |  1 |  1 |  3 | 1 |  6 |\n",
       "| Sum | 14 | 16 | 24 | 4 | 58 |\n",
       "\n"
      ],
      "text/plain": [
       "       \n",
       "        KT LGU+ SKT 알뜰폰 Sum\n",
       "  2학년  4  5    8  2      19 \n",
       "  3학년  9 10   13  1      33 \n",
       "  4학년  1  1    3  1       6 \n",
       "  Sum   14 16   24  4      58 "
      ]
     },
     "metadata": {},
     "output_type": "display_data"
    }
   ],
   "source": [
    "# 가로, 세로합 구하기\n",
    "result <- table(data$`학년`, data$`통신사`)\n",
    "addmargins(result)"
   ]
  },
  {
   "cell_type": "code",
   "execution_count": 102,
   "metadata": {
    "vscode": {
     "languageId": "r"
    }
   },
   "outputs": [
    {
     "data": {
      "text/html": [
       "<table class=\"dataframe\">\n",
       "<caption>A table: 5 × 4 of type dbl</caption>\n",
       "<thead>\n",
       "\t<tr><th></th><th scope=col>2학년</th><th scope=col>3학년</th><th scope=col>4학년</th><th scope=col>Sum</th></tr>\n",
       "</thead>\n",
       "<tbody>\n",
       "\t<tr><th scope=row>KT</th><td> 4</td><td> 9</td><td>1</td><td>14</td></tr>\n",
       "\t<tr><th scope=row>LGU+</th><td> 5</td><td>10</td><td>1</td><td>16</td></tr>\n",
       "\t<tr><th scope=row>SKT</th><td> 8</td><td>13</td><td>3</td><td>24</td></tr>\n",
       "\t<tr><th scope=row>알뜰폰</th><td> 2</td><td> 1</td><td>1</td><td> 4</td></tr>\n",
       "\t<tr><th scope=row>Sum</th><td>19</td><td>33</td><td>6</td><td>58</td></tr>\n",
       "</tbody>\n",
       "</table>\n"
      ],
      "text/latex": [
       "A table: 5 × 4 of type dbl\n",
       "\\begin{tabular}{r|llll}\n",
       "  & 2학년 & 3학년 & 4학년 & Sum\\\\\n",
       "\\hline\n",
       "\tKT &  4 &  9 & 1 & 14\\\\\n",
       "\tLGU+ &  5 & 10 & 1 & 16\\\\\n",
       "\tSKT &  8 & 13 & 3 & 24\\\\\n",
       "\t알뜰폰 &  2 &  1 & 1 &  4\\\\\n",
       "\tSum & 19 & 33 & 6 & 58\\\\\n",
       "\\end{tabular}\n"
      ],
      "text/markdown": [
       "\n",
       "A table: 5 × 4 of type dbl\n",
       "\n",
       "| <!--/--> | 2학년 | 3학년 | 4학년 | Sum |\n",
       "|---|---|---|---|---|\n",
       "| KT |  4 |  9 | 1 | 14 |\n",
       "| LGU+ |  5 | 10 | 1 | 16 |\n",
       "| SKT |  8 | 13 | 3 | 24 |\n",
       "| 알뜰폰 |  2 |  1 | 1 |  4 |\n",
       "| Sum | 19 | 33 | 6 | 58 |\n",
       "\n"
      ],
      "text/plain": [
       "        \n",
       "         2학년 3학년 4학년 Sum\n",
       "  KT      4     9    1     14 \n",
       "  LGU+    5    10    1     16 \n",
       "  SKT     8    13    3     24 \n",
       "  알뜰폰  2     1    1      4 \n",
       "  Sum    19    33    6     58 "
      ]
     },
     "metadata": {},
     "output_type": "display_data"
    }
   ],
   "source": [
    "result2 <- table(data$`통신사`, data$`학년`)\n",
    "addmargins(result2)"
   ]
  },
  {
   "cell_type": "code",
   "execution_count": 103,
   "metadata": {
    "vscode": {
     "languageId": "r"
    }
   },
   "outputs": [
    {
     "data": {
      "image/png": "[encoded data removed]",
      "text/plain": [
       "Plot with title “이 제품을 알게된 계기”"
      ]
     },
     "metadata": {
      "image/png": {
       "height": 420,
       "width": 900
      }
     },
     "output_type": "display_data"
    }
   ],
   "source": [
    "options(repr.plot.width=15)\n",
    "\n",
    "barplot(table(data$`계기`), col='gold', border='red')\n",
    "title('이 제품을 알게된 계기')"
   ]
  },
  {
   "cell_type": "code",
   "execution_count": 104,
   "metadata": {
    "vscode": {
     "languageId": "r"
    }
   },
   "outputs": [
    {
     "name": "stdout",
     "output_type": "stream",
     "text": [
      "스스로해보기 1 스스로해보기 2 스스로해보기 3 스스로해보기 4 \n",
      "            29             29             33              7 \n"
     ]
    }
   ],
   "source": [
    "homework <- c(29, 29, 33, 7)\n",
    "names(homework) <- paste('스스로해보기', 1:4)\n",
    "print(homework)"
   ]
  },
  {
   "cell_type": "code",
   "execution_count": 105,
   "metadata": {
    "vscode": {
     "languageId": "r"
    }
   },
   "outputs": [
    {
     "data": {
      "image/png": "[encoded data removed]",
      "text/plain": [
       "plot without title"
      ]
     },
     "metadata": {
      "image/png": {
       "height": 420,
       "width": 900
      }
     },
     "output_type": "display_data"
    }
   ],
   "source": [
    "barplot(homework)"
   ]
  },
  {
   "cell_type": "code",
   "execution_count": 106,
   "metadata": {
    "vscode": {
     "languageId": "r"
    }
   },
   "outputs": [
    {
     "data": {
      "image/png": "[encoded data removed]",
      "text/plain": [
       "plot without title"
      ]
     },
     "metadata": {
      "image/png": {
       "height": 420,
       "width": 480
      }
     },
     "output_type": "display_data"
    }
   ],
   "source": [
    "options(repr.plot.width=8)\n",
    "barplot(homework) # 그래프 확인용"
   ]
  },
  {
   "cell_type": "code",
   "execution_count": 107,
   "metadata": {
    "vscode": {
     "languageId": "r"
    }
   },
   "outputs": [
    {
     "data": {
      "text/html": [
       "<table class=\"dataframe\">\n",
       "<caption>A data.frame: 6 × 8</caption>\n",
       "<thead>\n",
       "\t<tr><th></th><th scope=col>시도</th><th scope=col>시군구</th><th scope=col>발생월</th><th scope=col>사고건수</th><th scope=col>사망자수</th><th scope=col>중상자수</th><th scope=col>경상자수</th><th scope=col>부상신고자수</th></tr>\n",
       "\t<tr><th></th><th scope=col>&lt;chr&gt;</th><th scope=col>&lt;chr&gt;</th><th scope=col>&lt;int&gt;</th><th scope=col>&lt;int&gt;</th><th scope=col>&lt;int&gt;</th><th scope=col>&lt;int&gt;</th><th scope=col>&lt;int&gt;</th><th scope=col>&lt;int&gt;</th></tr>\n",
       "</thead>\n",
       "<tbody>\n",
       "\t<tr><th scope=row>1</th><td>서울</td><td>종로구</td><td>1</td><td>77</td><td>2</td><td>15</td><td> 79</td><td>14</td></tr>\n",
       "\t<tr><th scope=row>2</th><td>서울</td><td>종로구</td><td>2</td><td>66</td><td>0</td><td>17</td><td> 59</td><td> 8</td></tr>\n",
       "\t<tr><th scope=row>3</th><td>서울</td><td>종로구</td><td>3</td><td>67</td><td>0</td><td>15</td><td> 80</td><td> 2</td></tr>\n",
       "\t<tr><th scope=row>4</th><td>서울</td><td>종로구</td><td>4</td><td>73</td><td>1</td><td>17</td><td> 67</td><td> 6</td></tr>\n",
       "\t<tr><th scope=row>5</th><td>서울</td><td>종로구</td><td>5</td><td>88</td><td>0</td><td>21</td><td>103</td><td>12</td></tr>\n",
       "\t<tr><th scope=row>6</th><td>서울</td><td>종로구</td><td>6</td><td>82</td><td>0</td><td>17</td><td> 78</td><td> 6</td></tr>\n",
       "</tbody>\n",
       "</table>\n"
      ],
      "text/latex": [
       "A data.frame: 6 × 8\n",
       "\\begin{tabular}{r|llllllll}\n",
       "  & 시도 & 시군구 & 발생월 & 사고건수 & 사망자수 & 중상자수 & 경상자수 & 부상신고자수\\\\\n",
       "  & <chr> & <chr> & <int> & <int> & <int> & <int> & <int> & <int>\\\\\n",
       "\\hline\n",
       "\t1 & 서울 & 종로구 & 1 & 77 & 2 & 15 &  79 & 14\\\\\n",
       "\t2 & 서울 & 종로구 & 2 & 66 & 0 & 17 &  59 &  8\\\\\n",
       "\t3 & 서울 & 종로구 & 3 & 67 & 0 & 15 &  80 &  2\\\\\n",
       "\t4 & 서울 & 종로구 & 4 & 73 & 1 & 17 &  67 &  6\\\\\n",
       "\t5 & 서울 & 종로구 & 5 & 88 & 0 & 21 & 103 & 12\\\\\n",
       "\t6 & 서울 & 종로구 & 6 & 82 & 0 & 17 &  78 &  6\\\\\n",
       "\\end{tabular}\n"
      ],
      "text/markdown": [
       "\n",
       "A data.frame: 6 × 8\n",
       "\n",
       "| <!--/--> | 시도 &lt;chr&gt; | 시군구 &lt;chr&gt; | 발생월 &lt;int&gt; | 사고건수 &lt;int&gt; | 사망자수 &lt;int&gt; | 중상자수 &lt;int&gt; | 경상자수 &lt;int&gt; | 부상신고자수 &lt;int&gt; |\n",
       "|---|---|---|---|---|---|---|---|---|\n",
       "| 1 | 서울 | 종로구 | 1 | 77 | 2 | 15 |  79 | 14 |\n",
       "| 2 | 서울 | 종로구 | 2 | 66 | 0 | 17 |  59 |  8 |\n",
       "| 3 | 서울 | 종로구 | 3 | 67 | 0 | 15 |  80 |  2 |\n",
       "| 4 | 서울 | 종로구 | 4 | 73 | 1 | 17 |  67 |  6 |\n",
       "| 5 | 서울 | 종로구 | 5 | 88 | 0 | 21 | 103 | 12 |\n",
       "| 6 | 서울 | 종로구 | 6 | 82 | 0 | 17 |  78 |  6 |\n",
       "\n"
      ],
      "text/plain": [
       "  시도 시군구 발생월 사고건수 사망자수 중상자수 경상자수 부상신고자수\n",
       "1 서울 종로구 1      77       2        15        79      14          \n",
       "2 서울 종로구 2      66       0        17        59       8          \n",
       "3 서울 종로구 3      67       0        15        80       2          \n",
       "4 서울 종로구 4      73       1        17        67       6          \n",
       "5 서울 종로구 5      88       0        21       103      12          \n",
       "6 서울 종로구 6      82       0        17        78       6          "
      ]
     },
     "metadata": {},
     "output_type": "display_data"
    }
   ],
   "source": [
    "data <- read.csv(\"../mydata/도로교통공단_시군구별 월별 교통사고 통계_20231231.csv\", fileEncoding =\"CP949\")\n",
    "head(data)"
   ]
  },
  {
   "cell_type": "code",
   "execution_count": 108,
   "metadata": {
    "vscode": {
     "languageId": "r"
    }
   },
   "outputs": [
    {
     "name": "stdout",
     "output_type": "stream",
     "text": [
      "\n",
      "강원 경기 경남 경북 광주 대구 대전 부산 서울 세종 울산 인천 전남 전북 제주 충남 \n",
      " 216  372  216  266   60  102   60  192  300   12   60  120  264  168   24  180 \n",
      "충북 \n",
      " 132 \n"
     ]
    }
   ],
   "source": [
    "print(table(data$`시도`))"
   ]
  },
  {
   "cell_type": "code",
   "execution_count": 109,
   "metadata": {
    "vscode": {
     "languageId": "r"
    }
   },
   "outputs": [
    {
     "data": {
      "text/html": [
       "<table class=\"dataframe\">\n",
       "<caption>A matrix: 1 × 17 of type int</caption>\n",
       "<thead>\n",
       "\t<tr><th scope=col>강원</th><th scope=col>경기</th><th scope=col>경남</th><th scope=col>경북</th><th scope=col>광주</th><th scope=col>대구</th><th scope=col>대전</th><th scope=col>부산</th><th scope=col>서울</th><th scope=col>세종</th><th scope=col>울산</th><th scope=col>인천</th><th scope=col>전남</th><th scope=col>전북</th><th scope=col>제주</th><th scope=col>충남</th><th scope=col>충북</th></tr>\n",
       "</thead>\n",
       "<tbody>\n",
       "\t<tr><td>216</td><td>372</td><td>216</td><td>266</td><td>60</td><td>102</td><td>60</td><td>192</td><td>300</td><td>12</td><td>60</td><td>120</td><td>264</td><td>168</td><td>24</td><td>180</td><td>132</td></tr>\n",
       "</tbody>\n",
       "</table>\n"
      ],
      "text/latex": [
       "A matrix: 1 × 17 of type int\n",
       "\\begin{tabular}{lllllllllllllllll}\n",
       " 강원 & 경기 & 경남 & 경북 & 광주 & 대구 & 대전 & 부산 & 서울 & 세종 & 울산 & 인천 & 전남 & 전북 & 제주 & 충남 & 충북\\\\\n",
       "\\hline\n",
       "\t 216 & 372 & 216 & 266 & 60 & 102 & 60 & 192 & 300 & 12 & 60 & 120 & 264 & 168 & 24 & 180 & 132\\\\\n",
       "\\end{tabular}\n"
      ],
      "text/markdown": [
       "\n",
       "A matrix: 1 × 17 of type int\n",
       "\n",
       "| 강원 | 경기 | 경남 | 경북 | 광주 | 대구 | 대전 | 부산 | 서울 | 세종 | 울산 | 인천 | 전남 | 전북 | 제주 | 충남 | 충북 |\n",
       "|---|---|---|---|---|---|---|---|---|---|---|---|---|---|---|---|---|\n",
       "| 216 | 372 | 216 | 266 | 60 | 102 | 60 | 192 | 300 | 12 | 60 | 120 | 264 | 168 | 24 | 180 | 132 |\n",
       "\n"
      ],
      "text/plain": [
       "     강원 경기 경남 경북 광주 대구 대전 부산 서울 세종 울산 인천 전남 전북 제주\n",
       "[1,] 216  372  216  266  60   102  60   192  300  12   60   120  264  168  24  \n",
       "     충남 충북\n",
       "[1,] 180  132 "
      ]
     },
     "metadata": {},
     "output_type": "display_data"
    }
   ],
   "source": [
    "t(as.matrix(table(data$`시도`)))"
   ]
  },
  {
   "cell_type": "code",
   "execution_count": 110,
   "metadata": {
    "vscode": {
     "languageId": "r"
    }
   },
   "outputs": [
    {
     "data": {
      "text/html": [
       "72.265306122449"
      ],
      "text/latex": [
       "72.265306122449"
      ],
      "text/markdown": [
       "72.265306122449"
      ],
      "text/plain": [
       "[1] 72.26531"
      ]
     },
     "metadata": {},
     "output_type": "display_data"
    }
   ],
   "source": [
    "mean(data$`사고건수`)"
   ]
  },
  {
   "cell_type": "code",
   "execution_count": 111,
   "metadata": {
    "vscode": {
     "languageId": "r"
    }
   },
   "outputs": [
    {
     "data": {
      "text/html": [
       "423"
      ],
      "text/latex": [
       "423"
      ],
      "text/markdown": [
       "423"
      ],
      "text/plain": [
       "[1] 423"
      ]
     },
     "metadata": {},
     "output_type": "display_data"
    }
   ],
   "source": [
    "max(data$`사고건수`)"
   ]
  },
  {
   "cell_type": "code",
   "execution_count": 112,
   "metadata": {
    "vscode": {
     "languageId": "r"
    }
   },
   "outputs": [
    {
     "data": {
      "text/html": [
       "1"
      ],
      "text/latex": [
       "1"
      ],
      "text/markdown": [
       "1"
      ],
      "text/plain": [
       "[1] 1"
      ]
     },
     "metadata": {},
     "output_type": "display_data"
    }
   ],
   "source": [
    "min(data$`사고건수`)"
   ]
  },
  {
   "cell_type": "code",
   "execution_count": 113,
   "metadata": {
    "vscode": {
     "languageId": "r"
    }
   },
   "outputs": [
    {
     "data": {
      "text/html": [
       "47.5"
      ],
      "text/latex": [
       "47.5"
      ],
      "text/markdown": [
       "47.5"
      ],
      "text/plain": [
       "[1] 47.5"
      ]
     },
     "metadata": {},
     "output_type": "display_data"
    }
   ],
   "source": [
    "median(data$`사고건수`)"
   ]
  },
  {
   "cell_type": "code",
   "execution_count": 114,
   "metadata": {
    "vscode": {
     "languageId": "r"
    }
   },
   "outputs": [
    {
     "data": {
      "text/html": [
       "<table class=\"dataframe\">\n",
       "<caption>A data.frame: 1 × 8</caption>\n",
       "<thead>\n",
       "\t<tr><th></th><th scope=col>시도</th><th scope=col>시군구</th><th scope=col>발생월</th><th scope=col>사고건수</th><th scope=col>사망자수</th><th scope=col>중상자수</th><th scope=col>경상자수</th><th scope=col>부상신고자수</th></tr>\n",
       "\t<tr><th></th><th scope=col>&lt;chr&gt;</th><th scope=col>&lt;chr&gt;</th><th scope=col>&lt;int&gt;</th><th scope=col>&lt;int&gt;</th><th scope=col>&lt;int&gt;</th><th scope=col>&lt;int&gt;</th><th scope=col>&lt;int&gt;</th><th scope=col>&lt;int&gt;</th></tr>\n",
       "</thead>\n",
       "<tbody>\n",
       "\t<tr><th scope=row>500</th><td>경기</td><td>수원시</td><td>8</td><td>423</td><td>3</td><td>113</td><td>461</td><td>35</td></tr>\n",
       "</tbody>\n",
       "</table>\n"
      ],
      "text/latex": [
       "A data.frame: 1 × 8\n",
       "\\begin{tabular}{r|llllllll}\n",
       "  & 시도 & 시군구 & 발생월 & 사고건수 & 사망자수 & 중상자수 & 경상자수 & 부상신고자수\\\\\n",
       "  & <chr> & <chr> & <int> & <int> & <int> & <int> & <int> & <int>\\\\\n",
       "\\hline\n",
       "\t500 & 경기 & 수원시 & 8 & 423 & 3 & 113 & 461 & 35\\\\\n",
       "\\end{tabular}\n"
      ],
      "text/markdown": [
       "\n",
       "A data.frame: 1 × 8\n",
       "\n",
       "| <!--/--> | 시도 &lt;chr&gt; | 시군구 &lt;chr&gt; | 발생월 &lt;int&gt; | 사고건수 &lt;int&gt; | 사망자수 &lt;int&gt; | 중상자수 &lt;int&gt; | 경상자수 &lt;int&gt; | 부상신고자수 &lt;int&gt; |\n",
       "|---|---|---|---|---|---|---|---|---|\n",
       "| 500 | 경기 | 수원시 | 8 | 423 | 3 | 113 | 461 | 35 |\n",
       "\n"
      ],
      "text/plain": [
       "    시도 시군구 발생월 사고건수 사망자수 중상자수 경상자수 부상신고자수\n",
       "500 경기 수원시 8      423      3        113      461      35          "
      ]
     },
     "metadata": {},
     "output_type": "display_data"
    }
   ],
   "source": [
    "data[data$사고건수==423, ]"
   ]
  },
  {
   "cell_type": "code",
   "execution_count": 115,
   "metadata": {
    "vscode": {
     "languageId": "r"
    }
   },
   "outputs": [
    {
     "data": {
      "text/plain": [
       "     시도              시군구              발생월          사고건수     \n",
       " Length:2744        Length:2744        Min.   : 1.000   Min.   :  1.00  \n",
       " Class :character   Class :character   1st Qu.: 4.000   1st Qu.: 17.00  \n",
       " Mode  :character   Mode  :character   Median : 6.500   Median : 47.50  \n",
       "                                       Mean   : 6.502   Mean   : 72.27  \n",
       "                                       3rd Qu.: 9.250   3rd Qu.:100.00  \n",
       "                                       Max.   :12.000   Max.   :423.00  \n",
       "    사망자수         중상자수         경상자수      부상신고자수   \n",
       " Min.   :0.0000   Min.   :  0.00   Min.   :  0.0   Min.   : 0.000  \n",
       " 1st Qu.:0.0000   1st Qu.:  7.00   1st Qu.: 17.0   1st Qu.: 1.000  \n",
       " Median :1.0000   Median : 14.00   Median : 50.0   Median : 3.000  \n",
       " Mean   :0.9297   Mean   : 19.31   Mean   : 77.1   Mean   : 7.012  \n",
       " 3rd Qu.:1.0000   3rd Qu.: 26.00   3rd Qu.:104.0   3rd Qu.: 9.000  \n",
       " Max.   :8.0000   Max.   :135.00   Max.   :515.0   Max.   :70.000  "
      ]
     },
     "metadata": {},
     "output_type": "display_data"
    }
   ],
   "source": [
    "summary(data)"
   ]
  },
  {
   "cell_type": "code",
   "execution_count": 116,
   "metadata": {
    "vscode": {
     "languageId": "r"
    }
   },
   "outputs": [
    {
     "data": {
      "text/html": [
       "<style>\n",
       ".list-inline {list-style: none; margin:0; padding: 0}\n",
       ".list-inline>li {display: inline-block}\n",
       ".list-inline>li:not(:last-child)::after {content: \"\\00b7\"; padding: 0 .5ex}\n",
       "</style>\n",
       "<ol class=list-inline><li>495</li><li>497</li><li>500</li><li>502</li><li>503</li><li>504</li><li>1085</li><li>1089</li><li>1091</li></ol>\n"
      ],
      "text/latex": [
       "\\begin{enumerate*}\n",
       "\\item 495\n",
       "\\item 497\n",
       "\\item 500\n",
       "\\item 502\n",
       "\\item 503\n",
       "\\item 504\n",
       "\\item 1085\n",
       "\\item 1089\n",
       "\\item 1091\n",
       "\\end{enumerate*}\n"
      ],
      "text/markdown": [
       "1. 495\n",
       "2. 497\n",
       "3. 500\n",
       "4. 502\n",
       "5. 503\n",
       "6. 504\n",
       "7. 1085\n",
       "8. 1089\n",
       "9. 1091\n",
       "\n",
       "\n"
      ],
      "text/plain": [
       "[1]  495  497  500  502  503  504 1085 1089 1091"
      ]
     },
     "metadata": {},
     "output_type": "display_data"
    }
   ],
   "source": [
    "which(data$`사고건수` >= 400)"
   ]
  },
  {
   "cell_type": "code",
   "execution_count": 117,
   "metadata": {
    "vscode": {
     "languageId": "r"
    }
   },
   "outputs": [
    {
     "data": {
      "text/html": [
       "<table class=\"dataframe\">\n",
       "<caption>A data.frame: 9 × 8</caption>\n",
       "<thead>\n",
       "\t<tr><th></th><th scope=col>시도</th><th scope=col>시군구</th><th scope=col>발생월</th><th scope=col>사고건수</th><th scope=col>사망자수</th><th scope=col>중상자수</th><th scope=col>경상자수</th><th scope=col>부상신고자수</th></tr>\n",
       "\t<tr><th></th><th scope=col>&lt;chr&gt;</th><th scope=col>&lt;chr&gt;</th><th scope=col>&lt;int&gt;</th><th scope=col>&lt;int&gt;</th><th scope=col>&lt;int&gt;</th><th scope=col>&lt;int&gt;</th><th scope=col>&lt;int&gt;</th><th scope=col>&lt;int&gt;</th></tr>\n",
       "</thead>\n",
       "<tbody>\n",
       "\t<tr><th scope=row>500</th><td>경기</td><td>수원시</td><td> 8</td><td>423</td><td>3</td><td>113</td><td>461</td><td>35</td></tr>\n",
       "\t<tr><th scope=row>502</th><td>경기</td><td>수원시</td><td>10</td><td>422</td><td>1</td><td> 97</td><td>458</td><td>37</td></tr>\n",
       "\t<tr><th scope=row>1089</th><td>충북</td><td>청주시</td><td> 9</td><td>415</td><td>7</td><td>112</td><td>515</td><td>16</td></tr>\n",
       "\t<tr><th scope=row>1085</th><td>충북</td><td>청주시</td><td> 5</td><td>414</td><td>1</td><td>135</td><td>484</td><td>12</td></tr>\n",
       "\t<tr><th scope=row>495</th><td>경기</td><td>수원시</td><td> 3</td><td>405</td><td>1</td><td> 80</td><td>445</td><td>32</td></tr>\n",
       "\t<tr><th scope=row>497</th><td>경기</td><td>수원시</td><td> 5</td><td>405</td><td>3</td><td> 99</td><td>458</td><td>27</td></tr>\n",
       "\t<tr><th scope=row>503</th><td>경기</td><td>수원시</td><td>11</td><td>402</td><td>3</td><td> 82</td><td>418</td><td>39</td></tr>\n",
       "\t<tr><th scope=row>504</th><td>경기</td><td>수원시</td><td>12</td><td>400</td><td>6</td><td> 96</td><td>430</td><td>38</td></tr>\n",
       "\t<tr><th scope=row>1091</th><td>충북</td><td>청주시</td><td>11</td><td>400</td><td>4</td><td>115</td><td>435</td><td>21</td></tr>\n",
       "</tbody>\n",
       "</table>\n"
      ],
      "text/latex": [
       "A data.frame: 9 × 8\n",
       "\\begin{tabular}{r|llllllll}\n",
       "  & 시도 & 시군구 & 발생월 & 사고건수 & 사망자수 & 중상자수 & 경상자수 & 부상신고자수\\\\\n",
       "  & <chr> & <chr> & <int> & <int> & <int> & <int> & <int> & <int>\\\\\n",
       "\\hline\n",
       "\t500 & 경기 & 수원시 &  8 & 423 & 3 & 113 & 461 & 35\\\\\n",
       "\t502 & 경기 & 수원시 & 10 & 422 & 1 &  97 & 458 & 37\\\\\n",
       "\t1089 & 충북 & 청주시 &  9 & 415 & 7 & 112 & 515 & 16\\\\\n",
       "\t1085 & 충북 & 청주시 &  5 & 414 & 1 & 135 & 484 & 12\\\\\n",
       "\t495 & 경기 & 수원시 &  3 & 405 & 1 &  80 & 445 & 32\\\\\n",
       "\t497 & 경기 & 수원시 &  5 & 405 & 3 &  99 & 458 & 27\\\\\n",
       "\t503 & 경기 & 수원시 & 11 & 402 & 3 &  82 & 418 & 39\\\\\n",
       "\t504 & 경기 & 수원시 & 12 & 400 & 6 &  96 & 430 & 38\\\\\n",
       "\t1091 & 충북 & 청주시 & 11 & 400 & 4 & 115 & 435 & 21\\\\\n",
       "\\end{tabular}\n"
      ],
      "text/markdown": [
       "\n",
       "A data.frame: 9 × 8\n",
       "\n",
       "| <!--/--> | 시도 &lt;chr&gt; | 시군구 &lt;chr&gt; | 발생월 &lt;int&gt; | 사고건수 &lt;int&gt; | 사망자수 &lt;int&gt; | 중상자수 &lt;int&gt; | 경상자수 &lt;int&gt; | 부상신고자수 &lt;int&gt; |\n",
       "|---|---|---|---|---|---|---|---|---|\n",
       "| 500 | 경기 | 수원시 |  8 | 423 | 3 | 113 | 461 | 35 |\n",
       "| 502 | 경기 | 수원시 | 10 | 422 | 1 |  97 | 458 | 37 |\n",
       "| 1089 | 충북 | 청주시 |  9 | 415 | 7 | 112 | 515 | 16 |\n",
       "| 1085 | 충북 | 청주시 |  5 | 414 | 1 | 135 | 484 | 12 |\n",
       "| 495 | 경기 | 수원시 |  3 | 405 | 1 |  80 | 445 | 32 |\n",
       "| 497 | 경기 | 수원시 |  5 | 405 | 3 |  99 | 458 | 27 |\n",
       "| 503 | 경기 | 수원시 | 11 | 402 | 3 |  82 | 418 | 39 |\n",
       "| 504 | 경기 | 수원시 | 12 | 400 | 6 |  96 | 430 | 38 |\n",
       "| 1091 | 충북 | 청주시 | 11 | 400 | 4 | 115 | 435 | 21 |\n",
       "\n"
      ],
      "text/plain": [
       "     시도 시군구 발생월 사고건수 사망자수 중상자수 경상자수 부상신고자수\n",
       "500  경기 수원시  8     423      3        113      461      35          \n",
       "502  경기 수원시 10     422      1         97      458      37          \n",
       "1089 충북 청주시  9     415      7        112      515      16          \n",
       "1085 충북 청주시  5     414      1        135      484      12          \n",
       "495  경기 수원시  3     405      1         80      445      32          \n",
       "497  경기 수원시  5     405      3         99      458      27          \n",
       "503  경기 수원시 11     402      3         82      418      39          \n",
       "504  경기 수원시 12     400      6         96      430      38          \n",
       "1091 충북 청주시 11     400      4        115      435      21          "
      ]
     },
     "metadata": {},
     "output_type": "display_data"
    }
   ],
   "source": [
    "idx <- which(data$`사고건수`>= 400)\n",
    "df <- data[idx, ]\n",
    "df[order(-df$사고건수), ]"
   ]
  },
  {
   "cell_type": "code",
   "execution_count": 118,
   "metadata": {
    "vscode": {
     "languageId": "r"
    }
   },
   "outputs": [
    {
     "data": {
      "text/html": [
       "<style>\n",
       ".list-inline {list-style: none; margin:0; padding: 0}\n",
       ".list-inline>li {display: inline-block}\n",
       ".list-inline>li:not(:last-child)::after {content: \"\\00b7\"; padding: 0 .5ex}\n",
       "</style>\n",
       "<ol class=list-inline><li>0</li><li>100</li><li>200</li><li>300</li><li>400</li><li>500</li></ol>\n"
      ],
      "text/latex": [
       "\\begin{enumerate*}\n",
       "\\item 0\n",
       "\\item 100\n",
       "\\item 200\n",
       "\\item 300\n",
       "\\item 400\n",
       "\\item 500\n",
       "\\end{enumerate*}\n"
      ],
      "text/markdown": [
       "1. 0\n",
       "2. 100\n",
       "3. 200\n",
       "4. 300\n",
       "5. 400\n",
       "6. 500\n",
       "\n",
       "\n"
      ],
      "text/plain": [
       "[1]   0 100 200 300 400 500"
      ]
     },
     "metadata": {},
     "output_type": "display_data"
    }
   ],
   "source": [
    "bins <- c(0:5)*100\n",
    "bins"
   ]
  },
  {
   "cell_type": "code",
   "execution_count": 119,
   "metadata": {
    "vscode": {
     "languageId": "r"
    }
   },
   "outputs": [
    {
     "data": {
      "text/plain": [
       "result\n",
       "  [0,100) [100,200) [200,300) [300,400) [400,500)       Sum \n",
       "     2057       498       105        75         9      2744 "
      ]
     },
     "metadata": {},
     "output_type": "display_data"
    }
   ],
   "source": [
    "result <- cut(data$`사고건수`, breaks = bins, right = F)\n",
    "addmargins(table(result))"
   ]
  },
  {
   "cell_type": "code",
   "execution_count": 120,
   "metadata": {
    "vscode": {
     "languageId": "r"
    }
   },
   "outputs": [
    {
     "data": {
      "text/html": [
       "14"
      ],
      "text/latex": [
       "14"
      ],
      "text/markdown": [
       "14"
      ],
      "text/plain": [
       "[1] 14"
      ]
     },
     "metadata": {},
     "output_type": "display_data"
    }
   ],
   "source": [
    "length(which(data$`사고건수` == 100))"
   ]
  },
  {
   "cell_type": "code",
   "execution_count": 121,
   "metadata": {
    "vscode": {
     "languageId": "r"
    }
   },
   "outputs": [
    {
     "data": {
      "text/plain": [
       "result\n",
       "  (0,100] (100,200] (200,300] (300,400] (400,500]       Sum \n",
       "     2071       484       108        74         7      2744 "
      ]
     },
     "metadata": {},
     "output_type": "display_data"
    }
   ],
   "source": [
    "bins <- c(0, 100, 200, 300, 400, 500)\n",
    "result <-  cut(data$`사고건수`, breaks = bins)\n",
    "addmargins(table(result))"
   ]
  },
  {
   "cell_type": "code",
   "execution_count": 122,
   "metadata": {
    "vscode": {
     "languageId": "r"
    }
   },
   "outputs": [
    {
     "data": {
      "text/plain": [
       "result\n",
       "  (0,100] (100,200] (200,300] (300,400] (400,500]       Sum \n",
       "     2071       484       108        74         7      2744 "
      ]
     },
     "metadata": {},
     "output_type": "display_data"
    }
   ],
   "source": [
    "bins <- seq(0, 500, 100)\n",
    "result <- cut(data$`사고건수`, breaks = bins)\n",
    "addmargins(table(result))"
   ]
  },
  {
   "cell_type": "code",
   "execution_count": 123,
   "metadata": {
    "vscode": {
     "languageId": "r"
    }
   },
   "outputs": [
    {
     "data": {
      "text/plain": [
       "result\n",
       "  (0,100] (100,200] (200,300] (300,400] (400,500]       Sum \n",
       "     2071       484       108        74         7      2744 "
      ]
     },
     "metadata": {},
     "output_type": "display_data"
    }
   ],
   "source": [
    "bins <- c(0:5) * 100\n",
    "result <- cut(data$`사고건수`, breaks =  bins)\n",
    "addmargins(table(result))"
   ]
  },
  {
   "cell_type": "code",
   "execution_count": 124,
   "metadata": {
    "vscode": {
     "languageId": "r"
    }
   },
   "outputs": [
    {
     "data": {
      "image/png": "[encoded data removed]",
      "text/plain": [
       "Plot with title “Histogram of data$사고건수”"
      ]
     },
     "metadata": {
      "image/png": {
       "height": 420,
       "width": 600
      }
     },
     "output_type": "display_data"
    }
   ],
   "source": [
    "options(repr.plot.width=10)\n",
    "par(mfrow = c(1,2))\n",
    "\n",
    "hist(data$`사고건수`, breaks = c(0:5)*100)\n",
    "hist(data$`사고건수`, breaks = c(0:5)*100, right=F)"
   ]
  },
  {
   "cell_type": "code",
   "execution_count": 125,
   "metadata": {
    "vscode": {
     "languageId": "r"
    }
   },
   "outputs": [
    {
     "data": {
      "text/plain": [
       "\n",
       "괴산군 단양군 보은군 영동군 옥천군 음성군 제천시 증평군 진천군 청주시 충주시 \n",
       "    12     12     12     12     12     12     12     12     12     12     12 "
      ]
     },
     "metadata": {},
     "output_type": "display_data"
    }
   ],
   "source": [
    "cb <- subset(data, data$`시도` == '충북')\n",
    "table(cb$시군구)"
   ]
  },
  {
   "cell_type": "code",
   "execution_count": 126,
   "metadata": {
    "vscode": {
     "languageId": "r"
    }
   },
   "outputs": [
    {
     "data": {
      "text/plain": [
       "\n",
       "제천시 청주시 충주시 \n",
       "    12     12     12 "
      ]
     },
     "metadata": {},
     "output_type": "display_data"
    }
   ],
   "source": [
    "idx <- grep('시$', cb$`시군구`)\n",
    "city <- cb[idx, ]\n",
    "table(city$시군구)"
   ]
  },
  {
   "cell_type": "code",
   "execution_count": 127,
   "metadata": {
    "vscode": {
     "languageId": "r"
    }
   },
   "outputs": [
    {
     "data": {
      "image/png": "[encoded data removed]",
      "text/plain": [
       "plot without title"
      ]
     },
     "metadata": {
      "image/png": {
       "height": 420,
       "width": 600
      }
     },
     "output_type": "display_data"
    }
   ],
   "source": [
    "boxplot(city$`사고건수`, col='gold')"
   ]
  },
  {
   "cell_type": "code",
   "execution_count": 128,
   "metadata": {
    "vscode": {
     "languageId": "r"
    }
   },
   "outputs": [
    {
     "data": {
      "image/png": "[encoded data removed]",
      "text/plain": [
       "plot without title"
      ]
     },
     "metadata": {
      "image/png": {
       "height": 420,
       "width": 600
      }
     },
     "output_type": "display_data"
    }
   ],
   "source": [
    "boxplot(사고건수 ~ 시군구, data = city, col=c('gold', 'green', 'pink'))"
   ]
  },
  {
   "cell_type": "code",
   "execution_count": 129,
   "metadata": {
    "vscode": {
     "languageId": "r"
    }
   },
   "outputs": [
    {
     "data": {
      "text/html": [
       "<table class=\"dataframe\">\n",
       "<caption>A data.frame: 6 × 11</caption>\n",
       "<thead>\n",
       "\t<tr><th></th><th scope=col>mpg</th><th scope=col>cyl</th><th scope=col>disp</th><th scope=col>hp</th><th scope=col>drat</th><th scope=col>wt</th><th scope=col>qsec</th><th scope=col>vs</th><th scope=col>am</th><th scope=col>gear</th><th scope=col>carb</th></tr>\n",
       "\t<tr><th></th><th scope=col>&lt;dbl&gt;</th><th scope=col>&lt;dbl&gt;</th><th scope=col>&lt;dbl&gt;</th><th scope=col>&lt;dbl&gt;</th><th scope=col>&lt;dbl&gt;</th><th scope=col>&lt;dbl&gt;</th><th scope=col>&lt;dbl&gt;</th><th scope=col>&lt;dbl&gt;</th><th scope=col>&lt;dbl&gt;</th><th scope=col>&lt;dbl&gt;</th><th scope=col>&lt;dbl&gt;</th></tr>\n",
       "</thead>\n",
       "<tbody>\n",
       "\t<tr><th scope=row>Mazda RX4</th><td>21.0</td><td>6</td><td>160</td><td>110</td><td>3.90</td><td>2.620</td><td>16.46</td><td>0</td><td>1</td><td>4</td><td>4</td></tr>\n",
       "\t<tr><th scope=row>Mazda RX4 Wag</th><td>21.0</td><td>6</td><td>160</td><td>110</td><td>3.90</td><td>2.875</td><td>17.02</td><td>0</td><td>1</td><td>4</td><td>4</td></tr>\n",
       "\t<tr><th scope=row>Datsun 710</th><td>22.8</td><td>4</td><td>108</td><td> 93</td><td>3.85</td><td>2.320</td><td>18.61</td><td>1</td><td>1</td><td>4</td><td>1</td></tr>\n",
       "\t<tr><th scope=row>Hornet 4 Drive</th><td>21.4</td><td>6</td><td>258</td><td>110</td><td>3.08</td><td>3.215</td><td>19.44</td><td>1</td><td>0</td><td>3</td><td>1</td></tr>\n",
       "\t<tr><th scope=row>Hornet Sportabout</th><td>18.7</td><td>8</td><td>360</td><td>175</td><td>3.15</td><td>3.440</td><td>17.02</td><td>0</td><td>0</td><td>3</td><td>2</td></tr>\n",
       "\t<tr><th scope=row>Valiant</th><td>18.1</td><td>6</td><td>225</td><td>105</td><td>2.76</td><td>3.460</td><td>20.22</td><td>1</td><td>0</td><td>3</td><td>1</td></tr>\n",
       "</tbody>\n",
       "</table>\n"
      ],
      "text/latex": [
       "A data.frame: 6 × 11\n",
       "\\begin{tabular}{r|lllllllllll}\n",
       "  & mpg & cyl & disp & hp & drat & wt & qsec & vs & am & gear & carb\\\\\n",
       "  & <dbl> & <dbl> & <dbl> & <dbl> & <dbl> & <dbl> & <dbl> & <dbl> & <dbl> & <dbl> & <dbl>\\\\\n",
       "\\hline\n",
       "\tMazda RX4 & 21.0 & 6 & 160 & 110 & 3.90 & 2.620 & 16.46 & 0 & 1 & 4 & 4\\\\\n",
       "\tMazda RX4 Wag & 21.0 & 6 & 160 & 110 & 3.90 & 2.875 & 17.02 & 0 & 1 & 4 & 4\\\\\n",
       "\tDatsun 710 & 22.8 & 4 & 108 &  93 & 3.85 & 2.320 & 18.61 & 1 & 1 & 4 & 1\\\\\n",
       "\tHornet 4 Drive & 21.4 & 6 & 258 & 110 & 3.08 & 3.215 & 19.44 & 1 & 0 & 3 & 1\\\\\n",
       "\tHornet Sportabout & 18.7 & 8 & 360 & 175 & 3.15 & 3.440 & 17.02 & 0 & 0 & 3 & 2\\\\\n",
       "\tValiant & 18.1 & 6 & 225 & 105 & 2.76 & 3.460 & 20.22 & 1 & 0 & 3 & 1\\\\\n",
       "\\end{tabular}\n"
      ],
      "text/markdown": [
       "\n",
       "A data.frame: 6 × 11\n",
       "\n",
       "| <!--/--> | mpg &lt;dbl&gt; | cyl &lt;dbl&gt; | disp &lt;dbl&gt; | hp &lt;dbl&gt; | drat &lt;dbl&gt; | wt &lt;dbl&gt; | qsec &lt;dbl&gt; | vs &lt;dbl&gt; | am &lt;dbl&gt; | gear &lt;dbl&gt; | carb &lt;dbl&gt; |\n",
       "|---|---|---|---|---|---|---|---|---|---|---|---|\n",
       "| Mazda RX4 | 21.0 | 6 | 160 | 110 | 3.90 | 2.620 | 16.46 | 0 | 1 | 4 | 4 |\n",
       "| Mazda RX4 Wag | 21.0 | 6 | 160 | 110 | 3.90 | 2.875 | 17.02 | 0 | 1 | 4 | 4 |\n",
       "| Datsun 710 | 22.8 | 4 | 108 |  93 | 3.85 | 2.320 | 18.61 | 1 | 1 | 4 | 1 |\n",
       "| Hornet 4 Drive | 21.4 | 6 | 258 | 110 | 3.08 | 3.215 | 19.44 | 1 | 0 | 3 | 1 |\n",
       "| Hornet Sportabout | 18.7 | 8 | 360 | 175 | 3.15 | 3.440 | 17.02 | 0 | 0 | 3 | 2 |\n",
       "| Valiant | 18.1 | 6 | 225 | 105 | 2.76 | 3.460 | 20.22 | 1 | 0 | 3 | 1 |\n",
       "\n"
      ],
      "text/plain": [
       "                  mpg  cyl disp hp  drat wt    qsec  vs am gear carb\n",
       "Mazda RX4         21.0 6   160  110 3.90 2.620 16.46 0  1  4    4   \n",
       "Mazda RX4 Wag     21.0 6   160  110 3.90 2.875 17.02 0  1  4    4   \n",
       "Datsun 710        22.8 4   108   93 3.85 2.320 18.61 1  1  4    1   \n",
       "Hornet 4 Drive    21.4 6   258  110 3.08 3.215 19.44 1  0  3    1   \n",
       "Hornet Sportabout 18.7 8   360  175 3.15 3.440 17.02 0  0  3    2   \n",
       "Valiant           18.1 6   225  105 2.76 3.460 20.22 1  0  3    1   "
      ]
     },
     "metadata": {},
     "output_type": "display_data"
    }
   ],
   "source": [
    "head(mtcars)"
   ]
  },
  {
   "cell_type": "code",
   "execution_count": 130,
   "metadata": {
    "vscode": {
     "languageId": "r"
    }
   },
   "outputs": [
    {
     "data": {
      "text/html": [
       "<style>\n",
       ".dl-inline {width: auto; margin:0; padding: 0}\n",
       ".dl-inline>dt, .dl-inline>dd {float: none; width: auto; display: inline-block}\n",
       ".dl-inline>dt::after {content: \":\\0020\"; padding-right: .5ex}\n",
       ".dl-inline>dt:not(:first-of-type) {padding-left: .5ex}\n",
       "</style><dl class=dl-inline><dt>mpg</dt><dd>20.090625</dd><dt>wt</dt><dd>3.21725</dd><dt>qsec</dt><dd>17.84875</dd></dl>\n"
      ],
      "text/latex": [
       "\\begin{description*}\n",
       "\\item[mpg] 20.090625\n",
       "\\item[wt] 3.21725\n",
       "\\item[qsec] 17.84875\n",
       "\\end{description*}\n"
      ],
      "text/markdown": [
       "mpg\n",
       ":   20.090625wt\n",
       ":   3.21725qsec\n",
       ":   17.84875\n",
       "\n"
      ],
      "text/plain": [
       "     mpg       wt     qsec \n",
       "20.09062  3.21725 17.84875 "
      ]
     },
     "metadata": {},
     "output_type": "display_data"
    }
   ],
   "source": [
    "apply(mtcars[c('mpg', 'wt', 'qsec')], 2, mean)"
   ]
  },
  {
   "cell_type": "code",
   "execution_count": 131,
   "metadata": {
    "vscode": {
     "languageId": "r"
    }
   },
   "outputs": [
    {
     "name": "stdout",
     "output_type": "stream",
     "text": [
      "  mpg    wt  qsec \n",
      "20.09  3.22 17.85 \n"
     ]
    }
   ],
   "source": [
    "print(round(apply(mtcars[c('mpg', 'wt', 'qsec')], 2, mean),2))"
   ]
  },
  {
   "cell_type": "code",
   "execution_count": 132,
   "metadata": {
    "vscode": {
     "languageId": "r"
    }
   },
   "outputs": [
    {
     "data": {
      "text/plain": [
       "      mpg              wt             qsec      \n",
       " Min.   :10.40   Min.   :1.513   Min.   :14.50  \n",
       " 1st Qu.:15.43   1st Qu.:2.581   1st Qu.:16.89  \n",
       " Median :19.20   Median :3.325   Median :17.71  \n",
       " Mean   :20.09   Mean   :3.217   Mean   :17.85  \n",
       " 3rd Qu.:22.80   3rd Qu.:3.610   3rd Qu.:18.90  \n",
       " Max.   :33.90   Max.   :5.424   Max.   :22.90  "
      ]
     },
     "metadata": {},
     "output_type": "display_data"
    }
   ],
   "source": [
    "summary(mtcars[c('mpg', 'wt', 'qsec')])"
   ]
  },
  {
   "cell_type": "code",
   "execution_count": 133,
   "metadata": {
    "vscode": {
     "languageId": "r"
    }
   },
   "outputs": [
    {
     "data": {
      "text/html": [
       "<dl>\n",
       "\t<dt>$mpg</dt>\n",
       "\t\t<dd>20.090625</dd>\n",
       "\t<dt>$cyl</dt>\n",
       "\t\t<dd>6.1875</dd>\n",
       "\t<dt>$disp</dt>\n",
       "\t\t<dd>230.721875</dd>\n",
       "\t<dt>$hp</dt>\n",
       "\t\t<dd>146.6875</dd>\n",
       "\t<dt>$drat</dt>\n",
       "\t\t<dd>3.5965625</dd>\n",
       "\t<dt>$wt</dt>\n",
       "\t\t<dd>3.21725</dd>\n",
       "\t<dt>$qsec</dt>\n",
       "\t\t<dd>17.84875</dd>\n",
       "\t<dt>$vs</dt>\n",
       "\t\t<dd>0.4375</dd>\n",
       "\t<dt>$am</dt>\n",
       "\t\t<dd>0.40625</dd>\n",
       "\t<dt>$gear</dt>\n",
       "\t\t<dd>3.6875</dd>\n",
       "\t<dt>$carb</dt>\n",
       "\t\t<dd>2.8125</dd>\n",
       "</dl>\n"
      ],
      "text/latex": [
       "\\begin{description}\n",
       "\\item[\\$mpg] 20.090625\n",
       "\\item[\\$cyl] 6.1875\n",
       "\\item[\\$disp] 230.721875\n",
       "\\item[\\$hp] 146.6875\n",
       "\\item[\\$drat] 3.5965625\n",
       "\\item[\\$wt] 3.21725\n",
       "\\item[\\$qsec] 17.84875\n",
       "\\item[\\$vs] 0.4375\n",
       "\\item[\\$am] 0.40625\n",
       "\\item[\\$gear] 3.6875\n",
       "\\item[\\$carb] 2.8125\n",
       "\\end{description}\n"
      ],
      "text/markdown": [
       "$mpg\n",
       ":   20.090625\n",
       "$cyl\n",
       ":   6.1875\n",
       "$disp\n",
       ":   230.721875\n",
       "$hp\n",
       ":   146.6875\n",
       "$drat\n",
       ":   3.5965625\n",
       "$wt\n",
       ":   3.21725\n",
       "$qsec\n",
       ":   17.84875\n",
       "$vs\n",
       ":   0.4375\n",
       "$am\n",
       ":   0.40625\n",
       "$gear\n",
       ":   3.6875\n",
       "$carb\n",
       ":   2.8125\n",
       "\n",
       "\n"
      ],
      "text/plain": [
       "$mpg\n",
       "[1] 20.09062\n",
       "\n",
       "$cyl\n",
       "[1] 6.1875\n",
       "\n",
       "$disp\n",
       "[1] 230.7219\n",
       "\n",
       "$hp\n",
       "[1] 146.6875\n",
       "\n",
       "$drat\n",
       "[1] 3.596563\n",
       "\n",
       "$wt\n",
       "[1] 3.21725\n",
       "\n",
       "$qsec\n",
       "[1] 17.84875\n",
       "\n",
       "$vs\n",
       "[1] 0.4375\n",
       "\n",
       "$am\n",
       "[1] 0.40625\n",
       "\n",
       "$gear\n",
       "[1] 3.6875\n",
       "\n",
       "$carb\n",
       "[1] 2.8125\n"
      ]
     },
     "metadata": {},
     "output_type": "display_data"
    }
   ],
   "source": [
    "lapply(mtcars, mean)"
   ]
  },
  {
   "cell_type": "code",
   "execution_count": 134,
   "metadata": {
    "vscode": {
     "languageId": "r"
    }
   },
   "outputs": [
    {
     "data": {
      "text/html": [
       "<dl>\n",
       "\t<dt>$mpg</dt>\n",
       "\t\t<dd>20.090625</dd>\n",
       "\t<dt>$wt</dt>\n",
       "\t\t<dd>3.21725</dd>\n",
       "\t<dt>$qsec</dt>\n",
       "\t\t<dd>17.84875</dd>\n",
       "</dl>\n"
      ],
      "text/latex": [
       "\\begin{description}\n",
       "\\item[\\$mpg] 20.090625\n",
       "\\item[\\$wt] 3.21725\n",
       "\\item[\\$qsec] 17.84875\n",
       "\\end{description}\n"
      ],
      "text/markdown": [
       "$mpg\n",
       ":   20.090625\n",
       "$wt\n",
       ":   3.21725\n",
       "$qsec\n",
       ":   17.84875\n",
       "\n",
       "\n"
      ],
      "text/plain": [
       "$mpg\n",
       "[1] 20.09062\n",
       "\n",
       "$wt\n",
       "[1] 3.21725\n",
       "\n",
       "$qsec\n",
       "[1] 17.84875\n"
      ]
     },
     "metadata": {},
     "output_type": "display_data"
    }
   ],
   "source": [
    "lapply(mtcars[c('mpg', 'wt', 'qsec')], mean)"
   ]
  },
  {
   "cell_type": "code",
   "execution_count": 135,
   "metadata": {
    "vscode": {
     "languageId": "r"
    }
   },
   "outputs": [
    {
     "data": {
      "text/html": [
       "<dl>\n",
       "\t<dt>$mpg</dt>\n",
       "\t\t<dd>33.9</dd>\n",
       "\t<dt>$cyl</dt>\n",
       "\t\t<dd>8</dd>\n",
       "\t<dt>$disp</dt>\n",
       "\t\t<dd>472</dd>\n",
       "\t<dt>$hp</dt>\n",
       "\t\t<dd>335</dd>\n",
       "\t<dt>$drat</dt>\n",
       "\t\t<dd>4.93</dd>\n",
       "\t<dt>$wt</dt>\n",
       "\t\t<dd>5.424</dd>\n",
       "\t<dt>$qsec</dt>\n",
       "\t\t<dd>22.9</dd>\n",
       "\t<dt>$vs</dt>\n",
       "\t\t<dd>1</dd>\n",
       "\t<dt>$am</dt>\n",
       "\t\t<dd>1</dd>\n",
       "\t<dt>$gear</dt>\n",
       "\t\t<dd>5</dd>\n",
       "\t<dt>$carb</dt>\n",
       "\t\t<dd>8</dd>\n",
       "</dl>\n"
      ],
      "text/latex": [
       "\\begin{description}\n",
       "\\item[\\$mpg] 33.9\n",
       "\\item[\\$cyl] 8\n",
       "\\item[\\$disp] 472\n",
       "\\item[\\$hp] 335\n",
       "\\item[\\$drat] 4.93\n",
       "\\item[\\$wt] 5.424\n",
       "\\item[\\$qsec] 22.9\n",
       "\\item[\\$vs] 1\n",
       "\\item[\\$am] 1\n",
       "\\item[\\$gear] 5\n",
       "\\item[\\$carb] 8\n",
       "\\end{description}\n"
      ],
      "text/markdown": [
       "$mpg\n",
       ":   33.9\n",
       "$cyl\n",
       ":   8\n",
       "$disp\n",
       ":   472\n",
       "$hp\n",
       ":   335\n",
       "$drat\n",
       ":   4.93\n",
       "$wt\n",
       ":   5.424\n",
       "$qsec\n",
       ":   22.9\n",
       "$vs\n",
       ":   1\n",
       "$am\n",
       ":   1\n",
       "$gear\n",
       ":   5\n",
       "$carb\n",
       ":   8\n",
       "\n",
       "\n"
      ],
      "text/plain": [
       "$mpg\n",
       "[1] 33.9\n",
       "\n",
       "$cyl\n",
       "[1] 8\n",
       "\n",
       "$disp\n",
       "[1] 472\n",
       "\n",
       "$hp\n",
       "[1] 335\n",
       "\n",
       "$drat\n",
       "[1] 4.93\n",
       "\n",
       "$wt\n",
       "[1] 5.424\n",
       "\n",
       "$qsec\n",
       "[1] 22.9\n",
       "\n",
       "$vs\n",
       "[1] 1\n",
       "\n",
       "$am\n",
       "[1] 1\n",
       "\n",
       "$gear\n",
       "[1] 5\n",
       "\n",
       "$carb\n",
       "[1] 8\n"
      ]
     },
     "metadata": {},
     "output_type": "display_data"
    }
   ],
   "source": [
    "lapply(mtcars, max)"
   ]
  },
  {
   "cell_type": "code",
   "execution_count": 136,
   "metadata": {
    "vscode": {
     "languageId": "r"
    }
   },
   "outputs": [
    {
     "data": {
      "text/html": [
       "33.9"
      ],
      "text/latex": [
       "33.9"
      ],
      "text/markdown": [
       "33.9"
      ],
      "text/plain": [
       "[1] 33.9"
      ]
     },
     "metadata": {},
     "output_type": "display_data"
    }
   ],
   "source": [
    "max(mtcars$mpg) ## 확인용"
   ]
  },
  {
   "cell_type": "code",
   "execution_count": 137,
   "metadata": {
    "vscode": {
     "languageId": "r"
    }
   },
   "outputs": [
    {
     "data": {
      "text/html": [
       "<table class=\"dataframe\">\n",
       "<caption>A data.frame: 3 × 4</caption>\n",
       "<thead>\n",
       "\t<tr><th></th><th scope=col>mpg</th><th scope=col>cyl</th><th scope=col>disp</th><th scope=col>hp</th></tr>\n",
       "\t<tr><th></th><th scope=col>&lt;dbl&gt;</th><th scope=col>&lt;dbl&gt;</th><th scope=col>&lt;dbl&gt;</th><th scope=col>&lt;dbl&gt;</th></tr>\n",
       "</thead>\n",
       "<tbody>\n",
       "\t<tr><th scope=row>Mazda RX4</th><td>  NA</td><td>6</td><td>160</td><td>110</td></tr>\n",
       "\t<tr><th scope=row>Mazda RX4 Wag</th><td>21.0</td><td>6</td><td>160</td><td>110</td></tr>\n",
       "\t<tr><th scope=row>Datsun 710</th><td>22.8</td><td>4</td><td>108</td><td> 93</td></tr>\n",
       "</tbody>\n",
       "</table>\n"
      ],
      "text/latex": [
       "A data.frame: 3 × 4\n",
       "\\begin{tabular}{r|llll}\n",
       "  & mpg & cyl & disp & hp\\\\\n",
       "  & <dbl> & <dbl> & <dbl> & <dbl>\\\\\n",
       "\\hline\n",
       "\tMazda RX4 &   NA & 6 & 160 & 110\\\\\n",
       "\tMazda RX4 Wag & 21.0 & 6 & 160 & 110\\\\\n",
       "\tDatsun 710 & 22.8 & 4 & 108 &  93\\\\\n",
       "\\end{tabular}\n"
      ],
      "text/markdown": [
       "\n",
       "A data.frame: 3 × 4\n",
       "\n",
       "| <!--/--> | mpg &lt;dbl&gt; | cyl &lt;dbl&gt; | disp &lt;dbl&gt; | hp &lt;dbl&gt; |\n",
       "|---|---|---|---|---|\n",
       "| Mazda RX4 |   NA | 6 | 160 | 110 |\n",
       "| Mazda RX4 Wag | 21.0 | 6 | 160 | 110 |\n",
       "| Datsun 710 | 22.8 | 4 | 108 |  93 |\n",
       "\n"
      ],
      "text/plain": [
       "              mpg  cyl disp hp \n",
       "Mazda RX4       NA 6   160  110\n",
       "Mazda RX4 Wag 21.0 6   160  110\n",
       "Datsun 710    22.8 4   108   93"
      ]
     },
     "metadata": {},
     "output_type": "display_data"
    }
   ],
   "source": [
    "# (1,1)성분을 NA로 체체\n",
    "mtcars[1,1] <- NA\n",
    "head(mtcars[1:4], 3)"
   ]
  },
  {
   "cell_type": "code",
   "execution_count": 138,
   "metadata": {
    "vscode": {
     "languageId": "r"
    }
   },
   "outputs": [
    {
     "data": {
      "text/html": [
       "<dl>\n",
       "\t<dt>$mpg</dt>\n",
       "\t\t<dd>&lt;NA&gt;</dd>\n",
       "\t<dt>$cyl</dt>\n",
       "\t\t<dd>6.1875</dd>\n",
       "\t<dt>$disp</dt>\n",
       "\t\t<dd>230.721875</dd>\n",
       "\t<dt>$hp</dt>\n",
       "\t\t<dd>146.6875</dd>\n",
       "</dl>\n"
      ],
      "text/latex": [
       "\\begin{description}\n",
       "\\item[\\$mpg] <NA>\n",
       "\\item[\\$cyl] 6.1875\n",
       "\\item[\\$disp] 230.721875\n",
       "\\item[\\$hp] 146.6875\n",
       "\\end{description}\n"
      ],
      "text/markdown": [
       "$mpg\n",
       ":   &lt;NA&gt;\n",
       "$cyl\n",
       ":   6.1875\n",
       "$disp\n",
       ":   230.721875\n",
       "$hp\n",
       ":   146.6875\n",
       "\n",
       "\n"
      ],
      "text/plain": [
       "$mpg\n",
       "[1] NA\n",
       "\n",
       "$cyl\n",
       "[1] 6.1875\n",
       "\n",
       "$disp\n",
       "[1] 230.7219\n",
       "\n",
       "$hp\n",
       "[1] 146.6875\n"
      ]
     },
     "metadata": {},
     "output_type": "display_data"
    }
   ],
   "source": [
    "lapply(mtcars[1:4], mean)"
   ]
  },
  {
   "cell_type": "code",
   "execution_count": 139,
   "metadata": {
    "vscode": {
     "languageId": "r"
    }
   },
   "outputs": [
    {
     "data": {
      "text/html": [
       "<dl>\n",
       "\t<dt>$mpg</dt>\n",
       "\t\t<dd>20.0612903225806</dd>\n",
       "\t<dt>$cyl</dt>\n",
       "\t\t<dd>6.1875</dd>\n",
       "\t<dt>$disp</dt>\n",
       "\t\t<dd>230.721875</dd>\n",
       "\t<dt>$hp</dt>\n",
       "\t\t<dd>146.6875</dd>\n",
       "</dl>\n"
      ],
      "text/latex": [
       "\\begin{description}\n",
       "\\item[\\$mpg] 20.0612903225806\n",
       "\\item[\\$cyl] 6.1875\n",
       "\\item[\\$disp] 230.721875\n",
       "\\item[\\$hp] 146.6875\n",
       "\\end{description}\n"
      ],
      "text/markdown": [
       "$mpg\n",
       ":   20.0612903225806\n",
       "$cyl\n",
       ":   6.1875\n",
       "$disp\n",
       ":   230.721875\n",
       "$hp\n",
       ":   146.6875\n",
       "\n",
       "\n"
      ],
      "text/plain": [
       "$mpg\n",
       "[1] 20.06129\n",
       "\n",
       "$cyl\n",
       "[1] 6.1875\n",
       "\n",
       "$disp\n",
       "[1] 230.7219\n",
       "\n",
       "$hp\n",
       "[1] 146.6875\n"
      ]
     },
     "metadata": {},
     "output_type": "display_data"
    }
   ],
   "source": [
    "# na.rm=T 옵션 사용\n",
    "lapply(mtcars[1:4], mean, na.rm=T)"
   ]
  },
  {
   "cell_type": "code",
   "execution_count": 140,
   "metadata": {
    "vscode": {
     "languageId": "r"
    }
   },
   "outputs": [],
   "source": [
    "data(mtcars) # 데이터 초기화"
   ]
  },
  {
   "cell_type": "code",
   "execution_count": 141,
   "metadata": {
    "vscode": {
     "languageId": "r"
    }
   },
   "outputs": [
    {
     "data": {
      "text/html": [
       "<style>\n",
       ".dl-inline {width: auto; margin:0; padding: 0}\n",
       ".dl-inline>dt, .dl-inline>dd {float: none; width: auto; display: inline-block}\n",
       ".dl-inline>dt::after {content: \":\\0020\"; padding-right: .5ex}\n",
       ".dl-inline>dt:not(:first-of-type) {padding-left: .5ex}\n",
       "</style><dl class=dl-inline><dt>mpg</dt><dd>20.090625</dd><dt>cyl</dt><dd>6.1875</dd><dt>disp</dt><dd>230.721875</dd><dt>hp</dt><dd>146.6875</dd><dt>drat</dt><dd>3.5965625</dd><dt>wt</dt><dd>3.21725</dd><dt>qsec</dt><dd>17.84875</dd><dt>vs</dt><dd>0.4375</dd><dt>am</dt><dd>0.40625</dd><dt>gear</dt><dd>3.6875</dd><dt>carb</dt><dd>2.8125</dd></dl>\n"
      ],
      "text/latex": [
       "\\begin{description*}\n",
       "\\item[mpg] 20.090625\n",
       "\\item[cyl] 6.1875\n",
       "\\item[disp] 230.721875\n",
       "\\item[hp] 146.6875\n",
       "\\item[drat] 3.5965625\n",
       "\\item[wt] 3.21725\n",
       "\\item[qsec] 17.84875\n",
       "\\item[vs] 0.4375\n",
       "\\item[am] 0.40625\n",
       "\\item[gear] 3.6875\n",
       "\\item[carb] 2.8125\n",
       "\\end{description*}\n"
      ],
      "text/markdown": [
       "mpg\n",
       ":   20.090625cyl\n",
       ":   6.1875disp\n",
       ":   230.721875hp\n",
       ":   146.6875drat\n",
       ":   3.5965625wt\n",
       ":   3.21725qsec\n",
       ":   17.84875vs\n",
       ":   0.4375am\n",
       ":   0.40625gear\n",
       ":   3.6875carb\n",
       ":   2.8125\n",
       "\n"
      ],
      "text/plain": [
       "       mpg        cyl       disp         hp       drat         wt       qsec \n",
       " 20.090625   6.187500 230.721875 146.687500   3.596563   3.217250  17.848750 \n",
       "        vs         am       gear       carb \n",
       "  0.437500   0.406250   3.687500   2.812500 "
      ]
     },
     "metadata": {},
     "output_type": "display_data"
    }
   ],
   "source": [
    "sapply(mtcars, mean)"
   ]
  },
  {
   "cell_type": "code",
   "execution_count": 142,
   "metadata": {
    "vscode": {
     "languageId": "r"
    }
   },
   "outputs": [
    {
     "name": "stdout",
     "output_type": "stream",
     "text": [
      "   mpg    cyl   disp     hp   drat     wt   qsec     vs     am   gear   carb \n",
      " 20.09   6.19 230.72 146.69   3.60   3.22  17.85   0.44   0.41   3.69   2.81 \n"
     ]
    }
   ],
   "source": [
    "print(round(sapply(mtcars, mean),2))"
   ]
  },
  {
   "cell_type": "code",
   "execution_count": 143,
   "metadata": {
    "vscode": {
     "languageId": "r"
    }
   },
   "outputs": [
    {
     "data": {
      "text/html": [
       "<table class=\"dataframe\">\n",
       "<caption>A data.frame: 11 × 1</caption>\n",
       "<thead>\n",
       "\t<tr><th></th><th scope=col>result</th></tr>\n",
       "\t<tr><th></th><th scope=col>&lt;dbl&gt;</th></tr>\n",
       "</thead>\n",
       "<tbody>\n",
       "\t<tr><th scope=row>mpg</th><td> 20.09</td></tr>\n",
       "\t<tr><th scope=row>cyl</th><td>  6.19</td></tr>\n",
       "\t<tr><th scope=row>disp</th><td>230.72</td></tr>\n",
       "\t<tr><th scope=row>hp</th><td>146.69</td></tr>\n",
       "\t<tr><th scope=row>drat</th><td>  3.60</td></tr>\n",
       "\t<tr><th scope=row>wt</th><td>  3.22</td></tr>\n",
       "\t<tr><th scope=row>qsec</th><td> 17.85</td></tr>\n",
       "\t<tr><th scope=row>vs</th><td>  0.44</td></tr>\n",
       "\t<tr><th scope=row>am</th><td>  0.41</td></tr>\n",
       "\t<tr><th scope=row>gear</th><td>  3.69</td></tr>\n",
       "\t<tr><th scope=row>carb</th><td>  2.81</td></tr>\n",
       "</tbody>\n",
       "</table>\n"
      ],
      "text/latex": [
       "A data.frame: 11 × 1\n",
       "\\begin{tabular}{r|l}\n",
       "  & result\\\\\n",
       "  & <dbl>\\\\\n",
       "\\hline\n",
       "\tmpg &  20.09\\\\\n",
       "\tcyl &   6.19\\\\\n",
       "\tdisp & 230.72\\\\\n",
       "\thp & 146.69\\\\\n",
       "\tdrat &   3.60\\\\\n",
       "\twt &   3.22\\\\\n",
       "\tqsec &  17.85\\\\\n",
       "\tvs &   0.44\\\\\n",
       "\tam &   0.41\\\\\n",
       "\tgear &   3.69\\\\\n",
       "\tcarb &   2.81\\\\\n",
       "\\end{tabular}\n"
      ],
      "text/markdown": [
       "\n",
       "A data.frame: 11 × 1\n",
       "\n",
       "| <!--/--> | result &lt;dbl&gt; |\n",
       "|---|---|\n",
       "| mpg |  20.09 |\n",
       "| cyl |   6.19 |\n",
       "| disp | 230.72 |\n",
       "| hp | 146.69 |\n",
       "| drat |   3.60 |\n",
       "| wt |   3.22 |\n",
       "| qsec |  17.85 |\n",
       "| vs |   0.44 |\n",
       "| am |   0.41 |\n",
       "| gear |   3.69 |\n",
       "| carb |   2.81 |\n",
       "\n"
      ],
      "text/plain": [
       "     result\n",
       "mpg   20.09\n",
       "cyl    6.19\n",
       "disp 230.72\n",
       "hp   146.69\n",
       "drat   3.60\n",
       "wt     3.22\n",
       "qsec  17.85\n",
       "vs     0.44\n",
       "am     0.41\n",
       "gear   3.69\n",
       "carb   2.81"
      ]
     },
     "metadata": {},
     "output_type": "display_data"
    }
   ],
   "source": [
    "# sapply의 결과를 데이터프레임으로 변환하여 출력\n",
    "result <- round(sapply(mtcars, mean),2)\n",
    "result_df <- as.data.frame(result)\n",
    "result_df"
   ]
  },
  {
   "cell_type": "code",
   "execution_count": 144,
   "metadata": {
    "vscode": {
     "languageId": "r"
    }
   },
   "outputs": [
    {
     "data": {
      "text/html": [
       "<table class=\"dataframe\">\n",
       "<caption>A data.frame: 6 × 3</caption>\n",
       "<thead>\n",
       "\t<tr><th></th><th scope=col>len</th><th scope=col>supp</th><th scope=col>dose</th></tr>\n",
       "\t<tr><th></th><th scope=col>&lt;dbl&gt;</th><th scope=col>&lt;fct&gt;</th><th scope=col>&lt;dbl&gt;</th></tr>\n",
       "</thead>\n",
       "<tbody>\n",
       "\t<tr><th scope=row>1</th><td> 4.2</td><td>VC</td><td>0.5</td></tr>\n",
       "\t<tr><th scope=row>2</th><td>11.5</td><td>VC</td><td>0.5</td></tr>\n",
       "\t<tr><th scope=row>3</th><td> 7.3</td><td>VC</td><td>0.5</td></tr>\n",
       "\t<tr><th scope=row>4</th><td> 5.8</td><td>VC</td><td>0.5</td></tr>\n",
       "\t<tr><th scope=row>5</th><td> 6.4</td><td>VC</td><td>0.5</td></tr>\n",
       "\t<tr><th scope=row>6</th><td>10.0</td><td>VC</td><td>0.5</td></tr>\n",
       "</tbody>\n",
       "</table>\n"
      ],
      "text/latex": [
       "A data.frame: 6 × 3\n",
       "\\begin{tabular}{r|lll}\n",
       "  & len & supp & dose\\\\\n",
       "  & <dbl> & <fct> & <dbl>\\\\\n",
       "\\hline\n",
       "\t1 &  4.2 & VC & 0.5\\\\\n",
       "\t2 & 11.5 & VC & 0.5\\\\\n",
       "\t3 &  7.3 & VC & 0.5\\\\\n",
       "\t4 &  5.8 & VC & 0.5\\\\\n",
       "\t5 &  6.4 & VC & 0.5\\\\\n",
       "\t6 & 10.0 & VC & 0.5\\\\\n",
       "\\end{tabular}\n"
      ],
      "text/markdown": [
       "\n",
       "A data.frame: 6 × 3\n",
       "\n",
       "| <!--/--> | len &lt;dbl&gt; | supp &lt;fct&gt; | dose &lt;dbl&gt; |\n",
       "|---|---|---|---|\n",
       "| 1 |  4.2 | VC | 0.5 |\n",
       "| 2 | 11.5 | VC | 0.5 |\n",
       "| 3 |  7.3 | VC | 0.5 |\n",
       "| 4 |  5.8 | VC | 0.5 |\n",
       "| 5 |  6.4 | VC | 0.5 |\n",
       "| 6 | 10.0 | VC | 0.5 |\n",
       "\n"
      ],
      "text/plain": [
       "  len  supp dose\n",
       "1  4.2 VC   0.5 \n",
       "2 11.5 VC   0.5 \n",
       "3  7.3 VC   0.5 \n",
       "4  5.8 VC   0.5 \n",
       "5  6.4 VC   0.5 \n",
       "6 10.0 VC   0.5 "
      ]
     },
     "metadata": {},
     "output_type": "display_data"
    }
   ],
   "source": [
    "head(ToothGrowth)"
   ]
  },
  {
   "cell_type": "code",
   "execution_count": 145,
   "metadata": {
    "vscode": {
     "languageId": "r"
    }
   },
   "outputs": [
    {
     "name": "stdout",
     "output_type": "stream",
     "text": [
      "      OJ       VC \n",
      "20.66333 16.96333 \n"
     ]
    }
   ],
   "source": [
    "result <- tapply(ToothGrowth$len, ToothGrowth$supp, mean)\n",
    "print(result)"
   ]
  },
  {
   "cell_type": "code",
   "execution_count": 146,
   "metadata": {
    "vscode": {
     "languageId": "r"
    }
   },
   "outputs": [
    {
     "data": {
      "text/html": [
       "<table class=\"dataframe\">\n",
       "<caption>A matrix: 2 × 3 of type dbl</caption>\n",
       "<thead>\n",
       "\t<tr><th></th><th scope=col>0.5</th><th scope=col>1</th><th scope=col>2</th></tr>\n",
       "</thead>\n",
       "<tbody>\n",
       "\t<tr><th scope=row>OJ</th><td>13.23</td><td>22.70</td><td>26.06</td></tr>\n",
       "\t<tr><th scope=row>VC</th><td> 7.98</td><td>16.77</td><td>26.14</td></tr>\n",
       "</tbody>\n",
       "</table>\n"
      ],
      "text/latex": [
       "A matrix: 2 × 3 of type dbl\n",
       "\\begin{tabular}{r|lll}\n",
       "  & 0.5 & 1 & 2\\\\\n",
       "\\hline\n",
       "\tOJ & 13.23 & 22.70 & 26.06\\\\\n",
       "\tVC &  7.98 & 16.77 & 26.14\\\\\n",
       "\\end{tabular}\n"
      ],
      "text/markdown": [
       "\n",
       "A matrix: 2 × 3 of type dbl\n",
       "\n",
       "| <!--/--> | 0.5 | 1 | 2 |\n",
       "|---|---|---|---|\n",
       "| OJ | 13.23 | 22.70 | 26.06 |\n",
       "| VC |  7.98 | 16.77 | 26.14 |\n",
       "\n"
      ],
      "text/plain": [
       "   0.5   1     2    \n",
       "OJ 13.23 22.70 26.06\n",
       "VC  7.98 16.77 26.14"
      ]
     },
     "metadata": {},
     "output_type": "display_data"
    }
   ],
   "source": [
    "result <- tapply(ToothGrowth$len, list(ToothGrowth$supp, ToothGrowth$dose), mean)\n",
    "result"
   ]
  },
  {
   "cell_type": "code",
   "execution_count": 148,
   "metadata": {
    "vscode": {
     "languageId": "r"
    }
   },
   "outputs": [
    {
     "data": {
      "text/html": [
       "<table class=\"dataframe\">\n",
       "<caption>A data.frame: 6 × 9</caption>\n",
       "<thead>\n",
       "\t<tr><th></th><th scope=col>발생월</th><th scope=col>발생일</th><th scope=col>시도</th><th scope=col>시군구</th><th scope=col>사고건수</th><th scope=col>사망자수</th><th scope=col>중상자수</th><th scope=col>경상자수</th><th scope=col>부상신고자수</th></tr>\n",
       "\t<tr><th></th><th scope=col>&lt;int&gt;</th><th scope=col>&lt;int&gt;</th><th scope=col>&lt;chr&gt;</th><th scope=col>&lt;chr&gt;</th><th scope=col>&lt;int&gt;</th><th scope=col>&lt;int&gt;</th><th scope=col>&lt;int&gt;</th><th scope=col>&lt;int&gt;</th><th scope=col>&lt;int&gt;</th></tr>\n",
       "</thead>\n",
       "<tbody>\n",
       "\t<tr><th scope=row>1</th><td>1</td><td>1</td><td>서울</td><td>용산구  </td><td>4</td><td>0</td><td>0</td><td> 5</td><td>0</td></tr>\n",
       "\t<tr><th scope=row>2</th><td>1</td><td>1</td><td>서울</td><td>성동구  </td><td>4</td><td>0</td><td>0</td><td>13</td><td>0</td></tr>\n",
       "\t<tr><th scope=row>3</th><td>1</td><td>1</td><td>서울</td><td>동대문구</td><td>5</td><td>0</td><td>1</td><td> 5</td><td>1</td></tr>\n",
       "\t<tr><th scope=row>4</th><td>1</td><td>1</td><td>서울</td><td>성북구  </td><td>4</td><td>0</td><td>1</td><td> 3</td><td>0</td></tr>\n",
       "\t<tr><th scope=row>5</th><td>1</td><td>1</td><td>서울</td><td>은평구  </td><td>3</td><td>0</td><td>3</td><td> 0</td><td>0</td></tr>\n",
       "\t<tr><th scope=row>6</th><td>1</td><td>1</td><td>서울</td><td>서대문구</td><td>2</td><td>0</td><td>0</td><td> 1</td><td>1</td></tr>\n",
       "</tbody>\n",
       "</table>\n"
      ],
      "text/latex": [
       "A data.frame: 6 × 9\n",
       "\\begin{tabular}{r|lllllllll}\n",
       "  & 발생월 & 발생일 & 시도 & 시군구 & 사고건수 & 사망자수 & 중상자수 & 경상자수 & 부상신고자수\\\\\n",
       "  & <int> & <int> & <chr> & <chr> & <int> & <int> & <int> & <int> & <int>\\\\\n",
       "\\hline\n",
       "\t1 & 1 & 1 & 서울 & 용산구   & 4 & 0 & 0 &  5 & 0\\\\\n",
       "\t2 & 1 & 1 & 서울 & 성동구   & 4 & 0 & 0 & 13 & 0\\\\\n",
       "\t3 & 1 & 1 & 서울 & 동대문구 & 5 & 0 & 1 &  5 & 1\\\\\n",
       "\t4 & 1 & 1 & 서울 & 성북구   & 4 & 0 & 1 &  3 & 0\\\\\n",
       "\t5 & 1 & 1 & 서울 & 은평구   & 3 & 0 & 3 &  0 & 0\\\\\n",
       "\t6 & 1 & 1 & 서울 & 서대문구 & 2 & 0 & 0 &  1 & 1\\\\\n",
       "\\end{tabular}\n"
      ],
      "text/markdown": [
       "\n",
       "A data.frame: 6 × 9\n",
       "\n",
       "| <!--/--> | 발생월 &lt;int&gt; | 발생일 &lt;int&gt; | 시도 &lt;chr&gt; | 시군구 &lt;chr&gt; | 사고건수 &lt;int&gt; | 사망자수 &lt;int&gt; | 중상자수 &lt;int&gt; | 경상자수 &lt;int&gt; | 부상신고자수 &lt;int&gt; |\n",
       "|---|---|---|---|---|---|---|---|---|---|\n",
       "| 1 | 1 | 1 | 서울 | 용산구   | 4 | 0 | 0 |  5 | 0 |\n",
       "| 2 | 1 | 1 | 서울 | 성동구   | 4 | 0 | 0 | 13 | 0 |\n",
       "| 3 | 1 | 1 | 서울 | 동대문구 | 5 | 0 | 1 |  5 | 1 |\n",
       "| 4 | 1 | 1 | 서울 | 성북구   | 4 | 0 | 1 |  3 | 0 |\n",
       "| 5 | 1 | 1 | 서울 | 은평구   | 3 | 0 | 3 |  0 | 0 |\n",
       "| 6 | 1 | 1 | 서울 | 서대문구 | 2 | 0 | 0 |  1 | 1 |\n",
       "\n"
      ],
      "text/plain": [
       "  발생월 발생일 시도 시군구   사고건수 사망자수 중상자수 경상자수 부상신고자수\n",
       "1 1      1      서울 용산구   4        0        0         5       0           \n",
       "2 1      1      서울 성동구   4        0        0        13       0           \n",
       "3 1      1      서울 동대문구 5        0        1         5       1           \n",
       "4 1      1      서울 성북구   4        0        1         3       0           \n",
       "5 1      1      서울 은평구   3        0        3         0       0           \n",
       "6 1      1      서울 서대문구 2        0        0         1       1           "
      ]
     },
     "metadata": {},
     "output_type": "display_data"
    }
   ],
   "source": [
    "data <- read.csv(\"../mydata/2023년_도로교통공단_일자별 시군구별 교통사고 건수.csv\",\n",
    "                 fileEncoding = \"CP949\")\n",
    "head(data)"
   ]
  },
  {
   "cell_type": "code",
   "execution_count": 149,
   "metadata": {
    "vscode": {
     "languageId": "r"
    }
   },
   "outputs": [
    {
     "data": {
      "text/html": [
       "<table class=\"dataframe\">\n",
       "<caption>A data.frame: 6 × 9</caption>\n",
       "<thead>\n",
       "\t<tr><th></th><th scope=col>발생월</th><th scope=col>발생일</th><th scope=col>시도</th><th scope=col>시군구</th><th scope=col>사고건수</th><th scope=col>사망자수</th><th scope=col>중상자수</th><th scope=col>경상자수</th><th scope=col>부상신고자수</th></tr>\n",
       "\t<tr><th></th><th scope=col>&lt;int&gt;</th><th scope=col>&lt;int&gt;</th><th scope=col>&lt;chr&gt;</th><th scope=col>&lt;chr&gt;</th><th scope=col>&lt;int&gt;</th><th scope=col>&lt;int&gt;</th><th scope=col>&lt;int&gt;</th><th scope=col>&lt;int&gt;</th><th scope=col>&lt;int&gt;</th></tr>\n",
       "</thead>\n",
       "<tbody>\n",
       "\t<tr><th scope=row>1</th><td>1</td><td>1</td><td>서울</td><td>용산구  </td><td>4</td><td>0</td><td>0</td><td> 5</td><td>0</td></tr>\n",
       "\t<tr><th scope=row>2</th><td>1</td><td>1</td><td>서울</td><td>성동구  </td><td>4</td><td>0</td><td>0</td><td>13</td><td>0</td></tr>\n",
       "\t<tr><th scope=row>3</th><td>1</td><td>1</td><td>서울</td><td>동대문구</td><td>5</td><td>0</td><td>1</td><td> 5</td><td>1</td></tr>\n",
       "\t<tr><th scope=row>4</th><td>1</td><td>1</td><td>서울</td><td>성북구  </td><td>4</td><td>0</td><td>1</td><td> 3</td><td>0</td></tr>\n",
       "\t<tr><th scope=row>5</th><td>1</td><td>1</td><td>서울</td><td>은평구  </td><td>3</td><td>0</td><td>3</td><td> 0</td><td>0</td></tr>\n",
       "\t<tr><th scope=row>6</th><td>1</td><td>1</td><td>서울</td><td>서대문구</td><td>2</td><td>0</td><td>0</td><td> 1</td><td>1</td></tr>\n",
       "</tbody>\n",
       "</table>\n"
      ],
      "text/latex": [
       "A data.frame: 6 × 9\n",
       "\\begin{tabular}{r|lllllllll}\n",
       "  & 발생월 & 발생일 & 시도 & 시군구 & 사고건수 & 사망자수 & 중상자수 & 경상자수 & 부상신고자수\\\\\n",
       "  & <int> & <int> & <chr> & <chr> & <int> & <int> & <int> & <int> & <int>\\\\\n",
       "\\hline\n",
       "\t1 & 1 & 1 & 서울 & 용산구   & 4 & 0 & 0 &  5 & 0\\\\\n",
       "\t2 & 1 & 1 & 서울 & 성동구   & 4 & 0 & 0 & 13 & 0\\\\\n",
       "\t3 & 1 & 1 & 서울 & 동대문구 & 5 & 0 & 1 &  5 & 1\\\\\n",
       "\t4 & 1 & 1 & 서울 & 성북구   & 4 & 0 & 1 &  3 & 0\\\\\n",
       "\t5 & 1 & 1 & 서울 & 은평구   & 3 & 0 & 3 &  0 & 0\\\\\n",
       "\t6 & 1 & 1 & 서울 & 서대문구 & 2 & 0 & 0 &  1 & 1\\\\\n",
       "\\end{tabular}\n"
      ],
      "text/markdown": [
       "\n",
       "A data.frame: 6 × 9\n",
       "\n",
       "| <!--/--> | 발생월 &lt;int&gt; | 발생일 &lt;int&gt; | 시도 &lt;chr&gt; | 시군구 &lt;chr&gt; | 사고건수 &lt;int&gt; | 사망자수 &lt;int&gt; | 중상자수 &lt;int&gt; | 경상자수 &lt;int&gt; | 부상신고자수 &lt;int&gt; |\n",
       "|---|---|---|---|---|---|---|---|---|---|\n",
       "| 1 | 1 | 1 | 서울 | 용산구   | 4 | 0 | 0 |  5 | 0 |\n",
       "| 2 | 1 | 1 | 서울 | 성동구   | 4 | 0 | 0 | 13 | 0 |\n",
       "| 3 | 1 | 1 | 서울 | 동대문구 | 5 | 0 | 1 |  5 | 1 |\n",
       "| 4 | 1 | 1 | 서울 | 성북구   | 4 | 0 | 1 |  3 | 0 |\n",
       "| 5 | 1 | 1 | 서울 | 은평구   | 3 | 0 | 3 |  0 | 0 |\n",
       "| 6 | 1 | 1 | 서울 | 서대문구 | 2 | 0 | 0 |  1 | 1 |\n",
       "\n"
      ],
      "text/plain": [
       "  발생월 발생일 시도 시군구   사고건수 사망자수 중상자수 경상자수 부상신고자수\n",
       "1 1      1      서울 용산구   4        0        0         5       0           \n",
       "2 1      1      서울 성동구   4        0        0        13       0           \n",
       "3 1      1      서울 동대문구 5        0        1         5       1           \n",
       "4 1      1      서울 성북구   4        0        1         3       0           \n",
       "5 1      1      서울 은평구   3        0        3         0       0           \n",
       "6 1      1      서울 서대문구 2        0        0         1       1           "
      ]
     },
     "metadata": {},
     "output_type": "display_data"
    }
   ],
   "source": [
    "seoul <- subset(data, data$`시도` == '서울')\n",
    "head(seoul)"
   ]
  },
  {
   "cell_type": "code",
   "execution_count": 150,
   "metadata": {
    "vscode": {
     "languageId": "r"
    }
   },
   "outputs": [
    {
     "data": {
      "text/plain": [
       "\n",
       "강남구 강동구 강북구 강서구 \n",
       "   364    345    337    360 "
      ]
     },
     "metadata": {},
     "output_type": "display_data"
    }
   ],
   "source": [
    "idx <- grep('^강', seoul$`시군구`)\n",
    "river <- seoul[idx, ]\n",
    "table(river$시군구)"
   ]
  },
  {
   "cell_type": "code",
   "execution_count": 152,
   "metadata": {
    "vscode": {
     "languageId": "r"
    }
   },
   "outputs": [
    {
     "name": "stdout",
     "output_type": "stream",
     "text": [
      "강남구 강동구 강북구 강서구    sum \n",
      "  3926   1185    972   1518   7601 \n"
     ]
    }
   ],
   "source": [
    "result <- tapply(river$`사고건수`, river$`시군구`, sum)\n",
    "print(addmargins(result, FUN = sum))"
   ]
  },
  {
   "cell_type": "code",
   "execution_count": 154,
   "metadata": {
    "vscode": {
     "languageId": "r"
    }
   },
   "outputs": [
    {
     "name": "stdout",
     "output_type": "stream",
     "text": [
      "   강남구    강동구    강북구    강서구      mean \n",
      "10.785714  3.434783  2.884273  4.216667  5.330359 \n"
     ]
    }
   ],
   "source": [
    "result <- tapply(river$`사고건수`, river$`시군구`, mean)\n",
    "print(addmargins(result, FUN = mean))"
   ]
  },
  {
   "cell_type": "code",
   "execution_count": 155,
   "metadata": {
    "vscode": {
     "languageId": "r"
    }
   },
   "outputs": [
    {
     "data": {
      "text/plain": [
       "    사고건수     \n",
       " Min.   : 1.000  \n",
       " 1st Qu.: 2.000  \n",
       " Median : 4.000  \n",
       " Mean   : 5.406  \n",
       " 3rd Qu.: 7.000  \n",
       " Max.   :27.000  "
      ]
     },
     "metadata": {},
     "output_type": "display_data"
    }
   ],
   "source": [
    "summary(river[5])"
   ]
  },
  {
   "cell_type": "code",
   "execution_count": 156,
   "metadata": {
    "vscode": {
     "languageId": "r"
    }
   },
   "outputs": [
    {
     "data": {
      "text/html": [
       "<table class=\"dataframe\">\n",
       "<caption>A matrix: 2 × 3 of type dbl</caption>\n",
       "<thead>\n",
       "\t<tr><th></th><th scope=col>0.5</th><th scope=col>1</th><th scope=col>2</th></tr>\n",
       "</thead>\n",
       "<tbody>\n",
       "\t<tr><th scope=row>OJ</th><td>13.23</td><td>22.70</td><td>26.06</td></tr>\n",
       "\t<tr><th scope=row>VC</th><td> 7.98</td><td>16.77</td><td>26.14</td></tr>\n",
       "</tbody>\n",
       "</table>\n"
      ],
      "text/latex": [
       "A matrix: 2 × 3 of type dbl\n",
       "\\begin{tabular}{r|lll}\n",
       "  & 0.5 & 1 & 2\\\\\n",
       "\\hline\n",
       "\tOJ & 13.23 & 22.70 & 26.06\\\\\n",
       "\tVC &  7.98 & 16.77 & 26.14\\\\\n",
       "\\end{tabular}\n"
      ],
      "text/markdown": [
       "\n",
       "A matrix: 2 × 3 of type dbl\n",
       "\n",
       "| <!--/--> | 0.5 | 1 | 2 |\n",
       "|---|---|---|---|\n",
       "| OJ | 13.23 | 22.70 | 26.06 |\n",
       "| VC |  7.98 | 16.77 | 26.14 |\n",
       "\n"
      ],
      "text/plain": [
       "   0.5   1     2    \n",
       "OJ 13.23 22.70 26.06\n",
       "VC  7.98 16.77 26.14"
      ]
     },
     "metadata": {},
     "output_type": "display_data"
    }
   ],
   "source": [
    "tapply(ToothGrowth$len, list(ToothGrowth$supp, ToothGrowth$dose), mean)"
   ]
  },
  {
   "cell_type": "code",
   "execution_count": 159,
   "metadata": {
    "vscode": {
     "languageId": "r"
    }
   },
   "outputs": [
    {
     "data": {
      "text/html": [
       "<table class=\"dataframe\">\n",
       "<caption>A matrix: 2 × 3 of type dbl</caption>\n",
       "<thead>\n",
       "\t<tr><th></th><th scope=col>0.5</th><th scope=col>1</th><th scope=col>2</th></tr>\n",
       "</thead>\n",
       "<tbody>\n",
       "\t<tr><th scope=row>OJ</th><td>13.23</td><td>22.70</td><td>26.06</td></tr>\n",
       "\t<tr><th scope=row>VC</th><td> 7.98</td><td>16.77</td><td>26.14</td></tr>\n",
       "</tbody>\n",
       "</table>\n"
      ],
      "text/latex": [
       "A matrix: 2 × 3 of type dbl\n",
       "\\begin{tabular}{r|lll}\n",
       "  & 0.5 & 1 & 2\\\\\n",
       "\\hline\n",
       "\tOJ & 13.23 & 22.70 & 26.06\\\\\n",
       "\tVC &  7.98 & 16.77 & 26.14\\\\\n",
       "\\end{tabular}\n"
      ],
      "text/markdown": [
       "\n",
       "A matrix: 2 × 3 of type dbl\n",
       "\n",
       "| <!--/--> | 0.5 | 1 | 2 |\n",
       "|---|---|---|---|\n",
       "| OJ | 13.23 | 22.70 | 26.06 |\n",
       "| VC |  7.98 | 16.77 | 26.14 |\n",
       "\n"
      ],
      "text/plain": [
       "   0.5   1     2    \n",
       "OJ 13.23 22.70 26.06\n",
       "VC  7.98 16.77 26.14"
      ]
     },
     "metadata": {},
     "output_type": "display_data"
    }
   ],
   "source": [
    "with(ToothGrowth, tapply(len, list(supp, dose), mean))"
   ]
  },
  {
   "cell_type": "code",
   "execution_count": 160,
   "metadata": {
    "vscode": {
     "languageId": "r"
    }
   },
   "outputs": [
    {
     "data": {
      "text/html": [
       "<style>\n",
       ".dl-inline {width: auto; margin:0; padding: 0}\n",
       ".dl-inline>dt, .dl-inline>dd {float: none; width: auto; display: inline-block}\n",
       ".dl-inline>dt::after {content: \":\\0020\"; padding-right: .5ex}\n",
       ".dl-inline>dt:not(:first-of-type) {padding-left: .5ex}\n",
       "</style><dl class=dl-inline><dt>4</dt><dd>26.6636363636364</dd><dt>6</dt><dd>19.7428571428571</dd><dt>8</dt><dd>15.1</dd></dl>\n"
      ],
      "text/latex": [
       "\\begin{description*}\n",
       "\\item[4] 26.6636363636364\n",
       "\\item[6] 19.7428571428571\n",
       "\\item[8] 15.1\n",
       "\\end{description*}\n"
      ],
      "text/markdown": [
       "4\n",
       ":   26.66363636363646\n",
       ":   19.74285714285718\n",
       ":   15.1\n",
       "\n"
      ],
      "text/plain": [
       "       4        6        8 \n",
       "26.66364 19.74286 15.10000 "
      ]
     },
     "metadata": {},
     "output_type": "display_data"
    }
   ],
   "source": [
    "tapply(mtcars$mpg, mtcars$cyl, mean)"
   ]
  },
  {
   "cell_type": "code",
   "execution_count": 161,
   "metadata": {
    "vscode": {
     "languageId": "r"
    }
   },
   "outputs": [
    {
     "data": {
      "text/html": [
       "<style>\n",
       ".dl-inline {width: auto; margin:0; padding: 0}\n",
       ".dl-inline>dt, .dl-inline>dd {float: none; width: auto; display: inline-block}\n",
       ".dl-inline>dt::after {content: \":\\0020\"; padding-right: .5ex}\n",
       ".dl-inline>dt:not(:first-of-type) {padding-left: .5ex}\n",
       "</style><dl class=dl-inline><dt>4</dt><dd>26.6636363636364</dd><dt>6</dt><dd>19.7428571428571</dd><dt>8</dt><dd>15.1</dd></dl>\n"
      ],
      "text/latex": [
       "\\begin{description*}\n",
       "\\item[4] 26.6636363636364\n",
       "\\item[6] 19.7428571428571\n",
       "\\item[8] 15.1\n",
       "\\end{description*}\n"
      ],
      "text/markdown": [
       "4\n",
       ":   26.66363636363646\n",
       ":   19.74285714285718\n",
       ":   15.1\n",
       "\n"
      ],
      "text/plain": [
       "       4        6        8 \n",
       "26.66364 19.74286 15.10000 "
      ]
     },
     "metadata": {},
     "output_type": "display_data"
    }
   ],
   "source": [
    "with(mtcars, tapply(mpg, cyl, mean))"
   ]
  }
 ],
 "metadata": {
  "kernelspec": {
   "display_name": "R",
   "language": "R",
   "name": "ir"
  },
  "language_info": {
   "codemirror_mode": "r",
   "file_extension": ".r",
   "mimetype": "text/x-r-source",
   "name": "R",
   "pygments_lexer": "r",
   "version": "4.3.1"
  }
 },
 "nbformat": 4,
 "nbformat_minor": 2
}
