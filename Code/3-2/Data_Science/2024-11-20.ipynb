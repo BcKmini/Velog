{
 "cells": [
  {
   "cell_type": "markdown",
   "metadata": {},
   "source": [
    "## 그룹별 평균 - summaryBy"
   ]
  },
  {
   "cell_type": "markdown",
   "metadata": {},
   "source": [
    "## 이번시간은 dplyr부터 -> "
   ]
  },
  {
   "cell_type": "code",
   "execution_count": 15,
   "metadata": {
    "vscode": {
     "languageId": "r"
    }
   },
   "outputs": [
    {
     "data": {
      "text/html": [
       "<table class=\"dataframe\">\n",
       "<caption>A data.frame: 6 × 8</caption>\n",
       "<thead>\n",
       "\t<tr><th></th><th scope=col>시도</th><th scope=col>시군구</th><th scope=col>발생월</th><th scope=col>사고건수</th><th scope=col>사망자수</th><th scope=col>중상자수</th><th scope=col>경상자수</th><th scope=col>부상신고자수</th></tr>\n",
       "\t<tr><th></th><th scope=col>&lt;chr&gt;</th><th scope=col>&lt;chr&gt;</th><th scope=col>&lt;int&gt;</th><th scope=col>&lt;int&gt;</th><th scope=col>&lt;int&gt;</th><th scope=col>&lt;int&gt;</th><th scope=col>&lt;int&gt;</th><th scope=col>&lt;int&gt;</th></tr>\n",
       "</thead>\n",
       "<tbody>\n",
       "\t<tr><th scope=row>1</th><td>서울</td><td>종로구</td><td>1</td><td>77</td><td>2</td><td>15</td><td> 79</td><td>14</td></tr>\n",
       "\t<tr><th scope=row>2</th><td>서울</td><td>종로구</td><td>2</td><td>66</td><td>0</td><td>17</td><td> 59</td><td> 8</td></tr>\n",
       "\t<tr><th scope=row>3</th><td>서울</td><td>종로구</td><td>3</td><td>67</td><td>0</td><td>15</td><td> 80</td><td> 2</td></tr>\n",
       "\t<tr><th scope=row>4</th><td>서울</td><td>종로구</td><td>4</td><td>73</td><td>1</td><td>17</td><td> 67</td><td> 6</td></tr>\n",
       "\t<tr><th scope=row>5</th><td>서울</td><td>종로구</td><td>5</td><td>88</td><td>0</td><td>21</td><td>103</td><td>12</td></tr>\n",
       "\t<tr><th scope=row>6</th><td>서울</td><td>종로구</td><td>6</td><td>82</td><td>0</td><td>17</td><td> 78</td><td> 6</td></tr>\n",
       "</tbody>\n",
       "</table>\n"
      ],
      "text/latex": [
       "A data.frame: 6 × 8\n",
       "\\begin{tabular}{r|llllllll}\n",
       "  & 시도 & 시군구 & 발생월 & 사고건수 & 사망자수 & 중상자수 & 경상자수 & 부상신고자수\\\\\n",
       "  & <chr> & <chr> & <int> & <int> & <int> & <int> & <int> & <int>\\\\\n",
       "\\hline\n",
       "\t1 & 서울 & 종로구 & 1 & 77 & 2 & 15 &  79 & 14\\\\\n",
       "\t2 & 서울 & 종로구 & 2 & 66 & 0 & 17 &  59 &  8\\\\\n",
       "\t3 & 서울 & 종로구 & 3 & 67 & 0 & 15 &  80 &  2\\\\\n",
       "\t4 & 서울 & 종로구 & 4 & 73 & 1 & 17 &  67 &  6\\\\\n",
       "\t5 & 서울 & 종로구 & 5 & 88 & 0 & 21 & 103 & 12\\\\\n",
       "\t6 & 서울 & 종로구 & 6 & 82 & 0 & 17 &  78 &  6\\\\\n",
       "\\end{tabular}\n"
      ],
      "text/markdown": [
       "\n",
       "A data.frame: 6 × 8\n",
       "\n",
       "| <!--/--> | 시도 &lt;chr&gt; | 시군구 &lt;chr&gt; | 발생월 &lt;int&gt; | 사고건수 &lt;int&gt; | 사망자수 &lt;int&gt; | 중상자수 &lt;int&gt; | 경상자수 &lt;int&gt; | 부상신고자수 &lt;int&gt; |\n",
       "|---|---|---|---|---|---|---|---|---|\n",
       "| 1 | 서울 | 종로구 | 1 | 77 | 2 | 15 |  79 | 14 |\n",
       "| 2 | 서울 | 종로구 | 2 | 66 | 0 | 17 |  59 |  8 |\n",
       "| 3 | 서울 | 종로구 | 3 | 67 | 0 | 15 |  80 |  2 |\n",
       "| 4 | 서울 | 종로구 | 4 | 73 | 1 | 17 |  67 |  6 |\n",
       "| 5 | 서울 | 종로구 | 5 | 88 | 0 | 21 | 103 | 12 |\n",
       "| 6 | 서울 | 종로구 | 6 | 82 | 0 | 17 |  78 |  6 |\n",
       "\n"
      ],
      "text/plain": [
       "  시도 시군구 발생월 사고건수 사망자수 중상자수 경상자수 부상신고자수\n",
       "1 서울 종로구 1      77       2        15        79      14          \n",
       "2 서울 종로구 2      66       0        17        59       8          \n",
       "3 서울 종로구 3      67       0        15        80       2          \n",
       "4 서울 종로구 4      73       1        17        67       6          \n",
       "5 서울 종로구 5      88       0        21       103      12          \n",
       "6 서울 종로구 6      82       0        17        78       6          "
      ]
     },
     "metadata": {},
     "output_type": "display_data"
    }
   ],
   "source": [
    "data <- read.csv(\"../mydata/도로교통공단_시군구별 월별 교통사고 통계_20231231.csv\", fileEncoding = \"CP949\")\n",
    "head(data)"
   ]
  },
  {
   "cell_type": "code",
   "execution_count": 16,
   "metadata": {
    "vscode": {
     "languageId": "r"
    }
   },
   "outputs": [
    {
     "data": {
      "text/html": [
       "207"
      ],
      "text/latex": [
       "207"
      ],
      "text/markdown": [
       "207"
      ],
      "text/plain": [
       "[1] 207"
      ]
     },
     "metadata": {},
     "output_type": "display_data"
    }
   ],
   "source": [
    "length(unique(data$`시군구`))"
   ]
  },
  {
   "cell_type": "code",
   "execution_count": 17,
   "metadata": {
    "vscode": {
     "languageId": "r"
    }
   },
   "outputs": [],
   "source": [
    "library(dplyr)"
   ]
  },
  {
   "cell_type": "code",
   "execution_count": 18,
   "metadata": {
    "vscode": {
     "languageId": "r"
    }
   },
   "outputs": [
    {
     "data": {
      "text/html": [
       "<table class=\"dataframe\">\n",
       "<caption>A data.frame: 6 × 7</caption>\n",
       "<thead>\n",
       "\t<tr><th></th><th scope=col>시도</th><th scope=col>시군구</th><th scope=col>발생월</th><th scope=col>사고건수</th><th scope=col>사망자수</th><th scope=col>경상자수</th><th scope=col>부상신고자수</th></tr>\n",
       "\t<tr><th></th><th scope=col>&lt;chr&gt;</th><th scope=col>&lt;chr&gt;</th><th scope=col>&lt;int&gt;</th><th scope=col>&lt;int&gt;</th><th scope=col>&lt;int&gt;</th><th scope=col>&lt;int&gt;</th><th scope=col>&lt;int&gt;</th></tr>\n",
       "</thead>\n",
       "<tbody>\n",
       "\t<tr><th scope=row>1</th><td>서울</td><td>종로구</td><td>1</td><td>77</td><td>2</td><td> 79</td><td>14</td></tr>\n",
       "\t<tr><th scope=row>2</th><td>서울</td><td>종로구</td><td>2</td><td>66</td><td>0</td><td> 59</td><td> 8</td></tr>\n",
       "\t<tr><th scope=row>3</th><td>서울</td><td>종로구</td><td>3</td><td>67</td><td>0</td><td> 80</td><td> 2</td></tr>\n",
       "\t<tr><th scope=row>4</th><td>서울</td><td>종로구</td><td>4</td><td>73</td><td>1</td><td> 67</td><td> 6</td></tr>\n",
       "\t<tr><th scope=row>5</th><td>서울</td><td>종로구</td><td>5</td><td>88</td><td>0</td><td>103</td><td>12</td></tr>\n",
       "\t<tr><th scope=row>6</th><td>서울</td><td>종로구</td><td>6</td><td>82</td><td>0</td><td> 78</td><td> 6</td></tr>\n",
       "</tbody>\n",
       "</table>\n"
      ],
      "text/latex": [
       "A data.frame: 6 × 7\n",
       "\\begin{tabular}{r|lllllll}\n",
       "  & 시도 & 시군구 & 발생월 & 사고건수 & 사망자수 & 경상자수 & 부상신고자수\\\\\n",
       "  & <chr> & <chr> & <int> & <int> & <int> & <int> & <int>\\\\\n",
       "\\hline\n",
       "\t1 & 서울 & 종로구 & 1 & 77 & 2 &  79 & 14\\\\\n",
       "\t2 & 서울 & 종로구 & 2 & 66 & 0 &  59 &  8\\\\\n",
       "\t3 & 서울 & 종로구 & 3 & 67 & 0 &  80 &  2\\\\\n",
       "\t4 & 서울 & 종로구 & 4 & 73 & 1 &  67 &  6\\\\\n",
       "\t5 & 서울 & 종로구 & 5 & 88 & 0 & 103 & 12\\\\\n",
       "\t6 & 서울 & 종로구 & 6 & 82 & 0 &  78 &  6\\\\\n",
       "\\end{tabular}\n"
      ],
      "text/markdown": [
       "\n",
       "A data.frame: 6 × 7\n",
       "\n",
       "| <!--/--> | 시도 &lt;chr&gt; | 시군구 &lt;chr&gt; | 발생월 &lt;int&gt; | 사고건수 &lt;int&gt; | 사망자수 &lt;int&gt; | 경상자수 &lt;int&gt; | 부상신고자수 &lt;int&gt; |\n",
       "|---|---|---|---|---|---|---|---|\n",
       "| 1 | 서울 | 종로구 | 1 | 77 | 2 |  79 | 14 |\n",
       "| 2 | 서울 | 종로구 | 2 | 66 | 0 |  59 |  8 |\n",
       "| 3 | 서울 | 종로구 | 3 | 67 | 0 |  80 |  2 |\n",
       "| 4 | 서울 | 종로구 | 4 | 73 | 1 |  67 |  6 |\n",
       "| 5 | 서울 | 종로구 | 5 | 88 | 0 | 103 | 12 |\n",
       "| 6 | 서울 | 종로구 | 6 | 82 | 0 |  78 |  6 |\n",
       "\n"
      ],
      "text/plain": [
       "  시도 시군구 발생월 사고건수 사망자수 경상자수 부상신고자수\n",
       "1 서울 종로구 1      77       2         79      14          \n",
       "2 서울 종로구 2      66       0         59       8          \n",
       "3 서울 종로구 3      67       0         80       2          \n",
       "4 서울 종로구 4      73       1         67       6          \n",
       "5 서울 종로구 5      88       0        103      12          \n",
       "6 서울 종로구 6      82       0         78       6          "
      ]
     },
     "metadata": {},
     "output_type": "display_data"
    }
   ],
   "source": [
    "data2 <- select(data, 시도, 시군구, 발생월, 사고건수,사망자수, 경상자수, 부상신고자수)\n",
    "head(data2)"
   ]
  },
  {
   "cell_type": "code",
   "execution_count": 19,
   "metadata": {
    "vscode": {
     "languageId": "r"
    }
   },
   "outputs": [
    {
     "data": {
      "text/html": [
       "<table class=\"dataframe\">\n",
       "<caption>A data.frame: 6 × 2</caption>\n",
       "<thead>\n",
       "\t<tr><th></th><th scope=col>시도</th><th scope=col>시군구</th></tr>\n",
       "\t<tr><th></th><th scope=col>&lt;chr&gt;</th><th scope=col>&lt;chr&gt;</th></tr>\n",
       "</thead>\n",
       "<tbody>\n",
       "\t<tr><th scope=row>1</th><td>서울</td><td>종로구</td></tr>\n",
       "\t<tr><th scope=row>2</th><td>서울</td><td>종로구</td></tr>\n",
       "\t<tr><th scope=row>3</th><td>서울</td><td>종로구</td></tr>\n",
       "\t<tr><th scope=row>4</th><td>서울</td><td>종로구</td></tr>\n",
       "\t<tr><th scope=row>5</th><td>서울</td><td>종로구</td></tr>\n",
       "\t<tr><th scope=row>6</th><td>서울</td><td>종로구</td></tr>\n",
       "</tbody>\n",
       "</table>\n"
      ],
      "text/latex": [
       "A data.frame: 6 × 2\n",
       "\\begin{tabular}{r|ll}\n",
       "  & 시도 & 시군구\\\\\n",
       "  & <chr> & <chr>\\\\\n",
       "\\hline\n",
       "\t1 & 서울 & 종로구\\\\\n",
       "\t2 & 서울 & 종로구\\\\\n",
       "\t3 & 서울 & 종로구\\\\\n",
       "\t4 & 서울 & 종로구\\\\\n",
       "\t5 & 서울 & 종로구\\\\\n",
       "\t6 & 서울 & 종로구\\\\\n",
       "\\end{tabular}\n"
      ],
      "text/markdown": [
       "\n",
       "A data.frame: 6 × 2\n",
       "\n",
       "| <!--/--> | 시도 &lt;chr&gt; | 시군구 &lt;chr&gt; |\n",
       "|---|---|---|\n",
       "| 1 | 서울 | 종로구 |\n",
       "| 2 | 서울 | 종로구 |\n",
       "| 3 | 서울 | 종로구 |\n",
       "| 4 | 서울 | 종로구 |\n",
       "| 5 | 서울 | 종로구 |\n",
       "| 6 | 서울 | 종로구 |\n",
       "\n"
      ],
      "text/plain": [
       "  시도 시군구\n",
       "1 서울 종로구\n",
       "2 서울 종로구\n",
       "3 서울 종로구\n",
       "4 서울 종로구\n",
       "5 서울 종로구\n",
       "6 서울 종로구"
      ]
     },
     "metadata": {},
     "output_type": "display_data"
    }
   ],
   "source": [
    "data3 <- select(data, 1:2)\n",
    "head(data3) "
   ]
  },
  {
   "cell_type": "code",
   "execution_count": 20,
   "metadata": {
    "vscode": {
     "languageId": "r"
    }
   },
   "outputs": [
    {
     "data": {
      "text/html": [
       "<table class=\"dataframe\">\n",
       "<caption>A data.frame: 6 × 3</caption>\n",
       "<thead>\n",
       "\t<tr><th></th><th scope=col>시도</th><th scope=col>시군구</th><th scope=col>발생월</th></tr>\n",
       "\t<tr><th></th><th scope=col>&lt;chr&gt;</th><th scope=col>&lt;chr&gt;</th><th scope=col>&lt;int&gt;</th></tr>\n",
       "</thead>\n",
       "<tbody>\n",
       "\t<tr><th scope=row>1</th><td>서울</td><td>종로구</td><td>1</td></tr>\n",
       "\t<tr><th scope=row>2</th><td>서울</td><td>종로구</td><td>2</td></tr>\n",
       "\t<tr><th scope=row>3</th><td>서울</td><td>종로구</td><td>3</td></tr>\n",
       "\t<tr><th scope=row>4</th><td>서울</td><td>종로구</td><td>4</td></tr>\n",
       "\t<tr><th scope=row>5</th><td>서울</td><td>종로구</td><td>5</td></tr>\n",
       "\t<tr><th scope=row>6</th><td>서울</td><td>종로구</td><td>6</td></tr>\n",
       "</tbody>\n",
       "</table>\n"
      ],
      "text/latex": [
       "A data.frame: 6 × 3\n",
       "\\begin{tabular}{r|lll}\n",
       "  & 시도 & 시군구 & 발생월\\\\\n",
       "  & <chr> & <chr> & <int>\\\\\n",
       "\\hline\n",
       "\t1 & 서울 & 종로구 & 1\\\\\n",
       "\t2 & 서울 & 종로구 & 2\\\\\n",
       "\t3 & 서울 & 종로구 & 3\\\\\n",
       "\t4 & 서울 & 종로구 & 4\\\\\n",
       "\t5 & 서울 & 종로구 & 5\\\\\n",
       "\t6 & 서울 & 종로구 & 6\\\\\n",
       "\\end{tabular}\n"
      ],
      "text/markdown": [
       "\n",
       "A data.frame: 6 × 3\n",
       "\n",
       "| <!--/--> | 시도 &lt;chr&gt; | 시군구 &lt;chr&gt; | 발생월 &lt;int&gt; |\n",
       "|---|---|---|---|\n",
       "| 1 | 서울 | 종로구 | 1 |\n",
       "| 2 | 서울 | 종로구 | 2 |\n",
       "| 3 | 서울 | 종로구 | 3 |\n",
       "| 4 | 서울 | 종로구 | 4 |\n",
       "| 5 | 서울 | 종로구 | 5 |\n",
       "| 6 | 서울 | 종로구 | 6 |\n",
       "\n"
      ],
      "text/plain": [
       "  시도 시군구 발생월\n",
       "1 서울 종로구 1     \n",
       "2 서울 종로구 2     \n",
       "3 서울 종로구 3     \n",
       "4 서울 종로구 4     \n",
       "5 서울 종로구 5     \n",
       "6 서울 종로구 6     "
      ]
     },
     "metadata": {},
     "output_type": "display_data"
    }
   ],
   "source": [
    "# '-' 빼고 데이터 출력 \n",
    "head(select(data, 1:3, -c(중상자수,사망자수)))"
   ]
  },
  {
   "cell_type": "code",
   "execution_count": 21,
   "metadata": {
    "vscode": {
     "languageId": "r"
    }
   },
   "outputs": [
    {
     "data": {
      "text/html": [
       "<table class=\"dataframe\">\n",
       "<caption>A data.frame: 6 × 8</caption>\n",
       "<thead>\n",
       "\t<tr><th></th><th scope=col>시도</th><th scope=col>시군구</th><th scope=col>발생월</th><th scope=col>사고건수</th><th scope=col>사망자수</th><th scope=col>중상자수</th><th scope=col>경상자수</th><th scope=col>부상신고자수</th></tr>\n",
       "\t<tr><th></th><th scope=col>&lt;chr&gt;</th><th scope=col>&lt;chr&gt;</th><th scope=col>&lt;int&gt;</th><th scope=col>&lt;int&gt;</th><th scope=col>&lt;int&gt;</th><th scope=col>&lt;int&gt;</th><th scope=col>&lt;int&gt;</th><th scope=col>&lt;int&gt;</th></tr>\n",
       "</thead>\n",
       "<tbody>\n",
       "\t<tr><th scope=row>1</th><td>서울</td><td>종로구</td><td>1</td><td>77</td><td>2</td><td>15</td><td> 79</td><td>14</td></tr>\n",
       "\t<tr><th scope=row>2</th><td>서울</td><td>종로구</td><td>2</td><td>66</td><td>0</td><td>17</td><td> 59</td><td> 8</td></tr>\n",
       "\t<tr><th scope=row>3</th><td>서울</td><td>종로구</td><td>3</td><td>67</td><td>0</td><td>15</td><td> 80</td><td> 2</td></tr>\n",
       "\t<tr><th scope=row>4</th><td>서울</td><td>종로구</td><td>4</td><td>73</td><td>1</td><td>17</td><td> 67</td><td> 6</td></tr>\n",
       "\t<tr><th scope=row>5</th><td>서울</td><td>종로구</td><td>5</td><td>88</td><td>0</td><td>21</td><td>103</td><td>12</td></tr>\n",
       "\t<tr><th scope=row>6</th><td>서울</td><td>종로구</td><td>6</td><td>82</td><td>0</td><td>17</td><td> 78</td><td> 6</td></tr>\n",
       "</tbody>\n",
       "</table>\n"
      ],
      "text/latex": [
       "A data.frame: 6 × 8\n",
       "\\begin{tabular}{r|llllllll}\n",
       "  & 시도 & 시군구 & 발생월 & 사고건수 & 사망자수 & 중상자수 & 경상자수 & 부상신고자수\\\\\n",
       "  & <chr> & <chr> & <int> & <int> & <int> & <int> & <int> & <int>\\\\\n",
       "\\hline\n",
       "\t1 & 서울 & 종로구 & 1 & 77 & 2 & 15 &  79 & 14\\\\\n",
       "\t2 & 서울 & 종로구 & 2 & 66 & 0 & 17 &  59 &  8\\\\\n",
       "\t3 & 서울 & 종로구 & 3 & 67 & 0 & 15 &  80 &  2\\\\\n",
       "\t4 & 서울 & 종로구 & 4 & 73 & 1 & 17 &  67 &  6\\\\\n",
       "\t5 & 서울 & 종로구 & 5 & 88 & 0 & 21 & 103 & 12\\\\\n",
       "\t6 & 서울 & 종로구 & 6 & 82 & 0 & 17 &  78 &  6\\\\\n",
       "\\end{tabular}\n"
      ],
      "text/markdown": [
       "\n",
       "A data.frame: 6 × 8\n",
       "\n",
       "| <!--/--> | 시도 &lt;chr&gt; | 시군구 &lt;chr&gt; | 발생월 &lt;int&gt; | 사고건수 &lt;int&gt; | 사망자수 &lt;int&gt; | 중상자수 &lt;int&gt; | 경상자수 &lt;int&gt; | 부상신고자수 &lt;int&gt; |\n",
       "|---|---|---|---|---|---|---|---|---|\n",
       "| 1 | 서울 | 종로구 | 1 | 77 | 2 | 15 |  79 | 14 |\n",
       "| 2 | 서울 | 종로구 | 2 | 66 | 0 | 17 |  59 |  8 |\n",
       "| 3 | 서울 | 종로구 | 3 | 67 | 0 | 15 |  80 |  2 |\n",
       "| 4 | 서울 | 종로구 | 4 | 73 | 1 | 17 |  67 |  6 |\n",
       "| 5 | 서울 | 종로구 | 5 | 88 | 0 | 21 | 103 | 12 |\n",
       "| 6 | 서울 | 종로구 | 6 | 82 | 0 | 17 |  78 |  6 |\n",
       "\n"
      ],
      "text/plain": [
       "  시도 시군구 발생월 사고건수 사망자수 중상자수 경상자수 부상신고자수\n",
       "1 서울 종로구 1      77       2        15        79      14          \n",
       "2 서울 종로구 2      66       0        17        59       8          \n",
       "3 서울 종로구 3      67       0        15        80       2          \n",
       "4 서울 종로구 4      73       1        17        67       6          \n",
       "5 서울 종로구 5      88       0        21       103      12          \n",
       "6 서울 종로구 6      82       0        17        78       6          "
      ]
     },
     "metadata": {},
     "output_type": "display_data"
    }
   ],
   "source": [
    "head(data)"
   ]
  },
  {
   "cell_type": "code",
   "execution_count": 22,
   "metadata": {
    "vscode": {
     "languageId": "r"
    }
   },
   "outputs": [
    {
     "data": {
      "text/html": [
       "<table class=\"dataframe\">\n",
       "<caption>A data.frame: 6 × 9</caption>\n",
       "<thead>\n",
       "\t<tr><th></th><th scope=col>시도</th><th scope=col>시군구</th><th scope=col>발생월</th><th scope=col>사고건수</th><th scope=col>사망자수</th><th scope=col>중상자수</th><th scope=col>경상자수</th><th scope=col>부상신고자수</th><th scope=col>부상자수</th></tr>\n",
       "\t<tr><th></th><th scope=col>&lt;chr&gt;</th><th scope=col>&lt;chr&gt;</th><th scope=col>&lt;int&gt;</th><th scope=col>&lt;int&gt;</th><th scope=col>&lt;int&gt;</th><th scope=col>&lt;int&gt;</th><th scope=col>&lt;int&gt;</th><th scope=col>&lt;int&gt;</th><th scope=col>&lt;int&gt;</th></tr>\n",
       "</thead>\n",
       "<tbody>\n",
       "\t<tr><th scope=row>1</th><td>서울</td><td>종로구</td><td>1</td><td>77</td><td>2</td><td>15</td><td> 79</td><td>14</td><td>108</td></tr>\n",
       "\t<tr><th scope=row>2</th><td>서울</td><td>종로구</td><td>2</td><td>66</td><td>0</td><td>17</td><td> 59</td><td> 8</td><td> 84</td></tr>\n",
       "\t<tr><th scope=row>3</th><td>서울</td><td>종로구</td><td>3</td><td>67</td><td>0</td><td>15</td><td> 80</td><td> 2</td><td> 97</td></tr>\n",
       "\t<tr><th scope=row>4</th><td>서울</td><td>종로구</td><td>4</td><td>73</td><td>1</td><td>17</td><td> 67</td><td> 6</td><td> 90</td></tr>\n",
       "\t<tr><th scope=row>5</th><td>서울</td><td>종로구</td><td>5</td><td>88</td><td>0</td><td>21</td><td>103</td><td>12</td><td>136</td></tr>\n",
       "\t<tr><th scope=row>6</th><td>서울</td><td>종로구</td><td>6</td><td>82</td><td>0</td><td>17</td><td> 78</td><td> 6</td><td>101</td></tr>\n",
       "</tbody>\n",
       "</table>\n"
      ],
      "text/latex": [
       "A data.frame: 6 × 9\n",
       "\\begin{tabular}{r|lllllllll}\n",
       "  & 시도 & 시군구 & 발생월 & 사고건수 & 사망자수 & 중상자수 & 경상자수 & 부상신고자수 & 부상자수\\\\\n",
       "  & <chr> & <chr> & <int> & <int> & <int> & <int> & <int> & <int> & <int>\\\\\n",
       "\\hline\n",
       "\t1 & 서울 & 종로구 & 1 & 77 & 2 & 15 &  79 & 14 & 108\\\\\n",
       "\t2 & 서울 & 종로구 & 2 & 66 & 0 & 17 &  59 &  8 &  84\\\\\n",
       "\t3 & 서울 & 종로구 & 3 & 67 & 0 & 15 &  80 &  2 &  97\\\\\n",
       "\t4 & 서울 & 종로구 & 4 & 73 & 1 & 17 &  67 &  6 &  90\\\\\n",
       "\t5 & 서울 & 종로구 & 5 & 88 & 0 & 21 & 103 & 12 & 136\\\\\n",
       "\t6 & 서울 & 종로구 & 6 & 82 & 0 & 17 &  78 &  6 & 101\\\\\n",
       "\\end{tabular}\n"
      ],
      "text/markdown": [
       "\n",
       "A data.frame: 6 × 9\n",
       "\n",
       "| <!--/--> | 시도 &lt;chr&gt; | 시군구 &lt;chr&gt; | 발생월 &lt;int&gt; | 사고건수 &lt;int&gt; | 사망자수 &lt;int&gt; | 중상자수 &lt;int&gt; | 경상자수 &lt;int&gt; | 부상신고자수 &lt;int&gt; | 부상자수 &lt;int&gt; |\n",
       "|---|---|---|---|---|---|---|---|---|---|\n",
       "| 1 | 서울 | 종로구 | 1 | 77 | 2 | 15 |  79 | 14 | 108 |\n",
       "| 2 | 서울 | 종로구 | 2 | 66 | 0 | 17 |  59 |  8 |  84 |\n",
       "| 3 | 서울 | 종로구 | 3 | 67 | 0 | 15 |  80 |  2 |  97 |\n",
       "| 4 | 서울 | 종로구 | 4 | 73 | 1 | 17 |  67 |  6 |  90 |\n",
       "| 5 | 서울 | 종로구 | 5 | 88 | 0 | 21 | 103 | 12 | 136 |\n",
       "| 6 | 서울 | 종로구 | 6 | 82 | 0 | 17 |  78 |  6 | 101 |\n",
       "\n"
      ],
      "text/plain": [
       "  시도 시군구 발생월 사고건수 사망자수 중상자수 경상자수 부상신고자수 부상자수\n",
       "1 서울 종로구 1      77       2        15        79      14           108     \n",
       "2 서울 종로구 2      66       0        17        59       8            84     \n",
       "3 서울 종로구 3      67       0        15        80       2            97     \n",
       "4 서울 종로구 4      73       1        17        67       6            90     \n",
       "5 서울 종로구 5      88       0        21       103      12           136     \n",
       "6 서울 종로구 6      82       0        17        78       6           101     "
      ]
     },
     "metadata": {},
     "output_type": "display_data"
    }
   ],
   "source": [
    "data$부상자수 = data$`중상자수` + data$`경상자수` + data$`부상신고자수`\n",
    "head(data)"
   ]
  },
  {
   "cell_type": "code",
   "execution_count": 23,
   "metadata": {
    "vscode": {
     "languageId": "r"
    }
   },
   "outputs": [
    {
     "data": {
      "text/html": [
       "<table class=\"dataframe\">\n",
       "<caption>A data.frame: 6 × 10</caption>\n",
       "<thead>\n",
       "\t<tr><th></th><th scope=col>시도</th><th scope=col>시군구</th><th scope=col>발생월</th><th scope=col>사고건수</th><th scope=col>사망자수</th><th scope=col>중상자수</th><th scope=col>경상자수</th><th scope=col>부상신고자수</th><th scope=col>부상자수</th><th scope=col>부상자수 + 경상자수 + 중상자수 + 부상신고자수</th></tr>\n",
       "\t<tr><th></th><th scope=col>&lt;chr&gt;</th><th scope=col>&lt;chr&gt;</th><th scope=col>&lt;int&gt;</th><th scope=col>&lt;int&gt;</th><th scope=col>&lt;int&gt;</th><th scope=col>&lt;int&gt;</th><th scope=col>&lt;int&gt;</th><th scope=col>&lt;int&gt;</th><th scope=col>&lt;int&gt;</th><th scope=col>&lt;int&gt;</th></tr>\n",
       "</thead>\n",
       "<tbody>\n",
       "\t<tr><th scope=row>1</th><td>서울</td><td>종로구</td><td>1</td><td>77</td><td>2</td><td>15</td><td> 79</td><td>14</td><td>108</td><td>216</td></tr>\n",
       "\t<tr><th scope=row>2</th><td>서울</td><td>종로구</td><td>2</td><td>66</td><td>0</td><td>17</td><td> 59</td><td> 8</td><td> 84</td><td>168</td></tr>\n",
       "\t<tr><th scope=row>3</th><td>서울</td><td>종로구</td><td>3</td><td>67</td><td>0</td><td>15</td><td> 80</td><td> 2</td><td> 97</td><td>194</td></tr>\n",
       "\t<tr><th scope=row>4</th><td>서울</td><td>종로구</td><td>4</td><td>73</td><td>1</td><td>17</td><td> 67</td><td> 6</td><td> 90</td><td>180</td></tr>\n",
       "\t<tr><th scope=row>5</th><td>서울</td><td>종로구</td><td>5</td><td>88</td><td>0</td><td>21</td><td>103</td><td>12</td><td>136</td><td>272</td></tr>\n",
       "\t<tr><th scope=row>6</th><td>서울</td><td>종로구</td><td>6</td><td>82</td><td>0</td><td>17</td><td> 78</td><td> 6</td><td>101</td><td>202</td></tr>\n",
       "</tbody>\n",
       "</table>\n"
      ],
      "text/latex": [
       "A data.frame: 6 × 10\n",
       "\\begin{tabular}{r|llllllllll}\n",
       "  & 시도 & 시군구 & 발생월 & 사고건수 & 사망자수 & 중상자수 & 경상자수 & 부상신고자수 & 부상자수 & 부상자수 + 경상자수 + 중상자수 + 부상신고자수\\\\\n",
       "  & <chr> & <chr> & <int> & <int> & <int> & <int> & <int> & <int> & <int> & <int>\\\\\n",
       "\\hline\n",
       "\t1 & 서울 & 종로구 & 1 & 77 & 2 & 15 &  79 & 14 & 108 & 216\\\\\n",
       "\t2 & 서울 & 종로구 & 2 & 66 & 0 & 17 &  59 &  8 &  84 & 168\\\\\n",
       "\t3 & 서울 & 종로구 & 3 & 67 & 0 & 15 &  80 &  2 &  97 & 194\\\\\n",
       "\t4 & 서울 & 종로구 & 4 & 73 & 1 & 17 &  67 &  6 &  90 & 180\\\\\n",
       "\t5 & 서울 & 종로구 & 5 & 88 & 0 & 21 & 103 & 12 & 136 & 272\\\\\n",
       "\t6 & 서울 & 종로구 & 6 & 82 & 0 & 17 &  78 &  6 & 101 & 202\\\\\n",
       "\\end{tabular}\n"
      ],
      "text/markdown": [
       "\n",
       "A data.frame: 6 × 10\n",
       "\n",
       "| <!--/--> | 시도 &lt;chr&gt; | 시군구 &lt;chr&gt; | 발생월 &lt;int&gt; | 사고건수 &lt;int&gt; | 사망자수 &lt;int&gt; | 중상자수 &lt;int&gt; | 경상자수 &lt;int&gt; | 부상신고자수 &lt;int&gt; | 부상자수 &lt;int&gt; | 부상자수 + 경상자수 + 중상자수 + 부상신고자수 &lt;int&gt; |\n",
       "|---|---|---|---|---|---|---|---|---|---|---|\n",
       "| 1 | 서울 | 종로구 | 1 | 77 | 2 | 15 |  79 | 14 | 108 | 216 |\n",
       "| 2 | 서울 | 종로구 | 2 | 66 | 0 | 17 |  59 |  8 |  84 | 168 |\n",
       "| 3 | 서울 | 종로구 | 3 | 67 | 0 | 15 |  80 |  2 |  97 | 194 |\n",
       "| 4 | 서울 | 종로구 | 4 | 73 | 1 | 17 |  67 |  6 |  90 | 180 |\n",
       "| 5 | 서울 | 종로구 | 5 | 88 | 0 | 21 | 103 | 12 | 136 | 272 |\n",
       "| 6 | 서울 | 종로구 | 6 | 82 | 0 | 17 |  78 |  6 | 101 | 202 |\n",
       "\n"
      ],
      "text/plain": [
       "  시도 시군구 발생월 사고건수 사망자수 중상자수 경상자수 부상신고자수 부상자수\n",
       "1 서울 종로구 1      77       2        15        79      14           108     \n",
       "2 서울 종로구 2      66       0        17        59       8            84     \n",
       "3 서울 종로구 3      67       0        15        80       2            97     \n",
       "4 서울 종로구 4      73       1        17        67       6            90     \n",
       "5 서울 종로구 5      88       0        21       103      12           136     \n",
       "6 서울 종로구 6      82       0        17        78       6           101     \n",
       "  부상자수 + 경상자수 + 중상자수 + 부상신고자수\n",
       "1 216                                          \n",
       "2 168                                          \n",
       "3 194                                          \n",
       "4 180                                          \n",
       "5 272                                          \n",
       "6 202                                          "
      ]
     },
     "metadata": {},
     "output_type": "display_data"
    }
   ],
   "source": [
    "data2 <- mutate(data, 부상자수 + 경상자수 + 중상자수 + 부상신고자수)\n",
    "head(data2)"
   ]
  },
  {
   "cell_type": "code",
   "execution_count": 24,
   "metadata": {
    "vscode": {
     "languageId": "r"
    }
   },
   "outputs": [
    {
     "data": {
      "text/html": [
       "<table class=\"dataframe\">\n",
       "<caption>A data.frame: 6 × 9</caption>\n",
       "<thead>\n",
       "\t<tr><th></th><th scope=col>시도</th><th scope=col>시군구</th><th scope=col>발생월</th><th scope=col>사고건수</th><th scope=col>사망자수</th><th scope=col>중상자수</th><th scope=col>경상자수</th><th scope=col>부상신고자수</th><th scope=col>부상자수</th></tr>\n",
       "\t<tr><th></th><th scope=col>&lt;chr&gt;</th><th scope=col>&lt;chr&gt;</th><th scope=col>&lt;int&gt;</th><th scope=col>&lt;int&gt;</th><th scope=col>&lt;int&gt;</th><th scope=col>&lt;int&gt;</th><th scope=col>&lt;int&gt;</th><th scope=col>&lt;int&gt;</th><th scope=col>&lt;int&gt;</th></tr>\n",
       "</thead>\n",
       "<tbody>\n",
       "\t<tr><th scope=row>500</th><td>경기</td><td>수원시</td><td> 8</td><td>423</td><td>3</td><td>113</td><td>461</td><td>35</td><td>609</td></tr>\n",
       "\t<tr><th scope=row>502</th><td>경기</td><td>수원시</td><td>10</td><td>422</td><td>1</td><td> 97</td><td>458</td><td>37</td><td>592</td></tr>\n",
       "\t<tr><th scope=row>1089</th><td>충북</td><td>청주시</td><td> 9</td><td>415</td><td>7</td><td>112</td><td>515</td><td>16</td><td>643</td></tr>\n",
       "\t<tr><th scope=row>1085</th><td>충북</td><td>청주시</td><td> 5</td><td>414</td><td>1</td><td>135</td><td>484</td><td>12</td><td>631</td></tr>\n",
       "\t<tr><th scope=row>497</th><td>경기</td><td>수원시</td><td> 5</td><td>405</td><td>3</td><td> 99</td><td>458</td><td>27</td><td>584</td></tr>\n",
       "\t<tr><th scope=row>495</th><td>경기</td><td>수원시</td><td> 3</td><td>405</td><td>1</td><td> 80</td><td>445</td><td>32</td><td>557</td></tr>\n",
       "</tbody>\n",
       "</table>\n"
      ],
      "text/latex": [
       "A data.frame: 6 × 9\n",
       "\\begin{tabular}{r|lllllllll}\n",
       "  & 시도 & 시군구 & 발생월 & 사고건수 & 사망자수 & 중상자수 & 경상자수 & 부상신고자수 & 부상자수\\\\\n",
       "  & <chr> & <chr> & <int> & <int> & <int> & <int> & <int> & <int> & <int>\\\\\n",
       "\\hline\n",
       "\t500 & 경기 & 수원시 &  8 & 423 & 3 & 113 & 461 & 35 & 609\\\\\n",
       "\t502 & 경기 & 수원시 & 10 & 422 & 1 &  97 & 458 & 37 & 592\\\\\n",
       "\t1089 & 충북 & 청주시 &  9 & 415 & 7 & 112 & 515 & 16 & 643\\\\\n",
       "\t1085 & 충북 & 청주시 &  5 & 414 & 1 & 135 & 484 & 12 & 631\\\\\n",
       "\t497 & 경기 & 수원시 &  5 & 405 & 3 &  99 & 458 & 27 & 584\\\\\n",
       "\t495 & 경기 & 수원시 &  3 & 405 & 1 &  80 & 445 & 32 & 557\\\\\n",
       "\\end{tabular}\n"
      ],
      "text/markdown": [
       "\n",
       "A data.frame: 6 × 9\n",
       "\n",
       "| <!--/--> | 시도 &lt;chr&gt; | 시군구 &lt;chr&gt; | 발생월 &lt;int&gt; | 사고건수 &lt;int&gt; | 사망자수 &lt;int&gt; | 중상자수 &lt;int&gt; | 경상자수 &lt;int&gt; | 부상신고자수 &lt;int&gt; | 부상자수 &lt;int&gt; |\n",
       "|---|---|---|---|---|---|---|---|---|---|\n",
       "| 500 | 경기 | 수원시 |  8 | 423 | 3 | 113 | 461 | 35 | 609 |\n",
       "| 502 | 경기 | 수원시 | 10 | 422 | 1 |  97 | 458 | 37 | 592 |\n",
       "| 1089 | 충북 | 청주시 |  9 | 415 | 7 | 112 | 515 | 16 | 643 |\n",
       "| 1085 | 충북 | 청주시 |  5 | 414 | 1 | 135 | 484 | 12 | 631 |\n",
       "| 497 | 경기 | 수원시 |  5 | 405 | 3 |  99 | 458 | 27 | 584 |\n",
       "| 495 | 경기 | 수원시 |  3 | 405 | 1 |  80 | 445 | 32 | 557 |\n",
       "\n"
      ],
      "text/plain": [
       "     시도 시군구 발생월 사고건수 사망자수 중상자수 경상자수 부상신고자수\n",
       "500  경기 수원시  8     423      3        113      461      35          \n",
       "502  경기 수원시 10     422      1         97      458      37          \n",
       "1089 충북 청주시  9     415      7        112      515      16          \n",
       "1085 충북 청주시  5     414      1        135      484      12          \n",
       "497  경기 수원시  5     405      3         99      458      27          \n",
       "495  경기 수원시  3     405      1         80      445      32          \n",
       "     부상자수\n",
       "500  609     \n",
       "502  592     \n",
       "1089 643     \n",
       "1085 631     \n",
       "497  584     \n",
       "495  557     "
      ]
     },
     "metadata": {},
     "output_type": "display_data"
    }
   ],
   "source": [
    "head(data[order(-data$`사고건수`, -data$`경상자수`), ])"
   ]
  },
  {
   "cell_type": "code",
   "execution_count": 25,
   "metadata": {
    "vscode": {
     "languageId": "r"
    }
   },
   "outputs": [
    {
     "data": {
      "text/html": [
       "<table class=\"dataframe\">\n",
       "<caption>A data.frame: 6 × 9</caption>\n",
       "<thead>\n",
       "\t<tr><th></th><th scope=col>시도</th><th scope=col>시군구</th><th scope=col>발생월</th><th scope=col>사고건수</th><th scope=col>사망자수</th><th scope=col>중상자수</th><th scope=col>경상자수</th><th scope=col>부상신고자수</th><th scope=col>부상자수</th></tr>\n",
       "\t<tr><th></th><th scope=col>&lt;chr&gt;</th><th scope=col>&lt;chr&gt;</th><th scope=col>&lt;int&gt;</th><th scope=col>&lt;int&gt;</th><th scope=col>&lt;int&gt;</th><th scope=col>&lt;int&gt;</th><th scope=col>&lt;int&gt;</th><th scope=col>&lt;int&gt;</th><th scope=col>&lt;int&gt;</th></tr>\n",
       "</thead>\n",
       "<tbody>\n",
       "\t<tr><th scope=row>1</th><td>경기</td><td>수원시</td><td> 8</td><td>423</td><td>3</td><td>113</td><td>461</td><td>35</td><td>609</td></tr>\n",
       "\t<tr><th scope=row>2</th><td>경기</td><td>수원시</td><td>10</td><td>422</td><td>1</td><td> 97</td><td>458</td><td>37</td><td>592</td></tr>\n",
       "\t<tr><th scope=row>3</th><td>충북</td><td>청주시</td><td> 9</td><td>415</td><td>7</td><td>112</td><td>515</td><td>16</td><td>643</td></tr>\n",
       "\t<tr><th scope=row>4</th><td>충북</td><td>청주시</td><td> 5</td><td>414</td><td>1</td><td>135</td><td>484</td><td>12</td><td>631</td></tr>\n",
       "\t<tr><th scope=row>5</th><td>경기</td><td>수원시</td><td> 5</td><td>405</td><td>3</td><td> 99</td><td>458</td><td>27</td><td>584</td></tr>\n",
       "\t<tr><th scope=row>6</th><td>경기</td><td>수원시</td><td> 3</td><td>405</td><td>1</td><td> 80</td><td>445</td><td>32</td><td>557</td></tr>\n",
       "</tbody>\n",
       "</table>\n"
      ],
      "text/latex": [
       "A data.frame: 6 × 9\n",
       "\\begin{tabular}{r|lllllllll}\n",
       "  & 시도 & 시군구 & 발생월 & 사고건수 & 사망자수 & 중상자수 & 경상자수 & 부상신고자수 & 부상자수\\\\\n",
       "  & <chr> & <chr> & <int> & <int> & <int> & <int> & <int> & <int> & <int>\\\\\n",
       "\\hline\n",
       "\t1 & 경기 & 수원시 &  8 & 423 & 3 & 113 & 461 & 35 & 609\\\\\n",
       "\t2 & 경기 & 수원시 & 10 & 422 & 1 &  97 & 458 & 37 & 592\\\\\n",
       "\t3 & 충북 & 청주시 &  9 & 415 & 7 & 112 & 515 & 16 & 643\\\\\n",
       "\t4 & 충북 & 청주시 &  5 & 414 & 1 & 135 & 484 & 12 & 631\\\\\n",
       "\t5 & 경기 & 수원시 &  5 & 405 & 3 &  99 & 458 & 27 & 584\\\\\n",
       "\t6 & 경기 & 수원시 &  3 & 405 & 1 &  80 & 445 & 32 & 557\\\\\n",
       "\\end{tabular}\n"
      ],
      "text/markdown": [
       "\n",
       "A data.frame: 6 × 9\n",
       "\n",
       "| <!--/--> | 시도 &lt;chr&gt; | 시군구 &lt;chr&gt; | 발생월 &lt;int&gt; | 사고건수 &lt;int&gt; | 사망자수 &lt;int&gt; | 중상자수 &lt;int&gt; | 경상자수 &lt;int&gt; | 부상신고자수 &lt;int&gt; | 부상자수 &lt;int&gt; |\n",
       "|---|---|---|---|---|---|---|---|---|---|\n",
       "| 1 | 경기 | 수원시 |  8 | 423 | 3 | 113 | 461 | 35 | 609 |\n",
       "| 2 | 경기 | 수원시 | 10 | 422 | 1 |  97 | 458 | 37 | 592 |\n",
       "| 3 | 충북 | 청주시 |  9 | 415 | 7 | 112 | 515 | 16 | 643 |\n",
       "| 4 | 충북 | 청주시 |  5 | 414 | 1 | 135 | 484 | 12 | 631 |\n",
       "| 5 | 경기 | 수원시 |  5 | 405 | 3 |  99 | 458 | 27 | 584 |\n",
       "| 6 | 경기 | 수원시 |  3 | 405 | 1 |  80 | 445 | 32 | 557 |\n",
       "\n"
      ],
      "text/plain": [
       "  시도 시군구 발생월 사고건수 사망자수 중상자수 경상자수 부상신고자수 부상자수\n",
       "1 경기 수원시  8     423      3        113      461      35           609     \n",
       "2 경기 수원시 10     422      1         97      458      37           592     \n",
       "3 충북 청주시  9     415      7        112      515      16           643     \n",
       "4 충북 청주시  5     414      1        135      484      12           631     \n",
       "5 경기 수원시  5     405      3         99      458      27           584     \n",
       "6 경기 수원시  3     405      1         80      445      32           557     "
      ]
     },
     "metadata": {},
     "output_type": "display_data"
    }
   ],
   "source": [
    "head(arrange(data, desc(사고건수), desc(경상자수)))"
   ]
  },
  {
   "cell_type": "code",
   "execution_count": 26,
   "metadata": {
    "vscode": {
     "languageId": "r"
    }
   },
   "outputs": [
    {
     "data": {
      "text/html": [
       "<table class=\"dataframe\">\n",
       "<caption>A data.frame: 10 × 9</caption>\n",
       "<thead>\n",
       "\t<tr><th></th><th scope=col>시도</th><th scope=col>시군구</th><th scope=col>발생월</th><th scope=col>사고건수</th><th scope=col>사망자수</th><th scope=col>중상자수</th><th scope=col>경상자수</th><th scope=col>부상신고자수</th><th scope=col>부상자수</th></tr>\n",
       "\t<tr><th></th><th scope=col>&lt;chr&gt;</th><th scope=col>&lt;chr&gt;</th><th scope=col>&lt;int&gt;</th><th scope=col>&lt;int&gt;</th><th scope=col>&lt;int&gt;</th><th scope=col>&lt;int&gt;</th><th scope=col>&lt;int&gt;</th><th scope=col>&lt;int&gt;</th><th scope=col>&lt;int&gt;</th></tr>\n",
       "</thead>\n",
       "<tbody>\n",
       "\t<tr><th scope=row>1</th><td>경기</td><td>수원시</td><td> 8</td><td>423</td><td>3</td><td>113</td><td>461</td><td>35</td><td>609</td></tr>\n",
       "\t<tr><th scope=row>2</th><td>경기</td><td>수원시</td><td>10</td><td>422</td><td>1</td><td> 97</td><td>458</td><td>37</td><td>592</td></tr>\n",
       "\t<tr><th scope=row>3</th><td>충북</td><td>청주시</td><td> 9</td><td>415</td><td>7</td><td>112</td><td>515</td><td>16</td><td>643</td></tr>\n",
       "\t<tr><th scope=row>4</th><td>충북</td><td>청주시</td><td> 5</td><td>414</td><td>1</td><td>135</td><td>484</td><td>12</td><td>631</td></tr>\n",
       "\t<tr><th scope=row>5</th><td>경기</td><td>수원시</td><td> 3</td><td>405</td><td>1</td><td> 80</td><td>445</td><td>32</td><td>557</td></tr>\n",
       "\t<tr><th scope=row>6</th><td>경기</td><td>수원시</td><td> 5</td><td>405</td><td>3</td><td> 99</td><td>458</td><td>27</td><td>584</td></tr>\n",
       "\t<tr><th scope=row>7</th><td>경기</td><td>수원시</td><td>11</td><td>402</td><td>3</td><td> 82</td><td>418</td><td>39</td><td>539</td></tr>\n",
       "\t<tr><th scope=row>8</th><td>경기</td><td>수원시</td><td>12</td><td>400</td><td>6</td><td> 96</td><td>430</td><td>38</td><td>564</td></tr>\n",
       "\t<tr><th scope=row>9</th><td>충북</td><td>청주시</td><td>11</td><td>400</td><td>4</td><td>115</td><td>435</td><td>21</td><td>571</td></tr>\n",
       "\t<tr><th scope=row>10</th><td>경기</td><td>수원시</td><td> 9</td><td>393</td><td>5</td><td> 84</td><td>414</td><td>35</td><td>533</td></tr>\n",
       "</tbody>\n",
       "</table>\n"
      ],
      "text/latex": [
       "A data.frame: 10 × 9\n",
       "\\begin{tabular}{r|lllllllll}\n",
       "  & 시도 & 시군구 & 발생월 & 사고건수 & 사망자수 & 중상자수 & 경상자수 & 부상신고자수 & 부상자수\\\\\n",
       "  & <chr> & <chr> & <int> & <int> & <int> & <int> & <int> & <int> & <int>\\\\\n",
       "\\hline\n",
       "\t1 & 경기 & 수원시 &  8 & 423 & 3 & 113 & 461 & 35 & 609\\\\\n",
       "\t2 & 경기 & 수원시 & 10 & 422 & 1 &  97 & 458 & 37 & 592\\\\\n",
       "\t3 & 충북 & 청주시 &  9 & 415 & 7 & 112 & 515 & 16 & 643\\\\\n",
       "\t4 & 충북 & 청주시 &  5 & 414 & 1 & 135 & 484 & 12 & 631\\\\\n",
       "\t5 & 경기 & 수원시 &  3 & 405 & 1 &  80 & 445 & 32 & 557\\\\\n",
       "\t6 & 경기 & 수원시 &  5 & 405 & 3 &  99 & 458 & 27 & 584\\\\\n",
       "\t7 & 경기 & 수원시 & 11 & 402 & 3 &  82 & 418 & 39 & 539\\\\\n",
       "\t8 & 경기 & 수원시 & 12 & 400 & 6 &  96 & 430 & 38 & 564\\\\\n",
       "\t9 & 충북 & 청주시 & 11 & 400 & 4 & 115 & 435 & 21 & 571\\\\\n",
       "\t10 & 경기 & 수원시 &  9 & 393 & 5 &  84 & 414 & 35 & 533\\\\\n",
       "\\end{tabular}\n"
      ],
      "text/markdown": [
       "\n",
       "A data.frame: 10 × 9\n",
       "\n",
       "| <!--/--> | 시도 &lt;chr&gt; | 시군구 &lt;chr&gt; | 발생월 &lt;int&gt; | 사고건수 &lt;int&gt; | 사망자수 &lt;int&gt; | 중상자수 &lt;int&gt; | 경상자수 &lt;int&gt; | 부상신고자수 &lt;int&gt; | 부상자수 &lt;int&gt; |\n",
       "|---|---|---|---|---|---|---|---|---|---|\n",
       "| 1 | 경기 | 수원시 |  8 | 423 | 3 | 113 | 461 | 35 | 609 |\n",
       "| 2 | 경기 | 수원시 | 10 | 422 | 1 |  97 | 458 | 37 | 592 |\n",
       "| 3 | 충북 | 청주시 |  9 | 415 | 7 | 112 | 515 | 16 | 643 |\n",
       "| 4 | 충북 | 청주시 |  5 | 414 | 1 | 135 | 484 | 12 | 631 |\n",
       "| 5 | 경기 | 수원시 |  3 | 405 | 1 |  80 | 445 | 32 | 557 |\n",
       "| 6 | 경기 | 수원시 |  5 | 405 | 3 |  99 | 458 | 27 | 584 |\n",
       "| 7 | 경기 | 수원시 | 11 | 402 | 3 |  82 | 418 | 39 | 539 |\n",
       "| 8 | 경기 | 수원시 | 12 | 400 | 6 |  96 | 430 | 38 | 564 |\n",
       "| 9 | 충북 | 청주시 | 11 | 400 | 4 | 115 | 435 | 21 | 571 |\n",
       "| 10 | 경기 | 수원시 |  9 | 393 | 5 |  84 | 414 | 35 | 533 |\n",
       "\n"
      ],
      "text/plain": [
       "   시도 시군구 발생월 사고건수 사망자수 중상자수 경상자수 부상신고자수 부상자수\n",
       "1  경기 수원시  8     423      3        113      461      35           609     \n",
       "2  경기 수원시 10     422      1         97      458      37           592     \n",
       "3  충북 청주시  9     415      7        112      515      16           643     \n",
       "4  충북 청주시  5     414      1        135      484      12           631     \n",
       "5  경기 수원시  3     405      1         80      445      32           557     \n",
       "6  경기 수원시  5     405      3         99      458      27           584     \n",
       "7  경기 수원시 11     402      3         82      418      39           539     \n",
       "8  경기 수원시 12     400      6         96      430      38           564     \n",
       "9  충북 청주시 11     400      4        115      435      21           571     \n",
       "10 경기 수원시  9     393      5         84      414      35           533     "
      ]
     },
     "metadata": {},
     "output_type": "display_data"
    }
   ],
   "source": [
    "#data5 <- filter(data, 사고건수 >=  20)\n",
    "#data6 <- arrange(data5, desc(사고건수))\n",
    "#data6\n",
    "\n",
    "data5 <- data %>%\n",
    "  filter(사고건수 >= 20) %>%\n",
    "  arrange(desc(사고건수))\n",
    "\n",
    "head(data5, 10)\n"
   ]
  },
  {
   "cell_type": "code",
   "execution_count": 27,
   "metadata": {
    "vscode": {
     "languageId": "r"
    }
   },
   "outputs": [
    {
     "data": {
      "text/plain": [
       "\n",
       "      가평군       강남구       강동구       강릉시       강북구       강서구 \n",
       "          12           12           12           12           12           24 \n",
       "      강진군       강화군       거제시       거창군       경산시       경주시 \n",
       "          12           12           12           12           12           12 \n",
       "      계룡시       계양구       고령군       고성군       고양시       고창군 \n",
       "          12           12           12           24           12           12 \n",
       "      고흥군       곡성군       공주시       과천시       관악구       광명시 \n",
       "          12           12           12           12           12           12 \n",
       "      광산구       광양시       광주시       광진구       괴산군       구례군 \n",
       "          12           12           12           12           12           12 \n",
       "      구로구       구리시       구미시       군산시       군위군       군포시 \n",
       "          12           12           12           12           12           12 \n",
       "      금산군       금정구       금천구       기장군       김제시       김천시 \n",
       "          12           12           12           12           12           12 \n",
       "      김포시       김해시       나주시         남구       남동구     남양주시 \n",
       "          12           12           12           48           12           12 \n",
       "      남원시       남해군       노원구       논산시       단양군       달서구 \n",
       "          12           12           12           12           12           12 \n",
       "      달성군       담양군       당진시       대덕구       도봉구         동구 \n",
       "          12           12           12           12           12           72 \n",
       "    동대문구     동두천시       동래구       동작구       동해시       마포구 \n",
       "          12           12           12           12           12           12 \n",
       "      목포시       무안군       무주군       문경시     미추홀구       밀양시 \n",
       "          12           12           12           12           12           12 \n",
       "      보령시       보성군       보은군       봉화군     부산진구       부안군 \n",
       "          12           12           12           12           12           12 \n",
       "      부여군       부천시       부평구         북구       사상구       사천시 \n",
       "          12           12           12           48           12           12 \n",
       "      사하구       산청군       삼척시       상주시         서구     서귀포시 \n",
       "          12           12           12           12           60           12 \n",
       "    서대문구       서산시       서천군       서초구       성남시       성동구 \n",
       "          12           12           12           12           12           12 \n",
       "      성북구       성주군       세종시       속초시       송파구       수성구 \n",
       "          12           12           12           12           12           12 \n",
       "      수영구       수원시       순창군       순천시       시흥시       신안군 \n",
       "          12           12           12           12           12           12 \n",
       "      아산시       안동시       안산시       안성시       안양시       양구군 \n",
       "          12           12           12           12           12           12 \n",
       "      양산시       양양군       양주시       양천구       양평군       여수시 \n",
       "          12           12           12           12           12           12 \n",
       "      여주시       연수구       연제구       연천군       영광군       영덕군 \n",
       "          12           12           12           12           12           12 \n",
       "      영도구       영동군     영등포구       영암군       영양군       영월군 \n",
       "          12           12           12           12           12           12 \n",
       "      영주시       영천시       예산군       예천군       오산시       옥천군 \n",
       "          12           12           12           12           12           12 \n",
       "      옹진군       완도군       완주군       용산구       용인시       울릉군 \n",
       "          12           12           12           12           12            8 \n",
       "      울주군       울진군       원주시       유성구       은평구       음성군 \n",
       "          12           12           12           12           12           12 \n",
       "      의령군       의성군       의왕시     의정부시       이천시       익산시 \n",
       "          12           12           12           12           12           12 \n",
       "      인제군       임실군       장성군       장수군       장흥군       전주시 \n",
       "          12           12           12           12           12           12 \n",
       "      정선군       정읍시       제주시       제천시       종로구         중구 \n",
       "          12           12           12           12           12           72 \n",
       "      중랑구       증평군       진도군       진안군       진주시       진천군 \n",
       "          12           12           12           12           12           12 \n",
       "      창녕군 창원시(통합)       천안시       철원군       청도군       청송군 \n",
       "          12           12           12           12           12           12 \n",
       "      청양군       청주시       춘천시       충주시       칠곡군       태백시 \n",
       "          12           12           12           12           12           12 \n",
       "      태안군       통영시       파주시       평창군       평택시       포천시 \n",
       "          12           12           12           12           12           12 \n",
       "      포항시       하남시       하동군       함안군       함양군       함평군 \n",
       "          12           12           12           12           12           12 \n",
       "      합천군       해남군     해운대구       홍성군       홍천군       화성시 \n",
       "          12           12           12           12           12           12 \n",
       "      화순군       화천군       횡성군 \n",
       "          12           12           12 "
      ]
     },
     "metadata": {},
     "output_type": "display_data"
    }
   ],
   "source": [
    "table(data$`시군구`)"
   ]
  },
  {
   "cell_type": "code",
   "execution_count": 28,
   "metadata": {
    "vscode": {
     "languageId": "r"
    }
   },
   "outputs": [
    {
     "data": {
      "text/html": [
       "<table class=\"dataframe\">\n",
       "<caption>A data.frame: 6 × 6</caption>\n",
       "<thead>\n",
       "\t<tr><th></th><th scope=col>시도</th><th scope=col>시군구</th><th scope=col>발생월</th><th scope=col>사고건수</th><th scope=col>부상자수</th><th scope=col>사고당부상자수</th></tr>\n",
       "\t<tr><th></th><th scope=col>&lt;chr&gt;</th><th scope=col>&lt;chr&gt;</th><th scope=col>&lt;int&gt;</th><th scope=col>&lt;int&gt;</th><th scope=col>&lt;int&gt;</th><th scope=col>&lt;dbl&gt;</th></tr>\n",
       "</thead>\n",
       "<tbody>\n",
       "\t<tr><th scope=row>1</th><td>서울</td><td>종로구</td><td>1</td><td>77</td><td>108</td><td>1.402597</td></tr>\n",
       "\t<tr><th scope=row>2</th><td>서울</td><td>종로구</td><td>2</td><td>66</td><td> 84</td><td>1.272727</td></tr>\n",
       "\t<tr><th scope=row>3</th><td>서울</td><td>종로구</td><td>3</td><td>67</td><td> 97</td><td>1.447761</td></tr>\n",
       "\t<tr><th scope=row>4</th><td>서울</td><td>종로구</td><td>4</td><td>73</td><td> 90</td><td>1.232877</td></tr>\n",
       "\t<tr><th scope=row>5</th><td>서울</td><td>종로구</td><td>5</td><td>88</td><td>136</td><td>1.545455</td></tr>\n",
       "\t<tr><th scope=row>6</th><td>서울</td><td>종로구</td><td>6</td><td>82</td><td>101</td><td>1.231707</td></tr>\n",
       "</tbody>\n",
       "</table>\n"
      ],
      "text/latex": [
       "A data.frame: 6 × 6\n",
       "\\begin{tabular}{r|llllll}\n",
       "  & 시도 & 시군구 & 발생월 & 사고건수 & 부상자수 & 사고당부상자수\\\\\n",
       "  & <chr> & <chr> & <int> & <int> & <int> & <dbl>\\\\\n",
       "\\hline\n",
       "\t1 & 서울 & 종로구 & 1 & 77 & 108 & 1.402597\\\\\n",
       "\t2 & 서울 & 종로구 & 2 & 66 &  84 & 1.272727\\\\\n",
       "\t3 & 서울 & 종로구 & 3 & 67 &  97 & 1.447761\\\\\n",
       "\t4 & 서울 & 종로구 & 4 & 73 &  90 & 1.232877\\\\\n",
       "\t5 & 서울 & 종로구 & 5 & 88 & 136 & 1.545455\\\\\n",
       "\t6 & 서울 & 종로구 & 6 & 82 & 101 & 1.231707\\\\\n",
       "\\end{tabular}\n"
      ],
      "text/markdown": [
       "\n",
       "A data.frame: 6 × 6\n",
       "\n",
       "| <!--/--> | 시도 &lt;chr&gt; | 시군구 &lt;chr&gt; | 발생월 &lt;int&gt; | 사고건수 &lt;int&gt; | 부상자수 &lt;int&gt; | 사고당부상자수 &lt;dbl&gt; |\n",
       "|---|---|---|---|---|---|---|\n",
       "| 1 | 서울 | 종로구 | 1 | 77 | 108 | 1.402597 |\n",
       "| 2 | 서울 | 종로구 | 2 | 66 |  84 | 1.272727 |\n",
       "| 3 | 서울 | 종로구 | 3 | 67 |  97 | 1.447761 |\n",
       "| 4 | 서울 | 종로구 | 4 | 73 |  90 | 1.232877 |\n",
       "| 5 | 서울 | 종로구 | 5 | 88 | 136 | 1.545455 |\n",
       "| 6 | 서울 | 종로구 | 6 | 82 | 101 | 1.231707 |\n",
       "\n"
      ],
      "text/plain": [
       "  시도 시군구 발생월 사고건수 부상자수 사고당부상자수\n",
       "1 서울 종로구 1      77       108      1.402597      \n",
       "2 서울 종로구 2      66        84      1.272727      \n",
       "3 서울 종로구 3      67        97      1.447761      \n",
       "4 서울 종로구 4      73        90      1.232877      \n",
       "5 서울 종로구 5      88       136      1.545455      \n",
       "6 서울 종로구 6      82       101      1.231707      "
      ]
     },
     "metadata": {},
     "output_type": "display_data"
    }
   ],
   "source": [
    "data <- mutate(data, 사고당부상자수 = 부상자수/사고건수)\n",
    "\n",
    "data2 <- select(data, -c(사망자수, 중상자수, 경상자수, 부상신고자수))\n",
    "head(data2)"
   ]
  },
  {
   "cell_type": "code",
   "execution_count": 29,
   "metadata": {
    "vscode": {
     "languageId": "r"
    }
   },
   "outputs": [
    {
     "data": {
      "text/html": [
       "<table class=\"dataframe\">\n",
       "<caption>A data.frame: 2580 × 6</caption>\n",
       "<thead>\n",
       "\t<tr><th scope=col>시도</th><th scope=col>시군구</th><th scope=col>발생월</th><th scope=col>사고건수</th><th scope=col>부상자수</th><th scope=col>사고당부상자수</th></tr>\n",
       "\t<tr><th scope=col>&lt;chr&gt;</th><th scope=col>&lt;chr&gt;</th><th scope=col>&lt;int&gt;</th><th scope=col>&lt;int&gt;</th><th scope=col>&lt;int&gt;</th><th scope=col>&lt;dbl&gt;</th></tr>\n",
       "</thead>\n",
       "<tbody>\n",
       "\t<tr><td>경기</td><td>용인시</td><td>11</td><td>346</td><td>658</td><td>1.901734</td></tr>\n",
       "\t<tr><td>충북</td><td>청주시</td><td> 9</td><td>415</td><td>643</td><td>1.549398</td></tr>\n",
       "\t<tr><td>충북</td><td>청주시</td><td> 5</td><td>414</td><td>631</td><td>1.524155</td></tr>\n",
       "\t<tr><td>경기</td><td>수원시</td><td> 8</td><td>423</td><td>609</td><td>1.439716</td></tr>\n",
       "\t<tr><td>경기</td><td>수원시</td><td>10</td><td>422</td><td>592</td><td>1.402844</td></tr>\n",
       "\t<tr><td>경기</td><td>수원시</td><td> 5</td><td>405</td><td>584</td><td>1.441975</td></tr>\n",
       "\t<tr><td>충북</td><td>청주시</td><td>11</td><td>400</td><td>571</td><td>1.427500</td></tr>\n",
       "\t<tr><td>경기</td><td>수원시</td><td> 6</td><td>392</td><td>569</td><td>1.451531</td></tr>\n",
       "\t<tr><td>경기</td><td>성남시</td><td>12</td><td>383</td><td>565</td><td>1.475196</td></tr>\n",
       "\t<tr><td>경기</td><td>수원시</td><td>12</td><td>400</td><td>564</td><td>1.410000</td></tr>\n",
       "\t<tr><td>충북</td><td>청주시</td><td>10</td><td>374</td><td>564</td><td>1.508021</td></tr>\n",
       "\t<tr><td>경기</td><td>수원시</td><td> 3</td><td>405</td><td>557</td><td>1.375309</td></tr>\n",
       "\t<tr><td>경기</td><td>수원시</td><td> 4</td><td>392</td><td>557</td><td>1.420918</td></tr>\n",
       "\t<tr><td>경기</td><td>수원시</td><td> 1</td><td>384</td><td>551</td><td>1.434896</td></tr>\n",
       "\t<tr><td>경기</td><td>고양시</td><td>12</td><td>353</td><td>550</td><td>1.558074</td></tr>\n",
       "\t<tr><td>경기</td><td>성남시</td><td>11</td><td>366</td><td>545</td><td>1.489071</td></tr>\n",
       "\t<tr><td>충북</td><td>청주시</td><td> 6</td><td>377</td><td>544</td><td>1.442971</td></tr>\n",
       "\t<tr><td>경기</td><td>수원시</td><td>11</td><td>402</td><td>539</td><td>1.340796</td></tr>\n",
       "\t<tr><td>경기</td><td>수원시</td><td> 9</td><td>393</td><td>533</td><td>1.356234</td></tr>\n",
       "\t<tr><td>경기</td><td>고양시</td><td> 8</td><td>326</td><td>530</td><td>1.625767</td></tr>\n",
       "\t<tr><td>경기</td><td>화성시</td><td>12</td><td>329</td><td>525</td><td>1.595745</td></tr>\n",
       "\t<tr><td>경기</td><td>성남시</td><td> 1</td><td>335</td><td>524</td><td>1.564179</td></tr>\n",
       "\t<tr><td>경기</td><td>용인시</td><td> 9</td><td>363</td><td>522</td><td>1.438017</td></tr>\n",
       "\t<tr><td>경기</td><td>수원시</td><td> 2</td><td>369</td><td>520</td><td>1.409214</td></tr>\n",
       "\t<tr><td>경기</td><td>용인시</td><td> 5</td><td>336</td><td>516</td><td>1.535714</td></tr>\n",
       "\t<tr><td>경기</td><td>평택시</td><td> 9</td><td>307</td><td>515</td><td>1.677524</td></tr>\n",
       "\t<tr><td>충북</td><td>청주시</td><td>12</td><td>380</td><td>514</td><td>1.352632</td></tr>\n",
       "\t<tr><td>경기</td><td>수원시</td><td> 7</td><td>357</td><td>513</td><td>1.436975</td></tr>\n",
       "\t<tr><td>충북</td><td>청주시</td><td> 3</td><td>336</td><td>508</td><td>1.511905</td></tr>\n",
       "\t<tr><td>충북</td><td>청주시</td><td> 8</td><td>358</td><td>507</td><td>1.416201</td></tr>\n",
       "\t<tr><td>⋮</td><td>⋮</td><td>⋮</td><td>⋮</td><td>⋮</td><td>⋮</td></tr>\n",
       "\t<tr><td>전북</td><td>진안군</td><td> 5</td><td> 8</td><td>10</td><td>1.250000</td></tr>\n",
       "\t<tr><td>전북</td><td>무주군</td><td> 8</td><td> 7</td><td>10</td><td>1.428571</td></tr>\n",
       "\t<tr><td>전북</td><td>임실군</td><td> 3</td><td> 8</td><td>10</td><td>1.250000</td></tr>\n",
       "\t<tr><td>전북</td><td>순창군</td><td> 2</td><td>10</td><td>10</td><td>1.000000</td></tr>\n",
       "\t<tr><td>전북</td><td>순창군</td><td> 5</td><td> 8</td><td>10</td><td>1.250000</td></tr>\n",
       "\t<tr><td>전북</td><td>고창군</td><td> 2</td><td>10</td><td>10</td><td>1.000000</td></tr>\n",
       "\t<tr><td>전남</td><td>곡성군</td><td> 7</td><td> 6</td><td>10</td><td>1.666667</td></tr>\n",
       "\t<tr><td>전남</td><td>무안군</td><td> 1</td><td>10</td><td>10</td><td>1.000000</td></tr>\n",
       "\t<tr><td>전남</td><td>영광군</td><td> 3</td><td> 7</td><td>10</td><td>1.428571</td></tr>\n",
       "\t<tr><td>전남</td><td>진도군</td><td> 3</td><td>10</td><td>10</td><td>1.000000</td></tr>\n",
       "\t<tr><td>전남</td><td>진도군</td><td> 6</td><td> 7</td><td>10</td><td>1.428571</td></tr>\n",
       "\t<tr><td>전남</td><td>신안군</td><td> 8</td><td> 6</td><td>10</td><td>1.666667</td></tr>\n",
       "\t<tr><td>경북</td><td>청도군</td><td> 1</td><td> 7</td><td>10</td><td>1.428571</td></tr>\n",
       "\t<tr><td>경북</td><td>고령군</td><td> 3</td><td> 9</td><td>10</td><td>1.111111</td></tr>\n",
       "\t<tr><td>경북</td><td>고령군</td><td> 8</td><td> 7</td><td>10</td><td>1.428571</td></tr>\n",
       "\t<tr><td>경북</td><td>고령군</td><td> 9</td><td> 9</td><td>10</td><td>1.111111</td></tr>\n",
       "\t<tr><td>경북</td><td>예천군</td><td> 1</td><td> 7</td><td>10</td><td>1.428571</td></tr>\n",
       "\t<tr><td>경북</td><td>예천군</td><td>12</td><td> 8</td><td>10</td><td>1.250000</td></tr>\n",
       "\t<tr><td>경북</td><td>봉화군</td><td> 1</td><td> 5</td><td>10</td><td>2.000000</td></tr>\n",
       "\t<tr><td>경북</td><td>봉화군</td><td> 6</td><td>10</td><td>10</td><td>1.000000</td></tr>\n",
       "\t<tr><td>경북</td><td>울진군</td><td> 3</td><td> 9</td><td>10</td><td>1.111111</td></tr>\n",
       "\t<tr><td>경남</td><td>의령군</td><td> 1</td><td> 8</td><td>10</td><td>1.250000</td></tr>\n",
       "\t<tr><td>경남</td><td>창녕군</td><td> 1</td><td> 7</td><td>10</td><td>1.428571</td></tr>\n",
       "\t<tr><td>경남</td><td>남해군</td><td> 3</td><td> 8</td><td>10</td><td>1.250000</td></tr>\n",
       "\t<tr><td>경남</td><td>하동군</td><td> 7</td><td> 9</td><td>10</td><td>1.111111</td></tr>\n",
       "\t<tr><td>경남</td><td>하동군</td><td>11</td><td> 9</td><td>10</td><td>1.111111</td></tr>\n",
       "\t<tr><td>경남</td><td>거창군</td><td>11</td><td> 9</td><td>10</td><td>1.111111</td></tr>\n",
       "\t<tr><td>대구</td><td>군위군</td><td> 7</td><td> 8</td><td>10</td><td>1.250000</td></tr>\n",
       "\t<tr><td>인천</td><td>동구  </td><td> 9</td><td> 7</td><td>10</td><td>1.428571</td></tr>\n",
       "\t<tr><td>인천</td><td>동구  </td><td>12</td><td>10</td><td>10</td><td>1.000000</td></tr>\n",
       "</tbody>\n",
       "</table>\n"
      ],
      "text/latex": [
       "A data.frame: 2580 × 6\n",
       "\\begin{tabular}{llllll}\n",
       " 시도 & 시군구 & 발생월 & 사고건수 & 부상자수 & 사고당부상자수\\\\\n",
       " <chr> & <chr> & <int> & <int> & <int> & <dbl>\\\\\n",
       "\\hline\n",
       "\t 경기 & 용인시 & 11 & 346 & 658 & 1.901734\\\\\n",
       "\t 충북 & 청주시 &  9 & 415 & 643 & 1.549398\\\\\n",
       "\t 충북 & 청주시 &  5 & 414 & 631 & 1.524155\\\\\n",
       "\t 경기 & 수원시 &  8 & 423 & 609 & 1.439716\\\\\n",
       "\t 경기 & 수원시 & 10 & 422 & 592 & 1.402844\\\\\n",
       "\t 경기 & 수원시 &  5 & 405 & 584 & 1.441975\\\\\n",
       "\t 충북 & 청주시 & 11 & 400 & 571 & 1.427500\\\\\n",
       "\t 경기 & 수원시 &  6 & 392 & 569 & 1.451531\\\\\n",
       "\t 경기 & 성남시 & 12 & 383 & 565 & 1.475196\\\\\n",
       "\t 경기 & 수원시 & 12 & 400 & 564 & 1.410000\\\\\n",
       "\t 충북 & 청주시 & 10 & 374 & 564 & 1.508021\\\\\n",
       "\t 경기 & 수원시 &  3 & 405 & 557 & 1.375309\\\\\n",
       "\t 경기 & 수원시 &  4 & 392 & 557 & 1.420918\\\\\n",
       "\t 경기 & 수원시 &  1 & 384 & 551 & 1.434896\\\\\n",
       "\t 경기 & 고양시 & 12 & 353 & 550 & 1.558074\\\\\n",
       "\t 경기 & 성남시 & 11 & 366 & 545 & 1.489071\\\\\n",
       "\t 충북 & 청주시 &  6 & 377 & 544 & 1.442971\\\\\n",
       "\t 경기 & 수원시 & 11 & 402 & 539 & 1.340796\\\\\n",
       "\t 경기 & 수원시 &  9 & 393 & 533 & 1.356234\\\\\n",
       "\t 경기 & 고양시 &  8 & 326 & 530 & 1.625767\\\\\n",
       "\t 경기 & 화성시 & 12 & 329 & 525 & 1.595745\\\\\n",
       "\t 경기 & 성남시 &  1 & 335 & 524 & 1.564179\\\\\n",
       "\t 경기 & 용인시 &  9 & 363 & 522 & 1.438017\\\\\n",
       "\t 경기 & 수원시 &  2 & 369 & 520 & 1.409214\\\\\n",
       "\t 경기 & 용인시 &  5 & 336 & 516 & 1.535714\\\\\n",
       "\t 경기 & 평택시 &  9 & 307 & 515 & 1.677524\\\\\n",
       "\t 충북 & 청주시 & 12 & 380 & 514 & 1.352632\\\\\n",
       "\t 경기 & 수원시 &  7 & 357 & 513 & 1.436975\\\\\n",
       "\t 충북 & 청주시 &  3 & 336 & 508 & 1.511905\\\\\n",
       "\t 충북 & 청주시 &  8 & 358 & 507 & 1.416201\\\\\n",
       "\t ⋮ & ⋮ & ⋮ & ⋮ & ⋮ & ⋮\\\\\n",
       "\t 전북 & 진안군 &  5 &  8 & 10 & 1.250000\\\\\n",
       "\t 전북 & 무주군 &  8 &  7 & 10 & 1.428571\\\\\n",
       "\t 전북 & 임실군 &  3 &  8 & 10 & 1.250000\\\\\n",
       "\t 전북 & 순창군 &  2 & 10 & 10 & 1.000000\\\\\n",
       "\t 전북 & 순창군 &  5 &  8 & 10 & 1.250000\\\\\n",
       "\t 전북 & 고창군 &  2 & 10 & 10 & 1.000000\\\\\n",
       "\t 전남 & 곡성군 &  7 &  6 & 10 & 1.666667\\\\\n",
       "\t 전남 & 무안군 &  1 & 10 & 10 & 1.000000\\\\\n",
       "\t 전남 & 영광군 &  3 &  7 & 10 & 1.428571\\\\\n",
       "\t 전남 & 진도군 &  3 & 10 & 10 & 1.000000\\\\\n",
       "\t 전남 & 진도군 &  6 &  7 & 10 & 1.428571\\\\\n",
       "\t 전남 & 신안군 &  8 &  6 & 10 & 1.666667\\\\\n",
       "\t 경북 & 청도군 &  1 &  7 & 10 & 1.428571\\\\\n",
       "\t 경북 & 고령군 &  3 &  9 & 10 & 1.111111\\\\\n",
       "\t 경북 & 고령군 &  8 &  7 & 10 & 1.428571\\\\\n",
       "\t 경북 & 고령군 &  9 &  9 & 10 & 1.111111\\\\\n",
       "\t 경북 & 예천군 &  1 &  7 & 10 & 1.428571\\\\\n",
       "\t 경북 & 예천군 & 12 &  8 & 10 & 1.250000\\\\\n",
       "\t 경북 & 봉화군 &  1 &  5 & 10 & 2.000000\\\\\n",
       "\t 경북 & 봉화군 &  6 & 10 & 10 & 1.000000\\\\\n",
       "\t 경북 & 울진군 &  3 &  9 & 10 & 1.111111\\\\\n",
       "\t 경남 & 의령군 &  1 &  8 & 10 & 1.250000\\\\\n",
       "\t 경남 & 창녕군 &  1 &  7 & 10 & 1.428571\\\\\n",
       "\t 경남 & 남해군 &  3 &  8 & 10 & 1.250000\\\\\n",
       "\t 경남 & 하동군 &  7 &  9 & 10 & 1.111111\\\\\n",
       "\t 경남 & 하동군 & 11 &  9 & 10 & 1.111111\\\\\n",
       "\t 경남 & 거창군 & 11 &  9 & 10 & 1.111111\\\\\n",
       "\t 대구 & 군위군 &  7 &  8 & 10 & 1.250000\\\\\n",
       "\t 인천 & 동구   &  9 &  7 & 10 & 1.428571\\\\\n",
       "\t 인천 & 동구   & 12 & 10 & 10 & 1.000000\\\\\n",
       "\\end{tabular}\n"
      ],
      "text/markdown": [
       "\n",
       "A data.frame: 2580 × 6\n",
       "\n",
       "| 시도 &lt;chr&gt; | 시군구 &lt;chr&gt; | 발생월 &lt;int&gt; | 사고건수 &lt;int&gt; | 부상자수 &lt;int&gt; | 사고당부상자수 &lt;dbl&gt; |\n",
       "|---|---|---|---|---|---|\n",
       "| 경기 | 용인시 | 11 | 346 | 658 | 1.901734 |\n",
       "| 충북 | 청주시 |  9 | 415 | 643 | 1.549398 |\n",
       "| 충북 | 청주시 |  5 | 414 | 631 | 1.524155 |\n",
       "| 경기 | 수원시 |  8 | 423 | 609 | 1.439716 |\n",
       "| 경기 | 수원시 | 10 | 422 | 592 | 1.402844 |\n",
       "| 경기 | 수원시 |  5 | 405 | 584 | 1.441975 |\n",
       "| 충북 | 청주시 | 11 | 400 | 571 | 1.427500 |\n",
       "| 경기 | 수원시 |  6 | 392 | 569 | 1.451531 |\n",
       "| 경기 | 성남시 | 12 | 383 | 565 | 1.475196 |\n",
       "| 경기 | 수원시 | 12 | 400 | 564 | 1.410000 |\n",
       "| 충북 | 청주시 | 10 | 374 | 564 | 1.508021 |\n",
       "| 경기 | 수원시 |  3 | 405 | 557 | 1.375309 |\n",
       "| 경기 | 수원시 |  4 | 392 | 557 | 1.420918 |\n",
       "| 경기 | 수원시 |  1 | 384 | 551 | 1.434896 |\n",
       "| 경기 | 고양시 | 12 | 353 | 550 | 1.558074 |\n",
       "| 경기 | 성남시 | 11 | 366 | 545 | 1.489071 |\n",
       "| 충북 | 청주시 |  6 | 377 | 544 | 1.442971 |\n",
       "| 경기 | 수원시 | 11 | 402 | 539 | 1.340796 |\n",
       "| 경기 | 수원시 |  9 | 393 | 533 | 1.356234 |\n",
       "| 경기 | 고양시 |  8 | 326 | 530 | 1.625767 |\n",
       "| 경기 | 화성시 | 12 | 329 | 525 | 1.595745 |\n",
       "| 경기 | 성남시 |  1 | 335 | 524 | 1.564179 |\n",
       "| 경기 | 용인시 |  9 | 363 | 522 | 1.438017 |\n",
       "| 경기 | 수원시 |  2 | 369 | 520 | 1.409214 |\n",
       "| 경기 | 용인시 |  5 | 336 | 516 | 1.535714 |\n",
       "| 경기 | 평택시 |  9 | 307 | 515 | 1.677524 |\n",
       "| 충북 | 청주시 | 12 | 380 | 514 | 1.352632 |\n",
       "| 경기 | 수원시 |  7 | 357 | 513 | 1.436975 |\n",
       "| 충북 | 청주시 |  3 | 336 | 508 | 1.511905 |\n",
       "| 충북 | 청주시 |  8 | 358 | 507 | 1.416201 |\n",
       "| ⋮ | ⋮ | ⋮ | ⋮ | ⋮ | ⋮ |\n",
       "| 전북 | 진안군 |  5 |  8 | 10 | 1.250000 |\n",
       "| 전북 | 무주군 |  8 |  7 | 10 | 1.428571 |\n",
       "| 전북 | 임실군 |  3 |  8 | 10 | 1.250000 |\n",
       "| 전북 | 순창군 |  2 | 10 | 10 | 1.000000 |\n",
       "| 전북 | 순창군 |  5 |  8 | 10 | 1.250000 |\n",
       "| 전북 | 고창군 |  2 | 10 | 10 | 1.000000 |\n",
       "| 전남 | 곡성군 |  7 |  6 | 10 | 1.666667 |\n",
       "| 전남 | 무안군 |  1 | 10 | 10 | 1.000000 |\n",
       "| 전남 | 영광군 |  3 |  7 | 10 | 1.428571 |\n",
       "| 전남 | 진도군 |  3 | 10 | 10 | 1.000000 |\n",
       "| 전남 | 진도군 |  6 |  7 | 10 | 1.428571 |\n",
       "| 전남 | 신안군 |  8 |  6 | 10 | 1.666667 |\n",
       "| 경북 | 청도군 |  1 |  7 | 10 | 1.428571 |\n",
       "| 경북 | 고령군 |  3 |  9 | 10 | 1.111111 |\n",
       "| 경북 | 고령군 |  8 |  7 | 10 | 1.428571 |\n",
       "| 경북 | 고령군 |  9 |  9 | 10 | 1.111111 |\n",
       "| 경북 | 예천군 |  1 |  7 | 10 | 1.428571 |\n",
       "| 경북 | 예천군 | 12 |  8 | 10 | 1.250000 |\n",
       "| 경북 | 봉화군 |  1 |  5 | 10 | 2.000000 |\n",
       "| 경북 | 봉화군 |  6 | 10 | 10 | 1.000000 |\n",
       "| 경북 | 울진군 |  3 |  9 | 10 | 1.111111 |\n",
       "| 경남 | 의령군 |  1 |  8 | 10 | 1.250000 |\n",
       "| 경남 | 창녕군 |  1 |  7 | 10 | 1.428571 |\n",
       "| 경남 | 남해군 |  3 |  8 | 10 | 1.250000 |\n",
       "| 경남 | 하동군 |  7 |  9 | 10 | 1.111111 |\n",
       "| 경남 | 하동군 | 11 |  9 | 10 | 1.111111 |\n",
       "| 경남 | 거창군 | 11 |  9 | 10 | 1.111111 |\n",
       "| 대구 | 군위군 |  7 |  8 | 10 | 1.250000 |\n",
       "| 인천 | 동구   |  9 |  7 | 10 | 1.428571 |\n",
       "| 인천 | 동구   | 12 | 10 | 10 | 1.000000 |\n",
       "\n"
      ],
      "text/plain": [
       "     시도 시군구 발생월 사고건수 부상자수 사고당부상자수\n",
       "1    경기 용인시 11     346      658      1.901734      \n",
       "2    충북 청주시  9     415      643      1.549398      \n",
       "3    충북 청주시  5     414      631      1.524155      \n",
       "4    경기 수원시  8     423      609      1.439716      \n",
       "5    경기 수원시 10     422      592      1.402844      \n",
       "6    경기 수원시  5     405      584      1.441975      \n",
       "7    충북 청주시 11     400      571      1.427500      \n",
       "8    경기 수원시  6     392      569      1.451531      \n",
       "9    경기 성남시 12     383      565      1.475196      \n",
       "10   경기 수원시 12     400      564      1.410000      \n",
       "11   충북 청주시 10     374      564      1.508021      \n",
       "12   경기 수원시  3     405      557      1.375309      \n",
       "13   경기 수원시  4     392      557      1.420918      \n",
       "14   경기 수원시  1     384      551      1.434896      \n",
       "15   경기 고양시 12     353      550      1.558074      \n",
       "16   경기 성남시 11     366      545      1.489071      \n",
       "17   충북 청주시  6     377      544      1.442971      \n",
       "18   경기 수원시 11     402      539      1.340796      \n",
       "19   경기 수원시  9     393      533      1.356234      \n",
       "20   경기 고양시  8     326      530      1.625767      \n",
       "21   경기 화성시 12     329      525      1.595745      \n",
       "22   경기 성남시  1     335      524      1.564179      \n",
       "23   경기 용인시  9     363      522      1.438017      \n",
       "24   경기 수원시  2     369      520      1.409214      \n",
       "25   경기 용인시  5     336      516      1.535714      \n",
       "26   경기 평택시  9     307      515      1.677524      \n",
       "27   충북 청주시 12     380      514      1.352632      \n",
       "28   경기 수원시  7     357      513      1.436975      \n",
       "29   충북 청주시  3     336      508      1.511905      \n",
       "30   충북 청주시  8     358      507      1.416201      \n",
       "⋮    ⋮    ⋮      ⋮      ⋮        ⋮        ⋮             \n",
       "2551 전북 진안군  5      8       10       1.250000      \n",
       "2552 전북 무주군  8      7       10       1.428571      \n",
       "2553 전북 임실군  3      8       10       1.250000      \n",
       "2554 전북 순창군  2     10       10       1.000000      \n",
       "2555 전북 순창군  5      8       10       1.250000      \n",
       "2556 전북 고창군  2     10       10       1.000000      \n",
       "2557 전남 곡성군  7      6       10       1.666667      \n",
       "2558 전남 무안군  1     10       10       1.000000      \n",
       "2559 전남 영광군  3      7       10       1.428571      \n",
       "2560 전남 진도군  3     10       10       1.000000      \n",
       "2561 전남 진도군  6      7       10       1.428571      \n",
       "2562 전남 신안군  8      6       10       1.666667      \n",
       "2563 경북 청도군  1      7       10       1.428571      \n",
       "2564 경북 고령군  3      9       10       1.111111      \n",
       "2565 경북 고령군  8      7       10       1.428571      \n",
       "2566 경북 고령군  9      9       10       1.111111      \n",
       "2567 경북 예천군  1      7       10       1.428571      \n",
       "2568 경북 예천군 12      8       10       1.250000      \n",
       "2569 경북 봉화군  1      5       10       2.000000      \n",
       "2570 경북 봉화군  6     10       10       1.000000      \n",
       "2571 경북 울진군  3      9       10       1.111111      \n",
       "2572 경남 의령군  1      8       10       1.250000      \n",
       "2573 경남 창녕군  1      7       10       1.428571      \n",
       "2574 경남 남해군  3      8       10       1.250000      \n",
       "2575 경남 하동군  7      9       10       1.111111      \n",
       "2576 경남 하동군 11      9       10       1.111111      \n",
       "2577 경남 거창군 11      9       10       1.111111      \n",
       "2578 대구 군위군  7      8       10       1.250000      \n",
       "2579 인천 동구    9      7       10       1.428571      \n",
       "2580 인천 동구   12     10       10       1.000000      "
      ]
     },
     "metadata": {},
     "output_type": "display_data"
    }
   ],
   "source": [
    "filter(data2, 부상자수 >= 10, 사고당부상자수 >= 1 | 부상자수 >= 90)  %>%\n",
    "    arrange(desc(부상자수))"
   ]
  },
  {
   "cell_type": "markdown",
   "metadata": {},
   "source": [
    "## 새로운 데이터 시작"
   ]
  },
  {
   "cell_type": "code",
   "execution_count": 30,
   "metadata": {
    "vscode": {
     "languageId": "r"
    }
   },
   "outputs": [
    {
     "data": {
      "text/html": [
       "<table class=\"dataframe\">\n",
       "<caption>A data.frame: 6 × 12</caption>\n",
       "<thead>\n",
       "\t<tr><th></th><th scope=col>시도</th><th scope=col>시군구</th><th scope=col>발생월</th><th scope=col>사고건수</th><th scope=col>사망자수</th><th scope=col>중상자수</th><th scope=col>경상자수</th><th scope=col>부상신고자수</th><th scope=col>부상자수</th><th scope=col>사고당부상자수</th><th scope=col>총부상자수</th><th scope=col>시도_시군구</th></tr>\n",
       "\t<tr><th></th><th scope=col>&lt;chr&gt;</th><th scope=col>&lt;chr&gt;</th><th scope=col>&lt;int&gt;</th><th scope=col>&lt;int&gt;</th><th scope=col>&lt;int&gt;</th><th scope=col>&lt;int&gt;</th><th scope=col>&lt;int&gt;</th><th scope=col>&lt;int&gt;</th><th scope=col>&lt;int&gt;</th><th scope=col>&lt;dbl&gt;</th><th scope=col>&lt;int&gt;</th><th scope=col>&lt;chr&gt;</th></tr>\n",
       "</thead>\n",
       "<tbody>\n",
       "\t<tr><th scope=row>1</th><td>서울</td><td>종로구</td><td>1</td><td>77</td><td>2</td><td>15</td><td> 79</td><td>14</td><td>108</td><td>1.402597</td><td>216</td><td>서울 종로구</td></tr>\n",
       "\t<tr><th scope=row>2</th><td>서울</td><td>종로구</td><td>2</td><td>66</td><td>0</td><td>17</td><td> 59</td><td> 8</td><td> 84</td><td>1.272727</td><td>168</td><td>서울 종로구</td></tr>\n",
       "\t<tr><th scope=row>3</th><td>서울</td><td>종로구</td><td>3</td><td>67</td><td>0</td><td>15</td><td> 80</td><td> 2</td><td> 97</td><td>1.447761</td><td>194</td><td>서울 종로구</td></tr>\n",
       "\t<tr><th scope=row>4</th><td>서울</td><td>종로구</td><td>4</td><td>73</td><td>1</td><td>17</td><td> 67</td><td> 6</td><td> 90</td><td>1.232877</td><td>180</td><td>서울 종로구</td></tr>\n",
       "\t<tr><th scope=row>5</th><td>서울</td><td>종로구</td><td>5</td><td>88</td><td>0</td><td>21</td><td>103</td><td>12</td><td>136</td><td>1.545455</td><td>272</td><td>서울 종로구</td></tr>\n",
       "\t<tr><th scope=row>6</th><td>서울</td><td>종로구</td><td>6</td><td>82</td><td>0</td><td>17</td><td> 78</td><td> 6</td><td>101</td><td>1.231707</td><td>202</td><td>서울 종로구</td></tr>\n",
       "</tbody>\n",
       "</table>\n"
      ],
      "text/latex": [
       "A data.frame: 6 × 12\n",
       "\\begin{tabular}{r|llllllllllll}\n",
       "  & 시도 & 시군구 & 발생월 & 사고건수 & 사망자수 & 중상자수 & 경상자수 & 부상신고자수 & 부상자수 & 사고당부상자수 & 총부상자수 & 시도\\_시군구\\\\\n",
       "  & <chr> & <chr> & <int> & <int> & <int> & <int> & <int> & <int> & <int> & <dbl> & <int> & <chr>\\\\\n",
       "\\hline\n",
       "\t1 & 서울 & 종로구 & 1 & 77 & 2 & 15 &  79 & 14 & 108 & 1.402597 & 216 & 서울 종로구\\\\\n",
       "\t2 & 서울 & 종로구 & 2 & 66 & 0 & 17 &  59 &  8 &  84 & 1.272727 & 168 & 서울 종로구\\\\\n",
       "\t3 & 서울 & 종로구 & 3 & 67 & 0 & 15 &  80 &  2 &  97 & 1.447761 & 194 & 서울 종로구\\\\\n",
       "\t4 & 서울 & 종로구 & 4 & 73 & 1 & 17 &  67 &  6 &  90 & 1.232877 & 180 & 서울 종로구\\\\\n",
       "\t5 & 서울 & 종로구 & 5 & 88 & 0 & 21 & 103 & 12 & 136 & 1.545455 & 272 & 서울 종로구\\\\\n",
       "\t6 & 서울 & 종로구 & 6 & 82 & 0 & 17 &  78 &  6 & 101 & 1.231707 & 202 & 서울 종로구\\\\\n",
       "\\end{tabular}\n"
      ],
      "text/markdown": [
       "\n",
       "A data.frame: 6 × 12\n",
       "\n",
       "| <!--/--> | 시도 &lt;chr&gt; | 시군구 &lt;chr&gt; | 발생월 &lt;int&gt; | 사고건수 &lt;int&gt; | 사망자수 &lt;int&gt; | 중상자수 &lt;int&gt; | 경상자수 &lt;int&gt; | 부상신고자수 &lt;int&gt; | 부상자수 &lt;int&gt; | 사고당부상자수 &lt;dbl&gt; | 총부상자수 &lt;int&gt; | 시도_시군구 &lt;chr&gt; |\n",
       "|---|---|---|---|---|---|---|---|---|---|---|---|---|\n",
       "| 1 | 서울 | 종로구 | 1 | 77 | 2 | 15 |  79 | 14 | 108 | 1.402597 | 216 | 서울 종로구 |\n",
       "| 2 | 서울 | 종로구 | 2 | 66 | 0 | 17 |  59 |  8 |  84 | 1.272727 | 168 | 서울 종로구 |\n",
       "| 3 | 서울 | 종로구 | 3 | 67 | 0 | 15 |  80 |  2 |  97 | 1.447761 | 194 | 서울 종로구 |\n",
       "| 4 | 서울 | 종로구 | 4 | 73 | 1 | 17 |  67 |  6 |  90 | 1.232877 | 180 | 서울 종로구 |\n",
       "| 5 | 서울 | 종로구 | 5 | 88 | 0 | 21 | 103 | 12 | 136 | 1.545455 | 272 | 서울 종로구 |\n",
       "| 6 | 서울 | 종로구 | 6 | 82 | 0 | 17 |  78 |  6 | 101 | 1.231707 | 202 | 서울 종로구 |\n",
       "\n"
      ],
      "text/plain": [
       "  시도 시군구 발생월 사고건수 사망자수 중상자수 경상자수 부상신고자수 부상자수\n",
       "1 서울 종로구 1      77       2        15        79      14           108     \n",
       "2 서울 종로구 2      66       0        17        59       8            84     \n",
       "3 서울 종로구 3      67       0        15        80       2            97     \n",
       "4 서울 종로구 4      73       1        17        67       6            90     \n",
       "5 서울 종로구 5      88       0        21       103      12           136     \n",
       "6 서울 종로구 6      82       0        17        78       6           101     \n",
       "  사고당부상자수 총부상자수 시도_시군구\n",
       "1 1.402597       216        서울 종로구\n",
       "2 1.272727       168        서울 종로구\n",
       "3 1.447761       194        서울 종로구\n",
       "4 1.232877       180        서울 종로구\n",
       "5 1.545455       272        서울 종로구\n",
       "6 1.231707       202        서울 종로구"
      ]
     },
     "metadata": {},
     "output_type": "display_data"
    }
   ],
   "source": [
    "newdata <- data %>%\n",
    "  mutate(\n",
    "    총부상자수 = 부상자수 + 중상자수 + 경상자수 + 부상신고자수, \n",
    "    시도_시군구 = paste(시도, 시군구, sep = \" \")                 \n",
    "  )\n",
    "\n",
    "head(newdata)\n"
   ]
  },
  {
   "cell_type": "code",
   "execution_count": 31,
   "metadata": {
    "vscode": {
     "languageId": "r"
    }
   },
   "outputs": [
    {
     "data": {
      "text/html": [
       "230"
      ],
      "text/latex": [
       "230"
      ],
      "text/markdown": [
       "230"
      ],
      "text/plain": [
       "[1] 230"
      ]
     },
     "metadata": {},
     "output_type": "display_data"
    }
   ],
   "source": [
    "length(unique(newdata$`시도_시군구`))"
   ]
  },
  {
   "cell_type": "code",
   "execution_count": 32,
   "metadata": {
    "vscode": {
     "languageId": "r"
    }
   },
   "outputs": [
    {
     "data": {
      "text/html": [
       "<table class=\"dataframe\">\n",
       "<caption>A data.frame: 6 × 12</caption>\n",
       "<thead>\n",
       "\t<tr><th></th><th scope=col>시도</th><th scope=col>시군구</th><th scope=col>발생월</th><th scope=col>사고건수</th><th scope=col>사망자수</th><th scope=col>중상자수</th><th scope=col>경상자수</th><th scope=col>부상신고자수</th><th scope=col>부상자수</th><th scope=col>사고당부상자수</th><th scope=col>총부상자수</th><th scope=col>시도_시군구</th></tr>\n",
       "\t<tr><th></th><th scope=col>&lt;chr&gt;</th><th scope=col>&lt;chr&gt;</th><th scope=col>&lt;int&gt;</th><th scope=col>&lt;int&gt;</th><th scope=col>&lt;int&gt;</th><th scope=col>&lt;int&gt;</th><th scope=col>&lt;int&gt;</th><th scope=col>&lt;int&gt;</th><th scope=col>&lt;int&gt;</th><th scope=col>&lt;dbl&gt;</th><th scope=col>&lt;int&gt;</th><th scope=col>&lt;chr&gt;</th></tr>\n",
       "</thead>\n",
       "<tbody>\n",
       "\t<tr><th scope=row>1</th><td>서울</td><td>종로구</td><td>1</td><td>77</td><td>2</td><td>15</td><td> 79</td><td>14</td><td>108</td><td>1.402597</td><td>216</td><td>서울 종로구</td></tr>\n",
       "\t<tr><th scope=row>2</th><td>서울</td><td>종로구</td><td>2</td><td>66</td><td>0</td><td>17</td><td> 59</td><td> 8</td><td> 84</td><td>1.272727</td><td>168</td><td>서울 종로구</td></tr>\n",
       "\t<tr><th scope=row>3</th><td>서울</td><td>종로구</td><td>3</td><td>67</td><td>0</td><td>15</td><td> 80</td><td> 2</td><td> 97</td><td>1.447761</td><td>194</td><td>서울 종로구</td></tr>\n",
       "\t<tr><th scope=row>4</th><td>서울</td><td>종로구</td><td>4</td><td>73</td><td>1</td><td>17</td><td> 67</td><td> 6</td><td> 90</td><td>1.232877</td><td>180</td><td>서울 종로구</td></tr>\n",
       "\t<tr><th scope=row>5</th><td>서울</td><td>종로구</td><td>5</td><td>88</td><td>0</td><td>21</td><td>103</td><td>12</td><td>136</td><td>1.545455</td><td>272</td><td>서울 종로구</td></tr>\n",
       "\t<tr><th scope=row>6</th><td>서울</td><td>종로구</td><td>6</td><td>82</td><td>0</td><td>17</td><td> 78</td><td> 6</td><td>101</td><td>1.231707</td><td>202</td><td>서울 종로구</td></tr>\n",
       "</tbody>\n",
       "</table>\n"
      ],
      "text/latex": [
       "A data.frame: 6 × 12\n",
       "\\begin{tabular}{r|llllllllllll}\n",
       "  & 시도 & 시군구 & 발생월 & 사고건수 & 사망자수 & 중상자수 & 경상자수 & 부상신고자수 & 부상자수 & 사고당부상자수 & 총부상자수 & 시도\\_시군구\\\\\n",
       "  & <chr> & <chr> & <int> & <int> & <int> & <int> & <int> & <int> & <int> & <dbl> & <int> & <chr>\\\\\n",
       "\\hline\n",
       "\t1 & 서울 & 종로구 & 1 & 77 & 2 & 15 &  79 & 14 & 108 & 1.402597 & 216 & 서울 종로구\\\\\n",
       "\t2 & 서울 & 종로구 & 2 & 66 & 0 & 17 &  59 &  8 &  84 & 1.272727 & 168 & 서울 종로구\\\\\n",
       "\t3 & 서울 & 종로구 & 3 & 67 & 0 & 15 &  80 &  2 &  97 & 1.447761 & 194 & 서울 종로구\\\\\n",
       "\t4 & 서울 & 종로구 & 4 & 73 & 1 & 17 &  67 &  6 &  90 & 1.232877 & 180 & 서울 종로구\\\\\n",
       "\t5 & 서울 & 종로구 & 5 & 88 & 0 & 21 & 103 & 12 & 136 & 1.545455 & 272 & 서울 종로구\\\\\n",
       "\t6 & 서울 & 종로구 & 6 & 82 & 0 & 17 &  78 &  6 & 101 & 1.231707 & 202 & 서울 종로구\\\\\n",
       "\\end{tabular}\n"
      ],
      "text/markdown": [
       "\n",
       "A data.frame: 6 × 12\n",
       "\n",
       "| <!--/--> | 시도 &lt;chr&gt; | 시군구 &lt;chr&gt; | 발생월 &lt;int&gt; | 사고건수 &lt;int&gt; | 사망자수 &lt;int&gt; | 중상자수 &lt;int&gt; | 경상자수 &lt;int&gt; | 부상신고자수 &lt;int&gt; | 부상자수 &lt;int&gt; | 사고당부상자수 &lt;dbl&gt; | 총부상자수 &lt;int&gt; | 시도_시군구 &lt;chr&gt; |\n",
       "|---|---|---|---|---|---|---|---|---|---|---|---|---|\n",
       "| 1 | 서울 | 종로구 | 1 | 77 | 2 | 15 |  79 | 14 | 108 | 1.402597 | 216 | 서울 종로구 |\n",
       "| 2 | 서울 | 종로구 | 2 | 66 | 0 | 17 |  59 |  8 |  84 | 1.272727 | 168 | 서울 종로구 |\n",
       "| 3 | 서울 | 종로구 | 3 | 67 | 0 | 15 |  80 |  2 |  97 | 1.447761 | 194 | 서울 종로구 |\n",
       "| 4 | 서울 | 종로구 | 4 | 73 | 1 | 17 |  67 |  6 |  90 | 1.232877 | 180 | 서울 종로구 |\n",
       "| 5 | 서울 | 종로구 | 5 | 88 | 0 | 21 | 103 | 12 | 136 | 1.545455 | 272 | 서울 종로구 |\n",
       "| 6 | 서울 | 종로구 | 6 | 82 | 0 | 17 |  78 |  6 | 101 | 1.231707 | 202 | 서울 종로구 |\n",
       "\n"
      ],
      "text/plain": [
       "  시도 시군구 발생월 사고건수 사망자수 중상자수 경상자수 부상신고자수 부상자수\n",
       "1 서울 종로구 1      77       2        15        79      14           108     \n",
       "2 서울 종로구 2      66       0        17        59       8            84     \n",
       "3 서울 종로구 3      67       0        15        80       2            97     \n",
       "4 서울 종로구 4      73       1        17        67       6            90     \n",
       "5 서울 종로구 5      88       0        21       103      12           136     \n",
       "6 서울 종로구 6      82       0        17        78       6           101     \n",
       "  사고당부상자수 총부상자수 시도_시군구\n",
       "1 1.402597       216        서울 종로구\n",
       "2 1.272727       168        서울 종로구\n",
       "3 1.447761       194        서울 종로구\n",
       "4 1.232877       180        서울 종로구\n",
       "5 1.545455       272        서울 종로구\n",
       "6 1.231707       202        서울 종로구"
      ]
     },
     "metadata": {},
     "output_type": "display_data"
    }
   ],
   "source": [
    "newdata <- data %>%\n",
    "  mutate(\n",
    "    총부상자수 = 부상자수 + 중상자수 + 경상자수 + 부상신고자수, \n",
    "    시도_시군구 = paste(시도, 시군구, sep = \" \")                 \n",
    "  ) \n",
    "  \n",
    "\n",
    "head(newdata)"
   ]
  },
  {
   "cell_type": "code",
   "execution_count": 33,
   "metadata": {
    "vscode": {
     "languageId": "r"
    }
   },
   "outputs": [
    {
     "data": {
      "text/html": [
       "230"
      ],
      "text/latex": [
       "230"
      ],
      "text/markdown": [
       "230"
      ],
      "text/plain": [
       "[1] 230"
      ]
     },
     "metadata": {},
     "output_type": "display_data"
    }
   ],
   "source": [
    "length(unique(newdata$`시도_시군구`))"
   ]
  },
  {
   "cell_type": "code",
   "execution_count": 34,
   "metadata": {
    "vscode": {
     "languageId": "r"
    }
   },
   "outputs": [],
   "source": [
    "library(dplyr)"
   ]
  },
  {
   "cell_type": "code",
   "execution_count": 35,
   "metadata": {
    "vscode": {
     "languageId": "r"
    }
   },
   "outputs": [
    {
     "data": {
      "text/html": [
       "<style>\n",
       ".list-inline {list-style: none; margin:0; padding: 0}\n",
       ".list-inline>li {display: inline-block}\n",
       ".list-inline>li:not(:last-child)::after {content: \"\\00b7\"; padding: 0 .5ex}\n",
       "</style>\n",
       "<ol class=list-inline><li>'시도'</li><li>'시군구'</li><li>'발생월'</li><li>'사고건수'</li><li>'사망자수'</li><li>'중상자수'</li><li>'경상자수'</li><li>'부상신고자수'</li><li>'부상자수'</li><li>'사고당부상자수'</li><li>'총부상자수'</li><li>'시도_시군구'</li></ol>\n"
      ],
      "text/latex": [
       "\\begin{enumerate*}\n",
       "\\item '시도'\n",
       "\\item '시군구'\n",
       "\\item '발생월'\n",
       "\\item '사고건수'\n",
       "\\item '사망자수'\n",
       "\\item '중상자수'\n",
       "\\item '경상자수'\n",
       "\\item '부상신고자수'\n",
       "\\item '부상자수'\n",
       "\\item '사고당부상자수'\n",
       "\\item '총부상자수'\n",
       "\\item '시도\\_시군구'\n",
       "\\end{enumerate*}\n"
      ],
      "text/markdown": [
       "1. '시도'\n",
       "2. '시군구'\n",
       "3. '발생월'\n",
       "4. '사고건수'\n",
       "5. '사망자수'\n",
       "6. '중상자수'\n",
       "7. '경상자수'\n",
       "8. '부상신고자수'\n",
       "9. '부상자수'\n",
       "10. '사고당부상자수'\n",
       "11. '총부상자수'\n",
       "12. '시도_시군구'\n",
       "\n",
       "\n"
      ],
      "text/plain": [
       " [1] \"시도\"           \"시군구\"         \"발생월\"         \"사고건수\"      \n",
       " [5] \"사망자수\"       \"중상자수\"       \"경상자수\"       \"부상신고자수\"  \n",
       " [9] \"부상자수\"       \"사고당부상자수\" \"총부상자수\"     \"시도_시군구\"   "
      ]
     },
     "metadata": {},
     "output_type": "display_data"
    },
    {
     "name": "stdout",
     "output_type": "stream",
     "text": [
      "'data.frame':\t2744 obs. of  12 variables:\n",
      " $ 시도          : chr  \"서울\" \"서울\" \"서울\" \"서울\" ...\n",
      " $ 시군구        : chr  \"종로구\" \"종로구\" \"종로구\" \"종로구\" ...\n",
      " $ 발생월        : int  1 2 3 4 5 6 7 8 9 10 ...\n",
      " $ 사고건수      : int  77 66 67 73 88 82 95 83 81 96 ...\n",
      " $ 사망자수      : int  2 0 0 1 0 0 0 1 1 2 ...\n",
      " $ 중상자수      : int  15 17 15 17 21 17 16 21 28 23 ...\n",
      " $ 경상자수      : int  79 59 80 67 103 78 97 87 95 93 ...\n",
      " $ 부상신고자수  : int  14 8 2 6 12 6 8 6 9 4 ...\n",
      " $ 부상자수      : int  108 84 97 90 136 101 121 114 132 120 ...\n",
      " $ 사고당부상자수: num  1.4 1.27 1.45 1.23 1.55 ...\n",
      " $ 총부상자수    : int  216 168 194 180 272 202 242 228 264 240 ...\n",
      " $ 시도_시군구   : chr  \"서울 종로구\" \"서울 종로구\" \"서울 종로구\" \"서울 종로구\" ...\n"
     ]
    }
   ],
   "source": [
    "names(newdata)\n",
    "str(newdata)"
   ]
  },
  {
   "cell_type": "code",
   "execution_count": 36,
   "metadata": {
    "vscode": {
     "languageId": "r"
    }
   },
   "outputs": [
    {
     "data": {
      "text/html": [
       "<table class=\"dataframe\">\n",
       "<caption>A data.frame: 1 × 2</caption>\n",
       "<thead>\n",
       "\t<tr><th scope=col>평균_사고건수</th><th scope=col>최대_경상자수</th></tr>\n",
       "\t<tr><th scope=col>&lt;dbl&gt;</th><th scope=col>&lt;dbl&gt;</th></tr>\n",
       "</thead>\n",
       "<tbody>\n",
       "\t<tr><td>72.26531</td><td>5.125</td></tr>\n",
       "</tbody>\n",
       "</table>\n"
      ],
      "text/latex": [
       "A data.frame: 1 × 2\n",
       "\\begin{tabular}{ll}\n",
       " 평균\\_사고건수 & 최대\\_경상자수\\\\\n",
       " <dbl> & <dbl>\\\\\n",
       "\\hline\n",
       "\t 72.26531 & 5.125\\\\\n",
       "\\end{tabular}\n"
      ],
      "text/markdown": [
       "\n",
       "A data.frame: 1 × 2\n",
       "\n",
       "| 평균_사고건수 &lt;dbl&gt; | 최대_경상자수 &lt;dbl&gt; |\n",
       "|---|---|\n",
       "| 72.26531 | 5.125 |\n",
       "\n"
      ],
      "text/plain": [
       "  평균_사고건수 최대_경상자수\n",
       "1 72.26531      5.125        "
      ]
     },
     "metadata": {},
     "output_type": "display_data"
    }
   ],
   "source": [
    "summary_data <- newdata %>%\n",
    "  summarize(\n",
    "    평균_사고건수 = mean(사고건수, na.rm = TRUE), # 사고건수 평균 계산\n",
    "    최대_경상자수 = max(사고당부상자수, na.rm = TRUE)  # 경상자수 최대값 계산\n",
    "  )\n",
    "\n",
    "summary_data\n"
   ]
  },
  {
   "cell_type": "code",
   "execution_count": 37,
   "metadata": {
    "vscode": {
     "languageId": "r"
    }
   },
   "outputs": [
    {
     "data": {
      "text/plain": [
       "\n",
       "충북 괴산군 충북 단양군 충북 보은군 충북 영동군 충북 옥천군 충북 음성군 \n",
       "         12          12          12          12          12          12 \n",
       "충북 제천시 충북 증평군 충북 진천군 충북 청주시 충북 충주시 \n",
       "         12          12          12          12          12 "
      ]
     },
     "metadata": {},
     "output_type": "display_data"
    }
   ],
   "source": [
    "# 필터링 안에서는 grepl로 작성한다.\n",
    "\n",
    "cb <- filter(newdata, grepl(\"충북\", 시도_시군구))\n",
    "table(cb$시도_시군구)"
   ]
  },
  {
   "cell_type": "code",
   "execution_count": 38,
   "metadata": {
    "vscode": {
     "languageId": "r"
    }
   },
   "outputs": [
    {
     "data": {
      "text/html": [
       "<table class=\"dataframe\">\n",
       "<caption>A tibble: 11 × 5</caption>\n",
       "<thead>\n",
       "\t<tr><th scope=col>시도_시군구</th><th scope=col>n()</th><th scope=col>mean(사고건수)</th><th scope=col>max(사고건수)</th><th scope=col>max(부상자수)</th></tr>\n",
       "\t<tr><th scope=col>&lt;chr&gt;</th><th scope=col>&lt;int&gt;</th><th scope=col>&lt;dbl&gt;</th><th scope=col>&lt;int&gt;</th><th scope=col>&lt;int&gt;</th></tr>\n",
       "</thead>\n",
       "<tbody>\n",
       "\t<tr><td>충북 괴산군</td><td>12</td><td> 13.666667</td><td> 21</td><td> 39</td></tr>\n",
       "\t<tr><td>충북 단양군</td><td>12</td><td>  8.333333</td><td> 14</td><td> 27</td></tr>\n",
       "\t<tr><td>충북 보은군</td><td>12</td><td> 11.083333</td><td> 20</td><td> 44</td></tr>\n",
       "\t<tr><td>충북 영동군</td><td>12</td><td> 11.166667</td><td> 22</td><td> 29</td></tr>\n",
       "\t<tr><td>충북 옥천군</td><td>12</td><td> 12.250000</td><td> 19</td><td> 29</td></tr>\n",
       "\t<tr><td>충북 음성군</td><td>12</td><td> 39.916667</td><td> 48</td><td> 88</td></tr>\n",
       "\t<tr><td>충북 제천시</td><td>12</td><td> 61.416667</td><td> 81</td><td>112</td></tr>\n",
       "\t<tr><td>충북 증평군</td><td>12</td><td> 17.166667</td><td> 27</td><td> 40</td></tr>\n",
       "\t<tr><td>충북 진천군</td><td>12</td><td> 39.666667</td><td> 51</td><td> 81</td></tr>\n",
       "\t<tr><td>충북 청주시</td><td>12</td><td>361.416667</td><td>415</td><td>643</td></tr>\n",
       "\t<tr><td>충북 충주시</td><td>12</td><td> 85.500000</td><td>105</td><td>159</td></tr>\n",
       "</tbody>\n",
       "</table>\n"
      ],
      "text/latex": [
       "A tibble: 11 × 5\n",
       "\\begin{tabular}{lllll}\n",
       " 시도\\_시군구 & n() & mean(사고건수) & max(사고건수) & max(부상자수)\\\\\n",
       " <chr> & <int> & <dbl> & <int> & <int>\\\\\n",
       "\\hline\n",
       "\t 충북 괴산군 & 12 &  13.666667 &  21 &  39\\\\\n",
       "\t 충북 단양군 & 12 &   8.333333 &  14 &  27\\\\\n",
       "\t 충북 보은군 & 12 &  11.083333 &  20 &  44\\\\\n",
       "\t 충북 영동군 & 12 &  11.166667 &  22 &  29\\\\\n",
       "\t 충북 옥천군 & 12 &  12.250000 &  19 &  29\\\\\n",
       "\t 충북 음성군 & 12 &  39.916667 &  48 &  88\\\\\n",
       "\t 충북 제천시 & 12 &  61.416667 &  81 & 112\\\\\n",
       "\t 충북 증평군 & 12 &  17.166667 &  27 &  40\\\\\n",
       "\t 충북 진천군 & 12 &  39.666667 &  51 &  81\\\\\n",
       "\t 충북 청주시 & 12 & 361.416667 & 415 & 643\\\\\n",
       "\t 충북 충주시 & 12 &  85.500000 & 105 & 159\\\\\n",
       "\\end{tabular}\n"
      ],
      "text/markdown": [
       "\n",
       "A tibble: 11 × 5\n",
       "\n",
       "| 시도_시군구 &lt;chr&gt; | n() &lt;int&gt; | mean(사고건수) &lt;dbl&gt; | max(사고건수) &lt;int&gt; | max(부상자수) &lt;int&gt; |\n",
       "|---|---|---|---|---|\n",
       "| 충북 괴산군 | 12 |  13.666667 |  21 |  39 |\n",
       "| 충북 단양군 | 12 |   8.333333 |  14 |  27 |\n",
       "| 충북 보은군 | 12 |  11.083333 |  20 |  44 |\n",
       "| 충북 영동군 | 12 |  11.166667 |  22 |  29 |\n",
       "| 충북 옥천군 | 12 |  12.250000 |  19 |  29 |\n",
       "| 충북 음성군 | 12 |  39.916667 |  48 |  88 |\n",
       "| 충북 제천시 | 12 |  61.416667 |  81 | 112 |\n",
       "| 충북 증평군 | 12 |  17.166667 |  27 |  40 |\n",
       "| 충북 진천군 | 12 |  39.666667 |  51 |  81 |\n",
       "| 충북 청주시 | 12 | 361.416667 | 415 | 643 |\n",
       "| 충북 충주시 | 12 |  85.500000 | 105 | 159 |\n",
       "\n"
      ],
      "text/plain": [
       "   시도_시군구 n() mean(사고건수) max(사고건수) max(부상자수)\n",
       "1  충북 괴산군 12   13.666667      21            39          \n",
       "2  충북 단양군 12    8.333333      14            27          \n",
       "3  충북 보은군 12   11.083333      20            44          \n",
       "4  충북 영동군 12   11.166667      22            29          \n",
       "5  충북 옥천군 12   12.250000      19            29          \n",
       "6  충북 음성군 12   39.916667      48            88          \n",
       "7  충북 제천시 12   61.416667      81           112          \n",
       "8  충북 증평군 12   17.166667      27            40          \n",
       "9  충북 진천군 12   39.666667      51            81          \n",
       "10 충북 청주시 12  361.416667     415           643          \n",
       "11 충북 충주시 12   85.500000     105           159          "
      ]
     },
     "metadata": {},
     "output_type": "display_data"
    }
   ],
   "source": [
    "grp <- group_by(cb, 시도_시군구)\n",
    "\n",
    "summarize(grp, n(), mean(사고건수), max(사고건수), max(부상자수)) "
   ]
  },
  {
   "cell_type": "code",
   "execution_count": 39,
   "metadata": {
    "vscode": {
     "languageId": "r"
    }
   },
   "outputs": [],
   "source": [
    "library(readxl)"
   ]
  },
  {
   "cell_type": "code",
   "execution_count": 40,
   "metadata": {
    "vscode": {
     "languageId": "r"
    }
   },
   "outputs": [
    {
     "data": {
      "text/html": [
       "<table class=\"dataframe\">\n",
       "<caption>A tibble: 10 × 10</caption>\n",
       "<thead>\n",
       "\t<tr><th scope=col>측정일시</th><th scope=col>측정소명</th><th scope=col>이산화질소농도</th><th scope=col>오존농도</th><th scope=col>일산화탄소농도</th><th scope=col>아황산가스농도</th><th scope=col>미세먼지농도</th><th scope=col>초미세먼지농도</th><th scope=col>월</th><th scope=col>일</th></tr>\n",
       "\t<tr><th scope=col>&lt;dbl&gt;</th><th scope=col>&lt;chr&gt;</th><th scope=col>&lt;dbl&gt;</th><th scope=col>&lt;dbl&gt;</th><th scope=col>&lt;dbl&gt;</th><th scope=col>&lt;dbl&gt;</th><th scope=col>&lt;dbl&gt;</th><th scope=col>&lt;dbl&gt;</th><th scope=col>&lt;chr&gt;</th><th scope=col>&lt;chr&gt;</th></tr>\n",
       "</thead>\n",
       "<tbody>\n",
       "\t<tr><td>20230101</td><td>강남구</td><td>0.0240</td><td>0.0240</td><td>0.60</td><td>0.0040</td><td>52</td><td>36</td><td>01</td><td>01</td></tr>\n",
       "\t<tr><td>20230101</td><td>강동구</td><td>0.0270</td><td>0.0170</td><td>0.70</td><td>0.0030</td><td>56</td><td>43</td><td>01</td><td>01</td></tr>\n",
       "\t<tr><td>20230101</td><td>강북구</td><td>    NA</td><td>0.0260</td><td>0.70</td><td>0.0040</td><td>51</td><td>34</td><td>01</td><td>01</td></tr>\n",
       "\t<tr><td>20230101</td><td>강서구</td><td>0.0210</td><td>0.0250</td><td>0.60</td><td>0.0040</td><td>62</td><td>38</td><td>01</td><td>01</td></tr>\n",
       "\t<tr><td>20230101</td><td>관악구</td><td>0.0250</td><td>0.0200</td><td>0.60</td><td>0.0030</td><td>54</td><td>35</td><td>01</td><td>01</td></tr>\n",
       "\t<tr><td>20230101</td><td>광진구</td><td>0.0175</td><td>0.0176</td><td>0.79</td><td>0.0026</td><td>48</td><td>36</td><td>01</td><td>01</td></tr>\n",
       "\t<tr><td>20230101</td><td>구로구</td><td>0.0190</td><td>0.0210</td><td>0.40</td><td>0.0030</td><td>53</td><td>35</td><td>01</td><td>01</td></tr>\n",
       "\t<tr><td>20230101</td><td>금천구</td><td>0.0230</td><td>0.0240</td><td>0.60</td><td>0.0040</td><td>47</td><td>38</td><td>01</td><td>01</td></tr>\n",
       "\t<tr><td>20230101</td><td>노원구</td><td>0.0310</td><td>0.0220</td><td>0.70</td><td>0.0040</td><td>51</td><td>39</td><td>01</td><td>01</td></tr>\n",
       "\t<tr><td>20230101</td><td>도봉구</td><td>0.0200</td><td>0.0290</td><td>0.70</td><td>0.0030</td><td>43</td><td>32</td><td>01</td><td>01</td></tr>\n",
       "</tbody>\n",
       "</table>\n"
      ],
      "text/latex": [
       "A tibble: 10 × 10\n",
       "\\begin{tabular}{llllllllll}\n",
       " 측정일시 & 측정소명 & 이산화질소농도 & 오존농도 & 일산화탄소농도 & 아황산가스농도 & 미세먼지농도 & 초미세먼지농도 & 월 & 일\\\\\n",
       " <dbl> & <chr> & <dbl> & <dbl> & <dbl> & <dbl> & <dbl> & <dbl> & <chr> & <chr>\\\\\n",
       "\\hline\n",
       "\t 20230101 & 강남구 & 0.0240 & 0.0240 & 0.60 & 0.0040 & 52 & 36 & 01 & 01\\\\\n",
       "\t 20230101 & 강동구 & 0.0270 & 0.0170 & 0.70 & 0.0030 & 56 & 43 & 01 & 01\\\\\n",
       "\t 20230101 & 강북구 &     NA & 0.0260 & 0.70 & 0.0040 & 51 & 34 & 01 & 01\\\\\n",
       "\t 20230101 & 강서구 & 0.0210 & 0.0250 & 0.60 & 0.0040 & 62 & 38 & 01 & 01\\\\\n",
       "\t 20230101 & 관악구 & 0.0250 & 0.0200 & 0.60 & 0.0030 & 54 & 35 & 01 & 01\\\\\n",
       "\t 20230101 & 광진구 & 0.0175 & 0.0176 & 0.79 & 0.0026 & 48 & 36 & 01 & 01\\\\\n",
       "\t 20230101 & 구로구 & 0.0190 & 0.0210 & 0.40 & 0.0030 & 53 & 35 & 01 & 01\\\\\n",
       "\t 20230101 & 금천구 & 0.0230 & 0.0240 & 0.60 & 0.0040 & 47 & 38 & 01 & 01\\\\\n",
       "\t 20230101 & 노원구 & 0.0310 & 0.0220 & 0.70 & 0.0040 & 51 & 39 & 01 & 01\\\\\n",
       "\t 20230101 & 도봉구 & 0.0200 & 0.0290 & 0.70 & 0.0030 & 43 & 32 & 01 & 01\\\\\n",
       "\\end{tabular}\n"
      ],
      "text/markdown": [
       "\n",
       "A tibble: 10 × 10\n",
       "\n",
       "| 측정일시 &lt;dbl&gt; | 측정소명 &lt;chr&gt; | 이산화질소농도 &lt;dbl&gt; | 오존농도 &lt;dbl&gt; | 일산화탄소농도 &lt;dbl&gt; | 아황산가스농도 &lt;dbl&gt; | 미세먼지농도 &lt;dbl&gt; | 초미세먼지농도 &lt;dbl&gt; | 월 &lt;chr&gt; | 일 &lt;chr&gt; |\n",
       "|---|---|---|---|---|---|---|---|---|---|\n",
       "| 20230101 | 강남구 | 0.0240 | 0.0240 | 0.60 | 0.0040 | 52 | 36 | 01 | 01 |\n",
       "| 20230101 | 강동구 | 0.0270 | 0.0170 | 0.70 | 0.0030 | 56 | 43 | 01 | 01 |\n",
       "| 20230101 | 강북구 |     NA | 0.0260 | 0.70 | 0.0040 | 51 | 34 | 01 | 01 |\n",
       "| 20230101 | 강서구 | 0.0210 | 0.0250 | 0.60 | 0.0040 | 62 | 38 | 01 | 01 |\n",
       "| 20230101 | 관악구 | 0.0250 | 0.0200 | 0.60 | 0.0030 | 54 | 35 | 01 | 01 |\n",
       "| 20230101 | 광진구 | 0.0175 | 0.0176 | 0.79 | 0.0026 | 48 | 36 | 01 | 01 |\n",
       "| 20230101 | 구로구 | 0.0190 | 0.0210 | 0.40 | 0.0030 | 53 | 35 | 01 | 01 |\n",
       "| 20230101 | 금천구 | 0.0230 | 0.0240 | 0.60 | 0.0040 | 47 | 38 | 01 | 01 |\n",
       "| 20230101 | 노원구 | 0.0310 | 0.0220 | 0.70 | 0.0040 | 51 | 39 | 01 | 01 |\n",
       "| 20230101 | 도봉구 | 0.0200 | 0.0290 | 0.70 | 0.0030 | 43 | 32 | 01 | 01 |\n",
       "\n"
      ],
      "text/plain": [
       "   측정일시 측정소명 이산화질소농도 오존농도 일산화탄소농도 아황산가스농도\n",
       "1  20230101 강남구   0.0240         0.0240   0.60           0.0040        \n",
       "2  20230101 강동구   0.0270         0.0170   0.70           0.0030        \n",
       "3  20230101 강북구       NA         0.0260   0.70           0.0040        \n",
       "4  20230101 강서구   0.0210         0.0250   0.60           0.0040        \n",
       "5  20230101 관악구   0.0250         0.0200   0.60           0.0030        \n",
       "6  20230101 광진구   0.0175         0.0176   0.79           0.0026        \n",
       "7  20230101 구로구   0.0190         0.0210   0.40           0.0030        \n",
       "8  20230101 금천구   0.0230         0.0240   0.60           0.0040        \n",
       "9  20230101 노원구   0.0310         0.0220   0.70           0.0040        \n",
       "10 20230101 도봉구   0.0200         0.0290   0.70           0.0030        \n",
       "   미세먼지농도 초미세먼지농도 월 일\n",
       "1  52           36             01 01\n",
       "2  56           43             01 01\n",
       "3  51           34             01 01\n",
       "4  62           38             01 01\n",
       "5  54           35             01 01\n",
       "6  48           36             01 01\n",
       "7  53           35             01 01\n",
       "8  47           38             01 01\n",
       "9  51           39             01 01\n",
       "10 43           32             01 01"
      ]
     },
     "metadata": {},
     "output_type": "display_data"
    }
   ],
   "source": [
    "data <- read_xlsx(\"../mydata/일별평균대기오염도_2023.xlsx\")\n",
    "head(data, 10)"
   ]
  },
  {
   "cell_type": "code",
   "execution_count": 41,
   "metadata": {
    "vscode": {
     "languageId": "r"
    }
   },
   "outputs": [
    {
     "data": {
      "text/plain": [
       "\n",
       "강남구 강동구 강북구 강서구 \n",
       "   365    365    365    365 "
      ]
     },
     "metadata": {},
     "output_type": "display_data"
    }
   ],
   "source": [
    "gang <- data %>% \n",
    "    filter(grepl(\"강.구\", 측정소명, ))\n",
    "table(gang$측정소명)"
   ]
  },
  {
   "cell_type": "code",
   "execution_count": 42,
   "metadata": {
    "vscode": {
     "languageId": "r"
    }
   },
   "outputs": [
    {
     "data": {
      "text/plain": [
       "    측정일시          측정소명         이산화질소농도       오존농도      \n",
       " Min.   :20230101   Length:1460        Min.   :0.00380   Min.   :0.00230  \n",
       " 1st Qu.:20230402   Class :character   1st Qu.:0.01117   1st Qu.:0.02070  \n",
       " Median :20230702   Mode  :character   Median :0.01660   Median :0.02965  \n",
       " Mean   :20230668                      Mean   :0.01943   Mean   :0.03070  \n",
       " 3rd Qu.:20231001                      3rd Qu.:0.02540   3rd Qu.:0.03955  \n",
       " Max.   :20231231                      Max.   :0.06580   Max.   :0.08760  \n",
       "                                       NA's   :20        NA's   :18       \n",
       " 일산화탄소농도   아황산가스농도     미세먼지농도    초미세먼지농도 \n",
       " Min.   :0.1700   Min.   :0.00160   Min.   :  3.00   Min.   : 1.00  \n",
       " 1st Qu.:0.3400   1st Qu.:0.00230   1st Qu.: 22.00   1st Qu.:11.00  \n",
       " Median :0.4000   Median :0.00270   Median : 33.00   Median :17.00  \n",
       " Mean   :0.4395   Mean   :0.00277   Mean   : 39.12   Mean   :19.53  \n",
       " 3rd Qu.:0.5100   3rd Qu.:0.00300   3rd Qu.: 47.00   3rd Qu.:25.00  \n",
       " Max.   :1.1100   Max.   :0.00540   Max.   :286.00   Max.   :98.00  \n",
       " NA's   :41       NA's   :33        NA's   :20       NA's   :17     \n",
       "      월                 일           \n",
       " Length:1460        Length:1460       \n",
       " Class :character   Class :character  \n",
       " Mode  :character   Mode  :character  \n",
       "                                      \n",
       "                                      \n",
       "                                      \n",
       "                                      "
      ]
     },
     "metadata": {},
     "output_type": "display_data"
    }
   ],
   "source": [
    "summary(gang)"
   ]
  },
  {
   "cell_type": "code",
   "execution_count": 43,
   "metadata": {
    "vscode": {
     "languageId": "r"
    }
   },
   "outputs": [
    {
     "data": {
      "text/html": [
       "<table class=\"dataframe\">\n",
       "<caption>A tibble: 4 × 3</caption>\n",
       "<thead>\n",
       "\t<tr><th scope=col>측정소명</th><th scope=col>mean(미세먼지농도)</th><th scope=col>max(초미세먼지농도)</th></tr>\n",
       "\t<tr><th scope=col>&lt;chr&gt;</th><th scope=col>&lt;dbl&gt;</th><th scope=col>&lt;dbl&gt;</th></tr>\n",
       "</thead>\n",
       "<tbody>\n",
       "\t<tr><td>강남구</td><td>37.26027</td><td>86</td></tr>\n",
       "\t<tr><td>강동구</td><td>      NA</td><td>NA</td></tr>\n",
       "\t<tr><td>강북구</td><td>37.82192</td><td>77</td></tr>\n",
       "\t<tr><td>강서구</td><td>42.13425</td><td>87</td></tr>\n",
       "</tbody>\n",
       "</table>\n"
      ],
      "text/latex": [
       "A tibble: 4 × 3\n",
       "\\begin{tabular}{lll}\n",
       " 측정소명 & mean(미세먼지농도) & max(초미세먼지농도)\\\\\n",
       " <chr> & <dbl> & <dbl>\\\\\n",
       "\\hline\n",
       "\t 강남구 & 37.26027 & 86\\\\\n",
       "\t 강동구 &       NA & NA\\\\\n",
       "\t 강북구 & 37.82192 & 77\\\\\n",
       "\t 강서구 & 42.13425 & 87\\\\\n",
       "\\end{tabular}\n"
      ],
      "text/markdown": [
       "\n",
       "A tibble: 4 × 3\n",
       "\n",
       "| 측정소명 &lt;chr&gt; | mean(미세먼지농도) &lt;dbl&gt; | max(초미세먼지농도) &lt;dbl&gt; |\n",
       "|---|---|---|\n",
       "| 강남구 | 37.26027 | 86 |\n",
       "| 강동구 |       NA | NA |\n",
       "| 강북구 | 37.82192 | 77 |\n",
       "| 강서구 | 42.13425 | 87 |\n",
       "\n"
      ],
      "text/plain": [
       "  측정소명 mean(미세먼지농도) max(초미세먼지농도)\n",
       "1 강남구   37.26027           86                 \n",
       "2 강동구         NA           NA                 \n",
       "3 강북구   37.82192           77                 \n",
       "4 강서구   42.13425           87                 "
      ]
     },
     "metadata": {},
     "output_type": "display_data"
    }
   ],
   "source": [
    "grp <- group_by(gang, 측정소명)\n",
    "\n",
    "summarize(grp, mean(미세먼지농도), max(초미세먼지농도), )"
   ]
  },
  {
   "cell_type": "code",
   "execution_count": 44,
   "metadata": {
    "vscode": {
     "languageId": "r"
    }
   },
   "outputs": [
    {
     "data": {
      "text/html": [
       "<table class=\"dataframe\">\n",
       "<caption>A tibble: 4 × 4</caption>\n",
       "<thead>\n",
       "\t<tr><th scope=col>측정소명</th><th scope=col>총미세먼지농도</th><th scope=col>평균미세먼지농도</th><th scope=col>최대초미세먼지농도</th></tr>\n",
       "\t<tr><th scope=col>&lt;chr&gt;</th><th scope=col>&lt;dbl&gt;</th><th scope=col>&lt;dbl&gt;</th><th scope=col>&lt;dbl&gt;</th></tr>\n",
       "</thead>\n",
       "<tbody>\n",
       "\t<tr><td>강남구</td><td>13600</td><td>37.26027</td><td>86</td></tr>\n",
       "\t<tr><td>강동구</td><td>13547</td><td>39.26667</td><td>98</td></tr>\n",
       "\t<tr><td>강북구</td><td>13805</td><td>37.82192</td><td>77</td></tr>\n",
       "\t<tr><td>강서구</td><td>15379</td><td>42.13425</td><td>87</td></tr>\n",
       "</tbody>\n",
       "</table>\n"
      ],
      "text/latex": [
       "A tibble: 4 × 4\n",
       "\\begin{tabular}{llll}\n",
       " 측정소명 & 총미세먼지농도 & 평균미세먼지농도 & 최대초미세먼지농도\\\\\n",
       " <chr> & <dbl> & <dbl> & <dbl>\\\\\n",
       "\\hline\n",
       "\t 강남구 & 13600 & 37.26027 & 86\\\\\n",
       "\t 강동구 & 13547 & 39.26667 & 98\\\\\n",
       "\t 강북구 & 13805 & 37.82192 & 77\\\\\n",
       "\t 강서구 & 15379 & 42.13425 & 87\\\\\n",
       "\\end{tabular}\n"
      ],
      "text/markdown": [
       "\n",
       "A tibble: 4 × 4\n",
       "\n",
       "| 측정소명 &lt;chr&gt; | 총미세먼지농도 &lt;dbl&gt; | 평균미세먼지농도 &lt;dbl&gt; | 최대초미세먼지농도 &lt;dbl&gt; |\n",
       "|---|---|---|---|\n",
       "| 강남구 | 13600 | 37.26027 | 86 |\n",
       "| 강동구 | 13547 | 39.26667 | 98 |\n",
       "| 강북구 | 13805 | 37.82192 | 77 |\n",
       "| 강서구 | 15379 | 42.13425 | 87 |\n",
       "\n"
      ],
      "text/plain": [
       "  측정소명 총미세먼지농도 평균미세먼지농도 최대초미세먼지농도\n",
       "1 강남구   13600          37.26027         86                \n",
       "2 강동구   13547          39.26667         98                \n",
       "3 강북구   13805          37.82192         77                \n",
       "4 강서구   15379          42.13425         87                "
      ]
     },
     "metadata": {},
     "output_type": "display_data"
    }
   ],
   "source": [
    "summary_data <- gang %>%\n",
    "  group_by(측정소명) %>%\n",
    "  summarize(\n",
    "    총미세먼지농도 = sum(미세먼지농도, na.rm = TRUE),  # 미세먼지 농도의 합계\n",
    "    평균미세먼지농도 = mean(미세먼지농도, na.rm = TRUE), # 미세먼지 농도의 평균\n",
    "    최대초미세먼지농도 = max(초미세먼지농도, na.rm = TRUE) # 초미세먼지 농도의 최대값\n",
    "  )\n",
    "\n",
    "# 결과 확인\n",
    "head(summary_data)\n"
   ]
  },
  {
   "cell_type": "code",
   "execution_count": 45,
   "metadata": {
    "vscode": {
     "languageId": "r"
    }
   },
   "outputs": [],
   "source": [
    "library(reshape2)"
   ]
  },
  {
   "cell_type": "code",
   "execution_count": 46,
   "metadata": {
    "vscode": {
     "languageId": "r"
    }
   },
   "outputs": [
    {
     "name": "stderr",
     "output_type": "stream",
     "text": [
      "Warning message in data(gang, 월 ~ 측정소명, value.var = \"초미세먼지농도\", :\n",
      "“data set ‘gang’ not found”\n",
      "Warning message in data(gang, 월 ~ 측정소명, value.var = \"초미세먼지농도\", :\n",
      "“data set ‘월 ~ 측정소명’ not found”\n",
      "Warning message in data(gang, 월 ~ 측정소명, value.var = \"초미세먼지농도\", :\n",
      "“data set ‘초미세먼지농도’ not found”\n",
      "Warning message in data(gang, 월 ~ 측정소명, value.var = \"초미세먼지농도\", :\n",
      "“data set ‘mean’ not found”\n",
      "Warning message in data(gang, 월 ~ 측정소명, value.var = \"초미세먼지농도\", :\n",
      "“data set ‘T’ not found”\n"
     ]
    }
   ],
   "source": [
    "data(gang, 월 ~ 측정소명, value.var='초미세먼지농도', mean, margim=T)"
   ]
  }
 ],
 "metadata": {
  "kernelspec": {
   "display_name": "R",
   "language": "R",
   "name": "ir"
  },
  "language_info": {
   "codemirror_mode": "r",
   "file_extension": ".r",
   "mimetype": "text/x-r-source",
   "name": "R",
   "pygments_lexer": "r",
   "version": "4.3.1"
  }
 },
 "nbformat": 4,
 "nbformat_minor": 2
}
