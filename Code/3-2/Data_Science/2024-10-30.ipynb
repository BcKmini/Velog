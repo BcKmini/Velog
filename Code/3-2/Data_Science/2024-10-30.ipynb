{
 "cells": [
  {
   "cell_type": "code",
   "execution_count": 19,
   "metadata": {
    "vscode": {
     "languageId": "r"
    }
   },
   "outputs": [],
   "source": [
    "a <- mtcars"
   ]
  },
  {
   "cell_type": "code",
   "execution_count": 20,
   "metadata": {
    "vscode": {
     "languageId": "r"
    }
   },
   "outputs": [
    {
     "data": {
      "text/html": [
       "<table class=\"dataframe\">\n",
       "<caption>A data.frame: 3 × 2</caption>\n",
       "<thead>\n",
       "\t<tr><th></th><th scope=col>mpg</th><th scope=col>cyl</th></tr>\n",
       "\t<tr><th></th><th scope=col>&lt;dbl&gt;</th><th scope=col>&lt;dbl&gt;</th></tr>\n",
       "</thead>\n",
       "<tbody>\n",
       "\t<tr><th scope=row>Mazda RX4</th><td>21.0</td><td>6</td></tr>\n",
       "\t<tr><th scope=row>Mazda RX4 Wag</th><td>21.0</td><td>6</td></tr>\n",
       "\t<tr><th scope=row>Datsun 710</th><td>22.8</td><td>4</td></tr>\n",
       "</tbody>\n",
       "</table>\n"
      ],
      "text/latex": [
       "A data.frame: 3 × 2\n",
       "\\begin{tabular}{r|ll}\n",
       "  & mpg & cyl\\\\\n",
       "  & <dbl> & <dbl>\\\\\n",
       "\\hline\n",
       "\tMazda RX4 & 21.0 & 6\\\\\n",
       "\tMazda RX4 Wag & 21.0 & 6\\\\\n",
       "\tDatsun 710 & 22.8 & 4\\\\\n",
       "\\end{tabular}\n"
      ],
      "text/markdown": [
       "\n",
       "A data.frame: 3 × 2\n",
       "\n",
       "| <!--/--> | mpg &lt;dbl&gt; | cyl &lt;dbl&gt; |\n",
       "|---|---|---|\n",
       "| Mazda RX4 | 21.0 | 6 |\n",
       "| Mazda RX4 Wag | 21.0 | 6 |\n",
       "| Datsun 710 | 22.8 | 4 |\n",
       "\n"
      ],
      "text/plain": [
       "              mpg  cyl\n",
       "Mazda RX4     21.0 6  \n",
       "Mazda RX4 Wag 21.0 6  \n",
       "Datsun 710    22.8 4  "
      ]
     },
     "metadata": {},
     "output_type": "display_data"
    }
   ],
   "source": [
    "r1 <- mtcars[1:3, 1:2]\n",
    "r1"
   ]
  },
  {
   "cell_type": "code",
   "execution_count": 21,
   "metadata": {
    "vscode": {
     "languageId": "r"
    }
   },
   "outputs": [
    {
     "data": {
      "text/html": [
       "<table class=\"dataframe\">\n",
       "<caption>A data.frame: 4 × 2</caption>\n",
       "<thead>\n",
       "\t<tr><th></th><th scope=col>mpg</th><th scope=col>cyl</th></tr>\n",
       "\t<tr><th></th><th scope=col>&lt;dbl&gt;</th><th scope=col>&lt;dbl&gt;</th></tr>\n",
       "</thead>\n",
       "<tbody>\n",
       "\t<tr><th scope=row>Mazda RX4</th><td>21.0</td><td>6</td></tr>\n",
       "\t<tr><th scope=row>Mazda RX4 Wag</th><td>21.0</td><td>6</td></tr>\n",
       "\t<tr><th scope=row>Datsun 710</th><td>22.8</td><td>4</td></tr>\n",
       "\t<tr><th scope=row>Hornet 4 Drive</th><td>21.4</td><td>6</td></tr>\n",
       "</tbody>\n",
       "</table>\n"
      ],
      "text/latex": [
       "A data.frame: 4 × 2\n",
       "\\begin{tabular}{r|ll}\n",
       "  & mpg & cyl\\\\\n",
       "  & <dbl> & <dbl>\\\\\n",
       "\\hline\n",
       "\tMazda RX4 & 21.0 & 6\\\\\n",
       "\tMazda RX4 Wag & 21.0 & 6\\\\\n",
       "\tDatsun 710 & 22.8 & 4\\\\\n",
       "\tHornet 4 Drive & 21.4 & 6\\\\\n",
       "\\end{tabular}\n"
      ],
      "text/markdown": [
       "\n",
       "A data.frame: 4 × 2\n",
       "\n",
       "| <!--/--> | mpg &lt;dbl&gt; | cyl &lt;dbl&gt; |\n",
       "|---|---|---|\n",
       "| Mazda RX4 | 21.0 | 6 |\n",
       "| Mazda RX4 Wag | 21.0 | 6 |\n",
       "| Datsun 710 | 22.8 | 4 |\n",
       "| Hornet 4 Drive | 21.4 | 6 |\n",
       "\n"
      ],
      "text/plain": [
       "               mpg  cyl\n",
       "Mazda RX4      21.0 6  \n",
       "Mazda RX4 Wag  21.0 6  \n",
       "Datsun 710     22.8 4  \n",
       "Hornet 4 Drive 21.4 6  "
      ]
     },
     "metadata": {},
     "output_type": "display_data"
    }
   ],
   "source": [
    "r2 <- a[1:4, 1:2]\n",
    "r2"
   ]
  },
  {
   "cell_type": "code",
   "execution_count": 22,
   "metadata": {
    "vscode": {
     "languageId": "r"
    }
   },
   "outputs": [
    {
     "data": {
      "text/html": [
       "<table class=\"dataframe\">\n",
       "<caption>A data.frame: 4 × 2</caption>\n",
       "<thead>\n",
       "\t<tr><th></th><th scope=col>mpg</th><th scope=col>cyl</th></tr>\n",
       "\t<tr><th></th><th scope=col>&lt;dbl&gt;</th><th scope=col>&lt;dbl&gt;</th></tr>\n",
       "</thead>\n",
       "<tbody>\n",
       "\t<tr><th scope=row>Mazda RX4</th><td>21.0</td><td>6</td></tr>\n",
       "\t<tr><th scope=row>Mazda RX4 Wag</th><td>21.0</td><td>6</td></tr>\n",
       "\t<tr><th scope=row>Datsun 710</th><td>22.8</td><td>4</td></tr>\n",
       "\t<tr><th scope=row>Hornet 4 Drive</th><td>21.4</td><td>6</td></tr>\n",
       "</tbody>\n",
       "</table>\n"
      ],
      "text/latex": [
       "A data.frame: 4 × 2\n",
       "\\begin{tabular}{r|ll}\n",
       "  & mpg & cyl\\\\\n",
       "  & <dbl> & <dbl>\\\\\n",
       "\\hline\n",
       "\tMazda RX4 & 21.0 & 6\\\\\n",
       "\tMazda RX4 Wag & 21.0 & 6\\\\\n",
       "\tDatsun 710 & 22.8 & 4\\\\\n",
       "\tHornet 4 Drive & 21.4 & 6\\\\\n",
       "\\end{tabular}\n"
      ],
      "text/markdown": [
       "\n",
       "A data.frame: 4 × 2\n",
       "\n",
       "| <!--/--> | mpg &lt;dbl&gt; | cyl &lt;dbl&gt; |\n",
       "|---|---|---|\n",
       "| Mazda RX4 | 21.0 | 6 |\n",
       "| Mazda RX4 Wag | 21.0 | 6 |\n",
       "| Datsun 710 | 22.8 | 4 |\n",
       "| Hornet 4 Drive | 21.4 | 6 |\n",
       "\n"
      ],
      "text/plain": [
       "               mpg  cyl\n",
       "Mazda RX4      21.0 6  \n",
       "Mazda RX4 Wag  21.0 6  \n",
       "Datsun 710     22.8 4  \n",
       "Hornet 4 Drive 21.4 6  "
      ]
     },
     "metadata": {},
     "output_type": "display_data"
    }
   ],
   "source": [
    "r2 <- r2[c(1,2)]\n",
    "r2"
   ]
  },
  {
   "cell_type": "code",
   "execution_count": 23,
   "metadata": {
    "vscode": {
     "languageId": "r"
    }
   },
   "outputs": [
    {
     "data": {
      "text/html": [
       "<table class=\"dataframe\">\n",
       "<caption>A data.frame: 7 × 2</caption>\n",
       "<thead>\n",
       "\t<tr><th></th><th scope=col>mpg</th><th scope=col>cyl</th></tr>\n",
       "\t<tr><th></th><th scope=col>&lt;dbl&gt;</th><th scope=col>&lt;dbl&gt;</th></tr>\n",
       "</thead>\n",
       "<tbody>\n",
       "\t<tr><th scope=row>Mazda RX4</th><td>21.0</td><td>6</td></tr>\n",
       "\t<tr><th scope=row>Mazda RX4 Wag</th><td>21.0</td><td>6</td></tr>\n",
       "\t<tr><th scope=row>Datsun 710</th><td>22.8</td><td>4</td></tr>\n",
       "\t<tr><th scope=row>Mazda RX41</th><td>21.0</td><td>6</td></tr>\n",
       "\t<tr><th scope=row>Mazda RX4 Wag1</th><td>21.0</td><td>6</td></tr>\n",
       "\t<tr><th scope=row>Datsun 7101</th><td>22.8</td><td>4</td></tr>\n",
       "\t<tr><th scope=row>Hornet 4 Drive</th><td>21.4</td><td>6</td></tr>\n",
       "</tbody>\n",
       "</table>\n"
      ],
      "text/latex": [
       "A data.frame: 7 × 2\n",
       "\\begin{tabular}{r|ll}\n",
       "  & mpg & cyl\\\\\n",
       "  & <dbl> & <dbl>\\\\\n",
       "\\hline\n",
       "\tMazda RX4 & 21.0 & 6\\\\\n",
       "\tMazda RX4 Wag & 21.0 & 6\\\\\n",
       "\tDatsun 710 & 22.8 & 4\\\\\n",
       "\tMazda RX41 & 21.0 & 6\\\\\n",
       "\tMazda RX4 Wag1 & 21.0 & 6\\\\\n",
       "\tDatsun 7101 & 22.8 & 4\\\\\n",
       "\tHornet 4 Drive & 21.4 & 6\\\\\n",
       "\\end{tabular}\n"
      ],
      "text/markdown": [
       "\n",
       "A data.frame: 7 × 2\n",
       "\n",
       "| <!--/--> | mpg &lt;dbl&gt; | cyl &lt;dbl&gt; |\n",
       "|---|---|---|\n",
       "| Mazda RX4 | 21.0 | 6 |\n",
       "| Mazda RX4 Wag | 21.0 | 6 |\n",
       "| Datsun 710 | 22.8 | 4 |\n",
       "| Mazda RX41 | 21.0 | 6 |\n",
       "| Mazda RX4 Wag1 | 21.0 | 6 |\n",
       "| Datsun 7101 | 22.8 | 4 |\n",
       "| Hornet 4 Drive | 21.4 | 6 |\n",
       "\n"
      ],
      "text/plain": [
       "               mpg  cyl\n",
       "Mazda RX4      21.0 6  \n",
       "Mazda RX4 Wag  21.0 6  \n",
       "Datsun 710     22.8 4  \n",
       "Mazda RX41     21.0 6  \n",
       "Mazda RX4 Wag1 21.0 6  \n",
       "Datsun 7101    22.8 4  \n",
       "Hornet 4 Drive 21.4 6  "
      ]
     },
     "metadata": {},
     "output_type": "display_data"
    }
   ],
   "source": [
    "rbind(r1 ,r2)"
   ]
  },
  {
   "cell_type": "code",
   "execution_count": 25,
   "metadata": {
    "vscode": {
     "languageId": "r"
    }
   },
   "outputs": [
    {
     "data": {
      "text/html": [
       "<table class=\"dataframe\">\n",
       "<caption>A nfnGroupedData: 35 × 3</caption>\n",
       "<thead>\n",
       "\t<tr><th></th><th scope=col>Tree</th><th scope=col>age</th><th scope=col>circumference</th></tr>\n",
       "\t<tr><th></th><th scope=col>&lt;ord&gt;</th><th scope=col>&lt;dbl&gt;</th><th scope=col>&lt;dbl&gt;</th></tr>\n",
       "</thead>\n",
       "<tbody>\n",
       "\t<tr><th scope=row>1</th><td>1</td><td> 118</td><td> 30</td></tr>\n",
       "\t<tr><th scope=row>2</th><td>1</td><td> 484</td><td> 58</td></tr>\n",
       "\t<tr><th scope=row>3</th><td>1</td><td> 664</td><td> 87</td></tr>\n",
       "\t<tr><th scope=row>4</th><td>1</td><td>1004</td><td>115</td></tr>\n",
       "\t<tr><th scope=row>5</th><td>1</td><td>1231</td><td>120</td></tr>\n",
       "\t<tr><th scope=row>6</th><td>1</td><td>1372</td><td>142</td></tr>\n",
       "\t<tr><th scope=row>7</th><td>1</td><td>1582</td><td>145</td></tr>\n",
       "\t<tr><th scope=row>8</th><td>2</td><td> 118</td><td> 33</td></tr>\n",
       "\t<tr><th scope=row>9</th><td>2</td><td> 484</td><td> 69</td></tr>\n",
       "\t<tr><th scope=row>10</th><td>2</td><td> 664</td><td>111</td></tr>\n",
       "\t<tr><th scope=row>11</th><td>2</td><td>1004</td><td>156</td></tr>\n",
       "\t<tr><th scope=row>12</th><td>2</td><td>1231</td><td>172</td></tr>\n",
       "\t<tr><th scope=row>13</th><td>2</td><td>1372</td><td>203</td></tr>\n",
       "\t<tr><th scope=row>14</th><td>2</td><td>1582</td><td>203</td></tr>\n",
       "\t<tr><th scope=row>15</th><td>3</td><td> 118</td><td> 30</td></tr>\n",
       "\t<tr><th scope=row>16</th><td>3</td><td> 484</td><td> 51</td></tr>\n",
       "\t<tr><th scope=row>17</th><td>3</td><td> 664</td><td> 75</td></tr>\n",
       "\t<tr><th scope=row>18</th><td>3</td><td>1004</td><td>108</td></tr>\n",
       "\t<tr><th scope=row>19</th><td>3</td><td>1231</td><td>115</td></tr>\n",
       "\t<tr><th scope=row>20</th><td>3</td><td>1372</td><td>139</td></tr>\n",
       "\t<tr><th scope=row>21</th><td>3</td><td>1582</td><td>140</td></tr>\n",
       "\t<tr><th scope=row>22</th><td>4</td><td> 118</td><td> 32</td></tr>\n",
       "\t<tr><th scope=row>23</th><td>4</td><td> 484</td><td> 62</td></tr>\n",
       "\t<tr><th scope=row>24</th><td>4</td><td> 664</td><td>112</td></tr>\n",
       "\t<tr><th scope=row>25</th><td>4</td><td>1004</td><td>167</td></tr>\n",
       "\t<tr><th scope=row>26</th><td>4</td><td>1231</td><td>179</td></tr>\n",
       "\t<tr><th scope=row>27</th><td>4</td><td>1372</td><td>209</td></tr>\n",
       "\t<tr><th scope=row>28</th><td>4</td><td>1582</td><td>214</td></tr>\n",
       "\t<tr><th scope=row>29</th><td>5</td><td> 118</td><td> 30</td></tr>\n",
       "\t<tr><th scope=row>30</th><td>5</td><td> 484</td><td> 49</td></tr>\n",
       "\t<tr><th scope=row>31</th><td>5</td><td> 664</td><td> 81</td></tr>\n",
       "\t<tr><th scope=row>32</th><td>5</td><td>1004</td><td>125</td></tr>\n",
       "\t<tr><th scope=row>33</th><td>5</td><td>1231</td><td>142</td></tr>\n",
       "\t<tr><th scope=row>34</th><td>5</td><td>1372</td><td>174</td></tr>\n",
       "\t<tr><th scope=row>35</th><td>5</td><td>1582</td><td>177</td></tr>\n",
       "</tbody>\n",
       "</table>\n"
      ],
      "text/latex": [
       "A nfnGroupedData: 35 × 3\n",
       "\\begin{tabular}{r|lll}\n",
       "  & Tree & age & circumference\\\\\n",
       "  & <ord> & <dbl> & <dbl>\\\\\n",
       "\\hline\n",
       "\t1 & 1 &  118 &  30\\\\\n",
       "\t2 & 1 &  484 &  58\\\\\n",
       "\t3 & 1 &  664 &  87\\\\\n",
       "\t4 & 1 & 1004 & 115\\\\\n",
       "\t5 & 1 & 1231 & 120\\\\\n",
       "\t6 & 1 & 1372 & 142\\\\\n",
       "\t7 & 1 & 1582 & 145\\\\\n",
       "\t8 & 2 &  118 &  33\\\\\n",
       "\t9 & 2 &  484 &  69\\\\\n",
       "\t10 & 2 &  664 & 111\\\\\n",
       "\t11 & 2 & 1004 & 156\\\\\n",
       "\t12 & 2 & 1231 & 172\\\\\n",
       "\t13 & 2 & 1372 & 203\\\\\n",
       "\t14 & 2 & 1582 & 203\\\\\n",
       "\t15 & 3 &  118 &  30\\\\\n",
       "\t16 & 3 &  484 &  51\\\\\n",
       "\t17 & 3 &  664 &  75\\\\\n",
       "\t18 & 3 & 1004 & 108\\\\\n",
       "\t19 & 3 & 1231 & 115\\\\\n",
       "\t20 & 3 & 1372 & 139\\\\\n",
       "\t21 & 3 & 1582 & 140\\\\\n",
       "\t22 & 4 &  118 &  32\\\\\n",
       "\t23 & 4 &  484 &  62\\\\\n",
       "\t24 & 4 &  664 & 112\\\\\n",
       "\t25 & 4 & 1004 & 167\\\\\n",
       "\t26 & 4 & 1231 & 179\\\\\n",
       "\t27 & 4 & 1372 & 209\\\\\n",
       "\t28 & 4 & 1582 & 214\\\\\n",
       "\t29 & 5 &  118 &  30\\\\\n",
       "\t30 & 5 &  484 &  49\\\\\n",
       "\t31 & 5 &  664 &  81\\\\\n",
       "\t32 & 5 & 1004 & 125\\\\\n",
       "\t33 & 5 & 1231 & 142\\\\\n",
       "\t34 & 5 & 1372 & 174\\\\\n",
       "\t35 & 5 & 1582 & 177\\\\\n",
       "\\end{tabular}\n"
      ],
      "text/markdown": [
       "\n",
       "A nfnGroupedData: 35 × 3\n",
       "\n",
       "| <!--/--> | Tree &lt;ord&gt; | age &lt;dbl&gt; | circumference &lt;dbl&gt; |\n",
       "|---|---|---|---|\n",
       "| 1 | 1 |  118 |  30 |\n",
       "| 2 | 1 |  484 |  58 |\n",
       "| 3 | 1 |  664 |  87 |\n",
       "| 4 | 1 | 1004 | 115 |\n",
       "| 5 | 1 | 1231 | 120 |\n",
       "| 6 | 1 | 1372 | 142 |\n",
       "| 7 | 1 | 1582 | 145 |\n",
       "| 8 | 2 |  118 |  33 |\n",
       "| 9 | 2 |  484 |  69 |\n",
       "| 10 | 2 |  664 | 111 |\n",
       "| 11 | 2 | 1004 | 156 |\n",
       "| 12 | 2 | 1231 | 172 |\n",
       "| 13 | 2 | 1372 | 203 |\n",
       "| 14 | 2 | 1582 | 203 |\n",
       "| 15 | 3 |  118 |  30 |\n",
       "| 16 | 3 |  484 |  51 |\n",
       "| 17 | 3 |  664 |  75 |\n",
       "| 18 | 3 | 1004 | 108 |\n",
       "| 19 | 3 | 1231 | 115 |\n",
       "| 20 | 3 | 1372 | 139 |\n",
       "| 21 | 3 | 1582 | 140 |\n",
       "| 22 | 4 |  118 |  32 |\n",
       "| 23 | 4 |  484 |  62 |\n",
       "| 24 | 4 |  664 | 112 |\n",
       "| 25 | 4 | 1004 | 167 |\n",
       "| 26 | 4 | 1231 | 179 |\n",
       "| 27 | 4 | 1372 | 209 |\n",
       "| 28 | 4 | 1582 | 214 |\n",
       "| 29 | 5 |  118 |  30 |\n",
       "| 30 | 5 |  484 |  49 |\n",
       "| 31 | 5 |  664 |  81 |\n",
       "| 32 | 5 | 1004 | 125 |\n",
       "| 33 | 5 | 1231 | 142 |\n",
       "| 34 | 5 | 1372 | 174 |\n",
       "| 35 | 5 | 1582 | 177 |\n",
       "\n"
      ],
      "text/plain": [
       "   Tree age  circumference\n",
       "1  1     118  30          \n",
       "2  1     484  58          \n",
       "3  1     664  87          \n",
       "4  1    1004 115          \n",
       "5  1    1231 120          \n",
       "6  1    1372 142          \n",
       "7  1    1582 145          \n",
       "8  2     118  33          \n",
       "9  2     484  69          \n",
       "10 2     664 111          \n",
       "11 2    1004 156          \n",
       "12 2    1231 172          \n",
       "13 2    1372 203          \n",
       "14 2    1582 203          \n",
       "15 3     118  30          \n",
       "16 3     484  51          \n",
       "17 3     664  75          \n",
       "18 3    1004 108          \n",
       "19 3    1231 115          \n",
       "20 3    1372 139          \n",
       "21 3    1582 140          \n",
       "22 4     118  32          \n",
       "23 4     484  62          \n",
       "24 4     664 112          \n",
       "25 4    1004 167          \n",
       "26 4    1231 179          \n",
       "27 4    1372 209          \n",
       "28 4    1582 214          \n",
       "29 5     118  30          \n",
       "30 5     484  49          \n",
       "31 5     664  81          \n",
       "32 5    1004 125          \n",
       "33 5    1231 142          \n",
       "34 5    1372 174          \n",
       "35 5    1582 177          "
      ]
     },
     "metadata": {},
     "output_type": "display_data"
    }
   ],
   "source": [
    "Orange"
   ]
  },
  {
   "cell_type": "code",
   "execution_count": 26,
   "metadata": {
    "vscode": {
     "languageId": "r"
    }
   },
   "outputs": [
    {
     "name": "stdout",
     "output_type": "stream",
     "text": [
      "Orange                package:datasets                 R Documentation\n",
      "\n",
      "_\bG_\br_\bo_\bw_\bt_\bh _\bo_\bf _\bO_\br_\ba_\bn_\bg_\be _\bT_\br_\be_\be_\bs\n",
      "\n",
      "_\bD_\be_\bs_\bc_\br_\bi_\bp_\bt_\bi_\bo_\bn:\n",
      "\n",
      "     The ‘Orange’ data frame has 35 rows and 3 columns of records of\n",
      "     the growth of orange trees.\n",
      "\n",
      "_\bU_\bs_\ba_\bg_\be:\n",
      "\n",
      "     Orange\n",
      "     \n",
      "_\bF_\bo_\br_\bm_\ba_\bt:\n",
      "\n",
      "     An object of class ‘c(\"nfnGroupedData\", \"nfGroupedData\",\n",
      "     \"groupedData\", \"data.frame\")’ containing the following columns:\n",
      "\n",
      "     Tree an ordered factor indicating the tree on which the\n",
      "          measurement is made.  The ordering is according to increasing\n",
      "          maximum diameter.\n",
      "\n",
      "     age a numeric vector giving the age of the tree (days since\n",
      "          1968/12/31)\n",
      "\n",
      "     circumference a numeric vector of trunk circumferences (mm).  This\n",
      "          is probably “circumference at breast height”, a standard\n",
      "          measurement in forestry.\n",
      "\n",
      "_\bD_\be_\bt_\ba_\bi_\bl_\bs:\n",
      "\n",
      "     This dataset was originally part of package ‘nlme’, and that has\n",
      "     methods (including for ‘[’, ‘as.data.frame’, ‘plot’ and ‘print’)\n",
      "     for its grouped-data classes.\n",
      "\n",
      "_\bS_\bo_\bu_\br_\bc_\be:\n",
      "\n",
      "     Draper, N. R. and Smith, H. (1998), _Applied Regression Analysis\n",
      "     (3rd ed)_, Wiley (exercise 24.N).\n",
      "\n",
      "     Pinheiro, J. C. and Bates, D. M. (2000) _Mixed-effects Models in S\n",
      "     and S-PLUS_, Springer.\n",
      "\n",
      "_\bE_\bx_\ba_\bm_\bp_\bl_\be_\bs:\n",
      "\n",
      "     require(stats); require(graphics)\n",
      "     coplot(circumference ~ age | Tree, data = Orange, show.given = FALSE)\n",
      "     fm1 <- nls(circumference ~ SSlogis(age, Asym, xmid, scal),\n",
      "                data = Orange, subset = Tree == 3)\n",
      "     plot(circumference ~ age, data = Orange, subset = Tree == 3,\n",
      "          xlab = \"Tree age (days since 1968/12/31)\",\n",
      "          ylab = \"Tree circumference (mm)\", las = 1,\n",
      "          main = \"Orange tree data and fitted model (Tree 3 only)\")\n",
      "     age <- seq(0, 1600, length.out = 101)\n",
      "     lines(age, predict(fm1, list(age = age)))\n",
      "     "
     ]
    }
   ],
   "source": [
    "help(Orange)"
   ]
  },
  {
   "cell_type": "code",
   "execution_count": 27,
   "metadata": {
    "vscode": {
     "languageId": "r"
    }
   },
   "outputs": [
    {
     "name": "stdout",
     "output_type": "stream",
     "text": [
      "Classes ‘nfnGroupedData’, ‘nfGroupedData’, ‘groupedData’ and 'data.frame':\t35 obs. of  3 variables:\n",
      " $ Tree         : Ord.factor w/ 5 levels \"3\"<\"1\"<\"5\"<\"2\"<..: 2 2 2 2 2 2 2 4 4 4 ...\n",
      " $ age          : num  118 484 664 1004 1231 ...\n",
      " $ circumference: num  30 58 87 115 120 142 145 33 69 111 ...\n",
      " - attr(*, \"formula\")=Class 'formula'  language circumference ~ age | Tree\n",
      "  .. ..- attr(*, \".Environment\")=<environment: R_EmptyEnv> \n",
      " - attr(*, \"labels\")=List of 2\n",
      "  ..$ x: chr \"Time since December 31, 1968\"\n",
      "  ..$ y: chr \"Trunk circumference\"\n",
      " - attr(*, \"units\")=List of 2\n",
      "  ..$ x: chr \"(days)\"\n",
      "  ..$ y: chr \"(mm)\"\n"
     ]
    }
   ],
   "source": [
    "str(Orange)"
   ]
  },
  {
   "cell_type": "code",
   "execution_count": 31,
   "metadata": {
    "vscode": {
     "languageId": "r"
    }
   },
   "outputs": [],
   "source": [
    "O1 <- subset(Orange, Tree==1)\n",
    "O2 <- subset(Orange, Tree==2)\n",
    "O3 <- subset(Orange, Tree==3)\n",
    "O4 <- subset(Orange, Tree==4)\n",
    "O5 <- subset(Orange, Tree==5)"
   ]
  },
  {
   "cell_type": "code",
   "execution_count": 32,
   "metadata": {
    "vscode": {
     "languageId": "r"
    }
   },
   "outputs": [
    {
     "data": {
      "text/html": [
       "<dl>\n",
       "\t<dt>$`3`</dt>\n",
       "\t\t<dd><table class=\"dataframe\">\n",
       "<caption>A nfnGroupedData: 7 × 3</caption>\n",
       "<thead>\n",
       "\t<tr><th></th><th scope=col>Tree</th><th scope=col>age</th><th scope=col>circumference</th></tr>\n",
       "\t<tr><th></th><th scope=col>&lt;ord&gt;</th><th scope=col>&lt;dbl&gt;</th><th scope=col>&lt;dbl&gt;</th></tr>\n",
       "</thead>\n",
       "<tbody>\n",
       "\t<tr><th scope=row>15</th><td>3</td><td> 118</td><td> 30</td></tr>\n",
       "\t<tr><th scope=row>16</th><td>3</td><td> 484</td><td> 51</td></tr>\n",
       "\t<tr><th scope=row>17</th><td>3</td><td> 664</td><td> 75</td></tr>\n",
       "\t<tr><th scope=row>18</th><td>3</td><td>1004</td><td>108</td></tr>\n",
       "\t<tr><th scope=row>19</th><td>3</td><td>1231</td><td>115</td></tr>\n",
       "\t<tr><th scope=row>20</th><td>3</td><td>1372</td><td>139</td></tr>\n",
       "\t<tr><th scope=row>21</th><td>3</td><td>1582</td><td>140</td></tr>\n",
       "</tbody>\n",
       "</table>\n",
       "</dd>\n",
       "\t<dt>$`1`</dt>\n",
       "\t\t<dd><table class=\"dataframe\">\n",
       "<caption>A nfnGroupedData: 7 × 3</caption>\n",
       "<thead>\n",
       "\t<tr><th></th><th scope=col>Tree</th><th scope=col>age</th><th scope=col>circumference</th></tr>\n",
       "\t<tr><th></th><th scope=col>&lt;ord&gt;</th><th scope=col>&lt;dbl&gt;</th><th scope=col>&lt;dbl&gt;</th></tr>\n",
       "</thead>\n",
       "<tbody>\n",
       "\t<tr><th scope=row>1</th><td>1</td><td> 118</td><td> 30</td></tr>\n",
       "\t<tr><th scope=row>2</th><td>1</td><td> 484</td><td> 58</td></tr>\n",
       "\t<tr><th scope=row>3</th><td>1</td><td> 664</td><td> 87</td></tr>\n",
       "\t<tr><th scope=row>4</th><td>1</td><td>1004</td><td>115</td></tr>\n",
       "\t<tr><th scope=row>5</th><td>1</td><td>1231</td><td>120</td></tr>\n",
       "\t<tr><th scope=row>6</th><td>1</td><td>1372</td><td>142</td></tr>\n",
       "\t<tr><th scope=row>7</th><td>1</td><td>1582</td><td>145</td></tr>\n",
       "</tbody>\n",
       "</table>\n",
       "</dd>\n",
       "\t<dt>$`5`</dt>\n",
       "\t\t<dd><table class=\"dataframe\">\n",
       "<caption>A nfnGroupedData: 7 × 3</caption>\n",
       "<thead>\n",
       "\t<tr><th></th><th scope=col>Tree</th><th scope=col>age</th><th scope=col>circumference</th></tr>\n",
       "\t<tr><th></th><th scope=col>&lt;ord&gt;</th><th scope=col>&lt;dbl&gt;</th><th scope=col>&lt;dbl&gt;</th></tr>\n",
       "</thead>\n",
       "<tbody>\n",
       "\t<tr><th scope=row>29</th><td>5</td><td> 118</td><td> 30</td></tr>\n",
       "\t<tr><th scope=row>30</th><td>5</td><td> 484</td><td> 49</td></tr>\n",
       "\t<tr><th scope=row>31</th><td>5</td><td> 664</td><td> 81</td></tr>\n",
       "\t<tr><th scope=row>32</th><td>5</td><td>1004</td><td>125</td></tr>\n",
       "\t<tr><th scope=row>33</th><td>5</td><td>1231</td><td>142</td></tr>\n",
       "\t<tr><th scope=row>34</th><td>5</td><td>1372</td><td>174</td></tr>\n",
       "\t<tr><th scope=row>35</th><td>5</td><td>1582</td><td>177</td></tr>\n",
       "</tbody>\n",
       "</table>\n",
       "</dd>\n",
       "\t<dt>$`2`</dt>\n",
       "\t\t<dd><table class=\"dataframe\">\n",
       "<caption>A nfnGroupedData: 7 × 3</caption>\n",
       "<thead>\n",
       "\t<tr><th></th><th scope=col>Tree</th><th scope=col>age</th><th scope=col>circumference</th></tr>\n",
       "\t<tr><th></th><th scope=col>&lt;ord&gt;</th><th scope=col>&lt;dbl&gt;</th><th scope=col>&lt;dbl&gt;</th></tr>\n",
       "</thead>\n",
       "<tbody>\n",
       "\t<tr><th scope=row>8</th><td>2</td><td> 118</td><td> 33</td></tr>\n",
       "\t<tr><th scope=row>9</th><td>2</td><td> 484</td><td> 69</td></tr>\n",
       "\t<tr><th scope=row>10</th><td>2</td><td> 664</td><td>111</td></tr>\n",
       "\t<tr><th scope=row>11</th><td>2</td><td>1004</td><td>156</td></tr>\n",
       "\t<tr><th scope=row>12</th><td>2</td><td>1231</td><td>172</td></tr>\n",
       "\t<tr><th scope=row>13</th><td>2</td><td>1372</td><td>203</td></tr>\n",
       "\t<tr><th scope=row>14</th><td>2</td><td>1582</td><td>203</td></tr>\n",
       "</tbody>\n",
       "</table>\n",
       "</dd>\n",
       "\t<dt>$`4`</dt>\n",
       "\t\t<dd><table class=\"dataframe\">\n",
       "<caption>A nfnGroupedData: 7 × 3</caption>\n",
       "<thead>\n",
       "\t<tr><th></th><th scope=col>Tree</th><th scope=col>age</th><th scope=col>circumference</th></tr>\n",
       "\t<tr><th></th><th scope=col>&lt;ord&gt;</th><th scope=col>&lt;dbl&gt;</th><th scope=col>&lt;dbl&gt;</th></tr>\n",
       "</thead>\n",
       "<tbody>\n",
       "\t<tr><th scope=row>22</th><td>4</td><td> 118</td><td> 32</td></tr>\n",
       "\t<tr><th scope=row>23</th><td>4</td><td> 484</td><td> 62</td></tr>\n",
       "\t<tr><th scope=row>24</th><td>4</td><td> 664</td><td>112</td></tr>\n",
       "\t<tr><th scope=row>25</th><td>4</td><td>1004</td><td>167</td></tr>\n",
       "\t<tr><th scope=row>26</th><td>4</td><td>1231</td><td>179</td></tr>\n",
       "\t<tr><th scope=row>27</th><td>4</td><td>1372</td><td>209</td></tr>\n",
       "\t<tr><th scope=row>28</th><td>4</td><td>1582</td><td>214</td></tr>\n",
       "</tbody>\n",
       "</table>\n",
       "</dd>\n",
       "</dl>\n"
      ],
      "text/latex": [
       "\\begin{description}\n",
       "\\item[\\$`3`] A nfnGroupedData: 7 × 3\n",
       "\\begin{tabular}{r|lll}\n",
       "  & Tree & age & circumference\\\\\n",
       "  & <ord> & <dbl> & <dbl>\\\\\n",
       "\\hline\n",
       "\t15 & 3 &  118 &  30\\\\\n",
       "\t16 & 3 &  484 &  51\\\\\n",
       "\t17 & 3 &  664 &  75\\\\\n",
       "\t18 & 3 & 1004 & 108\\\\\n",
       "\t19 & 3 & 1231 & 115\\\\\n",
       "\t20 & 3 & 1372 & 139\\\\\n",
       "\t21 & 3 & 1582 & 140\\\\\n",
       "\\end{tabular}\n",
       "\n",
       "\\item[\\$`1`] A nfnGroupedData: 7 × 3\n",
       "\\begin{tabular}{r|lll}\n",
       "  & Tree & age & circumference\\\\\n",
       "  & <ord> & <dbl> & <dbl>\\\\\n",
       "\\hline\n",
       "\t1 & 1 &  118 &  30\\\\\n",
       "\t2 & 1 &  484 &  58\\\\\n",
       "\t3 & 1 &  664 &  87\\\\\n",
       "\t4 & 1 & 1004 & 115\\\\\n",
       "\t5 & 1 & 1231 & 120\\\\\n",
       "\t6 & 1 & 1372 & 142\\\\\n",
       "\t7 & 1 & 1582 & 145\\\\\n",
       "\\end{tabular}\n",
       "\n",
       "\\item[\\$`5`] A nfnGroupedData: 7 × 3\n",
       "\\begin{tabular}{r|lll}\n",
       "  & Tree & age & circumference\\\\\n",
       "  & <ord> & <dbl> & <dbl>\\\\\n",
       "\\hline\n",
       "\t29 & 5 &  118 &  30\\\\\n",
       "\t30 & 5 &  484 &  49\\\\\n",
       "\t31 & 5 &  664 &  81\\\\\n",
       "\t32 & 5 & 1004 & 125\\\\\n",
       "\t33 & 5 & 1231 & 142\\\\\n",
       "\t34 & 5 & 1372 & 174\\\\\n",
       "\t35 & 5 & 1582 & 177\\\\\n",
       "\\end{tabular}\n",
       "\n",
       "\\item[\\$`2`] A nfnGroupedData: 7 × 3\n",
       "\\begin{tabular}{r|lll}\n",
       "  & Tree & age & circumference\\\\\n",
       "  & <ord> & <dbl> & <dbl>\\\\\n",
       "\\hline\n",
       "\t8 & 2 &  118 &  33\\\\\n",
       "\t9 & 2 &  484 &  69\\\\\n",
       "\t10 & 2 &  664 & 111\\\\\n",
       "\t11 & 2 & 1004 & 156\\\\\n",
       "\t12 & 2 & 1231 & 172\\\\\n",
       "\t13 & 2 & 1372 & 203\\\\\n",
       "\t14 & 2 & 1582 & 203\\\\\n",
       "\\end{tabular}\n",
       "\n",
       "\\item[\\$`4`] A nfnGroupedData: 7 × 3\n",
       "\\begin{tabular}{r|lll}\n",
       "  & Tree & age & circumference\\\\\n",
       "  & <ord> & <dbl> & <dbl>\\\\\n",
       "\\hline\n",
       "\t22 & 4 &  118 &  32\\\\\n",
       "\t23 & 4 &  484 &  62\\\\\n",
       "\t24 & 4 &  664 & 112\\\\\n",
       "\t25 & 4 & 1004 & 167\\\\\n",
       "\t26 & 4 & 1231 & 179\\\\\n",
       "\t27 & 4 & 1372 & 209\\\\\n",
       "\t28 & 4 & 1582 & 214\\\\\n",
       "\\end{tabular}\n",
       "\n",
       "\\end{description}\n"
      ],
      "text/markdown": [
       "$`3`\n",
       ":   \n",
       "A nfnGroupedData: 7 × 3\n",
       "\n",
       "| <!--/--> | Tree &lt;ord&gt; | age &lt;dbl&gt; | circumference &lt;dbl&gt; |\n",
       "|---|---|---|---|\n",
       "| 15 | 3 |  118 |  30 |\n",
       "| 16 | 3 |  484 |  51 |\n",
       "| 17 | 3 |  664 |  75 |\n",
       "| 18 | 3 | 1004 | 108 |\n",
       "| 19 | 3 | 1231 | 115 |\n",
       "| 20 | 3 | 1372 | 139 |\n",
       "| 21 | 3 | 1582 | 140 |\n",
       "\n",
       "\n",
       "$`1`\n",
       ":   \n",
       "A nfnGroupedData: 7 × 3\n",
       "\n",
       "| <!--/--> | Tree &lt;ord&gt; | age &lt;dbl&gt; | circumference &lt;dbl&gt; |\n",
       "|---|---|---|---|\n",
       "| 1 | 1 |  118 |  30 |\n",
       "| 2 | 1 |  484 |  58 |\n",
       "| 3 | 1 |  664 |  87 |\n",
       "| 4 | 1 | 1004 | 115 |\n",
       "| 5 | 1 | 1231 | 120 |\n",
       "| 6 | 1 | 1372 | 142 |\n",
       "| 7 | 1 | 1582 | 145 |\n",
       "\n",
       "\n",
       "$`5`\n",
       ":   \n",
       "A nfnGroupedData: 7 × 3\n",
       "\n",
       "| <!--/--> | Tree &lt;ord&gt; | age &lt;dbl&gt; | circumference &lt;dbl&gt; |\n",
       "|---|---|---|---|\n",
       "| 29 | 5 |  118 |  30 |\n",
       "| 30 | 5 |  484 |  49 |\n",
       "| 31 | 5 |  664 |  81 |\n",
       "| 32 | 5 | 1004 | 125 |\n",
       "| 33 | 5 | 1231 | 142 |\n",
       "| 34 | 5 | 1372 | 174 |\n",
       "| 35 | 5 | 1582 | 177 |\n",
       "\n",
       "\n",
       "$`2`\n",
       ":   \n",
       "A nfnGroupedData: 7 × 3\n",
       "\n",
       "| <!--/--> | Tree &lt;ord&gt; | age &lt;dbl&gt; | circumference &lt;dbl&gt; |\n",
       "|---|---|---|---|\n",
       "| 8 | 2 |  118 |  33 |\n",
       "| 9 | 2 |  484 |  69 |\n",
       "| 10 | 2 |  664 | 111 |\n",
       "| 11 | 2 | 1004 | 156 |\n",
       "| 12 | 2 | 1231 | 172 |\n",
       "| 13 | 2 | 1372 | 203 |\n",
       "| 14 | 2 | 1582 | 203 |\n",
       "\n",
       "\n",
       "$`4`\n",
       ":   \n",
       "A nfnGroupedData: 7 × 3\n",
       "\n",
       "| <!--/--> | Tree &lt;ord&gt; | age &lt;dbl&gt; | circumference &lt;dbl&gt; |\n",
       "|---|---|---|---|\n",
       "| 22 | 4 |  118 |  32 |\n",
       "| 23 | 4 |  484 |  62 |\n",
       "| 24 | 4 |  664 | 112 |\n",
       "| 25 | 4 | 1004 | 167 |\n",
       "| 26 | 4 | 1231 | 179 |\n",
       "| 27 | 4 | 1372 | 209 |\n",
       "| 28 | 4 | 1582 | 214 |\n",
       "\n",
       "\n",
       "\n",
       "\n"
      ],
      "text/plain": [
       "$`3`\n",
       "   Tree  age circumference\n",
       "15    3  118            30\n",
       "16    3  484            51\n",
       "17    3  664            75\n",
       "18    3 1004           108\n",
       "19    3 1231           115\n",
       "20    3 1372           139\n",
       "21    3 1582           140\n",
       "\n",
       "$`1`\n",
       "  Tree  age circumference\n",
       "1    1  118            30\n",
       "2    1  484            58\n",
       "3    1  664            87\n",
       "4    1 1004           115\n",
       "5    1 1231           120\n",
       "6    1 1372           142\n",
       "7    1 1582           145\n",
       "\n",
       "$`5`\n",
       "   Tree  age circumference\n",
       "29    5  118            30\n",
       "30    5  484            49\n",
       "31    5  664            81\n",
       "32    5 1004           125\n",
       "33    5 1231           142\n",
       "34    5 1372           174\n",
       "35    5 1582           177\n",
       "\n",
       "$`2`\n",
       "   Tree  age circumference\n",
       "8     2  118            33\n",
       "9     2  484            69\n",
       "10    2  664           111\n",
       "11    2 1004           156\n",
       "12    2 1231           172\n",
       "13    2 1372           203\n",
       "14    2 1582           203\n",
       "\n",
       "$`4`\n",
       "   Tree  age circumference\n",
       "22    4  118            32\n",
       "23    4  484            62\n",
       "24    4  664           112\n",
       "25    4 1004           167\n",
       "26    4 1231           179\n",
       "27    4 1372           209\n",
       "28    4 1582           214\n"
      ]
     },
     "metadata": {},
     "output_type": "display_data"
    }
   ],
   "source": [
    "OO <- split(Orange, Orange$Tree)\n",
    "OO"
   ]
  },
  {
   "cell_type": "code",
   "execution_count": 34,
   "metadata": {
    "vscode": {
     "languageId": "r"
    }
   },
   "outputs": [
    {
     "data": {
      "text/html": [
       "<table class=\"dataframe\">\n",
       "<caption>A nfnGroupedData: 7 × 3</caption>\n",
       "<thead>\n",
       "\t<tr><th></th><th scope=col>Tree</th><th scope=col>age</th><th scope=col>circumference</th></tr>\n",
       "\t<tr><th></th><th scope=col>&lt;ord&gt;</th><th scope=col>&lt;dbl&gt;</th><th scope=col>&lt;dbl&gt;</th></tr>\n",
       "</thead>\n",
       "<tbody>\n",
       "\t<tr><th scope=row>1</th><td>1</td><td> 118</td><td> 30</td></tr>\n",
       "\t<tr><th scope=row>2</th><td>1</td><td> 484</td><td> 58</td></tr>\n",
       "\t<tr><th scope=row>3</th><td>1</td><td> 664</td><td> 87</td></tr>\n",
       "\t<tr><th scope=row>4</th><td>1</td><td>1004</td><td>115</td></tr>\n",
       "\t<tr><th scope=row>5</th><td>1</td><td>1231</td><td>120</td></tr>\n",
       "\t<tr><th scope=row>6</th><td>1</td><td>1372</td><td>142</td></tr>\n",
       "\t<tr><th scope=row>7</th><td>1</td><td>1582</td><td>145</td></tr>\n",
       "</tbody>\n",
       "</table>\n"
      ],
      "text/latex": [
       "A nfnGroupedData: 7 × 3\n",
       "\\begin{tabular}{r|lll}\n",
       "  & Tree & age & circumference\\\\\n",
       "  & <ord> & <dbl> & <dbl>\\\\\n",
       "\\hline\n",
       "\t1 & 1 &  118 &  30\\\\\n",
       "\t2 & 1 &  484 &  58\\\\\n",
       "\t3 & 1 &  664 &  87\\\\\n",
       "\t4 & 1 & 1004 & 115\\\\\n",
       "\t5 & 1 & 1231 & 120\\\\\n",
       "\t6 & 1 & 1372 & 142\\\\\n",
       "\t7 & 1 & 1582 & 145\\\\\n",
       "\\end{tabular}\n"
      ],
      "text/markdown": [
       "\n",
       "A nfnGroupedData: 7 × 3\n",
       "\n",
       "| <!--/--> | Tree &lt;ord&gt; | age &lt;dbl&gt; | circumference &lt;dbl&gt; |\n",
       "|---|---|---|---|\n",
       "| 1 | 1 |  118 |  30 |\n",
       "| 2 | 1 |  484 |  58 |\n",
       "| 3 | 1 |  664 |  87 |\n",
       "| 4 | 1 | 1004 | 115 |\n",
       "| 5 | 1 | 1231 | 120 |\n",
       "| 6 | 1 | 1372 | 142 |\n",
       "| 7 | 1 | 1582 | 145 |\n",
       "\n"
      ],
      "text/plain": [
       "  Tree age  circumference\n",
       "1 1     118  30          \n",
       "2 1     484  58          \n",
       "3 1     664  87          \n",
       "4 1    1004 115          \n",
       "5 1    1231 120          \n",
       "6 1    1372 142          \n",
       "7 1    1582 145          "
      ]
     },
     "metadata": {},
     "output_type": "display_data"
    }
   ],
   "source": [
    "OO$'1'"
   ]
  },
  {
   "cell_type": "code",
   "execution_count": 35,
   "metadata": {
    "vscode": {
     "languageId": "r"
    }
   },
   "outputs": [
    {
     "data": {
      "text/html": [
       "<style>\n",
       ".list-inline {list-style: none; margin:0; padding: 0}\n",
       ".list-inline>li {display: inline-block}\n",
       ".list-inline>li:not(:last-child)::after {content: \"\\00b7\"; padding: 0 .5ex}\n",
       "</style>\n",
       "<ol class=list-inline><li>'3'</li><li>'1'</li><li>'5'</li><li>'2'</li><li>'4'</li></ol>\n"
      ],
      "text/latex": [
       "\\begin{enumerate*}\n",
       "\\item '3'\n",
       "\\item '1'\n",
       "\\item '5'\n",
       "\\item '2'\n",
       "\\item '4'\n",
       "\\end{enumerate*}\n"
      ],
      "text/markdown": [
       "1. '3'\n",
       "2. '1'\n",
       "3. '5'\n",
       "4. '2'\n",
       "5. '4'\n",
       "\n",
       "\n"
      ],
      "text/plain": [
       "[1] \"3\" \"1\" \"5\" \"2\" \"4\""
      ]
     },
     "metadata": {},
     "output_type": "display_data"
    }
   ],
   "source": [
    "names(OO)"
   ]
  },
  {
   "cell_type": "code",
   "execution_count": 37,
   "metadata": {
    "vscode": {
     "languageId": "r"
    }
   },
   "outputs": [
    {
     "name": "stdout",
     "output_type": "stream",
     "text": [
      "Classes ‘nfnGroupedData’, ‘nfGroupedData’, ‘groupedData’ and 'data.frame':\t35 obs. of  3 variables:\n",
      " $ Tree         : num  2 2 2 2 2 2 2 4 4 4 ...\n",
      " $ age          : num  118 484 664 1004 1231 ...\n",
      " $ circumference: num  30 58 87 115 120 142 145 33 69 111 ...\n",
      " - attr(*, \"formula\")=Class 'formula'  language circumference ~ age | Tree\n",
      "  .. ..- attr(*, \".Environment\")=<environment: R_EmptyEnv> \n",
      " - attr(*, \"labels\")=List of 2\n",
      "  ..$ x: chr \"Time since December 31, 1968\"\n",
      "  ..$ y: chr \"Trunk circumference\"\n",
      " - attr(*, \"units\")=List of 2\n",
      "  ..$ x: chr \"(days)\"\n",
      "  ..$ y: chr \"(mm)\"\n"
     ]
    }
   ],
   "source": [
    "Orange$Tree <- as.numeric(Orange$Tree)\n",
    "str(Orange)"
   ]
  },
  {
   "cell_type": "code",
   "execution_count": 38,
   "metadata": {
    "vscode": {
     "languageId": "r"
    }
   },
   "outputs": [],
   "source": [
    "name <- c(\"kim\", \"lee\", \"park\")\n",
    "mid <- c (71, 65, 90)\n",
    "final <- c(81,85,70)"
   ]
  },
  {
   "cell_type": "code",
   "execution_count": 40,
   "metadata": {
    "vscode": {
     "languageId": "r"
    }
   },
   "outputs": [
    {
     "name": "stdout",
     "output_type": "stream",
     "text": [
      "  name mid\n",
      "2  lee  65\n",
      "1  kim  71\n",
      "3 park  90\n"
     ]
    }
   ],
   "source": [
    "\n",
    "scoreM <- data.frame(name = name, mid = mid)\n",
    "\n",
    "scoreM <- scoreM[order(scoreM$mid), ]\n",
    "\n",
    "print(scoreM)\n"
   ]
  },
  {
   "cell_type": "code",
   "execution_count": 42,
   "metadata": {
    "vscode": {
     "languageId": "r"
    }
   },
   "outputs": [
    {
     "name": "stdout",
     "output_type": "stream",
     "text": [
      "  name final\n",
      "3 park    70\n",
      "1  kim    81\n",
      "2  lee    85\n"
     ]
    }
   ],
   "source": [
    "scoreF <- data.frame(name = name, final = final)\n",
    "scoreF <- scoreF[order(scoreF$final), ]\n",
    "\n",
    "print(scoreF)\n"
   ]
  },
  {
   "cell_type": "code",
   "execution_count": 44,
   "metadata": {
    "vscode": {
     "languageId": "r"
    }
   },
   "outputs": [
    {
     "data": {
      "text/html": [
       "<table class=\"dataframe\">\n",
       "<caption>A data.frame: 3 × 3</caption>\n",
       "<thead>\n",
       "\t<tr><th scope=col>name</th><th scope=col>mid</th><th scope=col>final</th></tr>\n",
       "\t<tr><th scope=col>&lt;chr&gt;</th><th scope=col>&lt;dbl&gt;</th><th scope=col>&lt;dbl&gt;</th></tr>\n",
       "</thead>\n",
       "<tbody>\n",
       "\t<tr><td>kim </td><td>71</td><td>81</td></tr>\n",
       "\t<tr><td>lee </td><td>65</td><td>85</td></tr>\n",
       "\t<tr><td>park</td><td>90</td><td>70</td></tr>\n",
       "</tbody>\n",
       "</table>\n"
      ],
      "text/latex": [
       "A data.frame: 3 × 3\n",
       "\\begin{tabular}{lll}\n",
       " name & mid & final\\\\\n",
       " <chr> & <dbl> & <dbl>\\\\\n",
       "\\hline\n",
       "\t kim  & 71 & 81\\\\\n",
       "\t lee  & 65 & 85\\\\\n",
       "\t park & 90 & 70\\\\\n",
       "\\end{tabular}\n"
      ],
      "text/markdown": [
       "\n",
       "A data.frame: 3 × 3\n",
       "\n",
       "| name &lt;chr&gt; | mid &lt;dbl&gt; | final &lt;dbl&gt; |\n",
       "|---|---|---|\n",
       "| kim  | 71 | 81 |\n",
       "| lee  | 65 | 85 |\n",
       "| park | 90 | 70 |\n",
       "\n"
      ],
      "text/plain": [
       "  name mid final\n",
       "1 kim  71  81   \n",
       "2 lee  65  85   \n",
       "3 park 90  70   "
      ]
     },
     "metadata": {},
     "output_type": "display_data"
    }
   ],
   "source": [
    "merge(scoreM, scoreF, by='name')"
   ]
  },
  {
   "cell_type": "code",
   "execution_count": 45,
   "metadata": {
    "vscode": {
     "languageId": "r"
    }
   },
   "outputs": [
    {
     "data": {
      "text/html": [
       "<table class=\"dataframe\">\n",
       "<caption>A data.frame: 3 × 4</caption>\n",
       "<thead>\n",
       "\t<tr><th></th><th scope=col>name</th><th scope=col>final</th><th scope=col>name</th><th scope=col>mid</th></tr>\n",
       "\t<tr><th></th><th scope=col>&lt;chr&gt;</th><th scope=col>&lt;dbl&gt;</th><th scope=col>&lt;chr&gt;</th><th scope=col>&lt;dbl&gt;</th></tr>\n",
       "</thead>\n",
       "<tbody>\n",
       "\t<tr><th scope=row>3</th><td>park</td><td>70</td><td>lee </td><td>65</td></tr>\n",
       "\t<tr><th scope=row>1</th><td>kim </td><td>81</td><td>kim </td><td>71</td></tr>\n",
       "\t<tr><th scope=row>2</th><td>lee </td><td>85</td><td>park</td><td>90</td></tr>\n",
       "</tbody>\n",
       "</table>\n"
      ],
      "text/latex": [
       "A data.frame: 3 × 4\n",
       "\\begin{tabular}{r|llll}\n",
       "  & name & final & name & mid\\\\\n",
       "  & <chr> & <dbl> & <chr> & <dbl>\\\\\n",
       "\\hline\n",
       "\t3 & park & 70 & lee  & 65\\\\\n",
       "\t1 & kim  & 81 & kim  & 71\\\\\n",
       "\t2 & lee  & 85 & park & 90\\\\\n",
       "\\end{tabular}\n"
      ],
      "text/markdown": [
       "\n",
       "A data.frame: 3 × 4\n",
       "\n",
       "| <!--/--> | name &lt;chr&gt; | final &lt;dbl&gt; | name &lt;chr&gt; | mid &lt;dbl&gt; |\n",
       "|---|---|---|---|---|\n",
       "| 3 | park | 70 | lee  | 65 |\n",
       "| 1 | kim  | 81 | kim  | 71 |\n",
       "| 2 | lee  | 85 | park | 90 |\n",
       "\n"
      ],
      "text/plain": [
       "  name final name mid\n",
       "3 park 70    lee  65 \n",
       "1 kim  81    kim  71 \n",
       "2 lee  85    park 90 "
      ]
     },
     "metadata": {},
     "output_type": "display_data"
    }
   ],
   "source": [
    "cbind(scoreF, scoreM)"
   ]
  },
  {
   "cell_type": "code",
   "execution_count": 46,
   "metadata": {
    "vscode": {
     "languageId": "r"
    }
   },
   "outputs": [
    {
     "name": "stdout",
     "output_type": "stream",
     "text": [
      "  name final\n",
      "3 park    70\n",
      "1  kim    81\n"
     ]
    }
   ],
   "source": [
    "scoreF2 <- scoreF[-3, ]\n",
    "print(scoreF2)"
   ]
  },
  {
   "cell_type": "code",
   "execution_count": 47,
   "metadata": {
    "vscode": {
     "languageId": "r"
    }
   },
   "outputs": [
    {
     "data": {
      "text/html": [
       "<table class=\"dataframe\">\n",
       "<caption>A data.frame: 2 × 3</caption>\n",
       "<thead>\n",
       "\t<tr><th scope=col>name</th><th scope=col>mid</th><th scope=col>final</th></tr>\n",
       "\t<tr><th scope=col>&lt;chr&gt;</th><th scope=col>&lt;dbl&gt;</th><th scope=col>&lt;dbl&gt;</th></tr>\n",
       "</thead>\n",
       "<tbody>\n",
       "\t<tr><td>kim </td><td>71</td><td>81</td></tr>\n",
       "\t<tr><td>park</td><td>90</td><td>70</td></tr>\n",
       "</tbody>\n",
       "</table>\n"
      ],
      "text/latex": [
       "A data.frame: 2 × 3\n",
       "\\begin{tabular}{lll}\n",
       " name & mid & final\\\\\n",
       " <chr> & <dbl> & <dbl>\\\\\n",
       "\\hline\n",
       "\t kim  & 71 & 81\\\\\n",
       "\t park & 90 & 70\\\\\n",
       "\\end{tabular}\n"
      ],
      "text/markdown": [
       "\n",
       "A data.frame: 2 × 3\n",
       "\n",
       "| name &lt;chr&gt; | mid &lt;dbl&gt; | final &lt;dbl&gt; |\n",
       "|---|---|---|\n",
       "| kim  | 71 | 81 |\n",
       "| park | 90 | 70 |\n",
       "\n"
      ],
      "text/plain": [
       "  name mid final\n",
       "1 kim  71  81   \n",
       "2 park 90  70   "
      ]
     },
     "metadata": {},
     "output_type": "display_data"
    }
   ],
   "source": [
    "merge(scoreM, scoreF2, by = 'name')"
   ]
  },
  {
   "cell_type": "code",
   "execution_count": 48,
   "metadata": {
    "vscode": {
     "languageId": "r"
    }
   },
   "outputs": [
    {
     "data": {
      "text/html": [
       "<table class=\"dataframe\">\n",
       "<caption>A data.frame: 3 × 3</caption>\n",
       "<thead>\n",
       "\t<tr><th scope=col>name</th><th scope=col>mid</th><th scope=col>final</th></tr>\n",
       "\t<tr><th scope=col>&lt;chr&gt;</th><th scope=col>&lt;dbl&gt;</th><th scope=col>&lt;dbl&gt;</th></tr>\n",
       "</thead>\n",
       "<tbody>\n",
       "\t<tr><td>kim </td><td>71</td><td>81</td></tr>\n",
       "\t<tr><td>lee </td><td>65</td><td>NA</td></tr>\n",
       "\t<tr><td>park</td><td>90</td><td>70</td></tr>\n",
       "</tbody>\n",
       "</table>\n"
      ],
      "text/latex": [
       "A data.frame: 3 × 3\n",
       "\\begin{tabular}{lll}\n",
       " name & mid & final\\\\\n",
       " <chr> & <dbl> & <dbl>\\\\\n",
       "\\hline\n",
       "\t kim  & 71 & 81\\\\\n",
       "\t lee  & 65 & NA\\\\\n",
       "\t park & 90 & 70\\\\\n",
       "\\end{tabular}\n"
      ],
      "text/markdown": [
       "\n",
       "A data.frame: 3 × 3\n",
       "\n",
       "| name &lt;chr&gt; | mid &lt;dbl&gt; | final &lt;dbl&gt; |\n",
       "|---|---|---|\n",
       "| kim  | 71 | 81 |\n",
       "| lee  | 65 | NA |\n",
       "| park | 90 | 70 |\n",
       "\n"
      ],
      "text/plain": [
       "  name mid final\n",
       "1 kim  71  81   \n",
       "2 lee  65  NA   \n",
       "3 park 90  70   "
      ]
     },
     "metadata": {},
     "output_type": "display_data"
    }
   ],
   "source": [
    "merge(scoreM, scoreF2, by = 'name', all.x = T)"
   ]
  },
  {
   "cell_type": "code",
   "execution_count": null,
   "metadata": {
    "vscode": {
     "languageId": "r"
    }
   },
   "outputs": [],
   "source": []
  }
 ],
 "metadata": {
  "kernelspec": {
   "display_name": "R",
   "language": "R",
   "name": "ir"
  },
  "language_info": {
   "codemirror_mode": "r",
   "file_extension": ".r",
   "mimetype": "text/x-r-source",
   "name": "R",
   "pygments_lexer": "r",
   "version": "4.3.1"
  }
 },
 "nbformat": 4,
 "nbformat_minor": 2
}
