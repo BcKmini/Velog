{
 "cells": [
  {
   "cell_type": "code",
   "execution_count": 1,
   "metadata": {
    "vscode": {
     "languageId": "r"
    }
   },
   "outputs": [
    {
     "data": {
      "text/html": [
       "<table class=\"dataframe\">\n",
       "<caption>A data.frame: 6 × 8</caption>\n",
       "<thead>\n",
       "\t<tr><th></th><th scope=col>시도</th><th scope=col>시군구</th><th scope=col>발생월</th><th scope=col>사고건수</th><th scope=col>사망자수</th><th scope=col>중상자수</th><th scope=col>경상자수</th><th scope=col>부상신고자수</th></tr>\n",
       "\t<tr><th></th><th scope=col>&lt;chr&gt;</th><th scope=col>&lt;chr&gt;</th><th scope=col>&lt;int&gt;</th><th scope=col>&lt;int&gt;</th><th scope=col>&lt;int&gt;</th><th scope=col>&lt;int&gt;</th><th scope=col>&lt;int&gt;</th><th scope=col>&lt;int&gt;</th></tr>\n",
       "</thead>\n",
       "<tbody>\n",
       "\t<tr><th scope=row>1</th><td>서울</td><td>종로구</td><td>1</td><td>77</td><td>2</td><td>15</td><td> 79</td><td>14</td></tr>\n",
       "\t<tr><th scope=row>2</th><td>서울</td><td>종로구</td><td>2</td><td>66</td><td>0</td><td>17</td><td> 59</td><td> 8</td></tr>\n",
       "\t<tr><th scope=row>3</th><td>서울</td><td>종로구</td><td>3</td><td>67</td><td>0</td><td>15</td><td> 80</td><td> 2</td></tr>\n",
       "\t<tr><th scope=row>4</th><td>서울</td><td>종로구</td><td>4</td><td>73</td><td>1</td><td>17</td><td> 67</td><td> 6</td></tr>\n",
       "\t<tr><th scope=row>5</th><td>서울</td><td>종로구</td><td>5</td><td>88</td><td>0</td><td>21</td><td>103</td><td>12</td></tr>\n",
       "\t<tr><th scope=row>6</th><td>서울</td><td>종로구</td><td>6</td><td>82</td><td>0</td><td>17</td><td> 78</td><td> 6</td></tr>\n",
       "</tbody>\n",
       "</table>\n"
      ],
      "text/latex": [
       "A data.frame: 6 × 8\n",
       "\\begin{tabular}{r|llllllll}\n",
       "  & 시도 & 시군구 & 발생월 & 사고건수 & 사망자수 & 중상자수 & 경상자수 & 부상신고자수\\\\\n",
       "  & <chr> & <chr> & <int> & <int> & <int> & <int> & <int> & <int>\\\\\n",
       "\\hline\n",
       "\t1 & 서울 & 종로구 & 1 & 77 & 2 & 15 &  79 & 14\\\\\n",
       "\t2 & 서울 & 종로구 & 2 & 66 & 0 & 17 &  59 &  8\\\\\n",
       "\t3 & 서울 & 종로구 & 3 & 67 & 0 & 15 &  80 &  2\\\\\n",
       "\t4 & 서울 & 종로구 & 4 & 73 & 1 & 17 &  67 &  6\\\\\n",
       "\t5 & 서울 & 종로구 & 5 & 88 & 0 & 21 & 103 & 12\\\\\n",
       "\t6 & 서울 & 종로구 & 6 & 82 & 0 & 17 &  78 &  6\\\\\n",
       "\\end{tabular}\n"
      ],
      "text/markdown": [
       "\n",
       "A data.frame: 6 × 8\n",
       "\n",
       "| <!--/--> | 시도 &lt;chr&gt; | 시군구 &lt;chr&gt; | 발생월 &lt;int&gt; | 사고건수 &lt;int&gt; | 사망자수 &lt;int&gt; | 중상자수 &lt;int&gt; | 경상자수 &lt;int&gt; | 부상신고자수 &lt;int&gt; |\n",
       "|---|---|---|---|---|---|---|---|---|\n",
       "| 1 | 서울 | 종로구 | 1 | 77 | 2 | 15 |  79 | 14 |\n",
       "| 2 | 서울 | 종로구 | 2 | 66 | 0 | 17 |  59 |  8 |\n",
       "| 3 | 서울 | 종로구 | 3 | 67 | 0 | 15 |  80 |  2 |\n",
       "| 4 | 서울 | 종로구 | 4 | 73 | 1 | 17 |  67 |  6 |\n",
       "| 5 | 서울 | 종로구 | 5 | 88 | 0 | 21 | 103 | 12 |\n",
       "| 6 | 서울 | 종로구 | 6 | 82 | 0 | 17 |  78 |  6 |\n",
       "\n"
      ],
      "text/plain": [
       "  시도 시군구 발생월 사고건수 사망자수 중상자수 경상자수 부상신고자수\n",
       "1 서울 종로구 1      77       2        15        79      14          \n",
       "2 서울 종로구 2      66       0        17        59       8          \n",
       "3 서울 종로구 3      67       0        15        80       2          \n",
       "4 서울 종로구 4      73       1        17        67       6          \n",
       "5 서울 종로구 5      88       0        21       103      12          \n",
       "6 서울 종로구 6      82       0        17        78       6          "
      ]
     },
     "metadata": {},
     "output_type": "display_data"
    }
   ],
   "source": [
    "data <- read.csv(\"../mydata/도로교통공단_시군구별 월별 교통사고 통계_20231231.csv\", fileEncoding = \"CP949\")\n",
    "head(data)"
   ]
  },
  {
   "cell_type": "code",
   "execution_count": 2,
   "metadata": {
    "vscode": {
     "languageId": "r"
    }
   },
   "outputs": [
    {
     "data": {
      "text/plain": [
       "     시도              시군구              발생월          사고건수     \n",
       " Length:2744        Length:2744        Min.   : 1.000   Min.   :  1.00  \n",
       " Class :character   Class :character   1st Qu.: 4.000   1st Qu.: 17.00  \n",
       " Mode  :character   Mode  :character   Median : 6.500   Median : 47.50  \n",
       "                                       Mean   : 6.502   Mean   : 72.27  \n",
       "                                       3rd Qu.: 9.250   3rd Qu.:100.00  \n",
       "                                       Max.   :12.000   Max.   :423.00  \n",
       "    사망자수         중상자수         경상자수      부상신고자수   \n",
       " Min.   :0.0000   Min.   :  0.00   Min.   :  0.0   Min.   : 0.000  \n",
       " 1st Qu.:0.0000   1st Qu.:  7.00   1st Qu.: 17.0   1st Qu.: 1.000  \n",
       " Median :1.0000   Median : 14.00   Median : 50.0   Median : 3.000  \n",
       " Mean   :0.9297   Mean   : 19.31   Mean   : 77.1   Mean   : 7.012  \n",
       " 3rd Qu.:1.0000   3rd Qu.: 26.00   3rd Qu.:104.0   3rd Qu.: 9.000  \n",
       " Max.   :8.0000   Max.   :135.00   Max.   :515.0   Max.   :70.000  "
      ]
     },
     "metadata": {},
     "output_type": "display_data"
    }
   ],
   "source": [
    "summary(data)"
   ]
  },
  {
   "cell_type": "code",
   "execution_count": null,
   "metadata": {
    "vscode": {
     "languageId": "r"
    }
   },
   "outputs": [],
   "source": []
  },
  {
   "cell_type": "code",
   "execution_count": 1,
   "metadata": {
    "vscode": {
     "languageId": "r"
    }
   },
   "outputs": [
    {
     "ename": "ERROR",
     "evalue": "Error in 시군구 %>% c(\"충주시\", \"청주시\", \"제천시\"): could not find function \"%>%\"\n",
     "output_type": "error",
     "traceback": [
      "Error in 시군구 %>% c(\"충주시\", \"청주시\", \"제천시\"): could not find function \"%>%\"\nTraceback:\n",
      "1. subset(data, 시군구 %>% c(\"충주시\", \"청주시\", \"제천시\"))",
      "2. subset.default(data, 시군구 %>% c(\"충주시\", \"청주시\", \n .     \"제천시\"))"
     ]
    }
   ],
   "source": [
    "city <- subset(data, 시군구 %>% c('충주시', '청주시', '제천시'))\n",
    "grp <- group_by(city, 시군구, 발생월)\n",
    "summarize(grp, sum(사고건수), mean(사고건수), group='drop')"
   ]
  },
  {
   "cell_type": "code",
   "execution_count": 5,
   "metadata": {
    "vscode": {
     "languageId": "r"
    }
   },
   "outputs": [
    {
     "data": {
      "text/html": [
       "<table class=\"dataframe\">\n",
       "<caption>A tibble: 6 × 10</caption>\n",
       "<thead>\n",
       "\t<tr><th scope=col>측정일시</th><th scope=col>측정소명</th><th scope=col>이산화질소농도</th><th scope=col>오존농도</th><th scope=col>일산화탄소농도</th><th scope=col>아황산가스농도</th><th scope=col>미세먼지농도</th><th scope=col>초미세먼지농도</th><th scope=col>월</th><th scope=col>일</th></tr>\n",
       "\t<tr><th scope=col>&lt;dbl&gt;</th><th scope=col>&lt;chr&gt;</th><th scope=col>&lt;dbl&gt;</th><th scope=col>&lt;dbl&gt;</th><th scope=col>&lt;dbl&gt;</th><th scope=col>&lt;dbl&gt;</th><th scope=col>&lt;dbl&gt;</th><th scope=col>&lt;dbl&gt;</th><th scope=col>&lt;chr&gt;</th><th scope=col>&lt;chr&gt;</th></tr>\n",
       "</thead>\n",
       "<tbody>\n",
       "\t<tr><td>20230101</td><td>강남구</td><td>0.0240</td><td>0.0240</td><td>0.60</td><td>0.0040</td><td>52</td><td>36</td><td>01</td><td>01</td></tr>\n",
       "\t<tr><td>20230101</td><td>강동구</td><td>0.0270</td><td>0.0170</td><td>0.70</td><td>0.0030</td><td>56</td><td>43</td><td>01</td><td>01</td></tr>\n",
       "\t<tr><td>20230101</td><td>강북구</td><td>    NA</td><td>0.0260</td><td>0.70</td><td>0.0040</td><td>51</td><td>34</td><td>01</td><td>01</td></tr>\n",
       "\t<tr><td>20230101</td><td>강서구</td><td>0.0210</td><td>0.0250</td><td>0.60</td><td>0.0040</td><td>62</td><td>38</td><td>01</td><td>01</td></tr>\n",
       "\t<tr><td>20230101</td><td>관악구</td><td>0.0250</td><td>0.0200</td><td>0.60</td><td>0.0030</td><td>54</td><td>35</td><td>01</td><td>01</td></tr>\n",
       "\t<tr><td>20230101</td><td>광진구</td><td>0.0175</td><td>0.0176</td><td>0.79</td><td>0.0026</td><td>48</td><td>36</td><td>01</td><td>01</td></tr>\n",
       "</tbody>\n",
       "</table>\n"
      ],
      "text/latex": [
       "A tibble: 6 × 10\n",
       "\\begin{tabular}{llllllllll}\n",
       " 측정일시 & 측정소명 & 이산화질소농도 & 오존농도 & 일산화탄소농도 & 아황산가스농도 & 미세먼지농도 & 초미세먼지농도 & 월 & 일\\\\\n",
       " <dbl> & <chr> & <dbl> & <dbl> & <dbl> & <dbl> & <dbl> & <dbl> & <chr> & <chr>\\\\\n",
       "\\hline\n",
       "\t 20230101 & 강남구 & 0.0240 & 0.0240 & 0.60 & 0.0040 & 52 & 36 & 01 & 01\\\\\n",
       "\t 20230101 & 강동구 & 0.0270 & 0.0170 & 0.70 & 0.0030 & 56 & 43 & 01 & 01\\\\\n",
       "\t 20230101 & 강북구 &     NA & 0.0260 & 0.70 & 0.0040 & 51 & 34 & 01 & 01\\\\\n",
       "\t 20230101 & 강서구 & 0.0210 & 0.0250 & 0.60 & 0.0040 & 62 & 38 & 01 & 01\\\\\n",
       "\t 20230101 & 관악구 & 0.0250 & 0.0200 & 0.60 & 0.0030 & 54 & 35 & 01 & 01\\\\\n",
       "\t 20230101 & 광진구 & 0.0175 & 0.0176 & 0.79 & 0.0026 & 48 & 36 & 01 & 01\\\\\n",
       "\\end{tabular}\n"
      ],
      "text/markdown": [
       "\n",
       "A tibble: 6 × 10\n",
       "\n",
       "| 측정일시 &lt;dbl&gt; | 측정소명 &lt;chr&gt; | 이산화질소농도 &lt;dbl&gt; | 오존농도 &lt;dbl&gt; | 일산화탄소농도 &lt;dbl&gt; | 아황산가스농도 &lt;dbl&gt; | 미세먼지농도 &lt;dbl&gt; | 초미세먼지농도 &lt;dbl&gt; | 월 &lt;chr&gt; | 일 &lt;chr&gt; |\n",
       "|---|---|---|---|---|---|---|---|---|---|\n",
       "| 20230101 | 강남구 | 0.0240 | 0.0240 | 0.60 | 0.0040 | 52 | 36 | 01 | 01 |\n",
       "| 20230101 | 강동구 | 0.0270 | 0.0170 | 0.70 | 0.0030 | 56 | 43 | 01 | 01 |\n",
       "| 20230101 | 강북구 |     NA | 0.0260 | 0.70 | 0.0040 | 51 | 34 | 01 | 01 |\n",
       "| 20230101 | 강서구 | 0.0210 | 0.0250 | 0.60 | 0.0040 | 62 | 38 | 01 | 01 |\n",
       "| 20230101 | 관악구 | 0.0250 | 0.0200 | 0.60 | 0.0030 | 54 | 35 | 01 | 01 |\n",
       "| 20230101 | 광진구 | 0.0175 | 0.0176 | 0.79 | 0.0026 | 48 | 36 | 01 | 01 |\n",
       "\n"
      ],
      "text/plain": [
       "  측정일시 측정소명 이산화질소농도 오존농도 일산화탄소농도 아황산가스농도\n",
       "1 20230101 강남구   0.0240         0.0240   0.60           0.0040        \n",
       "2 20230101 강동구   0.0270         0.0170   0.70           0.0030        \n",
       "3 20230101 강북구       NA         0.0260   0.70           0.0040        \n",
       "4 20230101 강서구   0.0210         0.0250   0.60           0.0040        \n",
       "5 20230101 관악구   0.0250         0.0200   0.60           0.0030        \n",
       "6 20230101 광진구   0.0175         0.0176   0.79           0.0026        \n",
       "  미세먼지농도 초미세먼지농도 월 일\n",
       "1 52           36             01 01\n",
       "2 56           43             01 01\n",
       "3 51           34             01 01\n",
       "4 62           38             01 01\n",
       "5 54           35             01 01\n",
       "6 48           36             01 01"
      ]
     },
     "metadata": {},
     "output_type": "display_data"
    }
   ],
   "source": [
    "library(readxl)\n",
    "\n",
    "data <- read_xlsx('../mydata/일별평균대기오염도_2023.xlsx')\n",
    "head(data)"
   ]
  },
  {
   "cell_type": "code",
   "execution_count": 7,
   "metadata": {
    "vscode": {
     "languageId": "r"
    }
   },
   "outputs": [
    {
     "data": {
      "text/plain": [
       "    측정일시          측정소명         이산화질소농도      오존농도      \n",
       " Min.   :20230101   Length:18250       Min.   :0.0013   Min.   :0.00110  \n",
       " 1st Qu.:20230402   Class :character   1st Qu.:0.0131   1st Qu.:0.01910  \n",
       " Median :20230702   Mode  :character   Median :0.0198   Median :0.02770  \n",
       " Mean   :20230668                      Mean   :0.0222   Mean   :0.02898  \n",
       " 3rd Qu.:20231001                      3rd Qu.:0.0292   3rd Qu.:0.03740  \n",
       " Max.   :20231231                      Max.   :0.0763   Max.   :0.10400  \n",
       "                                       NA's   :91       NA's   :93       \n",
       " 일산화탄소농도   아황산가스농도   \n",
       " Min.   :0.0300   Min.   :0.00080  \n",
       " 1st Qu.:0.3600   1st Qu.:0.00250  \n",
       " Median :0.4500   Median :0.00280  \n",
       " Mean   :0.4772   Mean   :0.00288  \n",
       " 3rd Qu.:0.5600   3rd Qu.:0.00320  \n",
       " Max.   :1.4100   Max.   :0.00790  \n",
       " NA's   :484      NA's   :221      "
      ]
     },
     "metadata": {},
     "output_type": "display_data"
    }
   ],
   "source": [
    "summary(data[1:6])"
   ]
  },
  {
   "cell_type": "code",
   "execution_count": 13,
   "metadata": {
    "vscode": {
     "languageId": "r"
    }
   },
   "outputs": [
    {
     "ename": "ERROR",
     "evalue": "Error in eval(expr, envir, enclos): object '측정소명' not found\n",
     "output_type": "error",
     "traceback": [
      "Error in eval(expr, envir, enclos): object '측정소명' not found\nTraceback:\n",
      "1. filter(data, grepl(\"강.구\", 측정소명))",
      "2. grepl(\"강.구\", 측정소명)",
      "3. is.factor(x)"
     ]
    }
   ],
   "source": [
    "gang <- filter(data, grepl(\"강.구\", 측정소명))\n",
    "\n",
    "table(gang$측정소명)"
   ]
  },
  {
   "cell_type": "code",
   "execution_count": null,
   "metadata": {
    "vscode": {
     "languageId": "r"
    }
   },
   "outputs": [],
   "source": [
    "# 결측치를 포함해서 출력 \n",
    "grp <- group_by(gang, 측정소명)\n",
    "\n",
    "summartize(grp, mean(미세먼지농도), max(미세먼지농도), min(오존농도, na.na=T))\n",
    "# 결측치를 제외시키려면 각 하나하나마다 na.na=T를 포함시켜야 한다"
   ]
  },
  {
   "cell_type": "markdown",
   "metadata": {},
   "source": [
    "## reshape2 라이브러리\n",
    "\n",
    "엑셀에서 피벗테이블과 동일\n",
    "\n",
    "dgist"
   ]
  },
  {
   "cell_type": "code",
   "execution_count": null,
   "metadata": {
    "vscode": {
     "languageId": "r"
    }
   },
   "outputs": [],
   "source": []
  },
  {
   "cell_type": "code",
   "execution_count": null,
   "metadata": {
    "vscode": {
     "languageId": "r"
    }
   },
   "outputs": [],
   "source": []
  }
 ],
 "metadata": {
  "kernelspec": {
   "display_name": "R",
   "language": "R",
   "name": "ir"
  },
  "language_info": {
   "codemirror_mode": "r",
   "file_extension": ".r",
   "mimetype": "text/x-r-source",
   "name": "R",
   "pygments_lexer": "r",
   "version": "4.3.1"
  }
 },
 "nbformat": 4,
 "nbformat_minor": 2
}
