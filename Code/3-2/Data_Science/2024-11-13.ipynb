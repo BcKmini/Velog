{
 "cells": [
  {
   "cell_type": "code",
   "execution_count": 1,
   "metadata": {
    "vscode": {
     "languageId": "r"
    }
   },
   "outputs": [
    {
     "data": {
      "text/html": [
       "<style>\n",
       ".list-inline {list-style: none; margin:0; padding: 0}\n",
       ".list-inline>li {display: inline-block}\n",
       ".list-inline>li:not(:last-child)::after {content: \"\\00b7\"; padding: 0 .5ex}\n",
       "</style>\n",
       "<ol class=list-inline><li>1</li><li>2</li><li>3</li><li>4</li><li>&lt;NA&gt;</li><li>5</li><li>6</li></ol>\n"
      ],
      "text/latex": [
       "\\begin{enumerate*}\n",
       "\\item 1\n",
       "\\item 2\n",
       "\\item 3\n",
       "\\item 4\n",
       "\\item <NA>\n",
       "\\item 5\n",
       "\\item 6\n",
       "\\end{enumerate*}\n"
      ],
      "text/markdown": [
       "1. 1\n",
       "2. 2\n",
       "3. 3\n",
       "4. 4\n",
       "5. &lt;NA&gt;\n",
       "6. 5\n",
       "7. 6\n",
       "\n",
       "\n"
      ],
      "text/plain": [
       "[1]  1  2  3  4 NA  5  6"
      ]
     },
     "metadata": {},
     "output_type": "display_data"
    }
   ],
   "source": [
    "x <- c(1,2,3,4,NA,5,6)\n",
    "x"
   ]
  },
  {
   "cell_type": "code",
   "execution_count": 2,
   "metadata": {
    "vscode": {
     "languageId": "r"
    }
   },
   "outputs": [
    {
     "data": {
      "text/html": [
       "<style>\n",
       ".list-inline {list-style: none; margin:0; padding: 0}\n",
       ".list-inline>li {display: inline-block}\n",
       ".list-inline>li:not(:last-child)::after {content: \"\\00b7\"; padding: 0 .5ex}\n",
       "</style>\n",
       "<ol class=list-inline><li>1</li><li>2</li><li>3</li><li>4</li><li>5</li><li>6</li></ol>\n"
      ],
      "text/latex": [
       "\\begin{enumerate*}\n",
       "\\item 1\n",
       "\\item 2\n",
       "\\item 3\n",
       "\\item 4\n",
       "\\item 5\n",
       "\\item 6\n",
       "\\end{enumerate*}\n"
      ],
      "text/markdown": [
       "1. 1\n",
       "2. 2\n",
       "3. 3\n",
       "4. 4\n",
       "5. 5\n",
       "6. 6\n",
       "\n",
       "\n"
      ],
      "text/plain": [
       "[1] 1 2 3 4 5 6"
      ]
     },
     "metadata": {},
     "output_type": "display_data"
    },
    {
     "data": {
      "text/html": [
       "3.5"
      ],
      "text/latex": [
       "3.5"
      ],
      "text/markdown": [
       "3.5"
      ],
      "text/plain": [
       "[1] 3.5"
      ]
     },
     "metadata": {},
     "output_type": "display_data"
    },
    {
     "data": {
      "text/html": [
       "6"
      ],
      "text/latex": [
       "6"
      ],
      "text/markdown": [
       "6"
      ],
      "text/plain": [
       "[1] 6"
      ]
     },
     "metadata": {},
     "output_type": "display_data"
    }
   ],
   "source": [
    "y <- c(1,2,3,4,NULL,5,6)\n",
    "y\n",
    "mean(y)\n",
    "length(y)\n"
   ]
  },
  {
   "cell_type": "code",
   "execution_count": 3,
   "metadata": {
    "vscode": {
     "languageId": "r"
    }
   },
   "outputs": [
    {
     "data": {
      "text/html": [
       "<style>\n",
       ".list-inline {list-style: none; margin:0; padding: 0}\n",
       ".list-inline>li {display: inline-block}\n",
       ".list-inline>li:not(:last-child)::after {content: \"\\00b7\"; padding: 0 .5ex}\n",
       "</style>\n",
       "<ol class=list-inline><li>FALSE</li><li>FALSE</li><li>FALSE</li><li>FALSE</li><li>TRUE</li><li>FALSE</li><li>FALSE</li></ol>\n"
      ],
      "text/latex": [
       "\\begin{enumerate*}\n",
       "\\item FALSE\n",
       "\\item FALSE\n",
       "\\item FALSE\n",
       "\\item FALSE\n",
       "\\item TRUE\n",
       "\\item FALSE\n",
       "\\item FALSE\n",
       "\\end{enumerate*}\n"
      ],
      "text/markdown": [
       "1. FALSE\n",
       "2. FALSE\n",
       "3. FALSE\n",
       "4. FALSE\n",
       "5. TRUE\n",
       "6. FALSE\n",
       "7. FALSE\n",
       "\n",
       "\n"
      ],
      "text/plain": [
       "[1] FALSE FALSE FALSE FALSE  TRUE FALSE FALSE"
      ]
     },
     "metadata": {},
     "output_type": "display_data"
    },
    {
     "data": {
      "text/html": [
       "TRUE"
      ],
      "text/latex": [
       "TRUE"
      ],
      "text/markdown": [
       "TRUE"
      ],
      "text/plain": [
       "[1] TRUE"
      ]
     },
     "metadata": {},
     "output_type": "display_data"
    }
   ],
   "source": [
    "is.na(x)\n",
    "any(is.na(x))"
   ]
  },
  {
   "cell_type": "code",
   "execution_count": 4,
   "metadata": {
    "vscode": {
     "languageId": "r"
    }
   },
   "outputs": [
    {
     "data": {
      "text/html": [
       "<style>\n",
       ".list-inline {list-style: none; margin:0; padding: 0}\n",
       ".list-inline>li {display: inline-block}\n",
       ".list-inline>li:not(:last-child)::after {content: \"\\00b7\"; padding: 0 .5ex}\n",
       "</style>\n",
       "<ol class=list-inline><li>1</li><li>2</li><li>3</li><li>4</li><li>5</li><li>6</li></ol>\n"
      ],
      "text/latex": [
       "\\begin{enumerate*}\n",
       "\\item 1\n",
       "\\item 2\n",
       "\\item 3\n",
       "\\item 4\n",
       "\\item 5\n",
       "\\item 6\n",
       "\\end{enumerate*}\n"
      ],
      "text/markdown": [
       "1. 1\n",
       "2. 2\n",
       "3. 3\n",
       "4. 4\n",
       "5. 5\n",
       "6. 6\n",
       "\n",
       "\n"
      ],
      "text/plain": [
       "[1] 1 2 3 4 5 6\n",
       "attr(,\"na.action\")\n",
       "[1] 5\n",
       "attr(,\"class\")\n",
       "[1] \"omit\""
      ]
     },
     "metadata": {},
     "output_type": "display_data"
    }
   ],
   "source": [
    "x0 <- na.omit(x)\n",
    "x0"
   ]
  },
  {
   "cell_type": "code",
   "execution_count": 5,
   "metadata": {
    "vscode": {
     "languageId": "r"
    }
   },
   "outputs": [
    {
     "data": {
      "text/html": [
       "<table class=\"dataframe\">\n",
       "<caption>A data.frame: 4 × 2</caption>\n",
       "<thead>\n",
       "\t<tr><th scope=col>x</th><th scope=col>y</th></tr>\n",
       "\t<tr><th scope=col>&lt;dbl&gt;</th><th scope=col>&lt;dbl&gt;</th></tr>\n",
       "</thead>\n",
       "<tbody>\n",
       "\t<tr><td> 1</td><td>10</td></tr>\n",
       "\t<tr><td>NA</td><td>20</td></tr>\n",
       "\t<tr><td> 3</td><td>NA</td></tr>\n",
       "\t<tr><td> 4</td><td>40</td></tr>\n",
       "</tbody>\n",
       "</table>\n"
      ],
      "text/latex": [
       "A data.frame: 4 × 2\n",
       "\\begin{tabular}{ll}\n",
       " x & y\\\\\n",
       " <dbl> & <dbl>\\\\\n",
       "\\hline\n",
       "\t  1 & 10\\\\\n",
       "\t NA & 20\\\\\n",
       "\t  3 & NA\\\\\n",
       "\t  4 & 40\\\\\n",
       "\\end{tabular}\n"
      ],
      "text/markdown": [
       "\n",
       "A data.frame: 4 × 2\n",
       "\n",
       "| x &lt;dbl&gt; | y &lt;dbl&gt; |\n",
       "|---|---|\n",
       "|  1 | 10 |\n",
       "| NA | 20 |\n",
       "|  3 | NA |\n",
       "|  4 | 40 |\n",
       "\n"
      ],
      "text/plain": [
       "  x  y \n",
       "1  1 10\n",
       "2 NA 20\n",
       "3  3 NA\n",
       "4  4 40"
      ]
     },
     "metadata": {},
     "output_type": "display_data"
    }
   ],
   "source": [
    "df <- data.frame(x=c(1,NA,3,4), y=c(10,20,NA,40))\n",
    "df"
   ]
  },
  {
   "cell_type": "code",
   "execution_count": 6,
   "metadata": {
    "vscode": {
     "languageId": "r"
    }
   },
   "outputs": [
    {
     "data": {
      "text/html": [
       "TRUE"
      ],
      "text/latex": [
       "TRUE"
      ],
      "text/markdown": [
       "TRUE"
      ],
      "text/plain": [
       "[1] TRUE"
      ]
     },
     "metadata": {},
     "output_type": "display_data"
    }
   ],
   "source": [
    "any(is.na(df))"
   ]
  },
  {
   "cell_type": "code",
   "execution_count": 7,
   "metadata": {
    "vscode": {
     "languageId": "r"
    }
   },
   "outputs": [
    {
     "data": {
      "text/html": [
       "<table class=\"dataframe\">\n",
       "<caption>A data.frame: 2 × 2</caption>\n",
       "<thead>\n",
       "\t<tr><th></th><th scope=col>x</th><th scope=col>y</th></tr>\n",
       "\t<tr><th></th><th scope=col>&lt;dbl&gt;</th><th scope=col>&lt;dbl&gt;</th></tr>\n",
       "</thead>\n",
       "<tbody>\n",
       "\t<tr><th scope=row>1</th><td>1</td><td>10</td></tr>\n",
       "\t<tr><th scope=row>4</th><td>4</td><td>40</td></tr>\n",
       "</tbody>\n",
       "</table>\n"
      ],
      "text/latex": [
       "A data.frame: 2 × 2\n",
       "\\begin{tabular}{r|ll}\n",
       "  & x & y\\\\\n",
       "  & <dbl> & <dbl>\\\\\n",
       "\\hline\n",
       "\t1 & 1 & 10\\\\\n",
       "\t4 & 4 & 40\\\\\n",
       "\\end{tabular}\n"
      ],
      "text/markdown": [
       "\n",
       "A data.frame: 2 × 2\n",
       "\n",
       "| <!--/--> | x &lt;dbl&gt; | y &lt;dbl&gt; |\n",
       "|---|---|---|\n",
       "| 1 | 1 | 10 |\n",
       "| 4 | 4 | 40 |\n",
       "\n"
      ],
      "text/plain": [
       "  x y \n",
       "1 1 10\n",
       "4 4 40"
      ]
     },
     "metadata": {},
     "output_type": "display_data"
    }
   ],
   "source": [
    "df <- na.omit(df)\n",
    "df"
   ]
  },
  {
   "cell_type": "code",
   "execution_count": 8,
   "metadata": {
    "vscode": {
     "languageId": "r"
    }
   },
   "outputs": [
    {
     "data": {
      "text/plain": [
       "       x              y       \n",
       " Min.   :1.00   Min.   :10.0  \n",
       " 1st Qu.:1.75   1st Qu.:17.5  \n",
       " Median :2.50   Median :25.0  \n",
       " Mean   :2.50   Mean   :25.0  \n",
       " 3rd Qu.:3.25   3rd Qu.:32.5  \n",
       " Max.   :4.00   Max.   :40.0  "
      ]
     },
     "metadata": {},
     "output_type": "display_data"
    }
   ],
   "source": [
    "summary(df)"
   ]
  },
  {
   "cell_type": "code",
   "execution_count": 9,
   "metadata": {
    "vscode": {
     "languageId": "r"
    }
   },
   "outputs": [
    {
     "data": {
      "text/html": [
       "<table class=\"dataframe\">\n",
       "<caption>A data.frame: 4 × 2</caption>\n",
       "<thead>\n",
       "\t<tr><th scope=col>x</th><th scope=col>y</th></tr>\n",
       "\t<tr><th scope=col>&lt;dbl&gt;</th><th scope=col>&lt;dbl&gt;</th></tr>\n",
       "</thead>\n",
       "<tbody>\n",
       "\t<tr><td> 1</td><td>10</td></tr>\n",
       "\t<tr><td>NA</td><td>20</td></tr>\n",
       "\t<tr><td> 3</td><td>NA</td></tr>\n",
       "\t<tr><td> 4</td><td>40</td></tr>\n",
       "</tbody>\n",
       "</table>\n"
      ],
      "text/latex": [
       "A data.frame: 4 × 2\n",
       "\\begin{tabular}{ll}\n",
       " x & y\\\\\n",
       " <dbl> & <dbl>\\\\\n",
       "\\hline\n",
       "\t  1 & 10\\\\\n",
       "\t NA & 20\\\\\n",
       "\t  3 & NA\\\\\n",
       "\t  4 & 40\\\\\n",
       "\\end{tabular}\n"
      ],
      "text/markdown": [
       "\n",
       "A data.frame: 4 × 2\n",
       "\n",
       "| x &lt;dbl&gt; | y &lt;dbl&gt; |\n",
       "|---|---|\n",
       "|  1 | 10 |\n",
       "| NA | 20 |\n",
       "|  3 | NA |\n",
       "|  4 | 40 |\n",
       "\n"
      ],
      "text/plain": [
       "  x  y \n",
       "1  1 10\n",
       "2 NA 20\n",
       "3  3 NA\n",
       "4  4 40"
      ]
     },
     "metadata": {},
     "output_type": "display_data"
    }
   ],
   "source": [
    "# 데이터프레임에서 na 모두 0으로\n",
    "df <- data.frame(x=c(1,NA,3,4), y=c(10,20,NA,40))\n",
    "df"
   ]
  },
  {
   "cell_type": "code",
   "execution_count": 10,
   "metadata": {
    "vscode": {
     "languageId": "r"
    }
   },
   "outputs": [
    {
     "data": {
      "text/html": [
       "<table class=\"dataframe\">\n",
       "<caption>A data.frame: 4 × 2</caption>\n",
       "<thead>\n",
       "\t<tr><th scope=col>x</th><th scope=col>y</th></tr>\n",
       "\t<tr><th scope=col>&lt;dbl&gt;</th><th scope=col>&lt;dbl&gt;</th></tr>\n",
       "</thead>\n",
       "<tbody>\n",
       "\t<tr><td>1</td><td>10</td></tr>\n",
       "\t<tr><td>0</td><td>20</td></tr>\n",
       "\t<tr><td>3</td><td> 0</td></tr>\n",
       "\t<tr><td>4</td><td>40</td></tr>\n",
       "</tbody>\n",
       "</table>\n"
      ],
      "text/latex": [
       "A data.frame: 4 × 2\n",
       "\\begin{tabular}{ll}\n",
       " x & y\\\\\n",
       " <dbl> & <dbl>\\\\\n",
       "\\hline\n",
       "\t 1 & 10\\\\\n",
       "\t 0 & 20\\\\\n",
       "\t 3 &  0\\\\\n",
       "\t 4 & 40\\\\\n",
       "\\end{tabular}\n"
      ],
      "text/markdown": [
       "\n",
       "A data.frame: 4 × 2\n",
       "\n",
       "| x &lt;dbl&gt; | y &lt;dbl&gt; |\n",
       "|---|---|\n",
       "| 1 | 10 |\n",
       "| 0 | 20 |\n",
       "| 3 |  0 |\n",
       "| 4 | 40 |\n",
       "\n"
      ],
      "text/plain": [
       "  x y \n",
       "1 1 10\n",
       "2 0 20\n",
       "3 3  0\n",
       "4 4 40"
      ]
     },
     "metadata": {},
     "output_type": "display_data"
    }
   ],
   "source": [
    "df[is.na(df)] <- 0\n",
    "df"
   ]
  },
  {
   "cell_type": "code",
   "execution_count": 11,
   "metadata": {
    "vscode": {
     "languageId": "r"
    }
   },
   "outputs": [
    {
     "data": {
      "text/html": [
       "<table class=\"dataframe\">\n",
       "<caption>A data.frame: 4 × 2</caption>\n",
       "<thead>\n",
       "\t<tr><th scope=col>x</th><th scope=col>y</th></tr>\n",
       "\t<tr><th scope=col>&lt;dbl&gt;</th><th scope=col>&lt;dbl&gt;</th></tr>\n",
       "</thead>\n",
       "<tbody>\n",
       "\t<tr><td>   1</td><td>  10</td></tr>\n",
       "\t<tr><td>-999</td><td>  20</td></tr>\n",
       "\t<tr><td>   3</td><td>-999</td></tr>\n",
       "\t<tr><td>   4</td><td>  40</td></tr>\n",
       "</tbody>\n",
       "</table>\n"
      ],
      "text/latex": [
       "A data.frame: 4 × 2\n",
       "\\begin{tabular}{ll}\n",
       " x & y\\\\\n",
       " <dbl> & <dbl>\\\\\n",
       "\\hline\n",
       "\t    1 &   10\\\\\n",
       "\t -999 &   20\\\\\n",
       "\t    3 & -999\\\\\n",
       "\t    4 &   40\\\\\n",
       "\\end{tabular}\n"
      ],
      "text/markdown": [
       "\n",
       "A data.frame: 4 × 2\n",
       "\n",
       "| x &lt;dbl&gt; | y &lt;dbl&gt; |\n",
       "|---|---|\n",
       "|    1 |   10 |\n",
       "| -999 |   20 |\n",
       "|    3 | -999 |\n",
       "|    4 |   40 |\n",
       "\n"
      ],
      "text/plain": [
       "  x    y   \n",
       "1    1   10\n",
       "2 -999   20\n",
       "3    3 -999\n",
       "4    4   40"
      ]
     },
     "metadata": {},
     "output_type": "display_data"
    }
   ],
   "source": [
    "df <- data.frame(x=c(1,-999,3,4), y=c(10,20,-999,40))\n",
    "df"
   ]
  },
  {
   "cell_type": "code",
   "execution_count": 12,
   "metadata": {
    "vscode": {
     "languageId": "r"
    }
   },
   "outputs": [
    {
     "data": {
      "text/plain": [
       "       x                 y         \n",
       " Min.   :-999.00   Min.   :-999.0  \n",
       " 1st Qu.:-249.00   1st Qu.:-242.2  \n",
       " Median :   2.00   Median :  15.0  \n",
       " Mean   :-247.75   Mean   :-232.2  \n",
       " 3rd Qu.:   3.25   3rd Qu.:  25.0  \n",
       " Max.   :   4.00   Max.   :  40.0  "
      ]
     },
     "metadata": {},
     "output_type": "display_data"
    }
   ],
   "source": [
    "summary(df)"
   ]
  },
  {
   "cell_type": "code",
   "execution_count": 13,
   "metadata": {
    "vscode": {
     "languageId": "r"
    }
   },
   "outputs": [
    {
     "data": {
      "text/html": [
       "<table class=\"dataframe\">\n",
       "<caption>A data.frame: 4 × 2</caption>\n",
       "<thead>\n",
       "\t<tr><th scope=col>x</th><th scope=col>y</th></tr>\n",
       "\t<tr><th scope=col>&lt;dbl&gt;</th><th scope=col>&lt;dbl&gt;</th></tr>\n",
       "</thead>\n",
       "<tbody>\n",
       "\t<tr><td> 1</td><td>10</td></tr>\n",
       "\t<tr><td>NA</td><td>20</td></tr>\n",
       "\t<tr><td> 3</td><td>NA</td></tr>\n",
       "\t<tr><td> 4</td><td>40</td></tr>\n",
       "</tbody>\n",
       "</table>\n"
      ],
      "text/latex": [
       "A data.frame: 4 × 2\n",
       "\\begin{tabular}{ll}\n",
       " x & y\\\\\n",
       " <dbl> & <dbl>\\\\\n",
       "\\hline\n",
       "\t  1 & 10\\\\\n",
       "\t NA & 20\\\\\n",
       "\t  3 & NA\\\\\n",
       "\t  4 & 40\\\\\n",
       "\\end{tabular}\n"
      ],
      "text/markdown": [
       "\n",
       "A data.frame: 4 × 2\n",
       "\n",
       "| x &lt;dbl&gt; | y &lt;dbl&gt; |\n",
       "|---|---|\n",
       "|  1 | 10 |\n",
       "| NA | 20 |\n",
       "|  3 | NA |\n",
       "|  4 | 40 |\n",
       "\n"
      ],
      "text/plain": [
       "  x  y \n",
       "1  1 10\n",
       "2 NA 20\n",
       "3  3 NA\n",
       "4  4 40"
      ]
     },
     "metadata": {},
     "output_type": "display_data"
    }
   ],
   "source": [
    "df[df == -999] <- NA\n",
    "df"
   ]
  },
  {
   "cell_type": "code",
   "execution_count": 14,
   "metadata": {
    "vscode": {
     "languageId": "r"
    }
   },
   "outputs": [
    {
     "data": {
      "text/plain": [
       "       x               y        \n",
       " Min.   :1.000   Min.   :10.00  \n",
       " 1st Qu.:2.000   1st Qu.:15.00  \n",
       " Median :3.000   Median :20.00  \n",
       " Mean   :2.667   Mean   :23.33  \n",
       " 3rd Qu.:3.500   3rd Qu.:30.00  \n",
       " Max.   :4.000   Max.   :40.00  \n",
       " NA's   :1       NA's   :1      "
      ]
     },
     "metadata": {},
     "output_type": "display_data"
    }
   ],
   "source": [
    "summary(df)"
   ]
  },
  {
   "cell_type": "code",
   "execution_count": 15,
   "metadata": {
    "vscode": {
     "languageId": "r"
    }
   },
   "outputs": [
    {
     "data": {
      "text/html": [
       "<table class=\"dataframe\">\n",
       "<caption>A data.frame: 60 × 3</caption>\n",
       "<thead>\n",
       "\t<tr><th scope=col>len</th><th scope=col>supp</th><th scope=col>dose</th></tr>\n",
       "\t<tr><th scope=col>&lt;dbl&gt;</th><th scope=col>&lt;fct&gt;</th><th scope=col>&lt;dbl&gt;</th></tr>\n",
       "</thead>\n",
       "<tbody>\n",
       "\t<tr><td> 4.2</td><td>VC</td><td>0.5</td></tr>\n",
       "\t<tr><td>11.5</td><td>VC</td><td>0.5</td></tr>\n",
       "\t<tr><td> 7.3</td><td>VC</td><td>0.5</td></tr>\n",
       "\t<tr><td> 5.8</td><td>VC</td><td>0.5</td></tr>\n",
       "\t<tr><td> 6.4</td><td>VC</td><td>0.5</td></tr>\n",
       "\t<tr><td>10.0</td><td>VC</td><td>0.5</td></tr>\n",
       "\t<tr><td>11.2</td><td>VC</td><td>0.5</td></tr>\n",
       "\t<tr><td>11.2</td><td>VC</td><td>0.5</td></tr>\n",
       "\t<tr><td> 5.2</td><td>VC</td><td>0.5</td></tr>\n",
       "\t<tr><td> 7.0</td><td>VC</td><td>0.5</td></tr>\n",
       "\t<tr><td>16.5</td><td>VC</td><td>1.0</td></tr>\n",
       "\t<tr><td>16.5</td><td>VC</td><td>1.0</td></tr>\n",
       "\t<tr><td>15.2</td><td>VC</td><td>1.0</td></tr>\n",
       "\t<tr><td>17.3</td><td>VC</td><td>1.0</td></tr>\n",
       "\t<tr><td>22.5</td><td>VC</td><td>1.0</td></tr>\n",
       "\t<tr><td>17.3</td><td>VC</td><td>1.0</td></tr>\n",
       "\t<tr><td>13.6</td><td>VC</td><td>1.0</td></tr>\n",
       "\t<tr><td>14.5</td><td>VC</td><td>1.0</td></tr>\n",
       "\t<tr><td>18.8</td><td>VC</td><td>1.0</td></tr>\n",
       "\t<tr><td>15.5</td><td>VC</td><td>1.0</td></tr>\n",
       "\t<tr><td>23.6</td><td>VC</td><td>2.0</td></tr>\n",
       "\t<tr><td>18.5</td><td>VC</td><td>2.0</td></tr>\n",
       "\t<tr><td>33.9</td><td>VC</td><td>2.0</td></tr>\n",
       "\t<tr><td>25.5</td><td>VC</td><td>2.0</td></tr>\n",
       "\t<tr><td>26.4</td><td>VC</td><td>2.0</td></tr>\n",
       "\t<tr><td>32.5</td><td>VC</td><td>2.0</td></tr>\n",
       "\t<tr><td>26.7</td><td>VC</td><td>2.0</td></tr>\n",
       "\t<tr><td>21.5</td><td>VC</td><td>2.0</td></tr>\n",
       "\t<tr><td>23.3</td><td>VC</td><td>2.0</td></tr>\n",
       "\t<tr><td>29.5</td><td>VC</td><td>2.0</td></tr>\n",
       "\t<tr><td>15.2</td><td>OJ</td><td>0.5</td></tr>\n",
       "\t<tr><td>21.5</td><td>OJ</td><td>0.5</td></tr>\n",
       "\t<tr><td>17.6</td><td>OJ</td><td>0.5</td></tr>\n",
       "\t<tr><td> 9.7</td><td>OJ</td><td>0.5</td></tr>\n",
       "\t<tr><td>14.5</td><td>OJ</td><td>0.5</td></tr>\n",
       "\t<tr><td>10.0</td><td>OJ</td><td>0.5</td></tr>\n",
       "\t<tr><td> 8.2</td><td>OJ</td><td>0.5</td></tr>\n",
       "\t<tr><td> 9.4</td><td>OJ</td><td>0.5</td></tr>\n",
       "\t<tr><td>16.5</td><td>OJ</td><td>0.5</td></tr>\n",
       "\t<tr><td> 9.7</td><td>OJ</td><td>0.5</td></tr>\n",
       "\t<tr><td>19.7</td><td>OJ</td><td>1.0</td></tr>\n",
       "\t<tr><td>23.3</td><td>OJ</td><td>1.0</td></tr>\n",
       "\t<tr><td>23.6</td><td>OJ</td><td>1.0</td></tr>\n",
       "\t<tr><td>26.4</td><td>OJ</td><td>1.0</td></tr>\n",
       "\t<tr><td>20.0</td><td>OJ</td><td>1.0</td></tr>\n",
       "\t<tr><td>25.2</td><td>OJ</td><td>1.0</td></tr>\n",
       "\t<tr><td>25.8</td><td>OJ</td><td>1.0</td></tr>\n",
       "\t<tr><td>21.2</td><td>OJ</td><td>1.0</td></tr>\n",
       "\t<tr><td>14.5</td><td>OJ</td><td>1.0</td></tr>\n",
       "\t<tr><td>27.3</td><td>OJ</td><td>1.0</td></tr>\n",
       "\t<tr><td>25.5</td><td>OJ</td><td>2.0</td></tr>\n",
       "\t<tr><td>26.4</td><td>OJ</td><td>2.0</td></tr>\n",
       "\t<tr><td>22.4</td><td>OJ</td><td>2.0</td></tr>\n",
       "\t<tr><td>24.5</td><td>OJ</td><td>2.0</td></tr>\n",
       "\t<tr><td>24.8</td><td>OJ</td><td>2.0</td></tr>\n",
       "\t<tr><td>30.9</td><td>OJ</td><td>2.0</td></tr>\n",
       "\t<tr><td>26.4</td><td>OJ</td><td>2.0</td></tr>\n",
       "\t<tr><td>27.3</td><td>OJ</td><td>2.0</td></tr>\n",
       "\t<tr><td>29.4</td><td>OJ</td><td>2.0</td></tr>\n",
       "\t<tr><td>23.0</td><td>OJ</td><td>2.0</td></tr>\n",
       "</tbody>\n",
       "</table>\n"
      ],
      "text/latex": [
       "A data.frame: 60 × 3\n",
       "\\begin{tabular}{lll}\n",
       " len & supp & dose\\\\\n",
       " <dbl> & <fct> & <dbl>\\\\\n",
       "\\hline\n",
       "\t  4.2 & VC & 0.5\\\\\n",
       "\t 11.5 & VC & 0.5\\\\\n",
       "\t  7.3 & VC & 0.5\\\\\n",
       "\t  5.8 & VC & 0.5\\\\\n",
       "\t  6.4 & VC & 0.5\\\\\n",
       "\t 10.0 & VC & 0.5\\\\\n",
       "\t 11.2 & VC & 0.5\\\\\n",
       "\t 11.2 & VC & 0.5\\\\\n",
       "\t  5.2 & VC & 0.5\\\\\n",
       "\t  7.0 & VC & 0.5\\\\\n",
       "\t 16.5 & VC & 1.0\\\\\n",
       "\t 16.5 & VC & 1.0\\\\\n",
       "\t 15.2 & VC & 1.0\\\\\n",
       "\t 17.3 & VC & 1.0\\\\\n",
       "\t 22.5 & VC & 1.0\\\\\n",
       "\t 17.3 & VC & 1.0\\\\\n",
       "\t 13.6 & VC & 1.0\\\\\n",
       "\t 14.5 & VC & 1.0\\\\\n",
       "\t 18.8 & VC & 1.0\\\\\n",
       "\t 15.5 & VC & 1.0\\\\\n",
       "\t 23.6 & VC & 2.0\\\\\n",
       "\t 18.5 & VC & 2.0\\\\\n",
       "\t 33.9 & VC & 2.0\\\\\n",
       "\t 25.5 & VC & 2.0\\\\\n",
       "\t 26.4 & VC & 2.0\\\\\n",
       "\t 32.5 & VC & 2.0\\\\\n",
       "\t 26.7 & VC & 2.0\\\\\n",
       "\t 21.5 & VC & 2.0\\\\\n",
       "\t 23.3 & VC & 2.0\\\\\n",
       "\t 29.5 & VC & 2.0\\\\\n",
       "\t 15.2 & OJ & 0.5\\\\\n",
       "\t 21.5 & OJ & 0.5\\\\\n",
       "\t 17.6 & OJ & 0.5\\\\\n",
       "\t  9.7 & OJ & 0.5\\\\\n",
       "\t 14.5 & OJ & 0.5\\\\\n",
       "\t 10.0 & OJ & 0.5\\\\\n",
       "\t  8.2 & OJ & 0.5\\\\\n",
       "\t  9.4 & OJ & 0.5\\\\\n",
       "\t 16.5 & OJ & 0.5\\\\\n",
       "\t  9.7 & OJ & 0.5\\\\\n",
       "\t 19.7 & OJ & 1.0\\\\\n",
       "\t 23.3 & OJ & 1.0\\\\\n",
       "\t 23.6 & OJ & 1.0\\\\\n",
       "\t 26.4 & OJ & 1.0\\\\\n",
       "\t 20.0 & OJ & 1.0\\\\\n",
       "\t 25.2 & OJ & 1.0\\\\\n",
       "\t 25.8 & OJ & 1.0\\\\\n",
       "\t 21.2 & OJ & 1.0\\\\\n",
       "\t 14.5 & OJ & 1.0\\\\\n",
       "\t 27.3 & OJ & 1.0\\\\\n",
       "\t 25.5 & OJ & 2.0\\\\\n",
       "\t 26.4 & OJ & 2.0\\\\\n",
       "\t 22.4 & OJ & 2.0\\\\\n",
       "\t 24.5 & OJ & 2.0\\\\\n",
       "\t 24.8 & OJ & 2.0\\\\\n",
       "\t 30.9 & OJ & 2.0\\\\\n",
       "\t 26.4 & OJ & 2.0\\\\\n",
       "\t 27.3 & OJ & 2.0\\\\\n",
       "\t 29.4 & OJ & 2.0\\\\\n",
       "\t 23.0 & OJ & 2.0\\\\\n",
       "\\end{tabular}\n"
      ],
      "text/markdown": [
       "\n",
       "A data.frame: 60 × 3\n",
       "\n",
       "| len &lt;dbl&gt; | supp &lt;fct&gt; | dose &lt;dbl&gt; |\n",
       "|---|---|---|\n",
       "|  4.2 | VC | 0.5 |\n",
       "| 11.5 | VC | 0.5 |\n",
       "|  7.3 | VC | 0.5 |\n",
       "|  5.8 | VC | 0.5 |\n",
       "|  6.4 | VC | 0.5 |\n",
       "| 10.0 | VC | 0.5 |\n",
       "| 11.2 | VC | 0.5 |\n",
       "| 11.2 | VC | 0.5 |\n",
       "|  5.2 | VC | 0.5 |\n",
       "|  7.0 | VC | 0.5 |\n",
       "| 16.5 | VC | 1.0 |\n",
       "| 16.5 | VC | 1.0 |\n",
       "| 15.2 | VC | 1.0 |\n",
       "| 17.3 | VC | 1.0 |\n",
       "| 22.5 | VC | 1.0 |\n",
       "| 17.3 | VC | 1.0 |\n",
       "| 13.6 | VC | 1.0 |\n",
       "| 14.5 | VC | 1.0 |\n",
       "| 18.8 | VC | 1.0 |\n",
       "| 15.5 | VC | 1.0 |\n",
       "| 23.6 | VC | 2.0 |\n",
       "| 18.5 | VC | 2.0 |\n",
       "| 33.9 | VC | 2.0 |\n",
       "| 25.5 | VC | 2.0 |\n",
       "| 26.4 | VC | 2.0 |\n",
       "| 32.5 | VC | 2.0 |\n",
       "| 26.7 | VC | 2.0 |\n",
       "| 21.5 | VC | 2.0 |\n",
       "| 23.3 | VC | 2.0 |\n",
       "| 29.5 | VC | 2.0 |\n",
       "| 15.2 | OJ | 0.5 |\n",
       "| 21.5 | OJ | 0.5 |\n",
       "| 17.6 | OJ | 0.5 |\n",
       "|  9.7 | OJ | 0.5 |\n",
       "| 14.5 | OJ | 0.5 |\n",
       "| 10.0 | OJ | 0.5 |\n",
       "|  8.2 | OJ | 0.5 |\n",
       "|  9.4 | OJ | 0.5 |\n",
       "| 16.5 | OJ | 0.5 |\n",
       "|  9.7 | OJ | 0.5 |\n",
       "| 19.7 | OJ | 1.0 |\n",
       "| 23.3 | OJ | 1.0 |\n",
       "| 23.6 | OJ | 1.0 |\n",
       "| 26.4 | OJ | 1.0 |\n",
       "| 20.0 | OJ | 1.0 |\n",
       "| 25.2 | OJ | 1.0 |\n",
       "| 25.8 | OJ | 1.0 |\n",
       "| 21.2 | OJ | 1.0 |\n",
       "| 14.5 | OJ | 1.0 |\n",
       "| 27.3 | OJ | 1.0 |\n",
       "| 25.5 | OJ | 2.0 |\n",
       "| 26.4 | OJ | 2.0 |\n",
       "| 22.4 | OJ | 2.0 |\n",
       "| 24.5 | OJ | 2.0 |\n",
       "| 24.8 | OJ | 2.0 |\n",
       "| 30.9 | OJ | 2.0 |\n",
       "| 26.4 | OJ | 2.0 |\n",
       "| 27.3 | OJ | 2.0 |\n",
       "| 29.4 | OJ | 2.0 |\n",
       "| 23.0 | OJ | 2.0 |\n",
       "\n"
      ],
      "text/plain": [
       "   len  supp dose\n",
       "1   4.2 VC   0.5 \n",
       "2  11.5 VC   0.5 \n",
       "3   7.3 VC   0.5 \n",
       "4   5.8 VC   0.5 \n",
       "5   6.4 VC   0.5 \n",
       "6  10.0 VC   0.5 \n",
       "7  11.2 VC   0.5 \n",
       "8  11.2 VC   0.5 \n",
       "9   5.2 VC   0.5 \n",
       "10  7.0 VC   0.5 \n",
       "11 16.5 VC   1.0 \n",
       "12 16.5 VC   1.0 \n",
       "13 15.2 VC   1.0 \n",
       "14 17.3 VC   1.0 \n",
       "15 22.5 VC   1.0 \n",
       "16 17.3 VC   1.0 \n",
       "17 13.6 VC   1.0 \n",
       "18 14.5 VC   1.0 \n",
       "19 18.8 VC   1.0 \n",
       "20 15.5 VC   1.0 \n",
       "21 23.6 VC   2.0 \n",
       "22 18.5 VC   2.0 \n",
       "23 33.9 VC   2.0 \n",
       "24 25.5 VC   2.0 \n",
       "25 26.4 VC   2.0 \n",
       "26 32.5 VC   2.0 \n",
       "27 26.7 VC   2.0 \n",
       "28 21.5 VC   2.0 \n",
       "29 23.3 VC   2.0 \n",
       "30 29.5 VC   2.0 \n",
       "31 15.2 OJ   0.5 \n",
       "32 21.5 OJ   0.5 \n",
       "33 17.6 OJ   0.5 \n",
       "34  9.7 OJ   0.5 \n",
       "35 14.5 OJ   0.5 \n",
       "36 10.0 OJ   0.5 \n",
       "37  8.2 OJ   0.5 \n",
       "38  9.4 OJ   0.5 \n",
       "39 16.5 OJ   0.5 \n",
       "40  9.7 OJ   0.5 \n",
       "41 19.7 OJ   1.0 \n",
       "42 23.3 OJ   1.0 \n",
       "43 23.6 OJ   1.0 \n",
       "44 26.4 OJ   1.0 \n",
       "45 20.0 OJ   1.0 \n",
       "46 25.2 OJ   1.0 \n",
       "47 25.8 OJ   1.0 \n",
       "48 21.2 OJ   1.0 \n",
       "49 14.5 OJ   1.0 \n",
       "50 27.3 OJ   1.0 \n",
       "51 25.5 OJ   2.0 \n",
       "52 26.4 OJ   2.0 \n",
       "53 22.4 OJ   2.0 \n",
       "54 24.5 OJ   2.0 \n",
       "55 24.8 OJ   2.0 \n",
       "56 30.9 OJ   2.0 \n",
       "57 26.4 OJ   2.0 \n",
       "58 27.3 OJ   2.0 \n",
       "59 29.4 OJ   2.0 \n",
       "60 23.0 OJ   2.0 "
      ]
     },
     "metadata": {},
     "output_type": "display_data"
    }
   ],
   "source": [
    "data <- ToothGrowth\n",
    "data"
   ]
  },
  {
   "cell_type": "code",
   "execution_count": 16,
   "metadata": {
    "vscode": {
     "languageId": "r"
    }
   },
   "outputs": [
    {
     "name": "stdout",
     "output_type": "stream",
     "text": [
      "data                   package:utils                   R Documentation\n",
      "\n",
      "_\bD_\ba_\bt_\ba _\bS_\be_\bt_\bs\n",
      "\n",
      "_\bD_\be_\bs_\bc_\br_\bi_\bp_\bt_\bi_\bo_\bn:\n",
      "\n",
      "     Loads specified data sets, or list the available data sets.\n",
      "\n",
      "_\bU_\bs_\ba_\bg_\be:\n",
      "\n",
      "     data(..., list = character(), package = NULL, lib.loc = NULL,\n",
      "          verbose = getOption(\"verbose\"), envir = .GlobalEnv,\n",
      "          overwrite = TRUE)\n",
      "     \n",
      "_\bA_\br_\bg_\bu_\bm_\be_\bn_\bt_\bs:\n",
      "\n",
      "     ...: literal character strings or names.\n",
      "\n",
      "    list: a character vector.\n",
      "\n",
      " package: a character vector giving the package(s) to look in for data\n",
      "          sets, or ‘NULL’.\n",
      "\n",
      "          By default, all packages in the search path are used, then\n",
      "          the ‘data’ subdirectory (if present) of the current working\n",
      "          directory.\n",
      "\n",
      " lib.loc: a character vector of directory names of R libraries, or\n",
      "          ‘NULL’.  The default value of ‘NULL’ corresponds to all\n",
      "          libraries currently known.\n",
      "\n",
      " verbose: a logical.  If ‘TRUE’, additional diagnostics are printed.\n",
      "\n",
      "   envir: the environment where the data should be loaded.\n",
      "\n",
      "overwrite: logical: should existing objects of the same name in ‘envir’\n",
      "          be replaced?\n",
      "\n",
      "_\bD_\be_\bt_\ba_\bi_\bl_\bs:\n",
      "\n",
      "     Currently, four formats of data files are supported:\n",
      "\n",
      "       1. files ending ‘.R’ or ‘.r’ are ‘source()’d in, with the R\n",
      "          working directory changed temporarily to the directory\n",
      "          containing the respective file.  (‘data’ ensures that the\n",
      "          ‘utils’ package is attached, in case it had been run _via_\n",
      "          ‘utils::data’.)\n",
      "\n",
      "       2. files ending ‘.RData’ or ‘.rda’ are ‘load()’ed.\n",
      "\n",
      "       3. files ending ‘.tab’, ‘.txt’ or ‘.TXT’ are read using\n",
      "          ‘read.table(..., header = TRUE, as.is=FALSE)’, and hence\n",
      "          result in a data frame.\n",
      "\n",
      "       4. files ending ‘.csv’ or ‘.CSV’ are read using ‘read.table(...,\n",
      "          header = TRUE, sep = \";\", as.is=FALSE)’, and also result in a\n",
      "          data frame.\n",
      "\n",
      "     If more than one matching file name is found, the first on this\n",
      "     list is used.  (Files with extensions ‘.txt’, ‘.tab’ or ‘.csv’ can\n",
      "     be compressed, with or without further extension ‘.gz’, ‘.bz2’ or\n",
      "     ‘.xz’.)\n",
      "\n",
      "     The data sets to be loaded can be specified as a set of character\n",
      "     strings or names, or as the character vector ‘list’, or as both.\n",
      "\n",
      "     For each given data set, the first two types (‘.R’ or ‘.r’, and\n",
      "     ‘.RData’ or ‘.rda’ files) can create several variables in the load\n",
      "     environment, which might all be named differently from the data\n",
      "     set.  The third and fourth types will always result in the\n",
      "     creation of a single variable with the same name (without\n",
      "     extension) as the data set.\n",
      "\n",
      "     If no data sets are specified, ‘data’ lists the available data\n",
      "     sets.  For each package, it looks for a data index in the ‘Meta’\n",
      "     subdirectory or, if this is not found, scans the ‘data’\n",
      "     subdirectory for data files using ‘list_files_with_type’.  The\n",
      "     information about available data sets is returned in an object of\n",
      "     class ‘\"packageIQR\"’.  The structure of this class is\n",
      "     experimental.  Where the datasets have a different name from the\n",
      "     argument that should be used to retrieve them the index will have\n",
      "     an entry like ‘beaver1 (beavers)’ which tells us that dataset\n",
      "     ‘beaver1’ can be retrieved by the call ‘data(beavers)’.\n",
      "\n",
      "     If ‘lib.loc’ and ‘package’ are both ‘NULL’ (the default), the data\n",
      "     sets are searched for in all the currently loaded packages then in\n",
      "     the ‘data’ directory (if any) of the current working directory.\n",
      "\n",
      "     If ‘lib.loc = NULL’ but ‘package’ is specified as a character\n",
      "     vector, the specified package(s) are searched for first amongst\n",
      "     loaded packages and then in the default library/ies (see\n",
      "     ‘.libPaths’).\n",
      "\n",
      "     If ‘lib.loc’ _is_ specified (and not ‘NULL’), packages are\n",
      "     searched for in the specified library/ies, even if they are\n",
      "     already loaded from another library.\n",
      "\n",
      "     To just look in the ‘data’ directory of the current working\n",
      "     directory, set ‘package = character(0)’ (and ‘lib.loc = NULL’, the\n",
      "     default).\n",
      "\n",
      "_\bV_\ba_\bl_\bu_\be:\n",
      "\n",
      "     A character vector of all data sets specified (whether found or\n",
      "     not), or information about all available data sets in an object of\n",
      "     class ‘\"packageIQR\"’ if none were specified.\n",
      "\n",
      "_\bG_\bo_\bo_\bd _\bp_\br_\ba_\bc_\bt_\bi_\bc_\be:\n",
      "\n",
      "     There is no requirement for ‘data(foo)’ to create an object named\n",
      "     ‘foo’ (nor to create one object), although it much reduces\n",
      "     confusion if this convention is followed (and it is enforced if\n",
      "     datasets are lazy-loaded).\n",
      "\n",
      "     ‘data()’ was originally intended to allow users to load datasets\n",
      "     from packages for use in their examples, and as such it loaded the\n",
      "     datasets into the workspace ‘.GlobalEnv’.  This avoided having\n",
      "     large datasets in memory when not in use: that need has been\n",
      "     almost entirely superseded by lazy-loading of datasets.\n",
      "\n",
      "     The ability to specify a dataset by name (without quotes) is a\n",
      "     convenience: in programming the datasets should be specified by\n",
      "     character strings (with quotes).\n",
      "\n",
      "     Use of ‘data’ within a function without an ‘envir’ argument has\n",
      "     the almost always undesirable side-effect of putting an object in\n",
      "     the user's workspace (and indeed, of replacing any object of that\n",
      "     name already there).  It would almost always be better to put the\n",
      "     object in the current evaluation environment by ‘data(..., envir =\n",
      "     environment())’.  However, two alternatives are usually\n",
      "     preferable, both described in the ‘Writing R Extensions’ manual.\n",
      "\n",
      "        • For sets of data, set up a package to use lazy-loading of\n",
      "          data.\n",
      "\n",
      "        • For objects which are system data, for example lookup tables\n",
      "          used in calculations within the function, use a file\n",
      "          ‘R/sysdata.rda’ in the package sources or create the objects\n",
      "          by R code at package installation time.\n",
      "\n",
      "     A sometimes important distinction is that the second approach\n",
      "     places objects in the namespace but the first does not.  So if it\n",
      "     is important that the function sees ‘mytable’ as an object from\n",
      "     the package, it is system data and the second approach should be\n",
      "     used.  In the unusual case that a package uses a lazy-loaded\n",
      "     dataset as a default argument to a function, that needs to be\n",
      "     specified by ‘::’, e.g., ‘survival::survexp.us’.\n",
      "\n",
      "_\bW_\ba_\br_\bn_\bi_\bn_\bg:\n",
      "\n",
      "     This function creates objects in the ‘envir’ environment (by\n",
      "     default the user's workspace) replacing any which already existed.\n",
      "     ‘data(\"foo\")’ can silently create objects other than ‘foo’: there\n",
      "     have been instances in published packages where it\n",
      "     created/replaced ‘.Random.seed’ and hence change the seed for the\n",
      "     session.\n",
      "\n",
      "_\bN_\bo_\bt_\be:\n",
      "\n",
      "     One can take advantage of the search order and the fact that a\n",
      "     ‘.R’ file will change directory.  If raw data are stored in\n",
      "     ‘mydata.txt’ then one can set up ‘mydata.R’ to read ‘mydata.txt’\n",
      "     and pre-process it, e.g., using ‘transform()’.  For instance one\n",
      "     can convert numeric vectors to factors with the appropriate\n",
      "     labels.  Thus, the ‘.R’ file can effectively contain a metadata\n",
      "     specification for the plaintext formats.\n",
      "\n",
      "_\bS_\be_\be _\bA_\bl_\bs_\bo:\n",
      "\n",
      "     ‘help’ for obtaining documentation on data sets, ‘save’ for\n",
      "     _creating_ the second (‘.rda’) kind of data, typically the most\n",
      "     efficient one.\n",
      "\n",
      "     The ‘Writing R Extensions’ for considerations in preparing the\n",
      "     ‘data’ directory of a package.\n",
      "\n",
      "_\bE_\bx_\ba_\bm_\bp_\bl_\be_\bs:\n",
      "\n",
      "     require(utils)\n",
      "     data()                         # list all available data sets\n",
      "     try(data(package = \"rpart\"), silent = TRUE) # list the data sets in the rpart package\n",
      "     data(USArrests, \"VADeaths\")    # load the data sets 'USArrests' and 'VADeaths'\n",
      "     ## Not run:\n",
      "     ## Alternatively\n",
      "     ds <- c(\"USArrests\", \"VADeaths\"); data(list = ds)\n",
      "     ## End(Not run)\n",
      "     \n",
      "     help(USArrests)                # give information on data set 'USArrests'\n",
      "     "
     ]
    }
   ],
   "source": [
    "help(data)"
   ]
  },
  {
   "cell_type": "code",
   "execution_count": 17,
   "metadata": {
    "vscode": {
     "languageId": "r"
    }
   },
   "outputs": [
    {
     "name": "stdout",
     "output_type": "stream",
     "text": [
      "'data.frame':\t60 obs. of  3 variables:\n",
      " $ len : num  4.2 11.5 7.3 5.8 6.4 10 11.2 11.2 5.2 7 ...\n",
      " $ supp: Factor w/ 2 levels \"OJ\",\"VC\": 2 2 2 2 2 2 2 2 2 2 ...\n",
      " $ dose: num  0.5 0.5 0.5 0.5 0.5 0.5 0.5 0.5 0.5 0.5 ...\n"
     ]
    }
   ],
   "source": [
    "str(data)\n",
    "# table(data$supp ,data$dose)"
   ]
  },
  {
   "cell_type": "code",
   "execution_count": 18,
   "metadata": {
    "vscode": {
     "languageId": "r"
    }
   },
   "outputs": [
    {
     "data": {
      "text/html": [
       "<table class=\"dataframe\">\n",
       "<caption>A table: 3 × 4 of type dbl</caption>\n",
       "<thead>\n",
       "\t<tr><th></th><th scope=col>0.5</th><th scope=col>1</th><th scope=col>2</th><th scope=col>Sum</th></tr>\n",
       "</thead>\n",
       "<tbody>\n",
       "\t<tr><th scope=row>OJ</th><td>10</td><td>10</td><td>10</td><td>30</td></tr>\n",
       "\t<tr><th scope=row>VC</th><td>10</td><td>10</td><td>10</td><td>30</td></tr>\n",
       "\t<tr><th scope=row>Sum</th><td>20</td><td>20</td><td>20</td><td>60</td></tr>\n",
       "</tbody>\n",
       "</table>\n"
      ],
      "text/latex": [
       "A table: 3 × 4 of type dbl\n",
       "\\begin{tabular}{r|llll}\n",
       "  & 0.5 & 1 & 2 & Sum\\\\\n",
       "\\hline\n",
       "\tOJ & 10 & 10 & 10 & 30\\\\\n",
       "\tVC & 10 & 10 & 10 & 30\\\\\n",
       "\tSum & 20 & 20 & 20 & 60\\\\\n",
       "\\end{tabular}\n"
      ],
      "text/markdown": [
       "\n",
       "A table: 3 × 4 of type dbl\n",
       "\n",
       "| <!--/--> | 0.5 | 1 | 2 | Sum |\n",
       "|---|---|---|---|---|\n",
       "| OJ | 10 | 10 | 10 | 30 |\n",
       "| VC | 10 | 10 | 10 | 30 |\n",
       "| Sum | 20 | 20 | 20 | 60 |\n",
       "\n"
      ],
      "text/plain": [
       "     \n",
       "      0.5 1  2  Sum\n",
       "  OJ  10  10 10 30 \n",
       "  VC  10  10 10 30 \n",
       "  Sum 20  20 20 60 "
      ]
     },
     "metadata": {},
     "output_type": "display_data"
    }
   ],
   "source": [
    "tbl <- table(data$supp ,data$dose)\n",
    "addmargins(tbl)"
   ]
  },
  {
   "cell_type": "code",
   "execution_count": 19,
   "metadata": {
    "vscode": {
     "languageId": "r"
    }
   },
   "outputs": [
    {
     "data": {
      "text/plain": [
       "\n",
       " OJ  VC \n",
       "0.5 0.5 "
      ]
     },
     "metadata": {},
     "output_type": "display_data"
    },
    {
     "data": {
      "text/plain": [
       "\n",
       "      0.5         1         2 \n",
       "0.3333333 0.3333333 0.3333333 "
      ]
     },
     "metadata": {},
     "output_type": "display_data"
    },
    {
     "data": {
      "text/plain": [
       "\n",
       " OJ  VC \n",
       "0.5 0.5 "
      ]
     },
     "metadata": {},
     "output_type": "display_data"
    }
   ],
   "source": [
    "Supp <- table(data$supp)\n",
    "prop.table(Supp)\n",
    "Dose <- table(data$dose)\n",
    "prop.table(Dose)\n",
    "round(prop.table(Supp), 2)"
   ]
  },
  {
   "cell_type": "code",
   "execution_count": 20,
   "metadata": {
    "vscode": {
     "languageId": "r"
    }
   },
   "outputs": [
    {
     "data": {
      "text/plain": [
       "\n",
       " 4  6  8 \n",
       "11  7 14 "
      ]
     },
     "metadata": {},
     "output_type": "display_data"
    }
   ],
   "source": [
    "data(mtcars)\n",
    "tbl <- table(mtcars$cyl)\n",
    "tbl"
   ]
  },
  {
   "cell_type": "code",
   "execution_count": 21,
   "metadata": {
    "vscode": {
     "languageId": "r"
    }
   },
   "outputs": [
    {
     "data": {
      "image/png": "[encoded data removed]",
      "text/plain": [
       "plot without title"
      ]
     },
     "metadata": {
      "image/png": {
       "height": 420,
       "width": 420
      }
     },
     "output_type": "display_data"
    }
   ],
   "source": [
    "barplot(tbl)"
   ]
  },
  {
   "cell_type": "code",
   "execution_count": 22,
   "metadata": {
    "vscode": {
     "languageId": "r"
    }
   },
   "outputs": [
    {
     "data": {
      "text/plain": [
       "\n",
       " 4  6  8 \n",
       "11  7 14 "
      ]
     },
     "metadata": {},
     "output_type": "display_data"
    }
   ],
   "source": [
    "data(mtcars)\n",
    "tbl <- table(mtcars$cyl)\n",
    "tbl"
   ]
  },
  {
   "cell_type": "code",
   "execution_count": 23,
   "metadata": {
    "vscode": {
     "languageId": "r"
    }
   },
   "outputs": [
    {
     "data": {
      "image/png": "[encoded data removed]",
      "text/plain": [
       "plot without title"
      ]
     },
     "metadata": {
      "image/png": {
       "height": 420,
       "width": 420
      }
     },
     "output_type": "display_data"
    }
   ],
   "source": [
    "barplot(tbl, col='red', border='gold')"
   ]
  },
  {
   "cell_type": "code",
   "execution_count": 24,
   "metadata": {
    "vscode": {
     "languageId": "r"
    }
   },
   "outputs": [],
   "source": [
    "library(readxl)"
   ]
  },
  {
   "cell_type": "code",
   "execution_count": 25,
   "metadata": {
    "vscode": {
     "languageId": "r"
    }
   },
   "outputs": [
    {
     "data": {
      "text/html": [
       "'/home/students/cs/202020827/public_html/Code'"
      ],
      "text/latex": [
       "'/home/students/cs/202020827/public\\_html/Code'"
      ],
      "text/markdown": [
       "'/home/students/cs/202020827/public_html/Code'"
      ],
      "text/plain": [
       "[1] \"/home/students/cs/202020827/public_html/Code\""
      ]
     },
     "metadata": {},
     "output_type": "display_data"
    }
   ],
   "source": [
    "getwd()"
   ]
  },
  {
   "cell_type": "code",
   "execution_count": 26,
   "metadata": {
    "vscode": {
     "languageId": "r"
    }
   },
   "outputs": [
    {
     "data": {
      "text/html": [
       "<table class=\"dataframe\">\n",
       "<caption>A tibble: 6 × 8</caption>\n",
       "<thead>\n",
       "\t<tr><th scope=col>번호</th><th scope=col>학년</th><th scope=col>통신사</th><th scope=col>제조회사</th><th scope=col>계기</th><th scope=col>만족도</th><th scope=col>구매이유</th><th scope=col>사용앱</th></tr>\n",
       "\t<tr><th scope=col>&lt;dbl&gt;</th><th scope=col>&lt;chr&gt;</th><th scope=col>&lt;chr&gt;</th><th scope=col>&lt;chr&gt;</th><th scope=col>&lt;chr&gt;</th><th scope=col>&lt;dbl&gt;</th><th scope=col>&lt;chr&gt;</th><th scope=col>&lt;chr&gt;</th></tr>\n",
       "</thead>\n",
       "<tbody>\n",
       "\t<tr><td>1</td><td>2학년</td><td>KT  </td><td>애플</td><td>아는 사람 소개        </td><td>3</td><td>디자인이 마음에 들어서              </td><td>카카오톡, 유투브, 영화보기(Netplix 등)</td></tr>\n",
       "\t<tr><td>2</td><td>3학년</td><td>LGU+</td><td>애플</td><td>인터넷을 통해서       </td><td>5</td><td>성능이 좋아서                       </td><td>카카오톡, 유투브, 카메라              </td></tr>\n",
       "\t<tr><td>3</td><td>4학년</td><td>SKT </td><td>삼성</td><td>인터넷을 통해서       </td><td>4</td><td>가격이 착해서, 성능이 좋아서        </td><td>카카오톡, 유투브, 인터넷              </td></tr>\n",
       "\t<tr><td>4</td><td>3학년</td><td>SKT </td><td>애플</td><td>어릴적이라 기억이 안남</td><td>5</td><td>디자인이 마음에 들어서              </td><td>카카오톡, 유투브, 인스타그램          </td></tr>\n",
       "\t<tr><td>5</td><td>2학년</td><td>SKT </td><td>삼성</td><td>인터넷을 통해서       </td><td>3</td><td>가격이 착해서, 이전 폰에 싫증이 나서</td><td>유투브, 게임, TV 다시보기             </td></tr>\n",
       "\t<tr><td>6</td><td>3학년</td><td>KT  </td><td>삼성</td><td>인터넷을 통해서       </td><td>3</td><td>성능이 좋아서                       </td><td>카카오톡, 유투브, 인터넷              </td></tr>\n",
       "</tbody>\n",
       "</table>\n"
      ],
      "text/latex": [
       "A tibble: 6 × 8\n",
       "\\begin{tabular}{llllllll}\n",
       " 번호 & 학년 & 통신사 & 제조회사 & 계기 & 만족도 & 구매이유 & 사용앱\\\\\n",
       " <dbl> & <chr> & <chr> & <chr> & <chr> & <dbl> & <chr> & <chr>\\\\\n",
       "\\hline\n",
       "\t 1 & 2학년 & KT   & 애플 & 아는 사람 소개         & 3 & 디자인이 마음에 들어서               & 카카오톡, 유투브, 영화보기(Netplix 등)\\\\\n",
       "\t 2 & 3학년 & LGU+ & 애플 & 인터넷을 통해서        & 5 & 성능이 좋아서                        & 카카오톡, 유투브, 카메라              \\\\\n",
       "\t 3 & 4학년 & SKT  & 삼성 & 인터넷을 통해서        & 4 & 가격이 착해서, 성능이 좋아서         & 카카오톡, 유투브, 인터넷              \\\\\n",
       "\t 4 & 3학년 & SKT  & 애플 & 어릴적이라 기억이 안남 & 5 & 디자인이 마음에 들어서               & 카카오톡, 유투브, 인스타그램          \\\\\n",
       "\t 5 & 2학년 & SKT  & 삼성 & 인터넷을 통해서        & 3 & 가격이 착해서, 이전 폰에 싫증이 나서 & 유투브, 게임, TV 다시보기             \\\\\n",
       "\t 6 & 3학년 & KT   & 삼성 & 인터넷을 통해서        & 3 & 성능이 좋아서                        & 카카오톡, 유투브, 인터넷              \\\\\n",
       "\\end{tabular}\n"
      ],
      "text/markdown": [
       "\n",
       "A tibble: 6 × 8\n",
       "\n",
       "| 번호 &lt;dbl&gt; | 학년 &lt;chr&gt; | 통신사 &lt;chr&gt; | 제조회사 &lt;chr&gt; | 계기 &lt;chr&gt; | 만족도 &lt;dbl&gt; | 구매이유 &lt;chr&gt; | 사용앱 &lt;chr&gt; |\n",
       "|---|---|---|---|---|---|---|---|\n",
       "| 1 | 2학년 | KT   | 애플 | 아는 사람 소개         | 3 | 디자인이 마음에 들어서               | 카카오톡, 유투브, 영화보기(Netplix 등) |\n",
       "| 2 | 3학년 | LGU+ | 애플 | 인터넷을 통해서        | 5 | 성능이 좋아서                        | 카카오톡, 유투브, 카메라               |\n",
       "| 3 | 4학년 | SKT  | 삼성 | 인터넷을 통해서        | 4 | 가격이 착해서, 성능이 좋아서         | 카카오톡, 유투브, 인터넷               |\n",
       "| 4 | 3학년 | SKT  | 애플 | 어릴적이라 기억이 안남 | 5 | 디자인이 마음에 들어서               | 카카오톡, 유투브, 인스타그램           |\n",
       "| 5 | 2학년 | SKT  | 삼성 | 인터넷을 통해서        | 3 | 가격이 착해서, 이전 폰에 싫증이 나서 | 유투브, 게임, TV 다시보기              |\n",
       "| 6 | 3학년 | KT   | 삼성 | 인터넷을 통해서        | 3 | 성능이 좋아서                        | 카카오톡, 유투브, 인터넷               |\n",
       "\n"
      ],
      "text/plain": [
       "  번호 학년  통신사 제조회사 계기                   만족도\n",
       "1 1    2학년 KT     애플     아는 사람 소개         3     \n",
       "2 2    3학년 LGU+   애플     인터넷을 통해서        5     \n",
       "3 3    4학년 SKT    삼성     인터넷을 통해서        4     \n",
       "4 4    3학년 SKT    애플     어릴적이라 기억이 안남 5     \n",
       "5 5    2학년 SKT    삼성     인터넷을 통해서        3     \n",
       "6 6    3학년 KT     삼성     인터넷을 통해서        3     \n",
       "  구매이유                             사용앱                                \n",
       "1 디자인이 마음에 들어서               카카오톡, 유투브, 영화보기(Netplix 등)\n",
       "2 성능이 좋아서                        카카오톡, 유투브, 카메라              \n",
       "3 가격이 착해서, 성능이 좋아서         카카오톡, 유투브, 인터넷              \n",
       "4 디자인이 마음에 들어서               카카오톡, 유투브, 인스타그램          \n",
       "5 가격이 착해서, 이전 폰에 싫증이 나서 유투브, 게임, TV 다시보기             \n",
       "6 성능이 좋아서                        카카오톡, 유투브, 인터넷              "
      ]
     },
     "metadata": {},
     "output_type": "display_data"
    }
   ],
   "source": [
    "data <- read_xlsx(\"../mydata/실습 설문지.xlsx\")\n",
    "head(data)"
   ]
  },
  {
   "cell_type": "code",
   "execution_count": 27,
   "metadata": {
    "vscode": {
     "languageId": "r"
    }
   },
   "outputs": [
    {
     "data": {
      "text/plain": [
       "\n",
       "2학년 3학년 4학년 \n",
       "   19    33     6 "
      ]
     },
     "metadata": {},
     "output_type": "display_data"
    }
   ],
   "source": [
    "table(data$`학년`)"
   ]
  },
  {
   "cell_type": "code",
   "execution_count": 28,
   "metadata": {
    "vscode": {
     "languageId": "r"
    }
   },
   "outputs": [
    {
     "data": {
      "text/plain": [
       "\n",
       "    KT   LGU+    SKT 알뜰폰    Sum \n",
       "    14     16     24      4     58 "
      ]
     },
     "metadata": {},
     "output_type": "display_data"
    }
   ],
   "source": [
    "addmargins(table(data$`통신사`))"
   ]
  },
  {
   "cell_type": "code",
   "execution_count": 29,
   "metadata": {
    "vscode": {
     "languageId": "r"
    }
   },
   "outputs": [
    {
     "data": {
      "text/html": [
       "<table class=\"dataframe\">\n",
       "<caption>A table: 4 × 5 of type dbl</caption>\n",
       "<thead>\n",
       "\t<tr><th></th><th scope=col>KT</th><th scope=col>LGU+</th><th scope=col>SKT</th><th scope=col>알뜰폰</th><th scope=col>Sum</th></tr>\n",
       "</thead>\n",
       "<tbody>\n",
       "\t<tr><th scope=row>2학년</th><td> 4</td><td> 5</td><td> 8</td><td>2</td><td>19</td></tr>\n",
       "\t<tr><th scope=row>3학년</th><td> 9</td><td>10</td><td>13</td><td>1</td><td>33</td></tr>\n",
       "\t<tr><th scope=row>4학년</th><td> 1</td><td> 1</td><td> 3</td><td>1</td><td> 6</td></tr>\n",
       "\t<tr><th scope=row>Sum</th><td>14</td><td>16</td><td>24</td><td>4</td><td>58</td></tr>\n",
       "</tbody>\n",
       "</table>\n"
      ],
      "text/latex": [
       "A table: 4 × 5 of type dbl\n",
       "\\begin{tabular}{r|lllll}\n",
       "  & KT & LGU+ & SKT & 알뜰폰 & Sum\\\\\n",
       "\\hline\n",
       "\t2학년 &  4 &  5 &  8 & 2 & 19\\\\\n",
       "\t3학년 &  9 & 10 & 13 & 1 & 33\\\\\n",
       "\t4학년 &  1 &  1 &  3 & 1 &  6\\\\\n",
       "\tSum & 14 & 16 & 24 & 4 & 58\\\\\n",
       "\\end{tabular}\n"
      ],
      "text/markdown": [
       "\n",
       "A table: 4 × 5 of type dbl\n",
       "\n",
       "| <!--/--> | KT | LGU+ | SKT | 알뜰폰 | Sum |\n",
       "|---|---|---|---|---|---|\n",
       "| 2학년 |  4 |  5 |  8 | 2 | 19 |\n",
       "| 3학년 |  9 | 10 | 13 | 1 | 33 |\n",
       "| 4학년 |  1 |  1 |  3 | 1 |  6 |\n",
       "| Sum | 14 | 16 | 24 | 4 | 58 |\n",
       "\n"
      ],
      "text/plain": [
       "       \n",
       "        KT LGU+ SKT 알뜰폰 Sum\n",
       "  2학년  4  5    8  2      19 \n",
       "  3학년  9 10   13  1      33 \n",
       "  4학년  1  1    3  1       6 \n",
       "  Sum   14 16   24  4      58 "
      ]
     },
     "metadata": {},
     "output_type": "display_data"
    }
   ],
   "source": [
    "result <- table(data$`학년`, data$`통신사`)\n",
    "addmargins(result)"
   ]
  },
  {
   "cell_type": "code",
   "execution_count": 30,
   "metadata": {
    "vscode": {
     "languageId": "r"
    }
   },
   "outputs": [
    {
     "data": {
      "text/plain": [
       "\n",
       "          SNS를 통해서                TV 광고          개통사의 권유 \n",
       "                     6                      7                      1 \n",
       "         매장에서 구입         아는 사람 소개 어릴적이라 기억이 안남 \n",
       "                     1                     11                      1 \n",
       "       인터넷을 통해서              지인 사용 \n",
       "                    30                      1 "
      ]
     },
     "metadata": {},
     "output_type": "display_data"
    }
   ],
   "source": [
    "table(data$`계기`)"
   ]
  },
  {
   "cell_type": "code",
   "execution_count": 31,
   "metadata": {
    "vscode": {
     "languageId": "r"
    }
   },
   "outputs": [
    {
     "data": {
      "image/png": "[encoded data removed]",
      "text/plain": [
       "Plot with title “이 제품을 알게된 계기”"
      ]
     },
     "metadata": {
      "image/png": {
       "height": 420,
       "width": 900
      }
     },
     "output_type": "display_data"
    }
   ],
   "source": [
    "options(repr.plot.width=15)\n",
    "\n",
    "barplot(table(data$`계기`), col='gold', border='red')\n",
    "title(\"이 제품을 알게된 계기\")"
   ]
  },
  {
   "cell_type": "code",
   "execution_count": 32,
   "metadata": {
    "vscode": {
     "languageId": "r"
    }
   },
   "outputs": [
    {
     "name": "stdout",
     "output_type": "stream",
     "text": [
      "스스로해보기 1 스스로해보기 2 스스로해보기 3 스스로해보기 4 \n",
      "            29             29             33              7 \n"
     ]
    }
   ],
   "source": [
    "homework <-  c(29, 29, 33, 7)\n",
    "names(homework) <- paste(\"스스로해보기\", 1:4)\n",
    "print(homework)"
   ]
  },
  {
   "cell_type": "code",
   "execution_count": 33,
   "metadata": {
    "vscode": {
     "languageId": "r"
    }
   },
   "outputs": [
    {
     "data": {
      "image/png": "[encoded data removed]",
      "text/plain": [
       "plot without title"
      ]
     },
     "metadata": {
      "image/png": {
       "height": 420,
       "width": 900
      }
     },
     "output_type": "display_data"
    }
   ],
   "source": [
    "barplot(homework)"
   ]
  },
  {
   "cell_type": "code",
   "execution_count": 34,
   "metadata": {
    "vscode": {
     "languageId": "r"
    }
   },
   "outputs": [
    {
     "data": {
      "text/html": [
       "'/home/students/cs/202020827/public_html/Code'"
      ],
      "text/latex": [
       "'/home/students/cs/202020827/public\\_html/Code'"
      ],
      "text/markdown": [
       "'/home/students/cs/202020827/public_html/Code'"
      ],
      "text/plain": [
       "[1] \"/home/students/cs/202020827/public_html/Code\""
      ]
     },
     "metadata": {},
     "output_type": "display_data"
    }
   ],
   "source": [
    "getwd()"
   ]
  },
  {
   "cell_type": "code",
   "execution_count": 35,
   "metadata": {
    "vscode": {
     "languageId": "r"
    }
   },
   "outputs": [
    {
     "data": {
      "text/html": [
       "<table class=\"dataframe\">\n",
       "<caption>A data.frame: 6 × 8</caption>\n",
       "<thead>\n",
       "\t<tr><th></th><th scope=col>시도</th><th scope=col>시군구</th><th scope=col>발생월</th><th scope=col>사고건수</th><th scope=col>사망자수</th><th scope=col>중상자수</th><th scope=col>경상자수</th><th scope=col>부상신고자수</th></tr>\n",
       "\t<tr><th></th><th scope=col>&lt;chr&gt;</th><th scope=col>&lt;chr&gt;</th><th scope=col>&lt;int&gt;</th><th scope=col>&lt;int&gt;</th><th scope=col>&lt;int&gt;</th><th scope=col>&lt;int&gt;</th><th scope=col>&lt;int&gt;</th><th scope=col>&lt;int&gt;</th></tr>\n",
       "</thead>\n",
       "<tbody>\n",
       "\t<tr><th scope=row>1</th><td>서울</td><td>종로구</td><td>1</td><td>77</td><td>2</td><td>15</td><td> 79</td><td>14</td></tr>\n",
       "\t<tr><th scope=row>2</th><td>서울</td><td>종로구</td><td>2</td><td>66</td><td>0</td><td>17</td><td> 59</td><td> 8</td></tr>\n",
       "\t<tr><th scope=row>3</th><td>서울</td><td>종로구</td><td>3</td><td>67</td><td>0</td><td>15</td><td> 80</td><td> 2</td></tr>\n",
       "\t<tr><th scope=row>4</th><td>서울</td><td>종로구</td><td>4</td><td>73</td><td>1</td><td>17</td><td> 67</td><td> 6</td></tr>\n",
       "\t<tr><th scope=row>5</th><td>서울</td><td>종로구</td><td>5</td><td>88</td><td>0</td><td>21</td><td>103</td><td>12</td></tr>\n",
       "\t<tr><th scope=row>6</th><td>서울</td><td>종로구</td><td>6</td><td>82</td><td>0</td><td>17</td><td> 78</td><td> 6</td></tr>\n",
       "</tbody>\n",
       "</table>\n"
      ],
      "text/latex": [
       "A data.frame: 6 × 8\n",
       "\\begin{tabular}{r|llllllll}\n",
       "  & 시도 & 시군구 & 발생월 & 사고건수 & 사망자수 & 중상자수 & 경상자수 & 부상신고자수\\\\\n",
       "  & <chr> & <chr> & <int> & <int> & <int> & <int> & <int> & <int>\\\\\n",
       "\\hline\n",
       "\t1 & 서울 & 종로구 & 1 & 77 & 2 & 15 &  79 & 14\\\\\n",
       "\t2 & 서울 & 종로구 & 2 & 66 & 0 & 17 &  59 &  8\\\\\n",
       "\t3 & 서울 & 종로구 & 3 & 67 & 0 & 15 &  80 &  2\\\\\n",
       "\t4 & 서울 & 종로구 & 4 & 73 & 1 & 17 &  67 &  6\\\\\n",
       "\t5 & 서울 & 종로구 & 5 & 88 & 0 & 21 & 103 & 12\\\\\n",
       "\t6 & 서울 & 종로구 & 6 & 82 & 0 & 17 &  78 &  6\\\\\n",
       "\\end{tabular}\n"
      ],
      "text/markdown": [
       "\n",
       "A data.frame: 6 × 8\n",
       "\n",
       "| <!--/--> | 시도 &lt;chr&gt; | 시군구 &lt;chr&gt; | 발생월 &lt;int&gt; | 사고건수 &lt;int&gt; | 사망자수 &lt;int&gt; | 중상자수 &lt;int&gt; | 경상자수 &lt;int&gt; | 부상신고자수 &lt;int&gt; |\n",
       "|---|---|---|---|---|---|---|---|---|\n",
       "| 1 | 서울 | 종로구 | 1 | 77 | 2 | 15 |  79 | 14 |\n",
       "| 2 | 서울 | 종로구 | 2 | 66 | 0 | 17 |  59 |  8 |\n",
       "| 3 | 서울 | 종로구 | 3 | 67 | 0 | 15 |  80 |  2 |\n",
       "| 4 | 서울 | 종로구 | 4 | 73 | 1 | 17 |  67 |  6 |\n",
       "| 5 | 서울 | 종로구 | 5 | 88 | 0 | 21 | 103 | 12 |\n",
       "| 6 | 서울 | 종로구 | 6 | 82 | 0 | 17 |  78 |  6 |\n",
       "\n"
      ],
      "text/plain": [
       "  시도 시군구 발생월 사고건수 사망자수 중상자수 경상자수 부상신고자수\n",
       "1 서울 종로구 1      77       2        15        79      14          \n",
       "2 서울 종로구 2      66       0        17        59       8          \n",
       "3 서울 종로구 3      67       0        15        80       2          \n",
       "4 서울 종로구 4      73       1        17        67       6          \n",
       "5 서울 종로구 5      88       0        21       103      12          \n",
       "6 서울 종로구 6      82       0        17        78       6          "
      ]
     },
     "metadata": {},
     "output_type": "display_data"
    }
   ],
   "source": [
    "data <- read.csv(\"../mydata/도로교통공단_시군구별 월별 교통사고 통계_20231231.csv\"\n",
    "                    , fileEncoding = \"cp949\")\n",
    "\n",
    "head(data)\n"
   ]
  },
  {
   "cell_type": "code",
   "execution_count": 36,
   "metadata": {
    "vscode": {
     "languageId": "r"
    }
   },
   "outputs": [
    {
     "data": {
      "text/plain": [
       "\n",
       "강원 경기 경남 경북 광주 대구 대전 부산 서울 세종 울산 인천 전남 전북 제주 충남 \n",
       " 216  372  216  266   60  102   60  192  300   12   60  120  264  168   24  180 \n",
       "충북 \n",
       " 132 "
      ]
     },
     "metadata": {},
     "output_type": "display_data"
    }
   ],
   "source": [
    "table(data$`시도`)"
   ]
  },
  {
   "cell_type": "code",
   "execution_count": 37,
   "metadata": {
    "vscode": {
     "languageId": "r"
    }
   },
   "outputs": [
    {
     "data": {
      "text/html": [
       "<table class=\"dataframe\">\n",
       "<caption>A matrix: 1 × 17 of type int</caption>\n",
       "<thead>\n",
       "\t<tr><th scope=col>강원</th><th scope=col>경기</th><th scope=col>경남</th><th scope=col>경북</th><th scope=col>광주</th><th scope=col>대구</th><th scope=col>대전</th><th scope=col>부산</th><th scope=col>서울</th><th scope=col>세종</th><th scope=col>울산</th><th scope=col>인천</th><th scope=col>전남</th><th scope=col>전북</th><th scope=col>제주</th><th scope=col>충남</th><th scope=col>충북</th></tr>\n",
       "</thead>\n",
       "<tbody>\n",
       "\t<tr><td>216</td><td>372</td><td>216</td><td>266</td><td>60</td><td>102</td><td>60</td><td>192</td><td>300</td><td>12</td><td>60</td><td>120</td><td>264</td><td>168</td><td>24</td><td>180</td><td>132</td></tr>\n",
       "</tbody>\n",
       "</table>\n"
      ],
      "text/latex": [
       "A matrix: 1 × 17 of type int\n",
       "\\begin{tabular}{lllllllllllllllll}\n",
       " 강원 & 경기 & 경남 & 경북 & 광주 & 대구 & 대전 & 부산 & 서울 & 세종 & 울산 & 인천 & 전남 & 전북 & 제주 & 충남 & 충북\\\\\n",
       "\\hline\n",
       "\t 216 & 372 & 216 & 266 & 60 & 102 & 60 & 192 & 300 & 12 & 60 & 120 & 264 & 168 & 24 & 180 & 132\\\\\n",
       "\\end{tabular}\n"
      ],
      "text/markdown": [
       "\n",
       "A matrix: 1 × 17 of type int\n",
       "\n",
       "| 강원 | 경기 | 경남 | 경북 | 광주 | 대구 | 대전 | 부산 | 서울 | 세종 | 울산 | 인천 | 전남 | 전북 | 제주 | 충남 | 충북 |\n",
       "|---|---|---|---|---|---|---|---|---|---|---|---|---|---|---|---|---|\n",
       "| 216 | 372 | 216 | 266 | 60 | 102 | 60 | 192 | 300 | 12 | 60 | 120 | 264 | 168 | 24 | 180 | 132 |\n",
       "\n"
      ],
      "text/plain": [
       "     강원 경기 경남 경북 광주 대구 대전 부산 서울 세종 울산 인천 전남 전북 제주\n",
       "[1,] 216  372  216  266  60   102  60   192  300  12   60   120  264  168  24  \n",
       "     충남 충북\n",
       "[1,] 180  132 "
      ]
     },
     "metadata": {},
     "output_type": "display_data"
    }
   ],
   "source": [
    "t(as.matrix(table(data$`시도`)))"
   ]
  },
  {
   "cell_type": "code",
   "execution_count": 38,
   "metadata": {
    "vscode": {
     "languageId": "r"
    }
   },
   "outputs": [
    {
     "data": {
      "text/plain": [
       "     시도              시군구              발생월          사고건수     \n",
       " Length:2744        Length:2744        Min.   : 1.000   Min.   :  1.00  \n",
       " Class :character   Class :character   1st Qu.: 4.000   1st Qu.: 17.00  \n",
       " Mode  :character   Mode  :character   Median : 6.500   Median : 47.50  \n",
       "                                       Mean   : 6.502   Mean   : 72.27  \n",
       "                                       3rd Qu.: 9.250   3rd Qu.:100.00  \n",
       "                                       Max.   :12.000   Max.   :423.00  \n",
       "    사망자수         중상자수         경상자수      부상신고자수   \n",
       " Min.   :0.0000   Min.   :  0.00   Min.   :  0.0   Min.   : 0.000  \n",
       " 1st Qu.:0.0000   1st Qu.:  7.00   1st Qu.: 17.0   1st Qu.: 1.000  \n",
       " Median :1.0000   Median : 14.00   Median : 50.0   Median : 3.000  \n",
       " Mean   :0.9297   Mean   : 19.31   Mean   : 77.1   Mean   : 7.012  \n",
       " 3rd Qu.:1.0000   3rd Qu.: 26.00   3rd Qu.:104.0   3rd Qu.: 9.000  \n",
       " Max.   :8.0000   Max.   :135.00   Max.   :515.0   Max.   :70.000  "
      ]
     },
     "metadata": {},
     "output_type": "display_data"
    }
   ],
   "source": [
    "summary(data)"
   ]
  },
  {
   "cell_type": "code",
   "execution_count": 39,
   "metadata": {
    "vscode": {
     "languageId": "r"
    }
   },
   "outputs": [
    {
     "data": {
      "text/html": [
       "<style>\n",
       ".list-inline {list-style: none; margin:0; padding: 0}\n",
       ".list-inline>li {display: inline-block}\n",
       ".list-inline>li:not(:last-child)::after {content: \"\\00b7\"; padding: 0 .5ex}\n",
       "</style>\n",
       "<ol class=list-inline><li>77</li><li>66</li><li>67</li><li>73</li><li>88</li><li>82</li><li>95</li><li>83</li><li>81</li><li>96</li><li>80</li><li>100</li><li>81</li><li>58</li><li>88</li><li>82</li><li>67</li><li>78</li><li>79</li><li>61</li><li>76</li><li>84</li><li>98</li><li>79</li><li>81</li><li>73</li><li>63</li><li>73</li><li>77</li><li>80</li><li>86</li><li>95</li><li>101</li><li>99</li><li>86</li><li>82</li><li>78</li><li>61</li><li>64</li><li>88</li><li>72</li><li>69</li><li>70</li><li>84</li><li>84</li><li>81</li><li>82</li><li>86</li><li>121</li><li>112</li><li>133</li><li>132</li><li>153</li><li>147</li><li>133</li><li>153</li><li>130</li><li>157</li><li>160</li><li>143</li><li>103</li><li>84</li><li>83</li><li>98</li><li>108</li><li>102</li><li>99</li><li>81</li><li>124</li><li>116</li><li>127</li><li>131</li><li>36</li><li>32</li><li>43</li><li>48</li><li>40</li><li>49</li><li>51</li><li>54</li><li>45</li><li>47</li><li>37</li><li>48</li><li>90</li><li>45</li><li>83</li><li>96</li><li>93</li><li>75</li><li>79</li><li>92</li><li>98</li><li>94</li><li>100</li><li>94</li><li>74</li><li>53</li><li>70</li><li>76</li><li>92</li><li>74</li><li>67</li><li>93</li><li>69</li><li>70</li><li>87</li><li>91</li><li>80</li><li>77</li><li>93</li><li>111</li><li>117</li><li>104</li><li>103</li><li>120</li><li>115</li><li>122</li><li>104</li><li>104</li><li>112</li><li>106</li><li>112</li><li>139</li><li>134</li><li>133</li><li>121</li><li>128</li><li>153</li><li>135</li><li>126</li><li>119</li><li>93</li><li>75</li><li>101</li><li>99</li><li>122</li><li>119</li><li>136</li><li>111</li><li>114</li><li>123</li><li>131</li><li>135</li><li>134</li><li>150</li><li>146</li><li>143</li><li>155</li><li>139</li><li>149</li><li>172</li><li>178</li><li>173</li><li>182</li><li>179</li><li>107</li><li>96</li><li>96</li><li>95</li><li>102</li><li>108</li><li>101</li><li>105</li><li>121</li><li>105</li><li>100</li><li>106</li><li>71</li><li>75</li><li>86</li><li>83</li><li>93</li><li>100</li><li>73</li><li>100</li><li>84</li><li>73</li><li>76</li><li>66</li><li>293</li><li>283</li><li>330</li><li>347</li><li>315</li><li>313</li><li>344</li><li>324</li><li>315</li><li>341</li><li>358</li><li>363</li><li>94</li><li>83</li><li>73</li><li>91</li><li>111</li><li>105</li><li>114</li><li>100</li><li>⋯</li><li>2</li><li>3</li><li>2</li><li>6</li><li>1</li><li>4</li><li>1</li><li>1</li><li>37</li><li>36</li><li>47</li><li>46</li><li>36</li><li>37</li><li>36</li><li>43</li><li>44</li><li>42</li><li>43</li><li>38</li><li>103</li><li>120</li><li>146</li><li>140</li><li>172</li><li>132</li><li>154</li><li>152</li><li>164</li><li>140</li><li>147</li><li>176</li><li>150</li><li>136</li><li>161</li><li>191</li><li>189</li><li>167</li><li>182</li><li>182</li><li>192</li><li>178</li><li>198</li><li>179</li><li>145</li><li>127</li><li>177</li><li>164</li><li>154</li><li>164</li><li>165</li><li>140</li><li>178</li><li>168</li><li>171</li><li>149</li><li>41</li><li>41</li><li>68</li><li>66</li><li>72</li><li>58</li><li>58</li><li>64</li><li>70</li><li>66</li><li>65</li><li>65</li><li>77</li><li>70</li><li>104</li><li>89</li><li>88</li><li>107</li><li>96</li><li>101</li><li>108</li><li>89</li><li>119</li><li>89</li><li>82</li><li>69</li><li>78</li><li>87</li><li>105</li><li>96</li><li>90</li><li>92</li><li>94</li><li>93</li><li>123</li><li>90</li><li>205</li><li>182</li><li>188</li><li>180</li><li>225</li><li>204</li><li>207</li><li>197</li><li>220</li><li>195</li><li>234</li><li>195</li><li>106</li><li>129</li><li>137</li><li>144</li><li>161</li><li>148</li><li>147</li><li>138</li><li>155</li><li>160</li><li>185</li><li>161</li><li>75</li><li>50</li><li>92</li><li>88</li><li>90</li><li>77</li><li>77</li><li>83</li><li>101</li><li>71</li><li>82</li><li>73</li><li>58</li><li>42</li><li>47</li><li>58</li><li>55</li><li>54</li><li>62</li><li>52</li><li>57</li><li>41</li><li>44</li><li>49</li><li>79</li><li>59</li><li>90</li><li>102</li><li>115</li><li>111</li><li>94</li><li>93</li><li>80</li><li>111</li><li>114</li><li>95</li><li>39</li><li>30</li><li>41</li><li>35</li><li>36</li><li>31</li><li>34</li><li>27</li><li>42</li><li>48</li><li>35</li><li>38</li><li>48</li><li>51</li><li>61</li><li>60</li><li>65</li><li>62</li><li>61</li><li>69</li><li>71</li><li>59</li><li>54</li><li>76</li><li>54</li><li>57</li><li>66</li><li>51</li><li>67</li><li>51</li><li>62</li><li>65</li><li>70</li><li>70</li><li>56</li><li>60</li><li>79</li><li>78</li><li>101</li><li>97</li><li>107</li><li>119</li><li>89</li><li>98</li><li>116</li><li>102</li><li>88</li><li>92</li></ol>\n"
      ],
      "text/latex": [
       "\\begin{enumerate*}\n",
       "\\item 77\n",
       "\\item 66\n",
       "\\item 67\n",
       "\\item 73\n",
       "\\item 88\n",
       "\\item 82\n",
       "\\item 95\n",
       "\\item 83\n",
       "\\item 81\n",
       "\\item 96\n",
       "\\item 80\n",
       "\\item 100\n",
       "\\item 81\n",
       "\\item 58\n",
       "\\item 88\n",
       "\\item 82\n",
       "\\item 67\n",
       "\\item 78\n",
       "\\item 79\n",
       "\\item 61\n",
       "\\item 76\n",
       "\\item 84\n",
       "\\item 98\n",
       "\\item 79\n",
       "\\item 81\n",
       "\\item 73\n",
       "\\item 63\n",
       "\\item 73\n",
       "\\item 77\n",
       "\\item 80\n",
       "\\item 86\n",
       "\\item 95\n",
       "\\item 101\n",
       "\\item 99\n",
       "\\item 86\n",
       "\\item 82\n",
       "\\item 78\n",
       "\\item 61\n",
       "\\item 64\n",
       "\\item 88\n",
       "\\item 72\n",
       "\\item 69\n",
       "\\item 70\n",
       "\\item 84\n",
       "\\item 84\n",
       "\\item 81\n",
       "\\item 82\n",
       "\\item 86\n",
       "\\item 121\n",
       "\\item 112\n",
       "\\item 133\n",
       "\\item 132\n",
       "\\item 153\n",
       "\\item 147\n",
       "\\item 133\n",
       "\\item 153\n",
       "\\item 130\n",
       "\\item 157\n",
       "\\item 160\n",
       "\\item 143\n",
       "\\item 103\n",
       "\\item 84\n",
       "\\item 83\n",
       "\\item 98\n",
       "\\item 108\n",
       "\\item 102\n",
       "\\item 99\n",
       "\\item 81\n",
       "\\item 124\n",
       "\\item 116\n",
       "\\item 127\n",
       "\\item 131\n",
       "\\item 36\n",
       "\\item 32\n",
       "\\item 43\n",
       "\\item 48\n",
       "\\item 40\n",
       "\\item 49\n",
       "\\item 51\n",
       "\\item 54\n",
       "\\item 45\n",
       "\\item 47\n",
       "\\item 37\n",
       "\\item 48\n",
       "\\item 90\n",
       "\\item 45\n",
       "\\item 83\n",
       "\\item 96\n",
       "\\item 93\n",
       "\\item 75\n",
       "\\item 79\n",
       "\\item 92\n",
       "\\item 98\n",
       "\\item 94\n",
       "\\item 100\n",
       "\\item 94\n",
       "\\item 74\n",
       "\\item 53\n",
       "\\item 70\n",
       "\\item 76\n",
       "\\item 92\n",
       "\\item 74\n",
       "\\item 67\n",
       "\\item 93\n",
       "\\item 69\n",
       "\\item 70\n",
       "\\item 87\n",
       "\\item 91\n",
       "\\item 80\n",
       "\\item 77\n",
       "\\item 93\n",
       "\\item 111\n",
       "\\item 117\n",
       "\\item 104\n",
       "\\item 103\n",
       "\\item 120\n",
       "\\item 115\n",
       "\\item 122\n",
       "\\item 104\n",
       "\\item 104\n",
       "\\item 112\n",
       "\\item 106\n",
       "\\item 112\n",
       "\\item 139\n",
       "\\item 134\n",
       "\\item 133\n",
       "\\item 121\n",
       "\\item 128\n",
       "\\item 153\n",
       "\\item 135\n",
       "\\item 126\n",
       "\\item 119\n",
       "\\item 93\n",
       "\\item 75\n",
       "\\item 101\n",
       "\\item 99\n",
       "\\item 122\n",
       "\\item 119\n",
       "\\item 136\n",
       "\\item 111\n",
       "\\item 114\n",
       "\\item 123\n",
       "\\item 131\n",
       "\\item 135\n",
       "\\item 134\n",
       "\\item 150\n",
       "\\item 146\n",
       "\\item 143\n",
       "\\item 155\n",
       "\\item 139\n",
       "\\item 149\n",
       "\\item 172\n",
       "\\item 178\n",
       "\\item 173\n",
       "\\item 182\n",
       "\\item 179\n",
       "\\item 107\n",
       "\\item 96\n",
       "\\item 96\n",
       "\\item 95\n",
       "\\item 102\n",
       "\\item 108\n",
       "\\item 101\n",
       "\\item 105\n",
       "\\item 121\n",
       "\\item 105\n",
       "\\item 100\n",
       "\\item 106\n",
       "\\item 71\n",
       "\\item 75\n",
       "\\item 86\n",
       "\\item 83\n",
       "\\item 93\n",
       "\\item 100\n",
       "\\item 73\n",
       "\\item 100\n",
       "\\item 84\n",
       "\\item 73\n",
       "\\item 76\n",
       "\\item 66\n",
       "\\item 293\n",
       "\\item 283\n",
       "\\item 330\n",
       "\\item 347\n",
       "\\item 315\n",
       "\\item 313\n",
       "\\item 344\n",
       "\\item 324\n",
       "\\item 315\n",
       "\\item 341\n",
       "\\item 358\n",
       "\\item 363\n",
       "\\item 94\n",
       "\\item 83\n",
       "\\item 73\n",
       "\\item 91\n",
       "\\item 111\n",
       "\\item 105\n",
       "\\item 114\n",
       "\\item 100\n",
       "\\item ⋯\n",
       "\\item 2\n",
       "\\item 3\n",
       "\\item 2\n",
       "\\item 6\n",
       "\\item 1\n",
       "\\item 4\n",
       "\\item 1\n",
       "\\item 1\n",
       "\\item 37\n",
       "\\item 36\n",
       "\\item 47\n",
       "\\item 46\n",
       "\\item 36\n",
       "\\item 37\n",
       "\\item 36\n",
       "\\item 43\n",
       "\\item 44\n",
       "\\item 42\n",
       "\\item 43\n",
       "\\item 38\n",
       "\\item 103\n",
       "\\item 120\n",
       "\\item 146\n",
       "\\item 140\n",
       "\\item 172\n",
       "\\item 132\n",
       "\\item 154\n",
       "\\item 152\n",
       "\\item 164\n",
       "\\item 140\n",
       "\\item 147\n",
       "\\item 176\n",
       "\\item 150\n",
       "\\item 136\n",
       "\\item 161\n",
       "\\item 191\n",
       "\\item 189\n",
       "\\item 167\n",
       "\\item 182\n",
       "\\item 182\n",
       "\\item 192\n",
       "\\item 178\n",
       "\\item 198\n",
       "\\item 179\n",
       "\\item 145\n",
       "\\item 127\n",
       "\\item 177\n",
       "\\item 164\n",
       "\\item 154\n",
       "\\item 164\n",
       "\\item 165\n",
       "\\item 140\n",
       "\\item 178\n",
       "\\item 168\n",
       "\\item 171\n",
       "\\item 149\n",
       "\\item 41\n",
       "\\item 41\n",
       "\\item 68\n",
       "\\item 66\n",
       "\\item 72\n",
       "\\item 58\n",
       "\\item 58\n",
       "\\item 64\n",
       "\\item 70\n",
       "\\item 66\n",
       "\\item 65\n",
       "\\item 65\n",
       "\\item 77\n",
       "\\item 70\n",
       "\\item 104\n",
       "\\item 89\n",
       "\\item 88\n",
       "\\item 107\n",
       "\\item 96\n",
       "\\item 101\n",
       "\\item 108\n",
       "\\item 89\n",
       "\\item 119\n",
       "\\item 89\n",
       "\\item 82\n",
       "\\item 69\n",
       "\\item 78\n",
       "\\item 87\n",
       "\\item 105\n",
       "\\item 96\n",
       "\\item 90\n",
       "\\item 92\n",
       "\\item 94\n",
       "\\item 93\n",
       "\\item 123\n",
       "\\item 90\n",
       "\\item 205\n",
       "\\item 182\n",
       "\\item 188\n",
       "\\item 180\n",
       "\\item 225\n",
       "\\item 204\n",
       "\\item 207\n",
       "\\item 197\n",
       "\\item 220\n",
       "\\item 195\n",
       "\\item 234\n",
       "\\item 195\n",
       "\\item 106\n",
       "\\item 129\n",
       "\\item 137\n",
       "\\item 144\n",
       "\\item 161\n",
       "\\item 148\n",
       "\\item 147\n",
       "\\item 138\n",
       "\\item 155\n",
       "\\item 160\n",
       "\\item 185\n",
       "\\item 161\n",
       "\\item 75\n",
       "\\item 50\n",
       "\\item 92\n",
       "\\item 88\n",
       "\\item 90\n",
       "\\item 77\n",
       "\\item 77\n",
       "\\item 83\n",
       "\\item 101\n",
       "\\item 71\n",
       "\\item 82\n",
       "\\item 73\n",
       "\\item 58\n",
       "\\item 42\n",
       "\\item 47\n",
       "\\item 58\n",
       "\\item 55\n",
       "\\item 54\n",
       "\\item 62\n",
       "\\item 52\n",
       "\\item 57\n",
       "\\item 41\n",
       "\\item 44\n",
       "\\item 49\n",
       "\\item 79\n",
       "\\item 59\n",
       "\\item 90\n",
       "\\item 102\n",
       "\\item 115\n",
       "\\item 111\n",
       "\\item 94\n",
       "\\item 93\n",
       "\\item 80\n",
       "\\item 111\n",
       "\\item 114\n",
       "\\item 95\n",
       "\\item 39\n",
       "\\item 30\n",
       "\\item 41\n",
       "\\item 35\n",
       "\\item 36\n",
       "\\item 31\n",
       "\\item 34\n",
       "\\item 27\n",
       "\\item 42\n",
       "\\item 48\n",
       "\\item 35\n",
       "\\item 38\n",
       "\\item 48\n",
       "\\item 51\n",
       "\\item 61\n",
       "\\item 60\n",
       "\\item 65\n",
       "\\item 62\n",
       "\\item 61\n",
       "\\item 69\n",
       "\\item 71\n",
       "\\item 59\n",
       "\\item 54\n",
       "\\item 76\n",
       "\\item 54\n",
       "\\item 57\n",
       "\\item 66\n",
       "\\item 51\n",
       "\\item 67\n",
       "\\item 51\n",
       "\\item 62\n",
       "\\item 65\n",
       "\\item 70\n",
       "\\item 70\n",
       "\\item 56\n",
       "\\item 60\n",
       "\\item 79\n",
       "\\item 78\n",
       "\\item 101\n",
       "\\item 97\n",
       "\\item 107\n",
       "\\item 119\n",
       "\\item 89\n",
       "\\item 98\n",
       "\\item 116\n",
       "\\item 102\n",
       "\\item 88\n",
       "\\item 92\n",
       "\\end{enumerate*}\n"
      ],
      "text/markdown": [
       "1. 77\n",
       "2. 66\n",
       "3. 67\n",
       "4. 73\n",
       "5. 88\n",
       "6. 82\n",
       "7. 95\n",
       "8. 83\n",
       "9. 81\n",
       "10. 96\n",
       "11. 80\n",
       "12. 100\n",
       "13. 81\n",
       "14. 58\n",
       "15. 88\n",
       "16. 82\n",
       "17. 67\n",
       "18. 78\n",
       "19. 79\n",
       "20. 61\n",
       "21. 76\n",
       "22. 84\n",
       "23. 98\n",
       "24. 79\n",
       "25. 81\n",
       "26. 73\n",
       "27. 63\n",
       "28. 73\n",
       "29. 77\n",
       "30. 80\n",
       "31. 86\n",
       "32. 95\n",
       "33. 101\n",
       "34. 99\n",
       "35. 86\n",
       "36. 82\n",
       "37. 78\n",
       "38. 61\n",
       "39. 64\n",
       "40. 88\n",
       "41. 72\n",
       "42. 69\n",
       "43. 70\n",
       "44. 84\n",
       "45. 84\n",
       "46. 81\n",
       "47. 82\n",
       "48. 86\n",
       "49. 121\n",
       "50. 112\n",
       "51. 133\n",
       "52. 132\n",
       "53. 153\n",
       "54. 147\n",
       "55. 133\n",
       "56. 153\n",
       "57. 130\n",
       "58. 157\n",
       "59. 160\n",
       "60. 143\n",
       "61. 103\n",
       "62. 84\n",
       "63. 83\n",
       "64. 98\n",
       "65. 108\n",
       "66. 102\n",
       "67. 99\n",
       "68. 81\n",
       "69. 124\n",
       "70. 116\n",
       "71. 127\n",
       "72. 131\n",
       "73. 36\n",
       "74. 32\n",
       "75. 43\n",
       "76. 48\n",
       "77. 40\n",
       "78. 49\n",
       "79. 51\n",
       "80. 54\n",
       "81. 45\n",
       "82. 47\n",
       "83. 37\n",
       "84. 48\n",
       "85. 90\n",
       "86. 45\n",
       "87. 83\n",
       "88. 96\n",
       "89. 93\n",
       "90. 75\n",
       "91. 79\n",
       "92. 92\n",
       "93. 98\n",
       "94. 94\n",
       "95. 100\n",
       "96. 94\n",
       "97. 74\n",
       "98. 53\n",
       "99. 70\n",
       "100. 76\n",
       "101. 92\n",
       "102. 74\n",
       "103. 67\n",
       "104. 93\n",
       "105. 69\n",
       "106. 70\n",
       "107. 87\n",
       "108. 91\n",
       "109. 80\n",
       "110. 77\n",
       "111. 93\n",
       "112. 111\n",
       "113. 117\n",
       "114. 104\n",
       "115. 103\n",
       "116. 120\n",
       "117. 115\n",
       "118. 122\n",
       "119. 104\n",
       "120. 104\n",
       "121. 112\n",
       "122. 106\n",
       "123. 112\n",
       "124. 139\n",
       "125. 134\n",
       "126. 133\n",
       "127. 121\n",
       "128. 128\n",
       "129. 153\n",
       "130. 135\n",
       "131. 126\n",
       "132. 119\n",
       "133. 93\n",
       "134. 75\n",
       "135. 101\n",
       "136. 99\n",
       "137. 122\n",
       "138. 119\n",
       "139. 136\n",
       "140. 111\n",
       "141. 114\n",
       "142. 123\n",
       "143. 131\n",
       "144. 135\n",
       "145. 134\n",
       "146. 150\n",
       "147. 146\n",
       "148. 143\n",
       "149. 155\n",
       "150. 139\n",
       "151. 149\n",
       "152. 172\n",
       "153. 178\n",
       "154. 173\n",
       "155. 182\n",
       "156. 179\n",
       "157. 107\n",
       "158. 96\n",
       "159. 96\n",
       "160. 95\n",
       "161. 102\n",
       "162. 108\n",
       "163. 101\n",
       "164. 105\n",
       "165. 121\n",
       "166. 105\n",
       "167. 100\n",
       "168. 106\n",
       "169. 71\n",
       "170. 75\n",
       "171. 86\n",
       "172. 83\n",
       "173. 93\n",
       "174. 100\n",
       "175. 73\n",
       "176. 100\n",
       "177. 84\n",
       "178. 73\n",
       "179. 76\n",
       "180. 66\n",
       "181. 293\n",
       "182. 283\n",
       "183. 330\n",
       "184. 347\n",
       "185. 315\n",
       "186. 313\n",
       "187. 344\n",
       "188. 324\n",
       "189. 315\n",
       "190. 341\n",
       "191. 358\n",
       "192. 363\n",
       "193. 94\n",
       "194. 83\n",
       "195. 73\n",
       "196. 91\n",
       "197. 111\n",
       "198. 105\n",
       "199. 114\n",
       "200. 100\n",
       "201. ⋯\n",
       "202. 2\n",
       "203. 3\n",
       "204. 2\n",
       "205. 6\n",
       "206. 1\n",
       "207. 4\n",
       "208. 1\n",
       "209. 1\n",
       "210. 37\n",
       "211. 36\n",
       "212. 47\n",
       "213. 46\n",
       "214. 36\n",
       "215. 37\n",
       "216. 36\n",
       "217. 43\n",
       "218. 44\n",
       "219. 42\n",
       "220. 43\n",
       "221. 38\n",
       "222. 103\n",
       "223. 120\n",
       "224. 146\n",
       "225. 140\n",
       "226. 172\n",
       "227. 132\n",
       "228. 154\n",
       "229. 152\n",
       "230. 164\n",
       "231. 140\n",
       "232. 147\n",
       "233. 176\n",
       "234. 150\n",
       "235. 136\n",
       "236. 161\n",
       "237. 191\n",
       "238. 189\n",
       "239. 167\n",
       "240. 182\n",
       "241. 182\n",
       "242. 192\n",
       "243. 178\n",
       "244. 198\n",
       "245. 179\n",
       "246. 145\n",
       "247. 127\n",
       "248. 177\n",
       "249. 164\n",
       "250. 154\n",
       "251. 164\n",
       "252. 165\n",
       "253. 140\n",
       "254. 178\n",
       "255. 168\n",
       "256. 171\n",
       "257. 149\n",
       "258. 41\n",
       "259. 41\n",
       "260. 68\n",
       "261. 66\n",
       "262. 72\n",
       "263. 58\n",
       "264. 58\n",
       "265. 64\n",
       "266. 70\n",
       "267. 66\n",
       "268. 65\n",
       "269. 65\n",
       "270. 77\n",
       "271. 70\n",
       "272. 104\n",
       "273. 89\n",
       "274. 88\n",
       "275. 107\n",
       "276. 96\n",
       "277. 101\n",
       "278. 108\n",
       "279. 89\n",
       "280. 119\n",
       "281. 89\n",
       "282. 82\n",
       "283. 69\n",
       "284. 78\n",
       "285. 87\n",
       "286. 105\n",
       "287. 96\n",
       "288. 90\n",
       "289. 92\n",
       "290. 94\n",
       "291. 93\n",
       "292. 123\n",
       "293. 90\n",
       "294. 205\n",
       "295. 182\n",
       "296. 188\n",
       "297. 180\n",
       "298. 225\n",
       "299. 204\n",
       "300. 207\n",
       "301. 197\n",
       "302. 220\n",
       "303. 195\n",
       "304. 234\n",
       "305. 195\n",
       "306. 106\n",
       "307. 129\n",
       "308. 137\n",
       "309. 144\n",
       "310. 161\n",
       "311. 148\n",
       "312. 147\n",
       "313. 138\n",
       "314. 155\n",
       "315. 160\n",
       "316. 185\n",
       "317. 161\n",
       "318. 75\n",
       "319. 50\n",
       "320. 92\n",
       "321. 88\n",
       "322. 90\n",
       "323. 77\n",
       "324. 77\n",
       "325. 83\n",
       "326. 101\n",
       "327. 71\n",
       "328. 82\n",
       "329. 73\n",
       "330. 58\n",
       "331. 42\n",
       "332. 47\n",
       "333. 58\n",
       "334. 55\n",
       "335. 54\n",
       "336. 62\n",
       "337. 52\n",
       "338. 57\n",
       "339. 41\n",
       "340. 44\n",
       "341. 49\n",
       "342. 79\n",
       "343. 59\n",
       "344. 90\n",
       "345. 102\n",
       "346. 115\n",
       "347. 111\n",
       "348. 94\n",
       "349. 93\n",
       "350. 80\n",
       "351. 111\n",
       "352. 114\n",
       "353. 95\n",
       "354. 39\n",
       "355. 30\n",
       "356. 41\n",
       "357. 35\n",
       "358. 36\n",
       "359. 31\n",
       "360. 34\n",
       "361. 27\n",
       "362. 42\n",
       "363. 48\n",
       "364. 35\n",
       "365. 38\n",
       "366. 48\n",
       "367. 51\n",
       "368. 61\n",
       "369. 60\n",
       "370. 65\n",
       "371. 62\n",
       "372. 61\n",
       "373. 69\n",
       "374. 71\n",
       "375. 59\n",
       "376. 54\n",
       "377. 76\n",
       "378. 54\n",
       "379. 57\n",
       "380. 66\n",
       "381. 51\n",
       "382. 67\n",
       "383. 51\n",
       "384. 62\n",
       "385. 65\n",
       "386. 70\n",
       "387. 70\n",
       "388. 56\n",
       "389. 60\n",
       "390. 79\n",
       "391. 78\n",
       "392. 101\n",
       "393. 97\n",
       "394. 107\n",
       "395. 119\n",
       "396. 89\n",
       "397. 98\n",
       "398. 116\n",
       "399. 102\n",
       "400. 88\n",
       "401. 92\n",
       "\n",
       "\n"
      ],
      "text/plain": [
       "   [1]  77  66  67  73  88  82  95  83  81  96  80 100  81  58  88  82  67  78\n",
       "  [19]  79  61  76  84  98  79  81  73  63  73  77  80  86  95 101  99  86  82\n",
       "  [37]  78  61  64  88  72  69  70  84  84  81  82  86 121 112 133 132 153 147\n",
       "  [55] 133 153 130 157 160 143 103  84  83  98 108 102  99  81 124 116 127 131\n",
       "  [73]  36  32  43  48  40  49  51  54  45  47  37  48  90  45  83  96  93  75\n",
       "  [91]  79  92  98  94 100  94  74  53  70  76  92  74  67  93  69  70  87  91\n",
       " [109]  80  77  93 111 117 104 103 120 115 122 104 104 112 106 112 139 134 133\n",
       " [127] 121 128 153 135 126 119  93  75 101  99 122 119 136 111 114 123 131 135\n",
       " [145] 134 150 146 143 155 139 149 172 178 173 182 179 107  96  96  95 102 108\n",
       " [163] 101 105 121 105 100 106  71  75  86  83  93 100  73 100  84  73  76  66\n",
       " [181] 293 283 330 347 315 313 344 324 315 341 358 363  94  83  73  91 111 105\n",
       " [199] 114 100 109  92 113 100 201 162 201 214 221 210 215 250 221 235 235 249\n",
       " [217] 135 161 195 157 185 177 183 191 208 197 194 185  77  91 100 102  99 109\n",
       " [235] 113 101 120  94 110 105  88  99  98  90 121 111  89 109 123 122 105 113\n",
       " [253]  95  75 104 105 122 120 104 110 125 148 117 141  49  44  63  43  65  63\n",
       " [271]  69  66  54  61  67  73  82  53  75  83  87  82  68  91  95  89  81  86\n",
       " [289]  74  65  65  81  65  71  61  75  82  81  76  80  18  25  25  24  37  25\n",
       " [307]  23  26  32  31  25  29  38  25  29  41  38  30  46  34  46  34  41  38\n",
       " [325]  44  38  44  41  42  46  33  35  39  35  50  40  20  23  23  17  28  18\n",
       " [343]  20  18  18  25  18  20 111 118 114 108 128 113 121 115 112 110 107 135\n",
       " [361]  72  60  77 100  76  87  81  78  82  87  82  93  56  50  75  74  57  63\n",
       " [379]  77  68  64  64  73  84  29  38  42  49  41  47  47  45  53  61  50  60\n",
       " [397]  59  57  61  68  93  61  78  70  64  70  59  55  59  65  66  72  76  62\n",
       " [415]  73  61  72  78  71  75  63  49  61  64  58  55  59  61  57  71  60  60\n",
       " [433]  67  60  61  61  64  76  82  60  76  41  75  64  45  52  68  54  57  60\n",
       " [451]  56  53  52  55  66  51  51  51  63  55  61  67  63  74  50  83  77  69\n",
       " [469]  46  52  54  65  69  61  46  50  53  50  54  49  36  35  53  46  52  54\n",
       " [487]  41  47  50  46  53  49 384 369 405 392 405 392 357 423 393 422 402 400\n",
       " [505] 335 260 301 271 328 289 332 324 333 316 366 383 129  99 136 135 127 132\n",
       " [523] 122 150 124 139 118 118  99  91 129  94 123  78  93 114 111 107 124 100\n",
       " [541] 259 227 291 273 313 276 289 305 334 261 321 329 283 212 294 331 350 328\n",
       " [559] 331 319 324 313 342 306 271 234 300 301 296 283 267 272 307 310 328 310\n",
       " [577]  71  71  80  97  85  92  82 113  92  87 103  74  48  61  65  60  53  53\n",
       " [595]  52  68  52  66  63  61  74  72 106  98 115 127  78 115 102 114 123 103\n",
       " [613]  34  29  35  47  52  46  49  44  63  38  40  43 247 231 252 273 293 300\n",
       " [631] 282 263 302 268 312 329 188 179 162 179 184 192 168 206 205 163 176 175\n",
       " [649] 122 128 139 154 157 155 139 142 149 127 160 158 311 232 259 281 341 285\n",
       " [667] 304 326 314 292 305 353 185 140 173 154 179 192 164 201 192 158 197 194\n",
       " [685]  10   9  19  12  21  12  11  13  23  18  16  12  55  50  41  42  58  50\n",
       " [703]  54  72  59  58  66  47  24  23  26  40  32  30  29  40  36  30  24  23\n",
       " [721]  23  25  49  43  51  46  45  42  48  52  38  42  65  50  78  78  86  78\n",
       " [739]  74  94  93  88 107  96 228 268 308 277 336 275 287 296 363 315 346 312\n",
       " [757]  46  63  85  80  96  86  95  87 121 102 107 100 158 106 134 164 149 139\n",
       " [775] 149 156 160 164 155 162  36  24  21  24  29  15  27  33  25  20  29  31\n",
       " [793]  13  11  10  15  11  12   8  15  21   9  13  13  41  33  44  37  51  40\n",
       " [811]  47  44  40  33  37  41 154 123 134 160 158 158 166 171 166 209 166 177\n",
       " [829]  82  62  73  96  70  89  81  77 107  89  99  73  21  25  29  23  28  26\n",
       " [847]  31  40  29  41  29  42  88  76  88  86 110 101  92 100 118 126 114 106\n",
       " [865]  85  86 108  98 102  99  98 108 119 114 119 115 134 101 103 105 136 127\n",
       " [883] 113 135 129 121 117 102  20  27  25  19  25  32  31  29  28  27  26  26\n",
       " [901]  52  45  55  47  92  79  50  85  67  72  65  49  23  28  20  26  36  22\n",
       " [919]  36  44  19  43  28  37  12   8  13  11  17  25  16  17  23  24  17  17\n",
       " [937]  10   6  15  22  24  21  12  21  20  13  14  22  13  11  13  14  24  16\n",
       " [955]  22  27  21  28  13  23   8  17   7  12  16  10  21  16  21   7  22  20\n",
       " [973]  11  10  18  11  18  14  12  10  14  11   9  13  13   7   8  19  15  10\n",
       " [991]  23  23  18  18   8  14   6  14   8  12  15  19  19  27  14  13   6  12\n",
       "[1009]   7   4   8   8   9  11  12   6  20  12  13   7   7   6   3   9   8   8\n",
       "[1027]  12   7   8   7   5   6   3   3   5   5  11   9  10   8  10  10   9  10\n",
       "[1045]   6   4   5   7   9  10  11  10  17  10   8  10   7   8  12   9   8  12\n",
       "[1063]  10   7  14   7   5  12   6  10   4  19   9  19  12  27  16  22   5  13\n",
       "[1081] 286 271 336 354 414 377 372 358 415 374 400 380  78  60  79  89 105  89\n",
       "[1099]  90  74  95  91  90  86  37  34  45  69  81  63  58  68  68  76  65  73\n",
       "[1117]   7   9  13  15   7  15   8   5  14  20  12   8   6   9  13  19  16  14\n",
       "[1135]   5  15   8  17  15  10   3  10   7  18  22  14  10   9  13  14  11   3\n",
       "[1153]  29  32  37  31  37  40  47  47  44  38  51  43  10  12  10  10  18  15\n",
       "[1171]  12  21  20  16  11   9  43  26  25  31  44  47  47  42  46  48  41  39\n",
       "[1189]  11   5   7   5   7   4   5  14  12  11  14   5   7   9  15  14  12  21\n",
       "[1207]  25  23  18  27  15  20 225 226 275 258 246 303 315 316 334 272 349 284\n",
       "[1225]  83  96  95 114 113 102  98  92 120 110 132 134  21  20  21  24  32  15\n",
       "[1243]  27  20  24  25  28  22  33  36  33  41  40  44  31  42  48  37  31  23\n",
       "[1261]  42  39  63  49  60  53  54  73  59  84  68  39  13   8  18  12   8  16\n",
       "[1279]  15  11  13   8   7  10  12  11  15  21  19  21  12  20  25  33  17  12\n",
       "[1297]  23  24  23  30  34  21  18  24  35  26  23  17  13   9  16  25  26  20\n",
       "[1315]  29  23  22  18  20  16  13   8  15  23  21  12  21  23  20  28  24  18\n",
       "[1333]   5   9  16  15  17  11  14  15  22  17  16   8   9  18  11  18  29  22\n",
       "[1351]  20  28  18  20  19  24  25  23  29  32  26  34  24  31  37  46  41  26\n",
       "[1369]  44  33  33  52  44  43  46  45  58  43  55  65   3   4   4   1   2   5\n",
       "[1387]   9   8  10   7   2   4 143 133 186 171 171 154 188 172 167 163 184 149\n",
       "[1405]  87  77  92 124 109 102  92 104  92 103 103  98  26  20  30  28  35  27\n",
       "[1423]  30  27  38  23  39  27  22  18  16  20  34  21  16  24  28  25  18  19\n",
       "[1441]  15  10  19  19  22  28  21  32  16  31  33  15  18  12  22  16  23  21\n",
       "[1459]  26  13  26  25  35  20   4   2   8   8   8  11  10  14   7   5  10  10\n",
       "[1477]   8   5   1   5   3  12   9   7  15   6   4   4   1   3   7   4   2   7\n",
       "[1495]   3   7   4   3   2   5   4   3   8   6   4   6   6   3  10  11   6   8\n",
       "[1513]   7  10   4  11   8   9   9   6   9   9   9   4   3  10  14   5  18  18\n",
       "[1531]  12  23  11  13  16   6   5   8  10  17  18  16  15  17  14  20  16  12\n",
       "[1549]  46  47  76  74  65  59  76  81  53  90  81  78  91  66 102 102 114 113\n",
       "[1567]  97  97 127 108 100  90  84  82  91 117 120 120 111 118 120 101 130 111\n",
       "[1585]  76  91  90 111  93  93  89  82  96 115  98  99  31  28  40  44  40  40\n",
       "[1603]  45  50  51  66  54  41  47  62  72  36  56  56  50  56  52  44  44  57\n",
       "[1621]  11  20  34  27  23  31  26  28  20  19  25  15   3   5  13   7  14  15\n",
       "[1639]   6  15  10  14  12  11   9  12  13   5   8   8  12   6   8   8  12   1\n",
       "[1657]  12  14  23  17  18  16  16  15  20  10  17  20   7  12  12  12  15  17\n",
       "[1675]  11  14  22  31  11  19  16  20  22  19  29  16  26  26  22  25  29  18\n",
       "[1693]  22  16  14  27  28  18  26  19  17  13  26  22  28  20  23  27  26  19\n",
       "[1711]  24  32  23  15  23  29  20  13  27  18  38  25  11  26  15  29  25  16\n",
       "[1729]  29  27  29  31  37  36  40  29  41  37  36  46  10  13  21  19  20  15\n",
       "[1747]  15  21  17  25  29  33  10   9   8  13  17  13  20  16  18  22  25   9\n",
       "[1765]   8   7   7  12  11  14   2  12  21  12  12  16  12  13  14  19  19  11\n",
       "[1783]  15  11  15  20  22  20  10   9  14  14  12  15   5  15  11  18  13  10\n",
       "[1801]   6   9  10   9  10   7  12  14  10   8   9  10   9   7   4  12  12   6\n",
       "[1819]   8   6  15  11  10   4 173 138 225 232 232 242 228 217 230 214 206 217\n",
       "[1837]  94  74 104  97 106  91 108 107  99  94 101 101  23  27  38  42  38  32\n",
       "[1855]  29  31  25  31  32  28  44  49  50  61  55  68  56  59  69  79  73  59\n",
       "[1873] 117 102 140 127 140 125 127 123 134  98 108 112  14  22  23  26  31  20\n",
       "[1891]  29  17  30  33  24  21  34  29  39  35  39  40  44  53  46  24  47  31\n",
       "[1909]  35  11  30  20  21  25  26  26  31  28  21  22  25  29  32  24  44  34\n",
       "[1927]  44  35  41  43  47  34   4   4   3   5  21  12  16  13  14  15  38  12\n",
       "[1945]  15  18  23  26  15  13   7   5  12   9  10  11   7   9   9  11  15   8\n",
       "[1963]   2   3   1   4   8   6   4  11   8   5   4   6  18  19  19  16  16  19\n",
       "[1981]  13  30  21  19  21  26   7  11  17  20  14  14  17  16  22  22  21   8\n",
       "[1999]   3  11   9  11  10   8  14   7   9   7  17   8  14  17  19  20  29  17\n",
       "[2017]  10  22  18  17  27  14  57  34  51  44  29  49  44  53  53  46  45  42\n",
       "[2035]   7   8  12  16   7  19  12  11  11  19   7   8   5   6  12   7  12  10\n",
       "[2053]   9   8  13  14  15  10  10  15   9  13  17  20  13  19  14  20  16   9\n",
       "[2071]   1   3   2   6   3   1   1   1  79  50  59  65  81  57  69  58  76  83\n",
       "[2089]  68  68  36  33  52  53  73  61  58  56  59  72  57  52  61  41  44  60\n",
       "[2107]  48  50  61  65  62  51  60  51 123 142 184 186 171 166 184 171 159 163\n",
       "[2125] 143 176  40  33  45  30  48  36  37  39  41  36  34  36  44  48  48  50\n",
       "[2143]  52  74  59  68  69  54  66  77   8  12   9   4   8  10   6   9   6  16\n",
       "[2161]   7   7  15  14  22  11  30  22  29  25  22  29  25  27   7  16  17  20\n",
       "[2179]  18  26  17  17  22  21  23  23  83 107 103 121 113 112 116 110 119  97\n",
       "[2197] 112 111  16  19  10  18  13  18  11  16  12  23  15  21  44  41  35  49\n",
       "[2215]  42  44  44  56  50  67  45  34   8  13   8  15  19  17  10  11  19   8\n",
       "[2233]  13   7   4   6  13   6  14   7   9   8  15  18   9   9  10  10  14  18\n",
       "[2251]  12  19  18  20  22  14  24  19  15  10   8  20  19  16  16  19  25  12\n",
       "[2269]  17  13  11  15  15  14  25  15  23  27  19  26   9  23  12  13  12  10\n",
       "[2287]  12  15  16  11  17  21  16  14 199 214 264 267 243 220 243 224 288 239\n",
       "[2305] 279 300 178 188 208 217 229 230 217 287 238 267 251 230 107  77 106  90\n",
       "[2323]  89 101  98 112 110 110 114  96  54  54  68  62  70  67  61  68  62  77\n",
       "[2341]  64  64 124 114 112 130 134 155 144 126 122 146 147 133  65  86  92  91\n",
       "[2359]  78 100  90  73  83  91  76  89  50  43  42  51  50  32  36  36  41  42\n",
       "[2377]  40  30 142 138 153 146 170 146 167 171 161 165 143 163 155 113 171 160\n",
       "[2395] 174 169 172 169 156 158 157 146 168 182 190 216 202 212 210 182 187 186\n",
       "[2413] 197 191  63  55  68  74  83  77  71  68  75  79  81  67   8  11  11  14\n",
       "[2431]  13   9  32  34  54  43  67  58  55  59  47  51  50  63  13   7  14   9\n",
       "[2449]  18   9   7   6   7   8  10  10 116  77 105 109 110 109 112 115 110 113\n",
       "[2467] 127 134  93  78 110 115  95 113  88  85 105  84 103 132 127  97 165 133\n",
       "[2485] 130 139 132 118 143 115 121 160 116  91 109  96 122 111 130 113 117 109\n",
       "[2503] 105 119  52  48  69  50  67  56  57  57  62  50  54  46  45  41  44  40\n",
       "[2521]  47  55  56  51  69  58  52  51   9  10  17   7  16  10  11  17  14  19\n",
       "[2539]  16  12   1   1   3   1   2   3   2   6   1   4   1   1  37  36  47  46\n",
       "[2557]  36  37  36  43  44  42  43  38 103 120 146 140 172 132 154 152 164 140\n",
       "[2575] 147 176 150 136 161 191 189 167 182 182 192 178 198 179 145 127 177 164\n",
       "[2593] 154 164 165 140 178 168 171 149  41  41  68  66  72  58  58  64  70  66\n",
       "[2611]  65  65  77  70 104  89  88 107  96 101 108  89 119  89  82  69  78  87\n",
       "[2629] 105  96  90  92  94  93 123  90 205 182 188 180 225 204 207 197 220 195\n",
       "[2647] 234 195 106 129 137 144 161 148 147 138 155 160 185 161  75  50  92  88\n",
       "[2665]  90  77  77  83 101  71  82  73  58  42  47  58  55  54  62  52  57  41\n",
       "[2683]  44  49  79  59  90 102 115 111  94  93  80 111 114  95  39  30  41  35\n",
       "[2701]  36  31  34  27  42  48  35  38  48  51  61  60  65  62  61  69  71  59\n",
       "[2719]  54  76  54  57  66  51  67  51  62  65  70  70  56  60  79  78 101  97\n",
       "[2737] 107 119  89  98 116 102  88  92"
      ]
     },
     "metadata": {},
     "output_type": "display_data"
    }
   ],
   "source": [
    "data$`사고건수`"
   ]
  },
  {
   "cell_type": "code",
   "execution_count": 40,
   "metadata": {
    "vscode": {
     "languageId": "r"
    }
   },
   "outputs": [
    {
     "data": {
      "text/html": [
       "<style>\n",
       ".list-inline {list-style: none; margin:0; padding: 0}\n",
       ".list-inline>li {display: inline-block}\n",
       ".list-inline>li:not(:last-child)::after {content: \"\\00b7\"; padding: 0 .5ex}\n",
       "</style>\n",
       "<ol class=list-inline><li>495</li><li>497</li><li>500</li><li>502</li><li>503</li><li>504</li><li>1085</li><li>1089</li><li>1091</li></ol>\n"
      ],
      "text/latex": [
       "\\begin{enumerate*}\n",
       "\\item 495\n",
       "\\item 497\n",
       "\\item 500\n",
       "\\item 502\n",
       "\\item 503\n",
       "\\item 504\n",
       "\\item 1085\n",
       "\\item 1089\n",
       "\\item 1091\n",
       "\\end{enumerate*}\n"
      ],
      "text/markdown": [
       "1. 495\n",
       "2. 497\n",
       "3. 500\n",
       "4. 502\n",
       "5. 503\n",
       "6. 504\n",
       "7. 1085\n",
       "8. 1089\n",
       "9. 1091\n",
       "\n",
       "\n"
      ],
      "text/plain": [
       "[1]  495  497  500  502  503  504 1085 1089 1091"
      ]
     },
     "metadata": {},
     "output_type": "display_data"
    }
   ],
   "source": [
    "which(data$`사고건수` >= 400)"
   ]
  },
  {
   "cell_type": "code",
   "execution_count": 41,
   "metadata": {
    "vscode": {
     "languageId": "r"
    }
   },
   "outputs": [
    {
     "data": {
      "text/html": [
       "<table class=\"dataframe\">\n",
       "<caption>A data.frame: 9 × 8</caption>\n",
       "<thead>\n",
       "\t<tr><th></th><th scope=col>시도</th><th scope=col>시군구</th><th scope=col>발생월</th><th scope=col>사고건수</th><th scope=col>사망자수</th><th scope=col>중상자수</th><th scope=col>경상자수</th><th scope=col>부상신고자수</th></tr>\n",
       "\t<tr><th></th><th scope=col>&lt;chr&gt;</th><th scope=col>&lt;chr&gt;</th><th scope=col>&lt;int&gt;</th><th scope=col>&lt;int&gt;</th><th scope=col>&lt;int&gt;</th><th scope=col>&lt;int&gt;</th><th scope=col>&lt;int&gt;</th><th scope=col>&lt;int&gt;</th></tr>\n",
       "</thead>\n",
       "<tbody>\n",
       "\t<tr><th scope=row>500</th><td>경기</td><td>수원시</td><td> 8</td><td>423</td><td>3</td><td>113</td><td>461</td><td>35</td></tr>\n",
       "\t<tr><th scope=row>502</th><td>경기</td><td>수원시</td><td>10</td><td>422</td><td>1</td><td> 97</td><td>458</td><td>37</td></tr>\n",
       "\t<tr><th scope=row>1089</th><td>충북</td><td>청주시</td><td> 9</td><td>415</td><td>7</td><td>112</td><td>515</td><td>16</td></tr>\n",
       "\t<tr><th scope=row>1085</th><td>충북</td><td>청주시</td><td> 5</td><td>414</td><td>1</td><td>135</td><td>484</td><td>12</td></tr>\n",
       "\t<tr><th scope=row>495</th><td>경기</td><td>수원시</td><td> 3</td><td>405</td><td>1</td><td> 80</td><td>445</td><td>32</td></tr>\n",
       "\t<tr><th scope=row>497</th><td>경기</td><td>수원시</td><td> 5</td><td>405</td><td>3</td><td> 99</td><td>458</td><td>27</td></tr>\n",
       "\t<tr><th scope=row>503</th><td>경기</td><td>수원시</td><td>11</td><td>402</td><td>3</td><td> 82</td><td>418</td><td>39</td></tr>\n",
       "\t<tr><th scope=row>504</th><td>경기</td><td>수원시</td><td>12</td><td>400</td><td>6</td><td> 96</td><td>430</td><td>38</td></tr>\n",
       "\t<tr><th scope=row>1091</th><td>충북</td><td>청주시</td><td>11</td><td>400</td><td>4</td><td>115</td><td>435</td><td>21</td></tr>\n",
       "</tbody>\n",
       "</table>\n"
      ],
      "text/latex": [
       "A data.frame: 9 × 8\n",
       "\\begin{tabular}{r|llllllll}\n",
       "  & 시도 & 시군구 & 발생월 & 사고건수 & 사망자수 & 중상자수 & 경상자수 & 부상신고자수\\\\\n",
       "  & <chr> & <chr> & <int> & <int> & <int> & <int> & <int> & <int>\\\\\n",
       "\\hline\n",
       "\t500 & 경기 & 수원시 &  8 & 423 & 3 & 113 & 461 & 35\\\\\n",
       "\t502 & 경기 & 수원시 & 10 & 422 & 1 &  97 & 458 & 37\\\\\n",
       "\t1089 & 충북 & 청주시 &  9 & 415 & 7 & 112 & 515 & 16\\\\\n",
       "\t1085 & 충북 & 청주시 &  5 & 414 & 1 & 135 & 484 & 12\\\\\n",
       "\t495 & 경기 & 수원시 &  3 & 405 & 1 &  80 & 445 & 32\\\\\n",
       "\t497 & 경기 & 수원시 &  5 & 405 & 3 &  99 & 458 & 27\\\\\n",
       "\t503 & 경기 & 수원시 & 11 & 402 & 3 &  82 & 418 & 39\\\\\n",
       "\t504 & 경기 & 수원시 & 12 & 400 & 6 &  96 & 430 & 38\\\\\n",
       "\t1091 & 충북 & 청주시 & 11 & 400 & 4 & 115 & 435 & 21\\\\\n",
       "\\end{tabular}\n"
      ],
      "text/markdown": [
       "\n",
       "A data.frame: 9 × 8\n",
       "\n",
       "| <!--/--> | 시도 &lt;chr&gt; | 시군구 &lt;chr&gt; | 발생월 &lt;int&gt; | 사고건수 &lt;int&gt; | 사망자수 &lt;int&gt; | 중상자수 &lt;int&gt; | 경상자수 &lt;int&gt; | 부상신고자수 &lt;int&gt; |\n",
       "|---|---|---|---|---|---|---|---|---|\n",
       "| 500 | 경기 | 수원시 |  8 | 423 | 3 | 113 | 461 | 35 |\n",
       "| 502 | 경기 | 수원시 | 10 | 422 | 1 |  97 | 458 | 37 |\n",
       "| 1089 | 충북 | 청주시 |  9 | 415 | 7 | 112 | 515 | 16 |\n",
       "| 1085 | 충북 | 청주시 |  5 | 414 | 1 | 135 | 484 | 12 |\n",
       "| 495 | 경기 | 수원시 |  3 | 405 | 1 |  80 | 445 | 32 |\n",
       "| 497 | 경기 | 수원시 |  5 | 405 | 3 |  99 | 458 | 27 |\n",
       "| 503 | 경기 | 수원시 | 11 | 402 | 3 |  82 | 418 | 39 |\n",
       "| 504 | 경기 | 수원시 | 12 | 400 | 6 |  96 | 430 | 38 |\n",
       "| 1091 | 충북 | 청주시 | 11 | 400 | 4 | 115 | 435 | 21 |\n",
       "\n"
      ],
      "text/plain": [
       "     시도 시군구 발생월 사고건수 사망자수 중상자수 경상자수 부상신고자수\n",
       "500  경기 수원시  8     423      3        113      461      35          \n",
       "502  경기 수원시 10     422      1         97      458      37          \n",
       "1089 충북 청주시  9     415      7        112      515      16          \n",
       "1085 충북 청주시  5     414      1        135      484      12          \n",
       "495  경기 수원시  3     405      1         80      445      32          \n",
       "497  경기 수원시  5     405      3         99      458      27          \n",
       "503  경기 수원시 11     402      3         82      418      39          \n",
       "504  경기 수원시 12     400      6         96      430      38          \n",
       "1091 충북 청주시 11     400      4        115      435      21          "
      ]
     },
     "metadata": {},
     "output_type": "display_data"
    }
   ],
   "source": [
    "idx <- which(data$`사고건수` >= 400)\n",
    "df <- data[idx, ]\n",
    "df[order(-df$사고건수), ]"
   ]
  },
  {
   "cell_type": "code",
   "execution_count": 42,
   "metadata": {
    "vscode": {
     "languageId": "r"
    }
   },
   "outputs": [
    {
     "data": {
      "text/html": [
       "<style>\n",
       ".list-inline {list-style: none; margin:0; padding: 0}\n",
       ".list-inline>li {display: inline-block}\n",
       ".list-inline>li:not(:last-child)::after {content: \"\\00b7\"; padding: 0 .5ex}\n",
       "</style>\n",
       "<ol class=list-inline><li>0</li><li>100</li><li>200</li><li>300</li><li>400</li><li>500</li></ol>\n"
      ],
      "text/latex": [
       "\\begin{enumerate*}\n",
       "\\item 0\n",
       "\\item 100\n",
       "\\item 200\n",
       "\\item 300\n",
       "\\item 400\n",
       "\\item 500\n",
       "\\end{enumerate*}\n"
      ],
      "text/markdown": [
       "1. 0\n",
       "2. 100\n",
       "3. 200\n",
       "4. 300\n",
       "5. 400\n",
       "6. 500\n",
       "\n",
       "\n"
      ],
      "text/plain": [
       "[1]   0 100 200 300 400 500"
      ]
     },
     "metadata": {},
     "output_type": "display_data"
    }
   ],
   "source": [
    "bins <- c(0:5)*100\n",
    "bins"
   ]
  },
  {
   "cell_type": "markdown",
   "metadata": {},
   "source": [
    "## p_32 \n",
    "\n",
    "- 사고건수의 도수분포표 구하기"
   ]
  },
  {
   "cell_type": "code",
   "execution_count": 43,
   "metadata": {
    "vscode": {
     "languageId": "r"
    }
   },
   "outputs": [
    {
     "data": {
      "text/plain": [
       "result\n",
       "  (0,100] (100,200] (200,300] (300,400] (400,500]       Sum \n",
       "     2071       484       108        74         7      2744 "
      ]
     },
     "metadata": {},
     "output_type": "display_data"
    }
   ],
   "source": [
    "result <- cut(data$`사고건수`, breaks = bins)\n",
    "addmargins(table(result))"
   ]
  },
  {
   "cell_type": "code",
   "execution_count": 44,
   "metadata": {
    "vscode": {
     "languageId": "r"
    }
   },
   "outputs": [
    {
     "data": {
      "text/plain": [
       "result\n",
       "  [0,100) [100,200) [200,300) [300,400) [400,500)       Sum \n",
       "     2057       498       105        75         9      2744 "
      ]
     },
     "metadata": {},
     "output_type": "display_data"
    }
   ],
   "source": [
    "result <- cut(data$`사고건수`, breaks = bins, right = F)\n",
    "addmargins(table(result))"
   ]
  },
  {
   "cell_type": "code",
   "execution_count": 45,
   "metadata": {
    "vscode": {
     "languageId": "r"
    }
   },
   "outputs": [
    {
     "data": {
      "text/html": [
       "14"
      ],
      "text/latex": [
       "14"
      ],
      "text/markdown": [
       "14"
      ],
      "text/plain": [
       "[1] 14"
      ]
     },
     "metadata": {},
     "output_type": "display_data"
    }
   ],
   "source": [
    "length(which(data$`사고건수` == 100))"
   ]
  }
 ],
 "metadata": {
  "kernelspec": {
   "display_name": "R",
   "language": "R",
   "name": "ir"
  },
  "language_info": {
   "codemirror_mode": "r",
   "file_extension": ".r",
   "mimetype": "text/x-r-source",
   "name": "R",
   "pygments_lexer": "r",
   "version": "4.3.1"
  }
 },
 "nbformat": 4,
 "nbformat_minor": 2
}
