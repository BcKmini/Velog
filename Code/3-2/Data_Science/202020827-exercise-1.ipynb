{
 "cells": [
  {
   "cell_type": "code",
   "execution_count": 9,
   "metadata": {
    "vscode": {
     "languageId": "r"
    }
   },
   "outputs": [
    {
     "name": "stdout",
     "output_type": "stream",
     "text": [
      "[1] 1\n",
      "[1] 4\n",
      "[1] 5\n",
      "[1] 9\n",
      "[1] 10\n"
     ]
    }
   ],
   "source": [
    "# 1번\n",
    "print(44/44)\n",
    "print(4-4+4/1)\n",
    "print((4*4+4)/4)\n",
    "print(4+4+4/4)\n",
    "print(4/4*4/.4)"
   ]
  },
  {
   "cell_type": "code",
   "execution_count": 10,
   "metadata": {
    "vscode": {
     "languageId": "r"
    }
   },
   "outputs": [
    {
     "data": {
      "text/html": [
       "<style>\n",
       ".list-inline {list-style: none; margin:0; padding: 0}\n",
       ".list-inline>li {display: inline-block}\n",
       ".list-inline>li:not(:last-child)::after {content: \"\\00b7\"; padding: 0 .5ex}\n",
       "</style>\n",
       "<ol class=list-inline><li>10</li><li>11</li><li>20</li><li>27</li><li>30</li></ol>\n"
      ],
      "text/latex": [
       "\\begin{enumerate*}\n",
       "\\item 10\n",
       "\\item 11\n",
       "\\item 20\n",
       "\\item 27\n",
       "\\item 30\n",
       "\\end{enumerate*}\n"
      ],
      "text/markdown": [
       "1. 10\n",
       "2. 11\n",
       "3. 20\n",
       "4. 27\n",
       "5. 30\n",
       "\n",
       "\n"
      ],
      "text/plain": [
       "[1] 10 11 20 27 30"
      ]
     },
     "metadata": {},
     "output_type": "display_data"
    }
   ],
   "source": [
    "# 2번\n",
    "x <- c(10, 11, 20, 27, 30)\n",
    "x"
   ]
  },
  {
   "cell_type": "code",
   "execution_count": 11,
   "metadata": {
    "vscode": {
     "languageId": "r"
    }
   },
   "outputs": [
    {
     "data": {
      "text/html": [
       "19.6"
      ],
      "text/latex": [
       "19.6"
      ],
      "text/markdown": [
       "19.6"
      ],
      "text/plain": [
       "[1] 19.6"
      ]
     },
     "metadata": {},
     "output_type": "display_data"
    }
   ],
   "source": [
    "# 3번\n",
    "m <- mean(x)\n",
    "m"
   ]
  },
  {
   "cell_type": "code",
   "execution_count": 12,
   "metadata": {
    "vscode": {
     "languageId": "r"
    }
   },
   "outputs": [
    {
     "data": {
      "text/html": [
       "<style>\n",
       ".list-inline {list-style: none; margin:0; padding: 0}\n",
       ".list-inline>li {display: inline-block}\n",
       ".list-inline>li:not(:last-child)::after {content: \"\\00b7\"; padding: 0 .5ex}\n",
       "</style>\n",
       "<ol class=list-inline><li>-9.6</li><li>-8.6</li><li>0.399999999999999</li><li>7.4</li><li>10.4</li></ol>\n"
      ],
      "text/latex": [
       "\\begin{enumerate*}\n",
       "\\item -9.6\n",
       "\\item -8.6\n",
       "\\item 0.399999999999999\n",
       "\\item 7.4\n",
       "\\item 10.4\n",
       "\\end{enumerate*}\n"
      ],
      "text/markdown": [
       "1. -9.6\n",
       "2. -8.6\n",
       "3. 0.399999999999999\n",
       "4. 7.4\n",
       "5. 10.4\n",
       "\n",
       "\n"
      ],
      "text/plain": [
       "[1] -9.6 -8.6  0.4  7.4 10.4"
      ]
     },
     "metadata": {},
     "output_type": "display_data"
    }
   ],
   "source": [
    "# 4번\n",
    "xm <- x-m\n",
    "xm"
   ]
  },
  {
   "cell_type": "code",
   "execution_count": 13,
   "metadata": {
    "vscode": {
     "languageId": "r"
    }
   },
   "outputs": [
    {
     "data": {
      "text/html": [
       "<style>\n",
       ".list-inline {list-style: none; margin:0; padding: 0}\n",
       ".list-inline>li {display: inline-block}\n",
       ".list-inline>li:not(:last-child)::after {content: \"\\00b7\"; padding: 0 .5ex}\n",
       "</style>\n",
       "<ol class=list-inline><li>92.16</li><li>73.96</li><li>0.159999999999999</li><li>54.76</li><li>108.16</li></ol>\n"
      ],
      "text/latex": [
       "\\begin{enumerate*}\n",
       "\\item 92.16\n",
       "\\item 73.96\n",
       "\\item 0.159999999999999\n",
       "\\item 54.76\n",
       "\\item 108.16\n",
       "\\end{enumerate*}\n"
      ],
      "text/markdown": [
       "1. 92.16\n",
       "2. 73.96\n",
       "3. 0.159999999999999\n",
       "4. 54.76\n",
       "5. 108.16\n",
       "\n",
       "\n"
      ],
      "text/plain": [
       "[1]  92.16  73.96   0.16  54.76 108.16"
      ]
     },
     "metadata": {},
     "output_type": "display_data"
    }
   ],
   "source": [
    "# 5번\n",
    "xm2 <- xm^2\n",
    "xm2"
   ]
  },
  {
   "cell_type": "code",
   "execution_count": 14,
   "metadata": {
    "vscode": {
     "languageId": "r"
    }
   },
   "outputs": [],
   "source": [
    "# 6번\n",
    "v <- xm2 + xm2"
   ]
  },
  {
   "cell_type": "code",
   "execution_count": 15,
   "metadata": {
    "vscode": {
     "languageId": "r"
    }
   },
   "outputs": [
    {
     "data": {
      "text/html": [
       "<style>\n",
       ".list-inline {list-style: none; margin:0; padding: 0}\n",
       ".list-inline>li {display: inline-block}\n",
       ".list-inline>li:not(:last-child)::after {content: \"\\00b7\"; padding: 0 .5ex}\n",
       "</style>\n",
       "<ol class=list-inline><li>46.08</li><li>36.98</li><li>0.0799999999999994</li><li>27.38</li><li>54.08</li></ol>\n"
      ],
      "text/latex": [
       "\\begin{enumerate*}\n",
       "\\item 46.08\n",
       "\\item 36.98\n",
       "\\item 0.0799999999999994\n",
       "\\item 27.38\n",
       "\\item 54.08\n",
       "\\end{enumerate*}\n"
      ],
      "text/markdown": [
       "1. 46.08\n",
       "2. 36.98\n",
       "3. 0.0799999999999994\n",
       "4. 27.38\n",
       "5. 54.08\n",
       "\n",
       "\n"
      ],
      "text/plain": [
       "[1] 46.08 36.98  0.08 27.38 54.08"
      ]
     },
     "metadata": {},
     "output_type": "display_data"
    }
   ],
   "source": [
    "# 7번\n",
    "v/4"
   ]
  },
  {
   "cell_type": "code",
   "execution_count": 16,
   "metadata": {
    "vscode": {
     "languageId": "r"
    }
   },
   "outputs": [
    {
     "data": {
      "text/html": [
       "82.3"
      ],
      "text/latex": [
       "82.3"
      ],
      "text/markdown": [
       "82.3"
      ],
      "text/plain": [
       "[1] 82.3"
      ]
     },
     "metadata": {},
     "output_type": "display_data"
    }
   ],
   "source": [
    "# 8번\n",
    "var(x)"
   ]
  },
  {
   "cell_type": "code",
   "execution_count": 17,
   "metadata": {
    "vscode": {
     "languageId": "r"
    }
   },
   "outputs": [
    {
     "name": "stdout",
     "output_type": "stream",
     "text": [
      "     [,1] [,2] [,3] [,4]\n",
      "[1,]   17   36   25   24\n",
      "[2,]   37   38   37   29\n",
      "[3,]   33   24   16   48\n"
     ]
    }
   ],
   "source": [
    "# 9번\n",
    "m <- matrix(c(17, 36, 25, 24, 37, 38, 37, 29, 33, 24, 16, 48), \n",
    "            nrow = 3, ncol = 4, byrow = TRUE)\n",
    "print(m)\n"
   ]
  },
  {
   "cell_type": "code",
   "execution_count": 18,
   "metadata": {
    "vscode": {
     "languageId": "r"
    }
   },
   "outputs": [
    {
     "name": "stdout",
     "output_type": "stream",
     "text": [
      "     [,1] [,2] [,3] [,4]\n",
      "[1,]   17   36   25   24\n",
      "[2,]   37   22   37   29\n",
      "[3,]   33   24   16   48\n"
     ]
    }
   ],
   "source": [
    "# 10번\n",
    "m <- matrix(c(17, 36, 25, 24, 37, 22, 37, 29, 33, 24, 16, 48), \n",
    "            nrow = 3, ncol = 4, byrow = TRUE)\n",
    "print(m)\n"
   ]
  },
  {
   "cell_type": "code",
   "execution_count": 19,
   "metadata": {
    "vscode": {
     "languageId": "r"
    }
   },
   "outputs": [
    {
     "name": "stdout",
     "output_type": "stream",
     "text": [
      "     [,1] [,2] [,3] [,4]\n",
      "[1,]   17   36   25   24\n",
      "[2,]   37   38   37   29\n",
      "[3,]   33   24   16   34\n"
     ]
    }
   ],
   "source": [
    "# 11번\n",
    "m <- matrix(c(17, 36, 25, 24, 37, 38, 37, 29, 33, 24, 16, 34), \n",
    "            nrow = 3, ncol = 4, byrow = TRUE)\n",
    "print(m)\n"
   ]
  },
  {
   "cell_type": "code",
   "execution_count": 20,
   "metadata": {
    "vscode": {
     "languageId": "r"
    }
   },
   "outputs": [
    {
     "data": {
      "text/html": [
       "<style>\n",
       ".list-inline {list-style: none; margin:0; padding: 0}\n",
       ".list-inline>li {display: inline-block}\n",
       ".list-inline>li:not(:last-child)::after {content: \"\\00b7\"; padding: 0 .5ex}\n",
       "</style>\n",
       "<ol class=list-inline><li>102</li><li>141</li><li>107</li></ol>\n"
      ],
      "text/latex": [
       "\\begin{enumerate*}\n",
       "\\item 102\n",
       "\\item 141\n",
       "\\item 107\n",
       "\\end{enumerate*}\n"
      ],
      "text/markdown": [
       "1. 102\n",
       "2. 141\n",
       "3. 107\n",
       "\n",
       "\n"
      ],
      "text/plain": [
       "[1] 102 141 107"
      ]
     },
     "metadata": {},
     "output_type": "display_data"
    }
   ],
   "source": [
    "# 12번\n",
    "rsum <- apply(m, 1, sum)\n",
    "rsum"
   ]
  },
  {
   "cell_type": "code",
   "execution_count": 21,
   "metadata": {
    "vscode": {
     "languageId": "r"
    }
   },
   "outputs": [
    {
     "data": {
      "text/html": [
       "<style>\n",
       ".list-inline {list-style: none; margin:0; padding: 0}\n",
       ".list-inline>li {display: inline-block}\n",
       ".list-inline>li:not(:last-child)::after {content: \"\\00b7\"; padding: 0 .5ex}\n",
       "</style>\n",
       "<ol class=list-inline><li>87</li><li>98</li><li>78</li><li>87</li></ol>\n"
      ],
      "text/latex": [
       "\\begin{enumerate*}\n",
       "\\item 87\n",
       "\\item 98\n",
       "\\item 78\n",
       "\\item 87\n",
       "\\end{enumerate*}\n"
      ],
      "text/markdown": [
       "1. 87\n",
       "2. 98\n",
       "3. 78\n",
       "4. 87\n",
       "\n",
       "\n"
      ],
      "text/plain": [
       "[1] 87 98 78 87"
      ]
     },
     "metadata": {},
     "output_type": "display_data"
    }
   ],
   "source": [
    "# 13번\n",
    "csum <- apply(m, 2, sum)\n",
    "csum"
   ]
  },
  {
   "cell_type": "code",
   "execution_count": 22,
   "metadata": {
    "vscode": {
     "languageId": "r"
    }
   },
   "outputs": [
    {
     "data": {
      "text/html": [
       "<style>\n",
       ".list-inline {list-style: none; margin:0; padding: 0}\n",
       ".list-inline>li {display: inline-block}\n",
       ".list-inline>li:not(:last-child)::after {content: \"\\00b7\"; padding: 0 .5ex}\n",
       "</style>\n",
       "<ol class=list-inline><li>5</li><li>2</li><li>1</li><li>3</li><li>1</li><li>3</li><li>4</li><li>4</li><li>5</li><li>5</li><li>5</li><li>1</li><li>3</li><li>6</li><li>2</li><li>4</li><li>4</li><li>4</li><li>1</li><li>4</li><li>1</li><li>1</li><li>2</li><li>4</li><li>3</li><li>6</li><li>2</li><li>5</li><li>2</li><li>4</li><li>5</li><li>6</li><li>2</li><li>1</li><li>4</li><li>2</li><li>2</li><li>3</li><li>6</li><li>5</li><li>5</li><li>4</li><li>2</li><li>1</li><li>6</li><li>6</li><li>4</li><li>2</li><li>5</li><li>2</li><li>2</li><li>6</li><li>2</li><li>5</li><li>2</li><li>3</li><li>6</li><li>1</li><li>5</li><li>1</li><li>6</li><li>6</li><li>4</li><li>6</li><li>2</li><li>6</li><li>1</li><li>3</li><li>3</li><li>5</li><li>3</li><li>4</li><li>1</li><li>4</li><li>3</li><li>3</li><li>4</li><li>6</li><li>3</li><li>1</li><li>2</li><li>6</li><li>2</li><li>5</li><li>3</li><li>5</li><li>1</li><li>4</li><li>2</li><li>1</li><li>1</li><li>3</li><li>5</li><li>5</li><li>1</li><li>4</li><li>6</li><li>5</li><li>2</li><li>1</li></ol>\n"
      ],
      "text/latex": [
       "\\begin{enumerate*}\n",
       "\\item 5\n",
       "\\item 2\n",
       "\\item 1\n",
       "\\item 3\n",
       "\\item 1\n",
       "\\item 3\n",
       "\\item 4\n",
       "\\item 4\n",
       "\\item 5\n",
       "\\item 5\n",
       "\\item 5\n",
       "\\item 1\n",
       "\\item 3\n",
       "\\item 6\n",
       "\\item 2\n",
       "\\item 4\n",
       "\\item 4\n",
       "\\item 4\n",
       "\\item 1\n",
       "\\item 4\n",
       "\\item 1\n",
       "\\item 1\n",
       "\\item 2\n",
       "\\item 4\n",
       "\\item 3\n",
       "\\item 6\n",
       "\\item 2\n",
       "\\item 5\n",
       "\\item 2\n",
       "\\item 4\n",
       "\\item 5\n",
       "\\item 6\n",
       "\\item 2\n",
       "\\item 1\n",
       "\\item 4\n",
       "\\item 2\n",
       "\\item 2\n",
       "\\item 3\n",
       "\\item 6\n",
       "\\item 5\n",
       "\\item 5\n",
       "\\item 4\n",
       "\\item 2\n",
       "\\item 1\n",
       "\\item 6\n",
       "\\item 6\n",
       "\\item 4\n",
       "\\item 2\n",
       "\\item 5\n",
       "\\item 2\n",
       "\\item 2\n",
       "\\item 6\n",
       "\\item 2\n",
       "\\item 5\n",
       "\\item 2\n",
       "\\item 3\n",
       "\\item 6\n",
       "\\item 1\n",
       "\\item 5\n",
       "\\item 1\n",
       "\\item 6\n",
       "\\item 6\n",
       "\\item 4\n",
       "\\item 6\n",
       "\\item 2\n",
       "\\item 6\n",
       "\\item 1\n",
       "\\item 3\n",
       "\\item 3\n",
       "\\item 5\n",
       "\\item 3\n",
       "\\item 4\n",
       "\\item 1\n",
       "\\item 4\n",
       "\\item 3\n",
       "\\item 3\n",
       "\\item 4\n",
       "\\item 6\n",
       "\\item 3\n",
       "\\item 1\n",
       "\\item 2\n",
       "\\item 6\n",
       "\\item 2\n",
       "\\item 5\n",
       "\\item 3\n",
       "\\item 5\n",
       "\\item 1\n",
       "\\item 4\n",
       "\\item 2\n",
       "\\item 1\n",
       "\\item 1\n",
       "\\item 3\n",
       "\\item 5\n",
       "\\item 5\n",
       "\\item 1\n",
       "\\item 4\n",
       "\\item 6\n",
       "\\item 5\n",
       "\\item 2\n",
       "\\item 1\n",
       "\\end{enumerate*}\n"
      ],
      "text/markdown": [
       "1. 5\n",
       "2. 2\n",
       "3. 1\n",
       "4. 3\n",
       "5. 1\n",
       "6. 3\n",
       "7. 4\n",
       "8. 4\n",
       "9. 5\n",
       "10. 5\n",
       "11. 5\n",
       "12. 1\n",
       "13. 3\n",
       "14. 6\n",
       "15. 2\n",
       "16. 4\n",
       "17. 4\n",
       "18. 4\n",
       "19. 1\n",
       "20. 4\n",
       "21. 1\n",
       "22. 1\n",
       "23. 2\n",
       "24. 4\n",
       "25. 3\n",
       "26. 6\n",
       "27. 2\n",
       "28. 5\n",
       "29. 2\n",
       "30. 4\n",
       "31. 5\n",
       "32. 6\n",
       "33. 2\n",
       "34. 1\n",
       "35. 4\n",
       "36. 2\n",
       "37. 2\n",
       "38. 3\n",
       "39. 6\n",
       "40. 5\n",
       "41. 5\n",
       "42. 4\n",
       "43. 2\n",
       "44. 1\n",
       "45. 6\n",
       "46. 6\n",
       "47. 4\n",
       "48. 2\n",
       "49. 5\n",
       "50. 2\n",
       "51. 2\n",
       "52. 6\n",
       "53. 2\n",
       "54. 5\n",
       "55. 2\n",
       "56. 3\n",
       "57. 6\n",
       "58. 1\n",
       "59. 5\n",
       "60. 1\n",
       "61. 6\n",
       "62. 6\n",
       "63. 4\n",
       "64. 6\n",
       "65. 2\n",
       "66. 6\n",
       "67. 1\n",
       "68. 3\n",
       "69. 3\n",
       "70. 5\n",
       "71. 3\n",
       "72. 4\n",
       "73. 1\n",
       "74. 4\n",
       "75. 3\n",
       "76. 3\n",
       "77. 4\n",
       "78. 6\n",
       "79. 3\n",
       "80. 1\n",
       "81. 2\n",
       "82. 6\n",
       "83. 2\n",
       "84. 5\n",
       "85. 3\n",
       "86. 5\n",
       "87. 1\n",
       "88. 4\n",
       "89. 2\n",
       "90. 1\n",
       "91. 1\n",
       "92. 3\n",
       "93. 5\n",
       "94. 5\n",
       "95. 1\n",
       "96. 4\n",
       "97. 6\n",
       "98. 5\n",
       "99. 2\n",
       "100. 1\n",
       "\n",
       "\n"
      ],
      "text/plain": [
       "  [1] 5 2 1 3 1 3 4 4 5 5 5 1 3 6 2 4 4 4 1 4 1 1 2 4 3 6 2 5 2 4 5 6 2 1 4 2 2\n",
       " [38] 3 6 5 5 4 2 1 6 6 4 2 5 2 2 6 2 5 2 3 6 1 5 1 6 6 4 6 2 6 1 3 3 5 3 4 1 4\n",
       " [75] 3 3 4 6 3 1 2 6 2 5 3 5 1 4 2 1 1 3 5 5 1 4 6 5 2 1"
      ]
     },
     "metadata": {},
     "output_type": "display_data"
    }
   ],
   "source": [
    "# 14번 \n",
    "dice <- floor(runif(100, 0, 6) + 1)\n",
    "dice"
   ]
  },
  {
   "cell_type": "code",
   "execution_count": 23,
   "metadata": {
    "vscode": {
     "languageId": "r"
    }
   },
   "outputs": [
    {
     "data": {
      "text/html": [
       "<style>\n",
       ".list-inline {list-style: none; margin:0; padding: 0}\n",
       ".list-inline>li {display: inline-block}\n",
       ".list-inline>li:not(:last-child)::after {content: \"\\00b7\"; padding: 0 .5ex}\n",
       "</style>\n",
       "<ol class=list-inline><li>5</li><li>2</li><li>1</li><li>3</li><li>1</li><li>3</li><li>4</li><li>4</li><li>5</li><li>5</li></ol>\n"
      ],
      "text/latex": [
       "\\begin{enumerate*}\n",
       "\\item 5\n",
       "\\item 2\n",
       "\\item 1\n",
       "\\item 3\n",
       "\\item 1\n",
       "\\item 3\n",
       "\\item 4\n",
       "\\item 4\n",
       "\\item 5\n",
       "\\item 5\n",
       "\\end{enumerate*}\n"
      ],
      "text/markdown": [
       "1. 5\n",
       "2. 2\n",
       "3. 1\n",
       "4. 3\n",
       "5. 1\n",
       "6. 3\n",
       "7. 4\n",
       "8. 4\n",
       "9. 5\n",
       "10. 5\n",
       "\n",
       "\n"
      ],
      "text/plain": [
       " [1] 5 2 1 3 1 3 4 4 5 5"
      ]
     },
     "metadata": {},
     "output_type": "display_data"
    }
   ],
   "source": [
    "# 15번\n",
    "dice10 <- dice[1:10]\n",
    "dice10"
   ]
  },
  {
   "cell_type": "code",
   "execution_count": 24,
   "metadata": {
    "vscode": {
     "languageId": "r"
    }
   },
   "outputs": [
    {
     "name": "stdout",
     "output_type": "stream",
     "text": [
      " [1] 5 4 4 5 2 1 5 1 1 1\n"
     ]
    }
   ],
   "source": [
    "# 16번\n",
    "dice100 <- dice[seq(10, 100, by=10)]\n",
    "print(dice100)"
   ]
  },
  {
   "cell_type": "code",
   "execution_count": 25,
   "metadata": {
    "vscode": {
     "languageId": "r"
    }
   },
   "outputs": [
    {
     "data": {
      "text/html": [
       "3.41"
      ],
      "text/latex": [
       "3.41"
      ],
      "text/markdown": [
       "3.41"
      ],
      "text/plain": [
       "[1] 3.41"
      ]
     },
     "metadata": {},
     "output_type": "display_data"
    },
    {
     "data": {
      "text/html": [
       "3.3"
      ],
      "text/latex": [
       "3.3"
      ],
      "text/markdown": [
       "3.3"
      ],
      "text/plain": [
       "[1] 3.3"
      ]
     },
     "metadata": {},
     "output_type": "display_data"
    },
    {
     "data": {
      "text/html": [
       "2.9"
      ],
      "text/latex": [
       "2.9"
      ],
      "text/markdown": [
       "2.9"
      ],
      "text/plain": [
       "[1] 2.9"
      ]
     },
     "metadata": {},
     "output_type": "display_data"
    }
   ],
   "source": [
    "# 17번\n",
    "mean(dice)\n",
    "mean(dice10)\n",
    "mean(dice100)"
   ]
  },
  {
   "cell_type": "code",
   "execution_count": 26,
   "metadata": {
    "vscode": {
     "languageId": "r"
    }
   },
   "outputs": [
    {
     "data": {
      "text/html": [
       "<style>\n",
       ".list-inline {list-style: none; margin:0; padding: 0}\n",
       ".list-inline>li {display: inline-block}\n",
       ".list-inline>li:not(:last-child)::after {content: \"\\00b7\"; padding: 0 .5ex}\n",
       "</style>\n",
       "<ol class=list-inline><li>58</li><li>59</li><li>60</li><li>61</li><li>62</li><li>63</li><li>64</li><li>65</li><li>66</li><li>67</li><li>67</li></ol>\n"
      ],
      "text/latex": [
       "\\begin{enumerate*}\n",
       "\\item 58\n",
       "\\item 59\n",
       "\\item 60\n",
       "\\item 61\n",
       "\\item 62\n",
       "\\item 63\n",
       "\\item 64\n",
       "\\item 65\n",
       "\\item 66\n",
       "\\item 67\n",
       "\\item 67\n",
       "\\end{enumerate*}\n"
      ],
      "text/markdown": [
       "1. 58\n",
       "2. 59\n",
       "3. 60\n",
       "4. 61\n",
       "5. 62\n",
       "6. 63\n",
       "7. 64\n",
       "8. 65\n",
       "9. 66\n",
       "10. 67\n",
       "11. 67\n",
       "\n",
       "\n"
      ],
      "text/plain": [
       " [1] 58 59 60 61 62 63 64 65 66 67 67"
      ]
     },
     "metadata": {},
     "output_type": "display_data"
    },
    {
     "data": {
      "text/html": [
       "<style>\n",
       ".list-inline {list-style: none; margin:0; padding: 0}\n",
       ".list-inline>li {display: inline-block}\n",
       ".list-inline>li:not(:last-child)::after {content: \"\\00b7\"; padding: 0 .5ex}\n",
       "</style>\n",
       "<ol class=list-inline><li>115</li><li>117</li><li>120</li><li>123</li><li>126</li><li>129</li><li>132</li><li>135</li><li>139</li><li>142</li><li>146</li></ol>\n"
      ],
      "text/latex": [
       "\\begin{enumerate*}\n",
       "\\item 115\n",
       "\\item 117\n",
       "\\item 120\n",
       "\\item 123\n",
       "\\item 126\n",
       "\\item 129\n",
       "\\item 132\n",
       "\\item 135\n",
       "\\item 139\n",
       "\\item 142\n",
       "\\item 146\n",
       "\\end{enumerate*}\n"
      ],
      "text/markdown": [
       "1. 115\n",
       "2. 117\n",
       "3. 120\n",
       "4. 123\n",
       "5. 126\n",
       "6. 129\n",
       "7. 132\n",
       "8. 135\n",
       "9. 139\n",
       "10. 142\n",
       "11. 146\n",
       "\n",
       "\n"
      ],
      "text/plain": [
       " [1] 115 117 120 123 126 129 132 135 139 142 146"
      ]
     },
     "metadata": {},
     "output_type": "display_data"
    }
   ],
   "source": [
    "# 18번\n",
    "h <- c(58, 59, 60, 61, 62, 63, 64, 65, 66, 67, 67)\n",
    "w <- c(115,117,120,123,126,129,132,135,139,142,146)\n",
    "h; w;"
   ]
  },
  {
   "cell_type": "code",
   "execution_count": 27,
   "metadata": {
    "vscode": {
     "languageId": "r"
    }
   },
   "outputs": [
    {
     "name": "stdout",
     "output_type": "stream",
     "text": [
      " [1] 1.4732 1.4986 1.5240 1.5494 1.5748 1.6002 1.6256 1.6510 1.6764 1.7018\n",
      "[11] 1.7018\n"
     ]
    }
   ],
   "source": [
    "# 19번\n",
    "h2 <- h * 2.54 / 100  # cm를 m로 변환\n",
    "print(h2)"
   ]
  },
  {
   "cell_type": "code",
   "execution_count": 28,
   "metadata": {
    "vscode": {
     "languageId": "r"
    }
   },
   "outputs": [
    {
     "name": "stdout",
     "output_type": "stream",
     "text": [
      " [1] 51.75 52.65 54.00 55.35 56.70 58.05 59.40 60.75 62.55 63.90 65.70\n"
     ]
    }
   ],
   "source": [
    "# 20번\n",
    "w2 <- w * 0.45  # lbs를 kg으로 변환\n",
    "print(w2)"
   ]
  },
  {
   "cell_type": "code",
   "execution_count": 29,
   "metadata": {
    "vscode": {
     "languageId": "r"
    }
   },
   "outputs": [
    {
     "data": {
      "text/html": [
       "<table class=\"dataframe\">\n",
       "<caption>A data.frame: 11 × 2</caption>\n",
       "<thead>\n",
       "\t<tr><th scope=col>height</th><th scope=col>weight</th></tr>\n",
       "\t<tr><th scope=col>&lt;dbl&gt;</th><th scope=col>&lt;dbl&gt;</th></tr>\n",
       "</thead>\n",
       "<tbody>\n",
       "\t<tr><td>1.4732</td><td>51.75</td></tr>\n",
       "\t<tr><td>1.4986</td><td>52.65</td></tr>\n",
       "\t<tr><td>1.5240</td><td>54.00</td></tr>\n",
       "\t<tr><td>1.5494</td><td>55.35</td></tr>\n",
       "\t<tr><td>1.5748</td><td>56.70</td></tr>\n",
       "\t<tr><td>1.6002</td><td>58.05</td></tr>\n",
       "\t<tr><td>1.6256</td><td>59.40</td></tr>\n",
       "\t<tr><td>1.6510</td><td>60.75</td></tr>\n",
       "\t<tr><td>1.6764</td><td>62.55</td></tr>\n",
       "\t<tr><td>1.7018</td><td>63.90</td></tr>\n",
       "\t<tr><td>1.7018</td><td>65.70</td></tr>\n",
       "</tbody>\n",
       "</table>\n"
      ],
      "text/latex": [
       "A data.frame: 11 × 2\n",
       "\\begin{tabular}{ll}\n",
       " height & weight\\\\\n",
       " <dbl> & <dbl>\\\\\n",
       "\\hline\n",
       "\t 1.4732 & 51.75\\\\\n",
       "\t 1.4986 & 52.65\\\\\n",
       "\t 1.5240 & 54.00\\\\\n",
       "\t 1.5494 & 55.35\\\\\n",
       "\t 1.5748 & 56.70\\\\\n",
       "\t 1.6002 & 58.05\\\\\n",
       "\t 1.6256 & 59.40\\\\\n",
       "\t 1.6510 & 60.75\\\\\n",
       "\t 1.6764 & 62.55\\\\\n",
       "\t 1.7018 & 63.90\\\\\n",
       "\t 1.7018 & 65.70\\\\\n",
       "\\end{tabular}\n"
      ],
      "text/markdown": [
       "\n",
       "A data.frame: 11 × 2\n",
       "\n",
       "| height &lt;dbl&gt; | weight &lt;dbl&gt; |\n",
       "|---|---|\n",
       "| 1.4732 | 51.75 |\n",
       "| 1.4986 | 52.65 |\n",
       "| 1.5240 | 54.00 |\n",
       "| 1.5494 | 55.35 |\n",
       "| 1.5748 | 56.70 |\n",
       "| 1.6002 | 58.05 |\n",
       "| 1.6256 | 59.40 |\n",
       "| 1.6510 | 60.75 |\n",
       "| 1.6764 | 62.55 |\n",
       "| 1.7018 | 63.90 |\n",
       "| 1.7018 | 65.70 |\n",
       "\n"
      ],
      "text/plain": [
       "   height weight\n",
       "1  1.4732 51.75 \n",
       "2  1.4986 52.65 \n",
       "3  1.5240 54.00 \n",
       "4  1.5494 55.35 \n",
       "5  1.5748 56.70 \n",
       "6  1.6002 58.05 \n",
       "7  1.6256 59.40 \n",
       "8  1.6510 60.75 \n",
       "9  1.6764 62.55 \n",
       "10 1.7018 63.90 \n",
       "11 1.7018 65.70 "
      ]
     },
     "metadata": {},
     "output_type": "display_data"
    }
   ],
   "source": [
    "# 21번\n",
    "mydf <- data.frame(height=h2, weight=w2)\n",
    "mydf"
   ]
  },
  {
   "cell_type": "code",
   "execution_count": 30,
   "metadata": {
    "vscode": {
     "languageId": "r"
    }
   },
   "outputs": [
    {
     "data": {
      "text/html": [
       "<table class=\"dataframe\">\n",
       "<caption>A data.frame: 11 × 3</caption>\n",
       "<thead>\n",
       "\t<tr><th scope=col>height</th><th scope=col>weight</th><th scope=col>bmi</th></tr>\n",
       "\t<tr><th scope=col>&lt;dbl&gt;</th><th scope=col>&lt;dbl&gt;</th><th scope=col>&lt;dbl&gt;</th></tr>\n",
       "</thead>\n",
       "<tbody>\n",
       "\t<tr><td>1.4732</td><td>51.75</td><td>35.12761</td></tr>\n",
       "\t<tr><td>1.4986</td><td>52.65</td><td>35.13279</td></tr>\n",
       "\t<tr><td>1.5240</td><td>54.00</td><td>35.43307</td></tr>\n",
       "\t<tr><td>1.5494</td><td>55.35</td><td>35.72351</td></tr>\n",
       "\t<tr><td>1.5748</td><td>56.70</td><td>36.00457</td></tr>\n",
       "\t<tr><td>1.6002</td><td>58.05</td><td>36.27672</td></tr>\n",
       "\t<tr><td>1.6256</td><td>59.40</td><td>36.54035</td></tr>\n",
       "\t<tr><td>1.6510</td><td>60.75</td><td>36.79588</td></tr>\n",
       "\t<tr><td>1.6764</td><td>62.55</td><td>37.31210</td></tr>\n",
       "\t<tr><td>1.7018</td><td>63.90</td><td>37.54848</td></tr>\n",
       "\t<tr><td>1.7018</td><td>65.70</td><td>38.60618</td></tr>\n",
       "</tbody>\n",
       "</table>\n"
      ],
      "text/latex": [
       "A data.frame: 11 × 3\n",
       "\\begin{tabular}{lll}\n",
       " height & weight & bmi\\\\\n",
       " <dbl> & <dbl> & <dbl>\\\\\n",
       "\\hline\n",
       "\t 1.4732 & 51.75 & 35.12761\\\\\n",
       "\t 1.4986 & 52.65 & 35.13279\\\\\n",
       "\t 1.5240 & 54.00 & 35.43307\\\\\n",
       "\t 1.5494 & 55.35 & 35.72351\\\\\n",
       "\t 1.5748 & 56.70 & 36.00457\\\\\n",
       "\t 1.6002 & 58.05 & 36.27672\\\\\n",
       "\t 1.6256 & 59.40 & 36.54035\\\\\n",
       "\t 1.6510 & 60.75 & 36.79588\\\\\n",
       "\t 1.6764 & 62.55 & 37.31210\\\\\n",
       "\t 1.7018 & 63.90 & 37.54848\\\\\n",
       "\t 1.7018 & 65.70 & 38.60618\\\\\n",
       "\\end{tabular}\n"
      ],
      "text/markdown": [
       "\n",
       "A data.frame: 11 × 3\n",
       "\n",
       "| height &lt;dbl&gt; | weight &lt;dbl&gt; | bmi &lt;dbl&gt; |\n",
       "|---|---|---|\n",
       "| 1.4732 | 51.75 | 35.12761 |\n",
       "| 1.4986 | 52.65 | 35.13279 |\n",
       "| 1.5240 | 54.00 | 35.43307 |\n",
       "| 1.5494 | 55.35 | 35.72351 |\n",
       "| 1.5748 | 56.70 | 36.00457 |\n",
       "| 1.6002 | 58.05 | 36.27672 |\n",
       "| 1.6256 | 59.40 | 36.54035 |\n",
       "| 1.6510 | 60.75 | 36.79588 |\n",
       "| 1.6764 | 62.55 | 37.31210 |\n",
       "| 1.7018 | 63.90 | 37.54848 |\n",
       "| 1.7018 | 65.70 | 38.60618 |\n",
       "\n"
      ],
      "text/plain": [
       "   height weight bmi     \n",
       "1  1.4732 51.75  35.12761\n",
       "2  1.4986 52.65  35.13279\n",
       "3  1.5240 54.00  35.43307\n",
       "4  1.5494 55.35  35.72351\n",
       "5  1.5748 56.70  36.00457\n",
       "6  1.6002 58.05  36.27672\n",
       "7  1.6256 59.40  36.54035\n",
       "8  1.6510 60.75  36.79588\n",
       "9  1.6764 62.55  37.31210\n",
       "10 1.7018 63.90  37.54848\n",
       "11 1.7018 65.70  38.60618"
      ]
     },
     "metadata": {},
     "output_type": "display_data"
    }
   ],
   "source": [
    "# 22번\n",
    "mydf$bmi <- w2/h2\n",
    "mydf"
   ]
  },
  {
   "cell_type": "code",
   "execution_count": 31,
   "metadata": {
    "vscode": {
     "languageId": "r"
    }
   },
   "outputs": [
    {
     "data": {
      "text/html": [
       "-10"
      ],
      "text/latex": [
       "-10"
      ],
      "text/markdown": [
       "-10"
      ],
      "text/plain": [
       "[1] -10"
      ]
     },
     "metadata": {},
     "output_type": "display_data"
    }
   ],
   "source": [
    "# 23번\n",
    "T0 <- -10\n",
    "T0"
   ]
  },
  {
   "cell_type": "code",
   "execution_count": 32,
   "metadata": {
    "vscode": {
     "languageId": "r"
    }
   },
   "outputs": [
    {
     "data": {
      "text/html": [
       "<style>\n",
       ".list-inline {list-style: none; margin:0; padding: 0}\n",
       ".list-inline>li {display: inline-block}\n",
       ".list-inline>li:not(:last-child)::after {content: \"\\00b7\"; padding: 0 .5ex}\n",
       "</style>\n",
       "<ol class=list-inline><li>1</li><li>2</li><li>3</li><li>4</li><li>5</li><li>6</li><li>7</li><li>8</li><li>9</li><li>10</li><li>11</li><li>12</li><li>13</li><li>14</li><li>15</li><li>16</li><li>17</li><li>18</li><li>19</li><li>20</li><li>21</li><li>22</li><li>23</li><li>24</li><li>25</li><li>26</li><li>27</li><li>28</li><li>29</li><li>30</li></ol>\n"
      ],
      "text/latex": [
       "\\begin{enumerate*}\n",
       "\\item 1\n",
       "\\item 2\n",
       "\\item 3\n",
       "\\item 4\n",
       "\\item 5\n",
       "\\item 6\n",
       "\\item 7\n",
       "\\item 8\n",
       "\\item 9\n",
       "\\item 10\n",
       "\\item 11\n",
       "\\item 12\n",
       "\\item 13\n",
       "\\item 14\n",
       "\\item 15\n",
       "\\item 16\n",
       "\\item 17\n",
       "\\item 18\n",
       "\\item 19\n",
       "\\item 20\n",
       "\\item 21\n",
       "\\item 22\n",
       "\\item 23\n",
       "\\item 24\n",
       "\\item 25\n",
       "\\item 26\n",
       "\\item 27\n",
       "\\item 28\n",
       "\\item 29\n",
       "\\item 30\n",
       "\\end{enumerate*}\n"
      ],
      "text/markdown": [
       "1. 1\n",
       "2. 2\n",
       "3. 3\n",
       "4. 4\n",
       "5. 5\n",
       "6. 6\n",
       "7. 7\n",
       "8. 8\n",
       "9. 9\n",
       "10. 10\n",
       "11. 11\n",
       "12. 12\n",
       "13. 13\n",
       "14. 14\n",
       "15. 15\n",
       "16. 16\n",
       "17. 17\n",
       "18. 18\n",
       "19. 19\n",
       "20. 20\n",
       "21. 21\n",
       "22. 22\n",
       "23. 23\n",
       "24. 24\n",
       "25. 25\n",
       "26. 26\n",
       "27. 27\n",
       "28. 28\n",
       "29. 29\n",
       "30. 30\n",
       "\n",
       "\n"
      ],
      "text/plain": [
       " [1]  1  2  3  4  5  6  7  8  9 10 11 12 13 14 15 16 17 18 19 20 21 22 23 24 25\n",
       "[26] 26 27 28 29 30"
      ]
     },
     "metadata": {},
     "output_type": "display_data"
    }
   ],
   "source": [
    "# 24번\n",
    "V <- 1:30\n",
    "V"
   ]
  },
  {
   "cell_type": "code",
   "execution_count": 33,
   "metadata": {
    "vscode": {
     "languageId": "r"
    }
   },
   "outputs": [
    {
     "name": "stdout",
     "output_type": "stream",
     "text": [
      " [1]  -8.30 -10.11 -11.26 -12.12 -12.82 -13.41 -13.93 -14.38 -14.79 -15.16\n",
      "[11] -15.50 -15.82 -16.11 -16.39 -16.65 -16.90 -17.13 -17.35 -17.57 -17.77\n",
      "[21] -17.97 -18.15 -18.33 -18.51 -18.67 -18.84 -18.99 -19.15 -19.29 -19.44\n"
     ]
    }
   ],
   "source": [
    "# 25번\n",
    "T <- 13.1 + 0.6 * T0 + (0.4 * T0 - 11.4) * V^0.16\n",
    "print(round(T,2))"
   ]
  },
  {
   "cell_type": "code",
   "execution_count": 34,
   "metadata": {
    "vscode": {
     "languageId": "r"
    }
   },
   "outputs": [
    {
     "data": {
      "image/png": "[encoded data removed]",
      "text/plain": [
       "plot without title"
      ]
     },
     "metadata": {
      "image/png": {
       "height": 420,
       "width": 420
      }
     },
     "output_type": "display_data"
    }
   ],
   "source": [
    "# 26번\n",
    "plot(V, T)"
   ]
  }
 ],
 "metadata": {
  "kernelspec": {
   "display_name": "R",
   "language": "R",
   "name": "ir"
  },
  "language_info": {
   "codemirror_mode": "r",
   "file_extension": ".r",
   "mimetype": "text/x-r-source",
   "name": "R",
   "pygments_lexer": "r",
   "version": "4.3.1"
  }
 },
 "nbformat": 4,
 "nbformat_minor": 2
}
