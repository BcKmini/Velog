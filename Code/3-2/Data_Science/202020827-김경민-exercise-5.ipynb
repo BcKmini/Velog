{
 "cells": [
  {
   "cell_type": "code",
   "execution_count": 2,
   "metadata": {
    "vscode": {
     "languageId": "r"
    }
   },
   "outputs": [
    {
     "name": "stdout",
     "output_type": "stream",
     "text": [
      "4기통 6기통 8기통   Sum \n",
      "   11     7    14    32 \n"
     ]
    }
   ],
   "source": [
    "# 1번\n",
    "# a\n",
    "result <- table(mtcars$cyl)\n",
    "# b\n",
    "names(result) <- c(\"4기통\", \"6기통\", \"8기통\")\n",
    "# c\n",
    "result_with_sum <- addmargins(result)\n",
    "print(result_with_sum)\n"
   ]
  },
  {
   "cell_type": "code",
   "execution_count": 3,
   "metadata": {
    "vscode": {
     "languageId": "r"
    }
   },
   "outputs": [
    {
     "data": {
      "image/png": "[encoded data removed]",
      "text/plain": [
       "Plot with title “cyl 빈도수”"
      ]
     },
     "metadata": {
      "image/png": {
       "height": 420,
       "width": 420
      }
     },
     "output_type": "display_data"
    }
   ],
   "source": [
    "# 2번\n",
    "barplot(result,\n",
    "        col = \"gold\",      \n",
    "        border = \"red\",     \n",
    "        main = \"cyl 빈도수\",\n",
    "        names.arg = names(result))"
   ]
  },
  {
   "cell_type": "code",
   "execution_count": 4,
   "metadata": {
    "vscode": {
     "languageId": "r"
    }
   },
   "outputs": [
    {
     "name": "stdout",
     "output_type": "stream",
     "text": [
      "4기통 6기통 8기통 \n",
      "26.66 19.74 15.10 \n"
     ]
    }
   ],
   "source": [
    "# 3번\n",
    "# a\n",
    "result <- tapply(mtcars$mpg, mtcars$cyl, mean)\n",
    "# b\n",
    "names(result) <- c(\"4기통\", \"6기통\", \"8기통\")\n",
    "# c\n",
    "result <- round(result, 2)\n",
    "\n",
    "print(result)"
   ]
  },
  {
   "cell_type": "code",
   "execution_count": 5,
   "metadata": {
    "vscode": {
     "languageId": "r"
    }
   },
   "outputs": [
    {
     "data": {
      "text/html": [
       "<table class=\"dataframe\">\n",
       "<caption>A table: 3 × 4 of type dbl</caption>\n",
       "<thead>\n",
       "\t<tr><th></th><th scope=col>4기통</th><th scope=col>6기통</th><th scope=col>8기통</th><th scope=col>전체</th></tr>\n",
       "</thead>\n",
       "<tbody>\n",
       "\t<tr><th scope=row>auto</th><td> 3</td><td>4</td><td>12</td><td>19</td></tr>\n",
       "\t<tr><th scope=row>manual</th><td> 8</td><td>3</td><td> 2</td><td>13</td></tr>\n",
       "\t<tr><th scope=row>전체</th><td>11</td><td>7</td><td>14</td><td>32</td></tr>\n",
       "</tbody>\n",
       "</table>\n"
      ],
      "text/latex": [
       "A table: 3 × 4 of type dbl\n",
       "\\begin{tabular}{r|llll}\n",
       "  & 4기통 & 6기통 & 8기통 & 전체\\\\\n",
       "\\hline\n",
       "\tauto &  3 & 4 & 12 & 19\\\\\n",
       "\tmanual &  8 & 3 &  2 & 13\\\\\n",
       "\t전체 & 11 & 7 & 14 & 32\\\\\n",
       "\\end{tabular}\n"
      ],
      "text/markdown": [
       "\n",
       "A table: 3 × 4 of type dbl\n",
       "\n",
       "| <!--/--> | 4기통 | 6기통 | 8기통 | 전체 |\n",
       "|---|---|---|---|---|\n",
       "| auto |  3 | 4 | 12 | 19 |\n",
       "| manual |  8 | 3 |  2 | 13 |\n",
       "| 전체 | 11 | 7 | 14 | 32 |\n",
       "\n"
      ],
      "text/plain": [
       "        \n",
       "         4기통 6기통 8기통 전체\n",
       "  auto    3    4     12    19  \n",
       "  manual  8    3      2    13  \n",
       "  전체   11    7     14    32  "
      ]
     },
     "metadata": {},
     "output_type": "display_data"
    }
   ],
   "source": [
    "# 4번\n",
    "result <- addmargins(table(mtcars$am, mtcars$cyl))\n",
    "colnames(result) <- c(\"4기통\", \"6기통\", \"8기통\", \"전체\")\n",
    "rownames(result) <- c(\"auto\", \"manual\", \"전체\")\n",
    "result"
   ]
  },
  {
   "cell_type": "code",
   "execution_count": 6,
   "metadata": {
    "vscode": {
     "languageId": "r"
    }
   },
   "outputs": [
    {
     "data": {
      "text/html": [
       "<table class=\"dataframe\">\n",
       "<caption>A matrix: 2 × 3 of type dbl</caption>\n",
       "<thead>\n",
       "\t<tr><th></th><th scope=col>4기통</th><th scope=col>6기통</th><th scope=col>8기통</th></tr>\n",
       "</thead>\n",
       "<tbody>\n",
       "\t<tr><th scope=row>auto</th><td>22.900</td><td>19.12500</td><td>15.05</td></tr>\n",
       "\t<tr><th scope=row>manual</th><td>28.075</td><td>20.56667</td><td>15.40</td></tr>\n",
       "</tbody>\n",
       "</table>\n"
      ],
      "text/latex": [
       "A matrix: 2 × 3 of type dbl\n",
       "\\begin{tabular}{r|lll}\n",
       "  & 4기통 & 6기통 & 8기통\\\\\n",
       "\\hline\n",
       "\tauto & 22.900 & 19.12500 & 15.05\\\\\n",
       "\tmanual & 28.075 & 20.56667 & 15.40\\\\\n",
       "\\end{tabular}\n"
      ],
      "text/markdown": [
       "\n",
       "A matrix: 2 × 3 of type dbl\n",
       "\n",
       "| <!--/--> | 4기통 | 6기통 | 8기통 |\n",
       "|---|---|---|---|\n",
       "| auto | 22.900 | 19.12500 | 15.05 |\n",
       "| manual | 28.075 | 20.56667 | 15.40 |\n",
       "\n"
      ],
      "text/plain": [
       "       4기통  6기통    8기통\n",
       "auto   22.900 19.12500 15.05\n",
       "manual 28.075 20.56667 15.40"
      ]
     },
     "metadata": {},
     "output_type": "display_data"
    }
   ],
   "source": [
    "# 5번\n",
    "result <- tapply(mtcars$mpg, list(mtcars$am, mtcars$cyl), mean)\n",
    "colnames(result) <- c(\"4기통\", \"6기통\", \"8기통\")\n",
    "rownames(result) <- c(\"auto\", \"manual\")\n",
    "result"
   ]
  },
  {
   "cell_type": "code",
   "execution_count": 7,
   "metadata": {
    "vscode": {
     "languageId": "r"
    }
   },
   "outputs": [
    {
     "data": {
      "text/html": [
       "<table class=\"dataframe\">\n",
       "<caption>A tibble: 6 × 9</caption>\n",
       "<thead>\n",
       "\t<tr><th scope=col>AREA</th><th scope=col>Point</th><th scope=col>Date</th><th scope=col>Year</th><th scope=col>Month</th><th scope=col>Day</th><th scope=col>Time</th><th scope=col>PM10</th><th scope=col>PM25</th></tr>\n",
       "\t<tr><th scope=col>&lt;chr&gt;</th><th scope=col>&lt;chr&gt;</th><th scope=col>&lt;dbl&gt;</th><th scope=col>&lt;dbl&gt;</th><th scope=col>&lt;dbl&gt;</th><th scope=col>&lt;dbl&gt;</th><th scope=col>&lt;dbl&gt;</th><th scope=col>&lt;dbl&gt;</th><th scope=col>&lt;dbl&gt;</th></tr>\n",
       "</thead>\n",
       "<tbody>\n",
       "\t<tr><td>서울</td><td>중구</td><td>2015010100</td><td>2015</td><td>1</td><td>1</td><td>0</td><td> 44</td><td> 7</td></tr>\n",
       "\t<tr><td>서울</td><td>중구</td><td>2015010101</td><td>2015</td><td>1</td><td>1</td><td>1</td><td> 57</td><td>10</td></tr>\n",
       "\t<tr><td>서울</td><td>중구</td><td>2015010102</td><td>2015</td><td>1</td><td>1</td><td>2</td><td> 76</td><td>10</td></tr>\n",
       "\t<tr><td>서울</td><td>중구</td><td>2015010103</td><td>2015</td><td>1</td><td>1</td><td>3</td><td> 86</td><td>11</td></tr>\n",
       "\t<tr><td>서울</td><td>중구</td><td>2015010104</td><td>2015</td><td>1</td><td>1</td><td>4</td><td>106</td><td>12</td></tr>\n",
       "\t<tr><td>서울</td><td>중구</td><td>2015010105</td><td>2015</td><td>1</td><td>1</td><td>5</td><td>128</td><td>18</td></tr>\n",
       "</tbody>\n",
       "</table>\n"
      ],
      "text/latex": [
       "A tibble: 6 × 9\n",
       "\\begin{tabular}{lllllllll}\n",
       " AREA & Point & Date & Year & Month & Day & Time & PM10 & PM25\\\\\n",
       " <chr> & <chr> & <dbl> & <dbl> & <dbl> & <dbl> & <dbl> & <dbl> & <dbl>\\\\\n",
       "\\hline\n",
       "\t 서울 & 중구 & 2015010100 & 2015 & 1 & 1 & 0 &  44 &  7\\\\\n",
       "\t 서울 & 중구 & 2015010101 & 2015 & 1 & 1 & 1 &  57 & 10\\\\\n",
       "\t 서울 & 중구 & 2015010102 & 2015 & 1 & 1 & 2 &  76 & 10\\\\\n",
       "\t 서울 & 중구 & 2015010103 & 2015 & 1 & 1 & 3 &  86 & 11\\\\\n",
       "\t 서울 & 중구 & 2015010104 & 2015 & 1 & 1 & 4 & 106 & 12\\\\\n",
       "\t 서울 & 중구 & 2015010105 & 2015 & 1 & 1 & 5 & 128 & 18\\\\\n",
       "\\end{tabular}\n"
      ],
      "text/markdown": [
       "\n",
       "A tibble: 6 × 9\n",
       "\n",
       "| AREA &lt;chr&gt; | Point &lt;chr&gt; | Date &lt;dbl&gt; | Year &lt;dbl&gt; | Month &lt;dbl&gt; | Day &lt;dbl&gt; | Time &lt;dbl&gt; | PM10 &lt;dbl&gt; | PM25 &lt;dbl&gt; |\n",
       "|---|---|---|---|---|---|---|---|---|\n",
       "| 서울 | 중구 | 2015010100 | 2015 | 1 | 1 | 0 |  44 |  7 |\n",
       "| 서울 | 중구 | 2015010101 | 2015 | 1 | 1 | 1 |  57 | 10 |\n",
       "| 서울 | 중구 | 2015010102 | 2015 | 1 | 1 | 2 |  76 | 10 |\n",
       "| 서울 | 중구 | 2015010103 | 2015 | 1 | 1 | 3 |  86 | 11 |\n",
       "| 서울 | 중구 | 2015010104 | 2015 | 1 | 1 | 4 | 106 | 12 |\n",
       "| 서울 | 중구 | 2015010105 | 2015 | 1 | 1 | 5 | 128 | 18 |\n",
       "\n"
      ],
      "text/plain": [
       "  AREA Point Date       Year Month Day Time PM10 PM25\n",
       "1 서울 중구  2015010100 2015 1     1   0     44   7  \n",
       "2 서울 중구  2015010101 2015 1     1   1     57  10  \n",
       "3 서울 중구  2015010102 2015 1     1   2     76  10  \n",
       "4 서울 중구  2015010103 2015 1     1   3     86  11  \n",
       "5 서울 중구  2015010104 2015 1     1   4    106  12  \n",
       "6 서울 중구  2015010105 2015 1     1   5    128  18  "
      ]
     },
     "metadata": {},
     "output_type": "display_data"
    }
   ],
   "source": [
    "# 6번\n",
    "library(readxl)\n",
    "sheet1 <- read_excel(\"../mydata/2015년 미세먼지.xlsx\", sheet = 1)\n",
    "sheet2 <- read_excel(\"../mydata/2015년 미세먼지.xlsx\", sheet = 2)\n",
    "sheet3 <- read_excel(\"../mydata/2015년 미세먼지.xlsx\", sheet = 3)\n",
    "mise <- rbind(sheet1, sheet2, sheet3)\n",
    "head(mise)"
   ]
  },
  {
   "cell_type": "code",
   "execution_count": 8,
   "metadata": {
    "vscode": {
     "languageId": "r"
    }
   },
   "outputs": [
    {
     "data": {
      "text/html": [
       "<table class=\"dataframe\">\n",
       "<caption>A tibble: 6 × 11</caption>\n",
       "<thead>\n",
       "\t<tr><th scope=col>AREA</th><th scope=col>Point</th><th scope=col>Date</th><th scope=col>Year</th><th scope=col>Month</th><th scope=col>Day</th><th scope=col>Time</th><th scope=col>PM10</th><th scope=col>PM25</th><th scope=col>prov</th><th scope=col>city</th></tr>\n",
       "\t<tr><th scope=col>&lt;chr&gt;</th><th scope=col>&lt;chr&gt;</th><th scope=col>&lt;dbl&gt;</th><th scope=col>&lt;dbl&gt;</th><th scope=col>&lt;dbl&gt;</th><th scope=col>&lt;dbl&gt;</th><th scope=col>&lt;dbl&gt;</th><th scope=col>&lt;dbl&gt;</th><th scope=col>&lt;dbl&gt;</th><th scope=col>&lt;chr&gt;</th><th scope=col>&lt;chr&gt;</th></tr>\n",
       "</thead>\n",
       "<tbody>\n",
       "\t<tr><td>경기 부천시</td><td>계남공원</td><td>2015073118</td><td>2015</td><td>7</td><td>31</td><td>18</td><td>NA</td><td>NA</td><td>경기</td><td>부천시</td></tr>\n",
       "\t<tr><td>경기 부천시</td><td>계남공원</td><td>2015073119</td><td>2015</td><td>7</td><td>31</td><td>19</td><td>NA</td><td>NA</td><td>경기</td><td>부천시</td></tr>\n",
       "\t<tr><td>경기 부천시</td><td>계남공원</td><td>2015073120</td><td>2015</td><td>7</td><td>31</td><td>20</td><td>NA</td><td>NA</td><td>경기</td><td>부천시</td></tr>\n",
       "\t<tr><td>경기 부천시</td><td>계남공원</td><td>2015073121</td><td>2015</td><td>7</td><td>31</td><td>21</td><td>NA</td><td>NA</td><td>경기</td><td>부천시</td></tr>\n",
       "\t<tr><td>경기 부천시</td><td>계남공원</td><td>2015073122</td><td>2015</td><td>7</td><td>31</td><td>22</td><td>NA</td><td>NA</td><td>경기</td><td>부천시</td></tr>\n",
       "\t<tr><td>경기 부천시</td><td>계남공원</td><td>2015073123</td><td>2015</td><td>7</td><td>31</td><td>23</td><td>NA</td><td>NA</td><td>경기</td><td>부천시</td></tr>\n",
       "</tbody>\n",
       "</table>\n"
      ],
      "text/latex": [
       "A tibble: 6 × 11\n",
       "\\begin{tabular}{lllllllllll}\n",
       " AREA & Point & Date & Year & Month & Day & Time & PM10 & PM25 & prov & city\\\\\n",
       " <chr> & <chr> & <dbl> & <dbl> & <dbl> & <dbl> & <dbl> & <dbl> & <dbl> & <chr> & <chr>\\\\\n",
       "\\hline\n",
       "\t 경기 부천시 & 계남공원 & 2015073118 & 2015 & 7 & 31 & 18 & NA & NA & 경기 & 부천시\\\\\n",
       "\t 경기 부천시 & 계남공원 & 2015073119 & 2015 & 7 & 31 & 19 & NA & NA & 경기 & 부천시\\\\\n",
       "\t 경기 부천시 & 계남공원 & 2015073120 & 2015 & 7 & 31 & 20 & NA & NA & 경기 & 부천시\\\\\n",
       "\t 경기 부천시 & 계남공원 & 2015073121 & 2015 & 7 & 31 & 21 & NA & NA & 경기 & 부천시\\\\\n",
       "\t 경기 부천시 & 계남공원 & 2015073122 & 2015 & 7 & 31 & 22 & NA & NA & 경기 & 부천시\\\\\n",
       "\t 경기 부천시 & 계남공원 & 2015073123 & 2015 & 7 & 31 & 23 & NA & NA & 경기 & 부천시\\\\\n",
       "\\end{tabular}\n"
      ],
      "text/markdown": [
       "\n",
       "A tibble: 6 × 11\n",
       "\n",
       "| AREA &lt;chr&gt; | Point &lt;chr&gt; | Date &lt;dbl&gt; | Year &lt;dbl&gt; | Month &lt;dbl&gt; | Day &lt;dbl&gt; | Time &lt;dbl&gt; | PM10 &lt;dbl&gt; | PM25 &lt;dbl&gt; | prov &lt;chr&gt; | city &lt;chr&gt; |\n",
       "|---|---|---|---|---|---|---|---|---|---|---|\n",
       "| 경기 부천시 | 계남공원 | 2015073118 | 2015 | 7 | 31 | 18 | NA | NA | 경기 | 부천시 |\n",
       "| 경기 부천시 | 계남공원 | 2015073119 | 2015 | 7 | 31 | 19 | NA | NA | 경기 | 부천시 |\n",
       "| 경기 부천시 | 계남공원 | 2015073120 | 2015 | 7 | 31 | 20 | NA | NA | 경기 | 부천시 |\n",
       "| 경기 부천시 | 계남공원 | 2015073121 | 2015 | 7 | 31 | 21 | NA | NA | 경기 | 부천시 |\n",
       "| 경기 부천시 | 계남공원 | 2015073122 | 2015 | 7 | 31 | 22 | NA | NA | 경기 | 부천시 |\n",
       "| 경기 부천시 | 계남공원 | 2015073123 | 2015 | 7 | 31 | 23 | NA | NA | 경기 | 부천시 |\n",
       "\n"
      ],
      "text/plain": [
       "  AREA        Point    Date       Year Month Day Time PM10 PM25 prov city  \n",
       "1 경기 부천시 계남공원 2015073118 2015 7     31  18   NA   NA   경기 부천시\n",
       "2 경기 부천시 계남공원 2015073119 2015 7     31  19   NA   NA   경기 부천시\n",
       "3 경기 부천시 계남공원 2015073120 2015 7     31  20   NA   NA   경기 부천시\n",
       "4 경기 부천시 계남공원 2015073121 2015 7     31  21   NA   NA   경기 부천시\n",
       "5 경기 부천시 계남공원 2015073122 2015 7     31  22   NA   NA   경기 부천시\n",
       "6 경기 부천시 계남공원 2015073123 2015 7     31  23   NA   NA   경기 부천시"
      ]
     },
     "metadata": {},
     "output_type": "display_data"
    }
   ],
   "source": [
    "# 7번\n",
    "mise$prov <- sapply(strsplit(mise$AREA, \" \"), `[`, 1)\n",
    "mise$city <- sapply(strsplit(mise$AREA, \" \"), `[`, 2)\n",
    "tail(mise)"
   ]
  },
  {
   "cell_type": "code",
   "execution_count": 9,
   "metadata": {
    "vscode": {
     "languageId": "r"
    }
   },
   "outputs": [
    {
     "data": {
      "text/plain": [
       "\n",
       "        매포읍         문화동         복대동         사천동 송정동(봉명동) \n",
       "          5088           5080           5052           5088           5076 \n",
       "        오창읍         용암동         장락동         청천면         칠금동 \n",
       "          5088           5088           5059           4131           5087 \n",
       "        호암동 \n",
       "          5088 "
      ]
     },
     "metadata": {},
     "output_type": "display_data"
    }
   ],
   "source": [
    "# 8번\n",
    "cb <- mise[mise$prov == \"충북\", ]\n",
    "table(cb$Point)"
   ]
  },
  {
   "cell_type": "code",
   "execution_count": 10,
   "metadata": {
    "vscode": {
     "languageId": "r"
    }
   },
   "outputs": [
    {
     "data": {
      "text/html": [
       "<table class=\"dataframe\">\n",
       "<caption>A tibble: 6 × 6</caption>\n",
       "<thead>\n",
       "\t<tr><th scope=col>AREA</th><th scope=col>prov</th><th scope=col>city</th><th scope=col>Point</th><th scope=col>Point2</th><th scope=col>PM10</th></tr>\n",
       "\t<tr><th scope=col>&lt;chr&gt;</th><th scope=col>&lt;chr&gt;</th><th scope=col>&lt;chr&gt;</th><th scope=col>&lt;chr&gt;</th><th scope=col>&lt;chr&gt;</th><th scope=col>&lt;dbl&gt;</th></tr>\n",
       "</thead>\n",
       "<tbody>\n",
       "\t<tr><td>충북 청주시</td><td>충북</td><td>청주시</td><td>송정동(봉명동)</td><td>청주시 송정동(봉명동)</td><td>36</td></tr>\n",
       "\t<tr><td>충북 청주시</td><td>충북</td><td>청주시</td><td>송정동(봉명동)</td><td>청주시 송정동(봉명동)</td><td>47</td></tr>\n",
       "\t<tr><td>충북 청주시</td><td>충북</td><td>청주시</td><td>송정동(봉명동)</td><td>청주시 송정동(봉명동)</td><td>35</td></tr>\n",
       "\t<tr><td>충북 청주시</td><td>충북</td><td>청주시</td><td>송정동(봉명동)</td><td>청주시 송정동(봉명동)</td><td>60</td></tr>\n",
       "\t<tr><td>충북 청주시</td><td>충북</td><td>청주시</td><td>송정동(봉명동)</td><td>청주시 송정동(봉명동)</td><td>81</td></tr>\n",
       "\t<tr><td>충북 청주시</td><td>충북</td><td>청주시</td><td>송정동(봉명동)</td><td>청주시 송정동(봉명동)</td><td>94</td></tr>\n",
       "</tbody>\n",
       "</table>\n"
      ],
      "text/latex": [
       "A tibble: 6 × 6\n",
       "\\begin{tabular}{llllll}\n",
       " AREA & prov & city & Point & Point2 & PM10\\\\\n",
       " <chr> & <chr> & <chr> & <chr> & <chr> & <dbl>\\\\\n",
       "\\hline\n",
       "\t 충북 청주시 & 충북 & 청주시 & 송정동(봉명동) & 청주시 송정동(봉명동) & 36\\\\\n",
       "\t 충북 청주시 & 충북 & 청주시 & 송정동(봉명동) & 청주시 송정동(봉명동) & 47\\\\\n",
       "\t 충북 청주시 & 충북 & 청주시 & 송정동(봉명동) & 청주시 송정동(봉명동) & 35\\\\\n",
       "\t 충북 청주시 & 충북 & 청주시 & 송정동(봉명동) & 청주시 송정동(봉명동) & 60\\\\\n",
       "\t 충북 청주시 & 충북 & 청주시 & 송정동(봉명동) & 청주시 송정동(봉명동) & 81\\\\\n",
       "\t 충북 청주시 & 충북 & 청주시 & 송정동(봉명동) & 청주시 송정동(봉명동) & 94\\\\\n",
       "\\end{tabular}\n"
      ],
      "text/markdown": [
       "\n",
       "A tibble: 6 × 6\n",
       "\n",
       "| AREA &lt;chr&gt; | prov &lt;chr&gt; | city &lt;chr&gt; | Point &lt;chr&gt; | Point2 &lt;chr&gt; | PM10 &lt;dbl&gt; |\n",
       "|---|---|---|---|---|---|\n",
       "| 충북 청주시 | 충북 | 청주시 | 송정동(봉명동) | 청주시 송정동(봉명동) | 36 |\n",
       "| 충북 청주시 | 충북 | 청주시 | 송정동(봉명동) | 청주시 송정동(봉명동) | 47 |\n",
       "| 충북 청주시 | 충북 | 청주시 | 송정동(봉명동) | 청주시 송정동(봉명동) | 35 |\n",
       "| 충북 청주시 | 충북 | 청주시 | 송정동(봉명동) | 청주시 송정동(봉명동) | 60 |\n",
       "| 충북 청주시 | 충북 | 청주시 | 송정동(봉명동) | 청주시 송정동(봉명동) | 81 |\n",
       "| 충북 청주시 | 충북 | 청주시 | 송정동(봉명동) | 청주시 송정동(봉명동) | 94 |\n",
       "\n"
      ],
      "text/plain": [
       "  AREA        prov city   Point          Point2                PM10\n",
       "1 충북 청주시 충북 청주시 송정동(봉명동) 청주시 송정동(봉명동) 36  \n",
       "2 충북 청주시 충북 청주시 송정동(봉명동) 청주시 송정동(봉명동) 47  \n",
       "3 충북 청주시 충북 청주시 송정동(봉명동) 청주시 송정동(봉명동) 35  \n",
       "4 충북 청주시 충북 청주시 송정동(봉명동) 청주시 송정동(봉명동) 60  \n",
       "5 충북 청주시 충북 청주시 송정동(봉명동) 청주시 송정동(봉명동) 81  \n",
       "6 충북 청주시 충북 청주시 송정동(봉명동) 청주시 송정동(봉명동) 94  "
      ]
     },
     "metadata": {},
     "output_type": "display_data"
    }
   ],
   "source": [
    "# 9번\n",
    "cb$Point2 <- paste(cb$city, cb$Point)\n",
    "result <- cb[, c(\"AREA\", \"prov\", \"city\", \"Point\", \"Point2\", \"PM10\")]\n",
    "head(result)"
   ]
  },
  {
   "cell_type": "code",
   "execution_count": 11,
   "metadata": {
    "vscode": {
     "languageId": "r"
    }
   },
   "outputs": [
    {
     "name": "stdout",
     "output_type": "stream",
     "text": [
      "                      PM10 평균\n",
      "괴산군 청천면             54.37\n",
      "단양군 매포읍             46.41\n",
      "제천시 장락동             52.06\n",
      "청원군 오창읍             67.36\n",
      "청주시 문화동             59.11\n",
      "청주시 복대동             75.96\n",
      "청주시 사천동             61.12\n",
      "청주시 송정동(봉명동)     64.86\n",
      "청주시 용암동             53.09\n",
      "충주시 칠금동             58.53\n",
      "충주시 호암동             43.14\n"
     ]
    }
   ],
   "source": [
    "# 10번\n",
    "result <- tapply(cb$PM10, cb$Point2, mean, na.rm = TRUE)\n",
    "result <- round(result, 2)\n",
    "result <- as.matrix(result)\n",
    "colnames(result) <- \"PM10 평균\"\n",
    "print(result)"
   ]
  },
  {
   "cell_type": "code",
   "execution_count": 12,
   "metadata": {
    "vscode": {
     "languageId": "r"
    }
   },
   "outputs": [
    {
     "name": "stdout",
     "output_type": "stream",
     "text": [
      "     3      4      5 \n",
      "17.692 18.965 15.640 \n"
     ]
    }
   ],
   "source": [
    "# 11번\n",
    "result <- tapply(mtcars$qsec, mtcars$gear, mean)\n",
    "print(result)"
   ]
  },
  {
   "cell_type": "code",
   "execution_count": 13,
   "metadata": {
    "vscode": {
     "languageId": "r"
    }
   },
   "outputs": [
    {
     "name": "stderr",
     "output_type": "stream",
     "text": [
      "\n",
      "Attaching package: ‘doBy’\n",
      "\n",
      "\n",
      "The following object is masked from ‘package:dplyr’:\n",
      "\n",
      "    order_by\n",
      "\n",
      "\n"
     ]
    },
    {
     "data": {
      "text/html": [
       "<table class=\"dataframe\">\n",
       "<caption>A data.frame: 3 × 3</caption>\n",
       "<thead>\n",
       "\t<tr><th></th><th scope=col>gear</th><th scope=col>qsec.length</th><th scope=col>qsec.mean</th></tr>\n",
       "\t<tr><th></th><th scope=col>&lt;dbl&gt;</th><th scope=col>&lt;dbl&gt;</th><th scope=col>&lt;dbl&gt;</th></tr>\n",
       "</thead>\n",
       "<tbody>\n",
       "\t<tr><th scope=row>1</th><td>3</td><td>15</td><td>17.692</td></tr>\n",
       "\t<tr><th scope=row>2</th><td>4</td><td>12</td><td>18.965</td></tr>\n",
       "\t<tr><th scope=row>3</th><td>5</td><td> 5</td><td>15.640</td></tr>\n",
       "</tbody>\n",
       "</table>\n"
      ],
      "text/latex": [
       "A data.frame: 3 × 3\n",
       "\\begin{tabular}{r|lll}\n",
       "  & gear & qsec.length & qsec.mean\\\\\n",
       "  & <dbl> & <dbl> & <dbl>\\\\\n",
       "\\hline\n",
       "\t1 & 3 & 15 & 17.692\\\\\n",
       "\t2 & 4 & 12 & 18.965\\\\\n",
       "\t3 & 5 &  5 & 15.640\\\\\n",
       "\\end{tabular}\n"
      ],
      "text/markdown": [
       "\n",
       "A data.frame: 3 × 3\n",
       "\n",
       "| <!--/--> | gear &lt;dbl&gt; | qsec.length &lt;dbl&gt; | qsec.mean &lt;dbl&gt; |\n",
       "|---|---|---|---|\n",
       "| 1 | 3 | 15 | 17.692 |\n",
       "| 2 | 4 | 12 | 18.965 |\n",
       "| 3 | 5 |  5 | 15.640 |\n",
       "\n"
      ],
      "text/plain": [
       "  gear qsec.length qsec.mean\n",
       "1 3    15          17.692   \n",
       "2 4    12          18.965   \n",
       "3 5     5          15.640   "
      ]
     },
     "metadata": {},
     "output_type": "display_data"
    }
   ],
   "source": [
    "# 12번\n",
    "library(doBy)\n",
    "result <- summaryBy(qsec ~ gear, data = mtcars, FUN = c(length, mean))\n",
    "result"
   ]
  },
  {
   "cell_type": "code",
   "execution_count": 14,
   "metadata": {
    "vscode": {
     "languageId": "r"
    }
   },
   "outputs": [
    {
     "data": {
      "text/html": [
       "<table class=\"dataframe\">\n",
       "<caption>A tibble: 3 × 3</caption>\n",
       "<thead>\n",
       "\t<tr><th scope=col>gear</th><th scope=col>freq</th><th scope=col>mean</th></tr>\n",
       "\t<tr><th scope=col>&lt;dbl&gt;</th><th scope=col>&lt;int&gt;</th><th scope=col>&lt;dbl&gt;</th></tr>\n",
       "</thead>\n",
       "<tbody>\n",
       "\t<tr><td>3</td><td>15</td><td>17.692</td></tr>\n",
       "\t<tr><td>4</td><td>12</td><td>18.965</td></tr>\n",
       "\t<tr><td>5</td><td> 5</td><td>15.640</td></tr>\n",
       "</tbody>\n",
       "</table>\n"
      ],
      "text/latex": [
       "A tibble: 3 × 3\n",
       "\\begin{tabular}{lll}\n",
       " gear & freq & mean\\\\\n",
       " <dbl> & <int> & <dbl>\\\\\n",
       "\\hline\n",
       "\t 3 & 15 & 17.692\\\\\n",
       "\t 4 & 12 & 18.965\\\\\n",
       "\t 5 &  5 & 15.640\\\\\n",
       "\\end{tabular}\n"
      ],
      "text/markdown": [
       "\n",
       "A tibble: 3 × 3\n",
       "\n",
       "| gear &lt;dbl&gt; | freq &lt;int&gt; | mean &lt;dbl&gt; |\n",
       "|---|---|---|\n",
       "| 3 | 15 | 17.692 |\n",
       "| 4 | 12 | 18.965 |\n",
       "| 5 |  5 | 15.640 |\n",
       "\n"
      ],
      "text/plain": [
       "  gear freq mean  \n",
       "1 3    15   17.692\n",
       "2 4    12   18.965\n",
       "3 5     5   15.640"
      ]
     },
     "metadata": {},
     "output_type": "display_data"
    }
   ],
   "source": [
    "# 13번\n",
    "library(dplyr)\n",
    "\n",
    "grp <- mtcars %>%\n",
    "  group_by(gear) %>%\n",
    "  summarise(freq = n(), mean = mean(qsec))\n",
    "\n",
    "grp"
   ]
  },
  {
   "cell_type": "code",
   "execution_count": 15,
   "metadata": {
    "vscode": {
     "languageId": "r"
    }
   },
   "outputs": [
    {
     "data": {
      "text/html": [
       "<table class=\"dataframe\">\n",
       "<caption>A tibble: 3 × 3</caption>\n",
       "<thead>\n",
       "\t<tr><th scope=col>gear</th><th scope=col>freq</th><th scope=col>mean</th></tr>\n",
       "\t<tr><th scope=col>&lt;dbl&gt;</th><th scope=col>&lt;int&gt;</th><th scope=col>&lt;dbl&gt;</th></tr>\n",
       "</thead>\n",
       "<tbody>\n",
       "\t<tr><td>3</td><td>15</td><td>17.692</td></tr>\n",
       "\t<tr><td>4</td><td>12</td><td>18.965</td></tr>\n",
       "\t<tr><td>5</td><td> 5</td><td>15.640</td></tr>\n",
       "</tbody>\n",
       "</table>\n"
      ],
      "text/latex": [
       "A tibble: 3 × 3\n",
       "\\begin{tabular}{lll}\n",
       " gear & freq & mean\\\\\n",
       " <dbl> & <int> & <dbl>\\\\\n",
       "\\hline\n",
       "\t 3 & 15 & 17.692\\\\\n",
       "\t 4 & 12 & 18.965\\\\\n",
       "\t 5 &  5 & 15.640\\\\\n",
       "\\end{tabular}\n"
      ],
      "text/markdown": [
       "\n",
       "A tibble: 3 × 3\n",
       "\n",
       "| gear &lt;dbl&gt; | freq &lt;int&gt; | mean &lt;dbl&gt; |\n",
       "|---|---|---|\n",
       "| 3 | 15 | 17.692 |\n",
       "| 4 | 12 | 18.965 |\n",
       "| 5 |  5 | 15.640 |\n",
       "\n"
      ],
      "text/plain": [
       "  gear freq mean  \n",
       "1 3    15   17.692\n",
       "2 4    12   18.965\n",
       "3 5     5   15.640"
      ]
     },
     "metadata": {},
     "output_type": "display_data"
    }
   ],
   "source": [
    "# 14번\n",
    "result <- mtcars %>%\n",
    "  group_by(gear) %>%\n",
    "  summarise(freq = n(), mean = mean(qsec))\n",
    "\n",
    "result\n"
   ]
  },
  {
   "cell_type": "code",
   "execution_count": 16,
   "metadata": {
    "vscode": {
     "languageId": "r"
    }
   },
   "outputs": [
    {
     "data": {
      "text/html": [
       "<table class=\"dataframe\">\n",
       "<caption>A data.frame: 6 × 10</caption>\n",
       "<thead>\n",
       "\t<tr><th></th><th scope=col>지역</th><th scope=col>발생월</th><th scope=col>발생일</th><th scope=col>시도</th><th scope=col>시군구</th><th scope=col>사고건수</th><th scope=col>사망자수</th><th scope=col>중상자수</th><th scope=col>경상자수</th><th scope=col>부상신고자수</th></tr>\n",
       "\t<tr><th></th><th scope=col>&lt;chr&gt;</th><th scope=col>&lt;int&gt;</th><th scope=col>&lt;int&gt;</th><th scope=col>&lt;chr&gt;</th><th scope=col>&lt;chr&gt;</th><th scope=col>&lt;int&gt;</th><th scope=col>&lt;int&gt;</th><th scope=col>&lt;int&gt;</th><th scope=col>&lt;int&gt;</th><th scope=col>&lt;int&gt;</th></tr>\n",
       "</thead>\n",
       "<tbody>\n",
       "\t<tr><th scope=row>1</th><td>서울 용산구  </td><td>1</td><td>1</td><td>서울</td><td>용산구  </td><td>4</td><td>0</td><td>0</td><td> 5</td><td>0</td></tr>\n",
       "\t<tr><th scope=row>2</th><td>서울 성동구  </td><td>1</td><td>1</td><td>서울</td><td>성동구  </td><td>4</td><td>0</td><td>0</td><td>13</td><td>0</td></tr>\n",
       "\t<tr><th scope=row>3</th><td>서울 동대문구</td><td>1</td><td>1</td><td>서울</td><td>동대문구</td><td>5</td><td>0</td><td>1</td><td> 5</td><td>1</td></tr>\n",
       "\t<tr><th scope=row>4</th><td>서울 성북구  </td><td>1</td><td>1</td><td>서울</td><td>성북구  </td><td>4</td><td>0</td><td>1</td><td> 3</td><td>0</td></tr>\n",
       "\t<tr><th scope=row>5</th><td>서울 은평구  </td><td>1</td><td>1</td><td>서울</td><td>은평구  </td><td>3</td><td>0</td><td>3</td><td> 0</td><td>0</td></tr>\n",
       "\t<tr><th scope=row>6</th><td>서울 서대문구</td><td>1</td><td>1</td><td>서울</td><td>서대문구</td><td>2</td><td>0</td><td>0</td><td> 1</td><td>1</td></tr>\n",
       "</tbody>\n",
       "</table>\n"
      ],
      "text/latex": [
       "A data.frame: 6 × 10\n",
       "\\begin{tabular}{r|llllllllll}\n",
       "  & 지역 & 발생월 & 발생일 & 시도 & 시군구 & 사고건수 & 사망자수 & 중상자수 & 경상자수 & 부상신고자수\\\\\n",
       "  & <chr> & <int> & <int> & <chr> & <chr> & <int> & <int> & <int> & <int> & <int>\\\\\n",
       "\\hline\n",
       "\t1 & 서울 용산구   & 1 & 1 & 서울 & 용산구   & 4 & 0 & 0 &  5 & 0\\\\\n",
       "\t2 & 서울 성동구   & 1 & 1 & 서울 & 성동구   & 4 & 0 & 0 & 13 & 0\\\\\n",
       "\t3 & 서울 동대문구 & 1 & 1 & 서울 & 동대문구 & 5 & 0 & 1 &  5 & 1\\\\\n",
       "\t4 & 서울 성북구   & 1 & 1 & 서울 & 성북구   & 4 & 0 & 1 &  3 & 0\\\\\n",
       "\t5 & 서울 은평구   & 1 & 1 & 서울 & 은평구   & 3 & 0 & 3 &  0 & 0\\\\\n",
       "\t6 & 서울 서대문구 & 1 & 1 & 서울 & 서대문구 & 2 & 0 & 0 &  1 & 1\\\\\n",
       "\\end{tabular}\n"
      ],
      "text/markdown": [
       "\n",
       "A data.frame: 6 × 10\n",
       "\n",
       "| <!--/--> | 지역 &lt;chr&gt; | 발생월 &lt;int&gt; | 발생일 &lt;int&gt; | 시도 &lt;chr&gt; | 시군구 &lt;chr&gt; | 사고건수 &lt;int&gt; | 사망자수 &lt;int&gt; | 중상자수 &lt;int&gt; | 경상자수 &lt;int&gt; | 부상신고자수 &lt;int&gt; |\n",
       "|---|---|---|---|---|---|---|---|---|---|---|\n",
       "| 1 | 서울 용산구   | 1 | 1 | 서울 | 용산구   | 4 | 0 | 0 |  5 | 0 |\n",
       "| 2 | 서울 성동구   | 1 | 1 | 서울 | 성동구   | 4 | 0 | 0 | 13 | 0 |\n",
       "| 3 | 서울 동대문구 | 1 | 1 | 서울 | 동대문구 | 5 | 0 | 1 |  5 | 1 |\n",
       "| 4 | 서울 성북구   | 1 | 1 | 서울 | 성북구   | 4 | 0 | 1 |  3 | 0 |\n",
       "| 5 | 서울 은평구   | 1 | 1 | 서울 | 은평구   | 3 | 0 | 3 |  0 | 0 |\n",
       "| 6 | 서울 서대문구 | 1 | 1 | 서울 | 서대문구 | 2 | 0 | 0 |  1 | 1 |\n",
       "\n"
      ],
      "text/plain": [
       "  지역          발생월 발생일 시도 시군구   사고건수 사망자수 중상자수 경상자수\n",
       "1 서울 용산구   1      1      서울 용산구   4        0        0         5      \n",
       "2 서울 성동구   1      1      서울 성동구   4        0        0        13      \n",
       "3 서울 동대문구 1      1      서울 동대문구 5        0        1         5      \n",
       "4 서울 성북구   1      1      서울 성북구   4        0        1         3      \n",
       "5 서울 은평구   1      1      서울 은평구   3        0        3         0      \n",
       "6 서울 서대문구 1      1      서울 서대문구 2        0        0         1      \n",
       "  부상신고자수\n",
       "1 0           \n",
       "2 0           \n",
       "3 1           \n",
       "4 0           \n",
       "5 0           \n",
       "6 1           "
      ]
     },
     "metadata": {},
     "output_type": "display_data"
    }
   ],
   "source": [
    "# 15번\n",
    "library(dplyr)\n",
    "\n",
    "data <- read.csv(\"../mydata/2023년_도로교통공단_일자별 시군구별 교통사고 건수.csv\", fileEncoding = \"CP949\")\n",
    "\n",
    "data <- data %>%\n",
    "  mutate(지역 = paste(시도, 시군구, sep = \" \")) %>%\n",
    "  select(지역, everything())  # 변수 순서를 지역 -> 나머지로 변경\n",
    "\n",
    "head(data)\n"
   ]
  },
  {
   "cell_type": "code",
   "execution_count": 17,
   "metadata": {
    "vscode": {
     "languageId": "r"
    }
   },
   "outputs": [
    {
     "data": {
      "text/html": [
       "<table class=\"dataframe\">\n",
       "<caption>A data.frame: 12 × 7</caption>\n",
       "<thead>\n",
       "\t<tr><th></th><th scope=col>발생월</th><th scope=col>사고건수.length</th><th scope=col>사고건수.sum</th><th scope=col>사고건수.mean</th><th scope=col>사고건수.min</th><th scope=col>사고건수.max</th><th scope=col>사고건수.median</th></tr>\n",
       "\t<tr><th></th><th scope=col>&lt;int&gt;</th><th scope=col>&lt;dbl&gt;</th><th scope=col>&lt;dbl&gt;</th><th scope=col>&lt;dbl&gt;</th><th scope=col>&lt;dbl&gt;</th><th scope=col>&lt;dbl&gt;</th><th scope=col>&lt;dbl&gt;</th></tr>\n",
       "</thead>\n",
       "<tbody>\n",
       "\t<tr><th scope=row>1</th><td> 1</td><td>4497</td><td>14480</td><td>3.219924</td><td>1</td><td>23</td><td>2</td></tr>\n",
       "\t<tr><th scope=row>2</th><td> 2</td><td>4228</td><td>13284</td><td>3.141911</td><td>1</td><td>26</td><td>2</td></tr>\n",
       "\t<tr><th scope=row>3</th><td> 3</td><td>4813</td><td>16000</td><td>3.324330</td><td>1</td><td>26</td><td>2</td></tr>\n",
       "\t<tr><th scope=row>4</th><td> 4</td><td>4772</td><td>16336</td><td>3.423303</td><td>1</td><td>27</td><td>2</td></tr>\n",
       "\t<tr><th scope=row>5</th><td> 5</td><td>5021</td><td>17552</td><td>3.495718</td><td>1</td><td>24</td><td>3</td></tr>\n",
       "\t<tr><th scope=row>6</th><td> 6</td><td>4865</td><td>16716</td><td>3.435971</td><td>1</td><td>21</td><td>2</td></tr>\n",
       "\t<tr><th scope=row>7</th><td> 7</td><td>4878</td><td>16578</td><td>3.398524</td><td>1</td><td>21</td><td>2</td></tr>\n",
       "\t<tr><th scope=row>8</th><td> 8</td><td>4991</td><td>17212</td><td>3.448607</td><td>1</td><td>27</td><td>2</td></tr>\n",
       "\t<tr><th scope=row>9</th><td> 9</td><td>4939</td><td>17860</td><td>3.616117</td><td>1</td><td>26</td><td>3</td></tr>\n",
       "\t<tr><th scope=row>10</th><td>10</td><td>5054</td><td>17333</td><td>3.429561</td><td>1</td><td>21</td><td>2</td></tr>\n",
       "\t<tr><th scope=row>11</th><td>11</td><td>4876</td><td>17748</td><td>3.639869</td><td>1</td><td>25</td><td>3</td></tr>\n",
       "\t<tr><th scope=row>12</th><td>12</td><td>4799</td><td>17197</td><td>3.583455</td><td>1</td><td>33</td><td>2</td></tr>\n",
       "</tbody>\n",
       "</table>\n"
      ],
      "text/latex": [
       "A data.frame: 12 × 7\n",
       "\\begin{tabular}{r|lllllll}\n",
       "  & 발생월 & 사고건수.length & 사고건수.sum & 사고건수.mean & 사고건수.min & 사고건수.max & 사고건수.median\\\\\n",
       "  & <int> & <dbl> & <dbl> & <dbl> & <dbl> & <dbl> & <dbl>\\\\\n",
       "\\hline\n",
       "\t1 &  1 & 4497 & 14480 & 3.219924 & 1 & 23 & 2\\\\\n",
       "\t2 &  2 & 4228 & 13284 & 3.141911 & 1 & 26 & 2\\\\\n",
       "\t3 &  3 & 4813 & 16000 & 3.324330 & 1 & 26 & 2\\\\\n",
       "\t4 &  4 & 4772 & 16336 & 3.423303 & 1 & 27 & 2\\\\\n",
       "\t5 &  5 & 5021 & 17552 & 3.495718 & 1 & 24 & 3\\\\\n",
       "\t6 &  6 & 4865 & 16716 & 3.435971 & 1 & 21 & 2\\\\\n",
       "\t7 &  7 & 4878 & 16578 & 3.398524 & 1 & 21 & 2\\\\\n",
       "\t8 &  8 & 4991 & 17212 & 3.448607 & 1 & 27 & 2\\\\\n",
       "\t9 &  9 & 4939 & 17860 & 3.616117 & 1 & 26 & 3\\\\\n",
       "\t10 & 10 & 5054 & 17333 & 3.429561 & 1 & 21 & 2\\\\\n",
       "\t11 & 11 & 4876 & 17748 & 3.639869 & 1 & 25 & 3\\\\\n",
       "\t12 & 12 & 4799 & 17197 & 3.583455 & 1 & 33 & 2\\\\\n",
       "\\end{tabular}\n"
      ],
      "text/markdown": [
       "\n",
       "A data.frame: 12 × 7\n",
       "\n",
       "| <!--/--> | 발생월 &lt;int&gt; | 사고건수.length &lt;dbl&gt; | 사고건수.sum &lt;dbl&gt; | 사고건수.mean &lt;dbl&gt; | 사고건수.min &lt;dbl&gt; | 사고건수.max &lt;dbl&gt; | 사고건수.median &lt;dbl&gt; |\n",
       "|---|---|---|---|---|---|---|---|\n",
       "| 1 |  1 | 4497 | 14480 | 3.219924 | 1 | 23 | 2 |\n",
       "| 2 |  2 | 4228 | 13284 | 3.141911 | 1 | 26 | 2 |\n",
       "| 3 |  3 | 4813 | 16000 | 3.324330 | 1 | 26 | 2 |\n",
       "| 4 |  4 | 4772 | 16336 | 3.423303 | 1 | 27 | 2 |\n",
       "| 5 |  5 | 5021 | 17552 | 3.495718 | 1 | 24 | 3 |\n",
       "| 6 |  6 | 4865 | 16716 | 3.435971 | 1 | 21 | 2 |\n",
       "| 7 |  7 | 4878 | 16578 | 3.398524 | 1 | 21 | 2 |\n",
       "| 8 |  8 | 4991 | 17212 | 3.448607 | 1 | 27 | 2 |\n",
       "| 9 |  9 | 4939 | 17860 | 3.616117 | 1 | 26 | 3 |\n",
       "| 10 | 10 | 5054 | 17333 | 3.429561 | 1 | 21 | 2 |\n",
       "| 11 | 11 | 4876 | 17748 | 3.639869 | 1 | 25 | 3 |\n",
       "| 12 | 12 | 4799 | 17197 | 3.583455 | 1 | 33 | 2 |\n",
       "\n"
      ],
      "text/plain": [
       "   발생월 사고건수.length 사고건수.sum 사고건수.mean 사고건수.min 사고건수.max\n",
       "1   1     4497            14480        3.219924      1            23          \n",
       "2   2     4228            13284        3.141911      1            26          \n",
       "3   3     4813            16000        3.324330      1            26          \n",
       "4   4     4772            16336        3.423303      1            27          \n",
       "5   5     5021            17552        3.495718      1            24          \n",
       "6   6     4865            16716        3.435971      1            21          \n",
       "7   7     4878            16578        3.398524      1            21          \n",
       "8   8     4991            17212        3.448607      1            27          \n",
       "9   9     4939            17860        3.616117      1            26          \n",
       "10 10     5054            17333        3.429561      1            21          \n",
       "11 11     4876            17748        3.639869      1            25          \n",
       "12 12     4799            17197        3.583455      1            33          \n",
       "   사고건수.median\n",
       "1  2              \n",
       "2  2              \n",
       "3  2              \n",
       "4  2              \n",
       "5  3              \n",
       "6  2              \n",
       "7  2              \n",
       "8  2              \n",
       "9  3              \n",
       "10 2              \n",
       "11 3              \n",
       "12 2              "
      ]
     },
     "metadata": {},
     "output_type": "display_data"
    }
   ],
   "source": [
    "# 16번\n",
    "library(doBy)\n",
    "\n",
    "summary_result <- summaryBy(사고건수 ~ 발생월, \n",
    "                            data = data,\n",
    "                            FUN = c(length, sum, mean, min, max, median))\n",
    "summary_result"
   ]
  },
  {
   "cell_type": "code",
   "execution_count": 18,
   "metadata": {
    "vscode": {
     "languageId": "r"
    }
   },
   "outputs": [
    {
     "data": {
      "text/html": [
       "<table class=\"dataframe\">\n",
       "<caption>A tibble: 12 × 6</caption>\n",
       "<thead>\n",
       "\t<tr><th scope=col>발생월</th><th scope=col>사고건수합계</th><th scope=col>사고건수평균</th><th scope=col>사고건수최소값</th><th scope=col>사고건수최댓값</th><th scope=col>사고건수중앙값</th></tr>\n",
       "\t<tr><th scope=col>&lt;int&gt;</th><th scope=col>&lt;int&gt;</th><th scope=col>&lt;dbl&gt;</th><th scope=col>&lt;int&gt;</th><th scope=col>&lt;int&gt;</th><th scope=col>&lt;dbl&gt;</th></tr>\n",
       "</thead>\n",
       "<tbody>\n",
       "\t<tr><td> 1</td><td>14480</td><td>3.219924</td><td>1</td><td>23</td><td>2</td></tr>\n",
       "\t<tr><td> 2</td><td>13284</td><td>3.141911</td><td>1</td><td>26</td><td>2</td></tr>\n",
       "\t<tr><td> 3</td><td>16000</td><td>3.324330</td><td>1</td><td>26</td><td>2</td></tr>\n",
       "\t<tr><td> 4</td><td>16336</td><td>3.423303</td><td>1</td><td>27</td><td>2</td></tr>\n",
       "\t<tr><td> 5</td><td>17552</td><td>3.495718</td><td>1</td><td>24</td><td>3</td></tr>\n",
       "\t<tr><td> 6</td><td>16716</td><td>3.435971</td><td>1</td><td>21</td><td>2</td></tr>\n",
       "\t<tr><td> 7</td><td>16578</td><td>3.398524</td><td>1</td><td>21</td><td>2</td></tr>\n",
       "\t<tr><td> 8</td><td>17212</td><td>3.448607</td><td>1</td><td>27</td><td>2</td></tr>\n",
       "\t<tr><td> 9</td><td>17860</td><td>3.616117</td><td>1</td><td>26</td><td>3</td></tr>\n",
       "\t<tr><td>10</td><td>17333</td><td>3.429561</td><td>1</td><td>21</td><td>2</td></tr>\n",
       "\t<tr><td>11</td><td>17748</td><td>3.639869</td><td>1</td><td>25</td><td>3</td></tr>\n",
       "\t<tr><td>12</td><td>17197</td><td>3.583455</td><td>1</td><td>33</td><td>2</td></tr>\n",
       "</tbody>\n",
       "</table>\n"
      ],
      "text/latex": [
       "A tibble: 12 × 6\n",
       "\\begin{tabular}{llllll}\n",
       " 발생월 & 사고건수합계 & 사고건수평균 & 사고건수최소값 & 사고건수최댓값 & 사고건수중앙값\\\\\n",
       " <int> & <int> & <dbl> & <int> & <int> & <dbl>\\\\\n",
       "\\hline\n",
       "\t  1 & 14480 & 3.219924 & 1 & 23 & 2\\\\\n",
       "\t  2 & 13284 & 3.141911 & 1 & 26 & 2\\\\\n",
       "\t  3 & 16000 & 3.324330 & 1 & 26 & 2\\\\\n",
       "\t  4 & 16336 & 3.423303 & 1 & 27 & 2\\\\\n",
       "\t  5 & 17552 & 3.495718 & 1 & 24 & 3\\\\\n",
       "\t  6 & 16716 & 3.435971 & 1 & 21 & 2\\\\\n",
       "\t  7 & 16578 & 3.398524 & 1 & 21 & 2\\\\\n",
       "\t  8 & 17212 & 3.448607 & 1 & 27 & 2\\\\\n",
       "\t  9 & 17860 & 3.616117 & 1 & 26 & 3\\\\\n",
       "\t 10 & 17333 & 3.429561 & 1 & 21 & 2\\\\\n",
       "\t 11 & 17748 & 3.639869 & 1 & 25 & 3\\\\\n",
       "\t 12 & 17197 & 3.583455 & 1 & 33 & 2\\\\\n",
       "\\end{tabular}\n"
      ],
      "text/markdown": [
       "\n",
       "A tibble: 12 × 6\n",
       "\n",
       "| 발생월 &lt;int&gt; | 사고건수합계 &lt;int&gt; | 사고건수평균 &lt;dbl&gt; | 사고건수최소값 &lt;int&gt; | 사고건수최댓값 &lt;int&gt; | 사고건수중앙값 &lt;dbl&gt; |\n",
       "|---|---|---|---|---|---|\n",
       "|  1 | 14480 | 3.219924 | 1 | 23 | 2 |\n",
       "|  2 | 13284 | 3.141911 | 1 | 26 | 2 |\n",
       "|  3 | 16000 | 3.324330 | 1 | 26 | 2 |\n",
       "|  4 | 16336 | 3.423303 | 1 | 27 | 2 |\n",
       "|  5 | 17552 | 3.495718 | 1 | 24 | 3 |\n",
       "|  6 | 16716 | 3.435971 | 1 | 21 | 2 |\n",
       "|  7 | 16578 | 3.398524 | 1 | 21 | 2 |\n",
       "|  8 | 17212 | 3.448607 | 1 | 27 | 2 |\n",
       "|  9 | 17860 | 3.616117 | 1 | 26 | 3 |\n",
       "| 10 | 17333 | 3.429561 | 1 | 21 | 2 |\n",
       "| 11 | 17748 | 3.639869 | 1 | 25 | 3 |\n",
       "| 12 | 17197 | 3.583455 | 1 | 33 | 2 |\n",
       "\n"
      ],
      "text/plain": [
       "   발생월 사고건수합계 사고건수평균 사고건수최소값 사고건수최댓값\n",
       "1   1     14480        3.219924     1              23            \n",
       "2   2     13284        3.141911     1              26            \n",
       "3   3     16000        3.324330     1              26            \n",
       "4   4     16336        3.423303     1              27            \n",
       "5   5     17552        3.495718     1              24            \n",
       "6   6     16716        3.435971     1              21            \n",
       "7   7     16578        3.398524     1              21            \n",
       "8   8     17212        3.448607     1              27            \n",
       "9   9     17860        3.616117     1              26            \n",
       "10 10     17333        3.429561     1              21            \n",
       "11 11     17748        3.639869     1              25            \n",
       "12 12     17197        3.583455     1              33            \n",
       "   사고건수중앙값\n",
       "1  2             \n",
       "2  2             \n",
       "3  2             \n",
       "4  2             \n",
       "5  3             \n",
       "6  2             \n",
       "7  2             \n",
       "8  2             \n",
       "9  3             \n",
       "10 2             \n",
       "11 3             \n",
       "12 2             "
      ]
     },
     "metadata": {},
     "output_type": "display_data"
    }
   ],
   "source": [
    "# 17번\n",
    "library(dplyr)\n",
    "\n",
    "summary_result <- data %>%\n",
    "  group_by(발생월) %>%\n",
    "  summarise(\n",
    "    사고건수합계 = sum(사고건수),\n",
    "    사고건수평균 = mean(사고건수),\n",
    "    사고건수최소값 = min(사고건수),\n",
    "    사고건수최댓값 = max(사고건수),\n",
    "    사고건수중앙값 = median(사고건수)\n",
    "  )\n",
    "summary_result"
   ]
  },
  {
   "cell_type": "code",
   "execution_count": 19,
   "metadata": {
    "vscode": {
     "languageId": "r"
    }
   },
   "outputs": [
    {
     "data": {
      "text/html": [
       "<table class=\"dataframe\">\n",
       "<caption>A data.frame: 17 × 7</caption>\n",
       "<thead>\n",
       "\t<tr><th></th><th scope=col>시도</th><th scope=col>경상자수.length</th><th scope=col>경상자수.sum</th><th scope=col>경상자수.mean</th><th scope=col>경상자수.min</th><th scope=col>경상자수.max</th><th scope=col>경상자수.median</th></tr>\n",
       "\t<tr><th></th><th scope=col>&lt;chr&gt;</th><th scope=col>&lt;dbl&gt;</th><th scope=col>&lt;dbl&gt;</th><th scope=col>&lt;dbl&gt;</th><th scope=col>&lt;dbl&gt;</th><th scope=col>&lt;dbl&gt;</th><th scope=col>&lt;dbl&gt;</th></tr>\n",
       "</thead>\n",
       "<tbody>\n",
       "\t<tr><th scope=row>1</th><td>강원</td><td>3005</td><td> 6589</td><td>2.192679</td><td>0</td><td>23</td><td>1</td></tr>\n",
       "\t<tr><th scope=row>2</th><td>경기</td><td>9830</td><td>59220</td><td>6.024415</td><td>0</td><td>77</td><td>4</td></tr>\n",
       "\t<tr><th scope=row>3</th><td>경남</td><td>3915</td><td> 9982</td><td>2.549681</td><td>0</td><td>26</td><td>2</td></tr>\n",
       "\t<tr><th scope=row>4</th><td>경북</td><td>4439</td><td>10854</td><td>2.445145</td><td>0</td><td>25</td><td>2</td></tr>\n",
       "\t<tr><th scope=row>5</th><td>광주</td><td>1672</td><td> 8906</td><td>5.326555</td><td>0</td><td>32</td><td>5</td></tr>\n",
       "\t<tr><th scope=row>6</th><td>대구</td><td>2756</td><td>11568</td><td>4.197388</td><td>0</td><td>23</td><td>3</td></tr>\n",
       "\t<tr><th scope=row>7</th><td>대전</td><td>1736</td><td> 8703</td><td>5.013249</td><td>0</td><td>26</td><td>4</td></tr>\n",
       "\t<tr><th scope=row>8</th><td>부산</td><td>4703</td><td>10729</td><td>2.281310</td><td>0</td><td>26</td><td>2</td></tr>\n",
       "\t<tr><th scope=row>9</th><td>서울</td><td>8544</td><td>34065</td><td>3.987008</td><td>0</td><td>57</td><td>3</td></tr>\n",
       "\t<tr><th scope=row>10</th><td>세종</td><td> 341</td><td> 1026</td><td>3.008798</td><td>0</td><td>17</td><td>2</td></tr>\n",
       "\t<tr><th scope=row>11</th><td>울산</td><td>1542</td><td> 3475</td><td>2.253567</td><td>0</td><td>16</td><td>2</td></tr>\n",
       "\t<tr><th scope=row>12</th><td>인천</td><td>2572</td><td> 8215</td><td>3.194012</td><td>0</td><td>28</td><td>3</td></tr>\n",
       "\t<tr><th scope=row>13</th><td>전남</td><td>4149</td><td> 9781</td><td>2.357436</td><td>0</td><td>46</td><td>2</td></tr>\n",
       "\t<tr><th scope=row>14</th><td>전북</td><td>2411</td><td> 6412</td><td>2.659477</td><td>0</td><td>22</td><td>2</td></tr>\n",
       "\t<tr><th scope=row>15</th><td>제주</td><td> 719</td><td> 4138</td><td>5.755216</td><td>0</td><td>21</td><td>5</td></tr>\n",
       "\t<tr><th scope=row>16</th><td>충남</td><td>3161</td><td> 8999</td><td>2.846884</td><td>0</td><td>30</td><td>2</td></tr>\n",
       "\t<tr><th scope=row>17</th><td>충북</td><td>2238</td><td> 8907</td><td>3.979893</td><td>0</td><td>42</td><td>2</td></tr>\n",
       "</tbody>\n",
       "</table>\n"
      ],
      "text/latex": [
       "A data.frame: 17 × 7\n",
       "\\begin{tabular}{r|lllllll}\n",
       "  & 시도 & 경상자수.length & 경상자수.sum & 경상자수.mean & 경상자수.min & 경상자수.max & 경상자수.median\\\\\n",
       "  & <chr> & <dbl> & <dbl> & <dbl> & <dbl> & <dbl> & <dbl>\\\\\n",
       "\\hline\n",
       "\t1 & 강원 & 3005 &  6589 & 2.192679 & 0 & 23 & 1\\\\\n",
       "\t2 & 경기 & 9830 & 59220 & 6.024415 & 0 & 77 & 4\\\\\n",
       "\t3 & 경남 & 3915 &  9982 & 2.549681 & 0 & 26 & 2\\\\\n",
       "\t4 & 경북 & 4439 & 10854 & 2.445145 & 0 & 25 & 2\\\\\n",
       "\t5 & 광주 & 1672 &  8906 & 5.326555 & 0 & 32 & 5\\\\\n",
       "\t6 & 대구 & 2756 & 11568 & 4.197388 & 0 & 23 & 3\\\\\n",
       "\t7 & 대전 & 1736 &  8703 & 5.013249 & 0 & 26 & 4\\\\\n",
       "\t8 & 부산 & 4703 & 10729 & 2.281310 & 0 & 26 & 2\\\\\n",
       "\t9 & 서울 & 8544 & 34065 & 3.987008 & 0 & 57 & 3\\\\\n",
       "\t10 & 세종 &  341 &  1026 & 3.008798 & 0 & 17 & 2\\\\\n",
       "\t11 & 울산 & 1542 &  3475 & 2.253567 & 0 & 16 & 2\\\\\n",
       "\t12 & 인천 & 2572 &  8215 & 3.194012 & 0 & 28 & 3\\\\\n",
       "\t13 & 전남 & 4149 &  9781 & 2.357436 & 0 & 46 & 2\\\\\n",
       "\t14 & 전북 & 2411 &  6412 & 2.659477 & 0 & 22 & 2\\\\\n",
       "\t15 & 제주 &  719 &  4138 & 5.755216 & 0 & 21 & 5\\\\\n",
       "\t16 & 충남 & 3161 &  8999 & 2.846884 & 0 & 30 & 2\\\\\n",
       "\t17 & 충북 & 2238 &  8907 & 3.979893 & 0 & 42 & 2\\\\\n",
       "\\end{tabular}\n"
      ],
      "text/markdown": [
       "\n",
       "A data.frame: 17 × 7\n",
       "\n",
       "| <!--/--> | 시도 &lt;chr&gt; | 경상자수.length &lt;dbl&gt; | 경상자수.sum &lt;dbl&gt; | 경상자수.mean &lt;dbl&gt; | 경상자수.min &lt;dbl&gt; | 경상자수.max &lt;dbl&gt; | 경상자수.median &lt;dbl&gt; |\n",
       "|---|---|---|---|---|---|---|---|\n",
       "| 1 | 강원 | 3005 |  6589 | 2.192679 | 0 | 23 | 1 |\n",
       "| 2 | 경기 | 9830 | 59220 | 6.024415 | 0 | 77 | 4 |\n",
       "| 3 | 경남 | 3915 |  9982 | 2.549681 | 0 | 26 | 2 |\n",
       "| 4 | 경북 | 4439 | 10854 | 2.445145 | 0 | 25 | 2 |\n",
       "| 5 | 광주 | 1672 |  8906 | 5.326555 | 0 | 32 | 5 |\n",
       "| 6 | 대구 | 2756 | 11568 | 4.197388 | 0 | 23 | 3 |\n",
       "| 7 | 대전 | 1736 |  8703 | 5.013249 | 0 | 26 | 4 |\n",
       "| 8 | 부산 | 4703 | 10729 | 2.281310 | 0 | 26 | 2 |\n",
       "| 9 | 서울 | 8544 | 34065 | 3.987008 | 0 | 57 | 3 |\n",
       "| 10 | 세종 |  341 |  1026 | 3.008798 | 0 | 17 | 2 |\n",
       "| 11 | 울산 | 1542 |  3475 | 2.253567 | 0 | 16 | 2 |\n",
       "| 12 | 인천 | 2572 |  8215 | 3.194012 | 0 | 28 | 3 |\n",
       "| 13 | 전남 | 4149 |  9781 | 2.357436 | 0 | 46 | 2 |\n",
       "| 14 | 전북 | 2411 |  6412 | 2.659477 | 0 | 22 | 2 |\n",
       "| 15 | 제주 |  719 |  4138 | 5.755216 | 0 | 21 | 5 |\n",
       "| 16 | 충남 | 3161 |  8999 | 2.846884 | 0 | 30 | 2 |\n",
       "| 17 | 충북 | 2238 |  8907 | 3.979893 | 0 | 42 | 2 |\n",
       "\n"
      ],
      "text/plain": [
       "   시도 경상자수.length 경상자수.sum 경상자수.mean 경상자수.min 경상자수.max\n",
       "1  강원 3005             6589        2.192679      0            23          \n",
       "2  경기 9830            59220        6.024415      0            77          \n",
       "3  경남 3915             9982        2.549681      0            26          \n",
       "4  경북 4439            10854        2.445145      0            25          \n",
       "5  광주 1672             8906        5.326555      0            32          \n",
       "6  대구 2756            11568        4.197388      0            23          \n",
       "7  대전 1736             8703        5.013249      0            26          \n",
       "8  부산 4703            10729        2.281310      0            26          \n",
       "9  서울 8544            34065        3.987008      0            57          \n",
       "10 세종  341             1026        3.008798      0            17          \n",
       "11 울산 1542             3475        2.253567      0            16          \n",
       "12 인천 2572             8215        3.194012      0            28          \n",
       "13 전남 4149             9781        2.357436      0            46          \n",
       "14 전북 2411             6412        2.659477      0            22          \n",
       "15 제주  719             4138        5.755216      0            21          \n",
       "16 충남 3161             8999        2.846884      0            30          \n",
       "17 충북 2238             8907        3.979893      0            42          \n",
       "   경상자수.median\n",
       "1  1              \n",
       "2  4              \n",
       "3  2              \n",
       "4  2              \n",
       "5  5              \n",
       "6  3              \n",
       "7  4              \n",
       "8  2              \n",
       "9  3              \n",
       "10 2              \n",
       "11 2              \n",
       "12 3              \n",
       "13 2              \n",
       "14 2              \n",
       "15 5              \n",
       "16 2              \n",
       "17 2              "
      ]
     },
     "metadata": {},
     "output_type": "display_data"
    }
   ],
   "source": [
    "# 18번\n",
    "library(doBy)\n",
    "\n",
    "summary_result <- summaryBy(경상자수 ~ 시도, \n",
    "                            data = data,\n",
    "                            FUN = c(length, sum, mean, min, max, median))\n",
    "summary_result"
   ]
  },
  {
   "cell_type": "code",
   "execution_count": 20,
   "metadata": {
    "vscode": {
     "languageId": "r"
    }
   },
   "outputs": [
    {
     "data": {
      "text/html": [
       "<table class=\"dataframe\">\n",
       "<caption>A tibble: 17 × 6</caption>\n",
       "<thead>\n",
       "\t<tr><th scope=col>시도</th><th scope=col>사고건수합계</th><th scope=col>사망자수합계</th><th scope=col>경상자수합계</th><th scope=col>중상자수합계</th><th scope=col>사고건수건수</th></tr>\n",
       "\t<tr><th scope=col>&lt;chr&gt;</th><th scope=col>&lt;int&gt;</th><th scope=col>&lt;int&gt;</th><th scope=col>&lt;int&gt;</th><th scope=col>&lt;int&gt;</th><th scope=col>&lt;int&gt;</th></tr>\n",
       "</thead>\n",
       "<tbody>\n",
       "\t<tr><td>강원</td><td> 6079</td><td>140</td><td> 6589</td><td> 1904</td><td>3005</td></tr>\n",
       "\t<tr><td>경기</td><td>53164</td><td>502</td><td>59220</td><td>12724</td><td>9830</td></tr>\n",
       "\t<tr><td>경남</td><td>11122</td><td>237</td><td> 9982</td><td> 4412</td><td>3915</td></tr>\n",
       "\t<tr><td>경북</td><td>10777</td><td>263</td><td>10854</td><td> 3748</td><td>4439</td></tr>\n",
       "\t<tr><td>광주</td><td> 6972</td><td> 48</td><td> 8906</td><td> 1094</td><td>1672</td></tr>\n",
       "\t<tr><td>대구</td><td>10880</td><td> 86</td><td>11568</td><td> 2685</td><td>2756</td></tr>\n",
       "\t<tr><td>대전</td><td> 7398</td><td> 61</td><td> 8703</td><td> 1559</td><td>1736</td></tr>\n",
       "\t<tr><td>부산</td><td>11003</td><td>103</td><td>10729</td><td> 3319</td><td>4703</td></tr>\n",
       "\t<tr><td>서울</td><td>33811</td><td>180</td><td>34065</td><td> 7809</td><td>8544</td></tr>\n",
       "\t<tr><td>세종</td><td> 1166</td><td> 13</td><td> 1026</td><td>  316</td><td> 341</td></tr>\n",
       "\t<tr><td>울산</td><td> 3664</td><td> 40</td><td> 3475</td><td> 1257</td><td>1542</td></tr>\n",
       "\t<tr><td>인천</td><td> 7648</td><td> 83</td><td> 8215</td><td> 1732</td><td>2572</td></tr>\n",
       "\t<tr><td>전남</td><td> 8287</td><td>227</td><td> 9781</td><td> 2284</td><td>4149</td></tr>\n",
       "\t<tr><td>전북</td><td> 5830</td><td>171</td><td> 6412</td><td> 1842</td><td>2411</td></tr>\n",
       "\t<tr><td>제주</td><td> 3950</td><td> 45</td><td> 4138</td><td> 1138</td><td> 719</td></tr>\n",
       "\t<tr><td>충남</td><td> 8606</td><td>198</td><td> 8999</td><td> 2728</td><td>3161</td></tr>\n",
       "\t<tr><td>충북</td><td> 7939</td><td>154</td><td> 8907</td><td> 2438</td><td>2238</td></tr>\n",
       "</tbody>\n",
       "</table>\n"
      ],
      "text/latex": [
       "A tibble: 17 × 6\n",
       "\\begin{tabular}{llllll}\n",
       " 시도 & 사고건수합계 & 사망자수합계 & 경상자수합계 & 중상자수합계 & 사고건수건수\\\\\n",
       " <chr> & <int> & <int> & <int> & <int> & <int>\\\\\n",
       "\\hline\n",
       "\t 강원 &  6079 & 140 &  6589 &  1904 & 3005\\\\\n",
       "\t 경기 & 53164 & 502 & 59220 & 12724 & 9830\\\\\n",
       "\t 경남 & 11122 & 237 &  9982 &  4412 & 3915\\\\\n",
       "\t 경북 & 10777 & 263 & 10854 &  3748 & 4439\\\\\n",
       "\t 광주 &  6972 &  48 &  8906 &  1094 & 1672\\\\\n",
       "\t 대구 & 10880 &  86 & 11568 &  2685 & 2756\\\\\n",
       "\t 대전 &  7398 &  61 &  8703 &  1559 & 1736\\\\\n",
       "\t 부산 & 11003 & 103 & 10729 &  3319 & 4703\\\\\n",
       "\t 서울 & 33811 & 180 & 34065 &  7809 & 8544\\\\\n",
       "\t 세종 &  1166 &  13 &  1026 &   316 &  341\\\\\n",
       "\t 울산 &  3664 &  40 &  3475 &  1257 & 1542\\\\\n",
       "\t 인천 &  7648 &  83 &  8215 &  1732 & 2572\\\\\n",
       "\t 전남 &  8287 & 227 &  9781 &  2284 & 4149\\\\\n",
       "\t 전북 &  5830 & 171 &  6412 &  1842 & 2411\\\\\n",
       "\t 제주 &  3950 &  45 &  4138 &  1138 &  719\\\\\n",
       "\t 충남 &  8606 & 198 &  8999 &  2728 & 3161\\\\\n",
       "\t 충북 &  7939 & 154 &  8907 &  2438 & 2238\\\\\n",
       "\\end{tabular}\n"
      ],
      "text/markdown": [
       "\n",
       "A tibble: 17 × 6\n",
       "\n",
       "| 시도 &lt;chr&gt; | 사고건수합계 &lt;int&gt; | 사망자수합계 &lt;int&gt; | 경상자수합계 &lt;int&gt; | 중상자수합계 &lt;int&gt; | 사고건수건수 &lt;int&gt; |\n",
       "|---|---|---|---|---|---|\n",
       "| 강원 |  6079 | 140 |  6589 |  1904 | 3005 |\n",
       "| 경기 | 53164 | 502 | 59220 | 12724 | 9830 |\n",
       "| 경남 | 11122 | 237 |  9982 |  4412 | 3915 |\n",
       "| 경북 | 10777 | 263 | 10854 |  3748 | 4439 |\n",
       "| 광주 |  6972 |  48 |  8906 |  1094 | 1672 |\n",
       "| 대구 | 10880 |  86 | 11568 |  2685 | 2756 |\n",
       "| 대전 |  7398 |  61 |  8703 |  1559 | 1736 |\n",
       "| 부산 | 11003 | 103 | 10729 |  3319 | 4703 |\n",
       "| 서울 | 33811 | 180 | 34065 |  7809 | 8544 |\n",
       "| 세종 |  1166 |  13 |  1026 |   316 |  341 |\n",
       "| 울산 |  3664 |  40 |  3475 |  1257 | 1542 |\n",
       "| 인천 |  7648 |  83 |  8215 |  1732 | 2572 |\n",
       "| 전남 |  8287 | 227 |  9781 |  2284 | 4149 |\n",
       "| 전북 |  5830 | 171 |  6412 |  1842 | 2411 |\n",
       "| 제주 |  3950 |  45 |  4138 |  1138 |  719 |\n",
       "| 충남 |  8606 | 198 |  8999 |  2728 | 3161 |\n",
       "| 충북 |  7939 | 154 |  8907 |  2438 | 2238 |\n",
       "\n"
      ],
      "text/plain": [
       "   시도 사고건수합계 사망자수합계 경상자수합계 중상자수합계 사고건수건수\n",
       "1  강원  6079        140           6589         1904        3005        \n",
       "2  경기 53164        502          59220        12724        9830        \n",
       "3  경남 11122        237           9982         4412        3915        \n",
       "4  경북 10777        263          10854         3748        4439        \n",
       "5  광주  6972         48           8906         1094        1672        \n",
       "6  대구 10880         86          11568         2685        2756        \n",
       "7  대전  7398         61           8703         1559        1736        \n",
       "8  부산 11003        103          10729         3319        4703        \n",
       "9  서울 33811        180          34065         7809        8544        \n",
       "10 세종  1166         13           1026          316         341        \n",
       "11 울산  3664         40           3475         1257        1542        \n",
       "12 인천  7648         83           8215         1732        2572        \n",
       "13 전남  8287        227           9781         2284        4149        \n",
       "14 전북  5830        171           6412         1842        2411        \n",
       "15 제주  3950         45           4138         1138         719        \n",
       "16 충남  8606        198           8999         2728        3161        \n",
       "17 충북  7939        154           8907         2438        2238        "
      ]
     },
     "metadata": {},
     "output_type": "display_data"
    }
   ],
   "source": [
    "# 19번\n",
    "library(dplyr)\n",
    "\n",
    "summary_result <- data %>%\n",
    "  group_by(시도) %>%\n",
    "  summarise(\n",
    "    사고건수합계 = sum(사고건수),\n",
    "    사망자수합계 = sum(사망자수),\n",
    "    경상자수합계 = sum(경상자수),\n",
    "    중상자수합계 = sum(중상자수),\n",
    "    사고건수건수 = n()\n",
    "  )\n",
    "summary_result"
   ]
  },
  {
   "cell_type": "code",
   "execution_count": 21,
   "metadata": {
    "vscode": {
     "languageId": "r"
    }
   },
   "outputs": [
    {
     "data": {
      "text/html": [
       "<table class=\"dataframe\">\n",
       "<caption>A matrix: 17 × 12 of type dbl</caption>\n",
       "<thead>\n",
       "\t<tr><th></th><th scope=col>1</th><th scope=col>2</th><th scope=col>3</th><th scope=col>4</th><th scope=col>5</th><th scope=col>6</th><th scope=col>7</th><th scope=col>8</th><th scope=col>9</th><th scope=col>10</th><th scope=col>11</th><th scope=col>12</th></tr>\n",
       "</thead>\n",
       "<tbody>\n",
       "\t<tr><th scope=row>강원</th><td>2.023923</td><td>1.945813</td><td>1.972477</td><td>1.952586</td><td>2.166038</td><td>1.996324</td><td>1.897810</td><td>2.107639</td><td>2.086643</td><td>2.003584</td><td>2.098712</td><td>1.992157</td></tr>\n",
       "\t<tr><th scope=row>경기</th><td>5.066998</td><td>4.835358</td><td>5.152174</td><td>5.309963</td><td>5.559905</td><td>5.350856</td><td>5.186747</td><td>5.494700</td><td>5.896933</td><td>5.405244</td><td>5.885366</td><td>5.692029</td></tr>\n",
       "\t<tr><th scope=row>경남</th><td>2.546713</td><td>2.695205</td><td>2.903537</td><td>3.003155</td><td>2.815249</td><td>2.753709</td><td>2.856716</td><td>2.767442</td><td>2.982558</td><td>2.701117</td><td>2.935385</td><td>3.105590</td></tr>\n",
       "\t<tr><th scope=row>경북</th><td>2.432099</td><td>2.169872</td><td>2.374677</td><td>2.471545</td><td>2.450980</td><td>2.360202</td><td>2.535912</td><td>2.563187</td><td>2.482323</td><td>2.398458</td><td>2.456464</td><td>2.403409</td></tr>\n",
       "\t<tr><th scope=row>광주</th><td>3.500000</td><td>3.801653</td><td>4.159722</td><td>4.366906</td><td>4.482014</td><td>4.014388</td><td>4.219858</td><td>3.979452</td><td>4.661871</td><td>4.125000</td><td>4.425532</td><td>4.244755</td></tr>\n",
       "\t<tr><th scope=row>대구</th><td>3.616740</td><td>3.829268</td><td>3.895652</td><td>4.096916</td><td>4.142241</td><td>4.295964</td><td>4.046414</td><td>3.846809</td><td>3.938596</td><td>3.942387</td><td>3.974026</td><td>3.747899</td></tr>\n",
       "\t<tr><th scope=row>대전</th><td>3.758621</td><td>3.846154</td><td>4.047297</td><td>4.111888</td><td>4.645833</td><td>4.358621</td><td>4.226027</td><td>4.184932</td><td>4.708333</td><td>4.108108</td><td>4.986577</td><td>4.108108</td></tr>\n",
       "\t<tr><th scope=row>부산</th><td>2.125326</td><td>2.241573</td><td>2.307305</td><td>2.347500</td><td>2.354217</td><td>2.377892</td><td>2.330049</td><td>2.324675</td><td>2.421053</td><td>2.340796</td><td>2.408521</td><td>2.483376</td></tr>\n",
       "\t<tr><th scope=row>서울</th><td>3.567797</td><td>3.544323</td><td>3.655556</td><td>3.860955</td><td>3.967213</td><td>4.005682</td><td>3.864828</td><td>4.090153</td><td>4.284703</td><td>4.191989</td><td>4.246499</td><td>4.160544</td></tr>\n",
       "\t<tr><th scope=row>세종</th><td>3.038462</td><td>3.120000</td><td>3.366667</td><td>3.464286</td><td>3.566667</td><td>4.103448</td><td>3.068966</td><td>3.500000</td><td>4.000000</td><td>3.400000</td><td>3.384615</td><td>2.967742</td></tr>\n",
       "\t<tr><th scope=row>울산</th><td>2.224000</td><td>2.078261</td><td>2.226277</td><td>2.448000</td><td>2.640625</td><td>2.358779</td><td>2.371212</td><td>2.409449</td><td>2.461538</td><td>2.350000</td><td>2.424000</td><td>2.503937</td></tr>\n",
       "\t<tr><th scope=row>인천</th><td>2.917874</td><td>2.494845</td><td>3.066667</td><td>2.985149</td><td>2.943231</td><td>3.172249</td><td>2.995392</td><td>2.799107</td><td>3.125000</td><td>2.764706</td><td>3.000000</td><td>3.386047</td></tr>\n",
       "\t<tr><th scope=row>전남</th><td>1.874150</td><td>1.850000</td><td>1.973988</td><td>2.023188</td><td>2.059621</td><td>2.082840</td><td>2.009036</td><td>1.908356</td><td>2.057534</td><td>2.046322</td><td>2.032000</td><td>2.008646</td></tr>\n",
       "\t<tr><th scope=row>전북</th><td>2.329341</td><td>2.209877</td><td>2.554404</td><td>2.490196</td><td>2.407407</td><td>2.242009</td><td>2.527094</td><td>2.431193</td><td>2.227273</td><td>2.509524</td><td>2.586047</td><td>2.472826</td></tr>\n",
       "\t<tr><th scope=row>제주</th><td>4.672131</td><td>4.732143</td><td>5.064516</td><td>5.385965</td><td>5.213115</td><td>5.706897</td><td>5.080645</td><td>6.650000</td><td>5.800000</td><td>6.080645</td><td>6.186441</td><td>5.344262</td></tr>\n",
       "\t<tr><th scope=row>충남</th><td>2.400000</td><td>2.599078</td><td>2.585271</td><td>2.638376</td><td>2.616788</td><td>2.755725</td><td>2.841085</td><td>2.695804</td><td>2.883959</td><td>2.678201</td><td>3.036496</td><td>2.877049</td></tr>\n",
       "\t<tr><th scope=row>충북</th><td>3.335484</td><td>3.057692</td><td>3.279330</td><td>3.484043</td><td>3.912821</td><td>3.584615</td><td>3.592593</td><td>3.396985</td><td>3.822335</td><td>3.502392</td><td>3.661616</td><td>3.797753</td></tr>\n",
       "</tbody>\n",
       "</table>\n"
      ],
      "text/latex": [
       "A matrix: 17 × 12 of type dbl\n",
       "\\begin{tabular}{r|llllllllllll}\n",
       "  & 1 & 2 & 3 & 4 & 5 & 6 & 7 & 8 & 9 & 10 & 11 & 12\\\\\n",
       "\\hline\n",
       "\t강원 & 2.023923 & 1.945813 & 1.972477 & 1.952586 & 2.166038 & 1.996324 & 1.897810 & 2.107639 & 2.086643 & 2.003584 & 2.098712 & 1.992157\\\\\n",
       "\t경기 & 5.066998 & 4.835358 & 5.152174 & 5.309963 & 5.559905 & 5.350856 & 5.186747 & 5.494700 & 5.896933 & 5.405244 & 5.885366 & 5.692029\\\\\n",
       "\t경남 & 2.546713 & 2.695205 & 2.903537 & 3.003155 & 2.815249 & 2.753709 & 2.856716 & 2.767442 & 2.982558 & 2.701117 & 2.935385 & 3.105590\\\\\n",
       "\t경북 & 2.432099 & 2.169872 & 2.374677 & 2.471545 & 2.450980 & 2.360202 & 2.535912 & 2.563187 & 2.482323 & 2.398458 & 2.456464 & 2.403409\\\\\n",
       "\t광주 & 3.500000 & 3.801653 & 4.159722 & 4.366906 & 4.482014 & 4.014388 & 4.219858 & 3.979452 & 4.661871 & 4.125000 & 4.425532 & 4.244755\\\\\n",
       "\t대구 & 3.616740 & 3.829268 & 3.895652 & 4.096916 & 4.142241 & 4.295964 & 4.046414 & 3.846809 & 3.938596 & 3.942387 & 3.974026 & 3.747899\\\\\n",
       "\t대전 & 3.758621 & 3.846154 & 4.047297 & 4.111888 & 4.645833 & 4.358621 & 4.226027 & 4.184932 & 4.708333 & 4.108108 & 4.986577 & 4.108108\\\\\n",
       "\t부산 & 2.125326 & 2.241573 & 2.307305 & 2.347500 & 2.354217 & 2.377892 & 2.330049 & 2.324675 & 2.421053 & 2.340796 & 2.408521 & 2.483376\\\\\n",
       "\t서울 & 3.567797 & 3.544323 & 3.655556 & 3.860955 & 3.967213 & 4.005682 & 3.864828 & 4.090153 & 4.284703 & 4.191989 & 4.246499 & 4.160544\\\\\n",
       "\t세종 & 3.038462 & 3.120000 & 3.366667 & 3.464286 & 3.566667 & 4.103448 & 3.068966 & 3.500000 & 4.000000 & 3.400000 & 3.384615 & 2.967742\\\\\n",
       "\t울산 & 2.224000 & 2.078261 & 2.226277 & 2.448000 & 2.640625 & 2.358779 & 2.371212 & 2.409449 & 2.461538 & 2.350000 & 2.424000 & 2.503937\\\\\n",
       "\t인천 & 2.917874 & 2.494845 & 3.066667 & 2.985149 & 2.943231 & 3.172249 & 2.995392 & 2.799107 & 3.125000 & 2.764706 & 3.000000 & 3.386047\\\\\n",
       "\t전남 & 1.874150 & 1.850000 & 1.973988 & 2.023188 & 2.059621 & 2.082840 & 2.009036 & 1.908356 & 2.057534 & 2.046322 & 2.032000 & 2.008646\\\\\n",
       "\t전북 & 2.329341 & 2.209877 & 2.554404 & 2.490196 & 2.407407 & 2.242009 & 2.527094 & 2.431193 & 2.227273 & 2.509524 & 2.586047 & 2.472826\\\\\n",
       "\t제주 & 4.672131 & 4.732143 & 5.064516 & 5.385965 & 5.213115 & 5.706897 & 5.080645 & 6.650000 & 5.800000 & 6.080645 & 6.186441 & 5.344262\\\\\n",
       "\t충남 & 2.400000 & 2.599078 & 2.585271 & 2.638376 & 2.616788 & 2.755725 & 2.841085 & 2.695804 & 2.883959 & 2.678201 & 3.036496 & 2.877049\\\\\n",
       "\t충북 & 3.335484 & 3.057692 & 3.279330 & 3.484043 & 3.912821 & 3.584615 & 3.592593 & 3.396985 & 3.822335 & 3.502392 & 3.661616 & 3.797753\\\\\n",
       "\\end{tabular}\n"
      ],
      "text/markdown": [
       "\n",
       "A matrix: 17 × 12 of type dbl\n",
       "\n",
       "| <!--/--> | 1 | 2 | 3 | 4 | 5 | 6 | 7 | 8 | 9 | 10 | 11 | 12 |\n",
       "|---|---|---|---|---|---|---|---|---|---|---|---|---|\n",
       "| 강원 | 2.023923 | 1.945813 | 1.972477 | 1.952586 | 2.166038 | 1.996324 | 1.897810 | 2.107639 | 2.086643 | 2.003584 | 2.098712 | 1.992157 |\n",
       "| 경기 | 5.066998 | 4.835358 | 5.152174 | 5.309963 | 5.559905 | 5.350856 | 5.186747 | 5.494700 | 5.896933 | 5.405244 | 5.885366 | 5.692029 |\n",
       "| 경남 | 2.546713 | 2.695205 | 2.903537 | 3.003155 | 2.815249 | 2.753709 | 2.856716 | 2.767442 | 2.982558 | 2.701117 | 2.935385 | 3.105590 |\n",
       "| 경북 | 2.432099 | 2.169872 | 2.374677 | 2.471545 | 2.450980 | 2.360202 | 2.535912 | 2.563187 | 2.482323 | 2.398458 | 2.456464 | 2.403409 |\n",
       "| 광주 | 3.500000 | 3.801653 | 4.159722 | 4.366906 | 4.482014 | 4.014388 | 4.219858 | 3.979452 | 4.661871 | 4.125000 | 4.425532 | 4.244755 |\n",
       "| 대구 | 3.616740 | 3.829268 | 3.895652 | 4.096916 | 4.142241 | 4.295964 | 4.046414 | 3.846809 | 3.938596 | 3.942387 | 3.974026 | 3.747899 |\n",
       "| 대전 | 3.758621 | 3.846154 | 4.047297 | 4.111888 | 4.645833 | 4.358621 | 4.226027 | 4.184932 | 4.708333 | 4.108108 | 4.986577 | 4.108108 |\n",
       "| 부산 | 2.125326 | 2.241573 | 2.307305 | 2.347500 | 2.354217 | 2.377892 | 2.330049 | 2.324675 | 2.421053 | 2.340796 | 2.408521 | 2.483376 |\n",
       "| 서울 | 3.567797 | 3.544323 | 3.655556 | 3.860955 | 3.967213 | 4.005682 | 3.864828 | 4.090153 | 4.284703 | 4.191989 | 4.246499 | 4.160544 |\n",
       "| 세종 | 3.038462 | 3.120000 | 3.366667 | 3.464286 | 3.566667 | 4.103448 | 3.068966 | 3.500000 | 4.000000 | 3.400000 | 3.384615 | 2.967742 |\n",
       "| 울산 | 2.224000 | 2.078261 | 2.226277 | 2.448000 | 2.640625 | 2.358779 | 2.371212 | 2.409449 | 2.461538 | 2.350000 | 2.424000 | 2.503937 |\n",
       "| 인천 | 2.917874 | 2.494845 | 3.066667 | 2.985149 | 2.943231 | 3.172249 | 2.995392 | 2.799107 | 3.125000 | 2.764706 | 3.000000 | 3.386047 |\n",
       "| 전남 | 1.874150 | 1.850000 | 1.973988 | 2.023188 | 2.059621 | 2.082840 | 2.009036 | 1.908356 | 2.057534 | 2.046322 | 2.032000 | 2.008646 |\n",
       "| 전북 | 2.329341 | 2.209877 | 2.554404 | 2.490196 | 2.407407 | 2.242009 | 2.527094 | 2.431193 | 2.227273 | 2.509524 | 2.586047 | 2.472826 |\n",
       "| 제주 | 4.672131 | 4.732143 | 5.064516 | 5.385965 | 5.213115 | 5.706897 | 5.080645 | 6.650000 | 5.800000 | 6.080645 | 6.186441 | 5.344262 |\n",
       "| 충남 | 2.400000 | 2.599078 | 2.585271 | 2.638376 | 2.616788 | 2.755725 | 2.841085 | 2.695804 | 2.883959 | 2.678201 | 3.036496 | 2.877049 |\n",
       "| 충북 | 3.335484 | 3.057692 | 3.279330 | 3.484043 | 3.912821 | 3.584615 | 3.592593 | 3.396985 | 3.822335 | 3.502392 | 3.661616 | 3.797753 |\n",
       "\n"
      ],
      "text/plain": [
       "     1        2        3        4        5        6        7        8       \n",
       "강원 2.023923 1.945813 1.972477 1.952586 2.166038 1.996324 1.897810 2.107639\n",
       "경기 5.066998 4.835358 5.152174 5.309963 5.559905 5.350856 5.186747 5.494700\n",
       "경남 2.546713 2.695205 2.903537 3.003155 2.815249 2.753709 2.856716 2.767442\n",
       "경북 2.432099 2.169872 2.374677 2.471545 2.450980 2.360202 2.535912 2.563187\n",
       "광주 3.500000 3.801653 4.159722 4.366906 4.482014 4.014388 4.219858 3.979452\n",
       "대구 3.616740 3.829268 3.895652 4.096916 4.142241 4.295964 4.046414 3.846809\n",
       "대전 3.758621 3.846154 4.047297 4.111888 4.645833 4.358621 4.226027 4.184932\n",
       "부산 2.125326 2.241573 2.307305 2.347500 2.354217 2.377892 2.330049 2.324675\n",
       "서울 3.567797 3.544323 3.655556 3.860955 3.967213 4.005682 3.864828 4.090153\n",
       "세종 3.038462 3.120000 3.366667 3.464286 3.566667 4.103448 3.068966 3.500000\n",
       "울산 2.224000 2.078261 2.226277 2.448000 2.640625 2.358779 2.371212 2.409449\n",
       "인천 2.917874 2.494845 3.066667 2.985149 2.943231 3.172249 2.995392 2.799107\n",
       "전남 1.874150 1.850000 1.973988 2.023188 2.059621 2.082840 2.009036 1.908356\n",
       "전북 2.329341 2.209877 2.554404 2.490196 2.407407 2.242009 2.527094 2.431193\n",
       "제주 4.672131 4.732143 5.064516 5.385965 5.213115 5.706897 5.080645 6.650000\n",
       "충남 2.400000 2.599078 2.585271 2.638376 2.616788 2.755725 2.841085 2.695804\n",
       "충북 3.335484 3.057692 3.279330 3.484043 3.912821 3.584615 3.592593 3.396985\n",
       "     9        10       11       12      \n",
       "강원 2.086643 2.003584 2.098712 1.992157\n",
       "경기 5.896933 5.405244 5.885366 5.692029\n",
       "경남 2.982558 2.701117 2.935385 3.105590\n",
       "경북 2.482323 2.398458 2.456464 2.403409\n",
       "광주 4.661871 4.125000 4.425532 4.244755\n",
       "대구 3.938596 3.942387 3.974026 3.747899\n",
       "대전 4.708333 4.108108 4.986577 4.108108\n",
       "부산 2.421053 2.340796 2.408521 2.483376\n",
       "서울 4.284703 4.191989 4.246499 4.160544\n",
       "세종 4.000000 3.400000 3.384615 2.967742\n",
       "울산 2.461538 2.350000 2.424000 2.503937\n",
       "인천 3.125000 2.764706 3.000000 3.386047\n",
       "전남 2.057534 2.046322 2.032000 2.008646\n",
       "전북 2.227273 2.509524 2.586047 2.472826\n",
       "제주 5.800000 6.080645 6.186441 5.344262\n",
       "충남 2.883959 2.678201 3.036496 2.877049\n",
       "충북 3.822335 3.502392 3.661616 3.797753"
      ]
     },
     "metadata": {},
     "output_type": "display_data"
    }
   ],
   "source": [
    "# 20번\n",
    "pivot_table <- tapply(data$사고건수, list(data$시도, data$발생월), mean, na.rm = TRUE)\n",
    "pivot_table"
   ]
  },
  {
   "cell_type": "code",
   "execution_count": 22,
   "metadata": {
    "vscode": {
     "languageId": "r"
    }
   },
   "outputs": [
    {
     "data": {
      "text/plain": [
       "\n",
       "  강원 동해시 경기 남양주시 경기 동두천시   경기 성남시   경기 하남시 \n",
       "          213           359           204           365           351 \n",
       "  경북 안동시   전북 남원시 제주 서귀포시   충남 서산시 \n",
       "          316           194           354           300 "
      ]
     },
     "metadata": {},
     "output_type": "display_data"
    }
   ],
   "source": [
    "# 21번\n",
    "library(dplyr)\n",
    "\n",
    "news <- data %>%\n",
    "  filter(grepl(\"동|서|남|북\", 시군구) & grepl(\"시$\", 시군구))\n",
    "\n",
    "table(news$지역)"
   ]
  },
  {
   "cell_type": "code",
   "execution_count": 23,
   "metadata": {
    "vscode": {
     "languageId": "r"
    }
   },
   "outputs": [
    {
     "data": {
      "text/html": [
       "<table class=\"dataframe\">\n",
       "<caption>A data.frame: 230 × 6</caption>\n",
       "<thead>\n",
       "\t<tr><th></th><th scope=col>지역</th><th scope=col>경상자수.sum</th><th scope=col>경상자수.mean</th><th scope=col>경상자수.max</th><th scope=col>경상자수.min</th><th scope=col>경상자수.median</th></tr>\n",
       "\t<tr><th></th><th scope=col>&lt;chr&gt;</th><th scope=col>&lt;dbl&gt;</th><th scope=col>&lt;dbl&gt;</th><th scope=col>&lt;dbl&gt;</th><th scope=col>&lt;dbl&gt;</th><th scope=col>&lt;dbl&gt;</th></tr>\n",
       "</thead>\n",
       "<tbody>\n",
       "\t<tr><th scope=row>1</th><td>강원 강릉시  </td><td> 834</td><td> 2.673077</td><td>17</td><td>0</td><td> 2</td></tr>\n",
       "\t<tr><th scope=row>2</th><td>강원 고성군  </td><td>  95</td><td> 1.010638</td><td> 5</td><td>0</td><td> 1</td></tr>\n",
       "\t<tr><th scope=row>3</th><td>강원 동해시  </td><td> 336</td><td> 1.577465</td><td> 7</td><td>0</td><td> 1</td></tr>\n",
       "\t<tr><th scope=row>4</th><td>강원 삼척시  </td><td> 214</td><td> 1.407895</td><td> 7</td><td>0</td><td> 1</td></tr>\n",
       "\t<tr><th scope=row>5</th><td>강원 속초시  </td><td> 378</td><td> 1.680000</td><td>10</td><td>0</td><td> 1</td></tr>\n",
       "\t<tr><th scope=row>6</th><td>강원 양구군  </td><td>  91</td><td> 1.109756</td><td> 7</td><td>0</td><td> 0</td></tr>\n",
       "\t<tr><th scope=row>7</th><td>강원 양양군  </td><td> 199</td><td> 1.592000</td><td> 6</td><td>0</td><td> 1</td></tr>\n",
       "\t<tr><th scope=row>8</th><td>강원 영월군  </td><td> 141</td><td> 1.226087</td><td> 6</td><td>0</td><td> 1</td></tr>\n",
       "\t<tr><th scope=row>9</th><td>강원 원주시  </td><td>1615</td><td> 4.562147</td><td>14</td><td>0</td><td> 4</td></tr>\n",
       "\t<tr><th scope=row>10</th><td>강원 인제군  </td><td> 118</td><td> 1.311111</td><td> 7</td><td>0</td><td> 1</td></tr>\n",
       "\t<tr><th scope=row>11</th><td>강원 정선군  </td><td> 209</td><td> 1.620155</td><td> 7</td><td>0</td><td> 1</td></tr>\n",
       "\t<tr><th scope=row>12</th><td>강원 철원군  </td><td> 134</td><td> 1.340000</td><td> 6</td><td>0</td><td> 1</td></tr>\n",
       "\t<tr><th scope=row>13</th><td>강원 춘천시  </td><td>1125</td><td> 3.205128</td><td>14</td><td>0</td><td> 3</td></tr>\n",
       "\t<tr><th scope=row>14</th><td>강원 태백시  </td><td> 269</td><td> 1.781457</td><td>13</td><td>0</td><td> 1</td></tr>\n",
       "\t<tr><th scope=row>15</th><td>강원 평창군  </td><td> 238</td><td> 1.712230</td><td>10</td><td>0</td><td> 1</td></tr>\n",
       "\t<tr><th scope=row>16</th><td>강원 홍천군  </td><td> 321</td><td> 2.018868</td><td>23</td><td>0</td><td> 1</td></tr>\n",
       "\t<tr><th scope=row>17</th><td>강원 화천군  </td><td> 109</td><td> 1.434211</td><td> 6</td><td>0</td><td> 1</td></tr>\n",
       "\t<tr><th scope=row>18</th><td>강원 횡성군  </td><td> 163</td><td> 1.181159</td><td> 8</td><td>0</td><td> 1</td></tr>\n",
       "\t<tr><th scope=row>19</th><td>경기 가평군  </td><td> 443</td><td> 1.995495</td><td> 9</td><td>0</td><td> 1</td></tr>\n",
       "\t<tr><th scope=row>20</th><td>경기 고양시  </td><td>4071</td><td>11.153425</td><td>40</td><td>1</td><td>11</td></tr>\n",
       "\t<tr><th scope=row>21</th><td>경기 과천시  </td><td> 172</td><td> 1.333333</td><td> 4</td><td>0</td><td> 1</td></tr>\n",
       "\t<tr><th scope=row>22</th><td>경기 광명시  </td><td>1085</td><td> 3.144928</td><td>13</td><td>0</td><td> 3</td></tr>\n",
       "\t<tr><th scope=row>23</th><td>경기 광주시  </td><td>2536</td><td> 6.967033</td><td>19</td><td>0</td><td> 6</td></tr>\n",
       "\t<tr><th scope=row>24</th><td>경기 구리시  </td><td> 813</td><td> 2.648208</td><td>11</td><td>0</td><td> 2</td></tr>\n",
       "\t<tr><th scope=row>25</th><td>경기 군포시  </td><td> 480</td><td> 1.784387</td><td>15</td><td>0</td><td> 1</td></tr>\n",
       "\t<tr><th scope=row>26</th><td>경기 김포시  </td><td>2096</td><td> 5.790055</td><td>22</td><td>0</td><td> 5</td></tr>\n",
       "\t<tr><th scope=row>27</th><td>경기 남양주시</td><td>2270</td><td> 6.323120</td><td>23</td><td>0</td><td> 6</td></tr>\n",
       "\t<tr><th scope=row>28</th><td>경기 동두천시</td><td> 326</td><td> 1.598039</td><td> 8</td><td>0</td><td> 1</td></tr>\n",
       "\t<tr><th scope=row>29</th><td>경기 부천시  </td><td>3683</td><td>10.090411</td><td>28</td><td>0</td><td> 9</td></tr>\n",
       "\t<tr><th scope=row>30</th><td>경기 성남시  </td><td>4301</td><td>11.783562</td><td>47</td><td>1</td><td>11</td></tr>\n",
       "\t<tr><th scope=row>⋮</th><td>⋮</td><td>⋮</td><td>⋮</td><td>⋮</td><td>⋮</td><td>⋮</td></tr>\n",
       "\t<tr><th scope=row>201</th><td>전북 정읍시  </td><td> 400</td><td> 1.8348624</td><td>13</td><td>0</td><td> 1</td></tr>\n",
       "\t<tr><th scope=row>202</th><td>전북 진안군  </td><td> 100</td><td> 1.2345679</td><td> 5</td><td>0</td><td> 1</td></tr>\n",
       "\t<tr><th scope=row>203</th><td>제주 서귀포시</td><td>1294</td><td> 3.6553672</td><td>13</td><td>0</td><td> 3</td></tr>\n",
       "\t<tr><th scope=row>204</th><td>제주 제주시  </td><td>2844</td><td> 7.7917808</td><td>21</td><td>0</td><td> 7</td></tr>\n",
       "\t<tr><th scope=row>205</th><td>충남 계룡시  </td><td>  75</td><td> 1.3636364</td><td> 5</td><td>0</td><td> 1</td></tr>\n",
       "\t<tr><th scope=row>206</th><td>충남 공주시  </td><td> 465</td><td> 1.7953668</td><td>17</td><td>0</td><td> 1</td></tr>\n",
       "\t<tr><th scope=row>207</th><td>충남 금산군  </td><td> 117</td><td> 1.0540541</td><td> 6</td><td>0</td><td> 1</td></tr>\n",
       "\t<tr><th scope=row>208</th><td>충남 논산시  </td><td> 284</td><td> 1.4200000</td><td> 9</td><td>0</td><td> 1</td></tr>\n",
       "\t<tr><th scope=row>209</th><td>충남 당진시  </td><td> 645</td><td> 2.3454545</td><td>15</td><td>0</td><td> 2</td></tr>\n",
       "\t<tr><th scope=row>210</th><td>충남 보령시  </td><td> 246</td><td> 1.2947368</td><td> 7</td><td>0</td><td> 1</td></tr>\n",
       "\t<tr><th scope=row>211</th><td>충남 부여군  </td><td> 171</td><td> 0.9553073</td><td> 5</td><td>0</td><td> 1</td></tr>\n",
       "\t<tr><th scope=row>212</th><td>충남 서산시  </td><td> 670</td><td> 2.2333333</td><td>11</td><td>0</td><td> 2</td></tr>\n",
       "\t<tr><th scope=row>213</th><td>충남 서천군  </td><td> 250</td><td> 1.5243902</td><td>27</td><td>0</td><td> 1</td></tr>\n",
       "\t<tr><th scope=row>214</th><td>충남 아산시  </td><td>1510</td><td> 4.3515850</td><td>19</td><td>0</td><td> 4</td></tr>\n",
       "\t<tr><th scope=row>215</th><td>충남 예산군  </td><td> 398</td><td> 1.6514523</td><td> 9</td><td>0</td><td> 1</td></tr>\n",
       "\t<tr><th scope=row>216</th><td>충남 천안시  </td><td>3574</td><td> 9.7917808</td><td>30</td><td>1</td><td> 9</td></tr>\n",
       "\t<tr><th scope=row>217</th><td>충남 청양군  </td><td> 140</td><td> 1.0852713</td><td> 5</td><td>0</td><td> 1</td></tr>\n",
       "\t<tr><th scope=row>218</th><td>충남 태안군  </td><td> 232</td><td> 1.3975904</td><td> 7</td><td>0</td><td> 1</td></tr>\n",
       "\t<tr><th scope=row>219</th><td>충남 홍성군  </td><td> 222</td><td> 1.2333333</td><td>14</td><td>0</td><td> 1</td></tr>\n",
       "\t<tr><th scope=row>220</th><td>충북 괴산군  </td><td> 166</td><td> 1.2481203</td><td>15</td><td>0</td><td> 1</td></tr>\n",
       "\t<tr><th scope=row>221</th><td>충북 단양군  </td><td> 138</td><td> 1.7037037</td><td> 8</td><td>0</td><td> 1</td></tr>\n",
       "\t<tr><th scope=row>222</th><td>충북 보은군  </td><td> 134</td><td> 1.2641509</td><td>11</td><td>0</td><td> 1</td></tr>\n",
       "\t<tr><th scope=row>223</th><td>충북 영동군  </td><td>  73</td><td> 0.6952381</td><td> 6</td><td>0</td><td> 0</td></tr>\n",
       "\t<tr><th scope=row>224</th><td>충북 옥천군  </td><td> 138</td><td> 1.1794872</td><td> 9</td><td>0</td><td> 1</td></tr>\n",
       "\t<tr><th scope=row>225</th><td>충북 음성군  </td><td> 542</td><td> 2.0530303</td><td>12</td><td>0</td><td> 1</td></tr>\n",
       "\t<tr><th scope=row>226</th><td>충북 제천시  </td><td> 843</td><td> 2.6761905</td><td>11</td><td>0</td><td> 2</td></tr>\n",
       "\t<tr><th scope=row>227</th><td>충북 증평군  </td><td> 216</td><td> 1.4025974</td><td> 7</td><td>0</td><td> 1</td></tr>\n",
       "\t<tr><th scope=row>228</th><td>충북 진천군  </td><td> 550</td><td> 2.1568627</td><td>18</td><td>0</td><td> 2</td></tr>\n",
       "\t<tr><th scope=row>229</th><td>충북 청주시  </td><td>4867</td><td>13.3342466</td><td>42</td><td>0</td><td>12</td></tr>\n",
       "\t<tr><th scope=row>230</th><td>충북 충주시  </td><td>1240</td><td> 3.6151603</td><td>14</td><td>0</td><td> 3</td></tr>\n",
       "</tbody>\n",
       "</table>\n"
      ],
      "text/latex": [
       "A data.frame: 230 × 6\n",
       "\\begin{tabular}{r|llllll}\n",
       "  & 지역 & 경상자수.sum & 경상자수.mean & 경상자수.max & 경상자수.min & 경상자수.median\\\\\n",
       "  & <chr> & <dbl> & <dbl> & <dbl> & <dbl> & <dbl>\\\\\n",
       "\\hline\n",
       "\t1 & 강원 강릉시   &  834 &  2.673077 & 17 & 0 &  2\\\\\n",
       "\t2 & 강원 고성군   &   95 &  1.010638 &  5 & 0 &  1\\\\\n",
       "\t3 & 강원 동해시   &  336 &  1.577465 &  7 & 0 &  1\\\\\n",
       "\t4 & 강원 삼척시   &  214 &  1.407895 &  7 & 0 &  1\\\\\n",
       "\t5 & 강원 속초시   &  378 &  1.680000 & 10 & 0 &  1\\\\\n",
       "\t6 & 강원 양구군   &   91 &  1.109756 &  7 & 0 &  0\\\\\n",
       "\t7 & 강원 양양군   &  199 &  1.592000 &  6 & 0 &  1\\\\\n",
       "\t8 & 강원 영월군   &  141 &  1.226087 &  6 & 0 &  1\\\\\n",
       "\t9 & 강원 원주시   & 1615 &  4.562147 & 14 & 0 &  4\\\\\n",
       "\t10 & 강원 인제군   &  118 &  1.311111 &  7 & 0 &  1\\\\\n",
       "\t11 & 강원 정선군   &  209 &  1.620155 &  7 & 0 &  1\\\\\n",
       "\t12 & 강원 철원군   &  134 &  1.340000 &  6 & 0 &  1\\\\\n",
       "\t13 & 강원 춘천시   & 1125 &  3.205128 & 14 & 0 &  3\\\\\n",
       "\t14 & 강원 태백시   &  269 &  1.781457 & 13 & 0 &  1\\\\\n",
       "\t15 & 강원 평창군   &  238 &  1.712230 & 10 & 0 &  1\\\\\n",
       "\t16 & 강원 홍천군   &  321 &  2.018868 & 23 & 0 &  1\\\\\n",
       "\t17 & 강원 화천군   &  109 &  1.434211 &  6 & 0 &  1\\\\\n",
       "\t18 & 강원 횡성군   &  163 &  1.181159 &  8 & 0 &  1\\\\\n",
       "\t19 & 경기 가평군   &  443 &  1.995495 &  9 & 0 &  1\\\\\n",
       "\t20 & 경기 고양시   & 4071 & 11.153425 & 40 & 1 & 11\\\\\n",
       "\t21 & 경기 과천시   &  172 &  1.333333 &  4 & 0 &  1\\\\\n",
       "\t22 & 경기 광명시   & 1085 &  3.144928 & 13 & 0 &  3\\\\\n",
       "\t23 & 경기 광주시   & 2536 &  6.967033 & 19 & 0 &  6\\\\\n",
       "\t24 & 경기 구리시   &  813 &  2.648208 & 11 & 0 &  2\\\\\n",
       "\t25 & 경기 군포시   &  480 &  1.784387 & 15 & 0 &  1\\\\\n",
       "\t26 & 경기 김포시   & 2096 &  5.790055 & 22 & 0 &  5\\\\\n",
       "\t27 & 경기 남양주시 & 2270 &  6.323120 & 23 & 0 &  6\\\\\n",
       "\t28 & 경기 동두천시 &  326 &  1.598039 &  8 & 0 &  1\\\\\n",
       "\t29 & 경기 부천시   & 3683 & 10.090411 & 28 & 0 &  9\\\\\n",
       "\t30 & 경기 성남시   & 4301 & 11.783562 & 47 & 1 & 11\\\\\n",
       "\t⋮ & ⋮ & ⋮ & ⋮ & ⋮ & ⋮ & ⋮\\\\\n",
       "\t201 & 전북 정읍시   &  400 &  1.8348624 & 13 & 0 &  1\\\\\n",
       "\t202 & 전북 진안군   &  100 &  1.2345679 &  5 & 0 &  1\\\\\n",
       "\t203 & 제주 서귀포시 & 1294 &  3.6553672 & 13 & 0 &  3\\\\\n",
       "\t204 & 제주 제주시   & 2844 &  7.7917808 & 21 & 0 &  7\\\\\n",
       "\t205 & 충남 계룡시   &   75 &  1.3636364 &  5 & 0 &  1\\\\\n",
       "\t206 & 충남 공주시   &  465 &  1.7953668 & 17 & 0 &  1\\\\\n",
       "\t207 & 충남 금산군   &  117 &  1.0540541 &  6 & 0 &  1\\\\\n",
       "\t208 & 충남 논산시   &  284 &  1.4200000 &  9 & 0 &  1\\\\\n",
       "\t209 & 충남 당진시   &  645 &  2.3454545 & 15 & 0 &  2\\\\\n",
       "\t210 & 충남 보령시   &  246 &  1.2947368 &  7 & 0 &  1\\\\\n",
       "\t211 & 충남 부여군   &  171 &  0.9553073 &  5 & 0 &  1\\\\\n",
       "\t212 & 충남 서산시   &  670 &  2.2333333 & 11 & 0 &  2\\\\\n",
       "\t213 & 충남 서천군   &  250 &  1.5243902 & 27 & 0 &  1\\\\\n",
       "\t214 & 충남 아산시   & 1510 &  4.3515850 & 19 & 0 &  4\\\\\n",
       "\t215 & 충남 예산군   &  398 &  1.6514523 &  9 & 0 &  1\\\\\n",
       "\t216 & 충남 천안시   & 3574 &  9.7917808 & 30 & 1 &  9\\\\\n",
       "\t217 & 충남 청양군   &  140 &  1.0852713 &  5 & 0 &  1\\\\\n",
       "\t218 & 충남 태안군   &  232 &  1.3975904 &  7 & 0 &  1\\\\\n",
       "\t219 & 충남 홍성군   &  222 &  1.2333333 & 14 & 0 &  1\\\\\n",
       "\t220 & 충북 괴산군   &  166 &  1.2481203 & 15 & 0 &  1\\\\\n",
       "\t221 & 충북 단양군   &  138 &  1.7037037 &  8 & 0 &  1\\\\\n",
       "\t222 & 충북 보은군   &  134 &  1.2641509 & 11 & 0 &  1\\\\\n",
       "\t223 & 충북 영동군   &   73 &  0.6952381 &  6 & 0 &  0\\\\\n",
       "\t224 & 충북 옥천군   &  138 &  1.1794872 &  9 & 0 &  1\\\\\n",
       "\t225 & 충북 음성군   &  542 &  2.0530303 & 12 & 0 &  1\\\\\n",
       "\t226 & 충북 제천시   &  843 &  2.6761905 & 11 & 0 &  2\\\\\n",
       "\t227 & 충북 증평군   &  216 &  1.4025974 &  7 & 0 &  1\\\\\n",
       "\t228 & 충북 진천군   &  550 &  2.1568627 & 18 & 0 &  2\\\\\n",
       "\t229 & 충북 청주시   & 4867 & 13.3342466 & 42 & 0 & 12\\\\\n",
       "\t230 & 충북 충주시   & 1240 &  3.6151603 & 14 & 0 &  3\\\\\n",
       "\\end{tabular}\n"
      ],
      "text/markdown": [
       "\n",
       "A data.frame: 230 × 6\n",
       "\n",
       "| <!--/--> | 지역 &lt;chr&gt; | 경상자수.sum &lt;dbl&gt; | 경상자수.mean &lt;dbl&gt; | 경상자수.max &lt;dbl&gt; | 경상자수.min &lt;dbl&gt; | 경상자수.median &lt;dbl&gt; |\n",
       "|---|---|---|---|---|---|---|\n",
       "| 1 | 강원 강릉시   |  834 |  2.673077 | 17 | 0 |  2 |\n",
       "| 2 | 강원 고성군   |   95 |  1.010638 |  5 | 0 |  1 |\n",
       "| 3 | 강원 동해시   |  336 |  1.577465 |  7 | 0 |  1 |\n",
       "| 4 | 강원 삼척시   |  214 |  1.407895 |  7 | 0 |  1 |\n",
       "| 5 | 강원 속초시   |  378 |  1.680000 | 10 | 0 |  1 |\n",
       "| 6 | 강원 양구군   |   91 |  1.109756 |  7 | 0 |  0 |\n",
       "| 7 | 강원 양양군   |  199 |  1.592000 |  6 | 0 |  1 |\n",
       "| 8 | 강원 영월군   |  141 |  1.226087 |  6 | 0 |  1 |\n",
       "| 9 | 강원 원주시   | 1615 |  4.562147 | 14 | 0 |  4 |\n",
       "| 10 | 강원 인제군   |  118 |  1.311111 |  7 | 0 |  1 |\n",
       "| 11 | 강원 정선군   |  209 |  1.620155 |  7 | 0 |  1 |\n",
       "| 12 | 강원 철원군   |  134 |  1.340000 |  6 | 0 |  1 |\n",
       "| 13 | 강원 춘천시   | 1125 |  3.205128 | 14 | 0 |  3 |\n",
       "| 14 | 강원 태백시   |  269 |  1.781457 | 13 | 0 |  1 |\n",
       "| 15 | 강원 평창군   |  238 |  1.712230 | 10 | 0 |  1 |\n",
       "| 16 | 강원 홍천군   |  321 |  2.018868 | 23 | 0 |  1 |\n",
       "| 17 | 강원 화천군   |  109 |  1.434211 |  6 | 0 |  1 |\n",
       "| 18 | 강원 횡성군   |  163 |  1.181159 |  8 | 0 |  1 |\n",
       "| 19 | 경기 가평군   |  443 |  1.995495 |  9 | 0 |  1 |\n",
       "| 20 | 경기 고양시   | 4071 | 11.153425 | 40 | 1 | 11 |\n",
       "| 21 | 경기 과천시   |  172 |  1.333333 |  4 | 0 |  1 |\n",
       "| 22 | 경기 광명시   | 1085 |  3.144928 | 13 | 0 |  3 |\n",
       "| 23 | 경기 광주시   | 2536 |  6.967033 | 19 | 0 |  6 |\n",
       "| 24 | 경기 구리시   |  813 |  2.648208 | 11 | 0 |  2 |\n",
       "| 25 | 경기 군포시   |  480 |  1.784387 | 15 | 0 |  1 |\n",
       "| 26 | 경기 김포시   | 2096 |  5.790055 | 22 | 0 |  5 |\n",
       "| 27 | 경기 남양주시 | 2270 |  6.323120 | 23 | 0 |  6 |\n",
       "| 28 | 경기 동두천시 |  326 |  1.598039 |  8 | 0 |  1 |\n",
       "| 29 | 경기 부천시   | 3683 | 10.090411 | 28 | 0 |  9 |\n",
       "| 30 | 경기 성남시   | 4301 | 11.783562 | 47 | 1 | 11 |\n",
       "| ⋮ | ⋮ | ⋮ | ⋮ | ⋮ | ⋮ | ⋮ |\n",
       "| 201 | 전북 정읍시   |  400 |  1.8348624 | 13 | 0 |  1 |\n",
       "| 202 | 전북 진안군   |  100 |  1.2345679 |  5 | 0 |  1 |\n",
       "| 203 | 제주 서귀포시 | 1294 |  3.6553672 | 13 | 0 |  3 |\n",
       "| 204 | 제주 제주시   | 2844 |  7.7917808 | 21 | 0 |  7 |\n",
       "| 205 | 충남 계룡시   |   75 |  1.3636364 |  5 | 0 |  1 |\n",
       "| 206 | 충남 공주시   |  465 |  1.7953668 | 17 | 0 |  1 |\n",
       "| 207 | 충남 금산군   |  117 |  1.0540541 |  6 | 0 |  1 |\n",
       "| 208 | 충남 논산시   |  284 |  1.4200000 |  9 | 0 |  1 |\n",
       "| 209 | 충남 당진시   |  645 |  2.3454545 | 15 | 0 |  2 |\n",
       "| 210 | 충남 보령시   |  246 |  1.2947368 |  7 | 0 |  1 |\n",
       "| 211 | 충남 부여군   |  171 |  0.9553073 |  5 | 0 |  1 |\n",
       "| 212 | 충남 서산시   |  670 |  2.2333333 | 11 | 0 |  2 |\n",
       "| 213 | 충남 서천군   |  250 |  1.5243902 | 27 | 0 |  1 |\n",
       "| 214 | 충남 아산시   | 1510 |  4.3515850 | 19 | 0 |  4 |\n",
       "| 215 | 충남 예산군   |  398 |  1.6514523 |  9 | 0 |  1 |\n",
       "| 216 | 충남 천안시   | 3574 |  9.7917808 | 30 | 1 |  9 |\n",
       "| 217 | 충남 청양군   |  140 |  1.0852713 |  5 | 0 |  1 |\n",
       "| 218 | 충남 태안군   |  232 |  1.3975904 |  7 | 0 |  1 |\n",
       "| 219 | 충남 홍성군   |  222 |  1.2333333 | 14 | 0 |  1 |\n",
       "| 220 | 충북 괴산군   |  166 |  1.2481203 | 15 | 0 |  1 |\n",
       "| 221 | 충북 단양군   |  138 |  1.7037037 |  8 | 0 |  1 |\n",
       "| 222 | 충북 보은군   |  134 |  1.2641509 | 11 | 0 |  1 |\n",
       "| 223 | 충북 영동군   |   73 |  0.6952381 |  6 | 0 |  0 |\n",
       "| 224 | 충북 옥천군   |  138 |  1.1794872 |  9 | 0 |  1 |\n",
       "| 225 | 충북 음성군   |  542 |  2.0530303 | 12 | 0 |  1 |\n",
       "| 226 | 충북 제천시   |  843 |  2.6761905 | 11 | 0 |  2 |\n",
       "| 227 | 충북 증평군   |  216 |  1.4025974 |  7 | 0 |  1 |\n",
       "| 228 | 충북 진천군   |  550 |  2.1568627 | 18 | 0 |  2 |\n",
       "| 229 | 충북 청주시   | 4867 | 13.3342466 | 42 | 0 | 12 |\n",
       "| 230 | 충북 충주시   | 1240 |  3.6151603 | 14 | 0 |  3 |\n",
       "\n"
      ],
      "text/plain": [
       "    지역          경상자수.sum 경상자수.mean 경상자수.max 경상자수.min\n",
       "1   강원 강릉시    834          2.673077     17           0           \n",
       "2   강원 고성군     95          1.010638      5           0           \n",
       "3   강원 동해시    336          1.577465      7           0           \n",
       "4   강원 삼척시    214          1.407895      7           0           \n",
       "5   강원 속초시    378          1.680000     10           0           \n",
       "6   강원 양구군     91          1.109756      7           0           \n",
       "7   강원 양양군    199          1.592000      6           0           \n",
       "8   강원 영월군    141          1.226087      6           0           \n",
       "9   강원 원주시   1615          4.562147     14           0           \n",
       "10  강원 인제군    118          1.311111      7           0           \n",
       "11  강원 정선군    209          1.620155      7           0           \n",
       "12  강원 철원군    134          1.340000      6           0           \n",
       "13  강원 춘천시   1125          3.205128     14           0           \n",
       "14  강원 태백시    269          1.781457     13           0           \n",
       "15  강원 평창군    238          1.712230     10           0           \n",
       "16  강원 홍천군    321          2.018868     23           0           \n",
       "17  강원 화천군    109          1.434211      6           0           \n",
       "18  강원 횡성군    163          1.181159      8           0           \n",
       "19  경기 가평군    443          1.995495      9           0           \n",
       "20  경기 고양시   4071         11.153425     40           1           \n",
       "21  경기 과천시    172          1.333333      4           0           \n",
       "22  경기 광명시   1085          3.144928     13           0           \n",
       "23  경기 광주시   2536          6.967033     19           0           \n",
       "24  경기 구리시    813          2.648208     11           0           \n",
       "25  경기 군포시    480          1.784387     15           0           \n",
       "26  경기 김포시   2096          5.790055     22           0           \n",
       "27  경기 남양주시 2270          6.323120     23           0           \n",
       "28  경기 동두천시  326          1.598039      8           0           \n",
       "29  경기 부천시   3683         10.090411     28           0           \n",
       "30  경기 성남시   4301         11.783562     47           1           \n",
       "⋮   ⋮             ⋮            ⋮             ⋮            ⋮           \n",
       "201 전북 정읍시    400          1.8348624    13           0           \n",
       "202 전북 진안군    100          1.2345679     5           0           \n",
       "203 제주 서귀포시 1294          3.6553672    13           0           \n",
       "204 제주 제주시   2844          7.7917808    21           0           \n",
       "205 충남 계룡시     75          1.3636364     5           0           \n",
       "206 충남 공주시    465          1.7953668    17           0           \n",
       "207 충남 금산군    117          1.0540541     6           0           \n",
       "208 충남 논산시    284          1.4200000     9           0           \n",
       "209 충남 당진시    645          2.3454545    15           0           \n",
       "210 충남 보령시    246          1.2947368     7           0           \n",
       "211 충남 부여군    171          0.9553073     5           0           \n",
       "212 충남 서산시    670          2.2333333    11           0           \n",
       "213 충남 서천군    250          1.5243902    27           0           \n",
       "214 충남 아산시   1510          4.3515850    19           0           \n",
       "215 충남 예산군    398          1.6514523     9           0           \n",
       "216 충남 천안시   3574          9.7917808    30           1           \n",
       "217 충남 청양군    140          1.0852713     5           0           \n",
       "218 충남 태안군    232          1.3975904     7           0           \n",
       "219 충남 홍성군    222          1.2333333    14           0           \n",
       "220 충북 괴산군    166          1.2481203    15           0           \n",
       "221 충북 단양군    138          1.7037037     8           0           \n",
       "222 충북 보은군    134          1.2641509    11           0           \n",
       "223 충북 영동군     73          0.6952381     6           0           \n",
       "224 충북 옥천군    138          1.1794872     9           0           \n",
       "225 충북 음성군    542          2.0530303    12           0           \n",
       "226 충북 제천시    843          2.6761905    11           0           \n",
       "227 충북 증평군    216          1.4025974     7           0           \n",
       "228 충북 진천군    550          2.1568627    18           0           \n",
       "229 충북 청주시   4867         13.3342466    42           0           \n",
       "230 충북 충주시   1240          3.6151603    14           0           \n",
       "    경상자수.median\n",
       "1    2             \n",
       "2    1             \n",
       "3    1             \n",
       "4    1             \n",
       "5    1             \n",
       "6    0             \n",
       "7    1             \n",
       "8    1             \n",
       "9    4             \n",
       "10   1             \n",
       "11   1             \n",
       "12   1             \n",
       "13   3             \n",
       "14   1             \n",
       "15   1             \n",
       "16   1             \n",
       "17   1             \n",
       "18   1             \n",
       "19   1             \n",
       "20  11             \n",
       "21   1             \n",
       "22   3             \n",
       "23   6             \n",
       "24   2             \n",
       "25   1             \n",
       "26   5             \n",
       "27   6             \n",
       "28   1             \n",
       "29   9             \n",
       "30  11             \n",
       "⋮   ⋮              \n",
       "201  1             \n",
       "202  1             \n",
       "203  3             \n",
       "204  7             \n",
       "205  1             \n",
       "206  1             \n",
       "207  1             \n",
       "208  1             \n",
       "209  2             \n",
       "210  1             \n",
       "211  1             \n",
       "212  2             \n",
       "213  1             \n",
       "214  4             \n",
       "215  1             \n",
       "216  9             \n",
       "217  1             \n",
       "218  1             \n",
       "219  1             \n",
       "220  1             \n",
       "221  1             \n",
       "222  1             \n",
       "223  0             \n",
       "224  1             \n",
       "225  1             \n",
       "226  2             \n",
       "227  1             \n",
       "228  2             \n",
       "229 12             \n",
       "230  3             "
      ]
     },
     "metadata": {},
     "output_type": "display_data"
    }
   ],
   "source": [
    "# 22번\n",
    "library(doBy)\n",
    "\n",
    "summary_result <- summaryBy(경상자수 ~ 지역, \n",
    "                            data = data,\n",
    "                            FUN = c(sum, mean, max, min, median))\n",
    "summary_result"
   ]
  },
  {
   "cell_type": "code",
   "execution_count": 24,
   "metadata": {
    "vscode": {
     "languageId": "r"
    }
   },
   "outputs": [
    {
     "data": {
      "text/html": [
       "<table class=\"dataframe\">\n",
       "<caption>A matrix: 230 × 12 of type int</caption>\n",
       "<thead>\n",
       "\t<tr><th></th><th scope=col>1</th><th scope=col>2</th><th scope=col>3</th><th scope=col>4</th><th scope=col>5</th><th scope=col>6</th><th scope=col>7</th><th scope=col>8</th><th scope=col>9</th><th scope=col>10</th><th scope=col>11</th><th scope=col>12</th></tr>\n",
       "</thead>\n",
       "<tbody>\n",
       "\t<tr><th scope=row>강원 강릉시</th><td> 52</td><td> 45</td><td> 55</td><td> 47</td><td> 92</td><td> 79</td><td> 50</td><td> 85</td><td> 67</td><td> 72</td><td> 65</td><td> 49</td></tr>\n",
       "\t<tr><th scope=row>강원 고성군</th><td>  7</td><td>  8</td><td> 12</td><td>  9</td><td>  8</td><td> 12</td><td> 10</td><td>  7</td><td> 14</td><td>  7</td><td>  5</td><td> 12</td></tr>\n",
       "\t<tr><th scope=row>강원 동해시</th><td> 20</td><td> 27</td><td> 25</td><td> 19</td><td> 25</td><td> 32</td><td> 31</td><td> 29</td><td> 28</td><td> 27</td><td> 26</td><td> 26</td></tr>\n",
       "\t<tr><th scope=row>강원 삼척시</th><td> 10</td><td>  6</td><td> 15</td><td> 22</td><td> 24</td><td> 21</td><td> 12</td><td> 21</td><td> 20</td><td> 13</td><td> 14</td><td> 22</td></tr>\n",
       "\t<tr><th scope=row>강원 속초시</th><td> 23</td><td> 28</td><td> 20</td><td> 26</td><td> 36</td><td> 22</td><td> 36</td><td> 44</td><td> 19</td><td> 43</td><td> 28</td><td> 37</td></tr>\n",
       "\t<tr><th scope=row>강원 양구군</th><td>  3</td><td>  3</td><td>  5</td><td>  5</td><td> 11</td><td>  9</td><td> 10</td><td>  8</td><td> 10</td><td> 10</td><td>  9</td><td> 10</td></tr>\n",
       "\t<tr><th scope=row>강원 양양군</th><td>  6</td><td> 10</td><td>  4</td><td> 19</td><td>  9</td><td> 19</td><td> 12</td><td> 27</td><td> 16</td><td> 22</td><td>  5</td><td> 13</td></tr>\n",
       "\t<tr><th scope=row>강원 영월군</th><td> 11</td><td> 10</td><td> 18</td><td> 11</td><td> 18</td><td> 14</td><td> 12</td><td> 10</td><td> 14</td><td> 11</td><td>  9</td><td> 13</td></tr>\n",
       "\t<tr><th scope=row>강원 원주시</th><td>134</td><td>101</td><td>103</td><td>105</td><td>136</td><td>127</td><td>113</td><td>135</td><td>129</td><td>121</td><td>117</td><td>102</td></tr>\n",
       "\t<tr><th scope=row>강원 인제군</th><td>  6</td><td>  4</td><td>  5</td><td>  7</td><td>  9</td><td> 10</td><td> 11</td><td> 10</td><td> 17</td><td> 10</td><td>  8</td><td> 10</td></tr>\n",
       "\t<tr><th scope=row>강원 정선군</th><td>  6</td><td> 14</td><td>  8</td><td> 12</td><td> 15</td><td> 19</td><td> 19</td><td> 27</td><td> 14</td><td> 13</td><td>  6</td><td> 12</td></tr>\n",
       "\t<tr><th scope=row>강원 철원군</th><td>  7</td><td>  4</td><td>  8</td><td>  8</td><td>  9</td><td> 11</td><td> 12</td><td>  6</td><td> 20</td><td> 12</td><td> 13</td><td>  7</td></tr>\n",
       "\t<tr><th scope=row>강원 춘천시</th><td> 85</td><td> 86</td><td>108</td><td> 98</td><td>102</td><td> 99</td><td> 98</td><td>108</td><td>119</td><td>114</td><td>119</td><td>115</td></tr>\n",
       "\t<tr><th scope=row>강원 태백시</th><td> 12</td><td>  8</td><td> 13</td><td> 11</td><td> 17</td><td> 25</td><td> 16</td><td> 17</td><td> 23</td><td> 24</td><td> 17</td><td> 17</td></tr>\n",
       "\t<tr><th scope=row>강원 평창군</th><td> 13</td><td>  7</td><td>  8</td><td> 19</td><td> 15</td><td> 10</td><td> 23</td><td> 23</td><td> 18</td><td> 18</td><td>  8</td><td> 14</td></tr>\n",
       "\t<tr><th scope=row>강원 홍천군</th><td> 13</td><td> 11</td><td> 13</td><td> 14</td><td> 24</td><td> 16</td><td> 22</td><td> 27</td><td> 21</td><td> 28</td><td> 13</td><td> 23</td></tr>\n",
       "\t<tr><th scope=row>강원 화천군</th><td>  7</td><td>  6</td><td>  3</td><td>  9</td><td>  8</td><td>  8</td><td> 12</td><td>  7</td><td>  8</td><td>  7</td><td>  5</td><td>  6</td></tr>\n",
       "\t<tr><th scope=row>강원 횡성군</th><td>  8</td><td> 17</td><td>  7</td><td> 12</td><td> 16</td><td> 10</td><td> 21</td><td> 16</td><td> 21</td><td>  7</td><td> 22</td><td> 20</td></tr>\n",
       "\t<tr><th scope=row>경기 가평군</th><td> 24</td><td> 23</td><td> 26</td><td> 40</td><td> 32</td><td> 30</td><td> 29</td><td> 40</td><td> 36</td><td> 30</td><td> 24</td><td> 23</td></tr>\n",
       "\t<tr><th scope=row>경기 고양시</th><td>311</td><td>232</td><td>259</td><td>281</td><td>341</td><td>285</td><td>304</td><td>326</td><td>314</td><td>292</td><td>305</td><td>353</td></tr>\n",
       "\t<tr><th scope=row>경기 과천시</th><td> 13</td><td> 11</td><td> 10</td><td> 15</td><td> 11</td><td> 12</td><td>  8</td><td> 15</td><td> 21</td><td>  9</td><td> 13</td><td> 13</td></tr>\n",
       "\t<tr><th scope=row>경기 광명시</th><td> 71</td><td> 71</td><td> 80</td><td> 97</td><td> 85</td><td> 92</td><td> 82</td><td>113</td><td> 92</td><td> 87</td><td>103</td><td> 74</td></tr>\n",
       "\t<tr><th scope=row>경기 광주시</th><td>185</td><td>140</td><td>173</td><td>154</td><td>179</td><td>192</td><td>164</td><td>201</td><td>192</td><td>158</td><td>197</td><td>194</td></tr>\n",
       "\t<tr><th scope=row>경기 구리시</th><td> 48</td><td> 61</td><td> 65</td><td> 60</td><td> 53</td><td> 53</td><td> 52</td><td> 68</td><td> 52</td><td> 66</td><td> 63</td><td> 61</td></tr>\n",
       "\t<tr><th scope=row>경기 군포시</th><td> 41</td><td> 33</td><td> 44</td><td> 37</td><td> 51</td><td> 40</td><td> 47</td><td> 44</td><td> 40</td><td> 33</td><td> 37</td><td> 41</td></tr>\n",
       "\t<tr><th scope=row>경기 김포시</th><td>158</td><td>106</td><td>134</td><td>164</td><td>149</td><td>139</td><td>149</td><td>156</td><td>160</td><td>164</td><td>155</td><td>162</td></tr>\n",
       "\t<tr><th scope=row>경기 남양주시</th><td>154</td><td>123</td><td>134</td><td>160</td><td>158</td><td>158</td><td>166</td><td>171</td><td>166</td><td>209</td><td>166</td><td>177</td></tr>\n",
       "\t<tr><th scope=row>경기 동두천시</th><td> 36</td><td> 24</td><td> 21</td><td> 24</td><td> 29</td><td> 15</td><td> 27</td><td> 33</td><td> 25</td><td> 20</td><td> 29</td><td> 31</td></tr>\n",
       "\t<tr><th scope=row>경기 부천시</th><td>259</td><td>227</td><td>291</td><td>273</td><td>313</td><td>276</td><td>289</td><td>305</td><td>334</td><td>261</td><td>321</td><td>329</td></tr>\n",
       "\t<tr><th scope=row>경기 성남시</th><td>335</td><td>260</td><td>301</td><td>271</td><td>328</td><td>289</td><td>332</td><td>324</td><td>333</td><td>316</td><td>366</td><td>383</td></tr>\n",
       "\t<tr><th scope=row>⋮</th><td>⋮</td><td>⋮</td><td>⋮</td><td>⋮</td><td>⋮</td><td>⋮</td><td>⋮</td><td>⋮</td><td>⋮</td><td>⋮</td><td>⋮</td><td>⋮</td></tr>\n",
       "\t<tr><th scope=row>전북 정읍시</th><td> 26</td><td> 20</td><td> 30</td><td> 28</td><td> 35</td><td> 27</td><td> 30</td><td> 27</td><td> 38</td><td> 23</td><td> 39</td><td> 27</td></tr>\n",
       "\t<tr><th scope=row>전북 진안군</th><td>  4</td><td>  2</td><td>  8</td><td>  8</td><td>  8</td><td> 11</td><td> 10</td><td> 14</td><td>  7</td><td>  5</td><td> 10</td><td> 10</td></tr>\n",
       "\t<tr><th scope=row>제주 서귀포시</th><td>107</td><td> 77</td><td>106</td><td> 90</td><td> 89</td><td>101</td><td> 98</td><td>112</td><td>110</td><td>110</td><td>114</td><td> 96</td></tr>\n",
       "\t<tr><th scope=row>제주 제주시</th><td>178</td><td>188</td><td>208</td><td>217</td><td>229</td><td>230</td><td>217</td><td>287</td><td>238</td><td>267</td><td>251</td><td>230</td></tr>\n",
       "\t<tr><th scope=row>충남 계룡시</th><td>  3</td><td>  4</td><td>  4</td><td>  1</td><td>  2</td><td>  5</td><td>  9</td><td>  8</td><td> 10</td><td>  7</td><td>  2</td><td>  4</td></tr>\n",
       "\t<tr><th scope=row>충남 공주시</th><td> 33</td><td> 36</td><td> 33</td><td> 41</td><td> 40</td><td> 44</td><td> 31</td><td> 42</td><td> 48</td><td> 37</td><td> 31</td><td> 23</td></tr>\n",
       "\t<tr><th scope=row>충남 금산군</th><td> 13</td><td>  8</td><td> 18</td><td> 12</td><td>  8</td><td> 16</td><td> 15</td><td> 11</td><td> 13</td><td>  8</td><td>  7</td><td> 10</td></tr>\n",
       "\t<tr><th scope=row>충남 논산시</th><td> 23</td><td> 24</td><td> 23</td><td> 30</td><td> 34</td><td> 21</td><td> 18</td><td> 24</td><td> 35</td><td> 26</td><td> 23</td><td> 17</td></tr>\n",
       "\t<tr><th scope=row>충남 당진시</th><td> 44</td><td> 33</td><td> 33</td><td> 52</td><td> 44</td><td> 43</td><td> 46</td><td> 45</td><td> 58</td><td> 43</td><td> 55</td><td> 65</td></tr>\n",
       "\t<tr><th scope=row>충남 보령시</th><td> 21</td><td> 20</td><td> 21</td><td> 24</td><td> 32</td><td> 15</td><td> 27</td><td> 20</td><td> 24</td><td> 25</td><td> 28</td><td> 22</td></tr>\n",
       "\t<tr><th scope=row>충남 부여군</th><td> 13</td><td>  9</td><td> 16</td><td> 25</td><td> 26</td><td> 20</td><td> 29</td><td> 23</td><td> 22</td><td> 18</td><td> 20</td><td> 16</td></tr>\n",
       "\t<tr><th scope=row>충남 서산시</th><td> 42</td><td> 39</td><td> 63</td><td> 49</td><td> 60</td><td> 53</td><td> 54</td><td> 73</td><td> 59</td><td> 84</td><td> 68</td><td> 39</td></tr>\n",
       "\t<tr><th scope=row>충남 서천군</th><td> 13</td><td>  8</td><td> 15</td><td> 23</td><td> 21</td><td> 12</td><td> 21</td><td> 23</td><td> 20</td><td> 28</td><td> 24</td><td> 18</td></tr>\n",
       "\t<tr><th scope=row>충남 아산시</th><td> 83</td><td> 96</td><td> 95</td><td>114</td><td>113</td><td>102</td><td> 98</td><td> 92</td><td>120</td><td>110</td><td>132</td><td>134</td></tr>\n",
       "\t<tr><th scope=row>충남 예산군</th><td> 25</td><td> 23</td><td> 29</td><td> 32</td><td> 26</td><td> 34</td><td> 24</td><td> 31</td><td> 37</td><td> 46</td><td> 41</td><td> 26</td></tr>\n",
       "\t<tr><th scope=row>충남 천안시</th><td>225</td><td>226</td><td>275</td><td>258</td><td>246</td><td>303</td><td>315</td><td>316</td><td>334</td><td>272</td><td>349</td><td>284</td></tr>\n",
       "\t<tr><th scope=row>충남 청양군</th><td>  5</td><td>  9</td><td> 16</td><td> 15</td><td> 17</td><td> 11</td><td> 14</td><td> 15</td><td> 22</td><td> 17</td><td> 16</td><td>  8</td></tr>\n",
       "\t<tr><th scope=row>충남 태안군</th><td> 12</td><td> 11</td><td> 15</td><td> 21</td><td> 19</td><td> 21</td><td> 12</td><td> 20</td><td> 25</td><td> 33</td><td> 17</td><td> 12</td></tr>\n",
       "\t<tr><th scope=row>충남 홍성군</th><td>  9</td><td> 18</td><td> 11</td><td> 18</td><td> 29</td><td> 22</td><td> 20</td><td> 28</td><td> 18</td><td> 20</td><td> 19</td><td> 24</td></tr>\n",
       "\t<tr><th scope=row>충북 괴산군</th><td> 10</td><td> 12</td><td> 10</td><td> 10</td><td> 18</td><td> 15</td><td> 12</td><td> 21</td><td> 20</td><td> 16</td><td> 11</td><td>  9</td></tr>\n",
       "\t<tr><th scope=row>충북 단양군</th><td> 11</td><td>  5</td><td>  7</td><td>  5</td><td>  7</td><td>  4</td><td>  5</td><td> 14</td><td> 12</td><td> 11</td><td> 14</td><td>  5</td></tr>\n",
       "\t<tr><th scope=row>충북 보은군</th><td>  7</td><td>  9</td><td> 13</td><td> 15</td><td>  7</td><td> 15</td><td>  8</td><td>  5</td><td> 14</td><td> 20</td><td> 12</td><td>  8</td></tr>\n",
       "\t<tr><th scope=row>충북 영동군</th><td>  3</td><td> 10</td><td>  7</td><td> 18</td><td> 22</td><td> 14</td><td> 10</td><td>  9</td><td> 13</td><td> 14</td><td> 11</td><td>  3</td></tr>\n",
       "\t<tr><th scope=row>충북 옥천군</th><td>  6</td><td>  9</td><td> 13</td><td> 19</td><td> 16</td><td> 14</td><td>  5</td><td> 15</td><td>  8</td><td> 17</td><td> 15</td><td> 10</td></tr>\n",
       "\t<tr><th scope=row>충북 음성군</th><td> 43</td><td> 26</td><td> 25</td><td> 31</td><td> 44</td><td> 47</td><td> 47</td><td> 42</td><td> 46</td><td> 48</td><td> 41</td><td> 39</td></tr>\n",
       "\t<tr><th scope=row>충북 제천시</th><td> 37</td><td> 34</td><td> 45</td><td> 69</td><td> 81</td><td> 63</td><td> 58</td><td> 68</td><td> 68</td><td> 76</td><td> 65</td><td> 73</td></tr>\n",
       "\t<tr><th scope=row>충북 증평군</th><td>  7</td><td>  9</td><td> 15</td><td> 14</td><td> 12</td><td> 21</td><td> 25</td><td> 23</td><td> 18</td><td> 27</td><td> 15</td><td> 20</td></tr>\n",
       "\t<tr><th scope=row>충북 진천군</th><td> 29</td><td> 32</td><td> 37</td><td> 31</td><td> 37</td><td> 40</td><td> 47</td><td> 47</td><td> 44</td><td> 38</td><td> 51</td><td> 43</td></tr>\n",
       "\t<tr><th scope=row>충북 청주시</th><td>286</td><td>271</td><td>336</td><td>354</td><td>414</td><td>377</td><td>372</td><td>358</td><td>415</td><td>374</td><td>400</td><td>380</td></tr>\n",
       "\t<tr><th scope=row>충북 충주시</th><td> 78</td><td> 60</td><td> 79</td><td> 89</td><td>105</td><td> 89</td><td> 90</td><td> 74</td><td> 95</td><td> 91</td><td> 90</td><td> 86</td></tr>\n",
       "</tbody>\n",
       "</table>\n"
      ],
      "text/latex": [
       "A matrix: 230 × 12 of type int\n",
       "\\begin{tabular}{r|llllllllllll}\n",
       "  & 1 & 2 & 3 & 4 & 5 & 6 & 7 & 8 & 9 & 10 & 11 & 12\\\\\n",
       "\\hline\n",
       "\t강원 강릉시 &  52 &  45 &  55 &  47 &  92 &  79 &  50 &  85 &  67 &  72 &  65 &  49\\\\\n",
       "\t강원 고성군 &   7 &   8 &  12 &   9 &   8 &  12 &  10 &   7 &  14 &   7 &   5 &  12\\\\\n",
       "\t강원 동해시 &  20 &  27 &  25 &  19 &  25 &  32 &  31 &  29 &  28 &  27 &  26 &  26\\\\\n",
       "\t강원 삼척시 &  10 &   6 &  15 &  22 &  24 &  21 &  12 &  21 &  20 &  13 &  14 &  22\\\\\n",
       "\t강원 속초시 &  23 &  28 &  20 &  26 &  36 &  22 &  36 &  44 &  19 &  43 &  28 &  37\\\\\n",
       "\t강원 양구군 &   3 &   3 &   5 &   5 &  11 &   9 &  10 &   8 &  10 &  10 &   9 &  10\\\\\n",
       "\t강원 양양군 &   6 &  10 &   4 &  19 &   9 &  19 &  12 &  27 &  16 &  22 &   5 &  13\\\\\n",
       "\t강원 영월군 &  11 &  10 &  18 &  11 &  18 &  14 &  12 &  10 &  14 &  11 &   9 &  13\\\\\n",
       "\t강원 원주시 & 134 & 101 & 103 & 105 & 136 & 127 & 113 & 135 & 129 & 121 & 117 & 102\\\\\n",
       "\t강원 인제군 &   6 &   4 &   5 &   7 &   9 &  10 &  11 &  10 &  17 &  10 &   8 &  10\\\\\n",
       "\t강원 정선군 &   6 &  14 &   8 &  12 &  15 &  19 &  19 &  27 &  14 &  13 &   6 &  12\\\\\n",
       "\t강원 철원군 &   7 &   4 &   8 &   8 &   9 &  11 &  12 &   6 &  20 &  12 &  13 &   7\\\\\n",
       "\t강원 춘천시 &  85 &  86 & 108 &  98 & 102 &  99 &  98 & 108 & 119 & 114 & 119 & 115\\\\\n",
       "\t강원 태백시 &  12 &   8 &  13 &  11 &  17 &  25 &  16 &  17 &  23 &  24 &  17 &  17\\\\\n",
       "\t강원 평창군 &  13 &   7 &   8 &  19 &  15 &  10 &  23 &  23 &  18 &  18 &   8 &  14\\\\\n",
       "\t강원 홍천군 &  13 &  11 &  13 &  14 &  24 &  16 &  22 &  27 &  21 &  28 &  13 &  23\\\\\n",
       "\t강원 화천군 &   7 &   6 &   3 &   9 &   8 &   8 &  12 &   7 &   8 &   7 &   5 &   6\\\\\n",
       "\t강원 횡성군 &   8 &  17 &   7 &  12 &  16 &  10 &  21 &  16 &  21 &   7 &  22 &  20\\\\\n",
       "\t경기 가평군 &  24 &  23 &  26 &  40 &  32 &  30 &  29 &  40 &  36 &  30 &  24 &  23\\\\\n",
       "\t경기 고양시 & 311 & 232 & 259 & 281 & 341 & 285 & 304 & 326 & 314 & 292 & 305 & 353\\\\\n",
       "\t경기 과천시 &  13 &  11 &  10 &  15 &  11 &  12 &   8 &  15 &  21 &   9 &  13 &  13\\\\\n",
       "\t경기 광명시 &  71 &  71 &  80 &  97 &  85 &  92 &  82 & 113 &  92 &  87 & 103 &  74\\\\\n",
       "\t경기 광주시 & 185 & 140 & 173 & 154 & 179 & 192 & 164 & 201 & 192 & 158 & 197 & 194\\\\\n",
       "\t경기 구리시 &  48 &  61 &  65 &  60 &  53 &  53 &  52 &  68 &  52 &  66 &  63 &  61\\\\\n",
       "\t경기 군포시 &  41 &  33 &  44 &  37 &  51 &  40 &  47 &  44 &  40 &  33 &  37 &  41\\\\\n",
       "\t경기 김포시 & 158 & 106 & 134 & 164 & 149 & 139 & 149 & 156 & 160 & 164 & 155 & 162\\\\\n",
       "\t경기 남양주시 & 154 & 123 & 134 & 160 & 158 & 158 & 166 & 171 & 166 & 209 & 166 & 177\\\\\n",
       "\t경기 동두천시 &  36 &  24 &  21 &  24 &  29 &  15 &  27 &  33 &  25 &  20 &  29 &  31\\\\\n",
       "\t경기 부천시 & 259 & 227 & 291 & 273 & 313 & 276 & 289 & 305 & 334 & 261 & 321 & 329\\\\\n",
       "\t경기 성남시 & 335 & 260 & 301 & 271 & 328 & 289 & 332 & 324 & 333 & 316 & 366 & 383\\\\\n",
       "\t⋮ & ⋮ & ⋮ & ⋮ & ⋮ & ⋮ & ⋮ & ⋮ & ⋮ & ⋮ & ⋮ & ⋮ & ⋮\\\\\n",
       "\t전북 정읍시 &  26 &  20 &  30 &  28 &  35 &  27 &  30 &  27 &  38 &  23 &  39 &  27\\\\\n",
       "\t전북 진안군 &   4 &   2 &   8 &   8 &   8 &  11 &  10 &  14 &   7 &   5 &  10 &  10\\\\\n",
       "\t제주 서귀포시 & 107 &  77 & 106 &  90 &  89 & 101 &  98 & 112 & 110 & 110 & 114 &  96\\\\\n",
       "\t제주 제주시 & 178 & 188 & 208 & 217 & 229 & 230 & 217 & 287 & 238 & 267 & 251 & 230\\\\\n",
       "\t충남 계룡시 &   3 &   4 &   4 &   1 &   2 &   5 &   9 &   8 &  10 &   7 &   2 &   4\\\\\n",
       "\t충남 공주시 &  33 &  36 &  33 &  41 &  40 &  44 &  31 &  42 &  48 &  37 &  31 &  23\\\\\n",
       "\t충남 금산군 &  13 &   8 &  18 &  12 &   8 &  16 &  15 &  11 &  13 &   8 &   7 &  10\\\\\n",
       "\t충남 논산시 &  23 &  24 &  23 &  30 &  34 &  21 &  18 &  24 &  35 &  26 &  23 &  17\\\\\n",
       "\t충남 당진시 &  44 &  33 &  33 &  52 &  44 &  43 &  46 &  45 &  58 &  43 &  55 &  65\\\\\n",
       "\t충남 보령시 &  21 &  20 &  21 &  24 &  32 &  15 &  27 &  20 &  24 &  25 &  28 &  22\\\\\n",
       "\t충남 부여군 &  13 &   9 &  16 &  25 &  26 &  20 &  29 &  23 &  22 &  18 &  20 &  16\\\\\n",
       "\t충남 서산시 &  42 &  39 &  63 &  49 &  60 &  53 &  54 &  73 &  59 &  84 &  68 &  39\\\\\n",
       "\t충남 서천군 &  13 &   8 &  15 &  23 &  21 &  12 &  21 &  23 &  20 &  28 &  24 &  18\\\\\n",
       "\t충남 아산시 &  83 &  96 &  95 & 114 & 113 & 102 &  98 &  92 & 120 & 110 & 132 & 134\\\\\n",
       "\t충남 예산군 &  25 &  23 &  29 &  32 &  26 &  34 &  24 &  31 &  37 &  46 &  41 &  26\\\\\n",
       "\t충남 천안시 & 225 & 226 & 275 & 258 & 246 & 303 & 315 & 316 & 334 & 272 & 349 & 284\\\\\n",
       "\t충남 청양군 &   5 &   9 &  16 &  15 &  17 &  11 &  14 &  15 &  22 &  17 &  16 &   8\\\\\n",
       "\t충남 태안군 &  12 &  11 &  15 &  21 &  19 &  21 &  12 &  20 &  25 &  33 &  17 &  12\\\\\n",
       "\t충남 홍성군 &   9 &  18 &  11 &  18 &  29 &  22 &  20 &  28 &  18 &  20 &  19 &  24\\\\\n",
       "\t충북 괴산군 &  10 &  12 &  10 &  10 &  18 &  15 &  12 &  21 &  20 &  16 &  11 &   9\\\\\n",
       "\t충북 단양군 &  11 &   5 &   7 &   5 &   7 &   4 &   5 &  14 &  12 &  11 &  14 &   5\\\\\n",
       "\t충북 보은군 &   7 &   9 &  13 &  15 &   7 &  15 &   8 &   5 &  14 &  20 &  12 &   8\\\\\n",
       "\t충북 영동군 &   3 &  10 &   7 &  18 &  22 &  14 &  10 &   9 &  13 &  14 &  11 &   3\\\\\n",
       "\t충북 옥천군 &   6 &   9 &  13 &  19 &  16 &  14 &   5 &  15 &   8 &  17 &  15 &  10\\\\\n",
       "\t충북 음성군 &  43 &  26 &  25 &  31 &  44 &  47 &  47 &  42 &  46 &  48 &  41 &  39\\\\\n",
       "\t충북 제천시 &  37 &  34 &  45 &  69 &  81 &  63 &  58 &  68 &  68 &  76 &  65 &  73\\\\\n",
       "\t충북 증평군 &   7 &   9 &  15 &  14 &  12 &  21 &  25 &  23 &  18 &  27 &  15 &  20\\\\\n",
       "\t충북 진천군 &  29 &  32 &  37 &  31 &  37 &  40 &  47 &  47 &  44 &  38 &  51 &  43\\\\\n",
       "\t충북 청주시 & 286 & 271 & 336 & 354 & 414 & 377 & 372 & 358 & 415 & 374 & 400 & 380\\\\\n",
       "\t충북 충주시 &  78 &  60 &  79 &  89 & 105 &  89 &  90 &  74 &  95 &  91 &  90 &  86\\\\\n",
       "\\end{tabular}\n"
      ],
      "text/markdown": [
       "\n",
       "A matrix: 230 × 12 of type int\n",
       "\n",
       "| <!--/--> | 1 | 2 | 3 | 4 | 5 | 6 | 7 | 8 | 9 | 10 | 11 | 12 |\n",
       "|---|---|---|---|---|---|---|---|---|---|---|---|---|\n",
       "| 강원 강릉시 |  52 |  45 |  55 |  47 |  92 |  79 |  50 |  85 |  67 |  72 |  65 |  49 |\n",
       "| 강원 고성군 |   7 |   8 |  12 |   9 |   8 |  12 |  10 |   7 |  14 |   7 |   5 |  12 |\n",
       "| 강원 동해시 |  20 |  27 |  25 |  19 |  25 |  32 |  31 |  29 |  28 |  27 |  26 |  26 |\n",
       "| 강원 삼척시 |  10 |   6 |  15 |  22 |  24 |  21 |  12 |  21 |  20 |  13 |  14 |  22 |\n",
       "| 강원 속초시 |  23 |  28 |  20 |  26 |  36 |  22 |  36 |  44 |  19 |  43 |  28 |  37 |\n",
       "| 강원 양구군 |   3 |   3 |   5 |   5 |  11 |   9 |  10 |   8 |  10 |  10 |   9 |  10 |\n",
       "| 강원 양양군 |   6 |  10 |   4 |  19 |   9 |  19 |  12 |  27 |  16 |  22 |   5 |  13 |\n",
       "| 강원 영월군 |  11 |  10 |  18 |  11 |  18 |  14 |  12 |  10 |  14 |  11 |   9 |  13 |\n",
       "| 강원 원주시 | 134 | 101 | 103 | 105 | 136 | 127 | 113 | 135 | 129 | 121 | 117 | 102 |\n",
       "| 강원 인제군 |   6 |   4 |   5 |   7 |   9 |  10 |  11 |  10 |  17 |  10 |   8 |  10 |\n",
       "| 강원 정선군 |   6 |  14 |   8 |  12 |  15 |  19 |  19 |  27 |  14 |  13 |   6 |  12 |\n",
       "| 강원 철원군 |   7 |   4 |   8 |   8 |   9 |  11 |  12 |   6 |  20 |  12 |  13 |   7 |\n",
       "| 강원 춘천시 |  85 |  86 | 108 |  98 | 102 |  99 |  98 | 108 | 119 | 114 | 119 | 115 |\n",
       "| 강원 태백시 |  12 |   8 |  13 |  11 |  17 |  25 |  16 |  17 |  23 |  24 |  17 |  17 |\n",
       "| 강원 평창군 |  13 |   7 |   8 |  19 |  15 |  10 |  23 |  23 |  18 |  18 |   8 |  14 |\n",
       "| 강원 홍천군 |  13 |  11 |  13 |  14 |  24 |  16 |  22 |  27 |  21 |  28 |  13 |  23 |\n",
       "| 강원 화천군 |   7 |   6 |   3 |   9 |   8 |   8 |  12 |   7 |   8 |   7 |   5 |   6 |\n",
       "| 강원 횡성군 |   8 |  17 |   7 |  12 |  16 |  10 |  21 |  16 |  21 |   7 |  22 |  20 |\n",
       "| 경기 가평군 |  24 |  23 |  26 |  40 |  32 |  30 |  29 |  40 |  36 |  30 |  24 |  23 |\n",
       "| 경기 고양시 | 311 | 232 | 259 | 281 | 341 | 285 | 304 | 326 | 314 | 292 | 305 | 353 |\n",
       "| 경기 과천시 |  13 |  11 |  10 |  15 |  11 |  12 |   8 |  15 |  21 |   9 |  13 |  13 |\n",
       "| 경기 광명시 |  71 |  71 |  80 |  97 |  85 |  92 |  82 | 113 |  92 |  87 | 103 |  74 |\n",
       "| 경기 광주시 | 185 | 140 | 173 | 154 | 179 | 192 | 164 | 201 | 192 | 158 | 197 | 194 |\n",
       "| 경기 구리시 |  48 |  61 |  65 |  60 |  53 |  53 |  52 |  68 |  52 |  66 |  63 |  61 |\n",
       "| 경기 군포시 |  41 |  33 |  44 |  37 |  51 |  40 |  47 |  44 |  40 |  33 |  37 |  41 |\n",
       "| 경기 김포시 | 158 | 106 | 134 | 164 | 149 | 139 | 149 | 156 | 160 | 164 | 155 | 162 |\n",
       "| 경기 남양주시 | 154 | 123 | 134 | 160 | 158 | 158 | 166 | 171 | 166 | 209 | 166 | 177 |\n",
       "| 경기 동두천시 |  36 |  24 |  21 |  24 |  29 |  15 |  27 |  33 |  25 |  20 |  29 |  31 |\n",
       "| 경기 부천시 | 259 | 227 | 291 | 273 | 313 | 276 | 289 | 305 | 334 | 261 | 321 | 329 |\n",
       "| 경기 성남시 | 335 | 260 | 301 | 271 | 328 | 289 | 332 | 324 | 333 | 316 | 366 | 383 |\n",
       "| ⋮ | ⋮ | ⋮ | ⋮ | ⋮ | ⋮ | ⋮ | ⋮ | ⋮ | ⋮ | ⋮ | ⋮ | ⋮ |\n",
       "| 전북 정읍시 |  26 |  20 |  30 |  28 |  35 |  27 |  30 |  27 |  38 |  23 |  39 |  27 |\n",
       "| 전북 진안군 |   4 |   2 |   8 |   8 |   8 |  11 |  10 |  14 |   7 |   5 |  10 |  10 |\n",
       "| 제주 서귀포시 | 107 |  77 | 106 |  90 |  89 | 101 |  98 | 112 | 110 | 110 | 114 |  96 |\n",
       "| 제주 제주시 | 178 | 188 | 208 | 217 | 229 | 230 | 217 | 287 | 238 | 267 | 251 | 230 |\n",
       "| 충남 계룡시 |   3 |   4 |   4 |   1 |   2 |   5 |   9 |   8 |  10 |   7 |   2 |   4 |\n",
       "| 충남 공주시 |  33 |  36 |  33 |  41 |  40 |  44 |  31 |  42 |  48 |  37 |  31 |  23 |\n",
       "| 충남 금산군 |  13 |   8 |  18 |  12 |   8 |  16 |  15 |  11 |  13 |   8 |   7 |  10 |\n",
       "| 충남 논산시 |  23 |  24 |  23 |  30 |  34 |  21 |  18 |  24 |  35 |  26 |  23 |  17 |\n",
       "| 충남 당진시 |  44 |  33 |  33 |  52 |  44 |  43 |  46 |  45 |  58 |  43 |  55 |  65 |\n",
       "| 충남 보령시 |  21 |  20 |  21 |  24 |  32 |  15 |  27 |  20 |  24 |  25 |  28 |  22 |\n",
       "| 충남 부여군 |  13 |   9 |  16 |  25 |  26 |  20 |  29 |  23 |  22 |  18 |  20 |  16 |\n",
       "| 충남 서산시 |  42 |  39 |  63 |  49 |  60 |  53 |  54 |  73 |  59 |  84 |  68 |  39 |\n",
       "| 충남 서천군 |  13 |   8 |  15 |  23 |  21 |  12 |  21 |  23 |  20 |  28 |  24 |  18 |\n",
       "| 충남 아산시 |  83 |  96 |  95 | 114 | 113 | 102 |  98 |  92 | 120 | 110 | 132 | 134 |\n",
       "| 충남 예산군 |  25 |  23 |  29 |  32 |  26 |  34 |  24 |  31 |  37 |  46 |  41 |  26 |\n",
       "| 충남 천안시 | 225 | 226 | 275 | 258 | 246 | 303 | 315 | 316 | 334 | 272 | 349 | 284 |\n",
       "| 충남 청양군 |   5 |   9 |  16 |  15 |  17 |  11 |  14 |  15 |  22 |  17 |  16 |   8 |\n",
       "| 충남 태안군 |  12 |  11 |  15 |  21 |  19 |  21 |  12 |  20 |  25 |  33 |  17 |  12 |\n",
       "| 충남 홍성군 |   9 |  18 |  11 |  18 |  29 |  22 |  20 |  28 |  18 |  20 |  19 |  24 |\n",
       "| 충북 괴산군 |  10 |  12 |  10 |  10 |  18 |  15 |  12 |  21 |  20 |  16 |  11 |   9 |\n",
       "| 충북 단양군 |  11 |   5 |   7 |   5 |   7 |   4 |   5 |  14 |  12 |  11 |  14 |   5 |\n",
       "| 충북 보은군 |   7 |   9 |  13 |  15 |   7 |  15 |   8 |   5 |  14 |  20 |  12 |   8 |\n",
       "| 충북 영동군 |   3 |  10 |   7 |  18 |  22 |  14 |  10 |   9 |  13 |  14 |  11 |   3 |\n",
       "| 충북 옥천군 |   6 |   9 |  13 |  19 |  16 |  14 |   5 |  15 |   8 |  17 |  15 |  10 |\n",
       "| 충북 음성군 |  43 |  26 |  25 |  31 |  44 |  47 |  47 |  42 |  46 |  48 |  41 |  39 |\n",
       "| 충북 제천시 |  37 |  34 |  45 |  69 |  81 |  63 |  58 |  68 |  68 |  76 |  65 |  73 |\n",
       "| 충북 증평군 |   7 |   9 |  15 |  14 |  12 |  21 |  25 |  23 |  18 |  27 |  15 |  20 |\n",
       "| 충북 진천군 |  29 |  32 |  37 |  31 |  37 |  40 |  47 |  47 |  44 |  38 |  51 |  43 |\n",
       "| 충북 청주시 | 286 | 271 | 336 | 354 | 414 | 377 | 372 | 358 | 415 | 374 | 400 | 380 |\n",
       "| 충북 충주시 |  78 |  60 |  79 |  89 | 105 |  89 |  90 |  74 |  95 |  91 |  90 |  86 |\n",
       "\n"
      ],
      "text/plain": [
       "              1   2   3   4   5   6   7   8   9   10  11  12 \n",
       "강원 강릉시    52  45  55  47  92  79  50  85  67  72  65  49\n",
       "강원 고성군     7   8  12   9   8  12  10   7  14   7   5  12\n",
       "강원 동해시    20  27  25  19  25  32  31  29  28  27  26  26\n",
       "강원 삼척시    10   6  15  22  24  21  12  21  20  13  14  22\n",
       "강원 속초시    23  28  20  26  36  22  36  44  19  43  28  37\n",
       "강원 양구군     3   3   5   5  11   9  10   8  10  10   9  10\n",
       "강원 양양군     6  10   4  19   9  19  12  27  16  22   5  13\n",
       "강원 영월군    11  10  18  11  18  14  12  10  14  11   9  13\n",
       "강원 원주시   134 101 103 105 136 127 113 135 129 121 117 102\n",
       "강원 인제군     6   4   5   7   9  10  11  10  17  10   8  10\n",
       "강원 정선군     6  14   8  12  15  19  19  27  14  13   6  12\n",
       "강원 철원군     7   4   8   8   9  11  12   6  20  12  13   7\n",
       "강원 춘천시    85  86 108  98 102  99  98 108 119 114 119 115\n",
       "강원 태백시    12   8  13  11  17  25  16  17  23  24  17  17\n",
       "강원 평창군    13   7   8  19  15  10  23  23  18  18   8  14\n",
       "강원 홍천군    13  11  13  14  24  16  22  27  21  28  13  23\n",
       "강원 화천군     7   6   3   9   8   8  12   7   8   7   5   6\n",
       "강원 횡성군     8  17   7  12  16  10  21  16  21   7  22  20\n",
       "경기 가평군    24  23  26  40  32  30  29  40  36  30  24  23\n",
       "경기 고양시   311 232 259 281 341 285 304 326 314 292 305 353\n",
       "경기 과천시    13  11  10  15  11  12   8  15  21   9  13  13\n",
       "경기 광명시    71  71  80  97  85  92  82 113  92  87 103  74\n",
       "경기 광주시   185 140 173 154 179 192 164 201 192 158 197 194\n",
       "경기 구리시    48  61  65  60  53  53  52  68  52  66  63  61\n",
       "경기 군포시    41  33  44  37  51  40  47  44  40  33  37  41\n",
       "경기 김포시   158 106 134 164 149 139 149 156 160 164 155 162\n",
       "경기 남양주시 154 123 134 160 158 158 166 171 166 209 166 177\n",
       "경기 동두천시  36  24  21  24  29  15  27  33  25  20  29  31\n",
       "경기 부천시   259 227 291 273 313 276 289 305 334 261 321 329\n",
       "경기 성남시   335 260 301 271 328 289 332 324 333 316 366 383\n",
       "⋮             ⋮   ⋮   ⋮   ⋮   ⋮   ⋮   ⋮   ⋮   ⋮   ⋮   ⋮   ⋮  \n",
       "전북 정읍시    26  20  30  28  35  27  30  27  38  23  39  27\n",
       "전북 진안군     4   2   8   8   8  11  10  14   7   5  10  10\n",
       "제주 서귀포시 107  77 106  90  89 101  98 112 110 110 114  96\n",
       "제주 제주시   178 188 208 217 229 230 217 287 238 267 251 230\n",
       "충남 계룡시     3   4   4   1   2   5   9   8  10   7   2   4\n",
       "충남 공주시    33  36  33  41  40  44  31  42  48  37  31  23\n",
       "충남 금산군    13   8  18  12   8  16  15  11  13   8   7  10\n",
       "충남 논산시    23  24  23  30  34  21  18  24  35  26  23  17\n",
       "충남 당진시    44  33  33  52  44  43  46  45  58  43  55  65\n",
       "충남 보령시    21  20  21  24  32  15  27  20  24  25  28  22\n",
       "충남 부여군    13   9  16  25  26  20  29  23  22  18  20  16\n",
       "충남 서산시    42  39  63  49  60  53  54  73  59  84  68  39\n",
       "충남 서천군    13   8  15  23  21  12  21  23  20  28  24  18\n",
       "충남 아산시    83  96  95 114 113 102  98  92 120 110 132 134\n",
       "충남 예산군    25  23  29  32  26  34  24  31  37  46  41  26\n",
       "충남 천안시   225 226 275 258 246 303 315 316 334 272 349 284\n",
       "충남 청양군     5   9  16  15  17  11  14  15  22  17  16   8\n",
       "충남 태안군    12  11  15  21  19  21  12  20  25  33  17  12\n",
       "충남 홍성군     9  18  11  18  29  22  20  28  18  20  19  24\n",
       "충북 괴산군    10  12  10  10  18  15  12  21  20  16  11   9\n",
       "충북 단양군    11   5   7   5   7   4   5  14  12  11  14   5\n",
       "충북 보은군     7   9  13  15   7  15   8   5  14  20  12   8\n",
       "충북 영동군     3  10   7  18  22  14  10   9  13  14  11   3\n",
       "충북 옥천군     6   9  13  19  16  14   5  15   8  17  15  10\n",
       "충북 음성군    43  26  25  31  44  47  47  42  46  48  41  39\n",
       "충북 제천시    37  34  45  69  81  63  58  68  68  76  65  73\n",
       "충북 증평군     7   9  15  14  12  21  25  23  18  27  15  20\n",
       "충북 진천군    29  32  37  31  37  40  47  47  44  38  51  43\n",
       "충북 청주시   286 271 336 354 414 377 372 358 415 374 400 380\n",
       "충북 충주시    78  60  79  89 105  89  90  74  95  91  90  86"
      ]
     },
     "metadata": {},
     "output_type": "display_data"
    }
   ],
   "source": [
    "# 23번\n",
    "pivot_table <- tapply(data$사고건수, list(data$지역, data$발생월), sum, na.rm = TRUE)\n",
    "pivot_table"
   ]
  },
  {
   "cell_type": "markdown",
   "metadata": {},
   "source": [
    "\n",
    "# 24번  \n",
    "\n",
    "'''   \n",
    "library(readxl)  \n",
    "  \n",
    "sheet1 <- read_xlsx(\"../mydata/air_2021.xlsx\", sheet = 1)  \n",
    "sheet2 <- read_xlsx(\"../mydata/air_2021.xlsx\", sheet = 2)  \n",
    "sheet3 <- read_xlsx(\"../mydata/air_2021.xlsx\", sheet = 3)  \n",
    "sheet4 <- read_xlsx(\"../mydata/air_2021.xlsx\", sheet = 4)  \n",
    "sheet5 <- read_xlsx(\"../mydata/air_2021.xlsx\", sheet = 5)  \n",
    "sheet6 <- read_xlsx(\"../mydata/air_2021.xlsx\", sheet = 6)  \n",
    "\n",
    "air <- rbind(sheet1, sheet2, sheet3, sheet4, sheet5, sheet6)  \n",
    "head(air)  \n",
    "'''  "
   ]
  },
  {
   "cell_type": "code",
   "execution_count": 25,
   "metadata": {
    "vscode": {
     "languageId": "r"
    }
   },
   "outputs": [
    {
     "data": {
      "text/html": [
       "<table class=\"dataframe\">\n",
       "<caption>A data.frame: 6 × 11</caption>\n",
       "<thead>\n",
       "\t<tr><th></th><th scope=col>prov</th><th scope=col>city</th><th scope=col>point</th><th scope=col>code</th><th scope=col>datatime</th><th scope=col>SC2</th><th scope=col>PM10</th><th scope=col>O3</th><th scope=col>NO2</th><th scope=col>CO</th><th scope=col>PM25</th></tr>\n",
       "\t<tr><th></th><th scope=col>&lt;chr&gt;</th><th scope=col>&lt;chr&gt;</th><th scope=col>&lt;chr&gt;</th><th scope=col>&lt;int&gt;</th><th scope=col>&lt;chr&gt;</th><th scope=col>&lt;dbl&gt;</th><th scope=col>&lt;int&gt;</th><th scope=col>&lt;dbl&gt;</th><th scope=col>&lt;dbl&gt;</th><th scope=col>&lt;dbl&gt;</th><th scope=col>&lt;int&gt;</th></tr>\n",
       "</thead>\n",
       "<tbody>\n",
       "\t<tr><th scope=row>1</th><td>강원</td><td>강릉시</td><td>옥천동</td><td>632132</td><td>2021-01-01 01:00:00</td><td>0.003</td><td>21</td><td>0.031</td><td>0.011</td><td>0.3</td><td>-999</td></tr>\n",
       "\t<tr><th scope=row>2</th><td>강원</td><td>강릉시</td><td>옥천동</td><td>632132</td><td>2021-01-01 02:00:00</td><td>0.003</td><td>16</td><td>0.028</td><td>0.014</td><td>0.4</td><td>-999</td></tr>\n",
       "\t<tr><th scope=row>3</th><td>강원</td><td>강릉시</td><td>옥천동</td><td>632132</td><td>2021-01-01 03:00:00</td><td>0.003</td><td>19</td><td>0.029</td><td>0.012</td><td>0.3</td><td>-999</td></tr>\n",
       "\t<tr><th scope=row>4</th><td>강원</td><td>강릉시</td><td>옥천동</td><td>632132</td><td>2021-01-01 04:00:00</td><td>0.003</td><td>19</td><td>0.031</td><td>0.011</td><td>0.3</td><td>-999</td></tr>\n",
       "\t<tr><th scope=row>5</th><td>강원</td><td>강릉시</td><td>옥천동</td><td>632132</td><td>2021-01-01 05:00:00</td><td>0.003</td><td>18</td><td>0.028</td><td>0.015</td><td>0.3</td><td>-999</td></tr>\n",
       "\t<tr><th scope=row>6</th><td>강원</td><td>강릉시</td><td>옥천동</td><td>632132</td><td>2021-01-01 06:00:00</td><td>0.003</td><td>16</td><td>0.027</td><td>0.018</td><td>0.3</td><td>-999</td></tr>\n",
       "</tbody>\n",
       "</table>\n"
      ],
      "text/latex": [
       "A data.frame: 6 × 11\n",
       "\\begin{tabular}{r|lllllllllll}\n",
       "  & prov & city & point & code & datatime & SC2 & PM10 & O3 & NO2 & CO & PM25\\\\\n",
       "  & <chr> & <chr> & <chr> & <int> & <chr> & <dbl> & <int> & <dbl> & <dbl> & <dbl> & <int>\\\\\n",
       "\\hline\n",
       "\t1 & 강원 & 강릉시 & 옥천동 & 632132 & 2021-01-01 01:00:00 & 0.003 & 21 & 0.031 & 0.011 & 0.3 & -999\\\\\n",
       "\t2 & 강원 & 강릉시 & 옥천동 & 632132 & 2021-01-01 02:00:00 & 0.003 & 16 & 0.028 & 0.014 & 0.4 & -999\\\\\n",
       "\t3 & 강원 & 강릉시 & 옥천동 & 632132 & 2021-01-01 03:00:00 & 0.003 & 19 & 0.029 & 0.012 & 0.3 & -999\\\\\n",
       "\t4 & 강원 & 강릉시 & 옥천동 & 632132 & 2021-01-01 04:00:00 & 0.003 & 19 & 0.031 & 0.011 & 0.3 & -999\\\\\n",
       "\t5 & 강원 & 강릉시 & 옥천동 & 632132 & 2021-01-01 05:00:00 & 0.003 & 18 & 0.028 & 0.015 & 0.3 & -999\\\\\n",
       "\t6 & 강원 & 강릉시 & 옥천동 & 632132 & 2021-01-01 06:00:00 & 0.003 & 16 & 0.027 & 0.018 & 0.3 & -999\\\\\n",
       "\\end{tabular}\n"
      ],
      "text/markdown": [
       "\n",
       "A data.frame: 6 × 11\n",
       "\n",
       "| <!--/--> | prov &lt;chr&gt; | city &lt;chr&gt; | point &lt;chr&gt; | code &lt;int&gt; | datatime &lt;chr&gt; | SC2 &lt;dbl&gt; | PM10 &lt;int&gt; | O3 &lt;dbl&gt; | NO2 &lt;dbl&gt; | CO &lt;dbl&gt; | PM25 &lt;int&gt; |\n",
       "|---|---|---|---|---|---|---|---|---|---|---|---|\n",
       "| 1 | 강원 | 강릉시 | 옥천동 | 632132 | 2021-01-01 01:00:00 | 0.003 | 21 | 0.031 | 0.011 | 0.3 | -999 |\n",
       "| 2 | 강원 | 강릉시 | 옥천동 | 632132 | 2021-01-01 02:00:00 | 0.003 | 16 | 0.028 | 0.014 | 0.4 | -999 |\n",
       "| 3 | 강원 | 강릉시 | 옥천동 | 632132 | 2021-01-01 03:00:00 | 0.003 | 19 | 0.029 | 0.012 | 0.3 | -999 |\n",
       "| 4 | 강원 | 강릉시 | 옥천동 | 632132 | 2021-01-01 04:00:00 | 0.003 | 19 | 0.031 | 0.011 | 0.3 | -999 |\n",
       "| 5 | 강원 | 강릉시 | 옥천동 | 632132 | 2021-01-01 05:00:00 | 0.003 | 18 | 0.028 | 0.015 | 0.3 | -999 |\n",
       "| 6 | 강원 | 강릉시 | 옥천동 | 632132 | 2021-01-01 06:00:00 | 0.003 | 16 | 0.027 | 0.018 | 0.3 | -999 |\n",
       "\n"
      ],
      "text/plain": [
       "  prov city   point  code   datatime            SC2   PM10 O3    NO2   CO  PM25\n",
       "1 강원 강릉시 옥천동 632132 2021-01-01 01:00:00 0.003 21   0.031 0.011 0.3 -999\n",
       "2 강원 강릉시 옥천동 632132 2021-01-01 02:00:00 0.003 16   0.028 0.014 0.4 -999\n",
       "3 강원 강릉시 옥천동 632132 2021-01-01 03:00:00 0.003 19   0.029 0.012 0.3 -999\n",
       "4 강원 강릉시 옥천동 632132 2021-01-01 04:00:00 0.003 19   0.031 0.011 0.3 -999\n",
       "5 강원 강릉시 옥천동 632132 2021-01-01 05:00:00 0.003 18   0.028 0.015 0.3 -999\n",
       "6 강원 강릉시 옥천동 632132 2021-01-01 06:00:00 0.003 16   0.027 0.018 0.3 -999"
      ]
     },
     "metadata": {},
     "output_type": "display_data"
    }
   ],
   "source": [
    "air <- read.csv(\"../mydata/air_2021.csv\")\n",
    "head(air)"
   ]
  },
  {
   "cell_type": "code",
   "execution_count": 26,
   "metadata": {
    "vscode": {
     "languageId": "r"
    }
   },
   "outputs": [
    {
     "data": {
      "text/plain": [
       "\n",
       "  전남   전북 \n",
       "375240 332904 "
      ]
     },
     "metadata": {},
     "output_type": "display_data"
    }
   ],
   "source": [
    "# 25번\n",
    "jj <- subset(air, prov %in% c(\"전남\", \"전북\"))\n",
    "table(jj$prov)"
   ]
  },
  {
   "cell_type": "code",
   "execution_count": null,
   "metadata": {
    "vscode": {
     "languageId": "r"
    }
   },
   "outputs": [
    {
     "data": {
      "text/html": [
       "<table class=\"dataframe\">\n",
       "<caption>A data.frame: 6 × 7</caption>\n",
       "<thead>\n",
       "\t<tr><th></th><th scope=col>city2</th><th scope=col>point</th><th scope=col>year</th><th scope=col>month</th><th scope=col>day</th><th scope=col>PM10</th><th scope=col>PM25</th></tr>\n",
       "\t<tr><th></th><th scope=col>&lt;chr&gt;</th><th scope=col>&lt;chr&gt;</th><th scope=col>&lt;int&gt;</th><th scope=col>&lt;int&gt;</th><th scope=col>&lt;int&gt;</th><th scope=col>&lt;int&gt;</th><th scope=col>&lt;int&gt;</th></tr>\n",
       "</thead>\n",
       "<tbody>\n",
       "\t<tr><th scope=row>1</th><td>전남 광양시</td><td>중동</td><td>2021</td><td>1</td><td>1</td><td>17</td><td>9</td></tr>\n",
       "\t<tr><th scope=row>2</th><td>전남 광양시</td><td>중동</td><td>2021</td><td>1</td><td>1</td><td>17</td><td>8</td></tr>\n",
       "\t<tr><th scope=row>3</th><td>전남 광양시</td><td>중동</td><td>2021</td><td>1</td><td>1</td><td>16</td><td>9</td></tr>\n",
       "\t<tr><th scope=row>4</th><td>전남 광양시</td><td>중동</td><td>2021</td><td>1</td><td>1</td><td>14</td><td>9</td></tr>\n",
       "\t<tr><th scope=row>5</th><td>전남 광양시</td><td>중동</td><td>2021</td><td>1</td><td>1</td><td>16</td><td>7</td></tr>\n",
       "\t<tr><th scope=row>6</th><td>전남 광양시</td><td>중동</td><td>2021</td><td>1</td><td>1</td><td>13</td><td>7</td></tr>\n",
       "</tbody>\n",
       "</table>\n"
      ],
      "text/latex": [
       "A data.frame: 6 × 7\n",
       "\\begin{tabular}{r|lllllll}\n",
       "  & city2 & point & year & month & day & PM10 & PM25\\\\\n",
       "  & <chr> & <chr> & <int> & <int> & <int> & <int> & <int>\\\\\n",
       "\\hline\n",
       "\t1 & 전남 광양시 & 중동 & 2021 & 1 & 1 & 17 & 9\\\\\n",
       "\t2 & 전남 광양시 & 중동 & 2021 & 1 & 1 & 17 & 8\\\\\n",
       "\t3 & 전남 광양시 & 중동 & 2021 & 1 & 1 & 16 & 9\\\\\n",
       "\t4 & 전남 광양시 & 중동 & 2021 & 1 & 1 & 14 & 9\\\\\n",
       "\t5 & 전남 광양시 & 중동 & 2021 & 1 & 1 & 16 & 7\\\\\n",
       "\t6 & 전남 광양시 & 중동 & 2021 & 1 & 1 & 13 & 7\\\\\n",
       "\\end{tabular}\n"
      ],
      "text/markdown": [
       "\n",
       "A data.frame: 6 × 7\n",
       "\n",
       "| <!--/--> | city2 &lt;chr&gt; | point &lt;chr&gt; | year &lt;int&gt; | month &lt;int&gt; | day &lt;int&gt; | PM10 &lt;int&gt; | PM25 &lt;int&gt; |\n",
       "|---|---|---|---|---|---|---|---|\n",
       "| 1 | 전남 광양시 | 중동 | 2021 | 1 | 1 | 17 | 9 |\n",
       "| 2 | 전남 광양시 | 중동 | 2021 | 1 | 1 | 17 | 8 |\n",
       "| 3 | 전남 광양시 | 중동 | 2021 | 1 | 1 | 16 | 9 |\n",
       "| 4 | 전남 광양시 | 중동 | 2021 | 1 | 1 | 14 | 9 |\n",
       "| 5 | 전남 광양시 | 중동 | 2021 | 1 | 1 | 16 | 7 |\n",
       "| 6 | 전남 광양시 | 중동 | 2021 | 1 | 1 | 13 | 7 |\n",
       "\n"
      ],
      "text/plain": [
       "  city2       point year month day PM10 PM25\n",
       "1 전남 광양시 중동  2021 1     1   17   9   \n",
       "2 전남 광양시 중동  2021 1     1   17   8   \n",
       "3 전남 광양시 중동  2021 1     1   16   9   \n",
       "4 전남 광양시 중동  2021 1     1   14   9   \n",
       "5 전남 광양시 중동  2021 1     1   16   7   \n",
       "6 전남 광양시 중동  2021 1     1   13   7   "
      ]
     },
     "metadata": {},
     "output_type": "display_data"
    }
   ],
   "source": [
    "# 26번\n",
    "library(dplyr)\n",
    "newjj <- jj %>%\n",
    "  filter(grepl(\"시$\", city)) %>%\n",
    "  mutate(\n",
    "    year = as.integer(format(as.POSIXct(datatime, format = \"%Y-%m-%d %H:%M:%S\"), \"%Y\")),\n",
    "    month = as.integer(format(as.POSIXct(datatime, format = \"%Y-%m-%d %H:%M:%S\"), \"%m\")),\n",
    "    day = as.integer(format(as.POSIXct(datatime, format = \"%Y-%m-%d %H:%M:%S\"), \"%d\")),\n",
    "    city2 = paste(prov, city, sep = \" \")\n",
    "  ) %>%\n",
    "  select(city2, point, year, month, day, PM10, PM25)\n",
    "\n",
    "head(newjj)\n"
   ]
  },
  {
   "cell_type": "code",
   "execution_count": 32,
   "metadata": {
    "vscode": {
     "languageId": "r"
    }
   },
   "outputs": [
    {
     "data": {
      "text/plain": [
       "\n",
       "전남 광양시 전남 나주시 전남 목포시 전남 순천시 전남 여수시 전북 군산시 \n",
       "      35016        8760       17520       43800       70080       57696 \n",
       "전북 김제시 전북 남원시 전북 익산시 전북 전주시 전북 정읍시 \n",
       "       8760        9864       48072       52560       24960 "
      ]
     },
     "metadata": {},
     "output_type": "display_data"
    }
   ],
   "source": [
    "# 27번\n",
    "table(newjj$city2)"
   ]
  },
  {
   "cell_type": "code",
   "execution_count": 33,
   "metadata": {
    "vscode": {
     "languageId": "r"
    }
   },
   "outputs": [
    {
     "data": {
      "text/plain": [
       "    city2              point                year           month       \n",
       " Length:377088      Length:377088      Min.   :2021    Min.   : 1.000  \n",
       " Class :character   Class :character   1st Qu.:2021    1st Qu.: 4.000  \n",
       " Mode  :character   Mode  :character   Median :2021    Median : 7.000  \n",
       "                                       Mean   :2021    Mean   : 6.646  \n",
       "                                       3rd Qu.:2021    3rd Qu.:10.000  \n",
       "                                       Max.   :2021    Max.   :12.000  \n",
       "                                       NA's   :15712   NA's   :15712   \n",
       "      day             PM10             PM25        \n",
       " Min.   : 1.00   Min.   :-999.0   Min.   :-999.00  \n",
       " 1st Qu.: 8.00   1st Qu.:  14.0   1st Qu.:   6.00  \n",
       " Median :16.00   Median :  24.0   Median :  12.00  \n",
       " Mean   :15.76   Mean   : -45.8   Mean   : -74.93  \n",
       " 3rd Qu.:23.00   3rd Qu.:  39.0   3rd Qu.:  21.00  \n",
       " Max.   :31.00   Max.   :1569.0   Max.   : 235.00  \n",
       " NA's   :15712                                     "
      ]
     },
     "metadata": {},
     "output_type": "display_data"
    }
   ],
   "source": [
    "# 28번\n",
    "summary(newjj)"
   ]
  },
  {
   "cell_type": "code",
   "execution_count": 36,
   "metadata": {
    "vscode": {
     "languageId": "r"
    }
   },
   "outputs": [
    {
     "data": {
      "text/plain": [
       "    city2              point                year           month       \n",
       " Length:377088      Length:377088      Min.   :2021    Min.   : 1.000  \n",
       " Class :character   Class :character   1st Qu.:2021    1st Qu.: 4.000  \n",
       " Mode  :character   Mode  :character   Median :2021    Median : 7.000  \n",
       "                                       Mean   :2021    Mean   : 6.646  \n",
       "                                       3rd Qu.:2021    3rd Qu.:10.000  \n",
       "                                       Max.   :2021    Max.   :12.000  \n",
       "                                       NA's   :15712   NA's   :15712   \n",
       "      day             PM10             PM25       \n",
       " Min.   : 1.00   Min.   :   1.0   Min.   :  0.00  \n",
       " 1st Qu.: 8.00   1st Qu.:  17.0   1st Qu.:  8.00  \n",
       " Median :16.00   Median :  26.0   Median : 13.00  \n",
       " Mean   :15.76   Mean   :  35.3   Mean   : 17.34  \n",
       " 3rd Qu.:23.00   3rd Qu.:  41.0   3rd Qu.: 22.00  \n",
       " Max.   :31.00   Max.   :1569.0   Max.   :235.00  \n",
       " NA's   :15712   NA's   :29567    NA's   :34234   "
      ]
     },
     "metadata": {},
     "output_type": "display_data"
    }
   ],
   "source": [
    "# 29번\n",
    "newjj[newjj == -999] <- NA\n",
    "summary(newjj)"
   ]
  },
  {
   "cell_type": "code",
   "execution_count": 37,
   "metadata": {
    "vscode": {
     "languageId": "r"
    }
   },
   "outputs": [
    {
     "data": {
      "text/html": [
       "<table class=\"dataframe\">\n",
       "<caption>A tibble: 11 × 6</caption>\n",
       "<thead>\n",
       "\t<tr><th scope=col>city2</th><th scope=col>n</th><th scope=col>평균</th><th scope=col>최소값</th><th scope=col>최대값</th><th scope=col>중앙값</th></tr>\n",
       "\t<tr><th scope=col>&lt;chr&gt;</th><th scope=col>&lt;int&gt;</th><th scope=col>&lt;dbl&gt;</th><th scope=col>&lt;int&gt;</th><th scope=col>&lt;int&gt;</th><th scope=col>&lt;dbl&gt;</th></tr>\n",
       "</thead>\n",
       "<tbody>\n",
       "\t<tr><td>전남 광양시</td><td>29008</td><td>32.67643</td><td>1</td><td>1175</td><td>24</td></tr>\n",
       "\t<tr><td>전남 나주시</td><td> 8379</td><td>28.24728</td><td>1</td><td> 861</td><td>20</td></tr>\n",
       "\t<tr><td>전남 목포시</td><td>16738</td><td>37.21394</td><td>2</td><td>1569</td><td>26</td></tr>\n",
       "\t<tr><td>전남 순천시</td><td>41875</td><td>28.88898</td><td>1</td><td>1305</td><td>22</td></tr>\n",
       "\t<tr><td>전남 여수시</td><td>67525</td><td>28.64221</td><td>1</td><td>1182</td><td>21</td></tr>\n",
       "\t<tr><td>전북 군산시</td><td>55251</td><td>42.16754</td><td>1</td><td>1194</td><td>31</td></tr>\n",
       "\t<tr><td>전북 김제시</td><td> 8533</td><td>43.19559</td><td>1</td><td> 985</td><td>32</td></tr>\n",
       "\t<tr><td>전북 남원시</td><td> 8785</td><td>31.26227</td><td>1</td><td> 985</td><td>24</td></tr>\n",
       "\t<tr><td>전북 익산시</td><td>39098</td><td>39.97371</td><td>1</td><td> 935</td><td>30</td></tr>\n",
       "\t<tr><td>전북 전주시</td><td>50236</td><td>40.28396</td><td>1</td><td> 985</td><td>29</td></tr>\n",
       "\t<tr><td>전북 정읍시</td><td>22093</td><td>34.23374</td><td>1</td><td> 943</td><td>26</td></tr>\n",
       "</tbody>\n",
       "</table>\n"
      ],
      "text/latex": [
       "A tibble: 11 × 6\n",
       "\\begin{tabular}{llllll}\n",
       " city2 & n & 평균 & 최소값 & 최대값 & 중앙값\\\\\n",
       " <chr> & <int> & <dbl> & <int> & <int> & <dbl>\\\\\n",
       "\\hline\n",
       "\t 전남 광양시 & 29008 & 32.67643 & 1 & 1175 & 24\\\\\n",
       "\t 전남 나주시 &  8379 & 28.24728 & 1 &  861 & 20\\\\\n",
       "\t 전남 목포시 & 16738 & 37.21394 & 2 & 1569 & 26\\\\\n",
       "\t 전남 순천시 & 41875 & 28.88898 & 1 & 1305 & 22\\\\\n",
       "\t 전남 여수시 & 67525 & 28.64221 & 1 & 1182 & 21\\\\\n",
       "\t 전북 군산시 & 55251 & 42.16754 & 1 & 1194 & 31\\\\\n",
       "\t 전북 김제시 &  8533 & 43.19559 & 1 &  985 & 32\\\\\n",
       "\t 전북 남원시 &  8785 & 31.26227 & 1 &  985 & 24\\\\\n",
       "\t 전북 익산시 & 39098 & 39.97371 & 1 &  935 & 30\\\\\n",
       "\t 전북 전주시 & 50236 & 40.28396 & 1 &  985 & 29\\\\\n",
       "\t 전북 정읍시 & 22093 & 34.23374 & 1 &  943 & 26\\\\\n",
       "\\end{tabular}\n"
      ],
      "text/markdown": [
       "\n",
       "A tibble: 11 × 6\n",
       "\n",
       "| city2 &lt;chr&gt; | n &lt;int&gt; | 평균 &lt;dbl&gt; | 최소값 &lt;int&gt; | 최대값 &lt;int&gt; | 중앙값 &lt;dbl&gt; |\n",
       "|---|---|---|---|---|---|\n",
       "| 전남 광양시 | 29008 | 32.67643 | 1 | 1175 | 24 |\n",
       "| 전남 나주시 |  8379 | 28.24728 | 1 |  861 | 20 |\n",
       "| 전남 목포시 | 16738 | 37.21394 | 2 | 1569 | 26 |\n",
       "| 전남 순천시 | 41875 | 28.88898 | 1 | 1305 | 22 |\n",
       "| 전남 여수시 | 67525 | 28.64221 | 1 | 1182 | 21 |\n",
       "| 전북 군산시 | 55251 | 42.16754 | 1 | 1194 | 31 |\n",
       "| 전북 김제시 |  8533 | 43.19559 | 1 |  985 | 32 |\n",
       "| 전북 남원시 |  8785 | 31.26227 | 1 |  985 | 24 |\n",
       "| 전북 익산시 | 39098 | 39.97371 | 1 |  935 | 30 |\n",
       "| 전북 전주시 | 50236 | 40.28396 | 1 |  985 | 29 |\n",
       "| 전북 정읍시 | 22093 | 34.23374 | 1 |  943 | 26 |\n",
       "\n"
      ],
      "text/plain": [
       "   city2       n     평균     최소값 최대값 중앙값\n",
       "1  전남 광양시 29008 32.67643 1      1175   24    \n",
       "2  전남 나주시  8379 28.24728 1       861   20    \n",
       "3  전남 목포시 16738 37.21394 2      1569   26    \n",
       "4  전남 순천시 41875 28.88898 1      1305   22    \n",
       "5  전남 여수시 67525 28.64221 1      1182   21    \n",
       "6  전북 군산시 55251 42.16754 1      1194   31    \n",
       "7  전북 김제시  8533 43.19559 1       985   32    \n",
       "8  전북 남원시  8785 31.26227 1       985   24    \n",
       "9  전북 익산시 39098 39.97371 1       935   30    \n",
       "10 전북 전주시 50236 40.28396 1       985   29    \n",
       "11 전북 정읍시 22093 34.23374 1       943   26    "
      ]
     },
     "metadata": {},
     "output_type": "display_data"
    }
   ],
   "source": [
    "# 30번\n",
    "library(dplyr)\n",
    "\n",
    "grp <- newjj %>%\n",
    "  group_by(city2) %>%\n",
    "  summarise(\n",
    "    n = sum(!is.na(PM10)),\n",
    "    평균 = mean(PM10, na.rm = TRUE),\n",
    "    최소값 = min(PM10, na.rm = TRUE),\n",
    "    최대값 = max(PM10, na.rm = TRUE),\n",
    "    중앙값 = median(PM10, na.rm = TRUE)\n",
    "  )\n",
    "\n",
    "grp"
   ]
  },
  {
   "cell_type": "code",
   "execution_count": 38,
   "metadata": {
    "vscode": {
     "languageId": "r"
    }
   },
   "outputs": [
    {
     "data": {
      "text/html": [
       "<table class=\"dataframe\">\n",
       "<caption>A data.frame: 6 × 7</caption>\n",
       "<thead>\n",
       "\t<tr><th></th><th scope=col>city2</th><th scope=col>point</th><th scope=col>year</th><th scope=col>month</th><th scope=col>day</th><th scope=col>PM10</th><th scope=col>PM25</th></tr>\n",
       "\t<tr><th></th><th scope=col>&lt;chr&gt;</th><th scope=col>&lt;chr&gt;</th><th scope=col>&lt;int&gt;</th><th scope=col>&lt;int&gt;</th><th scope=col>&lt;int&gt;</th><th scope=col>&lt;int&gt;</th><th scope=col>&lt;int&gt;</th></tr>\n",
       "</thead>\n",
       "<tbody>\n",
       "\t<tr><th scope=row>1</th><td>전남 여수시</td><td>서강동</td><td>2021</td><td>1</td><td>1</td><td>16</td><td>2</td></tr>\n",
       "\t<tr><th scope=row>2</th><td>전남 여수시</td><td>서강동</td><td>2021</td><td>1</td><td>1</td><td>14</td><td>1</td></tr>\n",
       "\t<tr><th scope=row>3</th><td>전남 여수시</td><td>서강동</td><td>2021</td><td>1</td><td>1</td><td>15</td><td>7</td></tr>\n",
       "\t<tr><th scope=row>4</th><td>전남 여수시</td><td>서강동</td><td>2021</td><td>1</td><td>1</td><td>15</td><td>9</td></tr>\n",
       "\t<tr><th scope=row>5</th><td>전남 여수시</td><td>서강동</td><td>2021</td><td>1</td><td>1</td><td>14</td><td>9</td></tr>\n",
       "\t<tr><th scope=row>6</th><td>전남 여수시</td><td>서강동</td><td>2021</td><td>1</td><td>1</td><td>15</td><td>8</td></tr>\n",
       "</tbody>\n",
       "</table>\n"
      ],
      "text/latex": [
       "A data.frame: 6 × 7\n",
       "\\begin{tabular}{r|lllllll}\n",
       "  & city2 & point & year & month & day & PM10 & PM25\\\\\n",
       "  & <chr> & <chr> & <int> & <int> & <int> & <int> & <int>\\\\\n",
       "\\hline\n",
       "\t1 & 전남 여수시 & 서강동 & 2021 & 1 & 1 & 16 & 2\\\\\n",
       "\t2 & 전남 여수시 & 서강동 & 2021 & 1 & 1 & 14 & 1\\\\\n",
       "\t3 & 전남 여수시 & 서강동 & 2021 & 1 & 1 & 15 & 7\\\\\n",
       "\t4 & 전남 여수시 & 서강동 & 2021 & 1 & 1 & 15 & 9\\\\\n",
       "\t5 & 전남 여수시 & 서강동 & 2021 & 1 & 1 & 14 & 9\\\\\n",
       "\t6 & 전남 여수시 & 서강동 & 2021 & 1 & 1 & 15 & 8\\\\\n",
       "\\end{tabular}\n"
      ],
      "text/markdown": [
       "\n",
       "A data.frame: 6 × 7\n",
       "\n",
       "| <!--/--> | city2 &lt;chr&gt; | point &lt;chr&gt; | year &lt;int&gt; | month &lt;int&gt; | day &lt;int&gt; | PM10 &lt;int&gt; | PM25 &lt;int&gt; |\n",
       "|---|---|---|---|---|---|---|---|\n",
       "| 1 | 전남 여수시 | 서강동 | 2021 | 1 | 1 | 16 | 2 |\n",
       "| 2 | 전남 여수시 | 서강동 | 2021 | 1 | 1 | 14 | 1 |\n",
       "| 3 | 전남 여수시 | 서강동 | 2021 | 1 | 1 | 15 | 7 |\n",
       "| 4 | 전남 여수시 | 서강동 | 2021 | 1 | 1 | 15 | 9 |\n",
       "| 5 | 전남 여수시 | 서강동 | 2021 | 1 | 1 | 14 | 9 |\n",
       "| 6 | 전남 여수시 | 서강동 | 2021 | 1 | 1 | 15 | 8 |\n",
       "\n"
      ],
      "text/plain": [
       "  city2       point  year month day PM10 PM25\n",
       "1 전남 여수시 서강동 2021 1     1   16   2   \n",
       "2 전남 여수시 서강동 2021 1     1   14   1   \n",
       "3 전남 여수시 서강동 2021 1     1   15   7   \n",
       "4 전남 여수시 서강동 2021 1     1   15   9   \n",
       "5 전남 여수시 서강동 2021 1     1   14   9   \n",
       "6 전남 여수시 서강동 2021 1     1   15   8   "
      ]
     },
     "metadata": {},
     "output_type": "display_data"
    }
   ],
   "source": [
    "# 31번\n",
    "yeosu <- newjj %>%\n",
    "  filter(grepl(\"여수시\", city2))\n",
    "\n",
    "head(yeosu)"
   ]
  },
  {
   "cell_type": "code",
   "execution_count": null,
   "metadata": {
    "vscode": {
     "languageId": "r"
    }
   },
   "outputs": [
    {
     "data": {
      "text/html": [
       "<table class=\"dataframe\">\n",
       "<caption>A tibble: 9 × 15</caption>\n",
       "<thead>\n",
       "\t<tr><th scope=col>point</th><th scope=col>1</th><th scope=col>2</th><th scope=col>3</th><th scope=col>4</th><th scope=col>5</th><th scope=col>6</th><th scope=col>7</th><th scope=col>8</th><th scope=col>9</th><th scope=col>10</th><th scope=col>11</th><th scope=col>12</th><th scope=col>NA</th><th scope=col>all</th></tr>\n",
       "\t<tr><th scope=col>&lt;chr&gt;</th><th scope=col>&lt;dbl&gt;</th><th scope=col>&lt;dbl&gt;</th><th scope=col>&lt;dbl&gt;</th><th scope=col>&lt;dbl&gt;</th><th scope=col>&lt;dbl&gt;</th><th scope=col>&lt;dbl&gt;</th><th scope=col>&lt;dbl&gt;</th><th scope=col>&lt;dbl&gt;</th><th scope=col>&lt;dbl&gt;</th><th scope=col>&lt;dbl&gt;</th><th scope=col>&lt;dbl&gt;</th><th scope=col>&lt;dbl&gt;</th><th scope=col>&lt;dbl&gt;</th><th scope=col>&lt;dbl&gt;</th></tr>\n",
       "</thead>\n",
       "<tbody>\n",
       "\t<tr><td>덕충동</td><td>31.40116</td><td>29.25000</td><td>51.63374</td><td>27.26492</td><td>40.19714</td><td>20.44428</td><td>17.44265</td><td>16.83915</td><td>15.50823</td><td>19.91311</td><td>27.05207</td><td>23.45781</td><td>23.39542</td><td>26.44613</td></tr>\n",
       "\t<tr><td>문수동</td><td>28.21358</td><td>25.74411</td><td>48.41044</td><td>27.24673</td><td>37.86017</td><td>19.97518</td><td>15.45726</td><td>15.63897</td><td>15.05631</td><td>21.18260</td><td>28.46034</td><td>26.21176</td><td>23.67877</td><td>25.62586</td></tr>\n",
       "\t<tr><td>삼일동</td><td>30.30868</td><td>28.53894</td><td>51.54610</td><td>27.94760</td><td>38.54054</td><td>21.14116</td><td>15.23338</td><td>17.72230</td><td>14.74913</td><td>22.04441</td><td>30.88306</td><td>29.81606</td><td>24.75706</td><td>27.17142</td></tr>\n",
       "\t<tr><td>서강동</td><td>30.52180</td><td>27.87695</td><td>59.28481</td><td>30.03188</td><td>42.95339</td><td>21.56788</td><td>16.21135</td><td>16.61429</td><td>15.12738</td><td>23.10578</td><td>32.53363</td><td>28.83708</td><td>25.85794</td><td>28.50186</td></tr>\n",
       "\t<tr><td>여천동</td><td>32.84225</td><td>30.33333</td><td>53.67770</td><td>29.45560</td><td>39.69972</td><td>21.99854</td><td>17.50593</td><td>18.12077</td><td>14.88428</td><td>22.31429</td><td>27.81065</td><td>24.82514</td><td>25.38310</td><td>27.60395</td></tr>\n",
       "\t<tr><td>월내동</td><td>32.34638</td><td>34.05806</td><td>58.87139</td><td>37.24229</td><td>50.41755</td><td>29.06298</td><td>23.84311</td><td>23.68144</td><td>20.29038</td><td>25.86277</td><td>30.07761</td><td>27.46212</td><td>29.45858</td><td>32.51344</td></tr>\n",
       "\t<tr><td>율촌면</td><td>33.81575</td><td>32.30469</td><td>55.83871</td><td>32.57872</td><td>43.81716</td><td>27.23504</td><td>20.11299</td><td>21.29901</td><td>16.64824</td><td>25.54597</td><td>34.57526</td><td>31.22779</td><td>28.93075</td><td>31.07154</td></tr>\n",
       "\t<tr><td>화양면</td><td>31.14710</td><td>28.59502</td><td>61.00000</td><td>29.02035</td><td>41.83097</td><td>22.12760</td><td>16.14245</td><td>17.62680</td><td>15.12078</td><td>24.26383</td><td>30.35355</td><td>27.30057</td><td>26.67045</td><td>28.55380</td></tr>\n",
       "\t<tr><td>all   </td><td>31.32459</td><td>29.58764</td><td>55.03286</td><td>30.09851</td><td>41.91458</td><td>22.94408</td><td>17.74364</td><td>18.44284</td><td>15.92309</td><td>23.02909</td><td>30.21827</td><td>27.39229</td><td>26.01651</td><td>28.43600</td></tr>\n",
       "</tbody>\n",
       "</table>\n"
      ],
      "text/latex": [
       "A tibble: 9 × 15\n",
       "\\begin{tabular}{lllllllllllllll}\n",
       " point & 1 & 2 & 3 & 4 & 5 & 6 & 7 & 8 & 9 & 10 & 11 & 12 & NA & all\\\\\n",
       " <chr> & <dbl> & <dbl> & <dbl> & <dbl> & <dbl> & <dbl> & <dbl> & <dbl> & <dbl> & <dbl> & <dbl> & <dbl> & <dbl> & <dbl>\\\\\n",
       "\\hline\n",
       "\t 덕충동 & 31.40116 & 29.25000 & 51.63374 & 27.26492 & 40.19714 & 20.44428 & 17.44265 & 16.83915 & 15.50823 & 19.91311 & 27.05207 & 23.45781 & 23.39542 & 26.44613\\\\\n",
       "\t 문수동 & 28.21358 & 25.74411 & 48.41044 & 27.24673 & 37.86017 & 19.97518 & 15.45726 & 15.63897 & 15.05631 & 21.18260 & 28.46034 & 26.21176 & 23.67877 & 25.62586\\\\\n",
       "\t 삼일동 & 30.30868 & 28.53894 & 51.54610 & 27.94760 & 38.54054 & 21.14116 & 15.23338 & 17.72230 & 14.74913 & 22.04441 & 30.88306 & 29.81606 & 24.75706 & 27.17142\\\\\n",
       "\t 서강동 & 30.52180 & 27.87695 & 59.28481 & 30.03188 & 42.95339 & 21.56788 & 16.21135 & 16.61429 & 15.12738 & 23.10578 & 32.53363 & 28.83708 & 25.85794 & 28.50186\\\\\n",
       "\t 여천동 & 32.84225 & 30.33333 & 53.67770 & 29.45560 & 39.69972 & 21.99854 & 17.50593 & 18.12077 & 14.88428 & 22.31429 & 27.81065 & 24.82514 & 25.38310 & 27.60395\\\\\n",
       "\t 월내동 & 32.34638 & 34.05806 & 58.87139 & 37.24229 & 50.41755 & 29.06298 & 23.84311 & 23.68144 & 20.29038 & 25.86277 & 30.07761 & 27.46212 & 29.45858 & 32.51344\\\\\n",
       "\t 율촌면 & 33.81575 & 32.30469 & 55.83871 & 32.57872 & 43.81716 & 27.23504 & 20.11299 & 21.29901 & 16.64824 & 25.54597 & 34.57526 & 31.22779 & 28.93075 & 31.07154\\\\\n",
       "\t 화양면 & 31.14710 & 28.59502 & 61.00000 & 29.02035 & 41.83097 & 22.12760 & 16.14245 & 17.62680 & 15.12078 & 24.26383 & 30.35355 & 27.30057 & 26.67045 & 28.55380\\\\\n",
       "\t all    & 31.32459 & 29.58764 & 55.03286 & 30.09851 & 41.91458 & 22.94408 & 17.74364 & 18.44284 & 15.92309 & 23.02909 & 30.21827 & 27.39229 & 26.01651 & 28.43600\\\\\n",
       "\\end{tabular}\n"
      ],
      "text/markdown": [
       "\n",
       "A tibble: 9 × 15\n",
       "\n",
       "| point &lt;chr&gt; | 1 &lt;dbl&gt; | 2 &lt;dbl&gt; | 3 &lt;dbl&gt; | 4 &lt;dbl&gt; | 5 &lt;dbl&gt; | 6 &lt;dbl&gt; | 7 &lt;dbl&gt; | 8 &lt;dbl&gt; | 9 &lt;dbl&gt; | 10 &lt;dbl&gt; | 11 &lt;dbl&gt; | 12 &lt;dbl&gt; | NA &lt;dbl&gt; | all &lt;dbl&gt; |\n",
       "|---|---|---|---|---|---|---|---|---|---|---|---|---|---|---|\n",
       "| 덕충동 | 31.40116 | 29.25000 | 51.63374 | 27.26492 | 40.19714 | 20.44428 | 17.44265 | 16.83915 | 15.50823 | 19.91311 | 27.05207 | 23.45781 | 23.39542 | 26.44613 |\n",
       "| 문수동 | 28.21358 | 25.74411 | 48.41044 | 27.24673 | 37.86017 | 19.97518 | 15.45726 | 15.63897 | 15.05631 | 21.18260 | 28.46034 | 26.21176 | 23.67877 | 25.62586 |\n",
       "| 삼일동 | 30.30868 | 28.53894 | 51.54610 | 27.94760 | 38.54054 | 21.14116 | 15.23338 | 17.72230 | 14.74913 | 22.04441 | 30.88306 | 29.81606 | 24.75706 | 27.17142 |\n",
       "| 서강동 | 30.52180 | 27.87695 | 59.28481 | 30.03188 | 42.95339 | 21.56788 | 16.21135 | 16.61429 | 15.12738 | 23.10578 | 32.53363 | 28.83708 | 25.85794 | 28.50186 |\n",
       "| 여천동 | 32.84225 | 30.33333 | 53.67770 | 29.45560 | 39.69972 | 21.99854 | 17.50593 | 18.12077 | 14.88428 | 22.31429 | 27.81065 | 24.82514 | 25.38310 | 27.60395 |\n",
       "| 월내동 | 32.34638 | 34.05806 | 58.87139 | 37.24229 | 50.41755 | 29.06298 | 23.84311 | 23.68144 | 20.29038 | 25.86277 | 30.07761 | 27.46212 | 29.45858 | 32.51344 |\n",
       "| 율촌면 | 33.81575 | 32.30469 | 55.83871 | 32.57872 | 43.81716 | 27.23504 | 20.11299 | 21.29901 | 16.64824 | 25.54597 | 34.57526 | 31.22779 | 28.93075 | 31.07154 |\n",
       "| 화양면 | 31.14710 | 28.59502 | 61.00000 | 29.02035 | 41.83097 | 22.12760 | 16.14245 | 17.62680 | 15.12078 | 24.26383 | 30.35355 | 27.30057 | 26.67045 | 28.55380 |\n",
       "| all    | 31.32459 | 29.58764 | 55.03286 | 30.09851 | 41.91458 | 22.94408 | 17.74364 | 18.44284 | 15.92309 | 23.02909 | 30.21827 | 27.39229 | 26.01651 | 28.43600 |\n",
       "\n"
      ],
      "text/plain": [
       "  point  1        2        3        4        5        6        7       \n",
       "1 덕충동 31.40116 29.25000 51.63374 27.26492 40.19714 20.44428 17.44265\n",
       "2 문수동 28.21358 25.74411 48.41044 27.24673 37.86017 19.97518 15.45726\n",
       "3 삼일동 30.30868 28.53894 51.54610 27.94760 38.54054 21.14116 15.23338\n",
       "4 서강동 30.52180 27.87695 59.28481 30.03188 42.95339 21.56788 16.21135\n",
       "5 여천동 32.84225 30.33333 53.67770 29.45560 39.69972 21.99854 17.50593\n",
       "6 월내동 32.34638 34.05806 58.87139 37.24229 50.41755 29.06298 23.84311\n",
       "7 율촌면 33.81575 32.30469 55.83871 32.57872 43.81716 27.23504 20.11299\n",
       "8 화양면 31.14710 28.59502 61.00000 29.02035 41.83097 22.12760 16.14245\n",
       "9 all    31.32459 29.58764 55.03286 30.09851 41.91458 22.94408 17.74364\n",
       "  8        9        10       11       12       NA       all     \n",
       "1 16.83915 15.50823 19.91311 27.05207 23.45781 23.39542 26.44613\n",
       "2 15.63897 15.05631 21.18260 28.46034 26.21176 23.67877 25.62586\n",
       "3 17.72230 14.74913 22.04441 30.88306 29.81606 24.75706 27.17142\n",
       "4 16.61429 15.12738 23.10578 32.53363 28.83708 25.85794 28.50186\n",
       "5 18.12077 14.88428 22.31429 27.81065 24.82514 25.38310 27.60395\n",
       "6 23.68144 20.29038 25.86277 30.07761 27.46212 29.45858 32.51344\n",
       "7 21.29901 16.64824 25.54597 34.57526 31.22779 28.93075 31.07154\n",
       "8 17.62680 15.12078 24.26383 30.35355 27.30057 26.67045 28.55380\n",
       "9 18.44284 15.92309 23.02909 30.21827 27.39229 26.01651 28.43600"
      ]
     },
     "metadata": {},
     "output_type": "display_data"
    }
   ],
   "source": [
    "# 32번\n",
    "library(dplyr)\n",
    "library(tidyr)\n",
    "\n",
    "pivot_table <- yeosu %>%\n",
    "  group_by(point, month) %>%\n",
    "  summarise(PM10_avg = mean(PM10, na.rm = TRUE), .groups = \"drop\") %>%\n",
    "  pivot_wider(names_from = month, values_from = PM10_avg)\n",
    "\n",
    "pivot_table <- pivot_table %>%\n",
    "  mutate(all = rowMeans(select(., -point), na.rm = TRUE))\n",
    "col_names <- names(pivot_table)\n",
    "\n",
    "all_row <- as.list(colMeans(select(pivot_table, -point), na.rm = TRUE))\n",
    "all_row <- c(point = \"all\", all_row)\n",
    "\n",
    "pivot_table <- bind_rows(\n",
    "  pivot_table,\n",
    "  as_tibble(all_row)\n",
    ")\n",
    "\n",
    "pivot_table"
   ]
  }
 ],
 "metadata": {
  "kernelspec": {
   "display_name": "R",
   "language": "R",
   "name": "ir"
  },
  "language_info": {
   "codemirror_mode": "r",
   "file_extension": ".r",
   "mimetype": "text/x-r-source",
   "name": "R",
   "pygments_lexer": "r",
   "version": "4.3.1"
  }
 },
 "nbformat": 4,
 "nbformat_minor": 2
}
