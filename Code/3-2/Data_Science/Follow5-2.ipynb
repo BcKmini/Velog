{
 "cells": [
  {
   "cell_type": "code",
   "execution_count": 112,
   "metadata": {
    "vscode": {
     "languageId": "r"
    }
   },
   "outputs": [],
   "source": [
    "library(doBy)"
   ]
  },
  {
   "cell_type": "code",
   "execution_count": 113,
   "metadata": {
    "vscode": {
     "languageId": "r"
    }
   },
   "outputs": [
    {
     "data": {
      "text/html": [
       "<table class=\"dataframe\">\n",
       "<caption>A data.frame: 2 × 2</caption>\n",
       "<thead>\n",
       "\t<tr><th></th><th scope=col>supp</th><th scope=col>len.mean</th></tr>\n",
       "\t<tr><th></th><th scope=col>&lt;fct&gt;</th><th scope=col>&lt;dbl&gt;</th></tr>\n",
       "</thead>\n",
       "<tbody>\n",
       "\t<tr><th scope=row>1</th><td>OJ</td><td>20.66333</td></tr>\n",
       "\t<tr><th scope=row>2</th><td>VC</td><td>16.96333</td></tr>\n",
       "</tbody>\n",
       "</table>\n"
      ],
      "text/latex": [
       "A data.frame: 2 × 2\n",
       "\\begin{tabular}{r|ll}\n",
       "  & supp & len.mean\\\\\n",
       "  & <fct> & <dbl>\\\\\n",
       "\\hline\n",
       "\t1 & OJ & 20.66333\\\\\n",
       "\t2 & VC & 16.96333\\\\\n",
       "\\end{tabular}\n"
      ],
      "text/markdown": [
       "\n",
       "A data.frame: 2 × 2\n",
       "\n",
       "| <!--/--> | supp &lt;fct&gt; | len.mean &lt;dbl&gt; |\n",
       "|---|---|---|\n",
       "| 1 | OJ | 20.66333 |\n",
       "| 2 | VC | 16.96333 |\n",
       "\n"
      ],
      "text/plain": [
       "  supp len.mean\n",
       "1 OJ   20.66333\n",
       "2 VC   16.96333"
      ]
     },
     "metadata": {},
     "output_type": "display_data"
    }
   ],
   "source": [
    "result <- summaryBy(len ~ supp, data=ToothGrowth, FUN=mean)\n",
    "result"
   ]
  },
  {
   "cell_type": "code",
   "execution_count": 114,
   "metadata": {
    "vscode": {
     "languageId": "r"
    }
   },
   "outputs": [
    {
     "data": {
      "text/html": [
       "'data.frame'"
      ],
      "text/latex": [
       "'data.frame'"
      ],
      "text/markdown": [
       "'data.frame'"
      ],
      "text/plain": [
       "[1] \"data.frame\""
      ]
     },
     "metadata": {},
     "output_type": "display_data"
    }
   ],
   "source": [
    "class(result)"
   ]
  },
  {
   "cell_type": "code",
   "execution_count": 115,
   "metadata": {
    "vscode": {
     "languageId": "r"
    }
   },
   "outputs": [
    {
     "data": {
      "text/plain": [
       " Length   Class    Mode \n",
       "      3 formula    call "
      ]
     },
     "metadata": {},
     "output_type": "display_data"
    }
   ],
   "source": [
    "result <- summary(mpg ~ cyl, data=mtcars, Fun=mean)\n",
    "result"
   ]
  },
  {
   "cell_type": "code",
   "execution_count": 116,
   "metadata": {
    "vscode": {
     "languageId": "r"
    }
   },
   "outputs": [
    {
     "data": {
      "text/html": [
       "<table class=\"dataframe\">\n",
       "<caption>A data.frame: 6 × 3</caption>\n",
       "<thead>\n",
       "\t<tr><th></th><th scope=col>supp</th><th scope=col>dose</th><th scope=col>len.median</th></tr>\n",
       "\t<tr><th></th><th scope=col>&lt;fct&gt;</th><th scope=col>&lt;dbl&gt;</th><th scope=col>&lt;dbl&gt;</th></tr>\n",
       "</thead>\n",
       "<tbody>\n",
       "\t<tr><th scope=row>1</th><td>OJ</td><td>0.5</td><td>12.25</td></tr>\n",
       "\t<tr><th scope=row>2</th><td>OJ</td><td>1.0</td><td>23.45</td></tr>\n",
       "\t<tr><th scope=row>3</th><td>OJ</td><td>2.0</td><td>25.95</td></tr>\n",
       "\t<tr><th scope=row>4</th><td>VC</td><td>0.5</td><td> 7.15</td></tr>\n",
       "\t<tr><th scope=row>5</th><td>VC</td><td>1.0</td><td>16.50</td></tr>\n",
       "\t<tr><th scope=row>6</th><td>VC</td><td>2.0</td><td>25.95</td></tr>\n",
       "</tbody>\n",
       "</table>\n"
      ],
      "text/latex": [
       "A data.frame: 6 × 3\n",
       "\\begin{tabular}{r|lll}\n",
       "  & supp & dose & len.median\\\\\n",
       "  & <fct> & <dbl> & <dbl>\\\\\n",
       "\\hline\n",
       "\t1 & OJ & 0.5 & 12.25\\\\\n",
       "\t2 & OJ & 1.0 & 23.45\\\\\n",
       "\t3 & OJ & 2.0 & 25.95\\\\\n",
       "\t4 & VC & 0.5 &  7.15\\\\\n",
       "\t5 & VC & 1.0 & 16.50\\\\\n",
       "\t6 & VC & 2.0 & 25.95\\\\\n",
       "\\end{tabular}\n"
      ],
      "text/markdown": [
       "\n",
       "A data.frame: 6 × 3\n",
       "\n",
       "| <!--/--> | supp &lt;fct&gt; | dose &lt;dbl&gt; | len.median &lt;dbl&gt; |\n",
       "|---|---|---|---|\n",
       "| 1 | OJ | 0.5 | 12.25 |\n",
       "| 2 | OJ | 1.0 | 23.45 |\n",
       "| 3 | OJ | 2.0 | 25.95 |\n",
       "| 4 | VC | 0.5 |  7.15 |\n",
       "| 5 | VC | 1.0 | 16.50 |\n",
       "| 6 | VC | 2.0 | 25.95 |\n",
       "\n"
      ],
      "text/plain": [
       "  supp dose len.median\n",
       "1 OJ   0.5  12.25     \n",
       "2 OJ   1.0  23.45     \n",
       "3 OJ   2.0  25.95     \n",
       "4 VC   0.5   7.15     \n",
       "5 VC   1.0  16.50     \n",
       "6 VC   2.0  25.95     "
      ]
     },
     "metadata": {},
     "output_type": "display_data"
    }
   ],
   "source": [
    "summaryBy(len ~ supp + dose, data=ToothGrowth, FUN=median)"
   ]
  },
  {
   "cell_type": "code",
   "execution_count": 117,
   "metadata": {
    "vscode": {
     "languageId": "r"
    }
   },
   "outputs": [
    {
     "data": {
      "text/html": [
       "<table class=\"dataframe\">\n",
       "<caption>A data.frame: 6 × 3</caption>\n",
       "<thead>\n",
       "\t<tr><th></th><th scope=col>am</th><th scope=col>cyl</th><th scope=col>mpg.mean</th></tr>\n",
       "\t<tr><th></th><th scope=col>&lt;dbl&gt;</th><th scope=col>&lt;dbl&gt;</th><th scope=col>&lt;dbl&gt;</th></tr>\n",
       "</thead>\n",
       "<tbody>\n",
       "\t<tr><th scope=row>1</th><td>0</td><td>4</td><td>22.90000</td></tr>\n",
       "\t<tr><th scope=row>2</th><td>0</td><td>6</td><td>19.12500</td></tr>\n",
       "\t<tr><th scope=row>3</th><td>0</td><td>8</td><td>15.05000</td></tr>\n",
       "\t<tr><th scope=row>4</th><td>1</td><td>4</td><td>28.07500</td></tr>\n",
       "\t<tr><th scope=row>5</th><td>1</td><td>6</td><td>20.56667</td></tr>\n",
       "\t<tr><th scope=row>6</th><td>1</td><td>8</td><td>15.40000</td></tr>\n",
       "</tbody>\n",
       "</table>\n"
      ],
      "text/latex": [
       "A data.frame: 6 × 3\n",
       "\\begin{tabular}{r|lll}\n",
       "  & am & cyl & mpg.mean\\\\\n",
       "  & <dbl> & <dbl> & <dbl>\\\\\n",
       "\\hline\n",
       "\t1 & 0 & 4 & 22.90000\\\\\n",
       "\t2 & 0 & 6 & 19.12500\\\\\n",
       "\t3 & 0 & 8 & 15.05000\\\\\n",
       "\t4 & 1 & 4 & 28.07500\\\\\n",
       "\t5 & 1 & 6 & 20.56667\\\\\n",
       "\t6 & 1 & 8 & 15.40000\\\\\n",
       "\\end{tabular}\n"
      ],
      "text/markdown": [
       "\n",
       "A data.frame: 6 × 3\n",
       "\n",
       "| <!--/--> | am &lt;dbl&gt; | cyl &lt;dbl&gt; | mpg.mean &lt;dbl&gt; |\n",
       "|---|---|---|---|\n",
       "| 1 | 0 | 4 | 22.90000 |\n",
       "| 2 | 0 | 6 | 19.12500 |\n",
       "| 3 | 0 | 8 | 15.05000 |\n",
       "| 4 | 1 | 4 | 28.07500 |\n",
       "| 5 | 1 | 6 | 20.56667 |\n",
       "| 6 | 1 | 8 | 15.40000 |\n",
       "\n"
      ],
      "text/plain": [
       "  am cyl mpg.mean\n",
       "1 0  4   22.90000\n",
       "2 0  6   19.12500\n",
       "3 0  8   15.05000\n",
       "4 1  4   28.07500\n",
       "5 1  6   20.56667\n",
       "6 1  8   15.40000"
      ]
     },
     "metadata": {},
     "output_type": "display_data"
    }
   ],
   "source": [
    "summary_by(mpg ~ am+ cyl, data=mtcars, FUN=mean)"
   ]
  },
  {
   "cell_type": "code",
   "execution_count": 118,
   "metadata": {
    "vscode": {
     "languageId": "r"
    }
   },
   "outputs": [
    {
     "data": {
      "text/html": [
       "<table class=\"dataframe\">\n",
       "<caption>A data.frame: 2 × 4</caption>\n",
       "<thead>\n",
       "\t<tr><th></th><th scope=col>supp</th><th scope=col>len.min</th><th scope=col>len.mean</th><th scope=col>len.max</th></tr>\n",
       "\t<tr><th></th><th scope=col>&lt;fct&gt;</th><th scope=col>&lt;dbl&gt;</th><th scope=col>&lt;dbl&gt;</th><th scope=col>&lt;dbl&gt;</th></tr>\n",
       "</thead>\n",
       "<tbody>\n",
       "\t<tr><th scope=row>1</th><td>OJ</td><td>8.2</td><td>20.66333</td><td>30.9</td></tr>\n",
       "\t<tr><th scope=row>2</th><td>VC</td><td>4.2</td><td>16.96333</td><td>33.9</td></tr>\n",
       "</tbody>\n",
       "</table>\n"
      ],
      "text/latex": [
       "A data.frame: 2 × 4\n",
       "\\begin{tabular}{r|llll}\n",
       "  & supp & len.min & len.mean & len.max\\\\\n",
       "  & <fct> & <dbl> & <dbl> & <dbl>\\\\\n",
       "\\hline\n",
       "\t1 & OJ & 8.2 & 20.66333 & 30.9\\\\\n",
       "\t2 & VC & 4.2 & 16.96333 & 33.9\\\\\n",
       "\\end{tabular}\n"
      ],
      "text/markdown": [
       "\n",
       "A data.frame: 2 × 4\n",
       "\n",
       "| <!--/--> | supp &lt;fct&gt; | len.min &lt;dbl&gt; | len.mean &lt;dbl&gt; | len.max &lt;dbl&gt; |\n",
       "|---|---|---|---|---|\n",
       "| 1 | OJ | 8.2 | 20.66333 | 30.9 |\n",
       "| 2 | VC | 4.2 | 16.96333 | 33.9 |\n",
       "\n"
      ],
      "text/plain": [
       "  supp len.min len.mean len.max\n",
       "1 OJ   8.2     20.66333 30.9   \n",
       "2 VC   4.2     16.96333 33.9   "
      ]
     },
     "metadata": {},
     "output_type": "display_data"
    }
   ],
   "source": [
    "result <- summaryBy(len ~ supp, data=ToothGrowth, FUN=c(min, mean, max))\n",
    "result"
   ]
  },
  {
   "cell_type": "code",
   "execution_count": 119,
   "metadata": {
    "vscode": {
     "languageId": "r"
    }
   },
   "outputs": [
    {
     "data": {
      "text/html": [
       "<table class=\"dataframe\">\n",
       "<caption>A data.frame: 6 × 5</caption>\n",
       "<thead>\n",
       "\t<tr><th></th><th scope=col>supp</th><th scope=col>dose</th><th scope=col>len.min</th><th scope=col>len.mean</th><th scope=col>len.max</th></tr>\n",
       "\t<tr><th></th><th scope=col>&lt;fct&gt;</th><th scope=col>&lt;dbl&gt;</th><th scope=col>&lt;dbl&gt;</th><th scope=col>&lt;dbl&gt;</th><th scope=col>&lt;dbl&gt;</th></tr>\n",
       "</thead>\n",
       "<tbody>\n",
       "\t<tr><th scope=row>1</th><td>OJ</td><td>0.5</td><td> 8.2</td><td>13.23</td><td>21.5</td></tr>\n",
       "\t<tr><th scope=row>2</th><td>OJ</td><td>1.0</td><td>14.5</td><td>22.70</td><td>27.3</td></tr>\n",
       "\t<tr><th scope=row>3</th><td>OJ</td><td>2.0</td><td>22.4</td><td>26.06</td><td>30.9</td></tr>\n",
       "\t<tr><th scope=row>4</th><td>VC</td><td>0.5</td><td> 4.2</td><td> 7.98</td><td>11.5</td></tr>\n",
       "\t<tr><th scope=row>5</th><td>VC</td><td>1.0</td><td>13.6</td><td>16.77</td><td>22.5</td></tr>\n",
       "\t<tr><th scope=row>6</th><td>VC</td><td>2.0</td><td>18.5</td><td>26.14</td><td>33.9</td></tr>\n",
       "</tbody>\n",
       "</table>\n"
      ],
      "text/latex": [
       "A data.frame: 6 × 5\n",
       "\\begin{tabular}{r|lllll}\n",
       "  & supp & dose & len.min & len.mean & len.max\\\\\n",
       "  & <fct> & <dbl> & <dbl> & <dbl> & <dbl>\\\\\n",
       "\\hline\n",
       "\t1 & OJ & 0.5 &  8.2 & 13.23 & 21.5\\\\\n",
       "\t2 & OJ & 1.0 & 14.5 & 22.70 & 27.3\\\\\n",
       "\t3 & OJ & 2.0 & 22.4 & 26.06 & 30.9\\\\\n",
       "\t4 & VC & 0.5 &  4.2 &  7.98 & 11.5\\\\\n",
       "\t5 & VC & 1.0 & 13.6 & 16.77 & 22.5\\\\\n",
       "\t6 & VC & 2.0 & 18.5 & 26.14 & 33.9\\\\\n",
       "\\end{tabular}\n"
      ],
      "text/markdown": [
       "\n",
       "A data.frame: 6 × 5\n",
       "\n",
       "| <!--/--> | supp &lt;fct&gt; | dose &lt;dbl&gt; | len.min &lt;dbl&gt; | len.mean &lt;dbl&gt; | len.max &lt;dbl&gt; |\n",
       "|---|---|---|---|---|---|\n",
       "| 1 | OJ | 0.5 |  8.2 | 13.23 | 21.5 |\n",
       "| 2 | OJ | 1.0 | 14.5 | 22.70 | 27.3 |\n",
       "| 3 | OJ | 2.0 | 22.4 | 26.06 | 30.9 |\n",
       "| 4 | VC | 0.5 |  4.2 |  7.98 | 11.5 |\n",
       "| 5 | VC | 1.0 | 13.6 | 16.77 | 22.5 |\n",
       "| 6 | VC | 2.0 | 18.5 | 26.14 | 33.9 |\n",
       "\n"
      ],
      "text/plain": [
       "  supp dose len.min len.mean len.max\n",
       "1 OJ   0.5   8.2    13.23    21.5   \n",
       "2 OJ   1.0  14.5    22.70    27.3   \n",
       "3 OJ   2.0  22.4    26.06    30.9   \n",
       "4 VC   0.5   4.2     7.98    11.5   \n",
       "5 VC   1.0  13.6    16.77    22.5   \n",
       "6 VC   2.0  18.5    26.14    33.9   "
      ]
     },
     "metadata": {},
     "output_type": "display_data"
    }
   ],
   "source": [
    "result <- summaryBy(len ~ supp + dose, data=ToothGrowth, FUN=c(min, mean, max))\n",
    "result"
   ]
  },
  {
   "cell_type": "code",
   "execution_count": 120,
   "metadata": {
    "vscode": {
     "languageId": "r"
    }
   },
   "outputs": [
    {
     "data": {
      "text/html": [
       "<table class=\"dataframe\">\n",
       "<caption>A data.frame: 3 × 5</caption>\n",
       "<thead>\n",
       "\t<tr><th></th><th scope=col>cyl</th><th scope=col>mpg.length</th><th scope=col>mpg.min</th><th scope=col>mpg.mean</th><th scope=col>mpg.max</th></tr>\n",
       "\t<tr><th></th><th scope=col>&lt;dbl&gt;</th><th scope=col>&lt;dbl&gt;</th><th scope=col>&lt;dbl&gt;</th><th scope=col>&lt;dbl&gt;</th><th scope=col>&lt;dbl&gt;</th></tr>\n",
       "</thead>\n",
       "<tbody>\n",
       "\t<tr><th scope=row>1</th><td>4</td><td>11</td><td>21.4</td><td>26.66364</td><td>33.9</td></tr>\n",
       "\t<tr><th scope=row>2</th><td>6</td><td> 7</td><td>17.8</td><td>19.74286</td><td>21.4</td></tr>\n",
       "\t<tr><th scope=row>3</th><td>8</td><td>14</td><td>10.4</td><td>15.10000</td><td>19.2</td></tr>\n",
       "</tbody>\n",
       "</table>\n"
      ],
      "text/latex": [
       "A data.frame: 3 × 5\n",
       "\\begin{tabular}{r|lllll}\n",
       "  & cyl & mpg.length & mpg.min & mpg.mean & mpg.max\\\\\n",
       "  & <dbl> & <dbl> & <dbl> & <dbl> & <dbl>\\\\\n",
       "\\hline\n",
       "\t1 & 4 & 11 & 21.4 & 26.66364 & 33.9\\\\\n",
       "\t2 & 6 &  7 & 17.8 & 19.74286 & 21.4\\\\\n",
       "\t3 & 8 & 14 & 10.4 & 15.10000 & 19.2\\\\\n",
       "\\end{tabular}\n"
      ],
      "text/markdown": [
       "\n",
       "A data.frame: 3 × 5\n",
       "\n",
       "| <!--/--> | cyl &lt;dbl&gt; | mpg.length &lt;dbl&gt; | mpg.min &lt;dbl&gt; | mpg.mean &lt;dbl&gt; | mpg.max &lt;dbl&gt; |\n",
       "|---|---|---|---|---|---|\n",
       "| 1 | 4 | 11 | 21.4 | 26.66364 | 33.9 |\n",
       "| 2 | 6 |  7 | 17.8 | 19.74286 | 21.4 |\n",
       "| 3 | 8 | 14 | 10.4 | 15.10000 | 19.2 |\n",
       "\n"
      ],
      "text/plain": [
       "  cyl mpg.length mpg.min mpg.mean mpg.max\n",
       "1 4   11         21.4    26.66364 33.9   \n",
       "2 6    7         17.8    19.74286 21.4   \n",
       "3 8   14         10.4    15.10000 19.2   "
      ]
     },
     "metadata": {},
     "output_type": "display_data"
    }
   ],
   "source": [
    "summaryBy(mpg ~ cyl, data=mtcars, FUN=c(length, min, mean, max))"
   ]
  },
  {
   "cell_type": "code",
   "execution_count": 121,
   "metadata": {
    "vscode": {
     "languageId": "r"
    }
   },
   "outputs": [
    {
     "data": {
      "text/html": [
       "<table class=\"dataframe\">\n",
       "<caption>A data.frame: 6 × 6</caption>\n",
       "<thead>\n",
       "\t<tr><th></th><th scope=col>am</th><th scope=col>cyl</th><th scope=col>mpg.length</th><th scope=col>mpg.min</th><th scope=col>mpg.mean</th><th scope=col>mpg.max</th></tr>\n",
       "\t<tr><th></th><th scope=col>&lt;dbl&gt;</th><th scope=col>&lt;dbl&gt;</th><th scope=col>&lt;dbl&gt;</th><th scope=col>&lt;dbl&gt;</th><th scope=col>&lt;dbl&gt;</th><th scope=col>&lt;dbl&gt;</th></tr>\n",
       "</thead>\n",
       "<tbody>\n",
       "\t<tr><th scope=row>1</th><td>0</td><td>4</td><td> 3</td><td>21.5</td><td>22.90000</td><td>24.4</td></tr>\n",
       "\t<tr><th scope=row>2</th><td>0</td><td>6</td><td> 4</td><td>17.8</td><td>19.12500</td><td>21.4</td></tr>\n",
       "\t<tr><th scope=row>3</th><td>0</td><td>8</td><td>12</td><td>10.4</td><td>15.05000</td><td>19.2</td></tr>\n",
       "\t<tr><th scope=row>4</th><td>1</td><td>4</td><td> 8</td><td>21.4</td><td>28.07500</td><td>33.9</td></tr>\n",
       "\t<tr><th scope=row>5</th><td>1</td><td>6</td><td> 3</td><td>19.7</td><td>20.56667</td><td>21.0</td></tr>\n",
       "\t<tr><th scope=row>6</th><td>1</td><td>8</td><td> 2</td><td>15.0</td><td>15.40000</td><td>15.8</td></tr>\n",
       "</tbody>\n",
       "</table>\n"
      ],
      "text/latex": [
       "A data.frame: 6 × 6\n",
       "\\begin{tabular}{r|llllll}\n",
       "  & am & cyl & mpg.length & mpg.min & mpg.mean & mpg.max\\\\\n",
       "  & <dbl> & <dbl> & <dbl> & <dbl> & <dbl> & <dbl>\\\\\n",
       "\\hline\n",
       "\t1 & 0 & 4 &  3 & 21.5 & 22.90000 & 24.4\\\\\n",
       "\t2 & 0 & 6 &  4 & 17.8 & 19.12500 & 21.4\\\\\n",
       "\t3 & 0 & 8 & 12 & 10.4 & 15.05000 & 19.2\\\\\n",
       "\t4 & 1 & 4 &  8 & 21.4 & 28.07500 & 33.9\\\\\n",
       "\t5 & 1 & 6 &  3 & 19.7 & 20.56667 & 21.0\\\\\n",
       "\t6 & 1 & 8 &  2 & 15.0 & 15.40000 & 15.8\\\\\n",
       "\\end{tabular}\n"
      ],
      "text/markdown": [
       "\n",
       "A data.frame: 6 × 6\n",
       "\n",
       "| <!--/--> | am &lt;dbl&gt; | cyl &lt;dbl&gt; | mpg.length &lt;dbl&gt; | mpg.min &lt;dbl&gt; | mpg.mean &lt;dbl&gt; | mpg.max &lt;dbl&gt; |\n",
       "|---|---|---|---|---|---|---|\n",
       "| 1 | 0 | 4 |  3 | 21.5 | 22.90000 | 24.4 |\n",
       "| 2 | 0 | 6 |  4 | 17.8 | 19.12500 | 21.4 |\n",
       "| 3 | 0 | 8 | 12 | 10.4 | 15.05000 | 19.2 |\n",
       "| 4 | 1 | 4 |  8 | 21.4 | 28.07500 | 33.9 |\n",
       "| 5 | 1 | 6 |  3 | 19.7 | 20.56667 | 21.0 |\n",
       "| 6 | 1 | 8 |  2 | 15.0 | 15.40000 | 15.8 |\n",
       "\n"
      ],
      "text/plain": [
       "  am cyl mpg.length mpg.min mpg.mean mpg.max\n",
       "1 0  4    3         21.5    22.90000 24.4   \n",
       "2 0  6    4         17.8    19.12500 21.4   \n",
       "3 0  8   12         10.4    15.05000 19.2   \n",
       "4 1  4    8         21.4    28.07500 33.9   \n",
       "5 1  6    3         19.7    20.56667 21.0   \n",
       "6 1  8    2         15.0    15.40000 15.8   "
      ]
     },
     "metadata": {},
     "output_type": "display_data"
    }
   ],
   "source": [
    "summaryBy(mpg ~ am+cyl, data=mtcars, FUN=c(length, min, mean, max))"
   ]
  },
  {
   "cell_type": "code",
   "execution_count": 122,
   "metadata": {
    "vscode": {
     "languageId": "r"
    }
   },
   "outputs": [
    {
     "data": {
      "text/html": [
       "<table class=\"dataframe\">\n",
       "<caption>A tibble: 6 × 10</caption>\n",
       "<thead>\n",
       "\t<tr><th scope=col>측정일시</th><th scope=col>측정소명</th><th scope=col>이산화질소농도</th><th scope=col>오존농도</th><th scope=col>일산화탄소농도</th><th scope=col>아황산가스농도</th><th scope=col>미세먼지농도</th><th scope=col>초미세먼지농도</th><th scope=col>월</th><th scope=col>일</th></tr>\n",
       "\t<tr><th scope=col>&lt;dbl&gt;</th><th scope=col>&lt;chr&gt;</th><th scope=col>&lt;dbl&gt;</th><th scope=col>&lt;dbl&gt;</th><th scope=col>&lt;dbl&gt;</th><th scope=col>&lt;dbl&gt;</th><th scope=col>&lt;dbl&gt;</th><th scope=col>&lt;dbl&gt;</th><th scope=col>&lt;chr&gt;</th><th scope=col>&lt;chr&gt;</th></tr>\n",
       "</thead>\n",
       "<tbody>\n",
       "\t<tr><td>20231231</td><td>항동        </td><td>0.0251</td><td>0.0169</td><td>0.77</td><td>0.0028</td><td>21</td><td>17</td><td>12</td><td>31</td></tr>\n",
       "\t<tr><td>20231231</td><td>행주        </td><td>0.0167</td><td>0.0257</td><td>0.68</td><td>0.0026</td><td>25</td><td>16</td><td>12</td><td>31</td></tr>\n",
       "\t<tr><td>20231231</td><td>마포아트센터</td><td>0.0266</td><td>0.0187</td><td>0.68</td><td>0.0029</td><td>26</td><td>20</td><td>12</td><td>31</td></tr>\n",
       "\t<tr><td>20231231</td><td>서울숲      </td><td>0.0207</td><td>0.0159</td><td>0.91</td><td>0.0024</td><td>23</td><td>16</td><td>12</td><td>31</td></tr>\n",
       "\t<tr><td>20231231</td><td>올림픽공원  </td><td>0.0245</td><td>0.0121</td><td>0.93</td><td>0.0024</td><td>19</td><td>18</td><td>12</td><td>31</td></tr>\n",
       "\t<tr><td>20231231</td><td>자연사박물관</td><td>0.0251</td><td>0.0199</td><td>0.89</td><td>0.0026</td><td>19</td><td>15</td><td>12</td><td>31</td></tr>\n",
       "</tbody>\n",
       "</table>\n"
      ],
      "text/latex": [
       "A tibble: 6 × 10\n",
       "\\begin{tabular}{llllllllll}\n",
       " 측정일시 & 측정소명 & 이산화질소농도 & 오존농도 & 일산화탄소농도 & 아황산가스농도 & 미세먼지농도 & 초미세먼지농도 & 월 & 일\\\\\n",
       " <dbl> & <chr> & <dbl> & <dbl> & <dbl> & <dbl> & <dbl> & <dbl> & <chr> & <chr>\\\\\n",
       "\\hline\n",
       "\t 20231231 & 항동         & 0.0251 & 0.0169 & 0.77 & 0.0028 & 21 & 17 & 12 & 31\\\\\n",
       "\t 20231231 & 행주         & 0.0167 & 0.0257 & 0.68 & 0.0026 & 25 & 16 & 12 & 31\\\\\n",
       "\t 20231231 & 마포아트센터 & 0.0266 & 0.0187 & 0.68 & 0.0029 & 26 & 20 & 12 & 31\\\\\n",
       "\t 20231231 & 서울숲       & 0.0207 & 0.0159 & 0.91 & 0.0024 & 23 & 16 & 12 & 31\\\\\n",
       "\t 20231231 & 올림픽공원   & 0.0245 & 0.0121 & 0.93 & 0.0024 & 19 & 18 & 12 & 31\\\\\n",
       "\t 20231231 & 자연사박물관 & 0.0251 & 0.0199 & 0.89 & 0.0026 & 19 & 15 & 12 & 31\\\\\n",
       "\\end{tabular}\n"
      ],
      "text/markdown": [
       "\n",
       "A tibble: 6 × 10\n",
       "\n",
       "| 측정일시 &lt;dbl&gt; | 측정소명 &lt;chr&gt; | 이산화질소농도 &lt;dbl&gt; | 오존농도 &lt;dbl&gt; | 일산화탄소농도 &lt;dbl&gt; | 아황산가스농도 &lt;dbl&gt; | 미세먼지농도 &lt;dbl&gt; | 초미세먼지농도 &lt;dbl&gt; | 월 &lt;chr&gt; | 일 &lt;chr&gt; |\n",
       "|---|---|---|---|---|---|---|---|---|---|\n",
       "| 20231231 | 항동         | 0.0251 | 0.0169 | 0.77 | 0.0028 | 21 | 17 | 12 | 31 |\n",
       "| 20231231 | 행주         | 0.0167 | 0.0257 | 0.68 | 0.0026 | 25 | 16 | 12 | 31 |\n",
       "| 20231231 | 마포아트센터 | 0.0266 | 0.0187 | 0.68 | 0.0029 | 26 | 20 | 12 | 31 |\n",
       "| 20231231 | 서울숲       | 0.0207 | 0.0159 | 0.91 | 0.0024 | 23 | 16 | 12 | 31 |\n",
       "| 20231231 | 올림픽공원   | 0.0245 | 0.0121 | 0.93 | 0.0024 | 19 | 18 | 12 | 31 |\n",
       "| 20231231 | 자연사박물관 | 0.0251 | 0.0199 | 0.89 | 0.0026 | 19 | 15 | 12 | 31 |\n",
       "\n"
      ],
      "text/plain": [
       "  측정일시 측정소명     이산화질소농도 오존농도 일산화탄소농도 아황산가스농도\n",
       "1 20231231 항동         0.0251         0.0169   0.77           0.0028        \n",
       "2 20231231 행주         0.0167         0.0257   0.68           0.0026        \n",
       "3 20231231 마포아트센터 0.0266         0.0187   0.68           0.0029        \n",
       "4 20231231 서울숲       0.0207         0.0159   0.91           0.0024        \n",
       "5 20231231 올림픽공원   0.0245         0.0121   0.93           0.0024        \n",
       "6 20231231 자연사박물관 0.0251         0.0199   0.89           0.0026        \n",
       "  미세먼지농도 초미세먼지농도 월 일\n",
       "1 21           17             12 31\n",
       "2 25           16             12 31\n",
       "3 26           20             12 31\n",
       "4 23           16             12 31\n",
       "5 19           18             12 31\n",
       "6 19           15             12 31"
      ]
     },
     "metadata": {},
     "output_type": "display_data"
    }
   ],
   "source": [
    "library(readxl)\n",
    "\n",
    "data <- read_xlsx(\"../mydata/일별평균대기오염도_2023.xlsx\")\n",
    "tail(data)"
   ]
  },
  {
   "cell_type": "code",
   "execution_count": 123,
   "metadata": {
    "vscode": {
     "languageId": "r"
    }
   },
   "outputs": [
    {
     "data": {
      "text/html": [
       "TRUE"
      ],
      "text/latex": [
       "TRUE"
      ],
      "text/markdown": [
       "TRUE"
      ],
      "text/plain": [
       "[1] TRUE"
      ]
     },
     "metadata": {},
     "output_type": "display_data"
    }
   ],
   "source": [
    "any(is.na(data))"
   ]
  },
  {
   "cell_type": "code",
   "execution_count": 124,
   "metadata": {
    "vscode": {
     "languageId": "r"
    }
   },
   "outputs": [
    {
     "data": {
      "text/html": [
       "<table class=\"dataframe\">\n",
       "<caption>A tibble: 6 × 10</caption>\n",
       "<thead>\n",
       "\t<tr><th scope=col>측정일시</th><th scope=col>측정소명</th><th scope=col>NO2</th><th scope=col>O3</th><th scope=col>CO</th><th scope=col>SO2</th><th scope=col>PM10</th><th scope=col>PM25</th><th scope=col>월</th><th scope=col>일</th></tr>\n",
       "\t<tr><th scope=col>&lt;dbl&gt;</th><th scope=col>&lt;chr&gt;</th><th scope=col>&lt;dbl&gt;</th><th scope=col>&lt;dbl&gt;</th><th scope=col>&lt;dbl&gt;</th><th scope=col>&lt;dbl&gt;</th><th scope=col>&lt;dbl&gt;</th><th scope=col>&lt;dbl&gt;</th><th scope=col>&lt;chr&gt;</th><th scope=col>&lt;chr&gt;</th></tr>\n",
       "</thead>\n",
       "<tbody>\n",
       "\t<tr><td>20231231</td><td>항동        </td><td>0.0251</td><td>0.0169</td><td>0.77</td><td>0.0028</td><td>21</td><td>17</td><td>12</td><td>31</td></tr>\n",
       "\t<tr><td>20231231</td><td>행주        </td><td>0.0167</td><td>0.0257</td><td>0.68</td><td>0.0026</td><td>25</td><td>16</td><td>12</td><td>31</td></tr>\n",
       "\t<tr><td>20231231</td><td>마포아트센터</td><td>0.0266</td><td>0.0187</td><td>0.68</td><td>0.0029</td><td>26</td><td>20</td><td>12</td><td>31</td></tr>\n",
       "\t<tr><td>20231231</td><td>서울숲      </td><td>0.0207</td><td>0.0159</td><td>0.91</td><td>0.0024</td><td>23</td><td>16</td><td>12</td><td>31</td></tr>\n",
       "\t<tr><td>20231231</td><td>올림픽공원  </td><td>0.0245</td><td>0.0121</td><td>0.93</td><td>0.0024</td><td>19</td><td>18</td><td>12</td><td>31</td></tr>\n",
       "\t<tr><td>20231231</td><td>자연사박물관</td><td>0.0251</td><td>0.0199</td><td>0.89</td><td>0.0026</td><td>19</td><td>15</td><td>12</td><td>31</td></tr>\n",
       "</tbody>\n",
       "</table>\n"
      ],
      "text/latex": [
       "A tibble: 6 × 10\n",
       "\\begin{tabular}{llllllllll}\n",
       " 측정일시 & 측정소명 & NO2 & O3 & CO & SO2 & PM10 & PM25 & 월 & 일\\\\\n",
       " <dbl> & <chr> & <dbl> & <dbl> & <dbl> & <dbl> & <dbl> & <dbl> & <chr> & <chr>\\\\\n",
       "\\hline\n",
       "\t 20231231 & 항동         & 0.0251 & 0.0169 & 0.77 & 0.0028 & 21 & 17 & 12 & 31\\\\\n",
       "\t 20231231 & 행주         & 0.0167 & 0.0257 & 0.68 & 0.0026 & 25 & 16 & 12 & 31\\\\\n",
       "\t 20231231 & 마포아트센터 & 0.0266 & 0.0187 & 0.68 & 0.0029 & 26 & 20 & 12 & 31\\\\\n",
       "\t 20231231 & 서울숲       & 0.0207 & 0.0159 & 0.91 & 0.0024 & 23 & 16 & 12 & 31\\\\\n",
       "\t 20231231 & 올림픽공원   & 0.0245 & 0.0121 & 0.93 & 0.0024 & 19 & 18 & 12 & 31\\\\\n",
       "\t 20231231 & 자연사박물관 & 0.0251 & 0.0199 & 0.89 & 0.0026 & 19 & 15 & 12 & 31\\\\\n",
       "\\end{tabular}\n"
      ],
      "text/markdown": [
       "\n",
       "A tibble: 6 × 10\n",
       "\n",
       "| 측정일시 &lt;dbl&gt; | 측정소명 &lt;chr&gt; | NO2 &lt;dbl&gt; | O3 &lt;dbl&gt; | CO &lt;dbl&gt; | SO2 &lt;dbl&gt; | PM10 &lt;dbl&gt; | PM25 &lt;dbl&gt; | 월 &lt;chr&gt; | 일 &lt;chr&gt; |\n",
       "|---|---|---|---|---|---|---|---|---|---|\n",
       "| 20231231 | 항동         | 0.0251 | 0.0169 | 0.77 | 0.0028 | 21 | 17 | 12 | 31 |\n",
       "| 20231231 | 행주         | 0.0167 | 0.0257 | 0.68 | 0.0026 | 25 | 16 | 12 | 31 |\n",
       "| 20231231 | 마포아트센터 | 0.0266 | 0.0187 | 0.68 | 0.0029 | 26 | 20 | 12 | 31 |\n",
       "| 20231231 | 서울숲       | 0.0207 | 0.0159 | 0.91 | 0.0024 | 23 | 16 | 12 | 31 |\n",
       "| 20231231 | 올림픽공원   | 0.0245 | 0.0121 | 0.93 | 0.0024 | 19 | 18 | 12 | 31 |\n",
       "| 20231231 | 자연사박물관 | 0.0251 | 0.0199 | 0.89 | 0.0026 | 19 | 15 | 12 | 31 |\n",
       "\n"
      ],
      "text/plain": [
       "  측정일시 측정소명     NO2    O3     CO   SO2    PM10 PM25 월 일\n",
       "1 20231231 항동         0.0251 0.0169 0.77 0.0028 21   17   12 31\n",
       "2 20231231 행주         0.0167 0.0257 0.68 0.0026 25   16   12 31\n",
       "3 20231231 마포아트센터 0.0266 0.0187 0.68 0.0029 26   20   12 31\n",
       "4 20231231 서울숲       0.0207 0.0159 0.91 0.0024 23   16   12 31\n",
       "5 20231231 올림픽공원   0.0245 0.0121 0.93 0.0024 19   18   12 31\n",
       "6 20231231 자연사박물관 0.0251 0.0199 0.89 0.0026 19   15   12 31"
      ]
     },
     "metadata": {},
     "output_type": "display_data"
    }
   ],
   "source": [
    "names(data) <- c(\"측정일시\", \"측정소명\", \"NO2\", \"O3\", \"CO\", \"SO2\", \"PM10\", \"PM25\", \"월\", \"일\")\n",
    "tail(data)"
   ]
  },
  {
   "cell_type": "code",
   "execution_count": 125,
   "metadata": {
    "vscode": {
     "languageId": "r"
    }
   },
   "outputs": [
    {
     "data": {
      "text/html": [
       "<table class=\"dataframe\">\n",
       "<caption>A tibble: 6 × 10</caption>\n",
       "<thead>\n",
       "\t<tr><th scope=col>측정일시</th><th scope=col>측정소명</th><th scope=col>NO2</th><th scope=col>O3</th><th scope=col>CO</th><th scope=col>SO2</th><th scope=col>PM10</th><th scope=col>PM25</th><th scope=col>월</th><th scope=col>일</th></tr>\n",
       "\t<tr><th scope=col>&lt;dbl&gt;</th><th scope=col>&lt;chr&gt;</th><th scope=col>&lt;dbl&gt;</th><th scope=col>&lt;dbl&gt;</th><th scope=col>&lt;dbl&gt;</th><th scope=col>&lt;dbl&gt;</th><th scope=col>&lt;dbl&gt;</th><th scope=col>&lt;dbl&gt;</th><th scope=col>&lt;chr&gt;</th><th scope=col>&lt;chr&gt;</th></tr>\n",
       "</thead>\n",
       "<tbody>\n",
       "\t<tr><td>20230101</td><td>마포아트센터</td><td>0.0230</td><td>0.0260</td><td>0.70</td><td>0.0040</td><td>NA</td><td>36</td><td>01</td><td>01</td></tr>\n",
       "\t<tr><td>20230107</td><td>도산대로    </td><td>0.0305</td><td>0.0173</td><td>0.97</td><td>0.0034</td><td>NA</td><td>95</td><td>01</td><td>07</td></tr>\n",
       "\t<tr><td>20230108</td><td>도산대로    </td><td>0.0374</td><td>0.0075</td><td>0.99</td><td>0.0032</td><td>NA</td><td>68</td><td>01</td><td>08</td></tr>\n",
       "\t<tr><td>20230110</td><td>중구        </td><td>    NA</td><td>    NA</td><td>  NA</td><td>    NA</td><td>NA</td><td>NA</td><td>01</td><td>10</td></tr>\n",
       "\t<tr><td>20230111</td><td>중구        </td><td>    NA</td><td>    NA</td><td>  NA</td><td>    NA</td><td>NA</td><td>NA</td><td>01</td><td>11</td></tr>\n",
       "\t<tr><td>20230112</td><td>중구        </td><td>    NA</td><td>    NA</td><td>  NA</td><td>    NA</td><td>NA</td><td>NA</td><td>01</td><td>12</td></tr>\n",
       "</tbody>\n",
       "</table>\n"
      ],
      "text/latex": [
       "A tibble: 6 × 10\n",
       "\\begin{tabular}{llllllllll}\n",
       " 측정일시 & 측정소명 & NO2 & O3 & CO & SO2 & PM10 & PM25 & 월 & 일\\\\\n",
       " <dbl> & <chr> & <dbl> & <dbl> & <dbl> & <dbl> & <dbl> & <dbl> & <chr> & <chr>\\\\\n",
       "\\hline\n",
       "\t 20230101 & 마포아트센터 & 0.0230 & 0.0260 & 0.70 & 0.0040 & NA & 36 & 01 & 01\\\\\n",
       "\t 20230107 & 도산대로     & 0.0305 & 0.0173 & 0.97 & 0.0034 & NA & 95 & 01 & 07\\\\\n",
       "\t 20230108 & 도산대로     & 0.0374 & 0.0075 & 0.99 & 0.0032 & NA & 68 & 01 & 08\\\\\n",
       "\t 20230110 & 중구         &     NA &     NA &   NA &     NA & NA & NA & 01 & 10\\\\\n",
       "\t 20230111 & 중구         &     NA &     NA &   NA &     NA & NA & NA & 01 & 11\\\\\n",
       "\t 20230112 & 중구         &     NA &     NA &   NA &     NA & NA & NA & 01 & 12\\\\\n",
       "\\end{tabular}\n"
      ],
      "text/markdown": [
       "\n",
       "A tibble: 6 × 10\n",
       "\n",
       "| 측정일시 &lt;dbl&gt; | 측정소명 &lt;chr&gt; | NO2 &lt;dbl&gt; | O3 &lt;dbl&gt; | CO &lt;dbl&gt; | SO2 &lt;dbl&gt; | PM10 &lt;dbl&gt; | PM25 &lt;dbl&gt; | 월 &lt;chr&gt; | 일 &lt;chr&gt; |\n",
       "|---|---|---|---|---|---|---|---|---|---|\n",
       "| 20230101 | 마포아트센터 | 0.0230 | 0.0260 | 0.70 | 0.0040 | NA | 36 | 01 | 01 |\n",
       "| 20230107 | 도산대로     | 0.0305 | 0.0173 | 0.97 | 0.0034 | NA | 95 | 01 | 07 |\n",
       "| 20230108 | 도산대로     | 0.0374 | 0.0075 | 0.99 | 0.0032 | NA | 68 | 01 | 08 |\n",
       "| 20230110 | 중구         |     NA |     NA |   NA |     NA | NA | NA | 01 | 10 |\n",
       "| 20230111 | 중구         |     NA |     NA |   NA |     NA | NA | NA | 01 | 11 |\n",
       "| 20230112 | 중구         |     NA |     NA |   NA |     NA | NA | NA | 01 | 12 |\n",
       "\n"
      ],
      "text/plain": [
       "  측정일시 측정소명     NO2    O3     CO   SO2    PM10 PM25 월 일\n",
       "1 20230101 마포아트센터 0.0230 0.0260 0.70 0.0040 NA   36   01 01\n",
       "2 20230107 도산대로     0.0305 0.0173 0.97 0.0034 NA   95   01 07\n",
       "3 20230108 도산대로     0.0374 0.0075 0.99 0.0032 NA   68   01 08\n",
       "4 20230110 중구             NA     NA   NA     NA NA   NA   01 10\n",
       "5 20230111 중구             NA     NA   NA     NA NA   NA   01 11\n",
       "6 20230112 중구             NA     NA   NA     NA NA   NA   01 12"
      ]
     },
     "metadata": {},
     "output_type": "display_data"
    }
   ],
   "source": [
    "idx <- which(is.na(data['PM10']))\n",
    "head(data[idx, ])"
   ]
  },
  {
   "cell_type": "code",
   "execution_count": 126,
   "metadata": {
    "vscode": {
     "languageId": "r"
    }
   },
   "outputs": [
    {
     "data": {
      "text/plain": [
       "      NO2               O3                CO              SO2         \n",
       " Min.   :0.0013   Min.   :0.00110   Min.   :0.0300   Min.   :0.00080  \n",
       " 1st Qu.:0.0131   1st Qu.:0.01910   1st Qu.:0.3600   1st Qu.:0.00250  \n",
       " Median :0.0198   Median :0.02770   Median :0.4500   Median :0.00280  \n",
       " Mean   :0.0222   Mean   :0.02898   Mean   :0.4772   Mean   :0.00288  \n",
       " 3rd Qu.:0.0292   3rd Qu.:0.03740   3rd Qu.:0.5600   3rd Qu.:0.00320  \n",
       " Max.   :0.0763   Max.   :0.10400   Max.   :1.4100   Max.   :0.00790  \n",
       " NA's   :91       NA's   :93        NA's   :484      NA's   :221      \n",
       "      PM10             PM25       \n",
       " Min.   :  3.00   Min.   :  1.00  \n",
       " 1st Qu.: 22.00   1st Qu.: 11.00  \n",
       " Median : 32.00   Median : 17.00  \n",
       " Mean   : 38.44   Mean   : 19.56  \n",
       " 3rd Qu.: 47.00   3rd Qu.: 25.00  \n",
       " Max.   :351.00   Max.   :116.00  \n",
       " NA's   :113      NA's   :118     "
      ]
     },
     "metadata": {},
     "output_type": "display_data"
    }
   ],
   "source": [
    "summary(data[3:8])"
   ]
  },
  {
   "cell_type": "code",
   "execution_count": 127,
   "metadata": {
    "vscode": {
     "languageId": "r"
    }
   },
   "outputs": [
    {
     "data": {
      "text/plain": [
       "\n",
       "관악산   남산 북한산 \n",
       "   365    365    365 "
      ]
     },
     "metadata": {},
     "output_type": "display_data"
    }
   ],
   "source": [
    "idx <- grep(\"산$\", data$`측정소명`)\n",
    "san <- data[idx, ]\n",
    "table(san$측정소명)"
   ]
  },
  {
   "cell_type": "code",
   "execution_count": 128,
   "metadata": {
    "vscode": {
     "languageId": "r"
    }
   },
   "outputs": [
    {
     "data": {
      "text/html": [
       "<table class=\"dataframe\">\n",
       "<caption>A tibble: 3 × 4</caption>\n",
       "<thead>\n",
       "\t<tr><th scope=col>측정소명</th><th scope=col>PM10.min</th><th scope=col>PM10.mean</th><th scope=col>PM10.max</th></tr>\n",
       "\t<tr><th scope=col>&lt;chr&gt;</th><th scope=col>&lt;dbl&gt;</th><th scope=col>&lt;dbl&gt;</th><th scope=col>&lt;dbl&gt;</th></tr>\n",
       "</thead>\n",
       "<tbody>\n",
       "\t<tr><td>관악산</td><td> 3</td><td>34.94521</td><td>321</td></tr>\n",
       "\t<tr><td>남산  </td><td> 3</td><td>35.20822</td><td>301</td></tr>\n",
       "\t<tr><td>북한산</td><td>NA</td><td>      NA</td><td> NA</td></tr>\n",
       "</tbody>\n",
       "</table>\n"
      ],
      "text/latex": [
       "A tibble: 3 × 4\n",
       "\\begin{tabular}{llll}\n",
       " 측정소명 & PM10.min & PM10.mean & PM10.max\\\\\n",
       " <chr> & <dbl> & <dbl> & <dbl>\\\\\n",
       "\\hline\n",
       "\t 관악산 &  3 & 34.94521 & 321\\\\\n",
       "\t 남산   &  3 & 35.20822 & 301\\\\\n",
       "\t 북한산 & NA &       NA &  NA\\\\\n",
       "\\end{tabular}\n"
      ],
      "text/markdown": [
       "\n",
       "A tibble: 3 × 4\n",
       "\n",
       "| 측정소명 &lt;chr&gt; | PM10.min &lt;dbl&gt; | PM10.mean &lt;dbl&gt; | PM10.max &lt;dbl&gt; |\n",
       "|---|---|---|---|\n",
       "| 관악산 |  3 | 34.94521 | 321 |\n",
       "| 남산   |  3 | 35.20822 | 301 |\n",
       "| 북한산 | NA |       NA |  NA |\n",
       "\n"
      ],
      "text/plain": [
       "  측정소명 PM10.min PM10.mean PM10.max\n",
       "1 관악산    3       34.94521  321     \n",
       "2 남산      3       35.20822  301     \n",
       "3 북한산   NA             NA   NA     "
      ]
     },
     "metadata": {},
     "output_type": "display_data"
    }
   ],
   "source": [
    "summaryBy(PM10 ~ 측정소명, data=san, FUN=c(min, mean, max))"
   ]
  },
  {
   "cell_type": "code",
   "execution_count": 129,
   "metadata": {
    "vscode": {
     "languageId": "r"
    }
   },
   "outputs": [
    {
     "data": {
      "text/html": [
       "<table class=\"dataframe\">\n",
       "<caption>A tibble: 3 × 4</caption>\n",
       "<thead>\n",
       "\t<tr><th scope=col>측정소명</th><th scope=col>PM10.min</th><th scope=col>PM10.mean</th><th scope=col>PM10.max</th></tr>\n",
       "\t<tr><th scope=col>&lt;chr&gt;</th><th scope=col>&lt;dbl&gt;</th><th scope=col>&lt;dbl&gt;</th><th scope=col>&lt;dbl&gt;</th></tr>\n",
       "</thead>\n",
       "<tbody>\n",
       "\t<tr><td>관악산</td><td>3</td><td>34.94521</td><td>321</td></tr>\n",
       "\t<tr><td>남산  </td><td>3</td><td>35.20822</td><td>301</td></tr>\n",
       "\t<tr><td>북한산</td><td>3</td><td>31.76648</td><td>255</td></tr>\n",
       "</tbody>\n",
       "</table>\n"
      ],
      "text/latex": [
       "A tibble: 3 × 4\n",
       "\\begin{tabular}{llll}\n",
       " 측정소명 & PM10.min & PM10.mean & PM10.max\\\\\n",
       " <chr> & <dbl> & <dbl> & <dbl>\\\\\n",
       "\\hline\n",
       "\t 관악산 & 3 & 34.94521 & 321\\\\\n",
       "\t 남산   & 3 & 35.20822 & 301\\\\\n",
       "\t 북한산 & 3 & 31.76648 & 255\\\\\n",
       "\\end{tabular}\n"
      ],
      "text/markdown": [
       "\n",
       "A tibble: 3 × 4\n",
       "\n",
       "| 측정소명 &lt;chr&gt; | PM10.min &lt;dbl&gt; | PM10.mean &lt;dbl&gt; | PM10.max &lt;dbl&gt; |\n",
       "|---|---|---|---|\n",
       "| 관악산 | 3 | 34.94521 | 321 |\n",
       "| 남산   | 3 | 35.20822 | 301 |\n",
       "| 북한산 | 3 | 31.76648 | 255 |\n",
       "\n"
      ],
      "text/plain": [
       "  측정소명 PM10.min PM10.mean PM10.max\n",
       "1 관악산   3        34.94521  321     \n",
       "2 남산     3        35.20822  301     \n",
       "3 북한산   3        31.76648  255     "
      ]
     },
     "metadata": {},
     "output_type": "display_data"
    }
   ],
   "source": [
    "summaryBy(PM10 ~ 측정소명, data=san, FUN=c(min, mean, max),\n",
    "         na.rm = T)"
   ]
  },
  {
   "cell_type": "code",
   "execution_count": 130,
   "metadata": {
    "vscode": {
     "languageId": "r"
    }
   },
   "outputs": [],
   "source": [
    "# 에러가 나는 드드\n",
    "# summaryBy(PM10 ~ 측정소명, data=san, FUN=c(length, min, mean, max),\n",
    "#          na.rm = T)"
   ]
  },
  {
   "cell_type": "code",
   "execution_count": 131,
   "metadata": {
    "vscode": {
     "languageId": "r"
    }
   },
   "outputs": [
    {
     "data": {
      "text/html": [
       "546"
      ],
      "text/latex": [
       "546"
      ],
      "text/markdown": [
       "546"
      ],
      "text/plain": [
       "[1] 546"
      ]
     },
     "metadata": {},
     "output_type": "display_data"
    }
   ],
   "source": [
    "# 결측지(NA)를 포함하는 행 검색\n",
    "idx <- which(is.na(san$PM10))\n",
    "idx"
   ]
  },
  {
   "cell_type": "code",
   "execution_count": 132,
   "metadata": {
    "vscode": {
     "languageId": "r"
    }
   },
   "outputs": [
    {
     "data": {
      "text/html": [
       "<table class=\"dataframe\">\n",
       "<caption>A tibble: 3 × 5</caption>\n",
       "<thead>\n",
       "\t<tr><th scope=col>측정소명</th><th scope=col>PM10.length</th><th scope=col>PM10.min</th><th scope=col>PM10.mean</th><th scope=col>PM10.max</th></tr>\n",
       "\t<tr><th scope=col>&lt;chr&gt;</th><th scope=col>&lt;dbl&gt;</th><th scope=col>&lt;dbl&gt;</th><th scope=col>&lt;dbl&gt;</th><th scope=col>&lt;dbl&gt;</th></tr>\n",
       "</thead>\n",
       "<tbody>\n",
       "\t<tr><td>관악산</td><td>365</td><td>3</td><td>34.94521</td><td>321</td></tr>\n",
       "\t<tr><td>남산  </td><td>365</td><td>3</td><td>35.20822</td><td>301</td></tr>\n",
       "\t<tr><td>북한산</td><td>364</td><td>3</td><td>31.76648</td><td>255</td></tr>\n",
       "</tbody>\n",
       "</table>\n"
      ],
      "text/latex": [
       "A tibble: 3 × 5\n",
       "\\begin{tabular}{lllll}\n",
       " 측정소명 & PM10.length & PM10.min & PM10.mean & PM10.max\\\\\n",
       " <chr> & <dbl> & <dbl> & <dbl> & <dbl>\\\\\n",
       "\\hline\n",
       "\t 관악산 & 365 & 3 & 34.94521 & 321\\\\\n",
       "\t 남산   & 365 & 3 & 35.20822 & 301\\\\\n",
       "\t 북한산 & 364 & 3 & 31.76648 & 255\\\\\n",
       "\\end{tabular}\n"
      ],
      "text/markdown": [
       "\n",
       "A tibble: 3 × 5\n",
       "\n",
       "| 측정소명 &lt;chr&gt; | PM10.length &lt;dbl&gt; | PM10.min &lt;dbl&gt; | PM10.mean &lt;dbl&gt; | PM10.max &lt;dbl&gt; |\n",
       "|---|---|---|---|---|\n",
       "| 관악산 | 365 | 3 | 34.94521 | 321 |\n",
       "| 남산   | 365 | 3 | 35.20822 | 301 |\n",
       "| 북한산 | 364 | 3 | 31.76648 | 255 |\n",
       "\n"
      ],
      "text/plain": [
       "  측정소명 PM10.length PM10.min PM10.mean PM10.max\n",
       "1 관악산   365         3        34.94521  321     \n",
       "2 남산     365         3        35.20822  301     \n",
       "3 북한산   364         3        31.76648  255     "
      ]
     },
     "metadata": {},
     "output_type": "display_data"
    }
   ],
   "source": [
    "# NA를 포함하는 행 삭제\n",
    "san2 <- san[-idx, ]\n",
    "summaryBy(PM10 ~ 측정소명, data=san2, FUN=c(length, min, mean, max))"
   ]
  },
  {
   "cell_type": "code",
   "execution_count": 133,
   "metadata": {
    "vscode": {
     "languageId": "r"
    }
   },
   "outputs": [
    {
     "data": {
      "text/html": [
       "<table class=\"dataframe\">\n",
       "<caption>A tibble: 36 × 5</caption>\n",
       "<thead>\n",
       "\t<tr><th scope=col>월</th><th scope=col>측정소명</th><th scope=col>PM10.min</th><th scope=col>PM10.mean</th><th scope=col>PM10.max</th></tr>\n",
       "\t<tr><th scope=col>&lt;chr&gt;</th><th scope=col>&lt;chr&gt;</th><th scope=col>&lt;dbl&gt;</th><th scope=col>&lt;dbl&gt;</th><th scope=col>&lt;dbl&gt;</th></tr>\n",
       "</thead>\n",
       "<tbody>\n",
       "\t<tr><td>01</td><td>관악산</td><td> 3</td><td>40.32258</td><td>113</td></tr>\n",
       "\t<tr><td>01</td><td>남산  </td><td> 6</td><td>45.45161</td><td>134</td></tr>\n",
       "\t<tr><td>01</td><td>북한산</td><td> 5</td><td>39.74194</td><td>137</td></tr>\n",
       "\t<tr><td>02</td><td>관악산</td><td>17</td><td>43.07143</td><td> 77</td></tr>\n",
       "\t<tr><td>02</td><td>남산  </td><td>14</td><td>44.39286</td><td> 82</td></tr>\n",
       "\t<tr><td>02</td><td>북한산</td><td>10</td><td>37.82143</td><td> 66</td></tr>\n",
       "\t<tr><td>03</td><td>관악산</td><td>35</td><td>67.54839</td><td>162</td></tr>\n",
       "\t<tr><td>03</td><td>남산  </td><td>33</td><td>70.41935</td><td>147</td></tr>\n",
       "\t<tr><td>03</td><td>북한산</td><td>28</td><td>61.64516</td><td>146</td></tr>\n",
       "\t<tr><td>04</td><td>관악산</td><td> 6</td><td>65.56667</td><td>321</td></tr>\n",
       "\t<tr><td>04</td><td>남산  </td><td>12</td><td>63.43333</td><td>301</td></tr>\n",
       "\t<tr><td>04</td><td>북한산</td><td> 7</td><td>56.10000</td><td>255</td></tr>\n",
       "\t<tr><td>05</td><td>관악산</td><td> 5</td><td>37.70968</td><td>153</td></tr>\n",
       "\t<tr><td>05</td><td>남산  </td><td> 5</td><td>38.51613</td><td>137</td></tr>\n",
       "\t<tr><td>05</td><td>북한산</td><td> 4</td><td>29.00000</td><td>110</td></tr>\n",
       "\t<tr><td>06</td><td>관악산</td><td> 4</td><td>26.96667</td><td> 52</td></tr>\n",
       "\t<tr><td>06</td><td>남산  </td><td> 6</td><td>26.30000</td><td> 42</td></tr>\n",
       "\t<tr><td>06</td><td>북한산</td><td> 6</td><td>20.30000</td><td> 36</td></tr>\n",
       "\t<tr><td>07</td><td>관악산</td><td> 3</td><td>20.93548</td><td> 61</td></tr>\n",
       "\t<tr><td>07</td><td>남산  </td><td> 4</td><td>21.29032</td><td> 56</td></tr>\n",
       "\t<tr><td>07</td><td>북한산</td><td> 7</td><td>23.03333</td><td> 57</td></tr>\n",
       "\t<tr><td>08</td><td>관악산</td><td> 3</td><td>16.96774</td><td> 36</td></tr>\n",
       "\t<tr><td>08</td><td>남산  </td><td> 3</td><td>15.29032</td><td> 33</td></tr>\n",
       "\t<tr><td>08</td><td>북한산</td><td> 4</td><td>20.70968</td><td> 41</td></tr>\n",
       "\t<tr><td>09</td><td>관악산</td><td> 3</td><td>17.23333</td><td> 35</td></tr>\n",
       "\t<tr><td>09</td><td>남산  </td><td> 3</td><td>14.86667</td><td> 44</td></tr>\n",
       "\t<tr><td>09</td><td>북한산</td><td> 4</td><td>17.66667</td><td> 45</td></tr>\n",
       "\t<tr><td>10</td><td>관악산</td><td>10</td><td>27.25806</td><td> 54</td></tr>\n",
       "\t<tr><td>10</td><td>남산  </td><td> 5</td><td>25.54839</td><td> 54</td></tr>\n",
       "\t<tr><td>10</td><td>북한산</td><td> 6</td><td>21.22581</td><td> 49</td></tr>\n",
       "\t<tr><td>11</td><td>관악산</td><td>11</td><td>26.26667</td><td> 88</td></tr>\n",
       "\t<tr><td>11</td><td>남산  </td><td> 8</td><td>25.70000</td><td> 92</td></tr>\n",
       "\t<tr><td>11</td><td>북한산</td><td>11</td><td>25.20000</td><td> 82</td></tr>\n",
       "\t<tr><td>12</td><td>관악산</td><td> 3</td><td>30.16129</td><td> 88</td></tr>\n",
       "\t<tr><td>12</td><td>남산  </td><td> 4</td><td>31.83871</td><td> 81</td></tr>\n",
       "\t<tr><td>12</td><td>북한산</td><td> 3</td><td>28.80645</td><td> 76</td></tr>\n",
       "</tbody>\n",
       "</table>\n"
      ],
      "text/latex": [
       "A tibble: 36 × 5\n",
       "\\begin{tabular}{lllll}\n",
       " 월 & 측정소명 & PM10.min & PM10.mean & PM10.max\\\\\n",
       " <chr> & <chr> & <dbl> & <dbl> & <dbl>\\\\\n",
       "\\hline\n",
       "\t 01 & 관악산 &  3 & 40.32258 & 113\\\\\n",
       "\t 01 & 남산   &  6 & 45.45161 & 134\\\\\n",
       "\t 01 & 북한산 &  5 & 39.74194 & 137\\\\\n",
       "\t 02 & 관악산 & 17 & 43.07143 &  77\\\\\n",
       "\t 02 & 남산   & 14 & 44.39286 &  82\\\\\n",
       "\t 02 & 북한산 & 10 & 37.82143 &  66\\\\\n",
       "\t 03 & 관악산 & 35 & 67.54839 & 162\\\\\n",
       "\t 03 & 남산   & 33 & 70.41935 & 147\\\\\n",
       "\t 03 & 북한산 & 28 & 61.64516 & 146\\\\\n",
       "\t 04 & 관악산 &  6 & 65.56667 & 321\\\\\n",
       "\t 04 & 남산   & 12 & 63.43333 & 301\\\\\n",
       "\t 04 & 북한산 &  7 & 56.10000 & 255\\\\\n",
       "\t 05 & 관악산 &  5 & 37.70968 & 153\\\\\n",
       "\t 05 & 남산   &  5 & 38.51613 & 137\\\\\n",
       "\t 05 & 북한산 &  4 & 29.00000 & 110\\\\\n",
       "\t 06 & 관악산 &  4 & 26.96667 &  52\\\\\n",
       "\t 06 & 남산   &  6 & 26.30000 &  42\\\\\n",
       "\t 06 & 북한산 &  6 & 20.30000 &  36\\\\\n",
       "\t 07 & 관악산 &  3 & 20.93548 &  61\\\\\n",
       "\t 07 & 남산   &  4 & 21.29032 &  56\\\\\n",
       "\t 07 & 북한산 &  7 & 23.03333 &  57\\\\\n",
       "\t 08 & 관악산 &  3 & 16.96774 &  36\\\\\n",
       "\t 08 & 남산   &  3 & 15.29032 &  33\\\\\n",
       "\t 08 & 북한산 &  4 & 20.70968 &  41\\\\\n",
       "\t 09 & 관악산 &  3 & 17.23333 &  35\\\\\n",
       "\t 09 & 남산   &  3 & 14.86667 &  44\\\\\n",
       "\t 09 & 북한산 &  4 & 17.66667 &  45\\\\\n",
       "\t 10 & 관악산 & 10 & 27.25806 &  54\\\\\n",
       "\t 10 & 남산   &  5 & 25.54839 &  54\\\\\n",
       "\t 10 & 북한산 &  6 & 21.22581 &  49\\\\\n",
       "\t 11 & 관악산 & 11 & 26.26667 &  88\\\\\n",
       "\t 11 & 남산   &  8 & 25.70000 &  92\\\\\n",
       "\t 11 & 북한산 & 11 & 25.20000 &  82\\\\\n",
       "\t 12 & 관악산 &  3 & 30.16129 &  88\\\\\n",
       "\t 12 & 남산   &  4 & 31.83871 &  81\\\\\n",
       "\t 12 & 북한산 &  3 & 28.80645 &  76\\\\\n",
       "\\end{tabular}\n"
      ],
      "text/markdown": [
       "\n",
       "A tibble: 36 × 5\n",
       "\n",
       "| 월 &lt;chr&gt; | 측정소명 &lt;chr&gt; | PM10.min &lt;dbl&gt; | PM10.mean &lt;dbl&gt; | PM10.max &lt;dbl&gt; |\n",
       "|---|---|---|---|---|\n",
       "| 01 | 관악산 |  3 | 40.32258 | 113 |\n",
       "| 01 | 남산   |  6 | 45.45161 | 134 |\n",
       "| 01 | 북한산 |  5 | 39.74194 | 137 |\n",
       "| 02 | 관악산 | 17 | 43.07143 |  77 |\n",
       "| 02 | 남산   | 14 | 44.39286 |  82 |\n",
       "| 02 | 북한산 | 10 | 37.82143 |  66 |\n",
       "| 03 | 관악산 | 35 | 67.54839 | 162 |\n",
       "| 03 | 남산   | 33 | 70.41935 | 147 |\n",
       "| 03 | 북한산 | 28 | 61.64516 | 146 |\n",
       "| 04 | 관악산 |  6 | 65.56667 | 321 |\n",
       "| 04 | 남산   | 12 | 63.43333 | 301 |\n",
       "| 04 | 북한산 |  7 | 56.10000 | 255 |\n",
       "| 05 | 관악산 |  5 | 37.70968 | 153 |\n",
       "| 05 | 남산   |  5 | 38.51613 | 137 |\n",
       "| 05 | 북한산 |  4 | 29.00000 | 110 |\n",
       "| 06 | 관악산 |  4 | 26.96667 |  52 |\n",
       "| 06 | 남산   |  6 | 26.30000 |  42 |\n",
       "| 06 | 북한산 |  6 | 20.30000 |  36 |\n",
       "| 07 | 관악산 |  3 | 20.93548 |  61 |\n",
       "| 07 | 남산   |  4 | 21.29032 |  56 |\n",
       "| 07 | 북한산 |  7 | 23.03333 |  57 |\n",
       "| 08 | 관악산 |  3 | 16.96774 |  36 |\n",
       "| 08 | 남산   |  3 | 15.29032 |  33 |\n",
       "| 08 | 북한산 |  4 | 20.70968 |  41 |\n",
       "| 09 | 관악산 |  3 | 17.23333 |  35 |\n",
       "| 09 | 남산   |  3 | 14.86667 |  44 |\n",
       "| 09 | 북한산 |  4 | 17.66667 |  45 |\n",
       "| 10 | 관악산 | 10 | 27.25806 |  54 |\n",
       "| 10 | 남산   |  5 | 25.54839 |  54 |\n",
       "| 10 | 북한산 |  6 | 21.22581 |  49 |\n",
       "| 11 | 관악산 | 11 | 26.26667 |  88 |\n",
       "| 11 | 남산   |  8 | 25.70000 |  92 |\n",
       "| 11 | 북한산 | 11 | 25.20000 |  82 |\n",
       "| 12 | 관악산 |  3 | 30.16129 |  88 |\n",
       "| 12 | 남산   |  4 | 31.83871 |  81 |\n",
       "| 12 | 북한산 |  3 | 28.80645 |  76 |\n",
       "\n"
      ],
      "text/plain": [
       "   월 측정소명 PM10.min PM10.mean PM10.max\n",
       "1  01 관악산    3       40.32258  113     \n",
       "2  01 남산      6       45.45161  134     \n",
       "3  01 북한산    5       39.74194  137     \n",
       "4  02 관악산   17       43.07143   77     \n",
       "5  02 남산     14       44.39286   82     \n",
       "6  02 북한산   10       37.82143   66     \n",
       "7  03 관악산   35       67.54839  162     \n",
       "8  03 남산     33       70.41935  147     \n",
       "9  03 북한산   28       61.64516  146     \n",
       "10 04 관악산    6       65.56667  321     \n",
       "11 04 남산     12       63.43333  301     \n",
       "12 04 북한산    7       56.10000  255     \n",
       "13 05 관악산    5       37.70968  153     \n",
       "14 05 남산      5       38.51613  137     \n",
       "15 05 북한산    4       29.00000  110     \n",
       "16 06 관악산    4       26.96667   52     \n",
       "17 06 남산      6       26.30000   42     \n",
       "18 06 북한산    6       20.30000   36     \n",
       "19 07 관악산    3       20.93548   61     \n",
       "20 07 남산      4       21.29032   56     \n",
       "21 07 북한산    7       23.03333   57     \n",
       "22 08 관악산    3       16.96774   36     \n",
       "23 08 남산      3       15.29032   33     \n",
       "24 08 북한산    4       20.70968   41     \n",
       "25 09 관악산    3       17.23333   35     \n",
       "26 09 남산      3       14.86667   44     \n",
       "27 09 북한산    4       17.66667   45     \n",
       "28 10 관악산   10       27.25806   54     \n",
       "29 10 남산      5       25.54839   54     \n",
       "30 10 북한산    6       21.22581   49     \n",
       "31 11 관악산   11       26.26667   88     \n",
       "32 11 남산      8       25.70000   92     \n",
       "33 11 북한산   11       25.20000   82     \n",
       "34 12 관악산    3       30.16129   88     \n",
       "35 12 남산      4       31.83871   81     \n",
       "36 12 북한산    3       28.80645   76     "
      ]
     },
     "metadata": {},
     "output_type": "display_data"
    }
   ],
   "source": [
    "summaryBy(PM10 ~ 월 + 측정소명, data=san2, FUN=c(min, mean, max))"
   ]
  },
  {
   "cell_type": "code",
   "execution_count": 134,
   "metadata": {
    "vscode": {
     "languageId": "r"
    }
   },
   "outputs": [],
   "source": [
    "library(dplyr)"
   ]
  },
  {
   "cell_type": "code",
   "execution_count": 135,
   "metadata": {
    "vscode": {
     "languageId": "r"
    }
   },
   "outputs": [
    {
     "data": {
      "text/html": [
       "<table class=\"dataframe\">\n",
       "<caption>A data.frame: 6 × 9</caption>\n",
       "<thead>\n",
       "\t<tr><th></th><th scope=col>발생월</th><th scope=col>발생일</th><th scope=col>시도</th><th scope=col>시군구</th><th scope=col>사고건수</th><th scope=col>사망자수</th><th scope=col>중상자수</th><th scope=col>경상자수</th><th scope=col>부상신고자수</th></tr>\n",
       "\t<tr><th></th><th scope=col>&lt;int&gt;</th><th scope=col>&lt;int&gt;</th><th scope=col>&lt;chr&gt;</th><th scope=col>&lt;chr&gt;</th><th scope=col>&lt;int&gt;</th><th scope=col>&lt;int&gt;</th><th scope=col>&lt;int&gt;</th><th scope=col>&lt;int&gt;</th><th scope=col>&lt;int&gt;</th></tr>\n",
       "</thead>\n",
       "<tbody>\n",
       "\t<tr><th scope=row>1</th><td>1</td><td>1</td><td>서울</td><td>용산구  </td><td>4</td><td>0</td><td>0</td><td> 5</td><td>0</td></tr>\n",
       "\t<tr><th scope=row>2</th><td>1</td><td>1</td><td>서울</td><td>성동구  </td><td>4</td><td>0</td><td>0</td><td>13</td><td>0</td></tr>\n",
       "\t<tr><th scope=row>3</th><td>1</td><td>1</td><td>서울</td><td>동대문구</td><td>5</td><td>0</td><td>1</td><td> 5</td><td>1</td></tr>\n",
       "\t<tr><th scope=row>4</th><td>1</td><td>1</td><td>서울</td><td>성북구  </td><td>4</td><td>0</td><td>1</td><td> 3</td><td>0</td></tr>\n",
       "\t<tr><th scope=row>5</th><td>1</td><td>1</td><td>서울</td><td>은평구  </td><td>3</td><td>0</td><td>3</td><td> 0</td><td>0</td></tr>\n",
       "\t<tr><th scope=row>6</th><td>1</td><td>1</td><td>서울</td><td>서대문구</td><td>2</td><td>0</td><td>0</td><td> 1</td><td>1</td></tr>\n",
       "</tbody>\n",
       "</table>\n"
      ],
      "text/latex": [
       "A data.frame: 6 × 9\n",
       "\\begin{tabular}{r|lllllllll}\n",
       "  & 발생월 & 발생일 & 시도 & 시군구 & 사고건수 & 사망자수 & 중상자수 & 경상자수 & 부상신고자수\\\\\n",
       "  & <int> & <int> & <chr> & <chr> & <int> & <int> & <int> & <int> & <int>\\\\\n",
       "\\hline\n",
       "\t1 & 1 & 1 & 서울 & 용산구   & 4 & 0 & 0 &  5 & 0\\\\\n",
       "\t2 & 1 & 1 & 서울 & 성동구   & 4 & 0 & 0 & 13 & 0\\\\\n",
       "\t3 & 1 & 1 & 서울 & 동대문구 & 5 & 0 & 1 &  5 & 1\\\\\n",
       "\t4 & 1 & 1 & 서울 & 성북구   & 4 & 0 & 1 &  3 & 0\\\\\n",
       "\t5 & 1 & 1 & 서울 & 은평구   & 3 & 0 & 3 &  0 & 0\\\\\n",
       "\t6 & 1 & 1 & 서울 & 서대문구 & 2 & 0 & 0 &  1 & 1\\\\\n",
       "\\end{tabular}\n"
      ],
      "text/markdown": [
       "\n",
       "A data.frame: 6 × 9\n",
       "\n",
       "| <!--/--> | 발생월 &lt;int&gt; | 발생일 &lt;int&gt; | 시도 &lt;chr&gt; | 시군구 &lt;chr&gt; | 사고건수 &lt;int&gt; | 사망자수 &lt;int&gt; | 중상자수 &lt;int&gt; | 경상자수 &lt;int&gt; | 부상신고자수 &lt;int&gt; |\n",
       "|---|---|---|---|---|---|---|---|---|---|\n",
       "| 1 | 1 | 1 | 서울 | 용산구   | 4 | 0 | 0 |  5 | 0 |\n",
       "| 2 | 1 | 1 | 서울 | 성동구   | 4 | 0 | 0 | 13 | 0 |\n",
       "| 3 | 1 | 1 | 서울 | 동대문구 | 5 | 0 | 1 |  5 | 1 |\n",
       "| 4 | 1 | 1 | 서울 | 성북구   | 4 | 0 | 1 |  3 | 0 |\n",
       "| 5 | 1 | 1 | 서울 | 은평구   | 3 | 0 | 3 |  0 | 0 |\n",
       "| 6 | 1 | 1 | 서울 | 서대문구 | 2 | 0 | 0 |  1 | 1 |\n",
       "\n"
      ],
      "text/plain": [
       "  발생월 발생일 시도 시군구   사고건수 사망자수 중상자수 경상자수 부상신고자수\n",
       "1 1      1      서울 용산구   4        0        0         5       0           \n",
       "2 1      1      서울 성동구   4        0        0        13       0           \n",
       "3 1      1      서울 동대문구 5        0        1         5       1           \n",
       "4 1      1      서울 성북구   4        0        1         3       0           \n",
       "5 1      1      서울 은평구   3        0        3         0       0           \n",
       "6 1      1      서울 서대문구 2        0        0         1       1           "
      ]
     },
     "metadata": {},
     "output_type": "display_data"
    }
   ],
   "source": [
    "data <- read.csv(\"../mydata/2023년_도로교통공단_일자별 시군구별 교통사고 건수.csv\", fileEncoding = \"CP949\")\n",
    "head(data)"
   ]
  },
  {
   "cell_type": "code",
   "execution_count": 136,
   "metadata": {
    "vscode": {
     "languageId": "r"
    }
   },
   "outputs": [
    {
     "data": {
      "text/html": [
       "<table class=\"dataframe\">\n",
       "<caption>A data.frame: 6 × 6</caption>\n",
       "<thead>\n",
       "\t<tr><th></th><th scope=col>발생월</th><th scope=col>발생일</th><th scope=col>시도</th><th scope=col>시군구</th><th scope=col>사고건수</th><th scope=col>경상자수</th></tr>\n",
       "\t<tr><th></th><th scope=col>&lt;int&gt;</th><th scope=col>&lt;int&gt;</th><th scope=col>&lt;chr&gt;</th><th scope=col>&lt;chr&gt;</th><th scope=col>&lt;int&gt;</th><th scope=col>&lt;int&gt;</th></tr>\n",
       "</thead>\n",
       "<tbody>\n",
       "\t<tr><th scope=row>1</th><td>1</td><td>1</td><td>서울</td><td>용산구  </td><td>4</td><td> 5</td></tr>\n",
       "\t<tr><th scope=row>2</th><td>1</td><td>1</td><td>서울</td><td>성동구  </td><td>4</td><td>13</td></tr>\n",
       "\t<tr><th scope=row>3</th><td>1</td><td>1</td><td>서울</td><td>동대문구</td><td>5</td><td> 5</td></tr>\n",
       "\t<tr><th scope=row>4</th><td>1</td><td>1</td><td>서울</td><td>성북구  </td><td>4</td><td> 3</td></tr>\n",
       "\t<tr><th scope=row>5</th><td>1</td><td>1</td><td>서울</td><td>은평구  </td><td>3</td><td> 0</td></tr>\n",
       "\t<tr><th scope=row>6</th><td>1</td><td>1</td><td>서울</td><td>서대문구</td><td>2</td><td> 1</td></tr>\n",
       "</tbody>\n",
       "</table>\n"
      ],
      "text/latex": [
       "A data.frame: 6 × 6\n",
       "\\begin{tabular}{r|llllll}\n",
       "  & 발생월 & 발생일 & 시도 & 시군구 & 사고건수 & 경상자수\\\\\n",
       "  & <int> & <int> & <chr> & <chr> & <int> & <int>\\\\\n",
       "\\hline\n",
       "\t1 & 1 & 1 & 서울 & 용산구   & 4 &  5\\\\\n",
       "\t2 & 1 & 1 & 서울 & 성동구   & 4 & 13\\\\\n",
       "\t3 & 1 & 1 & 서울 & 동대문구 & 5 &  5\\\\\n",
       "\t4 & 1 & 1 & 서울 & 성북구   & 4 &  3\\\\\n",
       "\t5 & 1 & 1 & 서울 & 은평구   & 3 &  0\\\\\n",
       "\t6 & 1 & 1 & 서울 & 서대문구 & 2 &  1\\\\\n",
       "\\end{tabular}\n"
      ],
      "text/markdown": [
       "\n",
       "A data.frame: 6 × 6\n",
       "\n",
       "| <!--/--> | 발생월 &lt;int&gt; | 발생일 &lt;int&gt; | 시도 &lt;chr&gt; | 시군구 &lt;chr&gt; | 사고건수 &lt;int&gt; | 경상자수 &lt;int&gt; |\n",
       "|---|---|---|---|---|---|---|\n",
       "| 1 | 1 | 1 | 서울 | 용산구   | 4 |  5 |\n",
       "| 2 | 1 | 1 | 서울 | 성동구   | 4 | 13 |\n",
       "| 3 | 1 | 1 | 서울 | 동대문구 | 5 |  5 |\n",
       "| 4 | 1 | 1 | 서울 | 성북구   | 4 |  3 |\n",
       "| 5 | 1 | 1 | 서울 | 은평구   | 3 |  0 |\n",
       "| 6 | 1 | 1 | 서울 | 서대문구 | 2 |  1 |\n",
       "\n"
      ],
      "text/plain": [
       "  발생월 발생일 시도 시군구   사고건수 경상자수\n",
       "1 1      1      서울 용산구   4         5      \n",
       "2 1      1      서울 성동구   4        13      \n",
       "3 1      1      서울 동대문구 5         5      \n",
       "4 1      1      서울 성북구   4         3      \n",
       "5 1      1      서울 은평구   3         0      \n",
       "6 1      1      서울 서대문구 2         1      "
      ]
     },
     "metadata": {},
     "output_type": "display_data"
    }
   ],
   "source": [
    "data2 <- select(data, 발생월, 발생일, 시도, 시군구, 사고건수, 경상자수)\n",
    "head(data2) "
   ]
  },
  {
   "cell_type": "code",
   "execution_count": 137,
   "metadata": {
    "vscode": {
     "languageId": "r"
    }
   },
   "outputs": [
    {
     "data": {
      "text/html": [
       "<table class=\"dataframe\">\n",
       "<caption>A data.frame: 3 × 6</caption>\n",
       "<thead>\n",
       "\t<tr><th></th><th scope=col>발생월</th><th scope=col>발생일</th><th scope=col>시도</th><th scope=col>시군구</th><th scope=col>사고건수</th><th scope=col>경상자수</th></tr>\n",
       "\t<tr><th></th><th scope=col>&lt;int&gt;</th><th scope=col>&lt;int&gt;</th><th scope=col>&lt;chr&gt;</th><th scope=col>&lt;chr&gt;</th><th scope=col>&lt;int&gt;</th><th scope=col>&lt;int&gt;</th></tr>\n",
       "</thead>\n",
       "<tbody>\n",
       "\t<tr><th scope=row>1</th><td>1</td><td>1</td><td>서울</td><td>용산구  </td><td>4</td><td> 5</td></tr>\n",
       "\t<tr><th scope=row>2</th><td>1</td><td>1</td><td>서울</td><td>성동구  </td><td>4</td><td>13</td></tr>\n",
       "\t<tr><th scope=row>3</th><td>1</td><td>1</td><td>서울</td><td>동대문구</td><td>5</td><td> 5</td></tr>\n",
       "</tbody>\n",
       "</table>\n"
      ],
      "text/latex": [
       "A data.frame: 3 × 6\n",
       "\\begin{tabular}{r|llllll}\n",
       "  & 발생월 & 발생일 & 시도 & 시군구 & 사고건수 & 경상자수\\\\\n",
       "  & <int> & <int> & <chr> & <chr> & <int> & <int>\\\\\n",
       "\\hline\n",
       "\t1 & 1 & 1 & 서울 & 용산구   & 4 &  5\\\\\n",
       "\t2 & 1 & 1 & 서울 & 성동구   & 4 & 13\\\\\n",
       "\t3 & 1 & 1 & 서울 & 동대문구 & 5 &  5\\\\\n",
       "\\end{tabular}\n"
      ],
      "text/markdown": [
       "\n",
       "A data.frame: 3 × 6\n",
       "\n",
       "| <!--/--> | 발생월 &lt;int&gt; | 발생일 &lt;int&gt; | 시도 &lt;chr&gt; | 시군구 &lt;chr&gt; | 사고건수 &lt;int&gt; | 경상자수 &lt;int&gt; |\n",
       "|---|---|---|---|---|---|---|\n",
       "| 1 | 1 | 1 | 서울 | 용산구   | 4 |  5 |\n",
       "| 2 | 1 | 1 | 서울 | 성동구   | 4 | 13 |\n",
       "| 3 | 1 | 1 | 서울 | 동대문구 | 5 |  5 |\n",
       "\n"
      ],
      "text/plain": [
       "  발생월 발생일 시도 시군구   사고건수 경상자수\n",
       "1 1      1      서울 용산구   4         5      \n",
       "2 1      1      서울 성동구   4        13      \n",
       "3 1      1      서울 동대문구 5         5      "
      ]
     },
     "metadata": {},
     "output_type": "display_data"
    }
   ],
   "source": [
    "data3 <- select(data, c(1:5, 8))\n",
    "head(data3, 3)"
   ]
  },
  {
   "cell_type": "code",
   "execution_count": 138,
   "metadata": {
    "vscode": {
     "languageId": "r"
    }
   },
   "outputs": [
    {
     "data": {
      "text/html": [
       "<table class=\"dataframe\">\n",
       "<caption>A data.frame: 6 × 11</caption>\n",
       "<thead>\n",
       "\t<tr><th></th><th scope=col>발생월</th><th scope=col>발생일</th><th scope=col>시도</th><th scope=col>시군구</th><th scope=col>사고건수</th><th scope=col>사망자수</th><th scope=col>중상자수</th><th scope=col>경상자수</th><th scope=col>부상신고자수</th><th scope=col>부상자수</th><th scope=col>시도_시군구</th></tr>\n",
       "\t<tr><th></th><th scope=col>&lt;int&gt;</th><th scope=col>&lt;int&gt;</th><th scope=col>&lt;chr&gt;</th><th scope=col>&lt;chr&gt;</th><th scope=col>&lt;int&gt;</th><th scope=col>&lt;int&gt;</th><th scope=col>&lt;int&gt;</th><th scope=col>&lt;int&gt;</th><th scope=col>&lt;int&gt;</th><th scope=col>&lt;int&gt;</th><th scope=col>&lt;chr&gt;</th></tr>\n",
       "</thead>\n",
       "<tbody>\n",
       "\t<tr><th scope=row>1</th><td>1</td><td>1</td><td>서울</td><td>용산구  </td><td>4</td><td>0</td><td>0</td><td> 5</td><td>0</td><td> 5</td><td>서울 용산구  </td></tr>\n",
       "\t<tr><th scope=row>2</th><td>1</td><td>1</td><td>서울</td><td>성동구  </td><td>4</td><td>0</td><td>0</td><td>13</td><td>0</td><td>13</td><td>서울 성동구  </td></tr>\n",
       "\t<tr><th scope=row>3</th><td>1</td><td>1</td><td>서울</td><td>동대문구</td><td>5</td><td>0</td><td>1</td><td> 5</td><td>1</td><td> 7</td><td>서울 동대문구</td></tr>\n",
       "\t<tr><th scope=row>4</th><td>1</td><td>1</td><td>서울</td><td>성북구  </td><td>4</td><td>0</td><td>1</td><td> 3</td><td>0</td><td> 4</td><td>서울 성북구  </td></tr>\n",
       "\t<tr><th scope=row>5</th><td>1</td><td>1</td><td>서울</td><td>은평구  </td><td>3</td><td>0</td><td>3</td><td> 0</td><td>0</td><td> 3</td><td>서울 은평구  </td></tr>\n",
       "\t<tr><th scope=row>6</th><td>1</td><td>1</td><td>서울</td><td>서대문구</td><td>2</td><td>0</td><td>0</td><td> 1</td><td>1</td><td> 2</td><td>서울 서대문구</td></tr>\n",
       "</tbody>\n",
       "</table>\n"
      ],
      "text/latex": [
       "A data.frame: 6 × 11\n",
       "\\begin{tabular}{r|lllllllllll}\n",
       "  & 발생월 & 발생일 & 시도 & 시군구 & 사고건수 & 사망자수 & 중상자수 & 경상자수 & 부상신고자수 & 부상자수 & 시도\\_시군구\\\\\n",
       "  & <int> & <int> & <chr> & <chr> & <int> & <int> & <int> & <int> & <int> & <int> & <chr>\\\\\n",
       "\\hline\n",
       "\t1 & 1 & 1 & 서울 & 용산구   & 4 & 0 & 0 &  5 & 0 &  5 & 서울 용산구  \\\\\n",
       "\t2 & 1 & 1 & 서울 & 성동구   & 4 & 0 & 0 & 13 & 0 & 13 & 서울 성동구  \\\\\n",
       "\t3 & 1 & 1 & 서울 & 동대문구 & 5 & 0 & 1 &  5 & 1 &  7 & 서울 동대문구\\\\\n",
       "\t4 & 1 & 1 & 서울 & 성북구   & 4 & 0 & 1 &  3 & 0 &  4 & 서울 성북구  \\\\\n",
       "\t5 & 1 & 1 & 서울 & 은평구   & 3 & 0 & 3 &  0 & 0 &  3 & 서울 은평구  \\\\\n",
       "\t6 & 1 & 1 & 서울 & 서대문구 & 2 & 0 & 0 &  1 & 1 &  2 & 서울 서대문구\\\\\n",
       "\\end{tabular}\n"
      ],
      "text/markdown": [
       "\n",
       "A data.frame: 6 × 11\n",
       "\n",
       "| <!--/--> | 발생월 &lt;int&gt; | 발생일 &lt;int&gt; | 시도 &lt;chr&gt; | 시군구 &lt;chr&gt; | 사고건수 &lt;int&gt; | 사망자수 &lt;int&gt; | 중상자수 &lt;int&gt; | 경상자수 &lt;int&gt; | 부상신고자수 &lt;int&gt; | 부상자수 &lt;int&gt; | 시도_시군구 &lt;chr&gt; |\n",
       "|---|---|---|---|---|---|---|---|---|---|---|---|\n",
       "| 1 | 1 | 1 | 서울 | 용산구   | 4 | 0 | 0 |  5 | 0 |  5 | 서울 용산구   |\n",
       "| 2 | 1 | 1 | 서울 | 성동구   | 4 | 0 | 0 | 13 | 0 | 13 | 서울 성동구   |\n",
       "| 3 | 1 | 1 | 서울 | 동대문구 | 5 | 0 | 1 |  5 | 1 |  7 | 서울 동대문구 |\n",
       "| 4 | 1 | 1 | 서울 | 성북구   | 4 | 0 | 1 |  3 | 0 |  4 | 서울 성북구   |\n",
       "| 5 | 1 | 1 | 서울 | 은평구   | 3 | 0 | 3 |  0 | 0 |  3 | 서울 은평구   |\n",
       "| 6 | 1 | 1 | 서울 | 서대문구 | 2 | 0 | 0 |  1 | 1 |  2 | 서울 서대문구 |\n",
       "\n"
      ],
      "text/plain": [
       "  발생월 발생일 시도 시군구   사고건수 사망자수 중상자수 경상자수 부상신고자수\n",
       "1 1      1      서울 용산구   4        0        0         5       0           \n",
       "2 1      1      서울 성동구   4        0        0        13       0           \n",
       "3 1      1      서울 동대문구 5        0        1         5       1           \n",
       "4 1      1      서울 성북구   4        0        1         3       0           \n",
       "5 1      1      서울 은평구   3        0        3         0       0           \n",
       "6 1      1      서울 서대문구 2        0        0         1       1           \n",
       "  부상자수 시도_시군구  \n",
       "1  5       서울 용산구  \n",
       "2 13       서울 성동구  \n",
       "3  7       서울 동대문구\n",
       "4  4       서울 성북구  \n",
       "5  3       서울 은평구  \n",
       "6  2       서울 서대문구"
      ]
     },
     "metadata": {},
     "output_type": "display_data"
    }
   ],
   "source": [
    "data2 <- mutate(data, 부상자수=경상자수+중상자수+부상신고자수)\n",
    "data3 <- mutate(data2, 시도_시군구 = paste(시도, 시군구))\n",
    "head(data3)"
   ]
  },
  {
   "cell_type": "code",
   "execution_count": 139,
   "metadata": {
    "vscode": {
     "languageId": "r"
    }
   },
   "outputs": [
    {
     "data": {
      "text/html": [
       "<table class=\"dataframe\">\n",
       "<caption>A data.frame: 6 × 6</caption>\n",
       "<thead>\n",
       "\t<tr><th></th><th scope=col>시도_시군구</th><th scope=col>발생월</th><th scope=col>발생일</th><th scope=col>사고건수</th><th scope=col>부상자수</th><th scope=col>사고당부상자수</th></tr>\n",
       "\t<tr><th></th><th scope=col>&lt;chr&gt;</th><th scope=col>&lt;int&gt;</th><th scope=col>&lt;int&gt;</th><th scope=col>&lt;int&gt;</th><th scope=col>&lt;int&gt;</th><th scope=col>&lt;dbl&gt;</th></tr>\n",
       "</thead>\n",
       "<tbody>\n",
       "\t<tr><th scope=row>1</th><td>서울 용산구  </td><td>1</td><td>1</td><td>4</td><td> 5</td><td>1.25</td></tr>\n",
       "\t<tr><th scope=row>2</th><td>서울 성동구  </td><td>1</td><td>1</td><td>4</td><td>13</td><td>3.25</td></tr>\n",
       "\t<tr><th scope=row>3</th><td>서울 동대문구</td><td>1</td><td>1</td><td>5</td><td> 7</td><td>1.40</td></tr>\n",
       "\t<tr><th scope=row>4</th><td>서울 성북구  </td><td>1</td><td>1</td><td>4</td><td> 4</td><td>1.00</td></tr>\n",
       "\t<tr><th scope=row>5</th><td>서울 은평구  </td><td>1</td><td>1</td><td>3</td><td> 3</td><td>1.00</td></tr>\n",
       "\t<tr><th scope=row>6</th><td>서울 서대문구</td><td>1</td><td>1</td><td>2</td><td> 2</td><td>1.00</td></tr>\n",
       "</tbody>\n",
       "</table>\n"
      ],
      "text/latex": [
       "A data.frame: 6 × 6\n",
       "\\begin{tabular}{r|llllll}\n",
       "  & 시도\\_시군구 & 발생월 & 발생일 & 사고건수 & 부상자수 & 사고당부상자수\\\\\n",
       "  & <chr> & <int> & <int> & <int> & <int> & <dbl>\\\\\n",
       "\\hline\n",
       "\t1 & 서울 용산구   & 1 & 1 & 4 &  5 & 1.25\\\\\n",
       "\t2 & 서울 성동구   & 1 & 1 & 4 & 13 & 3.25\\\\\n",
       "\t3 & 서울 동대문구 & 1 & 1 & 5 &  7 & 1.40\\\\\n",
       "\t4 & 서울 성북구   & 1 & 1 & 4 &  4 & 1.00\\\\\n",
       "\t5 & 서울 은평구   & 1 & 1 & 3 &  3 & 1.00\\\\\n",
       "\t6 & 서울 서대문구 & 1 & 1 & 2 &  2 & 1.00\\\\\n",
       "\\end{tabular}\n"
      ],
      "text/markdown": [
       "\n",
       "A data.frame: 6 × 6\n",
       "\n",
       "| <!--/--> | 시도_시군구 &lt;chr&gt; | 발생월 &lt;int&gt; | 발생일 &lt;int&gt; | 사고건수 &lt;int&gt; | 부상자수 &lt;int&gt; | 사고당부상자수 &lt;dbl&gt; |\n",
       "|---|---|---|---|---|---|---|\n",
       "| 1 | 서울 용산구   | 1 | 1 | 4 |  5 | 1.25 |\n",
       "| 2 | 서울 성동구   | 1 | 1 | 4 | 13 | 3.25 |\n",
       "| 3 | 서울 동대문구 | 1 | 1 | 5 |  7 | 1.40 |\n",
       "| 4 | 서울 성북구   | 1 | 1 | 4 |  4 | 1.00 |\n",
       "| 5 | 서울 은평구   | 1 | 1 | 3 |  3 | 1.00 |\n",
       "| 6 | 서울 서대문구 | 1 | 1 | 2 |  2 | 1.00 |\n",
       "\n"
      ],
      "text/plain": [
       "  시도_시군구   발생월 발생일 사고건수 부상자수 사고당부상자수\n",
       "1 서울 용산구   1      1      4         5       1.25          \n",
       "2 서울 성동구   1      1      4        13       3.25          \n",
       "3 서울 동대문구 1      1      5         7       1.40          \n",
       "4 서울 성북구   1      1      4         4       1.00          \n",
       "5 서울 은평구   1      1      3         3       1.00          \n",
       "6 서울 서대문구 1      1      2         2       1.00          "
      ]
     },
     "metadata": {},
     "output_type": "display_data"
    }
   ],
   "source": [
    "data4 <- mutate(data3, 사고당부상자수=부상자수/사고건수)\n",
    "data5 <- select(data4, c(11,1,2,5,10,12))\n",
    "head(data5)"
   ]
  },
  {
   "cell_type": "code",
   "execution_count": 140,
   "metadata": {
    "vscode": {
     "languageId": "r"
    }
   },
   "outputs": [
    {
     "data": {
      "text/html": [
       "<table class=\"dataframe\">\n",
       "<caption>A data.frame: 6 × 6</caption>\n",
       "<thead>\n",
       "\t<tr><th></th><th scope=col>시도_시군구</th><th scope=col>발생월</th><th scope=col>발생일</th><th scope=col>사고건수</th><th scope=col>부상자수</th><th scope=col>사고당부상자수</th></tr>\n",
       "\t<tr><th></th><th scope=col>&lt;chr&gt;</th><th scope=col>&lt;int&gt;</th><th scope=col>&lt;int&gt;</th><th scope=col>&lt;int&gt;</th><th scope=col>&lt;int&gt;</th><th scope=col>&lt;dbl&gt;</th></tr>\n",
       "</thead>\n",
       "<tbody>\n",
       "\t<tr><th scope=row>1</th><td>서울 용산구  </td><td>1</td><td>1</td><td>4</td><td> 5</td><td>1.25</td></tr>\n",
       "\t<tr><th scope=row>2</th><td>서울 성동구  </td><td>1</td><td>1</td><td>4</td><td>13</td><td>3.25</td></tr>\n",
       "\t<tr><th scope=row>3</th><td>서울 동대문구</td><td>1</td><td>1</td><td>5</td><td> 7</td><td>1.40</td></tr>\n",
       "\t<tr><th scope=row>4</th><td>서울 성북구  </td><td>1</td><td>1</td><td>4</td><td> 4</td><td>1.00</td></tr>\n",
       "\t<tr><th scope=row>5</th><td>서울 은평구  </td><td>1</td><td>1</td><td>3</td><td> 3</td><td>1.00</td></tr>\n",
       "\t<tr><th scope=row>6</th><td>서울 서대문구</td><td>1</td><td>1</td><td>2</td><td> 2</td><td>1.00</td></tr>\n",
       "</tbody>\n",
       "</table>\n"
      ],
      "text/latex": [
       "A data.frame: 6 × 6\n",
       "\\begin{tabular}{r|llllll}\n",
       "  & 시도\\_시군구 & 발생월 & 발생일 & 사고건수 & 부상자수 & 사고당부상자수\\\\\n",
       "  & <chr> & <int> & <int> & <int> & <int> & <dbl>\\\\\n",
       "\\hline\n",
       "\t1 & 서울 용산구   & 1 & 1 & 4 &  5 & 1.25\\\\\n",
       "\t2 & 서울 성동구   & 1 & 1 & 4 & 13 & 3.25\\\\\n",
       "\t3 & 서울 동대문구 & 1 & 1 & 5 &  7 & 1.40\\\\\n",
       "\t4 & 서울 성북구   & 1 & 1 & 4 &  4 & 1.00\\\\\n",
       "\t5 & 서울 은평구   & 1 & 1 & 3 &  3 & 1.00\\\\\n",
       "\t6 & 서울 서대문구 & 1 & 1 & 2 &  2 & 1.00\\\\\n",
       "\\end{tabular}\n"
      ],
      "text/markdown": [
       "\n",
       "A data.frame: 6 × 6\n",
       "\n",
       "| <!--/--> | 시도_시군구 &lt;chr&gt; | 발생월 &lt;int&gt; | 발생일 &lt;int&gt; | 사고건수 &lt;int&gt; | 부상자수 &lt;int&gt; | 사고당부상자수 &lt;dbl&gt; |\n",
       "|---|---|---|---|---|---|---|\n",
       "| 1 | 서울 용산구   | 1 | 1 | 4 |  5 | 1.25 |\n",
       "| 2 | 서울 성동구   | 1 | 1 | 4 | 13 | 3.25 |\n",
       "| 3 | 서울 동대문구 | 1 | 1 | 5 |  7 | 1.40 |\n",
       "| 4 | 서울 성북구   | 1 | 1 | 4 |  4 | 1.00 |\n",
       "| 5 | 서울 은평구   | 1 | 1 | 3 |  3 | 1.00 |\n",
       "| 6 | 서울 서대문구 | 1 | 1 | 2 |  2 | 1.00 |\n",
       "\n"
      ],
      "text/plain": [
       "  시도_시군구   발생월 발생일 사고건수 부상자수 사고당부상자수\n",
       "1 서울 용산구   1      1      4         5       1.25          \n",
       "2 서울 성동구   1      1      4        13       3.25          \n",
       "3 서울 동대문구 1      1      5         7       1.40          \n",
       "4 서울 성북구   1      1      4         4       1.00          \n",
       "5 서울 은평구   1      1      3         3       1.00          \n",
       "6 서울 서대문구 1      1      2         2       1.00          "
      ]
     },
     "metadata": {},
     "output_type": "display_data"
    }
   ],
   "source": [
    "head(data5)"
   ]
  },
  {
   "cell_type": "code",
   "execution_count": 141,
   "metadata": {
    "vscode": {
     "languageId": "r"
    }
   },
   "outputs": [
    {
     "data": {
      "text/html": [
       "<table class=\"dataframe\">\n",
       "<caption>A data.frame: 8 × 6</caption>\n",
       "<thead>\n",
       "\t<tr><th></th><th scope=col>시도_시군구</th><th scope=col>발생월</th><th scope=col>발생일</th><th scope=col>사고건수</th><th scope=col>부상자수</th><th scope=col>사고당부상자수</th></tr>\n",
       "\t<tr><th></th><th scope=col>&lt;chr&gt;</th><th scope=col>&lt;int&gt;</th><th scope=col>&lt;int&gt;</th><th scope=col>&lt;int&gt;</th><th scope=col>&lt;int&gt;</th><th scope=col>&lt;dbl&gt;</th></tr>\n",
       "</thead>\n",
       "<tbody>\n",
       "\t<tr><th scope=row>1</th><td>경기 성남시</td><td>12</td><td>22</td><td>33</td><td>54</td><td>1.636364</td></tr>\n",
       "\t<tr><th scope=row>2</th><td>경기 성남시</td><td>12</td><td>21</td><td>30</td><td>42</td><td>1.400000</td></tr>\n",
       "\t<tr><th scope=row>3</th><td>서울 강남구</td><td> 4</td><td> 7</td><td>27</td><td>36</td><td>1.333333</td></tr>\n",
       "\t<tr><th scope=row>4</th><td>경기 수원시</td><td> 8</td><td>18</td><td>27</td><td>39</td><td>1.444444</td></tr>\n",
       "\t<tr><th scope=row>5</th><td>경기 수원시</td><td> 2</td><td> 1</td><td>26</td><td>34</td><td>1.307692</td></tr>\n",
       "\t<tr><th scope=row>6</th><td>충북 청주시</td><td> 3</td><td>20</td><td>26</td><td>37</td><td>1.423077</td></tr>\n",
       "\t<tr><th scope=row>7</th><td>충북 청주시</td><td> 9</td><td>16</td><td>26</td><td>45</td><td>1.730769</td></tr>\n",
       "\t<tr><th scope=row>8</th><td>경기 안산시</td><td>12</td><td>15</td><td>26</td><td>36</td><td>1.384615</td></tr>\n",
       "</tbody>\n",
       "</table>\n"
      ],
      "text/latex": [
       "A data.frame: 8 × 6\n",
       "\\begin{tabular}{r|llllll}\n",
       "  & 시도\\_시군구 & 발생월 & 발생일 & 사고건수 & 부상자수 & 사고당부상자수\\\\\n",
       "  & <chr> & <int> & <int> & <int> & <int> & <dbl>\\\\\n",
       "\\hline\n",
       "\t1 & 경기 성남시 & 12 & 22 & 33 & 54 & 1.636364\\\\\n",
       "\t2 & 경기 성남시 & 12 & 21 & 30 & 42 & 1.400000\\\\\n",
       "\t3 & 서울 강남구 &  4 &  7 & 27 & 36 & 1.333333\\\\\n",
       "\t4 & 경기 수원시 &  8 & 18 & 27 & 39 & 1.444444\\\\\n",
       "\t5 & 경기 수원시 &  2 &  1 & 26 & 34 & 1.307692\\\\\n",
       "\t6 & 충북 청주시 &  3 & 20 & 26 & 37 & 1.423077\\\\\n",
       "\t7 & 충북 청주시 &  9 & 16 & 26 & 45 & 1.730769\\\\\n",
       "\t8 & 경기 안산시 & 12 & 15 & 26 & 36 & 1.384615\\\\\n",
       "\\end{tabular}\n"
      ],
      "text/markdown": [
       "\n",
       "A data.frame: 8 × 6\n",
       "\n",
       "| <!--/--> | 시도_시군구 &lt;chr&gt; | 발생월 &lt;int&gt; | 발생일 &lt;int&gt; | 사고건수 &lt;int&gt; | 부상자수 &lt;int&gt; | 사고당부상자수 &lt;dbl&gt; |\n",
       "|---|---|---|---|---|---|---|\n",
       "| 1 | 경기 성남시 | 12 | 22 | 33 | 54 | 1.636364 |\n",
       "| 2 | 경기 성남시 | 12 | 21 | 30 | 42 | 1.400000 |\n",
       "| 3 | 서울 강남구 |  4 |  7 | 27 | 36 | 1.333333 |\n",
       "| 4 | 경기 수원시 |  8 | 18 | 27 | 39 | 1.444444 |\n",
       "| 5 | 경기 수원시 |  2 |  1 | 26 | 34 | 1.307692 |\n",
       "| 6 | 충북 청주시 |  3 | 20 | 26 | 37 | 1.423077 |\n",
       "| 7 | 충북 청주시 |  9 | 16 | 26 | 45 | 1.730769 |\n",
       "| 8 | 경기 안산시 | 12 | 15 | 26 | 36 | 1.384615 |\n",
       "\n"
      ],
      "text/plain": [
       "  시도_시군구 발생월 발생일 사고건수 부상자수 사고당부상자수\n",
       "1 경기 성남시 12     22     33       54       1.636364      \n",
       "2 경기 성남시 12     21     30       42       1.400000      \n",
       "3 서울 강남구  4      7     27       36       1.333333      \n",
       "4 경기 수원시  8     18     27       39       1.444444      \n",
       "5 경기 수원시  2      1     26       34       1.307692      \n",
       "6 충북 청주시  3     20     26       37       1.423077      \n",
       "7 충북 청주시  9     16     26       45       1.730769      \n",
       "8 경기 안산시 12     15     26       36       1.384615      "
      ]
     },
     "metadata": {},
     "output_type": "display_data"
    }
   ],
   "source": [
    "head(arrange(data5, desc(사고건수)),8)"
   ]
  },
  {
   "cell_type": "code",
   "execution_count": 142,
   "metadata": {
    "vscode": {
     "languageId": "r"
    }
   },
   "outputs": [
    {
     "data": {
      "text/html": [
       "<table class=\"dataframe\">\n",
       "<caption>A data.frame: 8 × 6</caption>\n",
       "<thead>\n",
       "\t<tr><th></th><th scope=col>시도_시군구</th><th scope=col>발생월</th><th scope=col>발생일</th><th scope=col>사고건수</th><th scope=col>부상자수</th><th scope=col>사고당부상자수</th></tr>\n",
       "\t<tr><th></th><th scope=col>&lt;chr&gt;</th><th scope=col>&lt;int&gt;</th><th scope=col>&lt;int&gt;</th><th scope=col>&lt;int&gt;</th><th scope=col>&lt;int&gt;</th><th scope=col>&lt;dbl&gt;</th></tr>\n",
       "</thead>\n",
       "<tbody>\n",
       "\t<tr><th scope=row>1</th><td>경기 성남시</td><td>12</td><td>22</td><td>33</td><td>54</td><td>1.636364</td></tr>\n",
       "\t<tr><th scope=row>2</th><td>경기 성남시</td><td>12</td><td>21</td><td>30</td><td>42</td><td>1.400000</td></tr>\n",
       "\t<tr><th scope=row>3</th><td>서울 강남구</td><td> 4</td><td> 7</td><td>27</td><td>36</td><td>1.333333</td></tr>\n",
       "\t<tr><th scope=row>4</th><td>경기 수원시</td><td> 8</td><td>18</td><td>27</td><td>39</td><td>1.444444</td></tr>\n",
       "\t<tr><th scope=row>5</th><td>서울 강남구</td><td>12</td><td>21</td><td>26</td><td>30</td><td>1.153846</td></tr>\n",
       "\t<tr><th scope=row>6</th><td>경기 수원시</td><td> 2</td><td> 1</td><td>26</td><td>34</td><td>1.307692</td></tr>\n",
       "\t<tr><th scope=row>7</th><td>경기 안산시</td><td>12</td><td>15</td><td>26</td><td>36</td><td>1.384615</td></tr>\n",
       "\t<tr><th scope=row>8</th><td>충북 청주시</td><td> 3</td><td>20</td><td>26</td><td>37</td><td>1.423077</td></tr>\n",
       "</tbody>\n",
       "</table>\n"
      ],
      "text/latex": [
       "A data.frame: 8 × 6\n",
       "\\begin{tabular}{r|llllll}\n",
       "  & 시도\\_시군구 & 발생월 & 발생일 & 사고건수 & 부상자수 & 사고당부상자수\\\\\n",
       "  & <chr> & <int> & <int> & <int> & <int> & <dbl>\\\\\n",
       "\\hline\n",
       "\t1 & 경기 성남시 & 12 & 22 & 33 & 54 & 1.636364\\\\\n",
       "\t2 & 경기 성남시 & 12 & 21 & 30 & 42 & 1.400000\\\\\n",
       "\t3 & 서울 강남구 &  4 &  7 & 27 & 36 & 1.333333\\\\\n",
       "\t4 & 경기 수원시 &  8 & 18 & 27 & 39 & 1.444444\\\\\n",
       "\t5 & 서울 강남구 & 12 & 21 & 26 & 30 & 1.153846\\\\\n",
       "\t6 & 경기 수원시 &  2 &  1 & 26 & 34 & 1.307692\\\\\n",
       "\t7 & 경기 안산시 & 12 & 15 & 26 & 36 & 1.384615\\\\\n",
       "\t8 & 충북 청주시 &  3 & 20 & 26 & 37 & 1.423077\\\\\n",
       "\\end{tabular}\n"
      ],
      "text/markdown": [
       "\n",
       "A data.frame: 8 × 6\n",
       "\n",
       "| <!--/--> | 시도_시군구 &lt;chr&gt; | 발생월 &lt;int&gt; | 발생일 &lt;int&gt; | 사고건수 &lt;int&gt; | 부상자수 &lt;int&gt; | 사고당부상자수 &lt;dbl&gt; |\n",
       "|---|---|---|---|---|---|---|\n",
       "| 1 | 경기 성남시 | 12 | 22 | 33 | 54 | 1.636364 |\n",
       "| 2 | 경기 성남시 | 12 | 21 | 30 | 42 | 1.400000 |\n",
       "| 3 | 서울 강남구 |  4 |  7 | 27 | 36 | 1.333333 |\n",
       "| 4 | 경기 수원시 |  8 | 18 | 27 | 39 | 1.444444 |\n",
       "| 5 | 서울 강남구 | 12 | 21 | 26 | 30 | 1.153846 |\n",
       "| 6 | 경기 수원시 |  2 |  1 | 26 | 34 | 1.307692 |\n",
       "| 7 | 경기 안산시 | 12 | 15 | 26 | 36 | 1.384615 |\n",
       "| 8 | 충북 청주시 |  3 | 20 | 26 | 37 | 1.423077 |\n",
       "\n"
      ],
      "text/plain": [
       "  시도_시군구 발생월 발생일 사고건수 부상자수 사고당부상자수\n",
       "1 경기 성남시 12     22     33       54       1.636364      \n",
       "2 경기 성남시 12     21     30       42       1.400000      \n",
       "3 서울 강남구  4      7     27       36       1.333333      \n",
       "4 경기 수원시  8     18     27       39       1.444444      \n",
       "5 서울 강남구 12     21     26       30       1.153846      \n",
       "6 경기 수원시  2      1     26       34       1.307692      \n",
       "7 경기 안산시 12     15     26       36       1.384615      \n",
       "8 충북 청주시  3     20     26       37       1.423077      "
      ]
     },
     "metadata": {},
     "output_type": "display_data"
    }
   ],
   "source": [
    "head(arrange(data5, desc(사고건수), 사고당부상자수),8)"
   ]
  },
  {
   "cell_type": "code",
   "execution_count": 143,
   "metadata": {
    "vscode": {
     "languageId": "r"
    }
   },
   "outputs": [
    {
     "data": {
      "text/html": [
       "<table class=\"dataframe\">\n",
       "<caption>A data.frame: 6 × 6</caption>\n",
       "<thead>\n",
       "\t<tr><th></th><th scope=col>시도_시군구</th><th scope=col>발생월</th><th scope=col>발생일</th><th scope=col>사고건수</th><th scope=col>부상자수</th><th scope=col>사고당부상자수</th></tr>\n",
       "\t<tr><th></th><th scope=col>&lt;chr&gt;</th><th scope=col>&lt;int&gt;</th><th scope=col>&lt;int&gt;</th><th scope=col>&lt;int&gt;</th><th scope=col>&lt;int&gt;</th><th scope=col>&lt;dbl&gt;</th></tr>\n",
       "</thead>\n",
       "<tbody>\n",
       "\t<tr><th scope=row>1</th><td>부산 사상구</td><td>6</td><td> 1</td><td>1</td><td>33</td><td>33.0</td></tr>\n",
       "\t<tr><th scope=row>2</th><td>경기 여주시</td><td>6</td><td> 9</td><td>2</td><td>57</td><td>28.5</td></tr>\n",
       "\t<tr><th scope=row>3</th><td>강원 홍천군</td><td>6</td><td>16</td><td>2</td><td>57</td><td>28.5</td></tr>\n",
       "\t<tr><th scope=row>4</th><td>부산 중구  </td><td>2</td><td>26</td><td>1</td><td>21</td><td>21.0</td></tr>\n",
       "\t<tr><th scope=row>5</th><td>충남 홍성군</td><td>5</td><td>23</td><td>1</td><td>18</td><td>18.0</td></tr>\n",
       "\t<tr><th scope=row>6</th><td>서울 강서구</td><td>6</td><td> 3</td><td>1</td><td>15</td><td>15.0</td></tr>\n",
       "</tbody>\n",
       "</table>\n"
      ],
      "text/latex": [
       "A data.frame: 6 × 6\n",
       "\\begin{tabular}{r|llllll}\n",
       "  & 시도\\_시군구 & 발생월 & 발생일 & 사고건수 & 부상자수 & 사고당부상자수\\\\\n",
       "  & <chr> & <int> & <int> & <int> & <int> & <dbl>\\\\\n",
       "\\hline\n",
       "\t1 & 부산 사상구 & 6 &  1 & 1 & 33 & 33.0\\\\\n",
       "\t2 & 경기 여주시 & 6 &  9 & 2 & 57 & 28.5\\\\\n",
       "\t3 & 강원 홍천군 & 6 & 16 & 2 & 57 & 28.5\\\\\n",
       "\t4 & 부산 중구   & 2 & 26 & 1 & 21 & 21.0\\\\\n",
       "\t5 & 충남 홍성군 & 5 & 23 & 1 & 18 & 18.0\\\\\n",
       "\t6 & 서울 강서구 & 6 &  3 & 1 & 15 & 15.0\\\\\n",
       "\\end{tabular}\n"
      ],
      "text/markdown": [
       "\n",
       "A data.frame: 6 × 6\n",
       "\n",
       "| <!--/--> | 시도_시군구 &lt;chr&gt; | 발생월 &lt;int&gt; | 발생일 &lt;int&gt; | 사고건수 &lt;int&gt; | 부상자수 &lt;int&gt; | 사고당부상자수 &lt;dbl&gt; |\n",
       "|---|---|---|---|---|---|---|\n",
       "| 1 | 부산 사상구 | 6 |  1 | 1 | 33 | 33.0 |\n",
       "| 2 | 경기 여주시 | 6 |  9 | 2 | 57 | 28.5 |\n",
       "| 3 | 강원 홍천군 | 6 | 16 | 2 | 57 | 28.5 |\n",
       "| 4 | 부산 중구   | 2 | 26 | 1 | 21 | 21.0 |\n",
       "| 5 | 충남 홍성군 | 5 | 23 | 1 | 18 | 18.0 |\n",
       "| 6 | 서울 강서구 | 6 |  3 | 1 | 15 | 15.0 |\n",
       "\n"
      ],
      "text/plain": [
       "  시도_시군구 발생월 발생일 사고건수 부상자수 사고당부상자수\n",
       "1 부산 사상구 6       1     1        33       33.0          \n",
       "2 경기 여주시 6       9     2        57       28.5          \n",
       "3 강원 홍천군 6      16     2        57       28.5          \n",
       "4 부산 중구   2      26     1        21       21.0          \n",
       "5 충남 홍성군 5      23     1        18       18.0          \n",
       "6 서울 강서구 6       3     1        15       15.0          "
      ]
     },
     "metadata": {},
     "output_type": "display_data"
    }
   ],
   "source": [
    "data6 <- filter(data5, 사고당부상자수 >= 4)\n",
    "data7 <- arrange(data6, desc(사고당부상자수))\n",
    "head(data7)"
   ]
  },
  {
   "cell_type": "code",
   "execution_count": 144,
   "metadata": {
    "vscode": {
     "languageId": "r"
    }
   },
   "outputs": [
    {
     "data": {
      "text/html": [
       "<table class=\"dataframe\">\n",
       "<caption>A data.frame: 6 × 6</caption>\n",
       "<thead>\n",
       "\t<tr><th></th><th scope=col>시도_시군구</th><th scope=col>발생월</th><th scope=col>발생일</th><th scope=col>사고건수</th><th scope=col>부상자수</th><th scope=col>사고당부상자수</th></tr>\n",
       "\t<tr><th></th><th scope=col>&lt;chr&gt;</th><th scope=col>&lt;int&gt;</th><th scope=col>&lt;int&gt;</th><th scope=col>&lt;int&gt;</th><th scope=col>&lt;int&gt;</th><th scope=col>&lt;dbl&gt;</th></tr>\n",
       "</thead>\n",
       "<tbody>\n",
       "\t<tr><th scope=row>1</th><td>부산 사상구</td><td>6</td><td> 1</td><td>1</td><td>33</td><td>33.0</td></tr>\n",
       "\t<tr><th scope=row>2</th><td>경기 여주시</td><td>6</td><td> 9</td><td>2</td><td>57</td><td>28.5</td></tr>\n",
       "\t<tr><th scope=row>3</th><td>강원 홍천군</td><td>6</td><td>16</td><td>2</td><td>57</td><td>28.5</td></tr>\n",
       "\t<tr><th scope=row>4</th><td>부산 중구  </td><td>2</td><td>26</td><td>1</td><td>21</td><td>21.0</td></tr>\n",
       "\t<tr><th scope=row>5</th><td>충남 홍성군</td><td>5</td><td>23</td><td>1</td><td>18</td><td>18.0</td></tr>\n",
       "\t<tr><th scope=row>6</th><td>서울 강서구</td><td>6</td><td> 3</td><td>1</td><td>15</td><td>15.0</td></tr>\n",
       "</tbody>\n",
       "</table>\n"
      ],
      "text/latex": [
       "A data.frame: 6 × 6\n",
       "\\begin{tabular}{r|llllll}\n",
       "  & 시도\\_시군구 & 발생월 & 발생일 & 사고건수 & 부상자수 & 사고당부상자수\\\\\n",
       "  & <chr> & <int> & <int> & <int> & <int> & <dbl>\\\\\n",
       "\\hline\n",
       "\t1 & 부산 사상구 & 6 &  1 & 1 & 33 & 33.0\\\\\n",
       "\t2 & 경기 여주시 & 6 &  9 & 2 & 57 & 28.5\\\\\n",
       "\t3 & 강원 홍천군 & 6 & 16 & 2 & 57 & 28.5\\\\\n",
       "\t4 & 부산 중구   & 2 & 26 & 1 & 21 & 21.0\\\\\n",
       "\t5 & 충남 홍성군 & 5 & 23 & 1 & 18 & 18.0\\\\\n",
       "\t6 & 서울 강서구 & 6 &  3 & 1 & 15 & 15.0\\\\\n",
       "\\end{tabular}\n"
      ],
      "text/markdown": [
       "\n",
       "A data.frame: 6 × 6\n",
       "\n",
       "| <!--/--> | 시도_시군구 &lt;chr&gt; | 발생월 &lt;int&gt; | 발생일 &lt;int&gt; | 사고건수 &lt;int&gt; | 부상자수 &lt;int&gt; | 사고당부상자수 &lt;dbl&gt; |\n",
       "|---|---|---|---|---|---|---|\n",
       "| 1 | 부산 사상구 | 6 |  1 | 1 | 33 | 33.0 |\n",
       "| 2 | 경기 여주시 | 6 |  9 | 2 | 57 | 28.5 |\n",
       "| 3 | 강원 홍천군 | 6 | 16 | 2 | 57 | 28.5 |\n",
       "| 4 | 부산 중구   | 2 | 26 | 1 | 21 | 21.0 |\n",
       "| 5 | 충남 홍성군 | 5 | 23 | 1 | 18 | 18.0 |\n",
       "| 6 | 서울 강서구 | 6 |  3 | 1 | 15 | 15.0 |\n",
       "\n"
      ],
      "text/plain": [
       "  시도_시군구 발생월 발생일 사고건수 부상자수 사고당부상자수\n",
       "1 부산 사상구 6       1     1        33       33.0          \n",
       "2 경기 여주시 6       9     2        57       28.5          \n",
       "3 강원 홍천군 6      16     2        57       28.5          \n",
       "4 부산 중구   2      26     1        21       21.0          \n",
       "5 충남 홍성군 5      23     1        18       18.0          \n",
       "6 서울 강서구 6       3     1        15       15.0          "
      ]
     },
     "metadata": {},
     "output_type": "display_data"
    }
   ],
   "source": [
    "data6 <- filter(data5, 사고당부상자수 >= 4) %>%\n",
    "    arrange(desc(사고당부상자수))\n",
    "head(data6)"
   ]
  },
  {
   "cell_type": "code",
   "execution_count": 145,
   "metadata": {
    "vscode": {
     "languageId": "r"
    }
   },
   "outputs": [
    {
     "data": {
      "text/html": [
       "<table class=\"dataframe\">\n",
       "<caption>A data.frame: 7 × 6</caption>\n",
       "<thead>\n",
       "\t<tr><th scope=col>시도_시군구</th><th scope=col>발생월</th><th scope=col>발생일</th><th scope=col>사고건수</th><th scope=col>부상자수</th><th scope=col>사고당부상자수</th></tr>\n",
       "\t<tr><th scope=col>&lt;chr&gt;</th><th scope=col>&lt;int&gt;</th><th scope=col>&lt;int&gt;</th><th scope=col>&lt;int&gt;</th><th scope=col>&lt;int&gt;</th><th scope=col>&lt;dbl&gt;</th></tr>\n",
       "</thead>\n",
       "<tbody>\n",
       "\t<tr><td>부산 사상구</td><td> 6</td><td> 1</td><td>1</td><td>33</td><td>33.0</td></tr>\n",
       "\t<tr><td>경기 여주시</td><td> 6</td><td> 9</td><td>2</td><td>57</td><td>28.5</td></tr>\n",
       "\t<tr><td>강원 홍천군</td><td> 6</td><td>16</td><td>2</td><td>57</td><td>28.5</td></tr>\n",
       "\t<tr><td>부산 중구  </td><td> 2</td><td>26</td><td>1</td><td>21</td><td>21.0</td></tr>\n",
       "\t<tr><td>충남 홍성군</td><td> 5</td><td>23</td><td>1</td><td>18</td><td>18.0</td></tr>\n",
       "\t<tr><td>서울 강서구</td><td> 6</td><td> 3</td><td>1</td><td>15</td><td>15.0</td></tr>\n",
       "\t<tr><td>강원 홍천군</td><td>11</td><td>21</td><td>2</td><td>30</td><td>15.0</td></tr>\n",
       "</tbody>\n",
       "</table>\n"
      ],
      "text/latex": [
       "A data.frame: 7 × 6\n",
       "\\begin{tabular}{llllll}\n",
       " 시도\\_시군구 & 발생월 & 발생일 & 사고건수 & 부상자수 & 사고당부상자수\\\\\n",
       " <chr> & <int> & <int> & <int> & <int> & <dbl>\\\\\n",
       "\\hline\n",
       "\t 부산 사상구 &  6 &  1 & 1 & 33 & 33.0\\\\\n",
       "\t 경기 여주시 &  6 &  9 & 2 & 57 & 28.5\\\\\n",
       "\t 강원 홍천군 &  6 & 16 & 2 & 57 & 28.5\\\\\n",
       "\t 부산 중구   &  2 & 26 & 1 & 21 & 21.0\\\\\n",
       "\t 충남 홍성군 &  5 & 23 & 1 & 18 & 18.0\\\\\n",
       "\t 서울 강서구 &  6 &  3 & 1 & 15 & 15.0\\\\\n",
       "\t 강원 홍천군 & 11 & 21 & 2 & 30 & 15.0\\\\\n",
       "\\end{tabular}\n"
      ],
      "text/markdown": [
       "\n",
       "A data.frame: 7 × 6\n",
       "\n",
       "| 시도_시군구 &lt;chr&gt; | 발생월 &lt;int&gt; | 발생일 &lt;int&gt; | 사고건수 &lt;int&gt; | 부상자수 &lt;int&gt; | 사고당부상자수 &lt;dbl&gt; |\n",
       "|---|---|---|---|---|---|\n",
       "| 부산 사상구 |  6 |  1 | 1 | 33 | 33.0 |\n",
       "| 경기 여주시 |  6 |  9 | 2 | 57 | 28.5 |\n",
       "| 강원 홍천군 |  6 | 16 | 2 | 57 | 28.5 |\n",
       "| 부산 중구   |  2 | 26 | 1 | 21 | 21.0 |\n",
       "| 충남 홍성군 |  5 | 23 | 1 | 18 | 18.0 |\n",
       "| 서울 강서구 |  6 |  3 | 1 | 15 | 15.0 |\n",
       "| 강원 홍천군 | 11 | 21 | 2 | 30 | 15.0 |\n",
       "\n"
      ],
      "text/plain": [
       "  시도_시군구 발생월 발생일 사고건수 부상자수 사고당부상자수\n",
       "1 부산 사상구  6      1     1        33       33.0          \n",
       "2 경기 여주시  6      9     2        57       28.5          \n",
       "3 강원 홍천군  6     16     2        57       28.5          \n",
       "4 부산 중구    2     26     1        21       21.0          \n",
       "5 충남 홍성군  5     23     1        18       18.0          \n",
       "6 서울 강서구  6      3     1        15       15.0          \n",
       "7 강원 홍천군 11     21     2        30       15.0          "
      ]
     },
     "metadata": {},
     "output_type": "display_data"
    }
   ],
   "source": [
    "data7 <- filter(data6, 사고당부상자수>=15, 부상자수>=10)\n",
    "data7"
   ]
  },
  {
   "cell_type": "code",
   "execution_count": 146,
   "metadata": {
    "vscode": {
     "languageId": "r"
    }
   },
   "outputs": [
    {
     "data": {
      "text/html": [
       "<table class=\"dataframe\">\n",
       "<caption>A data.frame: 7 × 6</caption>\n",
       "<thead>\n",
       "\t<tr><th scope=col>시도_시군구</th><th scope=col>발생월</th><th scope=col>발생일</th><th scope=col>사고건수</th><th scope=col>부상자수</th><th scope=col>사고당부상자수</th></tr>\n",
       "\t<tr><th scope=col>&lt;chr&gt;</th><th scope=col>&lt;int&gt;</th><th scope=col>&lt;int&gt;</th><th scope=col>&lt;int&gt;</th><th scope=col>&lt;int&gt;</th><th scope=col>&lt;dbl&gt;</th></tr>\n",
       "</thead>\n",
       "<tbody>\n",
       "\t<tr><td>부산 사상구</td><td> 6</td><td> 1</td><td>1</td><td>33</td><td>33.0</td></tr>\n",
       "\t<tr><td>경기 여주시</td><td> 6</td><td> 9</td><td>2</td><td>57</td><td>28.5</td></tr>\n",
       "\t<tr><td>강원 홍천군</td><td> 6</td><td>16</td><td>2</td><td>57</td><td>28.5</td></tr>\n",
       "\t<tr><td>부산 중구  </td><td> 2</td><td>26</td><td>1</td><td>21</td><td>21.0</td></tr>\n",
       "\t<tr><td>충남 홍성군</td><td> 5</td><td>23</td><td>1</td><td>18</td><td>18.0</td></tr>\n",
       "\t<tr><td>서울 강서구</td><td> 6</td><td> 3</td><td>1</td><td>15</td><td>15.0</td></tr>\n",
       "\t<tr><td>강원 홍천군</td><td>11</td><td>21</td><td>2</td><td>30</td><td>15.0</td></tr>\n",
       "</tbody>\n",
       "</table>\n"
      ],
      "text/latex": [
       "A data.frame: 7 × 6\n",
       "\\begin{tabular}{llllll}\n",
       " 시도\\_시군구 & 발생월 & 발생일 & 사고건수 & 부상자수 & 사고당부상자수\\\\\n",
       " <chr> & <int> & <int> & <int> & <int> & <dbl>\\\\\n",
       "\\hline\n",
       "\t 부산 사상구 &  6 &  1 & 1 & 33 & 33.0\\\\\n",
       "\t 경기 여주시 &  6 &  9 & 2 & 57 & 28.5\\\\\n",
       "\t 강원 홍천군 &  6 & 16 & 2 & 57 & 28.5\\\\\n",
       "\t 부산 중구   &  2 & 26 & 1 & 21 & 21.0\\\\\n",
       "\t 충남 홍성군 &  5 & 23 & 1 & 18 & 18.0\\\\\n",
       "\t 서울 강서구 &  6 &  3 & 1 & 15 & 15.0\\\\\n",
       "\t 강원 홍천군 & 11 & 21 & 2 & 30 & 15.0\\\\\n",
       "\\end{tabular}\n"
      ],
      "text/markdown": [
       "\n",
       "A data.frame: 7 × 6\n",
       "\n",
       "| 시도_시군구 &lt;chr&gt; | 발생월 &lt;int&gt; | 발생일 &lt;int&gt; | 사고건수 &lt;int&gt; | 부상자수 &lt;int&gt; | 사고당부상자수 &lt;dbl&gt; |\n",
       "|---|---|---|---|---|---|\n",
       "| 부산 사상구 |  6 |  1 | 1 | 33 | 33.0 |\n",
       "| 경기 여주시 |  6 |  9 | 2 | 57 | 28.5 |\n",
       "| 강원 홍천군 |  6 | 16 | 2 | 57 | 28.5 |\n",
       "| 부산 중구   |  2 | 26 | 1 | 21 | 21.0 |\n",
       "| 충남 홍성군 |  5 | 23 | 1 | 18 | 18.0 |\n",
       "| 서울 강서구 |  6 |  3 | 1 | 15 | 15.0 |\n",
       "| 강원 홍천군 | 11 | 21 | 2 | 30 | 15.0 |\n",
       "\n"
      ],
      "text/plain": [
       "  시도_시군구 발생월 발생일 사고건수 부상자수 사고당부상자수\n",
       "1 부산 사상구  6      1     1        33       33.0          \n",
       "2 경기 여주시  6      9     2        57       28.5          \n",
       "3 강원 홍천군  6     16     2        57       28.5          \n",
       "4 부산 중구    2     26     1        21       21.0          \n",
       "5 충남 홍성군  5     23     1        18       18.0          \n",
       "6 서울 강서구  6      3     1        15       15.0          \n",
       "7 강원 홍천군 11     21     2        30       15.0          "
      ]
     },
     "metadata": {},
     "output_type": "display_data"
    }
   ],
   "source": [
    "filter(data6, 사고당부상자수>=15, 부상자수>=10)"
   ]
  },
  {
   "cell_type": "code",
   "execution_count": 147,
   "metadata": {
    "vscode": {
     "languageId": "r"
    }
   },
   "outputs": [
    {
     "data": {
      "text/html": [
       "<table class=\"dataframe\">\n",
       "<caption>A data.frame: 4 × 6</caption>\n",
       "<thead>\n",
       "\t<tr><th scope=col>시도_시군구</th><th scope=col>발생월</th><th scope=col>발생일</th><th scope=col>사고건수</th><th scope=col>부상자수</th><th scope=col>사고당부상자수</th></tr>\n",
       "\t<tr><th scope=col>&lt;chr&gt;</th><th scope=col>&lt;int&gt;</th><th scope=col>&lt;int&gt;</th><th scope=col>&lt;int&gt;</th><th scope=col>&lt;int&gt;</th><th scope=col>&lt;dbl&gt;</th></tr>\n",
       "</thead>\n",
       "<tbody>\n",
       "\t<tr><td>전남 광양시</td><td> 9</td><td>18</td><td> 4</td><td>51</td><td>12.750000</td></tr>\n",
       "\t<tr><td>서울 서초구</td><td> 5</td><td>20</td><td> 8</td><td>83</td><td>10.375000</td></tr>\n",
       "\t<tr><td>경기 포천시</td><td> 1</td><td>15</td><td>13</td><td>90</td><td> 6.923077</td></tr>\n",
       "\t<tr><td>경기 용인시</td><td>11</td><td> 3</td><td>19</td><td>94</td><td> 4.947368</td></tr>\n",
       "</tbody>\n",
       "</table>\n"
      ],
      "text/latex": [
       "A data.frame: 4 × 6\n",
       "\\begin{tabular}{llllll}\n",
       " 시도\\_시군구 & 발생월 & 발생일 & 사고건수 & 부상자수 & 사고당부상자수\\\\\n",
       " <chr> & <int> & <int> & <int> & <int> & <dbl>\\\\\n",
       "\\hline\n",
       "\t 전남 광양시 &  9 & 18 &  4 & 51 & 12.750000\\\\\n",
       "\t 서울 서초구 &  5 & 20 &  8 & 83 & 10.375000\\\\\n",
       "\t 경기 포천시 &  1 & 15 & 13 & 90 &  6.923077\\\\\n",
       "\t 경기 용인시 & 11 &  3 & 19 & 94 &  4.947368\\\\\n",
       "\\end{tabular}\n"
      ],
      "text/markdown": [
       "\n",
       "A data.frame: 4 × 6\n",
       "\n",
       "| 시도_시군구 &lt;chr&gt; | 발생월 &lt;int&gt; | 발생일 &lt;int&gt; | 사고건수 &lt;int&gt; | 부상자수 &lt;int&gt; | 사고당부상자수 &lt;dbl&gt; |\n",
       "|---|---|---|---|---|---|\n",
       "| 전남 광양시 |  9 | 18 |  4 | 51 | 12.750000 |\n",
       "| 서울 서초구 |  5 | 20 |  8 | 83 | 10.375000 |\n",
       "| 경기 포천시 |  1 | 15 | 13 | 90 |  6.923077 |\n",
       "| 경기 용인시 | 11 |  3 | 19 | 94 |  4.947368 |\n",
       "\n"
      ],
      "text/plain": [
       "  시도_시군구 발생월 발생일 사고건수 부상자수 사고당부상자수\n",
       "1 전남 광양시  9     18      4       51       12.750000     \n",
       "2 서울 서초구  5     20      8       83       10.375000     \n",
       "3 경기 포천시  1     15     13       90        6.923077     \n",
       "4 경기 용인시 11      3     19       94        4.947368     "
      ]
     },
     "metadata": {},
     "output_type": "display_data"
    }
   ],
   "source": [
    "filter(data6, 사고당부상자수>=10 | 부상자수>=70, 사고건수>=4)"
   ]
  },
  {
   "cell_type": "code",
   "execution_count": 148,
   "metadata": {
    "vscode": {
     "languageId": "r"
    }
   },
   "outputs": [
    {
     "data": {
      "text/html": [
       "<table class=\"dataframe\">\n",
       "<caption>A data.frame: 6 × 11</caption>\n",
       "<thead>\n",
       "\t<tr><th></th><th scope=col>발생월</th><th scope=col>발생일</th><th scope=col>시도</th><th scope=col>시군구</th><th scope=col>사고건수</th><th scope=col>사망자수</th><th scope=col>중상자수</th><th scope=col>경상자수</th><th scope=col>부상신고자수</th><th scope=col>부상자수</th><th scope=col>시도_시군구</th></tr>\n",
       "\t<tr><th></th><th scope=col>&lt;int&gt;</th><th scope=col>&lt;int&gt;</th><th scope=col>&lt;chr&gt;</th><th scope=col>&lt;chr&gt;</th><th scope=col>&lt;int&gt;</th><th scope=col>&lt;int&gt;</th><th scope=col>&lt;int&gt;</th><th scope=col>&lt;int&gt;</th><th scope=col>&lt;int&gt;</th><th scope=col>&lt;int&gt;</th><th scope=col>&lt;chr&gt;</th></tr>\n",
       "</thead>\n",
       "<tbody>\n",
       "\t<tr><th scope=row>1</th><td>1</td><td>1</td><td>서울</td><td>용산구  </td><td>4</td><td>0</td><td>0</td><td> 5</td><td>0</td><td> 5</td><td>서울 용산구  </td></tr>\n",
       "\t<tr><th scope=row>2</th><td>1</td><td>1</td><td>서울</td><td>성동구  </td><td>4</td><td>0</td><td>0</td><td>13</td><td>0</td><td>13</td><td>서울 성동구  </td></tr>\n",
       "\t<tr><th scope=row>3</th><td>1</td><td>1</td><td>서울</td><td>동대문구</td><td>5</td><td>0</td><td>1</td><td> 5</td><td>1</td><td> 7</td><td>서울 동대문구</td></tr>\n",
       "\t<tr><th scope=row>4</th><td>1</td><td>1</td><td>서울</td><td>성북구  </td><td>4</td><td>0</td><td>1</td><td> 3</td><td>0</td><td> 4</td><td>서울 성북구  </td></tr>\n",
       "\t<tr><th scope=row>5</th><td>1</td><td>1</td><td>서울</td><td>은평구  </td><td>3</td><td>0</td><td>3</td><td> 0</td><td>0</td><td> 3</td><td>서울 은평구  </td></tr>\n",
       "\t<tr><th scope=row>6</th><td>1</td><td>1</td><td>서울</td><td>서대문구</td><td>2</td><td>0</td><td>0</td><td> 1</td><td>1</td><td> 2</td><td>서울 서대문구</td></tr>\n",
       "</tbody>\n",
       "</table>\n"
      ],
      "text/latex": [
       "A data.frame: 6 × 11\n",
       "\\begin{tabular}{r|lllllllllll}\n",
       "  & 발생월 & 발생일 & 시도 & 시군구 & 사고건수 & 사망자수 & 중상자수 & 경상자수 & 부상신고자수 & 부상자수 & 시도\\_시군구\\\\\n",
       "  & <int> & <int> & <chr> & <chr> & <int> & <int> & <int> & <int> & <int> & <int> & <chr>\\\\\n",
       "\\hline\n",
       "\t1 & 1 & 1 & 서울 & 용산구   & 4 & 0 & 0 &  5 & 0 &  5 & 서울 용산구  \\\\\n",
       "\t2 & 1 & 1 & 서울 & 성동구   & 4 & 0 & 0 & 13 & 0 & 13 & 서울 성동구  \\\\\n",
       "\t3 & 1 & 1 & 서울 & 동대문구 & 5 & 0 & 1 &  5 & 1 &  7 & 서울 동대문구\\\\\n",
       "\t4 & 1 & 1 & 서울 & 성북구   & 4 & 0 & 1 &  3 & 0 &  4 & 서울 성북구  \\\\\n",
       "\t5 & 1 & 1 & 서울 & 은평구   & 3 & 0 & 3 &  0 & 0 &  3 & 서울 은평구  \\\\\n",
       "\t6 & 1 & 1 & 서울 & 서대문구 & 2 & 0 & 0 &  1 & 1 &  2 & 서울 서대문구\\\\\n",
       "\\end{tabular}\n"
      ],
      "text/markdown": [
       "\n",
       "A data.frame: 6 × 11\n",
       "\n",
       "| <!--/--> | 발생월 &lt;int&gt; | 발생일 &lt;int&gt; | 시도 &lt;chr&gt; | 시군구 &lt;chr&gt; | 사고건수 &lt;int&gt; | 사망자수 &lt;int&gt; | 중상자수 &lt;int&gt; | 경상자수 &lt;int&gt; | 부상신고자수 &lt;int&gt; | 부상자수 &lt;int&gt; | 시도_시군구 &lt;chr&gt; |\n",
       "|---|---|---|---|---|---|---|---|---|---|---|---|\n",
       "| 1 | 1 | 1 | 서울 | 용산구   | 4 | 0 | 0 |  5 | 0 |  5 | 서울 용산구   |\n",
       "| 2 | 1 | 1 | 서울 | 성동구   | 4 | 0 | 0 | 13 | 0 | 13 | 서울 성동구   |\n",
       "| 3 | 1 | 1 | 서울 | 동대문구 | 5 | 0 | 1 |  5 | 1 |  7 | 서울 동대문구 |\n",
       "| 4 | 1 | 1 | 서울 | 성북구   | 4 | 0 | 1 |  3 | 0 |  4 | 서울 성북구   |\n",
       "| 5 | 1 | 1 | 서울 | 은평구   | 3 | 0 | 3 |  0 | 0 |  3 | 서울 은평구   |\n",
       "| 6 | 1 | 1 | 서울 | 서대문구 | 2 | 0 | 0 |  1 | 1 |  2 | 서울 서대문구 |\n",
       "\n"
      ],
      "text/plain": [
       "  발생월 발생일 시도 시군구   사고건수 사망자수 중상자수 경상자수 부상신고자수\n",
       "1 1      1      서울 용산구   4        0        0         5       0           \n",
       "2 1      1      서울 성동구   4        0        0        13       0           \n",
       "3 1      1      서울 동대문구 5        0        1         5       1           \n",
       "4 1      1      서울 성북구   4        0        1         3       0           \n",
       "5 1      1      서울 은평구   3        0        3         0       0           \n",
       "6 1      1      서울 서대문구 2        0        0         1       1           \n",
       "  부상자수 시도_시군구  \n",
       "1  5       서울 용산구  \n",
       "2 13       서울 성동구  \n",
       "3  7       서울 동대문구\n",
       "4  4       서울 성북구  \n",
       "5  3       서울 은평구  \n",
       "6  2       서울 서대문구"
      ]
     },
     "metadata": {},
     "output_type": "display_data"
    }
   ],
   "source": [
    "data2 <- mutate(data, 부상자수=경상자수+중상자수+부상신고자수)\n",
    "data3 <- mutate(data2, 시도_시군구 = paste(시도, 시군구))\n",
    "head(data3)"
   ]
  },
  {
   "cell_type": "code",
   "execution_count": 149,
   "metadata": {
    "vscode": {
     "languageId": "r"
    }
   },
   "outputs": [
    {
     "data": {
      "text/html": [
       "<table class=\"dataframe\">\n",
       "<caption>A data.frame: 6 × 11</caption>\n",
       "<thead>\n",
       "\t<tr><th></th><th scope=col>발생월</th><th scope=col>발생일</th><th scope=col>시도</th><th scope=col>시군구</th><th scope=col>사고건수</th><th scope=col>사망자수</th><th scope=col>중상자수</th><th scope=col>경상자수</th><th scope=col>부상신고자수</th><th scope=col>부상자수</th><th scope=col>시도_시군구</th></tr>\n",
       "\t<tr><th></th><th scope=col>&lt;int&gt;</th><th scope=col>&lt;int&gt;</th><th scope=col>&lt;chr&gt;</th><th scope=col>&lt;chr&gt;</th><th scope=col>&lt;int&gt;</th><th scope=col>&lt;int&gt;</th><th scope=col>&lt;int&gt;</th><th scope=col>&lt;int&gt;</th><th scope=col>&lt;int&gt;</th><th scope=col>&lt;int&gt;</th><th scope=col>&lt;chr&gt;</th></tr>\n",
       "</thead>\n",
       "<tbody>\n",
       "\t<tr><th scope=row>1</th><td>1</td><td>1</td><td>서울</td><td>용산구  </td><td>4</td><td>0</td><td>0</td><td> 5</td><td>0</td><td> 5</td><td>서울 용산구  </td></tr>\n",
       "\t<tr><th scope=row>2</th><td>1</td><td>1</td><td>서울</td><td>성동구  </td><td>4</td><td>0</td><td>0</td><td>13</td><td>0</td><td>13</td><td>서울 성동구  </td></tr>\n",
       "\t<tr><th scope=row>3</th><td>1</td><td>1</td><td>서울</td><td>동대문구</td><td>5</td><td>0</td><td>1</td><td> 5</td><td>1</td><td> 7</td><td>서울 동대문구</td></tr>\n",
       "\t<tr><th scope=row>4</th><td>1</td><td>1</td><td>서울</td><td>성북구  </td><td>4</td><td>0</td><td>1</td><td> 3</td><td>0</td><td> 4</td><td>서울 성북구  </td></tr>\n",
       "\t<tr><th scope=row>5</th><td>1</td><td>1</td><td>서울</td><td>은평구  </td><td>3</td><td>0</td><td>3</td><td> 0</td><td>0</td><td> 3</td><td>서울 은평구  </td></tr>\n",
       "\t<tr><th scope=row>6</th><td>1</td><td>1</td><td>서울</td><td>서대문구</td><td>2</td><td>0</td><td>0</td><td> 1</td><td>1</td><td> 2</td><td>서울 서대문구</td></tr>\n",
       "</tbody>\n",
       "</table>\n"
      ],
      "text/latex": [
       "A data.frame: 6 × 11\n",
       "\\begin{tabular}{r|lllllllllll}\n",
       "  & 발생월 & 발생일 & 시도 & 시군구 & 사고건수 & 사망자수 & 중상자수 & 경상자수 & 부상신고자수 & 부상자수 & 시도\\_시군구\\\\\n",
       "  & <int> & <int> & <chr> & <chr> & <int> & <int> & <int> & <int> & <int> & <int> & <chr>\\\\\n",
       "\\hline\n",
       "\t1 & 1 & 1 & 서울 & 용산구   & 4 & 0 & 0 &  5 & 0 &  5 & 서울 용산구  \\\\\n",
       "\t2 & 1 & 1 & 서울 & 성동구   & 4 & 0 & 0 & 13 & 0 & 13 & 서울 성동구  \\\\\n",
       "\t3 & 1 & 1 & 서울 & 동대문구 & 5 & 0 & 1 &  5 & 1 &  7 & 서울 동대문구\\\\\n",
       "\t4 & 1 & 1 & 서울 & 성북구   & 4 & 0 & 1 &  3 & 0 &  4 & 서울 성북구  \\\\\n",
       "\t5 & 1 & 1 & 서울 & 은평구   & 3 & 0 & 3 &  0 & 0 &  3 & 서울 은평구  \\\\\n",
       "\t6 & 1 & 1 & 서울 & 서대문구 & 2 & 0 & 0 &  1 & 1 &  2 & 서울 서대문구\\\\\n",
       "\\end{tabular}\n"
      ],
      "text/markdown": [
       "\n",
       "A data.frame: 6 × 11\n",
       "\n",
       "| <!--/--> | 발생월 &lt;int&gt; | 발생일 &lt;int&gt; | 시도 &lt;chr&gt; | 시군구 &lt;chr&gt; | 사고건수 &lt;int&gt; | 사망자수 &lt;int&gt; | 중상자수 &lt;int&gt; | 경상자수 &lt;int&gt; | 부상신고자수 &lt;int&gt; | 부상자수 &lt;int&gt; | 시도_시군구 &lt;chr&gt; |\n",
       "|---|---|---|---|---|---|---|---|---|---|---|---|\n",
       "| 1 | 1 | 1 | 서울 | 용산구   | 4 | 0 | 0 |  5 | 0 |  5 | 서울 용산구   |\n",
       "| 2 | 1 | 1 | 서울 | 성동구   | 4 | 0 | 0 | 13 | 0 | 13 | 서울 성동구   |\n",
       "| 3 | 1 | 1 | 서울 | 동대문구 | 5 | 0 | 1 |  5 | 1 |  7 | 서울 동대문구 |\n",
       "| 4 | 1 | 1 | 서울 | 성북구   | 4 | 0 | 1 |  3 | 0 |  4 | 서울 성북구   |\n",
       "| 5 | 1 | 1 | 서울 | 은평구   | 3 | 0 | 3 |  0 | 0 |  3 | 서울 은평구   |\n",
       "| 6 | 1 | 1 | 서울 | 서대문구 | 2 | 0 | 0 |  1 | 1 |  2 | 서울 서대문구 |\n",
       "\n"
      ],
      "text/plain": [
       "  발생월 발생일 시도 시군구   사고건수 사망자수 중상자수 경상자수 부상신고자수\n",
       "1 1      1      서울 용산구   4        0        0         5       0           \n",
       "2 1      1      서울 성동구   4        0        0        13       0           \n",
       "3 1      1      서울 동대문구 5        0        1         5       1           \n",
       "4 1      1      서울 성북구   4        0        1         3       0           \n",
       "5 1      1      서울 은평구   3        0        3         0       0           \n",
       "6 1      1      서울 서대문구 2        0        0         1       1           \n",
       "  부상자수 시도_시군구  \n",
       "1  5       서울 용산구  \n",
       "2 13       서울 성동구  \n",
       "3  7       서울 동대문구\n",
       "4  4       서울 성북구  \n",
       "5  3       서울 은평구  \n",
       "6  2       서울 서대문구"
      ]
     },
     "metadata": {},
     "output_type": "display_data"
    }
   ],
   "source": [
    "data %>%\n",
    "    mutate(부상자수=경상자수+중상자수+부상신고자수) %>%\n",
    "    mutate(시도_시군구 = paste(시도, 시군구)) %>%\n",
    "    head()"
   ]
  },
  {
   "cell_type": "code",
   "execution_count": 150,
   "metadata": {
    "vscode": {
     "languageId": "r"
    }
   },
   "outputs": [
    {
     "data": {
      "text/html": [
       "<table class=\"dataframe\">\n",
       "<caption>A data.frame: 3 × 6</caption>\n",
       "<thead>\n",
       "\t<tr><th></th><th scope=col>시도_시군구</th><th scope=col>발생월</th><th scope=col>발생일</th><th scope=col>사고건수</th><th scope=col>부상자수</th><th scope=col>사고당부상자수</th></tr>\n",
       "\t<tr><th></th><th scope=col>&lt;chr&gt;</th><th scope=col>&lt;int&gt;</th><th scope=col>&lt;int&gt;</th><th scope=col>&lt;int&gt;</th><th scope=col>&lt;int&gt;</th><th scope=col>&lt;dbl&gt;</th></tr>\n",
       "</thead>\n",
       "<tbody>\n",
       "\t<tr><th scope=row>1</th><td>부산 사상구</td><td>6</td><td> 1</td><td>1</td><td>33</td><td>33.0</td></tr>\n",
       "\t<tr><th scope=row>2</th><td>경기 여주시</td><td>6</td><td> 9</td><td>2</td><td>57</td><td>28.5</td></tr>\n",
       "\t<tr><th scope=row>3</th><td>강원 홍천군</td><td>6</td><td>16</td><td>2</td><td>57</td><td>28.5</td></tr>\n",
       "</tbody>\n",
       "</table>\n"
      ],
      "text/latex": [
       "A data.frame: 3 × 6\n",
       "\\begin{tabular}{r|llllll}\n",
       "  & 시도\\_시군구 & 발생월 & 발생일 & 사고건수 & 부상자수 & 사고당부상자수\\\\\n",
       "  & <chr> & <int> & <int> & <int> & <int> & <dbl>\\\\\n",
       "\\hline\n",
       "\t1 & 부산 사상구 & 6 &  1 & 1 & 33 & 33.0\\\\\n",
       "\t2 & 경기 여주시 & 6 &  9 & 2 & 57 & 28.5\\\\\n",
       "\t3 & 강원 홍천군 & 6 & 16 & 2 & 57 & 28.5\\\\\n",
       "\\end{tabular}\n"
      ],
      "text/markdown": [
       "\n",
       "A data.frame: 3 × 6\n",
       "\n",
       "| <!--/--> | 시도_시군구 &lt;chr&gt; | 발생월 &lt;int&gt; | 발생일 &lt;int&gt; | 사고건수 &lt;int&gt; | 부상자수 &lt;int&gt; | 사고당부상자수 &lt;dbl&gt; |\n",
       "|---|---|---|---|---|---|---|\n",
       "| 1 | 부산 사상구 | 6 |  1 | 1 | 33 | 33.0 |\n",
       "| 2 | 경기 여주시 | 6 |  9 | 2 | 57 | 28.5 |\n",
       "| 3 | 강원 홍천군 | 6 | 16 | 2 | 57 | 28.5 |\n",
       "\n"
      ],
      "text/plain": [
       "  시도_시군구 발생월 발생일 사고건수 부상자수 사고당부상자수\n",
       "1 부산 사상구 6       1     1        33       33.0          \n",
       "2 경기 여주시 6       9     2        57       28.5          \n",
       "3 강원 홍천군 6      16     2        57       28.5          "
      ]
     },
     "metadata": {},
     "output_type": "display_data"
    }
   ],
   "source": [
    "data2 <- mutate(data, 부상자수=경상자수+중상자수+부상신고자수)\n",
    "data3 <- mutate(data2, 시도_시군구 = paste(시도, 시군구))\n",
    "data4 <- mutate(data3, 사고당부상자수=부상자수/사고건수)\n",
    "data5 <- select(data4, c(11,1,2,5,10,12))\n",
    "data6 <- filter(data5, 사고당부상자수 >= 4)\n",
    "data7 <- arrange(data6, desc(사고당부상자수))\n",
    "head(data7,3)"
   ]
  },
  {
   "cell_type": "code",
   "execution_count": 151,
   "metadata": {
    "vscode": {
     "languageId": "r"
    }
   },
   "outputs": [
    {
     "data": {
      "text/html": [
       "<table class=\"dataframe\">\n",
       "<caption>A data.frame: 3 × 6</caption>\n",
       "<thead>\n",
       "\t<tr><th></th><th scope=col>시도_시군구</th><th scope=col>발생월</th><th scope=col>발생일</th><th scope=col>사고건수</th><th scope=col>부상자수</th><th scope=col>사고당부상자수</th></tr>\n",
       "\t<tr><th></th><th scope=col>&lt;chr&gt;</th><th scope=col>&lt;int&gt;</th><th scope=col>&lt;int&gt;</th><th scope=col>&lt;int&gt;</th><th scope=col>&lt;int&gt;</th><th scope=col>&lt;dbl&gt;</th></tr>\n",
       "</thead>\n",
       "<tbody>\n",
       "\t<tr><th scope=row>1</th><td>부산 사상구</td><td>6</td><td> 1</td><td>1</td><td>33</td><td>33.0</td></tr>\n",
       "\t<tr><th scope=row>2</th><td>경기 여주시</td><td>6</td><td> 9</td><td>2</td><td>57</td><td>28.5</td></tr>\n",
       "\t<tr><th scope=row>3</th><td>강원 홍천군</td><td>6</td><td>16</td><td>2</td><td>57</td><td>28.5</td></tr>\n",
       "</tbody>\n",
       "</table>\n"
      ],
      "text/latex": [
       "A data.frame: 3 × 6\n",
       "\\begin{tabular}{r|llllll}\n",
       "  & 시도\\_시군구 & 발생월 & 발생일 & 사고건수 & 부상자수 & 사고당부상자수\\\\\n",
       "  & <chr> & <int> & <int> & <int> & <int> & <dbl>\\\\\n",
       "\\hline\n",
       "\t1 & 부산 사상구 & 6 &  1 & 1 & 33 & 33.0\\\\\n",
       "\t2 & 경기 여주시 & 6 &  9 & 2 & 57 & 28.5\\\\\n",
       "\t3 & 강원 홍천군 & 6 & 16 & 2 & 57 & 28.5\\\\\n",
       "\\end{tabular}\n"
      ],
      "text/markdown": [
       "\n",
       "A data.frame: 3 × 6\n",
       "\n",
       "| <!--/--> | 시도_시군구 &lt;chr&gt; | 발생월 &lt;int&gt; | 발생일 &lt;int&gt; | 사고건수 &lt;int&gt; | 부상자수 &lt;int&gt; | 사고당부상자수 &lt;dbl&gt; |\n",
       "|---|---|---|---|---|---|---|\n",
       "| 1 | 부산 사상구 | 6 |  1 | 1 | 33 | 33.0 |\n",
       "| 2 | 경기 여주시 | 6 |  9 | 2 | 57 | 28.5 |\n",
       "| 3 | 강원 홍천군 | 6 | 16 | 2 | 57 | 28.5 |\n",
       "\n"
      ],
      "text/plain": [
       "  시도_시군구 발생월 발생일 사고건수 부상자수 사고당부상자수\n",
       "1 부산 사상구 6       1     1        33       33.0          \n",
       "2 경기 여주시 6       9     2        57       28.5          \n",
       "3 강원 홍천군 6      16     2        57       28.5          "
      ]
     },
     "metadata": {},
     "output_type": "display_data"
    }
   ],
   "source": [
    "data7 <- data %>%\n",
    "    mutate(부상자수=경상자수+중상자수+부상신고자수) %>%\n",
    "    mutate(시도_시군구 = paste(시도, 시군구)) %>%\n",
    "    mutate(사고당부상자수=부상자수/사고건수) %>%\n",
    "    select(c(11,1,2,5,10,12)) %>%\n",
    "    filter(사고당부상자수 >= 4) %>%\n",
    "    arrange(desc(사고당부상자수)) \n",
    "head(data7,3)"
   ]
  },
  {
   "cell_type": "code",
   "execution_count": 152,
   "metadata": {
    "vscode": {
     "languageId": "r"
    }
   },
   "outputs": [
    {
     "data": {
      "text/html": [
       "<table class=\"dataframe\">\n",
       "<caption>A data.frame: 3 × 11</caption>\n",
       "<thead>\n",
       "\t<tr><th></th><th scope=col>발생월</th><th scope=col>발생일</th><th scope=col>시도</th><th scope=col>시군구</th><th scope=col>사고건수</th><th scope=col>사망자수</th><th scope=col>중상자수</th><th scope=col>경상자수</th><th scope=col>부상신고자수</th><th scope=col>부상자수</th><th scope=col>시도_시군구</th></tr>\n",
       "\t<tr><th></th><th scope=col>&lt;int&gt;</th><th scope=col>&lt;int&gt;</th><th scope=col>&lt;chr&gt;</th><th scope=col>&lt;chr&gt;</th><th scope=col>&lt;int&gt;</th><th scope=col>&lt;int&gt;</th><th scope=col>&lt;int&gt;</th><th scope=col>&lt;int&gt;</th><th scope=col>&lt;int&gt;</th><th scope=col>&lt;int&gt;</th><th scope=col>&lt;chr&gt;</th></tr>\n",
       "</thead>\n",
       "<tbody>\n",
       "\t<tr><th scope=row>1</th><td>1</td><td>1</td><td>서울</td><td>용산구  </td><td>4</td><td>0</td><td>0</td><td> 5</td><td>0</td><td> 5</td><td>서울 용산구  </td></tr>\n",
       "\t<tr><th scope=row>2</th><td>1</td><td>1</td><td>서울</td><td>성동구  </td><td>4</td><td>0</td><td>0</td><td>13</td><td>0</td><td>13</td><td>서울 성동구  </td></tr>\n",
       "\t<tr><th scope=row>3</th><td>1</td><td>1</td><td>서울</td><td>동대문구</td><td>5</td><td>0</td><td>1</td><td> 5</td><td>1</td><td> 7</td><td>서울 동대문구</td></tr>\n",
       "</tbody>\n",
       "</table>\n"
      ],
      "text/latex": [
       "A data.frame: 3 × 11\n",
       "\\begin{tabular}{r|lllllllllll}\n",
       "  & 발생월 & 발생일 & 시도 & 시군구 & 사고건수 & 사망자수 & 중상자수 & 경상자수 & 부상신고자수 & 부상자수 & 시도\\_시군구\\\\\n",
       "  & <int> & <int> & <chr> & <chr> & <int> & <int> & <int> & <int> & <int> & <int> & <chr>\\\\\n",
       "\\hline\n",
       "\t1 & 1 & 1 & 서울 & 용산구   & 4 & 0 & 0 &  5 & 0 &  5 & 서울 용산구  \\\\\n",
       "\t2 & 1 & 1 & 서울 & 성동구   & 4 & 0 & 0 & 13 & 0 & 13 & 서울 성동구  \\\\\n",
       "\t3 & 1 & 1 & 서울 & 동대문구 & 5 & 0 & 1 &  5 & 1 &  7 & 서울 동대문구\\\\\n",
       "\\end{tabular}\n"
      ],
      "text/markdown": [
       "\n",
       "A data.frame: 3 × 11\n",
       "\n",
       "| <!--/--> | 발생월 &lt;int&gt; | 발생일 &lt;int&gt; | 시도 &lt;chr&gt; | 시군구 &lt;chr&gt; | 사고건수 &lt;int&gt; | 사망자수 &lt;int&gt; | 중상자수 &lt;int&gt; | 경상자수 &lt;int&gt; | 부상신고자수 &lt;int&gt; | 부상자수 &lt;int&gt; | 시도_시군구 &lt;chr&gt; |\n",
       "|---|---|---|---|---|---|---|---|---|---|---|---|\n",
       "| 1 | 1 | 1 | 서울 | 용산구   | 4 | 0 | 0 |  5 | 0 |  5 | 서울 용산구   |\n",
       "| 2 | 1 | 1 | 서울 | 성동구   | 4 | 0 | 0 | 13 | 0 | 13 | 서울 성동구   |\n",
       "| 3 | 1 | 1 | 서울 | 동대문구 | 5 | 0 | 1 |  5 | 1 |  7 | 서울 동대문구 |\n",
       "\n"
      ],
      "text/plain": [
       "  발생월 발생일 시도 시군구   사고건수 사망자수 중상자수 경상자수 부상신고자수\n",
       "1 1      1      서울 용산구   4        0        0         5       0           \n",
       "2 1      1      서울 성동구   4        0        0        13       0           \n",
       "3 1      1      서울 동대문구 5        0        1         5       1           \n",
       "  부상자수 시도_시군구  \n",
       "1  5       서울 용산구  \n",
       "2 13       서울 성동구  \n",
       "3  7       서울 동대문구"
      ]
     },
     "metadata": {},
     "output_type": "display_data"
    }
   ],
   "source": [
    "newdata <- data %>%\n",
    "    mutate(부상자수=경상자수+중상자수+부상신고자수) %>%\n",
    "    mutate(시도_시군구 = paste(시도, 시군구)) \n",
    "head(newdata,3)"
   ]
  },
  {
   "cell_type": "code",
   "execution_count": 153,
   "metadata": {
    "vscode": {
     "languageId": "r"
    }
   },
   "outputs": [
    {
     "data": {
      "text/html": [
       "<table class=\"dataframe\">\n",
       "<caption>A data.frame: 3 × 9</caption>\n",
       "<thead>\n",
       "\t<tr><th></th><th scope=col>시도_시군구</th><th scope=col>발생월</th><th scope=col>발생일</th><th scope=col>사고건수</th><th scope=col>사망자수</th><th scope=col>중상자수</th><th scope=col>경상자수</th><th scope=col>부상신고자수</th><th scope=col>부상자수</th></tr>\n",
       "\t<tr><th></th><th scope=col>&lt;chr&gt;</th><th scope=col>&lt;int&gt;</th><th scope=col>&lt;int&gt;</th><th scope=col>&lt;int&gt;</th><th scope=col>&lt;int&gt;</th><th scope=col>&lt;int&gt;</th><th scope=col>&lt;int&gt;</th><th scope=col>&lt;int&gt;</th><th scope=col>&lt;int&gt;</th></tr>\n",
       "</thead>\n",
       "<tbody>\n",
       "\t<tr><th scope=row>1</th><td>서울 용산구  </td><td>1</td><td>1</td><td>4</td><td>0</td><td>0</td><td> 5</td><td>0</td><td> 5</td></tr>\n",
       "\t<tr><th scope=row>2</th><td>서울 성동구  </td><td>1</td><td>1</td><td>4</td><td>0</td><td>0</td><td>13</td><td>0</td><td>13</td></tr>\n",
       "\t<tr><th scope=row>3</th><td>서울 동대문구</td><td>1</td><td>1</td><td>5</td><td>0</td><td>1</td><td> 5</td><td>1</td><td> 7</td></tr>\n",
       "</tbody>\n",
       "</table>\n"
      ],
      "text/latex": [
       "A data.frame: 3 × 9\n",
       "\\begin{tabular}{r|lllllllll}\n",
       "  & 시도\\_시군구 & 발생월 & 발생일 & 사고건수 & 사망자수 & 중상자수 & 경상자수 & 부상신고자수 & 부상자수\\\\\n",
       "  & <chr> & <int> & <int> & <int> & <int> & <int> & <int> & <int> & <int>\\\\\n",
       "\\hline\n",
       "\t1 & 서울 용산구   & 1 & 1 & 4 & 0 & 0 &  5 & 0 &  5\\\\\n",
       "\t2 & 서울 성동구   & 1 & 1 & 4 & 0 & 0 & 13 & 0 & 13\\\\\n",
       "\t3 & 서울 동대문구 & 1 & 1 & 5 & 0 & 1 &  5 & 1 &  7\\\\\n",
       "\\end{tabular}\n"
      ],
      "text/markdown": [
       "\n",
       "A data.frame: 3 × 9\n",
       "\n",
       "| <!--/--> | 시도_시군구 &lt;chr&gt; | 발생월 &lt;int&gt; | 발생일 &lt;int&gt; | 사고건수 &lt;int&gt; | 사망자수 &lt;int&gt; | 중상자수 &lt;int&gt; | 경상자수 &lt;int&gt; | 부상신고자수 &lt;int&gt; | 부상자수 &lt;int&gt; |\n",
       "|---|---|---|---|---|---|---|---|---|---|\n",
       "| 1 | 서울 용산구   | 1 | 1 | 4 | 0 | 0 |  5 | 0 |  5 |\n",
       "| 2 | 서울 성동구   | 1 | 1 | 4 | 0 | 0 | 13 | 0 | 13 |\n",
       "| 3 | 서울 동대문구 | 1 | 1 | 5 | 0 | 1 |  5 | 1 |  7 |\n",
       "\n"
      ],
      "text/plain": [
       "  시도_시군구   발생월 발생일 사고건수 사망자수 중상자수 경상자수 부상신고자수\n",
       "1 서울 용산구   1      1      4        0        0         5       0           \n",
       "2 서울 성동구   1      1      4        0        0        13       0           \n",
       "3 서울 동대문구 1      1      5        0        1         5       1           \n",
       "  부상자수\n",
       "1  5      \n",
       "2 13      \n",
       "3  7      "
      ]
     },
     "metadata": {},
     "output_type": "display_data"
    }
   ],
   "source": [
    "newdata <- select(newdata, c(11,1,2,5:10)) \n",
    "head(newdata,3)"
   ]
  },
  {
   "cell_type": "code",
   "execution_count": 154,
   "metadata": {
    "vscode": {
     "languageId": "r"
    }
   },
   "outputs": [
    {
     "name": "stdout",
     "output_type": "stream",
     "text": [
      "'data.frame':\t57733 obs. of  9 variables:\n",
      " $ 시도_시군구 : chr  \"서울 용산구\" \"서울 성동구\" \"서울 동대문구\" \"서울 성북구\" ...\n",
      " $ 발생월      : int  1 1 1 1 1 1 1 1 1 1 ...\n",
      " $ 발생일      : int  1 1 1 1 1 1 1 1 1 1 ...\n",
      " $ 사고건수    : int  4 4 5 4 3 2 2 2 3 4 ...\n",
      " $ 사망자수    : int  0 0 0 0 0 0 0 0 0 0 ...\n",
      " $ 중상자수    : int  0 0 1 1 3 0 1 1 0 1 ...\n",
      " $ 경상자수    : int  5 13 5 3 0 1 1 1 6 4 ...\n",
      " $ 부상신고자수: int  0 0 1 0 0 1 0 0 0 0 ...\n",
      " $ 부상자수    : int  5 13 7 4 3 2 2 2 6 5 ...\n"
     ]
    }
   ],
   "source": [
    "str(newdata)"
   ]
  },
  {
   "cell_type": "code",
   "execution_count": 155,
   "metadata": {
    "vscode": {
     "languageId": "r"
    }
   },
   "outputs": [
    {
     "data": {
      "text/html": [
       "<table class=\"dataframe\">\n",
       "<caption>A data.frame: 1 × 1</caption>\n",
       "<thead>\n",
       "\t<tr><th scope=col>mean(사고건수)</th></tr>\n",
       "\t<tr><th scope=col>&lt;dbl&gt;</th></tr>\n",
       "</thead>\n",
       "<tbody>\n",
       "\t<tr><td>3.434708</td></tr>\n",
       "</tbody>\n",
       "</table>\n"
      ],
      "text/latex": [
       "A data.frame: 1 × 1\n",
       "\\begin{tabular}{l}\n",
       " mean(사고건수)\\\\\n",
       " <dbl>\\\\\n",
       "\\hline\n",
       "\t 3.434708\\\\\n",
       "\\end{tabular}\n"
      ],
      "text/markdown": [
       "\n",
       "A data.frame: 1 × 1\n",
       "\n",
       "| mean(사고건수) &lt;dbl&gt; |\n",
       "|---|\n",
       "| 3.434708 |\n",
       "\n"
      ],
      "text/plain": [
       "  mean(사고건수)\n",
       "1 3.434708      "
      ]
     },
     "metadata": {},
     "output_type": "display_data"
    }
   ],
   "source": [
    "summarise(newdata, mean(사고건수))"
   ]
  },
  {
   "cell_type": "code",
   "execution_count": 156,
   "metadata": {
    "vscode": {
     "languageId": "r"
    }
   },
   "outputs": [
    {
     "data": {
      "text/html": [
       "<table class=\"dataframe\">\n",
       "<caption>A data.frame: 1 × 4</caption>\n",
       "<thead>\n",
       "\t<tr><th scope=col>n()</th><th scope=col>mean(사고건수)</th><th scope=col>mean(부상자수)</th><th scope=col>max(경상자수)</th></tr>\n",
       "\t<tr><th scope=col>&lt;int&gt;</th><th scope=col>&lt;dbl&gt;</th><th scope=col>&lt;dbl&gt;</th><th scope=col>&lt;int&gt;</th></tr>\n",
       "</thead>\n",
       "<tbody>\n",
       "\t<tr><td>57733</td><td>3.434708</td><td>4.915715</td><td>77</td></tr>\n",
       "</tbody>\n",
       "</table>\n"
      ],
      "text/latex": [
       "A data.frame: 1 × 4\n",
       "\\begin{tabular}{llll}\n",
       " n() & mean(사고건수) & mean(부상자수) & max(경상자수)\\\\\n",
       " <int> & <dbl> & <dbl> & <int>\\\\\n",
       "\\hline\n",
       "\t 57733 & 3.434708 & 4.915715 & 77\\\\\n",
       "\\end{tabular}\n"
      ],
      "text/markdown": [
       "\n",
       "A data.frame: 1 × 4\n",
       "\n",
       "| n() &lt;int&gt; | mean(사고건수) &lt;dbl&gt; | mean(부상자수) &lt;dbl&gt; | max(경상자수) &lt;int&gt; |\n",
       "|---|---|---|---|\n",
       "| 57733 | 3.434708 | 4.915715 | 77 |\n",
       "\n"
      ],
      "text/plain": [
       "  n()   mean(사고건수) mean(부상자수) max(경상자수)\n",
       "1 57733 3.434708       4.915715       77           "
      ]
     },
     "metadata": {},
     "output_type": "display_data"
    }
   ],
   "source": [
    "summarise(newdata, n(), mean(사고건수), mean(부상자수), max(경상자수))"
   ]
  },
  {
   "cell_type": "code",
   "execution_count": 157,
   "metadata": {
    "vscode": {
     "languageId": "r"
    }
   },
   "outputs": [
    {
     "data": {
      "text/html": [
       "<table class=\"dataframe\">\n",
       "<caption>A data.frame: 1 × 4</caption>\n",
       "<thead>\n",
       "\t<tr><th scope=col>자료수</th><th scope=col>평균_사고건수</th><th scope=col>평균_부상자수</th><th scope=col>최댓값_경상자수</th></tr>\n",
       "\t<tr><th scope=col>&lt;int&gt;</th><th scope=col>&lt;dbl&gt;</th><th scope=col>&lt;dbl&gt;</th><th scope=col>&lt;int&gt;</th></tr>\n",
       "</thead>\n",
       "<tbody>\n",
       "\t<tr><td>57733</td><td>3.434708</td><td>4.915715</td><td>77</td></tr>\n",
       "</tbody>\n",
       "</table>\n"
      ],
      "text/latex": [
       "A data.frame: 1 × 4\n",
       "\\begin{tabular}{llll}\n",
       " 자료수 & 평균\\_사고건수 & 평균\\_부상자수 & 최댓값\\_경상자수\\\\\n",
       " <int> & <dbl> & <dbl> & <int>\\\\\n",
       "\\hline\n",
       "\t 57733 & 3.434708 & 4.915715 & 77\\\\\n",
       "\\end{tabular}\n"
      ],
      "text/markdown": [
       "\n",
       "A data.frame: 1 × 4\n",
       "\n",
       "| 자료수 &lt;int&gt; | 평균_사고건수 &lt;dbl&gt; | 평균_부상자수 &lt;dbl&gt; | 최댓값_경상자수 &lt;int&gt; |\n",
       "|---|---|---|---|\n",
       "| 57733 | 3.434708 | 4.915715 | 77 |\n",
       "\n"
      ],
      "text/plain": [
       "  자료수 평균_사고건수 평균_부상자수 최댓값_경상자수\n",
       "1 57733  3.434708      4.915715      77             "
      ]
     },
     "metadata": {},
     "output_type": "display_data"
    }
   ],
   "source": [
    "result <- summarise(newdata, 자료수=n(), 평균_사고건수=mean(사고건수), \n",
    "          평균_부상자수=mean(부상자수), 최댓값_경상자수=max(경상자수))\n",
    "result"
   ]
  },
  {
   "cell_type": "code",
   "execution_count": 158,
   "metadata": {
    "vscode": {
     "languageId": "r"
    }
   },
   "outputs": [
    {
     "name": "stdout",
     "output_type": "stream",
     "text": [
      "  자료수 평균_사고건수 평균_부상자수 최댓값_경상자수\n",
      "1  57733      3.434708      4.915715              77\n"
     ]
    }
   ],
   "source": [
    "print(result)"
   ]
  },
  {
   "cell_type": "code",
   "execution_count": 159,
   "metadata": {
    "vscode": {
     "languageId": "r"
    }
   },
   "outputs": [
    {
     "data": {
      "text/plain": [
       "\n",
       "충북 괴산군 충북 단양군 충북 보은군 충북 영동군 충북 옥천군 충북 음성군 \n",
       "        133          81         106         105         117         264 \n",
       "충북 제천시 충북 증평군 충북 진천군 충북 청주시 충북 충주시 \n",
       "        315         154         255         365         343 "
      ]
     },
     "metadata": {},
     "output_type": "display_data"
    }
   ],
   "source": [
    "cb <- filter(newdata, grepl(\"충북\", 시도_시군구))\n",
    "table(cb$시도_시군구)"
   ]
  },
  {
   "cell_type": "code",
   "execution_count": 160,
   "metadata": {
    "vscode": {
     "languageId": "r"
    }
   },
   "outputs": [
    {
     "data": {
      "text/html": [
       "<table class=\"dataframe\">\n",
       "<caption>A tibble: 11 × 3</caption>\n",
       "<thead>\n",
       "\t<tr><th scope=col>시도_시군구</th><th scope=col>n()</th><th scope=col>일평균사고건수</th></tr>\n",
       "\t<tr><th scope=col>&lt;chr&gt;</th><th scope=col>&lt;int&gt;</th><th scope=col>&lt;dbl&gt;</th></tr>\n",
       "</thead>\n",
       "<tbody>\n",
       "\t<tr><td>충북 괴산군</td><td>133</td><td> 1.233083</td></tr>\n",
       "\t<tr><td>충북 단양군</td><td> 81</td><td> 1.234568</td></tr>\n",
       "\t<tr><td>충북 보은군</td><td>106</td><td> 1.254717</td></tr>\n",
       "\t<tr><td>충북 영동군</td><td>105</td><td> 1.276190</td></tr>\n",
       "\t<tr><td>충북 옥천군</td><td>117</td><td> 1.256410</td></tr>\n",
       "\t<tr><td>충북 음성군</td><td>264</td><td> 1.814394</td></tr>\n",
       "\t<tr><td>충북 제천시</td><td>315</td><td> 2.339683</td></tr>\n",
       "\t<tr><td>충북 증평군</td><td>154</td><td> 1.337662</td></tr>\n",
       "\t<tr><td>충북 진천군</td><td>255</td><td> 1.866667</td></tr>\n",
       "\t<tr><td>충북 청주시</td><td>365</td><td>11.882192</td></tr>\n",
       "\t<tr><td>충북 충주시</td><td>343</td><td> 2.991254</td></tr>\n",
       "</tbody>\n",
       "</table>\n"
      ],
      "text/latex": [
       "A tibble: 11 × 3\n",
       "\\begin{tabular}{lll}\n",
       " 시도\\_시군구 & n() & 일평균사고건수\\\\\n",
       " <chr> & <int> & <dbl>\\\\\n",
       "\\hline\n",
       "\t 충북 괴산군 & 133 &  1.233083\\\\\n",
       "\t 충북 단양군 &  81 &  1.234568\\\\\n",
       "\t 충북 보은군 & 106 &  1.254717\\\\\n",
       "\t 충북 영동군 & 105 &  1.276190\\\\\n",
       "\t 충북 옥천군 & 117 &  1.256410\\\\\n",
       "\t 충북 음성군 & 264 &  1.814394\\\\\n",
       "\t 충북 제천시 & 315 &  2.339683\\\\\n",
       "\t 충북 증평군 & 154 &  1.337662\\\\\n",
       "\t 충북 진천군 & 255 &  1.866667\\\\\n",
       "\t 충북 청주시 & 365 & 11.882192\\\\\n",
       "\t 충북 충주시 & 343 &  2.991254\\\\\n",
       "\\end{tabular}\n"
      ],
      "text/markdown": [
       "\n",
       "A tibble: 11 × 3\n",
       "\n",
       "| 시도_시군구 &lt;chr&gt; | n() &lt;int&gt; | 일평균사고건수 &lt;dbl&gt; |\n",
       "|---|---|---|\n",
       "| 충북 괴산군 | 133 |  1.233083 |\n",
       "| 충북 단양군 |  81 |  1.234568 |\n",
       "| 충북 보은군 | 106 |  1.254717 |\n",
       "| 충북 영동군 | 105 |  1.276190 |\n",
       "| 충북 옥천군 | 117 |  1.256410 |\n",
       "| 충북 음성군 | 264 |  1.814394 |\n",
       "| 충북 제천시 | 315 |  2.339683 |\n",
       "| 충북 증평군 | 154 |  1.337662 |\n",
       "| 충북 진천군 | 255 |  1.866667 |\n",
       "| 충북 청주시 | 365 | 11.882192 |\n",
       "| 충북 충주시 | 343 |  2.991254 |\n",
       "\n"
      ],
      "text/plain": [
       "   시도_시군구 n() 일평균사고건수\n",
       "1  충북 괴산군 133  1.233083     \n",
       "2  충북 단양군  81  1.234568     \n",
       "3  충북 보은군 106  1.254717     \n",
       "4  충북 영동군 105  1.276190     \n",
       "5  충북 옥천군 117  1.256410     \n",
       "6  충북 음성군 264  1.814394     \n",
       "7  충북 제천시 315  2.339683     \n",
       "8  충북 증평군 154  1.337662     \n",
       "9  충북 진천군 255  1.866667     \n",
       "10 충북 청주시 365 11.882192     \n",
       "11 충북 충주시 343  2.991254     "
      ]
     },
     "metadata": {},
     "output_type": "display_data"
    }
   ],
   "source": [
    "grp <- group_by(cb, 시도_시군구)\n",
    "result <- summarise(grp, n(), 일평균사고건수=mean(사고건수))\n",
    "result"
   ]
  },
  {
   "cell_type": "code",
   "execution_count": 161,
   "metadata": {
    "vscode": {
     "languageId": "r"
    }
   },
   "outputs": [
    {
     "data": {
      "text/html": [
       "<table class=\"dataframe\">\n",
       "<caption>A tibble: 11 × 6</caption>\n",
       "<thead>\n",
       "\t<tr><th scope=col>시도_시군구</th><th scope=col>자료수</th><th scope=col>합계</th><th scope=col>평균</th><th scope=col>최솟값</th><th scope=col>최댓값</th></tr>\n",
       "\t<tr><th scope=col>&lt;chr&gt;</th><th scope=col>&lt;int&gt;</th><th scope=col>&lt;int&gt;</th><th scope=col>&lt;dbl&gt;</th><th scope=col>&lt;int&gt;</th><th scope=col>&lt;int&gt;</th></tr>\n",
       "</thead>\n",
       "<tbody>\n",
       "\t<tr><td>충북 청주시</td><td>365</td><td>4337</td><td>11.882192</td><td>2</td><td>26</td></tr>\n",
       "\t<tr><td>충북 충주시</td><td>343</td><td>1026</td><td> 2.991254</td><td>1</td><td> 9</td></tr>\n",
       "\t<tr><td>충북 제천시</td><td>315</td><td> 737</td><td> 2.339683</td><td>1</td><td> 8</td></tr>\n",
       "\t<tr><td>충북 음성군</td><td>264</td><td> 479</td><td> 1.814394</td><td>1</td><td> 6</td></tr>\n",
       "\t<tr><td>충북 진천군</td><td>255</td><td> 476</td><td> 1.866667</td><td>1</td><td> 5</td></tr>\n",
       "\t<tr><td>충북 증평군</td><td>154</td><td> 206</td><td> 1.337662</td><td>1</td><td> 4</td></tr>\n",
       "\t<tr><td>충북 괴산군</td><td>133</td><td> 164</td><td> 1.233083</td><td>1</td><td> 3</td></tr>\n",
       "\t<tr><td>충북 옥천군</td><td>117</td><td> 147</td><td> 1.256410</td><td>1</td><td> 3</td></tr>\n",
       "\t<tr><td>충북 영동군</td><td>105</td><td> 134</td><td> 1.276190</td><td>1</td><td> 4</td></tr>\n",
       "\t<tr><td>충북 보은군</td><td>106</td><td> 133</td><td> 1.254717</td><td>1</td><td> 3</td></tr>\n",
       "\t<tr><td>충북 단양군</td><td> 81</td><td> 100</td><td> 1.234568</td><td>1</td><td> 4</td></tr>\n",
       "</tbody>\n",
       "</table>\n"
      ],
      "text/latex": [
       "A tibble: 11 × 6\n",
       "\\begin{tabular}{llllll}\n",
       " 시도\\_시군구 & 자료수 & 합계 & 평균 & 최솟값 & 최댓값\\\\\n",
       " <chr> & <int> & <int> & <dbl> & <int> & <int>\\\\\n",
       "\\hline\n",
       "\t 충북 청주시 & 365 & 4337 & 11.882192 & 2 & 26\\\\\n",
       "\t 충북 충주시 & 343 & 1026 &  2.991254 & 1 &  9\\\\\n",
       "\t 충북 제천시 & 315 &  737 &  2.339683 & 1 &  8\\\\\n",
       "\t 충북 음성군 & 264 &  479 &  1.814394 & 1 &  6\\\\\n",
       "\t 충북 진천군 & 255 &  476 &  1.866667 & 1 &  5\\\\\n",
       "\t 충북 증평군 & 154 &  206 &  1.337662 & 1 &  4\\\\\n",
       "\t 충북 괴산군 & 133 &  164 &  1.233083 & 1 &  3\\\\\n",
       "\t 충북 옥천군 & 117 &  147 &  1.256410 & 1 &  3\\\\\n",
       "\t 충북 영동군 & 105 &  134 &  1.276190 & 1 &  4\\\\\n",
       "\t 충북 보은군 & 106 &  133 &  1.254717 & 1 &  3\\\\\n",
       "\t 충북 단양군 &  81 &  100 &  1.234568 & 1 &  4\\\\\n",
       "\\end{tabular}\n"
      ],
      "text/markdown": [
       "\n",
       "A tibble: 11 × 6\n",
       "\n",
       "| 시도_시군구 &lt;chr&gt; | 자료수 &lt;int&gt; | 합계 &lt;int&gt; | 평균 &lt;dbl&gt; | 최솟값 &lt;int&gt; | 최댓값 &lt;int&gt; |\n",
       "|---|---|---|---|---|---|\n",
       "| 충북 청주시 | 365 | 4337 | 11.882192 | 2 | 26 |\n",
       "| 충북 충주시 | 343 | 1026 |  2.991254 | 1 |  9 |\n",
       "| 충북 제천시 | 315 |  737 |  2.339683 | 1 |  8 |\n",
       "| 충북 음성군 | 264 |  479 |  1.814394 | 1 |  6 |\n",
       "| 충북 진천군 | 255 |  476 |  1.866667 | 1 |  5 |\n",
       "| 충북 증평군 | 154 |  206 |  1.337662 | 1 |  4 |\n",
       "| 충북 괴산군 | 133 |  164 |  1.233083 | 1 |  3 |\n",
       "| 충북 옥천군 | 117 |  147 |  1.256410 | 1 |  3 |\n",
       "| 충북 영동군 | 105 |  134 |  1.276190 | 1 |  4 |\n",
       "| 충북 보은군 | 106 |  133 |  1.254717 | 1 |  3 |\n",
       "| 충북 단양군 |  81 |  100 |  1.234568 | 1 |  4 |\n",
       "\n"
      ],
      "text/plain": [
       "   시도_시군구 자료수 합계 평균      최솟값 최댓값\n",
       "1  충북 청주시 365    4337 11.882192 2      26    \n",
       "2  충북 충주시 343    1026  2.991254 1       9    \n",
       "3  충북 제천시 315     737  2.339683 1       8    \n",
       "4  충북 음성군 264     479  1.814394 1       6    \n",
       "5  충북 진천군 255     476  1.866667 1       5    \n",
       "6  충북 증평군 154     206  1.337662 1       4    \n",
       "7  충북 괴산군 133     164  1.233083 1       3    \n",
       "8  충북 옥천군 117     147  1.256410 1       3    \n",
       "9  충북 영동군 105     134  1.276190 1       4    \n",
       "10 충북 보은군 106     133  1.254717 1       3    \n",
       "11 충북 단양군  81     100  1.234568 1       4    "
      ]
     },
     "metadata": {},
     "output_type": "display_data"
    }
   ],
   "source": [
    "grp <- group_by(cb, 시도_시군구)\n",
    "summarise(grp, 자료수=n(), 합계=sum(사고건수),\n",
    "          평균=mean(사고건수),\n",
    "          최솟값=min(사고건수),\n",
    "          최댓값=max(사고건수)) %>%\n",
    "    arrange(desc(합계))"
   ]
  },
  {
   "cell_type": "code",
   "execution_count": 162,
   "metadata": {
    "vscode": {
     "languageId": "r"
    }
   },
   "outputs": [
    {
     "data": {
      "text/plain": [
       "\n",
       "충북 제천시 충북 청주시 충북 충주시 \n",
       "        149         181         170 "
      ]
     },
     "metadata": {},
     "output_type": "display_data"
    },
    {
     "data": {
      "text/plain": [
       "\n",
       " 1  2  3  4  5  6 \n",
       "80 72 85 86 92 85 "
      ]
     },
     "metadata": {},
     "output_type": "display_data"
    }
   ],
   "source": [
    "city <- filter(cb, grepl(\"시$\", 시도_시군구)) %>%\n",
    "    filter(발생월 <= 6)\n",
    "table(city$시도_시군구)\n",
    "table(city$발생월)"
   ]
  },
  {
   "cell_type": "code",
   "execution_count": 163,
   "metadata": {
    "vscode": {
     "languageId": "r"
    }
   },
   "outputs": [
    {
     "data": {
      "text/html": [
       "<table class=\"dataframe\">\n",
       "<caption>A data.frame: 6 × 9</caption>\n",
       "<thead>\n",
       "\t<tr><th></th><th scope=col>시도_시군구</th><th scope=col>발생월</th><th scope=col>발생일</th><th scope=col>사고건수</th><th scope=col>사망자수</th><th scope=col>중상자수</th><th scope=col>경상자수</th><th scope=col>부상신고자수</th><th scope=col>부상자수</th></tr>\n",
       "\t<tr><th></th><th scope=col>&lt;chr&gt;</th><th scope=col>&lt;int&gt;</th><th scope=col>&lt;int&gt;</th><th scope=col>&lt;int&gt;</th><th scope=col>&lt;int&gt;</th><th scope=col>&lt;int&gt;</th><th scope=col>&lt;int&gt;</th><th scope=col>&lt;int&gt;</th><th scope=col>&lt;int&gt;</th></tr>\n",
       "</thead>\n",
       "<tbody>\n",
       "\t<tr><th scope=row>1</th><td>충북 청주시</td><td>1</td><td>1</td><td>10</td><td>0</td><td>2</td><td>10</td><td>0</td><td>12</td></tr>\n",
       "\t<tr><th scope=row>2</th><td>충북 충주시</td><td>1</td><td>1</td><td> 1</td><td>0</td><td>0</td><td> 1</td><td>0</td><td> 1</td></tr>\n",
       "\t<tr><th scope=row>3</th><td>충북 청주시</td><td>1</td><td>2</td><td> 5</td><td>0</td><td>0</td><td> 6</td><td>0</td><td> 6</td></tr>\n",
       "\t<tr><th scope=row>4</th><td>충북 충주시</td><td>1</td><td>2</td><td> 2</td><td>0</td><td>1</td><td> 1</td><td>0</td><td> 2</td></tr>\n",
       "\t<tr><th scope=row>5</th><td>충북 제천시</td><td>1</td><td>2</td><td> 1</td><td>0</td><td>1</td><td> 0</td><td>0</td><td> 1</td></tr>\n",
       "\t<tr><th scope=row>6</th><td>충북 청주시</td><td>1</td><td>3</td><td>10</td><td>0</td><td>0</td><td>14</td><td>0</td><td>14</td></tr>\n",
       "</tbody>\n",
       "</table>\n"
      ],
      "text/latex": [
       "A data.frame: 6 × 9\n",
       "\\begin{tabular}{r|lllllllll}\n",
       "  & 시도\\_시군구 & 발생월 & 발생일 & 사고건수 & 사망자수 & 중상자수 & 경상자수 & 부상신고자수 & 부상자수\\\\\n",
       "  & <chr> & <int> & <int> & <int> & <int> & <int> & <int> & <int> & <int>\\\\\n",
       "\\hline\n",
       "\t1 & 충북 청주시 & 1 & 1 & 10 & 0 & 2 & 10 & 0 & 12\\\\\n",
       "\t2 & 충북 충주시 & 1 & 1 &  1 & 0 & 0 &  1 & 0 &  1\\\\\n",
       "\t3 & 충북 청주시 & 1 & 2 &  5 & 0 & 0 &  6 & 0 &  6\\\\\n",
       "\t4 & 충북 충주시 & 1 & 2 &  2 & 0 & 1 &  1 & 0 &  2\\\\\n",
       "\t5 & 충북 제천시 & 1 & 2 &  1 & 0 & 1 &  0 & 0 &  1\\\\\n",
       "\t6 & 충북 청주시 & 1 & 3 & 10 & 0 & 0 & 14 & 0 & 14\\\\\n",
       "\\end{tabular}\n"
      ],
      "text/markdown": [
       "\n",
       "A data.frame: 6 × 9\n",
       "\n",
       "| <!--/--> | 시도_시군구 &lt;chr&gt; | 발생월 &lt;int&gt; | 발생일 &lt;int&gt; | 사고건수 &lt;int&gt; | 사망자수 &lt;int&gt; | 중상자수 &lt;int&gt; | 경상자수 &lt;int&gt; | 부상신고자수 &lt;int&gt; | 부상자수 &lt;int&gt; |\n",
       "|---|---|---|---|---|---|---|---|---|---|\n",
       "| 1 | 충북 청주시 | 1 | 1 | 10 | 0 | 2 | 10 | 0 | 12 |\n",
       "| 2 | 충북 충주시 | 1 | 1 |  1 | 0 | 0 |  1 | 0 |  1 |\n",
       "| 3 | 충북 청주시 | 1 | 2 |  5 | 0 | 0 |  6 | 0 |  6 |\n",
       "| 4 | 충북 충주시 | 1 | 2 |  2 | 0 | 1 |  1 | 0 |  2 |\n",
       "| 5 | 충북 제천시 | 1 | 2 |  1 | 0 | 1 |  0 | 0 |  1 |\n",
       "| 6 | 충북 청주시 | 1 | 3 | 10 | 0 | 0 | 14 | 0 | 14 |\n",
       "\n"
      ],
      "text/plain": [
       "  시도_시군구 발생월 발생일 사고건수 사망자수 중상자수 경상자수 부상신고자수\n",
       "1 충북 청주시 1      1      10       0        2        10       0           \n",
       "2 충북 충주시 1      1       1       0        0         1       0           \n",
       "3 충북 청주시 1      2       5       0        0         6       0           \n",
       "4 충북 충주시 1      2       2       0        1         1       0           \n",
       "5 충북 제천시 1      2       1       0        1         0       0           \n",
       "6 충북 청주시 1      3      10       0        0        14       0           \n",
       "  부상자수\n",
       "1 12      \n",
       "2  1      \n",
       "3  6      \n",
       "4  2      \n",
       "5  1      \n",
       "6 14      "
      ]
     },
     "metadata": {},
     "output_type": "display_data"
    }
   ],
   "source": [
    "head(city)"
   ]
  },
  {
   "cell_type": "code",
   "execution_count": 165,
   "metadata": {
    "vscode": {
     "languageId": "r"
    }
   },
   "outputs": [
    {
     "data": {
      "text/html": [
       "<table class=\"dataframe\">\n",
       "<caption>A tibble: 18 × 5</caption>\n",
       "<thead>\n",
       "\t<tr><th scope=col>시도_시군구</th><th scope=col>발생월</th><th scope=col>mean(사고건수)</th><th scope=col>max(사고건수)</th><th scope=col>max(부상자수)</th></tr>\n",
       "\t<tr><th scope=col>&lt;chr&gt;</th><th scope=col>&lt;int&gt;</th><th scope=col>&lt;dbl&gt;</th><th scope=col>&lt;int&gt;</th><th scope=col>&lt;int&gt;</th></tr>\n",
       "</thead>\n",
       "<tbody>\n",
       "\t<tr><td>충북 제천시</td><td>1</td><td> 1.608696</td><td> 3</td><td> 5</td></tr>\n",
       "\t<tr><td>충북 제천시</td><td>2</td><td> 2.000000</td><td> 4</td><td>10</td></tr>\n",
       "\t<tr><td>충북 제천시</td><td>3</td><td> 1.730769</td><td> 4</td><td> 6</td></tr>\n",
       "\t<tr><td>충북 제천시</td><td>4</td><td> 2.555556</td><td> 8</td><td>12</td></tr>\n",
       "\t<tr><td>충북 제천시</td><td>5</td><td> 2.700000</td><td> 7</td><td> 9</td></tr>\n",
       "\t<tr><td>충북 제천시</td><td>6</td><td> 2.423077</td><td> 5</td><td>14</td></tr>\n",
       "\t<tr><td>충북 청주시</td><td>1</td><td> 9.225806</td><td>17</td><td>24</td></tr>\n",
       "\t<tr><td>충북 청주시</td><td>2</td><td> 9.678571</td><td>18</td><td>46</td></tr>\n",
       "\t<tr><td>충북 청주시</td><td>3</td><td>10.838710</td><td>26</td><td>37</td></tr>\n",
       "\t<tr><td>충북 청주시</td><td>4</td><td>11.800000</td><td>18</td><td>29</td></tr>\n",
       "\t<tr><td>충북 청주시</td><td>5</td><td>13.354839</td><td>23</td><td>35</td></tr>\n",
       "\t<tr><td>충북 청주시</td><td>6</td><td>12.566667</td><td>21</td><td>34</td></tr>\n",
       "\t<tr><td>충북 충주시</td><td>1</td><td> 3.000000</td><td> 7</td><td>10</td></tr>\n",
       "\t<tr><td>충북 충주시</td><td>2</td><td> 2.222222</td><td> 5</td><td> 7</td></tr>\n",
       "\t<tr><td>충북 충주시</td><td>3</td><td> 2.821429</td><td> 6</td><td> 9</td></tr>\n",
       "\t<tr><td>충북 충주시</td><td>4</td><td> 3.068966</td><td> 8</td><td>10</td></tr>\n",
       "\t<tr><td>충북 충주시</td><td>5</td><td> 3.387097</td><td> 9</td><td>15</td></tr>\n",
       "\t<tr><td>충북 충주시</td><td>6</td><td> 3.068966</td><td> 8</td><td>15</td></tr>\n",
       "</tbody>\n",
       "</table>\n"
      ],
      "text/latex": [
       "A tibble: 18 × 5\n",
       "\\begin{tabular}{lllll}\n",
       " 시도\\_시군구 & 발생월 & mean(사고건수) & max(사고건수) & max(부상자수)\\\\\n",
       " <chr> & <int> & <dbl> & <int> & <int>\\\\\n",
       "\\hline\n",
       "\t 충북 제천시 & 1 &  1.608696 &  3 &  5\\\\\n",
       "\t 충북 제천시 & 2 &  2.000000 &  4 & 10\\\\\n",
       "\t 충북 제천시 & 3 &  1.730769 &  4 &  6\\\\\n",
       "\t 충북 제천시 & 4 &  2.555556 &  8 & 12\\\\\n",
       "\t 충북 제천시 & 5 &  2.700000 &  7 &  9\\\\\n",
       "\t 충북 제천시 & 6 &  2.423077 &  5 & 14\\\\\n",
       "\t 충북 청주시 & 1 &  9.225806 & 17 & 24\\\\\n",
       "\t 충북 청주시 & 2 &  9.678571 & 18 & 46\\\\\n",
       "\t 충북 청주시 & 3 & 10.838710 & 26 & 37\\\\\n",
       "\t 충북 청주시 & 4 & 11.800000 & 18 & 29\\\\\n",
       "\t 충북 청주시 & 5 & 13.354839 & 23 & 35\\\\\n",
       "\t 충북 청주시 & 6 & 12.566667 & 21 & 34\\\\\n",
       "\t 충북 충주시 & 1 &  3.000000 &  7 & 10\\\\\n",
       "\t 충북 충주시 & 2 &  2.222222 &  5 &  7\\\\\n",
       "\t 충북 충주시 & 3 &  2.821429 &  6 &  9\\\\\n",
       "\t 충북 충주시 & 4 &  3.068966 &  8 & 10\\\\\n",
       "\t 충북 충주시 & 5 &  3.387097 &  9 & 15\\\\\n",
       "\t 충북 충주시 & 6 &  3.068966 &  8 & 15\\\\\n",
       "\\end{tabular}\n"
      ],
      "text/markdown": [
       "\n",
       "A tibble: 18 × 5\n",
       "\n",
       "| 시도_시군구 &lt;chr&gt; | 발생월 &lt;int&gt; | mean(사고건수) &lt;dbl&gt; | max(사고건수) &lt;int&gt; | max(부상자수) &lt;int&gt; |\n",
       "|---|---|---|---|---|\n",
       "| 충북 제천시 | 1 |  1.608696 |  3 |  5 |\n",
       "| 충북 제천시 | 2 |  2.000000 |  4 | 10 |\n",
       "| 충북 제천시 | 3 |  1.730769 |  4 |  6 |\n",
       "| 충북 제천시 | 4 |  2.555556 |  8 | 12 |\n",
       "| 충북 제천시 | 5 |  2.700000 |  7 |  9 |\n",
       "| 충북 제천시 | 6 |  2.423077 |  5 | 14 |\n",
       "| 충북 청주시 | 1 |  9.225806 | 17 | 24 |\n",
       "| 충북 청주시 | 2 |  9.678571 | 18 | 46 |\n",
       "| 충북 청주시 | 3 | 10.838710 | 26 | 37 |\n",
       "| 충북 청주시 | 4 | 11.800000 | 18 | 29 |\n",
       "| 충북 청주시 | 5 | 13.354839 | 23 | 35 |\n",
       "| 충북 청주시 | 6 | 12.566667 | 21 | 34 |\n",
       "| 충북 충주시 | 1 |  3.000000 |  7 | 10 |\n",
       "| 충북 충주시 | 2 |  2.222222 |  5 |  7 |\n",
       "| 충북 충주시 | 3 |  2.821429 |  6 |  9 |\n",
       "| 충북 충주시 | 4 |  3.068966 |  8 | 10 |\n",
       "| 충북 충주시 | 5 |  3.387097 |  9 | 15 |\n",
       "| 충북 충주시 | 6 |  3.068966 |  8 | 15 |\n",
       "\n"
      ],
      "text/plain": [
       "   시도_시군구 발생월 mean(사고건수) max(사고건수) max(부상자수)\n",
       "1  충북 제천시 1       1.608696       3             5           \n",
       "2  충북 제천시 2       2.000000       4            10           \n",
       "3  충북 제천시 3       1.730769       4             6           \n",
       "4  충북 제천시 4       2.555556       8            12           \n",
       "5  충북 제천시 5       2.700000       7             9           \n",
       "6  충북 제천시 6       2.423077       5            14           \n",
       "7  충북 청주시 1       9.225806      17            24           \n",
       "8  충북 청주시 2       9.678571      18            46           \n",
       "9  충북 청주시 3      10.838710      26            37           \n",
       "10 충북 청주시 4      11.800000      18            29           \n",
       "11 충북 청주시 5      13.354839      23            35           \n",
       "12 충북 청주시 6      12.566667      21            34           \n",
       "13 충북 충주시 1       3.000000       7            10           \n",
       "14 충북 충주시 2       2.222222       5             7           \n",
       "15 충북 충주시 3       2.821429       6             9           \n",
       "16 충북 충주시 4       3.068966       8            10           \n",
       "17 충북 충주시 5       3.387097       9            15           \n",
       "18 충북 충주시 6       3.068966       8            15           "
      ]
     },
     "metadata": {},
     "output_type": "display_data"
    }
   ],
   "source": [
    "# 2개의 그룹변수\n",
    "city %>%\n",
    "    group_by(시도_시군구, 발생월) %>%\n",
    "    summarise(mean(사고건수), max(사고건수), max(부상자수), .groups='drop')"
   ]
  },
  {
   "cell_type": "code",
   "execution_count": 166,
   "metadata": {
    "vscode": {
     "languageId": "r"
    }
   },
   "outputs": [
    {
     "data": {
      "text/html": [
       "<table class=\"dataframe\">\n",
       "<caption>A tibble: 17 × 6</caption>\n",
       "<thead>\n",
       "\t<tr><th scope=col>시도</th><th scope=col>자료수</th><th scope=col>합계</th><th scope=col>평균</th><th scope=col>최솟값</th><th scope=col>최댓값</th></tr>\n",
       "\t<tr><th scope=col>&lt;chr&gt;</th><th scope=col>&lt;int&gt;</th><th scope=col>&lt;int&gt;</th><th scope=col>&lt;dbl&gt;</th><th scope=col>&lt;int&gt;</th><th scope=col>&lt;int&gt;</th></tr>\n",
       "</thead>\n",
       "<tbody>\n",
       "\t<tr><td>경기</td><td>9830</td><td>53164</td><td>5.408342</td><td>1</td><td>33</td></tr>\n",
       "\t<tr><td>서울</td><td>8544</td><td>33811</td><td>3.957280</td><td>1</td><td>27</td></tr>\n",
       "\t<tr><td>충북</td><td>2238</td><td> 7939</td><td>3.547364</td><td>1</td><td>26</td></tr>\n",
       "\t<tr><td>충남</td><td>3161</td><td> 8606</td><td>2.722556</td><td>1</td><td>21</td></tr>\n",
       "\t<tr><td>경남</td><td>3915</td><td>11122</td><td>2.840868</td><td>1</td><td>18</td></tr>\n",
       "\t<tr><td>대구</td><td>2756</td><td>10880</td><td>3.947750</td><td>1</td><td>18</td></tr>\n",
       "\t<tr><td>대전</td><td>1736</td><td> 7398</td><td>4.261521</td><td>1</td><td>18</td></tr>\n",
       "\t<tr><td>제주</td><td> 719</td><td> 3950</td><td>5.493741</td><td>1</td><td>17</td></tr>\n",
       "\t<tr><td>경북</td><td>4439</td><td>10777</td><td>2.427799</td><td>1</td><td>16</td></tr>\n",
       "\t<tr><td>광주</td><td>1672</td><td> 6972</td><td>4.169856</td><td>1</td><td>16</td></tr>\n",
       "\t<tr><td>인천</td><td>2572</td><td> 7648</td><td>2.973561</td><td>1</td><td>13</td></tr>\n",
       "\t<tr><td>전북</td><td>2411</td><td> 5830</td><td>2.418084</td><td>1</td><td>13</td></tr>\n",
       "\t<tr><td>강원</td><td>3005</td><td> 6079</td><td>2.022962</td><td>1</td><td>12</td></tr>\n",
       "\t<tr><td>부산</td><td>4703</td><td>11003</td><td>2.339570</td><td>1</td><td>11</td></tr>\n",
       "\t<tr><td>세종</td><td> 341</td><td> 1166</td><td>3.419355</td><td>1</td><td>11</td></tr>\n",
       "\t<tr><td>전남</td><td>4149</td><td> 8287</td><td>1.997349</td><td>1</td><td>10</td></tr>\n",
       "\t<tr><td>울산</td><td>1542</td><td> 3664</td><td>2.376135</td><td>1</td><td> 9</td></tr>\n",
       "</tbody>\n",
       "</table>\n"
      ],
      "text/latex": [
       "A tibble: 17 × 6\n",
       "\\begin{tabular}{llllll}\n",
       " 시도 & 자료수 & 합계 & 평균 & 최솟값 & 최댓값\\\\\n",
       " <chr> & <int> & <int> & <dbl> & <int> & <int>\\\\\n",
       "\\hline\n",
       "\t 경기 & 9830 & 53164 & 5.408342 & 1 & 33\\\\\n",
       "\t 서울 & 8544 & 33811 & 3.957280 & 1 & 27\\\\\n",
       "\t 충북 & 2238 &  7939 & 3.547364 & 1 & 26\\\\\n",
       "\t 충남 & 3161 &  8606 & 2.722556 & 1 & 21\\\\\n",
       "\t 경남 & 3915 & 11122 & 2.840868 & 1 & 18\\\\\n",
       "\t 대구 & 2756 & 10880 & 3.947750 & 1 & 18\\\\\n",
       "\t 대전 & 1736 &  7398 & 4.261521 & 1 & 18\\\\\n",
       "\t 제주 &  719 &  3950 & 5.493741 & 1 & 17\\\\\n",
       "\t 경북 & 4439 & 10777 & 2.427799 & 1 & 16\\\\\n",
       "\t 광주 & 1672 &  6972 & 4.169856 & 1 & 16\\\\\n",
       "\t 인천 & 2572 &  7648 & 2.973561 & 1 & 13\\\\\n",
       "\t 전북 & 2411 &  5830 & 2.418084 & 1 & 13\\\\\n",
       "\t 강원 & 3005 &  6079 & 2.022962 & 1 & 12\\\\\n",
       "\t 부산 & 4703 & 11003 & 2.339570 & 1 & 11\\\\\n",
       "\t 세종 &  341 &  1166 & 3.419355 & 1 & 11\\\\\n",
       "\t 전남 & 4149 &  8287 & 1.997349 & 1 & 10\\\\\n",
       "\t 울산 & 1542 &  3664 & 2.376135 & 1 &  9\\\\\n",
       "\\end{tabular}\n"
      ],
      "text/markdown": [
       "\n",
       "A tibble: 17 × 6\n",
       "\n",
       "| 시도 &lt;chr&gt; | 자료수 &lt;int&gt; | 합계 &lt;int&gt; | 평균 &lt;dbl&gt; | 최솟값 &lt;int&gt; | 최댓값 &lt;int&gt; |\n",
       "|---|---|---|---|---|---|\n",
       "| 경기 | 9830 | 53164 | 5.408342 | 1 | 33 |\n",
       "| 서울 | 8544 | 33811 | 3.957280 | 1 | 27 |\n",
       "| 충북 | 2238 |  7939 | 3.547364 | 1 | 26 |\n",
       "| 충남 | 3161 |  8606 | 2.722556 | 1 | 21 |\n",
       "| 경남 | 3915 | 11122 | 2.840868 | 1 | 18 |\n",
       "| 대구 | 2756 | 10880 | 3.947750 | 1 | 18 |\n",
       "| 대전 | 1736 |  7398 | 4.261521 | 1 | 18 |\n",
       "| 제주 |  719 |  3950 | 5.493741 | 1 | 17 |\n",
       "| 경북 | 4439 | 10777 | 2.427799 | 1 | 16 |\n",
       "| 광주 | 1672 |  6972 | 4.169856 | 1 | 16 |\n",
       "| 인천 | 2572 |  7648 | 2.973561 | 1 | 13 |\n",
       "| 전북 | 2411 |  5830 | 2.418084 | 1 | 13 |\n",
       "| 강원 | 3005 |  6079 | 2.022962 | 1 | 12 |\n",
       "| 부산 | 4703 | 11003 | 2.339570 | 1 | 11 |\n",
       "| 세종 |  341 |  1166 | 3.419355 | 1 | 11 |\n",
       "| 전남 | 4149 |  8287 | 1.997349 | 1 | 10 |\n",
       "| 울산 | 1542 |  3664 | 2.376135 | 1 |  9 |\n",
       "\n"
      ],
      "text/plain": [
       "   시도 자료수 합계  평균     최솟값 최댓값\n",
       "1  경기 9830   53164 5.408342 1      33    \n",
       "2  서울 8544   33811 3.957280 1      27    \n",
       "3  충북 2238    7939 3.547364 1      26    \n",
       "4  충남 3161    8606 2.722556 1      21    \n",
       "5  경남 3915   11122 2.840868 1      18    \n",
       "6  대구 2756   10880 3.947750 1      18    \n",
       "7  대전 1736    7398 4.261521 1      18    \n",
       "8  제주  719    3950 5.493741 1      17    \n",
       "9  경북 4439   10777 2.427799 1      16    \n",
       "10 광주 1672    6972 4.169856 1      16    \n",
       "11 인천 2572    7648 2.973561 1      13    \n",
       "12 전북 2411    5830 2.418084 1      13    \n",
       "13 강원 3005    6079 2.022962 1      12    \n",
       "14 부산 4703   11003 2.339570 1      11    \n",
       "15 세종  341    1166 3.419355 1      11    \n",
       "16 전남 4149    8287 1.997349 1      10    \n",
       "17 울산 1542    3664 2.376135 1       9    "
      ]
     },
     "metadata": {},
     "output_type": "display_data"
    }
   ],
   "source": [
    "# 데이터 data에서 광역시도별 통계량\n",
    "grp <- group_by(data, 시도)\n",
    "summarise(grp, 자료수=n(), 합계=sum(사고건수),\n",
    "          평균=mean(사고건수),\n",
    "          최솟값=min(사고건수),\n",
    "          최댓값=max(사고건수)) %>%\n",
    "    arrange(desc(최댓값))"
   ]
  },
  {
   "cell_type": "code",
   "execution_count": 168,
   "metadata": {
    "vscode": {
     "languageId": "r"
    }
   },
   "outputs": [
    {
     "data": {
      "text/html": [
       "<table class=\"dataframe\">\n",
       "<caption>A tibble: 3 × 10</caption>\n",
       "<thead>\n",
       "\t<tr><th scope=col>측정일시</th><th scope=col>측정소명</th><th scope=col>이산화질소농도</th><th scope=col>오존농도</th><th scope=col>일산화탄소농도</th><th scope=col>아황산가스농도</th><th scope=col>미세먼지농도</th><th scope=col>초미세먼지농도</th><th scope=col>월</th><th scope=col>일</th></tr>\n",
       "\t<tr><th scope=col>&lt;dbl&gt;</th><th scope=col>&lt;chr&gt;</th><th scope=col>&lt;dbl&gt;</th><th scope=col>&lt;dbl&gt;</th><th scope=col>&lt;dbl&gt;</th><th scope=col>&lt;dbl&gt;</th><th scope=col>&lt;dbl&gt;</th><th scope=col>&lt;dbl&gt;</th><th scope=col>&lt;chr&gt;</th><th scope=col>&lt;chr&gt;</th></tr>\n",
       "</thead>\n",
       "<tbody>\n",
       "\t<tr><td>20230101</td><td>강남구</td><td>0.024</td><td>0.024</td><td>0.6</td><td>0.004</td><td>52</td><td>36</td><td>01</td><td>01</td></tr>\n",
       "\t<tr><td>20230101</td><td>강동구</td><td>0.027</td><td>0.017</td><td>0.7</td><td>0.003</td><td>56</td><td>43</td><td>01</td><td>01</td></tr>\n",
       "\t<tr><td>20230101</td><td>강북구</td><td>   NA</td><td>0.026</td><td>0.7</td><td>0.004</td><td>51</td><td>34</td><td>01</td><td>01</td></tr>\n",
       "</tbody>\n",
       "</table>\n"
      ],
      "text/latex": [
       "A tibble: 3 × 10\n",
       "\\begin{tabular}{llllllllll}\n",
       " 측정일시 & 측정소명 & 이산화질소농도 & 오존농도 & 일산화탄소농도 & 아황산가스농도 & 미세먼지농도 & 초미세먼지농도 & 월 & 일\\\\\n",
       " <dbl> & <chr> & <dbl> & <dbl> & <dbl> & <dbl> & <dbl> & <dbl> & <chr> & <chr>\\\\\n",
       "\\hline\n",
       "\t 20230101 & 강남구 & 0.024 & 0.024 & 0.6 & 0.004 & 52 & 36 & 01 & 01\\\\\n",
       "\t 20230101 & 강동구 & 0.027 & 0.017 & 0.7 & 0.003 & 56 & 43 & 01 & 01\\\\\n",
       "\t 20230101 & 강북구 &    NA & 0.026 & 0.7 & 0.004 & 51 & 34 & 01 & 01\\\\\n",
       "\\end{tabular}\n"
      ],
      "text/markdown": [
       "\n",
       "A tibble: 3 × 10\n",
       "\n",
       "| 측정일시 &lt;dbl&gt; | 측정소명 &lt;chr&gt; | 이산화질소농도 &lt;dbl&gt; | 오존농도 &lt;dbl&gt; | 일산화탄소농도 &lt;dbl&gt; | 아황산가스농도 &lt;dbl&gt; | 미세먼지농도 &lt;dbl&gt; | 초미세먼지농도 &lt;dbl&gt; | 월 &lt;chr&gt; | 일 &lt;chr&gt; |\n",
       "|---|---|---|---|---|---|---|---|---|---|\n",
       "| 20230101 | 강남구 | 0.024 | 0.024 | 0.6 | 0.004 | 52 | 36 | 01 | 01 |\n",
       "| 20230101 | 강동구 | 0.027 | 0.017 | 0.7 | 0.003 | 56 | 43 | 01 | 01 |\n",
       "| 20230101 | 강북구 |    NA | 0.026 | 0.7 | 0.004 | 51 | 34 | 01 | 01 |\n",
       "\n"
      ],
      "text/plain": [
       "  측정일시 측정소명 이산화질소농도 오존농도 일산화탄소농도 아황산가스농도\n",
       "1 20230101 강남구   0.024          0.024    0.6            0.004         \n",
       "2 20230101 강동구   0.027          0.017    0.7            0.003         \n",
       "3 20230101 강북구      NA          0.026    0.7            0.004         \n",
       "  미세먼지농도 초미세먼지농도 월 일\n",
       "1 52           36             01 01\n",
       "2 56           43             01 01\n",
       "3 51           34             01 01"
      ]
     },
     "metadata": {},
     "output_type": "display_data"
    }
   ],
   "source": [
    "# 서울시 대기오염 데이터\n",
    "\n",
    "data <- read_xlsx(\"../mydata/일별평균대기오염도_2023.xlsx\")\n",
    "head(data,3)"
   ]
  },
  {
   "cell_type": "code",
   "execution_count": 169,
   "metadata": {
    "vscode": {
     "languageId": "r"
    }
   },
   "outputs": [
    {
     "data": {
      "text/html": [
       "<table class=\"dataframe\">\n",
       "<caption>A tibble: 6 × 4</caption>\n",
       "<thead>\n",
       "\t<tr><th scope=col>측정소명</th><th scope=col>월</th><th scope=col>일</th><th scope=col>미세먼지농도</th></tr>\n",
       "\t<tr><th scope=col>&lt;chr&gt;</th><th scope=col>&lt;chr&gt;</th><th scope=col>&lt;chr&gt;</th><th scope=col>&lt;dbl&gt;</th></tr>\n",
       "</thead>\n",
       "<tbody>\n",
       "\t<tr><td>강남구</td><td>01</td><td>01</td><td>52</td></tr>\n",
       "\t<tr><td>강동구</td><td>01</td><td>01</td><td>56</td></tr>\n",
       "\t<tr><td>강북구</td><td>01</td><td>01</td><td>51</td></tr>\n",
       "\t<tr><td>강서구</td><td>01</td><td>01</td><td>62</td></tr>\n",
       "\t<tr><td>강남구</td><td>01</td><td>02</td><td>24</td></tr>\n",
       "\t<tr><td>강동구</td><td>01</td><td>02</td><td>26</td></tr>\n",
       "</tbody>\n",
       "</table>\n"
      ],
      "text/latex": [
       "A tibble: 6 × 4\n",
       "\\begin{tabular}{llll}\n",
       " 측정소명 & 월 & 일 & 미세먼지농도\\\\\n",
       " <chr> & <chr> & <chr> & <dbl>\\\\\n",
       "\\hline\n",
       "\t 강남구 & 01 & 01 & 52\\\\\n",
       "\t 강동구 & 01 & 01 & 56\\\\\n",
       "\t 강북구 & 01 & 01 & 51\\\\\n",
       "\t 강서구 & 01 & 01 & 62\\\\\n",
       "\t 강남구 & 01 & 02 & 24\\\\\n",
       "\t 강동구 & 01 & 02 & 26\\\\\n",
       "\\end{tabular}\n"
      ],
      "text/markdown": [
       "\n",
       "A tibble: 6 × 4\n",
       "\n",
       "| 측정소명 &lt;chr&gt; | 월 &lt;chr&gt; | 일 &lt;chr&gt; | 미세먼지농도 &lt;dbl&gt; |\n",
       "|---|---|---|---|\n",
       "| 강남구 | 01 | 01 | 52 |\n",
       "| 강동구 | 01 | 01 | 56 |\n",
       "| 강북구 | 01 | 01 | 51 |\n",
       "| 강서구 | 01 | 01 | 62 |\n",
       "| 강남구 | 01 | 02 | 24 |\n",
       "| 강동구 | 01 | 02 | 26 |\n",
       "\n"
      ],
      "text/plain": [
       "  측정소명 월 일 미세먼지농도\n",
       "1 강남구   01 01 52          \n",
       "2 강동구   01 01 56          \n",
       "3 강북구   01 01 51          \n",
       "4 강서구   01 01 62          \n",
       "5 강남구   01 02 24          \n",
       "6 강동구   01 02 26          "
      ]
     },
     "metadata": {},
     "output_type": "display_data"
    }
   ],
   "source": [
    "gang <- data %>%\n",
    "    filter(grepl(\"^강.*구$\", 측정소명)) %>%\n",
    "    select(측정소명, 월, 일, 미세먼지농도)\n",
    "head(gang)"
   ]
  },
  {
   "cell_type": "code",
   "execution_count": 170,
   "metadata": {
    "vscode": {
     "languageId": "r"
    }
   },
   "outputs": [
    {
     "data": {
      "text/plain": [
       "\n",
       "강남구 강동구 강북구 강서구 \n",
       "   365    365    365    365 "
      ]
     },
     "metadata": {},
     "output_type": "display_data"
    }
   ],
   "source": [
    "table(gang$측정소명)"
   ]
  },
  {
   "cell_type": "code",
   "execution_count": 171,
   "metadata": {
    "vscode": {
     "languageId": "r"
    }
   },
   "outputs": [
    {
     "data": {
      "text/plain": [
       "   측정소명              월                 일             미세먼지농도   \n",
       " Length:1460        Length:1460        Length:1460        Min.   :  3.00  \n",
       " Class :character   Class :character   Class :character   1st Qu.: 22.00  \n",
       " Mode  :character   Mode  :character   Mode  :character   Median : 33.00  \n",
       "                                                          Mean   : 39.12  \n",
       "                                                          3rd Qu.: 47.00  \n",
       "                                                          Max.   :286.00  \n",
       "                                                          NA's   :20      "
      ]
     },
     "metadata": {},
     "output_type": "display_data"
    }
   ],
   "source": [
    "summary(gang)"
   ]
  },
  {
   "cell_type": "code",
   "execution_count": 172,
   "metadata": {
    "vscode": {
     "languageId": "r"
    }
   },
   "outputs": [
    {
     "data": {
      "text/html": [
       "<table class=\"dataframe\">\n",
       "<caption>A tibble: 4 × 3</caption>\n",
       "<thead>\n",
       "\t<tr><th scope=col>측정소명</th><th scope=col>n()</th><th scope=col>mean(미세먼지농도)</th></tr>\n",
       "\t<tr><th scope=col>&lt;chr&gt;</th><th scope=col>&lt;int&gt;</th><th scope=col>&lt;dbl&gt;</th></tr>\n",
       "</thead>\n",
       "<tbody>\n",
       "\t<tr><td>강남구</td><td>365</td><td>37.26027</td></tr>\n",
       "\t<tr><td>강동구</td><td>365</td><td>      NA</td></tr>\n",
       "\t<tr><td>강북구</td><td>365</td><td>37.82192</td></tr>\n",
       "\t<tr><td>강서구</td><td>365</td><td>42.13425</td></tr>\n",
       "</tbody>\n",
       "</table>\n"
      ],
      "text/latex": [
       "A tibble: 4 × 3\n",
       "\\begin{tabular}{lll}\n",
       " 측정소명 & n() & mean(미세먼지농도)\\\\\n",
       " <chr> & <int> & <dbl>\\\\\n",
       "\\hline\n",
       "\t 강남구 & 365 & 37.26027\\\\\n",
       "\t 강동구 & 365 &       NA\\\\\n",
       "\t 강북구 & 365 & 37.82192\\\\\n",
       "\t 강서구 & 365 & 42.13425\\\\\n",
       "\\end{tabular}\n"
      ],
      "text/markdown": [
       "\n",
       "A tibble: 4 × 3\n",
       "\n",
       "| 측정소명 &lt;chr&gt; | n() &lt;int&gt; | mean(미세먼지농도) &lt;dbl&gt; |\n",
       "|---|---|---|\n",
       "| 강남구 | 365 | 37.26027 |\n",
       "| 강동구 | 365 |       NA |\n",
       "| 강북구 | 365 | 37.82192 |\n",
       "| 강서구 | 365 | 42.13425 |\n",
       "\n"
      ],
      "text/plain": [
       "  측정소명 n() mean(미세먼지농도)\n",
       "1 강남구   365 37.26027          \n",
       "2 강동구   365       NA          \n",
       "3 강북구   365 37.82192          \n",
       "4 강서구   365 42.13425          "
      ]
     },
     "metadata": {},
     "output_type": "display_data"
    }
   ],
   "source": [
    "grp <- group_by(gang, 측정소명)\n",
    "summarise(grp, n(), mean(미세먼지농도))"
   ]
  },
  {
   "cell_type": "code",
   "execution_count": 173,
   "metadata": {
    "vscode": {
     "languageId": "r"
    }
   },
   "outputs": [
    {
     "data": {
      "text/html": [
       "<table class=\"dataframe\">\n",
       "<caption>A tibble: 4 × 3</caption>\n",
       "<thead>\n",
       "\t<tr><th scope=col>측정소명</th><th scope=col>n()</th><th scope=col>mean(미세먼지농도, na.rm = T)</th></tr>\n",
       "\t<tr><th scope=col>&lt;chr&gt;</th><th scope=col>&lt;int&gt;</th><th scope=col>&lt;dbl&gt;</th></tr>\n",
       "</thead>\n",
       "<tbody>\n",
       "\t<tr><td>강남구</td><td>365</td><td>37.26027</td></tr>\n",
       "\t<tr><td>강동구</td><td>365</td><td>39.26667</td></tr>\n",
       "\t<tr><td>강북구</td><td>365</td><td>37.82192</td></tr>\n",
       "\t<tr><td>강서구</td><td>365</td><td>42.13425</td></tr>\n",
       "</tbody>\n",
       "</table>\n"
      ],
      "text/latex": [
       "A tibble: 4 × 3\n",
       "\\begin{tabular}{lll}\n",
       " 측정소명 & n() & mean(미세먼지농도, na.rm = T)\\\\\n",
       " <chr> & <int> & <dbl>\\\\\n",
       "\\hline\n",
       "\t 강남구 & 365 & 37.26027\\\\\n",
       "\t 강동구 & 365 & 39.26667\\\\\n",
       "\t 강북구 & 365 & 37.82192\\\\\n",
       "\t 강서구 & 365 & 42.13425\\\\\n",
       "\\end{tabular}\n"
      ],
      "text/markdown": [
       "\n",
       "A tibble: 4 × 3\n",
       "\n",
       "| 측정소명 &lt;chr&gt; | n() &lt;int&gt; | mean(미세먼지농도, na.rm = T) &lt;dbl&gt; |\n",
       "|---|---|---|\n",
       "| 강남구 | 365 | 37.26027 |\n",
       "| 강동구 | 365 | 39.26667 |\n",
       "| 강북구 | 365 | 37.82192 |\n",
       "| 강서구 | 365 | 42.13425 |\n",
       "\n"
      ],
      "text/plain": [
       "  측정소명 n() mean(미세먼지농도, na.rm = T)\n",
       "1 강남구   365 37.26027                     \n",
       "2 강동구   365 39.26667                     \n",
       "3 강북구   365 37.82192                     \n",
       "4 강서구   365 42.13425                     "
      ]
     },
     "metadata": {},
     "output_type": "display_data"
    }
   ],
   "source": [
    "summarise(grp, n(), mean(미세먼지농도, na.rm=T))"
   ]
  },
  {
   "cell_type": "code",
   "execution_count": 174,
   "metadata": {
    "vscode": {
     "languageId": "r"
    }
   },
   "outputs": [
    {
     "data": {
      "text/html": [
       "<table class=\"dataframe\">\n",
       "<caption>A tibble: 4 × 3</caption>\n",
       "<thead>\n",
       "\t<tr><th scope=col>측정소명</th><th scope=col>자료수</th><th scope=col>평균미세먼지농도</th></tr>\n",
       "\t<tr><th scope=col>&lt;chr&gt;</th><th scope=col>&lt;int&gt;</th><th scope=col>&lt;dbl&gt;</th></tr>\n",
       "</thead>\n",
       "<tbody>\n",
       "\t<tr><td>강남구</td><td>365</td><td>37.26027</td></tr>\n",
       "\t<tr><td>강동구</td><td>345</td><td>39.26667</td></tr>\n",
       "\t<tr><td>강북구</td><td>365</td><td>37.82192</td></tr>\n",
       "\t<tr><td>강서구</td><td>365</td><td>42.13425</td></tr>\n",
       "</tbody>\n",
       "</table>\n"
      ],
      "text/latex": [
       "A tibble: 4 × 3\n",
       "\\begin{tabular}{lll}\n",
       " 측정소명 & 자료수 & 평균미세먼지농도\\\\\n",
       " <chr> & <int> & <dbl>\\\\\n",
       "\\hline\n",
       "\t 강남구 & 365 & 37.26027\\\\\n",
       "\t 강동구 & 345 & 39.26667\\\\\n",
       "\t 강북구 & 365 & 37.82192\\\\\n",
       "\t 강서구 & 365 & 42.13425\\\\\n",
       "\\end{tabular}\n"
      ],
      "text/markdown": [
       "\n",
       "A tibble: 4 × 3\n",
       "\n",
       "| 측정소명 &lt;chr&gt; | 자료수 &lt;int&gt; | 평균미세먼지농도 &lt;dbl&gt; |\n",
       "|---|---|---|\n",
       "| 강남구 | 365 | 37.26027 |\n",
       "| 강동구 | 345 | 39.26667 |\n",
       "| 강북구 | 365 | 37.82192 |\n",
       "| 강서구 | 365 | 42.13425 |\n",
       "\n"
      ],
      "text/plain": [
       "  측정소명 자료수 평균미세먼지농도\n",
       "1 강남구   365    37.26027        \n",
       "2 강동구   345    39.26667        \n",
       "3 강북구   365    37.82192        \n",
       "4 강서구   365    42.13425        "
      ]
     },
     "metadata": {},
     "output_type": "display_data"
    }
   ],
   "source": [
    "summarise(grp, 자료수=sum(!is.na(미세먼지농도)), \n",
    "          평균미세먼지농도=mean(미세먼지농도, na.rm=T))"
   ]
  },
  {
   "cell_type": "code",
   "execution_count": 175,
   "metadata": {
    "vscode": {
     "languageId": "r"
    }
   },
   "outputs": [
    {
     "data": {
      "text/html": [
       "<table class=\"dataframe\">\n",
       "<caption>A tibble: 4 × 3</caption>\n",
       "<thead>\n",
       "\t<tr><th scope=col>측정소명</th><th scope=col>n()</th><th scope=col>mean(미세먼지농도)</th></tr>\n",
       "\t<tr><th scope=col>&lt;chr&gt;</th><th scope=col>&lt;int&gt;</th><th scope=col>&lt;dbl&gt;</th></tr>\n",
       "</thead>\n",
       "<tbody>\n",
       "\t<tr><td>강남구</td><td>365</td><td>37.26027</td></tr>\n",
       "\t<tr><td>강동구</td><td>345</td><td>39.26667</td></tr>\n",
       "\t<tr><td>강북구</td><td>365</td><td>37.82192</td></tr>\n",
       "\t<tr><td>강서구</td><td>365</td><td>42.13425</td></tr>\n",
       "</tbody>\n",
       "</table>\n"
      ],
      "text/latex": [
       "A tibble: 4 × 3\n",
       "\\begin{tabular}{lll}\n",
       " 측정소명 & n() & mean(미세먼지농도)\\\\\n",
       " <chr> & <int> & <dbl>\\\\\n",
       "\\hline\n",
       "\t 강남구 & 365 & 37.26027\\\\\n",
       "\t 강동구 & 345 & 39.26667\\\\\n",
       "\t 강북구 & 365 & 37.82192\\\\\n",
       "\t 강서구 & 365 & 42.13425\\\\\n",
       "\\end{tabular}\n"
      ],
      "text/markdown": [
       "\n",
       "A tibble: 4 × 3\n",
       "\n",
       "| 측정소명 &lt;chr&gt; | n() &lt;int&gt; | mean(미세먼지농도) &lt;dbl&gt; |\n",
       "|---|---|---|\n",
       "| 강남구 | 365 | 37.26027 |\n",
       "| 강동구 | 345 | 39.26667 |\n",
       "| 강북구 | 365 | 37.82192 |\n",
       "| 강서구 | 365 | 42.13425 |\n",
       "\n"
      ],
      "text/plain": [
       "  측정소명 n() mean(미세먼지농도)\n",
       "1 강남구   365 37.26027          \n",
       "2 강동구   345 39.26667          \n",
       "3 강북구   365 37.82192          \n",
       "4 강서구   365 42.13425          "
      ]
     },
     "metadata": {},
     "output_type": "display_data"
    }
   ],
   "source": [
    "gang %>%\n",
    "    na.omit() %>%\n",
    "    group_by(측정소명) %>%\n",
    "    summarise(n(), mean(미세먼지농도))"
   ]
  },
  {
   "cell_type": "code",
   "execution_count": 178,
   "metadata": {
    "vscode": {
     "languageId": "r"
    }
   },
   "outputs": [
    {
     "data": {
      "text/html": [
       "<table class=\"dataframe\">\n",
       "<caption>A tibble: 4 × 3</caption>\n",
       "<thead>\n",
       "\t<tr><th scope=col>측정소명</th><th scope=col>n()</th><th scope=col>mean(미세먼지농도)</th></tr>\n",
       "\t<tr><th scope=col>&lt;chr&gt;</th><th scope=col>&lt;int&gt;</th><th scope=col>&lt;dbl&gt;</th></tr>\n",
       "</thead>\n",
       "<tbody>\n",
       "\t<tr><td>관악구</td><td>363</td><td>41.61157</td></tr>\n",
       "\t<tr><td>광진구</td><td>364</td><td>36.31044</td></tr>\n",
       "\t<tr><td>도봉구</td><td>363</td><td>35.01653</td></tr>\n",
       "\t<tr><td>마포구</td><td>363</td><td>35.17080</td></tr>\n",
       "</tbody>\n",
       "</table>\n"
      ],
      "text/latex": [
       "A tibble: 4 × 3\n",
       "\\begin{tabular}{lll}\n",
       " 측정소명 & n() & mean(미세먼지농도)\\\\\n",
       " <chr> & <int> & <dbl>\\\\\n",
       "\\hline\n",
       "\t 관악구 & 363 & 41.61157\\\\\n",
       "\t 광진구 & 364 & 36.31044\\\\\n",
       "\t 도봉구 & 363 & 35.01653\\\\\n",
       "\t 마포구 & 363 & 35.17080\\\\\n",
       "\\end{tabular}\n"
      ],
      "text/markdown": [
       "\n",
       "A tibble: 4 × 3\n",
       "\n",
       "| 측정소명 &lt;chr&gt; | n() &lt;int&gt; | mean(미세먼지농도) &lt;dbl&gt; |\n",
       "|---|---|---|\n",
       "| 관악구 | 363 | 41.61157 |\n",
       "| 광진구 | 364 | 36.31044 |\n",
       "| 도봉구 | 363 | 35.01653 |\n",
       "| 마포구 | 363 | 35.17080 |\n",
       "\n"
      ],
      "text/plain": [
       "  측정소명 n() mean(미세먼지농도)\n",
       "1 관악구   363 41.61157          \n",
       "2 광진구   364 36.31044          \n",
       "3 도봉구   363 35.01653          \n",
       "4 마포구   363 35.17080          "
      ]
     },
     "metadata": {},
     "output_type": "display_data"
    }
   ],
   "source": [
    "road <- data %>%\n",
    "    filter(grepl(\"^[관광도마].*구$\", 측정소명)) %>%\n",
    "    select(측정소명, 월, 일, 미세먼지농도) %>%\n",
    "    na.omit() %>%\n",
    "    group_by(측정소명) %>%\n",
    "    summarise(n(), mean(미세먼지농도))\n",
    "road"
   ]
  },
  {
   "cell_type": "code",
   "execution_count": 179,
   "metadata": {
    "vscode": {
     "languageId": "r"
    }
   },
   "outputs": [],
   "source": [
    "library(reshape2)\n",
    "library(dplyr)\n",
    "library(readxl)"
   ]
  },
  {
   "cell_type": "code",
   "execution_count": 180,
   "metadata": {
    "vscode": {
     "languageId": "r"
    }
   },
   "outputs": [
    {
     "data": {
      "text/html": [
       "<table class=\"dataframe\">\n",
       "<caption>A tibble: 6 × 10</caption>\n",
       "<thead>\n",
       "\t<tr><th scope=col>측정일시</th><th scope=col>측정소명</th><th scope=col>이산화질소농도</th><th scope=col>오존농도</th><th scope=col>일산화탄소농도</th><th scope=col>아황산가스농도</th><th scope=col>미세먼지농도</th><th scope=col>초미세먼지농도</th><th scope=col>월</th><th scope=col>일</th></tr>\n",
       "\t<tr><th scope=col>&lt;dbl&gt;</th><th scope=col>&lt;chr&gt;</th><th scope=col>&lt;dbl&gt;</th><th scope=col>&lt;dbl&gt;</th><th scope=col>&lt;dbl&gt;</th><th scope=col>&lt;dbl&gt;</th><th scope=col>&lt;dbl&gt;</th><th scope=col>&lt;dbl&gt;</th><th scope=col>&lt;chr&gt;</th><th scope=col>&lt;chr&gt;</th></tr>\n",
       "</thead>\n",
       "<tbody>\n",
       "\t<tr><td>20230101</td><td>강남구</td><td>0.0240</td><td>0.0240</td><td>0.60</td><td>0.0040</td><td>52</td><td>36</td><td>01</td><td>01</td></tr>\n",
       "\t<tr><td>20230101</td><td>강동구</td><td>0.0270</td><td>0.0170</td><td>0.70</td><td>0.0030</td><td>56</td><td>43</td><td>01</td><td>01</td></tr>\n",
       "\t<tr><td>20230101</td><td>강북구</td><td>    NA</td><td>0.0260</td><td>0.70</td><td>0.0040</td><td>51</td><td>34</td><td>01</td><td>01</td></tr>\n",
       "\t<tr><td>20230101</td><td>강서구</td><td>0.0210</td><td>0.0250</td><td>0.60</td><td>0.0040</td><td>62</td><td>38</td><td>01</td><td>01</td></tr>\n",
       "\t<tr><td>20230101</td><td>관악구</td><td>0.0250</td><td>0.0200</td><td>0.60</td><td>0.0030</td><td>54</td><td>35</td><td>01</td><td>01</td></tr>\n",
       "\t<tr><td>20230101</td><td>광진구</td><td>0.0175</td><td>0.0176</td><td>0.79</td><td>0.0026</td><td>48</td><td>36</td><td>01</td><td>01</td></tr>\n",
       "</tbody>\n",
       "</table>\n"
      ],
      "text/latex": [
       "A tibble: 6 × 10\n",
       "\\begin{tabular}{llllllllll}\n",
       " 측정일시 & 측정소명 & 이산화질소농도 & 오존농도 & 일산화탄소농도 & 아황산가스농도 & 미세먼지농도 & 초미세먼지농도 & 월 & 일\\\\\n",
       " <dbl> & <chr> & <dbl> & <dbl> & <dbl> & <dbl> & <dbl> & <dbl> & <chr> & <chr>\\\\\n",
       "\\hline\n",
       "\t 20230101 & 강남구 & 0.0240 & 0.0240 & 0.60 & 0.0040 & 52 & 36 & 01 & 01\\\\\n",
       "\t 20230101 & 강동구 & 0.0270 & 0.0170 & 0.70 & 0.0030 & 56 & 43 & 01 & 01\\\\\n",
       "\t 20230101 & 강북구 &     NA & 0.0260 & 0.70 & 0.0040 & 51 & 34 & 01 & 01\\\\\n",
       "\t 20230101 & 강서구 & 0.0210 & 0.0250 & 0.60 & 0.0040 & 62 & 38 & 01 & 01\\\\\n",
       "\t 20230101 & 관악구 & 0.0250 & 0.0200 & 0.60 & 0.0030 & 54 & 35 & 01 & 01\\\\\n",
       "\t 20230101 & 광진구 & 0.0175 & 0.0176 & 0.79 & 0.0026 & 48 & 36 & 01 & 01\\\\\n",
       "\\end{tabular}\n"
      ],
      "text/markdown": [
       "\n",
       "A tibble: 6 × 10\n",
       "\n",
       "| 측정일시 &lt;dbl&gt; | 측정소명 &lt;chr&gt; | 이산화질소농도 &lt;dbl&gt; | 오존농도 &lt;dbl&gt; | 일산화탄소농도 &lt;dbl&gt; | 아황산가스농도 &lt;dbl&gt; | 미세먼지농도 &lt;dbl&gt; | 초미세먼지농도 &lt;dbl&gt; | 월 &lt;chr&gt; | 일 &lt;chr&gt; |\n",
       "|---|---|---|---|---|---|---|---|---|---|\n",
       "| 20230101 | 강남구 | 0.0240 | 0.0240 | 0.60 | 0.0040 | 52 | 36 | 01 | 01 |\n",
       "| 20230101 | 강동구 | 0.0270 | 0.0170 | 0.70 | 0.0030 | 56 | 43 | 01 | 01 |\n",
       "| 20230101 | 강북구 |     NA | 0.0260 | 0.70 | 0.0040 | 51 | 34 | 01 | 01 |\n",
       "| 20230101 | 강서구 | 0.0210 | 0.0250 | 0.60 | 0.0040 | 62 | 38 | 01 | 01 |\n",
       "| 20230101 | 관악구 | 0.0250 | 0.0200 | 0.60 | 0.0030 | 54 | 35 | 01 | 01 |\n",
       "| 20230101 | 광진구 | 0.0175 | 0.0176 | 0.79 | 0.0026 | 48 | 36 | 01 | 01 |\n",
       "\n"
      ],
      "text/plain": [
       "  측정일시 측정소명 이산화질소농도 오존농도 일산화탄소농도 아황산가스농도\n",
       "1 20230101 강남구   0.0240         0.0240   0.60           0.0040        \n",
       "2 20230101 강동구   0.0270         0.0170   0.70           0.0030        \n",
       "3 20230101 강북구       NA         0.0260   0.70           0.0040        \n",
       "4 20230101 강서구   0.0210         0.0250   0.60           0.0040        \n",
       "5 20230101 관악구   0.0250         0.0200   0.60           0.0030        \n",
       "6 20230101 광진구   0.0175         0.0176   0.79           0.0026        \n",
       "  미세먼지농도 초미세먼지농도 월 일\n",
       "1 52           36             01 01\n",
       "2 56           43             01 01\n",
       "3 51           34             01 01\n",
       "4 62           38             01 01\n",
       "5 54           35             01 01\n",
       "6 48           36             01 01"
      ]
     },
     "metadata": {},
     "output_type": "display_data"
    }
   ],
   "source": [
    "data <- read_xlsx(\"../mydata/일별평균대기오염도_2023.xlsx\")\n",
    "head(data)"
   ]
  },
  {
   "cell_type": "code",
   "execution_count": 181,
   "metadata": {
    "vscode": {
     "languageId": "r"
    }
   },
   "outputs": [
    {
     "data": {
      "text/html": [
       "<table class=\"dataframe\">\n",
       "<caption>A tibble: 6 × 3</caption>\n",
       "<thead>\n",
       "\t<tr><th scope=col>측정소명</th><th scope=col>월</th><th scope=col>초미세먼지농도</th></tr>\n",
       "\t<tr><th scope=col>&lt;chr&gt;</th><th scope=col>&lt;chr&gt;</th><th scope=col>&lt;dbl&gt;</th></tr>\n",
       "</thead>\n",
       "<tbody>\n",
       "\t<tr><td>강남구</td><td>01</td><td>36</td></tr>\n",
       "\t<tr><td>강동구</td><td>01</td><td>43</td></tr>\n",
       "\t<tr><td>강북구</td><td>01</td><td>34</td></tr>\n",
       "\t<tr><td>강서구</td><td>01</td><td>38</td></tr>\n",
       "\t<tr><td>중구  </td><td>01</td><td>46</td></tr>\n",
       "\t<tr><td>강남구</td><td>01</td><td>11</td></tr>\n",
       "</tbody>\n",
       "</table>\n"
      ],
      "text/latex": [
       "A tibble: 6 × 3\n",
       "\\begin{tabular}{lll}\n",
       " 측정소명 & 월 & 초미세먼지농도\\\\\n",
       " <chr> & <chr> & <dbl>\\\\\n",
       "\\hline\n",
       "\t 강남구 & 01 & 36\\\\\n",
       "\t 강동구 & 01 & 43\\\\\n",
       "\t 강북구 & 01 & 34\\\\\n",
       "\t 강서구 & 01 & 38\\\\\n",
       "\t 중구   & 01 & 46\\\\\n",
       "\t 강남구 & 01 & 11\\\\\n",
       "\\end{tabular}\n"
      ],
      "text/markdown": [
       "\n",
       "A tibble: 6 × 3\n",
       "\n",
       "| 측정소명 &lt;chr&gt; | 월 &lt;chr&gt; | 초미세먼지농도 &lt;dbl&gt; |\n",
       "|---|---|---|\n",
       "| 강남구 | 01 | 36 |\n",
       "| 강동구 | 01 | 43 |\n",
       "| 강북구 | 01 | 34 |\n",
       "| 강서구 | 01 | 38 |\n",
       "| 중구   | 01 | 46 |\n",
       "| 강남구 | 01 | 11 |\n",
       "\n"
      ],
      "text/plain": [
       "  측정소명 월 초미세먼지농도\n",
       "1 강남구   01 36            \n",
       "2 강동구   01 43            \n",
       "3 강북구   01 34            \n",
       "4 강서구   01 38            \n",
       "5 중구     01 46            \n",
       "6 강남구   01 11            "
      ]
     },
     "metadata": {},
     "output_type": "display_data"
    }
   ],
   "source": [
    "news <- data %>%\n",
    "    filter(grepl(\"강.구|중구\", 측정소명)) %>%\n",
    "    select(측정소명, 월, 초미세먼지농도)\n",
    "head(news)"
   ]
  },
  {
   "cell_type": "code",
   "execution_count": 182,
   "metadata": {
    "vscode": {
     "languageId": "r"
    }
   },
   "outputs": [
    {
     "data": {
      "text/html": [
       "<table class=\"dataframe\">\n",
       "<caption>A tibble: 5 × 3</caption>\n",
       "<thead>\n",
       "\t<tr><th scope=col>측정소명</th><th scope=col>N</th><th scope=col>PM25평균</th></tr>\n",
       "\t<tr><th scope=col>&lt;chr&gt;</th><th scope=col>&lt;int&gt;</th><th scope=col>&lt;dbl&gt;</th></tr>\n",
       "</thead>\n",
       "<tbody>\n",
       "\t<tr><td>강남구</td><td>365</td><td>19.39178</td></tr>\n",
       "\t<tr><td>강동구</td><td>348</td><td>20.26149</td></tr>\n",
       "\t<tr><td>강북구</td><td>365</td><td>19.26575</td></tr>\n",
       "\t<tr><td>강서구</td><td>365</td><td>19.23562</td></tr>\n",
       "\t<tr><td>중구  </td><td>321</td><td>19.47975</td></tr>\n",
       "</tbody>\n",
       "</table>\n"
      ],
      "text/latex": [
       "A tibble: 5 × 3\n",
       "\\begin{tabular}{lll}\n",
       " 측정소명 & N & PM25평균\\\\\n",
       " <chr> & <int> & <dbl>\\\\\n",
       "\\hline\n",
       "\t 강남구 & 365 & 19.39178\\\\\n",
       "\t 강동구 & 348 & 20.26149\\\\\n",
       "\t 강북구 & 365 & 19.26575\\\\\n",
       "\t 강서구 & 365 & 19.23562\\\\\n",
       "\t 중구   & 321 & 19.47975\\\\\n",
       "\\end{tabular}\n"
      ],
      "text/markdown": [
       "\n",
       "A tibble: 5 × 3\n",
       "\n",
       "| 측정소명 &lt;chr&gt; | N &lt;int&gt; | PM25평균 &lt;dbl&gt; |\n",
       "|---|---|---|\n",
       "| 강남구 | 365 | 19.39178 |\n",
       "| 강동구 | 348 | 20.26149 |\n",
       "| 강북구 | 365 | 19.26575 |\n",
       "| 강서구 | 365 | 19.23562 |\n",
       "| 중구   | 321 | 19.47975 |\n",
       "\n"
      ],
      "text/plain": [
       "  측정소명 N   PM25평균\n",
       "1 강남구   365 19.39178\n",
       "2 강동구   348 20.26149\n",
       "3 강북구   365 19.26575\n",
       "4 강서구   365 19.23562\n",
       "5 중구     321 19.47975"
      ]
     },
     "metadata": {},
     "output_type": "display_data"
    }
   ],
   "source": [
    "grp <- group_by(news, 측정소명) \n",
    "summarise(grp, N=sum(!is.na(초미세먼지농도)),\n",
    "          PM25평균=mean(초미세먼지농도, na.rm=T))"
   ]
  },
  {
   "cell_type": "code",
   "execution_count": 183,
   "metadata": {
    "vscode": {
     "languageId": "r"
    }
   },
   "outputs": [
    {
     "data": {
      "text/html": [
       "<table class=\"dataframe\">\n",
       "<caption>A tibble: 12 × 3</caption>\n",
       "<thead>\n",
       "\t<tr><th scope=col>월</th><th scope=col>N</th><th scope=col>PM25평균</th></tr>\n",
       "\t<tr><th scope=col>&lt;chr&gt;</th><th scope=col>&lt;int&gt;</th><th scope=col>&lt;dbl&gt;</th></tr>\n",
       "</thead>\n",
       "<tbody>\n",
       "\t<tr><td>01</td><td>133</td><td>27.24060</td></tr>\n",
       "\t<tr><td>02</td><td>119</td><td>30.43697</td></tr>\n",
       "\t<tr><td>03</td><td>155</td><td>29.98065</td></tr>\n",
       "\t<tr><td>04</td><td>150</td><td>20.36000</td></tr>\n",
       "\t<tr><td>05</td><td>155</td><td>17.78710</td></tr>\n",
       "\t<tr><td>06</td><td>150</td><td>16.95333</td></tr>\n",
       "\t<tr><td>07</td><td>155</td><td>17.11613</td></tr>\n",
       "\t<tr><td>08</td><td>154</td><td>13.87662</td></tr>\n",
       "\t<tr><td>09</td><td>138</td><td>11.72464</td></tr>\n",
       "\t<tr><td>10</td><td>150</td><td>14.88000</td></tr>\n",
       "\t<tr><td>11</td><td>150</td><td>16.04000</td></tr>\n",
       "\t<tr><td>12</td><td>155</td><td>20.27742</td></tr>\n",
       "</tbody>\n",
       "</table>\n"
      ],
      "text/latex": [
       "A tibble: 12 × 3\n",
       "\\begin{tabular}{lll}\n",
       " 월 & N & PM25평균\\\\\n",
       " <chr> & <int> & <dbl>\\\\\n",
       "\\hline\n",
       "\t 01 & 133 & 27.24060\\\\\n",
       "\t 02 & 119 & 30.43697\\\\\n",
       "\t 03 & 155 & 29.98065\\\\\n",
       "\t 04 & 150 & 20.36000\\\\\n",
       "\t 05 & 155 & 17.78710\\\\\n",
       "\t 06 & 150 & 16.95333\\\\\n",
       "\t 07 & 155 & 17.11613\\\\\n",
       "\t 08 & 154 & 13.87662\\\\\n",
       "\t 09 & 138 & 11.72464\\\\\n",
       "\t 10 & 150 & 14.88000\\\\\n",
       "\t 11 & 150 & 16.04000\\\\\n",
       "\t 12 & 155 & 20.27742\\\\\n",
       "\\end{tabular}\n"
      ],
      "text/markdown": [
       "\n",
       "A tibble: 12 × 3\n",
       "\n",
       "| 월 &lt;chr&gt; | N &lt;int&gt; | PM25평균 &lt;dbl&gt; |\n",
       "|---|---|---|\n",
       "| 01 | 133 | 27.24060 |\n",
       "| 02 | 119 | 30.43697 |\n",
       "| 03 | 155 | 29.98065 |\n",
       "| 04 | 150 | 20.36000 |\n",
       "| 05 | 155 | 17.78710 |\n",
       "| 06 | 150 | 16.95333 |\n",
       "| 07 | 155 | 17.11613 |\n",
       "| 08 | 154 | 13.87662 |\n",
       "| 09 | 138 | 11.72464 |\n",
       "| 10 | 150 | 14.88000 |\n",
       "| 11 | 150 | 16.04000 |\n",
       "| 12 | 155 | 20.27742 |\n",
       "\n"
      ],
      "text/plain": [
       "   월 N   PM25평균\n",
       "1  01 133 27.24060\n",
       "2  02 119 30.43697\n",
       "3  03 155 29.98065\n",
       "4  04 150 20.36000\n",
       "5  05 155 17.78710\n",
       "6  06 150 16.95333\n",
       "7  07 155 17.11613\n",
       "8  08 154 13.87662\n",
       "9  09 138 11.72464\n",
       "10 10 150 14.88000\n",
       "11 11 150 16.04000\n",
       "12 12 155 20.27742"
      ]
     },
     "metadata": {},
     "output_type": "display_data"
    }
   ],
   "source": [
    "grp <- group_by(news, 월) \n",
    "summarise(grp, N=sum(!is.na(초미세먼지농도)),\n",
    "          PM25평균=mean(초미세먼지농도, na.rm=T))"
   ]
  },
  {
   "cell_type": "code",
   "execution_count": 184,
   "metadata": {
    "vscode": {
     "languageId": "r"
    }
   },
   "outputs": [
    {
     "data": {
      "text/html": [
       "<table class=\"dataframe\">\n",
       "<caption>A data.frame: 13 × 7</caption>\n",
       "<thead>\n",
       "\t<tr><th scope=col>월</th><th scope=col>강남구</th><th scope=col>강동구</th><th scope=col>강북구</th><th scope=col>강서구</th><th scope=col>중구</th><th scope=col>(all)</th></tr>\n",
       "\t<tr><th scope=col>&lt;fct&gt;</th><th scope=col>&lt;dbl&gt;</th><th scope=col>&lt;dbl&gt;</th><th scope=col>&lt;dbl&gt;</th><th scope=col>&lt;dbl&gt;</th><th scope=col>&lt;dbl&gt;</th><th scope=col>&lt;dbl&gt;</th></tr>\n",
       "</thead>\n",
       "<tbody>\n",
       "\t<tr><td>01   </td><td>25.03226</td><td>28.16129</td><td>24.58065</td><td>25.16129</td><td>48.00000</td><td>27.24060</td></tr>\n",
       "\t<tr><td>02   </td><td>27.85714</td><td>31.50000</td><td>31.64286</td><td>30.60714</td><td>31.00000</td><td>30.43697</td></tr>\n",
       "\t<tr><td>03   </td><td>26.61290</td><td>30.58065</td><td>29.41935</td><td>31.67742</td><td>31.61290</td><td>29.98065</td></tr>\n",
       "\t<tr><td>04   </td><td>19.30000</td><td>20.53333</td><td>20.73333</td><td>20.63333</td><td>20.60000</td><td>20.36000</td></tr>\n",
       "\t<tr><td>05   </td><td>17.58065</td><td>17.96774</td><td>17.22581</td><td>18.45161</td><td>17.70968</td><td>17.78710</td></tr>\n",
       "\t<tr><td>06   </td><td>18.20000</td><td>16.50000</td><td>16.43333</td><td>16.93333</td><td>16.70000</td><td>16.95333</td></tr>\n",
       "\t<tr><td>07   </td><td>18.48387</td><td>15.29032</td><td>17.61290</td><td>16.64516</td><td>17.54839</td><td>17.11613</td></tr>\n",
       "\t<tr><td>08   </td><td>14.90323</td><td>13.64516</td><td>13.80645</td><td>13.22581</td><td>13.80000</td><td>13.87662</td></tr>\n",
       "\t<tr><td>09   </td><td>12.63333</td><td>12.44444</td><td>10.90000</td><td>11.56667</td><td>11.36667</td><td>11.72464</td></tr>\n",
       "\t<tr><td>10   </td><td>15.35484</td><td>18.23077</td><td>13.74194</td><td>12.96774</td><td>14.64516</td><td>14.88000</td></tr>\n",
       "\t<tr><td>11   </td><td>16.80000</td><td>15.63333</td><td>15.76667</td><td>14.73333</td><td>17.26667</td><td>16.04000</td></tr>\n",
       "\t<tr><td>12   </td><td>20.41935</td><td>19.87097</td><td>20.09677</td><td>18.90323</td><td>22.09677</td><td>20.27742</td></tr>\n",
       "\t<tr><td>(all)</td><td>19.39178</td><td>20.26149</td><td>19.26575</td><td>19.23562</td><td>19.47975</td><td>19.52098</td></tr>\n",
       "</tbody>\n",
       "</table>\n"
      ],
      "text/latex": [
       "A data.frame: 13 × 7\n",
       "\\begin{tabular}{lllllll}\n",
       " 월 & 강남구 & 강동구 & 강북구 & 강서구 & 중구 & (all)\\\\\n",
       " <fct> & <dbl> & <dbl> & <dbl> & <dbl> & <dbl> & <dbl>\\\\\n",
       "\\hline\n",
       "\t 01    & 25.03226 & 28.16129 & 24.58065 & 25.16129 & 48.00000 & 27.24060\\\\\n",
       "\t 02    & 27.85714 & 31.50000 & 31.64286 & 30.60714 & 31.00000 & 30.43697\\\\\n",
       "\t 03    & 26.61290 & 30.58065 & 29.41935 & 31.67742 & 31.61290 & 29.98065\\\\\n",
       "\t 04    & 19.30000 & 20.53333 & 20.73333 & 20.63333 & 20.60000 & 20.36000\\\\\n",
       "\t 05    & 17.58065 & 17.96774 & 17.22581 & 18.45161 & 17.70968 & 17.78710\\\\\n",
       "\t 06    & 18.20000 & 16.50000 & 16.43333 & 16.93333 & 16.70000 & 16.95333\\\\\n",
       "\t 07    & 18.48387 & 15.29032 & 17.61290 & 16.64516 & 17.54839 & 17.11613\\\\\n",
       "\t 08    & 14.90323 & 13.64516 & 13.80645 & 13.22581 & 13.80000 & 13.87662\\\\\n",
       "\t 09    & 12.63333 & 12.44444 & 10.90000 & 11.56667 & 11.36667 & 11.72464\\\\\n",
       "\t 10    & 15.35484 & 18.23077 & 13.74194 & 12.96774 & 14.64516 & 14.88000\\\\\n",
       "\t 11    & 16.80000 & 15.63333 & 15.76667 & 14.73333 & 17.26667 & 16.04000\\\\\n",
       "\t 12    & 20.41935 & 19.87097 & 20.09677 & 18.90323 & 22.09677 & 20.27742\\\\\n",
       "\t (all) & 19.39178 & 20.26149 & 19.26575 & 19.23562 & 19.47975 & 19.52098\\\\\n",
       "\\end{tabular}\n"
      ],
      "text/markdown": [
       "\n",
       "A data.frame: 13 × 7\n",
       "\n",
       "| 월 &lt;fct&gt; | 강남구 &lt;dbl&gt; | 강동구 &lt;dbl&gt; | 강북구 &lt;dbl&gt; | 강서구 &lt;dbl&gt; | 중구 &lt;dbl&gt; | (all) &lt;dbl&gt; |\n",
       "|---|---|---|---|---|---|---|\n",
       "| 01    | 25.03226 | 28.16129 | 24.58065 | 25.16129 | 48.00000 | 27.24060 |\n",
       "| 02    | 27.85714 | 31.50000 | 31.64286 | 30.60714 | 31.00000 | 30.43697 |\n",
       "| 03    | 26.61290 | 30.58065 | 29.41935 | 31.67742 | 31.61290 | 29.98065 |\n",
       "| 04    | 19.30000 | 20.53333 | 20.73333 | 20.63333 | 20.60000 | 20.36000 |\n",
       "| 05    | 17.58065 | 17.96774 | 17.22581 | 18.45161 | 17.70968 | 17.78710 |\n",
       "| 06    | 18.20000 | 16.50000 | 16.43333 | 16.93333 | 16.70000 | 16.95333 |\n",
       "| 07    | 18.48387 | 15.29032 | 17.61290 | 16.64516 | 17.54839 | 17.11613 |\n",
       "| 08    | 14.90323 | 13.64516 | 13.80645 | 13.22581 | 13.80000 | 13.87662 |\n",
       "| 09    | 12.63333 | 12.44444 | 10.90000 | 11.56667 | 11.36667 | 11.72464 |\n",
       "| 10    | 15.35484 | 18.23077 | 13.74194 | 12.96774 | 14.64516 | 14.88000 |\n",
       "| 11    | 16.80000 | 15.63333 | 15.76667 | 14.73333 | 17.26667 | 16.04000 |\n",
       "| 12    | 20.41935 | 19.87097 | 20.09677 | 18.90323 | 22.09677 | 20.27742 |\n",
       "| (all) | 19.39178 | 20.26149 | 19.26575 | 19.23562 | 19.47975 | 19.52098 |\n",
       "\n"
      ],
      "text/plain": [
       "   월    강남구   강동구   강북구   강서구   중구     (all)   \n",
       "1  01    25.03226 28.16129 24.58065 25.16129 48.00000 27.24060\n",
       "2  02    27.85714 31.50000 31.64286 30.60714 31.00000 30.43697\n",
       "3  03    26.61290 30.58065 29.41935 31.67742 31.61290 29.98065\n",
       "4  04    19.30000 20.53333 20.73333 20.63333 20.60000 20.36000\n",
       "5  05    17.58065 17.96774 17.22581 18.45161 17.70968 17.78710\n",
       "6  06    18.20000 16.50000 16.43333 16.93333 16.70000 16.95333\n",
       "7  07    18.48387 15.29032 17.61290 16.64516 17.54839 17.11613\n",
       "8  08    14.90323 13.64516 13.80645 13.22581 13.80000 13.87662\n",
       "9  09    12.63333 12.44444 10.90000 11.56667 11.36667 11.72464\n",
       "10 10    15.35484 18.23077 13.74194 12.96774 14.64516 14.88000\n",
       "11 11    16.80000 15.63333 15.76667 14.73333 17.26667 16.04000\n",
       "12 12    20.41935 19.87097 20.09677 18.90323 22.09677 20.27742\n",
       "13 (all) 19.39178 20.26149 19.26575 19.23562 19.47975 19.52098"
      ]
     },
     "metadata": {},
     "output_type": "display_data"
    }
   ],
   "source": [
    "dcast(news, 월 ~ 측정소명, value.var=\"초미세먼지농도\", mean, margins=T, na.rm=T)"
   ]
  },
  {
   "cell_type": "code",
   "execution_count": 185,
   "metadata": {
    "vscode": {
     "languageId": "r"
    }
   },
   "outputs": [
    {
     "data": {
      "text/html": [
       "<table class=\"dataframe\">\n",
       "<caption>A data.frame: 6 × 14</caption>\n",
       "<thead>\n",
       "\t<tr><th scope=col>측정소명</th><th scope=col>01</th><th scope=col>02</th><th scope=col>03</th><th scope=col>04</th><th scope=col>05</th><th scope=col>06</th><th scope=col>07</th><th scope=col>08</th><th scope=col>09</th><th scope=col>10</th><th scope=col>11</th><th scope=col>12</th><th scope=col>(all)</th></tr>\n",
       "\t<tr><th scope=col>&lt;fct&gt;</th><th scope=col>&lt;dbl&gt;</th><th scope=col>&lt;dbl&gt;</th><th scope=col>&lt;dbl&gt;</th><th scope=col>&lt;dbl&gt;</th><th scope=col>&lt;dbl&gt;</th><th scope=col>&lt;dbl&gt;</th><th scope=col>&lt;dbl&gt;</th><th scope=col>&lt;dbl&gt;</th><th scope=col>&lt;dbl&gt;</th><th scope=col>&lt;dbl&gt;</th><th scope=col>&lt;dbl&gt;</th><th scope=col>&lt;dbl&gt;</th><th scope=col>&lt;dbl&gt;</th></tr>\n",
       "</thead>\n",
       "<tbody>\n",
       "\t<tr><td>강남구</td><td>25.03226</td><td>27.85714</td><td>26.61290</td><td>19.30000</td><td>17.58065</td><td>18.20000</td><td>18.48387</td><td>14.90323</td><td>12.63333</td><td>15.35484</td><td>16.80000</td><td>20.41935</td><td>19.39178</td></tr>\n",
       "\t<tr><td>강동구</td><td>28.16129</td><td>31.50000</td><td>30.58065</td><td>20.53333</td><td>17.96774</td><td>16.50000</td><td>15.29032</td><td>13.64516</td><td>12.44444</td><td>18.23077</td><td>15.63333</td><td>19.87097</td><td>20.26149</td></tr>\n",
       "\t<tr><td>강북구</td><td>24.58065</td><td>31.64286</td><td>29.41935</td><td>20.73333</td><td>17.22581</td><td>16.43333</td><td>17.61290</td><td>13.80645</td><td>10.90000</td><td>13.74194</td><td>15.76667</td><td>20.09677</td><td>19.26575</td></tr>\n",
       "\t<tr><td>강서구</td><td>25.16129</td><td>30.60714</td><td>31.67742</td><td>20.63333</td><td>18.45161</td><td>16.93333</td><td>16.64516</td><td>13.22581</td><td>11.56667</td><td>12.96774</td><td>14.73333</td><td>18.90323</td><td>19.23562</td></tr>\n",
       "\t<tr><td>중구  </td><td>48.00000</td><td>31.00000</td><td>31.61290</td><td>20.60000</td><td>17.70968</td><td>16.70000</td><td>17.54839</td><td>13.80000</td><td>11.36667</td><td>14.64516</td><td>17.26667</td><td>22.09677</td><td>19.47975</td></tr>\n",
       "\t<tr><td>(all) </td><td>27.24060</td><td>30.43697</td><td>29.98065</td><td>20.36000</td><td>17.78710</td><td>16.95333</td><td>17.11613</td><td>13.87662</td><td>11.72464</td><td>14.88000</td><td>16.04000</td><td>20.27742</td><td>19.52098</td></tr>\n",
       "</tbody>\n",
       "</table>\n"
      ],
      "text/latex": [
       "A data.frame: 6 × 14\n",
       "\\begin{tabular}{llllllllllllll}\n",
       " 측정소명 & 01 & 02 & 03 & 04 & 05 & 06 & 07 & 08 & 09 & 10 & 11 & 12 & (all)\\\\\n",
       " <fct> & <dbl> & <dbl> & <dbl> & <dbl> & <dbl> & <dbl> & <dbl> & <dbl> & <dbl> & <dbl> & <dbl> & <dbl> & <dbl>\\\\\n",
       "\\hline\n",
       "\t 강남구 & 25.03226 & 27.85714 & 26.61290 & 19.30000 & 17.58065 & 18.20000 & 18.48387 & 14.90323 & 12.63333 & 15.35484 & 16.80000 & 20.41935 & 19.39178\\\\\n",
       "\t 강동구 & 28.16129 & 31.50000 & 30.58065 & 20.53333 & 17.96774 & 16.50000 & 15.29032 & 13.64516 & 12.44444 & 18.23077 & 15.63333 & 19.87097 & 20.26149\\\\\n",
       "\t 강북구 & 24.58065 & 31.64286 & 29.41935 & 20.73333 & 17.22581 & 16.43333 & 17.61290 & 13.80645 & 10.90000 & 13.74194 & 15.76667 & 20.09677 & 19.26575\\\\\n",
       "\t 강서구 & 25.16129 & 30.60714 & 31.67742 & 20.63333 & 18.45161 & 16.93333 & 16.64516 & 13.22581 & 11.56667 & 12.96774 & 14.73333 & 18.90323 & 19.23562\\\\\n",
       "\t 중구   & 48.00000 & 31.00000 & 31.61290 & 20.60000 & 17.70968 & 16.70000 & 17.54839 & 13.80000 & 11.36667 & 14.64516 & 17.26667 & 22.09677 & 19.47975\\\\\n",
       "\t (all)  & 27.24060 & 30.43697 & 29.98065 & 20.36000 & 17.78710 & 16.95333 & 17.11613 & 13.87662 & 11.72464 & 14.88000 & 16.04000 & 20.27742 & 19.52098\\\\\n",
       "\\end{tabular}\n"
      ],
      "text/markdown": [
       "\n",
       "A data.frame: 6 × 14\n",
       "\n",
       "| 측정소명 &lt;fct&gt; | 01 &lt;dbl&gt; | 02 &lt;dbl&gt; | 03 &lt;dbl&gt; | 04 &lt;dbl&gt; | 05 &lt;dbl&gt; | 06 &lt;dbl&gt; | 07 &lt;dbl&gt; | 08 &lt;dbl&gt; | 09 &lt;dbl&gt; | 10 &lt;dbl&gt; | 11 &lt;dbl&gt; | 12 &lt;dbl&gt; | (all) &lt;dbl&gt; |\n",
       "|---|---|---|---|---|---|---|---|---|---|---|---|---|---|\n",
       "| 강남구 | 25.03226 | 27.85714 | 26.61290 | 19.30000 | 17.58065 | 18.20000 | 18.48387 | 14.90323 | 12.63333 | 15.35484 | 16.80000 | 20.41935 | 19.39178 |\n",
       "| 강동구 | 28.16129 | 31.50000 | 30.58065 | 20.53333 | 17.96774 | 16.50000 | 15.29032 | 13.64516 | 12.44444 | 18.23077 | 15.63333 | 19.87097 | 20.26149 |\n",
       "| 강북구 | 24.58065 | 31.64286 | 29.41935 | 20.73333 | 17.22581 | 16.43333 | 17.61290 | 13.80645 | 10.90000 | 13.74194 | 15.76667 | 20.09677 | 19.26575 |\n",
       "| 강서구 | 25.16129 | 30.60714 | 31.67742 | 20.63333 | 18.45161 | 16.93333 | 16.64516 | 13.22581 | 11.56667 | 12.96774 | 14.73333 | 18.90323 | 19.23562 |\n",
       "| 중구   | 48.00000 | 31.00000 | 31.61290 | 20.60000 | 17.70968 | 16.70000 | 17.54839 | 13.80000 | 11.36667 | 14.64516 | 17.26667 | 22.09677 | 19.47975 |\n",
       "| (all)  | 27.24060 | 30.43697 | 29.98065 | 20.36000 | 17.78710 | 16.95333 | 17.11613 | 13.87662 | 11.72464 | 14.88000 | 16.04000 | 20.27742 | 19.52098 |\n",
       "\n"
      ],
      "text/plain": [
       "  측정소명 01       02       03       04       05       06       07      \n",
       "1 강남구   25.03226 27.85714 26.61290 19.30000 17.58065 18.20000 18.48387\n",
       "2 강동구   28.16129 31.50000 30.58065 20.53333 17.96774 16.50000 15.29032\n",
       "3 강북구   24.58065 31.64286 29.41935 20.73333 17.22581 16.43333 17.61290\n",
       "4 강서구   25.16129 30.60714 31.67742 20.63333 18.45161 16.93333 16.64516\n",
       "5 중구     48.00000 31.00000 31.61290 20.60000 17.70968 16.70000 17.54839\n",
       "6 (all)    27.24060 30.43697 29.98065 20.36000 17.78710 16.95333 17.11613\n",
       "  08       09       10       11       12       (all)   \n",
       "1 14.90323 12.63333 15.35484 16.80000 20.41935 19.39178\n",
       "2 13.64516 12.44444 18.23077 15.63333 19.87097 20.26149\n",
       "3 13.80645 10.90000 13.74194 15.76667 20.09677 19.26575\n",
       "4 13.22581 11.56667 12.96774 14.73333 18.90323 19.23562\n",
       "5 13.80000 11.36667 14.64516 17.26667 22.09677 19.47975\n",
       "6 13.87662 11.72464 14.88000 16.04000 20.27742 19.52098"
      ]
     },
     "metadata": {},
     "output_type": "display_data"
    }
   ],
   "source": [
    "dcast(news, 측정소명~월, value.var=\"초미세먼지농도\", mean, margins=T, na.rm=T)"
   ]
  }
 ],
 "metadata": {
  "kernelspec": {
   "display_name": "R",
   "language": "R",
   "name": "ir"
  },
  "language_info": {
   "codemirror_mode": "r",
   "file_extension": ".r",
   "mimetype": "text/x-r-source",
   "name": "R",
   "pygments_lexer": "r",
   "version": "4.3.1"
  }
 },
 "nbformat": 4,
 "nbformat_minor": 2
}
