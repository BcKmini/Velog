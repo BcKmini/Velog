{
 "cells": [
  {
   "cell_type": "code",
   "execution_count": 1,
   "metadata": {
    "vscode": {
     "languageId": "r"
    }
   },
   "outputs": [
    {
     "data": {
      "text/html": [
       "'HELLO WORLD'"
      ],
      "text/latex": [
       "'HELLO WORLD'"
      ],
      "text/markdown": [
       "'HELLO WORLD'"
      ],
      "text/plain": [
       "[1] \"HELLO WORLD\""
      ]
     },
     "metadata": {},
     "output_type": "display_data"
    }
   ],
   "source": [
    "toupper(\"Hello World\")"
   ]
  },
  {
   "cell_type": "code",
   "execution_count": 2,
   "metadata": {
    "vscode": {
     "languageId": "r"
    }
   },
   "outputs": [
    {
     "data": {
      "text/html": [
       "'hello world'"
      ],
      "text/latex": [
       "'hello world'"
      ],
      "text/markdown": [
       "'hello world'"
      ],
      "text/plain": [
       "[1] \"hello world\""
      ]
     },
     "metadata": {},
     "output_type": "display_data"
    }
   ],
   "source": [
    "tolower(\"Hello World\")"
   ]
  },
  {
   "cell_type": "code",
   "execution_count": 3,
   "metadata": {
    "vscode": {
     "languageId": "r"
    }
   },
   "outputs": [
    {
     "data": {
      "text/html": [
       "<style>\n",
       ".list-inline {list-style: none; margin:0; padding: 0}\n",
       ".list-inline>li {display: inline-block}\n",
       ".list-inline>li:not(:last-child)::after {content: \"\\00b7\"; padding: 0 .5ex}\n",
       "</style>\n",
       "<ol class=list-inline><li>'APPLE'</li><li>'MANGO'</li><li>'ORANGE'</li></ol>\n"
      ],
      "text/latex": [
       "\\begin{enumerate*}\n",
       "\\item 'APPLE'\n",
       "\\item 'MANGO'\n",
       "\\item 'ORANGE'\n",
       "\\end{enumerate*}\n"
      ],
      "text/markdown": [
       "1. 'APPLE'\n",
       "2. 'MANGO'\n",
       "3. 'ORANGE'\n",
       "\n",
       "\n"
      ],
      "text/plain": [
       "[1] \"APPLE\"  \"MANGO\"  \"ORANGE\""
      ]
     },
     "metadata": {},
     "output_type": "display_data"
    }
   ],
   "source": [
    "toupper(c(\"Apple\", \"Mango\", \"Orange\"))"
   ]
  },
  {
   "cell_type": "code",
   "execution_count": 4,
   "metadata": {
    "vscode": {
     "languageId": "r"
    }
   },
   "outputs": [
    {
     "data": {
      "text/html": [
       "'2024 11 08'"
      ],
      "text/latex": [
       "'2024 11 08'"
      ],
      "text/markdown": [
       "'2024 11 08'"
      ],
      "text/plain": [
       "[1] \"2024 11 08\""
      ]
     },
     "metadata": {},
     "output_type": "display_data"
    }
   ],
   "source": [
    "paste(\"2024\", \"11\", \"08\")"
   ]
  },
  {
   "cell_type": "code",
   "execution_count": 11,
   "metadata": {
    "vscode": {
     "languageId": "r"
    }
   },
   "outputs": [
    {
     "name": "stdout",
     "output_type": "stream",
     "text": [
      "2024 11 08"
     ]
    }
   ],
   "source": [
    "cat(c(\"2024\", \"11\", \"08\"))"
   ]
  },
  {
   "cell_type": "code",
   "execution_count": 6,
   "metadata": {
    "vscode": {
     "languageId": "r"
    }
   },
   "outputs": [
    {
     "data": {
      "text/html": [
       "'2024-11-08'"
      ],
      "text/latex": [
       "'2024-11-08'"
      ],
      "text/markdown": [
       "'2024-11-08'"
      ],
      "text/plain": [
       "[1] \"2024-11-08\""
      ]
     },
     "metadata": {},
     "output_type": "display_data"
    }
   ],
   "source": [
    "# 문자간에 구분자를 넣어줌 sep- > \n",
    "paste(\"2024\", \"11\", \"08\", sep=\"-\")"
   ]
  },
  {
   "cell_type": "code",
   "execution_count": 7,
   "metadata": {
    "vscode": {
     "languageId": "r"
    }
   },
   "outputs": [
    {
     "data": {
      "text/html": [
       "'20241108'"
      ],
      "text/latex": [
       "'20241108'"
      ],
      "text/markdown": [
       "'20241108'"
      ],
      "text/plain": [
       "[1] \"20241108\""
      ]
     },
     "metadata": {},
     "output_type": "display_data"
    }
   ],
   "source": [
    "# 공백을 없앤다\n",
    "paste0(\"2024\", \"11\", \"08\")"
   ]
  },
  {
   "cell_type": "code",
   "execution_count": 9,
   "metadata": {
    "vscode": {
     "languageId": "r"
    }
   },
   "outputs": [
    {
     "data": {
      "text/html": [
       "<style>\n",
       ".list-inline {list-style: none; margin:0; padding: 0}\n",
       ".list-inline>li {display: inline-block}\n",
       ".list-inline>li:not(:last-child)::after {content: \"\\00b7\"; padding: 0 .5ex}\n",
       "</style>\n",
       "<ol class=list-inline><li>'2024'</li><li>'11'</li><li>'08'</li></ol>\n"
      ],
      "text/latex": [
       "\\begin{enumerate*}\n",
       "\\item '2024'\n",
       "\\item '11'\n",
       "\\item '08'\n",
       "\\end{enumerate*}\n"
      ],
      "text/markdown": [
       "1. '2024'\n",
       "2. '11'\n",
       "3. '08'\n",
       "\n",
       "\n"
      ],
      "text/plain": [
       "[1] \"2024\" \"11\"   \"08\"  "
      ]
     },
     "metadata": {},
     "output_type": "display_data"
    }
   ],
   "source": [
    "paste0(c(\"2024\", \"11\", \"08\"))"
   ]
  },
  {
   "cell_type": "code",
   "execution_count": 12,
   "metadata": {
    "vscode": {
     "languageId": "r"
    }
   },
   "outputs": [
    {
     "name": "stdout",
     "output_type": "stream",
     "text": [
      "2024-11-08"
     ]
    }
   ],
   "source": [
    "cat(c(\"2024\", \"11\", \"08\"), sep=\"-\")"
   ]
  },
  {
   "cell_type": "code",
   "execution_count": 14,
   "metadata": {
    "vscode": {
     "languageId": "r"
    }
   },
   "outputs": [
    {
     "data": {
      "text/html": [
       "<style>\n",
       ".list-inline {list-style: none; margin:0; padding: 0}\n",
       ".list-inline>li {display: inline-block}\n",
       ".list-inline>li:not(:last-child)::after {content: \"\\00b7\"; padding: 0 .5ex}\n",
       "</style>\n",
       "<ol class=list-inline><li>'S1'</li><li>'S1'</li><li>'S1'</li><li>'S2'</li><li>'S2'</li><li>'S2'</li><li>'S3'</li><li>'S3'</li><li>'S3'</li><li>'S4'</li><li>'S4'</li><li>'S4'</li><li>'S5'</li><li>'S5'</li><li>'S5'</li><li>'S6'</li><li>'S6'</li><li>'S6'</li><li>'S7'</li><li>'S7'</li><li>'S7'</li><li>'S8'</li><li>'S8'</li><li>'S8'</li><li>'S9'</li><li>'S9'</li><li>'S9'</li><li>'S10'</li><li>'S10'</li><li>'S10'</li><li>'S11'</li><li>'S11'</li><li>'S11'</li><li>'S12'</li><li>'S12'</li><li>'S12'</li></ol>\n"
      ],
      "text/latex": [
       "\\begin{enumerate*}\n",
       "\\item 'S1'\n",
       "\\item 'S1'\n",
       "\\item 'S1'\n",
       "\\item 'S2'\n",
       "\\item 'S2'\n",
       "\\item 'S2'\n",
       "\\item 'S3'\n",
       "\\item 'S3'\n",
       "\\item 'S3'\n",
       "\\item 'S4'\n",
       "\\item 'S4'\n",
       "\\item 'S4'\n",
       "\\item 'S5'\n",
       "\\item 'S5'\n",
       "\\item 'S5'\n",
       "\\item 'S6'\n",
       "\\item 'S6'\n",
       "\\item 'S6'\n",
       "\\item 'S7'\n",
       "\\item 'S7'\n",
       "\\item 'S7'\n",
       "\\item 'S8'\n",
       "\\item 'S8'\n",
       "\\item 'S8'\n",
       "\\item 'S9'\n",
       "\\item 'S9'\n",
       "\\item 'S9'\n",
       "\\item 'S10'\n",
       "\\item 'S10'\n",
       "\\item 'S10'\n",
       "\\item 'S11'\n",
       "\\item 'S11'\n",
       "\\item 'S11'\n",
       "\\item 'S12'\n",
       "\\item 'S12'\n",
       "\\item 'S12'\n",
       "\\end{enumerate*}\n"
      ],
      "text/markdown": [
       "1. 'S1'\n",
       "2. 'S1'\n",
       "3. 'S1'\n",
       "4. 'S2'\n",
       "5. 'S2'\n",
       "6. 'S2'\n",
       "7. 'S3'\n",
       "8. 'S3'\n",
       "9. 'S3'\n",
       "10. 'S4'\n",
       "11. 'S4'\n",
       "12. 'S4'\n",
       "13. 'S5'\n",
       "14. 'S5'\n",
       "15. 'S5'\n",
       "16. 'S6'\n",
       "17. 'S6'\n",
       "18. 'S6'\n",
       "19. 'S7'\n",
       "20. 'S7'\n",
       "21. 'S7'\n",
       "22. 'S8'\n",
       "23. 'S8'\n",
       "24. 'S8'\n",
       "25. 'S9'\n",
       "26. 'S9'\n",
       "27. 'S9'\n",
       "28. 'S10'\n",
       "29. 'S10'\n",
       "30. 'S10'\n",
       "31. 'S11'\n",
       "32. 'S11'\n",
       "33. 'S11'\n",
       "34. 'S12'\n",
       "35. 'S12'\n",
       "36. 'S12'\n",
       "\n",
       "\n"
      ],
      "text/plain": [
       " [1] \"S1\"  \"S1\"  \"S1\"  \"S2\"  \"S2\"  \"S2\"  \"S3\"  \"S3\"  \"S3\"  \"S4\"  \"S4\"  \"S4\" \n",
       "[13] \"S5\"  \"S5\"  \"S5\"  \"S6\"  \"S6\"  \"S6\"  \"S7\"  \"S7\"  \"S7\"  \"S8\"  \"S8\"  \"S8\" \n",
       "[25] \"S9\"  \"S9\"  \"S9\"  \"S10\" \"S10\" \"S10\" \"S11\" \"S11\" \"S11\" \"S12\" \"S12\" \"S12\""
      ]
     },
     "metadata": {},
     "output_type": "display_data"
    }
   ],
   "source": [
    "# paste0(\"S\", 1:12)\n",
    "rep(paste0(\"S\", 1:12), each=3)"
   ]
  },
  {
   "cell_type": "code",
   "execution_count": 15,
   "metadata": {
    "vscode": {
     "languageId": "r"
    }
   },
   "outputs": [
    {
     "data": {
      "text/html": [
       "'11'"
      ],
      "text/latex": [
       "'11'"
      ],
      "text/markdown": [
       "'11'"
      ],
      "text/plain": [
       "[1] \"11\""
      ]
     },
     "metadata": {},
     "output_type": "display_data"
    }
   ],
   "source": [
    "# 엑셀에 mid 함수와 동일 5~6까지 \n",
    "substr(\"20241108\", 5, 6)"
   ]
  },
  {
   "cell_type": "code",
   "execution_count": 17,
   "metadata": {
    "vscode": {
     "languageId": "r"
    }
   },
   "outputs": [],
   "source": [
    "library(stringr)"
   ]
  },
  {
   "cell_type": "code",
   "execution_count": 22,
   "metadata": {
    "vscode": {
     "languageId": "r"
    }
   },
   "outputs": [
    {
     "data": {
      "text/html": [
       "'1108'"
      ],
      "text/latex": [
       "'1108'"
      ],
      "text/markdown": [
       "'1108'"
      ],
      "text/plain": [
       "[1] \"1108\""
      ]
     },
     "metadata": {},
     "output_type": "display_data"
    }
   ],
   "source": [
    "str_sub(\"20241108\", -4, -1)"
   ]
  },
  {
   "cell_type": "code",
   "execution_count": 31,
   "metadata": {
    "vscode": {
     "languageId": "r"
    }
   },
   "outputs": [
    {
     "data": {
      "text/html": [
       "'BCDE'"
      ],
      "text/latex": [
       "'BCDE'"
      ],
      "text/markdown": [
       "'BCDE'"
      ],
      "text/plain": [
       "[1] \"BCDE\""
      ]
     },
     "metadata": {},
     "output_type": "display_data"
    },
    {
     "data": {
      "text/html": [
       "'BCDE'"
      ],
      "text/latex": [
       "'BCDE'"
      ],
      "text/markdown": [
       "'BCDE'"
      ],
      "text/plain": [
       "[1] \"BCDE\""
      ]
     },
     "metadata": {},
     "output_type": "display_data"
    }
   ],
   "source": [
    "string <- \"ABCDEFG\" ;\n",
    "\n",
    "substr(string, 2, nchar(string)-2)\n",
    "\n",
    "str_sub(\"ABCDEFG\", -6, -3)"
   ]
  },
  {
   "cell_type": "code",
   "execution_count": 33,
   "metadata": {
    "vscode": {
     "languageId": "r"
    }
   },
   "outputs": [
    {
     "data": {
      "text/html": [
       "'A###EFG'"
      ],
      "text/latex": [
       "'A\\#\\#\\#EFG'"
      ],
      "text/markdown": [
       "'A###EFG'"
      ],
      "text/plain": [
       "[1] \"A###EFG\""
      ]
     },
     "metadata": {},
     "output_type": "display_data"
    }
   ],
   "source": [
    "string <- \"ABCDEFG\" ;\n",
    "\n",
    "substr(string, 2, nchar(string)-2) <- \"###\" # 대체 문자로 대체해줌\n",
    "\n",
    "string"
   ]
  },
  {
   "cell_type": "code",
   "execution_count": 34,
   "metadata": {
    "vscode": {
     "languageId": "r"
    }
   },
   "outputs": [
    {
     "data": {
      "text/html": [
       "<style>\n",
       ".list-inline {list-style: none; margin:0; padding: 0}\n",
       ".list-inline>li {display: inline-block}\n",
       ".list-inline>li:not(:last-child)::after {content: \"\\00b7\"; padding: 0 .5ex}\n",
       "</style>\n",
       "<ol class=list-inline><li>'허#'</li><li>'홍####동'</li><li>'이####룡'</li><li>'건####교'</li><li>'과####술'</li></ol>\n"
      ],
      "text/latex": [
       "\\begin{enumerate*}\n",
       "\\item '허\\#'\n",
       "\\item '홍\\#\\#\\#\\#동'\n",
       "\\item '이\\#\\#\\#\\#룡'\n",
       "\\item '건\\#\\#\\#\\#교'\n",
       "\\item '과\\#\\#\\#\\#술'\n",
       "\\end{enumerate*}\n"
      ],
      "text/markdown": [
       "1. '허#'\n",
       "2. '홍####동'\n",
       "3. '이####룡'\n",
       "4. '건####교'\n",
       "5. '과####술'\n",
       "\n",
       "\n"
      ],
      "text/plain": [
       "[1] \"허#\"      \"홍####동\" \"이####룡\" \"건####교\" \"과####술\""
      ]
     },
     "metadata": {},
     "output_type": "display_data"
    }
   ],
   "source": [
    "names <- c(\"허준\", \"홍길동\", \"이몽룡\", \"건국대학교\", \"과학기술\")\n",
    "names <- ifelse(nchar(names) == 2,\n",
    "                paste0(substr(names, 1, 1), \"#\"),\n",
    "                paste0(substr(names, 1, 1), \"####\", substr(names, nchar(names), nchar(names))))\n",
    "names\n"
   ]
  },
  {
   "cell_type": "code",
   "execution_count": 35,
   "metadata": {
    "vscode": {
     "languageId": "r"
    }
   },
   "outputs": [
    {
     "data": {
      "text/html": [
       "'Abracadabra'"
      ],
      "text/latex": [
       "'Abracadabra'"
      ],
      "text/markdown": [
       "'Abracadabra'"
      ],
      "text/plain": [
       "[1] \"Abracadabra\""
      ]
     },
     "metadata": {},
     "output_type": "display_data"
    }
   ],
   "source": [
    "# 맨 처음 하나만 바꾸가\n",
    "sub(\"a\", \"A\", \"abracadabra\")"
   ]
  },
  {
   "cell_type": "code",
   "execution_count": 36,
   "metadata": {
    "vscode": {
     "languageId": "r"
    }
   },
   "outputs": [
    {
     "data": {
      "text/html": [
       "'AbrAcAdAbrA'"
      ],
      "text/latex": [
       "'AbrAcAdAbrA'"
      ],
      "text/markdown": [
       "'AbrAcAdAbrA'"
      ],
      "text/plain": [
       "[1] \"AbrAcAdAbrA\""
      ]
     },
     "metadata": {},
     "output_type": "display_data"
    }
   ],
   "source": [
    "# 모두 바꾸기 g-> global\n",
    "gsub(\"a\", \"A\", \"abracadabra\")"
   ]
  },
  {
   "cell_type": "code",
   "execution_count": 41,
   "metadata": {
    "vscode": {
     "languageId": "r"
    }
   },
   "outputs": [
    {
     "data": {
      "text/html": [
       "<style>\n",
       ".list-inline {list-style: none; margin:0; padding: 0}\n",
       ".list-inline>li {display: inline-block}\n",
       ".list-inline>li:not(:last-child)::after {content: \"\\00b7\"; padding: 0 .5ex}\n",
       "</style>\n",
       "<ol class=list-inline><li>'tigEr'</li><li>'Eagle'</li><li>'Elephant'</li></ol>\n"
      ],
      "text/latex": [
       "\\begin{enumerate*}\n",
       "\\item 'tigEr'\n",
       "\\item 'Eagle'\n",
       "\\item 'Elephant'\n",
       "\\end{enumerate*}\n"
      ],
      "text/markdown": [
       "1. 'tigEr'\n",
       "2. 'Eagle'\n",
       "3. 'Elephant'\n",
       "\n",
       "\n"
      ],
      "text/plain": [
       "[1] \"tigEr\"    \"Eagle\"    \"Elephant\""
      ]
     },
     "metadata": {},
     "output_type": "display_data"
    },
    {
     "data": {
      "text/html": [
       "<style>\n",
       ".list-inline {list-style: none; margin:0; padding: 0}\n",
       ".list-inline>li {display: inline-block}\n",
       ".list-inline>li:not(:last-child)::after {content: \"\\00b7\"; padding: 0 .5ex}\n",
       "</style>\n",
       "<ol class=list-inline><li>'tigEr'</li><li>'EaglE'</li><li>'ElEphant'</li></ol>\n"
      ],
      "text/latex": [
       "\\begin{enumerate*}\n",
       "\\item 'tigEr'\n",
       "\\item 'EaglE'\n",
       "\\item 'ElEphant'\n",
       "\\end{enumerate*}\n"
      ],
      "text/markdown": [
       "1. 'tigEr'\n",
       "2. 'EaglE'\n",
       "3. 'ElEphant'\n",
       "\n",
       "\n"
      ],
      "text/plain": [
       "[1] \"tigEr\"    \"EaglE\"    \"ElEphant\""
      ]
     },
     "metadata": {},
     "output_type": "display_data"
    }
   ],
   "source": [
    "animals <- c(\"tiger\", \"eagle\", \"elephant\")\n",
    "sub(\"e\", \"E\", animals)\n",
    "gsub(\"e\", \"E\", animals)"
   ]
  },
  {
   "cell_type": "code",
   "execution_count": 49,
   "metadata": {
    "vscode": {
     "languageId": "r"
    }
   },
   "outputs": [
    {
     "data": {
      "text/html": [
       "'tigereagleelephant'"
      ],
      "text/latex": [
       "'tigereagleelephant'"
      ],
      "text/markdown": [
       "'tigereagleelephant'"
      ],
      "text/plain": [
       "[1] \"tigereagleelephant\""
      ]
     },
     "metadata": {},
     "output_type": "display_data"
    }
   ],
   "source": [
    "c_animals <- \"tiger eagle elephant\"\n",
    "# 공백제거 \n",
    "c_animals1<- gsub(\" \", \"\", c_animals)\n",
    "c_animals1"
   ]
  },
  {
   "cell_type": "code",
   "execution_count": 60,
   "metadata": {
    "vscode": {
     "languageId": "r"
    }
   },
   "outputs": [
    {
     "data": {
      "text/html": [
       "<style>\n",
       ".list-inline {list-style: none; margin:0; padding: 0}\n",
       ".list-inline>li {display: inline-block}\n",
       ".list-inline>li:not(:last-child)::after {content: \"\\00b7\"; padding: 0 .5ex}\n",
       "</style>\n",
       "<ol class=list-inline><li>'Apple'</li><li>'Tiger'</li><li>'Cat'</li><li>'Banana'</li></ol>\n"
      ],
      "text/latex": [
       "\\begin{enumerate*}\n",
       "\\item 'Apple'\n",
       "\\item 'Tiger'\n",
       "\\item 'Cat'\n",
       "\\item 'Banana'\n",
       "\\end{enumerate*}\n"
      ],
      "text/markdown": [
       "1. 'Apple'\n",
       "2. 'Tiger'\n",
       "3. 'Cat'\n",
       "4. 'Banana'\n",
       "\n",
       "\n"
      ],
      "text/plain": [
       "[1] \"Apple\"  \"Tiger\"  \"Cat\"    \"Banana\""
      ]
     },
     "metadata": {},
     "output_type": "display_data"
    }
   ],
   "source": [
    "strings <- c(\"Apple\", \"Tiger\", \"Cat\", \"Banana\")\n",
    "strings"
   ]
  },
  {
   "cell_type": "code",
   "execution_count": 61,
   "metadata": {
    "vscode": {
     "languageId": "r"
    }
   },
   "outputs": [
    {
     "data": {
      "text/html": [
       "<style>\n",
       ".list-inline {list-style: none; margin:0; padding: 0}\n",
       ".list-inline>li {display: inline-block}\n",
       ".list-inline>li:not(:last-child)::after {content: \"\\00b7\"; padding: 0 .5ex}\n",
       "</style>\n",
       "<ol class=list-inline><li>3</li><li>4</li></ol>\n"
      ],
      "text/latex": [
       "\\begin{enumerate*}\n",
       "\\item 3\n",
       "\\item 4\n",
       "\\end{enumerate*}\n"
      ],
      "text/markdown": [
       "1. 3\n",
       "2. 4\n",
       "\n",
       "\n"
      ],
      "text/plain": [
       "[1] 3 4"
      ]
     },
     "metadata": {},
     "output_type": "display_data"
    },
    {
     "data": {
      "text/html": [
       "<style>\n",
       ".list-inline {list-style: none; margin:0; padding: 0}\n",
       ".list-inline>li {display: inline-block}\n",
       ".list-inline>li:not(:last-child)::after {content: \"\\00b7\"; padding: 0 .5ex}\n",
       "</style>\n",
       "<ol class=list-inline><li>'Cat'</li><li>'Banana'</li></ol>\n"
      ],
      "text/latex": [
       "\\begin{enumerate*}\n",
       "\\item 'Cat'\n",
       "\\item 'Banana'\n",
       "\\end{enumerate*}\n"
      ],
      "text/markdown": [
       "1. 'Cat'\n",
       "2. 'Banana'\n",
       "\n",
       "\n"
      ],
      "text/plain": [
       "[1] \"Cat\"    \"Banana\""
      ]
     },
     "metadata": {},
     "output_type": "display_data"
    }
   ],
   "source": [
    "grep(\"a\", strings)\n",
    "grep(\"a\", strings, value=T)"
   ]
  },
  {
   "cell_type": "code",
   "execution_count": 65,
   "metadata": {
    "vscode": {
     "languageId": "r"
    }
   },
   "outputs": [
    {
     "data": {
      "text/html": [
       "<style>\n",
       ".list-inline {list-style: none; margin:0; padding: 0}\n",
       ".list-inline>li {display: inline-block}\n",
       ".list-inline>li:not(:last-child)::after {content: \"\\00b7\"; padding: 0 .5ex}\n",
       "</style>\n",
       "<ol class=list-inline><li>1</li><li>3</li><li>4</li></ol>\n"
      ],
      "text/latex": [
       "\\begin{enumerate*}\n",
       "\\item 1\n",
       "\\item 3\n",
       "\\item 4\n",
       "\\end{enumerate*}\n"
      ],
      "text/markdown": [
       "1. 1\n",
       "2. 3\n",
       "3. 4\n",
       "\n",
       "\n"
      ],
      "text/plain": [
       "[1] 1 3 4"
      ]
     },
     "metadata": {},
     "output_type": "display_data"
    }
   ],
   "source": [
    "# ignore.case = T 는 대소문자를 구분하지 말고 찾기\n",
    "grep(\"a\", strings, ignore.case = T)"
   ]
  },
  {
   "cell_type": "code",
   "execution_count": 69,
   "metadata": {
    "vscode": {
     "languageId": "r"
    }
   },
   "outputs": [
    {
     "data": {
      "text/html": [
       "'Tiger'"
      ],
      "text/latex": [
       "'Tiger'"
      ],
      "text/markdown": [
       "'Tiger'"
      ],
      "text/plain": [
       "[1] \"Tiger\""
      ]
     },
     "metadata": {},
     "output_type": "display_data"
    }
   ],
   "source": [
    "# invert는 \"a\"를 제외한 나머지를 보여줌\n",
    "rep(\"a\", strings, ignore.case = T, value=T, invert = T)"
   ]
  },
  {
   "cell_type": "code",
   "execution_count": 71,
   "metadata": {
    "vscode": {
     "languageId": "r"
    }
   },
   "outputs": [
    {
     "data": {
      "text/html": [
       "<style>\n",
       ".list-inline {list-style: none; margin:0; padding: 0}\n",
       ".list-inline>li {display: inline-block}\n",
       ".list-inline>li:not(:last-child)::after {content: \"\\00b7\"; padding: 0 .5ex}\n",
       "</style>\n",
       "<ol class=list-inline><li>'Mazda RX4'</li><li>'Mazda RX4 Wag'</li><li>'Datsun 710'</li><li>'Hornet 4 Drive'</li><li>'Hornet Sportabout'</li><li>'Valiant'</li><li>'Duster 360'</li><li>'Merc 240D'</li><li>'Merc 230'</li><li>'Merc 280'</li><li>'Merc 280C'</li><li>'Merc 450SE'</li><li>'Merc 450SL'</li><li>'Merc 450SLC'</li><li>'Cadillac Fleetwood'</li><li>'Lincoln Continental'</li><li>'Chrysler Imperial'</li><li>'Fiat 128'</li><li>'Honda Civic'</li><li>'Toyota Corolla'</li><li>'Toyota Corona'</li><li>'Dodge Challenger'</li><li>'AMC Javelin'</li><li>'Camaro Z28'</li><li>'Pontiac Firebird'</li><li>'Fiat X1-9'</li><li>'Porsche 914-2'</li><li>'Lotus Europa'</li><li>'Ford Pantera L'</li><li>'Ferrari Dino'</li><li>'Maserati Bora'</li><li>'Volvo 142E'</li></ol>\n"
      ],
      "text/latex": [
       "\\begin{enumerate*}\n",
       "\\item 'Mazda RX4'\n",
       "\\item 'Mazda RX4 Wag'\n",
       "\\item 'Datsun 710'\n",
       "\\item 'Hornet 4 Drive'\n",
       "\\item 'Hornet Sportabout'\n",
       "\\item 'Valiant'\n",
       "\\item 'Duster 360'\n",
       "\\item 'Merc 240D'\n",
       "\\item 'Merc 230'\n",
       "\\item 'Merc 280'\n",
       "\\item 'Merc 280C'\n",
       "\\item 'Merc 450SE'\n",
       "\\item 'Merc 450SL'\n",
       "\\item 'Merc 450SLC'\n",
       "\\item 'Cadillac Fleetwood'\n",
       "\\item 'Lincoln Continental'\n",
       "\\item 'Chrysler Imperial'\n",
       "\\item 'Fiat 128'\n",
       "\\item 'Honda Civic'\n",
       "\\item 'Toyota Corolla'\n",
       "\\item 'Toyota Corona'\n",
       "\\item 'Dodge Challenger'\n",
       "\\item 'AMC Javelin'\n",
       "\\item 'Camaro Z28'\n",
       "\\item 'Pontiac Firebird'\n",
       "\\item 'Fiat X1-9'\n",
       "\\item 'Porsche 914-2'\n",
       "\\item 'Lotus Europa'\n",
       "\\item 'Ford Pantera L'\n",
       "\\item 'Ferrari Dino'\n",
       "\\item 'Maserati Bora'\n",
       "\\item 'Volvo 142E'\n",
       "\\end{enumerate*}\n"
      ],
      "text/markdown": [
       "1. 'Mazda RX4'\n",
       "2. 'Mazda RX4 Wag'\n",
       "3. 'Datsun 710'\n",
       "4. 'Hornet 4 Drive'\n",
       "5. 'Hornet Sportabout'\n",
       "6. 'Valiant'\n",
       "7. 'Duster 360'\n",
       "8. 'Merc 240D'\n",
       "9. 'Merc 230'\n",
       "10. 'Merc 280'\n",
       "11. 'Merc 280C'\n",
       "12. 'Merc 450SE'\n",
       "13. 'Merc 450SL'\n",
       "14. 'Merc 450SLC'\n",
       "15. 'Cadillac Fleetwood'\n",
       "16. 'Lincoln Continental'\n",
       "17. 'Chrysler Imperial'\n",
       "18. 'Fiat 128'\n",
       "19. 'Honda Civic'\n",
       "20. 'Toyota Corolla'\n",
       "21. 'Toyota Corona'\n",
       "22. 'Dodge Challenger'\n",
       "23. 'AMC Javelin'\n",
       "24. 'Camaro Z28'\n",
       "25. 'Pontiac Firebird'\n",
       "26. 'Fiat X1-9'\n",
       "27. 'Porsche 914-2'\n",
       "28. 'Lotus Europa'\n",
       "29. 'Ford Pantera L'\n",
       "30. 'Ferrari Dino'\n",
       "31. 'Maserati Bora'\n",
       "32. 'Volvo 142E'\n",
       "\n",
       "\n"
      ],
      "text/plain": [
       " [1] \"Mazda RX4\"           \"Mazda RX4 Wag\"       \"Datsun 710\"         \n",
       " [4] \"Hornet 4 Drive\"      \"Hornet Sportabout\"   \"Valiant\"            \n",
       " [7] \"Duster 360\"          \"Merc 240D\"           \"Merc 230\"           \n",
       "[10] \"Merc 280\"            \"Merc 280C\"           \"Merc 450SE\"         \n",
       "[13] \"Merc 450SL\"          \"Merc 450SLC\"         \"Cadillac Fleetwood\" \n",
       "[16] \"Lincoln Continental\" \"Chrysler Imperial\"   \"Fiat 128\"           \n",
       "[19] \"Honda Civic\"         \"Toyota Corolla\"      \"Toyota Corona\"      \n",
       "[22] \"Dodge Challenger\"    \"AMC Javelin\"         \"Camaro Z28\"         \n",
       "[25] \"Pontiac Firebird\"    \"Fiat X1-9\"           \"Porsche 914-2\"      \n",
       "[28] \"Lotus Europa\"        \"Ford Pantera L\"      \"Ferrari Dino\"       \n",
       "[31] \"Maserati Bora\"       \"Volvo 142E\"         "
      ]
     },
     "metadata": {},
     "output_type": "display_data"
    }
   ],
   "source": [
    "names <- row.names(mtcars)\n",
    "names"
   ]
  },
  {
   "cell_type": "code",
   "execution_count": 72,
   "metadata": {
    "vscode": {
     "languageId": "r"
    }
   },
   "outputs": [
    {
     "data": {
      "text/html": [
       "<table class=\"dataframe\">\n",
       "<caption>A data.frame: 6 × 11</caption>\n",
       "<thead>\n",
       "\t<tr><th></th><th scope=col>mpg</th><th scope=col>cyl</th><th scope=col>disp</th><th scope=col>hp</th><th scope=col>drat</th><th scope=col>wt</th><th scope=col>qsec</th><th scope=col>vs</th><th scope=col>am</th><th scope=col>gear</th><th scope=col>carb</th></tr>\n",
       "\t<tr><th></th><th scope=col>&lt;dbl&gt;</th><th scope=col>&lt;dbl&gt;</th><th scope=col>&lt;dbl&gt;</th><th scope=col>&lt;dbl&gt;</th><th scope=col>&lt;dbl&gt;</th><th scope=col>&lt;dbl&gt;</th><th scope=col>&lt;dbl&gt;</th><th scope=col>&lt;dbl&gt;</th><th scope=col>&lt;dbl&gt;</th><th scope=col>&lt;dbl&gt;</th><th scope=col>&lt;dbl&gt;</th></tr>\n",
       "</thead>\n",
       "<tbody>\n",
       "\t<tr><th scope=row>Mazda RX4</th><td>21.0</td><td>6</td><td>160</td><td>110</td><td>3.90</td><td>2.620</td><td>16.46</td><td>0</td><td>1</td><td>4</td><td>4</td></tr>\n",
       "\t<tr><th scope=row>Mazda RX4 Wag</th><td>21.0</td><td>6</td><td>160</td><td>110</td><td>3.90</td><td>2.875</td><td>17.02</td><td>0</td><td>1</td><td>4</td><td>4</td></tr>\n",
       "\t<tr><th scope=row>Datsun 710</th><td>22.8</td><td>4</td><td>108</td><td> 93</td><td>3.85</td><td>2.320</td><td>18.61</td><td>1</td><td>1</td><td>4</td><td>1</td></tr>\n",
       "\t<tr><th scope=row>Hornet 4 Drive</th><td>21.4</td><td>6</td><td>258</td><td>110</td><td>3.08</td><td>3.215</td><td>19.44</td><td>1</td><td>0</td><td>3</td><td>1</td></tr>\n",
       "\t<tr><th scope=row>Hornet Sportabout</th><td>18.7</td><td>8</td><td>360</td><td>175</td><td>3.15</td><td>3.440</td><td>17.02</td><td>0</td><td>0</td><td>3</td><td>2</td></tr>\n",
       "\t<tr><th scope=row>Valiant</th><td>18.1</td><td>6</td><td>225</td><td>105</td><td>2.76</td><td>3.460</td><td>20.22</td><td>1</td><td>0</td><td>3</td><td>1</td></tr>\n",
       "</tbody>\n",
       "</table>\n"
      ],
      "text/latex": [
       "A data.frame: 6 × 11\n",
       "\\begin{tabular}{r|lllllllllll}\n",
       "  & mpg & cyl & disp & hp & drat & wt & qsec & vs & am & gear & carb\\\\\n",
       "  & <dbl> & <dbl> & <dbl> & <dbl> & <dbl> & <dbl> & <dbl> & <dbl> & <dbl> & <dbl> & <dbl>\\\\\n",
       "\\hline\n",
       "\tMazda RX4 & 21.0 & 6 & 160 & 110 & 3.90 & 2.620 & 16.46 & 0 & 1 & 4 & 4\\\\\n",
       "\tMazda RX4 Wag & 21.0 & 6 & 160 & 110 & 3.90 & 2.875 & 17.02 & 0 & 1 & 4 & 4\\\\\n",
       "\tDatsun 710 & 22.8 & 4 & 108 &  93 & 3.85 & 2.320 & 18.61 & 1 & 1 & 4 & 1\\\\\n",
       "\tHornet 4 Drive & 21.4 & 6 & 258 & 110 & 3.08 & 3.215 & 19.44 & 1 & 0 & 3 & 1\\\\\n",
       "\tHornet Sportabout & 18.7 & 8 & 360 & 175 & 3.15 & 3.440 & 17.02 & 0 & 0 & 3 & 2\\\\\n",
       "\tValiant & 18.1 & 6 & 225 & 105 & 2.76 & 3.460 & 20.22 & 1 & 0 & 3 & 1\\\\\n",
       "\\end{tabular}\n"
      ],
      "text/markdown": [
       "\n",
       "A data.frame: 6 × 11\n",
       "\n",
       "| <!--/--> | mpg &lt;dbl&gt; | cyl &lt;dbl&gt; | disp &lt;dbl&gt; | hp &lt;dbl&gt; | drat &lt;dbl&gt; | wt &lt;dbl&gt; | qsec &lt;dbl&gt; | vs &lt;dbl&gt; | am &lt;dbl&gt; | gear &lt;dbl&gt; | carb &lt;dbl&gt; |\n",
       "|---|---|---|---|---|---|---|---|---|---|---|---|\n",
       "| Mazda RX4 | 21.0 | 6 | 160 | 110 | 3.90 | 2.620 | 16.46 | 0 | 1 | 4 | 4 |\n",
       "| Mazda RX4 Wag | 21.0 | 6 | 160 | 110 | 3.90 | 2.875 | 17.02 | 0 | 1 | 4 | 4 |\n",
       "| Datsun 710 | 22.8 | 4 | 108 |  93 | 3.85 | 2.320 | 18.61 | 1 | 1 | 4 | 1 |\n",
       "| Hornet 4 Drive | 21.4 | 6 | 258 | 110 | 3.08 | 3.215 | 19.44 | 1 | 0 | 3 | 1 |\n",
       "| Hornet Sportabout | 18.7 | 8 | 360 | 175 | 3.15 | 3.440 | 17.02 | 0 | 0 | 3 | 2 |\n",
       "| Valiant | 18.1 | 6 | 225 | 105 | 2.76 | 3.460 | 20.22 | 1 | 0 | 3 | 1 |\n",
       "\n"
      ],
      "text/plain": [
       "                  mpg  cyl disp hp  drat wt    qsec  vs am gear carb\n",
       "Mazda RX4         21.0 6   160  110 3.90 2.620 16.46 0  1  4    4   \n",
       "Mazda RX4 Wag     21.0 6   160  110 3.90 2.875 17.02 0  1  4    4   \n",
       "Datsun 710        22.8 4   108   93 3.85 2.320 18.61 1  1  4    1   \n",
       "Hornet 4 Drive    21.4 6   258  110 3.08 3.215 19.44 1  0  3    1   \n",
       "Hornet Sportabout 18.7 8   360  175 3.15 3.440 17.02 0  0  3    2   \n",
       "Valiant           18.1 6   225  105 2.76 3.460 20.22 1  0  3    1   "
      ]
     },
     "metadata": {},
     "output_type": "display_data"
    }
   ],
   "source": [
    "head(mtcars)"
   ]
  },
  {
   "cell_type": "code",
   "execution_count": 75,
   "metadata": {
    "vscode": {
     "languageId": "r"
    }
   },
   "outputs": [
    {
     "data": {
      "text/html": [
       "<style>\n",
       ".list-inline {list-style: none; margin:0; padding: 0}\n",
       ".list-inline>li {display: inline-block}\n",
       ".list-inline>li:not(:last-child)::after {content: \"\\00b7\"; padding: 0 .5ex}\n",
       "</style>\n",
       "<ol class=list-inline><li>'Toyota Corolla'</li><li>'Toyota Corona'</li></ol>\n"
      ],
      "text/latex": [
       "\\begin{enumerate*}\n",
       "\\item 'Toyota Corolla'\n",
       "\\item 'Toyota Corona'\n",
       "\\end{enumerate*}\n"
      ],
      "text/markdown": [
       "1. 'Toyota Corolla'\n",
       "2. 'Toyota Corona'\n",
       "\n",
       "\n"
      ],
      "text/plain": [
       "[1] \"Toyota Corolla\" \"Toyota Corona\" "
      ]
     },
     "metadata": {},
     "output_type": "display_data"
    }
   ],
   "source": [
    "names <- row.names(mtcars)\n",
    "grep('toyota', names, ignore.case = T, value=T)"
   ]
  },
  {
   "cell_type": "markdown",
   "metadata": {},
   "source": [
    "# Stringr 패키지\n",
    "## Stringr 실습"
   ]
  },
  {
   "cell_type": "code",
   "execution_count": 76,
   "metadata": {
    "vscode": {
     "languageId": "r"
    }
   },
   "outputs": [
    {
     "data": {
      "text/html": [
       "'06'"
      ],
      "text/latex": [
       "'06'"
      ],
      "text/markdown": [
       "'06'"
      ],
      "text/plain": [
       "[1] \"06\""
      ]
     },
     "metadata": {},
     "output_type": "display_data"
    }
   ],
   "source": [
    "str_sub(\"20241106\", -2, -1)"
   ]
  },
  {
   "cell_type": "code",
   "execution_count": 77,
   "metadata": {
    "vscode": {
     "languageId": "r"
    }
   },
   "outputs": [
    {
     "data": {
      "text/html": [
       "'1106'"
      ],
      "text/latex": [
       "'1106'"
      ],
      "text/markdown": [
       "'1106'"
      ],
      "text/plain": [
       "[1] \"1106\""
      ]
     },
     "metadata": {},
     "output_type": "display_data"
    }
   ],
   "source": [
    "str_sub(\"20241106\", 5)"
   ]
  },
  {
   "cell_type": "code",
   "execution_count": 78,
   "metadata": {
    "vscode": {
     "languageId": "r"
    }
   },
   "outputs": [
    {
     "data": {
      "text/html": [
       "'20241106'"
      ],
      "text/latex": [
       "'20241106'"
      ],
      "text/markdown": [
       "'20241106'"
      ],
      "text/plain": [
       "[1] \"20241106\""
      ]
     },
     "metadata": {},
     "output_type": "display_data"
    }
   ],
   "source": [
    "str_flatten(c(\"2024\", \"11\", \"06\"))"
   ]
  },
  {
   "cell_type": "code",
   "execution_count": 85,
   "metadata": {
    "vscode": {
     "languageId": "r"
    }
   },
   "outputs": [
    {
     "name": "stdout",
     "output_type": "stream",
     "text": [
      "[1] \" 양쪽 모두 \"     \" 왼쪽만\"         \"오른쪽만 \"       \"사이에 스페이스\"\n"
     ]
    }
   ],
   "source": [
    "text <- c(\" 양쪽 모두 \", \" 왼쪽만\", \"오른쪽만 \", \"사이에 스페이스\")\n",
    "print(text)"
   ]
  },
  {
   "cell_type": "code",
   "execution_count": 80,
   "metadata": {
    "vscode": {
     "languageId": "r"
    }
   },
   "outputs": [
    {
     "data": {
      "text/html": [
       "<style>\n",
       ".list-inline {list-style: none; margin:0; padding: 0}\n",
       ".list-inline>li {display: inline-block}\n",
       ".list-inline>li:not(:last-child)::after {content: \"\\00b7\"; padding: 0 .5ex}\n",
       "</style>\n",
       "<ol class=list-inline><li>'양쪽 모두'</li><li>'왼쪽만'</li><li>'오른쪽만'</li><li>'사이에 스페이스'</li></ol>\n"
      ],
      "text/latex": [
       "\\begin{enumerate*}\n",
       "\\item '양쪽 모두'\n",
       "\\item '왼쪽만'\n",
       "\\item '오른쪽만'\n",
       "\\item '사이에 스페이스'\n",
       "\\end{enumerate*}\n"
      ],
      "text/markdown": [
       "1. '양쪽 모두'\n",
       "2. '왼쪽만'\n",
       "3. '오른쪽만'\n",
       "4. '사이에 스페이스'\n",
       "\n",
       "\n"
      ],
      "text/plain": [
       "[1] \"양쪽 모두\"       \"왼쪽만\"          \"오른쪽만\"        \"사이에 스페이스\""
      ]
     },
     "metadata": {},
     "output_type": "display_data"
    }
   ],
   "source": [
    "str_trim(text)"
   ]
  },
  {
   "cell_type": "code",
   "execution_count": 81,
   "metadata": {
    "vscode": {
     "languageId": "r"
    }
   },
   "outputs": [
    {
     "name": "stdout",
     "output_type": "stream",
     "text": [
      "[1] \"양쪽 모두\"       \"왼쪽만\"          \"오른쪽만\"        \"사이에 스페이스\"\n"
     ]
    }
   ],
   "source": [
    "print(str_trim(text), side=\"left\")"
   ]
  },
  {
   "cell_type": "code",
   "execution_count": 86,
   "metadata": {
    "vscode": {
     "languageId": "r"
    }
   },
   "outputs": [
    {
     "data": {
      "text/html": [
       "<style>\n",
       ".list-inline {list-style: none; margin:0; padding: 0}\n",
       ".list-inline>li {display: inline-block}\n",
       ".list-inline>li:not(:last-child)::after {content: \"\\00b7\"; padding: 0 .5ex}\n",
       "</style>\n",
       "<ol class=list-inline><li>' 양쪽 모두'</li><li>' 왼쪽만'</li><li>'오른쪽만'</li><li>'사이에 스페이스'</li></ol>\n"
      ],
      "text/latex": [
       "\\begin{enumerate*}\n",
       "\\item ' 양쪽 모두'\n",
       "\\item ' 왼쪽만'\n",
       "\\item '오른쪽만'\n",
       "\\item '사이에 스페이스'\n",
       "\\end{enumerate*}\n"
      ],
      "text/markdown": [
       "1. ' 양쪽 모두'\n",
       "2. ' 왼쪽만'\n",
       "3. '오른쪽만'\n",
       "4. '사이에 스페이스'\n",
       "\n",
       "\n"
      ],
      "text/plain": [
       "[1] \" 양쪽 모두\"      \" 왼쪽만\"         \"오른쪽만\"        \"사이에 스페이스\""
      ]
     },
     "metadata": {},
     "output_type": "display_data"
    }
   ],
   "source": [
    "str_trim(text, side=\"right\")"
   ]
  },
  {
   "cell_type": "code",
   "execution_count": 90,
   "metadata": {
    "vscode": {
     "languageId": "r"
    }
   },
   "outputs": [
    {
     "data": {
      "text/html": [
       "'충주시'"
      ],
      "text/latex": [
       "'충주시'"
      ],
      "text/markdown": [
       "'충주시'"
      ],
      "text/plain": [
       "[1] \"충주시\""
      ]
     },
     "metadata": {},
     "output_type": "display_data"
    }
   ],
   "source": [
    "addr <- \"충북 충주시 충원대로 268\"\n",
    "word(addr, 2) # (addr, x) -> x번째에 단어를 찾아주는 기능을 한다. "
   ]
  },
  {
   "cell_type": "code",
   "execution_count": 93,
   "metadata": {
    "vscode": {
     "languageId": "r"
    }
   },
   "outputs": [],
   "source": [
    "x <- c(\"apple\", \"car\", \"a\", \"happy\")\n",
    "x <- str_sort"
   ]
  },
  {
   "cell_type": "markdown",
   "metadata": {},
   "source": [
    "## 📌 정규식 "
   ]
  },
  {
   "cell_type": "code",
   "execution_count": 94,
   "metadata": {
    "vscode": {
     "languageId": "r"
    }
   },
   "outputs": [
    {
     "data": {
      "text/html": [
       "<style>\n",
       ".list-inline {list-style: none; margin:0; padding: 0}\n",
       ".list-inline>li {display: inline-block}\n",
       ".list-inline>li:not(:last-child)::after {content: \"\\00b7\"; padding: 0 .5ex}\n",
       "</style>\n",
       "<ol class=list-inline><li>'Mazda RX4'</li><li>'Mazda RX4 Wag'</li><li>'Datsun 710'</li><li>'Hornet 4 Drive'</li><li>'Hornet Sportabout'</li><li>'Valiant'</li><li>'Duster 360'</li><li>'Merc 240D'</li><li>'Merc 230'</li><li>'Merc 280'</li><li>'Merc 280C'</li><li>'Merc 450SE'</li><li>'Merc 450SL'</li><li>'Merc 450SLC'</li><li>'Cadillac Fleetwood'</li><li>'Lincoln Continental'</li><li>'Chrysler Imperial'</li><li>'Fiat 128'</li><li>'Honda Civic'</li><li>'Toyota Corolla'</li><li>'Toyota Corona'</li><li>'Dodge Challenger'</li><li>'AMC Javelin'</li><li>'Camaro Z28'</li><li>'Pontiac Firebird'</li><li>'Fiat X1-9'</li><li>'Porsche 914-2'</li><li>'Lotus Europa'</li><li>'Ford Pantera L'</li><li>'Ferrari Dino'</li><li>'Maserati Bora'</li><li>'Volvo 142E'</li></ol>\n"
      ],
      "text/latex": [
       "\\begin{enumerate*}\n",
       "\\item 'Mazda RX4'\n",
       "\\item 'Mazda RX4 Wag'\n",
       "\\item 'Datsun 710'\n",
       "\\item 'Hornet 4 Drive'\n",
       "\\item 'Hornet Sportabout'\n",
       "\\item 'Valiant'\n",
       "\\item 'Duster 360'\n",
       "\\item 'Merc 240D'\n",
       "\\item 'Merc 230'\n",
       "\\item 'Merc 280'\n",
       "\\item 'Merc 280C'\n",
       "\\item 'Merc 450SE'\n",
       "\\item 'Merc 450SL'\n",
       "\\item 'Merc 450SLC'\n",
       "\\item 'Cadillac Fleetwood'\n",
       "\\item 'Lincoln Continental'\n",
       "\\item 'Chrysler Imperial'\n",
       "\\item 'Fiat 128'\n",
       "\\item 'Honda Civic'\n",
       "\\item 'Toyota Corolla'\n",
       "\\item 'Toyota Corona'\n",
       "\\item 'Dodge Challenger'\n",
       "\\item 'AMC Javelin'\n",
       "\\item 'Camaro Z28'\n",
       "\\item 'Pontiac Firebird'\n",
       "\\item 'Fiat X1-9'\n",
       "\\item 'Porsche 914-2'\n",
       "\\item 'Lotus Europa'\n",
       "\\item 'Ford Pantera L'\n",
       "\\item 'Ferrari Dino'\n",
       "\\item 'Maserati Bora'\n",
       "\\item 'Volvo 142E'\n",
       "\\end{enumerate*}\n"
      ],
      "text/markdown": [
       "1. 'Mazda RX4'\n",
       "2. 'Mazda RX4 Wag'\n",
       "3. 'Datsun 710'\n",
       "4. 'Hornet 4 Drive'\n",
       "5. 'Hornet Sportabout'\n",
       "6. 'Valiant'\n",
       "7. 'Duster 360'\n",
       "8. 'Merc 240D'\n",
       "9. 'Merc 230'\n",
       "10. 'Merc 280'\n",
       "11. 'Merc 280C'\n",
       "12. 'Merc 450SE'\n",
       "13. 'Merc 450SL'\n",
       "14. 'Merc 450SLC'\n",
       "15. 'Cadillac Fleetwood'\n",
       "16. 'Lincoln Continental'\n",
       "17. 'Chrysler Imperial'\n",
       "18. 'Fiat 128'\n",
       "19. 'Honda Civic'\n",
       "20. 'Toyota Corolla'\n",
       "21. 'Toyota Corona'\n",
       "22. 'Dodge Challenger'\n",
       "23. 'AMC Javelin'\n",
       "24. 'Camaro Z28'\n",
       "25. 'Pontiac Firebird'\n",
       "26. 'Fiat X1-9'\n",
       "27. 'Porsche 914-2'\n",
       "28. 'Lotus Europa'\n",
       "29. 'Ford Pantera L'\n",
       "30. 'Ferrari Dino'\n",
       "31. 'Maserati Bora'\n",
       "32. 'Volvo 142E'\n",
       "\n",
       "\n"
      ],
      "text/plain": [
       " [1] \"Mazda RX4\"           \"Mazda RX4 Wag\"       \"Datsun 710\"         \n",
       " [4] \"Hornet 4 Drive\"      \"Hornet Sportabout\"   \"Valiant\"            \n",
       " [7] \"Duster 360\"          \"Merc 240D\"           \"Merc 230\"           \n",
       "[10] \"Merc 280\"            \"Merc 280C\"           \"Merc 450SE\"         \n",
       "[13] \"Merc 450SL\"          \"Merc 450SLC\"         \"Cadillac Fleetwood\" \n",
       "[16] \"Lincoln Continental\" \"Chrysler Imperial\"   \"Fiat 128\"           \n",
       "[19] \"Honda Civic\"         \"Toyota Corolla\"      \"Toyota Corona\"      \n",
       "[22] \"Dodge Challenger\"    \"AMC Javelin\"         \"Camaro Z28\"         \n",
       "[25] \"Pontiac Firebird\"    \"Fiat X1-9\"           \"Porsche 914-2\"      \n",
       "[28] \"Lotus Europa\"        \"Ford Pantera L\"      \"Ferrari Dino\"       \n",
       "[31] \"Maserati Bora\"       \"Volvo 142E\"         "
      ]
     },
     "metadata": {},
     "output_type": "display_data"
    }
   ],
   "source": [
    "names <- row.names(mtcars)\n",
    "names"
   ]
  },
  {
   "cell_type": "code",
   "execution_count": 104,
   "metadata": {
    "vscode": {
     "languageId": "r"
    }
   },
   "outputs": [
    {
     "data": {
      "text/html": [
       "<style>\n",
       ".list-inline {list-style: none; margin:0; padding: 0}\n",
       ".list-inline>li {display: inline-block}\n",
       ".list-inline>li:not(:last-child)::after {content: \"\\00b7\"; padding: 0 .5ex}\n",
       "</style>\n",
       "<ol class=list-inline><li>'Hornet 4 Drive'</li><li>'Merc 450SE'</li><li>'Volvo 142E'</li></ol>\n"
      ],
      "text/latex": [
       "\\begin{enumerate*}\n",
       "\\item 'Hornet 4 Drive'\n",
       "\\item 'Merc 450SE'\n",
       "\\item 'Volvo 142E'\n",
       "\\end{enumerate*}\n"
      ],
      "text/markdown": [
       "1. 'Hornet 4 Drive'\n",
       "2. 'Merc 450SE'\n",
       "3. 'Volvo 142E'\n",
       "\n",
       "\n"
      ],
      "text/plain": [
       "[1] \"Hornet 4 Drive\" \"Merc 450SE\"     \"Volvo 142E\"    "
      ]
     },
     "metadata": {},
     "output_type": "display_data"
    }
   ],
   "source": [
    "grep(\"e$\", names, value=T, ignore.case = T)"
   ]
  },
  {
   "cell_type": "code",
   "execution_count": 106,
   "metadata": {
    "vscode": {
     "languageId": "r"
    }
   },
   "outputs": [
    {
     "data": {
      "text/html": [
       "<style>\n",
       ".list-inline {list-style: none; margin:0; padding: 0}\n",
       ".list-inline>li {display: inline-block}\n",
       ".list-inline>li:not(:last-child)::after {content: \"\\00b7\"; padding: 0 .5ex}\n",
       "</style>\n",
       "<ol class=list-inline><li>'Mazda RX4'</li><li>'Datsun 710'</li><li>'Duster 360'</li><li>'Merc 230'</li><li>'Merc 280'</li><li>'Fiat 128'</li><li>'Camaro Z28'</li><li>'Fiat X1-9'</li><li>'Porsche 914-2'</li></ol>\n"
      ],
      "text/latex": [
       "\\begin{enumerate*}\n",
       "\\item 'Mazda RX4'\n",
       "\\item 'Datsun 710'\n",
       "\\item 'Duster 360'\n",
       "\\item 'Merc 230'\n",
       "\\item 'Merc 280'\n",
       "\\item 'Fiat 128'\n",
       "\\item 'Camaro Z28'\n",
       "\\item 'Fiat X1-9'\n",
       "\\item 'Porsche 914-2'\n",
       "\\end{enumerate*}\n"
      ],
      "text/markdown": [
       "1. 'Mazda RX4'\n",
       "2. 'Datsun 710'\n",
       "3. 'Duster 360'\n",
       "4. 'Merc 230'\n",
       "5. 'Merc 280'\n",
       "6. 'Fiat 128'\n",
       "7. 'Camaro Z28'\n",
       "8. 'Fiat X1-9'\n",
       "9. 'Porsche 914-2'\n",
       "\n",
       "\n"
      ],
      "text/plain": [
       "[1] \"Mazda RX4\"     \"Datsun 710\"    \"Duster 360\"    \"Merc 230\"     \n",
       "[5] \"Merc 280\"      \"Fiat 128\"      \"Camaro Z28\"    \"Fiat X1-9\"    \n",
       "[9] \"Porsche 914-2\""
      ]
     },
     "metadata": {},
     "output_type": "display_data"
    }
   ],
   "source": [
    "# 끝나는 단어, 문자가 0~9가 해당하는 것을 찾아줌\n",
    "grep(\"[0-9]$\", names, value=T)"
   ]
  },
  {
   "cell_type": "code",
   "execution_count": null,
   "metadata": {
    "vscode": {
     "languageId": "r"
    }
   },
   "outputs": [
    {
     "data": {
      "text/html": [
       "<table class=\"dataframe\">\n",
       "<caption>A tibble: 6 × 8</caption>\n",
       "<thead>\n",
       "\t<tr><th scope=col>시도</th><th scope=col>시군구</th><th scope=col>발생월</th><th scope=col>사고건수</th><th scope=col>사망자수</th><th scope=col>중상자수</th><th scope=col>경상자수</th><th scope=col>부상신고자수</th></tr>\n",
       "\t<tr><th scope=col>&lt;chr&gt;</th><th scope=col>&lt;chr&gt;</th><th scope=col>&lt;dbl&gt;</th><th scope=col>&lt;dbl&gt;</th><th scope=col>&lt;dbl&gt;</th><th scope=col>&lt;dbl&gt;</th><th scope=col>&lt;dbl&gt;</th><th scope=col>&lt;dbl&gt;</th></tr>\n",
       "</thead>\n",
       "<tbody>\n",
       "\t<tr><td>서울</td><td>종로구</td><td>1</td><td>77</td><td>2</td><td>15</td><td> 79</td><td>14</td></tr>\n",
       "\t<tr><td>서울</td><td>종로구</td><td>2</td><td>66</td><td>0</td><td>17</td><td> 59</td><td> 8</td></tr>\n",
       "\t<tr><td>서울</td><td>종로구</td><td>3</td><td>67</td><td>0</td><td>15</td><td> 80</td><td> 2</td></tr>\n",
       "\t<tr><td>서울</td><td>종로구</td><td>4</td><td>73</td><td>1</td><td>17</td><td> 67</td><td> 6</td></tr>\n",
       "\t<tr><td>서울</td><td>종로구</td><td>5</td><td>88</td><td>0</td><td>21</td><td>103</td><td>12</td></tr>\n",
       "\t<tr><td>서울</td><td>종로구</td><td>6</td><td>82</td><td>0</td><td>17</td><td> 78</td><td> 6</td></tr>\n",
       "</tbody>\n",
       "</table>\n"
      ],
      "text/latex": [
       "A tibble: 6 × 8\n",
       "\\begin{tabular}{llllllll}\n",
       " 시도 & 시군구 & 발생월 & 사고건수 & 사망자수 & 중상자수 & 경상자수 & 부상신고자수\\\\\n",
       " <chr> & <chr> & <dbl> & <dbl> & <dbl> & <dbl> & <dbl> & <dbl>\\\\\n",
       "\\hline\n",
       "\t 서울 & 종로구 & 1 & 77 & 2 & 15 &  79 & 14\\\\\n",
       "\t 서울 & 종로구 & 2 & 66 & 0 & 17 &  59 &  8\\\\\n",
       "\t 서울 & 종로구 & 3 & 67 & 0 & 15 &  80 &  2\\\\\n",
       "\t 서울 & 종로구 & 4 & 73 & 1 & 17 &  67 &  6\\\\\n",
       "\t 서울 & 종로구 & 5 & 88 & 0 & 21 & 103 & 12\\\\\n",
       "\t 서울 & 종로구 & 6 & 82 & 0 & 17 &  78 &  6\\\\\n",
       "\\end{tabular}\n"
      ],
      "text/markdown": [
       "\n",
       "A tibble: 6 × 8\n",
       "\n",
       "| 시도 &lt;chr&gt; | 시군구 &lt;chr&gt; | 발생월 &lt;dbl&gt; | 사고건수 &lt;dbl&gt; | 사망자수 &lt;dbl&gt; | 중상자수 &lt;dbl&gt; | 경상자수 &lt;dbl&gt; | 부상신고자수 &lt;dbl&gt; |\n",
       "|---|---|---|---|---|---|---|---|\n",
       "| 서울 | 종로구 | 1 | 77 | 2 | 15 |  79 | 14 |\n",
       "| 서울 | 종로구 | 2 | 66 | 0 | 17 |  59 |  8 |\n",
       "| 서울 | 종로구 | 3 | 67 | 0 | 15 |  80 |  2 |\n",
       "| 서울 | 종로구 | 4 | 73 | 1 | 17 |  67 |  6 |\n",
       "| 서울 | 종로구 | 5 | 88 | 0 | 21 | 103 | 12 |\n",
       "| 서울 | 종로구 | 6 | 82 | 0 | 17 |  78 |  6 |\n",
       "\n"
      ],
      "text/plain": [
       "  시도 시군구 발생월 사고건수 사망자수 중상자수 경상자수 부상신고자수\n",
       "1 서울 종로구 1      77       2        15        79      14          \n",
       "2 서울 종로구 2      66       0        17        59       8          \n",
       "3 서울 종로구 3      67       0        15        80       2          \n",
       "4 서울 종로구 4      73       1        17        67       6          \n",
       "5 서울 종로구 5      88       0        21       103      12          \n",
       "6 서울 종로구 6      82       0        17        78       6          "
      ]
     },
     "metadata": {},
     "output_type": "display_data"
    }
   ],
   "source": [
    "data <- read_csv(\"../mydata/도로교통공단_시군구별 월별 교통사고 통계_20231231.csv\", \n",
    "                 locale = locale(encoding = \"CP949\"), \n",
    "                 show_col_types = FALSE)\n",
    "head(data)"
   ]
  },
  {
   "cell_type": "code",
   "execution_count": null,
   "metadata": {
    "vscode": {
     "languageId": "r"
    }
   },
   "outputs": [
    {
     "data": {
      "text/html": [
       "<table class=\"dataframe\">\n",
       "<caption>A tibble: 132 × 8</caption>\n",
       "<thead>\n",
       "\t<tr><th scope=col>시도</th><th scope=col>시군구</th><th scope=col>발생월</th><th scope=col>사고건수</th><th scope=col>사망자수</th><th scope=col>중상자수</th><th scope=col>경상자수</th><th scope=col>부상신고자수</th></tr>\n",
       "\t<tr><th scope=col>&lt;chr&gt;</th><th scope=col>&lt;chr&gt;</th><th scope=col>&lt;dbl&gt;</th><th scope=col>&lt;dbl&gt;</th><th scope=col>&lt;dbl&gt;</th><th scope=col>&lt;dbl&gt;</th><th scope=col>&lt;dbl&gt;</th><th scope=col>&lt;dbl&gt;</th></tr>\n",
       "</thead>\n",
       "<tbody>\n",
       "\t<tr><td>충북</td><td>청주시</td><td> 1</td><td>286</td><td>2</td><td> 71</td><td>320</td><td>10</td></tr>\n",
       "\t<tr><td>충북</td><td>청주시</td><td> 2</td><td>271</td><td>5</td><td> 87</td><td>318</td><td>10</td></tr>\n",
       "\t<tr><td>충북</td><td>청주시</td><td> 3</td><td>336</td><td>6</td><td> 88</td><td>398</td><td>22</td></tr>\n",
       "\t<tr><td>충북</td><td>청주시</td><td> 4</td><td>354</td><td>3</td><td>120</td><td>370</td><td>14</td></tr>\n",
       "\t<tr><td>충북</td><td>청주시</td><td> 5</td><td>414</td><td>1</td><td>135</td><td>484</td><td>12</td></tr>\n",
       "\t<tr><td>충북</td><td>청주시</td><td> 6</td><td>377</td><td>1</td><td> 96</td><td>430</td><td>18</td></tr>\n",
       "\t<tr><td>충북</td><td>청주시</td><td> 7</td><td>372</td><td>7</td><td> 83</td><td>362</td><td>26</td></tr>\n",
       "\t<tr><td>충북</td><td>청주시</td><td> 8</td><td>358</td><td>5</td><td> 90</td><td>393</td><td>24</td></tr>\n",
       "\t<tr><td>충북</td><td>청주시</td><td> 9</td><td>415</td><td>7</td><td>112</td><td>515</td><td>16</td></tr>\n",
       "\t<tr><td>충북</td><td>청주시</td><td>10</td><td>374</td><td>3</td><td>102</td><td>437</td><td>25</td></tr>\n",
       "\t<tr><td>충북</td><td>청주시</td><td>11</td><td>400</td><td>4</td><td>115</td><td>435</td><td>21</td></tr>\n",
       "\t<tr><td>충북</td><td>청주시</td><td>12</td><td>380</td><td>4</td><td> 90</td><td>405</td><td>19</td></tr>\n",
       "\t<tr><td>충북</td><td>충주시</td><td> 1</td><td> 78</td><td>1</td><td> 31</td><td> 72</td><td> 1</td></tr>\n",
       "\t<tr><td>충북</td><td>충주시</td><td> 2</td><td> 60</td><td>2</td><td>  9</td><td> 72</td><td> 0</td></tr>\n",
       "\t<tr><td>충북</td><td>충주시</td><td> 3</td><td> 79</td><td>0</td><td> 19</td><td> 96</td><td> 1</td></tr>\n",
       "\t<tr><td>충북</td><td>충주시</td><td> 4</td><td> 89</td><td>2</td><td> 34</td><td> 95</td><td> 1</td></tr>\n",
       "\t<tr><td>충북</td><td>충주시</td><td> 5</td><td>105</td><td>0</td><td> 35</td><td>123</td><td> 1</td></tr>\n",
       "\t<tr><td>충북</td><td>충주시</td><td> 6</td><td> 89</td><td>2</td><td> 19</td><td>120</td><td> 1</td></tr>\n",
       "\t<tr><td>충북</td><td>충주시</td><td> 7</td><td> 90</td><td>4</td><td> 31</td><td> 92</td><td> 6</td></tr>\n",
       "\t<tr><td>충북</td><td>충주시</td><td> 8</td><td> 74</td><td>2</td><td> 32</td><td> 79</td><td> 0</td></tr>\n",
       "\t<tr><td>충북</td><td>충주시</td><td> 9</td><td> 95</td><td>0</td><td> 27</td><td>126</td><td> 3</td></tr>\n",
       "\t<tr><td>충북</td><td>충주시</td><td>10</td><td> 91</td><td>1</td><td> 26</td><td>128</td><td> 0</td></tr>\n",
       "\t<tr><td>충북</td><td>충주시</td><td>11</td><td> 90</td><td>2</td><td> 25</td><td>123</td><td> 0</td></tr>\n",
       "\t<tr><td>충북</td><td>충주시</td><td>12</td><td> 86</td><td>0</td><td> 19</td><td>114</td><td> 0</td></tr>\n",
       "\t<tr><td>충북</td><td>제천시</td><td> 1</td><td> 37</td><td>1</td><td>  8</td><td> 36</td><td> 2</td></tr>\n",
       "\t<tr><td>충북</td><td>제천시</td><td> 2</td><td> 34</td><td>0</td><td> 13</td><td> 36</td><td> 3</td></tr>\n",
       "\t<tr><td>충북</td><td>제천시</td><td> 3</td><td> 45</td><td>1</td><td>  9</td><td> 45</td><td> 9</td></tr>\n",
       "\t<tr><td>충북</td><td>제천시</td><td> 4</td><td> 69</td><td>0</td><td> 20</td><td> 84</td><td> 5</td></tr>\n",
       "\t<tr><td>충북</td><td>제천시</td><td> 5</td><td> 81</td><td>3</td><td> 17</td><td> 81</td><td>10</td></tr>\n",
       "\t<tr><td>충북</td><td>제천시</td><td> 6</td><td> 63</td><td>2</td><td> 16</td><td> 82</td><td> 8</td></tr>\n",
       "\t<tr><td>⋮</td><td>⋮</td><td>⋮</td><td>⋮</td><td>⋮</td><td>⋮</td><td>⋮</td><td>⋮</td></tr>\n",
       "\t<tr><td>충북</td><td>음성군</td><td> 7</td><td>47</td><td>1</td><td>18</td><td>63</td><td>1</td></tr>\n",
       "\t<tr><td>충북</td><td>음성군</td><td> 8</td><td>42</td><td>2</td><td>14</td><td>52</td><td>0</td></tr>\n",
       "\t<tr><td>충북</td><td>음성군</td><td> 9</td><td>46</td><td>0</td><td>16</td><td>70</td><td>2</td></tr>\n",
       "\t<tr><td>충북</td><td>음성군</td><td>10</td><td>48</td><td>2</td><td>18</td><td>54</td><td>3</td></tr>\n",
       "\t<tr><td>충북</td><td>음성군</td><td>11</td><td>41</td><td>1</td><td> 9</td><td>40</td><td>6</td></tr>\n",
       "\t<tr><td>충북</td><td>음성군</td><td>12</td><td>39</td><td>0</td><td>15</td><td>35</td><td>5</td></tr>\n",
       "\t<tr><td>충북</td><td>단양군</td><td> 1</td><td>11</td><td>0</td><td> 2</td><td>13</td><td>0</td></tr>\n",
       "\t<tr><td>충북</td><td>단양군</td><td> 2</td><td> 5</td><td>0</td><td> 1</td><td> 4</td><td>0</td></tr>\n",
       "\t<tr><td>충북</td><td>단양군</td><td> 3</td><td> 7</td><td>0</td><td> 2</td><td> 6</td><td>0</td></tr>\n",
       "\t<tr><td>충북</td><td>단양군</td><td> 4</td><td> 5</td><td>0</td><td> 1</td><td> 5</td><td>0</td></tr>\n",
       "\t<tr><td>충북</td><td>단양군</td><td> 5</td><td> 7</td><td>0</td><td> 0</td><td>17</td><td>0</td></tr>\n",
       "\t<tr><td>충북</td><td>단양군</td><td> 6</td><td> 4</td><td>0</td><td> 0</td><td> 4</td><td>0</td></tr>\n",
       "\t<tr><td>충북</td><td>단양군</td><td> 7</td><td> 5</td><td>2</td><td> 0</td><td> 5</td><td>0</td></tr>\n",
       "\t<tr><td>충북</td><td>단양군</td><td> 8</td><td>14</td><td>1</td><td> 3</td><td>24</td><td>0</td></tr>\n",
       "\t<tr><td>충북</td><td>단양군</td><td> 9</td><td>12</td><td>0</td><td> 1</td><td>25</td><td>0</td></tr>\n",
       "\t<tr><td>충북</td><td>단양군</td><td>10</td><td>11</td><td>1</td><td> 0</td><td>15</td><td>0</td></tr>\n",
       "\t<tr><td>충북</td><td>단양군</td><td>11</td><td>14</td><td>1</td><td>10</td><td>17</td><td>0</td></tr>\n",
       "\t<tr><td>충북</td><td>단양군</td><td>12</td><td> 5</td><td>0</td><td> 2</td><td> 3</td><td>0</td></tr>\n",
       "\t<tr><td>충북</td><td>증평군</td><td> 1</td><td> 7</td><td>0</td><td> 2</td><td> 5</td><td>1</td></tr>\n",
       "\t<tr><td>충북</td><td>증평군</td><td> 2</td><td> 9</td><td>0</td><td> 8</td><td>10</td><td>0</td></tr>\n",
       "\t<tr><td>충북</td><td>증평군</td><td> 3</td><td>15</td><td>0</td><td> 6</td><td>13</td><td>1</td></tr>\n",
       "\t<tr><td>충북</td><td>증평군</td><td> 4</td><td>14</td><td>0</td><td> 3</td><td>15</td><td>1</td></tr>\n",
       "\t<tr><td>충북</td><td>증평군</td><td> 5</td><td>12</td><td>0</td><td> 3</td><td>20</td><td>0</td></tr>\n",
       "\t<tr><td>충북</td><td>증평군</td><td> 6</td><td>21</td><td>1</td><td> 9</td><td>18</td><td>1</td></tr>\n",
       "\t<tr><td>충북</td><td>증평군</td><td> 7</td><td>25</td><td>0</td><td> 5</td><td>23</td><td>1</td></tr>\n",
       "\t<tr><td>충북</td><td>증평군</td><td> 8</td><td>23</td><td>0</td><td> 9</td><td>20</td><td>3</td></tr>\n",
       "\t<tr><td>충북</td><td>증평군</td><td> 9</td><td>18</td><td>0</td><td> 4</td><td>26</td><td>3</td></tr>\n",
       "\t<tr><td>충북</td><td>증평군</td><td>10</td><td>27</td><td>1</td><td> 7</td><td>32</td><td>1</td></tr>\n",
       "\t<tr><td>충북</td><td>증평군</td><td>11</td><td>15</td><td>1</td><td> 2</td><td>17</td><td>0</td></tr>\n",
       "\t<tr><td>충북</td><td>증평군</td><td>12</td><td>20</td><td>0</td><td> 6</td><td>17</td><td>2</td></tr>\n",
       "</tbody>\n",
       "</table>\n"
      ],
      "text/latex": [
       "A tibble: 132 × 8\n",
       "\\begin{tabular}{llllllll}\n",
       " 시도 & 시군구 & 발생월 & 사고건수 & 사망자수 & 중상자수 & 경상자수 & 부상신고자수\\\\\n",
       " <chr> & <chr> & <dbl> & <dbl> & <dbl> & <dbl> & <dbl> & <dbl>\\\\\n",
       "\\hline\n",
       "\t 충북 & 청주시 &  1 & 286 & 2 &  71 & 320 & 10\\\\\n",
       "\t 충북 & 청주시 &  2 & 271 & 5 &  87 & 318 & 10\\\\\n",
       "\t 충북 & 청주시 &  3 & 336 & 6 &  88 & 398 & 22\\\\\n",
       "\t 충북 & 청주시 &  4 & 354 & 3 & 120 & 370 & 14\\\\\n",
       "\t 충북 & 청주시 &  5 & 414 & 1 & 135 & 484 & 12\\\\\n",
       "\t 충북 & 청주시 &  6 & 377 & 1 &  96 & 430 & 18\\\\\n",
       "\t 충북 & 청주시 &  7 & 372 & 7 &  83 & 362 & 26\\\\\n",
       "\t 충북 & 청주시 &  8 & 358 & 5 &  90 & 393 & 24\\\\\n",
       "\t 충북 & 청주시 &  9 & 415 & 7 & 112 & 515 & 16\\\\\n",
       "\t 충북 & 청주시 & 10 & 374 & 3 & 102 & 437 & 25\\\\\n",
       "\t 충북 & 청주시 & 11 & 400 & 4 & 115 & 435 & 21\\\\\n",
       "\t 충북 & 청주시 & 12 & 380 & 4 &  90 & 405 & 19\\\\\n",
       "\t 충북 & 충주시 &  1 &  78 & 1 &  31 &  72 &  1\\\\\n",
       "\t 충북 & 충주시 &  2 &  60 & 2 &   9 &  72 &  0\\\\\n",
       "\t 충북 & 충주시 &  3 &  79 & 0 &  19 &  96 &  1\\\\\n",
       "\t 충북 & 충주시 &  4 &  89 & 2 &  34 &  95 &  1\\\\\n",
       "\t 충북 & 충주시 &  5 & 105 & 0 &  35 & 123 &  1\\\\\n",
       "\t 충북 & 충주시 &  6 &  89 & 2 &  19 & 120 &  1\\\\\n",
       "\t 충북 & 충주시 &  7 &  90 & 4 &  31 &  92 &  6\\\\\n",
       "\t 충북 & 충주시 &  8 &  74 & 2 &  32 &  79 &  0\\\\\n",
       "\t 충북 & 충주시 &  9 &  95 & 0 &  27 & 126 &  3\\\\\n",
       "\t 충북 & 충주시 & 10 &  91 & 1 &  26 & 128 &  0\\\\\n",
       "\t 충북 & 충주시 & 11 &  90 & 2 &  25 & 123 &  0\\\\\n",
       "\t 충북 & 충주시 & 12 &  86 & 0 &  19 & 114 &  0\\\\\n",
       "\t 충북 & 제천시 &  1 &  37 & 1 &   8 &  36 &  2\\\\\n",
       "\t 충북 & 제천시 &  2 &  34 & 0 &  13 &  36 &  3\\\\\n",
       "\t 충북 & 제천시 &  3 &  45 & 1 &   9 &  45 &  9\\\\\n",
       "\t 충북 & 제천시 &  4 &  69 & 0 &  20 &  84 &  5\\\\\n",
       "\t 충북 & 제천시 &  5 &  81 & 3 &  17 &  81 & 10\\\\\n",
       "\t 충북 & 제천시 &  6 &  63 & 2 &  16 &  82 &  8\\\\\n",
       "\t ⋮ & ⋮ & ⋮ & ⋮ & ⋮ & ⋮ & ⋮ & ⋮\\\\\n",
       "\t 충북 & 음성군 &  7 & 47 & 1 & 18 & 63 & 1\\\\\n",
       "\t 충북 & 음성군 &  8 & 42 & 2 & 14 & 52 & 0\\\\\n",
       "\t 충북 & 음성군 &  9 & 46 & 0 & 16 & 70 & 2\\\\\n",
       "\t 충북 & 음성군 & 10 & 48 & 2 & 18 & 54 & 3\\\\\n",
       "\t 충북 & 음성군 & 11 & 41 & 1 &  9 & 40 & 6\\\\\n",
       "\t 충북 & 음성군 & 12 & 39 & 0 & 15 & 35 & 5\\\\\n",
       "\t 충북 & 단양군 &  1 & 11 & 0 &  2 & 13 & 0\\\\\n",
       "\t 충북 & 단양군 &  2 &  5 & 0 &  1 &  4 & 0\\\\\n",
       "\t 충북 & 단양군 &  3 &  7 & 0 &  2 &  6 & 0\\\\\n",
       "\t 충북 & 단양군 &  4 &  5 & 0 &  1 &  5 & 0\\\\\n",
       "\t 충북 & 단양군 &  5 &  7 & 0 &  0 & 17 & 0\\\\\n",
       "\t 충북 & 단양군 &  6 &  4 & 0 &  0 &  4 & 0\\\\\n",
       "\t 충북 & 단양군 &  7 &  5 & 2 &  0 &  5 & 0\\\\\n",
       "\t 충북 & 단양군 &  8 & 14 & 1 &  3 & 24 & 0\\\\\n",
       "\t 충북 & 단양군 &  9 & 12 & 0 &  1 & 25 & 0\\\\\n",
       "\t 충북 & 단양군 & 10 & 11 & 1 &  0 & 15 & 0\\\\\n",
       "\t 충북 & 단양군 & 11 & 14 & 1 & 10 & 17 & 0\\\\\n",
       "\t 충북 & 단양군 & 12 &  5 & 0 &  2 &  3 & 0\\\\\n",
       "\t 충북 & 증평군 &  1 &  7 & 0 &  2 &  5 & 1\\\\\n",
       "\t 충북 & 증평군 &  2 &  9 & 0 &  8 & 10 & 0\\\\\n",
       "\t 충북 & 증평군 &  3 & 15 & 0 &  6 & 13 & 1\\\\\n",
       "\t 충북 & 증평군 &  4 & 14 & 0 &  3 & 15 & 1\\\\\n",
       "\t 충북 & 증평군 &  5 & 12 & 0 &  3 & 20 & 0\\\\\n",
       "\t 충북 & 증평군 &  6 & 21 & 1 &  9 & 18 & 1\\\\\n",
       "\t 충북 & 증평군 &  7 & 25 & 0 &  5 & 23 & 1\\\\\n",
       "\t 충북 & 증평군 &  8 & 23 & 0 &  9 & 20 & 3\\\\\n",
       "\t 충북 & 증평군 &  9 & 18 & 0 &  4 & 26 & 3\\\\\n",
       "\t 충북 & 증평군 & 10 & 27 & 1 &  7 & 32 & 1\\\\\n",
       "\t 충북 & 증평군 & 11 & 15 & 1 &  2 & 17 & 0\\\\\n",
       "\t 충북 & 증평군 & 12 & 20 & 0 &  6 & 17 & 2\\\\\n",
       "\\end{tabular}\n"
      ],
      "text/markdown": [
       "\n",
       "A tibble: 132 × 8\n",
       "\n",
       "| 시도 &lt;chr&gt; | 시군구 &lt;chr&gt; | 발생월 &lt;dbl&gt; | 사고건수 &lt;dbl&gt; | 사망자수 &lt;dbl&gt; | 중상자수 &lt;dbl&gt; | 경상자수 &lt;dbl&gt; | 부상신고자수 &lt;dbl&gt; |\n",
       "|---|---|---|---|---|---|---|---|\n",
       "| 충북 | 청주시 |  1 | 286 | 2 |  71 | 320 | 10 |\n",
       "| 충북 | 청주시 |  2 | 271 | 5 |  87 | 318 | 10 |\n",
       "| 충북 | 청주시 |  3 | 336 | 6 |  88 | 398 | 22 |\n",
       "| 충북 | 청주시 |  4 | 354 | 3 | 120 | 370 | 14 |\n",
       "| 충북 | 청주시 |  5 | 414 | 1 | 135 | 484 | 12 |\n",
       "| 충북 | 청주시 |  6 | 377 | 1 |  96 | 430 | 18 |\n",
       "| 충북 | 청주시 |  7 | 372 | 7 |  83 | 362 | 26 |\n",
       "| 충북 | 청주시 |  8 | 358 | 5 |  90 | 393 | 24 |\n",
       "| 충북 | 청주시 |  9 | 415 | 7 | 112 | 515 | 16 |\n",
       "| 충북 | 청주시 | 10 | 374 | 3 | 102 | 437 | 25 |\n",
       "| 충북 | 청주시 | 11 | 400 | 4 | 115 | 435 | 21 |\n",
       "| 충북 | 청주시 | 12 | 380 | 4 |  90 | 405 | 19 |\n",
       "| 충북 | 충주시 |  1 |  78 | 1 |  31 |  72 |  1 |\n",
       "| 충북 | 충주시 |  2 |  60 | 2 |   9 |  72 |  0 |\n",
       "| 충북 | 충주시 |  3 |  79 | 0 |  19 |  96 |  1 |\n",
       "| 충북 | 충주시 |  4 |  89 | 2 |  34 |  95 |  1 |\n",
       "| 충북 | 충주시 |  5 | 105 | 0 |  35 | 123 |  1 |\n",
       "| 충북 | 충주시 |  6 |  89 | 2 |  19 | 120 |  1 |\n",
       "| 충북 | 충주시 |  7 |  90 | 4 |  31 |  92 |  6 |\n",
       "| 충북 | 충주시 |  8 |  74 | 2 |  32 |  79 |  0 |\n",
       "| 충북 | 충주시 |  9 |  95 | 0 |  27 | 126 |  3 |\n",
       "| 충북 | 충주시 | 10 |  91 | 1 |  26 | 128 |  0 |\n",
       "| 충북 | 충주시 | 11 |  90 | 2 |  25 | 123 |  0 |\n",
       "| 충북 | 충주시 | 12 |  86 | 0 |  19 | 114 |  0 |\n",
       "| 충북 | 제천시 |  1 |  37 | 1 |   8 |  36 |  2 |\n",
       "| 충북 | 제천시 |  2 |  34 | 0 |  13 |  36 |  3 |\n",
       "| 충북 | 제천시 |  3 |  45 | 1 |   9 |  45 |  9 |\n",
       "| 충북 | 제천시 |  4 |  69 | 0 |  20 |  84 |  5 |\n",
       "| 충북 | 제천시 |  5 |  81 | 3 |  17 |  81 | 10 |\n",
       "| 충북 | 제천시 |  6 |  63 | 2 |  16 |  82 |  8 |\n",
       "| ⋮ | ⋮ | ⋮ | ⋮ | ⋮ | ⋮ | ⋮ | ⋮ |\n",
       "| 충북 | 음성군 |  7 | 47 | 1 | 18 | 63 | 1 |\n",
       "| 충북 | 음성군 |  8 | 42 | 2 | 14 | 52 | 0 |\n",
       "| 충북 | 음성군 |  9 | 46 | 0 | 16 | 70 | 2 |\n",
       "| 충북 | 음성군 | 10 | 48 | 2 | 18 | 54 | 3 |\n",
       "| 충북 | 음성군 | 11 | 41 | 1 |  9 | 40 | 6 |\n",
       "| 충북 | 음성군 | 12 | 39 | 0 | 15 | 35 | 5 |\n",
       "| 충북 | 단양군 |  1 | 11 | 0 |  2 | 13 | 0 |\n",
       "| 충북 | 단양군 |  2 |  5 | 0 |  1 |  4 | 0 |\n",
       "| 충북 | 단양군 |  3 |  7 | 0 |  2 |  6 | 0 |\n",
       "| 충북 | 단양군 |  4 |  5 | 0 |  1 |  5 | 0 |\n",
       "| 충북 | 단양군 |  5 |  7 | 0 |  0 | 17 | 0 |\n",
       "| 충북 | 단양군 |  6 |  4 | 0 |  0 |  4 | 0 |\n",
       "| 충북 | 단양군 |  7 |  5 | 2 |  0 |  5 | 0 |\n",
       "| 충북 | 단양군 |  8 | 14 | 1 |  3 | 24 | 0 |\n",
       "| 충북 | 단양군 |  9 | 12 | 0 |  1 | 25 | 0 |\n",
       "| 충북 | 단양군 | 10 | 11 | 1 |  0 | 15 | 0 |\n",
       "| 충북 | 단양군 | 11 | 14 | 1 | 10 | 17 | 0 |\n",
       "| 충북 | 단양군 | 12 |  5 | 0 |  2 |  3 | 0 |\n",
       "| 충북 | 증평군 |  1 |  7 | 0 |  2 |  5 | 1 |\n",
       "| 충북 | 증평군 |  2 |  9 | 0 |  8 | 10 | 0 |\n",
       "| 충북 | 증평군 |  3 | 15 | 0 |  6 | 13 | 1 |\n",
       "| 충북 | 증평군 |  4 | 14 | 0 |  3 | 15 | 1 |\n",
       "| 충북 | 증평군 |  5 | 12 | 0 |  3 | 20 | 0 |\n",
       "| 충북 | 증평군 |  6 | 21 | 1 |  9 | 18 | 1 |\n",
       "| 충북 | 증평군 |  7 | 25 | 0 |  5 | 23 | 1 |\n",
       "| 충북 | 증평군 |  8 | 23 | 0 |  9 | 20 | 3 |\n",
       "| 충북 | 증평군 |  9 | 18 | 0 |  4 | 26 | 3 |\n",
       "| 충북 | 증평군 | 10 | 27 | 1 |  7 | 32 | 1 |\n",
       "| 충북 | 증평군 | 11 | 15 | 1 |  2 | 17 | 0 |\n",
       "| 충북 | 증평군 | 12 | 20 | 0 |  6 | 17 | 2 |\n",
       "\n"
      ],
      "text/plain": [
       "    시도 시군구 발생월 사고건수 사망자수 중상자수 경상자수 부상신고자수\n",
       "1   충북 청주시  1     286      2         71      320      10          \n",
       "2   충북 청주시  2     271      5         87      318      10          \n",
       "3   충북 청주시  3     336      6         88      398      22          \n",
       "4   충북 청주시  4     354      3        120      370      14          \n",
       "5   충북 청주시  5     414      1        135      484      12          \n",
       "6   충북 청주시  6     377      1         96      430      18          \n",
       "7   충북 청주시  7     372      7         83      362      26          \n",
       "8   충북 청주시  8     358      5         90      393      24          \n",
       "9   충북 청주시  9     415      7        112      515      16          \n",
       "10  충북 청주시 10     374      3        102      437      25          \n",
       "11  충북 청주시 11     400      4        115      435      21          \n",
       "12  충북 청주시 12     380      4         90      405      19          \n",
       "13  충북 충주시  1      78      1         31       72       1          \n",
       "14  충북 충주시  2      60      2          9       72       0          \n",
       "15  충북 충주시  3      79      0         19       96       1          \n",
       "16  충북 충주시  4      89      2         34       95       1          \n",
       "17  충북 충주시  5     105      0         35      123       1          \n",
       "18  충북 충주시  6      89      2         19      120       1          \n",
       "19  충북 충주시  7      90      4         31       92       6          \n",
       "20  충북 충주시  8      74      2         32       79       0          \n",
       "21  충북 충주시  9      95      0         27      126       3          \n",
       "22  충북 충주시 10      91      1         26      128       0          \n",
       "23  충북 충주시 11      90      2         25      123       0          \n",
       "24  충북 충주시 12      86      0         19      114       0          \n",
       "25  충북 제천시  1      37      1          8       36       2          \n",
       "26  충북 제천시  2      34      0         13       36       3          \n",
       "27  충북 제천시  3      45      1          9       45       9          \n",
       "28  충북 제천시  4      69      0         20       84       5          \n",
       "29  충북 제천시  5      81      3         17       81      10          \n",
       "30  충북 제천시  6      63      2         16       82       8          \n",
       "⋮   ⋮    ⋮      ⋮      ⋮        ⋮        ⋮        ⋮        ⋮           \n",
       "103 충북 음성군  7     47       1        18       63       1           \n",
       "104 충북 음성군  8     42       2        14       52       0           \n",
       "105 충북 음성군  9     46       0        16       70       2           \n",
       "106 충북 음성군 10     48       2        18       54       3           \n",
       "107 충북 음성군 11     41       1         9       40       6           \n",
       "108 충북 음성군 12     39       0        15       35       5           \n",
       "109 충북 단양군  1     11       0         2       13       0           \n",
       "110 충북 단양군  2      5       0         1        4       0           \n",
       "111 충북 단양군  3      7       0         2        6       0           \n",
       "112 충북 단양군  4      5       0         1        5       0           \n",
       "113 충북 단양군  5      7       0         0       17       0           \n",
       "114 충북 단양군  6      4       0         0        4       0           \n",
       "115 충북 단양군  7      5       2         0        5       0           \n",
       "116 충북 단양군  8     14       1         3       24       0           \n",
       "117 충북 단양군  9     12       0         1       25       0           \n",
       "118 충북 단양군 10     11       1         0       15       0           \n",
       "119 충북 단양군 11     14       1        10       17       0           \n",
       "120 충북 단양군 12      5       0         2        3       0           \n",
       "121 충북 증평군  1      7       0         2        5       1           \n",
       "122 충북 증평군  2      9       0         8       10       0           \n",
       "123 충북 증평군  3     15       0         6       13       1           \n",
       "124 충북 증평군  4     14       0         3       15       1           \n",
       "125 충북 증평군  5     12       0         3       20       0           \n",
       "126 충북 증평군  6     21       1         9       18       1           \n",
       "127 충북 증평군  7     25       0         5       23       1           \n",
       "128 충북 증평군  8     23       0         9       20       3           \n",
       "129 충북 증평군  9     18       0         4       26       3           \n",
       "130 충북 증평군 10     27       1         7       32       1           \n",
       "131 충북 증평군 11     15       1         2       17       0           \n",
       "132 충북 증평군 12     20       0         6       17       2           "
      ]
     },
     "metadata": {},
     "output_type": "display_data"
    }
   ],
   "source": [
    "index <- grep(\"충북\", data$`시도`)\n",
    "cb <- data[index, ]\n",
    "cb"
   ]
  },
  {
   "cell_type": "code",
   "execution_count": 126,
   "metadata": {
    "vscode": {
     "languageId": "r"
    }
   },
   "outputs": [
    {
     "data": {
      "text/plain": [
       "\n",
       "충북 \n",
       " 132 "
      ]
     },
     "metadata": {},
     "output_type": "display_data"
    },
    {
     "data": {
      "text/plain": [
       "\n",
       "충북 \n",
       " 132 "
      ]
     },
     "metadata": {},
     "output_type": "display_data"
    }
   ],
   "source": [
    "table(cb$`시도`)\n",
    "table(cb$시도)"
   ]
  },
  {
   "cell_type": "code",
   "execution_count": 127,
   "metadata": {
    "vscode": {
     "languageId": "r"
    }
   },
   "outputs": [
    {
     "data": {
      "text/plain": [
       "\n",
       "제천시 청주시 충주시 \n",
       "    12     12     12 "
      ]
     },
     "metadata": {},
     "output_type": "display_data"
    }
   ],
   "source": [
    "idx <- grep(\"시$\", cb$`시군구`)\n",
    "city <- cb[idx, ]\n",
    "table(city$시군구)"
   ]
  },
  {
   "cell_type": "code",
   "execution_count": null,
   "metadata": {
    "vscode": {
     "languageId": "r"
    }
   },
   "outputs": [
    {
     "data": {
      "text/plain": [
       "\n",
       "  강남구     남구   남동구 남양주시   남원시   남해군   성남시   하남시 \n",
       "      12       48       12       12       12       12       12       12 \n",
       "  해남군 \n",
       "      12 "
      ]
     },
     "metadata": {},
     "output_type": "display_data"
    }
   ],
   "source": [
    "# 남이 들어간 시군구를 검색 \n",
    "idx <- grep(\"남\", data$`시군구`)\n",
    "south <- data[idx, ]\n",
    "table(south$시군구)"
   ]
  },
  {
   "cell_type": "code",
   "execution_count": null,
   "metadata": {
    "vscode": {
     "languageId": "r"
    }
   },
   "outputs": [
    {
     "data": {
      "text/plain": [
       "\n",
       "    남구   남동구 남양주시   남원시   남해군 \n",
       "      48       12       12       12       12 "
      ]
     },
     "metadata": {},
     "output_type": "display_data"
    }
   ],
   "source": [
    "# 남으로 시작하는 시군구\n",
    "idx <- grep(\"^남\", data$`시군구`)\n",
    "south <- data[idx, ]\n",
    "table(south$시군구)"
   ]
  },
  {
   "cell_type": "code",
   "execution_count": 145,
   "metadata": {
    "vscode": {
     "languageId": "r"
    }
   },
   "outputs": [
    {
     "data": {
      "text/plain": [
       "\n",
       "  남구 남동구 \n",
       "    48     12 "
      ]
     },
     "metadata": {},
     "output_type": "display_data"
    }
   ],
   "source": [
    "# 남으로 시작하고 구로 끝나는 3글자 시군구 \n",
    "idx <- grep(\"^남.*구$\", data$`시군구`)\n",
    "south <- data[idx, ]\n",
    "table(south$시군구)"
   ]
  },
  {
   "cell_type": "code",
   "execution_count": null,
   "metadata": {
    "vscode": {
     "languageId": "r"
    }
   },
   "outputs": [
    {
     "data": {
      "text/plain": [
       "\n",
       "  광주 남구   대구 남구   부산 남구   울산 남구 인천 남동구 \n",
       "         12          12          12          12          12 "
      ]
     },
     "metadata": {},
     "output_type": "display_data"
    }
   ],
   "source": [
    "# 정확하게 남구가 어디에 분포되있는지 확인 함\n",
    "data$시도2 <- paste(data$시도, data$시군구)\n",
    "idx <- grep(\"^남.*구$\", data$`시군구`)\n",
    "south3 <- data[idx, ]\n",
    "table(south3$시도2)"
   ]
  }
 ],
 "metadata": {
  "kernelspec": {
   "display_name": "R",
   "language": "R",
   "name": "ir"
  },
  "language_info": {
   "codemirror_mode": "r",
   "file_extension": ".r",
   "mimetype": "text/x-r-source",
   "name": "R",
   "pygments_lexer": "r",
   "version": "4.3.1"
  }
 },
 "nbformat": 4,
 "nbformat_minor": 2
}
