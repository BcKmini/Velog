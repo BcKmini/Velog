{
 "cells": [
  {
   "cell_type": "code",
   "execution_count": 1,
   "metadata": {
    "vscode": {
     "languageId": "r"
    }
   },
   "outputs": [
    {
     "data": {
      "text/html": [
       "'hello world!'"
      ],
      "text/latex": [
       "'hello world!'"
      ],
      "text/markdown": [
       "'hello world!'"
      ],
      "text/plain": [
       "[1] \"hello world!\""
      ]
     },
     "metadata": {},
     "output_type": "display_data"
    }
   ],
   "source": [
    "tolower(\"Hello world!\")"
   ]
  },
  {
   "cell_type": "code",
   "execution_count": 2,
   "metadata": {
    "vscode": {
     "languageId": "r"
    }
   },
   "outputs": [
    {
     "data": {
      "text/html": [
       "'HELLO WORLD!'"
      ],
      "text/latex": [
       "'HELLO WORLD!'"
      ],
      "text/markdown": [
       "'HELLO WORLD!'"
      ],
      "text/plain": [
       "[1] \"HELLO WORLD!\""
      ]
     },
     "metadata": {},
     "output_type": "display_data"
    }
   ],
   "source": [
    "toupper(\"Hello world!\")"
   ]
  },
  {
   "cell_type": "code",
   "execution_count": 3,
   "metadata": {
    "vscode": {
     "languageId": "r"
    }
   },
   "outputs": [
    {
     "data": {
      "text/html": [
       "'2024 11 00'"
      ],
      "text/latex": [
       "'2024 11 00'"
      ],
      "text/markdown": [
       "'2024 11 00'"
      ],
      "text/plain": [
       "[1] \"2024 11 00\""
      ]
     },
     "metadata": {},
     "output_type": "display_data"
    }
   ],
   "source": [
    "paste(\"2024\", \"11\", \"00\")"
   ]
  },
  {
   "cell_type": "code",
   "execution_count": 4,
   "metadata": {
    "vscode": {
     "languageId": "r"
    }
   },
   "outputs": [
    {
     "data": {
      "text/html": [
       "'2024-11-00'"
      ],
      "text/latex": [
       "'2024-11-00'"
      ],
      "text/markdown": [
       "'2024-11-00'"
      ],
      "text/plain": [
       "[1] \"2024-11-00\""
      ]
     },
     "metadata": {},
     "output_type": "display_data"
    }
   ],
   "source": [
    "paste(\"2024\", \"11\", \"00\", sep=\"-\")"
   ]
  },
  {
   "cell_type": "code",
   "execution_count": 5,
   "metadata": {
    "vscode": {
     "languageId": "r"
    }
   },
   "outputs": [
    {
     "data": {
      "text/html": [
       "<style>\n",
       ".list-inline {list-style: none; margin:0; padding: 0}\n",
       ".list-inline>li {display: inline-block}\n",
       ".list-inline>li:not(:last-child)::after {content: \"\\00b7\"; padding: 0 .5ex}\n",
       "</style>\n",
       "<ol class=list-inline><li>'apple'</li><li>'mango'</li><li>'I like Orange'</li></ol>\n"
      ],
      "text/latex": [
       "\\begin{enumerate*}\n",
       "\\item 'apple'\n",
       "\\item 'mango'\n",
       "\\item 'I like Orange'\n",
       "\\end{enumerate*}\n"
      ],
      "text/markdown": [
       "1. 'apple'\n",
       "2. 'mango'\n",
       "3. 'I like Orange'\n",
       "\n",
       "\n"
      ],
      "text/plain": [
       "[1] \"apple\"         \"mango\"         \"I like Orange\""
      ]
     },
     "metadata": {},
     "output_type": "display_data"
    }
   ],
   "source": [
    "paste(c(\"apple\", \"mango\", \"I like Orange\"))"
   ]
  },
  {
   "cell_type": "code",
   "execution_count": 6,
   "metadata": {
    "vscode": {
     "languageId": "r"
    }
   },
   "outputs": [
    {
     "name": "stdout",
     "output_type": "stream",
     "text": [
      "apple mango I like Orange"
     ]
    }
   ],
   "source": [
    "cat(c(\"apple\", \"mango\", \"I like Orange\"))"
   ]
  },
  {
   "cell_type": "code",
   "execution_count": 7,
   "metadata": {
    "vscode": {
     "languageId": "r"
    }
   },
   "outputs": [
    {
     "data": {
      "text/html": [
       "'20241100'"
      ],
      "text/latex": [
       "'20241100'"
      ],
      "text/markdown": [
       "'20241100'"
      ],
      "text/plain": [
       "[1] \"20241100\""
      ]
     },
     "metadata": {},
     "output_type": "display_data"
    }
   ],
   "source": [
    "paste0(\"2024\", \"11\", \"00\")"
   ]
  },
  {
   "cell_type": "code",
   "execution_count": 8,
   "metadata": {
    "vscode": {
     "languageId": "r"
    }
   },
   "outputs": [
    {
     "data": {
      "text/html": [
       "<style>\n",
       ".list-inline {list-style: none; margin:0; padding: 0}\n",
       ".list-inline>li {display: inline-block}\n",
       ".list-inline>li:not(:last-child)::after {content: \"\\00b7\"; padding: 0 .5ex}\n",
       "</style>\n",
       "<ol class=list-inline><li>'V1'</li><li>'V2'</li><li>'V3'</li><li>'V4'</li><li>'V5'</li><li>'V6'</li><li>'V7'</li><li>'V8'</li><li>'V9'</li><li>'V10'</li></ol>\n"
      ],
      "text/latex": [
       "\\begin{enumerate*}\n",
       "\\item 'V1'\n",
       "\\item 'V2'\n",
       "\\item 'V3'\n",
       "\\item 'V4'\n",
       "\\item 'V5'\n",
       "\\item 'V6'\n",
       "\\item 'V7'\n",
       "\\item 'V8'\n",
       "\\item 'V9'\n",
       "\\item 'V10'\n",
       "\\end{enumerate*}\n"
      ],
      "text/markdown": [
       "1. 'V1'\n",
       "2. 'V2'\n",
       "3. 'V3'\n",
       "4. 'V4'\n",
       "5. 'V5'\n",
       "6. 'V6'\n",
       "7. 'V7'\n",
       "8. 'V8'\n",
       "9. 'V9'\n",
       "10. 'V10'\n",
       "\n",
       "\n"
      ],
      "text/plain": [
       " [1] \"V1\"  \"V2\"  \"V3\"  \"V4\"  \"V5\"  \"V6\"  \"V7\"  \"V8\"  \"V9\"  \"V10\""
      ]
     },
     "metadata": {},
     "output_type": "display_data"
    }
   ],
   "source": [
    "paste0(\"V\", 1:10)"
   ]
  },
  {
   "cell_type": "code",
   "execution_count": 9,
   "metadata": {
    "vscode": {
     "languageId": "r"
    }
   },
   "outputs": [
    {
     "data": {
      "text/html": [
       "<style>\n",
       ".list-inline {list-style: none; margin:0; padding: 0}\n",
       ".list-inline>li {display: inline-block}\n",
       ".list-inline>li:not(:last-child)::after {content: \"\\00b7\"; padding: 0 .5ex}\n",
       "</style>\n",
       "<ol class=list-inline><li>'S1'</li><li>'S1'</li><li>'S1'</li><li>'S1'</li><li>'S1'</li><li>'S2'</li><li>'S2'</li><li>'S2'</li><li>'S2'</li><li>'S2'</li><li>'S3'</li><li>'S3'</li><li>'S3'</li><li>'S3'</li><li>'S3'</li><li>'S4'</li><li>'S4'</li><li>'S4'</li><li>'S4'</li><li>'S4'</li><li>'S5'</li><li>'S5'</li><li>'S5'</li><li>'S5'</li><li>'S5'</li><li>'S6'</li><li>'S6'</li><li>'S6'</li><li>'S6'</li><li>'S6'</li><li>'S7'</li><li>'S7'</li><li>'S7'</li><li>'S7'</li><li>'S7'</li><li>'S8'</li><li>'S8'</li><li>'S8'</li><li>'S8'</li><li>'S8'</li><li>'S9'</li><li>'S9'</li><li>'S9'</li><li>'S9'</li><li>'S9'</li><li>'S10'</li><li>'S10'</li><li>'S10'</li><li>'S10'</li><li>'S10'</li></ol>\n"
      ],
      "text/latex": [
       "\\begin{enumerate*}\n",
       "\\item 'S1'\n",
       "\\item 'S1'\n",
       "\\item 'S1'\n",
       "\\item 'S1'\n",
       "\\item 'S1'\n",
       "\\item 'S2'\n",
       "\\item 'S2'\n",
       "\\item 'S2'\n",
       "\\item 'S2'\n",
       "\\item 'S2'\n",
       "\\item 'S3'\n",
       "\\item 'S3'\n",
       "\\item 'S3'\n",
       "\\item 'S3'\n",
       "\\item 'S3'\n",
       "\\item 'S4'\n",
       "\\item 'S4'\n",
       "\\item 'S4'\n",
       "\\item 'S4'\n",
       "\\item 'S4'\n",
       "\\item 'S5'\n",
       "\\item 'S5'\n",
       "\\item 'S5'\n",
       "\\item 'S5'\n",
       "\\item 'S5'\n",
       "\\item 'S6'\n",
       "\\item 'S6'\n",
       "\\item 'S6'\n",
       "\\item 'S6'\n",
       "\\item 'S6'\n",
       "\\item 'S7'\n",
       "\\item 'S7'\n",
       "\\item 'S7'\n",
       "\\item 'S7'\n",
       "\\item 'S7'\n",
       "\\item 'S8'\n",
       "\\item 'S8'\n",
       "\\item 'S8'\n",
       "\\item 'S8'\n",
       "\\item 'S8'\n",
       "\\item 'S9'\n",
       "\\item 'S9'\n",
       "\\item 'S9'\n",
       "\\item 'S9'\n",
       "\\item 'S9'\n",
       "\\item 'S10'\n",
       "\\item 'S10'\n",
       "\\item 'S10'\n",
       "\\item 'S10'\n",
       "\\item 'S10'\n",
       "\\end{enumerate*}\n"
      ],
      "text/markdown": [
       "1. 'S1'\n",
       "2. 'S1'\n",
       "3. 'S1'\n",
       "4. 'S1'\n",
       "5. 'S1'\n",
       "6. 'S2'\n",
       "7. 'S2'\n",
       "8. 'S2'\n",
       "9. 'S2'\n",
       "10. 'S2'\n",
       "11. 'S3'\n",
       "12. 'S3'\n",
       "13. 'S3'\n",
       "14. 'S3'\n",
       "15. 'S3'\n",
       "16. 'S4'\n",
       "17. 'S4'\n",
       "18. 'S4'\n",
       "19. 'S4'\n",
       "20. 'S4'\n",
       "21. 'S5'\n",
       "22. 'S5'\n",
       "23. 'S5'\n",
       "24. 'S5'\n",
       "25. 'S5'\n",
       "26. 'S6'\n",
       "27. 'S6'\n",
       "28. 'S6'\n",
       "29. 'S6'\n",
       "30. 'S6'\n",
       "31. 'S7'\n",
       "32. 'S7'\n",
       "33. 'S7'\n",
       "34. 'S7'\n",
       "35. 'S7'\n",
       "36. 'S8'\n",
       "37. 'S8'\n",
       "38. 'S8'\n",
       "39. 'S8'\n",
       "40. 'S8'\n",
       "41. 'S9'\n",
       "42. 'S9'\n",
       "43. 'S9'\n",
       "44. 'S9'\n",
       "45. 'S9'\n",
       "46. 'S10'\n",
       "47. 'S10'\n",
       "48. 'S10'\n",
       "49. 'S10'\n",
       "50. 'S10'\n",
       "\n",
       "\n"
      ],
      "text/plain": [
       " [1] \"S1\"  \"S1\"  \"S1\"  \"S1\"  \"S1\"  \"S2\"  \"S2\"  \"S2\"  \"S2\"  \"S2\"  \"S3\"  \"S3\" \n",
       "[13] \"S3\"  \"S3\"  \"S3\"  \"S4\"  \"S4\"  \"S4\"  \"S4\"  \"S4\"  \"S5\"  \"S5\"  \"S5\"  \"S5\" \n",
       "[25] \"S5\"  \"S6\"  \"S6\"  \"S6\"  \"S6\"  \"S6\"  \"S7\"  \"S7\"  \"S7\"  \"S7\"  \"S7\"  \"S8\" \n",
       "[37] \"S8\"  \"S8\"  \"S8\"  \"S8\"  \"S9\"  \"S9\"  \"S9\"  \"S9\"  \"S9\"  \"S10\" \"S10\" \"S10\"\n",
       "[49] \"S10\" \"S10\""
      ]
     },
     "metadata": {},
     "output_type": "display_data"
    }
   ],
   "source": [
    "paste0(\"S\", rep(1:10, each=5))"
   ]
  },
  {
   "cell_type": "code",
   "execution_count": 10,
   "metadata": {
    "vscode": {
     "languageId": "r"
    }
   },
   "outputs": [
    {
     "data": {
      "text/html": [
       "<style>\n",
       ".list-inline {list-style: none; margin:0; padding: 0}\n",
       ".list-inline>li {display: inline-block}\n",
       ".list-inline>li:not(:last-child)::after {content: \"\\00b7\"; padding: 0 .5ex}\n",
       "</style>\n",
       "<ol class=list-inline><li>'S1'</li><li>'S1'</li><li>'S1'</li><li>'S1'</li><li>'S1'</li><li>'S2'</li><li>'S2'</li><li>'S2'</li><li>'S2'</li><li>'S2'</li><li>'S3'</li><li>'S3'</li><li>'S3'</li><li>'S3'</li><li>'S3'</li><li>'S4'</li><li>'S4'</li><li>'S4'</li><li>'S4'</li><li>'S4'</li><li>'S5'</li><li>'S5'</li><li>'S5'</li><li>'S5'</li><li>'S5'</li><li>'S6'</li><li>'S6'</li><li>'S6'</li><li>'S6'</li><li>'S6'</li><li>'S7'</li><li>'S7'</li><li>'S7'</li><li>'S7'</li><li>'S7'</li><li>'S8'</li><li>'S8'</li><li>'S8'</li><li>'S8'</li><li>'S8'</li><li>'S9'</li><li>'S9'</li><li>'S9'</li><li>'S9'</li><li>'S9'</li><li>'S10'</li><li>'S10'</li><li>'S10'</li><li>'S10'</li><li>'S10'</li></ol>\n"
      ],
      "text/latex": [
       "\\begin{enumerate*}\n",
       "\\item 'S1'\n",
       "\\item 'S1'\n",
       "\\item 'S1'\n",
       "\\item 'S1'\n",
       "\\item 'S1'\n",
       "\\item 'S2'\n",
       "\\item 'S2'\n",
       "\\item 'S2'\n",
       "\\item 'S2'\n",
       "\\item 'S2'\n",
       "\\item 'S3'\n",
       "\\item 'S3'\n",
       "\\item 'S3'\n",
       "\\item 'S3'\n",
       "\\item 'S3'\n",
       "\\item 'S4'\n",
       "\\item 'S4'\n",
       "\\item 'S4'\n",
       "\\item 'S4'\n",
       "\\item 'S4'\n",
       "\\item 'S5'\n",
       "\\item 'S5'\n",
       "\\item 'S5'\n",
       "\\item 'S5'\n",
       "\\item 'S5'\n",
       "\\item 'S6'\n",
       "\\item 'S6'\n",
       "\\item 'S6'\n",
       "\\item 'S6'\n",
       "\\item 'S6'\n",
       "\\item 'S7'\n",
       "\\item 'S7'\n",
       "\\item 'S7'\n",
       "\\item 'S7'\n",
       "\\item 'S7'\n",
       "\\item 'S8'\n",
       "\\item 'S8'\n",
       "\\item 'S8'\n",
       "\\item 'S8'\n",
       "\\item 'S8'\n",
       "\\item 'S9'\n",
       "\\item 'S9'\n",
       "\\item 'S9'\n",
       "\\item 'S9'\n",
       "\\item 'S9'\n",
       "\\item 'S10'\n",
       "\\item 'S10'\n",
       "\\item 'S10'\n",
       "\\item 'S10'\n",
       "\\item 'S10'\n",
       "\\end{enumerate*}\n"
      ],
      "text/markdown": [
       "1. 'S1'\n",
       "2. 'S1'\n",
       "3. 'S1'\n",
       "4. 'S1'\n",
       "5. 'S1'\n",
       "6. 'S2'\n",
       "7. 'S2'\n",
       "8. 'S2'\n",
       "9. 'S2'\n",
       "10. 'S2'\n",
       "11. 'S3'\n",
       "12. 'S3'\n",
       "13. 'S3'\n",
       "14. 'S3'\n",
       "15. 'S3'\n",
       "16. 'S4'\n",
       "17. 'S4'\n",
       "18. 'S4'\n",
       "19. 'S4'\n",
       "20. 'S4'\n",
       "21. 'S5'\n",
       "22. 'S5'\n",
       "23. 'S5'\n",
       "24. 'S5'\n",
       "25. 'S5'\n",
       "26. 'S6'\n",
       "27. 'S6'\n",
       "28. 'S6'\n",
       "29. 'S6'\n",
       "30. 'S6'\n",
       "31. 'S7'\n",
       "32. 'S7'\n",
       "33. 'S7'\n",
       "34. 'S7'\n",
       "35. 'S7'\n",
       "36. 'S8'\n",
       "37. 'S8'\n",
       "38. 'S8'\n",
       "39. 'S8'\n",
       "40. 'S8'\n",
       "41. 'S9'\n",
       "42. 'S9'\n",
       "43. 'S9'\n",
       "44. 'S9'\n",
       "45. 'S9'\n",
       "46. 'S10'\n",
       "47. 'S10'\n",
       "48. 'S10'\n",
       "49. 'S10'\n",
       "50. 'S10'\n",
       "\n",
       "\n"
      ],
      "text/plain": [
       " [1] \"S1\"  \"S1\"  \"S1\"  \"S1\"  \"S1\"  \"S2\"  \"S2\"  \"S2\"  \"S2\"  \"S2\"  \"S3\"  \"S3\" \n",
       "[13] \"S3\"  \"S3\"  \"S3\"  \"S4\"  \"S4\"  \"S4\"  \"S4\"  \"S4\"  \"S5\"  \"S5\"  \"S5\"  \"S5\" \n",
       "[25] \"S5\"  \"S6\"  \"S6\"  \"S6\"  \"S6\"  \"S6\"  \"S7\"  \"S7\"  \"S7\"  \"S7\"  \"S7\"  \"S8\" \n",
       "[37] \"S8\"  \"S8\"  \"S8\"  \"S8\"  \"S9\"  \"S9\"  \"S9\"  \"S9\"  \"S9\"  \"S10\" \"S10\" \"S10\"\n",
       "[49] \"S10\" \"S10\""
      ]
     },
     "metadata": {},
     "output_type": "display_data"
    }
   ],
   "source": [
    "rep(paste0(\"S\", 1:10), each=5)"
   ]
  },
  {
   "cell_type": "code",
   "execution_count": 11,
   "metadata": {
    "vscode": {
     "languageId": "r"
    }
   },
   "outputs": [
    {
     "data": {
      "text/html": [
       "'2024'"
      ],
      "text/latex": [
       "'2024'"
      ],
      "text/markdown": [
       "'2024'"
      ],
      "text/plain": [
       "[1] \"2024\""
      ]
     },
     "metadata": {},
     "output_type": "display_data"
    },
    {
     "data": {
      "text/html": [
       "'11'"
      ],
      "text/latex": [
       "'11'"
      ],
      "text/markdown": [
       "'11'"
      ],
      "text/plain": [
       "[1] \"11\""
      ]
     },
     "metadata": {},
     "output_type": "display_data"
    },
    {
     "data": {
      "text/html": [
       "'00'"
      ],
      "text/latex": [
       "'00'"
      ],
      "text/markdown": [
       "'00'"
      ],
      "text/plain": [
       "[1] \"00\""
      ]
     },
     "metadata": {},
     "output_type": "display_data"
    }
   ],
   "source": [
    "substr(\"20241100\", 1, 4)\n",
    "substr(\"20241100\", 5, 6)\n",
    "substr(\"20241100\", 7, 8)"
   ]
  },
  {
   "cell_type": "code",
   "execution_count": 12,
   "metadata": {
    "vscode": {
     "languageId": "r"
    }
   },
   "outputs": [
    {
     "data": {
      "text/html": [
       "<style>\n",
       ".list-inline {list-style: none; margin:0; padding: 0}\n",
       ".list-inline>li {display: inline-block}\n",
       ".list-inline>li:not(:last-child)::after {content: \"\\00b7\"; padding: 0 .5ex}\n",
       "</style>\n",
       "<ol class=list-inline><li>2</li><li>3</li><li>3</li><li>5</li><li>4</li></ol>\n"
      ],
      "text/latex": [
       "\\begin{enumerate*}\n",
       "\\item 2\n",
       "\\item 3\n",
       "\\item 3\n",
       "\\item 5\n",
       "\\item 4\n",
       "\\end{enumerate*}\n"
      ],
      "text/markdown": [
       "1. 2\n",
       "2. 3\n",
       "3. 3\n",
       "4. 5\n",
       "5. 4\n",
       "\n",
       "\n"
      ],
      "text/plain": [
       "[1] 2 3 3 5 4"
      ]
     },
     "metadata": {},
     "output_type": "display_data"
    }
   ],
   "source": [
    "names <- c(\"허준\", \"홍길동\", \"이몽룡\", \"건국대학교\", \"과학기술\")\n",
    "nchar(names)"
   ]
  },
  {
   "cell_type": "code",
   "execution_count": 13,
   "metadata": {
    "vscode": {
     "languageId": "r"
    }
   },
   "outputs": [
    {
     "data": {
      "text/html": [
       "<style>\n",
       ".list-inline {list-style: none; margin:0; padding: 0}\n",
       ".list-inline>li {display: inline-block}\n",
       ".list-inline>li:not(:last-child)::after {content: \"\\00b7\"; padding: 0 .5ex}\n",
       "</style>\n",
       "<ol class=list-inline><li>''</li><li>'길'</li><li>'몽'</li><li>'국대학'</li><li>'학기'</li></ol>\n"
      ],
      "text/latex": [
       "\\begin{enumerate*}\n",
       "\\item ''\n",
       "\\item '길'\n",
       "\\item '몽'\n",
       "\\item '국대학'\n",
       "\\item '학기'\n",
       "\\end{enumerate*}\n"
      ],
      "text/markdown": [
       "1. ''\n",
       "2. '길'\n",
       "3. '몽'\n",
       "4. '국대학'\n",
       "5. '학기'\n",
       "\n",
       "\n"
      ],
      "text/plain": [
       "[1] \"\"       \"길\"     \"몽\"     \"국대학\" \"학기\"  "
      ]
     },
     "metadata": {},
     "output_type": "display_data"
    }
   ],
   "source": [
    "substr(names, 2, nchar(names) -1)"
   ]
  },
  {
   "cell_type": "code",
   "execution_count": 14,
   "metadata": {
    "vscode": {
     "languageId": "r"
    }
   },
   "outputs": [
    {
     "data": {
      "text/html": [
       "<style>\n",
       ".list-inline {list-style: none; margin:0; padding: 0}\n",
       ".list-inline>li {display: inline-block}\n",
       ".list-inline>li:not(:last-child)::after {content: \"\\00b7\"; padding: 0 .5ex}\n",
       "</style>\n",
       "<ol class=list-inline><li>'허준'</li><li>'홍#동'</li><li>'이#룡'</li><li>'건###교'</li><li>'과##술'</li></ol>\n"
      ],
      "text/latex": [
       "\\begin{enumerate*}\n",
       "\\item '허준'\n",
       "\\item '홍\\#동'\n",
       "\\item '이\\#룡'\n",
       "\\item '건\\#\\#\\#교'\n",
       "\\item '과\\#\\#술'\n",
       "\\end{enumerate*}\n"
      ],
      "text/markdown": [
       "1. '허준'\n",
       "2. '홍#동'\n",
       "3. '이#룡'\n",
       "4. '건###교'\n",
       "5. '과##술'\n",
       "\n",
       "\n"
      ],
      "text/plain": [
       "[1] \"허준\"    \"홍#동\"   \"이#룡\"   \"건###교\" \"과##술\" "
      ]
     },
     "metadata": {},
     "output_type": "display_data"
    }
   ],
   "source": [
    "substr(names, 2, nchar(names)-1) <- '####'\n",
    "names"
   ]
  },
  {
   "cell_type": "code",
   "execution_count": 15,
   "metadata": {
    "vscode": {
     "languageId": "r"
    }
   },
   "outputs": [
    {
     "data": {
      "text/html": [
       "<style>\n",
       ".list-inline {list-style: none; margin:0; padding: 0}\n",
       ".list-inline>li {display: inline-block}\n",
       ".list-inline>li:not(:last-child)::after {content: \"\\00b7\"; padding: 0 .5ex}\n",
       "</style>\n",
       "<ol class=list-inline><li>'#준'</li><li>'홍####동'</li><li>'이####룡'</li><li>'건####교'</li><li>'과####술'</li></ol>\n"
      ],
      "text/latex": [
       "\\begin{enumerate*}\n",
       "\\item '\\#준'\n",
       "\\item '홍\\#\\#\\#\\#동'\n",
       "\\item '이\\#\\#\\#\\#룡'\n",
       "\\item '건\\#\\#\\#\\#교'\n",
       "\\item '과\\#\\#\\#\\#술'\n",
       "\\end{enumerate*}\n"
      ],
      "text/markdown": [
       "1. '#준'\n",
       "2. '홍####동'\n",
       "3. '이####룡'\n",
       "4. '건####교'\n",
       "5. '과####술'\n",
       "\n",
       "\n"
      ],
      "text/plain": [
       "[1] \"#준\"      \"홍####동\" \"이####룡\" \"건####교\" \"과####술\""
      ]
     },
     "metadata": {},
     "output_type": "display_data"
    }
   ],
   "source": [
    "names <- ifelse(\n",
    "  nchar(names) == 2,\n",
    "  paste0(\"#\", substr(names, 2, 2)),  # 길이가 2인 경우 첫 문자를 '#'로 교체\n",
    "  paste0(substr(names, 1, 1), \"####\", substr(names, nchar(names), nchar(names))) # 그 외의 경우 가운데 문자를 \"####\"로 교체\n",
    ")\n",
    "\n",
    "names"
   ]
  },
  {
   "cell_type": "code",
   "execution_count": 16,
   "metadata": {
    "vscode": {
     "languageId": "r"
    }
   },
   "outputs": [
    {
     "data": {
      "text/html": [
       "'Abracadabra'"
      ],
      "text/latex": [
       "'Abracadabra'"
      ],
      "text/markdown": [
       "'Abracadabra'"
      ],
      "text/plain": [
       "[1] \"Abracadabra\""
      ]
     },
     "metadata": {},
     "output_type": "display_data"
    }
   ],
   "source": [
    "# 맨 처음 하나 바꾸기\n",
    "sub(\"a\", \"A\", \"abracadabra\")"
   ]
  },
  {
   "cell_type": "code",
   "execution_count": 17,
   "metadata": {
    "vscode": {
     "languageId": "r"
    }
   },
   "outputs": [
    {
     "data": {
      "text/html": [
       "'AbrAcAdAbrA'"
      ],
      "text/latex": [
       "'AbrAcAdAbrA'"
      ],
      "text/markdown": [
       "'AbrAcAdAbrA'"
      ],
      "text/plain": [
       "[1] \"AbrAcAdAbrA\""
      ]
     },
     "metadata": {},
     "output_type": "display_data"
    }
   ],
   "source": [
    "gsub(\"a\",\"A\",\"abracadabra\")"
   ]
  },
  {
   "cell_type": "code",
   "execution_count": 18,
   "metadata": {
    "vscode": {
     "languageId": "r"
    }
   },
   "outputs": [
    {
     "data": {
      "text/html": [
       "'PatternMatchingandReplacement'"
      ],
      "text/latex": [
       "'PatternMatchingandReplacement'"
      ],
      "text/markdown": [
       "'PatternMatchingandReplacement'"
      ],
      "text/plain": [
       "[1] \"PatternMatchingandReplacement\""
      ]
     },
     "metadata": {},
     "output_type": "display_data"
    }
   ],
   "source": [
    "gsub(\" \", \"\", \"Pattern Matching and Replacement\")"
   ]
  },
  {
   "cell_type": "code",
   "execution_count": 19,
   "metadata": {
    "vscode": {
     "languageId": "r"
    }
   },
   "outputs": [
    {
     "data": {
      "text/html": [
       "<style>\n",
       ".list-inline {list-style: none; margin:0; padding: 0}\n",
       ".list-inline>li {display: inline-block}\n",
       ".list-inline>li:not(:last-child)::after {content: \"\\00b7\"; padding: 0 .5ex}\n",
       "</style>\n",
       "<ol class=list-inline><li>3</li><li>4</li></ol>\n"
      ],
      "text/latex": [
       "\\begin{enumerate*}\n",
       "\\item 3\n",
       "\\item 4\n",
       "\\end{enumerate*}\n"
      ],
      "text/markdown": [
       "1. 3\n",
       "2. 4\n",
       "\n",
       "\n"
      ],
      "text/plain": [
       "[1] 3 4"
      ]
     },
     "metadata": {},
     "output_type": "display_data"
    }
   ],
   "source": [
    "strings <- c(\"Apple\", \"tiger\", \"cat\", \"banana\")\n",
    "grep(\"a\", strings)"
   ]
  },
  {
   "cell_type": "code",
   "execution_count": 20,
   "metadata": {
    "vscode": {
     "languageId": "r"
    }
   },
   "outputs": [
    {
     "data": {
      "text/html": [
       "<style>\n",
       ".list-inline {list-style: none; margin:0; padding: 0}\n",
       ".list-inline>li {display: inline-block}\n",
       ".list-inline>li:not(:last-child)::after {content: \"\\00b7\"; padding: 0 .5ex}\n",
       "</style>\n",
       "<ol class=list-inline><li>'cat'</li><li>'banana'</li></ol>\n"
      ],
      "text/latex": [
       "\\begin{enumerate*}\n",
       "\\item 'cat'\n",
       "\\item 'banana'\n",
       "\\end{enumerate*}\n"
      ],
      "text/markdown": [
       "1. 'cat'\n",
       "2. 'banana'\n",
       "\n",
       "\n"
      ],
      "text/plain": [
       "[1] \"cat\"    \"banana\""
      ]
     },
     "metadata": {},
     "output_type": "display_data"
    }
   ],
   "source": [
    "# 값으로 문자열 찾기 \n",
    "grep(\"a\", strings, value=T)"
   ]
  },
  {
   "cell_type": "code",
   "execution_count": 21,
   "metadata": {
    "vscode": {
     "languageId": "r"
    }
   },
   "outputs": [
    {
     "data": {
      "text/html": [
       "<style>\n",
       ".list-inline {list-style: none; margin:0; padding: 0}\n",
       ".list-inline>li {display: inline-block}\n",
       ".list-inline>li:not(:last-child)::after {content: \"\\00b7\"; padding: 0 .5ex}\n",
       "</style>\n",
       "<ol class=list-inline><li>'Apple'</li><li>'cat'</li><li>'banana'</li></ol>\n"
      ],
      "text/latex": [
       "\\begin{enumerate*}\n",
       "\\item 'Apple'\n",
       "\\item 'cat'\n",
       "\\item 'banana'\n",
       "\\end{enumerate*}\n"
      ],
      "text/markdown": [
       "1. 'Apple'\n",
       "2. 'cat'\n",
       "3. 'banana'\n",
       "\n",
       "\n"
      ],
      "text/plain": [
       "[1] \"Apple\"  \"cat\"    \"banana\""
      ]
     },
     "metadata": {},
     "output_type": "display_data"
    }
   ],
   "source": [
    "grep(\"a\", strings, value=T, ignore.case=T)"
   ]
  },
  {
   "cell_type": "code",
   "execution_count": 22,
   "metadata": {
    "vscode": {
     "languageId": "r"
    }
   },
   "outputs": [
    {
     "data": {
      "text/html": [
       "'tiger'"
      ],
      "text/latex": [
       "'tiger'"
      ],
      "text/markdown": [
       "'tiger'"
      ],
      "text/plain": [
       "[1] \"tiger\""
      ]
     },
     "metadata": {},
     "output_type": "display_data"
    }
   ],
   "source": [
    "grep(\"a\", strings, value=T, ignore.case = T, invert=T)"
   ]
  },
  {
   "cell_type": "code",
   "execution_count": 23,
   "metadata": {
    "vscode": {
     "languageId": "r"
    }
   },
   "outputs": [
    {
     "name": "stderr",
     "output_type": "stream",
     "text": [
      "Warning message:\n",
      "“package ‘stringr’ was built under R version 4.3.3”\n"
     ]
    }
   ],
   "source": [
    "library(stringr)"
   ]
  },
  {
   "cell_type": "code",
   "execution_count": 24,
   "metadata": {
    "vscode": {
     "languageId": "r"
    }
   },
   "outputs": [
    {
     "data": {
      "text/html": [
       "'2024'"
      ],
      "text/latex": [
       "'2024'"
      ],
      "text/markdown": [
       "'2024'"
      ],
      "text/plain": [
       "[1] \"2024\""
      ]
     },
     "metadata": {},
     "output_type": "display_data"
    },
    {
     "data": {
      "text/html": [
       "'11'"
      ],
      "text/latex": [
       "'11'"
      ],
      "text/markdown": [
       "'11'"
      ],
      "text/plain": [
       "[1] \"11\""
      ]
     },
     "metadata": {},
     "output_type": "display_data"
    },
    {
     "data": {
      "text/html": [
       "'08'"
      ],
      "text/latex": [
       "'08'"
      ],
      "text/markdown": [
       "'08'"
      ],
      "text/plain": [
       "[1] \"08\""
      ]
     },
     "metadata": {},
     "output_type": "display_data"
    }
   ],
   "source": [
    "str_sub(\"20241108\", 1,4)\n",
    "str_sub(\"20241108\", 5,6)\n",
    "str_sub(\"20241108\", -2,-1)"
   ]
  },
  {
   "cell_type": "code",
   "execution_count": 25,
   "metadata": {
    "vscode": {
     "languageId": "r"
    }
   },
   "outputs": [
    {
     "data": {
      "text/html": [
       "'1108'"
      ],
      "text/latex": [
       "'1108'"
      ],
      "text/markdown": [
       "'1108'"
      ],
      "text/plain": [
       "[1] \"1108\""
      ]
     },
     "metadata": {},
     "output_type": "display_data"
    }
   ],
   "source": [
    "str_sub(\"20241108\", 5)"
   ]
  },
  {
   "cell_type": "code",
   "execution_count": 26,
   "metadata": {
    "vscode": {
     "languageId": "r"
    }
   },
   "outputs": [
    {
     "data": {
      "text/html": [
       "'123'"
      ],
      "text/latex": [
       "'123'"
      ],
      "text/markdown": [
       "'123'"
      ],
      "text/plain": [
       "[1] \"123\""
      ]
     },
     "metadata": {},
     "output_type": "display_data"
    }
   ],
   "source": [
    "str_flatten(c(1,2,3))"
   ]
  },
  {
   "cell_type": "code",
   "execution_count": 27,
   "metadata": {
    "vscode": {
     "languageId": "r"
    }
   },
   "outputs": [
    {
     "data": {
      "text/html": [
       "<style>\n",
       ".list-inline {list-style: none; margin:0; padding: 0}\n",
       ".list-inline>li {display: inline-block}\n",
       ".list-inline>li:not(:last-child)::after {content: \"\\00b7\"; padding: 0 .5ex}\n",
       "</style>\n",
       "<ol class=list-inline><li>'충북'</li><li>'서울'</li><li>'부산'</li></ol>\n"
      ],
      "text/latex": [
       "\\begin{enumerate*}\n",
       "\\item '충북'\n",
       "\\item '서울'\n",
       "\\item '부산'\n",
       "\\end{enumerate*}\n"
      ],
      "text/markdown": [
       "1. '충북'\n",
       "2. '서울'\n",
       "3. '부산'\n",
       "\n",
       "\n"
      ],
      "text/plain": [
       "[1] \"충북\" \"서울\" \"부산\""
      ]
     },
     "metadata": {},
     "output_type": "display_data"
    }
   ],
   "source": [
    "addr <- c(\"충북 충주시 연수동\", \"서울\", \"부산 해운대구\")\n",
    "word(addr)"
   ]
  },
  {
   "cell_type": "code",
   "execution_count": 28,
   "metadata": {
    "vscode": {
     "languageId": "r"
    }
   },
   "outputs": [
    {
     "data": {
      "text/html": [
       "<style>\n",
       ".list-inline {list-style: none; margin:0; padding: 0}\n",
       ".list-inline>li {display: inline-block}\n",
       ".list-inline>li:not(:last-child)::after {content: \"\\00b7\"; padding: 0 .5ex}\n",
       "</style>\n",
       "<ol class=list-inline><li>'충주시'</li><li>NA</li><li>'해운대구'</li></ol>\n"
      ],
      "text/latex": [
       "\\begin{enumerate*}\n",
       "\\item '충주시'\n",
       "\\item NA\n",
       "\\item '해운대구'\n",
       "\\end{enumerate*}\n"
      ],
      "text/markdown": [
       "1. '충주시'\n",
       "2. NA\n",
       "3. '해운대구'\n",
       "\n",
       "\n"
      ],
      "text/plain": [
       "[1] \"충주시\"   NA         \"해운대구\""
      ]
     },
     "metadata": {},
     "output_type": "display_data"
    }
   ],
   "source": [
    "word(addr, 2)"
   ]
  },
  {
   "cell_type": "code",
   "execution_count": 29,
   "metadata": {
    "vscode": {
     "languageId": "r"
    }
   },
   "outputs": [
    {
     "data": {
      "text/html": [
       "<style>\n",
       ".list-inline {list-style: none; margin:0; padding: 0}\n",
       ".list-inline>li {display: inline-block}\n",
       ".list-inline>li:not(:last-child)::after {content: \"\\00b7\"; padding: 0 .5ex}\n",
       "</style>\n",
       "<ol class=list-inline><li>'연수동'</li><li>'서울'</li><li>'해운대구'</li></ol>\n"
      ],
      "text/latex": [
       "\\begin{enumerate*}\n",
       "\\item '연수동'\n",
       "\\item '서울'\n",
       "\\item '해운대구'\n",
       "\\end{enumerate*}\n"
      ],
      "text/markdown": [
       "1. '연수동'\n",
       "2. '서울'\n",
       "3. '해운대구'\n",
       "\n",
       "\n"
      ],
      "text/plain": [
       "[1] \"연수동\"   \"서울\"     \"해운대구\""
      ]
     },
     "metadata": {},
     "output_type": "display_data"
    }
   ],
   "source": [
    "word(addr, -1)"
   ]
  },
  {
   "cell_type": "code",
   "execution_count": 30,
   "metadata": {
    "vscode": {
     "languageId": "r"
    }
   },
   "outputs": [
    {
     "name": "stdout",
     "output_type": "stream",
     "text": [
      " [1] \"Mazda RX4\"           \"Mazda RX4 Wag\"       \"Datsun 710\"         \n",
      " [4] \"Hornet 4 Drive\"      \"Hornet Sportabout\"   \"Valiant\"            \n",
      " [7] \"Duster 360\"          \"Merc 240D\"           \"Merc 230\"           \n",
      "[10] \"Merc 280\"            \"Merc 280C\"           \"Merc 450SE\"         \n",
      "[13] \"Merc 450SL\"          \"Merc 450SLC\"         \"Cadillac Fleetwood\" \n",
      "[16] \"Lincoln Continental\" \"Chrysler Imperial\"   \"Fiat 128\"           \n",
      "[19] \"Honda Civic\"         \"Toyota Corolla\"      \"Toyota Corona\"      \n",
      "[22] \"Dodge Challenger\"    \"AMC Javelin\"         \"Camaro Z28\"         \n",
      "[25] \"Pontiac Firebird\"    \"Fiat X1-9\"           \"Porsche 914-2\"      \n",
      "[28] \"Lotus Europa\"        \"Ford Pantera L\"      \"Ferrari Dino\"       \n",
      "[31] \"Maserati Bora\"       \"Volvo 142E\"         \n"
     ]
    }
   ],
   "source": [
    "names <- row.names(mtcars)\n",
    "print(names)"
   ]
  },
  {
   "cell_type": "code",
   "execution_count": 31,
   "metadata": {
    "vscode": {
     "languageId": "r"
    }
   },
   "outputs": [
    {
     "data": {
      "text/html": [
       "<style>\n",
       ".list-inline {list-style: none; margin:0; padding: 0}\n",
       ".list-inline>li {display: inline-block}\n",
       ".list-inline>li:not(:last-child)::after {content: \"\\00b7\"; padding: 0 .5ex}\n",
       "</style>\n",
       "<ol class=list-inline><li>'Mazda RX4'</li><li>'Mazda RX4 Wag'</li><li>'Merc 240D'</li><li>'Merc 230'</li><li>'Merc 280'</li><li>'Merc 280C'</li><li>'Merc 450SE'</li><li>'Merc 450SL'</li><li>'Merc 450SLC'</li><li>'Chrysler Imperial'</li><li>'AMC Javelin'</li><li>'Camaro Z28'</li><li>'Maserati Bora'</li></ol>\n"
      ],
      "text/latex": [
       "\\begin{enumerate*}\n",
       "\\item 'Mazda RX4'\n",
       "\\item 'Mazda RX4 Wag'\n",
       "\\item 'Merc 240D'\n",
       "\\item 'Merc 230'\n",
       "\\item 'Merc 280'\n",
       "\\item 'Merc 280C'\n",
       "\\item 'Merc 450SE'\n",
       "\\item 'Merc 450SL'\n",
       "\\item 'Merc 450SLC'\n",
       "\\item 'Chrysler Imperial'\n",
       "\\item 'AMC Javelin'\n",
       "\\item 'Camaro Z28'\n",
       "\\item 'Maserati Bora'\n",
       "\\end{enumerate*}\n"
      ],
      "text/markdown": [
       "1. 'Mazda RX4'\n",
       "2. 'Mazda RX4 Wag'\n",
       "3. 'Merc 240D'\n",
       "4. 'Merc 230'\n",
       "5. 'Merc 280'\n",
       "6. 'Merc 280C'\n",
       "7. 'Merc 450SE'\n",
       "8. 'Merc 450SL'\n",
       "9. 'Merc 450SLC'\n",
       "10. 'Chrysler Imperial'\n",
       "11. 'AMC Javelin'\n",
       "12. 'Camaro Z28'\n",
       "13. 'Maserati Bora'\n",
       "\n",
       "\n"
      ],
      "text/plain": [
       " [1] \"Mazda RX4\"         \"Mazda RX4 Wag\"     \"Merc 240D\"        \n",
       " [4] \"Merc 230\"          \"Merc 280\"          \"Merc 280C\"        \n",
       " [7] \"Merc 450SE\"        \"Merc 450SL\"        \"Merc 450SLC\"      \n",
       "[10] \"Chrysler Imperial\" \"AMC Javelin\"       \"Camaro Z28\"       \n",
       "[13] \"Maserati Bora\"    "
      ]
     },
     "metadata": {},
     "output_type": "display_data"
    }
   ],
   "source": [
    "grep(\"M\", names, value=T, ignore.case=T)"
   ]
  },
  {
   "cell_type": "code",
   "execution_count": 32,
   "metadata": {
    "vscode": {
     "languageId": "r"
    }
   },
   "outputs": [
    {
     "data": {
      "text/html": [
       "<style>\n",
       ".list-inline {list-style: none; margin:0; padding: 0}\n",
       ".list-inline>li {display: inline-block}\n",
       ".list-inline>li:not(:last-child)::after {content: \"\\00b7\"; padding: 0 .5ex}\n",
       "</style>\n",
       "<ol class=list-inline><li>'Mazda RX4'</li><li>'Mazda RX4 Wag'</li><li>'Merc 240D'</li><li>'Merc 230'</li><li>'Merc 280'</li><li>'Merc 280C'</li><li>'Merc 450SE'</li><li>'Merc 450SL'</li><li>'Merc 450SLC'</li><li>'Maserati Bora'</li></ol>\n"
      ],
      "text/latex": [
       "\\begin{enumerate*}\n",
       "\\item 'Mazda RX4'\n",
       "\\item 'Mazda RX4 Wag'\n",
       "\\item 'Merc 240D'\n",
       "\\item 'Merc 230'\n",
       "\\item 'Merc 280'\n",
       "\\item 'Merc 280C'\n",
       "\\item 'Merc 450SE'\n",
       "\\item 'Merc 450SL'\n",
       "\\item 'Merc 450SLC'\n",
       "\\item 'Maserati Bora'\n",
       "\\end{enumerate*}\n"
      ],
      "text/markdown": [
       "1. 'Mazda RX4'\n",
       "2. 'Mazda RX4 Wag'\n",
       "3. 'Merc 240D'\n",
       "4. 'Merc 230'\n",
       "5. 'Merc 280'\n",
       "6. 'Merc 280C'\n",
       "7. 'Merc 450SE'\n",
       "8. 'Merc 450SL'\n",
       "9. 'Merc 450SLC'\n",
       "10. 'Maserati Bora'\n",
       "\n",
       "\n"
      ],
      "text/plain": [
       " [1] \"Mazda RX4\"     \"Mazda RX4 Wag\" \"Merc 240D\"     \"Merc 230\"     \n",
       " [5] \"Merc 280\"      \"Merc 280C\"     \"Merc 450SE\"    \"Merc 450SL\"   \n",
       " [9] \"Merc 450SLC\"   \"Maserati Bora\""
      ]
     },
     "metadata": {},
     "output_type": "display_data"
    }
   ],
   "source": [
    "grep(\"^M\", names, value=T, ignore.case=T)"
   ]
  },
  {
   "cell_type": "code",
   "execution_count": 33,
   "metadata": {
    "vscode": {
     "languageId": "r"
    }
   },
   "outputs": [
    {
     "data": {
      "text/html": [
       "<style>\n",
       ".list-inline {list-style: none; margin:0; padding: 0}\n",
       ".list-inline>li {display: inline-block}\n",
       ".list-inline>li:not(:last-child)::after {content: \"\\00b7\"; padding: 0 .5ex}\n",
       "</style>\n",
       "<ol class=list-inline><li>'Toyota Corolla'</li><li>'Toyota Corona'</li><li>'Lotus Europa'</li><li>'Maserati Bora'</li></ol>\n"
      ],
      "text/latex": [
       "\\begin{enumerate*}\n",
       "\\item 'Toyota Corolla'\n",
       "\\item 'Toyota Corona'\n",
       "\\item 'Lotus Europa'\n",
       "\\item 'Maserati Bora'\n",
       "\\end{enumerate*}\n"
      ],
      "text/markdown": [
       "1. 'Toyota Corolla'\n",
       "2. 'Toyota Corona'\n",
       "3. 'Lotus Europa'\n",
       "4. 'Maserati Bora'\n",
       "\n",
       "\n"
      ],
      "text/plain": [
       "[1] \"Toyota Corolla\" \"Toyota Corona\"  \"Lotus Europa\"   \"Maserati Bora\" "
      ]
     },
     "metadata": {},
     "output_type": "display_data"
    }
   ],
   "source": [
    "grep(\"a$\", names, value=T, ignore.case=T)"
   ]
  },
  {
   "cell_type": "code",
   "execution_count": 34,
   "metadata": {
    "vscode": {
     "languageId": "r"
    }
   },
   "outputs": [
    {
     "data": {
      "text/html": [
       "<style>\n",
       ".list-inline {list-style: none; margin:0; padding: 0}\n",
       ".list-inline>li {display: inline-block}\n",
       ".list-inline>li:not(:last-child)::after {content: \"\\00b7\"; padding: 0 .5ex}\n",
       "</style>\n",
       "<ol class=list-inline><li>'Mazda RX4'</li><li>'Datsun 710'</li><li>'Duster 360'</li><li>'Merc 230'</li><li>'Merc 280'</li><li>'Fiat 128'</li><li>'Camaro Z28'</li><li>'Fiat X1-9'</li><li>'Porsche 914-2'</li></ol>\n"
      ],
      "text/latex": [
       "\\begin{enumerate*}\n",
       "\\item 'Mazda RX4'\n",
       "\\item 'Datsun 710'\n",
       "\\item 'Duster 360'\n",
       "\\item 'Merc 230'\n",
       "\\item 'Merc 280'\n",
       "\\item 'Fiat 128'\n",
       "\\item 'Camaro Z28'\n",
       "\\item 'Fiat X1-9'\n",
       "\\item 'Porsche 914-2'\n",
       "\\end{enumerate*}\n"
      ],
      "text/markdown": [
       "1. 'Mazda RX4'\n",
       "2. 'Datsun 710'\n",
       "3. 'Duster 360'\n",
       "4. 'Merc 230'\n",
       "5. 'Merc 280'\n",
       "6. 'Fiat 128'\n",
       "7. 'Camaro Z28'\n",
       "8. 'Fiat X1-9'\n",
       "9. 'Porsche 914-2'\n",
       "\n",
       "\n"
      ],
      "text/plain": [
       "[1] \"Mazda RX4\"     \"Datsun 710\"    \"Duster 360\"    \"Merc 230\"     \n",
       "[5] \"Merc 280\"      \"Fiat 128\"      \"Camaro Z28\"    \"Fiat X1-9\"    \n",
       "[9] \"Porsche 914-2\""
      ]
     },
     "metadata": {},
     "output_type": "display_data"
    }
   ],
   "source": [
    "grep(\"[0-9]$\", names, value=T, ignore.case=T)"
   ]
  },
  {
   "cell_type": "code",
   "execution_count": 35,
   "metadata": {
    "vscode": {
     "languageId": "r"
    }
   },
   "outputs": [
    {
     "data": {
      "text/html": [
       "<style>\n",
       ".list-inline {list-style: none; margin:0; padding: 0}\n",
       ".list-inline>li {display: inline-block}\n",
       ".list-inline>li:not(:last-child)::after {content: \"\\00b7\"; padding: 0 .5ex}\n",
       "</style>\n",
       "<ol class=list-inline><li>'Hornet 4 Drive'</li><li>'Hornet Sportabout'</li><li>'Honda Civic'</li><li>'Toyota Corolla'</li><li>'Toyota Corona'</li><li>'Dodge Challenger'</li></ol>\n"
      ],
      "text/latex": [
       "\\begin{enumerate*}\n",
       "\\item 'Hornet 4 Drive'\n",
       "\\item 'Hornet Sportabout'\n",
       "\\item 'Honda Civic'\n",
       "\\item 'Toyota Corolla'\n",
       "\\item 'Toyota Corona'\n",
       "\\item 'Dodge Challenger'\n",
       "\\end{enumerate*}\n"
      ],
      "text/markdown": [
       "1. 'Hornet 4 Drive'\n",
       "2. 'Hornet Sportabout'\n",
       "3. 'Honda Civic'\n",
       "4. 'Toyota Corolla'\n",
       "5. 'Toyota Corona'\n",
       "6. 'Dodge Challenger'\n",
       "\n",
       "\n"
      ],
      "text/plain": [
       "[1] \"Hornet 4 Drive\"    \"Hornet Sportabout\" \"Honda Civic\"      \n",
       "[4] \"Toyota Corolla\"    \"Toyota Corona\"     \"Dodge Challenger\" "
      ]
     },
     "metadata": {},
     "output_type": "display_data"
    }
   ],
   "source": [
    "grep(\"to|ho|do\", names, value=T, ignore.case=T)"
   ]
  },
  {
   "cell_type": "code",
   "execution_count": 36,
   "metadata": {
    "vscode": {
     "languageId": "r"
    }
   },
   "outputs": [
    {
     "data": {
      "text/html": [
       "<table class=\"dataframe\">\n",
       "<caption>A tibble: 6 × 10</caption>\n",
       "<thead>\n",
       "\t<tr><th scope=col>측정일시</th><th scope=col>측정소명</th><th scope=col>이산화질소농도</th><th scope=col>오존농도</th><th scope=col>일산화탄소농도</th><th scope=col>아황산가스농도</th><th scope=col>미세먼지농도</th><th scope=col>초미세먼지농도</th><th scope=col>월</th><th scope=col>일</th></tr>\n",
       "\t<tr><th scope=col>&lt;dbl&gt;</th><th scope=col>&lt;chr&gt;</th><th scope=col>&lt;dbl&gt;</th><th scope=col>&lt;dbl&gt;</th><th scope=col>&lt;dbl&gt;</th><th scope=col>&lt;dbl&gt;</th><th scope=col>&lt;dbl&gt;</th><th scope=col>&lt;dbl&gt;</th><th scope=col>&lt;chr&gt;</th><th scope=col>&lt;chr&gt;</th></tr>\n",
       "</thead>\n",
       "<tbody>\n",
       "\t<tr><td>20230101</td><td>강남구</td><td>0.0240</td><td>0.0240</td><td>0.60</td><td>0.0040</td><td>52</td><td>36</td><td>01</td><td>01</td></tr>\n",
       "\t<tr><td>20230101</td><td>강동구</td><td>0.0270</td><td>0.0170</td><td>0.70</td><td>0.0030</td><td>56</td><td>43</td><td>01</td><td>01</td></tr>\n",
       "\t<tr><td>20230101</td><td>강북구</td><td>    NA</td><td>0.0260</td><td>0.70</td><td>0.0040</td><td>51</td><td>34</td><td>01</td><td>01</td></tr>\n",
       "\t<tr><td>20230101</td><td>강서구</td><td>0.0210</td><td>0.0250</td><td>0.60</td><td>0.0040</td><td>62</td><td>38</td><td>01</td><td>01</td></tr>\n",
       "\t<tr><td>20230101</td><td>관악구</td><td>0.0250</td><td>0.0200</td><td>0.60</td><td>0.0030</td><td>54</td><td>35</td><td>01</td><td>01</td></tr>\n",
       "\t<tr><td>20230101</td><td>광진구</td><td>0.0175</td><td>0.0176</td><td>0.79</td><td>0.0026</td><td>48</td><td>36</td><td>01</td><td>01</td></tr>\n",
       "</tbody>\n",
       "</table>\n"
      ],
      "text/latex": [
       "A tibble: 6 × 10\n",
       "\\begin{tabular}{llllllllll}\n",
       " 측정일시 & 측정소명 & 이산화질소농도 & 오존농도 & 일산화탄소농도 & 아황산가스농도 & 미세먼지농도 & 초미세먼지농도 & 월 & 일\\\\\n",
       " <dbl> & <chr> & <dbl> & <dbl> & <dbl> & <dbl> & <dbl> & <dbl> & <chr> & <chr>\\\\\n",
       "\\hline\n",
       "\t 20230101 & 강남구 & 0.0240 & 0.0240 & 0.60 & 0.0040 & 52 & 36 & 01 & 01\\\\\n",
       "\t 20230101 & 강동구 & 0.0270 & 0.0170 & 0.70 & 0.0030 & 56 & 43 & 01 & 01\\\\\n",
       "\t 20230101 & 강북구 &     NA & 0.0260 & 0.70 & 0.0040 & 51 & 34 & 01 & 01\\\\\n",
       "\t 20230101 & 강서구 & 0.0210 & 0.0250 & 0.60 & 0.0040 & 62 & 38 & 01 & 01\\\\\n",
       "\t 20230101 & 관악구 & 0.0250 & 0.0200 & 0.60 & 0.0030 & 54 & 35 & 01 & 01\\\\\n",
       "\t 20230101 & 광진구 & 0.0175 & 0.0176 & 0.79 & 0.0026 & 48 & 36 & 01 & 01\\\\\n",
       "\\end{tabular}\n"
      ],
      "text/markdown": [
       "\n",
       "A tibble: 6 × 10\n",
       "\n",
       "| 측정일시 &lt;dbl&gt; | 측정소명 &lt;chr&gt; | 이산화질소농도 &lt;dbl&gt; | 오존농도 &lt;dbl&gt; | 일산화탄소농도 &lt;dbl&gt; | 아황산가스농도 &lt;dbl&gt; | 미세먼지농도 &lt;dbl&gt; | 초미세먼지농도 &lt;dbl&gt; | 월 &lt;chr&gt; | 일 &lt;chr&gt; |\n",
       "|---|---|---|---|---|---|---|---|---|---|\n",
       "| 20230101 | 강남구 | 0.0240 | 0.0240 | 0.60 | 0.0040 | 52 | 36 | 01 | 01 |\n",
       "| 20230101 | 강동구 | 0.0270 | 0.0170 | 0.70 | 0.0030 | 56 | 43 | 01 | 01 |\n",
       "| 20230101 | 강북구 |     NA | 0.0260 | 0.70 | 0.0040 | 51 | 34 | 01 | 01 |\n",
       "| 20230101 | 강서구 | 0.0210 | 0.0250 | 0.60 | 0.0040 | 62 | 38 | 01 | 01 |\n",
       "| 20230101 | 관악구 | 0.0250 | 0.0200 | 0.60 | 0.0030 | 54 | 35 | 01 | 01 |\n",
       "| 20230101 | 광진구 | 0.0175 | 0.0176 | 0.79 | 0.0026 | 48 | 36 | 01 | 01 |\n",
       "\n"
      ],
      "text/plain": [
       "  측정일시 측정소명 이산화질소농도 오존농도 일산화탄소농도 아황산가스농도\n",
       "1 20230101 강남구   0.0240         0.0240   0.60           0.0040        \n",
       "2 20230101 강동구   0.0270         0.0170   0.70           0.0030        \n",
       "3 20230101 강북구       NA         0.0260   0.70           0.0040        \n",
       "4 20230101 강서구   0.0210         0.0250   0.60           0.0040        \n",
       "5 20230101 관악구   0.0250         0.0200   0.60           0.0030        \n",
       "6 20230101 광진구   0.0175         0.0176   0.79           0.0026        \n",
       "  미세먼지농도 초미세먼지농도 월 일\n",
       "1 52           36             01 01\n",
       "2 56           43             01 01\n",
       "3 51           34             01 01\n",
       "4 62           38             01 01\n",
       "5 54           35             01 01\n",
       "6 48           36             01 01"
      ]
     },
     "metadata": {},
     "output_type": "display_data"
    }
   ],
   "source": [
    "library(readxl)\n",
    "\n",
    "data <- read_xlsx(\"../mydata/일별평균대기오염도_2023.xlsx\")\n",
    "head(data)"
   ]
  },
  {
   "cell_type": "code",
   "execution_count": 37,
   "metadata": {
    "vscode": {
     "languageId": "r"
    }
   },
   "outputs": [
    {
     "data": {
      "text/plain": [
       "\n",
       "      강남구     강남대로       강동구     강변북로       강북구       강서구 \n",
       "         365          365          365          365          365          365 \n",
       "    공항대로       관악구       관악산       광진구       구로구       금천구 \n",
       "         365          365          365          365          365          365 \n",
       "        남산       노원구       도봉구     도산대로     동대문구       동작구 \n",
       "         365          365          365          365          365          365 \n",
       "    동작대로       마포구 마포아트센터       북한산     서대문구       서울숲 \n",
       "         365          365          365          365          365          365 \n",
       "      서초구       성동구       성북구         세곡       송파구     시흥대로 \n",
       "         365          365          365          365          365          365 \n",
       "      신촌로       양천구     영등포구     영등포로   올림픽공원       용산구 \n",
       "         365          365          365          365          365          365 \n",
       "      은평구 자연사박물관       정릉로         종로       종로구         중구 \n",
       "         365          365          365          365          365          365 \n",
       "      중랑구     천호대로     청계천로     한강대로         항동         행주 \n",
       "         365          365          365          365          365          365 \n",
       "      홍릉로       화랑로 \n",
       "         365          365 "
      ]
     },
     "metadata": {},
     "output_type": "display_data"
    }
   ],
   "source": [
    "table(data$`측정소명`)"
   ]
  },
  {
   "cell_type": "code",
   "execution_count": 38,
   "metadata": {
    "vscode": {
     "languageId": "r"
    }
   },
   "outputs": [
    {
     "data": {
      "text/plain": [
       "\n",
       "  강남구 강남대로   강동구 강변북로   강북구   강서구 \n",
       "     365      365      365      365      365      365 "
      ]
     },
     "metadata": {},
     "output_type": "display_data"
    }
   ],
   "source": [
    "# \"강으로 시작되는 측정소 구하기\"\n",
    "idx <- grep(\"^강\", data$`측정소명`)\n",
    "gang <- data[idx, ]\n",
    "table(gang$측정소명)"
   ]
  },
  {
   "cell_type": "code",
   "execution_count": 39,
   "metadata": {
    "vscode": {
     "languageId": "r"
    }
   },
   "outputs": [
    {
     "name": "stdout",
     "output_type": "stream",
     "text": [
      "  강남구 강남대로   강동구 강변북로   강북구   강서구 \n",
      "   37.26    41.05       NA    40.22    37.82    42.13 \n"
     ]
    }
   ],
   "source": [
    "# 측정소명별로 미세먼지농도 평균 구하기 (abrageif_excel)\n",
    "result <- tapply(gang$`미세먼지농도`, gang$`측정소명`, mean)\n",
    "print(round(result, 2))"
   ]
  },
  {
   "cell_type": "code",
   "execution_count": 40,
   "metadata": {
    "vscode": {
     "languageId": "r"
    }
   },
   "outputs": [
    {
     "data": {
      "text/plain": [
       "\n",
       "강남대로 강변북로 공항대로 도산대로 동작대로 시흥대로   신촌로 영등포로 \n",
       "     365      365      365      365      365      365      365      365 \n",
       "  정릉로     종로 천호대로 청계천로 한강대로   홍릉로   화랑로 \n",
       "     365      365      365      365      365      365      365 "
      ]
     },
     "metadata": {},
     "output_type": "display_data"
    }
   ],
   "source": [
    "# '로'로 끝나는 측정소명\n",
    "idx <- grep(\"로$\", data$`측정소명`)\n",
    "road <- data[idx, ]\n",
    "table(road$측정소명)"
   ]
  },
  {
   "cell_type": "code",
   "execution_count": 41,
   "metadata": {
    "vscode": {
     "languageId": "r"
    }
   },
   "outputs": [
    {
     "data": {
      "text/plain": [
       "\n",
       "강남대로 강변북로   신촌로 \n",
       "     365      365      365 "
      ]
     },
     "metadata": {},
     "output_type": "display_data"
    }
   ],
   "source": [
    "# '신', '한', '강'으로 시작되고 '로'로 끝나는 측정소명\n",
    "idx <- grep(\"^[신항강].*로$\", data$`측정소명`)\n",
    "road2 <- data[idx, ]\n",
    "table(road2$측정소명) "
   ]
  },
  {
   "cell_type": "code",
   "execution_count": 42,
   "metadata": {
    "vscode": {
     "languageId": "r"
    }
   },
   "outputs": [
    {
     "data": {
      "text/html": [
       "<style>\n",
       ".dl-inline {width: auto; margin:0; padding: 0}\n",
       ".dl-inline>dt, .dl-inline>dd {float: none; width: auto; display: inline-block}\n",
       ".dl-inline>dt::after {content: \":\\0020\"; padding-right: .5ex}\n",
       ".dl-inline>dt:not(:first-of-type) {padding-left: .5ex}\n",
       "</style><dl class=dl-inline><dt>강남대로</dt><dd>34</dd><dt>강변북로</dt><dd>33</dd><dt>신촌로</dt><dd>37</dd></dl>\n"
      ],
      "text/latex": [
       "\\begin{description*}\n",
       "\\item[강남대로] 34\n",
       "\\item[강변북로] 33\n",
       "\\item[신촌로] 37\n",
       "\\end{description*}\n"
      ],
      "text/markdown": [
       "강남대로\n",
       ":   34강변북로\n",
       ":   33신촌로\n",
       ":   37\n",
       "\n"
      ],
      "text/plain": [
       "강남대로 강변북로   신촌로 \n",
       "      34       33       37 "
      ]
     },
     "metadata": {},
     "output_type": "display_data"
    }
   ],
   "source": [
    "tapply(road2$`미세먼지농도`, road2$`측정소명`, median)"
   ]
  }
 ],
 "metadata": {
  "kernelspec": {
   "display_name": "R",
   "language": "R",
   "name": "ir"
  },
  "language_info": {
   "codemirror_mode": "r",
   "file_extension": ".r",
   "mimetype": "text/x-r-source",
   "name": "R",
   "pygments_lexer": "r",
   "version": "4.3.1"
  }
 },
 "nbformat": 4,
 "nbformat_minor": 2
}
