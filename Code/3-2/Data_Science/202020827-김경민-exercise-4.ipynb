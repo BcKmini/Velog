{
 "cells": [
  {
   "cell_type": "code",
   "execution_count": 1,
   "metadata": {
    "vscode": {
     "languageId": "r"
    }
   },
   "outputs": [
    {
     "data": {
      "text/html": [
       "'I-love-R'"
      ],
      "text/latex": [
       "'I-love-R'"
      ],
      "text/markdown": [
       "'I-love-R'"
      ],
      "text/plain": [
       "[1] \"I-love-R\""
      ]
     },
     "metadata": {},
     "output_type": "display_data"
    }
   ],
   "source": [
    "# 1번\n",
    "paste(\"I\", \"love\", \"R\", sep=\"-\")"
   ]
  },
  {
   "cell_type": "code",
   "execution_count": 2,
   "metadata": {
    "vscode": {
     "languageId": "r"
    }
   },
   "outputs": [
    {
     "name": "stdout",
     "output_type": "stream",
     "text": [
      " [1] \"X 1\"  \"X 2\"  \"X 3\"  \"X 4\"  \"X 5\"  \"X 6\"  \"X 7\"  \"X 8\"  \"X 9\"  \"X 10\"\n",
      "[11] \"X 11\" \"X 12\" \"X 13\" \"X 14\" \"X 15\" \"X 16\" \"X 17\" \"X 18\" \"X 19\" \"X 20\"\n",
      "[21] \"X 21\" \"X 22\" \"X 23\" \"X 24\" \"X 25\" \"X 26\" \"X 27\" \"X 28\" \"X 29\" \"X 30\"\n"
     ]
    }
   ],
   "source": [
    "# 2번\n",
    "print(paste(\"X\", 1:30))"
   ]
  },
  {
   "cell_type": "code",
   "execution_count": 3,
   "metadata": {
    "vscode": {
     "languageId": "r"
    }
   },
   "outputs": [
    {
     "data": {
      "text/html": [
       "'konkuk university natural science'"
      ],
      "text/latex": [
       "'konkuk university natural science'"
      ],
      "text/markdown": [
       "'konkuk university natural science'"
      ],
      "text/plain": [
       "[1] \"konkuk university natural science\""
      ]
     },
     "metadata": {},
     "output_type": "display_data"
    }
   ],
   "source": [
    "# 3번\n",
    "msg <- tolower(\"KonkUk UniVersity NaTuraL SciEnce\")\n",
    "msg"
   ]
  },
  {
   "cell_type": "code",
   "execution_count": 4,
   "metadata": {
    "vscode": {
     "languageId": "r"
    }
   },
   "outputs": [
    {
     "data": {
      "text/html": [
       "<table class=\"dataframe\">\n",
       "<caption>A data.frame: 5 × 3</caption>\n",
       "<thead>\n",
       "\t<tr><th scope=col>no</th><th scope=col>date</th><th scope=col>place</th></tr>\n",
       "\t<tr><th scope=col>&lt;dbl&gt;</th><th scope=col>&lt;chr&gt;</th><th scope=col>&lt;chr&gt;</th></tr>\n",
       "</thead>\n",
       "<tbody>\n",
       "\t<tr><td>33</td><td>20240726</td><td>파리          </td></tr>\n",
       "\t<tr><td>32</td><td>20210723</td><td>동경          </td></tr>\n",
       "\t<tr><td>31</td><td>20160805</td><td>리우데자네이루</td></tr>\n",
       "\t<tr><td>30</td><td>20120727</td><td>런던          </td></tr>\n",
       "\t<tr><td>29</td><td>20080808</td><td>베이징        </td></tr>\n",
       "</tbody>\n",
       "</table>\n"
      ],
      "text/latex": [
       "A data.frame: 5 × 3\n",
       "\\begin{tabular}{lll}\n",
       " no & date & place\\\\\n",
       " <dbl> & <chr> & <chr>\\\\\n",
       "\\hline\n",
       "\t 33 & 20240726 & 파리          \\\\\n",
       "\t 32 & 20210723 & 동경          \\\\\n",
       "\t 31 & 20160805 & 리우데자네이루\\\\\n",
       "\t 30 & 20120727 & 런던          \\\\\n",
       "\t 29 & 20080808 & 베이징        \\\\\n",
       "\\end{tabular}\n"
      ],
      "text/markdown": [
       "\n",
       "A data.frame: 5 × 3\n",
       "\n",
       "| no &lt;dbl&gt; | date &lt;chr&gt; | place &lt;chr&gt; |\n",
       "|---|---|---|\n",
       "| 33 | 20240726 | 파리           |\n",
       "| 32 | 20210723 | 동경           |\n",
       "| 31 | 20160805 | 리우데자네이루 |\n",
       "| 30 | 20120727 | 런던           |\n",
       "| 29 | 20080808 | 베이징         |\n",
       "\n"
      ],
      "text/plain": [
       "  no date     place         \n",
       "1 33 20240726 파리          \n",
       "2 32 20210723 동경          \n",
       "3 31 20160805 리우데자네이루\n",
       "4 30 20120727 런던          \n",
       "5 29 20080808 베이징        "
      ]
     },
     "metadata": {},
     "output_type": "display_data"
    }
   ],
   "source": [
    "# 4번\n",
    "olympic <- data.frame(\n",
    "  no = c(33, 32, 31, 30, 29),     # no\n",
    "  date = c(\"20240726\", \"20210723\", \"20160805\", \"20120727\", \"20080808\"), \n",
    "  place = c(\"파리\", \"동경\", \"리우데자네이루\", \"런던\", \"베이징\") \n",
    ")\n",
    "\n",
    "\n",
    "olympic"
   ]
  },
  {
   "cell_type": "code",
   "execution_count": 5,
   "metadata": {
    "vscode": {
     "languageId": "r"
    }
   },
   "outputs": [],
   "source": [
    "# 5번\n",
    "olympic <- data.frame()"
   ]
  },
  {
   "cell_type": "code",
   "execution_count": 6,
   "metadata": {
    "vscode": {
     "languageId": "r"
    }
   },
   "outputs": [
    {
     "data": {
      "text/html": [
       "<table class=\"dataframe\">\n",
       "<caption>A data.frame: 6 × 11</caption>\n",
       "<thead>\n",
       "\t<tr><th></th><th scope=col>mpg</th><th scope=col>cyl</th><th scope=col>disp</th><th scope=col>hp</th><th scope=col>drat</th><th scope=col>wt</th><th scope=col>qsec</th><th scope=col>vs</th><th scope=col>am</th><th scope=col>gear</th><th scope=col>carb</th></tr>\n",
       "\t<tr><th></th><th scope=col>&lt;dbl&gt;</th><th scope=col>&lt;dbl&gt;</th><th scope=col>&lt;dbl&gt;</th><th scope=col>&lt;dbl&gt;</th><th scope=col>&lt;dbl&gt;</th><th scope=col>&lt;dbl&gt;</th><th scope=col>&lt;dbl&gt;</th><th scope=col>&lt;dbl&gt;</th><th scope=col>&lt;dbl&gt;</th><th scope=col>&lt;dbl&gt;</th><th scope=col>&lt;dbl&gt;</th></tr>\n",
       "</thead>\n",
       "<tbody>\n",
       "\t<tr><th scope=row>Mazda RX4</th><td>21.0</td><td>6</td><td>160</td><td>110</td><td>3.90</td><td>2.620</td><td>16.46</td><td>0</td><td>1</td><td>4</td><td>4</td></tr>\n",
       "\t<tr><th scope=row>Mazda RX4 Wag</th><td>21.0</td><td>6</td><td>160</td><td>110</td><td>3.90</td><td>2.875</td><td>17.02</td><td>0</td><td>1</td><td>4</td><td>4</td></tr>\n",
       "\t<tr><th scope=row>Datsun 710</th><td>22.8</td><td>4</td><td>108</td><td> 93</td><td>3.85</td><td>2.320</td><td>18.61</td><td>1</td><td>1</td><td>4</td><td>1</td></tr>\n",
       "\t<tr><th scope=row>Hornet 4 Drive</th><td>21.4</td><td>6</td><td>258</td><td>110</td><td>3.08</td><td>3.215</td><td>19.44</td><td>1</td><td>0</td><td>3</td><td>1</td></tr>\n",
       "\t<tr><th scope=row>Hornet Sportabout</th><td>18.7</td><td>8</td><td>360</td><td>175</td><td>3.15</td><td>3.440</td><td>17.02</td><td>0</td><td>0</td><td>3</td><td>2</td></tr>\n",
       "\t<tr><th scope=row>Valiant</th><td>18.1</td><td>6</td><td>225</td><td>105</td><td>2.76</td><td>3.460</td><td>20.22</td><td>1</td><td>0</td><td>3</td><td>1</td></tr>\n",
       "</tbody>\n",
       "</table>\n"
      ],
      "text/latex": [
       "A data.frame: 6 × 11\n",
       "\\begin{tabular}{r|lllllllllll}\n",
       "  & mpg & cyl & disp & hp & drat & wt & qsec & vs & am & gear & carb\\\\\n",
       "  & <dbl> & <dbl> & <dbl> & <dbl> & <dbl> & <dbl> & <dbl> & <dbl> & <dbl> & <dbl> & <dbl>\\\\\n",
       "\\hline\n",
       "\tMazda RX4 & 21.0 & 6 & 160 & 110 & 3.90 & 2.620 & 16.46 & 0 & 1 & 4 & 4\\\\\n",
       "\tMazda RX4 Wag & 21.0 & 6 & 160 & 110 & 3.90 & 2.875 & 17.02 & 0 & 1 & 4 & 4\\\\\n",
       "\tDatsun 710 & 22.8 & 4 & 108 &  93 & 3.85 & 2.320 & 18.61 & 1 & 1 & 4 & 1\\\\\n",
       "\tHornet 4 Drive & 21.4 & 6 & 258 & 110 & 3.08 & 3.215 & 19.44 & 1 & 0 & 3 & 1\\\\\n",
       "\tHornet Sportabout & 18.7 & 8 & 360 & 175 & 3.15 & 3.440 & 17.02 & 0 & 0 & 3 & 2\\\\\n",
       "\tValiant & 18.1 & 6 & 225 & 105 & 2.76 & 3.460 & 20.22 & 1 & 0 & 3 & 1\\\\\n",
       "\\end{tabular}\n"
      ],
      "text/markdown": [
       "\n",
       "A data.frame: 6 × 11\n",
       "\n",
       "| <!--/--> | mpg &lt;dbl&gt; | cyl &lt;dbl&gt; | disp &lt;dbl&gt; | hp &lt;dbl&gt; | drat &lt;dbl&gt; | wt &lt;dbl&gt; | qsec &lt;dbl&gt; | vs &lt;dbl&gt; | am &lt;dbl&gt; | gear &lt;dbl&gt; | carb &lt;dbl&gt; |\n",
       "|---|---|---|---|---|---|---|---|---|---|---|---|\n",
       "| Mazda RX4 | 21.0 | 6 | 160 | 110 | 3.90 | 2.620 | 16.46 | 0 | 1 | 4 | 4 |\n",
       "| Mazda RX4 Wag | 21.0 | 6 | 160 | 110 | 3.90 | 2.875 | 17.02 | 0 | 1 | 4 | 4 |\n",
       "| Datsun 710 | 22.8 | 4 | 108 |  93 | 3.85 | 2.320 | 18.61 | 1 | 1 | 4 | 1 |\n",
       "| Hornet 4 Drive | 21.4 | 6 | 258 | 110 | 3.08 | 3.215 | 19.44 | 1 | 0 | 3 | 1 |\n",
       "| Hornet Sportabout | 18.7 | 8 | 360 | 175 | 3.15 | 3.440 | 17.02 | 0 | 0 | 3 | 2 |\n",
       "| Valiant | 18.1 | 6 | 225 | 105 | 2.76 | 3.460 | 20.22 | 1 | 0 | 3 | 1 |\n",
       "\n"
      ],
      "text/plain": [
       "                  mpg  cyl disp hp  drat wt    qsec  vs am gear carb\n",
       "Mazda RX4         21.0 6   160  110 3.90 2.620 16.46 0  1  4    4   \n",
       "Mazda RX4 Wag     21.0 6   160  110 3.90 2.875 17.02 0  1  4    4   \n",
       "Datsun 710        22.8 4   108   93 3.85 2.320 18.61 1  1  4    1   \n",
       "Hornet 4 Drive    21.4 6   258  110 3.08 3.215 19.44 1  0  3    1   \n",
       "Hornet Sportabout 18.7 8   360  175 3.15 3.440 17.02 0  0  3    2   \n",
       "Valiant           18.1 6   225  105 2.76 3.460 20.22 1  0  3    1   "
      ]
     },
     "metadata": {},
     "output_type": "display_data"
    }
   ],
   "source": [
    "# ※ mtacrs\n",
    "head(mtcars)\n"
   ]
  },
  {
   "cell_type": "code",
   "execution_count": 7,
   "metadata": {
    "vscode": {
     "languageId": "r"
    }
   },
   "outputs": [
    {
     "data": {
      "text/html": [
       "<table class=\"dataframe\">\n",
       "<caption>A data.frame: 32 × 12</caption>\n",
       "<thead>\n",
       "\t<tr><th></th><th scope=col>mpg</th><th scope=col>cyl</th><th scope=col>disp</th><th scope=col>hp</th><th scope=col>drat</th><th scope=col>wt</th><th scope=col>qsec</th><th scope=col>vs</th><th scope=col>am</th><th scope=col>gear</th><th scope=col>carb</th><th scope=col>model</th></tr>\n",
       "\t<tr><th></th><th scope=col>&lt;dbl&gt;</th><th scope=col>&lt;dbl&gt;</th><th scope=col>&lt;dbl&gt;</th><th scope=col>&lt;dbl&gt;</th><th scope=col>&lt;dbl&gt;</th><th scope=col>&lt;dbl&gt;</th><th scope=col>&lt;dbl&gt;</th><th scope=col>&lt;dbl&gt;</th><th scope=col>&lt;dbl&gt;</th><th scope=col>&lt;dbl&gt;</th><th scope=col>&lt;dbl&gt;</th><th scope=col>&lt;chr&gt;</th></tr>\n",
       "</thead>\n",
       "<tbody>\n",
       "\t<tr><th scope=row>1</th><td>21.0</td><td>6</td><td>160.0</td><td>110</td><td>3.90</td><td>2.620</td><td>16.46</td><td>0</td><td>1</td><td>4</td><td>4</td><td>Mazda RX4          </td></tr>\n",
       "\t<tr><th scope=row>2</th><td>21.0</td><td>6</td><td>160.0</td><td>110</td><td>3.90</td><td>2.875</td><td>17.02</td><td>0</td><td>1</td><td>4</td><td>4</td><td>Mazda RX4 Wag      </td></tr>\n",
       "\t<tr><th scope=row>3</th><td>22.8</td><td>4</td><td>108.0</td><td> 93</td><td>3.85</td><td>2.320</td><td>18.61</td><td>1</td><td>1</td><td>4</td><td>1</td><td>Datsun 710         </td></tr>\n",
       "\t<tr><th scope=row>4</th><td>21.4</td><td>6</td><td>258.0</td><td>110</td><td>3.08</td><td>3.215</td><td>19.44</td><td>1</td><td>0</td><td>3</td><td>1</td><td>Hornet 4 Drive     </td></tr>\n",
       "\t<tr><th scope=row>5</th><td>18.7</td><td>8</td><td>360.0</td><td>175</td><td>3.15</td><td>3.440</td><td>17.02</td><td>0</td><td>0</td><td>3</td><td>2</td><td>Hornet Sportabout  </td></tr>\n",
       "\t<tr><th scope=row>6</th><td>18.1</td><td>6</td><td>225.0</td><td>105</td><td>2.76</td><td>3.460</td><td>20.22</td><td>1</td><td>0</td><td>3</td><td>1</td><td>Valiant            </td></tr>\n",
       "\t<tr><th scope=row>7</th><td>14.3</td><td>8</td><td>360.0</td><td>245</td><td>3.21</td><td>3.570</td><td>15.84</td><td>0</td><td>0</td><td>3</td><td>4</td><td>Duster 360         </td></tr>\n",
       "\t<tr><th scope=row>8</th><td>24.4</td><td>4</td><td>146.7</td><td> 62</td><td>3.69</td><td>3.190</td><td>20.00</td><td>1</td><td>0</td><td>4</td><td>2</td><td>Merc 240D          </td></tr>\n",
       "\t<tr><th scope=row>9</th><td>22.8</td><td>4</td><td>140.8</td><td> 95</td><td>3.92</td><td>3.150</td><td>22.90</td><td>1</td><td>0</td><td>4</td><td>2</td><td>Merc 230           </td></tr>\n",
       "\t<tr><th scope=row>10</th><td>19.2</td><td>6</td><td>167.6</td><td>123</td><td>3.92</td><td>3.440</td><td>18.30</td><td>1</td><td>0</td><td>4</td><td>4</td><td>Merc 280           </td></tr>\n",
       "\t<tr><th scope=row>11</th><td>17.8</td><td>6</td><td>167.6</td><td>123</td><td>3.92</td><td>3.440</td><td>18.90</td><td>1</td><td>0</td><td>4</td><td>4</td><td>Merc 280C          </td></tr>\n",
       "\t<tr><th scope=row>12</th><td>16.4</td><td>8</td><td>275.8</td><td>180</td><td>3.07</td><td>4.070</td><td>17.40</td><td>0</td><td>0</td><td>3</td><td>3</td><td>Merc 450SE         </td></tr>\n",
       "\t<tr><th scope=row>13</th><td>17.3</td><td>8</td><td>275.8</td><td>180</td><td>3.07</td><td>3.730</td><td>17.60</td><td>0</td><td>0</td><td>3</td><td>3</td><td>Merc 450SL         </td></tr>\n",
       "\t<tr><th scope=row>14</th><td>15.2</td><td>8</td><td>275.8</td><td>180</td><td>3.07</td><td>3.780</td><td>18.00</td><td>0</td><td>0</td><td>3</td><td>3</td><td>Merc 450SLC        </td></tr>\n",
       "\t<tr><th scope=row>15</th><td>10.4</td><td>8</td><td>472.0</td><td>205</td><td>2.93</td><td>5.250</td><td>17.98</td><td>0</td><td>0</td><td>3</td><td>4</td><td>Cadillac Fleetwood </td></tr>\n",
       "\t<tr><th scope=row>16</th><td>10.4</td><td>8</td><td>460.0</td><td>215</td><td>3.00</td><td>5.424</td><td>17.82</td><td>0</td><td>0</td><td>3</td><td>4</td><td>Lincoln Continental</td></tr>\n",
       "\t<tr><th scope=row>17</th><td>14.7</td><td>8</td><td>440.0</td><td>230</td><td>3.23</td><td>5.345</td><td>17.42</td><td>0</td><td>0</td><td>3</td><td>4</td><td>Chrysler Imperial  </td></tr>\n",
       "\t<tr><th scope=row>18</th><td>32.4</td><td>4</td><td> 78.7</td><td> 66</td><td>4.08</td><td>2.200</td><td>19.47</td><td>1</td><td>1</td><td>4</td><td>1</td><td>Fiat 128           </td></tr>\n",
       "\t<tr><th scope=row>19</th><td>30.4</td><td>4</td><td> 75.7</td><td> 52</td><td>4.93</td><td>1.615</td><td>18.52</td><td>1</td><td>1</td><td>4</td><td>2</td><td>Honda Civic        </td></tr>\n",
       "\t<tr><th scope=row>20</th><td>33.9</td><td>4</td><td> 71.1</td><td> 65</td><td>4.22</td><td>1.835</td><td>19.90</td><td>1</td><td>1</td><td>4</td><td>1</td><td>Toyota Corolla     </td></tr>\n",
       "\t<tr><th scope=row>21</th><td>21.5</td><td>4</td><td>120.1</td><td> 97</td><td>3.70</td><td>2.465</td><td>20.01</td><td>1</td><td>0</td><td>3</td><td>1</td><td>Toyota Corona      </td></tr>\n",
       "\t<tr><th scope=row>22</th><td>15.5</td><td>8</td><td>318.0</td><td>150</td><td>2.76</td><td>3.520</td><td>16.87</td><td>0</td><td>0</td><td>3</td><td>2</td><td>Dodge Challenger   </td></tr>\n",
       "\t<tr><th scope=row>23</th><td>15.2</td><td>8</td><td>304.0</td><td>150</td><td>3.15</td><td>3.435</td><td>17.30</td><td>0</td><td>0</td><td>3</td><td>2</td><td>AMC Javelin        </td></tr>\n",
       "\t<tr><th scope=row>24</th><td>13.3</td><td>8</td><td>350.0</td><td>245</td><td>3.73</td><td>3.840</td><td>15.41</td><td>0</td><td>0</td><td>3</td><td>4</td><td>Camaro Z28         </td></tr>\n",
       "\t<tr><th scope=row>25</th><td>19.2</td><td>8</td><td>400.0</td><td>175</td><td>3.08</td><td>3.845</td><td>17.05</td><td>0</td><td>0</td><td>3</td><td>2</td><td>Pontiac Firebird   </td></tr>\n",
       "\t<tr><th scope=row>26</th><td>27.3</td><td>4</td><td> 79.0</td><td> 66</td><td>4.08</td><td>1.935</td><td>18.90</td><td>1</td><td>1</td><td>4</td><td>1</td><td>Fiat X1-9          </td></tr>\n",
       "\t<tr><th scope=row>27</th><td>26.0</td><td>4</td><td>120.3</td><td> 91</td><td>4.43</td><td>2.140</td><td>16.70</td><td>0</td><td>1</td><td>5</td><td>2</td><td>Porsche 914-2      </td></tr>\n",
       "\t<tr><th scope=row>28</th><td>30.4</td><td>4</td><td> 95.1</td><td>113</td><td>3.77</td><td>1.513</td><td>16.90</td><td>1</td><td>1</td><td>5</td><td>2</td><td>Lotus Europa       </td></tr>\n",
       "\t<tr><th scope=row>29</th><td>15.8</td><td>8</td><td>351.0</td><td>264</td><td>4.22</td><td>3.170</td><td>14.50</td><td>0</td><td>1</td><td>5</td><td>4</td><td>Ford Pantera L     </td></tr>\n",
       "\t<tr><th scope=row>30</th><td>19.7</td><td>6</td><td>145.0</td><td>175</td><td>3.62</td><td>2.770</td><td>15.50</td><td>0</td><td>1</td><td>5</td><td>6</td><td>Ferrari Dino       </td></tr>\n",
       "\t<tr><th scope=row>31</th><td>15.0</td><td>8</td><td>301.0</td><td>335</td><td>3.54</td><td>3.570</td><td>14.60</td><td>0</td><td>1</td><td>5</td><td>8</td><td>Maserati Bora      </td></tr>\n",
       "\t<tr><th scope=row>32</th><td>21.4</td><td>4</td><td>121.0</td><td>109</td><td>4.11</td><td>2.780</td><td>18.60</td><td>1</td><td>1</td><td>4</td><td>2</td><td>Volvo 142E         </td></tr>\n",
       "</tbody>\n",
       "</table>\n"
      ],
      "text/latex": [
       "A data.frame: 32 × 12\n",
       "\\begin{tabular}{r|llllllllllll}\n",
       "  & mpg & cyl & disp & hp & drat & wt & qsec & vs & am & gear & carb & model\\\\\n",
       "  & <dbl> & <dbl> & <dbl> & <dbl> & <dbl> & <dbl> & <dbl> & <dbl> & <dbl> & <dbl> & <dbl> & <chr>\\\\\n",
       "\\hline\n",
       "\t1 & 21.0 & 6 & 160.0 & 110 & 3.90 & 2.620 & 16.46 & 0 & 1 & 4 & 4 & Mazda RX4          \\\\\n",
       "\t2 & 21.0 & 6 & 160.0 & 110 & 3.90 & 2.875 & 17.02 & 0 & 1 & 4 & 4 & Mazda RX4 Wag      \\\\\n",
       "\t3 & 22.8 & 4 & 108.0 &  93 & 3.85 & 2.320 & 18.61 & 1 & 1 & 4 & 1 & Datsun 710         \\\\\n",
       "\t4 & 21.4 & 6 & 258.0 & 110 & 3.08 & 3.215 & 19.44 & 1 & 0 & 3 & 1 & Hornet 4 Drive     \\\\\n",
       "\t5 & 18.7 & 8 & 360.0 & 175 & 3.15 & 3.440 & 17.02 & 0 & 0 & 3 & 2 & Hornet Sportabout  \\\\\n",
       "\t6 & 18.1 & 6 & 225.0 & 105 & 2.76 & 3.460 & 20.22 & 1 & 0 & 3 & 1 & Valiant            \\\\\n",
       "\t7 & 14.3 & 8 & 360.0 & 245 & 3.21 & 3.570 & 15.84 & 0 & 0 & 3 & 4 & Duster 360         \\\\\n",
       "\t8 & 24.4 & 4 & 146.7 &  62 & 3.69 & 3.190 & 20.00 & 1 & 0 & 4 & 2 & Merc 240D          \\\\\n",
       "\t9 & 22.8 & 4 & 140.8 &  95 & 3.92 & 3.150 & 22.90 & 1 & 0 & 4 & 2 & Merc 230           \\\\\n",
       "\t10 & 19.2 & 6 & 167.6 & 123 & 3.92 & 3.440 & 18.30 & 1 & 0 & 4 & 4 & Merc 280           \\\\\n",
       "\t11 & 17.8 & 6 & 167.6 & 123 & 3.92 & 3.440 & 18.90 & 1 & 0 & 4 & 4 & Merc 280C          \\\\\n",
       "\t12 & 16.4 & 8 & 275.8 & 180 & 3.07 & 4.070 & 17.40 & 0 & 0 & 3 & 3 & Merc 450SE         \\\\\n",
       "\t13 & 17.3 & 8 & 275.8 & 180 & 3.07 & 3.730 & 17.60 & 0 & 0 & 3 & 3 & Merc 450SL         \\\\\n",
       "\t14 & 15.2 & 8 & 275.8 & 180 & 3.07 & 3.780 & 18.00 & 0 & 0 & 3 & 3 & Merc 450SLC        \\\\\n",
       "\t15 & 10.4 & 8 & 472.0 & 205 & 2.93 & 5.250 & 17.98 & 0 & 0 & 3 & 4 & Cadillac Fleetwood \\\\\n",
       "\t16 & 10.4 & 8 & 460.0 & 215 & 3.00 & 5.424 & 17.82 & 0 & 0 & 3 & 4 & Lincoln Continental\\\\\n",
       "\t17 & 14.7 & 8 & 440.0 & 230 & 3.23 & 5.345 & 17.42 & 0 & 0 & 3 & 4 & Chrysler Imperial  \\\\\n",
       "\t18 & 32.4 & 4 &  78.7 &  66 & 4.08 & 2.200 & 19.47 & 1 & 1 & 4 & 1 & Fiat 128           \\\\\n",
       "\t19 & 30.4 & 4 &  75.7 &  52 & 4.93 & 1.615 & 18.52 & 1 & 1 & 4 & 2 & Honda Civic        \\\\\n",
       "\t20 & 33.9 & 4 &  71.1 &  65 & 4.22 & 1.835 & 19.90 & 1 & 1 & 4 & 1 & Toyota Corolla     \\\\\n",
       "\t21 & 21.5 & 4 & 120.1 &  97 & 3.70 & 2.465 & 20.01 & 1 & 0 & 3 & 1 & Toyota Corona      \\\\\n",
       "\t22 & 15.5 & 8 & 318.0 & 150 & 2.76 & 3.520 & 16.87 & 0 & 0 & 3 & 2 & Dodge Challenger   \\\\\n",
       "\t23 & 15.2 & 8 & 304.0 & 150 & 3.15 & 3.435 & 17.30 & 0 & 0 & 3 & 2 & AMC Javelin        \\\\\n",
       "\t24 & 13.3 & 8 & 350.0 & 245 & 3.73 & 3.840 & 15.41 & 0 & 0 & 3 & 4 & Camaro Z28         \\\\\n",
       "\t25 & 19.2 & 8 & 400.0 & 175 & 3.08 & 3.845 & 17.05 & 0 & 0 & 3 & 2 & Pontiac Firebird   \\\\\n",
       "\t26 & 27.3 & 4 &  79.0 &  66 & 4.08 & 1.935 & 18.90 & 1 & 1 & 4 & 1 & Fiat X1-9          \\\\\n",
       "\t27 & 26.0 & 4 & 120.3 &  91 & 4.43 & 2.140 & 16.70 & 0 & 1 & 5 & 2 & Porsche 914-2      \\\\\n",
       "\t28 & 30.4 & 4 &  95.1 & 113 & 3.77 & 1.513 & 16.90 & 1 & 1 & 5 & 2 & Lotus Europa       \\\\\n",
       "\t29 & 15.8 & 8 & 351.0 & 264 & 4.22 & 3.170 & 14.50 & 0 & 1 & 5 & 4 & Ford Pantera L     \\\\\n",
       "\t30 & 19.7 & 6 & 145.0 & 175 & 3.62 & 2.770 & 15.50 & 0 & 1 & 5 & 6 & Ferrari Dino       \\\\\n",
       "\t31 & 15.0 & 8 & 301.0 & 335 & 3.54 & 3.570 & 14.60 & 0 & 1 & 5 & 8 & Maserati Bora      \\\\\n",
       "\t32 & 21.4 & 4 & 121.0 & 109 & 4.11 & 2.780 & 18.60 & 1 & 1 & 4 & 2 & Volvo 142E         \\\\\n",
       "\\end{tabular}\n"
      ],
      "text/markdown": [
       "\n",
       "A data.frame: 32 × 12\n",
       "\n",
       "| <!--/--> | mpg &lt;dbl&gt; | cyl &lt;dbl&gt; | disp &lt;dbl&gt; | hp &lt;dbl&gt; | drat &lt;dbl&gt; | wt &lt;dbl&gt; | qsec &lt;dbl&gt; | vs &lt;dbl&gt; | am &lt;dbl&gt; | gear &lt;dbl&gt; | carb &lt;dbl&gt; | model &lt;chr&gt; |\n",
       "|---|---|---|---|---|---|---|---|---|---|---|---|---|\n",
       "| 1 | 21.0 | 6 | 160.0 | 110 | 3.90 | 2.620 | 16.46 | 0 | 1 | 4 | 4 | Mazda RX4           |\n",
       "| 2 | 21.0 | 6 | 160.0 | 110 | 3.90 | 2.875 | 17.02 | 0 | 1 | 4 | 4 | Mazda RX4 Wag       |\n",
       "| 3 | 22.8 | 4 | 108.0 |  93 | 3.85 | 2.320 | 18.61 | 1 | 1 | 4 | 1 | Datsun 710          |\n",
       "| 4 | 21.4 | 6 | 258.0 | 110 | 3.08 | 3.215 | 19.44 | 1 | 0 | 3 | 1 | Hornet 4 Drive      |\n",
       "| 5 | 18.7 | 8 | 360.0 | 175 | 3.15 | 3.440 | 17.02 | 0 | 0 | 3 | 2 | Hornet Sportabout   |\n",
       "| 6 | 18.1 | 6 | 225.0 | 105 | 2.76 | 3.460 | 20.22 | 1 | 0 | 3 | 1 | Valiant             |\n",
       "| 7 | 14.3 | 8 | 360.0 | 245 | 3.21 | 3.570 | 15.84 | 0 | 0 | 3 | 4 | Duster 360          |\n",
       "| 8 | 24.4 | 4 | 146.7 |  62 | 3.69 | 3.190 | 20.00 | 1 | 0 | 4 | 2 | Merc 240D           |\n",
       "| 9 | 22.8 | 4 | 140.8 |  95 | 3.92 | 3.150 | 22.90 | 1 | 0 | 4 | 2 | Merc 230            |\n",
       "| 10 | 19.2 | 6 | 167.6 | 123 | 3.92 | 3.440 | 18.30 | 1 | 0 | 4 | 4 | Merc 280            |\n",
       "| 11 | 17.8 | 6 | 167.6 | 123 | 3.92 | 3.440 | 18.90 | 1 | 0 | 4 | 4 | Merc 280C           |\n",
       "| 12 | 16.4 | 8 | 275.8 | 180 | 3.07 | 4.070 | 17.40 | 0 | 0 | 3 | 3 | Merc 450SE          |\n",
       "| 13 | 17.3 | 8 | 275.8 | 180 | 3.07 | 3.730 | 17.60 | 0 | 0 | 3 | 3 | Merc 450SL          |\n",
       "| 14 | 15.2 | 8 | 275.8 | 180 | 3.07 | 3.780 | 18.00 | 0 | 0 | 3 | 3 | Merc 450SLC         |\n",
       "| 15 | 10.4 | 8 | 472.0 | 205 | 2.93 | 5.250 | 17.98 | 0 | 0 | 3 | 4 | Cadillac Fleetwood  |\n",
       "| 16 | 10.4 | 8 | 460.0 | 215 | 3.00 | 5.424 | 17.82 | 0 | 0 | 3 | 4 | Lincoln Continental |\n",
       "| 17 | 14.7 | 8 | 440.0 | 230 | 3.23 | 5.345 | 17.42 | 0 | 0 | 3 | 4 | Chrysler Imperial   |\n",
       "| 18 | 32.4 | 4 |  78.7 |  66 | 4.08 | 2.200 | 19.47 | 1 | 1 | 4 | 1 | Fiat 128            |\n",
       "| 19 | 30.4 | 4 |  75.7 |  52 | 4.93 | 1.615 | 18.52 | 1 | 1 | 4 | 2 | Honda Civic         |\n",
       "| 20 | 33.9 | 4 |  71.1 |  65 | 4.22 | 1.835 | 19.90 | 1 | 1 | 4 | 1 | Toyota Corolla      |\n",
       "| 21 | 21.5 | 4 | 120.1 |  97 | 3.70 | 2.465 | 20.01 | 1 | 0 | 3 | 1 | Toyota Corona       |\n",
       "| 22 | 15.5 | 8 | 318.0 | 150 | 2.76 | 3.520 | 16.87 | 0 | 0 | 3 | 2 | Dodge Challenger    |\n",
       "| 23 | 15.2 | 8 | 304.0 | 150 | 3.15 | 3.435 | 17.30 | 0 | 0 | 3 | 2 | AMC Javelin         |\n",
       "| 24 | 13.3 | 8 | 350.0 | 245 | 3.73 | 3.840 | 15.41 | 0 | 0 | 3 | 4 | Camaro Z28          |\n",
       "| 25 | 19.2 | 8 | 400.0 | 175 | 3.08 | 3.845 | 17.05 | 0 | 0 | 3 | 2 | Pontiac Firebird    |\n",
       "| 26 | 27.3 | 4 |  79.0 |  66 | 4.08 | 1.935 | 18.90 | 1 | 1 | 4 | 1 | Fiat X1-9           |\n",
       "| 27 | 26.0 | 4 | 120.3 |  91 | 4.43 | 2.140 | 16.70 | 0 | 1 | 5 | 2 | Porsche 914-2       |\n",
       "| 28 | 30.4 | 4 |  95.1 | 113 | 3.77 | 1.513 | 16.90 | 1 | 1 | 5 | 2 | Lotus Europa        |\n",
       "| 29 | 15.8 | 8 | 351.0 | 264 | 4.22 | 3.170 | 14.50 | 0 | 1 | 5 | 4 | Ford Pantera L      |\n",
       "| 30 | 19.7 | 6 | 145.0 | 175 | 3.62 | 2.770 | 15.50 | 0 | 1 | 5 | 6 | Ferrari Dino        |\n",
       "| 31 | 15.0 | 8 | 301.0 | 335 | 3.54 | 3.570 | 14.60 | 0 | 1 | 5 | 8 | Maserati Bora       |\n",
       "| 32 | 21.4 | 4 | 121.0 | 109 | 4.11 | 2.780 | 18.60 | 1 | 1 | 4 | 2 | Volvo 142E          |\n",
       "\n"
      ],
      "text/plain": [
       "   mpg  cyl disp  hp  drat wt    qsec  vs am gear carb model              \n",
       "1  21.0 6   160.0 110 3.90 2.620 16.46 0  1  4    4    Mazda RX4          \n",
       "2  21.0 6   160.0 110 3.90 2.875 17.02 0  1  4    4    Mazda RX4 Wag      \n",
       "3  22.8 4   108.0  93 3.85 2.320 18.61 1  1  4    1    Datsun 710         \n",
       "4  21.4 6   258.0 110 3.08 3.215 19.44 1  0  3    1    Hornet 4 Drive     \n",
       "5  18.7 8   360.0 175 3.15 3.440 17.02 0  0  3    2    Hornet Sportabout  \n",
       "6  18.1 6   225.0 105 2.76 3.460 20.22 1  0  3    1    Valiant            \n",
       "7  14.3 8   360.0 245 3.21 3.570 15.84 0  0  3    4    Duster 360         \n",
       "8  24.4 4   146.7  62 3.69 3.190 20.00 1  0  4    2    Merc 240D          \n",
       "9  22.8 4   140.8  95 3.92 3.150 22.90 1  0  4    2    Merc 230           \n",
       "10 19.2 6   167.6 123 3.92 3.440 18.30 1  0  4    4    Merc 280           \n",
       "11 17.8 6   167.6 123 3.92 3.440 18.90 1  0  4    4    Merc 280C          \n",
       "12 16.4 8   275.8 180 3.07 4.070 17.40 0  0  3    3    Merc 450SE         \n",
       "13 17.3 8   275.8 180 3.07 3.730 17.60 0  0  3    3    Merc 450SL         \n",
       "14 15.2 8   275.8 180 3.07 3.780 18.00 0  0  3    3    Merc 450SLC        \n",
       "15 10.4 8   472.0 205 2.93 5.250 17.98 0  0  3    4    Cadillac Fleetwood \n",
       "16 10.4 8   460.0 215 3.00 5.424 17.82 0  0  3    4    Lincoln Continental\n",
       "17 14.7 8   440.0 230 3.23 5.345 17.42 0  0  3    4    Chrysler Imperial  \n",
       "18 32.4 4    78.7  66 4.08 2.200 19.47 1  1  4    1    Fiat 128           \n",
       "19 30.4 4    75.7  52 4.93 1.615 18.52 1  1  4    2    Honda Civic        \n",
       "20 33.9 4    71.1  65 4.22 1.835 19.90 1  1  4    1    Toyota Corolla     \n",
       "21 21.5 4   120.1  97 3.70 2.465 20.01 1  0  3    1    Toyota Corona      \n",
       "22 15.5 8   318.0 150 2.76 3.520 16.87 0  0  3    2    Dodge Challenger   \n",
       "23 15.2 8   304.0 150 3.15 3.435 17.30 0  0  3    2    AMC Javelin        \n",
       "24 13.3 8   350.0 245 3.73 3.840 15.41 0  0  3    4    Camaro Z28         \n",
       "25 19.2 8   400.0 175 3.08 3.845 17.05 0  0  3    2    Pontiac Firebird   \n",
       "26 27.3 4    79.0  66 4.08 1.935 18.90 1  1  4    1    Fiat X1-9          \n",
       "27 26.0 4   120.3  91 4.43 2.140 16.70 0  1  5    2    Porsche 914-2      \n",
       "28 30.4 4    95.1 113 3.77 1.513 16.90 1  1  5    2    Lotus Europa       \n",
       "29 15.8 8   351.0 264 4.22 3.170 14.50 0  1  5    4    Ford Pantera L     \n",
       "30 19.7 6   145.0 175 3.62 2.770 15.50 0  1  5    6    Ferrari Dino       \n",
       "31 15.0 8   301.0 335 3.54 3.570 14.60 0  1  5    8    Maserati Bora      \n",
       "32 21.4 4   121.0 109 4.11 2.780 18.60 1  1  4    2    Volvo 142E         "
      ]
     },
     "metadata": {},
     "output_type": "display_data"
    }
   ],
   "source": [
    "# 6번\n",
    "model <- rownames(mtcars)\n",
    "mtcars$model <- model\n",
    "\n",
    "rownames(mtcars) <- 1:32\n",
    "\n",
    "mtcars\n"
   ]
  },
  {
   "cell_type": "code",
   "execution_count": 8,
   "metadata": {
    "vscode": {
     "languageId": "r"
    }
   },
   "outputs": [
    {
     "data": {
      "text/html": [
       "<table class=\"dataframe\">\n",
       "<caption>A data.frame: 4 × 12</caption>\n",
       "<thead>\n",
       "\t<tr><th></th><th scope=col>mpg</th><th scope=col>cyl</th><th scope=col>disp</th><th scope=col>hp</th><th scope=col>drat</th><th scope=col>wt</th><th scope=col>qsec</th><th scope=col>vs</th><th scope=col>am</th><th scope=col>gear</th><th scope=col>carb</th><th scope=col>model</th></tr>\n",
       "\t<tr><th></th><th scope=col>&lt;dbl&gt;</th><th scope=col>&lt;dbl&gt;</th><th scope=col>&lt;dbl&gt;</th><th scope=col>&lt;dbl&gt;</th><th scope=col>&lt;dbl&gt;</th><th scope=col>&lt;dbl&gt;</th><th scope=col>&lt;dbl&gt;</th><th scope=col>&lt;dbl&gt;</th><th scope=col>&lt;dbl&gt;</th><th scope=col>&lt;dbl&gt;</th><th scope=col>&lt;dbl&gt;</th><th scope=col>&lt;chr&gt;</th></tr>\n",
       "</thead>\n",
       "<tbody>\n",
       "\t<tr><th scope=row>5</th><td>18.7</td><td>8</td><td>360.0</td><td>175</td><td>3.15</td><td>3.44</td><td>17.02</td><td>0</td><td>0</td><td>3</td><td>2</td><td>Hornet Sportabout</td></tr>\n",
       "\t<tr><th scope=row>12</th><td>16.4</td><td>8</td><td>275.8</td><td>180</td><td>3.07</td><td>4.07</td><td>17.40</td><td>0</td><td>0</td><td>3</td><td>3</td><td>Merc 450SE       </td></tr>\n",
       "\t<tr><th scope=row>13</th><td>17.3</td><td>8</td><td>275.8</td><td>180</td><td>3.07</td><td>3.73</td><td>17.60</td><td>0</td><td>0</td><td>3</td><td>3</td><td>Merc 450SL       </td></tr>\n",
       "\t<tr><th scope=row>14</th><td>15.2</td><td>8</td><td>275.8</td><td>180</td><td>3.07</td><td>3.78</td><td>18.00</td><td>0</td><td>0</td><td>3</td><td>3</td><td>Merc 450SLC      </td></tr>\n",
       "</tbody>\n",
       "</table>\n"
      ],
      "text/latex": [
       "A data.frame: 4 × 12\n",
       "\\begin{tabular}{r|llllllllllll}\n",
       "  & mpg & cyl & disp & hp & drat & wt & qsec & vs & am & gear & carb & model\\\\\n",
       "  & <dbl> & <dbl> & <dbl> & <dbl> & <dbl> & <dbl> & <dbl> & <dbl> & <dbl> & <dbl> & <dbl> & <chr>\\\\\n",
       "\\hline\n",
       "\t5 & 18.7 & 8 & 360.0 & 175 & 3.15 & 3.44 & 17.02 & 0 & 0 & 3 & 2 & Hornet Sportabout\\\\\n",
       "\t12 & 16.4 & 8 & 275.8 & 180 & 3.07 & 4.07 & 17.40 & 0 & 0 & 3 & 3 & Merc 450SE       \\\\\n",
       "\t13 & 17.3 & 8 & 275.8 & 180 & 3.07 & 3.73 & 17.60 & 0 & 0 & 3 & 3 & Merc 450SL       \\\\\n",
       "\t14 & 15.2 & 8 & 275.8 & 180 & 3.07 & 3.78 & 18.00 & 0 & 0 & 3 & 3 & Merc 450SLC      \\\\\n",
       "\\end{tabular}\n"
      ],
      "text/markdown": [
       "\n",
       "A data.frame: 4 × 12\n",
       "\n",
       "| <!--/--> | mpg &lt;dbl&gt; | cyl &lt;dbl&gt; | disp &lt;dbl&gt; | hp &lt;dbl&gt; | drat &lt;dbl&gt; | wt &lt;dbl&gt; | qsec &lt;dbl&gt; | vs &lt;dbl&gt; | am &lt;dbl&gt; | gear &lt;dbl&gt; | carb &lt;dbl&gt; | model &lt;chr&gt; |\n",
       "|---|---|---|---|---|---|---|---|---|---|---|---|---|\n",
       "| 5 | 18.7 | 8 | 360.0 | 175 | 3.15 | 3.44 | 17.02 | 0 | 0 | 3 | 2 | Hornet Sportabout |\n",
       "| 12 | 16.4 | 8 | 275.8 | 180 | 3.07 | 4.07 | 17.40 | 0 | 0 | 3 | 3 | Merc 450SE        |\n",
       "| 13 | 17.3 | 8 | 275.8 | 180 | 3.07 | 3.73 | 17.60 | 0 | 0 | 3 | 3 | Merc 450SL        |\n",
       "| 14 | 15.2 | 8 | 275.8 | 180 | 3.07 | 3.78 | 18.00 | 0 | 0 | 3 | 3 | Merc 450SLC       |\n",
       "\n"
      ],
      "text/plain": [
       "   mpg  cyl disp  hp  drat wt   qsec  vs am gear carb model            \n",
       "5  18.7 8   360.0 175 3.15 3.44 17.02 0  0  3    2    Hornet Sportabout\n",
       "12 16.4 8   275.8 180 3.07 4.07 17.40 0  0  3    3    Merc 450SE       \n",
       "13 17.3 8   275.8 180 3.07 3.73 17.60 0  0  3    3    Merc 450SL       \n",
       "14 15.2 8   275.8 180 3.07 3.78 18.00 0  0  3    3    Merc 450SLC      "
      ]
     },
     "metadata": {},
     "output_type": "display_data"
    }
   ],
   "source": [
    "# 7번\n",
    "subset(mtcars, grepl(\"S\", mtcars$model))\n"
   ]
  },
  {
   "cell_type": "code",
   "execution_count": 9,
   "metadata": {
    "vscode": {
     "languageId": "r"
    }
   },
   "outputs": [
    {
     "data": {
      "text/html": [
       "<table class=\"dataframe\">\n",
       "<caption>A data.frame: 10 × 12</caption>\n",
       "<thead>\n",
       "\t<tr><th></th><th scope=col>mpg</th><th scope=col>cyl</th><th scope=col>disp</th><th scope=col>hp</th><th scope=col>drat</th><th scope=col>wt</th><th scope=col>qsec</th><th scope=col>vs</th><th scope=col>am</th><th scope=col>gear</th><th scope=col>carb</th><th scope=col>model</th></tr>\n",
       "\t<tr><th></th><th scope=col>&lt;dbl&gt;</th><th scope=col>&lt;dbl&gt;</th><th scope=col>&lt;dbl&gt;</th><th scope=col>&lt;dbl&gt;</th><th scope=col>&lt;dbl&gt;</th><th scope=col>&lt;dbl&gt;</th><th scope=col>&lt;dbl&gt;</th><th scope=col>&lt;dbl&gt;</th><th scope=col>&lt;dbl&gt;</th><th scope=col>&lt;dbl&gt;</th><th scope=col>&lt;dbl&gt;</th><th scope=col>&lt;chr&gt;</th></tr>\n",
       "</thead>\n",
       "<tbody>\n",
       "\t<tr><th scope=row>3</th><td>22.8</td><td>4</td><td>108.0</td><td> 93</td><td>3.85</td><td>2.320</td><td>18.61</td><td>1</td><td>1</td><td>4</td><td>1</td><td>Datsun 710       </td></tr>\n",
       "\t<tr><th scope=row>5</th><td>18.7</td><td>8</td><td>360.0</td><td>175</td><td>3.15</td><td>3.440</td><td>17.02</td><td>0</td><td>0</td><td>3</td><td>2</td><td>Hornet Sportabout</td></tr>\n",
       "\t<tr><th scope=row>7</th><td>14.3</td><td>8</td><td>360.0</td><td>245</td><td>3.21</td><td>3.570</td><td>15.84</td><td>0</td><td>0</td><td>3</td><td>4</td><td>Duster 360       </td></tr>\n",
       "\t<tr><th scope=row>12</th><td>16.4</td><td>8</td><td>275.8</td><td>180</td><td>3.07</td><td>4.070</td><td>17.40</td><td>0</td><td>0</td><td>3</td><td>3</td><td>Merc 450SE       </td></tr>\n",
       "\t<tr><th scope=row>13</th><td>17.3</td><td>8</td><td>275.8</td><td>180</td><td>3.07</td><td>3.730</td><td>17.60</td><td>0</td><td>0</td><td>3</td><td>3</td><td>Merc 450SL       </td></tr>\n",
       "\t<tr><th scope=row>14</th><td>15.2</td><td>8</td><td>275.8</td><td>180</td><td>3.07</td><td>3.780</td><td>18.00</td><td>0</td><td>0</td><td>3</td><td>3</td><td>Merc 450SLC      </td></tr>\n",
       "\t<tr><th scope=row>17</th><td>14.7</td><td>8</td><td>440.0</td><td>230</td><td>3.23</td><td>5.345</td><td>17.42</td><td>0</td><td>0</td><td>3</td><td>4</td><td>Chrysler Imperial</td></tr>\n",
       "\t<tr><th scope=row>27</th><td>26.0</td><td>4</td><td>120.3</td><td> 91</td><td>4.43</td><td>2.140</td><td>16.70</td><td>0</td><td>1</td><td>5</td><td>2</td><td>Porsche 914-2    </td></tr>\n",
       "\t<tr><th scope=row>28</th><td>30.4</td><td>4</td><td> 95.1</td><td>113</td><td>3.77</td><td>1.513</td><td>16.90</td><td>1</td><td>1</td><td>5</td><td>2</td><td>Lotus Europa     </td></tr>\n",
       "\t<tr><th scope=row>31</th><td>15.0</td><td>8</td><td>301.0</td><td>335</td><td>3.54</td><td>3.570</td><td>14.60</td><td>0</td><td>1</td><td>5</td><td>8</td><td>Maserati Bora    </td></tr>\n",
       "</tbody>\n",
       "</table>\n"
      ],
      "text/latex": [
       "A data.frame: 10 × 12\n",
       "\\begin{tabular}{r|llllllllllll}\n",
       "  & mpg & cyl & disp & hp & drat & wt & qsec & vs & am & gear & carb & model\\\\\n",
       "  & <dbl> & <dbl> & <dbl> & <dbl> & <dbl> & <dbl> & <dbl> & <dbl> & <dbl> & <dbl> & <dbl> & <chr>\\\\\n",
       "\\hline\n",
       "\t3 & 22.8 & 4 & 108.0 &  93 & 3.85 & 2.320 & 18.61 & 1 & 1 & 4 & 1 & Datsun 710       \\\\\n",
       "\t5 & 18.7 & 8 & 360.0 & 175 & 3.15 & 3.440 & 17.02 & 0 & 0 & 3 & 2 & Hornet Sportabout\\\\\n",
       "\t7 & 14.3 & 8 & 360.0 & 245 & 3.21 & 3.570 & 15.84 & 0 & 0 & 3 & 4 & Duster 360       \\\\\n",
       "\t12 & 16.4 & 8 & 275.8 & 180 & 3.07 & 4.070 & 17.40 & 0 & 0 & 3 & 3 & Merc 450SE       \\\\\n",
       "\t13 & 17.3 & 8 & 275.8 & 180 & 3.07 & 3.730 & 17.60 & 0 & 0 & 3 & 3 & Merc 450SL       \\\\\n",
       "\t14 & 15.2 & 8 & 275.8 & 180 & 3.07 & 3.780 & 18.00 & 0 & 0 & 3 & 3 & Merc 450SLC      \\\\\n",
       "\t17 & 14.7 & 8 & 440.0 & 230 & 3.23 & 5.345 & 17.42 & 0 & 0 & 3 & 4 & Chrysler Imperial\\\\\n",
       "\t27 & 26.0 & 4 & 120.3 &  91 & 4.43 & 2.140 & 16.70 & 0 & 1 & 5 & 2 & Porsche 914-2    \\\\\n",
       "\t28 & 30.4 & 4 &  95.1 & 113 & 3.77 & 1.513 & 16.90 & 1 & 1 & 5 & 2 & Lotus Europa     \\\\\n",
       "\t31 & 15.0 & 8 & 301.0 & 335 & 3.54 & 3.570 & 14.60 & 0 & 1 & 5 & 8 & Maserati Bora    \\\\\n",
       "\\end{tabular}\n"
      ],
      "text/markdown": [
       "\n",
       "A data.frame: 10 × 12\n",
       "\n",
       "| <!--/--> | mpg &lt;dbl&gt; | cyl &lt;dbl&gt; | disp &lt;dbl&gt; | hp &lt;dbl&gt; | drat &lt;dbl&gt; | wt &lt;dbl&gt; | qsec &lt;dbl&gt; | vs &lt;dbl&gt; | am &lt;dbl&gt; | gear &lt;dbl&gt; | carb &lt;dbl&gt; | model &lt;chr&gt; |\n",
       "|---|---|---|---|---|---|---|---|---|---|---|---|---|\n",
       "| 3 | 22.8 | 4 | 108.0 |  93 | 3.85 | 2.320 | 18.61 | 1 | 1 | 4 | 1 | Datsun 710        |\n",
       "| 5 | 18.7 | 8 | 360.0 | 175 | 3.15 | 3.440 | 17.02 | 0 | 0 | 3 | 2 | Hornet Sportabout |\n",
       "| 7 | 14.3 | 8 | 360.0 | 245 | 3.21 | 3.570 | 15.84 | 0 | 0 | 3 | 4 | Duster 360        |\n",
       "| 12 | 16.4 | 8 | 275.8 | 180 | 3.07 | 4.070 | 17.40 | 0 | 0 | 3 | 3 | Merc 450SE        |\n",
       "| 13 | 17.3 | 8 | 275.8 | 180 | 3.07 | 3.730 | 17.60 | 0 | 0 | 3 | 3 | Merc 450SL        |\n",
       "| 14 | 15.2 | 8 | 275.8 | 180 | 3.07 | 3.780 | 18.00 | 0 | 0 | 3 | 3 | Merc 450SLC       |\n",
       "| 17 | 14.7 | 8 | 440.0 | 230 | 3.23 | 5.345 | 17.42 | 0 | 0 | 3 | 4 | Chrysler Imperial |\n",
       "| 27 | 26.0 | 4 | 120.3 |  91 | 4.43 | 2.140 | 16.70 | 0 | 1 | 5 | 2 | Porsche 914-2     |\n",
       "| 28 | 30.4 | 4 |  95.1 | 113 | 3.77 | 1.513 | 16.90 | 1 | 1 | 5 | 2 | Lotus Europa      |\n",
       "| 31 | 15.0 | 8 | 301.0 | 335 | 3.54 | 3.570 | 14.60 | 0 | 1 | 5 | 8 | Maserati Bora     |\n",
       "\n"
      ],
      "text/plain": [
       "   mpg  cyl disp  hp  drat wt    qsec  vs am gear carb model            \n",
       "3  22.8 4   108.0  93 3.85 2.320 18.61 1  1  4    1    Datsun 710       \n",
       "5  18.7 8   360.0 175 3.15 3.440 17.02 0  0  3    2    Hornet Sportabout\n",
       "7  14.3 8   360.0 245 3.21 3.570 15.84 0  0  3    4    Duster 360       \n",
       "12 16.4 8   275.8 180 3.07 4.070 17.40 0  0  3    3    Merc 450SE       \n",
       "13 17.3 8   275.8 180 3.07 3.730 17.60 0  0  3    3    Merc 450SL       \n",
       "14 15.2 8   275.8 180 3.07 3.780 18.00 0  0  3    3    Merc 450SLC      \n",
       "17 14.7 8   440.0 230 3.23 5.345 17.42 0  0  3    4    Chrysler Imperial\n",
       "27 26.0 4   120.3  91 4.43 2.140 16.70 0  1  5    2    Porsche 914-2    \n",
       "28 30.4 4    95.1 113 3.77 1.513 16.90 1  1  5    2    Lotus Europa     \n",
       "31 15.0 8   301.0 335 3.54 3.570 14.60 0  1  5    8    Maserati Bora    "
      ]
     },
     "metadata": {},
     "output_type": "display_data"
    }
   ],
   "source": [
    "# 8번\n",
    "subset(mtcars, grepl(\"[Ss]\", model))\n"
   ]
  },
  {
   "cell_type": "code",
   "execution_count": 10,
   "metadata": {
    "vscode": {
     "languageId": "r"
    }
   },
   "outputs": [
    {
     "data": {
      "text/html": [
       "<table class=\"dataframe\">\n",
       "<caption>A data.frame: 9 × 12</caption>\n",
       "<thead>\n",
       "\t<tr><th></th><th scope=col>mpg</th><th scope=col>cyl</th><th scope=col>disp</th><th scope=col>hp</th><th scope=col>drat</th><th scope=col>wt</th><th scope=col>qsec</th><th scope=col>vs</th><th scope=col>am</th><th scope=col>gear</th><th scope=col>carb</th><th scope=col>model</th></tr>\n",
       "\t<tr><th></th><th scope=col>&lt;dbl&gt;</th><th scope=col>&lt;dbl&gt;</th><th scope=col>&lt;dbl&gt;</th><th scope=col>&lt;dbl&gt;</th><th scope=col>&lt;dbl&gt;</th><th scope=col>&lt;dbl&gt;</th><th scope=col>&lt;dbl&gt;</th><th scope=col>&lt;dbl&gt;</th><th scope=col>&lt;dbl&gt;</th><th scope=col>&lt;dbl&gt;</th><th scope=col>&lt;dbl&gt;</th><th scope=col>&lt;chr&gt;</th></tr>\n",
       "</thead>\n",
       "<tbody>\n",
       "\t<tr><th scope=row>1</th><td>21.0</td><td>6</td><td>160.0</td><td>110</td><td>3.90</td><td>2.620</td><td>16.46</td><td>0</td><td>1</td><td>4</td><td>4</td><td>Mazda RX4    </td></tr>\n",
       "\t<tr><th scope=row>3</th><td>22.8</td><td>4</td><td>108.0</td><td> 93</td><td>3.85</td><td>2.320</td><td>18.61</td><td>1</td><td>1</td><td>4</td><td>1</td><td>Datsun 710   </td></tr>\n",
       "\t<tr><th scope=row>7</th><td>14.3</td><td>8</td><td>360.0</td><td>245</td><td>3.21</td><td>3.570</td><td>15.84</td><td>0</td><td>0</td><td>3</td><td>4</td><td>Duster 360   </td></tr>\n",
       "\t<tr><th scope=row>9</th><td>22.8</td><td>4</td><td>140.8</td><td> 95</td><td>3.92</td><td>3.150</td><td>22.90</td><td>1</td><td>0</td><td>4</td><td>2</td><td>Merc 230     </td></tr>\n",
       "\t<tr><th scope=row>10</th><td>19.2</td><td>6</td><td>167.6</td><td>123</td><td>3.92</td><td>3.440</td><td>18.30</td><td>1</td><td>0</td><td>4</td><td>4</td><td>Merc 280     </td></tr>\n",
       "\t<tr><th scope=row>18</th><td>32.4</td><td>4</td><td> 78.7</td><td> 66</td><td>4.08</td><td>2.200</td><td>19.47</td><td>1</td><td>1</td><td>4</td><td>1</td><td>Fiat 128     </td></tr>\n",
       "\t<tr><th scope=row>24</th><td>13.3</td><td>8</td><td>350.0</td><td>245</td><td>3.73</td><td>3.840</td><td>15.41</td><td>0</td><td>0</td><td>3</td><td>4</td><td>Camaro Z28   </td></tr>\n",
       "\t<tr><th scope=row>26</th><td>27.3</td><td>4</td><td> 79.0</td><td> 66</td><td>4.08</td><td>1.935</td><td>18.90</td><td>1</td><td>1</td><td>4</td><td>1</td><td>Fiat X1-9    </td></tr>\n",
       "\t<tr><th scope=row>27</th><td>26.0</td><td>4</td><td>120.3</td><td> 91</td><td>4.43</td><td>2.140</td><td>16.70</td><td>0</td><td>1</td><td>5</td><td>2</td><td>Porsche 914-2</td></tr>\n",
       "</tbody>\n",
       "</table>\n"
      ],
      "text/latex": [
       "A data.frame: 9 × 12\n",
       "\\begin{tabular}{r|llllllllllll}\n",
       "  & mpg & cyl & disp & hp & drat & wt & qsec & vs & am & gear & carb & model\\\\\n",
       "  & <dbl> & <dbl> & <dbl> & <dbl> & <dbl> & <dbl> & <dbl> & <dbl> & <dbl> & <dbl> & <dbl> & <chr>\\\\\n",
       "\\hline\n",
       "\t1 & 21.0 & 6 & 160.0 & 110 & 3.90 & 2.620 & 16.46 & 0 & 1 & 4 & 4 & Mazda RX4    \\\\\n",
       "\t3 & 22.8 & 4 & 108.0 &  93 & 3.85 & 2.320 & 18.61 & 1 & 1 & 4 & 1 & Datsun 710   \\\\\n",
       "\t7 & 14.3 & 8 & 360.0 & 245 & 3.21 & 3.570 & 15.84 & 0 & 0 & 3 & 4 & Duster 360   \\\\\n",
       "\t9 & 22.8 & 4 & 140.8 &  95 & 3.92 & 3.150 & 22.90 & 1 & 0 & 4 & 2 & Merc 230     \\\\\n",
       "\t10 & 19.2 & 6 & 167.6 & 123 & 3.92 & 3.440 & 18.30 & 1 & 0 & 4 & 4 & Merc 280     \\\\\n",
       "\t18 & 32.4 & 4 &  78.7 &  66 & 4.08 & 2.200 & 19.47 & 1 & 1 & 4 & 1 & Fiat 128     \\\\\n",
       "\t24 & 13.3 & 8 & 350.0 & 245 & 3.73 & 3.840 & 15.41 & 0 & 0 & 3 & 4 & Camaro Z28   \\\\\n",
       "\t26 & 27.3 & 4 &  79.0 &  66 & 4.08 & 1.935 & 18.90 & 1 & 1 & 4 & 1 & Fiat X1-9    \\\\\n",
       "\t27 & 26.0 & 4 & 120.3 &  91 & 4.43 & 2.140 & 16.70 & 0 & 1 & 5 & 2 & Porsche 914-2\\\\\n",
       "\\end{tabular}\n"
      ],
      "text/markdown": [
       "\n",
       "A data.frame: 9 × 12\n",
       "\n",
       "| <!--/--> | mpg &lt;dbl&gt; | cyl &lt;dbl&gt; | disp &lt;dbl&gt; | hp &lt;dbl&gt; | drat &lt;dbl&gt; | wt &lt;dbl&gt; | qsec &lt;dbl&gt; | vs &lt;dbl&gt; | am &lt;dbl&gt; | gear &lt;dbl&gt; | carb &lt;dbl&gt; | model &lt;chr&gt; |\n",
       "|---|---|---|---|---|---|---|---|---|---|---|---|---|\n",
       "| 1 | 21.0 | 6 | 160.0 | 110 | 3.90 | 2.620 | 16.46 | 0 | 1 | 4 | 4 | Mazda RX4     |\n",
       "| 3 | 22.8 | 4 | 108.0 |  93 | 3.85 | 2.320 | 18.61 | 1 | 1 | 4 | 1 | Datsun 710    |\n",
       "| 7 | 14.3 | 8 | 360.0 | 245 | 3.21 | 3.570 | 15.84 | 0 | 0 | 3 | 4 | Duster 360    |\n",
       "| 9 | 22.8 | 4 | 140.8 |  95 | 3.92 | 3.150 | 22.90 | 1 | 0 | 4 | 2 | Merc 230      |\n",
       "| 10 | 19.2 | 6 | 167.6 | 123 | 3.92 | 3.440 | 18.30 | 1 | 0 | 4 | 4 | Merc 280      |\n",
       "| 18 | 32.4 | 4 |  78.7 |  66 | 4.08 | 2.200 | 19.47 | 1 | 1 | 4 | 1 | Fiat 128      |\n",
       "| 24 | 13.3 | 8 | 350.0 | 245 | 3.73 | 3.840 | 15.41 | 0 | 0 | 3 | 4 | Camaro Z28    |\n",
       "| 26 | 27.3 | 4 |  79.0 |  66 | 4.08 | 1.935 | 18.90 | 1 | 1 | 4 | 1 | Fiat X1-9     |\n",
       "| 27 | 26.0 | 4 | 120.3 |  91 | 4.43 | 2.140 | 16.70 | 0 | 1 | 5 | 2 | Porsche 914-2 |\n",
       "\n"
      ],
      "text/plain": [
       "   mpg  cyl disp  hp  drat wt    qsec  vs am gear carb model        \n",
       "1  21.0 6   160.0 110 3.90 2.620 16.46 0  1  4    4    Mazda RX4    \n",
       "3  22.8 4   108.0  93 3.85 2.320 18.61 1  1  4    1    Datsun 710   \n",
       "7  14.3 8   360.0 245 3.21 3.570 15.84 0  0  3    4    Duster 360   \n",
       "9  22.8 4   140.8  95 3.92 3.150 22.90 1  0  4    2    Merc 230     \n",
       "10 19.2 6   167.6 123 3.92 3.440 18.30 1  0  4    4    Merc 280     \n",
       "18 32.4 4    78.7  66 4.08 2.200 19.47 1  1  4    1    Fiat 128     \n",
       "24 13.3 8   350.0 245 3.73 3.840 15.41 0  0  3    4    Camaro Z28   \n",
       "26 27.3 4    79.0  66 4.08 1.935 18.90 1  1  4    1    Fiat X1-9    \n",
       "27 26.0 4   120.3  91 4.43 2.140 16.70 0  1  5    2    Porsche 914-2"
      ]
     },
     "metadata": {},
     "output_type": "display_data"
    }
   ],
   "source": [
    "# 9번\n",
    "last_n <- mtcars[grep(\"[0-9]$\", mtcars$model), ]\n",
    "last_n"
   ]
  },
  {
   "cell_type": "code",
   "execution_count": 11,
   "metadata": {
    "vscode": {
     "languageId": "r"
    }
   },
   "outputs": [
    {
     "data": {
      "text/html": [
       "<table class=\"dataframe\">\n",
       "<caption>A data.frame: 3 × 12</caption>\n",
       "<thead>\n",
       "\t<tr><th></th><th scope=col>mpg</th><th scope=col>cyl</th><th scope=col>disp</th><th scope=col>hp</th><th scope=col>drat</th><th scope=col>wt</th><th scope=col>qsec</th><th scope=col>vs</th><th scope=col>am</th><th scope=col>gear</th><th scope=col>carb</th><th scope=col>model</th></tr>\n",
       "\t<tr><th></th><th scope=col>&lt;dbl&gt;</th><th scope=col>&lt;dbl&gt;</th><th scope=col>&lt;dbl&gt;</th><th scope=col>&lt;dbl&gt;</th><th scope=col>&lt;dbl&gt;</th><th scope=col>&lt;dbl&gt;</th><th scope=col>&lt;dbl&gt;</th><th scope=col>&lt;dbl&gt;</th><th scope=col>&lt;dbl&gt;</th><th scope=col>&lt;dbl&gt;</th><th scope=col>&lt;dbl&gt;</th><th scope=col>&lt;chr&gt;</th></tr>\n",
       "</thead>\n",
       "<tbody>\n",
       "\t<tr><th scope=row>3</th><td>22.8</td><td>4</td><td>108</td><td> 93</td><td>3.85</td><td>2.32</td><td>18.61</td><td>1</td><td>1</td><td>4</td><td>1</td><td>Datsun 710</td></tr>\n",
       "\t<tr><th scope=row>7</th><td>14.3</td><td>8</td><td>360</td><td>245</td><td>3.21</td><td>3.57</td><td>15.84</td><td>0</td><td>0</td><td>3</td><td>4</td><td>Duster 360</td></tr>\n",
       "\t<tr><th scope=row>24</th><td>13.3</td><td>8</td><td>350</td><td>245</td><td>3.73</td><td>3.84</td><td>15.41</td><td>0</td><td>0</td><td>3</td><td>4</td><td>Camaro Z28</td></tr>\n",
       "</tbody>\n",
       "</table>\n"
      ],
      "text/latex": [
       "A data.frame: 3 × 12\n",
       "\\begin{tabular}{r|llllllllllll}\n",
       "  & mpg & cyl & disp & hp & drat & wt & qsec & vs & am & gear & carb & model\\\\\n",
       "  & <dbl> & <dbl> & <dbl> & <dbl> & <dbl> & <dbl> & <dbl> & <dbl> & <dbl> & <dbl> & <dbl> & <chr>\\\\\n",
       "\\hline\n",
       "\t3 & 22.8 & 4 & 108 &  93 & 3.85 & 2.32 & 18.61 & 1 & 1 & 4 & 1 & Datsun 710\\\\\n",
       "\t7 & 14.3 & 8 & 360 & 245 & 3.21 & 3.57 & 15.84 & 0 & 0 & 3 & 4 & Duster 360\\\\\n",
       "\t24 & 13.3 & 8 & 350 & 245 & 3.73 & 3.84 & 15.41 & 0 & 0 & 3 & 4 & Camaro Z28\\\\\n",
       "\\end{tabular}\n"
      ],
      "text/markdown": [
       "\n",
       "A data.frame: 3 × 12\n",
       "\n",
       "| <!--/--> | mpg &lt;dbl&gt; | cyl &lt;dbl&gt; | disp &lt;dbl&gt; | hp &lt;dbl&gt; | drat &lt;dbl&gt; | wt &lt;dbl&gt; | qsec &lt;dbl&gt; | vs &lt;dbl&gt; | am &lt;dbl&gt; | gear &lt;dbl&gt; | carb &lt;dbl&gt; | model &lt;chr&gt; |\n",
       "|---|---|---|---|---|---|---|---|---|---|---|---|---|\n",
       "| 3 | 22.8 | 4 | 108 |  93 | 3.85 | 2.32 | 18.61 | 1 | 1 | 4 | 1 | Datsun 710 |\n",
       "| 7 | 14.3 | 8 | 360 | 245 | 3.21 | 3.57 | 15.84 | 0 | 0 | 3 | 4 | Duster 360 |\n",
       "| 24 | 13.3 | 8 | 350 | 245 | 3.73 | 3.84 | 15.41 | 0 | 0 | 3 | 4 | Camaro Z28 |\n",
       "\n"
      ],
      "text/plain": [
       "   mpg  cyl disp hp  drat wt   qsec  vs am gear carb model     \n",
       "3  22.8 4   108   93 3.85 2.32 18.61 1  1  4    1    Datsun 710\n",
       "7  14.3 8   360  245 3.21 3.57 15.84 0  0  3    4    Duster 360\n",
       "24 13.3 8   350  245 3.73 3.84 15.41 0  0  3    4    Camaro Z28"
      ]
     },
     "metadata": {},
     "output_type": "display_data"
    }
   ],
   "source": [
    "# 10번\n",
    "H <- mtcars[grep(\"^[ABCDE].*[0-9]$\", mtcars$model), ]\n",
    "H"
   ]
  },
  {
   "cell_type": "code",
   "execution_count": 12,
   "metadata": {
    "vscode": {
     "languageId": "r"
    }
   },
   "outputs": [
    {
     "data": {
      "text/html": [
       "'/home/students/cs/202020827/public_html/Code'"
      ],
      "text/latex": [
       "'/home/students/cs/202020827/public\\_html/Code'"
      ],
      "text/markdown": [
       "'/home/students/cs/202020827/public_html/Code'"
      ],
      "text/plain": [
       "[1] \"/home/students/cs/202020827/public_html/Code\""
      ]
     },
     "metadata": {},
     "output_type": "display_data"
    }
   ],
   "source": [
    "# 11번\n",
    "getwd()"
   ]
  },
  {
   "cell_type": "code",
   "execution_count": 13,
   "metadata": {
    "vscode": {
     "languageId": "r"
    }
   },
   "outputs": [
    {
     "data": {
      "text/html": [
       "<style>\n",
       ".list-inline {list-style: none; margin:0; padding: 0}\n",
       ".list-inline>li {display: inline-block}\n",
       ".list-inline>li:not(:last-child)::after {content: \"\\00b7\"; padding: 0 .5ex}\n",
       "</style>\n",
       "<ol class=list-inline><li>'../mydata/2015년 미세먼지.xlsx'</li><li>'../mydata/2021년_대기오염도.xlsx'</li><li>'../mydata/sample.xlsx'</li><li>'../mydata/기업데이터-merge.xlsx'</li><li>'../mydata/일별평균대기오염도_2023.xlsx'</li></ol>\n"
      ],
      "text/latex": [
       "\\begin{enumerate*}\n",
       "\\item '../mydata/2015년 미세먼지.xlsx'\n",
       "\\item '../mydata/2021년\\_대기오염도.xlsx'\n",
       "\\item '../mydata/sample.xlsx'\n",
       "\\item '../mydata/기업데이터-merge.xlsx'\n",
       "\\item '../mydata/일별평균대기오염도\\_2023.xlsx'\n",
       "\\end{enumerate*}\n"
      ],
      "text/markdown": [
       "1. '../mydata/2015년 미세먼지.xlsx'\n",
       "2. '../mydata/2021년_대기오염도.xlsx'\n",
       "3. '../mydata/sample.xlsx'\n",
       "4. '../mydata/기업데이터-merge.xlsx'\n",
       "5. '../mydata/일별평균대기오염도_2023.xlsx'\n",
       "\n",
       "\n"
      ],
      "text/plain": [
       "[1] \"../mydata/2015년 미세먼지.xlsx\"        \n",
       "[2] \"../mydata/2021년_대기오염도.xlsx\"      \n",
       "[3] \"../mydata/sample.xlsx\"                 \n",
       "[4] \"../mydata/기업데이터-merge.xlsx\"       \n",
       "[5] \"../mydata/일별평균대기오염도_2023.xlsx\""
      ]
     },
     "metadata": {},
     "output_type": "display_data"
    }
   ],
   "source": [
    "# 12번\n",
    "file <- list.files(path = \"../mydata\", pattern = \"\\\\.xlsx$\", full.names = TRUE)\n",
    "file"
   ]
  },
  {
   "cell_type": "code",
   "execution_count": 14,
   "metadata": {
    "vscode": {
     "languageId": "r"
    }
   },
   "outputs": [
    {
     "data": {
      "text/html": [
       "<table class=\"dataframe\">\n",
       "<caption>A tibble: 804074 × 11</caption>\n",
       "<thead>\n",
       "\t<tr><th scope=col>prov</th><th scope=col>city</th><th scope=col>point</th><th scope=col>code</th><th scope=col>datatime</th><th scope=col>SC2</th><th scope=col>PM10</th><th scope=col>O3</th><th scope=col>NO2</th><th scope=col>CO</th><th scope=col>PM25</th></tr>\n",
       "\t<tr><th scope=col>&lt;chr&gt;</th><th scope=col>&lt;chr&gt;</th><th scope=col>&lt;chr&gt;</th><th scope=col>&lt;dbl&gt;</th><th scope=col>&lt;dttm&gt;</th><th scope=col>&lt;dbl&gt;</th><th scope=col>&lt;dbl&gt;</th><th scope=col>&lt;dbl&gt;</th><th scope=col>&lt;dbl&gt;</th><th scope=col>&lt;dbl&gt;</th><th scope=col>&lt;dbl&gt;</th></tr>\n",
       "</thead>\n",
       "<tbody>\n",
       "\t<tr><td>강원</td><td>강릉시</td><td>옥천동</td><td>632132</td><td>2021-01-01 01:00:00</td><td>0.003</td><td>21</td><td>0.031</td><td>0.011</td><td>0.3</td><td>-999</td></tr>\n",
       "\t<tr><td>강원</td><td>강릉시</td><td>옥천동</td><td>632132</td><td>2021-01-01 02:00:00</td><td>0.003</td><td>16</td><td>0.028</td><td>0.014</td><td>0.4</td><td>-999</td></tr>\n",
       "\t<tr><td>강원</td><td>강릉시</td><td>옥천동</td><td>632132</td><td>2021-01-01 03:00:00</td><td>0.003</td><td>19</td><td>0.029</td><td>0.012</td><td>0.3</td><td>-999</td></tr>\n",
       "\t<tr><td>강원</td><td>강릉시</td><td>옥천동</td><td>632132</td><td>2021-01-01 04:00:00</td><td>0.003</td><td>19</td><td>0.031</td><td>0.011</td><td>0.3</td><td>-999</td></tr>\n",
       "\t<tr><td>강원</td><td>강릉시</td><td>옥천동</td><td>632132</td><td>2021-01-01 05:00:00</td><td>0.003</td><td>18</td><td>0.028</td><td>0.015</td><td>0.3</td><td>-999</td></tr>\n",
       "\t<tr><td>강원</td><td>강릉시</td><td>옥천동</td><td>632132</td><td>2021-01-01 06:00:00</td><td>0.003</td><td>16</td><td>0.027</td><td>0.018</td><td>0.3</td><td>-999</td></tr>\n",
       "\t<tr><td>강원</td><td>강릉시</td><td>옥천동</td><td>632132</td><td>2021-01-01 07:00:00</td><td>0.005</td><td>14</td><td>0.015</td><td>0.031</td><td>0.4</td><td>-999</td></tr>\n",
       "\t<tr><td>강원</td><td>강릉시</td><td>옥천동</td><td>632132</td><td>2021-01-01 08:00:00</td><td>0.004</td><td>14</td><td>0.018</td><td>0.028</td><td>0.4</td><td>-999</td></tr>\n",
       "\t<tr><td>강원</td><td>강릉시</td><td>옥천동</td><td>632132</td><td>2021-01-01 09:00:00</td><td>0.003</td><td>17</td><td>0.032</td><td>0.014</td><td>0.3</td><td>-999</td></tr>\n",
       "\t<tr><td>강원</td><td>강릉시</td><td>옥천동</td><td>632132</td><td>2021-01-01 10:00:00</td><td>0.003</td><td>13</td><td>0.034</td><td>0.010</td><td>0.3</td><td>-999</td></tr>\n",
       "\t<tr><td>강원</td><td>강릉시</td><td>옥천동</td><td>632132</td><td>2021-01-01 11:00:00</td><td>0.003</td><td>19</td><td>0.035</td><td>0.009</td><td>0.2</td><td>-999</td></tr>\n",
       "\t<tr><td>강원</td><td>강릉시</td><td>옥천동</td><td>632132</td><td>2021-01-01 12:00:00</td><td>0.003</td><td>14</td><td>0.036</td><td>0.009</td><td>0.2</td><td>-999</td></tr>\n",
       "\t<tr><td>강원</td><td>강릉시</td><td>옥천동</td><td>632132</td><td>2021-01-01 13:00:00</td><td>0.003</td><td>15</td><td>0.037</td><td>0.009</td><td>0.2</td><td>-999</td></tr>\n",
       "\t<tr><td>강원</td><td>강릉시</td><td>옥천동</td><td>632132</td><td>2021-01-01 14:00:00</td><td>0.002</td><td>14</td><td>0.039</td><td>0.008</td><td>0.2</td><td>-999</td></tr>\n",
       "\t<tr><td>강원</td><td>강릉시</td><td>옥천동</td><td>632132</td><td>2021-01-01 15:00:00</td><td>0.003</td><td>12</td><td>0.039</td><td>0.007</td><td>0.1</td><td>-999</td></tr>\n",
       "\t<tr><td>강원</td><td>강릉시</td><td>옥천동</td><td>632132</td><td>2021-01-01 16:00:00</td><td>0.003</td><td>14</td><td>0.038</td><td>0.009</td><td>0.1</td><td>-999</td></tr>\n",
       "\t<tr><td>강원</td><td>강릉시</td><td>옥천동</td><td>632132</td><td>2021-01-01 17:00:00</td><td>0.003</td><td>17</td><td>0.035</td><td>0.011</td><td>0.1</td><td>-999</td></tr>\n",
       "\t<tr><td>강원</td><td>강릉시</td><td>옥천동</td><td>632132</td><td>2021-01-01 18:00:00</td><td>0.003</td><td>19</td><td>0.031</td><td>0.016</td><td>0.2</td><td>-999</td></tr>\n",
       "\t<tr><td>강원</td><td>강릉시</td><td>옥천동</td><td>632132</td><td>2021-01-01 19:00:00</td><td>0.003</td><td>20</td><td>0.030</td><td>0.016</td><td>0.3</td><td>-999</td></tr>\n",
       "\t<tr><td>강원</td><td>강릉시</td><td>옥천동</td><td>632132</td><td>2021-01-01 20:00:00</td><td>0.003</td><td>21</td><td>0.027</td><td>0.018</td><td>0.4</td><td>-999</td></tr>\n",
       "\t<tr><td>강원</td><td>강릉시</td><td>옥천동</td><td>632132</td><td>2021-01-01 21:00:00</td><td>0.003</td><td>23</td><td>0.026</td><td>0.019</td><td>0.4</td><td>-999</td></tr>\n",
       "\t<tr><td>강원</td><td>강릉시</td><td>옥천동</td><td>632132</td><td>2021-01-01 22:00:00</td><td>0.003</td><td>27</td><td>0.024</td><td>0.021</td><td>0.5</td><td>-999</td></tr>\n",
       "\t<tr><td>강원</td><td>강릉시</td><td>옥천동</td><td>632132</td><td>2021-01-01 23:00:00</td><td>0.003</td><td>32</td><td>0.017</td><td>0.027</td><td>0.5</td><td>-999</td></tr>\n",
       "\t<tr><td>강원</td><td>강릉시</td><td>옥천동</td><td>632132</td><td>2021-01-02 00:00:00</td><td>0.004</td><td>32</td><td>0.012</td><td>0.034</td><td>0.7</td><td>-999</td></tr>\n",
       "\t<tr><td>강원</td><td>강릉시</td><td>옥천동</td><td>632132</td><td>2021-01-02 01:00:00</td><td>0.004</td><td>39</td><td>0.013</td><td>0.032</td><td>0.7</td><td>-999</td></tr>\n",
       "\t<tr><td>강원</td><td>강릉시</td><td>옥천동</td><td>632132</td><td>2021-01-02 02:00:00</td><td>0.004</td><td>38</td><td>0.018</td><td>0.025</td><td>0.6</td><td>-999</td></tr>\n",
       "\t<tr><td>강원</td><td>강릉시</td><td>옥천동</td><td>632132</td><td>2021-01-02 03:00:00</td><td>0.005</td><td>37</td><td>0.011</td><td>0.035</td><td>0.8</td><td>-999</td></tr>\n",
       "\t<tr><td>강원</td><td>강릉시</td><td>옥천동</td><td>632132</td><td>2021-01-02 04:00:00</td><td>0.004</td><td>39</td><td>0.032</td><td>0.011</td><td>0.4</td><td>-999</td></tr>\n",
       "\t<tr><td>강원</td><td>강릉시</td><td>옥천동</td><td>632132</td><td>2021-01-02 05:00:00</td><td>0.004</td><td>38</td><td>0.030</td><td>0.013</td><td>0.3</td><td>-999</td></tr>\n",
       "\t<tr><td>강원</td><td>강릉시</td><td>옥천동</td><td>632132</td><td>2021-01-02 06:00:00</td><td>0.004</td><td>38</td><td>0.022</td><td>0.024</td><td>0.5</td><td>-999</td></tr>\n",
       "\t<tr><td>⋮</td><td>⋮</td><td>⋮</td><td>⋮</td><td>⋮</td><td>⋮</td><td>⋮</td><td>⋮</td><td>⋮</td><td>⋮</td><td>⋮</td></tr>\n",
       "\t<tr><td>충북</td><td>충주시</td><td>살미면</td><td>633125</td><td>2021-02-27 19:00:00</td><td>0.002</td><td>16</td><td>0.042</td><td>0.007</td><td>0.7</td><td> 7</td></tr>\n",
       "\t<tr><td>충북</td><td>충주시</td><td>살미면</td><td>633125</td><td>2021-02-27 20:00:00</td><td>0.002</td><td>19</td><td>0.035</td><td>0.009</td><td>0.7</td><td> 9</td></tr>\n",
       "\t<tr><td>충북</td><td>충주시</td><td>살미면</td><td>633125</td><td>2021-02-27 21:00:00</td><td>0.002</td><td>22</td><td>0.033</td><td>0.007</td><td>0.7</td><td>14</td></tr>\n",
       "\t<tr><td>충북</td><td>충주시</td><td>살미면</td><td>633125</td><td>2021-02-27 22:00:00</td><td>0.002</td><td>20</td><td>0.029</td><td>0.008</td><td>0.7</td><td>12</td></tr>\n",
       "\t<tr><td>충북</td><td>충주시</td><td>살미면</td><td>633125</td><td>2021-02-27 23:00:00</td><td>0.002</td><td>20</td><td>0.024</td><td>0.009</td><td>0.7</td><td>11</td></tr>\n",
       "\t<tr><td>충북</td><td>충주시</td><td>살미면</td><td>633125</td><td>2021-02-28 00:00:00</td><td>0.002</td><td>18</td><td>0.024</td><td>0.008</td><td>0.7</td><td> 8</td></tr>\n",
       "\t<tr><td>충북</td><td>충주시</td><td>살미면</td><td>633125</td><td>2021-02-28 01:00:00</td><td>0.002</td><td>23</td><td>0.021</td><td>0.008</td><td>0.7</td><td>17</td></tr>\n",
       "\t<tr><td>충북</td><td>충주시</td><td>살미면</td><td>633125</td><td>2021-02-28 02:00:00</td><td>0.002</td><td>28</td><td>0.023</td><td>0.007</td><td>0.7</td><td>19</td></tr>\n",
       "\t<tr><td>충북</td><td>충주시</td><td>살미면</td><td>633125</td><td>2021-02-28 03:00:00</td><td>0.002</td><td>22</td><td>0.021</td><td>0.007</td><td>0.7</td><td>14</td></tr>\n",
       "\t<tr><td>충북</td><td>충주시</td><td>살미면</td><td>633125</td><td>2021-02-28 04:00:00</td><td>0.002</td><td>17</td><td>0.021</td><td>0.007</td><td>0.7</td><td>11</td></tr>\n",
       "\t<tr><td>충북</td><td>충주시</td><td>살미면</td><td>633125</td><td>2021-02-28 05:00:00</td><td>0.002</td><td>15</td><td>0.019</td><td>0.007</td><td>0.7</td><td> 8</td></tr>\n",
       "\t<tr><td>충북</td><td>충주시</td><td>살미면</td><td>633125</td><td>2021-02-28 06:00:00</td><td>0.002</td><td>15</td><td>0.018</td><td>0.007</td><td>0.7</td><td>10</td></tr>\n",
       "\t<tr><td>충북</td><td>충주시</td><td>살미면</td><td>633125</td><td>2021-02-28 07:00:00</td><td>0.002</td><td>18</td><td>0.015</td><td>0.008</td><td>0.7</td><td>11</td></tr>\n",
       "\t<tr><td>충북</td><td>충주시</td><td>살미면</td><td>633125</td><td>2021-02-28 08:00:00</td><td>0.002</td><td>15</td><td>0.013</td><td>0.012</td><td>0.8</td><td> 9</td></tr>\n",
       "\t<tr><td>충북</td><td>충주시</td><td>살미면</td><td>633125</td><td>2021-02-28 09:00:00</td><td>0.002</td><td>20</td><td>0.014</td><td>0.015</td><td>0.9</td><td>15</td></tr>\n",
       "\t<tr><td>충북</td><td>충주시</td><td>살미면</td><td>633125</td><td>2021-02-28 10:00:00</td><td>0.003</td><td>34</td><td>0.020</td><td>0.023</td><td>0.9</td><td>29</td></tr>\n",
       "\t<tr><td>충북</td><td>충주시</td><td>살미면</td><td>633125</td><td>2021-02-28 11:00:00</td><td>0.003</td><td>38</td><td>0.032</td><td>0.016</td><td>0.8</td><td>28</td></tr>\n",
       "\t<tr><td>충북</td><td>충주시</td><td>살미면</td><td>633125</td><td>2021-02-28 12:00:00</td><td>0.002</td><td>28</td><td>0.041</td><td>0.010</td><td>0.7</td><td>17</td></tr>\n",
       "\t<tr><td>충북</td><td>충주시</td><td>살미면</td><td>633125</td><td>2021-02-28 13:00:00</td><td>0.002</td><td>20</td><td>0.045</td><td>0.007</td><td>0.7</td><td>13</td></tr>\n",
       "\t<tr><td>충북</td><td>충주시</td><td>살미면</td><td>633125</td><td>2021-02-28 14:00:00</td><td>0.002</td><td>14</td><td>0.045</td><td>0.006</td><td>0.7</td><td> 8</td></tr>\n",
       "\t<tr><td>충북</td><td>충주시</td><td>살미면</td><td>633125</td><td>2021-02-28 15:00:00</td><td>0.002</td><td>12</td><td>0.044</td><td>0.008</td><td>0.7</td><td> 6</td></tr>\n",
       "\t<tr><td>충북</td><td>충주시</td><td>살미면</td><td>633125</td><td>2021-02-28 16:00:00</td><td>0.002</td><td>17</td><td>0.044</td><td>0.009</td><td>0.7</td><td> 7</td></tr>\n",
       "\t<tr><td>충북</td><td>충주시</td><td>살미면</td><td>633125</td><td>2021-02-28 17:00:00</td><td>0.002</td><td>20</td><td>0.045</td><td>0.008</td><td>0.5</td><td> 6</td></tr>\n",
       "\t<tr><td>충북</td><td>충주시</td><td>살미면</td><td>633125</td><td>2021-02-28 18:00:00</td><td>0.002</td><td>18</td><td>0.042</td><td>0.008</td><td>0.8</td><td> 9</td></tr>\n",
       "\t<tr><td>충북</td><td>충주시</td><td>살미면</td><td>633125</td><td>2021-02-28 19:00:00</td><td>0.003</td><td>19</td><td>0.036</td><td>0.012</td><td>0.6</td><td> 8</td></tr>\n",
       "\t<tr><td>충북</td><td>충주시</td><td>살미면</td><td>633125</td><td>2021-02-28 20:00:00</td><td>0.003</td><td>28</td><td>0.019</td><td>0.021</td><td>0.6</td><td>15</td></tr>\n",
       "\t<tr><td>충북</td><td>충주시</td><td>살미면</td><td>633125</td><td>2021-02-28 21:00:00</td><td>0.003</td><td>37</td><td>0.012</td><td>0.024</td><td>0.7</td><td>21</td></tr>\n",
       "\t<tr><td>충북</td><td>충주시</td><td>살미면</td><td>633125</td><td>2021-02-28 22:00:00</td><td>0.003</td><td>37</td><td>0.018</td><td>0.017</td><td>0.7</td><td>25</td></tr>\n",
       "\t<tr><td>충북</td><td>충주시</td><td>살미면</td><td>633125</td><td>2021-02-28 23:00:00</td><td>0.003</td><td>39</td><td>0.017</td><td>0.014</td><td>0.7</td><td>23</td></tr>\n",
       "\t<tr><td>충북</td><td>충주시</td><td>살미면</td><td>633125</td><td>2022-01-01 00:00:00</td><td>0.002</td><td>25</td><td>0.017</td><td>0.008</td><td>0.5</td><td>15</td></tr>\n",
       "</tbody>\n",
       "</table>\n"
      ],
      "text/latex": [
       "A tibble: 804074 × 11\n",
       "\\begin{tabular}{lllllllllll}\n",
       " prov & city & point & code & datatime & SC2 & PM10 & O3 & NO2 & CO & PM25\\\\\n",
       " <chr> & <chr> & <chr> & <dbl> & <dttm> & <dbl> & <dbl> & <dbl> & <dbl> & <dbl> & <dbl>\\\\\n",
       "\\hline\n",
       "\t 강원 & 강릉시 & 옥천동 & 632132 & 2021-01-01 01:00:00 & 0.003 & 21 & 0.031 & 0.011 & 0.3 & -999\\\\\n",
       "\t 강원 & 강릉시 & 옥천동 & 632132 & 2021-01-01 02:00:00 & 0.003 & 16 & 0.028 & 0.014 & 0.4 & -999\\\\\n",
       "\t 강원 & 강릉시 & 옥천동 & 632132 & 2021-01-01 03:00:00 & 0.003 & 19 & 0.029 & 0.012 & 0.3 & -999\\\\\n",
       "\t 강원 & 강릉시 & 옥천동 & 632132 & 2021-01-01 04:00:00 & 0.003 & 19 & 0.031 & 0.011 & 0.3 & -999\\\\\n",
       "\t 강원 & 강릉시 & 옥천동 & 632132 & 2021-01-01 05:00:00 & 0.003 & 18 & 0.028 & 0.015 & 0.3 & -999\\\\\n",
       "\t 강원 & 강릉시 & 옥천동 & 632132 & 2021-01-01 06:00:00 & 0.003 & 16 & 0.027 & 0.018 & 0.3 & -999\\\\\n",
       "\t 강원 & 강릉시 & 옥천동 & 632132 & 2021-01-01 07:00:00 & 0.005 & 14 & 0.015 & 0.031 & 0.4 & -999\\\\\n",
       "\t 강원 & 강릉시 & 옥천동 & 632132 & 2021-01-01 08:00:00 & 0.004 & 14 & 0.018 & 0.028 & 0.4 & -999\\\\\n",
       "\t 강원 & 강릉시 & 옥천동 & 632132 & 2021-01-01 09:00:00 & 0.003 & 17 & 0.032 & 0.014 & 0.3 & -999\\\\\n",
       "\t 강원 & 강릉시 & 옥천동 & 632132 & 2021-01-01 10:00:00 & 0.003 & 13 & 0.034 & 0.010 & 0.3 & -999\\\\\n",
       "\t 강원 & 강릉시 & 옥천동 & 632132 & 2021-01-01 11:00:00 & 0.003 & 19 & 0.035 & 0.009 & 0.2 & -999\\\\\n",
       "\t 강원 & 강릉시 & 옥천동 & 632132 & 2021-01-01 12:00:00 & 0.003 & 14 & 0.036 & 0.009 & 0.2 & -999\\\\\n",
       "\t 강원 & 강릉시 & 옥천동 & 632132 & 2021-01-01 13:00:00 & 0.003 & 15 & 0.037 & 0.009 & 0.2 & -999\\\\\n",
       "\t 강원 & 강릉시 & 옥천동 & 632132 & 2021-01-01 14:00:00 & 0.002 & 14 & 0.039 & 0.008 & 0.2 & -999\\\\\n",
       "\t 강원 & 강릉시 & 옥천동 & 632132 & 2021-01-01 15:00:00 & 0.003 & 12 & 0.039 & 0.007 & 0.1 & -999\\\\\n",
       "\t 강원 & 강릉시 & 옥천동 & 632132 & 2021-01-01 16:00:00 & 0.003 & 14 & 0.038 & 0.009 & 0.1 & -999\\\\\n",
       "\t 강원 & 강릉시 & 옥천동 & 632132 & 2021-01-01 17:00:00 & 0.003 & 17 & 0.035 & 0.011 & 0.1 & -999\\\\\n",
       "\t 강원 & 강릉시 & 옥천동 & 632132 & 2021-01-01 18:00:00 & 0.003 & 19 & 0.031 & 0.016 & 0.2 & -999\\\\\n",
       "\t 강원 & 강릉시 & 옥천동 & 632132 & 2021-01-01 19:00:00 & 0.003 & 20 & 0.030 & 0.016 & 0.3 & -999\\\\\n",
       "\t 강원 & 강릉시 & 옥천동 & 632132 & 2021-01-01 20:00:00 & 0.003 & 21 & 0.027 & 0.018 & 0.4 & -999\\\\\n",
       "\t 강원 & 강릉시 & 옥천동 & 632132 & 2021-01-01 21:00:00 & 0.003 & 23 & 0.026 & 0.019 & 0.4 & -999\\\\\n",
       "\t 강원 & 강릉시 & 옥천동 & 632132 & 2021-01-01 22:00:00 & 0.003 & 27 & 0.024 & 0.021 & 0.5 & -999\\\\\n",
       "\t 강원 & 강릉시 & 옥천동 & 632132 & 2021-01-01 23:00:00 & 0.003 & 32 & 0.017 & 0.027 & 0.5 & -999\\\\\n",
       "\t 강원 & 강릉시 & 옥천동 & 632132 & 2021-01-02 00:00:00 & 0.004 & 32 & 0.012 & 0.034 & 0.7 & -999\\\\\n",
       "\t 강원 & 강릉시 & 옥천동 & 632132 & 2021-01-02 01:00:00 & 0.004 & 39 & 0.013 & 0.032 & 0.7 & -999\\\\\n",
       "\t 강원 & 강릉시 & 옥천동 & 632132 & 2021-01-02 02:00:00 & 0.004 & 38 & 0.018 & 0.025 & 0.6 & -999\\\\\n",
       "\t 강원 & 강릉시 & 옥천동 & 632132 & 2021-01-02 03:00:00 & 0.005 & 37 & 0.011 & 0.035 & 0.8 & -999\\\\\n",
       "\t 강원 & 강릉시 & 옥천동 & 632132 & 2021-01-02 04:00:00 & 0.004 & 39 & 0.032 & 0.011 & 0.4 & -999\\\\\n",
       "\t 강원 & 강릉시 & 옥천동 & 632132 & 2021-01-02 05:00:00 & 0.004 & 38 & 0.030 & 0.013 & 0.3 & -999\\\\\n",
       "\t 강원 & 강릉시 & 옥천동 & 632132 & 2021-01-02 06:00:00 & 0.004 & 38 & 0.022 & 0.024 & 0.5 & -999\\\\\n",
       "\t ⋮ & ⋮ & ⋮ & ⋮ & ⋮ & ⋮ & ⋮ & ⋮ & ⋮ & ⋮ & ⋮\\\\\n",
       "\t 충북 & 충주시 & 살미면 & 633125 & 2021-02-27 19:00:00 & 0.002 & 16 & 0.042 & 0.007 & 0.7 &  7\\\\\n",
       "\t 충북 & 충주시 & 살미면 & 633125 & 2021-02-27 20:00:00 & 0.002 & 19 & 0.035 & 0.009 & 0.7 &  9\\\\\n",
       "\t 충북 & 충주시 & 살미면 & 633125 & 2021-02-27 21:00:00 & 0.002 & 22 & 0.033 & 0.007 & 0.7 & 14\\\\\n",
       "\t 충북 & 충주시 & 살미면 & 633125 & 2021-02-27 22:00:00 & 0.002 & 20 & 0.029 & 0.008 & 0.7 & 12\\\\\n",
       "\t 충북 & 충주시 & 살미면 & 633125 & 2021-02-27 23:00:00 & 0.002 & 20 & 0.024 & 0.009 & 0.7 & 11\\\\\n",
       "\t 충북 & 충주시 & 살미면 & 633125 & 2021-02-28 00:00:00 & 0.002 & 18 & 0.024 & 0.008 & 0.7 &  8\\\\\n",
       "\t 충북 & 충주시 & 살미면 & 633125 & 2021-02-28 01:00:00 & 0.002 & 23 & 0.021 & 0.008 & 0.7 & 17\\\\\n",
       "\t 충북 & 충주시 & 살미면 & 633125 & 2021-02-28 02:00:00 & 0.002 & 28 & 0.023 & 0.007 & 0.7 & 19\\\\\n",
       "\t 충북 & 충주시 & 살미면 & 633125 & 2021-02-28 03:00:00 & 0.002 & 22 & 0.021 & 0.007 & 0.7 & 14\\\\\n",
       "\t 충북 & 충주시 & 살미면 & 633125 & 2021-02-28 04:00:00 & 0.002 & 17 & 0.021 & 0.007 & 0.7 & 11\\\\\n",
       "\t 충북 & 충주시 & 살미면 & 633125 & 2021-02-28 05:00:00 & 0.002 & 15 & 0.019 & 0.007 & 0.7 &  8\\\\\n",
       "\t 충북 & 충주시 & 살미면 & 633125 & 2021-02-28 06:00:00 & 0.002 & 15 & 0.018 & 0.007 & 0.7 & 10\\\\\n",
       "\t 충북 & 충주시 & 살미면 & 633125 & 2021-02-28 07:00:00 & 0.002 & 18 & 0.015 & 0.008 & 0.7 & 11\\\\\n",
       "\t 충북 & 충주시 & 살미면 & 633125 & 2021-02-28 08:00:00 & 0.002 & 15 & 0.013 & 0.012 & 0.8 &  9\\\\\n",
       "\t 충북 & 충주시 & 살미면 & 633125 & 2021-02-28 09:00:00 & 0.002 & 20 & 0.014 & 0.015 & 0.9 & 15\\\\\n",
       "\t 충북 & 충주시 & 살미면 & 633125 & 2021-02-28 10:00:00 & 0.003 & 34 & 0.020 & 0.023 & 0.9 & 29\\\\\n",
       "\t 충북 & 충주시 & 살미면 & 633125 & 2021-02-28 11:00:00 & 0.003 & 38 & 0.032 & 0.016 & 0.8 & 28\\\\\n",
       "\t 충북 & 충주시 & 살미면 & 633125 & 2021-02-28 12:00:00 & 0.002 & 28 & 0.041 & 0.010 & 0.7 & 17\\\\\n",
       "\t 충북 & 충주시 & 살미면 & 633125 & 2021-02-28 13:00:00 & 0.002 & 20 & 0.045 & 0.007 & 0.7 & 13\\\\\n",
       "\t 충북 & 충주시 & 살미면 & 633125 & 2021-02-28 14:00:00 & 0.002 & 14 & 0.045 & 0.006 & 0.7 &  8\\\\\n",
       "\t 충북 & 충주시 & 살미면 & 633125 & 2021-02-28 15:00:00 & 0.002 & 12 & 0.044 & 0.008 & 0.7 &  6\\\\\n",
       "\t 충북 & 충주시 & 살미면 & 633125 & 2021-02-28 16:00:00 & 0.002 & 17 & 0.044 & 0.009 & 0.7 &  7\\\\\n",
       "\t 충북 & 충주시 & 살미면 & 633125 & 2021-02-28 17:00:00 & 0.002 & 20 & 0.045 & 0.008 & 0.5 &  6\\\\\n",
       "\t 충북 & 충주시 & 살미면 & 633125 & 2021-02-28 18:00:00 & 0.002 & 18 & 0.042 & 0.008 & 0.8 &  9\\\\\n",
       "\t 충북 & 충주시 & 살미면 & 633125 & 2021-02-28 19:00:00 & 0.003 & 19 & 0.036 & 0.012 & 0.6 &  8\\\\\n",
       "\t 충북 & 충주시 & 살미면 & 633125 & 2021-02-28 20:00:00 & 0.003 & 28 & 0.019 & 0.021 & 0.6 & 15\\\\\n",
       "\t 충북 & 충주시 & 살미면 & 633125 & 2021-02-28 21:00:00 & 0.003 & 37 & 0.012 & 0.024 & 0.7 & 21\\\\\n",
       "\t 충북 & 충주시 & 살미면 & 633125 & 2021-02-28 22:00:00 & 0.003 & 37 & 0.018 & 0.017 & 0.7 & 25\\\\\n",
       "\t 충북 & 충주시 & 살미면 & 633125 & 2021-02-28 23:00:00 & 0.003 & 39 & 0.017 & 0.014 & 0.7 & 23\\\\\n",
       "\t 충북 & 충주시 & 살미면 & 633125 & 2022-01-01 00:00:00 & 0.002 & 25 & 0.017 & 0.008 & 0.5 & 15\\\\\n",
       "\\end{tabular}\n"
      ],
      "text/markdown": [
       "\n",
       "A tibble: 804074 × 11\n",
       "\n",
       "| prov &lt;chr&gt; | city &lt;chr&gt; | point &lt;chr&gt; | code &lt;dbl&gt; | datatime &lt;dttm&gt; | SC2 &lt;dbl&gt; | PM10 &lt;dbl&gt; | O3 &lt;dbl&gt; | NO2 &lt;dbl&gt; | CO &lt;dbl&gt; | PM25 &lt;dbl&gt; |\n",
       "|---|---|---|---|---|---|---|---|---|---|---|\n",
       "| 강원 | 강릉시 | 옥천동 | 632132 | 2021-01-01 01:00:00 | 0.003 | 21 | 0.031 | 0.011 | 0.3 | -999 |\n",
       "| 강원 | 강릉시 | 옥천동 | 632132 | 2021-01-01 02:00:00 | 0.003 | 16 | 0.028 | 0.014 | 0.4 | -999 |\n",
       "| 강원 | 강릉시 | 옥천동 | 632132 | 2021-01-01 03:00:00 | 0.003 | 19 | 0.029 | 0.012 | 0.3 | -999 |\n",
       "| 강원 | 강릉시 | 옥천동 | 632132 | 2021-01-01 04:00:00 | 0.003 | 19 | 0.031 | 0.011 | 0.3 | -999 |\n",
       "| 강원 | 강릉시 | 옥천동 | 632132 | 2021-01-01 05:00:00 | 0.003 | 18 | 0.028 | 0.015 | 0.3 | -999 |\n",
       "| 강원 | 강릉시 | 옥천동 | 632132 | 2021-01-01 06:00:00 | 0.003 | 16 | 0.027 | 0.018 | 0.3 | -999 |\n",
       "| 강원 | 강릉시 | 옥천동 | 632132 | 2021-01-01 07:00:00 | 0.005 | 14 | 0.015 | 0.031 | 0.4 | -999 |\n",
       "| 강원 | 강릉시 | 옥천동 | 632132 | 2021-01-01 08:00:00 | 0.004 | 14 | 0.018 | 0.028 | 0.4 | -999 |\n",
       "| 강원 | 강릉시 | 옥천동 | 632132 | 2021-01-01 09:00:00 | 0.003 | 17 | 0.032 | 0.014 | 0.3 | -999 |\n",
       "| 강원 | 강릉시 | 옥천동 | 632132 | 2021-01-01 10:00:00 | 0.003 | 13 | 0.034 | 0.010 | 0.3 | -999 |\n",
       "| 강원 | 강릉시 | 옥천동 | 632132 | 2021-01-01 11:00:00 | 0.003 | 19 | 0.035 | 0.009 | 0.2 | -999 |\n",
       "| 강원 | 강릉시 | 옥천동 | 632132 | 2021-01-01 12:00:00 | 0.003 | 14 | 0.036 | 0.009 | 0.2 | -999 |\n",
       "| 강원 | 강릉시 | 옥천동 | 632132 | 2021-01-01 13:00:00 | 0.003 | 15 | 0.037 | 0.009 | 0.2 | -999 |\n",
       "| 강원 | 강릉시 | 옥천동 | 632132 | 2021-01-01 14:00:00 | 0.002 | 14 | 0.039 | 0.008 | 0.2 | -999 |\n",
       "| 강원 | 강릉시 | 옥천동 | 632132 | 2021-01-01 15:00:00 | 0.003 | 12 | 0.039 | 0.007 | 0.1 | -999 |\n",
       "| 강원 | 강릉시 | 옥천동 | 632132 | 2021-01-01 16:00:00 | 0.003 | 14 | 0.038 | 0.009 | 0.1 | -999 |\n",
       "| 강원 | 강릉시 | 옥천동 | 632132 | 2021-01-01 17:00:00 | 0.003 | 17 | 0.035 | 0.011 | 0.1 | -999 |\n",
       "| 강원 | 강릉시 | 옥천동 | 632132 | 2021-01-01 18:00:00 | 0.003 | 19 | 0.031 | 0.016 | 0.2 | -999 |\n",
       "| 강원 | 강릉시 | 옥천동 | 632132 | 2021-01-01 19:00:00 | 0.003 | 20 | 0.030 | 0.016 | 0.3 | -999 |\n",
       "| 강원 | 강릉시 | 옥천동 | 632132 | 2021-01-01 20:00:00 | 0.003 | 21 | 0.027 | 0.018 | 0.4 | -999 |\n",
       "| 강원 | 강릉시 | 옥천동 | 632132 | 2021-01-01 21:00:00 | 0.003 | 23 | 0.026 | 0.019 | 0.4 | -999 |\n",
       "| 강원 | 강릉시 | 옥천동 | 632132 | 2021-01-01 22:00:00 | 0.003 | 27 | 0.024 | 0.021 | 0.5 | -999 |\n",
       "| 강원 | 강릉시 | 옥천동 | 632132 | 2021-01-01 23:00:00 | 0.003 | 32 | 0.017 | 0.027 | 0.5 | -999 |\n",
       "| 강원 | 강릉시 | 옥천동 | 632132 | 2021-01-02 00:00:00 | 0.004 | 32 | 0.012 | 0.034 | 0.7 | -999 |\n",
       "| 강원 | 강릉시 | 옥천동 | 632132 | 2021-01-02 01:00:00 | 0.004 | 39 | 0.013 | 0.032 | 0.7 | -999 |\n",
       "| 강원 | 강릉시 | 옥천동 | 632132 | 2021-01-02 02:00:00 | 0.004 | 38 | 0.018 | 0.025 | 0.6 | -999 |\n",
       "| 강원 | 강릉시 | 옥천동 | 632132 | 2021-01-02 03:00:00 | 0.005 | 37 | 0.011 | 0.035 | 0.8 | -999 |\n",
       "| 강원 | 강릉시 | 옥천동 | 632132 | 2021-01-02 04:00:00 | 0.004 | 39 | 0.032 | 0.011 | 0.4 | -999 |\n",
       "| 강원 | 강릉시 | 옥천동 | 632132 | 2021-01-02 05:00:00 | 0.004 | 38 | 0.030 | 0.013 | 0.3 | -999 |\n",
       "| 강원 | 강릉시 | 옥천동 | 632132 | 2021-01-02 06:00:00 | 0.004 | 38 | 0.022 | 0.024 | 0.5 | -999 |\n",
       "| ⋮ | ⋮ | ⋮ | ⋮ | ⋮ | ⋮ | ⋮ | ⋮ | ⋮ | ⋮ | ⋮ |\n",
       "| 충북 | 충주시 | 살미면 | 633125 | 2021-02-27 19:00:00 | 0.002 | 16 | 0.042 | 0.007 | 0.7 |  7 |\n",
       "| 충북 | 충주시 | 살미면 | 633125 | 2021-02-27 20:00:00 | 0.002 | 19 | 0.035 | 0.009 | 0.7 |  9 |\n",
       "| 충북 | 충주시 | 살미면 | 633125 | 2021-02-27 21:00:00 | 0.002 | 22 | 0.033 | 0.007 | 0.7 | 14 |\n",
       "| 충북 | 충주시 | 살미면 | 633125 | 2021-02-27 22:00:00 | 0.002 | 20 | 0.029 | 0.008 | 0.7 | 12 |\n",
       "| 충북 | 충주시 | 살미면 | 633125 | 2021-02-27 23:00:00 | 0.002 | 20 | 0.024 | 0.009 | 0.7 | 11 |\n",
       "| 충북 | 충주시 | 살미면 | 633125 | 2021-02-28 00:00:00 | 0.002 | 18 | 0.024 | 0.008 | 0.7 |  8 |\n",
       "| 충북 | 충주시 | 살미면 | 633125 | 2021-02-28 01:00:00 | 0.002 | 23 | 0.021 | 0.008 | 0.7 | 17 |\n",
       "| 충북 | 충주시 | 살미면 | 633125 | 2021-02-28 02:00:00 | 0.002 | 28 | 0.023 | 0.007 | 0.7 | 19 |\n",
       "| 충북 | 충주시 | 살미면 | 633125 | 2021-02-28 03:00:00 | 0.002 | 22 | 0.021 | 0.007 | 0.7 | 14 |\n",
       "| 충북 | 충주시 | 살미면 | 633125 | 2021-02-28 04:00:00 | 0.002 | 17 | 0.021 | 0.007 | 0.7 | 11 |\n",
       "| 충북 | 충주시 | 살미면 | 633125 | 2021-02-28 05:00:00 | 0.002 | 15 | 0.019 | 0.007 | 0.7 |  8 |\n",
       "| 충북 | 충주시 | 살미면 | 633125 | 2021-02-28 06:00:00 | 0.002 | 15 | 0.018 | 0.007 | 0.7 | 10 |\n",
       "| 충북 | 충주시 | 살미면 | 633125 | 2021-02-28 07:00:00 | 0.002 | 18 | 0.015 | 0.008 | 0.7 | 11 |\n",
       "| 충북 | 충주시 | 살미면 | 633125 | 2021-02-28 08:00:00 | 0.002 | 15 | 0.013 | 0.012 | 0.8 |  9 |\n",
       "| 충북 | 충주시 | 살미면 | 633125 | 2021-02-28 09:00:00 | 0.002 | 20 | 0.014 | 0.015 | 0.9 | 15 |\n",
       "| 충북 | 충주시 | 살미면 | 633125 | 2021-02-28 10:00:00 | 0.003 | 34 | 0.020 | 0.023 | 0.9 | 29 |\n",
       "| 충북 | 충주시 | 살미면 | 633125 | 2021-02-28 11:00:00 | 0.003 | 38 | 0.032 | 0.016 | 0.8 | 28 |\n",
       "| 충북 | 충주시 | 살미면 | 633125 | 2021-02-28 12:00:00 | 0.002 | 28 | 0.041 | 0.010 | 0.7 | 17 |\n",
       "| 충북 | 충주시 | 살미면 | 633125 | 2021-02-28 13:00:00 | 0.002 | 20 | 0.045 | 0.007 | 0.7 | 13 |\n",
       "| 충북 | 충주시 | 살미면 | 633125 | 2021-02-28 14:00:00 | 0.002 | 14 | 0.045 | 0.006 | 0.7 |  8 |\n",
       "| 충북 | 충주시 | 살미면 | 633125 | 2021-02-28 15:00:00 | 0.002 | 12 | 0.044 | 0.008 | 0.7 |  6 |\n",
       "| 충북 | 충주시 | 살미면 | 633125 | 2021-02-28 16:00:00 | 0.002 | 17 | 0.044 | 0.009 | 0.7 |  7 |\n",
       "| 충북 | 충주시 | 살미면 | 633125 | 2021-02-28 17:00:00 | 0.002 | 20 | 0.045 | 0.008 | 0.5 |  6 |\n",
       "| 충북 | 충주시 | 살미면 | 633125 | 2021-02-28 18:00:00 | 0.002 | 18 | 0.042 | 0.008 | 0.8 |  9 |\n",
       "| 충북 | 충주시 | 살미면 | 633125 | 2021-02-28 19:00:00 | 0.003 | 19 | 0.036 | 0.012 | 0.6 |  8 |\n",
       "| 충북 | 충주시 | 살미면 | 633125 | 2021-02-28 20:00:00 | 0.003 | 28 | 0.019 | 0.021 | 0.6 | 15 |\n",
       "| 충북 | 충주시 | 살미면 | 633125 | 2021-02-28 21:00:00 | 0.003 | 37 | 0.012 | 0.024 | 0.7 | 21 |\n",
       "| 충북 | 충주시 | 살미면 | 633125 | 2021-02-28 22:00:00 | 0.003 | 37 | 0.018 | 0.017 | 0.7 | 25 |\n",
       "| 충북 | 충주시 | 살미면 | 633125 | 2021-02-28 23:00:00 | 0.003 | 39 | 0.017 | 0.014 | 0.7 | 23 |\n",
       "| 충북 | 충주시 | 살미면 | 633125 | 2022-01-01 00:00:00 | 0.002 | 25 | 0.017 | 0.008 | 0.5 | 15 |\n",
       "\n"
      ],
      "text/plain": [
       "       prov city   point  code   datatime            SC2   PM10 O3    NO2   CO \n",
       "1      강원 강릉시 옥천동 632132 2021-01-01 01:00:00 0.003 21   0.031 0.011 0.3\n",
       "2      강원 강릉시 옥천동 632132 2021-01-01 02:00:00 0.003 16   0.028 0.014 0.4\n",
       "3      강원 강릉시 옥천동 632132 2021-01-01 03:00:00 0.003 19   0.029 0.012 0.3\n",
       "4      강원 강릉시 옥천동 632132 2021-01-01 04:00:00 0.003 19   0.031 0.011 0.3\n",
       "5      강원 강릉시 옥천동 632132 2021-01-01 05:00:00 0.003 18   0.028 0.015 0.3\n",
       "6      강원 강릉시 옥천동 632132 2021-01-01 06:00:00 0.003 16   0.027 0.018 0.3\n",
       "7      강원 강릉시 옥천동 632132 2021-01-01 07:00:00 0.005 14   0.015 0.031 0.4\n",
       "8      강원 강릉시 옥천동 632132 2021-01-01 08:00:00 0.004 14   0.018 0.028 0.4\n",
       "9      강원 강릉시 옥천동 632132 2021-01-01 09:00:00 0.003 17   0.032 0.014 0.3\n",
       "10     강원 강릉시 옥천동 632132 2021-01-01 10:00:00 0.003 13   0.034 0.010 0.3\n",
       "11     강원 강릉시 옥천동 632132 2021-01-01 11:00:00 0.003 19   0.035 0.009 0.2\n",
       "12     강원 강릉시 옥천동 632132 2021-01-01 12:00:00 0.003 14   0.036 0.009 0.2\n",
       "13     강원 강릉시 옥천동 632132 2021-01-01 13:00:00 0.003 15   0.037 0.009 0.2\n",
       "14     강원 강릉시 옥천동 632132 2021-01-01 14:00:00 0.002 14   0.039 0.008 0.2\n",
       "15     강원 강릉시 옥천동 632132 2021-01-01 15:00:00 0.003 12   0.039 0.007 0.1\n",
       "16     강원 강릉시 옥천동 632132 2021-01-01 16:00:00 0.003 14   0.038 0.009 0.1\n",
       "17     강원 강릉시 옥천동 632132 2021-01-01 17:00:00 0.003 17   0.035 0.011 0.1\n",
       "18     강원 강릉시 옥천동 632132 2021-01-01 18:00:00 0.003 19   0.031 0.016 0.2\n",
       "19     강원 강릉시 옥천동 632132 2021-01-01 19:00:00 0.003 20   0.030 0.016 0.3\n",
       "20     강원 강릉시 옥천동 632132 2021-01-01 20:00:00 0.003 21   0.027 0.018 0.4\n",
       "21     강원 강릉시 옥천동 632132 2021-01-01 21:00:00 0.003 23   0.026 0.019 0.4\n",
       "22     강원 강릉시 옥천동 632132 2021-01-01 22:00:00 0.003 27   0.024 0.021 0.5\n",
       "23     강원 강릉시 옥천동 632132 2021-01-01 23:00:00 0.003 32   0.017 0.027 0.5\n",
       "24     강원 강릉시 옥천동 632132 2021-01-02 00:00:00 0.004 32   0.012 0.034 0.7\n",
       "25     강원 강릉시 옥천동 632132 2021-01-02 01:00:00 0.004 39   0.013 0.032 0.7\n",
       "26     강원 강릉시 옥천동 632132 2021-01-02 02:00:00 0.004 38   0.018 0.025 0.6\n",
       "27     강원 강릉시 옥천동 632132 2021-01-02 03:00:00 0.005 37   0.011 0.035 0.8\n",
       "28     강원 강릉시 옥천동 632132 2021-01-02 04:00:00 0.004 39   0.032 0.011 0.4\n",
       "29     강원 강릉시 옥천동 632132 2021-01-02 05:00:00 0.004 38   0.030 0.013 0.3\n",
       "30     강원 강릉시 옥천동 632132 2021-01-02 06:00:00 0.004 38   0.022 0.024 0.5\n",
       "⋮      ⋮    ⋮      ⋮      ⋮      ⋮                   ⋮     ⋮    ⋮     ⋮     ⋮  \n",
       "804045 충북 충주시 살미면 633125 2021-02-27 19:00:00 0.002 16   0.042 0.007 0.7\n",
       "804046 충북 충주시 살미면 633125 2021-02-27 20:00:00 0.002 19   0.035 0.009 0.7\n",
       "804047 충북 충주시 살미면 633125 2021-02-27 21:00:00 0.002 22   0.033 0.007 0.7\n",
       "804048 충북 충주시 살미면 633125 2021-02-27 22:00:00 0.002 20   0.029 0.008 0.7\n",
       "804049 충북 충주시 살미면 633125 2021-02-27 23:00:00 0.002 20   0.024 0.009 0.7\n",
       "804050 충북 충주시 살미면 633125 2021-02-28 00:00:00 0.002 18   0.024 0.008 0.7\n",
       "804051 충북 충주시 살미면 633125 2021-02-28 01:00:00 0.002 23   0.021 0.008 0.7\n",
       "804052 충북 충주시 살미면 633125 2021-02-28 02:00:00 0.002 28   0.023 0.007 0.7\n",
       "804053 충북 충주시 살미면 633125 2021-02-28 03:00:00 0.002 22   0.021 0.007 0.7\n",
       "804054 충북 충주시 살미면 633125 2021-02-28 04:00:00 0.002 17   0.021 0.007 0.7\n",
       "804055 충북 충주시 살미면 633125 2021-02-28 05:00:00 0.002 15   0.019 0.007 0.7\n",
       "804056 충북 충주시 살미면 633125 2021-02-28 06:00:00 0.002 15   0.018 0.007 0.7\n",
       "804057 충북 충주시 살미면 633125 2021-02-28 07:00:00 0.002 18   0.015 0.008 0.7\n",
       "804058 충북 충주시 살미면 633125 2021-02-28 08:00:00 0.002 15   0.013 0.012 0.8\n",
       "804059 충북 충주시 살미면 633125 2021-02-28 09:00:00 0.002 20   0.014 0.015 0.9\n",
       "804060 충북 충주시 살미면 633125 2021-02-28 10:00:00 0.003 34   0.020 0.023 0.9\n",
       "804061 충북 충주시 살미면 633125 2021-02-28 11:00:00 0.003 38   0.032 0.016 0.8\n",
       "804062 충북 충주시 살미면 633125 2021-02-28 12:00:00 0.002 28   0.041 0.010 0.7\n",
       "804063 충북 충주시 살미면 633125 2021-02-28 13:00:00 0.002 20   0.045 0.007 0.7\n",
       "804064 충북 충주시 살미면 633125 2021-02-28 14:00:00 0.002 14   0.045 0.006 0.7\n",
       "804065 충북 충주시 살미면 633125 2021-02-28 15:00:00 0.002 12   0.044 0.008 0.7\n",
       "804066 충북 충주시 살미면 633125 2021-02-28 16:00:00 0.002 17   0.044 0.009 0.7\n",
       "804067 충북 충주시 살미면 633125 2021-02-28 17:00:00 0.002 20   0.045 0.008 0.5\n",
       "804068 충북 충주시 살미면 633125 2021-02-28 18:00:00 0.002 18   0.042 0.008 0.8\n",
       "804069 충북 충주시 살미면 633125 2021-02-28 19:00:00 0.003 19   0.036 0.012 0.6\n",
       "804070 충북 충주시 살미면 633125 2021-02-28 20:00:00 0.003 28   0.019 0.021 0.6\n",
       "804071 충북 충주시 살미면 633125 2021-02-28 21:00:00 0.003 37   0.012 0.024 0.7\n",
       "804072 충북 충주시 살미면 633125 2021-02-28 22:00:00 0.003 37   0.018 0.017 0.7\n",
       "804073 충북 충주시 살미면 633125 2021-02-28 23:00:00 0.003 39   0.017 0.014 0.7\n",
       "804074 충북 충주시 살미면 633125 2022-01-01 00:00:00 0.002 25   0.017 0.008 0.5\n",
       "       PM25\n",
       "1      -999\n",
       "2      -999\n",
       "3      -999\n",
       "4      -999\n",
       "5      -999\n",
       "6      -999\n",
       "7      -999\n",
       "8      -999\n",
       "9      -999\n",
       "10     -999\n",
       "11     -999\n",
       "12     -999\n",
       "13     -999\n",
       "14     -999\n",
       "15     -999\n",
       "16     -999\n",
       "17     -999\n",
       "18     -999\n",
       "19     -999\n",
       "20     -999\n",
       "21     -999\n",
       "22     -999\n",
       "23     -999\n",
       "24     -999\n",
       "25     -999\n",
       "26     -999\n",
       "27     -999\n",
       "28     -999\n",
       "29     -999\n",
       "30     -999\n",
       "⋮      ⋮   \n",
       "804045  7  \n",
       "804046  9  \n",
       "804047 14  \n",
       "804048 12  \n",
       "804049 11  \n",
       "804050  8  \n",
       "804051 17  \n",
       "804052 19  \n",
       "804053 14  \n",
       "804054 11  \n",
       "804055  8  \n",
       "804056 10  \n",
       "804057 11  \n",
       "804058  9  \n",
       "804059 15  \n",
       "804060 29  \n",
       "804061 28  \n",
       "804062 17  \n",
       "804063 13  \n",
       "804064  8  \n",
       "804065  6  \n",
       "804066  7  \n",
       "804067  6  \n",
       "804068  9  \n",
       "804069  8  \n",
       "804070 15  \n",
       "804071 21  \n",
       "804072 25  \n",
       "804073 23  \n",
       "804074 15  "
      ]
     },
     "metadata": {},
     "output_type": "display_data"
    }
   ],
   "source": [
    "# 13번\n",
    "library(readxl)\n",
    "\n",
    "data <- read_xlsx(\"../mydata/2021년_대기오염도.xlsx\")\n",
    "data"
   ]
  },
  {
   "cell_type": "code",
   "execution_count": 15,
   "metadata": {
    "vscode": {
     "languageId": "r"
    }
   },
   "outputs": [
    {
     "name": "stdout",
     "output_type": "stream",
     "text": [
      "tibble [5,108,376 × 11] (S3: tbl_df/tbl/data.frame)\n",
      " $ prov    : chr [1:5108376] \"강원\" \"강원\" \"강원\" \"강원\" ...\n",
      " $ city    : chr [1:5108376] \"강릉시\" \"강릉시\" \"강릉시\" \"강릉시\" ...\n",
      " $ point   : chr [1:5108376] \"옥천동\" \"옥천동\" \"옥천동\" \"옥천동\" ...\n",
      " $ code    : num [1:5108376] 632132 632132 632132 632132 632132 ...\n",
      " $ datatime: POSIXct[1:5108376], format: \"2021-01-01 01:00:00\" \"2021-01-01 02:00:00\" ...\n",
      " $ SC2     : num [1:5108376] 0.003 0.003 0.003 0.003 0.003 0.003 0.005 0.004 0.003 0.003 ...\n",
      " $ PM10    : num [1:5108376] 21 16 19 19 18 16 14 14 17 13 ...\n",
      " $ O3      : num [1:5108376] 0.031 0.028 0.029 0.031 0.028 0.027 0.015 0.018 0.032 0.034 ...\n",
      " $ NO2     : num [1:5108376] 0.011 0.014 0.012 0.011 0.015 0.018 0.031 0.028 0.014 0.01 ...\n",
      " $ CO      : num [1:5108376] 0.3 0.4 0.3 0.3 0.3 0.3 0.4 0.4 0.3 0.3 ...\n",
      " $ PM25    : num [1:5108376] -999 -999 -999 -999 -999 -999 -999 -999 -999 -999 ...\n"
     ]
    }
   ],
   "source": [
    "# 13번\n",
    "air1 <- read_xlsx(\"../mydata/2021년_대기오염도.xlsx\", sheet = 1)\n",
    "air2 <- read_xlsx(\"../mydata/2021년_대기오염도.xlsx\", sheet = 2)\n",
    "air3 <- read_xlsx(\"../mydata/2021년_대기오염도.xlsx\", sheet = 3)\n",
    "air4 <- read_xlsx(\"../mydata/2021년_대기오염도.xlsx\", sheet = 4)\n",
    "air5 <- read_xlsx(\"../mydata/2021년_대기오염도.xlsx\", sheet = 5)\n",
    "air6 <- read_xlsx(\"../mydata/2021년_대기오염도.xlsx\", sheet = 6)\n",
    "\n",
    "# rbind를 이용하여 하나로 합침  -> \n",
    "air <- rbind(air1, air2, air3, air4, air5, air6)\n",
    "str(air)"
   ]
  },
  {
   "cell_type": "code",
   "execution_count": 16,
   "metadata": {
    "vscode": {
     "languageId": "r"
    }
   },
   "outputs": [
    {
     "data": {
      "text/html": [
       "593"
      ],
      "text/latex": [
       "593"
      ],
      "text/markdown": [
       "593"
      ],
      "text/plain": [
       "[1] 593"
      ]
     },
     "metadata": {},
     "output_type": "display_data"
    }
   ],
   "source": [
    "# 14번\n",
    "num_points <- length(unique(air$point))\n",
    "num_points"
   ]
  },
  {
   "cell_type": "code",
   "execution_count": 17,
   "metadata": {
    "vscode": {
     "languageId": "r"
    }
   },
   "outputs": [
    {
     "data": {
      "text/plain": [
       "\n",
       "  살미면 중앙탑면   칠금동   호암동 \n",
       "    8760     8760     8760     8760 "
      ]
     },
     "metadata": {},
     "output_type": "display_data"
    }
   ],
   "source": [
    "# 15번\n",
    "cj <- subset(air, city == \"충주시\")\n",
    "\n",
    "table(cj$point)"
   ]
  },
  {
   "cell_type": "code",
   "execution_count": 18,
   "metadata": {
    "vscode": {
     "languageId": "r"
    }
   },
   "outputs": [
    {
     "data": {
      "text/plain": [
       "    Min.  1st Qu.   Median     Mean  3rd Qu.     Max. \n",
       "-999.000   17.000   27.000    7.107   43.000  691.000 "
      ]
     },
     "metadata": {},
     "output_type": "display_data"
    }
   ],
   "source": [
    "# 16번\n",
    "summary(cj$PM10)"
   ]
  },
  {
   "cell_type": "code",
   "execution_count": 19,
   "metadata": {
    "vscode": {
     "languageId": "r"
    }
   },
   "outputs": [
    {
     "data": {
      "text/html": [
       "<style>\n",
       ".list-inline {list-style: none; margin:0; padding: 0}\n",
       ".list-inline>li {display: inline-block}\n",
       ".list-inline>li:not(:last-child)::after {content: \"\\00b7\"; padding: 0 .5ex}\n",
       "</style>\n",
       "<ol class=list-inline><li>277</li><li>278</li><li>786</li><li>787</li><li>930</li><li>975</li></ol>\n"
      ],
      "text/latex": [
       "\\begin{enumerate*}\n",
       "\\item 277\n",
       "\\item 278\n",
       "\\item 786\n",
       "\\item 787\n",
       "\\item 930\n",
       "\\item 975\n",
       "\\end{enumerate*}\n"
      ],
      "text/markdown": [
       "1. 277\n",
       "2. 278\n",
       "3. 786\n",
       "4. 787\n",
       "5. 930\n",
       "6. 975\n",
       "\n",
       "\n"
      ],
      "text/plain": [
       "[1] 277 278 786 787 930 975"
      ]
     },
     "metadata": {},
     "output_type": "display_data"
    }
   ],
   "source": [
    "# 17번\n",
    "idx <- which(cj$PM10 == -999)\n",
    "\n",
    "head(idx)"
   ]
  },
  {
   "cell_type": "code",
   "execution_count": 20,
   "metadata": {
    "vscode": {
     "languageId": "r"
    }
   },
   "outputs": [
    {
     "data": {
      "text/plain": [
       "\n",
       "  살미면 중앙탑면   칠금동   호암동 \n",
       "    8572     8561     8421     8500 "
      ]
     },
     "metadata": {},
     "output_type": "display_data"
    }
   ],
   "source": [
    "# 18번\n",
    "cj2 <- subset(cj, PM10 != -999)\n",
    "\n",
    "table(cj2$point)"
   ]
  },
  {
   "cell_type": "code",
   "execution_count": 21,
   "metadata": {
    "vscode": {
     "languageId": "r"
    }
   },
   "outputs": [
    {
     "name": "stdout",
     "output_type": "stream",
     "text": [
      "   살미면  중앙탑면    칠금동    호암동 \n",
      "11.005479 11.544977 -1.845548  7.723858 \n"
     ]
    }
   ],
   "source": [
    "# 19번\n",
    "pm10_mean <- tapply(cj$PM10, cj$point, mean)\n",
    "\n",
    "print(pm10_mean)"
   ]
  },
  {
   "cell_type": "code",
   "execution_count": 22,
   "metadata": {
    "vscode": {
     "languageId": "r"
    }
   },
   "outputs": [
    {
     "data": {
      "text/plain": [
       "\n",
       "가거도 가남읍 가덕면 가야읍   가평 가흥동 \n",
       "  8760   8760   8760   8760   8760   8760 "
      ]
     },
     "metadata": {},
     "output_type": "display_data"
    }
   ],
   "source": [
    "# 20번\n",
    "ga <- subset(air, grepl(\"^가\", air$point))\n",
    "\n",
    "table(ga$point)\n"
   ]
  },
  {
   "cell_type": "code",
   "execution_count": 23,
   "metadata": {
    "vscode": {
     "languageId": "r"
    }
   },
   "outputs": [
    {
     "data": {
      "text/html": [
       "<table class=\"dataframe\">\n",
       "<caption>A tibble: 52560 × 5</caption>\n",
       "<thead>\n",
       "\t<tr><th scope=col>prov</th><th scope=col>city</th><th scope=col>point</th><th scope=col>PM10</th><th scope=col>point2</th></tr>\n",
       "\t<tr><th scope=col>&lt;chr&gt;</th><th scope=col>&lt;chr&gt;</th><th scope=col>&lt;chr&gt;</th><th scope=col>&lt;dbl&gt;</th><th scope=col>&lt;chr&gt;</th></tr>\n",
       "</thead>\n",
       "<tbody>\n",
       "\t<tr><td>경기</td><td>가평군</td><td>가평</td><td>  21</td><td>경기 가평군 가평</td></tr>\n",
       "\t<tr><td>경기</td><td>가평군</td><td>가평</td><td>  19</td><td>경기 가평군 가평</td></tr>\n",
       "\t<tr><td>경기</td><td>가평군</td><td>가평</td><td>  27</td><td>경기 가평군 가평</td></tr>\n",
       "\t<tr><td>경기</td><td>가평군</td><td>가평</td><td>  19</td><td>경기 가평군 가평</td></tr>\n",
       "\t<tr><td>경기</td><td>가평군</td><td>가평</td><td>  20</td><td>경기 가평군 가평</td></tr>\n",
       "\t<tr><td>경기</td><td>가평군</td><td>가평</td><td>  17</td><td>경기 가평군 가평</td></tr>\n",
       "\t<tr><td>경기</td><td>가평군</td><td>가평</td><td>  31</td><td>경기 가평군 가평</td></tr>\n",
       "\t<tr><td>경기</td><td>가평군</td><td>가평</td><td>  26</td><td>경기 가평군 가평</td></tr>\n",
       "\t<tr><td>경기</td><td>가평군</td><td>가평</td><td>  18</td><td>경기 가평군 가평</td></tr>\n",
       "\t<tr><td>경기</td><td>가평군</td><td>가평</td><td>  11</td><td>경기 가평군 가평</td></tr>\n",
       "\t<tr><td>경기</td><td>가평군</td><td>가평</td><td>  27</td><td>경기 가평군 가평</td></tr>\n",
       "\t<tr><td>경기</td><td>가평군</td><td>가평</td><td>  19</td><td>경기 가평군 가평</td></tr>\n",
       "\t<tr><td>경기</td><td>가평군</td><td>가평</td><td>  18</td><td>경기 가평군 가평</td></tr>\n",
       "\t<tr><td>경기</td><td>가평군</td><td>가평</td><td>  19</td><td>경기 가평군 가평</td></tr>\n",
       "\t<tr><td>경기</td><td>가평군</td><td>가평</td><td>  17</td><td>경기 가평군 가평</td></tr>\n",
       "\t<tr><td>경기</td><td>가평군</td><td>가평</td><td>-999</td><td>경기 가평군 가평</td></tr>\n",
       "\t<tr><td>경기</td><td>가평군</td><td>가평</td><td>  18</td><td>경기 가평군 가평</td></tr>\n",
       "\t<tr><td>경기</td><td>가평군</td><td>가평</td><td>  24</td><td>경기 가평군 가평</td></tr>\n",
       "\t<tr><td>경기</td><td>가평군</td><td>가평</td><td>  24</td><td>경기 가평군 가평</td></tr>\n",
       "\t<tr><td>경기</td><td>가평군</td><td>가평</td><td>  20</td><td>경기 가평군 가평</td></tr>\n",
       "\t<tr><td>경기</td><td>가평군</td><td>가평</td><td>  28</td><td>경기 가평군 가평</td></tr>\n",
       "\t<tr><td>경기</td><td>가평군</td><td>가평</td><td>  41</td><td>경기 가평군 가평</td></tr>\n",
       "\t<tr><td>경기</td><td>가평군</td><td>가평</td><td>-999</td><td>경기 가평군 가평</td></tr>\n",
       "\t<tr><td>경기</td><td>가평군</td><td>가평</td><td>  40</td><td>경기 가평군 가평</td></tr>\n",
       "\t<tr><td>경기</td><td>가평군</td><td>가평</td><td>  25</td><td>경기 가평군 가평</td></tr>\n",
       "\t<tr><td>경기</td><td>가평군</td><td>가평</td><td>  23</td><td>경기 가평군 가평</td></tr>\n",
       "\t<tr><td>경기</td><td>가평군</td><td>가평</td><td>  15</td><td>경기 가평군 가평</td></tr>\n",
       "\t<tr><td>경기</td><td>가평군</td><td>가평</td><td>  26</td><td>경기 가평군 가평</td></tr>\n",
       "\t<tr><td>경기</td><td>가평군</td><td>가평</td><td>  15</td><td>경기 가평군 가평</td></tr>\n",
       "\t<tr><td>경기</td><td>가평군</td><td>가평</td><td>  12</td><td>경기 가평군 가평</td></tr>\n",
       "\t<tr><td>⋮</td><td>⋮</td><td>⋮</td><td>⋮</td><td>⋮</td></tr>\n",
       "\t<tr><td>충북</td><td>청주시</td><td>가덕면</td><td>23</td><td>충북 청주시 가덕면</td></tr>\n",
       "\t<tr><td>충북</td><td>청주시</td><td>가덕면</td><td>24</td><td>충북 청주시 가덕면</td></tr>\n",
       "\t<tr><td>충북</td><td>청주시</td><td>가덕면</td><td>27</td><td>충북 청주시 가덕면</td></tr>\n",
       "\t<tr><td>충북</td><td>청주시</td><td>가덕면</td><td>26</td><td>충북 청주시 가덕면</td></tr>\n",
       "\t<tr><td>충북</td><td>청주시</td><td>가덕면</td><td>29</td><td>충북 청주시 가덕면</td></tr>\n",
       "\t<tr><td>충북</td><td>청주시</td><td>가덕면</td><td>28</td><td>충북 청주시 가덕면</td></tr>\n",
       "\t<tr><td>충북</td><td>청주시</td><td>가덕면</td><td>25</td><td>충북 청주시 가덕면</td></tr>\n",
       "\t<tr><td>충북</td><td>청주시</td><td>가덕면</td><td>20</td><td>충북 청주시 가덕면</td></tr>\n",
       "\t<tr><td>충북</td><td>청주시</td><td>가덕면</td><td>25</td><td>충북 청주시 가덕면</td></tr>\n",
       "\t<tr><td>충북</td><td>청주시</td><td>가덕면</td><td>27</td><td>충북 청주시 가덕면</td></tr>\n",
       "\t<tr><td>충북</td><td>청주시</td><td>가덕면</td><td>27</td><td>충북 청주시 가덕면</td></tr>\n",
       "\t<tr><td>충북</td><td>청주시</td><td>가덕면</td><td>21</td><td>충북 청주시 가덕면</td></tr>\n",
       "\t<tr><td>충북</td><td>청주시</td><td>가덕면</td><td>27</td><td>충북 청주시 가덕면</td></tr>\n",
       "\t<tr><td>충북</td><td>청주시</td><td>가덕면</td><td>35</td><td>충북 청주시 가덕면</td></tr>\n",
       "\t<tr><td>충북</td><td>청주시</td><td>가덕면</td><td>36</td><td>충북 청주시 가덕면</td></tr>\n",
       "\t<tr><td>충북</td><td>청주시</td><td>가덕면</td><td>27</td><td>충북 청주시 가덕면</td></tr>\n",
       "\t<tr><td>충북</td><td>청주시</td><td>가덕면</td><td>36</td><td>충북 청주시 가덕면</td></tr>\n",
       "\t<tr><td>충북</td><td>청주시</td><td>가덕면</td><td>24</td><td>충북 청주시 가덕면</td></tr>\n",
       "\t<tr><td>충북</td><td>청주시</td><td>가덕면</td><td>26</td><td>충북 청주시 가덕면</td></tr>\n",
       "\t<tr><td>충북</td><td>청주시</td><td>가덕면</td><td>23</td><td>충북 청주시 가덕면</td></tr>\n",
       "\t<tr><td>충북</td><td>청주시</td><td>가덕면</td><td>21</td><td>충북 청주시 가덕면</td></tr>\n",
       "\t<tr><td>충북</td><td>청주시</td><td>가덕면</td><td>19</td><td>충북 청주시 가덕면</td></tr>\n",
       "\t<tr><td>충북</td><td>청주시</td><td>가덕면</td><td>14</td><td>충북 청주시 가덕면</td></tr>\n",
       "\t<tr><td>충북</td><td>청주시</td><td>가덕면</td><td>19</td><td>충북 청주시 가덕면</td></tr>\n",
       "\t<tr><td>충북</td><td>청주시</td><td>가덕면</td><td>19</td><td>충북 청주시 가덕면</td></tr>\n",
       "\t<tr><td>충북</td><td>청주시</td><td>가덕면</td><td>20</td><td>충북 청주시 가덕면</td></tr>\n",
       "\t<tr><td>충북</td><td>청주시</td><td>가덕면</td><td>20</td><td>충북 청주시 가덕면</td></tr>\n",
       "\t<tr><td>충북</td><td>청주시</td><td>가덕면</td><td>17</td><td>충북 청주시 가덕면</td></tr>\n",
       "\t<tr><td>충북</td><td>청주시</td><td>가덕면</td><td>22</td><td>충북 청주시 가덕면</td></tr>\n",
       "\t<tr><td>충북</td><td>청주시</td><td>가덕면</td><td>33</td><td>충북 청주시 가덕면</td></tr>\n",
       "</tbody>\n",
       "</table>\n"
      ],
      "text/latex": [
       "A tibble: 52560 × 5\n",
       "\\begin{tabular}{lllll}\n",
       " prov & city & point & PM10 & point2\\\\\n",
       " <chr> & <chr> & <chr> & <dbl> & <chr>\\\\\n",
       "\\hline\n",
       "\t 경기 & 가평군 & 가평 &   21 & 경기 가평군 가평\\\\\n",
       "\t 경기 & 가평군 & 가평 &   19 & 경기 가평군 가평\\\\\n",
       "\t 경기 & 가평군 & 가평 &   27 & 경기 가평군 가평\\\\\n",
       "\t 경기 & 가평군 & 가평 &   19 & 경기 가평군 가평\\\\\n",
       "\t 경기 & 가평군 & 가평 &   20 & 경기 가평군 가평\\\\\n",
       "\t 경기 & 가평군 & 가평 &   17 & 경기 가평군 가평\\\\\n",
       "\t 경기 & 가평군 & 가평 &   31 & 경기 가평군 가평\\\\\n",
       "\t 경기 & 가평군 & 가평 &   26 & 경기 가평군 가평\\\\\n",
       "\t 경기 & 가평군 & 가평 &   18 & 경기 가평군 가평\\\\\n",
       "\t 경기 & 가평군 & 가평 &   11 & 경기 가평군 가평\\\\\n",
       "\t 경기 & 가평군 & 가평 &   27 & 경기 가평군 가평\\\\\n",
       "\t 경기 & 가평군 & 가평 &   19 & 경기 가평군 가평\\\\\n",
       "\t 경기 & 가평군 & 가평 &   18 & 경기 가평군 가평\\\\\n",
       "\t 경기 & 가평군 & 가평 &   19 & 경기 가평군 가평\\\\\n",
       "\t 경기 & 가평군 & 가평 &   17 & 경기 가평군 가평\\\\\n",
       "\t 경기 & 가평군 & 가평 & -999 & 경기 가평군 가평\\\\\n",
       "\t 경기 & 가평군 & 가평 &   18 & 경기 가평군 가평\\\\\n",
       "\t 경기 & 가평군 & 가평 &   24 & 경기 가평군 가평\\\\\n",
       "\t 경기 & 가평군 & 가평 &   24 & 경기 가평군 가평\\\\\n",
       "\t 경기 & 가평군 & 가평 &   20 & 경기 가평군 가평\\\\\n",
       "\t 경기 & 가평군 & 가평 &   28 & 경기 가평군 가평\\\\\n",
       "\t 경기 & 가평군 & 가평 &   41 & 경기 가평군 가평\\\\\n",
       "\t 경기 & 가평군 & 가평 & -999 & 경기 가평군 가평\\\\\n",
       "\t 경기 & 가평군 & 가평 &   40 & 경기 가평군 가평\\\\\n",
       "\t 경기 & 가평군 & 가평 &   25 & 경기 가평군 가평\\\\\n",
       "\t 경기 & 가평군 & 가평 &   23 & 경기 가평군 가평\\\\\n",
       "\t 경기 & 가평군 & 가평 &   15 & 경기 가평군 가평\\\\\n",
       "\t 경기 & 가평군 & 가평 &   26 & 경기 가평군 가평\\\\\n",
       "\t 경기 & 가평군 & 가평 &   15 & 경기 가평군 가평\\\\\n",
       "\t 경기 & 가평군 & 가평 &   12 & 경기 가평군 가평\\\\\n",
       "\t ⋮ & ⋮ & ⋮ & ⋮ & ⋮\\\\\n",
       "\t 충북 & 청주시 & 가덕면 & 23 & 충북 청주시 가덕면\\\\\n",
       "\t 충북 & 청주시 & 가덕면 & 24 & 충북 청주시 가덕면\\\\\n",
       "\t 충북 & 청주시 & 가덕면 & 27 & 충북 청주시 가덕면\\\\\n",
       "\t 충북 & 청주시 & 가덕면 & 26 & 충북 청주시 가덕면\\\\\n",
       "\t 충북 & 청주시 & 가덕면 & 29 & 충북 청주시 가덕면\\\\\n",
       "\t 충북 & 청주시 & 가덕면 & 28 & 충북 청주시 가덕면\\\\\n",
       "\t 충북 & 청주시 & 가덕면 & 25 & 충북 청주시 가덕면\\\\\n",
       "\t 충북 & 청주시 & 가덕면 & 20 & 충북 청주시 가덕면\\\\\n",
       "\t 충북 & 청주시 & 가덕면 & 25 & 충북 청주시 가덕면\\\\\n",
       "\t 충북 & 청주시 & 가덕면 & 27 & 충북 청주시 가덕면\\\\\n",
       "\t 충북 & 청주시 & 가덕면 & 27 & 충북 청주시 가덕면\\\\\n",
       "\t 충북 & 청주시 & 가덕면 & 21 & 충북 청주시 가덕면\\\\\n",
       "\t 충북 & 청주시 & 가덕면 & 27 & 충북 청주시 가덕면\\\\\n",
       "\t 충북 & 청주시 & 가덕면 & 35 & 충북 청주시 가덕면\\\\\n",
       "\t 충북 & 청주시 & 가덕면 & 36 & 충북 청주시 가덕면\\\\\n",
       "\t 충북 & 청주시 & 가덕면 & 27 & 충북 청주시 가덕면\\\\\n",
       "\t 충북 & 청주시 & 가덕면 & 36 & 충북 청주시 가덕면\\\\\n",
       "\t 충북 & 청주시 & 가덕면 & 24 & 충북 청주시 가덕면\\\\\n",
       "\t 충북 & 청주시 & 가덕면 & 26 & 충북 청주시 가덕면\\\\\n",
       "\t 충북 & 청주시 & 가덕면 & 23 & 충북 청주시 가덕면\\\\\n",
       "\t 충북 & 청주시 & 가덕면 & 21 & 충북 청주시 가덕면\\\\\n",
       "\t 충북 & 청주시 & 가덕면 & 19 & 충북 청주시 가덕면\\\\\n",
       "\t 충북 & 청주시 & 가덕면 & 14 & 충북 청주시 가덕면\\\\\n",
       "\t 충북 & 청주시 & 가덕면 & 19 & 충북 청주시 가덕면\\\\\n",
       "\t 충북 & 청주시 & 가덕면 & 19 & 충북 청주시 가덕면\\\\\n",
       "\t 충북 & 청주시 & 가덕면 & 20 & 충북 청주시 가덕면\\\\\n",
       "\t 충북 & 청주시 & 가덕면 & 20 & 충북 청주시 가덕면\\\\\n",
       "\t 충북 & 청주시 & 가덕면 & 17 & 충북 청주시 가덕면\\\\\n",
       "\t 충북 & 청주시 & 가덕면 & 22 & 충북 청주시 가덕면\\\\\n",
       "\t 충북 & 청주시 & 가덕면 & 33 & 충북 청주시 가덕면\\\\\n",
       "\\end{tabular}\n"
      ],
      "text/markdown": [
       "\n",
       "A tibble: 52560 × 5\n",
       "\n",
       "| prov &lt;chr&gt; | city &lt;chr&gt; | point &lt;chr&gt; | PM10 &lt;dbl&gt; | point2 &lt;chr&gt; |\n",
       "|---|---|---|---|---|\n",
       "| 경기 | 가평군 | 가평 |   21 | 경기 가평군 가평 |\n",
       "| 경기 | 가평군 | 가평 |   19 | 경기 가평군 가평 |\n",
       "| 경기 | 가평군 | 가평 |   27 | 경기 가평군 가평 |\n",
       "| 경기 | 가평군 | 가평 |   19 | 경기 가평군 가평 |\n",
       "| 경기 | 가평군 | 가평 |   20 | 경기 가평군 가평 |\n",
       "| 경기 | 가평군 | 가평 |   17 | 경기 가평군 가평 |\n",
       "| 경기 | 가평군 | 가평 |   31 | 경기 가평군 가평 |\n",
       "| 경기 | 가평군 | 가평 |   26 | 경기 가평군 가평 |\n",
       "| 경기 | 가평군 | 가평 |   18 | 경기 가평군 가평 |\n",
       "| 경기 | 가평군 | 가평 |   11 | 경기 가평군 가평 |\n",
       "| 경기 | 가평군 | 가평 |   27 | 경기 가평군 가평 |\n",
       "| 경기 | 가평군 | 가평 |   19 | 경기 가평군 가평 |\n",
       "| 경기 | 가평군 | 가평 |   18 | 경기 가평군 가평 |\n",
       "| 경기 | 가평군 | 가평 |   19 | 경기 가평군 가평 |\n",
       "| 경기 | 가평군 | 가평 |   17 | 경기 가평군 가평 |\n",
       "| 경기 | 가평군 | 가평 | -999 | 경기 가평군 가평 |\n",
       "| 경기 | 가평군 | 가평 |   18 | 경기 가평군 가평 |\n",
       "| 경기 | 가평군 | 가평 |   24 | 경기 가평군 가평 |\n",
       "| 경기 | 가평군 | 가평 |   24 | 경기 가평군 가평 |\n",
       "| 경기 | 가평군 | 가평 |   20 | 경기 가평군 가평 |\n",
       "| 경기 | 가평군 | 가평 |   28 | 경기 가평군 가평 |\n",
       "| 경기 | 가평군 | 가평 |   41 | 경기 가평군 가평 |\n",
       "| 경기 | 가평군 | 가평 | -999 | 경기 가평군 가평 |\n",
       "| 경기 | 가평군 | 가평 |   40 | 경기 가평군 가평 |\n",
       "| 경기 | 가평군 | 가평 |   25 | 경기 가평군 가평 |\n",
       "| 경기 | 가평군 | 가평 |   23 | 경기 가평군 가평 |\n",
       "| 경기 | 가평군 | 가평 |   15 | 경기 가평군 가평 |\n",
       "| 경기 | 가평군 | 가평 |   26 | 경기 가평군 가평 |\n",
       "| 경기 | 가평군 | 가평 |   15 | 경기 가평군 가평 |\n",
       "| 경기 | 가평군 | 가평 |   12 | 경기 가평군 가평 |\n",
       "| ⋮ | ⋮ | ⋮ | ⋮ | ⋮ |\n",
       "| 충북 | 청주시 | 가덕면 | 23 | 충북 청주시 가덕면 |\n",
       "| 충북 | 청주시 | 가덕면 | 24 | 충북 청주시 가덕면 |\n",
       "| 충북 | 청주시 | 가덕면 | 27 | 충북 청주시 가덕면 |\n",
       "| 충북 | 청주시 | 가덕면 | 26 | 충북 청주시 가덕면 |\n",
       "| 충북 | 청주시 | 가덕면 | 29 | 충북 청주시 가덕면 |\n",
       "| 충북 | 청주시 | 가덕면 | 28 | 충북 청주시 가덕면 |\n",
       "| 충북 | 청주시 | 가덕면 | 25 | 충북 청주시 가덕면 |\n",
       "| 충북 | 청주시 | 가덕면 | 20 | 충북 청주시 가덕면 |\n",
       "| 충북 | 청주시 | 가덕면 | 25 | 충북 청주시 가덕면 |\n",
       "| 충북 | 청주시 | 가덕면 | 27 | 충북 청주시 가덕면 |\n",
       "| 충북 | 청주시 | 가덕면 | 27 | 충북 청주시 가덕면 |\n",
       "| 충북 | 청주시 | 가덕면 | 21 | 충북 청주시 가덕면 |\n",
       "| 충북 | 청주시 | 가덕면 | 27 | 충북 청주시 가덕면 |\n",
       "| 충북 | 청주시 | 가덕면 | 35 | 충북 청주시 가덕면 |\n",
       "| 충북 | 청주시 | 가덕면 | 36 | 충북 청주시 가덕면 |\n",
       "| 충북 | 청주시 | 가덕면 | 27 | 충북 청주시 가덕면 |\n",
       "| 충북 | 청주시 | 가덕면 | 36 | 충북 청주시 가덕면 |\n",
       "| 충북 | 청주시 | 가덕면 | 24 | 충북 청주시 가덕면 |\n",
       "| 충북 | 청주시 | 가덕면 | 26 | 충북 청주시 가덕면 |\n",
       "| 충북 | 청주시 | 가덕면 | 23 | 충북 청주시 가덕면 |\n",
       "| 충북 | 청주시 | 가덕면 | 21 | 충북 청주시 가덕면 |\n",
       "| 충북 | 청주시 | 가덕면 | 19 | 충북 청주시 가덕면 |\n",
       "| 충북 | 청주시 | 가덕면 | 14 | 충북 청주시 가덕면 |\n",
       "| 충북 | 청주시 | 가덕면 | 19 | 충북 청주시 가덕면 |\n",
       "| 충북 | 청주시 | 가덕면 | 19 | 충북 청주시 가덕면 |\n",
       "| 충북 | 청주시 | 가덕면 | 20 | 충북 청주시 가덕면 |\n",
       "| 충북 | 청주시 | 가덕면 | 20 | 충북 청주시 가덕면 |\n",
       "| 충북 | 청주시 | 가덕면 | 17 | 충북 청주시 가덕면 |\n",
       "| 충북 | 청주시 | 가덕면 | 22 | 충북 청주시 가덕면 |\n",
       "| 충북 | 청주시 | 가덕면 | 33 | 충북 청주시 가덕면 |\n",
       "\n"
      ],
      "text/plain": [
       "      prov city   point  PM10 point2            \n",
       "1     경기 가평군 가평     21 경기 가평군 가평  \n",
       "2     경기 가평군 가평     19 경기 가평군 가평  \n",
       "3     경기 가평군 가평     27 경기 가평군 가평  \n",
       "4     경기 가평군 가평     19 경기 가평군 가평  \n",
       "5     경기 가평군 가평     20 경기 가평군 가평  \n",
       "6     경기 가평군 가평     17 경기 가평군 가평  \n",
       "7     경기 가평군 가평     31 경기 가평군 가평  \n",
       "8     경기 가평군 가평     26 경기 가평군 가평  \n",
       "9     경기 가평군 가평     18 경기 가평군 가평  \n",
       "10    경기 가평군 가평     11 경기 가평군 가평  \n",
       "11    경기 가평군 가평     27 경기 가평군 가평  \n",
       "12    경기 가평군 가평     19 경기 가평군 가평  \n",
       "13    경기 가평군 가평     18 경기 가평군 가평  \n",
       "14    경기 가평군 가평     19 경기 가평군 가평  \n",
       "15    경기 가평군 가평     17 경기 가평군 가평  \n",
       "16    경기 가평군 가평   -999 경기 가평군 가평  \n",
       "17    경기 가평군 가평     18 경기 가평군 가평  \n",
       "18    경기 가평군 가평     24 경기 가평군 가평  \n",
       "19    경기 가평군 가평     24 경기 가평군 가평  \n",
       "20    경기 가평군 가평     20 경기 가평군 가평  \n",
       "21    경기 가평군 가평     28 경기 가평군 가평  \n",
       "22    경기 가평군 가평     41 경기 가평군 가평  \n",
       "23    경기 가평군 가평   -999 경기 가평군 가평  \n",
       "24    경기 가평군 가평     40 경기 가평군 가평  \n",
       "25    경기 가평군 가평     25 경기 가평군 가평  \n",
       "26    경기 가평군 가평     23 경기 가평군 가평  \n",
       "27    경기 가평군 가평     15 경기 가평군 가평  \n",
       "28    경기 가평군 가평     26 경기 가평군 가평  \n",
       "29    경기 가평군 가평     15 경기 가평군 가평  \n",
       "30    경기 가평군 가평     12 경기 가평군 가평  \n",
       "⋮     ⋮    ⋮      ⋮      ⋮    ⋮                 \n",
       "52531 충북 청주시 가덕면 23   충북 청주시 가덕면\n",
       "52532 충북 청주시 가덕면 24   충북 청주시 가덕면\n",
       "52533 충북 청주시 가덕면 27   충북 청주시 가덕면\n",
       "52534 충북 청주시 가덕면 26   충북 청주시 가덕면\n",
       "52535 충북 청주시 가덕면 29   충북 청주시 가덕면\n",
       "52536 충북 청주시 가덕면 28   충북 청주시 가덕면\n",
       "52537 충북 청주시 가덕면 25   충북 청주시 가덕면\n",
       "52538 충북 청주시 가덕면 20   충북 청주시 가덕면\n",
       "52539 충북 청주시 가덕면 25   충북 청주시 가덕면\n",
       "52540 충북 청주시 가덕면 27   충북 청주시 가덕면\n",
       "52541 충북 청주시 가덕면 27   충북 청주시 가덕면\n",
       "52542 충북 청주시 가덕면 21   충북 청주시 가덕면\n",
       "52543 충북 청주시 가덕면 27   충북 청주시 가덕면\n",
       "52544 충북 청주시 가덕면 35   충북 청주시 가덕면\n",
       "52545 충북 청주시 가덕면 36   충북 청주시 가덕면\n",
       "52546 충북 청주시 가덕면 27   충북 청주시 가덕면\n",
       "52547 충북 청주시 가덕면 36   충북 청주시 가덕면\n",
       "52548 충북 청주시 가덕면 24   충북 청주시 가덕면\n",
       "52549 충북 청주시 가덕면 26   충북 청주시 가덕면\n",
       "52550 충북 청주시 가덕면 23   충북 청주시 가덕면\n",
       "52551 충북 청주시 가덕면 21   충북 청주시 가덕면\n",
       "52552 충북 청주시 가덕면 19   충북 청주시 가덕면\n",
       "52553 충북 청주시 가덕면 14   충북 청주시 가덕면\n",
       "52554 충북 청주시 가덕면 19   충북 청주시 가덕면\n",
       "52555 충북 청주시 가덕면 19   충북 청주시 가덕면\n",
       "52556 충북 청주시 가덕면 20   충북 청주시 가덕면\n",
       "52557 충북 청주시 가덕면 20   충북 청주시 가덕면\n",
       "52558 충북 청주시 가덕면 17   충북 청주시 가덕면\n",
       "52559 충북 청주시 가덕면 22   충북 청주시 가덕면\n",
       "52560 충북 청주시 가덕면 33   충북 청주시 가덕면"
      ]
     },
     "metadata": {},
     "output_type": "display_data"
    }
   ],
   "source": [
    "# 21번\n",
    "ga$point2 <- paste(ga$prov, ga$city, ga$point)\n",
    "ga_subset <- ga[, c(\"prov\", \"city\", \"point\", \"PM10\",\"point2\")]\n",
    "\n",
    "ga_subset"
   ]
  },
  {
   "cell_type": "code",
   "execution_count": 24,
   "metadata": {
    "vscode": {
     "languageId": "r"
    }
   },
   "outputs": [
    {
     "name": "stdout",
     "output_type": "stream",
     "text": [
      "  경기 가평군 가평 경기 여주시 가남읍 경남 함안군 가야읍 경북 영주시 가흥동 \n",
      "          32.46318           52.34012           31.07926           37.77157 \n",
      "전남 신안군 가거도 충북 청주시 가덕면 \n",
      "          40.83431           38.07216 \n"
     ]
    }
   ],
   "source": [
    "# 22번\n",
    "ga_filtered <- subset(ga, PM10 != -999)\n",
    "pm10_mean_by_point2 <- tapply(ga_filtered$PM10, ga_filtered$point2, mean)\n",
    "\n",
    "print(pm10_mean_by_point2)"
   ]
  }
 ],
 "metadata": {
  "kernelspec": {
   "display_name": "R",
   "language": "R",
   "name": "ir"
  },
  "language_info": {
   "codemirror_mode": "r",
   "file_extension": ".r",
   "mimetype": "text/x-r-source",
   "name": "R",
   "pygments_lexer": "r",
   "version": "4.3.1"
  }
 },
 "nbformat": 4,
 "nbformat_minor": 2
}
